{
 "cells": [
  {
   "cell_type": "code",
   "execution_count": 2,
   "id": "2fd04a9b-c763-4bd5-abf9-b2cb61d4183b",
   "metadata": {},
   "outputs": [],
   "source": [
    "from monai.utils import first, set_determinism, ensure_tuple\n",
    "from monai.transforms import (\n",
    "    AsDiscrete,\n",
    "    AsDiscreted,\n",
    "    EnsureChannelFirstd,\n",
    "    Compose,\n",
    "    CropForegroundd,\n",
    "    LoadImaged,\n",
    "    Orientationd,\n",
    "    RandCropByPosNegLabeld,\n",
    "    RandAffined,\n",
    "    RandRotate90d,\n",
    "    RandShiftIntensityd,\n",
    "    RandFlipd,\n",
    "    RandGaussianNoised,\n",
    "    RandAdjustContrastd,\n",
    "    ScaleIntensityRanged,\n",
    "    Spacingd,\n",
    "    EnsureTyped,\n",
    "    EnsureType,\n",
    "    Invertd,\n",
    "    AddChanneld,\n",
    "    RandGaussianSharpend,\n",
    "    RandGaussianSmoothd,\n",
    "    RandHistogramShiftd,\n",
    "    OneOf,\n",
    "    Rand3DElasticd,\n",
    "    Rand3DElastic,\n",
    "    RandGridDistortiond,\n",
    "    RandSpatialCropSamplesd,\n",
    "    FillHoles,\n",
    "    LabelFilter,\n",
    "    LabelToContour\n",
    ")\n",
    "from monai.handlers.utils import from_engine\n",
    "from monai.networks.nets import UNet, UNETR\n",
    "from monai.networks.layers import Norm\n",
    "from monai.metrics import DiceMetric, HausdorffDistanceMetric\n",
    "from monai.losses import DiceLoss, DiceCELoss, DiceFocalLoss\n",
    "from monai.inferers import sliding_window_inference\n",
    "from monai.data import CacheDataset, DataLoader, Dataset, decollate_batch, ImageReader\n",
    "from monai.data.image_reader import WSIReader\n",
    "from monai.config import print_config, KeysCollection, PathLike\n",
    "from monai.apps import download_and_extract\n",
    "import torch\n",
    "import matplotlib.pyplot as plt\n",
    "import tempfile\n",
    "import shutil\n",
    "import os\n",
    "import glob\n",
    "from numpy import random\n",
    "from pathlib import Path\n",
    "import re\n",
    "from skimage import io\n",
    "from typing import Optional, Union, Sequence, Callable, Dict, List\n",
    "from monai.data.utils import is_supported_format\n",
    "from monai. data.image_reader import _copy_compatible_dict, _stack_images\n",
    "from nibabel.nifti1 import Nifti1Image\n",
    "from PIL import Image\n",
    "import numpy as np\n",
    "from tqdm import tqdm\n",
    "import pickle\n",
    "import pandas as pd\n",
    "from mlflow import log_metric, log_param, log_artifacts, set_experiment, start_run, end_run\n",
    "import warnings\n",
    "import argparse\n",
    "warnings.filterwarnings('ignore')"
   ]
  },
  {
   "cell_type": "code",
   "execution_count": 16,
   "id": "b794e4ef-03d4-46e4-8d13-198dc80c9742",
   "metadata": {},
   "outputs": [
    {
     "name": "stdout",
     "output_type": "stream",
     "text": [
      "[PosixPath('../../../rozakmat/TBI/PV-cap sep model/XYZres042_0001_Simple Segmentation_sub1.tiff'), PosixPath('../../../rozakmat/TBI/PV-cap sep model/XYZres018_0001_Simple Segmentation_sub1.tiff'), PosixPath('../../../rozakmat/TBI/PV-cap sep model/XYZres037_Simple Segmentation_sub1.tiff'), PosixPath('../../../rozakmat/TBI/PV-cap sep model/XYZres050_Simple Segmentation_sub1.tiff'), PosixPath('../../../rozakmat/TBI/PV-cap sep model/XYZres032_Simple Segmentation_sub1.tiff')]\n",
      "[{'image': '../../../rozakmat/TBI/PV-cap sep model/XYZres018_0001_withOutput.tif', 'label': '../../../rozakmat/TBI/PV-cap sep model/XYZres018_0001_Simple Segmentation_sub1.tiff'}, {'image': '../../../rozakmat/TBI/PV-cap sep model/XYZres032_withOutput.tif', 'label': '../../../rozakmat/TBI/PV-cap sep model/XYZres032_Simple Segmentation_sub1.tiff'}, {'image': '../../../rozakmat/TBI/PV-cap sep model/XYZres037_withOutput.tif', 'label': '../../../rozakmat/TBI/PV-cap sep model/XYZres037_Simple Segmentation_sub1.tiff'}, {'image': '../../../rozakmat/TBI/PV-cap sep model/XYZres042_0001_withOutput.tif', 'label': '../../../rozakmat/TBI/PV-cap sep model/XYZres042_0001_Simple Segmentation_sub1.tiff'}, {'image': '../../../rozakmat/TBI/PV-cap sep model/XYZres050_withOutput.tif', 'label': '../../../rozakmat/TBI/PV-cap sep model/XYZres050_Simple Segmentation_sub1.tiff'}]\n"
     ]
    }
   ],
   "source": [
    "#make list of data dictionaries\n",
    "train_labels_path = Path('../../../rozakmat/TBI/PV-cap sep model/')#labels path\n",
    "train_labels = list(train_labels_path.glob('*_sub1.tiff'))#get label images\n",
    "print(train_labels)\n",
    "train_labels = sorted([x.as_posix() for x in train_labels])#sort\n",
    "train_images = [re.sub(\"_Simple Segmentation_sub1.tiff\",\"_withOutput.tif\",i) for i in train_labels]\n",
    "train_images_paths = [Path(i) for i in train_images]\n",
    "#combine images and labels into monai dictionary format\n",
    "data_dicts = [\n",
    "    {\"image\":image_name, \"label\":label_name}\n",
    "    for image_name, label_name in zip(train_images,train_labels)\n",
    "]\n",
    "\n",
    "print(data_dicts)\n",
    "\n",
    "mouse_ids_path = Path('/home/rozakmat/projects/rrg-bojana/rozakmat/TBI/raw')#each mouse has its own folder with raw data in it\n",
    "mouse_ids = list(mouse_ids_path.glob('*'))#grab molder names/mouse ids\n",
    "images = sorted([y.name for y in train_images_paths])#sort\n",
    "#get mouse id corresponding to each image i have labels for\n",
    "mouse_ids_with_raw_tiff = []\n",
    "for i in mouse_ids:\n",
    "    for j in images:\n",
    "        j = re.sub('_withOutput','',j)\n",
    "        if len(list(i.glob(j))) !=0:\n",
    "            mouse_ids_with_raw_tiff.append(list(i.glob(j)))\n",
    "#flatten the list and sort\n",
    "mouse_ids_with_raw_tiff_flat = [item for sublist in mouse_ids_with_raw_tiff for item in sublist]\n",
    "mouse_ids_with_raw_tiff_flat = sorted(mouse_ids_with_raw_tiff_flat)\n",
    "\n",
    "#shuffle mouse ids for a 15/4/6 split train/val/test by mouse id\n",
    "mouse_ids_present = [i.parent.name for i in mouse_ids_with_raw_tiff_flat]\n",
    "mouse_ids_present = sorted(list(np.unique(mouse_ids_present)))\n",
    "np.random.seed(643)\n",
    "np.random.shuffle(mouse_ids_present)\n",
    "mouse_ids_present\n",
    "train = mouse_ids_present[:3]\n",
    "val = mouse_ids_present[-2:]\n",
    "test = mouse_ids_present[-2:]\n",
    "\n",
    "train_files = []\n",
    "val_files = []\n",
    "test_files = []\n",
    "for i in train:\n",
    "    for j in mouse_ids_with_raw_tiff_flat:\n",
    "        if i in j.as_posix():\n",
    "            for k in data_dicts:\n",
    "                if re.sub(\".tif\",\"_withOutput.tif\",j.name) in k[\"image\"]:\n",
    "                    train_files.append(k)\n",
    "for i in val:\n",
    "    for j in mouse_ids_with_raw_tiff_flat:\n",
    "        if i in j.as_posix():\n",
    "            for k in data_dicts:\n",
    "                if re.sub(\".tif\",\"_withOutput.tif\",j.name) in k[\"image\"]:\n",
    "                    val_files.append(k)\n",
    "for i in test:\n",
    "    for j in mouse_ids_with_raw_tiff_flat:\n",
    "        if i in j.as_posix():\n",
    "            for k in data_dicts:\n",
    "                if re.sub(\".tif\",\"_withOutput.tif\",j.name) in k[\"image\"]:\n",
    "                    test_files.append(k)"
   ]
  },
  {
   "cell_type": "code",
   "execution_count": 19,
   "id": "5389cf78-6522-4951-9063-03a4b473a64c",
   "metadata": {},
   "outputs": [],
   "source": [
    "val_files_labels = [x['label'] for x in val_files]"
   ]
  },
  {
   "cell_type": "code",
   "execution_count": 20,
   "id": "66f533b9-65c1-46af-aef7-726ab6957757",
   "metadata": {},
   "outputs": [
    {
     "data": {
      "text/plain": [
       "['../../../rozakmat/TBI/PV-cap sep model/XYZres037_Simple Segmentation_sub1.tiff',\n",
       " '../../../rozakmat/TBI/PV-cap sep model/XYZres050_Simple Segmentation_sub1.tiff']"
      ]
     },
     "execution_count": 20,
     "metadata": {},
     "output_type": "execute_result"
    }
   ],
   "source": [
    "val_files_labels"
   ]
  },
  {
   "cell_type": "code",
   "execution_count": 22,
   "id": "73d3d4f1-bd85-4dda-884b-98f356db6eee",
   "metadata": {},
   "outputs": [],
   "source": [
    "for file in val_files_labels:\n",
    "    img_gt = io.imread(file)"
   ]
  },
  {
   "cell_type": "code",
   "execution_count": 23,
   "id": "dfe03509-a806-4d93-b5f0-c5bbd09b3764",
   "metadata": {},
   "outputs": [
    {
     "data": {
      "text/plain": [
       "'../../../rozakmat/TBI/PV-cap sep model/XYZres050_Simple Segmentation_sub1.tiff'"
      ]
     },
     "execution_count": 23,
     "metadata": {},
     "output_type": "execute_result"
    }
   ],
   "source": [
    "file"
   ]
  },
  {
   "cell_type": "code",
   "execution_count": 24,
   "id": "15c698f1-425e-4856-9362-8d4bd80f0298",
   "metadata": {},
   "outputs": [
    {
     "data": {
      "text/plain": [
       "array([[[[0, 0, 0, ..., 0, 0, 0],\n",
       "         [0, 0, 0, ..., 0, 0, 0],\n",
       "         [0, 0, 0, ..., 0, 0, 0],\n",
       "         ...,\n",
       "         [0, 0, 0, ..., 0, 0, 0],\n",
       "         [0, 0, 0, ..., 0, 0, 0],\n",
       "         [0, 0, 0, ..., 0, 0, 0]]],\n",
       "\n",
       "\n",
       "       [[[0, 0, 0, ..., 0, 0, 0],\n",
       "         [0, 0, 0, ..., 0, 0, 0],\n",
       "         [0, 0, 0, ..., 0, 0, 0],\n",
       "         ...,\n",
       "         [0, 0, 0, ..., 0, 0, 0],\n",
       "         [0, 0, 0, ..., 0, 0, 0],\n",
       "         [0, 0, 0, ..., 0, 0, 0]]],\n",
       "\n",
       "\n",
       "       [[[0, 0, 0, ..., 0, 0, 0],\n",
       "         [0, 0, 0, ..., 0, 0, 0],\n",
       "         [0, 0, 0, ..., 0, 0, 0],\n",
       "         ...,\n",
       "         [0, 0, 0, ..., 0, 0, 0],\n",
       "         [0, 0, 0, ..., 0, 0, 0],\n",
       "         [0, 0, 0, ..., 0, 0, 0]]],\n",
       "\n",
       "\n",
       "       ...,\n",
       "\n",
       "\n",
       "       [[[0, 0, 0, ..., 0, 0, 0],\n",
       "         [0, 0, 0, ..., 0, 0, 0],\n",
       "         [0, 0, 0, ..., 0, 0, 0],\n",
       "         ...,\n",
       "         [0, 0, 0, ..., 0, 0, 0],\n",
       "         [0, 0, 0, ..., 0, 0, 0],\n",
       "         [0, 0, 0, ..., 0, 0, 0]]],\n",
       "\n",
       "\n",
       "       [[[0, 0, 0, ..., 0, 0, 0],\n",
       "         [0, 0, 0, ..., 0, 0, 0],\n",
       "         [0, 0, 0, ..., 0, 0, 0],\n",
       "         ...,\n",
       "         [0, 0, 0, ..., 0, 0, 0],\n",
       "         [0, 0, 0, ..., 0, 0, 0],\n",
       "         [0, 0, 0, ..., 0, 0, 0]]],\n",
       "\n",
       "\n",
       "       [[[0, 0, 0, ..., 0, 0, 0],\n",
       "         [0, 0, 0, ..., 0, 0, 0],\n",
       "         [0, 0, 0, ..., 0, 0, 0],\n",
       "         ...,\n",
       "         [0, 0, 0, ..., 0, 0, 0],\n",
       "         [0, 0, 0, ..., 0, 0, 0],\n",
       "         [0, 0, 0, ..., 0, 0, 0]]]], dtype=uint8)"
      ]
     },
     "execution_count": 24,
     "metadata": {},
     "output_type": "execute_result"
    }
   ],
   "source": [
    "img_gt"
   ]
  },
  {
   "cell_type": "code",
   "execution_count": null,
   "id": "ee7a747a-d9f3-41d8-b7f4-5f57e9597ed7",
   "metadata": {},
   "outputs": [],
   "source": []
  }
 ],
 "metadata": {
  "kernelspec": {
   "display_name": "monai3.8",
   "language": "python",
   "name": "monai3.8"
  },
  "language_info": {
   "codemirror_mode": {
    "name": "ipython",
    "version": 3
   },
   "file_extension": ".py",
   "mimetype": "text/x-python",
   "name": "python",
   "nbconvert_exporter": "python",
   "pygments_lexer": "ipython3",
   "version": "3.8.10"
  }
 },
 "nbformat": 4,
 "nbformat_minor": 5
}
