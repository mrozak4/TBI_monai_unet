{
 "cells": [
  {
   "cell_type": "code",
   "execution_count": 1,
   "id": "27e7711f",
   "metadata": {},
   "outputs": [],
   "source": [
    "#from nipype.interfaces import niftyreg\n",
    "import numpy as np\n",
    "from skimage import io\n",
    "from pathlib import Path\n",
    "import re\n",
    "import ants\n",
    "from skimage.transform import resize\n",
    "from tqdm import tqdm\n",
    "from skimage.morphology import skeletonize_3d, binary_dilation, binary_closing\n",
    "from scipy.ndimage import distance_transform_edt\n",
    "import tifffile as tif\n",
    "from scipy.ndimage import binary_fill_holes \n",
    "import cc3d\n",
    "from scipy.io import loadmat, savemat\n",
    "import skan\n",
    "import sknw\n",
    "import networkx as nx\n",
    "import pickle\n",
    "import os"
   ]
  },
  {
   "cell_type": "markdown",
   "id": "ec2bead9",
   "metadata": {},
   "source": [
    "# Define connected componnet removal"
   ]
  },
  {
   "cell_type": "code",
   "execution_count": 2,
   "id": "abc55973",
   "metadata": {},
   "outputs": [],
   "source": [
    "def remove_small_comps_3d(image, thresh = 500):\n",
    "    \"\"\"\n",
    "    \n",
    "\n",
    "    Parameters\n",
    "    ----------\n",
    "    image : binary np array with uint8 elements\n",
    "        3d numpy matrix, connected components will be removed form this image\n",
    "    thresh : int64\n",
    "        smallest connected components to keep\n",
    "\n",
    "    Returns\n",
    "    -------\n",
    "    np.array with uint8 elements, binary\n",
    "        binary image with connected components below the threshold removed.\n",
    "\n",
    "    \"\"\"\n",
    "    img_lab, N = cc3d.connected_components(image,return_N=True)\n",
    "    unique, counts = np.unique(img_lab, return_counts=True)\n",
    "    unique_keep = unique[counts>thresh]\n",
    "    unique_keep = np.delete(unique_keep,[0])\n",
    "    img_filt = np.zeros(img_lab.shape).astype('int8')\n",
    "    img_filt[np.isin(img_lab,unique_keep)] = 1\n",
    "    return img_filt.astype('uint8')   \n",
    "\n",
    "def fill_holes(img,thresh=100):\n",
    "    #res = np.zeros(img.shape)\n",
    "    for i in np.unique(img)[::-1]:\n",
    "        _tmp = (img==i)*1.0\n",
    "        _tmp = _tmp.astype('int8')\n",
    "        _tmp = remove_small_comps_3d(_tmp,thresh=thresh)\n",
    "        img[_tmp==1] = i\n",
    "    res = img.astype('int8')\n",
    "    return res"
   ]
  },
  {
   "cell_type": "markdown",
   "id": "898ac8e0",
   "metadata": {},
   "source": [
    "# Get mean predictions"
   ]
  },
  {
   "cell_type": "code",
   "execution_count": 3,
   "id": "20eff948",
   "metadata": {},
   "outputs": [],
   "source": [
    "directory = Path('matt_preds')\n",
    "files  = directory.glob('*_mean.npy')\n",
    "files = sorted([x.as_posix() for x in files])"
   ]
  },
  {
   "cell_type": "code",
   "execution_count": 4,
   "id": "84ba06c5",
   "metadata": {},
   "outputs": [
    {
     "data": {
      "text/plain": [
       "390"
      ]
     },
     "execution_count": 4,
     "metadata": {},
     "output_type": "execute_result"
    }
   ],
   "source": [
    "len(files)"
   ]
  },
  {
   "cell_type": "markdown",
   "id": "eefdb813",
   "metadata": {},
   "source": [
    "# High bias low varience segmentation\n",
    "\n",
    "With removal of connected components under 500 pixels"
   ]
  },
  {
   "cell_type": "code",
   "execution_count": 5,
   "id": "b43ec04c",
   "metadata": {},
   "outputs": [
    {
     "name": "stderr",
     "output_type": "stream",
     "text": [
      "100%|██████████| 390/390 [00:00<00:00, 658.10it/s]\n"
     ]
    }
   ],
   "source": [
    "min_prob = 0.75\n",
    "max_var = 0.1\n",
    "for file in tqdm(files[::-1]):\n",
    "    if not os.path.exists(re.sub('mean','seg',file)):\n",
    "        mean = np.load(file)\n",
    "        std = np.load(re.sub('mean','std',file))\n",
    "        seg = np.zeros(mean.shape[1:])\n",
    "        seg[(mean[1,:,:,:] > min_prob) * (std[1,:,:,:] < max_var)] = 1\n",
    "        seg[(mean[2,:,:,:] > min_prob) * (std[2,:,:,:] < max_var)] = 2\n",
    "        seg = seg.astype('int8')\n",
    "        seg = (seg==1)*1\n",
    "        seg = fill_holes(seg)\n",
    "        np.save(re.sub('mean','seg',file),seg)\n",
    "        #savemat(re.sub('mean.npy','seg.mat',file),{'FinalImage':fill_holes(binary_dilation(binary_dilation(seg)))})\n",
    "        #tif.imwrite(re.sub('mean.npy','seg.tif',file),seg)"
   ]
  },
  {
   "cell_type": "markdown",
   "id": "fe138f44",
   "metadata": {},
   "source": [
    "# ANTs registration"
   ]
  },
  {
   "cell_type": "markdown",
   "id": "80295873-e7ea-40e5-a359-9479e160619c",
   "metadata": {},
   "source": [
    "## Upsample raw images"
   ]
  },
  {
   "cell_type": "code",
   "execution_count": 6,
   "id": "f0a9d1c4-928f-447f-a103-a5fe4c2a692e",
   "metadata": {},
   "outputs": [
    {
     "data": {
      "text/plain": [
       "432"
      ]
     },
     "execution_count": 6,
     "metadata": {},
     "output_type": "execute_result"
    }
   ],
   "source": [
    "image_path = Path('../TBI')\n",
    "images = list(image_path.glob('*_*/XYZres*?[0-9].tif'))\n",
    "images = sorted([x.as_posix() for x in images])\n",
    "len(images)"
   ]
  },
  {
   "cell_type": "code",
   "execution_count": 7,
   "id": "0d9ef289-2c41-4271-bde9-2d4c2bc789b3",
   "metadata": {},
   "outputs": [
    {
     "name": "stderr",
     "output_type": "stream",
     "text": [
      "100%|██████████| 432/432 [00:00<00:00, 469.37it/s]\n"
     ]
    }
   ],
   "source": [
    "for i in tqdm(range(len(images))[:]):\n",
    "    if not os.path.exists('matt_preds/'+re.sub('.tif','_upsamp.tif',Path(images[i]).name)):\n",
    "        image = io.imread(images[i])\n",
    "        image = np.swapaxes(image,0,1)\n",
    "        image = np.swapaxes(image,1,3)\n",
    "        image = resize(image,(2,507,507,252),preserve_range=True)\n",
    "        zeros = np.zeros((1,507,507,252)).astype('uint16')\n",
    "        image = np.append(image,zeros,axis = 0)\n",
    "        image = image.astype('float16')\n",
    "        io.imsave('matt_preds/'+re.sub('.tif','_upsamp.tif',Path(images[i]).name),image)"
   ]
  },
  {
   "cell_type": "markdown",
   "id": "4ea9388c-cfa2-4aca-a824-d7bac33b4041",
   "metadata": {},
   "source": [
    "## reshape numpy seg files and resave as tif"
   ]
  },
  {
   "cell_type": "code",
   "execution_count": 8,
   "id": "dde64af4-84d3-4b30-bf24-44a0f0031575",
   "metadata": {},
   "outputs": [],
   "source": [
    "directory_seg = Path('matt_preds')\n",
    "files_seg  = list(directory_seg.glob('*_seg.npy'))\n",
    "files_seg = sorted([x.as_posix() for x in files_seg])"
   ]
  },
  {
   "cell_type": "code",
   "execution_count": 9,
   "id": "7e453e68-598f-499d-9c3e-ef36763a9abe",
   "metadata": {},
   "outputs": [
    {
     "name": "stderr",
     "output_type": "stream",
     "text": [
      "100%|██████████| 390/390 [00:00<00:00, 64025.15it/s]\n"
     ]
    }
   ],
   "source": [
    "for i in tqdm(range(len(files_seg))):\n",
    "    if not os.path.exists(re.sub('.npy','.tif',files_seg[0])):\n",
    "        tmp = np.load(files_seg[i])\n",
    "        tmp = np.reshape(tmp,(1,507,507,252))\n",
    "        io.imsave(re.sub('.npy','.tif',files_seg[0]),tmp)"
   ]
  },
  {
   "cell_type": "markdown",
   "id": "42b19586-6df7-433b-bc64-63cc8b5cc370",
   "metadata": {},
   "source": [
    "## Register images and transform masks"
   ]
  },
  {
   "cell_type": "code",
   "execution_count": 10,
   "id": "9af61f7a-d08d-4c52-854d-6721e9b9a43a",
   "metadata": {},
   "outputs": [
    {
     "data": {
      "text/plain": [
       "'matt_preds/XYZres99_0001_upsamp.tif'"
      ]
     },
     "execution_count": 10,
     "metadata": {},
     "output_type": "execute_result"
    }
   ],
   "source": [
    "directory_seg = Path('matt_preds')\n",
    "images = list(directory_seg.glob('*_0001_upsamp.tif'))\n",
    "images = sorted([x.as_posix() for x in images])[::-1]\n",
    "images[0]"
   ]
  },
  {
   "cell_type": "code",
   "execution_count": 11,
   "id": "76886be1-afe3-4da5-be36-c28052430581",
   "metadata": {},
   "outputs": [
    {
     "name": "stderr",
     "output_type": "stream",
     "text": [
      "  0%|          | 0/200 [00:00<?, ?it/s]/tmp/ipykernel_2695885/3743514629.py:17: UserWarning:\n",
      "\n",
      "matt_preds/XYZres99_0001_seg_warped.tif is a low contrast image\n",
      "\n",
      "/tmp/ipykernel_2695885/3743514629.py:18: UserWarning:\n",
      "\n",
      "matt_preds/XYZres99_seg_warped.tif is a low contrast image\n",
      "\n",
      "  0%|          | 1/200 [02:56<9:45:43, 176.60s/it]/tmp/ipykernel_2695885/3743514629.py:17: UserWarning:\n",
      "\n",
      "matt_preds/XYZres98_0001_seg_warped.tif is a low contrast image\n",
      "\n",
      "/tmp/ipykernel_2695885/3743514629.py:18: UserWarning:\n",
      "\n",
      "matt_preds/XYZres98_seg_warped.tif is a low contrast image\n",
      "\n",
      "  2%|▎         | 5/200 [15:01<9:49:46, 181.47s/it]/tmp/ipykernel_2695885/3743514629.py:17: UserWarning:\n",
      "\n",
      "matt_preds/XYZres94_0001_seg_warped.tif is a low contrast image\n",
      "\n",
      "/tmp/ipykernel_2695885/3743514629.py:18: UserWarning:\n",
      "\n",
      "matt_preds/XYZres94_seg_warped.tif is a low contrast image\n",
      "\n",
      "  4%|▍         | 8/200 [24:00<9:34:36, 179.56s/it]/tmp/ipykernel_2695885/3743514629.py:17: UserWarning:\n",
      "\n",
      "matt_preds/XYZres91_0001_seg_warped.tif is a low contrast image\n",
      "\n",
      "/tmp/ipykernel_2695885/3743514629.py:18: UserWarning:\n",
      "\n",
      "matt_preds/XYZres91_seg_warped.tif is a low contrast image\n",
      "\n",
      "  5%|▌         | 10/200 [29:54<9:22:51, 177.75s/it]/tmp/ipykernel_2695885/3743514629.py:17: UserWarning:\n",
      "\n",
      "matt_preds/XYZres89_0001_seg_warped.tif is a low contrast image\n",
      "\n",
      "/tmp/ipykernel_2695885/3743514629.py:18: UserWarning:\n",
      "\n",
      "matt_preds/XYZres89_seg_warped.tif is a low contrast image\n",
      "\n",
      "  6%|▌         | 11/200 [32:51<9:19:47, 177.71s/it]/tmp/ipykernel_2695885/3743514629.py:17: UserWarning:\n",
      "\n",
      "matt_preds/XYZres88_0001_seg_warped.tif is a low contrast image\n",
      "\n",
      "/tmp/ipykernel_2695885/3743514629.py:18: UserWarning:\n",
      "\n",
      "matt_preds/XYZres88_seg_warped.tif is a low contrast image\n",
      "\n",
      "  7%|▋         | 14/200 [41:53<9:16:41, 179.58s/it]/tmp/ipykernel_2695885/3743514629.py:17: UserWarning:\n",
      "\n",
      "matt_preds/XYZres85_0001_seg_warped.tif is a low contrast image\n",
      "\n",
      "/tmp/ipykernel_2695885/3743514629.py:18: UserWarning:\n",
      "\n",
      "matt_preds/XYZres85_seg_warped.tif is a low contrast image\n",
      "\n",
      "  8%|▊         | 15/200 [44:50<9:11:02, 178.72s/it]/tmp/ipykernel_2695885/3743514629.py:17: UserWarning:\n",
      "\n",
      "matt_preds/XYZres84_0001_seg_warped.tif is a low contrast image\n",
      "\n",
      "/tmp/ipykernel_2695885/3743514629.py:18: UserWarning:\n",
      "\n",
      "matt_preds/XYZres84_seg_warped.tif is a low contrast image\n",
      "\n",
      " 10%|▉         | 19/200 [56:31<8:49:17, 175.46s/it]/tmp/ipykernel_2695885/3743514629.py:17: UserWarning:\n",
      "\n",
      "matt_preds/XYZres80_0001_seg_warped.tif is a low contrast image\n",
      "\n",
      "/tmp/ipykernel_2695885/3743514629.py:18: UserWarning:\n",
      "\n",
      "matt_preds/XYZres80_seg_warped.tif is a low contrast image\n",
      "\n",
      " 11%|█         | 22/200 [1:08:22<9:13:15, 186.49s/it]\n"
     ]
    },
    {
     "ename": "KeyboardInterrupt",
     "evalue": "",
     "output_type": "error",
     "traceback": [
      "\u001b[0;31m---------------------------------------------------------------------------\u001b[0m",
      "\u001b[0;31mKeyboardInterrupt\u001b[0m                         Traceback (most recent call last)",
      "\u001b[0;32m/tmp/ipykernel_2695885/3743514629.py\u001b[0m in \u001b[0;36m<module>\u001b[0;34m\u001b[0m\n\u001b[1;32m      6\u001b[0m             \u001b[0mfix_mask\u001b[0m \u001b[0;34m=\u001b[0m \u001b[0mants\u001b[0m\u001b[0;34m.\u001b[0m\u001b[0mimage_read\u001b[0m\u001b[0;34m(\u001b[0m\u001b[0mre\u001b[0m\u001b[0;34m.\u001b[0m\u001b[0msub\u001b[0m\u001b[0;34m(\u001b[0m\u001b[0;34m'upsamp'\u001b[0m\u001b[0;34m,\u001b[0m\u001b[0;34m'seg'\u001b[0m\u001b[0;34m,\u001b[0m\u001b[0mre\u001b[0m\u001b[0;34m.\u001b[0m\u001b[0msub\u001b[0m\u001b[0;34m(\u001b[0m\u001b[0;34m'_0001'\u001b[0m\u001b[0;34m,\u001b[0m\u001b[0;34m''\u001b[0m\u001b[0;34m,\u001b[0m\u001b[0mimages\u001b[0m\u001b[0;34m[\u001b[0m\u001b[0mi\u001b[0m\u001b[0;34m]\u001b[0m\u001b[0;34m)\u001b[0m\u001b[0;34m)\u001b[0m\u001b[0;34m)\u001b[0m\u001b[0;34m\u001b[0m\u001b[0;34m\u001b[0m\u001b[0m\n\u001b[1;32m      7\u001b[0m             \u001b[0mmov_mask\u001b[0m \u001b[0;34m=\u001b[0m \u001b[0mants\u001b[0m\u001b[0;34m.\u001b[0m\u001b[0mimage_read\u001b[0m\u001b[0;34m(\u001b[0m\u001b[0mre\u001b[0m\u001b[0;34m.\u001b[0m\u001b[0msub\u001b[0m\u001b[0;34m(\u001b[0m\u001b[0;34m'upsamp'\u001b[0m\u001b[0;34m,\u001b[0m\u001b[0;34m'seg'\u001b[0m\u001b[0;34m,\u001b[0m\u001b[0mimages\u001b[0m\u001b[0;34m[\u001b[0m\u001b[0mi\u001b[0m\u001b[0;34m]\u001b[0m\u001b[0;34m)\u001b[0m\u001b[0;34m)\u001b[0m\u001b[0;34m\u001b[0m\u001b[0;34m\u001b[0m\u001b[0m\n\u001b[0;32m----> 8\u001b[0;31m             mytx = ants.registration(fixed = fix,\n\u001b[0m\u001b[1;32m      9\u001b[0m                                     \u001b[0mmoving\u001b[0m \u001b[0;34m=\u001b[0m \u001b[0mmov\u001b[0m\u001b[0;34m,\u001b[0m\u001b[0;34m\u001b[0m\u001b[0;34m\u001b[0m\u001b[0m\n\u001b[1;32m     10\u001b[0m                                     \u001b[0mtype_of_transform\u001b[0m \u001b[0;34m=\u001b[0m \u001b[0;34m'Rigid'\u001b[0m\u001b[0;34m\u001b[0m\u001b[0;34m\u001b[0m\u001b[0m\n",
      "\u001b[0;32m/lustre06/project/6023374/rozakmat/monai3.8/lib/python3.8/site-packages/ants/registration/interface.py\u001b[0m in \u001b[0;36mregistration\u001b[0;34m(fixed, moving, type_of_transform, initial_transform, outprefix, mask, grad_step, flow_sigma, total_sigma, aff_metric, aff_sampling, aff_random_sampling_rate, syn_metric, syn_sampling, reg_iterations, aff_iterations, aff_shrink_factors, aff_smoothing_sigmas, write_composite_transform, random_seed, verbose, multivariate_extras, restrict_transformation, **kwargs)\u001b[0m\n\u001b[1;32m   1393\u001b[0m                 \u001b[0mprocessed_args\u001b[0m \u001b[0;34m=\u001b[0m \u001b[0mutils\u001b[0m\u001b[0;34m.\u001b[0m\u001b[0m_int_antsProcessArguments\u001b[0m\u001b[0;34m(\u001b[0m\u001b[0margs\u001b[0m\u001b[0;34m)\u001b[0m\u001b[0;34m\u001b[0m\u001b[0;34m\u001b[0m\u001b[0m\n\u001b[1;32m   1394\u001b[0m                 \u001b[0mlibfn\u001b[0m \u001b[0;34m=\u001b[0m \u001b[0mutils\u001b[0m\u001b[0;34m.\u001b[0m\u001b[0mget_lib_fn\u001b[0m\u001b[0;34m(\u001b[0m\u001b[0;34m\"antsRegistration\"\u001b[0m\u001b[0;34m)\u001b[0m\u001b[0;34m\u001b[0m\u001b[0;34m\u001b[0m\u001b[0m\n\u001b[0;32m-> 1395\u001b[0;31m                 \u001b[0mlibfn\u001b[0m\u001b[0;34m(\u001b[0m\u001b[0mprocessed_args\u001b[0m\u001b[0;34m)\u001b[0m\u001b[0;34m\u001b[0m\u001b[0;34m\u001b[0m\u001b[0m\n\u001b[0m\u001b[1;32m   1396\u001b[0m                 \u001b[0mafffns\u001b[0m \u001b[0;34m=\u001b[0m \u001b[0mglob\u001b[0m\u001b[0;34m.\u001b[0m\u001b[0mglob\u001b[0m\u001b[0;34m(\u001b[0m\u001b[0moutprefix\u001b[0m \u001b[0;34m+\u001b[0m \u001b[0;34m\"*\"\u001b[0m \u001b[0;34m+\u001b[0m \u001b[0;34m\"[0-9]GenericAffine.mat\"\u001b[0m\u001b[0;34m)\u001b[0m\u001b[0;34m\u001b[0m\u001b[0;34m\u001b[0m\u001b[0m\n\u001b[1;32m   1397\u001b[0m                 \u001b[0mfwarpfns\u001b[0m \u001b[0;34m=\u001b[0m \u001b[0mglob\u001b[0m\u001b[0;34m.\u001b[0m\u001b[0mglob\u001b[0m\u001b[0;34m(\u001b[0m\u001b[0moutprefix\u001b[0m \u001b[0;34m+\u001b[0m \u001b[0;34m\"*\"\u001b[0m \u001b[0;34m+\u001b[0m \u001b[0;34m\"[0-9]Warp.nii.gz\"\u001b[0m\u001b[0;34m)\u001b[0m\u001b[0;34m\u001b[0m\u001b[0;34m\u001b[0m\u001b[0m\n",
      "\u001b[0;31mKeyboardInterrupt\u001b[0m: "
     ]
    }
   ],
   "source": [
    "for i in tqdm(range(len(images))):\n",
    "    if os.path.exists(re.sub('upsamp','seg',images[i])):\n",
    "        if not os.path.exists(re.sub('seg','seg_warped',re.sub('upsamp','seg',re.sub('_0001','',images[i])))):\n",
    "            fix = ants.image_read(re.sub('_0001','',images[i]))\n",
    "            mov = ants.image_read(images[i])\n",
    "            fix_mask = ants.image_read(re.sub('upsamp','seg',re.sub('_0001','',images[i])))\n",
    "            mov_mask = ants.image_read(re.sub('upsamp','seg',images[i]))\n",
    "            mytx = ants.registration(fixed = fix,\n",
    "                                    moving = mov,\n",
    "                                    type_of_transform = 'Rigid'\n",
    "                                    )\n",
    "            warpedmask = ants.apply_transforms(fixed = fix_mask,\n",
    "                                               moving = mov_mask,\n",
    "                                               transformlist = mytx['fwdtransforms'],\n",
    "                                               interpolator = 'nearestNeighbor'\n",
    "                                              )\n",
    "            io.imsave(re.sub('seg','seg_warped',re.sub('upsamp','seg',images[i])),warpedmask.numpy())\n",
    "            io.imsave(re.sub('seg','seg_warped',re.sub('upsamp','seg',re.sub('_0001','',images[i]))),fix_mask.numpy())\n",
    "            #print(2 * np.sum(warpedmask.numpy()*fix_mask.numpy())/(np.sum(warpedmask.numpy())+np.sum(fix_mask.numpy())))"
   ]
  },
  {
   "cell_type": "markdown",
   "id": "c141f821-f62f-4f11-a76e-13d7346af1a8",
   "metadata": {},
   "source": [
    "## Save Matlab .mat file of registered images"
   ]
  },
  {
   "cell_type": "code",
   "execution_count": 12,
   "id": "ef54b7f2-bdb6-4fe1-9c87-9e9646cc59d7",
   "metadata": {},
   "outputs": [],
   "source": [
    "directory_seg = Path('matt_preds')\n",
    "images = list(directory_seg.glob('*_0001_seg_warped.tif'))\n",
    "images = sorted([x.as_posix() for x in images])[::-1]"
   ]
  },
  {
   "cell_type": "code",
   "execution_count": 13,
   "id": "7092eeb3-e579-4678-9416-4e2a0c781704",
   "metadata": {},
   "outputs": [
    {
     "name": "stderr",
     "output_type": "stream",
     "text": [
      " 64%|██████▍   | 125/195 [14:24<08:04,  6.92s/it]\n"
     ]
    },
    {
     "ename": "KeyboardInterrupt",
     "evalue": "",
     "output_type": "error",
     "traceback": [
      "\u001b[0;31m---------------------------------------------------------------------------\u001b[0m",
      "\u001b[0;31mKeyboardInterrupt\u001b[0m                         Traceback (most recent call last)",
      "\u001b[0;32m/tmp/ipykernel_2695885/1437137719.py\u001b[0m in \u001b[0;36m<module>\u001b[0;34m\u001b[0m\n\u001b[1;32m      6\u001b[0m         \u001b[0mseg\u001b[0m \u001b[0;34m=\u001b[0m \u001b[0;34m(\u001b[0m\u001b[0mseg\u001b[0m\u001b[0;34m==\u001b[0m\u001b[0;36m1\u001b[0m\u001b[0;34m)\u001b[0m\u001b[0;34m*\u001b[0m\u001b[0;36m1\u001b[0m\u001b[0;34m\u001b[0m\u001b[0;34m\u001b[0m\u001b[0m\n\u001b[1;32m      7\u001b[0m         \u001b[0mseg\u001b[0m \u001b[0;34m=\u001b[0m \u001b[0mseg\u001b[0m\u001b[0;34m.\u001b[0m\u001b[0mastype\u001b[0m\u001b[0;34m(\u001b[0m\u001b[0;34m'int8'\u001b[0m\u001b[0;34m)\u001b[0m\u001b[0;34m\u001b[0m\u001b[0;34m\u001b[0m\u001b[0m\n\u001b[0;32m----> 8\u001b[0;31m         \u001b[0mseg\u001b[0m \u001b[0;34m=\u001b[0m \u001b[0mfill_holes\u001b[0m\u001b[0;34m(\u001b[0m\u001b[0mseg\u001b[0m\u001b[0;34m)\u001b[0m\u001b[0;34m\u001b[0m\u001b[0;34m\u001b[0m\u001b[0m\n\u001b[0m\u001b[1;32m      9\u001b[0m         \u001b[0msavemat\u001b[0m\u001b[0;34m(\u001b[0m\u001b[0mre\u001b[0m\u001b[0;34m.\u001b[0m\u001b[0msub\u001b[0m\u001b[0;34m(\u001b[0m\u001b[0;34m'_seg_warped.tif'\u001b[0m\u001b[0;34m,\u001b[0m\u001b[0;34m'_seg_warped_single.mat'\u001b[0m\u001b[0;34m,\u001b[0m\u001b[0mre\u001b[0m\u001b[0;34m.\u001b[0m\u001b[0msub\u001b[0m\u001b[0;34m(\u001b[0m\u001b[0;34m'_0001'\u001b[0m\u001b[0;34m,\u001b[0m\u001b[0;34m''\u001b[0m\u001b[0;34m,\u001b[0m\u001b[0mimage\u001b[0m\u001b[0;34m)\u001b[0m\u001b[0;34m)\u001b[0m\u001b[0;34m,\u001b[0m\u001b[0;34m{\u001b[0m\u001b[0;34m'FinalImage'\u001b[0m\u001b[0;34m:\u001b[0m\u001b[0mseg\u001b[0m\u001b[0;34m}\u001b[0m\u001b[0;34m)\u001b[0m\u001b[0;34m\u001b[0m\u001b[0;34m\u001b[0m\u001b[0m\n",
      "\u001b[0;32m/tmp/ipykernel_2695885/2915982132.py\u001b[0m in \u001b[0;36mfill_holes\u001b[0;34m(img, thresh)\u001b[0m\n\u001b[1;32m     30\u001b[0m         \u001b[0m_tmp\u001b[0m \u001b[0;34m=\u001b[0m \u001b[0m_tmp\u001b[0m\u001b[0;34m.\u001b[0m\u001b[0mastype\u001b[0m\u001b[0;34m(\u001b[0m\u001b[0;34m'int8'\u001b[0m\u001b[0;34m)\u001b[0m\u001b[0;34m\u001b[0m\u001b[0;34m\u001b[0m\u001b[0m\n\u001b[1;32m     31\u001b[0m         \u001b[0m_tmp\u001b[0m \u001b[0;34m=\u001b[0m \u001b[0mremove_small_comps_3d\u001b[0m\u001b[0;34m(\u001b[0m\u001b[0m_tmp\u001b[0m\u001b[0;34m,\u001b[0m\u001b[0mthresh\u001b[0m\u001b[0;34m=\u001b[0m\u001b[0mthresh\u001b[0m\u001b[0;34m)\u001b[0m\u001b[0;34m\u001b[0m\u001b[0;34m\u001b[0m\u001b[0m\n\u001b[0;32m---> 32\u001b[0;31m         \u001b[0mimg\u001b[0m\u001b[0;34m[\u001b[0m\u001b[0m_tmp\u001b[0m\u001b[0;34m==\u001b[0m\u001b[0;36m1\u001b[0m\u001b[0;34m]\u001b[0m \u001b[0;34m=\u001b[0m \u001b[0mi\u001b[0m\u001b[0;34m\u001b[0m\u001b[0;34m\u001b[0m\u001b[0m\n\u001b[0m\u001b[1;32m     33\u001b[0m     \u001b[0mres\u001b[0m \u001b[0;34m=\u001b[0m \u001b[0mimg\u001b[0m\u001b[0;34m.\u001b[0m\u001b[0mastype\u001b[0m\u001b[0;34m(\u001b[0m\u001b[0;34m'int8'\u001b[0m\u001b[0;34m)\u001b[0m\u001b[0;34m\u001b[0m\u001b[0;34m\u001b[0m\u001b[0m\n\u001b[1;32m     34\u001b[0m     \u001b[0;32mreturn\u001b[0m \u001b[0mres\u001b[0m\u001b[0;34m\u001b[0m\u001b[0;34m\u001b[0m\u001b[0m\n",
      "\u001b[0;31mKeyboardInterrupt\u001b[0m: "
     ]
    }
   ],
   "source": [
    "for image in tqdm(images):\n",
    "    #if not os.path.exists(re.sub('_seg_warped.tif','_seg_warped_single.mat',re.sub('_0001','',image))):\n",
    "        img_0001 = io.imread(image)\n",
    "        img = io.imread(re.sub('_0001','',image))\n",
    "        seg = img*img_0001\n",
    "        seg = (seg==1)*1\n",
    "        seg = seg.astype('int8')\n",
    "        seg = fill_holes(seg)\n",
    "        savemat(re.sub('_seg_warped.tif','_seg_warped_single.mat',re.sub('_0001','',image)),{'FinalImage':seg})"
   ]
  },
  {
   "cell_type": "code",
   "execution_count": null,
   "id": "8f16ffbf-a8f6-42a8-be1c-14e86b73773a",
   "metadata": {},
   "outputs": [],
   "source": []
  }
 ],
 "metadata": {
  "kernelspec": {
   "display_name": "monai3.8",
   "language": "python",
   "name": "monai3.8"
  },
  "language_info": {
   "codemirror_mode": {
    "name": "ipython",
    "version": 3
   },
   "file_extension": ".py",
   "mimetype": "text/x-python",
   "name": "python",
   "nbconvert_exporter": "python",
   "pygments_lexer": "ipython3",
   "version": "3.8.10"
  }
 },
 "nbformat": 4,
 "nbformat_minor": 5
}
