{
 "cells": [
  {
   "cell_type": "code",
   "execution_count": 39,
   "id": "75445b90-520a-4e33-a5a6-a72cb535df5d",
   "metadata": {},
   "outputs": [],
   "source": [
    "import numpy as np\n",
    "import networkx as nx\n",
    "from pathlib import Path\n",
    "from tqdm import tqdm\n",
    "import pandas as pd\n",
    "import re\n",
    "import os"
   ]
  },
  {
   "cell_type": "code",
   "execution_count": 40,
   "id": "b8680845-785e-40c0-aa7c-5ea6db23cebe",
   "metadata": {},
   "outputs": [],
   "source": [
    "exclude = ['XYZres103',\n",
    "           'XYZres104',\n",
    "           'XYZres105',\n",
    "           'XYZres105',\n",
    "           'XYZres107',\n",
    "           'XYZres133',\n",
    "           'XYZres134',\n",
    "           'XYZres135',\n",
    "           'XYZres136',\n",
    "           'XYZres137',\n",
    "           'XYZres138',\n",
    "           'XYZres139',\n",
    "           'XYZres140',\n",
    "           'XYZres183',\n",
    "           'XYZres196',\n",
    "           'XYZres197',\n",
    "           'XYZres260',\n",
    "           'XYZres288',\n",
    "           'XYZres343',\n",
    "           'XYZres340',\n",
    "           'XYZres341',\n",
    "           'XYZres250',\n",
    "           'XYZres297',\n",
    "           'XYZres295',\n",
    "           'XYZres457',\n",
    "           'XYZres455']"
   ]
  },
  {
   "cell_type": "code",
   "execution_count": 41,
   "id": "6230d3cf-fdd7-4a98-8004-c7f83a1105c1",
   "metadata": {},
   "outputs": [],
   "source": [
    "xls = pd.ExcelFile('TBI_STIM_metalog_local.xlsx')\n",
    "xls2 = pd.ExcelFile('../TBI_monai_UNET/p3_metalog.xlsx')\n",
    "df = {}\n",
    "for sheet_name in xls.sheet_names:\n",
    "    df[sheet_name] = xls.parse(sheet_name)\n",
    "for sheet_name in xls2.sheet_names:\n",
    "    df[sheet_name] = xls2.parse(sheet_name)"
   ]
  },
  {
   "cell_type": "code",
   "execution_count": 42,
   "id": "e0707796-3615-4e73-b200-df518b769db6",
   "metadata": {},
   "outputs": [
    {
     "data": {
      "text/plain": [
       "119"
      ]
     },
     "execution_count": 42,
     "metadata": {},
     "output_type": "execute_result"
    }
   ],
   "source": [
    "dic = {}\n",
    "for key in df.keys():\n",
    "    if '3D' in key and ('vbm01' not in key and 'vbm02' not in key and 'SHAM7_3D' not in key and 'TBI45_3D' not in key and 'TBI11_3D' not in key and 'TBI65_3D' not in key and 'TBI22_3D' not in key and 'TBI28_3D' not in key and 'TBI40_3D' not in key and 'TBI51_3D' not in key and 'TBI70_3D' not in key):\n",
    "        if 'vbm' not in key:\n",
    "            addition = re.sub('C57','',re.sub('TBI','',re.sub('SHAM','',re.sub('_3D','',key))))\n",
    "        else:\n",
    "            addition = ''\n",
    "        df[key] = df[key][~df[key][df[key].columns[1]].isin(exclude)]\n",
    "        scans = np.array(df[key][df[key].columns[1]])\n",
    "        scans = [x for x in scans if 'res' in str(x)]\n",
    "        bottoms_1 = df[key][df[key][df[key].columns[3]] == 500]\n",
    "        bottoms_2 = df[key][df[key][df[key].columns[2]] == 500]\n",
    "        bottoms = pd.concat((bottoms_1,bottoms_2))\n",
    "        bottoms = np.array(bottoms[bottoms.columns[1]])\n",
    "        bottoms = [addition + '-' + x for x in bottoms]\n",
    "        bottoms = [x for x in bottoms if 'res' in x]\n",
    "        tops_1 = df[key][df[key][df[key].columns[3]] == 0]\n",
    "        tops_2 = df[key][df[key][df[key].columns[2]] == 0]\n",
    "        tops = pd.concat((tops_1,tops_2))\n",
    "        tops = np.array(tops[tops.columns[1]])\n",
    "        tops = [addition + '-' + x for x in tops]\n",
    "        tops = [x for x in tops if 'res' in x]\n",
    "        if len(tops) > 1:\n",
    "            dic[tops[0]] = list(tops[1:])\n",
    "        elif len(tops) == 1:\n",
    "            dic[tops[0]] = tops\n",
    "        if len(bottoms) > 1:\n",
    "            dic[bottoms[0]] = list(bottoms[1:])\n",
    "        elif len(bottoms) == 1:\n",
    "            dic[bottoms[0]] = bottoms\n",
    "dic_2 = {'45-XYZres290':['45-XYZres296'],\n",
    "         '45-XYZres297':['45-XYZres295'],\n",
    "         '45-XYZres294':['45-XYZres298'],\n",
    "         '45-XYZres288':['45-XYZres300'],\n",
    "         '11-XYZres95':['11-XYZres98','11-XYZres102'],\n",
    "         '11-XYZres92':[],\n",
    "         '11-XYZres93':['11-XYZres93','11-XYZres96','11-XYZres97','11-XYZres100','11-XYZres101'],\n",
    "         '11-XYZres91':['11-XYZres94','11-XYZres99'],\n",
    "         '22-XYZres164':['22-XYZres165','22-XYZres168','22-XYZres169'],\n",
    "         '22-XYZres160':['22-XYZres161'],\n",
    "         '22-XYZres163':['22-XYZres166','22-XYZres167','22-XYZres170'],\n",
    "         '22-XYZres159':['22-XYZres162'],\n",
    "         '28-XYZres184':['28-XYZres185'],\n",
    "         '28-XYZres188':['28-XYZres189','28-XYZres193','28-XYZres194'],\n",
    "         '28-XYZres186':['28-XYZres187','28-XYZres188','28-XYZres190','28-XYZres191','28-XYZres192','28-XYZres195'],\n",
    "         '28-XYZres183':[],\n",
    "         '40-XYZres248':['40-XYZres249'],\n",
    "         '40-XYZres245':['40-XYZres252'],\n",
    "         '40-XYZres244':[],\n",
    "         '40-XYZres243':['40-XYZres246','40-XYZres247','40-XYZres251'],\n",
    "         '51-XYZres297':['51-XYZres298','51-XYZres302','51-XYZres305','51-XYZres301'],\n",
    "         '51-XYZres296':['51-XYZres306'],\n",
    "         '51-XYZres299':['51-XYZres300','51-XYZres303','51-XYZres304'],\n",
    "         '65-XYZres397':['65-XYZres398','65-XYZres401','65-XYZres402','65-XYZres405','65-XYZres408','65-XYZres409'],\n",
    "         '65-XYZres396':['65-XYZres399','65-XYZres400'],\n",
    "         '65-XYZres403':[],\n",
    "         '70-XYZres420':['70-XYZres421','70-XYZres422'],\n",
    "         '70-XYZres419':['70-XYZres416','70-XYZres413','70-XYZres410','70-XYZres412','70-XYZres416'],\n",
    "         '70-XYZres414':['70-XYZres417'],\n",
    "         '70-XYZres411':['70-XYZres418','70-XYZres415'],\n",
    "         '-XYZres007':[]\n",
    "        }\n",
    "dic.update(dic_2) \n",
    "len(list(dic.keys()))"
   ]
  },
  {
   "cell_type": "code",
   "execution_count": 53,
   "id": "5e417059-3e25-4d92-9878-47e03f8bdd10",
   "metadata": {},
   "outputs": [
    {
     "name": "stdout",
     "output_type": "stream",
     "text": [
      "794\n",
      "98\n"
     ]
    }
   ],
   "source": [
    "directory = Path('matt_preds_graphs_fwhm_single')\n",
    "_files = directory.glob('*_warped_radii.pickle')\n",
    "_files = sorted([x.as_posix() for x in _files])\n",
    "_files2 = directory.glob('*_radii_forepaw.pickle')\n",
    "_files2 = sorted([x.as_posix() for x in _files2])\n",
    "_files += _files2\n",
    "_files = sorted(_files)\n",
    "print(len(_files))\n",
    "\n",
    "directory = Path('matt_preds_graphs_fwhm_single_excel')\n",
    "files = directory.glob('*_radii*amended_full.pickle')\n",
    "files = sorted([x.as_posix() for x in files])\n",
    "files = [x for x in files if any(y in x for y in list(dic.keys()))]\n",
    "files = [x for x in files if '_0001' in x ]\n",
    "print(len(files))"
   ]
  },
  {
   "cell_type": "code",
   "execution_count": 120,
   "id": "0e72bace-3e46-47dc-bd04-d719ded5d49e",
   "metadata": {},
   "outputs": [
    {
     "name": "stderr",
     "output_type": "stream",
     "text": [
      "100%|██████████| 98/98 [00:22<00:00,  4.31it/s]\n"
     ]
    }
   ],
   "source": [
    "df = pd.DataFrame(columns=['scan', 'base_scan', 'sex', 'assortativity', 'wavelength', 'power', 'subject'])\n",
    "for file in tqdm(files):\n",
    "    graph = nx.read_gpickle(file)\n",
    "    if graph.edges[list(graph.edges)[0]]['treatment'] == 'SHAM':\n",
    "        #print(file)\n",
    "        _tmp_files = [file]\n",
    "        key = [x for x in list(dic.keys()) if x in file][0]\n",
    "        _tmp_files = _tmp_files + [re.sub(key,x,file) for x in dic[key]]\n",
    "        _tmp_files = [x for x in _tmp_files if os.path.exists(x)]\n",
    "        for _file in _tmp_files:\n",
    "            _graph = nx.read_gpickle(_file)\n",
    "            #print(_file)\n",
    "            _line_graph = nx.line_graph(_graph)\n",
    "            _res = []\n",
    "            for edge in list(_graph.edges):\n",
    "                _line_graph.nodes[edge]['delta_radii'] = _graph.edges[edge]['delta_radii']\n",
    "                _res.append(_graph.edges[edge]['delta_radii'])\n",
    "                _line_graph.nodes[edge]['radii'] = _graph.edges[edge]['radii']\n",
    "            if ~np.isnan(np.sum(_res)):\n",
    "                assortativity = nx.numeric_assortativity_coefficient(_line_graph, 'delta_radii')\n",
    "                _tmp_row = {\n",
    "                    'scan':_graph.edges[edge]['scan'],\n",
    "                    'base_scan':key,\n",
    "                    'sex':_graph.edges[edge]['gender'],\n",
    "                    'assortativity':assortativity,\n",
    "                    'wavelength':_graph.edges[edge]['wavelength'],\n",
    "                    'power':_graph.edges[edge]['power'],\n",
    "                    'subject':_graph.edges[edge]['subject']\n",
    "                }\n",
    "                df = df.append(_tmp_row,ignore_index=True)\n",
    "                #print(assortativity)"
   ]
  },
  {
   "cell_type": "code",
   "execution_count": 127,
   "id": "703cec27-f729-4f08-8454-0ccd774c9b40",
   "metadata": {},
   "outputs": [],
   "source": [
    "df.to_excel('sham_assortativity.xlsx')"
   ]
  },
  {
   "cell_type": "code",
   "execution_count": 115,
   "id": "c9aa7757-31dc-45c5-83fc-74543dd56513",
   "metadata": {},
   "outputs": [
    {
     "data": {
      "text/plain": [
       "dict_keys(['pts', 'weight', 'radii', 'radii_std', 'mean_neuron_distance', 'neuron_distance_std', 'neuron_distance_min', 'gender', 'path_weights', 'path_weights_uncertanty', 'end-0z', 'end-0y', 'end-0x', 'end-1z', 'end-1y', 'end-1x', 'mean_depth', 'euclidean-dst', 'subject', 'treatment', 'wavelength', 'power', 'age', 'days_post_injury', 'start_depth', 'path_weights_nrn', 'start_weight', 'imaging_weight', 'vessel_id', 'scan', 'mean_vessel_radii_baseline', 'std_vessel_radii_baseline', 'num_vessel_radii_baseline', 'delta_radii', 'timepoint'])"
      ]
     },
     "execution_count": 115,
     "metadata": {},
     "output_type": "execute_result"
    }
   ],
   "source": [
    "_graph.edges[edge].keys()"
   ]
  },
  {
   "cell_type": "code",
   "execution_count": 61,
   "id": "06110553-c7e0-42e7-8ab8-04472cd7fdf1",
   "metadata": {},
   "outputs": [],
   "source": [
    "key = [x for x in list(dic.keys()) if x in file][0]"
   ]
  },
  {
   "cell_type": "code",
   "execution_count": 98,
   "id": "899bf087-1bab-4948-aec3-fb53a0cbd500",
   "metadata": {},
   "outputs": [
    {
     "data": {
      "text/plain": [
       "{}"
      ]
     },
     "execution_count": 98,
     "metadata": {},
     "output_type": "execute_result"
    }
   ],
   "source": [
    "_line_graph.nodes[edge]"
   ]
  },
  {
   "cell_type": "code",
   "execution_count": 87,
   "id": "ad6778b5-b7f6-44e8-83c1-2409752b81ad",
   "metadata": {},
   "outputs": [
    {
     "data": {
      "text/plain": [
       "{}"
      ]
     },
     "execution_count": 87,
     "metadata": {},
     "output_type": "execute_result"
    }
   ],
   "source": [
    "_line_graph.edges[list(_line_graph.edges)[0]]"
   ]
  },
  {
   "cell_type": "code",
   "execution_count": 97,
   "id": "837d1eaa-26d3-49b0-ac29-eb53dd52ad12",
   "metadata": {},
   "outputs": [
    {
     "data": {
      "text/plain": [
       "(0, 4)"
      ]
     },
     "execution_count": 97,
     "metadata": {},
     "output_type": "execute_result"
    }
   ],
   "source": [
    "edge"
   ]
  },
  {
   "cell_type": "code",
   "execution_count": null,
   "id": "ff6f2326-83bd-4e73-b3db-b51db13c5a80",
   "metadata": {},
   "outputs": [],
   "source": []
  }
 ],
 "metadata": {
  "kernelspec": {
   "display_name": "monai3.8",
   "language": "python",
   "name": "monai3.8"
  },
  "language_info": {
   "codemirror_mode": {
    "name": "ipython",
    "version": 3
   },
   "file_extension": ".py",
   "mimetype": "text/x-python",
   "name": "python",
   "nbconvert_exporter": "python",
   "pygments_lexer": "ipython3",
   "version": "3.8.10"
  }
 },
 "nbformat": 4,
 "nbformat_minor": 5
}
