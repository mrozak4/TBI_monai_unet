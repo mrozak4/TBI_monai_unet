{
 "cells": [
  {
   "cell_type": "code",
   "execution_count": 1,
   "id": "75445b90-520a-4e33-a5a6-a72cb535df5d",
   "metadata": {},
   "outputs": [],
   "source": [
    "import numpy as np\n",
    "import networkx as nx\n",
    "from pathlib import Path\n",
    "from tqdm import tqdm\n",
    "import pandas as pd\n",
    "import re\n",
    "import seaborn as sns\n",
    "import os\n",
    "import igraph as ig\n",
    "from bct import efficiency_wei\n",
    "import matplotlib.pyplot as plt\n",
    "from itertools import count\n",
    "import cc3d"
   ]
  },
  {
   "cell_type": "code",
   "execution_count": 2,
   "id": "b8680845-785e-40c0-aa7c-5ea6db23cebe",
   "metadata": {},
   "outputs": [],
   "source": [
    "exclude = ['XYZres103',\n",
    "           'XYZres104',\n",
    "           'XYZres105',\n",
    "           'XYZres105',\n",
    "           'XYZres107',\n",
    "           'XYZres133',\n",
    "           'XYZres134',\n",
    "           'XYZres135',\n",
    "           'XYZres136',\n",
    "           'XYZres137',\n",
    "           'XYZres138',\n",
    "           'XYZres139',\n",
    "           'XYZres140',\n",
    "           'XYZres183',\n",
    "           'XYZres196',\n",
    "           'XYZres197',\n",
    "           'XYZres260',\n",
    "           'XYZres288',\n",
    "           'XYZres343',\n",
    "           'XYZres340',\n",
    "           'XYZres341',\n",
    "           'XYZres250',\n",
    "           'XYZres297',\n",
    "           'XYZres295',\n",
    "           'XYZres457',\n",
    "           'XYZres455']"
   ]
  },
  {
   "cell_type": "code",
   "execution_count": 3,
   "id": "6230d3cf-fdd7-4a98-8004-c7f83a1105c1",
   "metadata": {},
   "outputs": [],
   "source": [
    "xls = pd.ExcelFile('TBI_STIM_metalog_local.xlsx')\n",
    "xls2 = pd.ExcelFile('../TBI_monai_UNET/p3_metalog.xlsx')\n",
    "df = {}\n",
    "for sheet_name in xls.sheet_names:\n",
    "    df[sheet_name] = xls.parse(sheet_name)\n",
    "for sheet_name in xls2.sheet_names:\n",
    "    df[sheet_name] = xls2.parse(sheet_name)"
   ]
  },
  {
   "cell_type": "code",
   "execution_count": 4,
   "id": "e0707796-3615-4e73-b200-df518b769db6",
   "metadata": {},
   "outputs": [
    {
     "data": {
      "text/plain": [
       "119"
      ]
     },
     "execution_count": 4,
     "metadata": {},
     "output_type": "execute_result"
    }
   ],
   "source": [
    "dic = {}\n",
    "for key in df.keys():\n",
    "    if '3D' in key and ('vbm01' not in key and 'vbm02' not in key and 'SHAM7_3D' not in key and 'TBI45_3D' not in key and 'TBI11_3D' not in key and 'TBI65_3D' not in key and 'TBI22_3D' not in key and 'TBI28_3D' not in key and 'TBI40_3D' not in key and 'TBI51_3D' not in key and 'TBI70_3D' not in key):\n",
    "        if 'vbm' not in key:\n",
    "            addition = re.sub('C57','',re.sub('TBI','',re.sub('SHAM','',re.sub('_3D','',key))))\n",
    "        else:\n",
    "            addition = ''\n",
    "        df[key] = df[key][~df[key][df[key].columns[1]].isin(exclude)]\n",
    "        scans = np.array(df[key][df[key].columns[1]])\n",
    "        scans = [x for x in scans if 'res' in str(x)]\n",
    "        bottoms_1 = df[key][df[key][df[key].columns[3]] == 500]\n",
    "        bottoms_2 = df[key][df[key][df[key].columns[2]] == 500]\n",
    "        bottoms = pd.concat((bottoms_1,bottoms_2))\n",
    "        bottoms = np.array(bottoms[bottoms.columns[1]])\n",
    "        bottoms = [addition + '-' + x for x in bottoms]\n",
    "        bottoms = [x for x in bottoms if 'res' in x]\n",
    "        tops_1 = df[key][df[key][df[key].columns[3]] == 0]\n",
    "        tops_2 = df[key][df[key][df[key].columns[2]] == 0]\n",
    "        tops = pd.concat((tops_1,tops_2))\n",
    "        tops = np.array(tops[tops.columns[1]])\n",
    "        tops = [addition + '-' + x for x in tops]\n",
    "        tops = [x for x in tops if 'res' in x]\n",
    "        if len(tops) > 1:\n",
    "            dic[tops[0]] = list(tops[1:])\n",
    "        elif len(tops) == 1:\n",
    "            dic[tops[0]] = tops\n",
    "        if len(bottoms) > 1:\n",
    "            dic[bottoms[0]] = list(bottoms[1:])\n",
    "        elif len(bottoms) == 1:\n",
    "            dic[bottoms[0]] = bottoms\n",
    "dic_2 = {'45-XYZres290':['45-XYZres296'],\n",
    "         '45-XYZres297':['45-XYZres295'],\n",
    "         '45-XYZres294':['45-XYZres298'],\n",
    "         '45-XYZres288':['45-XYZres300'],\n",
    "         '11-XYZres95':['11-XYZres98','11-XYZres102'],\n",
    "         '11-XYZres92':[],\n",
    "         '11-XYZres93':['11-XYZres93','11-XYZres96','11-XYZres97','11-XYZres100','11-XYZres101'],\n",
    "         '11-XYZres91':['11-XYZres94','11-XYZres99'],\n",
    "         '22-XYZres164':['22-XYZres165','22-XYZres168','22-XYZres169'],\n",
    "         '22-XYZres160':['22-XYZres161'],\n",
    "         '22-XYZres163':['22-XYZres166','22-XYZres167','22-XYZres170'],\n",
    "         '22-XYZres159':['22-XYZres162'],\n",
    "         '28-XYZres184':['28-XYZres185'],\n",
    "         '28-XYZres188':['28-XYZres189','28-XYZres193','28-XYZres194'],\n",
    "         '28-XYZres186':['28-XYZres187','28-XYZres188','28-XYZres190','28-XYZres191','28-XYZres192','28-XYZres195'],\n",
    "         '28-XYZres183':[],\n",
    "         '40-XYZres248':['40-XYZres249'],\n",
    "         '40-XYZres245':['40-XYZres252'],\n",
    "         '40-XYZres244':[],\n",
    "         '40-XYZres243':['40-XYZres246','40-XYZres247','40-XYZres251'],\n",
    "         '51-XYZres297':['51-XYZres298','51-XYZres302','51-XYZres305','51-XYZres301'],\n",
    "         '51-XYZres296':['51-XYZres306'],\n",
    "         '51-XYZres299':['51-XYZres300','51-XYZres303','51-XYZres304'],\n",
    "         '65-XYZres397':['65-XYZres398','65-XYZres401','65-XYZres402','65-XYZres405','65-XYZres408','65-XYZres409'],\n",
    "         '65-XYZres396':['65-XYZres399','65-XYZres400'],\n",
    "         '65-XYZres403':[],\n",
    "         '70-XYZres420':['70-XYZres421','70-XYZres422'],\n",
    "         '70-XYZres419':['70-XYZres416','70-XYZres413','70-XYZres410','70-XYZres412','70-XYZres416'],\n",
    "         '70-XYZres414':['70-XYZres417'],\n",
    "         '70-XYZres411':['70-XYZres418','70-XYZres415'],\n",
    "         '-XYZres007':[]\n",
    "        }\n",
    "dic.update(dic_2) \n",
    "len(list(dic.keys()))"
   ]
  },
  {
   "cell_type": "code",
   "execution_count": 5,
   "id": "5e417059-3e25-4d92-9878-47e03f8bdd10",
   "metadata": {},
   "outputs": [
    {
     "name": "stdout",
     "output_type": "stream",
     "text": [
      "794\n",
      "98\n"
     ]
    }
   ],
   "source": [
    "directory = Path('matt_preds_graphs_fwhm_single')\n",
    "_files = directory.glob('*_warped_radii.pickle')\n",
    "_files = sorted([x.as_posix() for x in _files])\n",
    "_files2 = directory.glob('*_radii_forepaw.pickle')\n",
    "_files2 = sorted([x.as_posix() for x in _files2])\n",
    "_files += _files2\n",
    "_files = sorted(_files)\n",
    "print(len(_files))\n",
    "\n",
    "directory = Path('matt_preds_graphs_fwhm_single_excel')\n",
    "files = directory.glob('*_radii*amended_full.pickle')\n",
    "files = sorted([x.as_posix() for x in files])\n",
    "files = [x for x in files if any(y in x for y in list(dic.keys()))]\n",
    "files = [x for x in files if '_0001' in x ]\n",
    "files = sorted(files)\n",
    "np.random.shuffle(files)\n",
    "#files = [x for x in files if '20200217_17-XYZres116_0001' not in x]\n",
    "\n",
    "print(len(files))"
   ]
  },
  {
   "cell_type": "code",
   "execution_count": 6,
   "id": "e0dedabd-2587-4fea-81a7-df93fef9477f",
   "metadata": {},
   "outputs": [
    {
     "ename": "NameError",
     "evalue": "name 'file' is not defined",
     "output_type": "error",
     "traceback": [
      "\u001b[0;31m---------------------------------------------------------------------------\u001b[0m",
      "\u001b[0;31mNameError\u001b[0m                                 Traceback (most recent call last)",
      "\u001b[0;32m/tmp/ipykernel_2224115/3692033204.py\u001b[0m in \u001b[0;36m<module>\u001b[0;34m\u001b[0m\n\u001b[0;32m----> 1\u001b[0;31m \u001b[0mfile\u001b[0m\u001b[0;34m\u001b[0m\u001b[0;34m\u001b[0m\u001b[0m\n\u001b[0m",
      "\u001b[0;31mNameError\u001b[0m: name 'file' is not defined"
     ]
    }
   ],
   "source": [
    "file"
   ]
  },
  {
   "cell_type": "code",
   "execution_count": null,
   "id": "8200f9b2-0ffc-4562-8b91-9dbea31c7ea5",
   "metadata": {},
   "outputs": [],
   "source": []
  },
  {
   "cell_type": "code",
   "execution_count": 6,
   "id": "0e72bace-3e46-47dc-bd04-d719ded5d49e",
   "metadata": {},
   "outputs": [
    {
     "name": "stderr",
     "output_type": "stream",
     "text": [
      "100%|██████████| 98/98 [11:03<00:00,  6.77s/it]\n"
     ]
    }
   ],
   "source": [
    "np.random.shuffle(files)\n",
    "df = pd.DataFrame(columns=['scan', 'base_scan', 'sex', 'group', 'assortativity', 'wavelength', 'power', 'subject'])\n",
    "df_eff = pd.DataFrame(columns=['scan', 'base_scan', 'sex', 'group', 'delta_efficiency', 'wavelength', 'power', 'subject'])\n",
    "df_graph = pd.DataFrame(columns=['scan', 'base_scan', 'sex', 'group', 'subject', 'vessel_num', 'vessel_density', 'length_density', 'interior_vertex', 'interior_vertex_density', 'boundary vertex', 'vessel_length_mean', 'vessel_length_std'])\n",
    "for file in tqdm(files):\n",
    "    graph = nx.read_gpickle(file)\n",
    "    if graph.edges[list(graph.edges)[0]]['treatment'] == 'SHAM':\n",
    "        #print(file)\n",
    "        _tmp_files = [file]\n",
    "        key = [x for x in list(dic.keys()) if x in file][0]\n",
    "        _tmp_files = _tmp_files + [re.sub(key,x,file) for x in dic[key]]\n",
    "        _tmp_files = [x for x in _tmp_files if os.path.exists(x)]\n",
    "        for _file in _tmp_files:\n",
    "            _graph = nx.read_gpickle(_file)\n",
    "            #print(_file)\n",
    "            _line_graph = nx.line_graph(_graph)\n",
    "            _res = []\n",
    "            if len(graph.edges) == len(_graph.edges):# and _graph.edges[list(_graph.edges)[0]]['wavelength'] == 458:\n",
    "                for edge in list(_graph.edges):\n",
    "                    _line_graph.nodes[edge]['delta_radii'] = _graph.edges[edge]['delta_radii']\n",
    "                    _res.append(_graph.edges[edge]['delta_radii'])\n",
    "                    _line_graph.nodes[edge]['radii'] = _graph.edges[edge]['radii']\n",
    "                    _graph.edges[edge]['restivity'] = 8 * 0.004 * (_graph.edges[edge]['weight']/10**6) / (np.pi * (_graph.edges[edge]['radii']/10**6)**4)\n",
    "                if ~np.isnan(np.sum(_res)) and 'wavelength' in list(_graph.edges[edge].keys()):\n",
    "                    assortativity = nx.numeric_assortativity_coefficient(_line_graph, 'delta_radii')\n",
    "                    _tmp_row = {\n",
    "                        'scan':_graph.edges[edge]['scan'],\n",
    "                        'base_scan':key,\n",
    "                        'sex':_graph.edges[edge]['gender'],\n",
    "                        'group':graph.edges[list(graph.edges)[0]]['treatment'],\n",
    "                        'assortativity':assortativity,\n",
    "                        'wavelength':_graph.edges[edge]['wavelength'],\n",
    "                        'power':_graph.edges[edge]['power'],\n",
    "                        'subject':_graph.edges[edge]['subject']\n",
    "                    }\n",
    "                    df = df.append(_tmp_row,ignore_index=True)\n",
    "                    if os.path.exists(re.sub('_0001','',_file)):\n",
    "                        _graph_baseline = nx.read_gpickle(re.sub('_0001','',_file))\n",
    "                        for edge in list(_graph.edges):\n",
    "                            _graph_baseline.edges[edge]['restivity'] = 8 * 0.004 * (_graph_baseline.edges[edge]['weight']/10**6) / (np.pi * (_graph_baseline.edges[edge]['radii']/10**6)**4)\n",
    "                        ###\n",
    "                        for edge in list(_graph.edges): \n",
    "                            if graph.edges[edge]['mean_vessel_radii_baseline'] > 5:\n",
    "                                _graph.remove_edge(edge[0],edge[1])\n",
    "                                _graph_baseline.remove_edge(edge[0],edge[1])\n",
    "                        ###\n",
    "                        _graph_adj = nx.adjacency_matrix(_graph, weight = 'restivity').toarray()\n",
    "                        _graph_base_adj = nx.adjacency_matrix(_graph_baseline, weight = 'restivity').toarray()\n",
    "                        eff_base = efficiency_wei(_graph_base_adj)\n",
    "                        eff = efficiency_wei(_graph_adj)\n",
    "                        delta_efficiency = eff - eff_base\n",
    "                        edge = list(_graph.edges)[0]\n",
    "                        _tmp_row = {\n",
    "                            'scan':_graph.edges[edge]['scan'],\n",
    "                            'base_scan':key,\n",
    "                            'sex':_graph.edges[edge]['gender'],\n",
    "                            'group':_graph.edges[list(_graph.edges)[0]]['treatment'],\n",
    "                            'delta_efficiency':delta_efficiency,\n",
    "                            'efficiency_post':eff,\n",
    "                            'efficiency_pre':eff_base,\n",
    "                            'wavelength':_graph.edges[edge]['wavelength'],\n",
    "                            'power':_graph.edges[edge]['power'],\n",
    "                            'subject':_graph.edges[edge]['subject']\n",
    "                        }\n",
    "                        df_eff = df_eff.append(_tmp_row,ignore_index=True)\n",
    "        #break\n",
    "        #edge = list(graph.edges)[0]\n",
    "        _tmp_row = {\n",
    "            'scan':graph.edges[edge]['scan'],\n",
    "            'base_scan':key,\n",
    "            'sex':graph.edges[edge]['gender'],\n",
    "            'group':graph.edges[list(graph.edges)[0]]['treatment'],\n",
    "            'subject':graph.edges[edge]['subject'],\n",
    "            'vessel_num': len(list(graph.edges)),\n",
    "            'vessel_density': len(list(graph.edges))/ (0.2508*0.512*0.99*0.512*0.99),\n",
    "            'length_density':(np.sum(list(nx.get_edge_attributes(graph,'weight').values())) * 10**-6) / (0.2508*0.512*0.99*0.512*0.99), \n",
    "            'interior_vertex': np.sum(np.array([d for n,d in graph.degree()]) > 1), \n",
    "            'interior_vertex_density': np.sum(np.array([d for n,d in graph.degree()]) > 1) / (0.2508*0.512*0.99*0.512*0.99),\n",
    "            'boundary vertex': np.sum(np.array([d for n,d in graph.degree()]) == 1), \n",
    "            'vessel_length_mean':np.mean(list(nx.get_edge_attributes(graph,'weight').values())), \n",
    "            'vessel_length_std':np.std(list(nx.get_edge_attributes(graph,'weight').values()))\n",
    "        }\n",
    "        df_graph = df_graph.append(_tmp_row,ignore_index=True)\n",
    "            #print(assortativity)"
   ]
  },
  {
   "cell_type": "code",
   "execution_count": 7,
   "id": "c679412f-3efd-4fed-86f0-3776e6953934",
   "metadata": {},
   "outputs": [
    {
     "name": "stderr",
     "output_type": "stream",
     "text": [
      "100%|██████████| 98/98 [09:09<00:00,  5.61s/it]\n"
     ]
    }
   ],
   "source": [
    "df = pd.DataFrame(columns=['scan', 'sex', 'group', 'volume density', 'volume density std', 'subject'])\n",
    "for file in tqdm(files):\n",
    "    graph = nx.read_gpickle(file)\n",
    "    if graph.edges[list(graph.edges)[0]]['treatment'] == 'SHAM': #or graph.edges[list(graph.edges)[0]]['treatment'] == 'TBI'):\n",
    "        #print(file)\n",
    "        _tmp_files = [file]\n",
    "        key = [x for x in list(dic.keys()) if x in file][0]\n",
    "        _tmp_files = _tmp_files + [re.sub(key,x,file) for x in dic[key]]\n",
    "        _tmp_files = [x for x in _tmp_files if os.path.exists(x)]\n",
    "        _tmp_files = [re.sub('_0001','',x) for x in _tmp_files]\n",
    "        res = []\n",
    "        res_nrn = []\n",
    "        for _file in _tmp_files:\n",
    "            _graph = nx.read_gpickle(_file)\n",
    "            _nrn = re.sub('matt_preds_graphs_fwhm_single_excel','matt_raw_warped_single_upsampled_seg',_file)\n",
    "            _nrn = re.sub('_radii_amended_full.pickle','_seg_nrn.npy',_nrn)\n",
    "            _nrn = re.sub('_radii_forepaw_amended_full.pickle','_seg_nrn.npy',_nrn)\n",
    "            _nrn_seg = np.load(_nrn)\n",
    "            if len(list(_graph.edges)) == len(list(graph.edges)):\n",
    "                _tmp = 0\n",
    "                thresh = 75\n",
    "                image = _nrn_seg\n",
    "                img_lab, N = cc3d.connected_components(image,return_N=True)\n",
    "                unique, counts = np.unique(img_lab, return_counts=True)\n",
    "                unique_keep = unique[counts>thresh]\n",
    "                unique_keep = np.delete(unique_keep,[0])\n",
    "                img_filt = np.zeros(img_lab.shape).astype('int8')\n",
    "                img_filt[np.isin(img_lab,unique_keep)] = 1\n",
    "                _img_lab, _N = cc3d.connected_components(img_filt,return_N=True)\n",
    "                _unique, _counts = np.unique(_img_lab, return_counts=True)\n",
    "                neuron_count = len(np.delete(np.unique(_unique),[0]))\n",
    "                for edge in list(_graph.edges):\n",
    "                    if ~np.isnan(np.pi * _graph.edges[edge]['radii']**2 * _graph.edges[edge]['weight']):\n",
    "                        _tmp += np.pi * _graph.edges[edge]['radii']**2 * _graph.edges[edge]['weight']\n",
    "                _tmp = _tmp/(1000**3)/(.507*.507*.250)\n",
    "                res.append(_tmp)\n",
    "                res_nrn.append(neuron_count)\n",
    "        edge = list(graph.edges)[0]\n",
    "        _tmp_row = {\n",
    "            'scan':graph.edges[edge]['scan'],\n",
    "            'sex':graph.edges[edge]['gender'],\n",
    "            'group':graph.edges[list(graph.edges)[0]]['treatment'],\n",
    "            'subject':graph.edges[edge]['subject'],\n",
    "            'volume density': np.mean(res),\n",
    "            'volume density std': np.std(res),\n",
    "            'neuron count': np.mean(res_nrn),\n",
    "            'neuron count std': np.std(res_nrn),\n",
    "            'neuron density': np.mean(np.array(res_nrn)/(.507*.507*.250)),\n",
    "            'neuron density std': np.std(np.array(res_nrn)/(.507*.507*.250))\n",
    "        }\n",
    "        df = df.append(_tmp_row,ignore_index=True)"
   ]
  },
  {
   "cell_type": "code",
   "execution_count": null,
   "id": "00862119-4f17-4861-ab06-7ec39feab52f",
   "metadata": {},
   "outputs": [],
   "source": [
    "thresh = 75\n",
    "image = _nrn_seg\n",
    "img_lab, N = cc3d.connected_components(image,return_N=True)\n",
    "unique, counts = np.unique(img_lab, return_counts=True)\n",
    "unique_keep = unique[counts>thresh]\n",
    "unique_keep = np.delete(unique_keep,[0])\n",
    "img_filt = np.zeros(img_lab.shape).astype('int8')\n",
    "img_filt[np.isin(img_lab,unique_keep)] = 1\n",
    "_img_lab, _N = cc3d.connected_components(img_filt,return_N=True)\n",
    "_unique, _counts = np.unique(_img_lab, return_counts=True)\n",
    "neuron_count = len(np.delete(np.unique(_unique),[0]))"
   ]
  },
  {
   "cell_type": "code",
   "execution_count": 9,
   "id": "47106ab3-83b2-4aeb-a4e9-7e1de0acdc36",
   "metadata": {},
   "outputs": [
    {
     "data": {
      "text/html": [
       "<div>\n",
       "<style scoped>\n",
       "    .dataframe tbody tr th:only-of-type {\n",
       "        vertical-align: middle;\n",
       "    }\n",
       "\n",
       "    .dataframe tbody tr th {\n",
       "        vertical-align: top;\n",
       "    }\n",
       "\n",
       "    .dataframe thead th {\n",
       "        text-align: right;\n",
       "    }\n",
       "</style>\n",
       "<table border=\"1\" class=\"dataframe\">\n",
       "  <thead>\n",
       "    <tr style=\"text-align: right;\">\n",
       "      <th></th>\n",
       "      <th>scan</th>\n",
       "      <th>base_scan</th>\n",
       "      <th>sex</th>\n",
       "      <th>group</th>\n",
       "      <th>delta_efficiency</th>\n",
       "      <th>wavelength</th>\n",
       "      <th>power</th>\n",
       "      <th>subject</th>\n",
       "      <th>efficiency_post</th>\n",
       "      <th>efficiency_pre</th>\n",
       "    </tr>\n",
       "  </thead>\n",
       "  <tbody>\n",
       "    <tr>\n",
       "      <th>0</th>\n",
       "      <td>XYZres217</td>\n",
       "      <td>35-XYZres213</td>\n",
       "      <td>female</td>\n",
       "      <td>SHAM</td>\n",
       "      <td>1.251986e+16</td>\n",
       "      <td>458</td>\n",
       "      <td>20</td>\n",
       "      <td>SHAM35_3D</td>\n",
       "      <td>1.835762e+16</td>\n",
       "      <td>5.837755e+15</td>\n",
       "    </tr>\n",
       "    <tr>\n",
       "      <th>1</th>\n",
       "      <td>XYZres214</td>\n",
       "      <td>35-XYZres213</td>\n",
       "      <td>female</td>\n",
       "      <td>SHAM</td>\n",
       "      <td>-4.313024e+14</td>\n",
       "      <td>458</td>\n",
       "      <td>20</td>\n",
       "      <td>SHAM35_3D</td>\n",
       "      <td>2.436625e+15</td>\n",
       "      <td>2.867927e+15</td>\n",
       "    </tr>\n",
       "    <tr>\n",
       "      <th>2</th>\n",
       "      <td>XYZres153</td>\n",
       "      <td>23-XYZres158</td>\n",
       "      <td>male</td>\n",
       "      <td>SHAM</td>\n",
       "      <td>5.349844e+15</td>\n",
       "      <td>458</td>\n",
       "      <td>20</td>\n",
       "      <td>SHAM23_3D</td>\n",
       "      <td>6.301626e+15</td>\n",
       "      <td>9.517825e+14</td>\n",
       "    </tr>\n",
       "    <tr>\n",
       "      <th>3</th>\n",
       "      <td>XYZres203</td>\n",
       "      <td>32-XYZres199</td>\n",
       "      <td>male</td>\n",
       "      <td>SHAM</td>\n",
       "      <td>-2.500488e+13</td>\n",
       "      <td>458</td>\n",
       "      <td>20</td>\n",
       "      <td>SHAM32_3D</td>\n",
       "      <td>7.643026e+15</td>\n",
       "      <td>7.668031e+15</td>\n",
       "    </tr>\n",
       "    <tr>\n",
       "      <th>4</th>\n",
       "      <td>XYZres200</td>\n",
       "      <td>32-XYZres199</td>\n",
       "      <td>male</td>\n",
       "      <td>SHAM</td>\n",
       "      <td>-4.919066e+14</td>\n",
       "      <td>458</td>\n",
       "      <td>5</td>\n",
       "      <td>SHAM32_3D</td>\n",
       "      <td>5.380719e+15</td>\n",
       "      <td>5.872625e+15</td>\n",
       "    </tr>\n",
       "    <tr>\n",
       "      <th>...</th>\n",
       "      <td>...</td>\n",
       "      <td>...</td>\n",
       "      <td>...</td>\n",
       "      <td>...</td>\n",
       "      <td>...</td>\n",
       "      <td>...</td>\n",
       "      <td>...</td>\n",
       "      <td>...</td>\n",
       "      <td>...</td>\n",
       "      <td>...</td>\n",
       "    </tr>\n",
       "    <tr>\n",
       "      <th>69</th>\n",
       "      <td>XYZres456</td>\n",
       "      <td>76-XYZres459</td>\n",
       "      <td>male</td>\n",
       "      <td>SHAM</td>\n",
       "      <td>-9.845361e+13</td>\n",
       "      <td>458</td>\n",
       "      <td>5</td>\n",
       "      <td>SHAM76_3D</td>\n",
       "      <td>2.753293e+15</td>\n",
       "      <td>2.851747e+15</td>\n",
       "    </tr>\n",
       "    <tr>\n",
       "      <th>70</th>\n",
       "      <td>XYZres462</td>\n",
       "      <td>76-XYZres459</td>\n",
       "      <td>male</td>\n",
       "      <td>SHAM</td>\n",
       "      <td>1.441386e+14</td>\n",
       "      <td>552</td>\n",
       "      <td>9</td>\n",
       "      <td>SHAM76_3D</td>\n",
       "      <td>3.249527e+15</td>\n",
       "      <td>3.105388e+15</td>\n",
       "    </tr>\n",
       "    <tr>\n",
       "      <th>71</th>\n",
       "      <td>XYZres329</td>\n",
       "      <td>53-XYZres332</td>\n",
       "      <td>male</td>\n",
       "      <td>SHAM</td>\n",
       "      <td>1.772763e+16</td>\n",
       "      <td>458</td>\n",
       "      <td>5</td>\n",
       "      <td>SHAM53_3D</td>\n",
       "      <td>2.127627e+16</td>\n",
       "      <td>3.548640e+15</td>\n",
       "    </tr>\n",
       "    <tr>\n",
       "      <th>72</th>\n",
       "      <td>XYZres333</td>\n",
       "      <td>53-XYZres332</td>\n",
       "      <td>male</td>\n",
       "      <td>SHAM</td>\n",
       "      <td>1.948624e+16</td>\n",
       "      <td>458</td>\n",
       "      <td>20</td>\n",
       "      <td>SHAM53_3D</td>\n",
       "      <td>2.387071e+16</td>\n",
       "      <td>4.384478e+15</td>\n",
       "    </tr>\n",
       "    <tr>\n",
       "      <th>73</th>\n",
       "      <td>XYZres337</td>\n",
       "      <td>53-XYZres332</td>\n",
       "      <td>male</td>\n",
       "      <td>SHAM</td>\n",
       "      <td>-2.236089e+13</td>\n",
       "      <td>552</td>\n",
       "      <td>9</td>\n",
       "      <td>SHAM53_3D</td>\n",
       "      <td>4.602768e+15</td>\n",
       "      <td>4.625129e+15</td>\n",
       "    </tr>\n",
       "  </tbody>\n",
       "</table>\n",
       "<p>74 rows × 10 columns</p>\n",
       "</div>"
      ],
      "text/plain": [
       "         scan     base_scan     sex group  delta_efficiency wavelength power  \\\n",
       "0   XYZres217  35-XYZres213  female  SHAM      1.251986e+16        458    20   \n",
       "1   XYZres214  35-XYZres213  female  SHAM     -4.313024e+14        458    20   \n",
       "2   XYZres153  23-XYZres158    male  SHAM      5.349844e+15        458    20   \n",
       "3   XYZres203  32-XYZres199    male  SHAM     -2.500488e+13        458    20   \n",
       "4   XYZres200  32-XYZres199    male  SHAM     -4.919066e+14        458     5   \n",
       "..        ...           ...     ...   ...               ...        ...   ...   \n",
       "69  XYZres456  76-XYZres459    male  SHAM     -9.845361e+13        458     5   \n",
       "70  XYZres462  76-XYZres459    male  SHAM      1.441386e+14        552     9   \n",
       "71  XYZres329  53-XYZres332    male  SHAM      1.772763e+16        458     5   \n",
       "72  XYZres333  53-XYZres332    male  SHAM      1.948624e+16        458    20   \n",
       "73  XYZres337  53-XYZres332    male  SHAM     -2.236089e+13        552     9   \n",
       "\n",
       "      subject  efficiency_post  efficiency_pre  \n",
       "0   SHAM35_3D     1.835762e+16    5.837755e+15  \n",
       "1   SHAM35_3D     2.436625e+15    2.867927e+15  \n",
       "2   SHAM23_3D     6.301626e+15    9.517825e+14  \n",
       "3   SHAM32_3D     7.643026e+15    7.668031e+15  \n",
       "4   SHAM32_3D     5.380719e+15    5.872625e+15  \n",
       "..        ...              ...             ...  \n",
       "69  SHAM76_3D     2.753293e+15    2.851747e+15  \n",
       "70  SHAM76_3D     3.249527e+15    3.105388e+15  \n",
       "71  SHAM53_3D     2.127627e+16    3.548640e+15  \n",
       "72  SHAM53_3D     2.387071e+16    4.384478e+15  \n",
       "73  SHAM53_3D     4.602768e+15    4.625129e+15  \n",
       "\n",
       "[74 rows x 10 columns]"
      ]
     },
     "execution_count": 9,
     "metadata": {},
     "output_type": "execute_result"
    }
   ],
   "source": [
    "df_eff"
   ]
  },
  {
   "cell_type": "code",
   "execution_count": 8,
   "id": "ea545569-36cb-4f72-9869-c0877d90d1fa",
   "metadata": {},
   "outputs": [],
   "source": [
    "df.to_excel('assortativity.xlsx')\n",
    "df_eff.to_excel('efficiency.xlsx')"
   ]
  },
  {
   "cell_type": "code",
   "execution_count": null,
   "id": "2dab5ede-af89-480c-a69b-439f1e438ad2",
   "metadata": {},
   "outputs": [],
   "source": [
    "_ = np.array(df['volume density'])\n",
    "print(np.mean(_[~np.isnan(_)]))\n",
    "print(np.std(_[~np.isnan(_)]))"
   ]
  },
  {
   "cell_type": "code",
   "execution_count": 9,
   "id": "628ed2d4-5e43-467f-a807-62424d557db1",
   "metadata": {},
   "outputs": [
    {
     "name": "stdout",
     "output_type": "stream",
     "text": [
      "313.1046875\n",
      "202.11744919219097\n"
     ]
    }
   ],
   "source": [
    "_ = np.array(df['neuron count'])\n",
    "print(np.mean(_[~np.isnan(_)]))\n",
    "print(np.std(_[~np.isnan(_)]))"
   ]
  },
  {
   "cell_type": "code",
   "execution_count": 10,
   "id": "08065254-aaa2-442d-8cab-9300ccefdc63",
   "metadata": {},
   "outputs": [
    {
     "name": "stdout",
     "output_type": "stream",
     "text": [
      "4872.295749059517\n",
      "3145.197206636726\n"
     ]
    }
   ],
   "source": [
    "_ = np.array(df['neuron density'])\n",
    "print(np.mean(_[~np.isnan(_)]))\n",
    "print(np.std(_[~np.isnan(_)]))"
   ]
  },
  {
   "cell_type": "code",
   "execution_count": null,
   "id": "1b5a7714-f4ce-4112-87a6-c68746608866",
   "metadata": {},
   "outputs": [],
   "source": [
    "res"
   ]
  },
  {
   "cell_type": "code",
   "execution_count": null,
   "id": "3ac7f49a-c543-4ed7-bfa8-8d532dd8164f",
   "metadata": {},
   "outputs": [],
   "source": [
    "Gcc = sorted(nx.connected_components(_graph_baseline), key=len, reverse=True)\n",
    "G0 = _graph_baseline.subgraph(Gcc[0])\n",
    "\n",
    "#colors = np.array(list(nx.get_node_attributes(G0,'delta_radii').values()))\n",
    "#colors[colors>1] = 1\n",
    "#colors[colors<-1] = -1\n",
    "\n",
    "#mapping = dict(zip(sorted(groups),count()))\n",
    "nodes = G0.nodes()\n",
    "#colors = [mapping[G0.nodes[n]['delta_radii']] for n in nodes]\n",
    "\n",
    "pos = nx.spring_layout(G0, k=2/np.sqrt(len(G0.nodes)))\n",
    "ec = nx.draw_networkx_edges(G0, pos, alpha=0.7)\n",
    "nc = nx.draw_networkx_nodes(G0, pos, node_size=30, nodelist=nodes)\n",
    "#cbar = plt.colorbar(nc)\n",
    "#cbar.set_label(r'$\\Delta$ Radius ($\\mu$m)', rotation=270,size=14, labelpad=20)\n",
    "plt.title('{:,.3f}'.format(eff/1e15) + r' $P\\Omega^{-1}$')\n",
    "plt.axis('off')\n",
    "plt.tight_layout()\n",
    "plt.savefig('graph_efficiency_4.jpeg')\n",
    "plt.show()"
   ]
  },
  {
   "cell_type": "code",
   "execution_count": 24,
   "id": "3a4b76e7-93d6-4fbd-b707-a4f88e39f46c",
   "metadata": {},
   "outputs": [
    {
     "data": {
      "image/png": "[encoded data removed]",
      "text/plain": [
       "<Figure size 432x288 with 2 Axes>"
      ]
     },
     "metadata": {
      "needs_background": "light"
     },
     "output_type": "display_data"
    }
   ],
   "source": [
    "Gcc = sorted(nx.connected_components(_line_graph), key=len, reverse=True)\n",
    "G0 = _line_graph.subgraph(Gcc[0])\n",
    "\n",
    "colors = np.array(list(nx.get_node_attributes(G0,'delta_radii').values()))\n",
    "colors[colors>1] = 1\n",
    "colors[colors<-1] = -1\n",
    "\n",
    "#mapping = dict(zip(sorted(groups),count()))\n",
    "nodes = G0.nodes()\n",
    "#colors = [mapping[G0.nodes[n]['delta_radii']] for n in nodes]\n",
    "\n",
    "pos = nx.spring_layout(G0, k=2/np.sqrt(len(G0.nodes)))\n",
    "ec = nx.draw_networkx_edges(G0, pos, alpha=0.7)\n",
    "nc = nx.draw_networkx_nodes(G0, pos, node_size=30, nodelist=nodes, node_color=colors, cmap=plt.cm.viridis)\n",
    "cbar = plt.colorbar(nc)\n",
    "cbar.set_label(r'$\\Delta$ Radius ($\\mu$m)', rotation=270,size=14, labelpad=20)\n",
    "plt.axis('off')\n",
    "plt.tight_layout()\n",
    "plt.savefig('graph_assortativity.png')\n",
    "plt.show()"
   ]
  },
  {
   "cell_type": "code",
   "execution_count": 33,
   "id": "21876943-5f4d-496b-bdbc-fdb938e1d4db",
   "metadata": {},
   "outputs": [
    {
     "data": {
      "text/plain": [
       "20"
      ]
     },
     "execution_count": 33,
     "metadata": {},
     "output_type": "execute_result"
    }
   ],
   "source": [
    "_graph[0][10]['power']"
   ]
  },
  {
   "cell_type": "code",
   "execution_count": null,
   "id": "49d03f1c-7a7a-41b3-8476-bf044c556b4d",
   "metadata": {},
   "outputs": [],
   "source": [
    "_line_graph.nodes[edge]['delta_radii']"
   ]
  },
  {
   "cell_type": "code",
   "execution_count": 29,
   "id": "a79bf24a-6e67-49d8-8b0c-8d189c745c72",
   "metadata": {},
   "outputs": [
    {
     "data": {
      "text/plain": [
       "[(0, 10),\n",
       " (1, 5),\n",
       " (2, 8),\n",
       " (3, 113),\n",
       " (4, 8),\n",
       " (5, 12),\n",
       " (5, 7),\n",
       " (7, 23),\n",
       " (7, 20),\n",
       " (8, 18),\n",
       " (9, 15),\n",
       " (11, 21),\n",
       " (13, 14),\n",
       " (14, 21),\n",
       " (14, 15),\n",
       " (15, 36),\n",
       " (16, 22),\n",
       " (16, 49),\n",
       " (16, 156),\n",
       " (17, 32),\n",
       " (19, 26),\n",
       " (21, 45),\n",
       " (22, 57),\n",
       " (22, 26),\n",
       " (24, 26),\n",
       " (25, 27),\n",
       " (25, 37),\n",
       " (27, 29),\n",
       " (27, 35),\n",
       " (27, 34),\n",
       " (28, 30),\n",
       " (28, 61),\n",
       " (28, 39),\n",
       " (29, 41),\n",
       " (29, 42),\n",
       " (30, 38),\n",
       " (31, 71),\n",
       " (32, 33),\n",
       " (32, 59),\n",
       " (33, 35),\n",
       " (33, 34),\n",
       " (34, 36),\n",
       " (35, 41),\n",
       " (36, 64),\n",
       " (37, 42),\n",
       " (38, 39),\n",
       " (39, 61),\n",
       " (40, 82),\n",
       " (41, 42),\n",
       " (43, 98),\n",
       " (44, 50),\n",
       " (46, 122),\n",
       " (46, 70),\n",
       " (46, 47),\n",
       " (47, 69),\n",
       " (47, 65),\n",
       " (48, 77),\n",
       " (49, 50),\n",
       " (49, 52),\n",
       " (50, 56),\n",
       " (51, 131),\n",
       " (52, 63),\n",
       " (52, 56),\n",
       " (53, 66),\n",
       " (54, 83),\n",
       " (55, 71),\n",
       " (56, 62),\n",
       " (58, 91),\n",
       " (59, 79),\n",
       " (60, 84),\n",
       " (61, 76),\n",
       " (62, 80),\n",
       " (62, 63),\n",
       " (63, 81),\n",
       " (64, 66),\n",
       " (64, 89),\n",
       " (66, 88),\n",
       " (67, 87),\n",
       " (68, 87),\n",
       " (68, 143),\n",
       " (68, 103),\n",
       " (69, 70),\n",
       " (69, 105),\n",
       " (70, 80),\n",
       " (71, 78),\n",
       " (72, 141),\n",
       " (73, 96),\n",
       " (74, 86),\n",
       " (75, 94),\n",
       " (76, 85),\n",
       " (76, 90),\n",
       " (78, 83),\n",
       " (78, 114),\n",
       " (80, 99),\n",
       " (81, 101),\n",
       " (82, 86),\n",
       " (82, 117),\n",
       " (83, 114),\n",
       " (84, 85),\n",
       " (84, 92),\n",
       " (85, 92),\n",
       " (86, 116),\n",
       " (87, 93),\n",
       " (88, 89),\n",
       " (90, 107),\n",
       " (92, 107),\n",
       " (93, 102),\n",
       " (93, 115),\n",
       " (94, 108),\n",
       " (94, 100),\n",
       " (96, 105),\n",
       " (96, 108),\n",
       " (97, 98),\n",
       " (98, 121),\n",
       " (100, 128),\n",
       " (100, 101),\n",
       " (104, 106),\n",
       " (105, 126),\n",
       " (106, 109),\n",
       " (108, 125),\n",
       " (109, 110),\n",
       " (110, 111),\n",
       " (111, 128),\n",
       " (111, 117),\n",
       " (112, 139),\n",
       " (114, 119),\n",
       " (115, 122),\n",
       " (115, 154),\n",
       " (116, 124),\n",
       " (116, 117),\n",
       " (118, 120),\n",
       " (118, 145),\n",
       " (118, 136),\n",
       " (119, 129),\n",
       " (119, 165),\n",
       " (120, 123),\n",
       " (120, 126),\n",
       " (122, 155),\n",
       " (123, 149),\n",
       " (126, 130),\n",
       " (127, 139),\n",
       " (128, 147),\n",
       " (129, 135),\n",
       " (129, 132),\n",
       " (130, 134),\n",
       " (130, 138),\n",
       " (131, 133),\n",
       " (131, 141),\n",
       " (136, 146),\n",
       " (136, 142),\n",
       " (137, 170),\n",
       " (139, 141),\n",
       " (140, 142),\n",
       " (140, 150),\n",
       " (147, 169),\n",
       " (147, 153),\n",
       " (151, 161),\n",
       " (152, 183),\n",
       " (153, 164),\n",
       " (153, 171),\n",
       " (154, 163),\n",
       " (154, 177),\n",
       " (158, 159),\n",
       " (158, 166),\n",
       " (159, 162),\n",
       " (161, 173),\n",
       " (161, 175),\n",
       " (162, 174),\n",
       " (162, 166),\n",
       " (164, 168),\n",
       " (164, 171),\n",
       " (166, 178),\n",
       " (168, 172),\n",
       " (171, 172),\n",
       " (174, 178),\n",
       " (176, 221),\n",
       " (179, 198),\n",
       " (180, 185),\n",
       " (180, 195),\n",
       " (180, 181),\n",
       " (181, 192),\n",
       " (181, 186),\n",
       " (182, 192),\n",
       " (182, 205),\n",
       " (183, 184),\n",
       " (183, 191),\n",
       " (184, 188),\n",
       " (184, 185),\n",
       " (185, 186),\n",
       " (186, 188),\n",
       " (188, 217),\n",
       " (189, 190),\n",
       " (189, 199),\n",
       " (190, 199),\n",
       " (190, 197),\n",
       " (191, 208),\n",
       " (191, 202),\n",
       " (192, 207),\n",
       " (196, 210),\n",
       " (198, 234),\n",
       " (198, 212),\n",
       " (200, 228),\n",
       " (200, 206),\n",
       " (201, 213),\n",
       " (202, 209),\n",
       " (202, 205),\n",
       " (204, 213),\n",
       " (206, 229),\n",
       " (207, 209),\n",
       " (207, 220),\n",
       " (207, 233),\n",
       " (208, 218),\n",
       " (208, 211),\n",
       " (209, 211),\n",
       " (211, 216),\n",
       " (212, 214),\n",
       " (212, 222),\n",
       " (213, 219),\n",
       " (216, 218),\n",
       " (216, 223),\n",
       " (217, 220),\n",
       " (217, 238),\n",
       " (218, 224),\n",
       " (219, 230),\n",
       " (219, 226),\n",
       " (220, 235),\n",
       " (222, 226),\n",
       " (222, 295),\n",
       " (223, 224),\n",
       " (225, 289),\n",
       " (226, 240),\n",
       " (227, 236),\n",
       " (231, 278),\n",
       " (236, 237),\n",
       " (236, 243),\n",
       " (237, 267),\n",
       " (237, 275),\n",
       " (239, 244),\n",
       " (239, 242),\n",
       " (239, 247),\n",
       " (240, 282),\n",
       " (240, 241),\n",
       " (243, 276),\n",
       " (243, 275),\n",
       " (245, 266),\n",
       " (247, 250),\n",
       " (248, 249),\n",
       " (249, 251),\n",
       " (249, 254),\n",
       " (251, 256),\n",
       " (251, 257),\n",
       " (252, 256),\n",
       " (253, 286),\n",
       " (254, 257),\n",
       " (254, 255),\n",
       " (255, 258),\n",
       " (255, 259),\n",
       " (256, 281),\n",
       " (257, 259),\n",
       " (258, 260),\n",
       " (258, 262),\n",
       " (259, 260),\n",
       " (260, 265),\n",
       " (261, 282),\n",
       " (261, 276),\n",
       " (262, 265),\n",
       " (262, 281),\n",
       " (263, 279),\n",
       " (264, 270),\n",
       " (264, 274),\n",
       " (264, 285),\n",
       " (265, 273),\n",
       " (266, 275),\n",
       " (266, 269),\n",
       " (267, 280),\n",
       " (268, 279),\n",
       " (270, 273),\n",
       " (271, 292),\n",
       " (272, 278),\n",
       " (276, 283),\n",
       " (278, 298),\n",
       " (279, 333),\n",
       " (280, 284),\n",
       " (280, 326),\n",
       " (281, 293),\n",
       " (282, 294),\n",
       " (284, 331),\n",
       " (284, 318),\n",
       " (286, 293),\n",
       " (286, 289),\n",
       " (287, 288),\n",
       " (287, 314),\n",
       " (288, 292),\n",
       " (290, 303),\n",
       " (292, 401),\n",
       " (293, 306),\n",
       " (297, 324),\n",
       " (297, 309),\n",
       " (297, 321),\n",
       " (299, 322),\n",
       " (300, 311),\n",
       " (300, 301),\n",
       " (300, 356),\n",
       " (301, 339),\n",
       " (301, 308),\n",
       " (302, 358),\n",
       " (302, 311),\n",
       " (302, 305),\n",
       " (303, 310),\n",
       " (304, 348),\n",
       " (305, 312),\n",
       " (305, 308),\n",
       " (307, 324),\n",
       " (308, 311),\n",
       " (308, 312),\n",
       " (310, 342),\n",
       " (312, 317),\n",
       " (315, 335),\n",
       " (317, 320),\n",
       " (318, 344),\n",
       " (318, 337),\n",
       " (322, 346),\n",
       " (322, 329),\n",
       " (324, 378),\n",
       " (325, 329),\n",
       " (325, 351),\n",
       " (325, 403),\n",
       " (326, 362),\n",
       " (326, 401),\n",
       " (327, 343),\n",
       " (329, 337),\n",
       " (330, 373),\n",
       " (332, 370),\n",
       " (334, 411),\n",
       " (335, 346),\n",
       " (335, 344),\n",
       " (336, 387),\n",
       " (337, 340),\n",
       " (341, 359),\n",
       " (342, 348),\n",
       " (342, 345),\n",
       " (344, 349),\n",
       " (345, 392),\n",
       " (346, 349),\n",
       " (347, 376),\n",
       " (348, 371),\n",
       " (349, 399),\n",
       " (350, 382),\n",
       " (351, 382),\n",
       " (351, 361),\n",
       " (352, 367),\n",
       " (352, 386),\n",
       " (352, 358),\n",
       " (353, 408),\n",
       " (354, 373),\n",
       " (356, 363),\n",
       " (356, 357),\n",
       " (357, 363),\n",
       " (357, 365),\n",
       " (357, 364),\n",
       " (358, 375),\n",
       " (363, 365),\n",
       " (364, 379),\n",
       " (364, 384),\n",
       " (365, 379),\n",
       " (366, 378),\n",
       " (366, 391),\n",
       " (366, 374),\n",
       " (367, 374),\n",
       " (368, 372),\n",
       " (369, 417),\n",
       " (370, 423),\n",
       " (370, 417),\n",
       " (371, 377),\n",
       " (372, 395),\n",
       " (373, 376),\n",
       " (375, 411),\n",
       " (375, 408),\n",
       " (376, 383),\n",
       " (377, 385),\n",
       " (378, 414),\n",
       " (379, 384),\n",
       " (380, 388),\n",
       " (381, 387),\n",
       " (381, 412),\n",
       " (381, 389),\n",
       " (382, 424),\n",
       " (383, 388),\n",
       " (384, 389),\n",
       " (385, 390),\n",
       " (385, 414),\n",
       " (387, 394),\n",
       " (389, 394),\n",
       " (392, 396),\n",
       " (392, 420),\n",
       " (393, 412),\n",
       " (394, 406),\n",
       " (395, 397),\n",
       " (395, 403),\n",
       " (396, 406),\n",
       " (396, 420),\n",
       " (399, 404),\n",
       " (399, 409),\n",
       " (400, 413),\n",
       " (403, 409),\n",
       " (406, 422),\n",
       " (408, 415),\n",
       " (409, 419),\n",
       " (410, 412),\n",
       " (411, 415),\n",
       " (413, 422),\n",
       " (413, 415),\n",
       " (414, 422),\n",
       " (420, 425)]"
      ]
     },
     "execution_count": 29,
     "metadata": {},
     "output_type": "execute_result"
    }
   ],
   "source": [
    "list(_graph.edges)"
   ]
  },
  {
   "cell_type": "code",
   "execution_count": 56,
   "id": "27ef94a3-aeea-4bda-aa7f-bb3bfbb96bc0",
   "metadata": {},
   "outputs": [
    {
     "name": "stderr",
     "output_type": "stream",
     "text": [
      "100%|██████████| 97/97 [00:05<00:00, 19.27it/s]\n"
     ]
    }
   ],
   "source": [
    "df = nx.to_pandas_edgelist(nx.read_gpickle(files[0]))\n",
    "for file in tqdm(files[1:]):\n",
    "    _df = nx.to_pandas_edgelist(nx.read_gpickle(file))\n",
    "    if _df.iloc[0]['treatment'] == 'SHAM':\n",
    "        df = df.append(_df,ignore_index=True)\n",
    "    \n",
    "    "
   ]
  },
  {
   "cell_type": "code",
   "execution_count": 57,
   "id": "f3ec9cc8-3fae-4943-bb8f-f88a7621c37a",
   "metadata": {},
   "outputs": [
    {
     "data": {
      "text/plain": [
       "12133"
      ]
     },
     "execution_count": 57,
     "metadata": {},
     "output_type": "execute_result"
    }
   ],
   "source": [
    "len(df)"
   ]
  },
  {
   "cell_type": "code",
   "execution_count": 58,
   "id": "31377c3b-c863-4b29-bf1e-fc630401d9f3",
   "metadata": {},
   "outputs": [
    {
     "name": "stdout",
     "output_type": "stream",
     "text": [
      "2.1576540065735967\n",
      "1.6111944881253393\n"
     ]
    }
   ],
   "source": [
    "print(np.mean(df['mean_vessel_radii_baseline']))\n",
    "print(np.std(df['mean_vessel_radii_baseline']))"
   ]
  },
  {
   "cell_type": "code",
   "execution_count": 59,
   "id": "b6b4cf86-8cff-4c1f-9153-e15d43eabe67",
   "metadata": {},
   "outputs": [
    {
     "name": "stdout",
     "output_type": "stream",
     "text": [
      "source                        2.303187e+02\n",
      "target                        2.512315e+02\n",
      "age                           2.888415e+02\n",
      "wavelength                    4.606582e+02\n",
      "mean_vessel_radii_baseline    2.157654e+00\n",
      "delta_radii                   3.105532e-01\n",
      "timepoint                     1.000000e+00\n",
      "end-0y                        2.610579e+02\n",
      "end-1x                        1.127716e+02\n",
      "euclidean-dst                 4.821623e+01\n",
      "end-1z                        2.696486e+02\n",
      "neuron_distance_std                    inf\n",
      "end-0x                        1.121324e+02\n",
      "power                         9.711211e+00\n",
      "radii                         2.214321e+00\n",
      "mean_depth                    1.123524e+02\n",
      "mean_neuron_distance          3.131437e+01\n",
      "start_depth                   2.579260e+02\n",
      "imaging_weight                2.846139e+01\n",
      "std_vessel_radii_baseline     7.769706e-01\n",
      "num_vessel_radii_baseline     4.940658e+00\n",
      "neuron_distance_min           2.267977e+01\n",
      "days_post_injury              1.726333e+01\n",
      "end-0z                        2.489154e+02\n",
      "end-1y                        2.607261e+02\n",
      "vessel_id                     2.545333e+04\n",
      "radii_std                     5.283300e-01\n",
      "start_weight                  2.993406e+01\n",
      "weight                        7.026317e+01\n",
      "current                       2.000000e+00\n",
      "frequency                     3.000000e+00\n",
      "dtype: float64\n"
     ]
    },
    {
     "name": "stderr",
     "output_type": "stream",
     "text": [
      "/tmp/ipykernel_1756835/2807316344.py:1: FutureWarning: Dropping of nuisance columns in DataFrame reductions (with 'numeric_only=None') is deprecated; in a future version this will raise TypeError.  Select only valid columns before calling the reduction.\n",
      "  print(df.mean())\n"
     ]
    }
   ],
   "source": [
    "print(df.mean())"
   ]
  },
  {
   "cell_type": "code",
   "execution_count": 61,
   "id": "4bd32792-9fc5-4245-a6ec-e12b727309e4",
   "metadata": {},
   "outputs": [
    {
     "name": "stdout",
     "output_type": "stream",
     "text": [
      "source                         166.763017\n",
      "target                         169.651274\n",
      "age                             66.656988\n",
      "wavelength                      15.582725\n",
      "mean_vessel_radii_baseline       1.611261\n",
      "delta_radii                      0.302883\n",
      "timepoint                        0.000000\n",
      "end-0y                         142.713310\n",
      "end-1x                          64.784054\n",
      "euclidean-dst                   35.080354\n",
      "end-1z                         142.379552\n",
      "neuron_distance_std                   NaN\n",
      "end-0x                          64.600385\n",
      "power                            6.909515\n",
      "radii                            1.927166\n",
      "mean_depth                      61.540394\n",
      "mean_neuron_distance            19.798410\n",
      "start_depth                     43.239660\n",
      "imaging_weight                   6.187644\n",
      "std_vessel_radii_baseline        0.989406\n",
      "num_vessel_radii_baseline        1.663580\n",
      "neuron_distance_min             20.303633\n",
      "days_post_injury                 4.293698\n",
      "end-0z                         142.131261\n",
      "end-1y                         142.725327\n",
      "vessel_id                     7774.196660\n",
      "radii_std                        0.469449\n",
      "start_weight                     7.202646\n",
      "weight                          61.075703\n",
      "current                          0.000000\n",
      "frequency                        0.000000\n",
      "dtype: float64\n"
     ]
    },
    {
     "name": "stderr",
     "output_type": "stream",
     "text": [
      "/tmp/ipykernel_1756835/2597523637.py:1: FutureWarning: Dropping of nuisance columns in DataFrame reductions (with 'numeric_only=None') is deprecated; in a future version this will raise TypeError.  Select only valid columns before calling the reduction.\n",
      "  print(df.std())\n"
     ]
    }
   ],
   "source": [
    "print(df.std())"
   ]
  },
  {
   "cell_type": "code",
   "execution_count": 25,
   "id": "815e0d40-42ed-4405-b0b7-663017cb6c0f",
   "metadata": {},
   "outputs": [],
   "source": [
    "df['source2']=df['source'].astype('string') + df['scan'] + df['subject']\n",
    "df['target2']=df['target'].astype('string') + df['scan'] + df['subject']"
   ]
  },
  {
   "cell_type": "code",
   "execution_count": 26,
   "id": "82e9c3c2-c7e3-4feb-aea2-03486cf6f30b",
   "metadata": {},
   "outputs": [],
   "source": [
    "junctions = np.unique(np.concatenate((df['source2'].to_numpy(),df['target2'].to_numpy())), return_counts=True)"
   ]
  },
  {
   "cell_type": "code",
   "execution_count": 27,
   "id": "1341204f-1863-45cd-80e6-3633837efd84",
   "metadata": {},
   "outputs": [],
   "source": [
    "_junctions = junctions[0][junctions[1]>2]"
   ]
  },
  {
   "cell_type": "code",
   "execution_count": 28,
   "id": "a27a0cb7-726e-4ed2-b91f-d37d2f12c5a0",
   "metadata": {},
   "outputs": [
    {
     "data": {
      "text/plain": [
       "6193"
      ]
     },
     "execution_count": 28,
     "metadata": {},
     "output_type": "execute_result"
    }
   ],
   "source": [
    "len(_junctions)"
   ]
  },
  {
   "cell_type": "code",
   "execution_count": 15,
   "id": "aad2f411-c255-44cf-abd4-1cddf12d09e3",
   "metadata": {},
   "outputs": [
    {
     "data": {
      "text/plain": [
       "5888"
      ]
     },
     "execution_count": 15,
     "metadata": {},
     "output_type": "execute_result"
    }
   ],
   "source": [
    "len(np.unique(df['source2'][df['source2'].isin(_junctions)]))"
   ]
  },
  {
   "cell_type": "code",
   "execution_count": 16,
   "id": "d7bc20c2-a6cb-4567-8f7e-b0b9c368b76d",
   "metadata": {},
   "outputs": [],
   "source": [
    "res = []\n",
    "for junc in _junctions:\n",
    "    if junc in df['source2'].to_numpy():\n",
    "        res.append(df[df['source2']==junc]['end-0x'].iloc[0])\n",
    "    elif junc in df['target2'].to_numpy():\n",
    "        res.append(df[df['target2']==junc]['end-1x'].iloc[0])\n",
    "    else:\n",
    "        print('error')\n",
    "        break"
   ]
  },
  {
   "cell_type": "code",
   "execution_count": 17,
   "id": "75b9fcfd-a0cf-4517-a627-e4f5f3f9daa0",
   "metadata": {},
   "outputs": [],
   "source": [
    "#plt.hist(res)"
   ]
  },
  {
   "cell_type": "code",
   "execution_count": 29,
   "id": "edc0286a-a115-4c1b-b489-c2cd2e746fb6",
   "metadata": {},
   "outputs": [
    {
     "name": "stderr",
     "output_type": "stream",
     "text": [
      "/tmp/ipykernel_1756835/1945298023.py:1: SettingWithCopyWarning: \n",
      "A value is trying to be set on a copy of a slice from a DataFrame\n",
      "\n",
      "See the caveats in the documentation: https://pandas.pydata.org/pandas-docs/stable/user_guide/indexing.html#returning-a-view-versus-a-copy\n",
      "  df['mean_depth'][df['start_depth']==249.2] = df['mean_depth'][df['start_depth']==249.2] + 249.2\n",
      "/tmp/ipykernel_1756835/1945298023.py:2: SettingWithCopyWarning: \n",
      "A value is trying to be set on a copy of a slice from a DataFrame\n",
      "\n",
      "See the caveats in the documentation: https://pandas.pydata.org/pandas-docs/stable/user_guide/indexing.html#returning-a-view-versus-a-copy\n",
      "  df['mean_depth'][df['start_depth']==250.8] = 250.8 - df['mean_depth'][df['start_depth']==250.8]\n",
      "/tmp/ipykernel_1756835/1945298023.py:3: SettingWithCopyWarning: \n",
      "A value is trying to be set on a copy of a slice from a DataFrame\n",
      "\n",
      "See the caveats in the documentation: https://pandas.pydata.org/pandas-docs/stable/user_guide/indexing.html#returning-a-view-versus-a-copy\n",
      "  df['mean_depth'][df['start_depth']==500] = 500 - df['mean_depth'][df['start_depth']==500]\n"
     ]
    }
   ],
   "source": [
    "df['mean_depth'][df['start_depth']==249.2] = df['mean_depth'][df['start_depth']==249.2] + 249.2\n",
    "df['mean_depth'][df['start_depth']==250.8] = 250.8 - df['mean_depth'][df['start_depth']==250.8] \n",
    "df['mean_depth'][df['start_depth']==500] = 500 - df['mean_depth'][df['start_depth']==500] "
   ]
  },
  {
   "cell_type": "code",
   "execution_count": 19,
   "id": "61d9fbc5-6f93-400d-ab6e-db602c4c48eb",
   "metadata": {},
   "outputs": [
    {
     "name": "stderr",
     "output_type": "stream",
     "text": [
      "/tmp/ipykernel_1756835/836843878.py:1: SettingWithCopyWarning: \n",
      "A value is trying to be set on a copy of a slice from a DataFrame\n",
      "\n",
      "See the caveats in the documentation: https://pandas.pydata.org/pandas-docs/stable/user_guide/indexing.html#returning-a-view-versus-a-copy\n",
      "  df['end-0x'][df['start_depth']==249.2] = df['end-0x'][df['start_depth']==249.2] + 249.2\n",
      "/tmp/ipykernel_1756835/836843878.py:2: SettingWithCopyWarning: \n",
      "A value is trying to be set on a copy of a slice from a DataFrame\n",
      "\n",
      "See the caveats in the documentation: https://pandas.pydata.org/pandas-docs/stable/user_guide/indexing.html#returning-a-view-versus-a-copy\n",
      "  df['end-0x'][df['start_depth']==250.8] = 250.8 - df['end-0x'][df['start_depth']==250.8]\n",
      "/tmp/ipykernel_1756835/836843878.py:3: SettingWithCopyWarning: \n",
      "A value is trying to be set on a copy of a slice from a DataFrame\n",
      "\n",
      "See the caveats in the documentation: https://pandas.pydata.org/pandas-docs/stable/user_guide/indexing.html#returning-a-view-versus-a-copy\n",
      "  df['end-0x'][df['start_depth']==500] = 500 - df['end-0x'][df['start_depth']==500]\n",
      "/tmp/ipykernel_1756835/836843878.py:4: SettingWithCopyWarning: \n",
      "A value is trying to be set on a copy of a slice from a DataFrame\n",
      "\n",
      "See the caveats in the documentation: https://pandas.pydata.org/pandas-docs/stable/user_guide/indexing.html#returning-a-view-versus-a-copy\n",
      "  df['end-1x'][df['start_depth']==249.2] = df['end-1x'][df['start_depth']==249.2] + 249.2\n",
      "/tmp/ipykernel_1756835/836843878.py:5: SettingWithCopyWarning: \n",
      "A value is trying to be set on a copy of a slice from a DataFrame\n",
      "\n",
      "See the caveats in the documentation: https://pandas.pydata.org/pandas-docs/stable/user_guide/indexing.html#returning-a-view-versus-a-copy\n",
      "  df['end-1x'][df['start_depth']==250.8] = 250.8 - df['end-1x'][df['start_depth']==250.8]\n",
      "/tmp/ipykernel_1756835/836843878.py:6: SettingWithCopyWarning: \n",
      "A value is trying to be set on a copy of a slice from a DataFrame\n",
      "\n",
      "See the caveats in the documentation: https://pandas.pydata.org/pandas-docs/stable/user_guide/indexing.html#returning-a-view-versus-a-copy\n",
      "  df['end-1x'][df['start_depth']==500] = 500 - df['end-1x'][df['start_depth']==500]\n"
     ]
    }
   ],
   "source": [
    "df['end-0x'][df['start_depth']==249.2] = df['end-0x'][df['start_depth']==249.2] + 249.2\n",
    "df['end-0x'][df['start_depth']==250.8] = 250.8 - df['end-0x'][df['start_depth']==250.8] \n",
    "df['end-0x'][df['start_depth']==500] = 500 - df['end-0x'][df['start_depth']==500] \n",
    "df['end-1x'][df['start_depth']==249.2] = df['end-1x'][df['start_depth']==249.2] + 249.2\n",
    "df['end-1x'][df['start_depth']==250.8] = 250.8 - df['end-1x'][df['start_depth']==250.8] \n",
    "df['end-1x'][df['start_depth']==500] = 500 - df['end-1x'][df['start_depth']==500] "
   ]
  },
  {
   "cell_type": "code",
   "execution_count": 30,
   "id": "d70b2ac6-d72d-4362-b406-afd480065758",
   "metadata": {},
   "outputs": [
    {
     "data": {
      "text/plain": [
       "(array([ 879., 1517., 1780., 1982., 1233., 1156., 1418., 1062.,  773.,\n",
       "         333.]),\n",
       " array([  2.68043478,  52.48953416, 102.29863354, 152.10773292,\n",
       "        201.9168323 , 251.72593168, 301.53503106, 351.34413043,\n",
       "        401.15322981, 450.96232919, 500.77142857]),\n",
       " <BarContainer object of 10 artists>)"
      ]
     },
     "execution_count": 30,
     "metadata": {},
     "output_type": "execute_result"
    },
    {
     "data": {
      "image/png": "[encoded data removed]",
      "text/plain": [
       "<Figure size 432x288 with 1 Axes>"
      ]
     },
     "metadata": {
      "needs_background": "light"
     },
     "output_type": "display_data"
    }
   ],
   "source": [
    "plt.hist(df['mean_depth'])"
   ]
  },
  {
   "cell_type": "code",
   "execution_count": 31,
   "id": "cddf0881-2549-46bd-b105-bc624d771abf",
   "metadata": {},
   "outputs": [
    {
     "data": {
      "image/png": "[encoded data removed]",
      "text/plain": [
       "<Figure size 432x288 with 1 Axes>"
      ]
     },
     "metadata": {
      "needs_background": "light"
     },
     "output_type": "display_data"
    }
   ],
   "source": [
    "sns.kdeplot(data=df,x='mean_depth', multiple=\"stack\")\n",
    "plt.xlabel(r'Vessel Depth ($\\mu$m)',fontsize=16)\n",
    "plt.ylabel('PDF',fontsize=16)\n",
    "plt.xlim(0,500)\n",
    "plt.tight_layout()\n",
    "plt.savefig('vessel_depth.png')"
   ]
  },
  {
   "cell_type": "code",
   "execution_count": 32,
   "id": "1a24506f-7262-46f1-9f59-a4b2e84af3d4",
   "metadata": {},
   "outputs": [
    {
     "data": {
      "image/png": "[encoded data removed]",
      "text/plain": [
       "<Figure size 432x288 with 1 Axes>"
      ]
     },
     "metadata": {
      "needs_background": "light"
     },
     "output_type": "display_data"
    }
   ],
   "source": [
    "sns.kdeplot(data=df,x='weight', multiple=\"stack\")\n",
    "plt.xlabel(r'Vessel length ($\\mu$m)',fontsize=16)\n",
    "plt.ylabel('PDF',fontsize=16)\n",
    "plt.xlim(0,600)\n",
    "plt.tight_layout()\n",
    "plt.savefig('vessel_length.png')"
   ]
  },
  {
   "cell_type": "code",
   "execution_count": 33,
   "id": "94fd49ed-aa64-47fd-8efb-511c22366b7e",
   "metadata": {},
   "outputs": [
    {
     "data": {
      "image/png": "[encoded data removed]",
      "text/plain": [
       "<Figure size 432x288 with 1 Axes>"
      ]
     },
     "metadata": {
      "needs_background": "light"
     },
     "output_type": "display_data"
    }
   ],
   "source": [
    "sns.kdeplot(data=df,x='mean_vessel_radii_baseline', multiple=\"stack\")\n",
    "plt.xlabel(r'Vessel Radius ($\\mu$m)',fontsize=16)\n",
    "plt.ylabel('PDF',fontsize=16)\n",
    "plt.xlim(0,20)\n",
    "plt.tight_layout()\n",
    "plt.savefig('vessel_radius.png')"
   ]
  },
  {
   "cell_type": "code",
   "execution_count": 34,
   "id": "86731a34-80f5-44ac-bb8f-6d9f3e6d7e79",
   "metadata": {},
   "outputs": [
    {
     "data": {
      "image/png": "[encoded data removed]",
      "text/plain": [
       "<Figure size 432x288 with 1 Axes>"
      ]
     },
     "metadata": {
      "needs_background": "light"
     },
     "output_type": "display_data"
    }
   ],
   "source": [
    "sns.kdeplot(x=res, multiple='stack')\n",
    "plt.xlabel(r'Vessel Branch Point Depth ($\\mu$m)',fontsize=16)\n",
    "plt.ylabel('PDF',fontsize=16)\n",
    "plt.xlim(0,500)\n",
    "plt.tight_layout()\n",
    "plt.savefig('branch_depth.png')"
   ]
  },
  {
   "cell_type": "code",
   "execution_count": null,
   "id": "671735c8-1add-4ded-9c66-3faa7c06915e",
   "metadata": {},
   "outputs": [],
   "source": [
    "df.keys()"
   ]
  },
  {
   "cell_type": "code",
   "execution_count": null,
   "id": "224b375f-3576-4cd9-a406-d08ac00ac60d",
   "metadata": {},
   "outputs": [],
   "source": [
    "df_eff['delta_efficiency'] = df_eff['delta_efficiency']/10**15"
   ]
  },
  {
   "cell_type": "code",
   "execution_count": null,
   "id": "a0ac1d8e-e00d-4124-ac17-f4335ebb03c1",
   "metadata": {},
   "outputs": [],
   "source": [
    "df_eff"
   ]
  },
  {
   "cell_type": "code",
   "execution_count": null,
   "id": "9b5cd309-fe39-4f81-9922-5cbfeb75080b",
   "metadata": {},
   "outputs": [],
   "source": [
    "df"
   ]
  },
  {
   "cell_type": "code",
   "execution_count": 7,
   "id": "703cec27-f729-4f08-8454-0ccd774c9b40",
   "metadata": {},
   "outputs": [],
   "source": [
    "df.to_excel('assortativity.xlsx')\n",
    "df_eff.to_excel('efficiency.xlsx')"
   ]
  },
  {
   "cell_type": "code",
   "execution_count": null,
   "id": "91f197e4-8242-4f36-ae1c-df29b9926833",
   "metadata": {},
   "outputs": [],
   "source": [
    "print(np.mean(df_graph['boundary vertex'] + df_graph['interior_vertex']))\n",
    "print(np.std(df_graph['boundary vertex'] + df_graph['interior_vertex']))"
   ]
  },
  {
   "cell_type": "code",
   "execution_count": null,
   "id": "baac4fa8-cc99-454f-8503-7fda04cd47ae",
   "metadata": {},
   "outputs": [],
   "source": [
    "print(np.mean(df_graph['length_density']))\n",
    "print(np.std(df_graph['length_density']))"
   ]
  },
  {
   "cell_type": "code",
   "execution_count": null,
   "id": "1aa4c67b-bfd0-4a7e-a03d-26879e4df412",
   "metadata": {},
   "outputs": [],
   "source": [
    "np.sqrt(np.sum(df_graph['vessel_length_std']**2))/len(df_graph['vessel_length_std'])"
   ]
  },
  {
   "cell_type": "code",
   "execution_count": null,
   "id": "d75a09d9-853a-413c-827b-6c673a0803be",
   "metadata": {},
   "outputs": [],
   "source": [
    "print(np.std(df['weight']))"
   ]
  },
  {
   "cell_type": "code",
   "execution_count": 54,
   "id": "54b5c412-567c-45ef-9a96-ffa081bf12f9",
   "metadata": {},
   "outputs": [
    {
     "name": "stdout",
     "output_type": "stream",
     "text": [
      "vessel_num                  367.666667\n",
      "vessel_density             5705.798289\n",
      "length_density                0.400907\n",
      "interior_vertex             207.151515\n",
      "interior_vertex_density    3214.772694\n",
      "boundary vertex             128.727273\n",
      "vessel_length_mean           77.015047\n",
      "vessel_length_std            62.226600\n",
      "dtype: float64\n"
     ]
    },
    {
     "name": "stderr",
     "output_type": "stream",
     "text": [
      "/tmp/ipykernel_1756835/493269666.py:1: FutureWarning: Dropping of nuisance columns in DataFrame reductions (with 'numeric_only=None') is deprecated; in a future version this will raise TypeError.  Select only valid columns before calling the reduction.\n",
      "  print(df_graph.mean())\n"
     ]
    }
   ],
   "source": [
    "print(df_graph.mean())"
   ]
  },
  {
   "cell_type": "code",
   "execution_count": 55,
   "id": "f0bf7caf-2743-4239-bacd-fda09388c26c",
   "metadata": {},
   "outputs": [
    {
     "name": "stdout",
     "output_type": "stream",
     "text": [
      "vessel_num                  238.756239\n",
      "vessel_density             3705.244624\n",
      "length_density                0.216208\n",
      "interior_vertex             153.713435\n",
      "interior_vertex_density    2385.470138\n",
      "boundary vertex              52.335619\n",
      "vessel_length_mean           13.655980\n",
      "vessel_length_std             9.244494\n",
      "dtype: float64\n"
     ]
    },
    {
     "name": "stderr",
     "output_type": "stream",
     "text": [
      "/tmp/ipykernel_1756835/1986181701.py:1: FutureWarning: Dropping of nuisance columns in DataFrame reductions (with 'numeric_only=None') is deprecated; in a future version this will raise TypeError.  Select only valid columns before calling the reduction.\n",
      "  print(df_graph.std())\n"
     ]
    }
   ],
   "source": [
    "print(df_graph.std())"
   ]
  },
  {
   "cell_type": "code",
   "execution_count": null,
   "id": "78ad13a4-fb64-4eb9-bf27-be205e8fe75f",
   "metadata": {},
   "outputs": [],
   "source": [
    "np.std(df_graph['boundary vertex'])"
   ]
  },
  {
   "cell_type": "code",
   "execution_count": null,
   "id": "c3fb0d16-9dc0-4476-a7f8-c56df28a7d28",
   "metadata": {},
   "outputs": [],
   "source": [
    "len(np.unique(df_graph['subject']))"
   ]
  },
  {
   "cell_type": "code",
   "execution_count": null,
   "id": "2db14fc3-4261-4bba-9226-a1f3e3324d3a",
   "metadata": {},
   "outputs": [],
   "source": [
    "df_eff"
   ]
  },
  {
   "cell_type": "code",
   "execution_count": null,
   "id": "c9aa7757-31dc-45c5-83fc-74543dd56513",
   "metadata": {},
   "outputs": [],
   "source": [
    "np.array([d for n,d in graph.degree()]) == 3"
   ]
  },
  {
   "cell_type": "code",
   "execution_count": null,
   "id": "283fda05-9d14-4e98-9dc9-c8f6b0e97395",
   "metadata": {},
   "outputs": [],
   "source": [
    "!pip install ipgraph"
   ]
  },
  {
   "cell_type": "code",
   "execution_count": null,
   "id": "06110553-c7e0-42e7-8ab8-04472cd7fdf1",
   "metadata": {},
   "outputs": [],
   "source": [
    "list(nx.get_edge_attributes(graph,'weight').values())"
   ]
  },
  {
   "cell_type": "code",
   "execution_count": null,
   "id": "899bf087-1bab-4948-aec3-fb53a0cbd500",
   "metadata": {},
   "outputs": [],
   "source": [
    "_line_graph.nodes[edge]"
   ]
  },
  {
   "cell_type": "code",
   "execution_count": null,
   "id": "ad6778b5-b7f6-44e8-83c1-2409752b81ad",
   "metadata": {},
   "outputs": [],
   "source": [
    "_line_graph.edges[list(_line_graph.edges)[0]]"
   ]
  },
  {
   "cell_type": "code",
   "execution_count": null,
   "id": "837d1eaa-26d3-49b0-ac29-eb53dd52ad12",
   "metadata": {},
   "outputs": [],
   "source": [
    "edge"
   ]
  },
  {
   "cell_type": "code",
   "execution_count": null,
   "id": "ff6f2326-83bd-4e73-b3db-b51db13c5a80",
   "metadata": {},
   "outputs": [],
   "source": []
  }
 ],
 "metadata": {
  "kernelspec": {
   "display_name": "monai3.8",
   "language": "python",
   "name": "monai3.8"
  },
  "language_info": {
   "codemirror_mode": {
    "name": "ipython",
    "version": 3
   },
   "file_extension": ".py",
   "mimetype": "text/x-python",
   "name": "python",
   "nbconvert_exporter": "python",
   "pygments_lexer": "ipython3",
   "version": "3.8.10"
  }
 },
 "nbformat": 4,
 "nbformat_minor": 5
}
