{
 "cells": [
  {
   "cell_type": "code",
   "execution_count": 1,
   "id": "178ba64d",
   "metadata": {},
   "outputs": [],
   "source": [
    "import numpy as np\n",
    "from skimage import io\n",
    "from pathlib import Path\n",
    "import re\n",
    "import ants\n",
    "from skimage.transform import resize\n",
    "from tqdm import tqdm\n",
    "from skimage.morphology import skeletonize_3d, binary_dilation, binary_closing\n",
    "from scipy.ndimage import distance_transform_edt\n",
    "import tifffile as tif\n",
    "from scipy.ndimage import binary_fill_holes\n",
    "import cc3d\n",
    "from scipy.io import loadmat, savemat\n",
    "#import skan\n",
    "import sknw\n",
    "import networkx as nx\n",
    "import pickle\n",
    "import os\n",
    "import matplotlib.pyplot as plt\n",
    "import pandas as pd\n",
    "import time\n",
    "import scipy as sp\n",
    "import vg\n",
    "from pytransform3d.rotations import matrix_from_axis_angle\n",
    "import multiprocessing\n",
    "from scipy.ndimage import convolve as conv\n",
    "from scipy.stats import multivariate_normal\n",
    "from skimage import color, data, restoration\n",
    "from RedLionfishDeconv import doRLDeconvolutionFromNpArrays"
   ]
  },
  {
   "cell_type": "markdown",
   "id": "47574f10",
   "metadata": {},
   "source": [
    "# Define connected componnet removal"
   ]
  },
  {
   "cell_type": "code",
   "execution_count": 2,
   "id": "9b8879e5",
   "metadata": {},
   "outputs": [],
   "source": [
    "def remove_small_comps_3d(image, thresh = 500):\n",
    "    \"\"\"\n",
    "    \n",
    "\n",
    "    Parameters\n",
    "    ----------\n",
    "    image : binary np array with uint8 elements\n",
    "        3d numpy matrix, connected components will be removed form this image\n",
    "    thresh : int64\n",
    "        smallest connected components to keep\n",
    "\n",
    "    Returns\n",
    "    -------\n",
    "    np.array with uint8 elements, binary\n",
    "        binary image with connected components below the threshold removed.\n",
    "\n",
    "    \"\"\"\n",
    "    img_lab, N = cc3d.connected_components(image,return_N=True)\n",
    "    unique, counts = np.unique(img_lab, return_counts=True)\n",
    "    unique_keep = unique[counts>thresh]\n",
    "    unique_keep = np.delete(unique_keep,[0])\n",
    "    img_filt = np.zeros(img_lab.shape).astype('int8')\n",
    "    img_filt[np.isin(img_lab,unique_keep)] = 1\n",
    "    return img_filt.astype('uint8')   \n",
    "\n",
    "def fill_holes(img,thresh=100):\n",
    "    #res = np.zeros(img.shape)\n",
    "    for i in np.unique(img)[::-1]:\n",
    "        _tmp = (img==i)*1.0\n",
    "        _tmp = _tmp.astype('int8')\n",
    "        _tmp = remove_small_comps_3d(_tmp,thresh=thresh)\n",
    "        img[_tmp==1] = i\n",
    "    res = img.astype('int8')\n",
    "    return res"
   ]
  },
  {
   "cell_type": "markdown",
   "id": "ce5b7e27",
   "metadata": {},
   "source": [
    "# register raw iamges"
   ]
  },
  {
   "cell_type": "code",
   "execution_count": 3,
   "id": "4010be15",
   "metadata": {},
   "outputs": [
    {
     "name": "stdout",
     "output_type": "stream",
     "text": [
      "381\n",
      "/home/rozakmat/projects/rrg-bojana/data/THY1-TBI/20201201_35/XYZ1_res_0001.tif\n"
     ]
    }
   ],
   "source": [
    "mouse_ids_path = Path('/home/rozakmat/projects/rrg-bojana/data/THY1-TBI')#each mouse has its own folder with raw data in it\n",
    "mouse_ids = list(mouse_ids_path.glob('*?[0-9]/*res*?[0-9].tif'))#grab folder names/mouse ids\n",
    "images = sorted([x.as_posix() for x in mouse_ids if '_0001' in x.as_posix()])\n",
    "print(len(images))\n",
    "print(images[182])"
   ]
  },
  {
   "cell_type": "code",
   "execution_count": null,
   "id": "537af5be",
   "metadata": {},
   "outputs": [],
   "source": [
    "for i in tqdm(range(len(images))):\n",
    "    basename = re.sub('.tif','_warped.tif',os.path.basename(os.path.dirname(images[i])) + '-' + os.path.basename(images[i]))\n",
    "    new_file_name = 'matt_raw_warped/' + basename # Get file name for output\n",
    "    if not os.path.exists(new_file_name): #check if already registered\n",
    "        fix_numpy = io.imread(re.sub('_0001','',images[i]))# read baseline image\n",
    "        break\n",
    "        #fix_numpy = np.swapaxes(fix_numpy,1,3)\n",
    "        mov_numpy = io.imread(images[i]) # read followup image\n",
    "        #mov_numpy = np.swapaxes(mov_numpy,1,3)\n",
    "        fix = ants.from_numpy(np.float32(fix_numpy[:,0])) #convert images to ants \n",
    "        mov = ants.from_numpy(np.float32(mov_numpy[:,0]))\n",
    "        mytx = ants.registration(fixed = fix,\n",
    "                                moving = mov,\n",
    "                                type_of_transform = 'Rigid'\n",
    "                                ) # register images and get displacment\n",
    "        warpedraw_1 = ants.apply_transforms(fixed = fix,\n",
    "                                            moving = ants.from_numpy(np.float32(mov_numpy[:,0])),\n",
    "                                            transformlist = mytx['fwdtransforms'],\n",
    "                                            interpolator = 'linear'\n",
    "                                            ) # move vascular chanel\n",
    "        warpedraw_2 = ants.apply_transforms(fixed = fix,\n",
    "                                            moving = ants.from_numpy(np.float32(mov_numpy[:,1])),\n",
    "                                            transformlist = mytx['fwdtransforms'],\n",
    "                                            interpolator = 'linear'\n",
    "                                            ) # move neuron chanel\n",
    "        mov_numpy[:,0,:,:] = warpedraw_1[:,:,:]\n",
    "        mov_numpy[:,1,:,:] = warpedraw_2[:,:,:]#combine moved chanels int one image\n",
    "        basename = re.sub('.tif','_warped.tif',os.path.basename(os.path.dirname(images[i])) + '-' + os.path.basename(images[i]))\n",
    "        new_file_name = 'matt_raw_warped/' + basename\n",
    "        io.imsave(new_file_name,mov_numpy)# save warped followup image and baseline image\n",
    "        io.imsave(re.sub('_0001','',new_file_name),fix_numpy)"
   ]
  },
  {
   "cell_type": "markdown",
   "id": "46e204f6-a063-4579-ad8a-5134b44a39e3",
   "metadata": {},
   "source": [
    "# predict using trained model\n",
    "run unetr prediction with registered raw images, orediction will be in same coordinate system \\\n",
    "run predict_matt_warped.py via predict_matt_warped_array-Copy1.sh"
   ]
  },
  {
   "cell_type": "markdown",
   "id": "a38d1533-8267-4390-9ee2-c7558f5aee8b",
   "metadata": {},
   "source": [
    "# Binarize prediction output"
   ]
  },
  {
   "cell_type": "code",
   "execution_count": 13,
   "id": "577b39db-4ee8-4eea-a5b4-52a4f5414078",
   "metadata": {},
   "outputs": [
    {
     "name": "stdout",
     "output_type": "stream",
     "text": [
      "0\n"
     ]
    }
   ],
   "source": [
    "#directory = Path('matt_preds_registered')\n",
    "#files  = directory.glob('*-*_mean.npy')\n",
    "#files = sorted([x.as_posix() for x in files if (time.time() - os.path.getmtime(re.sub('mean','seg',x.as_posix())))/3600>10])\n",
    "files = sorted([x for x in files if (time.time() - os.path.getmtime(re.sub('mean','seg',x)))/3600>10])\n",
    "np.random.shuffle(files)\n",
    "print(len(files))\n",
    "#files"
   ]
  },
  {
   "cell_type": "code",
   "execution_count": 11,
   "id": "55de248b-1095-4aa8-a30e-e292103cdc43",
   "metadata": {},
   "outputs": [
    {
     "name": "stderr",
     "output_type": "stream",
     "text": [
      "  0%|          | 0/27 [00:00<?, ?it/s]"
     ]
    },
    {
     "name": "stdout",
     "output_type": "stream",
     "text": [
      "matt_preds_registered/20200525_32-XYZres206_warped_mean.npy\n"
     ]
    },
    {
     "name": "stderr",
     "output_type": "stream",
     "text": [
      "  0%|          | 0/27 [00:31<?, ?it/s]\n"
     ]
    },
    {
     "ename": "KeyboardInterrupt",
     "evalue": "",
     "output_type": "error",
     "traceback": [
      "\u001b[0;31m---------------------------------------------------------------------------\u001b[0m",
      "\u001b[0;31mKeyboardInterrupt\u001b[0m                         Traceback (most recent call last)",
      "\u001b[0;32m/tmp/ipykernel_881081/3985216481.py\u001b[0m in \u001b[0;36m<module>\u001b[0;34m\u001b[0m\n\u001b[1;32m     13\u001b[0m         \u001b[0mseg\u001b[0m \u001b[0;34m=\u001b[0m \u001b[0;34m(\u001b[0m\u001b[0mseg\u001b[0m\u001b[0;34m==\u001b[0m\u001b[0;36m1\u001b[0m\u001b[0;34m)\u001b[0m\u001b[0;34m*\u001b[0m\u001b[0;36m1\u001b[0m\u001b[0;34m\u001b[0m\u001b[0;34m\u001b[0m\u001b[0m\n\u001b[1;32m     14\u001b[0m         \u001b[0mseg\u001b[0m \u001b[0;34m=\u001b[0m \u001b[0mfill_holes\u001b[0m\u001b[0;34m(\u001b[0m\u001b[0mseg\u001b[0m\u001b[0;34m)\u001b[0m\u001b[0;34m\u001b[0m\u001b[0;34m\u001b[0m\u001b[0m\n\u001b[0;32m---> 15\u001b[0;31m         \u001b[0mseg\u001b[0m \u001b[0;34m=\u001b[0m \u001b[0msp\u001b[0m\u001b[0;34m.\u001b[0m\u001b[0mndimage\u001b[0m\u001b[0;34m.\u001b[0m\u001b[0mzoom\u001b[0m\u001b[0;34m(\u001b[0m\u001b[0mseg\u001b[0m\u001b[0;34m,\u001b[0m\u001b[0;34m(\u001b[0m\u001b[0;36m3\u001b[0m\u001b[0;34m,\u001b[0m\u001b[0;36m3\u001b[0m\u001b[0;34m,\u001b[0m\u001b[0;36m3\u001b[0m\u001b[0;34m)\u001b[0m\u001b[0;34m,\u001b[0m\u001b[0morder\u001b[0m\u001b[0;34m=\u001b[0m\u001b[0;36m0\u001b[0m\u001b[0;34m)\u001b[0m\u001b[0;34m\u001b[0m\u001b[0;34m\u001b[0m\u001b[0m\n\u001b[0m\u001b[1;32m     16\u001b[0m         \u001b[0mnp\u001b[0m\u001b[0;34m.\u001b[0m\u001b[0msave\u001b[0m\u001b[0;34m(\u001b[0m\u001b[0mre\u001b[0m\u001b[0;34m.\u001b[0m\u001b[0msub\u001b[0m\u001b[0;34m(\u001b[0m\u001b[0;34m'mean'\u001b[0m\u001b[0;34m,\u001b[0m\u001b[0;34m'seg'\u001b[0m\u001b[0;34m,\u001b[0m\u001b[0mfile\u001b[0m\u001b[0;34m)\u001b[0m\u001b[0;34m,\u001b[0m\u001b[0mseg\u001b[0m\u001b[0;34m)\u001b[0m\u001b[0;34m\u001b[0m\u001b[0;34m\u001b[0m\u001b[0m\n\u001b[1;32m     17\u001b[0m         \u001b[0;31m#savemat(re.sub('mean.npy','seg.mat',file),{'FinalImage':fill_holes(binary_dilation(binary_dilation(seg)))})\u001b[0m\u001b[0;34m\u001b[0m\u001b[0;34m\u001b[0m\u001b[0;34m\u001b[0m\u001b[0m\n",
      "\u001b[0;32m/lustre06/project/6023374/rozakmat/monai3.8/lib/python3.8/site-packages/scipy/ndimage/_interpolation.py\u001b[0m in \u001b[0;36mzoom\u001b[0;34m(input, zoom, output, order, mode, cval, prefilter, grid_mode)\u001b[0m\n\u001b[1;32m    814\u001b[0m                         where=zoom_div != 0)\n\u001b[1;32m    815\u001b[0m     \u001b[0mzoom\u001b[0m \u001b[0;34m=\u001b[0m \u001b[0mnumpy\u001b[0m\u001b[0;34m.\u001b[0m\u001b[0mascontiguousarray\u001b[0m\u001b[0;34m(\u001b[0m\u001b[0mzoom\u001b[0m\u001b[0;34m)\u001b[0m\u001b[0;34m\u001b[0m\u001b[0;34m\u001b[0m\u001b[0m\n\u001b[0;32m--> 816\u001b[0;31m     _nd_image.zoom_shift(filtered, zoom, None, output, order, mode, cval, npad,\n\u001b[0m\u001b[1;32m    817\u001b[0m                          grid_mode)\n\u001b[1;32m    818\u001b[0m     \u001b[0;32mreturn\u001b[0m \u001b[0moutput\u001b[0m\u001b[0;34m\u001b[0m\u001b[0;34m\u001b[0m\u001b[0m\n",
      "\u001b[0;31mKeyboardInterrupt\u001b[0m: "
     ]
    }
   ],
   "source": [
    "min_prob = 0.75\n",
    "max_var = 0.1\n",
    "for file in tqdm(files[::-1]):\n",
    "    if (time.time() - os.path.getmtime(re.sub('mean','seg',file)))/3600>10:\n",
    "    #if not os.path.exists(re.sub('mean','seg',file)):\n",
    "        print(file)\n",
    "        mean = np.load(file)\n",
    "        std = np.load(re.sub('mean','std',file))\n",
    "        seg = np.zeros(mean.shape[1:])\n",
    "        seg[(mean[1,:,:,:] > min_prob) * (std[1,:,:,:] < max_var)] = 1\n",
    "        seg[(mean[2,:,:,:] > min_prob) * (std[2,:,:,:] < max_var)] = 2\n",
    "        seg = seg.astype('int8')\n",
    "        seg = (seg==1)*1\n",
    "        seg = fill_holes(seg)\n",
    "        seg = sp.ndimage.zoom(seg,(3,3,3),order=0)\n",
    "        np.save(re.sub('mean','seg',file),seg)\n",
    "        #savemat(re.sub('mean.npy','seg.mat',file),{'FinalImage':fill_holes(binary_dilation(binary_dilation(seg)))})\n",
    "        #tif.imwrite(re.sub('mean.npy','seg.tif',file),seg)"
   ]
  },
  {
   "cell_type": "markdown",
   "id": "0f9dc3b9-a4b3-4ed8-a416-22f5e5cc69e5",
   "metadata": {},
   "source": [
    "# Get distance transform of neuron segmentation"
   ]
  },
  {
   "cell_type": "code",
   "execution_count": null,
   "id": "0e9e9eea-315e-44dd-be5b-5e53d5bd0098",
   "metadata": {},
   "outputs": [],
   "source": [
    "directory = Path('matt_preds_registered')\n",
    "files  = directory.glob('*-*_mean.npy')\n",
    "files = sorted([x.as_posix() for x in files])\n",
    "np.random.shuffle(files)"
   ]
  },
  {
   "cell_type": "code",
   "execution_count": null,
   "id": "5a2f1d5f-c29a-44f6-9b5c-83556204e027",
   "metadata": {},
   "outputs": [],
   "source": [
    "min_prob = 0.75\n",
    "max_var = 0.1\n",
    "for file in tqdm(files[::-1]):\n",
    "    #if (time.time() - os.path.getmtime(re.sub('mean','seg_nrn_dst',file)))/3600>48:\n",
    "    if not os.path.exists(re.sub('mean','seg_nrn_dst',file)):\n",
    "        mean = np.load(file)\n",
    "        std = np.load(re.sub('mean','std',file))\n",
    "        seg = np.zeros(mean.shape[1:])\n",
    "        seg[(mean[1,:,:,:] > min_prob) * (std[1,:,:,:] < max_var)] = 1\n",
    "        seg[(mean[2,:,:,:] > min_prob) * (std[2,:,:,:] < max_var)] = 2\n",
    "        seg = seg.astype('int8')\n",
    "        seg = (seg==2)*1\n",
    "        np.save(re.sub('mean','seg_nrn',file),seg)\n",
    "        np.save(re.sub('mean','seg_nrn_dst',file),distance_transform_edt(1-seg))"
   ]
  },
  {
   "cell_type": "markdown",
   "id": "0a0c0658-4dcd-479c-8d63-d972dd97b347",
   "metadata": {},
   "source": [
    "# get predicted images and save matlab .mat of intersection"
   ]
  },
  {
   "cell_type": "code",
   "execution_count": null,
   "id": "de73c654",
   "metadata": {},
   "outputs": [],
   "source": [
    "directory_seg = Path('matt_preds_registered')\n",
    "images = list(directory_seg.glob('*_0001_warped_seg.npy'))\n",
    "images = sorted([x.as_posix() for x in images])\n",
    "np\n",
    "print(len(images))"
   ]
  },
  {
   "cell_type": "code",
   "execution_count": null,
   "id": "6540342e-dad7-42c5-bd78-05072c4c61a1",
   "metadata": {},
   "outputs": [],
   "source": [
    "for image in tqdm(images[::-1]):\n",
    "    if not os.path.exists(re.sub('_warped_seg.npy','_seg_warped_single.mat',re.sub('_0001','',image))):\n",
    "        print(image)\n",
    "        img_0001 = np.load(image)\n",
    "        img = np.load(re.sub('_0001','',image))\n",
    "        seg = img*img_0001\n",
    "        seg = (seg==1)*1\n",
    "        seg = seg.astype('int8')\n",
    "        seg = fill_holes(seg)\n",
    "        savemat(re.sub('_warped_seg.npy','_seg_warped_single.mat',re.sub('_0001','',image)),{'FinalImage':fill_holes(binary_dilation(seg))})"
   ]
  },
  {
   "cell_type": "markdown",
   "id": "5ff0b5ca-031a-439c-9810-7f693af7bacf",
   "metadata": {},
   "source": [
    "# Generate Graphs"
   ]
  },
  {
   "cell_type": "code",
   "execution_count": null,
   "id": "29a85f96-992f-4f32-9ca7-9e56f41138ed",
   "metadata": {},
   "outputs": [],
   "source": [
    "directory = Path('matt_preds_registered')\n",
    "files_seg_0001 = directory.glob('*_0001_warped_seg.npy')\n",
    "files_seg_0001 = sorted([x.as_posix() for x in files_seg_0001])\n",
    "np.random.shuffle(files_seg_0001)\n",
    "len(files_seg_0001)"
   ]
  },
  {
   "cell_type": "code",
   "execution_count": null,
   "id": "0c44109a-8051-421d-bb15-a77c730df0c6",
   "metadata": {},
   "outputs": [],
   "source": [
    "for file_0001 in tqdm(files_seg_0001[::-1]):\n",
    "    #if not os.path.exists(re.sub('_0001_warped_seg.npy','_warped.pickle',file_0001)):\n",
    "    if (time.time() - os.path.getmtime(re.sub('_0001_warped_seg.npy','_warped.pickle',file_0001)))/3600>10:\n",
    "        file = file_0001\n",
    "        skel_file = re.sub('_0001_warped_seg.npy','_skel_warped_single.mat',file)\n",
    "        skel = loadmat(skel_file)['FilteredImage']\n",
    "        if np.sum(skel) != 0:\n",
    "            io.imsave(re.sub('_0001_warped_seg.npy','_single_skel.tif',file),skel)\n",
    "            graph = sknw.build_sknw(skel, multi=False)\n",
    "            print(len(graph.edges))            \n",
    "            nx.write_gpickle(graph,re.sub('_0001_warped_seg.npy','_warped.pickle',file))"
   ]
  },
  {
   "cell_type": "code",
   "execution_count": null,
   "id": "da9edd92-5fd3-4b8c-b04b-dacd879ce9ab",
   "metadata": {},
   "outputs": [],
   "source": []
  }
 ],
 "metadata": {
  "kernelspec": {
   "display_name": "monai3.8",
   "language": "python",
   "name": "monai3.8"
  },
  "language_info": {
   "codemirror_mode": {
    "name": "ipython",
    "version": 3
   },
   "file_extension": ".py",
   "mimetype": "text/x-python",
   "name": "python",
   "nbconvert_exporter": "python",
   "pygments_lexer": "ipython3",
   "version": "3.8.10"
  }
 },
 "nbformat": 4,
 "nbformat_minor": 5
}
