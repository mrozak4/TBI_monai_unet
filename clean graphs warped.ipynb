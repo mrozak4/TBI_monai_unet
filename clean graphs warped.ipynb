{
 "cells": [
  {
   "cell_type": "code",
   "execution_count": 3,
   "metadata": {},
   "outputs": [],
   "source": [
    "import numpy as np\n",
    "from pathlib import Path\n",
    "import re\n",
    "from tqdm import tqdm\n",
    "from skimage import io\n",
    "from skimage.morphology import skeletonize_3d, binary_dilation\n",
    "from scipy.ndimage import distance_transform_edt\n",
    "import tifffile as tif\n",
    "from scipy.ndimage import binary_fill_holes \n",
    "import cc3d\n",
    "from scipy.io import loadmat, savemat\n",
    "import skan\n",
    "import networkx as nx\n",
    "from collections import Counter\n",
    "import pandas as pd"
   ]
  },
  {
   "cell_type": "code",
   "execution_count": null,
   "metadata": {},
   "outputs": [],
   "source": []
  },
  {
   "cell_type": "code",
   "execution_count": 4,
   "metadata": {},
   "outputs": [
    {
     "data": {
      "text/plain": [
       "'james_preds/XYZres006_0001_warped_radii.pickle'"
      ]
     },
     "execution_count": 4,
     "metadata": {},
     "output_type": "execute_result"
    }
   ],
   "source": [
    "directory = Path('james_preds')\n",
    "files  = directory.glob('*_warped_radii.pickle')\n",
    "files = sorted([x.as_posix() for x in files])\n",
    "files[0]"
   ]
  },
  {
   "cell_type": "code",
   "execution_count": 10,
   "metadata": {},
   "outputs": [
    {
     "name": "stderr",
     "output_type": "stream",
     "text": [
      "100%|██████████| 94/94 [00:07<00:00, 12.20it/s]\n"
     ]
    }
   ],
   "source": [
    "for i in tqdm(range(len(files))):\n",
    "    graph = nx.read_gpickle(files[i])\n",
    "    deg_1_nodes = [node for (node, val) in graph.degree() if val == 1]\n",
    "    for j in deg_1_nodes:\n",
    "        edge = list(graph.edges(j))[0]\n",
    "        if graph[edge[0]][edge[1]]['weight'] < 15:\n",
    "            graph.remove_edge(edge[0],edge[1])\n",
    "            if edge[0] in deg_1_nodes:\n",
    "                deg_1_nodes.remove(edge[0])\n",
    "            if edge[1] in deg_1_nodes:\n",
    "                deg_1_nodes.remove(edge[1])\n",
    "    #deg_1_nodes = [node for (node, val) in graph.degree() if val == 1]\n",
    "    #deg_1_edges = [x for x in list(graph.edges) if any(val in x for val in deg_1_nodes)]\n",
    "    #index1=0\n",
    "    #finished = []\n",
    "    #while index1 < len(deg_1_edges):\n",
    "    #    deg_1_nodes = [node for (node, val) in graph.degree() if val == 1]\n",
    "    #    deg_1_edges = [x for x in list(graph.edges) if any(val in x for val in deg_1_nodes) and x not in finished]\n",
    "    #    j = deg_1_edges[index1]\n",
    "    #    index2 = 0\n",
    "    #    while index2 < len(deg_1_edges):\n",
    "    #        k = deg_1_edges[index2]\n",
    "    #        index2 += 1\n",
    "    #        if index2 == len(deg_1_edges):\n",
    "    #            index1 += 1\n",
    "    #            finished.append(j)\n",
    "    #        if np.all(j != k):\n",
    "    #            path0 = graph[j[0]][j[1]]['pts']\n",
    "    #            path1 = graph[k[0]][k[1]]['pts']\n",
    "    #            index = 5\n",
    "    #            if graph.degree(j[0]) == 1:\n",
    "    #                new_vertex_1 = j[0]\n",
    "    #            else:\n",
    "    #                new_vertex_1 = j[1]\n",
    "    #            if graph.degree(k[0]) == 1:\n",
    "    #                new_vertex_2 = k[0]\n",
    "    #            else:\n",
    "    #                new_vertex_2 = k[1]\n",
    "    #            if np.all(np.abs(path0[-1] - path1[0]) <= index ):\n",
    "    #                graph.add_edge(new_vertex_1,new_vertex_2)\n",
    "    #                graph[new_vertex_1][new_vertex_2]['weight'] = graph[j[0]][j[1]]['weight'] + graph[k[0]][k[1]]['weight']\n",
    "    #                graph[new_vertex_1][new_vertex_2]['pts'] = np.concatenate(\n",
    "    #                    (graph[j[0]][j[1]]['pts'],\n",
    "    #                     graph[k[0]][k[1]]['pts'][:]), \n",
    "    #                     axis=0)\n",
    "    #                graph[new_vertex_1][new_vertex_2]['path_weights'] = np.concatenate(\n",
    "    #                    (graph[j[0]][j[1]]['path_weights'],\n",
    "    #                     graph[k[0]][k[1]]['path_weights'][:]), \n",
    "    #                    axis=0)\n",
    "    #                graph[new_vertex_1][new_vertex_2]['radii'] = np.mean(graph[new_vertex_1][new_vertex_2]['path_weights'])\n",
    "    #                graph[new_vertex_1][new_vertex_2]['radii_std'] = np.std(graph[new_vertex_1][new_vertex_2]['path_weights'])\n",
    "    #                graph[new_vertex_1][new_vertex_2]['end-0'] = graph[new_vertex_1][new_vertex_2]['pts'][0]\n",
    "    #                graph[new_vertex_1][new_vertex_2]['end-1'] = graph[new_vertex_1][new_vertex_2]['pts'][-1]\n",
    "    #                graph.remove_edge(j[0],j[1])\n",
    "    #                graph.remove_edge(k[0],k[1])\n",
    "    #                deg_1_nodes = [node for (node, val) in graph.degree() if val == 1]\n",
    "    #                deg_1_edges = [x for x in list(graph.edges) if any(val in x for val in deg_1_nodes)]\n",
    "    #                index1 = 0\n",
    "    #                break\n",
    "    #            elif np.all(np.abs(path0[-1] - path1[-1]) <= index ):\n",
    "    #                graph.add_edge(new_vertex_1,new_vertex_2)\n",
    "    #                graph[new_vertex_1][new_vertex_2]['weight'] = graph[j[0]][j[1]]['weight'] + graph[k[0]][k[1]]['weight']\n",
    "    #                graph[new_vertex_1][new_vertex_2]['pts'] = np.concatenate(\n",
    "    #                    (graph[j[0]][j[1]]['pts'],\n",
    "    #                     graph[k[0]][k[1]]['pts'][::-1][:]), \n",
    "    #                     axis=0)\n",
    "    #                graph[new_vertex_1][new_vertex_2]['path_weights'] = np.concatenate(\n",
    "    #                    (graph[j[0]][j[1]]['path_weights'],\n",
    "    #                     graph[k[0]][k[1]]['path_weights'][::-1][:]), \n",
    "    #                    axis=0)\n",
    "    #                graph[new_vertex_1][new_vertex_2]['radii'] = np.mean(graph[new_vertex_1][new_vertex_2]['path_weights'])\n",
    "    #                graph[new_vertex_1][new_vertex_2]['radii_std'] = np.std(graph[new_vertex_1][new_vertex_2]['path_weights'])\n",
    "    #                graph[new_vertex_1][new_vertex_2]['end-0'] = graph[new_vertex_1][new_vertex_2]['pts'][0]\n",
    "    #                graph[new_vertex_1][new_vertex_2]['end-1'] = graph[new_vertex_1][new_vertex_2]['pts'][-1]\n",
    "    #                graph.remove_edge(j[0],j[1])\n",
    "    #                graph.remove_edge(k[0],k[1])\n",
    "    #                deg_1_nodes = [node for (node, val) in graph.degree() if val == 1]\n",
    "    #                deg_1_edges = [x for x in list(graph.edges) if any(val in x for val in deg_1_nodes)]\n",
    "    #                index1 = 0\n",
    "    #                break\n",
    "    #            elif np.all(np.abs(path0[0] - path1[0]) <= index ):\n",
    "    #                graph.add_edge(new_vertex_1,new_vertex_2)\n",
    "    #                graph[new_vertex_1][new_vertex_2]['weight'] = graph[j[0]][j[1]]['weight'] + graph[k[0]][k[1]]['weight']\n",
    "    #                graph[new_vertex_1][new_vertex_2]['pts'] = np.concatenate(\n",
    "    #                    (graph[j[0]][j[1]]['pts'][::-1],\n",
    "    #                     graph[k[0]][k[1]]['pts'][:]), \n",
    "    #                     axis=0)\n",
    "    #                graph[new_vertex_1][new_vertex_2]['path_weights'] = np.concatenate(\n",
    "    #                    (graph[j[0]][j[1]]['path_weights'],\n",
    "    #                     graph[k[0]][k[1]]['path_weights'][::-1][:]), \n",
    "    #                    axis=0)\n",
    "    #                graph[new_vertex_1][new_vertex_2]['radii'] = np.mean(graph[new_vertex_1][new_vertex_2]['path_weights'])\n",
    "    #                graph[new_vertex_1][new_vertex_2]['radii_std'] = np.std(graph[new_vertex_1][new_vertex_2]['path_weights'])\n",
    "    #                graph[new_vertex_1][new_vertex_2]['end-0'] = graph[new_vertex_1][new_vertex_2]['pts'][0]\n",
    "    #                graph[new_vertex_1][new_vertex_2]['end-1'] = graph[new_vertex_1][new_vertex_2]['pts'][-1]\n",
    "    #                graph.remove_edge(j[0],j[1])\n",
    "    #                graph.remove_edge(k[0],k[1])\n",
    "    #                deg_1_nodes = [node for (node, val) in graph.degree() if val == 1]\n",
    "    #                deg_1_edges = [x for x in list(graph.edges) if any(val in x for val in deg_1_nodes)]\n",
    "    #                index1 = 0\n",
    "    #                break\n",
    "    #            elif np.all(np.abs(path0[0] - path1[-1]) <= index ):\n",
    "    #                graph.add_edge(new_vertex_1,new_vertex_2)\n",
    "    #                graph[new_vertex_1][new_vertex_2]['weight'] = graph[j[0]][j[1]]['weight'] + graph[k[0]][k[1]]['weight']\n",
    "    #                graph[new_vertex_1][new_vertex_2]['pts'] = np.concatenate(\n",
    "    #                    (graph[j[0]][j[1]]['pts'][::-1],\n",
    "    #                     graph[k[0]][k[1]]['pts'][::-1][:]), \n",
    "    #                     axis=0)\n",
    "    #                graph[new_vertex_1][new_vertex_2]['path_weights'] = np.concatenate(\n",
    "    #                    (graph[j[0]][j[1]]['path_weights'],\n",
    "    #                     graph[k[0]][k[1]]['path_weights'][::-1][:]), \n",
    "    #                    axis=0)\n",
    "    #                graph[new_vertex_1][new_vertex_2]['radii'] = np.mean(graph[new_vertex_1][new_vertex_2]['path_weights'])\n",
    "    #                graph[new_vertex_1][new_vertex_2]['radii_std'] = np.std(graph[new_vertex_1][new_vertex_2]['path_weights'])\n",
    "    #                graph[new_vertex_1][new_vertex_2]['end-0'] = graph[new_vertex_1][new_vertex_2]['pts'][0]\n",
    "    #                graph[new_vertex_1][new_vertex_2]['end-1'] = graph[new_vertex_1][new_vertex_2]['pts'][-1]\n",
    "    #                graph.remove_edge(j[0],j[1])\n",
    "    #                graph.remove_edge(k[0],k[1])\n",
    "    #                deg_1_nodes = [node for (node, val) in graph.degree() if val == 1]\n",
    "    #                deg_1_edges = [x for x in list(graph.edges) if any(val in x for val in deg_1_nodes)]\n",
    "    #                index1 = 0\n",
    "    #                break\n",
    "    #    deg_1_nodes = [node for (node, val) in graph.degree() if val == 1]\n",
    "    #    deg_1_edges = [x for x in list(graph.edges) if any(val in x for val in deg_1_nodes) and x not in finished]\n",
    "    deg_1_nodes = [node for (node, val) in graph.degree() if val == 1]                \n",
    "    for j in deg_1_nodes:\n",
    "        edge = list(graph.edges(j))[0]\n",
    "        if graph[edge[0]][edge[1]]['weight'] < 10:\n",
    "            graph.remove_edge(edge[0],edge[1])\n",
    "            if edge[0] in deg_1_nodes:\n",
    "                deg_1_nodes.remove(edge[0])\n",
    "            if edge[1] in deg_1_nodes:\n",
    "                deg_1_nodes.remove(edge[1])\n",
    "    deg_2_nodes = [node for (node, val) in graph.degree() if val == 2]\n",
    "    while len(deg_2_nodes) > 0:\n",
    "        new_edge = tuple(graph.neighbors(deg_2_nodes[0]))\n",
    "        if len(new_edge) == 1:\n",
    "            graph.remove_node(deg_2_nodes[0])\n",
    "            deg_2_nodes = [node for (node, val) in graph.degree() if val == 2]\n",
    "        else:\n",
    "            graph.add_edge(*tuple(graph.neighbors(deg_2_nodes[0])))\n",
    "            graph[new_edge[0]][new_edge[1]]['weight'] = graph[new_edge[0]][deg_2_nodes[0]]['weight'] + graph[new_edge[1]][deg_2_nodes[0]]['weight']\n",
    "            if np.all(graph[new_edge[0]][deg_2_nodes[0]]['pts'][-1] == graph[new_edge[1]][deg_2_nodes[0]]['pts'][0]):\n",
    "                graph[new_edge[0]][new_edge[1]]['pts'] = np.concatenate(\n",
    "                    (graph[new_edge[0]][deg_2_nodes[0]]['pts'],\n",
    "                     graph[new_edge[1]][deg_2_nodes[0]]['pts'][1:]), \n",
    "                     axis=0)\n",
    "                graph[new_edge[0]][new_edge[1]]['path_weights'] = np.concatenate(\n",
    "                    (graph[new_edge[0]][deg_2_nodes[0]]['path_weights'],\n",
    "                     graph[new_edge[1]][deg_2_nodes[0]]['path_weights'][1:]), \n",
    "                    axis=0)\n",
    "            elif np.all(graph[new_edge[0]][deg_2_nodes[0]]['pts'][-1] == graph[new_edge[1]][deg_2_nodes[0]]['pts'][-1]):\n",
    "                graph[new_edge[0]][new_edge[1]]['pts'] = np.concatenate(\n",
    "                    (graph[new_edge[0]][deg_2_nodes[0]]['pts'],\n",
    "                     graph[new_edge[1]][deg_2_nodes[0]]['pts'][::-1][1:]), \n",
    "                     axis=0)\n",
    "                graph[new_edge[0]][new_edge[1]]['path_weights'] = np.concatenate(\n",
    "                    (graph[new_edge[0]][deg_2_nodes[0]]['path_weights'],\n",
    "                     graph[new_edge[1]][deg_2_nodes[0]]['path_weights'][::-1][1:]), \n",
    "                    axis=0)\n",
    "            elif np.all(graph[new_edge[0]][deg_2_nodes[0]]['pts'][0] == graph[new_edge[1]][deg_2_nodes[0]]['pts'][0]):\n",
    "                graph[new_edge[0]][new_edge[1]]['pts'] = np.concatenate(\n",
    "                    (graph[new_edge[0]][deg_2_nodes[0]]['pts'][::-1],\n",
    "                     graph[new_edge[1]][deg_2_nodes[0]]['pts'][1:]), \n",
    "                     axis=0)\n",
    "                graph[new_edge[0]][new_edge[1]]['path_weights'] = np.concatenate(\n",
    "                    (graph[new_edge[0]][deg_2_nodes[0]]['path_weights'],\n",
    "                     graph[new_edge[1]][deg_2_nodes[0]]['path_weights'][::-1][1:]), \n",
    "                    axis=0)\n",
    "            elif np.all(graph[new_edge[0]][deg_2_nodes[0]]['pts'][0] == graph[new_edge[1]][deg_2_nodes[0]]['pts'][-1]):\n",
    "                graph[new_edge[0]][new_edge[1]]['pts'] = np.concatenate(\n",
    "                    (graph[new_edge[0]][deg_2_nodes[0]]['pts'][::-1],\n",
    "                     graph[new_edge[1]][deg_2_nodes[0]]['pts'][::-1][1:]), \n",
    "                     axis=0)\n",
    "                graph[new_edge[0]][new_edge[1]]['path_weights'] = np.concatenate(\n",
    "                    (graph[new_edge[0]][deg_2_nodes[0]]['path_weights'],\n",
    "                     graph[new_edge[1]][deg_2_nodes[0]]['path_weights'][::-1][1:]), \n",
    "                    axis=0)\n",
    "            else:\n",
    "                match = False\n",
    "                index = 1\n",
    "                while match == False:\n",
    "                    if np.all(np.abs(graph[new_edge[0]][deg_2_nodes[0]]['pts'][-1] - graph[new_edge[1]][deg_2_nodes[0]]['pts'][0]) <= index ):\n",
    "                        graph[new_edge[0]][new_edge[1]]['pts'] = np.concatenate(\n",
    "                            (graph[new_edge[0]][deg_2_nodes[0]]['pts'],\n",
    "                             graph[new_edge[1]][deg_2_nodes[0]]['pts'][:]), \n",
    "                             axis=0)\n",
    "                        graph[new_edge[0]][new_edge[1]]['path_weights'] = np.concatenate(\n",
    "                            (graph[new_edge[0]][deg_2_nodes[0]]['path_weights'],\n",
    "                             graph[new_edge[1]][deg_2_nodes[0]]['path_weights'][:]), \n",
    "                            axis=0)\n",
    "                        match = True\n",
    "                    elif np.all(np.abs(graph[new_edge[0]][deg_2_nodes[0]]['pts'][-1] - graph[new_edge[1]][deg_2_nodes[0]]['pts'][-1]) <= index ):\n",
    "                        graph[new_edge[0]][new_edge[1]]['pts'] = np.concatenate(\n",
    "                            (graph[new_edge[0]][deg_2_nodes[0]]['pts'],\n",
    "                             graph[new_edge[1]][deg_2_nodes[0]]['pts'][::-1][:]), \n",
    "                             axis=0)\n",
    "                        graph[new_edge[0]][new_edge[1]]['path_weights'] = np.concatenate(\n",
    "                            (graph[new_edge[0]][deg_2_nodes[0]]['path_weights'],\n",
    "                             graph[new_edge[1]][deg_2_nodes[0]]['path_weights'][::-1][:]), \n",
    "                            axis=0)\n",
    "                        match = True\n",
    "                    elif np.all(np.abs(graph[new_edge[0]][deg_2_nodes[0]]['pts'][0] - graph[new_edge[1]][deg_2_nodes[0]]['pts'][0]) <= index ):\n",
    "                        graph[new_edge[0]][new_edge[1]]['pts'] = np.concatenate(\n",
    "                            (graph[new_edge[0]][deg_2_nodes[0]]['pts'][::-1],\n",
    "                             graph[new_edge[1]][deg_2_nodes[0]]['pts'][:]), \n",
    "                             axis=0)\n",
    "                        graph[new_edge[0]][new_edge[1]]['path_weights'] = np.concatenate(\n",
    "                            (graph[new_edge[0]][deg_2_nodes[0]]['path_weights'],\n",
    "                             graph[new_edge[1]][deg_2_nodes[0]]['path_weights'][::-1][:]), \n",
    "                            axis=0)\n",
    "                        match = True\n",
    "                    elif np.all(np.abs(graph[new_edge[0]][deg_2_nodes[0]]['pts'][0] - graph[new_edge[1]][deg_2_nodes[0]]['pts'][-1]) <= index ):\n",
    "                        graph[new_edge[0]][new_edge[1]]['pts'] = np.concatenate(\n",
    "                            (graph[new_edge[0]][deg_2_nodes[0]]['pts'][::-1],\n",
    "                             graph[new_edge[1]][deg_2_nodes[0]]['pts'][::-1][:]), \n",
    "                             axis=0)\n",
    "                        graph[new_edge[0]][new_edge[1]]['path_weights'] = np.concatenate(\n",
    "                            (graph[new_edge[0]][deg_2_nodes[0]]['path_weights'],\n",
    "                             graph[new_edge[1]][deg_2_nodes[0]]['path_weights'][::-1][:]), \n",
    "                            axis=0)\n",
    "                        match = True\n",
    "                    index += 1\n",
    "            graph[new_edge[0]][new_edge[1]]['radii'] = np.mean(graph[new_edge[0]][new_edge[1]]['path_weights'])\n",
    "            graph[new_edge[0]][new_edge[1]]['radii_std'] = np.std(graph[new_edge[0]][new_edge[1]]['path_weights'])\n",
    "            graph[new_edge[0]][new_edge[1]]['end-0'] = graph[new_edge[0]][new_edge[1]]['pts'][0]\n",
    "            graph[new_edge[0]][new_edge[1]]['end-1'] = graph[new_edge[0]][new_edge[1]]['pts'][-1]\n",
    "            graph.remove_node(deg_2_nodes[0])\n",
    "            deg_2_nodes = [node for (node, val) in graph.degree() if val == 2]\n",
    "    nx.write_gpickle(graph,re.sub('.pickle','_clean.pickle',files[i]))"
   ]
  },
  {
   "cell_type": "code",
   "execution_count": 6,
   "metadata": {},
   "outputs": [
    {
     "data": {
      "text/plain": [
       "'james_preds/XYZres052_warped_radii_clean.pickle'"
      ]
     },
     "execution_count": 6,
     "metadata": {},
     "output_type": "execute_result"
    }
   ],
   "source": [
    "re.sub('.pickle','_clean.pickle',files[i])"
   ]
  },
  {
   "cell_type": "code",
   "execution_count": 22,
   "metadata": {},
   "outputs": [
    {
     "data": {
      "text/plain": [
       "(44, 89)"
      ]
     },
     "execution_count": 22,
     "metadata": {},
     "output_type": "execute_result"
    }
   ],
   "source": [
    "k"
   ]
  },
  {
   "cell_type": "code",
   "execution_count": 15,
   "metadata": {},
   "outputs": [
    {
     "data": {
      "text/plain": [
       "248"
      ]
     },
     "execution_count": 15,
     "metadata": {},
     "output_type": "execute_result"
    }
   ],
   "source": [
    "len(deg_1_edges)"
   ]
  },
  {
   "cell_type": "code",
   "execution_count": null,
   "metadata": {},
   "outputs": [],
   "source": [
    "graph[new_vertex_1][new_vertex_2]['pts'] = np.concatenate(\n",
    "         (graph[j[0]][j[1]]['pts'],\n",
    "          graph[k[0]][k[1]]['pts'][:]), \n",
    "          axis=0)"
   ]
  },
  {
   "cell_type": "code",
   "execution_count": null,
   "metadata": {},
   "outputs": [],
   "source": [
    "graph[new_vertex_1][9]['pts']"
   ]
  },
  {
   "cell_type": "code",
   "execution_count": null,
   "metadata": {},
   "outputs": [],
   "source": [
    "graph[new_vertex_2][10]['pts']"
   ]
  },
  {
   "cell_type": "code",
   "execution_count": null,
   "metadata": {},
   "outputs": [],
   "source": [
    "len(graph.edges)"
   ]
  },
  {
   "cell_type": "code",
   "execution_count": null,
   "metadata": {},
   "outputs": [],
   "source": [
    "graph[list(graph.neighbors(j))[0]][j]"
   ]
  },
  {
   "cell_type": "code",
   "execution_count": null,
   "metadata": {},
   "outputs": [],
   "source": [
    "while len(deg_2_nodes) > 0:\n",
    "    new_edge = tuple(graph.neighbors(deg_2_nodes[0]))\n",
    "    if len(new_edge) == 1:\n",
    "        graph.remove_node(deg_2_nodes[0])\n",
    "        deg_2_nodes = [node for (node, val) in graph.degree() if val == 2]\n",
    "    else:\n",
    "        graph.add_edge(*tuple(graph.neighbors(deg_2_nodes[0])))\n",
    "        graph[new_edge[0]][new_edge[1]]['weight'] = graph[new_edge[0]][deg_2_nodes[0]]['weight'] + graph[new_edge[1]][deg_2_nodes[0]]['weight']\n",
    "        if graph[new_edge[0]][deg_2_nodes[0]]['pts'][-1].all() == graph[new_edge[1]][deg_2_nodes[0]]['pts'][0].all():\n",
    "            graph[new_edge[0]][new_edge[1]]['pts'] = np.concatenate(\n",
    "                (graph[new_edge[0]][deg_2_nodes[0]]['pts'],\n",
    "                 graph[new_edge[1]][deg_2_nodes[0]]['pts'][1:]), \n",
    "                 axis=0)\n",
    "            graph[new_edge[0]][new_edge[1]]['path_weights'] = np.concatenate(\n",
    "                (graph[new_edge[0]][deg_2_nodes[0]]['path_weights'],\n",
    "                 graph[new_edge[1]][deg_2_nodes[0]]['path_weights'][1:]), \n",
    "                axis=0)\n",
    "        elif graph[new_edge[0]][deg_2_nodes[0]]['pts'][-1].all() == graph[new_edge[1]][deg_2_nodes[0]]['pts'][-1].all():\n",
    "            graph[new_edge[0]][new_edge[1]]['pts'] = np.concatenate(\n",
    "                (graph[new_edge[0]][deg_2_nodes[0]]['pts'],\n",
    "                 graph[new_edge[1]][deg_2_nodes[0]]['pts'][::-1][1:]), \n",
    "                 axis=0)\n",
    "            graph[new_edge[0]][new_edge[1]]['path_weights'] = np.concatenate(\n",
    "                (graph[new_edge[0]][deg_2_nodes[0]]['path_weights'],\n",
    "                 graph[new_edge[1]][deg_2_nodes[0]]['path_weights'][::-1][1:]), \n",
    "                axis=0)\n",
    "        else:\n",
    "            error\n",
    "        graph[new_edge[0]][new_edge[1]]['radii'] = np.mean(graph[new_edge[0]][new_edge[1]]['path_weights'])\n",
    "        graph[new_edge[0]][new_edge[1]]['radii_std'] = np.std(graph[new_edge[0]][new_edge[1]]['path_weights'])\n",
    "        graph[new_edge[0]][new_edge[1]]['end-0'] = graph[new_edge[0]][new_edge[1]]['pts'][0]\n",
    "        graph[new_edge[0]][new_edge[1]]['end-0'] = graph[new_edge[0]][new_edge[1]]['pts'][-1]\n",
    "        graph.remove_node(deg_2_nodes[0])\n",
    "        deg_2_nodes = [node for (node, val) in graph.degree() if val == 2]"
   ]
  },
  {
   "cell_type": "code",
   "execution_count": null,
   "metadata": {},
   "outputs": [],
   "source": [
    "deg_2_nodes"
   ]
  },
  {
   "cell_type": "code",
   "execution_count": null,
   "metadata": {},
   "outputs": [],
   "source": [
    "graph[new_edge[0]][deg_2_nodes[0]]['pts']"
   ]
  },
  {
   "cell_type": "code",
   "execution_count": null,
   "metadata": {},
   "outputs": [],
   "source": [
    "graph[new_edge[1]][deg_2_nodes[0]]['pts']"
   ]
  },
  {
   "cell_type": "code",
   "execution_count": null,
   "metadata": {},
   "outputs": [],
   "source": [
    "np.concatenate((graph[new_edge[0]][deg_2_nodes[0]]['pts'],graph[new_edge[1]][deg_2_nodes[0]]['pts'][1:]), axis=0)"
   ]
  },
  {
   "cell_type": "code",
   "execution_count": null,
   "metadata": {},
   "outputs": [],
   "source": [
    "graph[new_edge[1]][new_edge[0]]['radii']"
   ]
  },
  {
   "cell_type": "code",
   "execution_count": null,
   "metadata": {},
   "outputs": [],
   "source": [
    "graph[0]"
   ]
  },
  {
   "cell_type": "code",
   "execution_count": null,
   "metadata": {},
   "outputs": [],
   "source": [
    "deg_2_nodes = [node for (node, val) in graph.degree() if val == 2]"
   ]
  },
  {
   "cell_type": "code",
   "execution_count": null,
   "metadata": {},
   "outputs": [],
   "source": [
    "deg_2_nodes"
   ]
  },
  {
   "cell_type": "code",
   "execution_count": null,
   "metadata": {},
   "outputs": [],
   "source": [
    "graph.degree(j[0])"
   ]
  },
  {
   "cell_type": "code",
   "execution_count": null,
   "metadata": {},
   "outputs": [],
   "source": []
  }
 ],
 "metadata": {
  "kernelspec": {
   "display_name": "graph",
   "language": "python",
   "name": "graph"
  },
  "language_info": {
   "codemirror_mode": {
    "name": "ipython",
    "version": 3
   },
   "file_extension": ".py",
   "mimetype": "text/x-python",
   "name": "python",
   "nbconvert_exporter": "python",
   "pygments_lexer": "ipython3",
   "version": "3.8.5"
  }
 },
 "nbformat": 4,
 "nbformat_minor": 5
}
