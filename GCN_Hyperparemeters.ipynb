{
 "cells": [
  {
   "cell_type": "code",
   "execution_count": 2,
   "id": "69cfe477-0dde-49a4-bc9e-b32acb5e3a92",
   "metadata": {},
   "outputs": [],
   "source": [
    "import numpy as np\n",
    "import matplotlib.pyplot as plt\n",
    "from sklearn.manifold import TSNE\n",
    "from pathlib import Path\n",
    "import networkx as nx\n",
    "import pickle\n",
    "import re\n",
    "from IPython.display import display\n",
    "from tqdm import tqdm\n",
    "from skimage import io\n",
    "import scipy as sp\n",
    "import os\n",
    "from scipy.ndimage import distance_transform_edt\n",
    "import torch\n",
    "from torch_geometric.utils.convert import from_networkx\n",
    "from torch_geometric.loader import DataLoader\n",
    "from IPython.display import clear_output\n",
    "from sklearn.preprocessing import normalize\n",
    "from sklearn.manifold import TSNE\n",
    "import torch_geometric.transforms as T\n",
    "from sklearn.utils.class_weight import compute_class_weight\n",
    "from sklearn.metrics import rand_score\n",
    "from sklearn.metrics import classification_report\n",
    "#import pytorchgeometric as ptg\n",
    "\n",
    "import numpy as np\n",
    "from pathlib import Path\n",
    "import re\n",
    "import networkx as nx\n",
    "import pickle\n",
    "from skimage import io\n",
    "from torch_geometric.utils.convert import from_networkx\n",
    "from torch_geometric.loader import DataLoader\n",
    "from tqdm import tqdm \n",
    "import torch\n",
    "from torch.nn import Linear\n",
    "from torch_geometric.nn import GCNConv, PowerMeanAggregation\n",
    "from torch_geometric.nn import GraphSAGE\n",
    "from scipy.ndimage import distance_transform_edt\n",
    "from os.path import exists\n",
    "\n",
    "%matplotlib inline\n",
    "import matplotlib.pyplot as plt\n",
    "from sklearn.manifold import TSNE"
   ]
  },
  {
   "cell_type": "markdown",
   "id": "2fbc6115-3f82-4080-8fe1-bcf2343e39cb",
   "metadata": {},
   "source": [
    "# Make hyperparameter lists"
   ]
  },
  {
   "cell_type": "code",
   "execution_count": 3,
   "id": "197619be-27b5-4722-929d-33161ccc8242",
   "metadata": {},
   "outputs": [
    {
     "name": "stdout",
     "output_type": "stream",
     "text": [
      "980\n"
     ]
    }
   ],
   "source": [
    "dropout = [0.01,0.05,0.1]\n",
    "learning_rate = [5e-5,1e-5,5e-6]\n",
    "aggr = ['mean','lstm', ['mean','std'], ['mean', 'std','max'], ['mean', 'std', 'max', 'sum', 'median']]\n",
    "hidden_channels = [16,32]\n",
    "num_layers = [10,20]\n",
    "counter = 800\n",
    "batch_size = [8]\n",
    "for d in dropout:\n",
    "    for l in learning_rate:\n",
    "        for a in aggr:\n",
    "            for h in hidden_channels:\n",
    "                for n in num_layers:\n",
    "                    for b in batch_size:\n",
    "                        parameter_set_name = 'hyperparameter_pickle_files/GraphSAGE' + str(counter) + '.pickle'\n",
    "                        dic = {\n",
    "                            'dropout':d,\n",
    "                            'learning_rate':l,\n",
    "                            'aggr':a,\n",
    "                            'hidden_channels':h,\n",
    "                            'num_layers':n,\n",
    "                            'batch_size':b\n",
    "                        }\n",
    "                        with open(parameter_set_name, 'wb') as handle:\n",
    "                            pickle.dump(dic, handle, protocol=pickle.HIGHEST_PROTOCOL)\n",
    "                        counter += 1\n",
    "print(counter)"
   ]
  },
  {
   "cell_type": "code",
   "execution_count": null,
   "id": "871952e1-94e5-46d4-b272-e2a8aeff094e",
   "metadata": {},
   "outputs": [],
   "source": []
  }
 ],
 "metadata": {
  "kernelspec": {
   "display_name": "torch_geom",
   "language": "python",
   "name": "torch_geom"
  },
  "language_info": {
   "codemirror_mode": {
    "name": "ipython",
    "version": 3
   },
   "file_extension": ".py",
   "mimetype": "text/x-python",
   "name": "python",
   "nbconvert_exporter": "python",
   "pygments_lexer": "ipython3",
   "version": "3.10.2"
  }
 },
 "nbformat": 4,
 "nbformat_minor": 5
}
