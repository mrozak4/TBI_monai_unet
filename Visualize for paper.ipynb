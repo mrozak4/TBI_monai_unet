{
 "cells": [
  {
   "cell_type": "markdown",
   "id": "9a8f063a",
   "metadata": {},
   "source": [
    "# Initial Set Up"
   ]
  },
  {
   "cell_type": "code",
   "execution_count": 1,
   "id": "10459b8e",
   "metadata": {},
   "outputs": [],
   "source": [
    "from skimage import data\n",
    "import napari"
   ]
  },
  {
   "cell_type": "markdown",
   "id": "66defe90",
   "metadata": {},
   "source": [
    "# Test Display"
   ]
  },
  {
   "cell_type": "code",
   "execution_count": 3,
   "id": "a2dd0629",
   "metadata": {},
   "outputs": [
    {
     "name": "stderr",
     "output_type": "stream",
     "text": [
      "WARNING: QStandardPaths: error creating runtime directory /run/user/3093579 (Permission denied)\n",
      "WARNING: QOpenGLWidget: Failed to create context\n",
      "WARNING: QOpenGLWidget: Failed to create context\n",
      "WARNING: composeAndFlush: QOpenGLContext creation failed\n",
      "WARNING: composeAndFlush: makeCurrent() failed\n",
      "WARNING: QOpenGLWidget: Failed to create context\n",
      "WARNING: composeAndFlush: makeCurrent() failed\n",
      "WARNING: composeAndFlush: makeCurrent() failed\n",
      "WARNING: composeAndFlush: makeCurrent() failed\n",
      "WARNING: composeAndFlush: makeCurrent() failed\n",
      "WARNING: composeAndFlush: makeCurrent() failed\n",
      "WARNING: composeAndFlush: makeCurrent() failed\n",
      "WARNING: composeAndFlush: makeCurrent() failed\n",
      "WARNING: composeAndFlush: makeCurrent() failed\n",
      "WARNING: composeAndFlush: makeCurrent() failed\n",
      "WARNING: composeAndFlush: makeCurrent() failed\n",
      "WARNING: composeAndFlush: makeCurrent() failed\n",
      "WARNING: composeAndFlush: makeCurrent() failed\n",
      "WARNING: composeAndFlush: makeCurrent() failed\n",
      "WARNING: composeAndFlush: makeCurrent() failed\n"
     ]
    }
   ],
   "source": [
    "viewer = napari.view_image(data.moon())"
   ]
  },
  {
   "cell_type": "code",
   "execution_count": null,
   "id": "ba4e2348",
   "metadata": {},
   "outputs": [],
   "source": []
  },
  {
   "cell_type": "code",
   "execution_count": null,
   "id": "90156308",
   "metadata": {},
   "outputs": [],
   "source": []
  }
 ],
 "metadata": {
  "kernelspec": {
   "display_name": "monai3.8",
   "language": "python",
   "name": "monai3.8"
  },
  "language_info": {
   "codemirror_mode": {
    "name": "ipython",
    "version": 3
   },
   "file_extension": ".py",
   "mimetype": "text/x-python",
   "name": "python",
   "nbconvert_exporter": "python",
   "pygments_lexer": "ipython3",
   "version": "3.8.10"
  }
 },
 "nbformat": 4,
 "nbformat_minor": 5
}
