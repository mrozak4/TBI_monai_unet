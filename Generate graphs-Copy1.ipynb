{
 "cells": [
  {
   "cell_type": "code",
   "execution_count": 1,
   "id": "1bf60c6c",
   "metadata": {},
   "outputs": [],
   "source": [
    "import numpy as np\n",
    "from pathlib import Path\n",
    "import re\n",
    "from tqdm import tqdm\n",
    "from skimage import io\n",
    "from skimage.morphology import skeletonize_3d, binary_dilation, binary_closing\n",
    "from scipy.ndimage import distance_transform_edt\n",
    "import tifffile as tif\n",
    "from scipy.ndimage import binary_fill_holes \n",
    "import cc3d\n",
    "from scipy.io import loadmat, savemat\n",
    "import skan\n",
    "import sknw\n",
    "import networkx as nx\n",
    "import pickle\n",
    "#from pystackreg import StackReg\n",
    "#from plantcv import plantcv as pcv\n",
    "#from VascGraph.Skeletonize import Skeleton\n",
    "\n",
    "#from VascGraph.GraphIO import ReadStackMat\n",
    "#from VascGraph.GraphLab import StackPlot\n",
    "#from VascGraph.Tools.VisTools import visG\n",
    "#from VascGraph.Tools.CalcTools import fixG\n",
    "#from VascGraph.GraphIO import WritePajek"
   ]
  },
  {
   "cell_type": "code",
   "execution_count": 2,
   "id": "36ffe232",
   "metadata": {},
   "outputs": [],
   "source": [
    "#!pip install pystackreg"
   ]
  },
  {
   "cell_type": "code",
   "execution_count": 3,
   "id": "c09c642c",
   "metadata": {},
   "outputs": [],
   "source": [
    "def remove_small_comps_3d(image, thresh = 1000):\n",
    "    \"\"\"\n",
    "    \n",
    "\n",
    "    Parameters\n",
    "    ----------\n",
    "    image : binary np array with uint8 elements\n",
    "        3d numpy matrix, connected components will be removed form this image\n",
    "    thresh : int64\n",
    "        smallest connected components to keep\n",
    "\n",
    "    Returns\n",
    "    -------\n",
    "    np.array with uint8 elements, binary\n",
    "        binary image with connected components below the threshold removed.\n",
    "\n",
    "    \"\"\"\n",
    "    img_lab, N = cc3d.connected_components(image,return_N=True)\n",
    "    unique, counts = np.unique(img_lab, return_counts=True)\n",
    "    unique_keep = unique[counts>thresh]\n",
    "    unique_keep = np.delete(unique_keep,[0])\n",
    "    img_filt = np.zeros(img_lab.shape).astype('int8')\n",
    "    img_filt[np.isin(img_lab,unique_keep)] = 1\n",
    "    return img_filt.astype('uint8')   \n",
    "\n",
    "def fill_holes(img):\n",
    "    #res = np.zeros(img.shape)\n",
    "    for i in np.unique(img)[::-1]:\n",
    "        _tmp = (img==i)*1.0\n",
    "        _tmp = _tmp.astype('int8')\n",
    "        _tmp = remove_small_comps_3d(_tmp)\n",
    "        img[_tmp==1] = i\n",
    "    res = img.astype('int8')\n",
    "    return res"
   ]
  },
  {
   "cell_type": "code",
   "execution_count": null,
   "id": "667a0974",
   "metadata": {},
   "outputs": [],
   "source": []
  },
  {
   "cell_type": "code",
   "execution_count": 4,
   "id": "b91ff587",
   "metadata": {},
   "outputs": [],
   "source": [
    "directory = Path('james_preds')\n",
    "files  = directory.glob('*_mean.npy')\n",
    "files = sorted([x.as_posix() for x in files])"
   ]
  },
  {
   "cell_type": "code",
   "execution_count": 5,
   "id": "f05204fb",
   "metadata": {},
   "outputs": [],
   "source": [
    "#files"
   ]
  },
  {
   "cell_type": "code",
   "execution_count": 6,
   "id": "238bb8b6",
   "metadata": {},
   "outputs": [
    {
     "name": "stderr",
     "output_type": "stream",
     "text": [
      "  6%|▋         | 6/94 [02:17<33:38, 22.94s/it]\n"
     ]
    },
    {
     "ename": "KeyboardInterrupt",
     "evalue": "",
     "output_type": "error",
     "traceback": [
      "\u001b[0;31m---------------------------------------------------------------------------\u001b[0m",
      "\u001b[0;31mKeyboardInterrupt\u001b[0m                         Traceback (most recent call last)",
      "Input \u001b[0;32mIn [6]\u001b[0m, in \u001b[0;36m<module>\u001b[0;34m\u001b[0m\n\u001b[1;32m     11\u001b[0m seg \u001b[38;5;241m=\u001b[39m fill_holes(seg)\n\u001b[1;32m     12\u001b[0m np\u001b[38;5;241m.\u001b[39msave(re\u001b[38;5;241m.\u001b[39msub(\u001b[38;5;124m'\u001b[39m\u001b[38;5;124mmean\u001b[39m\u001b[38;5;124m'\u001b[39m,\u001b[38;5;124m'\u001b[39m\u001b[38;5;124mseg\u001b[39m\u001b[38;5;124m'\u001b[39m,file),seg)\n\u001b[0;32m---> 13\u001b[0m savemat(re\u001b[38;5;241m.\u001b[39msub(\u001b[38;5;124m'\u001b[39m\u001b[38;5;124mmean.npy\u001b[39m\u001b[38;5;124m'\u001b[39m,\u001b[38;5;124m'\u001b[39m\u001b[38;5;124mseg.mat\u001b[39m\u001b[38;5;124m'\u001b[39m,file),{\u001b[38;5;124m'\u001b[39m\u001b[38;5;124mFinalImage\u001b[39m\u001b[38;5;124m'\u001b[39m:\u001b[43mfill_holes\u001b[49m\u001b[43m(\u001b[49m\u001b[43mbinary_dilation\u001b[49m\u001b[43m(\u001b[49m\u001b[43mbinary_dilation\u001b[49m\u001b[43m(\u001b[49m\u001b[43mseg\u001b[49m\u001b[43m)\u001b[49m\u001b[43m)\u001b[49m\u001b[43m)\u001b[49m})\n\u001b[1;32m     14\u001b[0m tif\u001b[38;5;241m.\u001b[39mimwrite(re\u001b[38;5;241m.\u001b[39msub(\u001b[38;5;124m'\u001b[39m\u001b[38;5;124mmean.npy\u001b[39m\u001b[38;5;124m'\u001b[39m,\u001b[38;5;124m'\u001b[39m\u001b[38;5;124mseg.tif\u001b[39m\u001b[38;5;124m'\u001b[39m,file),seg)\n",
      "Input \u001b[0;32mIn [3]\u001b[0m, in \u001b[0;36mfill_holes\u001b[0;34m(img)\u001b[0m\n\u001b[1;32m     29\u001b[0m     _tmp \u001b[38;5;241m=\u001b[39m (img\u001b[38;5;241m==\u001b[39mi)\u001b[38;5;241m*\u001b[39m\u001b[38;5;241m1.0\u001b[39m\n\u001b[1;32m     30\u001b[0m     _tmp \u001b[38;5;241m=\u001b[39m _tmp\u001b[38;5;241m.\u001b[39mastype(\u001b[38;5;124m'\u001b[39m\u001b[38;5;124mint8\u001b[39m\u001b[38;5;124m'\u001b[39m)\n\u001b[0;32m---> 31\u001b[0m     _tmp \u001b[38;5;241m=\u001b[39m \u001b[43mremove_small_comps_3d\u001b[49m\u001b[43m(\u001b[49m\u001b[43m_tmp\u001b[49m\u001b[43m)\u001b[49m\n\u001b[1;32m     32\u001b[0m     img[_tmp\u001b[38;5;241m==\u001b[39m\u001b[38;5;241m1\u001b[39m] \u001b[38;5;241m=\u001b[39m i\n\u001b[1;32m     33\u001b[0m res \u001b[38;5;241m=\u001b[39m img\u001b[38;5;241m.\u001b[39mastype(\u001b[38;5;124m'\u001b[39m\u001b[38;5;124mint8\u001b[39m\u001b[38;5;124m'\u001b[39m)\n",
      "Input \u001b[0;32mIn [3]\u001b[0m, in \u001b[0;36mremove_small_comps_3d\u001b[0;34m(image, thresh)\u001b[0m\n\u001b[1;32m     21\u001b[0m unique_keep \u001b[38;5;241m=\u001b[39m np\u001b[38;5;241m.\u001b[39mdelete(unique_keep,[\u001b[38;5;241m0\u001b[39m])\n\u001b[1;32m     22\u001b[0m img_filt \u001b[38;5;241m=\u001b[39m np\u001b[38;5;241m.\u001b[39mzeros(img_lab\u001b[38;5;241m.\u001b[39mshape)\u001b[38;5;241m.\u001b[39mastype(\u001b[38;5;124m'\u001b[39m\u001b[38;5;124mint8\u001b[39m\u001b[38;5;124m'\u001b[39m)\n\u001b[0;32m---> 23\u001b[0m img_filt[\u001b[43mnp\u001b[49m\u001b[38;5;241;43m.\u001b[39;49m\u001b[43misin\u001b[49m\u001b[43m(\u001b[49m\u001b[43mimg_lab\u001b[49m\u001b[43m,\u001b[49m\u001b[43munique_keep\u001b[49m\u001b[43m)\u001b[49m] \u001b[38;5;241m=\u001b[39m \u001b[38;5;241m1\u001b[39m\n\u001b[1;32m     24\u001b[0m \u001b[38;5;28;01mreturn\u001b[39;00m img_filt\u001b[38;5;241m.\u001b[39mastype(\u001b[38;5;124m'\u001b[39m\u001b[38;5;124muint8\u001b[39m\u001b[38;5;124m'\u001b[39m)\n",
      "File \u001b[0;32m<__array_function__ internals>:5\u001b[0m, in \u001b[0;36misin\u001b[0;34m(*args, **kwargs)\u001b[0m\n",
      "File \u001b[0;32m~/.local/lib/python3.8/site-packages/numpy/lib/arraysetops.py:735\u001b[0m, in \u001b[0;36misin\u001b[0;34m(element, test_elements, assume_unique, invert)\u001b[0m\n\u001b[1;32m    642\u001b[0m \u001b[38;5;124;03m\"\"\"\u001b[39;00m\n\u001b[1;32m    643\u001b[0m \u001b[38;5;124;03mCalculates `element in test_elements`, broadcasting over `element` only.\u001b[39;00m\n\u001b[1;32m    644\u001b[0m \u001b[38;5;124;03mReturns a boolean array of the same shape as `element` that is True\u001b[39;00m\n\u001b[0;32m   (...)\u001b[0m\n\u001b[1;32m    732\u001b[0m \u001b[38;5;124;03m       [ True, False]])\u001b[39;00m\n\u001b[1;32m    733\u001b[0m \u001b[38;5;124;03m\"\"\"\u001b[39;00m\n\u001b[1;32m    734\u001b[0m element \u001b[38;5;241m=\u001b[39m np\u001b[38;5;241m.\u001b[39masarray(element)\n\u001b[0;32m--> 735\u001b[0m \u001b[38;5;28;01mreturn\u001b[39;00m \u001b[43min1d\u001b[49m\u001b[43m(\u001b[49m\u001b[43melement\u001b[49m\u001b[43m,\u001b[49m\u001b[43m \u001b[49m\u001b[43mtest_elements\u001b[49m\u001b[43m,\u001b[49m\u001b[43m \u001b[49m\u001b[43massume_unique\u001b[49m\u001b[38;5;241;43m=\u001b[39;49m\u001b[43massume_unique\u001b[49m\u001b[43m,\u001b[49m\n\u001b[1;32m    736\u001b[0m \u001b[43m            \u001b[49m\u001b[43minvert\u001b[49m\u001b[38;5;241;43m=\u001b[39;49m\u001b[43minvert\u001b[49m\u001b[43m)\u001b[49m\u001b[38;5;241m.\u001b[39mreshape(element\u001b[38;5;241m.\u001b[39mshape)\n",
      "File \u001b[0;32m<__array_function__ internals>:5\u001b[0m, in \u001b[0;36min1d\u001b[0;34m(*args, **kwargs)\u001b[0m\n",
      "File \u001b[0;32m~/.local/lib/python3.8/site-packages/numpy/lib/arraysetops.py:613\u001b[0m, in \u001b[0;36min1d\u001b[0;34m(ar1, ar2, assume_unique, invert)\u001b[0m\n\u001b[1;32m    611\u001b[0m \u001b[38;5;66;03m# Otherwise use sorting\u001b[39;00m\n\u001b[1;32m    612\u001b[0m \u001b[38;5;28;01mif\u001b[39;00m \u001b[38;5;129;01mnot\u001b[39;00m assume_unique:\n\u001b[0;32m--> 613\u001b[0m     ar1, rev_idx \u001b[38;5;241m=\u001b[39m \u001b[43mnp\u001b[49m\u001b[38;5;241;43m.\u001b[39;49m\u001b[43munique\u001b[49m\u001b[43m(\u001b[49m\u001b[43mar1\u001b[49m\u001b[43m,\u001b[49m\u001b[43m \u001b[49m\u001b[43mreturn_inverse\u001b[49m\u001b[38;5;241;43m=\u001b[39;49m\u001b[38;5;28;43;01mTrue\u001b[39;49;00m\u001b[43m)\u001b[49m\n\u001b[1;32m    614\u001b[0m     ar2 \u001b[38;5;241m=\u001b[39m np\u001b[38;5;241m.\u001b[39munique(ar2)\n\u001b[1;32m    616\u001b[0m ar \u001b[38;5;241m=\u001b[39m np\u001b[38;5;241m.\u001b[39mconcatenate((ar1, ar2))\n",
      "File \u001b[0;32m<__array_function__ internals>:5\u001b[0m, in \u001b[0;36munique\u001b[0;34m(*args, **kwargs)\u001b[0m\n",
      "File \u001b[0;32m~/.local/lib/python3.8/site-packages/numpy/lib/arraysetops.py:272\u001b[0m, in \u001b[0;36munique\u001b[0;34m(ar, return_index, return_inverse, return_counts, axis)\u001b[0m\n\u001b[1;32m    270\u001b[0m ar \u001b[38;5;241m=\u001b[39m np\u001b[38;5;241m.\u001b[39masanyarray(ar)\n\u001b[1;32m    271\u001b[0m \u001b[38;5;28;01mif\u001b[39;00m axis \u001b[38;5;129;01mis\u001b[39;00m \u001b[38;5;28;01mNone\u001b[39;00m:\n\u001b[0;32m--> 272\u001b[0m     ret \u001b[38;5;241m=\u001b[39m \u001b[43m_unique1d\u001b[49m\u001b[43m(\u001b[49m\u001b[43mar\u001b[49m\u001b[43m,\u001b[49m\u001b[43m \u001b[49m\u001b[43mreturn_index\u001b[49m\u001b[43m,\u001b[49m\u001b[43m \u001b[49m\u001b[43mreturn_inverse\u001b[49m\u001b[43m,\u001b[49m\u001b[43m \u001b[49m\u001b[43mreturn_counts\u001b[49m\u001b[43m)\u001b[49m\n\u001b[1;32m    273\u001b[0m     \u001b[38;5;28;01mreturn\u001b[39;00m _unpack_tuple(ret)\n\u001b[1;32m    275\u001b[0m \u001b[38;5;66;03m# axis was specified and not None\u001b[39;00m\n",
      "File \u001b[0;32m~/.local/lib/python3.8/site-packages/numpy/lib/arraysetops.py:354\u001b[0m, in \u001b[0;36m_unique1d\u001b[0;34m(ar, return_index, return_inverse, return_counts)\u001b[0m\n\u001b[1;32m    352\u001b[0m     ret \u001b[38;5;241m+\u001b[39m\u001b[38;5;241m=\u001b[39m (perm[mask],)\n\u001b[1;32m    353\u001b[0m \u001b[38;5;28;01mif\u001b[39;00m return_inverse:\n\u001b[0;32m--> 354\u001b[0m     imask \u001b[38;5;241m=\u001b[39m \u001b[43mnp\u001b[49m\u001b[38;5;241;43m.\u001b[39;49m\u001b[43mcumsum\u001b[49m\u001b[43m(\u001b[49m\u001b[43mmask\u001b[49m\u001b[43m)\u001b[49m \u001b[38;5;241m-\u001b[39m \u001b[38;5;241m1\u001b[39m\n\u001b[1;32m    355\u001b[0m     inv_idx \u001b[38;5;241m=\u001b[39m np\u001b[38;5;241m.\u001b[39mempty(mask\u001b[38;5;241m.\u001b[39mshape, dtype\u001b[38;5;241m=\u001b[39mnp\u001b[38;5;241m.\u001b[39mintp)\n\u001b[1;32m    356\u001b[0m     inv_idx[perm] \u001b[38;5;241m=\u001b[39m imask\n",
      "File \u001b[0;32m<__array_function__ internals>:5\u001b[0m, in \u001b[0;36mcumsum\u001b[0;34m(*args, **kwargs)\u001b[0m\n",
      "File \u001b[0;32m~/.local/lib/python3.8/site-packages/numpy/core/fromnumeric.py:2532\u001b[0m, in \u001b[0;36mcumsum\u001b[0;34m(a, axis, dtype, out)\u001b[0m\n\u001b[1;32m   2458\u001b[0m \u001b[38;5;129m@array_function_dispatch\u001b[39m(_cumsum_dispatcher)\n\u001b[1;32m   2459\u001b[0m \u001b[38;5;28;01mdef\u001b[39;00m \u001b[38;5;21mcumsum\u001b[39m(a, axis\u001b[38;5;241m=\u001b[39m\u001b[38;5;28;01mNone\u001b[39;00m, dtype\u001b[38;5;241m=\u001b[39m\u001b[38;5;28;01mNone\u001b[39;00m, out\u001b[38;5;241m=\u001b[39m\u001b[38;5;28;01mNone\u001b[39;00m):\n\u001b[1;32m   2460\u001b[0m     \u001b[38;5;124;03m\"\"\"\u001b[39;00m\n\u001b[1;32m   2461\u001b[0m \u001b[38;5;124;03m    Return the cumulative sum of the elements along a given axis.\u001b[39;00m\n\u001b[1;32m   2462\u001b[0m \n\u001b[0;32m   (...)\u001b[0m\n\u001b[1;32m   2530\u001b[0m \n\u001b[1;32m   2531\u001b[0m \u001b[38;5;124;03m    \"\"\"\u001b[39;00m\n\u001b[0;32m-> 2532\u001b[0m     \u001b[38;5;28;01mreturn\u001b[39;00m \u001b[43m_wrapfunc\u001b[49m\u001b[43m(\u001b[49m\u001b[43ma\u001b[49m\u001b[43m,\u001b[49m\u001b[43m \u001b[49m\u001b[38;5;124;43m'\u001b[39;49m\u001b[38;5;124;43mcumsum\u001b[39;49m\u001b[38;5;124;43m'\u001b[39;49m\u001b[43m,\u001b[49m\u001b[43m \u001b[49m\u001b[43maxis\u001b[49m\u001b[38;5;241;43m=\u001b[39;49m\u001b[43maxis\u001b[49m\u001b[43m,\u001b[49m\u001b[43m \u001b[49m\u001b[43mdtype\u001b[49m\u001b[38;5;241;43m=\u001b[39;49m\u001b[43mdtype\u001b[49m\u001b[43m,\u001b[49m\u001b[43m \u001b[49m\u001b[43mout\u001b[49m\u001b[38;5;241;43m=\u001b[39;49m\u001b[43mout\u001b[49m\u001b[43m)\u001b[49m\n",
      "File \u001b[0;32m~/.local/lib/python3.8/site-packages/numpy/core/fromnumeric.py:57\u001b[0m, in \u001b[0;36m_wrapfunc\u001b[0;34m(obj, method, *args, **kwds)\u001b[0m\n\u001b[1;32m     54\u001b[0m     \u001b[38;5;28;01mreturn\u001b[39;00m _wrapit(obj, method, \u001b[38;5;241m*\u001b[39margs, \u001b[38;5;241m*\u001b[39m\u001b[38;5;241m*\u001b[39mkwds)\n\u001b[1;32m     56\u001b[0m \u001b[38;5;28;01mtry\u001b[39;00m:\n\u001b[0;32m---> 57\u001b[0m     \u001b[38;5;28;01mreturn\u001b[39;00m \u001b[43mbound\u001b[49m\u001b[43m(\u001b[49m\u001b[38;5;241;43m*\u001b[39;49m\u001b[43margs\u001b[49m\u001b[43m,\u001b[49m\u001b[43m \u001b[49m\u001b[38;5;241;43m*\u001b[39;49m\u001b[38;5;241;43m*\u001b[39;49m\u001b[43mkwds\u001b[49m\u001b[43m)\u001b[49m\n\u001b[1;32m     58\u001b[0m \u001b[38;5;28;01mexcept\u001b[39;00m \u001b[38;5;167;01mTypeError\u001b[39;00m:\n\u001b[1;32m     59\u001b[0m     \u001b[38;5;66;03m# A TypeError occurs if the object does have such a method in its\u001b[39;00m\n\u001b[1;32m     60\u001b[0m     \u001b[38;5;66;03m# class, but its signature is not identical to that of NumPy's. This\u001b[39;00m\n\u001b[0;32m   (...)\u001b[0m\n\u001b[1;32m     64\u001b[0m     \u001b[38;5;66;03m# Call _wrapit from within the except clause to ensure a potential\u001b[39;00m\n\u001b[1;32m     65\u001b[0m     \u001b[38;5;66;03m# exception has a traceback chain.\u001b[39;00m\n\u001b[1;32m     66\u001b[0m     \u001b[38;5;28;01mreturn\u001b[39;00m _wrapit(obj, method, \u001b[38;5;241m*\u001b[39margs, \u001b[38;5;241m*\u001b[39m\u001b[38;5;241m*\u001b[39mkwds)\n",
      "\u001b[0;31mKeyboardInterrupt\u001b[0m: "
     ]
    }
   ],
   "source": [
    "min_prob = 0.75\n",
    "max_var = 0.1\n",
    "for file in tqdm(files[:]):\n",
    "    mean = np.load(file)\n",
    "    std = np.load(re.sub('mean','std',file))\n",
    "    seg = np.zeros(mean.shape[1:])\n",
    "    seg[(mean[1,:,:,:] > min_prob) * (std[1,:,:,:] < max_var)] = 1\n",
    "    seg[(mean[2,:,:,:] > min_prob) * (std[2,:,:,:] < max_var)] = 2\n",
    "    seg = seg.astype('int8')\n",
    "    seg = (seg==1)*1\n",
    "    seg = fill_holes(seg)\n",
    "    np.save(re.sub('mean','seg',file),seg)\n",
    "    savemat(re.sub('mean.npy','seg.mat',file),{'FinalImage':fill_holes(binary_dilation(binary_dilation(seg)))})\n",
    "    tif.imwrite(re.sub('mean.npy','seg.tif',file),seg)"
   ]
  },
  {
   "cell_type": "code",
   "execution_count": 8,
   "id": "4c08f5db",
   "metadata": {},
   "outputs": [
    {
     "data": {
      "text/plain": [
       "['james_preds/XYZres006_0001_seg.npy',\n",
       " 'james_preds/XYZres007_0001_seg.npy',\n",
       " 'james_preds/XYZres008_0001_seg.npy',\n",
       " 'james_preds/XYZres009_0001_seg.npy',\n",
       " 'james_preds/XYZres010_0001_seg.npy',\n",
       " 'james_preds/XYZres011_0001_seg.npy',\n",
       " 'james_preds/XYZres012_0001_seg.npy',\n",
       " 'james_preds/XYZres013_0001_seg.npy',\n",
       " 'james_preds/XYZres014_0001_seg.npy',\n",
       " 'james_preds/XYZres015_0001_seg.npy',\n",
       " 'james_preds/XYZres016_0001_seg.npy',\n",
       " 'james_preds/XYZres017_0001_seg.npy',\n",
       " 'james_preds/XYZres018_0001_seg.npy',\n",
       " 'james_preds/XYZres019_0001_seg.npy',\n",
       " 'james_preds/XYZres020_0001_seg.npy',\n",
       " 'james_preds/XYZres021_0001_seg.npy',\n",
       " 'james_preds/XYZres022_0001_seg.npy',\n",
       " 'james_preds/XYZres023_0001_seg.npy',\n",
       " 'james_preds/XYZres024_0001_seg.npy',\n",
       " 'james_preds/XYZres025_0001_seg.npy',\n",
       " 'james_preds/XYZres026_0001_seg.npy',\n",
       " 'james_preds/XYZres027_0001_seg.npy',\n",
       " 'james_preds/XYZres028_0001_seg.npy',\n",
       " 'james_preds/XYZres029_0001_seg.npy',\n",
       " 'james_preds/XYZres030_0001_seg.npy',\n",
       " 'james_preds/XYZres031_0001_seg.npy',\n",
       " 'james_preds/XYZres032_0001_seg.npy',\n",
       " 'james_preds/XYZres033_0001_seg.npy',\n",
       " 'james_preds/XYZres034_0001_seg.npy',\n",
       " 'james_preds/XYZres035_0001_seg.npy',\n",
       " 'james_preds/XYZres036_0001_seg.npy',\n",
       " 'james_preds/XYZres037_0001_seg.npy',\n",
       " 'james_preds/XYZres038_0001_seg.npy',\n",
       " 'james_preds/XYZres039_0001_seg.npy',\n",
       " 'james_preds/XYZres040_0001_seg.npy',\n",
       " 'james_preds/XYZres041_0001_seg.npy',\n",
       " 'james_preds/XYZres042_0001_seg.npy',\n",
       " 'james_preds/XYZres043_0001_seg.npy',\n",
       " 'james_preds/XYZres044_0001_seg.npy',\n",
       " 'james_preds/XYZres045_0001_seg.npy',\n",
       " 'james_preds/XYZres046_0001_seg.npy',\n",
       " 'james_preds/XYZres047_0001_seg.npy',\n",
       " 'james_preds/XYZres048_0001_seg.npy',\n",
       " 'james_preds/XYZres049_0001_seg.npy',\n",
       " 'james_preds/XYZres050_0001_seg.npy',\n",
       " 'james_preds/XYZres051_0001_seg.npy',\n",
       " 'james_preds/XYZres052_0001_seg.npy']"
      ]
     },
     "execution_count": 8,
     "metadata": {},
     "output_type": "execute_result"
    }
   ],
   "source": [
    "files_seg_0001 = directory.glob('*_0001_seg.npy')\n",
    "files_seg_0001 = sorted([x.as_posix() for x in files_seg_0001])\n",
    "files_seg_0001"
   ]
  },
  {
   "cell_type": "code",
   "execution_count": 9,
   "id": "c2650c5b",
   "metadata": {},
   "outputs": [
    {
     "name": "stderr",
     "output_type": "stream",
     "text": [
      "\r",
      "  0%|          | 0/47 [00:00<?, ?it/s]"
     ]
    },
    {
     "name": "stdout",
     "output_type": "stream",
     "text": [
      "23427\n"
     ]
    },
    {
     "name": "stderr",
     "output_type": "stream",
     "text": [
      "/tmp/ipykernel_260671/49184904.py:23: UserWarning: james_preds/XYZres006_dst_skel.tif is a low contrast image\n",
      "  io.imsave(re.sub('seg.npy','dst_skel.tif',file),skel_dst)\n",
      "/tmp/ipykernel_260671/49184904.py:27: UserWarning: james_preds/XYZres006_0001_dst_skel.tif is a low contrast image\n",
      "  io.imsave(re.sub('seg.npy','dst_skel.tif',file_0001),skel_dst_0001)\n",
      "  2%|▏         | 1/47 [00:41<31:31, 41.11s/it]\n"
     ]
    },
    {
     "ename": "KeyboardInterrupt",
     "evalue": "",
     "output_type": "error",
     "traceback": [
      "\u001b[0;31m---------------------------------------------------------------------------\u001b[0m",
      "\u001b[0;31mKeyboardInterrupt\u001b[0m                         Traceback (most recent call last)",
      "Input \u001b[0;32mIn [9]\u001b[0m, in \u001b[0;36m<module>\u001b[0;34m\u001b[0m\n\u001b[1;32m      6\u001b[0m skel \u001b[38;5;241m=\u001b[39m loadmat(skel_file)[\u001b[38;5;124m'\u001b[39m\u001b[38;5;124mFilteredImage\u001b[39m\u001b[38;5;124m'\u001b[39m]\n\u001b[1;32m      7\u001b[0m skel \u001b[38;5;241m=\u001b[39m skeletonize_3d(skel)\n\u001b[0;32m----> 8\u001b[0m skel \u001b[38;5;241m=\u001b[39m \u001b[43mremove_small_comps_3d\u001b[49m\u001b[43m(\u001b[49m\u001b[43mskel\u001b[49m\u001b[43m,\u001b[49m\u001b[38;5;241;43m10\u001b[39;49m\u001b[43m)\u001b[49m\n\u001b[1;32m      9\u001b[0m \u001b[38;5;28mprint\u001b[39m(np\u001b[38;5;241m.\u001b[39msum(skel))\n\u001b[1;32m     10\u001b[0m dst_tsfm \u001b[38;5;241m=\u001b[39m distance_transform_edt(seg)\u001b[38;5;241m*\u001b[39m\u001b[38;5;241m0.99436\u001b[39m\n",
      "Input \u001b[0;32mIn [3]\u001b[0m, in \u001b[0;36mremove_small_comps_3d\u001b[0;34m(image, thresh)\u001b[0m\n\u001b[1;32m      2\u001b[0m \u001b[38;5;124;03m\"\"\"\u001b[39;00m\n\u001b[1;32m      3\u001b[0m \u001b[38;5;124;03m\u001b[39;00m\n\u001b[1;32m      4\u001b[0m \n\u001b[0;32m   (...)\u001b[0m\n\u001b[1;32m     16\u001b[0m \n\u001b[1;32m     17\u001b[0m \u001b[38;5;124;03m\"\"\"\u001b[39;00m\n\u001b[1;32m     18\u001b[0m img_lab, N \u001b[38;5;241m=\u001b[39m cc3d\u001b[38;5;241m.\u001b[39mconnected_components(image,return_N\u001b[38;5;241m=\u001b[39m\u001b[38;5;28;01mTrue\u001b[39;00m)\n\u001b[0;32m---> 19\u001b[0m unique, counts \u001b[38;5;241m=\u001b[39m \u001b[43mnp\u001b[49m\u001b[38;5;241;43m.\u001b[39;49m\u001b[43munique\u001b[49m\u001b[43m(\u001b[49m\u001b[43mimg_lab\u001b[49m\u001b[43m,\u001b[49m\u001b[43m \u001b[49m\u001b[43mreturn_counts\u001b[49m\u001b[38;5;241;43m=\u001b[39;49m\u001b[38;5;28;43;01mTrue\u001b[39;49;00m\u001b[43m)\u001b[49m\n\u001b[1;32m     20\u001b[0m unique_keep \u001b[38;5;241m=\u001b[39m unique[counts\u001b[38;5;241m>\u001b[39mthresh]\n\u001b[1;32m     21\u001b[0m unique_keep \u001b[38;5;241m=\u001b[39m np\u001b[38;5;241m.\u001b[39mdelete(unique_keep,[\u001b[38;5;241m0\u001b[39m])\n",
      "File \u001b[0;32m<__array_function__ internals>:5\u001b[0m, in \u001b[0;36munique\u001b[0;34m(*args, **kwargs)\u001b[0m\n",
      "File \u001b[0;32m~/.local/lib/python3.8/site-packages/numpy/lib/arraysetops.py:272\u001b[0m, in \u001b[0;36munique\u001b[0;34m(ar, return_index, return_inverse, return_counts, axis)\u001b[0m\n\u001b[1;32m    270\u001b[0m ar \u001b[38;5;241m=\u001b[39m np\u001b[38;5;241m.\u001b[39masanyarray(ar)\n\u001b[1;32m    271\u001b[0m \u001b[38;5;28;01mif\u001b[39;00m axis \u001b[38;5;129;01mis\u001b[39;00m \u001b[38;5;28;01mNone\u001b[39;00m:\n\u001b[0;32m--> 272\u001b[0m     ret \u001b[38;5;241m=\u001b[39m \u001b[43m_unique1d\u001b[49m\u001b[43m(\u001b[49m\u001b[43mar\u001b[49m\u001b[43m,\u001b[49m\u001b[43m \u001b[49m\u001b[43mreturn_index\u001b[49m\u001b[43m,\u001b[49m\u001b[43m \u001b[49m\u001b[43mreturn_inverse\u001b[49m\u001b[43m,\u001b[49m\u001b[43m \u001b[49m\u001b[43mreturn_counts\u001b[49m\u001b[43m)\u001b[49m\n\u001b[1;32m    273\u001b[0m     \u001b[38;5;28;01mreturn\u001b[39;00m _unpack_tuple(ret)\n\u001b[1;32m    275\u001b[0m \u001b[38;5;66;03m# axis was specified and not None\u001b[39;00m\n",
      "File \u001b[0;32m~/.local/lib/python3.8/site-packages/numpy/lib/arraysetops.py:348\u001b[0m, in \u001b[0;36m_unique1d\u001b[0;34m(ar, return_index, return_inverse, return_counts)\u001b[0m\n\u001b[1;32m    346\u001b[0m     mask[aux_firstnan \u001b[38;5;241m+\u001b[39m \u001b[38;5;241m1\u001b[39m:] \u001b[38;5;241m=\u001b[39m \u001b[38;5;28;01mFalse\u001b[39;00m\n\u001b[1;32m    347\u001b[0m \u001b[38;5;28;01melse\u001b[39;00m:\n\u001b[0;32m--> 348\u001b[0m     mask[\u001b[38;5;241m1\u001b[39m:] \u001b[38;5;241m=\u001b[39m \u001b[43maux\u001b[49m\u001b[43m[\u001b[49m\u001b[38;5;241;43m1\u001b[39;49m\u001b[43m:\u001b[49m\u001b[43m]\u001b[49m\u001b[43m \u001b[49m\u001b[38;5;241;43m!=\u001b[39;49m\u001b[43m \u001b[49m\u001b[43maux\u001b[49m\u001b[43m[\u001b[49m\u001b[43m:\u001b[49m\u001b[38;5;241;43m-\u001b[39;49m\u001b[38;5;241;43m1\u001b[39;49m\u001b[43m]\u001b[49m\n\u001b[1;32m    350\u001b[0m ret \u001b[38;5;241m=\u001b[39m (aux[mask],)\n\u001b[1;32m    351\u001b[0m \u001b[38;5;28;01mif\u001b[39;00m return_index:\n",
      "\u001b[0;31mKeyboardInterrupt\u001b[0m: "
     ]
    }
   ],
   "source": [
    "for file_0001 in tqdm(files_seg_0001):\n",
    "    file = re.sub('_0001','',file_0001)\n",
    "    skel_file = re.sub('seg.npy','skel.mat',file)\n",
    "    seg = np.load(file)\n",
    "    skel = loadmat(skel_file)\n",
    "    skel = loadmat(skel_file)['FilteredImage']\n",
    "    skel = skeletonize_3d(skel)\n",
    "    skel = remove_small_comps_3d(skel,10)\n",
    "    print(np.sum(skel))\n",
    "    dst_tsfm = distance_transform_edt(seg)*0.99436\n",
    "    skel_dst = skel*dst_tsfm\n",
    "    \n",
    "    skel_file_0001 = re.sub('seg.npy','skel.mat',file_0001)\n",
    "    seg_0001 = np.load(file_0001)\n",
    "    skel_0001 = loadmat(skel_file_0001)\n",
    "    skel_0001 = loadmat(skel_file_0001)['FilteredImage']\n",
    "    skel_0001 = skeletonize_3d(skel_0001)\n",
    "    skel_0001 = remove_small_comps_3d(skel_0001,10)\n",
    "    dst_tsfm_0001 = distance_transform_edt(seg_0001)*0.99436\n",
    "    skel_dst_0001 = skel_0001*dst_tsfm_0001\n",
    "    \n",
    "    np.save(re.sub('seg','dst_skel',file),skel_dst)\n",
    "    io.imsave(re.sub('seg.npy','dst_skel.tif',file),skel_dst)\n",
    "    graph = sknw.build_sknw(skel_dst, multi=False)\n",
    "    \n",
    "    np.save(re.sub('seg','dst_skel',file_0001),skel_dst_0001)\n",
    "    io.imsave(re.sub('seg.npy','dst_skel.tif',file_0001),skel_dst_0001)\n",
    "    graph_0001 = sknw.build_sknw(skel_dst_0001, multi=False)\n",
    "    #pickle.dump(graph, open(str(re.sub('_seg.npy','.pickle',file)), 'w'))\n",
    "    #nx.write_pajek(graph,re.sub('_seg.npy','.pajek',file))\n",
    "    nx.write_gpickle(graph,re.sub('_seg.npy','.pickle',file))\n",
    "    nx.write_gpickle(graph_0001,re.sub('_seg.npy','.pickle',file_0001))\n",
    "    #graph = skan.summarize(skan.Skeleton(skel_dst))\n",
    "    #raph.to_csv(re.sub('seg.npy','graph.csv',file))"
   ]
  },
  {
   "cell_type": "code",
   "execution_count": 22,
   "id": "32e7d8b8",
   "metadata": {},
   "outputs": [
    {
     "data": {
      "text/plain": [
       "(507, 507, 252)"
      ]
     },
     "execution_count": 22,
     "metadata": {},
     "output_type": "execute_result"
    }
   ],
   "source": [
    "skel_dst_0001.shape"
   ]
  },
  {
   "cell_type": "code",
   "execution_count": 31,
   "id": "69e2f853",
   "metadata": {},
   "outputs": [
    {
     "data": {
      "text/plain": [
       "'james_preds/XYZres006_0001.pickle'"
      ]
     },
     "execution_count": 31,
     "metadata": {},
     "output_type": "execute_result"
    }
   ],
   "source": [
    "re.sub('_seg.npy','.pickle',file)"
   ]
  },
  {
   "cell_type": "code",
   "execution_count": null,
   "id": "ad48348d",
   "metadata": {},
   "outputs": [],
   "source": [
    "skel_file = re.sub('seg.npy','skel.mat',file)"
   ]
  },
  {
   "cell_type": "code",
   "execution_count": 27,
   "id": "8d28f977",
   "metadata": {},
   "outputs": [
    {
     "data": {
      "text/plain": [
       "{'pts': array([[  3, 419,  33],\n",
       "        [  4, 419,  33],\n",
       "        [  5, 419,  33],\n",
       "        [  6, 419,  32],\n",
       "        [  7, 419,  31],\n",
       "        [  8, 419,  31],\n",
       "        [  9, 419,  31],\n",
       "        [ 10, 419,  30],\n",
       "        [ 11, 419,  29],\n",
       "        [ 12, 419,  28],\n",
       "        [ 13, 419,  27],\n",
       "        [ 14, 419,  27],\n",
       "        [ 15, 420,  26],\n",
       "        [ 16, 420,  25],\n",
       "        [ 17, 420,  25],\n",
       "        [ 18, 420,  25],\n",
       "        [ 19, 420,  25],\n",
       "        [ 20, 420,  25],\n",
       "        [ 21, 420,  24],\n",
       "        [ 22, 420,  23],\n",
       "        [ 23, 420,  22],\n",
       "        [ 24, 420,  21],\n",
       "        [ 25, 420,  20],\n",
       "        [ 26, 420,  19],\n",
       "        [ 26, 420,  18],\n",
       "        [ 26, 420,  17],\n",
       "        [ 27, 421,  16],\n",
       "        [ 28, 421,  15],\n",
       "        [ 29, 421,  14],\n",
       "        [ 30, 421,  14],\n",
       "        [ 31, 421,  13],\n",
       "        [ 31, 421,  12],\n",
       "        [ 32, 421,  11],\n",
       "        [ 33, 421,  10],\n",
       "        [ 34, 421,  10],\n",
       "        [ 35, 421,   9],\n",
       "        [ 36, 421,   9],\n",
       "        [ 37, 421,   8],\n",
       "        [ 38, 421,   9],\n",
       "        [ 39, 421,  10],\n",
       "        [ 40, 422,  11],\n",
       "        [ 41, 422,  11],\n",
       "        [ 42, 422,  12]], dtype=int16),\n",
       " 'weight': 53.72306435728781}"
      ]
     },
     "execution_count": 27,
     "metadata": {},
     "output_type": "execute_result"
    }
   ],
   "source": [
    "graph[0][39]"
   ]
  },
  {
   "cell_type": "code",
   "execution_count": null,
   "id": "ba468b30",
   "metadata": {},
   "outputs": [],
   "source": [
    "re.sub('seg.npy','graph.csv',file_0001)"
   ]
  },
  {
   "cell_type": "code",
   "execution_count": null,
   "id": "260b6435",
   "metadata": {},
   "outputs": [],
   "source": [
    "files[22:24]"
   ]
  },
  {
   "cell_type": "code",
   "execution_count": null,
   "id": "7854b94f",
   "metadata": {},
   "outputs": [],
   "source": []
  }
 ],
 "metadata": {
  "kernelspec": {
   "display_name": "monai3.8",
   "language": "python",
   "name": "monai3.8"
  },
  "language_info": {
   "codemirror_mode": {
    "name": "ipython",
    "version": 3
   },
   "file_extension": ".py",
   "mimetype": "text/x-python",
   "name": "python",
   "nbconvert_exporter": "python",
   "pygments_lexer": "ipython3",
   "version": "3.8.10"
  }
 },
 "nbformat": 4,
 "nbformat_minor": 5
}
