{
 "cells": [
  {
   "cell_type": "code",
   "execution_count": 12,
   "metadata": {},
   "outputs": [],
   "source": [
    "import numpy as np\n",
    "from pathlib import Path\n",
    "import re\n",
    "from tqdm import tqdm\n",
    "from skimage import io\n",
    "from skimage.morphology import skeletonize_3d, binary_dilation\n",
    "from scipy.ndimage import distance_transform_edt\n",
    "import tifffile as tif\n",
    "from scipy.ndimage import binary_fill_holes \n",
    "import cc3d\n",
    "from scipy.io import loadmat, savemat\n",
    "import skan\n",
    "import networkx as nx\n",
    "from collections import Counter\n",
    "import pandas as pd"
   ]
  },
  {
   "cell_type": "code",
   "execution_count": null,
   "metadata": {},
   "outputs": [],
   "source": []
  },
  {
   "cell_type": "code",
   "execution_count": 13,
   "metadata": {},
   "outputs": [
    {
     "data": {
      "text/plain": [
       "'james_preds/XYZres006_0001_warped.pickle'"
      ]
     },
     "execution_count": 13,
     "metadata": {},
     "output_type": "execute_result"
    }
   ],
   "source": [
    "directory = Path('james_preds')\n",
    "files  = directory.glob('*?[0-9]_warped.pickle')\n",
    "files = sorted([x.as_posix() for x in files])\n",
    "files = [x for x in files if 'clean' not in x]\n",
    "files[0]"
   ]
  },
  {
   "cell_type": "code",
   "execution_count": 4,
   "metadata": {},
   "outputs": [
    {
     "name": "stderr",
     "output_type": "stream",
     "text": [
      "100%|██████████| 94/94 [19:11<00:00, 12.25s/it]\n"
     ]
    }
   ],
   "source": [
    "for file in tqdm(files):\n",
    "    graph = nx.read_gpickle(file)\n",
    "    skel_dst = io.imread(re.sub('_warped.pickle','_dst_skel_warped.tif',file))\n",
    "    for i in range(len(graph.edges)):\n",
    "        path = graph[list(graph.edges)[i][0]][list(graph.edges)[i][1]]['pts']\n",
    "        _vals = skel_dst[path[:,0],path[:,1],path[:,2]]\n",
    "        graph[list(graph.edges)[i][0]][list(graph.edges)[i][1]]['radii'] = np.mean(_vals)\n",
    "        graph[list(graph.edges)[i][0]][list(graph.edges)[i][1]]['radii_std'] = np.std(_vals)\n",
    "        graph[list(graph.edges)[i][0]][list(graph.edges)[i][1]]['path_weights'] = _vals\n",
    "        graph[list(graph.edges)[i][0]][list(graph.edges)[i][1]]['weight'] = graph[list(graph.edges)[i][0]][list(graph.edges)[i][1]]['weight'] * 0.99436\n",
    "        graph[list(graph.edges)[i][0]][list(graph.edges)[i][1]]['end-0'] = path[0]\n",
    "        graph[list(graph.edges)[i][0]][list(graph.edges)[i][1]]['end-1'] = path[-1]\n",
    "    nx.write_gpickle(graph, re.sub('.pickle','_radii.pickle',file))"
   ]
  },
  {
   "cell_type": "code",
   "execution_count": 17,
   "metadata": {},
   "outputs": [],
   "source": [
    "directory = Path('james_preds')\n",
    "files  = directory.glob('*_0001_warped_radii_clean.pickle')\n",
    "files = sorted([x.as_posix() for x in files])"
   ]
  },
  {
   "cell_type": "code",
   "execution_count": 18,
   "metadata": {},
   "outputs": [
    {
     "data": {
      "text/plain": [
       "'james_preds/XYZres006_0001_warped_radii_clean.pickle'"
      ]
     },
     "execution_count": 18,
     "metadata": {},
     "output_type": "execute_result"
    }
   ],
   "source": [
    "files[0]"
   ]
  },
  {
   "cell_type": "code",
   "execution_count": 21,
   "metadata": {},
   "outputs": [
    {
     "name": "stderr",
     "output_type": "stream",
     "text": [
      "  0%|          | 0/47 [00:00<?, ?it/s]/tmp/ipykernel_390016/1647967039.py:16: RuntimeWarning: invalid value encountered in sqrt\n",
      "  dst_start_mtch = np.sqrt(np.sum(np.square(start-start_0001)))\n",
      "/tmp/ipykernel_390016/1647967039.py:19: RuntimeWarning: invalid value encountered in sqrt\n",
      "  dst_end_opp = np.sqrt(np.sum(np.square(end-start_0001)))\n",
      "/tmp/ipykernel_390016/1647967039.py:17: RuntimeWarning: invalid value encountered in sqrt\n",
      "  dst_end_mtch = np.sqrt(np.sum(np.square(end-end_0001)))\n",
      "/tmp/ipykernel_390016/1647967039.py:18: RuntimeWarning: invalid value encountered in sqrt\n",
      "  dst_start_opp = np.sqrt(np.sum(np.square(start-end_0001)))\n",
      "  2%|▏         | 1/47 [00:04<03:31,  4.59s/it]"
     ]
    },
    {
     "name": "stdout",
     "output_type": "stream",
     "text": [
      "(37, 2, 2)\n",
      "(31, 2, 2)\n",
      "james_preds/XYZres006_warped_radii_matched.pickle\n"
     ]
    },
    {
     "name": "stderr",
     "output_type": "stream",
     "text": [
      "\r",
      "  4%|▍         | 2/47 [00:07<02:43,  3.64s/it]"
     ]
    },
    {
     "name": "stdout",
     "output_type": "stream",
     "text": [
      "(152, 2, 2)\n",
      "(117, 2, 2)\n",
      "james_preds/XYZres007_warped_radii_matched.pickle\n"
     ]
    },
    {
     "name": "stderr",
     "output_type": "stream",
     "text": [
      "\r",
      "  6%|▋         | 3/47 [00:12<03:06,  4.23s/it]"
     ]
    },
    {
     "name": "stdout",
     "output_type": "stream",
     "text": [
      "(224, 2, 2)\n",
      "(198, 2, 2)\n",
      "james_preds/XYZres008_warped_radii_matched.pickle\n"
     ]
    },
    {
     "name": "stderr",
     "output_type": "stream",
     "text": [
      "\r",
      "  9%|▊         | 4/47 [00:17<03:21,  4.69s/it]"
     ]
    },
    {
     "name": "stdout",
     "output_type": "stream",
     "text": [
      "(222, 2, 2)\n",
      "(172, 2, 2)\n",
      "james_preds/XYZres009_warped_radii_matched.pickle\n"
     ]
    },
    {
     "name": "stderr",
     "output_type": "stream",
     "text": [
      "\r",
      " 11%|█         | 5/47 [00:23<03:37,  5.18s/it]"
     ]
    },
    {
     "name": "stdout",
     "output_type": "stream",
     "text": [
      "(249, 2, 2)\n",
      "(192, 2, 2)\n",
      "james_preds/XYZres010_warped_radii_matched.pickle\n"
     ]
    },
    {
     "name": "stderr",
     "output_type": "stream",
     "text": [
      "\r",
      " 13%|█▎        | 6/47 [00:29<03:35,  5.26s/it]"
     ]
    },
    {
     "name": "stdout",
     "output_type": "stream",
     "text": [
      "(231, 2, 2)\n",
      "(173, 2, 2)\n",
      "james_preds/XYZres011_warped_radii_matched.pickle\n"
     ]
    },
    {
     "name": "stderr",
     "output_type": "stream",
     "text": [
      "\r",
      " 15%|█▍        | 7/47 [00:34<03:33,  5.34s/it]"
     ]
    },
    {
     "name": "stdout",
     "output_type": "stream",
     "text": [
      "(238, 2, 2)\n",
      "(195, 2, 2)\n",
      "james_preds/XYZres012_warped_radii_matched.pickle\n"
     ]
    },
    {
     "name": "stderr",
     "output_type": "stream",
     "text": [
      "\r",
      " 17%|█▋        | 8/47 [00:40<03:33,  5.46s/it]"
     ]
    },
    {
     "name": "stdout",
     "output_type": "stream",
     "text": [
      "(242, 2, 2)\n",
      "(191, 2, 2)\n",
      "james_preds/XYZres013_warped_radii_matched.pickle\n"
     ]
    },
    {
     "name": "stderr",
     "output_type": "stream",
     "text": [
      "\r",
      " 19%|█▉        | 9/47 [00:47<03:39,  5.78s/it]"
     ]
    },
    {
     "name": "stdout",
     "output_type": "stream",
     "text": [
      "(247, 2, 2)\n",
      "(194, 2, 2)\n",
      "james_preds/XYZres014_warped_radii_matched.pickle\n"
     ]
    },
    {
     "name": "stderr",
     "output_type": "stream",
     "text": [
      "\r",
      " 21%|██▏       | 10/47 [00:48<02:44,  4.46s/it]"
     ]
    },
    {
     "name": "stdout",
     "output_type": "stream",
     "text": [
      "(113, 2, 2)\n",
      "(90, 2, 2)\n",
      "james_preds/XYZres015_warped_radii_matched.pickle\n"
     ]
    },
    {
     "name": "stderr",
     "output_type": "stream",
     "text": [
      "\r",
      " 23%|██▎       | 11/47 [00:52<02:40,  4.45s/it]"
     ]
    },
    {
     "name": "stdout",
     "output_type": "stream",
     "text": [
      "(216, 2, 2)\n",
      "(182, 2, 2)\n",
      "james_preds/XYZres016_warped_radii_matched.pickle\n"
     ]
    },
    {
     "name": "stderr",
     "output_type": "stream",
     "text": [
      "\r",
      " 26%|██▌       | 12/47 [00:54<02:01,  3.46s/it]"
     ]
    },
    {
     "name": "stdout",
     "output_type": "stream",
     "text": [
      "(86, 2, 2)\n",
      "(69, 2, 2)\n",
      "james_preds/XYZres017_warped_radii_matched.pickle\n"
     ]
    },
    {
     "name": "stderr",
     "output_type": "stream",
     "text": [
      "\r",
      " 28%|██▊       | 13/47 [00:58<02:05,  3.70s/it]"
     ]
    },
    {
     "name": "stdout",
     "output_type": "stream",
     "text": [
      "(176, 2, 2)\n",
      "(134, 2, 2)\n",
      "james_preds/XYZres018_warped_radii_matched.pickle\n"
     ]
    },
    {
     "name": "stderr",
     "output_type": "stream",
     "text": [
      "\r",
      " 30%|██▉       | 14/47 [00:59<01:35,  2.90s/it]"
     ]
    },
    {
     "name": "stdout",
     "output_type": "stream",
     "text": [
      "(93, 2, 2)\n",
      "(83, 2, 2)\n",
      "james_preds/XYZres019_warped_radii_matched.pickle\n"
     ]
    },
    {
     "name": "stderr",
     "output_type": "stream",
     "text": [
      "\r",
      " 32%|███▏      | 15/47 [01:03<01:42,  3.21s/it]"
     ]
    },
    {
     "name": "stdout",
     "output_type": "stream",
     "text": [
      "(198, 2, 2)\n",
      "(166, 2, 2)\n",
      "james_preds/XYZres020_warped_radii_matched.pickle\n"
     ]
    },
    {
     "name": "stderr",
     "output_type": "stream",
     "text": [
      "\r",
      " 34%|███▍      | 16/47 [01:09<02:09,  4.19s/it]"
     ]
    },
    {
     "name": "stdout",
     "output_type": "stream",
     "text": [
      "(236, 2, 2)\n",
      "(173, 2, 2)\n",
      "james_preds/XYZres021_warped_radii_matched.pickle\n"
     ]
    },
    {
     "name": "stderr",
     "output_type": "stream",
     "text": [
      "\r",
      " 36%|███▌      | 17/47 [01:14<02:13,  4.46s/it]"
     ]
    },
    {
     "name": "stdout",
     "output_type": "stream",
     "text": [
      "(222, 2, 2)\n",
      "(182, 2, 2)\n",
      "james_preds/XYZres022_warped_radii_matched.pickle\n"
     ]
    },
    {
     "name": "stderr",
     "output_type": "stream",
     "text": [
      "\r",
      " 38%|███▊      | 18/47 [01:21<02:28,  5.13s/it]"
     ]
    },
    {
     "name": "stdout",
     "output_type": "stream",
     "text": [
      "(268, 2, 2)\n",
      "(184, 2, 2)\n",
      "james_preds/XYZres023_warped_radii_matched.pickle\n"
     ]
    },
    {
     "name": "stderr",
     "output_type": "stream",
     "text": [
      "\r",
      " 40%|████      | 19/47 [01:26<02:18,  4.93s/it]"
     ]
    },
    {
     "name": "stdout",
     "output_type": "stream",
     "text": [
      "(213, 2, 2)\n",
      "(171, 2, 2)\n",
      "james_preds/XYZres024_warped_radii_matched.pickle\n"
     ]
    },
    {
     "name": "stderr",
     "output_type": "stream",
     "text": [
      "\r",
      " 43%|████▎     | 20/47 [01:31<02:18,  5.15s/it]"
     ]
    },
    {
     "name": "stdout",
     "output_type": "stream",
     "text": [
      "(224, 2, 2)\n",
      "(168, 2, 2)\n",
      "james_preds/XYZres025_warped_radii_matched.pickle\n"
     ]
    },
    {
     "name": "stderr",
     "output_type": "stream",
     "text": [
      "\r",
      " 45%|████▍     | 21/47 [01:36<02:11,  5.06s/it]"
     ]
    },
    {
     "name": "stdout",
     "output_type": "stream",
     "text": [
      "(262, 2, 2)\n",
      "(201, 2, 2)\n",
      "james_preds/XYZres026_warped_radii_matched.pickle\n"
     ]
    },
    {
     "name": "stderr",
     "output_type": "stream",
     "text": [
      "\r",
      " 47%|████▋     | 22/47 [01:43<02:18,  5.55s/it]"
     ]
    },
    {
     "name": "stdout",
     "output_type": "stream",
     "text": [
      "(328, 2, 2)\n",
      "(245, 2, 2)\n",
      "james_preds/XYZres027_warped_radii_matched.pickle\n"
     ]
    },
    {
     "name": "stderr",
     "output_type": "stream",
     "text": [
      "\r",
      " 49%|████▉     | 23/47 [01:48<02:08,  5.35s/it]"
     ]
    },
    {
     "name": "stdout",
     "output_type": "stream",
     "text": [
      "(241, 2, 2)\n",
      "(180, 2, 2)\n",
      "james_preds/XYZres028_warped_radii_matched.pickle\n"
     ]
    },
    {
     "name": "stderr",
     "output_type": "stream",
     "text": [
      "\r",
      " 51%|█████     | 24/47 [01:55<02:16,  5.95s/it]"
     ]
    },
    {
     "name": "stdout",
     "output_type": "stream",
     "text": [
      "(335, 2, 2)\n",
      "(219, 2, 2)\n",
      "james_preds/XYZres029_warped_radii_matched.pickle\n"
     ]
    },
    {
     "name": "stderr",
     "output_type": "stream",
     "text": [
      "\r",
      " 53%|█████▎    | 25/47 [02:00<02:01,  5.52s/it]"
     ]
    },
    {
     "name": "stdout",
     "output_type": "stream",
     "text": [
      "(264, 2, 2)\n",
      "(200, 2, 2)\n",
      "james_preds/XYZres030_warped_radii_matched.pickle\n"
     ]
    },
    {
     "name": "stderr",
     "output_type": "stream",
     "text": [
      "\r",
      " 55%|█████▌    | 26/47 [02:07<02:07,  6.08s/it]"
     ]
    },
    {
     "name": "stdout",
     "output_type": "stream",
     "text": [
      "(328, 2, 2)\n",
      "(229, 2, 2)\n",
      "james_preds/XYZres031_warped_radii_matched.pickle\n"
     ]
    },
    {
     "name": "stderr",
     "output_type": "stream",
     "text": [
      "\r",
      " 57%|█████▋    | 27/47 [02:11<01:50,  5.53s/it]"
     ]
    },
    {
     "name": "stdout",
     "output_type": "stream",
     "text": [
      "(234, 2, 2)\n",
      "(183, 2, 2)\n",
      "james_preds/XYZres032_warped_radii_matched.pickle\n"
     ]
    },
    {
     "name": "stderr",
     "output_type": "stream",
     "text": [
      "\r",
      " 60%|█████▉    | 28/47 [02:14<01:30,  4.74s/it]"
     ]
    },
    {
     "name": "stdout",
     "output_type": "stream",
     "text": [
      "(183, 2, 2)\n",
      "(136, 2, 2)\n",
      "james_preds/XYZres033_warped_radii_matched.pickle\n"
     ]
    },
    {
     "name": "stderr",
     "output_type": "stream",
     "text": [
      "\r",
      " 62%|██████▏   | 29/47 [02:17<01:14,  4.16s/it]"
     ]
    },
    {
     "name": "stdout",
     "output_type": "stream",
     "text": [
      "(191, 2, 2)\n",
      "(161, 2, 2)\n",
      "james_preds/XYZres034_warped_radii_matched.pickle\n"
     ]
    },
    {
     "name": "stderr",
     "output_type": "stream",
     "text": [
      "\r",
      " 64%|██████▍   | 30/47 [02:20<01:03,  3.72s/it]"
     ]
    },
    {
     "name": "stdout",
     "output_type": "stream",
     "text": [
      "(149, 2, 2)\n",
      "(116, 2, 2)\n",
      "james_preds/XYZres035_warped_radii_matched.pickle\n"
     ]
    },
    {
     "name": "stderr",
     "output_type": "stream",
     "text": [
      "\r",
      " 66%|██████▌   | 31/47 [02:23<00:55,  3.48s/it]"
     ]
    },
    {
     "name": "stdout",
     "output_type": "stream",
     "text": [
      "(210, 2, 2)\n",
      "(174, 2, 2)\n",
      "james_preds/XYZres036_warped_radii_matched.pickle\n"
     ]
    },
    {
     "name": "stderr",
     "output_type": "stream",
     "text": [
      "\r",
      " 68%|██████▊   | 32/47 [02:25<00:49,  3.28s/it]"
     ]
    },
    {
     "name": "stdout",
     "output_type": "stream",
     "text": [
      "(161, 2, 2)\n",
      "(133, 2, 2)\n",
      "james_preds/XYZres037_warped_radii_matched.pickle\n"
     ]
    },
    {
     "name": "stderr",
     "output_type": "stream",
     "text": [
      "\r",
      " 70%|███████   | 33/47 [02:28<00:44,  3.17s/it]"
     ]
    },
    {
     "name": "stdout",
     "output_type": "stream",
     "text": [
      "(198, 2, 2)\n",
      "(161, 2, 2)\n",
      "james_preds/XYZres038_warped_radii_matched.pickle\n"
     ]
    },
    {
     "name": "stderr",
     "output_type": "stream",
     "text": [
      "\r",
      " 72%|███████▏  | 34/47 [02:31<00:41,  3.16s/it]"
     ]
    },
    {
     "name": "stdout",
     "output_type": "stream",
     "text": [
      "(168, 2, 2)\n",
      "(138, 2, 2)\n",
      "james_preds/XYZres039_warped_radii_matched.pickle\n"
     ]
    },
    {
     "name": "stderr",
     "output_type": "stream",
     "text": [
      "\r",
      " 74%|███████▍  | 35/47 [02:34<00:37,  3.12s/it]"
     ]
    },
    {
     "name": "stdout",
     "output_type": "stream",
     "text": [
      "(198, 2, 2)\n",
      "(162, 2, 2)\n",
      "james_preds/XYZres040_warped_radii_matched.pickle\n"
     ]
    },
    {
     "name": "stderr",
     "output_type": "stream",
     "text": [
      "\r",
      " 77%|███████▋  | 36/47 [02:37<00:33,  3.07s/it]"
     ]
    },
    {
     "name": "stdout",
     "output_type": "stream",
     "text": [
      "(173, 2, 2)\n",
      "(134, 2, 2)\n",
      "james_preds/XYZres041_warped_radii_matched.pickle\n"
     ]
    },
    {
     "name": "stderr",
     "output_type": "stream",
     "text": [
      "\r",
      " 79%|███████▊  | 37/47 [02:40<00:29,  2.99s/it]"
     ]
    },
    {
     "name": "stdout",
     "output_type": "stream",
     "text": [
      "(198, 2, 2)\n",
      "(173, 2, 2)\n",
      "james_preds/XYZres042_warped_radii_matched.pickle\n"
     ]
    },
    {
     "name": "stderr",
     "output_type": "stream",
     "text": [
      "\r",
      " 81%|████████  | 38/47 [02:43<00:26,  2.99s/it]"
     ]
    },
    {
     "name": "stdout",
     "output_type": "stream",
     "text": [
      "(181, 2, 2)\n",
      "(141, 2, 2)\n",
      "james_preds/XYZres043_warped_radii_matched.pickle\n"
     ]
    },
    {
     "name": "stderr",
     "output_type": "stream",
     "text": [
      "\r",
      " 83%|████████▎ | 39/47 [02:46<00:23,  2.90s/it]"
     ]
    },
    {
     "name": "stdout",
     "output_type": "stream",
     "text": [
      "(228, 2, 2)\n",
      "(183, 2, 2)\n",
      "james_preds/XYZres044_warped_radii_matched.pickle\n"
     ]
    },
    {
     "name": "stderr",
     "output_type": "stream",
     "text": [
      "\r",
      " 85%|████████▌ | 40/47 [02:47<00:17,  2.52s/it]"
     ]
    },
    {
     "name": "stdout",
     "output_type": "stream",
     "text": [
      "(131, 2, 2)\n",
      "(111, 2, 2)\n",
      "james_preds/XYZres045_warped_radii_matched.pickle\n"
     ]
    },
    {
     "name": "stderr",
     "output_type": "stream",
     "text": [
      "\r",
      " 87%|████████▋ | 41/47 [02:56<00:26,  4.39s/it]"
     ]
    },
    {
     "name": "stdout",
     "output_type": "stream",
     "text": [
      "(318, 2, 2)\n",
      "(229, 2, 2)\n",
      "james_preds/XYZres046_warped_radii_matched.pickle\n"
     ]
    },
    {
     "name": "stderr",
     "output_type": "stream",
     "text": [
      "\r",
      " 89%|████████▉ | 42/47 [03:03<00:25,  5.16s/it]"
     ]
    },
    {
     "name": "stdout",
     "output_type": "stream",
     "text": [
      "(352, 2, 2)\n",
      "(275, 2, 2)\n",
      "james_preds/XYZres047_warped_radii_matched.pickle\n"
     ]
    },
    {
     "name": "stderr",
     "output_type": "stream",
     "text": [
      "\r",
      " 91%|█████████▏| 43/47 [03:13<00:25,  6.44s/it]"
     ]
    },
    {
     "name": "stdout",
     "output_type": "stream",
     "text": [
      "(337, 2, 2)\n",
      "(259, 2, 2)\n",
      "james_preds/XYZres048_warped_radii_matched.pickle\n"
     ]
    },
    {
     "name": "stderr",
     "output_type": "stream",
     "text": [
      "\r",
      " 94%|█████████▎| 44/47 [03:20<00:20,  6.72s/it]"
     ]
    },
    {
     "name": "stdout",
     "output_type": "stream",
     "text": [
      "(346, 2, 2)\n",
      "(249, 2, 2)\n",
      "james_preds/XYZres049_warped_radii_matched.pickle\n"
     ]
    },
    {
     "name": "stderr",
     "output_type": "stream",
     "text": [
      "\r",
      " 96%|█████████▌| 45/47 [03:29<00:14,  7.32s/it]"
     ]
    },
    {
     "name": "stdout",
     "output_type": "stream",
     "text": [
      "(355, 2, 2)\n",
      "(265, 2, 2)\n",
      "james_preds/XYZres050_warped_radii_matched.pickle\n"
     ]
    },
    {
     "name": "stderr",
     "output_type": "stream",
     "text": [
      "\r",
      " 98%|█████████▊| 46/47 [03:36<00:07,  7.25s/it]"
     ]
    },
    {
     "name": "stdout",
     "output_type": "stream",
     "text": [
      "(363, 2, 2)\n",
      "(281, 2, 2)\n",
      "james_preds/XYZres051_warped_radii_matched.pickle\n"
     ]
    },
    {
     "name": "stderr",
     "output_type": "stream",
     "text": [
      "100%|██████████| 47/47 [03:38<00:00,  4.65s/it]"
     ]
    },
    {
     "name": "stdout",
     "output_type": "stream",
     "text": [
      "(187, 2, 2)\n",
      "(155, 2, 2)\n",
      "james_preds/XYZres052_warped_radii_matched.pickle\n"
     ]
    },
    {
     "name": "stderr",
     "output_type": "stream",
     "text": [
      "\n"
     ]
    }
   ],
   "source": [
    "for file_0001 in tqdm(files):\n",
    "    file = re.sub('_0001','',file_0001)\n",
    "    graph = nx.read_gpickle(file)\n",
    "    graph_0001 = nx.read_gpickle(file_0001)\n",
    "    res = []\n",
    "    thresh = 20\n",
    "    count=0\n",
    "    for i in list(graph.edges):\n",
    "        for j in list(graph_0001.edges):\n",
    "            if graph.edges[i]['weight'] > 5:\n",
    "                thresh_dst = graph.edges[i]['weight']/2\n",
    "                start = graph.edges[i]['end-0']\n",
    "                end = graph.edges[i]['end-1']\n",
    "                start_0001 = graph_0001.edges[j]['end-0']\n",
    "                end_0001 = graph_0001.edges[j]['end-1']\n",
    "                dst_start_mtch = np.sqrt(np.sum(np.square(start-start_0001)))\n",
    "                dst_end_mtch = np.sqrt(np.sum(np.square(end-end_0001)))\n",
    "                dst_start_opp = np.sqrt(np.sum(np.square(start-end_0001)))\n",
    "                dst_end_opp = np.sqrt(np.sum(np.square(end-start_0001)))\n",
    "                path_dst = graph.edges[i]['weight']\n",
    "                path_dst_0001 = graph_0001.edges[j]['weight']\n",
    "                distance_delt = abs(path_dst - path_dst_0001)\n",
    "                if (dst_start_mtch < thresh and dst_end_mtch < thresh and distance_delt < thresh_dst or \n",
    "                    dst_start_opp < thresh and dst_end_opp < thresh and distance_delt < thresh_dst):\n",
    "                    res.append([i,j])\n",
    "                    graph.edges[i]['radii_0001'] = graph_0001.edges[j]['radii']\n",
    "                    graph.edges[i]['radii_0001_std'] = graph_0001.edges[j]['radii_std']\n",
    "                    break\n",
    "                else:\n",
    "                    continue\n",
    "    res = np.array(res)\n",
    "    \n",
    "    if len(res) !=0:\n",
    "        print(res.shape)\n",
    "        res_str = [\",\".join(item) for item in res[:,1].astype(str)]\n",
    "        repeated = [item for item, count in Counter(res_str).items() if count > 1]\n",
    "        res = np.array(res)\n",
    "        if len(repeated) != 0:\n",
    "            for i in range(len(repeated)):   # branches_selected.to_excel(re.sub('.tiff','_iso.xlsx',file))\n",
    "                res = np.delete(res,np.where(np.array(res_str) == repeated[i])[0],axis=0)\n",
    "                res_str = np.delete(res_str,np.where(np.array(res_str) == repeated[i])[0],axis=0)\n",
    "        res = np.array(res)\n",
    "        print(res.shape)\n",
    "        np.save(re.sub('.pickle','_edge_match.npy',file),res)\n",
    "        nx.write_gpickle(graph, re.sub('_clean.pickle','_matched.pickle',file))\n",
    "        print(re.sub('_clean.pickle','_matched.pickle',file))"
   ]
  },
  {
   "cell_type": "code",
   "execution_count": null,
   "metadata": {},
   "outputs": [],
   "source": [
    "print(res.shape)"
   ]
  },
  {
   "cell_type": "code",
   "execution_count": null,
   "metadata": {},
   "outputs": [],
   "source": [
    "res_str = [\",\".join(item) for item in res[:,1].astype(str)]\n",
    "repeated = [item for item, count in Counter(res_str).items() if count > 1]"
   ]
  },
  {
   "cell_type": "code",
   "execution_count": null,
   "metadata": {},
   "outputs": [],
   "source": [
    "res_str = [\",\".join(item) for item in res[:,1].astype(str)]\n",
    "repeated = [item for item, count in Counter(res_str).items() if count > 1]\n",
    "\n",
    "res = np.array(res)\n",
    "if len(repeated) != 0:\n",
    "    for i in range(len(repeated)):   # branches_selected.to_excel(re.sub('.tiff','_iso.xlsx',file))\n",
    "# branches_selected_0001.to_excel(re.sub('.tiff','_iso.xlsx',file_0001))\n",
    "# branches_full.to_excel(re.sub('.tiff','_iso_full.xlsx',file))\n",
    "# branches_full_0001.to_excel(re.sub('.tiff','_iso_full.xlsx',file_0001))\n",
    "# np.save(re.sub('.tiff','_iso_corr.txt',file),res)\n",
    "        res = np.delete(res,np.where(np.array(res_str) == repeated[i])[0],axis=0)\n",
    "\n",
    "\n",
    "\n",
    "res = np.array(res)\n",
    "print(res.shape)"
   ]
  },
  {
   "cell_type": "code",
   "execution_count": 11,
   "metadata": {},
   "outputs": [],
   "source": [
    "file = files[1]"
   ]
  },
  {
   "cell_type": "code",
   "execution_count": 12,
   "metadata": {},
   "outputs": [],
   "source": [
    "graph = nx.read_gpickle(file)"
   ]
  },
  {
   "cell_type": "code",
   "execution_count": 21,
   "metadata": {},
   "outputs": [
    {
     "data": {
      "text/plain": [
       "{'pts': array([[ 67,  12, 152],\n",
       "        [ 67,  13, 152],\n",
       "        [ 67,  14, 152],\n",
       "        [ 67,  15, 152],\n",
       "        [ 67,  16, 152],\n",
       "        [ 67,  17, 152],\n",
       "        [ 67,  18, 152],\n",
       "        [ 68,  19, 152],\n",
       "        [ 68,  20, 152],\n",
       "        [ 68,  21, 151],\n",
       "        [ 68,  22, 150],\n",
       "        [ 68,  23, 149],\n",
       "        [ 68,  24, 149],\n",
       "        [ 68,  25, 148],\n",
       "        [ 68,  26, 147],\n",
       "        [ 67,  27, 147],\n",
       "        [ 67,  28, 147],\n",
       "        [ 67,  29, 147],\n",
       "        [ 68,  30, 146],\n",
       "        [ 68,  31, 145],\n",
       "        [ 69,  32, 144],\n",
       "        [ 69,  33, 144],\n",
       "        [ 69,  34, 143],\n",
       "        [ 69,  35, 143],\n",
       "        [ 69,  36, 142],\n",
       "        [ 69,  37, 141],\n",
       "        [ 70,  38, 140],\n",
       "        [ 70,  38, 139],\n",
       "        [ 70,  39, 138],\n",
       "        [ 71,  40, 137],\n",
       "        [ 71,  41, 136],\n",
       "        [ 72,  42, 136],\n",
       "        [ 73,  43, 135],\n",
       "        [ 73,  44, 134],\n",
       "        [ 74,  45, 133],\n",
       "        [ 74,  46, 133],\n",
       "        [ 75,  47, 132],\n",
       "        [ 75,  48, 132],\n",
       "        [ 76,  49, 131],\n",
       "        [ 76,  50, 131],\n",
       "        [ 76,  51, 130],\n",
       "        [ 77,  52, 129],\n",
       "        [ 77,  53, 128],\n",
       "        [ 78,  54, 127],\n",
       "        [ 79,  55, 126],\n",
       "        [ 79,  56, 126],\n",
       "        [ 80,  57, 126],\n",
       "        [ 81,  58, 127],\n",
       "        [ 81,  59, 126],\n",
       "        [ 82,  60, 126],\n",
       "        [ 82,  61, 125],\n",
       "        [ 83,  62, 124],\n",
       "        [ 84,  63, 125],\n",
       "        [ 84,  64, 126],\n",
       "        [ 84,  65, 125],\n",
       "        [ 85,  66, 124],\n",
       "        [ 85,  67, 123],\n",
       "        [ 86,  68, 122],\n",
       "        [ 86,  69, 121],\n",
       "        [ 87,  70, 121],\n",
       "        [ 87,  71, 120],\n",
       "        [ 88,  72, 120],\n",
       "        [ 88,  73, 120],\n",
       "        [ 89,  74, 119]], dtype=int16),\n",
       " 'weight': 86.55192183791792,\n",
       " 'radii': 1.9851731564872899,\n",
       " 'radii_std': 0.24585060145805968,\n",
       " 'path_weights': array([1.98872   , 1.98872   , 1.98872   , 1.98872   , 1.98872   ,\n",
       "        1.98872   , 1.98872   , 1.72228204, 1.98872   , 1.98872   ,\n",
       "        1.98872   , 1.98872   , 1.98872   , 1.98872   , 1.4062374 ,\n",
       "        2.22345655, 2.43567462, 2.43567462, 2.22345655, 2.22345655,\n",
       "        1.98872   , 1.98872   , 1.98872   , 1.98872   , 1.98872   ,\n",
       "        1.98872   , 2.22345655, 2.22345655, 1.98872   , 2.22345655,\n",
       "        1.98872   , 2.22345655, 1.98872   , 1.98872   , 1.98872   ,\n",
       "        2.22345655, 1.98872   , 1.4062374 , 1.98872   , 1.98872   ,\n",
       "        1.98872   , 2.22345655, 1.98872   , 2.22345655, 2.22345655,\n",
       "        2.22345655, 2.22345655, 2.22345655, 2.22345655, 2.22345655,\n",
       "        1.98872   , 1.98872   , 1.72228204, 1.98872   , 1.4062374 ,\n",
       "        1.98872   , 1.98872   , 1.98872   , 1.4062374 , 1.98872   ,\n",
       "        1.4062374 , 1.72228204, 1.4062374 , 1.4062374 ]),\n",
       " 'end-0': array([ 67,  12, 152], dtype=int16),\n",
       " 'end-1': array([ 89,  74, 119], dtype=int16)}"
      ]
     },
     "execution_count": 21,
     "metadata": {},
     "output_type": "execute_result"
    }
   ],
   "source": [
    "graph[82][121]"
   ]
  },
  {
   "cell_type": "code",
   "execution_count": 16,
   "metadata": {},
   "outputs": [
    {
     "data": {
      "text/plain": [
       "[(0, 5),\n",
       " (1, 46),\n",
       " (2, 3),\n",
       " (6, 15),\n",
       " (7, 9),\n",
       " (8, 12),\n",
       " (10, 70),\n",
       " (11, 42),\n",
       " (13, 26),\n",
       " (14, 78),\n",
       " (16, 63),\n",
       " (17, 31),\n",
       " (18, 19),\n",
       " (20, 34),\n",
       " (21, 24),\n",
       " (23, 30),\n",
       " (27, 39),\n",
       " (28, 42),\n",
       " (29, 35),\n",
       " (31, 37),\n",
       " (31, 36),\n",
       " (32, 47),\n",
       " (33, 38),\n",
       " (38, 45),\n",
       " (40, 60),\n",
       " (41, 48),\n",
       " (42, 112),\n",
       " (50, 61),\n",
       " (51, 54),\n",
       " (52, 91),\n",
       " (53, 56),\n",
       " (55, 62),\n",
       " (58, 78),\n",
       " (59, 62),\n",
       " (60, 93),\n",
       " (60, 75),\n",
       " (62, 124),\n",
       " (64, 69),\n",
       " (65, 68),\n",
       " (66, 90),\n",
       " (67, 106),\n",
       " (72, 74),\n",
       " (73, 86),\n",
       " (75, 213),\n",
       " (75, 100),\n",
       " (77, 88),\n",
       " (78, 91),\n",
       " (80, 81),\n",
       " (82, 121),\n",
       " (83, 84),\n",
       " (88, 88),\n",
       " (88, 99),\n",
       " (89, 96),\n",
       " (91, 206),\n",
       " (94, 98),\n",
       " (95, 97),\n",
       " (101, 116),\n",
       " (102, 103),\n",
       " (102, 119),\n",
       " (102, 104),\n",
       " (105, 166),\n",
       " (109, 115),\n",
       " (111, 132),\n",
       " (112, 118),\n",
       " (112, 128),\n",
       " (113, 146),\n",
       " (114, 126),\n",
       " (117, 126),\n",
       " (122, 123),\n",
       " (124, 152),\n",
       " (124, 216),\n",
       " (125, 143),\n",
       " (126, 167),\n",
       " (127, 131),\n",
       " (127, 127),\n",
       " (127, 159),\n",
       " (127, 137),\n",
       " (128, 129),\n",
       " (128, 163),\n",
       " (130, 212),\n",
       " (133, 135),\n",
       " (134, 135),\n",
       " (135, 154),\n",
       " (136, 150),\n",
       " (138, 173),\n",
       " (140, 150),\n",
       " (141, 142),\n",
       " (144, 146),\n",
       " (145, 159),\n",
       " (146, 154),\n",
       " (147, 151),\n",
       " (148, 151),\n",
       " (149, 194),\n",
       " (150, 177),\n",
       " (151, 188),\n",
       " (153, 176),\n",
       " (154, 159),\n",
       " (155, 193),\n",
       " (156, 227),\n",
       " (157, 191),\n",
       " (158, 164),\n",
       " (159, 177),\n",
       " (160, 178),\n",
       " (161, 195),\n",
       " (162, 201),\n",
       " (163, 206),\n",
       " (163, 183),\n",
       " (164, 168),\n",
       " (164, 169),\n",
       " (164, 194),\n",
       " (164, 186),\n",
       " (165, 178),\n",
       " (170, 198),\n",
       " (171, 182),\n",
       " (172, 196),\n",
       " (174, 199),\n",
       " (175, 199),\n",
       " (177, 188),\n",
       " (178, 198),\n",
       " (179, 186),\n",
       " (180, 225),\n",
       " (181, 198),\n",
       " (181, 208),\n",
       " (181, 219),\n",
       " (181, 315),\n",
       " (184, 246),\n",
       " (185, 197),\n",
       " (186, 219),\n",
       " (187, 200),\n",
       " (188, 193),\n",
       " (189, 195),\n",
       " (190, 229),\n",
       " (193, 198),\n",
       " (194, 199),\n",
       " (195, 201),\n",
       " (199, 200),\n",
       " (199, 204),\n",
       " (200, 201),\n",
       " (200, 203),\n",
       " (205, 232),\n",
       " (206, 244),\n",
       " (207, 211),\n",
       " (209, 210),\n",
       " (214, 219),\n",
       " (215, 217),\n",
       " (218, 295),\n",
       " (220, 298),\n",
       " (221, 222),\n",
       " (223, 224),\n",
       " (226, 264),\n",
       " (228, 247),\n",
       " (230, 263),\n",
       " (231, 233),\n",
       " (232, 234),\n",
       " (232, 245),\n",
       " (234, 237),\n",
       " (234, 240),\n",
       " (235, 240),\n",
       " (236, 256),\n",
       " (237, 238),\n",
       " (237, 252),\n",
       " (238, 244),\n",
       " (238, 253),\n",
       " (239, 240),\n",
       " (242, 250),\n",
       " (243, 255),\n",
       " (244, 284),\n",
       " (245, 248),\n",
       " (246, 302),\n",
       " (246, 249),\n",
       " (251, 290),\n",
       " (254, 324),\n",
       " (255, 264),\n",
       " (255, 262),\n",
       " (255, 293),\n",
       " (257, 274),\n",
       " (258, 291),\n",
       " (259, 299),\n",
       " (260, 265),\n",
       " (261, 265),\n",
       " (264, 308),\n",
       " (264, 265),\n",
       " (266, 267),\n",
       " (270, 271),\n",
       " (273, 274),\n",
       " (274, 305),\n",
       " (276, 277),\n",
       " (279, 300),\n",
       " (280, 293),\n",
       " (281, 282),\n",
       " (284, 368),\n",
       " (284, 296),\n",
       " (285, 331),\n",
       " (286, 309),\n",
       " (288, 294),\n",
       " (289, 344),\n",
       " (292, 310),\n",
       " (293, 303),\n",
       " (295, 297),\n",
       " (295, 392),\n",
       " (300, 360),\n",
       " (300, 315),\n",
       " (301, 326),\n",
       " (303, 318),\n",
       " (303, 306),\n",
       " (307, 312),\n",
       " (307, 313),\n",
       " (307, 308),\n",
       " (308, 405),\n",
       " (314, 332),\n",
       " (315, 319),\n",
       " (316, 323),\n",
       " (317, 350),\n",
       " (319, 329),\n",
       " (319, 320),\n",
       " (327, 333),\n",
       " (328, 366),\n",
       " (330, 347),\n",
       " (335, 341),\n",
       " (337, 345),\n",
       " (338, 348),\n",
       " (339, 359),\n",
       " (340, 369),\n",
       " (343, 407),\n",
       " (346, 377),\n",
       " (349, 355),\n",
       " (351, 352),\n",
       " (353, 382),\n",
       " (356, 421),\n",
       " (357, 360),\n",
       " (360, 362),\n",
       " (361, 380),\n",
       " (362, 363),\n",
       " (362, 450),\n",
       " (370, 402),\n",
       " (371, 395),\n",
       " (372, 389),\n",
       " (373, 399),\n",
       " (376, 394),\n",
       " (378, 384),\n",
       " (379, 383),\n",
       " (381, 420),\n",
       " (385, 400),\n",
       " (386, 408),\n",
       " (387, 415),\n",
       " (388, 395),\n",
       " (390, 396),\n",
       " (391, 405),\n",
       " (393, 411),\n",
       " (395, 403),\n",
       " (397, 410),\n",
       " (403, 445),\n",
       " (403, 423),\n",
       " (404, 412),\n",
       " (405, 497),\n",
       " (406, 448),\n",
       " (409, 435),\n",
       " (410, 455),\n",
       " (410, 421),\n",
       " (413, 422),\n",
       " (416, 417),\n",
       " (421, 438),\n",
       " (424, 428),\n",
       " (425, 426),\n",
       " (430, 440),\n",
       " (432, 436),\n",
       " (433, 473),\n",
       " (434, 435),\n",
       " (435, 445),\n",
       " (439, 444),\n",
       " (441, 448),\n",
       " (443, 474),\n",
       " (445, 449),\n",
       " (446, 452),\n",
       " (447, 451),\n",
       " (448, 674),\n",
       " (453, 465),\n",
       " (456, 470),\n",
       " (457, 514),\n",
       " (458, 473),\n",
       " (459, 511),\n",
       " (460, 464),\n",
       " (461, 479),\n",
       " (461, 465),\n",
       " (461, 462),\n",
       " (463, 467),\n",
       " (465, 492),\n",
       " (467, 468),\n",
       " (469, 541),\n",
       " (471, 472),\n",
       " (473, 508),\n",
       " (475, 544),\n",
       " (476, 477),\n",
       " (480, 485),\n",
       " (481, 505),\n",
       " (482, 492),\n",
       " (484, 494),\n",
       " (486, 501),\n",
       " (487, 492),\n",
       " (488, 493),\n",
       " (489, 509),\n",
       " (490, 612),\n",
       " (495, 500),\n",
       " (498, 582),\n",
       " (499, 504),\n",
       " (500, 539),\n",
       " (500, 561),\n",
       " (503, 611),\n",
       " (506, 538),\n",
       " (507, 512),\n",
       " (508, 569),\n",
       " (508, 533),\n",
       " (510, 540),\n",
       " (513, 529),\n",
       " (514, 520),\n",
       " (514, 595),\n",
       " (515, 528),\n",
       " (517, 518),\n",
       " (519, 559),\n",
       " (521, 527),\n",
       " (523, 565),\n",
       " (524, 530),\n",
       " (526, 594),\n",
       " (531, 637),\n",
       " (534, 542),\n",
       " (535, 603),\n",
       " (536, 541),\n",
       " (537, 545),\n",
       " (541, 563),\n",
       " (543, 546),\n",
       " (548, 550),\n",
       " (549, 555),\n",
       " (551, 573),\n",
       " (552, 574),\n",
       " (553, 554),\n",
       " (556, 561),\n",
       " (557, 565),\n",
       " (558, 561),\n",
       " (560, 587),\n",
       " (561, 575),\n",
       " (562, 569),\n",
       " (562, 576),\n",
       " (562, 570),\n",
       " (563, 567),\n",
       " (563, 568),\n",
       " (565, 575),\n",
       " (566, 575),\n",
       " (569, 748),\n",
       " (571, 577),\n",
       " (572, 583),\n",
       " (578, 594),\n",
       " (578, 579),\n",
       " (584, 604),\n",
       " (586, 602),\n",
       " (588, 600),\n",
       " (590, 642),\n",
       " (591, 597),\n",
       " (594, 644),\n",
       " (596, 601),\n",
       " (598, 603),\n",
       " (599, 605),\n",
       " (603, 657),\n",
       " (607, 608),\n",
       " (607, 616),\n",
       " (607, 670),\n",
       " (609, 615),\n",
       " (612, 655),\n",
       " (612, 643),\n",
       " (613, 616),\n",
       " (614, 623),\n",
       " (616, 639),\n",
       " (617, 639),\n",
       " (619, 629),\n",
       " (621, 622),\n",
       " (625, 675),\n",
       " (626, 630),\n",
       " (627, 646),\n",
       " (632, 636),\n",
       " (633, 645),\n",
       " (634, 640),\n",
       " (635, 659),\n",
       " (638, 652),\n",
       " (639, 656),\n",
       " (641, 650),\n",
       " (643, 653),\n",
       " (643, 648),\n",
       " (647, 678),\n",
       " (649, 691),\n",
       " (651, 655),\n",
       " (654, 662),\n",
       " (655, 690),\n",
       " (658, 687),\n",
       " (660, 681),\n",
       " (661, 662),\n",
       " (662, 694),\n",
       " (663, 676),\n",
       " (664, 682),\n",
       " (667, 671),\n",
       " (668, 688),\n",
       " (669, 721),\n",
       " (670, 670),\n",
       " (670, 703),\n",
       " (672, 685),\n",
       " (674, 676),\n",
       " (674, 817),\n",
       " (676, 685),\n",
       " (677, 682),\n",
       " (679, 686),\n",
       " (680, 696),\n",
       " (682, 695),\n",
       " (683, 755),\n",
       " (684, 688),\n",
       " (685, 714),\n",
       " (688, 701),\n",
       " (689, 726),\n",
       " (692, 693),\n",
       " (696, 699),\n",
       " (698, 709),\n",
       " (700, 736),\n",
       " (702, 730),\n",
       " (704, 708),\n",
       " (705, 714),\n",
       " (706, 727),\n",
       " (707, 712),\n",
       " (710, 723),\n",
       " (713, 718),\n",
       " (714, 720),\n",
       " (715, 747),\n",
       " (722, 766),\n",
       " (724, 741),\n",
       " (725, 732),\n",
       " (728, 729),\n",
       " (731, 736),\n",
       " (733, 734),\n",
       " (733, 737),\n",
       " (734, 740),\n",
       " (734, 752),\n",
       " (735, 744),\n",
       " (736, 760),\n",
       " (738, 813),\n",
       " (739, 750),\n",
       " (742, 746),\n",
       " (743, 761),\n",
       " (745, 768),\n",
       " (749, 754),\n",
       " (751, 767),\n",
       " (753, 759),\n",
       " (756, 757),\n",
       " (758, 762),\n",
       " (761, 790),\n",
       " (761, 889),\n",
       " (763, 778),\n",
       " (764, 776),\n",
       " (770, 774),\n",
       " (771, 773),\n",
       " (772, 775),\n",
       " (775, 784),\n",
       " (775, 787),\n",
       " (777, 783),\n",
       " (779, 797),\n",
       " (781, 782),\n",
       " (785, 858),\n",
       " (786, 791),\n",
       " (788, 805),\n",
       " (789, 793),\n",
       " (792, 804),\n",
       " (793, 796),\n",
       " (793, 882),\n",
       " (794, 807),\n",
       " (795, 805),\n",
       " (795, 801),\n",
       " (795, 808),\n",
       " (796, 816),\n",
       " (796, 808),\n",
       " (798, 822),\n",
       " (799, 811),\n",
       " (800, 820),\n",
       " (802, 808),\n",
       " (803, 804),\n",
       " (804, 810),\n",
       " (809, 832),\n",
       " (810, 811),\n",
       " (810, 823),\n",
       " (811, 817),\n",
       " (812, 815),\n",
       " (817, 828),\n",
       " (818, 824),\n",
       " (822, 980),\n",
       " (822, 825),\n",
       " (825, 878),\n",
       " (825, 865),\n",
       " (826, 841),\n",
       " (828, 854),\n",
       " (828, 851),\n",
       " (829, 837),\n",
       " (829, 863),\n",
       " (830, 837),\n",
       " (831, 835),\n",
       " (836, 848),\n",
       " (837, 876),\n",
       " (838, 849),\n",
       " (839, 845),\n",
       " (841, 861),\n",
       " (841, 855),\n",
       " (843, 844),\n",
       " (850, 888),\n",
       " (853, 872),\n",
       " (856, 857),\n",
       " (859, 864),\n",
       " (860, 901),\n",
       " (863, 902),\n",
       " (863, 881),\n",
       " (866, 877),\n",
       " (869, 891),\n",
       " (870, 886),\n",
       " (871, 873),\n",
       " (874, 953),\n",
       " (876, 973),\n",
       " (876, 949),\n",
       " (878, 950),\n",
       " (878, 932),\n",
       " (880, 884),\n",
       " (882, 946),\n",
       " (882, 942),\n",
       " (883, 929),\n",
       " (884, 887),\n",
       " (884, 948),\n",
       " (885, 898),\n",
       " (892, 894),\n",
       " (893, 904),\n",
       " (895, 896),\n",
       " (897, 917),\n",
       " (899, 937),\n",
       " (900, 909),\n",
       " (903, 905),\n",
       " (906, 925),\n",
       " (907, 913),\n",
       " (910, 951),\n",
       " (911, 920),\n",
       " (912, 923),\n",
       " (914, 921),\n",
       " (915, 969),\n",
       " (918, 922),\n",
       " (919, 939),\n",
       " (924, 932),\n",
       " (927, 978),\n",
       " (928, 981),\n",
       " (931, 975),\n",
       " (932, 986),\n",
       " (933, 936),\n",
       " (934, 935),\n",
       " (937, 945),\n",
       " (937, 944),\n",
       " (941, 945),\n",
       " (943, 945),\n",
       " (947, 957),\n",
       " (952, 960),\n",
       " (954, 955),\n",
       " (956, 959),\n",
       " (958, 977),\n",
       " (962, 970),\n",
       " (964, 965),\n",
       " (967, 983),\n",
       " (972, 976),\n",
       " (979, 985),\n",
       " (982, 984)]"
      ]
     },
     "execution_count": 16,
     "metadata": {},
     "output_type": "execute_result"
    }
   ],
   "source": [
    "list(graph.edges)"
   ]
  },
  {
   "cell_type": "code",
   "execution_count": null,
   "metadata": {},
   "outputs": [],
   "source": []
  },
  {
   "cell_type": "code",
   "execution_count": null,
   "metadata": {},
   "outputs": [],
   "source": []
  }
 ],
 "metadata": {
  "kernelspec": {
   "display_name": "graph",
   "language": "python",
   "name": "graph"
  },
  "language_info": {
   "codemirror_mode": {
    "name": "ipython",
    "version": 3
   },
   "file_extension": ".py",
   "mimetype": "text/x-python",
   "name": "python",
   "nbconvert_exporter": "python",
   "pygments_lexer": "ipython3",
   "version": "3.8.5"
  }
 },
 "nbformat": 4,
 "nbformat_minor": 5
}
