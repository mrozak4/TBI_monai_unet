{
 "cells": [
  {
   "cell_type": "code",
   "execution_count": 1,
   "id": "8ddee3ef",
   "metadata": {},
   "outputs": [
    {
     "name": "stderr",
     "output_type": "stream",
     "text": [
      "/lustre06/project/6023374/rozakmat/monai/lib/python3.7/site-packages/skimage/io/manage_plugins.py:23: UserWarning: Your installed pillow version is < 7.1.0. Several security issues (CVE-2020-11538, CVE-2020-10379, CVE-2020-10994, CVE-2020-10177) have been fixed in pillow 7.1.0 or higher. We recommend to upgrade this library.\n",
      "  from .collection import imread_collection_wrapper\n"
     ]
    }
   ],
   "source": [
    "from pathlib import Path\n",
    "import re\n",
    "from skimage import io\n",
    "import numpy as np\n",
    "from tqdm import tqdm"
   ]
  },
  {
   "cell_type": "code",
   "execution_count": 2,
   "id": "0b7d09ab",
   "metadata": {},
   "outputs": [],
   "source": [
    "train_labels_path = Path('../TBI/GT_filtered+raw/')\n",
    "train_labels = list(train_labels_path.glob('*.tiff'))\n",
    "train_labels = [x.as_posix() for x in train_labels]"
   ]
  },
  {
   "cell_type": "code",
   "execution_count": 3,
   "id": "6c218853",
   "metadata": {},
   "outputs": [
    {
     "name": "stderr",
     "output_type": "stream",
     "text": [
      "  0%|                                                    | 0/42 [00:00<?, ?it/s]/lustre06/project/6023374/rozakmat/monai/lib/python3.7/site-packages/ipykernel_launcher.py:14: UserWarning: ../TBI/GT_filtered+raw/XYZres201_Simple Segmentation_sub1.tiff is a low contrast image\n",
      "  \n",
      "  2%|█                                           | 1/42 [00:00<00:21,  1.88it/s]/lustre06/project/6023374/rozakmat/monai/lib/python3.7/site-packages/ipykernel_launcher.py:14: UserWarning: ../TBI/GT_filtered+raw/XYZres234_0001_Simple Segmentation_sub1.tiff is a low contrast image\n",
      "  \n",
      "  5%|██                                          | 2/42 [00:01<00:19,  2.01it/s]/lustre06/project/6023374/rozakmat/monai/lib/python3.7/site-packages/ipykernel_launcher.py:14: UserWarning: ../TBI/GT_filtered+raw/XYZres008_Simple Segmentation_sub1.tiff is a low contrast image\n",
      "  \n",
      "  7%|███▏                                        | 3/42 [00:01<00:18,  2.06it/s]/lustre06/project/6023374/rozakmat/monai/lib/python3.7/site-packages/ipykernel_launcher.py:14: UserWarning: ../TBI/GT_filtered+raw/XYZres163_0001_Simple Segmentation_sub1.tiff is a low contrast image\n",
      "  \n",
      " 10%|████▏                                       | 4/42 [00:01<00:18,  2.07it/s]/lustre06/project/6023374/rozakmat/monai/lib/python3.7/site-packages/ipykernel_launcher.py:14: UserWarning: ../TBI/GT_filtered+raw/XYZres87_0001_Simple Segmentation_sub1.tiff is a low contrast image\n",
      "  \n",
      " 12%|█████▏                                      | 5/42 [00:02<00:18,  1.99it/s]/lustre06/project/6023374/rozakmat/monai/lib/python3.7/site-packages/ipykernel_launcher.py:14: UserWarning: ../TBI/GT_filtered+raw/XYZres186_0001_Simple Segmentation_sub1.tiff is a low contrast image\n",
      "  \n",
      " 14%|██████▎                                     | 6/42 [00:02<00:17,  2.03it/s]/lustre06/project/6023374/rozakmat/monai/lib/python3.7/site-packages/ipykernel_launcher.py:14: UserWarning: ../TBI/GT_filtered+raw/XYZres92_Simple Segmentation_sub1.tiff is a low contrast image\n",
      "  \n",
      " 17%|███████▎                                    | 7/42 [00:03<00:18,  1.93it/s]/lustre06/project/6023374/rozakmat/monai/lib/python3.7/site-packages/ipykernel_launcher.py:14: UserWarning: ../TBI/GT_filtered+raw/XYZres250_Simple Segmentation_sub1.tiff is a low contrast image\n",
      "  \n",
      " 19%|████████▍                                   | 8/42 [00:04<00:17,  1.98it/s]/lustre06/project/6023374/rozakmat/monai/lib/python3.7/site-packages/ipykernel_launcher.py:14: UserWarning: ../TBI/GT_filtered+raw/XYZres223_0001_Simple Segmentation_sub1.tiff is a low contrast image\n",
      "  \n",
      " 21%|█████████▍                                  | 9/42 [00:04<00:17,  1.93it/s]/lustre06/project/6023374/rozakmat/monai/lib/python3.7/site-packages/ipykernel_launcher.py:14: UserWarning: ../TBI/GT_filtered+raw/XYZres157_Simple Segmentation_sub1.tiff is a low contrast image\n",
      "  \n",
      " 24%|██████████▏                                | 10/42 [00:05<00:16,  1.96it/s]/lustre06/project/6023374/rozakmat/monai/lib/python3.7/site-packages/ipykernel_launcher.py:14: UserWarning: ../TBI/GT_filtered+raw/XYZres050_Simple Segmentation_sub1.tiff is a low contrast image\n",
      "  \n",
      " 26%|███████████▎                               | 11/42 [00:05<00:15,  1.97it/s]/lustre06/project/6023374/rozakmat/monai/lib/python3.7/site-packages/ipykernel_launcher.py:14: UserWarning: ../TBI/GT_filtered+raw/XYZres54_Simple Segmentation_sub1.tiff is a low contrast image\n",
      "  \n",
      " 29%|████████████▎                              | 12/42 [00:06<00:14,  2.02it/s]/lustre06/project/6023374/rozakmat/monai/lib/python3.7/site-packages/ipykernel_launcher.py:14: UserWarning: ../TBI/GT_filtered+raw/XYZres037_Simple Segmentation_sub1.tiff is a low contrast image\n",
      "  \n",
      " 31%|█████████████▎                             | 13/42 [00:06<00:14,  2.04it/s]/lustre06/project/6023374/rozakmat/monai/lib/python3.7/site-packages/ipykernel_launcher.py:14: UserWarning: ../TBI/GT_filtered+raw/XYZres032_Simple Segmentation_sub1.tiff is a low contrast image\n",
      "  \n",
      " 33%|██████████████▎                            | 14/42 [00:06<00:13,  2.06it/s]/lustre06/project/6023374/rozakmat/monai/lib/python3.7/site-packages/ipykernel_launcher.py:14: UserWarning: ../TBI/GT_filtered+raw/XYZres160_Simple Segmentation_sub1.tiff is a low contrast image\n",
      "  \n",
      " 36%|███████████████▎                           | 15/42 [00:07<00:13,  2.07it/s]/lustre06/project/6023374/rozakmat/monai/lib/python3.7/site-packages/ipykernel_launcher.py:14: UserWarning: ../TBI/GT_filtered+raw/XYZres222_Simple Segmentation_sub1.tiff is a low contrast image\n",
      "  \n",
      " 38%|████████████████▍                          | 16/42 [00:07<00:12,  2.09it/s]/lustre06/project/6023374/rozakmat/monai/lib/python3.7/site-packages/ipykernel_launcher.py:14: UserWarning: ../TBI/GT_filtered+raw/XYZres184_Simple Segmentation_sub1.tiff is a low contrast image\n",
      "  \n",
      " 40%|█████████████████▍                         | 17/42 [00:08<00:12,  2.03it/s]/lustre06/project/6023374/rozakmat/monai/lib/python3.7/site-packages/ipykernel_launcher.py:14: UserWarning: ../TBI/GT_filtered+raw/XYZres042_0001_Simple Segmentation_sub1.tiff is a low contrast image\n",
      "  \n",
      " 43%|██████████████████▍                        | 18/42 [00:08<00:11,  2.06it/s]/lustre06/project/6023374/rozakmat/monai/lib/python3.7/site-packages/ipykernel_launcher.py:14: UserWarning: ../TBI/GT_filtered+raw/XYZres013_0001_Simple Segmentation_sub1.tiff is a low contrast image\n",
      "  \n",
      " 45%|███████████████████▍                       | 19/42 [00:09<00:11,  2.07it/s]/lustre06/project/6023374/rozakmat/monai/lib/python3.7/site-packages/ipykernel_launcher.py:14: UserWarning: ../TBI/GT_filtered+raw/XYZres204_0001_Simple Segmentation_sub1.tiff is a low contrast image\n",
      "  \n",
      " 48%|████████████████████▍                      | 20/42 [00:09<00:10,  2.05it/s]/lustre06/project/6023374/rozakmat/monai/lib/python3.7/site-packages/ipykernel_launcher.py:14: UserWarning: ../TBI/GT_filtered+raw/XYZres128_Simple Segmentation_sub1.tiff is a low contrast image\n",
      "  \n",
      " 50%|█████████████████████▌                     | 21/42 [00:10<00:10,  2.09it/s]/lustre06/project/6023374/rozakmat/monai/lib/python3.7/site-packages/ipykernel_launcher.py:14: UserWarning: ../TBI/GT_filtered+raw/XYZres242_0001_Simple Segmentation_sub1.tiff is a low contrast image\n",
      "  \n",
      " 52%|██████████████████████▌                    | 22/42 [00:10<00:09,  2.09it/s]/lustre06/project/6023374/rozakmat/monai/lib/python3.7/site-packages/ipykernel_launcher.py:14: UserWarning: ../TBI/GT_filtered+raw/XYZres153_0001_Simple Segmentation_sub1.tiff is a low contrast image\n",
      "  \n",
      " 55%|███████████████████████▌                   | 23/42 [00:11<00:09,  2.09it/s]/lustre06/project/6023374/rozakmat/monai/lib/python3.7/site-packages/ipykernel_launcher.py:14: UserWarning: ../TBI/GT_filtered+raw/XYZres60_0001_Simple Segmentation_sub1.tiff is a low contrast image\n",
      "  \n",
      " 57%|████████████████████████▌                  | 24/42 [00:11<00:08,  2.09it/s]/lustre06/project/6023374/rozakmat/monai/lib/python3.7/site-packages/ipykernel_launcher.py:14: UserWarning: ../TBI/GT_filtered+raw/XYZres214_0001_Simple Segmentation_sub1.tiff is a low contrast image\n",
      "  \n",
      " 60%|█████████████████████████▌                 | 25/42 [00:12<00:08,  2.10it/s]/lustre06/project/6023374/rozakmat/monai/lib/python3.7/site-packages/ipykernel_launcher.py:14: UserWarning: ../TBI/GT_filtered+raw/XYZres147_Simple Segmentation_sub1.tiff is a low contrast image\n",
      "  \n",
      " 62%|██████████████████████████▌                | 26/42 [00:12<00:07,  2.10it/s]/lustre06/project/6023374/rozakmat/monai/lib/python3.7/site-packages/ipykernel_launcher.py:14: UserWarning: ../TBI/GT_filtered+raw/XYZres025_Simple Segmentation_sub1.tiff is a low contrast image\n",
      "  \n",
      " 64%|███████████████████████████▋               | 27/42 [00:13<00:07,  2.10it/s]/lustre06/project/6023374/rozakmat/monai/lib/python3.7/site-packages/ipykernel_launcher.py:14: UserWarning: ../TBI/GT_filtered+raw/XYZres76_0001_Simple Segmentation_sub1.tiff is a low contrast image\n",
      "  \n",
      " 67%|████████████████████████████▋              | 28/42 [00:13<00:07,  1.96it/s]/lustre06/project/6023374/rozakmat/monai/lib/python3.7/site-packages/ipykernel_launcher.py:14: UserWarning: ../TBI/GT_filtered+raw/XYZres018_0001_Simple Segmentation_sub1.tiff is a low contrast image\n",
      "  \n",
      " 69%|█████████████████████████████▋             | 29/42 [00:14<00:06,  1.97it/s]/lustre06/project/6023374/rozakmat/monai/lib/python3.7/site-packages/ipykernel_launcher.py:14: UserWarning: ../TBI/GT_filtered+raw/XYZres120_0001_Simple Segmentation_sub1.tiff is a low contrast image\n",
      "  \n",
      " 71%|██████████████████████████████▋            | 30/42 [00:14<00:06,  1.99it/s]/lustre06/project/6023374/rozakmat/monai/lib/python3.7/site-packages/ipykernel_launcher.py:14: UserWarning: ../TBI/GT_filtered+raw/XYZres89_Simple Segmentation_sub1.tiff is a low contrast image\n",
      "  \n",
      " 74%|███████████████████████████████▋           | 31/42 [00:15<00:05,  1.90it/s]/lustre06/project/6023374/rozakmat/monai/lib/python3.7/site-packages/ipykernel_launcher.py:14: UserWarning: ../TBI/GT_filtered+raw/XYZres110_Simple Segmentation_sub1.tiff is a low contrast image\n",
      "  \n",
      " 76%|████████████████████████████████▊          | 32/42 [00:15<00:05,  1.96it/s]/lustre06/project/6023374/rozakmat/monai/lib/python3.7/site-packages/ipykernel_launcher.py:14: UserWarning: ../TBI/GT_filtered+raw/XYZres115_Simple Segmentation_sub1.tiff is a low contrast image\n",
      "  \n",
      " 79%|█████████████████████████████████▊         | 33/42 [00:16<00:04,  2.00it/s]/lustre06/project/6023374/rozakmat/monai/lib/python3.7/site-packages/ipykernel_launcher.py:14: UserWarning: ../TBI/GT_filtered+raw/XYZres149_0001_Simple Segmentation_sub1.tiff is a low contrast image\n",
      "  \n",
      " 81%|██████████████████████████████████▊        | 34/42 [00:16<00:03,  2.04it/s]/lustre06/project/6023374/rozakmat/monai/lib/python3.7/site-packages/ipykernel_launcher.py:14: UserWarning: ../TBI/GT_filtered+raw/XYZres114_0001_Simple Segmentation_sub1.tiff is a low contrast image\n",
      "  \n",
      " 83%|███████████████████████████████████▊       | 35/42 [00:17<00:03,  2.06it/s]/lustre06/project/6023374/rozakmat/monai/lib/python3.7/site-packages/ipykernel_launcher.py:14: UserWarning: ../TBI/GT_filtered+raw/XYZres177_0001_Simple Segmentation_sub1.tiff is a low contrast image\n",
      "  \n",
      " 86%|████████████████████████████████████▊      | 36/42 [00:17<00:02,  2.08it/s]/lustre06/project/6023374/rozakmat/monai/lib/python3.7/site-packages/ipykernel_launcher.py:14: UserWarning: ../TBI/GT_filtered+raw/XYZres245_0001_Simple Segmentation_sub1.tiff is a low contrast image\n",
      "  \n",
      " 88%|█████████████████████████████████████▉     | 37/42 [00:18<00:02,  2.09it/s]/lustre06/project/6023374/rozakmat/monai/lib/python3.7/site-packages/ipykernel_launcher.py:14: UserWarning: ../TBI/GT_filtered+raw/XYZres71_Simple Segmentation_sub1.tiff is a low contrast image\n",
      "  \n",
      " 90%|██████████████████████████████████████▉    | 38/42 [00:18<00:01,  2.10it/s]/lustre06/project/6023374/rozakmat/monai/lib/python3.7/site-packages/ipykernel_launcher.py:14: UserWarning: ../TBI/GT_filtered+raw/XYZres228_Simple Segmentation_sub1.tiff is a low contrast image\n",
      "  \n",
      " 93%|███████████████████████████████████████▉   | 39/42 [00:19<00:01,  2.11it/s]/lustre06/project/6023374/rozakmat/monai/lib/python3.7/site-packages/ipykernel_launcher.py:14: UserWarning: ../TBI/GT_filtered+raw/XYZres171_Simple Segmentation_sub1.tiff is a low contrast image\n",
      "  \n",
      " 95%|████████████████████████████████████████▉  | 40/42 [00:19<00:00,  2.06it/s]/lustre06/project/6023374/rozakmat/monai/lib/python3.7/site-packages/ipykernel_launcher.py:14: UserWarning: ../TBI/GT_filtered+raw/XYZres131_0001_Simple Segmentation_sub1.tiff is a low contrast image\n",
      "  \n",
      " 98%|█████████████████████████████████████████▉ | 41/42 [00:20<00:00,  2.08it/s]/lustre06/project/6023374/rozakmat/monai/lib/python3.7/site-packages/ipykernel_launcher.py:14: UserWarning: ../TBI/GT_filtered+raw/XYZres95_0001_Simple Segmentation_sub1.tiff is a low contrast image\n",
      "  \n",
      "100%|███████████████████████████████████████████| 42/42 [00:20<00:00,  2.03it/s]\n"
     ]
    }
   ],
   "source": [
    "for label in tqdm(train_labels):\n",
    "    image = io.imread(label)\n",
    "    shape_origional = image.shape\n",
    "    shape_new = [shape_origional[0],\n",
    "                len(np.unique(image)),\n",
    "                *shape_origional[2:]]\n",
    "    image = np.reshape (image,(96,1,512,512))\n",
    "    #new_image = np.zeros(shape_new)\n",
    "    #for i in np.unique(image):\n",
    "    #    I = i-1\n",
    "    #    new_image[:,I,:,:][image[:,0,:,:]==i] = 1\n",
    "    #new_image = new_image[:,1:,:,:]\n",
    "    \n",
    "    io.imsave(re.sub('.tiff','_sub1.tiff',label), image - 1)\n"
   ]
  },
  {
   "cell_type": "code",
   "execution_count": 21,
   "id": "fbef3fba",
   "metadata": {},
   "outputs": [
    {
     "data": {
      "text/plain": [
       "(96, 3, 512, 512)"
      ]
     },
     "execution_count": 21,
     "metadata": {},
     "output_type": "execute_result"
    }
   ],
   "source": [
    "new_image.shape"
   ]
  },
  {
   "cell_type": "code",
   "execution_count": 18,
   "id": "be36356b",
   "metadata": {},
   "outputs": [
    {
     "data": {
      "text/plain": [
       "1.0"
      ]
     },
     "execution_count": 18,
     "metadata": {},
     "output_type": "execute_result"
    }
   ],
   "source": [
    "np.max(new_image[:,0,:,:])"
   ]
  },
  {
   "cell_type": "code",
   "execution_count": null,
   "id": "9c56b61f",
   "metadata": {},
   "outputs": [],
   "source": []
  }
 ],
 "metadata": {
  "kernelspec": {
   "display_name": "Python 3 (ipykernel)",
   "language": "python",
   "name": "python3"
  },
  "language_info": {
   "codemirror_mode": {
    "name": "ipython",
    "version": 3
   },
   "file_extension": ".py",
   "mimetype": "text/x-python",
   "name": "python",
   "nbconvert_exporter": "python",
   "pygments_lexer": "ipython3",
   "version": "3.7.12"
  }
 },
 "nbformat": 4,
 "nbformat_minor": 5
}
