{
 "cells": [
  {
   "cell_type": "code",
   "execution_count": 1,
   "id": "c9d46668",
   "metadata": {},
   "outputs": [],
   "source": [
    "from skimage import io\n",
    "import numpy as np\n",
    "from pathlib import Path\n",
    "from tqdm import tqdm\n",
    "from scipy import ndimage\n",
    "import re\n",
    "import os\n"
   ]
  },
  {
   "cell_type": "code",
   "execution_count": 2,
   "id": "dc6310c9",
   "metadata": {},
   "outputs": [],
   "source": [
    "directory = Path('matt_preds')\n",
    "directory2 = Path('matt_preds_graphs')\n",
    "files2  = directory2.glob('*.xlsx')\n",
    "files  = directory.glob('*_seg.tif')\n",
    "files = sorted([x.as_posix() for x in files])\n",
    "files2 = sorted([x.as_posix() for x in files2])\n",
    "files = [x for x in files if re.sub('matt_preds','matt_preds_graphs',re.sub('_seg.tif','_warped_radii.xlsx',x)) in files2]"
   ]
  },
  {
   "cell_type": "code",
   "execution_count": 3,
   "id": "e32f5b34",
   "metadata": {},
   "outputs": [
    {
     "data": {
      "text/plain": [
       "137"
      ]
     },
     "execution_count": 3,
     "metadata": {},
     "output_type": "execute_result"
    }
   ],
   "source": [
    "len(files)"
   ]
  },
  {
   "cell_type": "code",
   "execution_count": 4,
   "id": "947c53b3",
   "metadata": {},
   "outputs": [
    {
     "name": "stderr",
     "output_type": "stream",
     "text": [
      "100%|██████████| 137/137 [00:00<00:00, 566.72it/s]\n"
     ]
    }
   ],
   "source": [
    "for file in tqdm(files):\n",
    "    if not os.path.exists(re.sub('_seg.tif','_ev_dst.tif',re.sub('matt_preds','matt_ev_dst',file))):\n",
    "        img = io.imread(file)\n",
    "        img = np.abs(img-1)\n",
    "        img_dst = ndimage.distance_transform_edt(img)\n",
    "        io.imsave(re.sub('_seg.tif','_ev_dst.tif',re.sub('matt_preds','matt_ev_dst',file)),img_dst)\n",
    "        img_dst = np.ndarray.flatten(img_dst)\n",
    "        img_dst = img_dst[img_dst!=0]\n",
    "        np.savetxt(re.sub('_seg.tif','.csv',re.sub('matt_preds','matt_ev_dst',file)),img_dst,delimiter=\",\")"
   ]
  },
  {
   "cell_type": "code",
   "execution_count": 9,
   "id": "2501feb3",
   "metadata": {},
   "outputs": [
    {
     "data": {
      "text/plain": [
       "'matt_preds/XYZres99_seg.tif'"
      ]
     },
     "execution_count": 9,
     "metadata": {},
     "output_type": "execute_result"
    }
   ],
   "source": [
    "file"
   ]
  },
  {
   "cell_type": "code",
   "execution_count": null,
   "id": "53fbe9c6",
   "metadata": {},
   "outputs": [],
   "source": []
  }
 ],
 "metadata": {
  "kernelspec": {
   "display_name": "monai3.8",
   "language": "python",
   "name": "monai3.8"
  },
  "language_info": {
   "codemirror_mode": {
    "name": "ipython",
    "version": 3
   },
   "file_extension": ".py",
   "mimetype": "text/x-python",
   "name": "python",
   "nbconvert_exporter": "python",
   "pygments_lexer": "ipython3",
   "version": "3.8.10"
  }
 },
 "nbformat": 4,
 "nbformat_minor": 5
}
