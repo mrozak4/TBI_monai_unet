{
 "cells": [
  {
   "cell_type": "code",
   "execution_count": 4,
   "id": "291f48c4",
   "metadata": {},
   "outputs": [],
   "source": [
    "from monai.networks.layers import Norm\n",
    "import torch\n",
    "from monai.losses import DiceLoss, DiceCELoss, DiceFocalLoss, FocalLoss, TverskyLoss, ContrastiveLoss\n",
    "import pickle"
   ]
  },
  {
   "cell_type": "code",
   "execution_count": 5,
   "id": "6cfed320",
   "metadata": {},
   "outputs": [],
   "source": [
    "#patch_sizes = [(160,160,160)] #3\n",
    "#crops = [8,12] #2\n",
    "#batch_size = [2,3] #3\n",
    "norm = [Norm.INSTANCE,Norm.BATCH] #2\n",
    "dropout = [0.1,0.2,0.3]#3\n",
    "learning_rate = [5e-3,1e-3,5e-4,1e-4]#3\n",
    "res_units = [2,3]#2\n",
    "loss_function = [DiceLoss(to_onehot_y=True, softmax=True, include_background=False, jaccard = True),\n",
    "                 DiceCELoss(to_onehot_y=True, softmax=True, include_background=False, jaccard = True),\n",
    "                 DiceFocalLoss(to_onehot_y=True, softmax=True, include_background=False, focal_weight=[0.9,0.1], squared_pred=True, jaccard=True),\n",
    "                 TverskyLoss(to_onehot_y=True, include_background=False, softmax=True, batch=True)\n",
    "                ] #4\n",
    "\n",
    "\n"
   ]
  },
  {
   "cell_type": "code",
   "execution_count": 6,
   "id": "4c9d2c75",
   "metadata": {},
   "outputs": [],
   "source": [
    "n = 1\n",
    "for i in norm:\n",
    "    for j in dropout:\n",
    "        for k in learning_rate:\n",
    "            for l in res_units:\n",
    "                for m in loss_function:\n",
    "                    parameter_set_name = 'hyperparameter_pickle_files/parameters' + str(n) + '.pickle'\n",
    "                    \n",
    "                    params = {}\n",
    "                    params['crop_size'] = (128,128,128)\n",
    "                    params['N_crops'] = 12\n",
    "                    params['optimizer'] = torch.optim.Adam\n",
    "                    params['batch_size'] = 3\n",
    "                    params['max_epochs'] = 200\n",
    "                    params['intensity_transform_probability'] = 0.5\n",
    "                    params['gaussian_transform_probability'] = 0.5\n",
    "                    params['rotation_flip_transforms_probability'] = 0.5\n",
    "                    params['deformation_transforms_prob'] = 0.5\n",
    "                    params['Rand3DElasticd_sigma_range'] = (1,2)\n",
    "                    params['Rand3DElasticd_magnitude_range'] = (3,10)\n",
    "                    params['RandGridDistortiond_num_cells'] = 8\n",
    "                    params['RandGridDistortiond_distort_limit'] = (-0.03,0.03)\n",
    "                    params['RandShiftIntensityd_offsets'] = 0.3\n",
    "                    params['RandAdjustContrastd_gamma'] = (0.5,4.5)\n",
    "                    params['RandHistogramShiftd_num_control_points'] = 4\n",
    "                    params['RandGaussianNoised_mean'] = 0\n",
    "                    params['RandGaussianNoised_std'] = 0.1\n",
    "                    params['norm'] = i\n",
    "                    params['dropout'] = j\n",
    "                    params['learning_rate'] = k\n",
    "                    params['num_res_units'] = l\n",
    "                    params['loss_function'] = m\n",
    "                    \n",
    "                    with open(parameter_set_name, 'wb') as handle:\n",
    "                        pickle.dump(params, handle, protocol=pickle.HIGHEST_PROTOCOL)\n",
    "                    \n",
    "                    n+=1"
   ]
  },
  {
   "cell_type": "code",
   "execution_count": null,
   "id": "4f3b1be2",
   "metadata": {},
   "outputs": [],
   "source": []
  }
 ],
 "metadata": {
  "kernelspec": {
   "display_name": "Python 3 (ipykernel)",
   "language": "python",
   "name": "python3"
  },
  "language_info": {
   "codemirror_mode": {
    "name": "ipython",
    "version": 3
   },
   "file_extension": ".py",
   "mimetype": "text/x-python",
   "name": "python",
   "nbconvert_exporter": "python",
   "pygments_lexer": "ipython3",
   "version": "3.7.9"
  }
 },
 "nbformat": 4,
 "nbformat_minor": 5
}
