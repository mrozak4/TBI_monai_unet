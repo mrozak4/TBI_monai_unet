{
 "cells": [
  {
   "cell_type": "code",
   "execution_count": 1,
   "id": "fedb2cb5-a0ea-4056-a932-571f69e8c44e",
   "metadata": {},
   "outputs": [],
   "source": [
    "import numpy as np\n",
    "from skimage import io\n",
    "import networkx as nx\n",
    "import re\n",
    "from pathlib import Path\n",
    "import os\n",
    "import scipy as sp\n",
    "import matplotlib.pyplot as plt\n",
    "from matplotlib_scalebar.scalebar import ScaleBar\n",
    "from skimage import exposure"
   ]
  },
  {
   "cell_type": "code",
   "execution_count": 36,
   "id": "a46fa8de-862e-4afb-8959-b5e5a3a061b9",
   "metadata": {},
   "outputs": [
    {
     "data": {
      "text/plain": [
       "822"
      ]
     },
     "execution_count": 36,
     "metadata": {},
     "output_type": "execute_result"
    }
   ],
   "source": [
    "folder = Path('matt_preds_graphs_fwhm_single_excel/')\n",
    "files  = list(folder.glob('*amended*.pickle'))\n",
    "files  = sorted([x.as_posix() for x in files])\n",
    "files = [x for x in files if '_0001' in x]\n",
    "files = [x for x in files if '06162021_4' not in x]\n",
    "len(files)"
   ]
  },
  {
   "cell_type": "code",
   "execution_count": 37,
   "id": "f50f2ffb-6db9-4451-9608-91bd00e61f89",
   "metadata": {},
   "outputs": [
    {
     "data": {
      "text/plain": [
       "'matt_preds_graphs_fwhm_single_excel/06162021_45-XYZres290_warped_radii_amended.pickle'"
      ]
     },
     "execution_count": 37,
     "metadata": {},
     "output_type": "execute_result"
    }
   ],
   "source": [
    "file"
   ]
  },
  {
   "cell_type": "code",
   "execution_count": 38,
   "id": "ba0ea2db-d935-489e-99fd-46595c346b6e",
   "metadata": {},
   "outputs": [
    {
     "name": "stdout",
     "output_type": "stream",
     "text": [
      "2 5 1.0158025607061345 0.9710960214883277\n",
      "3 5 1.0158025607061345 0.9710960214883277\n",
      "9 38 1.258315959584662 0.8304849909627113\n",
      "10 38 1.258315959584662 0.8304849909627113\n",
      "23 9 1.1838953287271154 1.0073560972502205\n",
      "24 9 1.1838953287271154 1.0073560972502205\n",
      "35 3 1.736008023288642 0.848771805006719\n",
      "35 179 2.878521286551568 0.8622110802324817\n",
      "35 232 -3.758549343141925 4.762795081940305\n",
      "36 3 1.736008023288642 0.848771805006719\n",
      "36 179 2.878521286551568 0.8622110802324817\n",
      "36 232 -3.758549343141925 4.762795081940305\n",
      "53 4 -2.1969758293889914 2.9725915952012487\n",
      "54 4 -2.1969758293889914 2.9725915952012487\n"
     ]
    },
    {
     "ename": "FileNotFoundError",
     "evalue": "[Errno 2] No such file or directory: 'matt_preds_graphs_fwhm_single_excel/20200217_17-XYZres121_warped_radii_forepaw_amended.pickle'",
     "output_type": "error",
     "traceback": [
      "\u001b[0;31m---------------------------------------------------------------------------\u001b[0m",
      "\u001b[0;31mFileNotFoundError\u001b[0m                         Traceback (most recent call last)",
      "\u001b[0;32m/tmp/ipykernel_398229/4080840479.py\u001b[0m in \u001b[0;36m<module>\u001b[0;34m\u001b[0m\n\u001b[1;32m      1\u001b[0m \u001b[0;32mfor\u001b[0m \u001b[0mj\u001b[0m\u001b[0;34m,\u001b[0m \u001b[0mfile_0001\u001b[0m \u001b[0;32min\u001b[0m \u001b[0menumerate\u001b[0m\u001b[0;34m(\u001b[0m\u001b[0mfiles\u001b[0m\u001b[0;34m[\u001b[0m\u001b[0;34m:\u001b[0m\u001b[0;34m]\u001b[0m\u001b[0;34m)\u001b[0m\u001b[0;34m:\u001b[0m\u001b[0;34m\u001b[0m\u001b[0;34m\u001b[0m\u001b[0m\n\u001b[1;32m      2\u001b[0m     \u001b[0mfile\u001b[0m \u001b[0;34m=\u001b[0m \u001b[0mre\u001b[0m\u001b[0;34m.\u001b[0m\u001b[0msub\u001b[0m\u001b[0;34m(\u001b[0m\u001b[0;34m'_0001'\u001b[0m\u001b[0;34m,\u001b[0m\u001b[0;34m''\u001b[0m\u001b[0;34m,\u001b[0m\u001b[0mfile_0001\u001b[0m\u001b[0;34m)\u001b[0m\u001b[0;34m\u001b[0m\u001b[0;34m\u001b[0m\u001b[0m\n\u001b[0;32m----> 3\u001b[0;31m     \u001b[0mgraph\u001b[0m \u001b[0;34m=\u001b[0m \u001b[0mnx\u001b[0m\u001b[0;34m.\u001b[0m\u001b[0mread_gpickle\u001b[0m\u001b[0;34m(\u001b[0m\u001b[0mfile\u001b[0m\u001b[0;34m)\u001b[0m\u001b[0;34m\u001b[0m\u001b[0;34m\u001b[0m\u001b[0m\n\u001b[0m\u001b[1;32m      4\u001b[0m     \u001b[0mgraph_0001\u001b[0m \u001b[0;34m=\u001b[0m \u001b[0mnx\u001b[0m\u001b[0;34m.\u001b[0m\u001b[0mread_gpickle\u001b[0m\u001b[0;34m(\u001b[0m\u001b[0mfile_0001\u001b[0m\u001b[0;34m)\u001b[0m\u001b[0;34m\u001b[0m\u001b[0;34m\u001b[0m\u001b[0m\n\u001b[1;32m      5\u001b[0m     \u001b[0;32mif\u001b[0m \u001b[0mlen\u001b[0m\u001b[0;34m(\u001b[0m\u001b[0mlist\u001b[0m\u001b[0;34m(\u001b[0m\u001b[0mgraph_0001\u001b[0m\u001b[0;34m)\u001b[0m\u001b[0;34m)\u001b[0m \u001b[0;34m==\u001b[0m \u001b[0mlen\u001b[0m\u001b[0;34m(\u001b[0m\u001b[0mlist\u001b[0m\u001b[0;34m(\u001b[0m\u001b[0mgraph\u001b[0m\u001b[0;34m)\u001b[0m\u001b[0;34m)\u001b[0m\u001b[0;34m:\u001b[0m\u001b[0;34m\u001b[0m\u001b[0;34m\u001b[0m\u001b[0m\n",
      "\u001b[0;32m/lustre06/project/6023374/rozakmat/monai3.8/lib/python3.8/site-packages/networkx/utils/decorators.py\u001b[0m in \u001b[0;36margmap_read_gpickle_1\u001b[0;34m(path)\u001b[0m\n\u001b[1;32m      1\u001b[0m \u001b[0;32mfrom\u001b[0m \u001b[0mcollections\u001b[0m \u001b[0;32mimport\u001b[0m \u001b[0mdefaultdict\u001b[0m\u001b[0;34m\u001b[0m\u001b[0;34m\u001b[0m\u001b[0m\n\u001b[1;32m      2\u001b[0m \u001b[0;32mfrom\u001b[0m \u001b[0mos\u001b[0m\u001b[0;34m.\u001b[0m\u001b[0mpath\u001b[0m \u001b[0;32mimport\u001b[0m \u001b[0msplitext\u001b[0m\u001b[0;34m\u001b[0m\u001b[0;34m\u001b[0m\u001b[0m\n\u001b[0;32m----> 3\u001b[0;31m \u001b[0;32mfrom\u001b[0m \u001b[0mcontextlib\u001b[0m \u001b[0;32mimport\u001b[0m \u001b[0mcontextmanager\u001b[0m\u001b[0;34m\u001b[0m\u001b[0;34m\u001b[0m\u001b[0m\n\u001b[0m\u001b[1;32m      4\u001b[0m \u001b[0;32mfrom\u001b[0m \u001b[0mpathlib\u001b[0m \u001b[0;32mimport\u001b[0m \u001b[0mPath\u001b[0m\u001b[0;34m\u001b[0m\u001b[0;34m\u001b[0m\u001b[0m\n\u001b[1;32m      5\u001b[0m \u001b[0;32mimport\u001b[0m \u001b[0mwarnings\u001b[0m\u001b[0;34m\u001b[0m\u001b[0;34m\u001b[0m\u001b[0m\n",
      "\u001b[0;32m/lustre06/project/6023374/rozakmat/monai3.8/lib/python3.8/site-packages/networkx/utils/decorators.py\u001b[0m in \u001b[0;36m_open_file\u001b[0;34m(path)\u001b[0m\n\u001b[1;32m    186\u001b[0m             \u001b[0;32mreturn\u001b[0m \u001b[0mpath\u001b[0m\u001b[0;34m,\u001b[0m \u001b[0;32mlambda\u001b[0m\u001b[0;34m:\u001b[0m \u001b[0;32mNone\u001b[0m\u001b[0;34m\u001b[0m\u001b[0;34m\u001b[0m\u001b[0m\n\u001b[1;32m    187\u001b[0m \u001b[0;34m\u001b[0m\u001b[0m\n\u001b[0;32m--> 188\u001b[0;31m         \u001b[0mfobj\u001b[0m \u001b[0;34m=\u001b[0m \u001b[0m_dispatch_dict\u001b[0m\u001b[0;34m[\u001b[0m\u001b[0mext\u001b[0m\u001b[0;34m]\u001b[0m\u001b[0;34m(\u001b[0m\u001b[0mpath\u001b[0m\u001b[0;34m,\u001b[0m \u001b[0mmode\u001b[0m\u001b[0;34m=\u001b[0m\u001b[0mmode\u001b[0m\u001b[0;34m)\u001b[0m\u001b[0;34m\u001b[0m\u001b[0;34m\u001b[0m\u001b[0m\n\u001b[0m\u001b[1;32m    189\u001b[0m         \u001b[0;32mreturn\u001b[0m \u001b[0mfobj\u001b[0m\u001b[0;34m,\u001b[0m \u001b[0;32mlambda\u001b[0m\u001b[0;34m:\u001b[0m \u001b[0mfobj\u001b[0m\u001b[0;34m.\u001b[0m\u001b[0mclose\u001b[0m\u001b[0;34m(\u001b[0m\u001b[0;34m)\u001b[0m\u001b[0;34m\u001b[0m\u001b[0;34m\u001b[0m\u001b[0m\n\u001b[1;32m    190\u001b[0m \u001b[0;34m\u001b[0m\u001b[0m\n",
      "\u001b[0;31mFileNotFoundError\u001b[0m: [Errno 2] No such file or directory: 'matt_preds_graphs_fwhm_single_excel/20200217_17-XYZres121_warped_radii_forepaw_amended.pickle'"
     ]
    }
   ],
   "source": [
    "for j, file_0001 in enumerate(files[:]):\n",
    "    file = re.sub('_0001','',file_0001)\n",
    "    graph = nx.read_gpickle(file)\n",
    "    graph_0001 = nx.read_gpickle(file_0001)\n",
    "    if len(list(graph_0001)) == len(list(graph)):\n",
    "        for i,edge in enumerate(graph.edges):\n",
    "            radii = graph.edges[edge]['radii']\n",
    "            radii_0001 = graph_0001.edges[edge]['radii']\n",
    "            if (radii < 1.5 or radii_0001 < 1.5) and abs(radii_0001-radii)>1:\n",
    "                if len(graph.edges[edge]['pts'])>120:\n",
    "                    #print(file)\n",
    "                    print(j, i, radii_0001-radii, radii)"
   ]
  },
  {
   "cell_type": "code",
   "execution_count": 12,
   "id": "a14bda1c-97ea-40b5-a8b2-e1d089a319f5",
   "metadata": {},
   "outputs": [
    {
     "data": {
      "text/plain": [
       "(133, 138)"
      ]
     },
     "execution_count": 12,
     "metadata": {},
     "output_type": "execute_result"
    }
   ],
   "source": [
    "list(graph.edges)[151]"
   ]
  },
  {
   "cell_type": "code",
   "execution_count": 40,
   "id": "ea8cacfd-a5a9-4c63-a7c6-bab3b606fda9",
   "metadata": {},
   "outputs": [
    {
     "name": "stdout",
     "output_type": "stream",
     "text": [
      "matt_preds_graphs_fwhm_single_excel/20200217_11-XYZres91_warped_radii_forepaw_amended.pickle\n"
     ]
    },
    {
     "ename": "FileNotFoundError",
     "evalue": "No such file: '/lustre06/project/6061907/rozakmat/TBI_monai_UNET/matt_raw_warped_single/20200217_11-XYZres91_warped_radii_forepaw_amended.pickle'",
     "output_type": "error",
     "traceback": [
      "\u001b[0;31m---------------------------------------------------------------------------\u001b[0m",
      "\u001b[0;31mFileNotFoundError\u001b[0m                         Traceback (most recent call last)",
      "\u001b[0;32m/tmp/ipykernel_398229/2708480468.py\u001b[0m in \u001b[0;36m<module>\u001b[0;34m\u001b[0m\n\u001b[1;32m     10\u001b[0m     \u001b[0mfile\u001b[0m \u001b[0;34m=\u001b[0m \u001b[0mre\u001b[0m\u001b[0;34m.\u001b[0m\u001b[0msub\u001b[0m\u001b[0;34m(\u001b[0m\u001b[0;34m'_0001'\u001b[0m\u001b[0;34m,\u001b[0m\u001b[0;34m''\u001b[0m\u001b[0;34m,\u001b[0m\u001b[0mfile_0001\u001b[0m\u001b[0;34m)\u001b[0m\u001b[0;34m\u001b[0m\u001b[0;34m\u001b[0m\u001b[0m\n\u001b[1;32m     11\u001b[0m     \u001b[0mprint\u001b[0m\u001b[0;34m(\u001b[0m\u001b[0mfile\u001b[0m\u001b[0;34m)\u001b[0m\u001b[0;34m\u001b[0m\u001b[0;34m\u001b[0m\u001b[0m\n\u001b[0;32m---> 12\u001b[0;31m     \u001b[0mimg\u001b[0m \u001b[0;34m=\u001b[0m \u001b[0mio\u001b[0m\u001b[0;34m.\u001b[0m\u001b[0mimread\u001b[0m\u001b[0;34m(\u001b[0m\u001b[0mre\u001b[0m\u001b[0;34m.\u001b[0m\u001b[0msub\u001b[0m\u001b[0;34m(\u001b[0m\u001b[0;34m'_radii_amended.pickle'\u001b[0m\u001b[0;34m,\u001b[0m\u001b[0;34m'.tif'\u001b[0m\u001b[0;34m,\u001b[0m\u001b[0mre\u001b[0m\u001b[0;34m.\u001b[0m\u001b[0msub\u001b[0m\u001b[0;34m(\u001b[0m\u001b[0;34m'matt_preds_graphs_fwhm_single_excel'\u001b[0m\u001b[0;34m,\u001b[0m\u001b[0;34m'matt_raw_warped_single'\u001b[0m\u001b[0;34m,\u001b[0m\u001b[0mfile\u001b[0m\u001b[0;34m)\u001b[0m\u001b[0;34m)\u001b[0m\u001b[0;34m)\u001b[0m\u001b[0;34m\u001b[0m\u001b[0;34m\u001b[0m\u001b[0m\n\u001b[0m\u001b[1;32m     13\u001b[0m     \u001b[0mimg_0001\u001b[0m \u001b[0;34m=\u001b[0m \u001b[0mio\u001b[0m\u001b[0;34m.\u001b[0m\u001b[0mimread\u001b[0m\u001b[0;34m(\u001b[0m\u001b[0mre\u001b[0m\u001b[0;34m.\u001b[0m\u001b[0msub\u001b[0m\u001b[0;34m(\u001b[0m\u001b[0;34m'_radii_amended.pickle'\u001b[0m\u001b[0;34m,\u001b[0m\u001b[0;34m'.tif'\u001b[0m\u001b[0;34m,\u001b[0m\u001b[0mre\u001b[0m\u001b[0;34m.\u001b[0m\u001b[0msub\u001b[0m\u001b[0;34m(\u001b[0m\u001b[0;34m'matt_preds_graphs_fwhm_single_excel'\u001b[0m\u001b[0;34m,\u001b[0m\u001b[0;34m'matt_raw_warped_single'\u001b[0m\u001b[0;34m,\u001b[0m\u001b[0mfile_0001\u001b[0m\u001b[0;34m)\u001b[0m\u001b[0;34m)\u001b[0m\u001b[0;34m)\u001b[0m\u001b[0;34m\u001b[0m\u001b[0;34m\u001b[0m\u001b[0m\n\u001b[1;32m     14\u001b[0m     \u001b[0mimg_ch2\u001b[0m \u001b[0;34m=\u001b[0m \u001b[0msp\u001b[0m\u001b[0;34m.\u001b[0m\u001b[0mndimage\u001b[0m\u001b[0;34m.\u001b[0m\u001b[0mzoom\u001b[0m\u001b[0;34m(\u001b[0m\u001b[0mnp\u001b[0m\u001b[0;34m.\u001b[0m\u001b[0mswapaxes\u001b[0m\u001b[0;34m(\u001b[0m\u001b[0mimg\u001b[0m\u001b[0;34m[\u001b[0m\u001b[0;34m:\u001b[0m\u001b[0;34m,\u001b[0m\u001b[0;36m1\u001b[0m\u001b[0;34m,\u001b[0m\u001b[0;34m:\u001b[0m\u001b[0;34m,\u001b[0m\u001b[0;34m:\u001b[0m\u001b[0;34m]\u001b[0m\u001b[0;34m,\u001b[0m\u001b[0;36m0\u001b[0m\u001b[0;34m,\u001b[0m\u001b[0;36m2\u001b[0m\u001b[0;34m)\u001b[0m\u001b[0;34m,\u001b[0m\u001b[0;34m(\u001b[0m\u001b[0;36m1\u001b[0m\u001b[0;34m,\u001b[0m\u001b[0;36m1\u001b[0m\u001b[0;34m,\u001b[0m\u001b[0;36m2.645833333\u001b[0m\u001b[0;34m)\u001b[0m\u001b[0;34m)\u001b[0m\u001b[0;34m\u001b[0m\u001b[0;34m\u001b[0m\u001b[0m\n",
      "\u001b[0;32m/lustre06/project/6023374/rozakmat/monai3.8/lib/python3.8/site-packages/skimage/io/_io.py\u001b[0m in \u001b[0;36mimread\u001b[0;34m(fname, as_gray, plugin, **plugin_args)\u001b[0m\n\u001b[1;32m     51\u001b[0m \u001b[0;34m\u001b[0m\u001b[0m\n\u001b[1;32m     52\u001b[0m     \u001b[0;32mwith\u001b[0m \u001b[0mfile_or_url_context\u001b[0m\u001b[0;34m(\u001b[0m\u001b[0mfname\u001b[0m\u001b[0;34m)\u001b[0m \u001b[0;32mas\u001b[0m \u001b[0mfname\u001b[0m\u001b[0;34m:\u001b[0m\u001b[0;34m\u001b[0m\u001b[0;34m\u001b[0m\u001b[0m\n\u001b[0;32m---> 53\u001b[0;31m         \u001b[0mimg\u001b[0m \u001b[0;34m=\u001b[0m \u001b[0mcall_plugin\u001b[0m\u001b[0;34m(\u001b[0m\u001b[0;34m'imread'\u001b[0m\u001b[0;34m,\u001b[0m \u001b[0mfname\u001b[0m\u001b[0;34m,\u001b[0m \u001b[0mplugin\u001b[0m\u001b[0;34m=\u001b[0m\u001b[0mplugin\u001b[0m\u001b[0;34m,\u001b[0m \u001b[0;34m**\u001b[0m\u001b[0mplugin_args\u001b[0m\u001b[0;34m)\u001b[0m\u001b[0;34m\u001b[0m\u001b[0;34m\u001b[0m\u001b[0m\n\u001b[0m\u001b[1;32m     54\u001b[0m \u001b[0;34m\u001b[0m\u001b[0m\n\u001b[1;32m     55\u001b[0m     \u001b[0;32mif\u001b[0m \u001b[0;32mnot\u001b[0m \u001b[0mhasattr\u001b[0m\u001b[0;34m(\u001b[0m\u001b[0mimg\u001b[0m\u001b[0;34m,\u001b[0m \u001b[0;34m'ndim'\u001b[0m\u001b[0;34m)\u001b[0m\u001b[0;34m:\u001b[0m\u001b[0;34m\u001b[0m\u001b[0;34m\u001b[0m\u001b[0m\n",
      "\u001b[0;32m/lustre06/project/6023374/rozakmat/monai3.8/lib/python3.8/site-packages/skimage/io/manage_plugins.py\u001b[0m in \u001b[0;36mcall_plugin\u001b[0;34m(kind, *args, **kwargs)\u001b[0m\n\u001b[1;32m    205\u001b[0m                                (plugin, kind))\n\u001b[1;32m    206\u001b[0m \u001b[0;34m\u001b[0m\u001b[0m\n\u001b[0;32m--> 207\u001b[0;31m     \u001b[0;32mreturn\u001b[0m \u001b[0mfunc\u001b[0m\u001b[0;34m(\u001b[0m\u001b[0;34m*\u001b[0m\u001b[0margs\u001b[0m\u001b[0;34m,\u001b[0m \u001b[0;34m**\u001b[0m\u001b[0mkwargs\u001b[0m\u001b[0;34m)\u001b[0m\u001b[0;34m\u001b[0m\u001b[0;34m\u001b[0m\u001b[0m\n\u001b[0m\u001b[1;32m    208\u001b[0m \u001b[0;34m\u001b[0m\u001b[0m\n\u001b[1;32m    209\u001b[0m \u001b[0;34m\u001b[0m\u001b[0m\n",
      "\u001b[0;32m/lustre06/project/6023374/rozakmat/monai3.8/lib/python3.8/site-packages/skimage/io/_plugins/imageio_plugin.py\u001b[0m in \u001b[0;36mimread\u001b[0;34m(*args, **kwargs)\u001b[0m\n\u001b[1;32m     13\u001b[0m \u001b[0;34m@\u001b[0m\u001b[0mwraps\u001b[0m\u001b[0;34m(\u001b[0m\u001b[0mimageio_imread\u001b[0m\u001b[0;34m)\u001b[0m\u001b[0;34m\u001b[0m\u001b[0;34m\u001b[0m\u001b[0m\n\u001b[1;32m     14\u001b[0m \u001b[0;32mdef\u001b[0m \u001b[0mimread\u001b[0m\u001b[0;34m(\u001b[0m\u001b[0;34m*\u001b[0m\u001b[0margs\u001b[0m\u001b[0;34m,\u001b[0m \u001b[0;34m**\u001b[0m\u001b[0mkwargs\u001b[0m\u001b[0;34m)\u001b[0m\u001b[0;34m:\u001b[0m\u001b[0;34m\u001b[0m\u001b[0;34m\u001b[0m\u001b[0m\n\u001b[0;32m---> 15\u001b[0;31m     \u001b[0;32mreturn\u001b[0m \u001b[0mnp\u001b[0m\u001b[0;34m.\u001b[0m\u001b[0masarray\u001b[0m\u001b[0;34m(\u001b[0m\u001b[0mimageio_imread\u001b[0m\u001b[0;34m(\u001b[0m\u001b[0;34m*\u001b[0m\u001b[0margs\u001b[0m\u001b[0;34m,\u001b[0m \u001b[0;34m**\u001b[0m\u001b[0mkwargs\u001b[0m\u001b[0;34m)\u001b[0m\u001b[0;34m)\u001b[0m\u001b[0;34m\u001b[0m\u001b[0;34m\u001b[0m\u001b[0m\n\u001b[0m",
      "\u001b[0;32m/lustre06/project/6023374/rozakmat/monai3.8/lib/python3.8/site-packages/imageio/core/functions.py\u001b[0m in \u001b[0;36mimread\u001b[0;34m(uri, format, **kwargs)\u001b[0m\n\u001b[1;32m    157\u001b[0m         )\n\u001b[1;32m    158\u001b[0m \u001b[0;34m\u001b[0m\u001b[0m\n\u001b[0;32m--> 159\u001b[0;31m     \u001b[0;32mwith\u001b[0m \u001b[0mimopen\u001b[0m\u001b[0;34m(\u001b[0m\u001b[0muri\u001b[0m\u001b[0;34m,\u001b[0m \u001b[0;34m\"ri\"\u001b[0m\u001b[0;34m,\u001b[0m \u001b[0mplugin\u001b[0m\u001b[0;34m=\u001b[0m\u001b[0mformat\u001b[0m\u001b[0;34m)\u001b[0m \u001b[0;32mas\u001b[0m \u001b[0mfile\u001b[0m\u001b[0;34m:\u001b[0m\u001b[0;34m\u001b[0m\u001b[0;34m\u001b[0m\u001b[0m\n\u001b[0m\u001b[1;32m    160\u001b[0m         \u001b[0;32mreturn\u001b[0m \u001b[0mfile\u001b[0m\u001b[0;34m.\u001b[0m\u001b[0mread\u001b[0m\u001b[0;34m(\u001b[0m\u001b[0mindex\u001b[0m\u001b[0;34m=\u001b[0m\u001b[0;36m0\u001b[0m\u001b[0;34m,\u001b[0m \u001b[0;34m**\u001b[0m\u001b[0mkwargs\u001b[0m\u001b[0;34m)\u001b[0m\u001b[0;34m\u001b[0m\u001b[0;34m\u001b[0m\u001b[0m\n\u001b[1;32m    161\u001b[0m \u001b[0;34m\u001b[0m\u001b[0m\n",
      "\u001b[0;32m/lustre06/project/6023374/rozakmat/monai3.8/lib/python3.8/site-packages/imageio/core/imopen.py\u001b[0m in \u001b[0;36mimopen\u001b[0;34m(uri, io_mode, plugin, legacy_mode, **kwargs)\u001b[0m\n\u001b[1;32m    135\u001b[0m         \u001b[0mio_mode\u001b[0m \u001b[0;34m=\u001b[0m \u001b[0mrequest\u001b[0m\u001b[0;34m.\u001b[0m\u001b[0mmode\u001b[0m\u001b[0;34m.\u001b[0m\u001b[0mio_mode\u001b[0m\u001b[0;34m\u001b[0m\u001b[0;34m\u001b[0m\u001b[0m\n\u001b[1;32m    136\u001b[0m     \u001b[0;32melse\u001b[0m\u001b[0;34m:\u001b[0m\u001b[0;34m\u001b[0m\u001b[0;34m\u001b[0m\u001b[0m\n\u001b[0;32m--> 137\u001b[0;31m         \u001b[0mrequest\u001b[0m \u001b[0;34m=\u001b[0m \u001b[0mRequest\u001b[0m\u001b[0;34m(\u001b[0m\u001b[0muri\u001b[0m\u001b[0;34m,\u001b[0m \u001b[0mio_mode\u001b[0m\u001b[0;34m)\u001b[0m\u001b[0;34m\u001b[0m\u001b[0;34m\u001b[0m\u001b[0m\n\u001b[0m\u001b[1;32m    138\u001b[0m \u001b[0;34m\u001b[0m\u001b[0m\n\u001b[1;32m    139\u001b[0m     \u001b[0;31m# plugin specified, no search needed\u001b[0m\u001b[0;34m\u001b[0m\u001b[0;34m\u001b[0m\u001b[0;34m\u001b[0m\u001b[0m\n",
      "\u001b[0;32m/lustre06/project/6023374/rozakmat/monai3.8/lib/python3.8/site-packages/imageio/core/request.py\u001b[0m in \u001b[0;36m__init__\u001b[0;34m(self, uri, mode, **kwargs)\u001b[0m\n\u001b[1;32m    243\u001b[0m \u001b[0;34m\u001b[0m\u001b[0m\n\u001b[1;32m    244\u001b[0m         \u001b[0;31m# Parse what was given\u001b[0m\u001b[0;34m\u001b[0m\u001b[0;34m\u001b[0m\u001b[0;34m\u001b[0m\u001b[0m\n\u001b[0;32m--> 245\u001b[0;31m         \u001b[0mself\u001b[0m\u001b[0;34m.\u001b[0m\u001b[0m_parse_uri\u001b[0m\u001b[0;34m(\u001b[0m\u001b[0muri\u001b[0m\u001b[0;34m)\u001b[0m\u001b[0;34m\u001b[0m\u001b[0;34m\u001b[0m\u001b[0m\n\u001b[0m\u001b[1;32m    246\u001b[0m \u001b[0;34m\u001b[0m\u001b[0m\n\u001b[1;32m    247\u001b[0m         \u001b[0;31m# Set extension\u001b[0m\u001b[0;34m\u001b[0m\u001b[0;34m\u001b[0m\u001b[0;34m\u001b[0m\u001b[0m\n",
      "\u001b[0;32m/lustre06/project/6023374/rozakmat/monai3.8/lib/python3.8/site-packages/imageio/core/request.py\u001b[0m in \u001b[0;36m_parse_uri\u001b[0;34m(self, uri)\u001b[0m\n\u001b[1;32m    381\u001b[0m                 \u001b[0;31m# Reading: check that the file exists (but is allowed a dir)\u001b[0m\u001b[0;34m\u001b[0m\u001b[0;34m\u001b[0m\u001b[0;34m\u001b[0m\u001b[0m\n\u001b[1;32m    382\u001b[0m                 \u001b[0;32mif\u001b[0m \u001b[0;32mnot\u001b[0m \u001b[0mos\u001b[0m\u001b[0;34m.\u001b[0m\u001b[0mpath\u001b[0m\u001b[0;34m.\u001b[0m\u001b[0mexists\u001b[0m\u001b[0;34m(\u001b[0m\u001b[0mfn\u001b[0m\u001b[0;34m)\u001b[0m\u001b[0;34m:\u001b[0m\u001b[0;34m\u001b[0m\u001b[0;34m\u001b[0m\u001b[0m\n\u001b[0;32m--> 383\u001b[0;31m                     \u001b[0;32mraise\u001b[0m \u001b[0mFileNotFoundError\u001b[0m\u001b[0;34m(\u001b[0m\u001b[0;34m\"No such file: '%s'\"\u001b[0m \u001b[0;34m%\u001b[0m \u001b[0mfn\u001b[0m\u001b[0;34m)\u001b[0m\u001b[0;34m\u001b[0m\u001b[0;34m\u001b[0m\u001b[0m\n\u001b[0m\u001b[1;32m    384\u001b[0m             \u001b[0;32melse\u001b[0m\u001b[0;34m:\u001b[0m\u001b[0;34m\u001b[0m\u001b[0;34m\u001b[0m\u001b[0m\n\u001b[1;32m    385\u001b[0m                 \u001b[0;31m# Writing: check that the directory to write to does exist\u001b[0m\u001b[0;34m\u001b[0m\u001b[0;34m\u001b[0m\u001b[0;34m\u001b[0m\u001b[0m\n",
      "\u001b[0;31mFileNotFoundError\u001b[0m: No such file: '/lustre06/project/6061907/rozakmat/TBI_monai_UNET/matt_raw_warped_single/20200217_11-XYZres91_warped_radii_forepaw_amended.pickle'"
     ]
    },
    {
     "data": {
      "image/png": "[encoded data removed]",
      "text/plain": [
       "<Figure size 432x288 with 4 Axes>"
      ]
     },
     "metadata": {
      "needs_background": "light"
     },
     "output_type": "display_data"
    }
   ],
   "source": [
    "#[17,389],[5,199],[37,507],[24,26],[13,9],[0,18]\n",
    "#[5,368],[37,307],[24,418],[13,456],[13,394],[17,86]\n",
    "#files_edge = np.array([[17,389],[37,507],[24,26],[13,9],[0,18]])\n",
    "files_edge = np.array([[2,5],[3,5]])\n",
    "fig, ax = plt.subplots(len(files_edge),2)\n",
    "position = ['lower center','center left', 'lower center','lower left','upper right', 'upper left']\n",
    "#position = ['lower center','lower center', 'lower center','lower center','lower left', 'upper right']\n",
    "for i,params in enumerate(files_edge):\n",
    "    file_0001 = files[params[0]]\n",
    "    file = re.sub('_0001','',file_0001)\n",
    "    print(file)\n",
    "    img = io.imread(re.sub('_radii_amended.pickle','.tif',re.sub('matt_preds_graphs_fwhm_single_excel','matt_raw_warped_single',file)))\n",
    "    img_0001 = io.imread(re.sub('_radii_amended.pickle','.tif',re.sub('matt_preds_graphs_fwhm_single_excel','matt_raw_warped_single',file_0001)))\n",
    "    img_ch2 = sp.ndimage.zoom(np.swapaxes(img[:,1,:,:],0,2),(1,1,2.645833333))\n",
    "    img = sp.ndimage.zoom(np.swapaxes(img[:,0,:,:],0,2),(1,1,2.645833333))\n",
    "    img_0001_ch2 = sp.ndimage.zoom(np.swapaxes(img_0001[:,1,:,:],0,2),(1,1,2.645833333))\n",
    "    img_0001 = sp.ndimage.zoom(np.swapaxes(img_0001[:,0,:,:],0,2),(1,1,2.645833333))\n",
    "    graph = nx.read_gpickle(file)\n",
    "    graph_0001 = nx.read_gpickle(file_0001)\n",
    "    edges = list(graph.edges)\n",
    "    edge = edges[params[1]]\n",
    "    print(edges[params[1]])\n",
    "    radii = graph.edges[edge]['radii']\n",
    "    radii_0001 = graph_0001.edges[edge]['radii']\n",
    "    pts = graph.edges[edge]['pts']\n",
    "    mx = np.max(pts,axis=0) +5\n",
    "    mn = np.min(pts,axis=0) - 5\n",
    "    pt = pts[:,:2]- np.array([mn[0],mn[1]]) - 1\n",
    "    _img = exposure.equalize_adapthist(np.max(img[mn[0]:mx[0],mn[1]:mx[1],mn[2]:mx[2]],axis=2), clip_limit=0.03)\n",
    "    _show_img = np.zeros(list(_img.shape) + [3])\n",
    "    _show_img[:,:,0] = _img\n",
    "    _show_img[:,:,1] = 0.7*exposure.equalize_adapthist(np.max(img_ch2[mn[0]:mx[0],mn[1]:mx[1],mn[2]:mx[2]],axis=2), clip_limit=0.03)\n",
    "    ax[i,0].imshow(_show_img)\n",
    "    ax[i,0].tick_params(left = False, right = False, labelleft = False ,labelbottom = False, bottom = False)\n",
    "    print(radii_0001-radii)\n",
    "    ax[i,0].set_ylabel(\"{:.2f}\".format(round((radii_0001-radii)*2, 2)) + str(u' \\u03bcm'), rotation=0, fontsize=20, ha='right')\n",
    "    scalebar = ScaleBar(1,units=\"um\", \n",
    "                        length_fraction = 0.5, \n",
    "                        location = position[i], \n",
    "                        pad=0.1, \n",
    "                        color='white', \n",
    "                        frameon=False,\n",
    "                        width_fraction = 0.05) # 1 pixel = 0.2 meter\n",
    "    scalebar2 = ScaleBar(1,units=\"um\", \n",
    "                        length_fraction = 0.5, \n",
    "                        location = position[i], \n",
    "                        pad=0.1, \n",
    "                        color='white', \n",
    "                        frameon=False,\n",
    "                        width_fraction = 0.05) # 1 pixel = 0.2 meter\n",
    "    ax[i,0].add_artist(scalebar)\n",
    "    #ax[i,1].add_artist(scalebar2)\n",
    "    _img_0001 = np.max(img_0001[mn[0]:mx[0],mn[1]:mx[1],mn[2]:mx[2]],axis=2)\n",
    "    _show_img_0001 = np.zeros(list(_img_0001.shape) + [3])\n",
    "    _show_img_0001[:,:,0] = exposure.equalize_adapthist(_img_0001, clip_limit=0.03)\n",
    "    _show_img_0001[:,:,1] = 0.7*exposure.equalize_adapthist(np.max(img_0001_ch2[mn[0]:mx[0],mn[1]:mx[1],mn[2]:mx[2]],axis=2), clip_limit=0.03)\n",
    "    ax[i,1].imshow(_show_img_0001)\n",
    "    ax[i,1].tick_params(left = False, right = False , labelleft = False ,labelbottom = False, bottom = False)\n",
    "fig.set_figheight(16)\n",
    "fig.set_figwidth(7)\n",
    "fig.tight_layout()\n",
    "#fig.savefig('seeingIsBeiliving_James.png')"
   ]
  },
  {
   "cell_type": "code",
   "execution_count": 11,
   "id": "f9913a37-1882-4d8a-8e53-619c42df4fa4",
   "metadata": {},
   "outputs": [
    {
     "data": {
      "text/plain": [
       "0"
      ]
     },
     "execution_count": 11,
     "metadata": {},
     "output_type": "execute_result"
    }
   ],
   "source": [
    "i"
   ]
  },
  {
   "cell_type": "code",
   "execution_count": 109,
   "id": "ede7af00-41e7-4aa9-bf17-8fb66fa78287",
   "metadata": {},
   "outputs": [
    {
     "data": {
      "text/plain": [
       "'0.8.0'"
      ]
     },
     "execution_count": 109,
     "metadata": {},
     "output_type": "execute_result"
    }
   ],
   "source": [
    "import monai\n",
    "monai.__version__"
   ]
  },
  {
   "cell_type": "code",
   "execution_count": null,
   "id": "fd2c26a6-93af-4816-861c-9f34d29e098a",
   "metadata": {},
   "outputs": [],
   "source": [
    "graph.edges[edge]"
   ]
  },
  {
   "cell_type": "code",
   "execution_count": 5,
   "id": "4e18c72c-41d9-491c-a77e-db73eccf3f76",
   "metadata": {},
   "outputs": [
    {
     "name": "stdout",
     "output_type": "stream",
     "text": [
      "matt_preds_graphs_fwhm_single_excel/vbm07 Mar 24 2020-XYZres024_warped_radii_amended_AVC.pickle\n",
      "matt_preds_graphs_fwhm_single_excel/vbm04 Feb 27 2020-XYZres012_warped_radii_amended_AVC.pickle\n",
      "matt_preds_graphs_fwhm_single_excel/vbm11 Apr 04 2020-XYZres047_warped_radii_amended_AVC.pickle\n",
      "matt_preds_graphs_fwhm_single_excel/vbm09 Mar 28 2020-XYZres033_warped_radii_amended_AVC.pickle\n",
      "matt_preds_graphs_fwhm_single_excel/vbm05 Feb 28 2020-XYZres020_warped_radii_amended_AVC.pickle\n",
      "matt_preds_graphs_fwhm_single_excel/vbm03 Feb 26 2020-XYZres007_warped_radii_amended_AVC.pickle\n"
     ]
    },
    {
     "data": {
      "image/png": "[encoded data removed]",
      "text/plain": [
       "<Figure size 432x288 with 12 Axes>"
      ]
     },
     "metadata": {
      "needs_background": "light"
     },
     "output_type": "display_data"
    }
   ],
   "source": [
    "#[17,389],[5,199],[37,507],[24,26],[13,9],[0,18]\n",
    "#[5,368],[37,307],[24,418],[13,456],[13,394],[17,86]\n",
    "files_edge = np.array([[17,389],[5,199],[37,507],[24,26],[13,9],[0,18]])\n",
    "fig, ax = plt.subplots(len(files_edge),2)\n",
    "position = ['lower center','center left', 'lower center','lower left','upper right', 'upper left']\n",
    "#position = ['lower center','lower center', 'lower center','lower center','lower left', 'upper right']\n",
    "for i,params in enumerate(files_edge):\n",
    "    file_0001 = files[params[0]]\n",
    "    file = re.sub('_0001','',file_0001)\n",
    "    print(file)"
   ]
  },
  {
   "cell_type": "code",
   "execution_count": 6,
   "id": "611f5fe8-6d73-44ab-978d-80692513bbee",
   "metadata": {},
   "outputs": [
    {
     "name": "stdout",
     "output_type": "stream",
     "text": [
      "matt_preds_graphs_fwhm_single_excel/vbm04 Feb 27 2020-XYZres012_warped_radii_amended_AVC.pickle\n",
      "matt_preds_graphs_fwhm_single_excel/vbm11 Apr 04 2020-XYZres047_warped_radii_amended_AVC.pickle\n",
      "matt_preds_graphs_fwhm_single_excel/vbm09 Mar 28 2020-XYZres033_warped_radii_amended_AVC.pickle\n",
      "matt_preds_graphs_fwhm_single_excel/vbm05 Feb 28 2020-XYZres020_warped_radii_amended_AVC.pickle\n",
      "matt_preds_graphs_fwhm_single_excel/vbm05 Feb 28 2020-XYZres020_warped_radii_amended_AVC.pickle\n",
      "matt_preds_graphs_fwhm_single_excel/vbm07 Mar 24 2020-XYZres024_warped_radii_amended_AVC.pickle\n"
     ]
    },
    {
     "data": {
      "image/png": "[encoded data removed]",
      "text/plain": [
       "<Figure size 432x288 with 12 Axes>"
      ]
     },
     "metadata": {
      "needs_background": "light"
     },
     "output_type": "display_data"
    }
   ],
   "source": [
    "#[17,389],[5,199],[37,507],[24,26],[13,9],[0,18]\n",
    "#[5,368],[37,307],[24,418],[13,456],[13,394],[17,86]\n",
    "files_edge = np.array([[5,368],[37,307],[24,418],[13,456],[13,394],[17,86]])\n",
    "fig, ax = plt.subplots(len(files_edge),2)\n",
    "position = ['lower center','center left', 'lower center','lower left','upper right', 'upper left']\n",
    "#position = ['lower center','lower center', 'lower center','lower center','lower left', 'upper right']\n",
    "for i,params in enumerate(files_edge):\n",
    "    file_0001 = files[params[0]]\n",
    "    file = re.sub('_0001','',file_0001)\n",
    "    print(file)"
   ]
  },
  {
   "cell_type": "code",
   "execution_count": null,
   "id": "766cf9fc-af47-4530-9cad-3aea5b4e266e",
   "metadata": {},
   "outputs": [],
   "source": []
  }
 ],
 "metadata": {
  "kernelspec": {
   "display_name": "monai3.8",
   "language": "python",
   "name": "monai3.8"
  },
  "language_info": {
   "codemirror_mode": {
    "name": "ipython",
    "version": 3
   },
   "file_extension": ".py",
   "mimetype": "text/x-python",
   "name": "python",
   "nbconvert_exporter": "python",
   "pygments_lexer": "ipython3",
   "version": "3.8.10"
  }
 },
 "nbformat": 4,
 "nbformat_minor": 5
}
