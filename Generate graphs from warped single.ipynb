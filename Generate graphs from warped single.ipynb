{
 "cells": [
  {
   "cell_type": "code",
   "execution_count": 11,
   "id": "bfec0fd8",
   "metadata": {},
   "outputs": [],
   "source": [
    "import numpy as np\n",
    "from pathlib import Path\n",
    "import re\n",
    "from tqdm import tqdm\n",
    "from skimage import io\n",
    "from skimage.morphology import skeletonize_3d, binary_dilation, binary_closing\n",
    "from scipy.ndimage import distance_transform_edt\n",
    "import tifffile as tif\n",
    "from scipy.ndimage import binary_fill_holes \n",
    "import cc3d\n",
    "from scipy.io import loadmat, savemat\n",
    "import skan\n",
    "import sknw\n",
    "import networkx as nx\n",
    "import pickle"
   ]
  },
  {
   "cell_type": "code",
   "execution_count": 2,
   "id": "375b9a27",
   "metadata": {},
   "outputs": [],
   "source": [
    "#!pip install pystackreg"
   ]
  },
  {
   "cell_type": "code",
   "execution_count": 3,
   "id": "fba0e67f",
   "metadata": {},
   "outputs": [],
   "source": [
    "def remove_small_comps_3d(image, thresh = 1000):\n",
    "    \"\"\"\n",
    "    \n",
    "\n",
    "    Parameters\n",
    "    ----------\n",
    "    image : binary np array with uint8 elements\n",
    "        3d numpy matrix, connected components will be removed form this image\n",
    "    thresh : int64\n",
    "        smallest connected components to keep\n",
    "\n",
    "    Returns\n",
    "    -------\n",
    "    np.array with uint8 elements, binary\n",
    "        binary image with connected components below the threshold removed.\n",
    "\n",
    "    \"\"\"\n",
    "    img_lab, N = cc3d.connected_components(image,return_N=True)\n",
    "    unique, counts = np.unique(img_lab, return_counts=True)\n",
    "    unique_keep = unique[counts>thresh]\n",
    "    unique_keep = np.delete(unique_keep,[0])\n",
    "    img_filt = np.zeros(img_lab.shape).astype('int8')\n",
    "    img_filt[np.isin(img_lab,unique_keep)] = 1\n",
    "    return img_filt.astype('uint8')   \n",
    "\n",
    "def fill_holes(img):\n",
    "    #res = np.zeros(img.shape)\n",
    "    for i in np.unique(img)[::-1]:\n",
    "        _tmp = (img==i)*1.0\n",
    "        _tmp = _tmp.astype('int8')\n",
    "        _tmp = remove_small_comps_3d(_tmp)\n",
    "        img[_tmp==1] = i\n",
    "    res = img.astype('int8')\n",
    "    return res"
   ]
  },
  {
   "cell_type": "code",
   "execution_count": 4,
   "id": "31d8f988-fb5a-4339-bee3-6e413d4535ca",
   "metadata": {},
   "outputs": [
    {
     "name": "stdout",
     "output_type": "stream",
     "text": [
      "94\n"
     ]
    }
   ],
   "source": [
    "directory = Path('james_preds')\n",
    "files  = directory.glob('*_seg_warped.tif')\n",
    "files = sorted([x.as_posix() for x in files])\n",
    "print(len(files))"
   ]
  },
  {
   "cell_type": "code",
   "execution_count": 23,
   "id": "0073ede7",
   "metadata": {},
   "outputs": [
    {
     "name": "stderr",
     "output_type": "stream",
     "text": [
      "  0%|          | 0/94 [00:00<?, ?it/s]"
     ]
    },
    {
     "name": "stdout",
     "output_type": "stream",
     "text": [
      "951671\n"
     ]
    },
    {
     "name": "stderr",
     "output_type": "stream",
     "text": [
      "  1%|          | 1/94 [00:08<12:38,  8.15s/it]"
     ]
    },
    {
     "name": "stdout",
     "output_type": "stream",
     "text": [
      "1644693\n"
     ]
    },
    {
     "name": "stderr",
     "output_type": "stream",
     "text": [
      "  2%|▏         | 2/94 [00:14<10:56,  7.14s/it]"
     ]
    },
    {
     "name": "stdout",
     "output_type": "stream",
     "text": [
      "1465285\n"
     ]
    },
    {
     "name": "stderr",
     "output_type": "stream",
     "text": [
      "  3%|▎         | 3/94 [00:20<10:18,  6.80s/it]"
     ]
    },
    {
     "name": "stdout",
     "output_type": "stream",
     "text": [
      "1333525\n"
     ]
    },
    {
     "name": "stderr",
     "output_type": "stream",
     "text": [
      "  4%|▍         | 4/94 [00:29<10:58,  7.32s/it]"
     ]
    },
    {
     "name": "stdout",
     "output_type": "stream",
     "text": [
      "2578393\n"
     ]
    },
    {
     "name": "stderr",
     "output_type": "stream",
     "text": [
      "  5%|▌         | 5/94 [00:36<10:50,  7.30s/it]"
     ]
    },
    {
     "name": "stdout",
     "output_type": "stream",
     "text": [
      "2518211\n"
     ]
    },
    {
     "name": "stderr",
     "output_type": "stream",
     "text": [
      "  6%|▋         | 6/94 [00:43<10:36,  7.23s/it]"
     ]
    },
    {
     "name": "stdout",
     "output_type": "stream",
     "text": [
      "1471826\n"
     ]
    },
    {
     "name": "stderr",
     "output_type": "stream",
     "text": [
      "  7%|▋         | 7/94 [00:49<10:02,  6.93s/it]"
     ]
    },
    {
     "name": "stdout",
     "output_type": "stream",
     "text": [
      "1215313\n"
     ]
    },
    {
     "name": "stderr",
     "output_type": "stream",
     "text": [
      "  9%|▊         | 8/94 [00:55<09:34,  6.68s/it]"
     ]
    },
    {
     "name": "stdout",
     "output_type": "stream",
     "text": [
      "2074363\n"
     ]
    },
    {
     "name": "stderr",
     "output_type": "stream",
     "text": [
      " 10%|▉         | 9/94 [01:02<09:13,  6.51s/it]"
     ]
    },
    {
     "name": "stdout",
     "output_type": "stream",
     "text": [
      "1943606\n"
     ]
    },
    {
     "name": "stderr",
     "output_type": "stream",
     "text": [
      " 11%|█         | 10/94 [01:09<09:20,  6.67s/it]"
     ]
    },
    {
     "name": "stdout",
     "output_type": "stream",
     "text": [
      "1478767\n"
     ]
    },
    {
     "name": "stderr",
     "output_type": "stream",
     "text": [
      " 12%|█▏        | 11/94 [01:15<09:05,  6.57s/it]"
     ]
    },
    {
     "name": "stdout",
     "output_type": "stream",
     "text": [
      "1325157\n"
     ]
    },
    {
     "name": "stderr",
     "output_type": "stream",
     "text": [
      " 13%|█▎        | 12/94 [01:21<08:52,  6.50s/it]"
     ]
    },
    {
     "name": "stdout",
     "output_type": "stream",
     "text": [
      "2206736\n"
     ]
    },
    {
     "name": "stderr",
     "output_type": "stream",
     "text": [
      " 14%|█▍        | 13/94 [01:28<08:40,  6.43s/it]"
     ]
    },
    {
     "name": "stdout",
     "output_type": "stream",
     "text": [
      "2032225\n"
     ]
    },
    {
     "name": "stderr",
     "output_type": "stream",
     "text": [
      " 15%|█▍        | 14/94 [01:34<08:34,  6.44s/it]"
     ]
    },
    {
     "name": "stdout",
     "output_type": "stream",
     "text": [
      "1363949\n"
     ]
    },
    {
     "name": "stderr",
     "output_type": "stream",
     "text": [
      " 16%|█▌        | 15/94 [01:40<08:24,  6.38s/it]"
     ]
    },
    {
     "name": "stdout",
     "output_type": "stream",
     "text": [
      "1289773\n"
     ]
    },
    {
     "name": "stderr",
     "output_type": "stream",
     "text": [
      " 17%|█▋        | 16/94 [01:46<08:12,  6.31s/it]"
     ]
    },
    {
     "name": "stdout",
     "output_type": "stream",
     "text": [
      "2050425\n"
     ]
    },
    {
     "name": "stderr",
     "output_type": "stream",
     "text": [
      " 18%|█▊        | 17/94 [01:53<08:04,  6.29s/it]"
     ]
    },
    {
     "name": "stdout",
     "output_type": "stream",
     "text": [
      "1998815\n"
     ]
    },
    {
     "name": "stderr",
     "output_type": "stream",
     "text": [
      " 19%|█▉        | 18/94 [01:59<08:05,  6.39s/it]"
     ]
    },
    {
     "name": "stdout",
     "output_type": "stream",
     "text": [
      "981255\n"
     ]
    },
    {
     "name": "stderr",
     "output_type": "stream",
     "text": [
      " 20%|██        | 19/94 [02:07<08:38,  6.91s/it]"
     ]
    },
    {
     "name": "stdout",
     "output_type": "stream",
     "text": [
      "858787\n"
     ]
    },
    {
     "name": "stderr",
     "output_type": "stream",
     "text": [
      " 21%|██▏       | 20/94 [02:16<09:01,  7.31s/it]"
     ]
    },
    {
     "name": "stdout",
     "output_type": "stream",
     "text": [
      "1980370\n"
     ]
    },
    {
     "name": "stderr",
     "output_type": "stream",
     "text": [
      " 22%|██▏       | 21/94 [02:23<08:59,  7.38s/it]"
     ]
    },
    {
     "name": "stdout",
     "output_type": "stream",
     "text": [
      "1843761\n"
     ]
    },
    {
     "name": "stderr",
     "output_type": "stream",
     "text": [
      " 23%|██▎       | 22/94 [02:31<08:59,  7.49s/it]"
     ]
    },
    {
     "name": "stdout",
     "output_type": "stream",
     "text": [
      "947964\n"
     ]
    },
    {
     "name": "stderr",
     "output_type": "stream",
     "text": [
      " 24%|██▍       | 23/94 [02:38<08:50,  7.47s/it]"
     ]
    },
    {
     "name": "stdout",
     "output_type": "stream",
     "text": [
      "869575\n"
     ]
    },
    {
     "name": "stderr",
     "output_type": "stream",
     "text": [
      " 26%|██▌       | 24/94 [02:46<08:42,  7.46s/it]"
     ]
    },
    {
     "name": "stdout",
     "output_type": "stream",
     "text": [
      "1973081\n"
     ]
    },
    {
     "name": "stderr",
     "output_type": "stream",
     "text": [
      " 27%|██▋       | 25/94 [02:53<08:31,  7.42s/it]"
     ]
    },
    {
     "name": "stdout",
     "output_type": "stream",
     "text": [
      "1803732\n"
     ]
    },
    {
     "name": "stderr",
     "output_type": "stream",
     "text": [
      " 28%|██▊       | 26/94 [03:01<08:36,  7.59s/it]"
     ]
    },
    {
     "name": "stdout",
     "output_type": "stream",
     "text": [
      "827451\n"
     ]
    },
    {
     "name": "stderr",
     "output_type": "stream",
     "text": [
      " 29%|██▊       | 27/94 [03:09<08:25,  7.55s/it]"
     ]
    },
    {
     "name": "stdout",
     "output_type": "stream",
     "text": [
      "849102\n"
     ]
    },
    {
     "name": "stderr",
     "output_type": "stream",
     "text": [
      " 30%|██▉       | 28/94 [03:17<08:28,  7.70s/it]"
     ]
    },
    {
     "name": "stdout",
     "output_type": "stream",
     "text": [
      "1841739\n"
     ]
    },
    {
     "name": "stderr",
     "output_type": "stream",
     "text": [
      " 31%|███       | 29/94 [03:24<08:21,  7.71s/it]"
     ]
    },
    {
     "name": "stdout",
     "output_type": "stream",
     "text": [
      "1787421\n"
     ]
    },
    {
     "name": "stderr",
     "output_type": "stream",
     "text": [
      " 32%|███▏      | 30/94 [03:33<08:26,  7.92s/it]"
     ]
    },
    {
     "name": "stdout",
     "output_type": "stream",
     "text": [
      "1449752\n"
     ]
    },
    {
     "name": "stderr",
     "output_type": "stream",
     "text": [
      " 33%|███▎      | 31/94 [03:41<08:22,  7.98s/it]"
     ]
    },
    {
     "name": "stdout",
     "output_type": "stream",
     "text": [
      "1269328\n"
     ]
    },
    {
     "name": "stderr",
     "output_type": "stream",
     "text": [
      " 34%|███▍      | 32/94 [03:47<07:41,  7.44s/it]"
     ]
    },
    {
     "name": "stdout",
     "output_type": "stream",
     "text": [
      "1769989\n"
     ]
    },
    {
     "name": "stderr",
     "output_type": "stream",
     "text": [
      " 35%|███▌      | 33/94 [03:54<07:21,  7.25s/it]"
     ]
    },
    {
     "name": "stdout",
     "output_type": "stream",
     "text": [
      "1721204\n"
     ]
    },
    {
     "name": "stderr",
     "output_type": "stream",
     "text": [
      " 36%|███▌      | 34/94 [04:01<07:14,  7.25s/it]"
     ]
    },
    {
     "name": "stdout",
     "output_type": "stream",
     "text": [
      "1449252\n"
     ]
    },
    {
     "name": "stderr",
     "output_type": "stream",
     "text": [
      " 37%|███▋      | 35/94 [04:09<07:23,  7.51s/it]"
     ]
    },
    {
     "name": "stdout",
     "output_type": "stream",
     "text": [
      "1307056\n"
     ]
    },
    {
     "name": "stderr",
     "output_type": "stream",
     "text": [
      " 38%|███▊      | 36/94 [04:15<06:52,  7.11s/it]"
     ]
    },
    {
     "name": "stdout",
     "output_type": "stream",
     "text": [
      "1822854\n"
     ]
    },
    {
     "name": "stderr",
     "output_type": "stream",
     "text": [
      " 39%|███▉      | 37/94 [04:22<06:40,  7.02s/it]"
     ]
    },
    {
     "name": "stdout",
     "output_type": "stream",
     "text": [
      "1654108\n"
     ]
    },
    {
     "name": "stderr",
     "output_type": "stream",
     "text": [
      " 40%|████      | 38/94 [04:30<06:38,  7.11s/it]"
     ]
    },
    {
     "name": "stdout",
     "output_type": "stream",
     "text": [
      "1286385\n"
     ]
    },
    {
     "name": "stderr",
     "output_type": "stream",
     "text": [
      " 41%|████▏     | 39/94 [04:36<06:15,  6.83s/it]"
     ]
    },
    {
     "name": "stdout",
     "output_type": "stream",
     "text": [
      "1227807\n"
     ]
    },
    {
     "name": "stderr",
     "output_type": "stream",
     "text": [
      " 43%|████▎     | 40/94 [04:42<05:58,  6.65s/it]"
     ]
    },
    {
     "name": "stdout",
     "output_type": "stream",
     "text": [
      "1715222\n"
     ]
    },
    {
     "name": "stderr",
     "output_type": "stream",
     "text": [
      " 44%|████▎     | 41/94 [04:49<05:57,  6.75s/it]"
     ]
    },
    {
     "name": "stdout",
     "output_type": "stream",
     "text": [
      "1677872\n"
     ]
    },
    {
     "name": "stderr",
     "output_type": "stream",
     "text": [
      " 45%|████▍     | 42/94 [04:56<05:58,  6.90s/it]"
     ]
    },
    {
     "name": "stdout",
     "output_type": "stream",
     "text": [
      "1746978\n"
     ]
    },
    {
     "name": "stderr",
     "output_type": "stream",
     "text": [
      " 46%|████▌     | 43/94 [05:03<05:54,  6.94s/it]"
     ]
    },
    {
     "name": "stdout",
     "output_type": "stream",
     "text": [
      "1595959\n"
     ]
    },
    {
     "name": "stderr",
     "output_type": "stream",
     "text": [
      " 47%|████▋     | 44/94 [05:10<05:49,  7.00s/it]"
     ]
    },
    {
     "name": "stdout",
     "output_type": "stream",
     "text": [
      "3514405\n"
     ]
    },
    {
     "name": "stderr",
     "output_type": "stream",
     "text": [
      " 48%|████▊     | 45/94 [05:17<05:41,  6.96s/it]"
     ]
    },
    {
     "name": "stdout",
     "output_type": "stream",
     "text": [
      "3407070\n"
     ]
    },
    {
     "name": "stderr",
     "output_type": "stream",
     "text": [
      " 49%|████▉     | 46/94 [05:24<05:34,  6.97s/it]"
     ]
    },
    {
     "name": "stdout",
     "output_type": "stream",
     "text": [
      "1742468\n"
     ]
    },
    {
     "name": "stderr",
     "output_type": "stream",
     "text": [
      " 50%|█████     | 47/94 [05:31<05:29,  7.01s/it]"
     ]
    },
    {
     "name": "stdout",
     "output_type": "stream",
     "text": [
      "1564597\n"
     ]
    },
    {
     "name": "stderr",
     "output_type": "stream",
     "text": [
      " 51%|█████     | 48/94 [05:40<05:41,  7.42s/it]"
     ]
    },
    {
     "name": "stdout",
     "output_type": "stream",
     "text": [
      "3658550\n"
     ]
    },
    {
     "name": "stderr",
     "output_type": "stream",
     "text": [
      " 52%|█████▏    | 49/94 [05:46<05:24,  7.20s/it]"
     ]
    },
    {
     "name": "stdout",
     "output_type": "stream",
     "text": [
      "3393707\n"
     ]
    },
    {
     "name": "stderr",
     "output_type": "stream",
     "text": [
      " 53%|█████▎    | 50/94 [05:54<05:17,  7.23s/it]"
     ]
    },
    {
     "name": "stdout",
     "output_type": "stream",
     "text": [
      "1608230\n"
     ]
    },
    {
     "name": "stderr",
     "output_type": "stream",
     "text": [
      " 54%|█████▍    | 51/94 [06:01<05:09,  7.19s/it]"
     ]
    },
    {
     "name": "stdout",
     "output_type": "stream",
     "text": [
      "1557469\n"
     ]
    },
    {
     "name": "stderr",
     "output_type": "stream",
     "text": [
      " 55%|█████▌    | 52/94 [06:08<05:01,  7.18s/it]"
     ]
    },
    {
     "name": "stdout",
     "output_type": "stream",
     "text": [
      "3362561\n"
     ]
    },
    {
     "name": "stderr",
     "output_type": "stream",
     "text": [
      " 56%|█████▋    | 53/94 [06:15<04:55,  7.20s/it]"
     ]
    },
    {
     "name": "stdout",
     "output_type": "stream",
     "text": [
      "3280788\n"
     ]
    },
    {
     "name": "stderr",
     "output_type": "stream",
     "text": [
      " 57%|█████▋    | 54/94 [06:22<04:49,  7.25s/it]"
     ]
    },
    {
     "name": "stdout",
     "output_type": "stream",
     "text": [
      "1651999\n"
     ]
    },
    {
     "name": "stderr",
     "output_type": "stream",
     "text": [
      " 59%|█████▊    | 55/94 [06:30<04:45,  7.31s/it]"
     ]
    },
    {
     "name": "stdout",
     "output_type": "stream",
     "text": [
      "1459908\n"
     ]
    },
    {
     "name": "stderr",
     "output_type": "stream",
     "text": [
      " 60%|█████▉    | 56/94 [06:36<04:25,  6.99s/it]"
     ]
    },
    {
     "name": "stdout",
     "output_type": "stream",
     "text": [
      "2936720\n"
     ]
    },
    {
     "name": "stderr",
     "output_type": "stream",
     "text": [
      " 61%|██████    | 57/94 [06:43<04:15,  6.91s/it]"
     ]
    },
    {
     "name": "stdout",
     "output_type": "stream",
     "text": [
      "2805380\n"
     ]
    },
    {
     "name": "stderr",
     "output_type": "stream",
     "text": [
      " 62%|██████▏   | 58/94 [06:50<04:12,  7.00s/it]"
     ]
    },
    {
     "name": "stdout",
     "output_type": "stream",
     "text": [
      "1587497\n"
     ]
    },
    {
     "name": "stderr",
     "output_type": "stream",
     "text": [
      " 63%|██████▎   | 59/94 [06:59<04:19,  7.42s/it]"
     ]
    },
    {
     "name": "stdout",
     "output_type": "stream",
     "text": [
      "1436680\n"
     ]
    },
    {
     "name": "stderr",
     "output_type": "stream",
     "text": [
      " 64%|██████▍   | 60/94 [07:05<03:58,  7.03s/it]"
     ]
    },
    {
     "name": "stdout",
     "output_type": "stream",
     "text": [
      "3198474\n"
     ]
    },
    {
     "name": "stderr",
     "output_type": "stream",
     "text": [
      " 65%|██████▍   | 61/94 [07:11<03:48,  6.93s/it]"
     ]
    },
    {
     "name": "stdout",
     "output_type": "stream",
     "text": [
      "2986270\n"
     ]
    },
    {
     "name": "stderr",
     "output_type": "stream",
     "text": [
      " 66%|██████▌   | 62/94 [07:18<03:42,  6.95s/it]"
     ]
    },
    {
     "name": "stdout",
     "output_type": "stream",
     "text": [
      "1641436\n"
     ]
    },
    {
     "name": "stderr",
     "output_type": "stream",
     "text": [
      " 67%|██████▋   | 63/94 [07:27<03:50,  7.44s/it]"
     ]
    },
    {
     "name": "stdout",
     "output_type": "stream",
     "text": [
      "1424209\n"
     ]
    },
    {
     "name": "stderr",
     "output_type": "stream",
     "text": [
      " 68%|██████▊   | 64/94 [07:33<03:35,  7.17s/it]"
     ]
    },
    {
     "name": "stdout",
     "output_type": "stream",
     "text": [
      "3031424\n"
     ]
    },
    {
     "name": "stderr",
     "output_type": "stream",
     "text": [
      " 69%|██████▉   | 65/94 [07:40<03:21,  6.96s/it]"
     ]
    },
    {
     "name": "stdout",
     "output_type": "stream",
     "text": [
      "2873061\n"
     ]
    },
    {
     "name": "stderr",
     "output_type": "stream",
     "text": [
      " 70%|███████   | 66/94 [07:47<03:13,  6.90s/it]"
     ]
    },
    {
     "name": "stdout",
     "output_type": "stream",
     "text": [
      "1346281\n"
     ]
    },
    {
     "name": "stderr",
     "output_type": "stream",
     "text": [
      " 71%|███████▏  | 67/94 [07:55<03:16,  7.26s/it]"
     ]
    },
    {
     "name": "stdout",
     "output_type": "stream",
     "text": [
      "1221053\n"
     ]
    },
    {
     "name": "stderr",
     "output_type": "stream",
     "text": [
      " 72%|███████▏  | 68/94 [08:01<03:00,  6.94s/it]"
     ]
    },
    {
     "name": "stdout",
     "output_type": "stream",
     "text": [
      "2496710\n"
     ]
    },
    {
     "name": "stderr",
     "output_type": "stream",
     "text": [
      " 73%|███████▎  | 69/94 [08:07<02:47,  6.68s/it]"
     ]
    },
    {
     "name": "stdout",
     "output_type": "stream",
     "text": [
      "2202108\n"
     ]
    },
    {
     "name": "stderr",
     "output_type": "stream",
     "text": [
      " 74%|███████▍  | 70/94 [08:13<02:38,  6.60s/it]"
     ]
    },
    {
     "name": "stdout",
     "output_type": "stream",
     "text": [
      "1304337\n"
     ]
    },
    {
     "name": "stderr",
     "output_type": "stream",
     "text": [
      " 76%|███████▌  | 71/94 [08:21<02:40,  6.96s/it]"
     ]
    },
    {
     "name": "stdout",
     "output_type": "stream",
     "text": [
      "1203795\n"
     ]
    },
    {
     "name": "stderr",
     "output_type": "stream",
     "text": [
      " 77%|███████▋  | 72/94 [08:29<02:39,  7.26s/it]"
     ]
    },
    {
     "name": "stdout",
     "output_type": "stream",
     "text": [
      "2610131\n"
     ]
    },
    {
     "name": "stderr",
     "output_type": "stream",
     "text": [
      " 78%|███████▊  | 73/94 [08:35<02:23,  6.84s/it]"
     ]
    },
    {
     "name": "stdout",
     "output_type": "stream",
     "text": [
      "2252778\n"
     ]
    },
    {
     "name": "stderr",
     "output_type": "stream",
     "text": [
      " 79%|███████▊  | 74/94 [08:42<02:16,  6.80s/it]"
     ]
    },
    {
     "name": "stdout",
     "output_type": "stream",
     "text": [
      "1232110\n"
     ]
    },
    {
     "name": "stderr",
     "output_type": "stream",
     "text": [
      " 80%|███████▉  | 75/94 [08:49<02:12,  6.96s/it]"
     ]
    },
    {
     "name": "stdout",
     "output_type": "stream",
     "text": [
      "1160179\n"
     ]
    },
    {
     "name": "stderr",
     "output_type": "stream",
     "text": [
      " 81%|████████  | 76/94 [08:57<02:09,  7.17s/it]"
     ]
    },
    {
     "name": "stdout",
     "output_type": "stream",
     "text": [
      "2511877\n"
     ]
    },
    {
     "name": "stderr",
     "output_type": "stream",
     "text": [
      " 82%|████████▏ | 77/94 [09:03<01:57,  6.92s/it]"
     ]
    },
    {
     "name": "stdout",
     "output_type": "stream",
     "text": [
      "2313181\n"
     ]
    },
    {
     "name": "stderr",
     "output_type": "stream",
     "text": [
      " 83%|████████▎ | 78/94 [09:09<01:47,  6.74s/it]"
     ]
    },
    {
     "name": "stdout",
     "output_type": "stream",
     "text": [
      "1440569\n"
     ]
    },
    {
     "name": "stderr",
     "output_type": "stream",
     "text": [
      " 84%|████████▍ | 79/94 [09:16<01:41,  6.78s/it]"
     ]
    },
    {
     "name": "stdout",
     "output_type": "stream",
     "text": [
      "1367371\n"
     ]
    },
    {
     "name": "stderr",
     "output_type": "stream",
     "text": [
      " 85%|████████▌ | 80/94 [09:44<03:01, 12.97s/it]"
     ]
    },
    {
     "name": "stdout",
     "output_type": "stream",
     "text": [
      "1734822\n"
     ]
    },
    {
     "name": "stderr",
     "output_type": "stream",
     "text": [
      " 86%|████████▌ | 81/94 [09:51<02:27, 11.32s/it]"
     ]
    },
    {
     "name": "stdout",
     "output_type": "stream",
     "text": [
      "1563023\n"
     ]
    },
    {
     "name": "stderr",
     "output_type": "stream",
     "text": [
      " 87%|████████▋ | 82/94 [09:59<02:04, 10.33s/it]"
     ]
    },
    {
     "name": "stdout",
     "output_type": "stream",
     "text": [
      "2806539\n"
     ]
    },
    {
     "name": "stderr",
     "output_type": "stream",
     "text": [
      " 88%|████████▊ | 83/94 [10:05<01:38,  8.98s/it]"
     ]
    },
    {
     "name": "stdout",
     "output_type": "stream",
     "text": [
      "2730391\n"
     ]
    },
    {
     "name": "stderr",
     "output_type": "stream",
     "text": [
      " 89%|████████▉ | 84/94 [10:11<01:21,  8.16s/it]"
     ]
    },
    {
     "name": "stdout",
     "output_type": "stream",
     "text": [
      "1819067\n"
     ]
    },
    {
     "name": "stderr",
     "output_type": "stream",
     "text": [
      " 90%|█████████ | 85/94 [10:19<01:11,  7.93s/it]"
     ]
    },
    {
     "name": "stdout",
     "output_type": "stream",
     "text": [
      "1621048\n"
     ]
    },
    {
     "name": "stderr",
     "output_type": "stream",
     "text": [
      " 91%|█████████▏| 86/94 [10:27<01:03,  7.97s/it]"
     ]
    },
    {
     "name": "stdout",
     "output_type": "stream",
     "text": [
      "2909019\n"
     ]
    },
    {
     "name": "stderr",
     "output_type": "stream",
     "text": [
      " 93%|█████████▎| 87/94 [10:33<00:52,  7.46s/it]"
     ]
    },
    {
     "name": "stdout",
     "output_type": "stream",
     "text": [
      "2752492\n"
     ]
    },
    {
     "name": "stderr",
     "output_type": "stream",
     "text": [
      " 94%|█████████▎| 88/94 [10:39<00:42,  7.07s/it]"
     ]
    },
    {
     "name": "stdout",
     "output_type": "stream",
     "text": [
      "1722377\n"
     ]
    },
    {
     "name": "stderr",
     "output_type": "stream",
     "text": [
      " 95%|█████████▍| 89/94 [10:47<00:35,  7.15s/it]"
     ]
    },
    {
     "name": "stdout",
     "output_type": "stream",
     "text": [
      "1602465\n"
     ]
    },
    {
     "name": "stderr",
     "output_type": "stream",
     "text": [
      " 96%|█████████▌| 90/94 [10:54<00:29,  7.34s/it]"
     ]
    },
    {
     "name": "stdout",
     "output_type": "stream",
     "text": [
      "2858661\n"
     ]
    },
    {
     "name": "stderr",
     "output_type": "stream",
     "text": [
      " 97%|█████████▋| 91/94 [11:01<00:21,  7.00s/it]"
     ]
    },
    {
     "name": "stdout",
     "output_type": "stream",
     "text": [
      "2779357\n"
     ]
    },
    {
     "name": "stderr",
     "output_type": "stream",
     "text": [
      " 98%|█████████▊| 92/94 [11:07<00:13,  6.89s/it]"
     ]
    },
    {
     "name": "stdout",
     "output_type": "stream",
     "text": [
      "2082492\n"
     ]
    },
    {
     "name": "stderr",
     "output_type": "stream",
     "text": [
      " 99%|█████████▉| 93/94 [11:13<00:06,  6.69s/it]"
     ]
    },
    {
     "name": "stdout",
     "output_type": "stream",
     "text": [
      "1993329\n"
     ]
    },
    {
     "name": "stderr",
     "output_type": "stream",
     "text": [
      "100%|██████████| 94/94 [11:20<00:00,  7.24s/it]\n"
     ]
    }
   ],
   "source": [
    "min_prob = 0.75\n",
    "max_var = 0.1\n",
    "for file in tqdm(files):\n",
    "    seg_0001 = io.imread(file)\n",
    "    #print(file)\n",
    "    seg = seg_0001.astype('int8')\n",
    "    print(np.sum(seg))\n",
    "    #seg = io.imread(re.sub('_0001','',file))\n",
    "    #print(re.sub('_0001','',file))\n",
    "    #seg = seg.astype('int8')\n",
    "    #print(np.sum(seg))\n",
    "    #seg = seg * seg_0001\n",
    "    #seg = (seg==1)*1\n",
    "    #print(np.sum(seg))\n",
    "    #seg = seg.astype('int8')\n",
    "    seg = fill_holes(seg)\n",
    "    #np.save(re.sub('mean','seg',file),seg)\n",
    "    #savemat(re.sub('_seg_warped.tif','_seg_warped_single.mat',file),{'FinalImage':fill_holes(binary_dilation(binary_dilation(seg)))})\n",
    "    \n",
    "    tif.imwrite(re.sub('_seg_warped.tif','_seg_warped_filled.tif',file),seg)\n",
    "    #print(re.sub('_seg_warped.tif','_seg_warped_single.mat',file))"
   ]
  },
  {
   "cell_type": "code",
   "execution_count": 5,
   "id": "3758ec68",
   "metadata": {},
   "outputs": [],
   "source": [
    "directory = Path('james_preds')\n",
    "files  = directory.glob('*_0001_seg_warped.tif')\n",
    "files = sorted([x.as_posix() for x in files])"
   ]
  },
  {
   "cell_type": "code",
   "execution_count": 35,
   "id": "0ae6c150",
   "metadata": {},
   "outputs": [
    {
     "data": {
      "text/plain": [
       "'james_preds/XYZres006_0001_seg_warped.tif'"
      ]
     },
     "execution_count": 35,
     "metadata": {},
     "output_type": "execute_result"
    }
   ],
   "source": [
    "files[0]"
   ]
  },
  {
   "cell_type": "code",
   "execution_count": 37,
   "id": "8227a64d-01af-438e-95fc-e21d4bb82b00",
   "metadata": {},
   "outputs": [
    {
     "data": {
      "text/plain": [
       "'james_preds/XYZres006_0001_seg_warped_single_SSKKEELL.mat'"
      ]
     },
     "execution_count": 37,
     "metadata": {},
     "output_type": "execute_result"
    }
   ],
   "source": [
    "re.sub('_seg_warped.tif','_seg_warped_single_SSKKEELL.mat',file)"
   ]
  },
  {
   "cell_type": "code",
   "execution_count": 8,
   "id": "3b2ebbf3",
   "metadata": {},
   "outputs": [
    {
     "name": "stderr",
     "output_type": "stream",
     "text": [
      "  2%|▏         | 1/47 [00:13<10:09, 13.25s/it]"
     ]
    },
    {
     "name": "stdout",
     "output_type": "stream",
     "text": [
      "james_preds/XYZres006_0001_seg_warped_single.mat\n"
     ]
    },
    {
     "name": "stderr",
     "output_type": "stream",
     "text": [
      "  4%|▍         | 2/47 [00:28<10:36, 14.14s/it]"
     ]
    },
    {
     "name": "stdout",
     "output_type": "stream",
     "text": [
      "james_preds/XYZres007_0001_seg_warped_single.mat\n"
     ]
    },
    {
     "name": "stderr",
     "output_type": "stream",
     "text": [
      "  6%|▋         | 3/47 [00:43<10:58, 14.96s/it]"
     ]
    },
    {
     "name": "stdout",
     "output_type": "stream",
     "text": [
      "james_preds/XYZres008_0001_seg_warped_single.mat\n"
     ]
    },
    {
     "name": "stderr",
     "output_type": "stream",
     "text": [
      "  9%|▊         | 4/47 [00:56<10:09, 14.19s/it]"
     ]
    },
    {
     "name": "stdout",
     "output_type": "stream",
     "text": [
      "james_preds/XYZres009_0001_seg_warped_single.mat\n"
     ]
    },
    {
     "name": "stderr",
     "output_type": "stream",
     "text": [
      " 11%|█         | 5/47 [01:12<10:13, 14.62s/it]"
     ]
    },
    {
     "name": "stdout",
     "output_type": "stream",
     "text": [
      "james_preds/XYZres010_0001_seg_warped_single.mat\n"
     ]
    },
    {
     "name": "stderr",
     "output_type": "stream",
     "text": [
      " 13%|█▎        | 6/47 [01:25<09:37, 14.10s/it]"
     ]
    },
    {
     "name": "stdout",
     "output_type": "stream",
     "text": [
      "james_preds/XYZres011_0001_seg_warped_single.mat\n"
     ]
    },
    {
     "name": "stderr",
     "output_type": "stream",
     "text": [
      " 15%|█▍        | 7/47 [01:40<09:37, 14.45s/it]"
     ]
    },
    {
     "name": "stdout",
     "output_type": "stream",
     "text": [
      "james_preds/XYZres012_0001_seg_warped_single.mat\n"
     ]
    },
    {
     "name": "stderr",
     "output_type": "stream",
     "text": [
      " 17%|█▋        | 8/47 [01:53<09:05, 14.00s/it]"
     ]
    },
    {
     "name": "stdout",
     "output_type": "stream",
     "text": [
      "james_preds/XYZres013_0001_seg_warped_single.mat\n"
     ]
    },
    {
     "name": "stderr",
     "output_type": "stream",
     "text": [
      " 19%|█▉        | 9/47 [02:08<09:05, 14.36s/it]"
     ]
    },
    {
     "name": "stdout",
     "output_type": "stream",
     "text": [
      "james_preds/XYZres014_0001_seg_warped_single.mat\n"
     ]
    },
    {
     "name": "stderr",
     "output_type": "stream",
     "text": [
      " 21%|██▏       | 10/47 [02:22<08:42, 14.13s/it]"
     ]
    },
    {
     "name": "stdout",
     "output_type": "stream",
     "text": [
      "james_preds/XYZres015_0001_seg_warped_single.mat\n"
     ]
    },
    {
     "name": "stderr",
     "output_type": "stream",
     "text": [
      " 23%|██▎       | 11/47 [02:36<08:29, 14.15s/it]"
     ]
    },
    {
     "name": "stdout",
     "output_type": "stream",
     "text": [
      "james_preds/XYZres016_0001_seg_warped_single.mat\n"
     ]
    },
    {
     "name": "stderr",
     "output_type": "stream",
     "text": [
      " 26%|██▌       | 12/47 [02:52<08:31, 14.61s/it]"
     ]
    },
    {
     "name": "stdout",
     "output_type": "stream",
     "text": [
      "james_preds/XYZres017_0001_seg_warped_single.mat\n"
     ]
    },
    {
     "name": "stderr",
     "output_type": "stream",
     "text": [
      " 28%|██▊       | 13/47 [03:07<08:18, 14.66s/it]"
     ]
    },
    {
     "name": "stdout",
     "output_type": "stream",
     "text": [
      "james_preds/XYZres018_0001_seg_warped_single.mat\n"
     ]
    },
    {
     "name": "stderr",
     "output_type": "stream",
     "text": [
      " 30%|██▉       | 14/47 [03:20<07:55, 14.41s/it]"
     ]
    },
    {
     "name": "stdout",
     "output_type": "stream",
     "text": [
      "james_preds/XYZres019_0001_seg_warped_single.mat\n"
     ]
    },
    {
     "name": "stderr",
     "output_type": "stream",
     "text": [
      " 32%|███▏      | 15/47 [03:35<07:44, 14.53s/it]"
     ]
    },
    {
     "name": "stdout",
     "output_type": "stream",
     "text": [
      "james_preds/XYZres020_0001_seg_warped_single.mat\n"
     ]
    },
    {
     "name": "stderr",
     "output_type": "stream",
     "text": [
      " 34%|███▍      | 16/47 [03:51<07:37, 14.77s/it]"
     ]
    },
    {
     "name": "stdout",
     "output_type": "stream",
     "text": [
      "james_preds/XYZres021_0001_seg_warped_single.mat\n"
     ]
    },
    {
     "name": "stderr",
     "output_type": "stream",
     "text": [
      " 36%|███▌      | 17/47 [04:05<07:20, 14.69s/it]"
     ]
    },
    {
     "name": "stdout",
     "output_type": "stream",
     "text": [
      "james_preds/XYZres022_0001_seg_warped_single.mat\n"
     ]
    },
    {
     "name": "stderr",
     "output_type": "stream",
     "text": [
      " 38%|███▊      | 18/47 [04:18<06:54, 14.29s/it]"
     ]
    },
    {
     "name": "stdout",
     "output_type": "stream",
     "text": [
      "james_preds/XYZres023_0001_seg_warped_single.mat\n"
     ]
    },
    {
     "name": "stderr",
     "output_type": "stream",
     "text": [
      " 40%|████      | 19/47 [04:33<06:41, 14.33s/it]"
     ]
    },
    {
     "name": "stdout",
     "output_type": "stream",
     "text": [
      "james_preds/XYZres024_0001_seg_warped_single.mat\n"
     ]
    },
    {
     "name": "stderr",
     "output_type": "stream",
     "text": [
      " 43%|████▎     | 20/47 [04:48<06:36, 14.67s/it]"
     ]
    },
    {
     "name": "stdout",
     "output_type": "stream",
     "text": [
      "james_preds/XYZres025_0001_seg_warped_single.mat\n"
     ]
    },
    {
     "name": "stderr",
     "output_type": "stream",
     "text": [
      " 45%|████▍     | 21/47 [05:02<06:17, 14.52s/it]"
     ]
    },
    {
     "name": "stdout",
     "output_type": "stream",
     "text": [
      "james_preds/XYZres026_0001_seg_warped_single.mat\n"
     ]
    },
    {
     "name": "stderr",
     "output_type": "stream",
     "text": [
      " 47%|████▋     | 22/47 [05:17<05:59, 14.39s/it]"
     ]
    },
    {
     "name": "stdout",
     "output_type": "stream",
     "text": [
      "james_preds/XYZres027_0001_seg_warped_single.mat\n"
     ]
    },
    {
     "name": "stderr",
     "output_type": "stream",
     "text": [
      " 49%|████▉     | 23/47 [05:32<05:53, 14.71s/it]"
     ]
    },
    {
     "name": "stdout",
     "output_type": "stream",
     "text": [
      "james_preds/XYZres028_0001_seg_warped_single.mat\n"
     ]
    },
    {
     "name": "stderr",
     "output_type": "stream",
     "text": [
      " 51%|█████     | 24/47 [05:46<05:33, 14.49s/it]"
     ]
    },
    {
     "name": "stdout",
     "output_type": "stream",
     "text": [
      "james_preds/XYZres029_0001_seg_warped_single.mat\n"
     ]
    },
    {
     "name": "stderr",
     "output_type": "stream",
     "text": [
      " 53%|█████▎    | 25/47 [06:02<05:31, 15.05s/it]"
     ]
    },
    {
     "name": "stdout",
     "output_type": "stream",
     "text": [
      "james_preds/XYZres030_0001_seg_warped_single.mat\n"
     ]
    },
    {
     "name": "stderr",
     "output_type": "stream",
     "text": [
      " 55%|█████▌    | 26/47 [06:16<05:08, 14.70s/it]"
     ]
    },
    {
     "name": "stdout",
     "output_type": "stream",
     "text": [
      "james_preds/XYZres031_0001_seg_warped_single.mat\n"
     ]
    },
    {
     "name": "stderr",
     "output_type": "stream",
     "text": [
      " 57%|█████▋    | 27/47 [06:31<04:52, 14.62s/it]"
     ]
    },
    {
     "name": "stdout",
     "output_type": "stream",
     "text": [
      "james_preds/XYZres032_0001_seg_warped_single.mat\n"
     ]
    },
    {
     "name": "stderr",
     "output_type": "stream",
     "text": [
      " 60%|█████▉    | 28/47 [06:46<04:42, 14.86s/it]"
     ]
    },
    {
     "name": "stdout",
     "output_type": "stream",
     "text": [
      "james_preds/XYZres033_0001_seg_warped_single.mat\n"
     ]
    },
    {
     "name": "stderr",
     "output_type": "stream",
     "text": [
      " 62%|██████▏   | 29/47 [07:01<04:30, 15.00s/it]"
     ]
    },
    {
     "name": "stdout",
     "output_type": "stream",
     "text": [
      "james_preds/XYZres034_0001_seg_warped_single.mat\n"
     ]
    },
    {
     "name": "stderr",
     "output_type": "stream",
     "text": [
      " 64%|██████▍   | 30/47 [07:17<04:16, 15.09s/it]"
     ]
    },
    {
     "name": "stdout",
     "output_type": "stream",
     "text": [
      "james_preds/XYZres035_0001_seg_warped_single.mat\n"
     ]
    },
    {
     "name": "stderr",
     "output_type": "stream",
     "text": [
      " 66%|██████▌   | 31/47 [07:32<04:01, 15.09s/it]"
     ]
    },
    {
     "name": "stdout",
     "output_type": "stream",
     "text": [
      "james_preds/XYZres036_0001_seg_warped_single.mat\n"
     ]
    },
    {
     "name": "stderr",
     "output_type": "stream",
     "text": [
      " 68%|██████▊   | 32/47 [07:47<03:47, 15.20s/it]"
     ]
    },
    {
     "name": "stdout",
     "output_type": "stream",
     "text": [
      "james_preds/XYZres037_0001_seg_warped_single.mat\n"
     ]
    },
    {
     "name": "stderr",
     "output_type": "stream",
     "text": [
      " 70%|███████   | 33/47 [08:02<03:30, 15.02s/it]"
     ]
    },
    {
     "name": "stdout",
     "output_type": "stream",
     "text": [
      "james_preds/XYZres038_0001_seg_warped_single.mat\n"
     ]
    },
    {
     "name": "stderr",
     "output_type": "stream",
     "text": [
      " 72%|███████▏  | 34/47 [08:17<03:15, 15.05s/it]"
     ]
    },
    {
     "name": "stdout",
     "output_type": "stream",
     "text": [
      "james_preds/XYZres039_0001_seg_warped_single.mat\n"
     ]
    },
    {
     "name": "stderr",
     "output_type": "stream",
     "text": [
      " 74%|███████▍  | 35/47 [08:31<02:57, 14.79s/it]"
     ]
    },
    {
     "name": "stdout",
     "output_type": "stream",
     "text": [
      "james_preds/XYZres040_0001_seg_warped_single.mat\n"
     ]
    },
    {
     "name": "stderr",
     "output_type": "stream",
     "text": [
      " 77%|███████▋  | 36/47 [08:46<02:42, 14.77s/it]"
     ]
    },
    {
     "name": "stdout",
     "output_type": "stream",
     "text": [
      "james_preds/XYZres041_0001_seg_warped_single.mat\n"
     ]
    },
    {
     "name": "stderr",
     "output_type": "stream",
     "text": [
      " 79%|███████▊  | 37/47 [09:00<02:25, 14.58s/it]"
     ]
    },
    {
     "name": "stdout",
     "output_type": "stream",
     "text": [
      "james_preds/XYZres042_0001_seg_warped_single.mat\n"
     ]
    },
    {
     "name": "stderr",
     "output_type": "stream",
     "text": [
      " 81%|████████  | 38/47 [09:14<02:10, 14.55s/it]"
     ]
    },
    {
     "name": "stdout",
     "output_type": "stream",
     "text": [
      "james_preds/XYZres043_0001_seg_warped_single.mat\n"
     ]
    },
    {
     "name": "stderr",
     "output_type": "stream",
     "text": [
      " 83%|████████▎ | 39/47 [09:29<01:55, 14.46s/it]"
     ]
    },
    {
     "name": "stdout",
     "output_type": "stream",
     "text": [
      "james_preds/XYZres044_0001_seg_warped_single.mat\n"
     ]
    },
    {
     "name": "stderr",
     "output_type": "stream",
     "text": [
      " 85%|████████▌ | 40/47 [09:43<01:41, 14.50s/it]"
     ]
    },
    {
     "name": "stdout",
     "output_type": "stream",
     "text": [
      "james_preds/XYZres045_0001_seg_warped_single.mat\n"
     ]
    },
    {
     "name": "stderr",
     "output_type": "stream",
     "text": [
      " 87%|████████▋ | 41/47 [09:58<01:27, 14.65s/it]"
     ]
    },
    {
     "name": "stdout",
     "output_type": "stream",
     "text": [
      "james_preds/XYZres046_0001_seg_warped_single.mat\n"
     ]
    },
    {
     "name": "stderr",
     "output_type": "stream",
     "text": [
      " 89%|████████▉ | 42/47 [10:12<01:12, 14.48s/it]"
     ]
    },
    {
     "name": "stdout",
     "output_type": "stream",
     "text": [
      "james_preds/XYZres047_0001_seg_warped_single.mat\n"
     ]
    },
    {
     "name": "stderr",
     "output_type": "stream",
     "text": [
      " 91%|█████████▏| 43/47 [10:28<00:58, 14.69s/it]"
     ]
    },
    {
     "name": "stdout",
     "output_type": "stream",
     "text": [
      "james_preds/XYZres048_0001_seg_warped_single.mat\n"
     ]
    },
    {
     "name": "stderr",
     "output_type": "stream",
     "text": [
      " 94%|█████████▎| 44/47 [10:41<00:43, 14.46s/it]"
     ]
    },
    {
     "name": "stdout",
     "output_type": "stream",
     "text": [
      "james_preds/XYZres049_0001_seg_warped_single.mat\n"
     ]
    },
    {
     "name": "stderr",
     "output_type": "stream",
     "text": [
      " 96%|█████████▌| 45/47 [10:56<00:29, 14.57s/it]"
     ]
    },
    {
     "name": "stdout",
     "output_type": "stream",
     "text": [
      "james_preds/XYZres050_0001_seg_warped_single.mat\n"
     ]
    },
    {
     "name": "stderr",
     "output_type": "stream",
     "text": [
      " 98%|█████████▊| 46/47 [11:11<00:14, 14.49s/it]"
     ]
    },
    {
     "name": "stdout",
     "output_type": "stream",
     "text": [
      "james_preds/XYZres051_0001_seg_warped_single.mat\n"
     ]
    },
    {
     "name": "stderr",
     "output_type": "stream",
     "text": [
      "100%|██████████| 47/47 [11:24<00:00, 14.57s/it]"
     ]
    },
    {
     "name": "stdout",
     "output_type": "stream",
     "text": [
      "james_preds/XYZres052_0001_seg_warped_single.mat\n"
     ]
    },
    {
     "name": "stderr",
     "output_type": "stream",
     "text": [
      "\n"
     ]
    }
   ],
   "source": [
    "min_prob = 0.75\n",
    "max_var = 0.1\n",
    "for file in tqdm(files):\n",
    "    #break\n",
    "    seg_0001 = io.imread(file)\n",
    "    #print(file)\n",
    "    seg_0001 = seg_0001.astype('int8')\n",
    "    #print(np.sum(seg_0001))\n",
    "    seg = io.imread(re.sub('_0001','',file))\n",
    "    #print(re.sub('_0001','',file))\n",
    "    seg = seg.astype('int8')\n",
    "    #print(np.sum(seg))\n",
    "    seg = seg * seg_0001\n",
    "    seg = (seg==1)*1\n",
    "    #print(np.sum(seg))\n",
    "    seg = seg.astype('int8')\n",
    "    seg = fill_holes(seg)\n",
    "    #np.save(re.sub('mean','seg',file),seg)\n",
    "    savemat(re.sub('_seg_warped.tif','_seg_warped_single.mat',file),{'FinalImage':fill_holes(binary_dilation(seg))})\n",
    "    print(re.sub('_seg_warped.tif','_seg_warped_single.mat',file))\n",
    "    #tif.imwrite(re.sub('_seg_warped.tif','_seg_warped_filled_single.tif',file),seg)\n",
    "    #print(re.sub('_seg_warped.tif','_seg_warped_single.mat',file))"
   ]
  },
  {
   "cell_type": "code",
   "execution_count": 13,
   "id": "9236eb81",
   "metadata": {},
   "outputs": [
    {
     "data": {
      "text/plain": [
       "94"
      ]
     },
     "execution_count": 13,
     "metadata": {},
     "output_type": "execute_result"
    }
   ],
   "source": [
    "files_seg_0001 = directory.glob('*_seg_warped_filled.tif')\n",
    "files_seg_0001 = sorted([x.as_posix() for x in files_seg_0001])\n",
    "len(files_seg_0001)"
   ]
  },
  {
   "cell_type": "code",
   "execution_count": null,
   "id": "e3474feb",
   "metadata": {},
   "outputs": [],
   "source": []
  },
  {
   "cell_type": "code",
   "execution_count": 14,
   "id": "9832374d",
   "metadata": {},
   "outputs": [
    {
     "name": "stderr",
     "output_type": "stream",
     "text": [
      "  0%|          | 0/92 [00:00<?, ?it/s]"
     ]
    },
    {
     "name": "stdout",
     "output_type": "stream",
     "text": [
      "james_preds/XYZres007_0001_seg_warped_filled.tif\n",
      "james_preds/XYZres007_skel_warped_single.mat\n"
     ]
    },
    {
     "name": "stderr",
     "output_type": "stream",
     "text": [
      "  1%|          | 1/92 [00:22<34:07, 22.50s/it]"
     ]
    },
    {
     "name": "stdout",
     "output_type": "stream",
     "text": [
      "james_preds/XYZres007_0001_warped_single.pickle\n",
      "james_preds/XYZres007_seg_warped_filled.tif\n",
      "james_preds/XYZres007_skel_warped_single.mat\n"
     ]
    },
    {
     "name": "stderr",
     "output_type": "stream",
     "text": [
      "  2%|▏         | 2/92 [00:33<23:27, 15.64s/it]"
     ]
    },
    {
     "name": "stdout",
     "output_type": "stream",
     "text": [
      "james_preds/XYZres007_warped_single.pickle\n",
      "james_preds/XYZres008_0001_seg_warped_filled.tif\n",
      "james_preds/XYZres008_skel_warped_single.mat\n"
     ]
    },
    {
     "name": "stderr",
     "output_type": "stream",
     "text": [
      "  3%|▎         | 3/92 [00:44<19:56, 13.44s/it]"
     ]
    },
    {
     "name": "stdout",
     "output_type": "stream",
     "text": [
      "james_preds/XYZres008_0001_warped_single.pickle\n",
      "james_preds/XYZres008_seg_warped_filled.tif\n",
      "james_preds/XYZres008_skel_warped_single.mat\n"
     ]
    },
    {
     "name": "stderr",
     "output_type": "stream",
     "text": [
      "  4%|▍         | 4/92 [00:54<18:09, 12.38s/it]"
     ]
    },
    {
     "name": "stdout",
     "output_type": "stream",
     "text": [
      "james_preds/XYZres008_warped_single.pickle\n",
      "james_preds/XYZres009_0001_seg_warped_filled.tif\n",
      "james_preds/XYZres009_skel_warped_single.mat\n"
     ]
    },
    {
     "name": "stderr",
     "output_type": "stream",
     "text": [
      "  5%|▌         | 5/92 [01:05<17:06, 11.80s/it]"
     ]
    },
    {
     "name": "stdout",
     "output_type": "stream",
     "text": [
      "james_preds/XYZres009_0001_warped_single.pickle\n",
      "james_preds/XYZres009_seg_warped_filled.tif\n",
      "james_preds/XYZres009_skel_warped_single.mat\n"
     ]
    },
    {
     "name": "stderr",
     "output_type": "stream",
     "text": [
      "  7%|▋         | 6/92 [01:16<16:27, 11.48s/it]"
     ]
    },
    {
     "name": "stdout",
     "output_type": "stream",
     "text": [
      "james_preds/XYZres009_warped_single.pickle\n",
      "james_preds/XYZres010_0001_seg_warped_filled.tif\n",
      "james_preds/XYZres010_skel_warped_single.mat\n"
     ]
    },
    {
     "name": "stderr",
     "output_type": "stream",
     "text": [
      "  8%|▊         | 7/92 [01:27<15:56, 11.25s/it]"
     ]
    },
    {
     "name": "stdout",
     "output_type": "stream",
     "text": [
      "james_preds/XYZres010_0001_warped_single.pickle\n",
      "james_preds/XYZres010_seg_warped_filled.tif\n",
      "james_preds/XYZres010_skel_warped_single.mat\n"
     ]
    },
    {
     "name": "stderr",
     "output_type": "stream",
     "text": [
      "  9%|▊         | 8/92 [01:38<15:31, 11.09s/it]"
     ]
    },
    {
     "name": "stdout",
     "output_type": "stream",
     "text": [
      "james_preds/XYZres010_warped_single.pickle\n",
      "james_preds/XYZres011_0001_seg_warped_filled.tif\n",
      "james_preds/XYZres011_skel_warped_single.mat\n"
     ]
    },
    {
     "name": "stderr",
     "output_type": "stream",
     "text": [
      " 10%|▉         | 9/92 [01:52<16:39, 12.04s/it]"
     ]
    },
    {
     "name": "stdout",
     "output_type": "stream",
     "text": [
      "james_preds/XYZres011_0001_warped_single.pickle\n",
      "james_preds/XYZres011_seg_warped_filled.tif\n",
      "james_preds/XYZres011_skel_warped_single.mat\n"
     ]
    },
    {
     "name": "stderr",
     "output_type": "stream",
     "text": [
      " 11%|█         | 10/92 [02:02<15:54, 11.64s/it]"
     ]
    },
    {
     "name": "stdout",
     "output_type": "stream",
     "text": [
      "james_preds/XYZres011_warped_single.pickle\n",
      "james_preds/XYZres012_0001_seg_warped_filled.tif\n",
      "james_preds/XYZres012_skel_warped_single.mat\n"
     ]
    },
    {
     "name": "stderr",
     "output_type": "stream",
     "text": [
      " 12%|█▏        | 11/92 [02:16<16:25, 12.17s/it]"
     ]
    },
    {
     "name": "stdout",
     "output_type": "stream",
     "text": [
      "james_preds/XYZres012_0001_warped_single.pickle\n",
      "james_preds/XYZres012_seg_warped_filled.tif\n",
      "james_preds/XYZres012_skel_warped_single.mat\n"
     ]
    },
    {
     "name": "stderr",
     "output_type": "stream",
     "text": [
      " 13%|█▎        | 12/92 [02:27<15:43, 11.80s/it]"
     ]
    },
    {
     "name": "stdout",
     "output_type": "stream",
     "text": [
      "james_preds/XYZres012_warped_single.pickle\n",
      "james_preds/XYZres013_0001_seg_warped_filled.tif\n",
      "james_preds/XYZres013_skel_warped_single.mat\n"
     ]
    },
    {
     "name": "stderr",
     "output_type": "stream",
     "text": [
      " 14%|█▍        | 13/92 [02:40<16:11, 12.30s/it]"
     ]
    },
    {
     "name": "stdout",
     "output_type": "stream",
     "text": [
      "james_preds/XYZres013_0001_warped_single.pickle\n",
      "james_preds/XYZres013_seg_warped_filled.tif\n",
      "james_preds/XYZres013_skel_warped_single.mat\n"
     ]
    },
    {
     "name": "stderr",
     "output_type": "stream",
     "text": [
      " 15%|█▌        | 14/92 [02:54<16:31, 12.71s/it]"
     ]
    },
    {
     "name": "stdout",
     "output_type": "stream",
     "text": [
      "james_preds/XYZres013_warped_single.pickle\n",
      "james_preds/XYZres014_0001_seg_warped_filled.tif\n",
      "james_preds/XYZres014_skel_warped_single.mat\n"
     ]
    },
    {
     "name": "stderr",
     "output_type": "stream",
     "text": [
      " 16%|█▋        | 15/92 [03:05<15:35, 12.15s/it]"
     ]
    },
    {
     "name": "stdout",
     "output_type": "stream",
     "text": [
      "james_preds/XYZres014_0001_warped_single.pickle\n",
      "james_preds/XYZres014_seg_warped_filled.tif\n",
      "james_preds/XYZres014_skel_warped_single.mat\n"
     ]
    },
    {
     "name": "stderr",
     "output_type": "stream",
     "text": [
      " 17%|█▋        | 16/92 [03:16<14:53, 11.76s/it]"
     ]
    },
    {
     "name": "stdout",
     "output_type": "stream",
     "text": [
      "james_preds/XYZres014_warped_single.pickle\n",
      "james_preds/XYZres015_0001_seg_warped_filled.tif\n",
      "james_preds/XYZres015_skel_warped_single.mat\n"
     ]
    },
    {
     "name": "stderr",
     "output_type": "stream",
     "text": [
      " 18%|█▊        | 17/92 [03:26<14:21, 11.48s/it]"
     ]
    },
    {
     "name": "stdout",
     "output_type": "stream",
     "text": [
      "james_preds/XYZres015_0001_warped_single.pickle\n",
      "james_preds/XYZres015_seg_warped_filled.tif\n",
      "james_preds/XYZres015_skel_warped_single.mat\n"
     ]
    },
    {
     "name": "stderr",
     "output_type": "stream",
     "text": [
      " 20%|█▉        | 18/92 [03:40<15:02, 12.20s/it]"
     ]
    },
    {
     "name": "stdout",
     "output_type": "stream",
     "text": [
      "james_preds/XYZres015_warped_single.pickle\n",
      "james_preds/XYZres016_0001_seg_warped_filled.tif\n",
      "james_preds/XYZres016_skel_warped_single.mat\n"
     ]
    },
    {
     "name": "stderr",
     "output_type": "stream",
     "text": [
      " 21%|██        | 19/92 [03:51<14:19, 11.78s/it]"
     ]
    },
    {
     "name": "stdout",
     "output_type": "stream",
     "text": [
      "james_preds/XYZres016_0001_warped_single.pickle\n",
      "james_preds/XYZres016_seg_warped_filled.tif\n",
      "james_preds/XYZres016_skel_warped_single.mat\n"
     ]
    },
    {
     "name": "stderr",
     "output_type": "stream",
     "text": [
      " 22%|██▏       | 20/92 [04:02<13:48, 11.51s/it]"
     ]
    },
    {
     "name": "stdout",
     "output_type": "stream",
     "text": [
      "james_preds/XYZres016_warped_single.pickle\n",
      "james_preds/XYZres017_0001_seg_warped_filled.tif\n",
      "james_preds/XYZres017_skel_warped_single.mat\n"
     ]
    },
    {
     "name": "stderr",
     "output_type": "stream",
     "text": [
      " 23%|██▎       | 21/92 [04:13<13:19, 11.27s/it]"
     ]
    },
    {
     "name": "stdout",
     "output_type": "stream",
     "text": [
      "james_preds/XYZres017_0001_warped_single.pickle\n",
      "james_preds/XYZres017_seg_warped_filled.tif\n",
      "james_preds/XYZres017_skel_warped_single.mat\n"
     ]
    },
    {
     "name": "stderr",
     "output_type": "stream",
     "text": [
      " 24%|██▍       | 22/92 [04:23<12:56, 11.10s/it]"
     ]
    },
    {
     "name": "stdout",
     "output_type": "stream",
     "text": [
      "james_preds/XYZres017_warped_single.pickle\n",
      "james_preds/XYZres018_0001_seg_warped_filled.tif\n",
      "james_preds/XYZres018_skel_warped_single.mat\n"
     ]
    },
    {
     "name": "stderr",
     "output_type": "stream",
     "text": [
      " 25%|██▌       | 23/92 [04:34<12:39, 11.01s/it]"
     ]
    },
    {
     "name": "stdout",
     "output_type": "stream",
     "text": [
      "james_preds/XYZres018_0001_warped_single.pickle\n",
      "james_preds/XYZres018_seg_warped_filled.tif\n",
      "james_preds/XYZres018_skel_warped_single.mat\n"
     ]
    },
    {
     "name": "stderr",
     "output_type": "stream",
     "text": [
      " 26%|██▌       | 24/92 [04:48<13:18, 11.74s/it]"
     ]
    },
    {
     "name": "stdout",
     "output_type": "stream",
     "text": [
      "james_preds/XYZres018_warped_single.pickle\n",
      "james_preds/XYZres019_0001_seg_warped_filled.tif\n",
      "james_preds/XYZres019_skel_warped_single.mat\n"
     ]
    },
    {
     "name": "stderr",
     "output_type": "stream",
     "text": [
      " 27%|██▋       | 25/92 [04:58<12:48, 11.47s/it]"
     ]
    },
    {
     "name": "stdout",
     "output_type": "stream",
     "text": [
      "james_preds/XYZres019_0001_warped_single.pickle\n",
      "james_preds/XYZres019_seg_warped_filled.tif\n",
      "james_preds/XYZres019_skel_warped_single.mat\n"
     ]
    },
    {
     "name": "stderr",
     "output_type": "stream",
     "text": [
      " 28%|██▊       | 26/92 [05:09<12:22, 11.25s/it]"
     ]
    },
    {
     "name": "stdout",
     "output_type": "stream",
     "text": [
      "james_preds/XYZres019_warped_single.pickle\n",
      "james_preds/XYZres020_0001_seg_warped_filled.tif\n",
      "james_preds/XYZres020_skel_warped_single.mat\n"
     ]
    },
    {
     "name": "stderr",
     "output_type": "stream",
     "text": [
      " 29%|██▉       | 27/92 [05:20<12:03, 11.13s/it]"
     ]
    },
    {
     "name": "stdout",
     "output_type": "stream",
     "text": [
      "james_preds/XYZres020_0001_warped_single.pickle\n",
      "james_preds/XYZres020_seg_warped_filled.tif\n",
      "james_preds/XYZres020_skel_warped_single.mat\n"
     ]
    },
    {
     "name": "stderr",
     "output_type": "stream",
     "text": [
      " 30%|███       | 28/92 [05:34<12:40, 11.88s/it]"
     ]
    },
    {
     "name": "stdout",
     "output_type": "stream",
     "text": [
      "james_preds/XYZres020_warped_single.pickle\n",
      "james_preds/XYZres021_0001_seg_warped_filled.tif\n",
      "james_preds/XYZres021_skel_warped_single.mat\n"
     ]
    },
    {
     "name": "stderr",
     "output_type": "stream",
     "text": [
      " 32%|███▏      | 29/92 [05:45<12:10, 11.60s/it]"
     ]
    },
    {
     "name": "stdout",
     "output_type": "stream",
     "text": [
      "james_preds/XYZres021_0001_warped_single.pickle\n",
      "james_preds/XYZres021_seg_warped_filled.tif\n",
      "james_preds/XYZres021_skel_warped_single.mat\n"
     ]
    },
    {
     "name": "stderr",
     "output_type": "stream",
     "text": [
      " 33%|███▎      | 30/92 [05:55<11:45, 11.38s/it]"
     ]
    },
    {
     "name": "stdout",
     "output_type": "stream",
     "text": [
      "james_preds/XYZres021_warped_single.pickle\n",
      "james_preds/XYZres022_0001_seg_warped_filled.tif\n",
      "james_preds/XYZres022_skel_warped_single.mat\n"
     ]
    },
    {
     "name": "stderr",
     "output_type": "stream",
     "text": [
      " 34%|███▎      | 31/92 [06:06<11:22, 11.19s/it]"
     ]
    },
    {
     "name": "stdout",
     "output_type": "stream",
     "text": [
      "james_preds/XYZres022_0001_warped_single.pickle\n",
      "james_preds/XYZres022_seg_warped_filled.tif\n",
      "james_preds/XYZres022_skel_warped_single.mat\n"
     ]
    },
    {
     "name": "stderr",
     "output_type": "stream",
     "text": [
      " 35%|███▍      | 32/92 [06:17<11:06, 11.12s/it]"
     ]
    },
    {
     "name": "stdout",
     "output_type": "stream",
     "text": [
      "james_preds/XYZres022_warped_single.pickle\n",
      "james_preds/XYZres023_0001_seg_warped_filled.tif\n",
      "james_preds/XYZres023_skel_warped_single.mat\n"
     ]
    },
    {
     "name": "stderr",
     "output_type": "stream",
     "text": [
      " 36%|███▌      | 33/92 [06:28<10:51, 11.04s/it]"
     ]
    },
    {
     "name": "stdout",
     "output_type": "stream",
     "text": [
      "james_preds/XYZres023_0001_warped_single.pickle\n",
      "james_preds/XYZres023_seg_warped_filled.tif\n",
      "james_preds/XYZres023_skel_warped_single.mat\n"
     ]
    },
    {
     "name": "stderr",
     "output_type": "stream",
     "text": [
      " 37%|███▋      | 34/92 [06:42<11:26, 11.84s/it]"
     ]
    },
    {
     "name": "stdout",
     "output_type": "stream",
     "text": [
      "james_preds/XYZres023_warped_single.pickle\n",
      "james_preds/XYZres024_0001_seg_warped_filled.tif\n",
      "james_preds/XYZres024_skel_warped_single.mat\n"
     ]
    },
    {
     "name": "stderr",
     "output_type": "stream",
     "text": [
      " 38%|███▊      | 35/92 [06:53<10:57, 11.53s/it]"
     ]
    },
    {
     "name": "stdout",
     "output_type": "stream",
     "text": [
      "james_preds/XYZres024_0001_warped_single.pickle\n",
      "james_preds/XYZres024_seg_warped_filled.tif\n",
      "james_preds/XYZres024_skel_warped_single.mat\n"
     ]
    },
    {
     "name": "stderr",
     "output_type": "stream",
     "text": [
      " 39%|███▉      | 36/92 [07:06<11:20, 12.16s/it]"
     ]
    },
    {
     "name": "stdout",
     "output_type": "stream",
     "text": [
      "james_preds/XYZres024_warped_single.pickle\n",
      "james_preds/XYZres025_0001_seg_warped_filled.tif\n",
      "james_preds/XYZres025_skel_warped_single.mat\n"
     ]
    },
    {
     "name": "stderr",
     "output_type": "stream",
     "text": [
      " 40%|████      | 37/92 [07:17<10:47, 11.78s/it]"
     ]
    },
    {
     "name": "stdout",
     "output_type": "stream",
     "text": [
      "james_preds/XYZres025_0001_warped_single.pickle\n",
      "james_preds/XYZres025_seg_warped_filled.tif\n",
      "james_preds/XYZres025_skel_warped_single.mat\n"
     ]
    },
    {
     "name": "stderr",
     "output_type": "stream",
     "text": [
      " 41%|████▏     | 38/92 [07:30<10:56, 12.15s/it]"
     ]
    },
    {
     "name": "stdout",
     "output_type": "stream",
     "text": [
      "james_preds/XYZres025_warped_single.pickle\n",
      "james_preds/XYZres026_0001_seg_warped_filled.tif\n",
      "james_preds/XYZres026_skel_warped_single.mat\n"
     ]
    },
    {
     "name": "stderr",
     "output_type": "stream",
     "text": [
      " 42%|████▏     | 39/92 [07:41<10:24, 11.78s/it]"
     ]
    },
    {
     "name": "stdout",
     "output_type": "stream",
     "text": [
      "james_preds/XYZres026_0001_warped_single.pickle\n",
      "james_preds/XYZres026_seg_warped_filled.tif\n",
      "james_preds/XYZres026_skel_warped_single.mat\n"
     ]
    },
    {
     "name": "stderr",
     "output_type": "stream",
     "text": [
      " 43%|████▎     | 40/92 [07:54<10:34, 12.21s/it]"
     ]
    },
    {
     "name": "stdout",
     "output_type": "stream",
     "text": [
      "james_preds/XYZres026_warped_single.pickle\n",
      "james_preds/XYZres027_0001_seg_warped_filled.tif\n",
      "james_preds/XYZres027_skel_warped_single.mat\n"
     ]
    },
    {
     "name": "stderr",
     "output_type": "stream",
     "text": [
      " 45%|████▍     | 41/92 [08:05<10:02, 11.82s/it]"
     ]
    },
    {
     "name": "stdout",
     "output_type": "stream",
     "text": [
      "james_preds/XYZres027_0001_warped_single.pickle\n",
      "james_preds/XYZres027_seg_warped_filled.tif\n",
      "james_preds/XYZres027_skel_warped_single.mat\n"
     ]
    },
    {
     "name": "stderr",
     "output_type": "stream",
     "text": [
      " 46%|████▌     | 42/92 [08:18<10:14, 12.28s/it]"
     ]
    },
    {
     "name": "stdout",
     "output_type": "stream",
     "text": [
      "james_preds/XYZres027_warped_single.pickle\n",
      "james_preds/XYZres028_0001_seg_warped_filled.tif\n",
      "james_preds/XYZres028_skel_warped_single.mat\n"
     ]
    },
    {
     "name": "stderr",
     "output_type": "stream",
     "text": [
      " 47%|████▋     | 43/92 [08:29<09:40, 11.85s/it]"
     ]
    },
    {
     "name": "stdout",
     "output_type": "stream",
     "text": [
      "james_preds/XYZres028_0001_warped_single.pickle\n",
      "james_preds/XYZres028_seg_warped_filled.tif\n",
      "james_preds/XYZres028_skel_warped_single.mat\n"
     ]
    },
    {
     "name": "stderr",
     "output_type": "stream",
     "text": [
      " 48%|████▊     | 44/92 [08:40<09:13, 11.54s/it]"
     ]
    },
    {
     "name": "stdout",
     "output_type": "stream",
     "text": [
      "james_preds/XYZres028_warped_single.pickle\n",
      "james_preds/XYZres029_0001_seg_warped_filled.tif\n",
      "james_preds/XYZres029_skel_warped_single.mat\n"
     ]
    },
    {
     "name": "stderr",
     "output_type": "stream",
     "text": [
      " 49%|████▉     | 45/92 [08:54<09:32, 12.17s/it]"
     ]
    },
    {
     "name": "stdout",
     "output_type": "stream",
     "text": [
      "james_preds/XYZres029_0001_warped_single.pickle\n",
      "james_preds/XYZres029_seg_warped_filled.tif\n",
      "james_preds/XYZres029_skel_warped_single.mat\n"
     ]
    },
    {
     "name": "stderr",
     "output_type": "stream",
     "text": [
      " 50%|█████     | 46/92 [09:05<09:00, 11.75s/it]"
     ]
    },
    {
     "name": "stdout",
     "output_type": "stream",
     "text": [
      "james_preds/XYZres029_warped_single.pickle\n",
      "james_preds/XYZres030_0001_seg_warped_filled.tif\n",
      "james_preds/XYZres030_skel_warped_single.mat\n"
     ]
    },
    {
     "name": "stderr",
     "output_type": "stream",
     "text": [
      " 51%|█████     | 47/92 [09:15<08:36, 11.48s/it]"
     ]
    },
    {
     "name": "stdout",
     "output_type": "stream",
     "text": [
      "james_preds/XYZres030_0001_warped_single.pickle\n",
      "james_preds/XYZres030_seg_warped_filled.tif\n",
      "james_preds/XYZres030_skel_warped_single.mat\n"
     ]
    },
    {
     "name": "stderr",
     "output_type": "stream",
     "text": [
      " 52%|█████▏    | 48/92 [09:26<08:17, 11.32s/it]"
     ]
    },
    {
     "name": "stdout",
     "output_type": "stream",
     "text": [
      "james_preds/XYZres030_warped_single.pickle\n",
      "james_preds/XYZres031_0001_seg_warped_filled.tif\n",
      "james_preds/XYZres031_skel_warped_single.mat\n"
     ]
    },
    {
     "name": "stderr",
     "output_type": "stream",
     "text": [
      " 53%|█████▎    | 49/92 [09:37<07:59, 11.16s/it]"
     ]
    },
    {
     "name": "stdout",
     "output_type": "stream",
     "text": [
      "james_preds/XYZres031_0001_warped_single.pickle\n",
      "james_preds/XYZres031_seg_warped_filled.tif\n",
      "james_preds/XYZres031_skel_warped_single.mat\n"
     ]
    },
    {
     "name": "stderr",
     "output_type": "stream",
     "text": [
      " 54%|█████▍    | 50/92 [09:48<07:43, 11.04s/it]"
     ]
    },
    {
     "name": "stdout",
     "output_type": "stream",
     "text": [
      "james_preds/XYZres031_warped_single.pickle\n",
      "james_preds/XYZres032_0001_seg_warped_filled.tif\n",
      "james_preds/XYZres032_skel_warped_single.mat\n"
     ]
    },
    {
     "name": "stderr",
     "output_type": "stream",
     "text": [
      " 55%|█████▌    | 51/92 [09:59<07:32, 11.03s/it]"
     ]
    },
    {
     "name": "stdout",
     "output_type": "stream",
     "text": [
      "james_preds/XYZres032_0001_warped_single.pickle\n",
      "james_preds/XYZres032_seg_warped_filled.tif\n",
      "james_preds/XYZres032_skel_warped_single.mat\n"
     ]
    },
    {
     "name": "stderr",
     "output_type": "stream",
     "text": [
      " 57%|█████▋    | 52/92 [10:12<07:50, 11.76s/it]"
     ]
    },
    {
     "name": "stdout",
     "output_type": "stream",
     "text": [
      "james_preds/XYZres032_warped_single.pickle\n",
      "james_preds/XYZres033_0001_seg_warped_filled.tif\n",
      "james_preds/XYZres033_skel_warped_single.mat\n"
     ]
    },
    {
     "name": "stderr",
     "output_type": "stream",
     "text": [
      " 58%|█████▊    | 53/92 [10:23<07:29, 11.51s/it]"
     ]
    },
    {
     "name": "stdout",
     "output_type": "stream",
     "text": [
      "james_preds/XYZres033_0001_warped_single.pickle\n",
      "james_preds/XYZres033_seg_warped_filled.tif\n",
      "james_preds/XYZres033_skel_warped_single.mat\n"
     ]
    },
    {
     "name": "stderr",
     "output_type": "stream",
     "text": [
      " 59%|█████▊    | 54/92 [10:34<07:08, 11.29s/it]"
     ]
    },
    {
     "name": "stdout",
     "output_type": "stream",
     "text": [
      "james_preds/XYZres033_warped_single.pickle\n",
      "james_preds/XYZres034_0001_seg_warped_filled.tif\n",
      "james_preds/XYZres034_skel_warped_single.mat\n"
     ]
    },
    {
     "name": "stderr",
     "output_type": "stream",
     "text": [
      " 60%|█████▉    | 55/92 [10:45<06:52, 11.14s/it]"
     ]
    },
    {
     "name": "stdout",
     "output_type": "stream",
     "text": [
      "james_preds/XYZres034_0001_warped_single.pickle\n",
      "james_preds/XYZres034_seg_warped_filled.tif\n",
      "james_preds/XYZres034_skel_warped_single.mat\n"
     ]
    },
    {
     "name": "stderr",
     "output_type": "stream",
     "text": [
      " 61%|██████    | 56/92 [10:56<06:37, 11.05s/it]"
     ]
    },
    {
     "name": "stdout",
     "output_type": "stream",
     "text": [
      "james_preds/XYZres034_warped_single.pickle\n",
      "james_preds/XYZres035_0001_seg_warped_filled.tif\n",
      "james_preds/XYZres035_skel_warped_single.mat\n"
     ]
    },
    {
     "name": "stderr",
     "output_type": "stream",
     "text": [
      " 62%|██████▏   | 57/92 [11:07<06:25, 11.01s/it]"
     ]
    },
    {
     "name": "stdout",
     "output_type": "stream",
     "text": [
      "james_preds/XYZres035_0001_warped_single.pickle\n",
      "james_preds/XYZres035_seg_warped_filled.tif\n",
      "james_preds/XYZres035_skel_warped_single.mat\n"
     ]
    },
    {
     "name": "stderr",
     "output_type": "stream",
     "text": [
      " 63%|██████▎   | 58/92 [11:17<06:12, 10.95s/it]"
     ]
    },
    {
     "name": "stdout",
     "output_type": "stream",
     "text": [
      "james_preds/XYZres035_warped_single.pickle\n",
      "james_preds/XYZres036_0001_seg_warped_filled.tif\n",
      "james_preds/XYZres036_skel_warped_single.mat\n"
     ]
    },
    {
     "name": "stderr",
     "output_type": "stream",
     "text": [
      " 64%|██████▍   | 59/92 [11:28<06:00, 10.91s/it]"
     ]
    },
    {
     "name": "stdout",
     "output_type": "stream",
     "text": [
      "james_preds/XYZres036_0001_warped_single.pickle\n",
      "james_preds/XYZres036_seg_warped_filled.tif\n",
      "james_preds/XYZres036_skel_warped_single.mat\n"
     ]
    },
    {
     "name": "stderr",
     "output_type": "stream",
     "text": [
      " 65%|██████▌   | 60/92 [11:39<05:47, 10.87s/it]"
     ]
    },
    {
     "name": "stdout",
     "output_type": "stream",
     "text": [
      "james_preds/XYZres036_warped_single.pickle\n",
      "james_preds/XYZres037_0001_seg_warped_filled.tif\n",
      "james_preds/XYZres037_skel_warped_single.mat\n"
     ]
    },
    {
     "name": "stderr",
     "output_type": "stream",
     "text": [
      " 66%|██████▋   | 61/92 [11:50<05:35, 10.83s/it]"
     ]
    },
    {
     "name": "stdout",
     "output_type": "stream",
     "text": [
      "james_preds/XYZres037_0001_warped_single.pickle\n",
      "james_preds/XYZres037_seg_warped_filled.tif\n",
      "james_preds/XYZres037_skel_warped_single.mat\n"
     ]
    },
    {
     "name": "stderr",
     "output_type": "stream",
     "text": [
      " 67%|██████▋   | 62/92 [12:01<05:24, 10.82s/it]"
     ]
    },
    {
     "name": "stdout",
     "output_type": "stream",
     "text": [
      "james_preds/XYZres037_warped_single.pickle\n",
      "james_preds/XYZres038_0001_seg_warped_filled.tif\n",
      "james_preds/XYZres038_skel_warped_single.mat\n"
     ]
    },
    {
     "name": "stderr",
     "output_type": "stream",
     "text": [
      " 68%|██████▊   | 63/92 [12:11<05:13, 10.82s/it]"
     ]
    },
    {
     "name": "stdout",
     "output_type": "stream",
     "text": [
      "james_preds/XYZres038_0001_warped_single.pickle\n",
      "james_preds/XYZres038_seg_warped_filled.tif\n",
      "james_preds/XYZres038_skel_warped_single.mat\n"
     ]
    },
    {
     "name": "stderr",
     "output_type": "stream",
     "text": [
      " 70%|██████▉   | 64/92 [12:26<05:30, 11.82s/it]"
     ]
    },
    {
     "name": "stdout",
     "output_type": "stream",
     "text": [
      "james_preds/XYZres038_warped_single.pickle\n",
      "james_preds/XYZres039_0001_seg_warped_filled.tif\n",
      "james_preds/XYZres039_skel_warped_single.mat\n"
     ]
    },
    {
     "name": "stderr",
     "output_type": "stream",
     "text": [
      " 71%|███████   | 65/92 [12:36<05:10, 11.52s/it]"
     ]
    },
    {
     "name": "stdout",
     "output_type": "stream",
     "text": [
      "james_preds/XYZres039_0001_warped_single.pickle\n",
      "james_preds/XYZres039_seg_warped_filled.tif\n",
      "james_preds/XYZres039_skel_warped_single.mat\n"
     ]
    },
    {
     "name": "stderr",
     "output_type": "stream",
     "text": [
      " 72%|███████▏  | 66/92 [12:47<04:54, 11.31s/it]"
     ]
    },
    {
     "name": "stdout",
     "output_type": "stream",
     "text": [
      "james_preds/XYZres039_warped_single.pickle\n",
      "james_preds/XYZres040_0001_seg_warped_filled.tif\n",
      "james_preds/XYZres040_skel_warped_single.mat\n"
     ]
    },
    {
     "name": "stderr",
     "output_type": "stream",
     "text": [
      " 73%|███████▎  | 67/92 [12:58<04:39, 11.17s/it]"
     ]
    },
    {
     "name": "stdout",
     "output_type": "stream",
     "text": [
      "james_preds/XYZres040_0001_warped_single.pickle\n",
      "james_preds/XYZres040_seg_warped_filled.tif\n",
      "james_preds/XYZres040_skel_warped_single.mat\n"
     ]
    },
    {
     "name": "stderr",
     "output_type": "stream",
     "text": [
      " 74%|███████▍  | 68/92 [13:09<04:25, 11.07s/it]"
     ]
    },
    {
     "name": "stdout",
     "output_type": "stream",
     "text": [
      "james_preds/XYZres040_warped_single.pickle\n",
      "james_preds/XYZres041_0001_seg_warped_filled.tif\n",
      "james_preds/XYZres041_skel_warped_single.mat\n"
     ]
    },
    {
     "name": "stderr",
     "output_type": "stream",
     "text": [
      " 75%|███████▌  | 69/92 [13:20<04:12, 10.99s/it]"
     ]
    },
    {
     "name": "stdout",
     "output_type": "stream",
     "text": [
      "james_preds/XYZres041_0001_warped_single.pickle\n",
      "james_preds/XYZres041_seg_warped_filled.tif\n",
      "james_preds/XYZres041_skel_warped_single.mat\n"
     ]
    },
    {
     "name": "stderr",
     "output_type": "stream",
     "text": [
      " 76%|███████▌  | 70/92 [13:30<03:59, 10.91s/it]"
     ]
    },
    {
     "name": "stdout",
     "output_type": "stream",
     "text": [
      "james_preds/XYZres041_warped_single.pickle\n",
      "james_preds/XYZres042_0001_seg_warped_filled.tif\n",
      "james_preds/XYZres042_skel_warped_single.mat\n"
     ]
    },
    {
     "name": "stderr",
     "output_type": "stream",
     "text": [
      " 77%|███████▋  | 71/92 [13:41<03:49, 10.90s/it]"
     ]
    },
    {
     "name": "stdout",
     "output_type": "stream",
     "text": [
      "james_preds/XYZres042_0001_warped_single.pickle\n",
      "james_preds/XYZres042_seg_warped_filled.tif\n",
      "james_preds/XYZres042_skel_warped_single.mat\n"
     ]
    },
    {
     "name": "stderr",
     "output_type": "stream",
     "text": [
      " 78%|███████▊  | 72/92 [13:52<03:37, 10.88s/it]"
     ]
    },
    {
     "name": "stdout",
     "output_type": "stream",
     "text": [
      "james_preds/XYZres042_warped_single.pickle\n",
      "james_preds/XYZres043_0001_seg_warped_filled.tif\n",
      "james_preds/XYZres043_skel_warped_single.mat\n"
     ]
    },
    {
     "name": "stderr",
     "output_type": "stream",
     "text": [
      " 79%|███████▉  | 73/92 [14:03<03:27, 10.91s/it]"
     ]
    },
    {
     "name": "stdout",
     "output_type": "stream",
     "text": [
      "james_preds/XYZres043_0001_warped_single.pickle\n",
      "james_preds/XYZres043_seg_warped_filled.tif\n",
      "james_preds/XYZres043_skel_warped_single.mat\n"
     ]
    },
    {
     "name": "stderr",
     "output_type": "stream",
     "text": [
      " 80%|████████  | 74/92 [14:14<03:15, 10.88s/it]"
     ]
    },
    {
     "name": "stdout",
     "output_type": "stream",
     "text": [
      "james_preds/XYZres043_warped_single.pickle\n",
      "james_preds/XYZres044_0001_seg_warped_filled.tif\n",
      "james_preds/XYZres044_skel_warped_single.mat\n"
     ]
    },
    {
     "name": "stderr",
     "output_type": "stream",
     "text": [
      " 82%|████████▏ | 75/92 [14:25<03:05, 10.91s/it]"
     ]
    },
    {
     "name": "stdout",
     "output_type": "stream",
     "text": [
      "james_preds/XYZres044_0001_warped_single.pickle\n",
      "james_preds/XYZres044_seg_warped_filled.tif\n",
      "james_preds/XYZres044_skel_warped_single.mat\n"
     ]
    },
    {
     "name": "stderr",
     "output_type": "stream",
     "text": [
      " 83%|████████▎ | 76/92 [14:36<02:55, 10.95s/it]"
     ]
    },
    {
     "name": "stdout",
     "output_type": "stream",
     "text": [
      "james_preds/XYZres044_warped_single.pickle\n",
      "james_preds/XYZres045_0001_seg_warped_filled.tif\n",
      "james_preds/XYZres045_skel_warped_single.mat\n"
     ]
    },
    {
     "name": "stderr",
     "output_type": "stream",
     "text": [
      " 84%|████████▎ | 77/92 [14:47<02:44, 10.94s/it]"
     ]
    },
    {
     "name": "stdout",
     "output_type": "stream",
     "text": [
      "james_preds/XYZres045_0001_warped_single.pickle\n",
      "james_preds/XYZres045_seg_warped_filled.tif\n",
      "james_preds/XYZres045_skel_warped_single.mat\n"
     ]
    },
    {
     "name": "stderr",
     "output_type": "stream",
     "text": [
      " 85%|████████▍ | 78/92 [14:58<02:32, 10.89s/it]"
     ]
    },
    {
     "name": "stdout",
     "output_type": "stream",
     "text": [
      "james_preds/XYZres045_warped_single.pickle\n",
      "james_preds/XYZres046_0001_seg_warped_filled.tif\n",
      "james_preds/XYZres046_skel_warped_single.mat\n"
     ]
    },
    {
     "name": "stderr",
     "output_type": "stream",
     "text": [
      " 86%|████████▌ | 79/92 [15:08<02:21, 10.90s/it]"
     ]
    },
    {
     "name": "stdout",
     "output_type": "stream",
     "text": [
      "james_preds/XYZres046_0001_warped_single.pickle\n",
      "james_preds/XYZres046_seg_warped_filled.tif\n",
      "james_preds/XYZres046_skel_warped_single.mat\n"
     ]
    },
    {
     "name": "stderr",
     "output_type": "stream",
     "text": [
      " 87%|████████▋ | 80/92 [15:19<02:10, 10.86s/it]"
     ]
    },
    {
     "name": "stdout",
     "output_type": "stream",
     "text": [
      "james_preds/XYZres046_warped_single.pickle\n",
      "james_preds/XYZres047_0001_seg_warped_filled.tif\n",
      "james_preds/XYZres047_skel_warped_single.mat\n"
     ]
    },
    {
     "name": "stderr",
     "output_type": "stream",
     "text": [
      " 88%|████████▊ | 81/92 [15:30<02:00, 10.92s/it]"
     ]
    },
    {
     "name": "stdout",
     "output_type": "stream",
     "text": [
      "james_preds/XYZres047_0001_warped_single.pickle\n",
      "james_preds/XYZres047_seg_warped_filled.tif\n",
      "james_preds/XYZres047_skel_warped_single.mat\n"
     ]
    },
    {
     "name": "stderr",
     "output_type": "stream",
     "text": [
      " 89%|████████▉ | 82/92 [15:41<01:49, 10.96s/it]"
     ]
    },
    {
     "name": "stdout",
     "output_type": "stream",
     "text": [
      "james_preds/XYZres047_warped_single.pickle\n",
      "james_preds/XYZres048_0001_seg_warped_filled.tif\n",
      "james_preds/XYZres048_skel_warped_single.mat\n"
     ]
    },
    {
     "name": "stderr",
     "output_type": "stream",
     "text": [
      " 90%|█████████ | 83/92 [15:52<01:38, 10.97s/it]"
     ]
    },
    {
     "name": "stdout",
     "output_type": "stream",
     "text": [
      "james_preds/XYZres048_0001_warped_single.pickle\n",
      "james_preds/XYZres048_seg_warped_filled.tif\n",
      "james_preds/XYZres048_skel_warped_single.mat\n"
     ]
    },
    {
     "name": "stderr",
     "output_type": "stream",
     "text": [
      " 91%|█████████▏| 84/92 [16:03<01:27, 10.93s/it]"
     ]
    },
    {
     "name": "stdout",
     "output_type": "stream",
     "text": [
      "james_preds/XYZres048_warped_single.pickle\n",
      "james_preds/XYZres049_0001_seg_warped_filled.tif\n",
      "james_preds/XYZres049_skel_warped_single.mat\n"
     ]
    },
    {
     "name": "stderr",
     "output_type": "stream",
     "text": [
      " 92%|█████████▏| 85/92 [16:14<01:16, 10.98s/it]"
     ]
    },
    {
     "name": "stdout",
     "output_type": "stream",
     "text": [
      "james_preds/XYZres049_0001_warped_single.pickle\n",
      "james_preds/XYZres049_seg_warped_filled.tif\n",
      "james_preds/XYZres049_skel_warped_single.mat\n"
     ]
    },
    {
     "name": "stderr",
     "output_type": "stream",
     "text": [
      " 93%|█████████▎| 86/92 [16:25<01:06, 11.00s/it]"
     ]
    },
    {
     "name": "stdout",
     "output_type": "stream",
     "text": [
      "james_preds/XYZres049_warped_single.pickle\n",
      "james_preds/XYZres050_0001_seg_warped_filled.tif\n",
      "james_preds/XYZres050_skel_warped_single.mat\n"
     ]
    },
    {
     "name": "stderr",
     "output_type": "stream",
     "text": [
      " 95%|█████████▍| 87/92 [16:39<00:59, 11.93s/it]"
     ]
    },
    {
     "name": "stdout",
     "output_type": "stream",
     "text": [
      "james_preds/XYZres050_0001_warped_single.pickle\n",
      "james_preds/XYZres050_seg_warped_filled.tif\n",
      "james_preds/XYZres050_skel_warped_single.mat\n"
     ]
    },
    {
     "name": "stderr",
     "output_type": "stream",
     "text": [
      " 96%|█████████▌| 88/92 [16:50<00:46, 11.63s/it]"
     ]
    },
    {
     "name": "stdout",
     "output_type": "stream",
     "text": [
      "james_preds/XYZres050_warped_single.pickle\n",
      "james_preds/XYZres051_0001_seg_warped_filled.tif\n",
      "james_preds/XYZres051_skel_warped_single.mat\n"
     ]
    },
    {
     "name": "stderr",
     "output_type": "stream",
     "text": [
      " 97%|█████████▋| 89/92 [17:01<00:34, 11.47s/it]"
     ]
    },
    {
     "name": "stdout",
     "output_type": "stream",
     "text": [
      "james_preds/XYZres051_0001_warped_single.pickle\n",
      "james_preds/XYZres051_seg_warped_filled.tif\n",
      "james_preds/XYZres051_skel_warped_single.mat\n"
     ]
    },
    {
     "name": "stderr",
     "output_type": "stream",
     "text": [
      " 98%|█████████▊| 90/92 [17:12<00:22, 11.33s/it]"
     ]
    },
    {
     "name": "stdout",
     "output_type": "stream",
     "text": [
      "james_preds/XYZres051_warped_single.pickle\n",
      "james_preds/XYZres052_0001_seg_warped_filled.tif\n",
      "james_preds/XYZres052_skel_warped_single.mat\n"
     ]
    },
    {
     "name": "stderr",
     "output_type": "stream",
     "text": [
      " 99%|█████████▉| 91/92 [17:24<00:11, 11.45s/it]"
     ]
    },
    {
     "name": "stdout",
     "output_type": "stream",
     "text": [
      "james_preds/XYZres052_0001_warped_single.pickle\n",
      "james_preds/XYZres052_seg_warped_filled.tif\n",
      "james_preds/XYZres052_skel_warped_single.mat\n"
     ]
    },
    {
     "name": "stderr",
     "output_type": "stream",
     "text": [
      "100%|██████████| 92/92 [17:36<00:00, 11.48s/it]"
     ]
    },
    {
     "name": "stdout",
     "output_type": "stream",
     "text": [
      "james_preds/XYZres052_warped_single.pickle\n"
     ]
    },
    {
     "name": "stderr",
     "output_type": "stream",
     "text": [
      "\n"
     ]
    }
   ],
   "source": [
    "for file_0001 in tqdm(files_seg_0001[2:]):\n",
    "    file = file_0001\n",
    "    print(file)\n",
    "    skel_file = re.sub('_0001','',re.sub('_seg_warped_filled.tif','_skel_warped_single.mat',file))\n",
    "    #GETRIDOFNECTLINEINMORNINGIFTOOMANYHAIRSANDRUNMATLAB\n",
    "    #skel_file = re.sub('_0001_0001','_0001',re.sub('_seg_warped_filled.tif','_0001_seg_warped_single_SSKKEELL.mat',file))\n",
    "    #\n",
    "    print(skel_file)\n",
    "    seg = io.imread(file)\n",
    "    ###skel = loadmat(skel_file)['FilteredImage']\n",
    "    #\n",
    "    skel = loadmat(skel_file)['FilteredImage']\n",
    "    #\n",
    "    #skel = skeletonize_3d(skel)\n",
    "    #skel = remove_small_comps_3d(skel,10)\n",
    "    #print(np.sum(skel))\n",
    "    dst_tsfm = distance_transform_edt(seg)\n",
    "    #dst_tsfm[dst_tsfm==0]=0.5\n",
    "    skel_dst = skel#*dst_tsfm\n",
    "\n",
    "    \n",
    "    np.save(re.sub('seg','dst_skel',file),skel_dst)\n",
    "    io.imsave(re.sub('_seg_warped_filled.tif','_dst_seg_warped_single.tif',file),dst_tsfm)\n",
    "    #print(re.sub('_seg_warped_filled.tif','_dst_skel_warped_single.tif',file))\n",
    "    graph = sknw.build_sknw(skel_dst, multi=False)\n",
    "    #print(len(graph.edges))\n",
    "    \n",
    "    #print(len(graph_0001.edges))\n",
    "    #pickle.dump(graph, open(str(re.sub('_seg.npy','.pickle',file)), 'w'))\n",
    "    #nx.write_pajek(graph,re.sub('_seg.npy','.pajek',file))\n",
    "    nx.write_gpickle(graph,re.sub('_seg_warped_filled.tif','_warped_single.pickle',file))\n",
    "    print(re.sub('_seg_warped_filled.tif','_warped_single.pickle',file))\n",
    "    #print(re.sub('_seg_warped_filled.tif','_warped_single.pickle',file))\n",
    "    #break\n",
    "    #raph.to_csv(re.sub('seg.npy','graph.csv',file))"
   ]
  },
  {
   "cell_type": "code",
   "execution_count": null,
   "id": "4ec0ddb8",
   "metadata": {},
   "outputs": [],
   "source": [
    "np.sum(skel)"
   ]
  },
  {
   "cell_type": "code",
   "execution_count": 15,
   "id": "f0ec7b49",
   "metadata": {},
   "outputs": [
    {
     "data": {
      "text/plain": [
       "AtlasView({172: {'pts': array([[  2, 220, 367],\n",
       "       [  3, 220, 367],\n",
       "       [  4, 219, 367],\n",
       "       [  5, 219, 367],\n",
       "       [  6, 219, 367],\n",
       "       [  7, 219, 367],\n",
       "       [  8, 219, 367],\n",
       "       [  9, 219, 367],\n",
       "       [ 10, 219, 367],\n",
       "       [ 11, 219, 367],\n",
       "       [ 12, 219, 367],\n",
       "       [ 13, 218, 368],\n",
       "       [ 14, 218, 368],\n",
       "       [ 15, 218, 368],\n",
       "       [ 16, 218, 368],\n",
       "       [ 17, 218, 368],\n",
       "       [ 18, 218, 368],\n",
       "       [ 19, 218, 368],\n",
       "       [ 20, 218, 368],\n",
       "       [ 21, 218, 368],\n",
       "       [ 22, 217, 369],\n",
       "       [ 23, 217, 369],\n",
       "       [ 24, 217, 369],\n",
       "       [ 25, 217, 369],\n",
       "       [ 26, 217, 369],\n",
       "       [ 27, 217, 369],\n",
       "       [ 28, 217, 369],\n",
       "       [ 29, 217, 369],\n",
       "       [ 30, 217, 369],\n",
       "       [ 31, 217, 369],\n",
       "       [ 32, 216, 370],\n",
       "       [ 33, 216, 370],\n",
       "       [ 34, 216, 369],\n",
       "       [ 35, 215, 370],\n",
       "       [ 36, 215, 370],\n",
       "       [ 37, 215, 370],\n",
       "       [ 38, 215, 370],\n",
       "       [ 39, 215, 370],\n",
       "       [ 40, 215, 370],\n",
       "       [ 41, 215, 370],\n",
       "       [ 42, 215, 370],\n",
       "       [ 43, 215, 370],\n",
       "       [ 44, 214, 370],\n",
       "       [ 45, 214, 370],\n",
       "       [ 46, 214, 370],\n",
       "       [ 47, 214, 370],\n",
       "       [ 48, 214, 370],\n",
       "       [ 49, 213, 370],\n",
       "       [ 50, 213, 370],\n",
       "       [ 51, 212, 371],\n",
       "       [ 52, 212, 371],\n",
       "       [ 53, 212, 371],\n",
       "       [ 54, 212, 371],\n",
       "       [ 55, 212, 371],\n",
       "       [ 56, 212, 371],\n",
       "       [ 57, 211, 371],\n",
       "       [ 58, 210, 372],\n",
       "       [ 59, 210, 372],\n",
       "       [ 60, 210, 372],\n",
       "       [ 61, 210, 372],\n",
       "       [ 62, 210, 372],\n",
       "       [ 63, 210, 372],\n",
       "       [ 64, 209, 372],\n",
       "       [ 65, 209, 372],\n",
       "       [ 66, 209, 372],\n",
       "       [ 67, 209, 372],\n",
       "       [ 68, 209, 372],\n",
       "       [ 69, 208, 372],\n",
       "       [ 70, 208, 372],\n",
       "       [ 71, 209, 372],\n",
       "       [ 72, 208, 372],\n",
       "       [ 73, 207, 372],\n",
       "       [ 74, 206, 372],\n",
       "       [ 75, 205, 372],\n",
       "       [ 76, 205, 372],\n",
       "       [ 77, 205, 373],\n",
       "       [ 78, 205, 373],\n",
       "       [ 79, 204, 373],\n",
       "       [ 79, 203, 373],\n",
       "       [ 79, 202, 373],\n",
       "       [ 79, 201, 373],\n",
       "       [ 80, 200, 373],\n",
       "       [ 80, 199, 373],\n",
       "       [ 80, 198, 374],\n",
       "       [ 79, 197, 374],\n",
       "       [ 80, 196, 374],\n",
       "       [ 81, 195, 375],\n",
       "       [ 82, 194, 375]], dtype=int16), 'weight': 99.99441333807094}})"
      ]
     },
     "execution_count": 15,
     "metadata": {},
     "output_type": "execute_result"
    }
   ],
   "source": [
    "graph[0]"
   ]
  },
  {
   "cell_type": "code",
   "execution_count": null,
   "id": "50ce2835",
   "metadata": {},
   "outputs": [],
   "source": [
    "re.sub('_seg.npy','.pickle',file)"
   ]
  },
  {
   "cell_type": "code",
   "execution_count": null,
   "id": "29418fa4",
   "metadata": {},
   "outputs": [],
   "source": [
    "skel_file = re.sub('seg.npy','skel.mat',file)"
   ]
  },
  {
   "cell_type": "code",
   "execution_count": null,
   "id": "8a465628",
   "metadata": {},
   "outputs": [],
   "source": [
    "graph[0][39]"
   ]
  },
  {
   "cell_type": "code",
   "execution_count": null,
   "id": "1f00f020",
   "metadata": {},
   "outputs": [],
   "source": [
    "re.sub('seg.npy','graph.csv',file_0001)"
   ]
  },
  {
   "cell_type": "code",
   "execution_count": null,
   "id": "90abbb6d",
   "metadata": {},
   "outputs": [],
   "source": [
    "files[22:24]"
   ]
  },
  {
   "cell_type": "code",
   "execution_count": null,
   "id": "a3d96483",
   "metadata": {},
   "outputs": [],
   "source": []
  }
 ],
 "metadata": {
  "kernelspec": {
   "display_name": "monai3.8",
   "language": "python",
   "name": "monai3.8"
  },
  "language_info": {
   "codemirror_mode": {
    "name": "ipython",
    "version": 3
   },
   "file_extension": ".py",
   "mimetype": "text/x-python",
   "name": "python",
   "nbconvert_exporter": "python",
   "pygments_lexer": "ipython3",
   "version": "3.8.10"
  }
 },
 "nbformat": 4,
 "nbformat_minor": 5
}
