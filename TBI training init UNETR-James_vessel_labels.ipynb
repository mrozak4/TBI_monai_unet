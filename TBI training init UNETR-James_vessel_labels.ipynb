{
 "cells": [
  {
   "cell_type": "markdown",
   "id": "0a247ea0",
   "metadata": {},
   "source": [
    "# Setup Enviornment"
   ]
  },
  {
   "cell_type": "code",
   "execution_count": 1,
   "id": "ea02dd1a",
   "metadata": {},
   "outputs": [],
   "source": [
    "from monai.utils import (\n",
    "    first, \n",
    "    set_determinism, \n",
    "    ensure_tuple\n",
    ")\n",
    "from monai.transforms import (\n",
    "    AsDiscrete,\n",
    "    AsDiscreted,\n",
    "    EnsureChannelFirstd,\n",
    "    Compose,\n",
    "    CropForegroundd,\n",
    "    LoadImaged,\n",
    "    Orientationd,\n",
    "    RandCropByPosNegLabeld,\n",
    "    RandAffined,\n",
    "    RandRotate90d,\n",
    "    RandShiftIntensityd,\n",
    "    RandFlipd,\n",
    "    RandGaussianNoised,\n",
    "    RandAdjustContrastd,\n",
    "    ScaleIntensityRanged,\n",
    "    Spacingd,\n",
    "    EnsureTyped,\n",
    "    EnsureType,\n",
    "    Invertd,\n",
    "    AddChanneld,\n",
    "    RandGaussianSharpend,\n",
    "    RandGaussianSmoothd,\n",
    "    RandHistogramShiftd,\n",
    "    OneOf,\n",
    "    Rand3DElasticd,\n",
    "    Rand3DElastic,\n",
    "    RandGridDistortiond,\n",
    "    RandSpatialCropSamplesd,\n",
    "    FillHoles,\n",
    "    LabelFilter,\n",
    "    LabelToContour\n",
    ")\n",
    "from monai.handlers.utils import from_engine\n",
    "from monai.networks.nets import UNETR\n",
    "from monai.networks.layers import Norm\n",
    "from monai.metrics import (\n",
    "    DiceMetric, \n",
    "    HausdorffDistanceMetric\n",
    ")\n",
    "from monai.losses import (\n",
    "    DiceLoss, \n",
    "    DiceCELoss, \n",
    "    DiceFocalLoss,\n",
    "    FocalLoss\n",
    ")\n",
    "from monai.inferers import sliding_window_inference\n",
    "from monai.data import (\n",
    "    CacheDataset, \n",
    "    DataLoader, \n",
    "    Dataset, \n",
    "    decollate_batch, \n",
    "    ImageReader\n",
    ")\n",
    "from monai.data.image_reader import WSIReader\n",
    "from monai.config import (\n",
    "    print_config, \n",
    "    KeysCollection, \n",
    "    PathLike\n",
    ")\n",
    "from monai.apps import download_and_extract\n",
    "import torch\n",
    "from torchio.transforms import (\n",
    "    RandomAffine\n",
    ")\n",
    "import matplotlib.pyplot as plt\n",
    "import tempfile\n",
    "import shutil\n",
    "import os\n",
    "import glob\n",
    "from numpy import random\n",
    "from pathlib import Path\n",
    "import re\n",
    "from skimage import io\n",
    "from typing import (\n",
    "    Optional, \n",
    "    Union, \n",
    "    Sequence, \n",
    "    Callable, \n",
    "    Dict, \n",
    "    List\n",
    ")\n",
    "from monai.data.utils import is_supported_format\n",
    "from monai. data.image_reader import (\n",
    "    _copy_compatible_dict, \n",
    "    _stack_images\n",
    ")\n",
    "from nibabel.nifti1 import Nifti1Image\n",
    "from PIL import Image\n",
    "import numpy as np\n",
    "from tqdm import tqdm\n",
    "import pickle\n",
    "import pandas as pd\n",
    "from mlflow import log_metric, log_param, log_artifacts, set_experiment, start_run, end_run\n",
    "import warnings\n",
    "warnings.filterwarnings('ignore')"
   ]
  },
  {
   "cell_type": "code",
   "execution_count": 2,
   "id": "5f7709d7",
   "metadata": {},
   "outputs": [
    {
     "name": "stdout",
     "output_type": "stream",
     "text": [
      "MONAI version: 0.8.0\n",
      "Numpy version: 1.21.4\n",
      "Pytorch version: 1.10.0\n",
      "MONAI flags: HAS_EXT = False, USE_COMPILED = False\n",
      "MONAI rev id: 714d00dffe6653e21260160666c4c201ab66511b\n",
      "\n",
      "Optional dependencies:\n",
      "Pytorch Ignite version: NOT INSTALLED or UNKNOWN VERSION.\n",
      "Nibabel version: 3.2.1\n",
      "scikit-image version: 0.18.2\n",
      "Pillow version: 8.4.0\n",
      "Tensorboard version: 2.7.0\n",
      "gdown version: 4.2.0\n",
      "TorchVision version: 0.10.0\n",
      "tqdm version: 4.62.3\n",
      "lmdb version: 1.2.1\n",
      "psutil version: 5.8.0\n",
      "pandas version: 1.3.0\n",
      "einops version: 0.3.2\n",
      "transformers version: 4.15.0\n",
      "mlflow version: 1.22.0\n",
      "\n",
      "For details about installing the optional dependencies, please visit:\n",
      "    https://docs.monai.io/en/latest/installation.html#installing-the-recommended-dependencies\n",
      "\n"
     ]
    }
   ],
   "source": [
    "print_config()"
   ]
  },
  {
   "cell_type": "code",
   "execution_count": 3,
   "id": "8a98315c",
   "metadata": {},
   "outputs": [],
   "source": [
    "class TIFFReader(ImageReader):\n",
    "    \n",
    "    def __init__(self, npz_keys: Optional[KeysCollection] = None, channel_dim: Optional[int] = None, **kwargs):\n",
    "        super().__init__()\n",
    "        if npz_keys is not None:\n",
    "            npz_keys = ensure_tuple(npz_keys)\n",
    "        self.npz_keys = npz_keys\n",
    "        self.channel_dim = channel_dim\n",
    "        self.kwargs = kwargs\n",
    "    \n",
    "    def verify_suffix(self, filename: Union[Sequence[PathLike], PathLike]) -> bool:\n",
    "        \"\"\"\n",
    "        Verify whether the specified file or files format is supported by Numpy reader.\n",
    "\n",
    "        Args:\n",
    "            filename: file name or a list of file names to read.\n",
    "                if a list of files, verify all the suffixes.\n",
    "        \"\"\"\n",
    "        suffixes: Sequence[str] = [\"tif\", \"tiff\"]\n",
    "        return is_supported_format(filename, suffixes)\n",
    "\n",
    "    def read(self, data: Union[Sequence[PathLike], PathLike], **kwargs):\n",
    "        \"\"\"\n",
    "        Read image data from specified file or files, it can read a list of `no-channel` data files\n",
    "        and stack them together as multi-channels data in `get_data()`.\n",
    "        Note that the returned object is Numpy array or list of Numpy arrays.\n",
    "\n",
    "        Args:\n",
    "            data: file name or a list of file names to read.\n",
    "            kwargs: additional args for `numpy.load` API except `allow_pickle`, will override `self.kwargs` for existing keys.\n",
    "                More details about available args:\n",
    "                https://numpy.org/doc/stable/reference/generated/numpy.load.html\n",
    "\n",
    "        \"\"\"\n",
    "        img_: List[Nifti1Image] = []\n",
    "\n",
    "        filenames: Sequence[PathLike] = ensure_tuple(data)\n",
    "        kwargs_ = self.kwargs.copy()\n",
    "        kwargs_.update(kwargs)\n",
    "        for name in filenames:\n",
    "            img = io.imread(name, **kwargs_)\n",
    "            img = img.astype('float32')\n",
    "            if len(img.shape)==4:\n",
    "                img = np.swapaxes(img,0,1)\n",
    "                img = np.swapaxes(img,1,3)\n",
    "            if len(img.shape)==3:\n",
    "                img = numpy.expand_dims(img, axis)\n",
    "            img_.append(img)\n",
    "        return img_ if len(img_) > 1 else img_[0]\n",
    "    \n",
    "    def get_data(self, img):\n",
    "        \"\"\"\n",
    "        Extract data array and meta data from loaded image and return them.\n",
    "        This function returns two objects, first is numpy array of image data, second is dict of meta data.\n",
    "        It constructs `affine`, `original_affine`, and `spatial_shape` and stores them in meta dict.\n",
    "        When loading a list of files, they are stacked together at a new dimension as the first dimension,\n",
    "        and the meta data of the first image is used to represent the output meta data.\n",
    "\n",
    "        Args:\n",
    "            img: a Numpy array loaded from a file or a list of Numpy arrays.\n",
    "\n",
    "        \"\"\"\n",
    "        img_array: List[np.ndarray] = []\n",
    "        compatible_meta: Dict = {}\n",
    "        if isinstance(img, np.ndarray):\n",
    "            img = (img,)\n",
    "\n",
    "        for i in ensure_tuple(img):\n",
    "            header = {\"affine\":np.eye(5),\n",
    "                     \"labels\": {\"0\": \"background\",\n",
    "                                \"1\": \"pial/penetrating vessel\",\n",
    "                                \"2\": \"microvessel\",\n",
    "                                \"3\": \"neurons\"}\n",
    "                     }\n",
    "            if isinstance(i, np.ndarray):\n",
    "                # if `channel_dim` is None, can not detect the channel dim, use all the dims as spatial_shape\n",
    "                spatial_shape = np.asarray(i.shape)\n",
    "                if isinstance(self.channel_dim, int):\n",
    "                    spatial_shape = np.delete(spatial_shape, self.channel_dim)\n",
    "                header[\"spatial_shape\"] = spatial_shape\n",
    "            img_array.append(i)\n",
    "            header[\"original_channel_dim\"] = self.channel_dim if isinstance(self.channel_dim, int) else \"no_channel\"\n",
    "            _copy_compatible_dict(header, compatible_meta)\n",
    "\n",
    "        return _stack_images(img_array, compatible_meta), compatible_meta"
   ]
  },
  {
   "cell_type": "markdown",
   "id": "49db1586",
   "metadata": {},
   "source": [
    "# Hyperparameters"
   ]
  },
  {
   "cell_type": "code",
   "execution_count": 4,
   "id": "ffd15ad1",
   "metadata": {},
   "outputs": [],
   "source": [
    "parameter_file = 'hyperparameter_pickle_files/parameters436.pickle'"
   ]
  },
  {
   "cell_type": "code",
   "execution_count": 5,
   "id": "be9edd55",
   "metadata": {},
   "outputs": [],
   "source": [
    "experiment = re.sub('.pickle',\n",
    "                    '',\n",
    "                    re.sub('hyperparameter_pickle_files/parameters',\n",
    "                           '',\n",
    "                           parameter_file\n",
    "                          )\n",
    "                   )\n",
    "experiment  = experiment + '_vessel_class'\n",
    "#set_experiment(\"TBI_UNet_adam_optimizer\")"
   ]
  },
  {
   "cell_type": "code",
   "execution_count": 6,
   "id": "5829208e",
   "metadata": {},
   "outputs": [
    {
     "data": {
      "text/plain": [
       "'436_vessel_class'"
      ]
     },
     "execution_count": 6,
     "metadata": {},
     "output_type": "execute_result"
    }
   ],
   "source": [
    "experiment"
   ]
  },
  {
   "cell_type": "code",
   "execution_count": 7,
   "id": "72a34ed2",
   "metadata": {},
   "outputs": [],
   "source": [
    "with open(parameter_file, 'rb') as handle:\n",
    "    params = pickle.load(handle)\n",
    "params[\"batch_size\"] = 1\n",
    "params['crop_size'] = (128,128,128)"
   ]
  },
  {
   "cell_type": "code",
   "execution_count": 8,
   "id": "c2f94a48",
   "metadata": {},
   "outputs": [],
   "source": [
    "for i in params.keys():\n",
    "    log_param(i,params[i])"
   ]
  },
  {
   "cell_type": "markdown",
   "id": "be85ed99",
   "metadata": {},
   "source": [
    "# setup directory to save enviornment"
   ]
  },
  {
   "cell_type": "code",
   "execution_count": 9,
   "id": "8ae47144",
   "metadata": {},
   "outputs": [
    {
     "name": "stdout",
     "output_type": "stream",
     "text": [
      "[Errno 17] File exists: 'training_models/436_vessel_class'\n",
      "training_models/436_vessel_class\n"
     ]
    }
   ],
   "source": [
    "directory = re.sub('.pickle',\n",
    "                   '',\n",
    "                   re.sub('hyperparameter_pickle_files/parameters',\n",
    "                          'training_models/',\n",
    "                           parameter_file\n",
    "                         )\n",
    "                  )\n",
    "directory = directory + '_vessel_class'\n",
    "try:\n",
    "    os.mkdir(directory)\n",
    "except OSError as error:\n",
    "    print(error) \n",
    "#log_artifacts(directory)\n",
    "print(directory)"
   ]
  },
  {
   "cell_type": "code",
   "execution_count": 10,
   "id": "a5d8fe56",
   "metadata": {},
   "outputs": [
    {
     "data": {
      "text/plain": [
       "'training_models/436_vessel_class'"
      ]
     },
     "execution_count": 10,
     "metadata": {},
     "output_type": "execute_result"
    }
   ],
   "source": [
    "directory"
   ]
  },
  {
   "cell_type": "markdown",
   "id": "9529c608",
   "metadata": {},
   "source": [
    "# get train and validate data"
   ]
  },
  {
   "cell_type": "code",
   "execution_count": 11,
   "id": "b589c4d2",
   "metadata": {},
   "outputs": [],
   "source": [
    "#make list of data dictionaries\n",
    "train_labels_path = Path('../TBI/PV-cap sep model/')#labels path\n",
    "train_labels = list(train_labels_path.glob('*_sub1.tiff'))#get label images\n",
    "train_labels = sorted([x.as_posix() for x in train_labels])#sort\n",
    "train_images = [re.sub(\"_Simple Segmentation_sub1.tiff\",\"_withOutput.tif\",i) for i in train_labels]\n",
    "train_images_paths = [Path(i) for i in train_images]\n",
    "#combine images and labels into monai dictionary format\n",
    "data_dicts = [\n",
    "    {\"image\":image_name, \"label\":label_name}\n",
    "    for image_name, label_name in zip(train_images,train_labels)\n",
    "]\n"
   ]
  },
  {
   "cell_type": "code",
   "execution_count": 12,
   "id": "5b26e338",
   "metadata": {},
   "outputs": [
    {
     "data": {
      "text/plain": [
       "[{'image': '../TBI/PV-cap sep model/XYZres018_0001_withOutput.tif',\n",
       "  'label': '../TBI/PV-cap sep model/XYZres018_0001_Simple Segmentation_sub1.tiff'},\n",
       " {'image': '../TBI/PV-cap sep model/XYZres032_withOutput.tif',\n",
       "  'label': '../TBI/PV-cap sep model/XYZres032_Simple Segmentation_sub1.tiff'},\n",
       " {'image': '../TBI/PV-cap sep model/XYZres037_withOutput.tif',\n",
       "  'label': '../TBI/PV-cap sep model/XYZres037_Simple Segmentation_sub1.tiff'},\n",
       " {'image': '../TBI/PV-cap sep model/XYZres042_0001_withOutput.tif',\n",
       "  'label': '../TBI/PV-cap sep model/XYZres042_0001_Simple Segmentation_sub1.tiff'},\n",
       " {'image': '../TBI/PV-cap sep model/XYZres050_withOutput.tif',\n",
       "  'label': '../TBI/PV-cap sep model/XYZres050_Simple Segmentation_sub1.tiff'}]"
      ]
     },
     "execution_count": 12,
     "metadata": {},
     "output_type": "execute_result"
    }
   ],
   "source": [
    "data_dicts"
   ]
  },
  {
   "cell_type": "code",
   "execution_count": 26,
   "id": "467b7923",
   "metadata": {},
   "outputs": [
    {
     "name": "stdout",
     "output_type": "stream",
     "text": [
      "[[PosixPath('../TBI/raw/vbm09 Mar 28 2020/XYZres037.tif')], [PosixPath('../TBI/raw/vbm05 Feb 28 2020/XYZres018_0001.tif')], [PosixPath('../TBI/raw/vbm08 Mar 27 2020/XYZres032.tif')], [PosixPath('../TBI/raw/vbm11 Apr 04 2020/XYZres050.tif')], [PosixPath('../TBI/raw/vbm10 Apr 03 2020/XYZres042_0001.tif')]]\n",
      "[PosixPath('../TBI/raw/vbm05 Feb 28 2020/XYZres018_0001.tif'), PosixPath('../TBI/raw/vbm08 Mar 27 2020/XYZres032.tif'), PosixPath('../TBI/raw/vbm09 Mar 28 2020/XYZres037.tif'), PosixPath('../TBI/raw/vbm10 Apr 03 2020/XYZres042_0001.tif'), PosixPath('../TBI/raw/vbm11 Apr 04 2020/XYZres050.tif')]\n"
     ]
    }
   ],
   "source": [
    "mouse_ids_path = Path('../TBI/raw')#each mouse has its own folder with raw data in it\n",
    "mouse_ids = list(mouse_ids_path.glob('*'))#grab molder names/mouse ids\n",
    "images = sorted([y.name for y in train_images_paths])#sort\n",
    "#get mouse id corresponding to each image i have labels for\n",
    "mouse_ids_with_raw_tiff = []\n",
    "for i in mouse_ids:\n",
    "    for j in images:\n",
    "        j = re.sub('_withOutput','',j)\n",
    "        if len(list(i.glob(j))) !=0:\n",
    "            mouse_ids_with_raw_tiff.append(list(i.glob(j)))\n",
    "print(mouse_ids_with_raw_tiff)\n",
    "#flatten the list and sort\n",
    "mouse_ids_with_raw_tiff_flat = [item for sublist in mouse_ids_with_raw_tiff for item in sublist]\n",
    "mouse_ids_with_raw_tiff_flat = sorted(mouse_ids_with_raw_tiff_flat)\n",
    "print(mouse_ids_with_raw_tiff_flat)"
   ]
  },
  {
   "cell_type": "code",
   "execution_count": 17,
   "id": "ea683f3a",
   "metadata": {},
   "outputs": [
    {
     "data": {
      "text/plain": [
       "['XYZres018_0001_withOutput.tif',\n",
       " 'XYZres032_withOutput.tif',\n",
       " 'XYZres037_withOutput.tif',\n",
       " 'XYZres042_0001_withOutput.tif',\n",
       " 'XYZres050_withOutput.tif']"
      ]
     },
     "execution_count": 17,
     "metadata": {},
     "output_type": "execute_result"
    }
   ],
   "source": [
    "images"
   ]
  },
  {
   "cell_type": "code",
   "execution_count": 27,
   "id": "bf680925",
   "metadata": {},
   "outputs": [],
   "source": [
    "#shuffle mouse ids for a 15/4/6 split train/val/test by mouse id\n",
    "mouse_ids_present = [i.parent.name for i in mouse_ids_with_raw_tiff_flat]\n",
    "mouse_ids_present = sorted(list(np.unique(mouse_ids_present)))\n",
    "np.random.seed(643)\n",
    "np.random.shuffle(mouse_ids_present)\n",
    "mouse_ids_present\n",
    "train = mouse_ids_present[:3]\n",
    "#log_param('train_set',' '.join(train))\n",
    "val = mouse_ids_present[-2:]\n",
    "#log_param('val_set',' '.join(val))\n",
    "test = mouse_ids_present[-2:]"
   ]
  },
  {
   "cell_type": "code",
   "execution_count": 28,
   "id": "57bed3b3-a2bf-49d6-90a5-8d42c434caeb",
   "metadata": {},
   "outputs": [
    {
     "data": {
      "text/plain": [
       "['vbm05 Feb 28 2020', 'vbm08 Mar 27 2020', 'vbm10 Apr 03 2020']"
      ]
     },
     "execution_count": 28,
     "metadata": {},
     "output_type": "execute_result"
    }
   ],
   "source": [
    "train"
   ]
  },
  {
   "cell_type": "code",
   "execution_count": 29,
   "id": "fd484eaf",
   "metadata": {},
   "outputs": [
    {
     "data": {
      "text/plain": [
       "['vbm05 Feb 28 2020',\n",
       " 'vbm08 Mar 27 2020',\n",
       " 'vbm10 Apr 03 2020',\n",
       " 'vbm09 Mar 28 2020',\n",
       " 'vbm11 Apr 04 2020']"
      ]
     },
     "execution_count": 29,
     "metadata": {},
     "output_type": "execute_result"
    }
   ],
   "source": [
    "mouse_ids_present"
   ]
  },
  {
   "cell_type": "code",
   "execution_count": 38,
   "id": "d36479b9",
   "metadata": {},
   "outputs": [],
   "source": [
    "train_files = []\n",
    "val_files = []\n",
    "test_files = []\n",
    "for i in train:\n",
    "    for j in mouse_ids_with_raw_tiff_flat:\n",
    "        if i in j.as_posix():\n",
    "            for k in data_dicts:\n",
    "                if re.sub(\".tif\",\"_withOutput.tif\",j.name) in k[\"image\"]:\n",
    "                    train_files.append(k)\n",
    "for i in val:\n",
    "    for j in mouse_ids_with_raw_tiff_flat:\n",
    "        if i in j.as_posix():\n",
    "            for k in data_dicts:\n",
    "                if re.sub(\".tif\",\"_withOutput.tif\",j.name) in k[\"image\"]:\n",
    "                    val_files.append(k)\n",
    "for i in test:\n",
    "    for j in mouse_ids_with_raw_tiff_flat:\n",
    "        if i in j.as_posix():\n",
    "            for k in data_dicts:\n",
    "                if re.sub(\".tif\",\"_withOutput.tif\",j.name) in k[\"image\"]:\n",
    "                    test_files.append(k)"
   ]
  },
  {
   "cell_type": "code",
   "execution_count": 39,
   "id": "b7ae723c",
   "metadata": {},
   "outputs": [
    {
     "data": {
      "text/plain": [
       "[{'image': '../TBI/PV-cap sep model/XYZres018_0001_withOutput.tif',\n",
       "  'label': '../TBI/PV-cap sep model/XYZres018_0001_Simple Segmentation_sub1.tiff'},\n",
       " {'image': '../TBI/PV-cap sep model/XYZres032_withOutput.tif',\n",
       "  'label': '../TBI/PV-cap sep model/XYZres032_Simple Segmentation_sub1.tiff'},\n",
       " {'image': '../TBI/PV-cap sep model/XYZres042_0001_withOutput.tif',\n",
       "  'label': '../TBI/PV-cap sep model/XYZres042_0001_Simple Segmentation_sub1.tiff'}]"
      ]
     },
     "execution_count": 39,
     "metadata": {},
     "output_type": "execute_result"
    }
   ],
   "source": [
    "train_files"
   ]
  },
  {
   "cell_type": "markdown",
   "id": "4b57ca85",
   "metadata": {},
   "source": [
    "# Set deterministic training for reproducability"
   ]
  },
  {
   "cell_type": "code",
   "execution_count": 40,
   "id": "d67cb676",
   "metadata": {},
   "outputs": [],
   "source": [
    "set_determinism(seed=12)"
   ]
  },
  {
   "cell_type": "markdown",
   "id": "450e78a1",
   "metadata": {},
   "source": [
    "## Setup transforms for training and validation\n",
    "\n",
    "Here we use several transforms to augment the dataset:\n",
    "1. `LoadImaged` loads the spleen CT images and labels from NIfTI format files.\n",
    "1. `AddChanneld` as the original data doesn't have channel dim, add 1 dim to construct \"channel first\" shape.\n",
    "1. `Spacingd` adjusts the spacing by `pixdim=(1.5, 1.5, 2.)` based on the affine matrix.\n",
    "1. `Orientationd` unifies the data orientation based on the affine matrix.\n",
    "1. `ScaleIntensityRanged` extracts intensity range [-57, 164] and scales to [0, 1].\n",
    "1. `CropForegroundd` removes all zero borders to focus on the valid body area of the images and labels.\n",
    "1. `RandCropByPosNegLabeld` randomly crop patch samples from big image based on pos / neg ratio.  \n",
    "The image centers of negative samples must be in valid body area.\n",
    "1. `RandAffined` efficiently performs `rotate`, `scale`, `shear`, `translate`, etc. together based on PyTorch affine transform.\n",
    "1. `EnsureTyped` converts the numpy array to PyTorch Tensor for further steps."
   ]
  },
  {
   "cell_type": "code",
   "execution_count": 41,
   "id": "826a3fc7",
   "metadata": {},
   "outputs": [],
   "source": [
    "train_transforms = Compose(\n",
    "    [\n",
    "        LoadImaged(keys=[\"image\", \"label\"], reader = TIFFReader(channel_dim = 0)),\n",
    "        EnsureChannelFirstd(keys=[\"image\", \"label\"]),\n",
    "        Spacingd(keys=[\"image\", \"label\"], pixdim=(\n",
    "            1.01, 1.01, 0.3787), mode=(\"bilinear\", \"nearest\")),\n",
    "        Orientationd(keys=[\"image\", \"label\"], axcodes=\"RAS\"),\n",
    "        ScaleIntensityRanged(\n",
    "            keys=[\"image\"], a_min=0, a_max=1024,\n",
    "            b_min=0.0, b_max=1.0, clip=True,\n",
    "        ),\n",
    "        AsDiscreted(keys=\"label\",\n",
    "                   rounding='torchrounding',\n",
    "                   to_onehot=True),\n",
    "        #random cropping\n",
    "        RandSpatialCropSamplesd(\n",
    "            keys=['image','label'],\n",
    "            num_samples = 4,#params['N_crops'],\n",
    "            roi_size = params['crop_size'],\n",
    "            random_size = False\n",
    "        ),\n",
    "        #Deformation_transforms\n",
    "        OneOf(transforms=[Rand3DElasticd(keys = [\"image\",\"label\"],\n",
    "                                        sigma_range = params['Rand3DElasticd_sigma_range'],\n",
    "                                        magnitude_range = params['Rand3DElasticd_magnitude_range'],\n",
    "                                        prob = params[\"deformation_transforms_prob\"],\n",
    "                                        mode = [\"bilinear\",\"nearest\"]),\n",
    "                          RandGridDistortiond(keys = [\"image\",\"label\"],\n",
    "                                             num_cells = params['RandGridDistortiond_num_cells'],\n",
    "                                             prob = params[\"deformation_transforms_prob\"],\n",
    "                                             distort_limit = params['RandGridDistortiond_distort_limit'],\n",
    "                                             mode = [\"bilinear\",\"nearest\"]\n",
    "                                             )\n",
    "                         ]\n",
    "             ),\n",
    "        #Intensity_Transforms\n",
    "        OneOf(transforms = [RandShiftIntensityd(keys = [\"image\"],\n",
    "                                                offsets = params['RandShiftIntensityd_offsets'],\n",
    "                                                prob = params[\"intensity_transform_probability\"]),\n",
    "                            RandAdjustContrastd(keys = [\"image\"],\n",
    "                                                prob = params[\"intensity_transform_probability\"],\n",
    "                                                gamma = params['RandAdjustContrastd_gamma']),\n",
    "                            RandHistogramShiftd(keys = [\"image\"],\n",
    "                                                prob = params[\"intensity_transform_probability\"],\n",
    "                                                num_control_points = params['RandHistogramShiftd_num_control_points'])\n",
    "                           ]\n",
    "             ),\n",
    "        #Gaussian_Transforms\n",
    "        OneOf(transforms = [RandGaussianSharpend(keys = [\"image\"],\n",
    "                                                 prob = params[\"gaussian_transform_probability\"]),\n",
    "                            RandGaussianSmoothd(keys = [\"image\"],\n",
    "                                                prob = params[\"gaussian_transform_probability\"]),\n",
    "                            RandGaussianNoised(keys = [\"image\"],\n",
    "                                               prob = params[\"gaussian_transform_probability\"],\n",
    "                                               mean = params['RandGaussianNoised_mean'],\n",
    "                                               std = params['RandGaussianNoised_std'])\n",
    "                           ]\n",
    "             ),\n",
    "        #rottion+flip_transforms\n",
    "        RandRotate90d(\n",
    "            keys = [\"image\", \"label\"],\n",
    "            prob = params['rotation_flip_transforms_probability'],\n",
    "            max_k = 3,\n",
    "            spatial_axes=(0,1)\n",
    "        ),\n",
    "        RandFlipd(\n",
    "            keys = [\"image\", \"label\"],\n",
    "            spatial_axis = [0],\n",
    "            prob = params['rotation_flip_transforms_probability'],\n",
    "        ),\n",
    "        RandFlipd(\n",
    "            keys = [\"image\", \"label\"],\n",
    "            spatial_axis = [1],\n",
    "            prob = params['rotation_flip_transforms_probability'],\n",
    "        ),\n",
    "        RandFlipd(\n",
    "            keys = [\"image\", \"label\"],\n",
    "            spatial_axis = [2],\n",
    "            prob = params['rotation_flip_transforms_probability'],\n",
    "        ),\n",
    "        #random affine\n",
    "        RandomAffine(\n",
    "            include=[\"image\", \"label\"], \n",
    "            p=params[\"RandomAffine_probability\"], \n",
    "            degrees=params[\"RandomAffine_degrees\"], \n",
    "            scales=params[\"RandomAffine_scales\"],\n",
    "            translation=params[\"RandomAffine_translation\"],\n",
    "            center='image'\n",
    "        ),\n",
    "        EnsureTyped(keys=[\"image\", \"label\"]),\n",
    "    ]\n",
    ")\n",
    "val_transforms = Compose(\n",
    "    [\n",
    "        LoadImaged(keys=[\"image\", \"label\"],reader = TIFFReader(channel_dim = 0)),\n",
    "        EnsureChannelFirstd(keys=[\"image\", \"label\"]),\n",
    "        Spacingd(keys=[\"image\", \"label\"], pixdim=(\n",
    "            1.01, 1.01, 0.3787), mode=(\"bilinear\", \"nearest\")),\n",
    "        ScaleIntensityRanged(\n",
    "            keys=[\"image\"], a_min=0, a_max=1024,\n",
    "            b_min=0.0, b_max=1.0, clip=True,\n",
    "        ),\n",
    "        AsDiscreted(keys=\"label\",\n",
    "                   rounding='torchrounding',\n",
    "                   to_onehot=True),\n",
    "        EnsureTyped(keys=[\"image\", \"label\"]),\n",
    "    ]\n",
    ")"
   ]
  },
  {
   "cell_type": "markdown",
   "id": "3104ebdd",
   "metadata": {},
   "source": [
    "# Check transforms in DataLoader"
   ]
  },
  {
   "cell_type": "code",
   "execution_count": 42,
   "id": "cae63422",
   "metadata": {},
   "outputs": [
    {
     "name": "stdout",
     "output_type": "stream",
     "text": [
      "image shape: torch.Size([5, 507, 507, 252]), label shape: torch.Size([1, 507, 507, 252])\n"
     ]
    },
    {
     "ename": "TypeError",
     "evalue": "Invalid shape (507, 507, 6) for image data",
     "output_type": "error",
     "traceback": [
      "\u001b[0;31m---------------------------------------------------------------------------\u001b[0m",
      "\u001b[0;31mTypeError\u001b[0m                                 Traceback (most recent call last)",
      "\u001b[0;32m/tmp/ipykernel_1322126/1951983017.py\u001b[0m in \u001b[0;36m<module>\u001b[0;34m\u001b[0m\n\u001b[1;32m     11\u001b[0m \u001b[0mimg2\u001b[0m \u001b[0;34m=\u001b[0m \u001b[0mimg2\u001b[0m\u001b[0;34m.\u001b[0m\u001b[0mcpu\u001b[0m\u001b[0;34m(\u001b[0m\u001b[0;34m)\u001b[0m\u001b[0;34m.\u001b[0m\u001b[0mdetach\u001b[0m\u001b[0;34m(\u001b[0m\u001b[0;34m)\u001b[0m\u001b[0;34m.\u001b[0m\u001b[0mnumpy\u001b[0m\u001b[0;34m(\u001b[0m\u001b[0;34m)\u001b[0m\u001b[0;34m\u001b[0m\u001b[0;34m\u001b[0m\u001b[0m\n\u001b[1;32m     12\u001b[0m \u001b[0mimg2\u001b[0m \u001b[0;34m=\u001b[0m \u001b[0mnp\u001b[0m\u001b[0;34m.\u001b[0m\u001b[0mappend\u001b[0m\u001b[0;34m(\u001b[0m\u001b[0mimg2\u001b[0m\u001b[0;34m,\u001b[0m\u001b[0mnp\u001b[0m\u001b[0;34m.\u001b[0m\u001b[0mzeros\u001b[0m\u001b[0;34m(\u001b[0m\u001b[0;34m(\u001b[0m\u001b[0;36m507\u001b[0m\u001b[0;34m,\u001b[0m\u001b[0;36m507\u001b[0m\u001b[0;34m,\u001b[0m\u001b[0;36m1\u001b[0m\u001b[0;34m)\u001b[0m\u001b[0;34m)\u001b[0m\u001b[0;34m,\u001b[0m \u001b[0maxis\u001b[0m\u001b[0;34m=\u001b[0m\u001b[0;36m2\u001b[0m\u001b[0;34m)\u001b[0m\u001b[0;34m/\u001b[0m\u001b[0mnp\u001b[0m\u001b[0;34m.\u001b[0m\u001b[0mmax\u001b[0m\u001b[0;34m(\u001b[0m\u001b[0mimg2\u001b[0m\u001b[0;34m)\u001b[0m\u001b[0;34m\u001b[0m\u001b[0;34m\u001b[0m\u001b[0m\n\u001b[0;32m---> 13\u001b[0;31m \u001b[0mplt\u001b[0m\u001b[0;34m.\u001b[0m\u001b[0mimshow\u001b[0m\u001b[0;34m(\u001b[0m\u001b[0mimg2\u001b[0m\u001b[0;34m,\u001b[0m \u001b[0mcmap\u001b[0m\u001b[0;34m=\u001b[0m\u001b[0;34m\"gray\"\u001b[0m\u001b[0;34m)\u001b[0m\u001b[0;34m\u001b[0m\u001b[0;34m\u001b[0m\u001b[0m\n\u001b[0m\u001b[1;32m     14\u001b[0m \u001b[0mplt\u001b[0m\u001b[0;34m.\u001b[0m\u001b[0msubplot\u001b[0m\u001b[0;34m(\u001b[0m\u001b[0;36m1\u001b[0m\u001b[0;34m,\u001b[0m \u001b[0;36m2\u001b[0m\u001b[0;34m,\u001b[0m \u001b[0;36m2\u001b[0m\u001b[0;34m)\u001b[0m\u001b[0;34m\u001b[0m\u001b[0;34m\u001b[0m\u001b[0m\n\u001b[1;32m     15\u001b[0m \u001b[0mplt\u001b[0m\u001b[0;34m.\u001b[0m\u001b[0mtitle\u001b[0m\u001b[0;34m(\u001b[0m\u001b[0;34m\"label\"\u001b[0m\u001b[0;34m)\u001b[0m\u001b[0;34m\u001b[0m\u001b[0;34m\u001b[0m\u001b[0m\n",
      "\u001b[0;32m/lustre06/project/6023374/rozakmat/monai3.8/lib/python3.8/site-packages/matplotlib/pyplot.py\u001b[0m in \u001b[0;36mimshow\u001b[0;34m(X, cmap, norm, aspect, interpolation, alpha, vmin, vmax, origin, extent, filternorm, filterrad, resample, url, data, **kwargs)\u001b[0m\n\u001b[1;32m   2901\u001b[0m         \u001b[0mfilternorm\u001b[0m\u001b[0;34m=\u001b[0m\u001b[0;32mTrue\u001b[0m\u001b[0;34m,\u001b[0m \u001b[0mfilterrad\u001b[0m\u001b[0;34m=\u001b[0m\u001b[0;36m4.0\u001b[0m\u001b[0;34m,\u001b[0m \u001b[0mresample\u001b[0m\u001b[0;34m=\u001b[0m\u001b[0;32mNone\u001b[0m\u001b[0;34m,\u001b[0m \u001b[0murl\u001b[0m\u001b[0;34m=\u001b[0m\u001b[0;32mNone\u001b[0m\u001b[0;34m,\u001b[0m\u001b[0;34m\u001b[0m\u001b[0;34m\u001b[0m\u001b[0m\n\u001b[1;32m   2902\u001b[0m         data=None, **kwargs):\n\u001b[0;32m-> 2903\u001b[0;31m     __ret = gca().imshow(\n\u001b[0m\u001b[1;32m   2904\u001b[0m         \u001b[0mX\u001b[0m\u001b[0;34m,\u001b[0m \u001b[0mcmap\u001b[0m\u001b[0;34m=\u001b[0m\u001b[0mcmap\u001b[0m\u001b[0;34m,\u001b[0m \u001b[0mnorm\u001b[0m\u001b[0;34m=\u001b[0m\u001b[0mnorm\u001b[0m\u001b[0;34m,\u001b[0m \u001b[0maspect\u001b[0m\u001b[0;34m=\u001b[0m\u001b[0maspect\u001b[0m\u001b[0;34m,\u001b[0m\u001b[0;34m\u001b[0m\u001b[0;34m\u001b[0m\u001b[0m\n\u001b[1;32m   2905\u001b[0m         \u001b[0minterpolation\u001b[0m\u001b[0;34m=\u001b[0m\u001b[0minterpolation\u001b[0m\u001b[0;34m,\u001b[0m \u001b[0malpha\u001b[0m\u001b[0;34m=\u001b[0m\u001b[0malpha\u001b[0m\u001b[0;34m,\u001b[0m \u001b[0mvmin\u001b[0m\u001b[0;34m=\u001b[0m\u001b[0mvmin\u001b[0m\u001b[0;34m,\u001b[0m\u001b[0;34m\u001b[0m\u001b[0;34m\u001b[0m\u001b[0m\n",
      "\u001b[0;32m/lustre06/project/6023374/rozakmat/monai3.8/lib/python3.8/site-packages/matplotlib/__init__.py\u001b[0m in \u001b[0;36minner\u001b[0;34m(ax, data, *args, **kwargs)\u001b[0m\n\u001b[1;32m   1359\u001b[0m     \u001b[0;32mdef\u001b[0m \u001b[0minner\u001b[0m\u001b[0;34m(\u001b[0m\u001b[0max\u001b[0m\u001b[0;34m,\u001b[0m \u001b[0;34m*\u001b[0m\u001b[0margs\u001b[0m\u001b[0;34m,\u001b[0m \u001b[0mdata\u001b[0m\u001b[0;34m=\u001b[0m\u001b[0;32mNone\u001b[0m\u001b[0;34m,\u001b[0m \u001b[0;34m**\u001b[0m\u001b[0mkwargs\u001b[0m\u001b[0;34m)\u001b[0m\u001b[0;34m:\u001b[0m\u001b[0;34m\u001b[0m\u001b[0;34m\u001b[0m\u001b[0m\n\u001b[1;32m   1360\u001b[0m         \u001b[0;32mif\u001b[0m \u001b[0mdata\u001b[0m \u001b[0;32mis\u001b[0m \u001b[0;32mNone\u001b[0m\u001b[0;34m:\u001b[0m\u001b[0;34m\u001b[0m\u001b[0;34m\u001b[0m\u001b[0m\n\u001b[0;32m-> 1361\u001b[0;31m             \u001b[0;32mreturn\u001b[0m \u001b[0mfunc\u001b[0m\u001b[0;34m(\u001b[0m\u001b[0max\u001b[0m\u001b[0;34m,\u001b[0m \u001b[0;34m*\u001b[0m\u001b[0mmap\u001b[0m\u001b[0;34m(\u001b[0m\u001b[0msanitize_sequence\u001b[0m\u001b[0;34m,\u001b[0m \u001b[0margs\u001b[0m\u001b[0;34m)\u001b[0m\u001b[0;34m,\u001b[0m \u001b[0;34m**\u001b[0m\u001b[0mkwargs\u001b[0m\u001b[0;34m)\u001b[0m\u001b[0;34m\u001b[0m\u001b[0;34m\u001b[0m\u001b[0m\n\u001b[0m\u001b[1;32m   1362\u001b[0m \u001b[0;34m\u001b[0m\u001b[0m\n\u001b[1;32m   1363\u001b[0m         \u001b[0mbound\u001b[0m \u001b[0;34m=\u001b[0m \u001b[0mnew_sig\u001b[0m\u001b[0;34m.\u001b[0m\u001b[0mbind\u001b[0m\u001b[0;34m(\u001b[0m\u001b[0max\u001b[0m\u001b[0;34m,\u001b[0m \u001b[0;34m*\u001b[0m\u001b[0margs\u001b[0m\u001b[0;34m,\u001b[0m \u001b[0;34m**\u001b[0m\u001b[0mkwargs\u001b[0m\u001b[0;34m)\u001b[0m\u001b[0;34m\u001b[0m\u001b[0;34m\u001b[0m\u001b[0m\n",
      "\u001b[0;32m/lustre06/project/6023374/rozakmat/monai3.8/lib/python3.8/site-packages/matplotlib/axes/_axes.py\u001b[0m in \u001b[0;36mimshow\u001b[0;34m(self, X, cmap, norm, aspect, interpolation, alpha, vmin, vmax, origin, extent, filternorm, filterrad, resample, url, **kwargs)\u001b[0m\n\u001b[1;32m   5607\u001b[0m                               resample=resample, **kwargs)\n\u001b[1;32m   5608\u001b[0m \u001b[0;34m\u001b[0m\u001b[0m\n\u001b[0;32m-> 5609\u001b[0;31m         \u001b[0mim\u001b[0m\u001b[0;34m.\u001b[0m\u001b[0mset_data\u001b[0m\u001b[0;34m(\u001b[0m\u001b[0mX\u001b[0m\u001b[0;34m)\u001b[0m\u001b[0;34m\u001b[0m\u001b[0;34m\u001b[0m\u001b[0m\n\u001b[0m\u001b[1;32m   5610\u001b[0m         \u001b[0mim\u001b[0m\u001b[0;34m.\u001b[0m\u001b[0mset_alpha\u001b[0m\u001b[0;34m(\u001b[0m\u001b[0malpha\u001b[0m\u001b[0;34m)\u001b[0m\u001b[0;34m\u001b[0m\u001b[0;34m\u001b[0m\u001b[0m\n\u001b[1;32m   5611\u001b[0m         \u001b[0;32mif\u001b[0m \u001b[0mim\u001b[0m\u001b[0;34m.\u001b[0m\u001b[0mget_clip_path\u001b[0m\u001b[0;34m(\u001b[0m\u001b[0;34m)\u001b[0m \u001b[0;32mis\u001b[0m \u001b[0;32mNone\u001b[0m\u001b[0;34m:\u001b[0m\u001b[0;34m\u001b[0m\u001b[0;34m\u001b[0m\u001b[0m\n",
      "\u001b[0;32m/lustre06/project/6023374/rozakmat/monai3.8/lib/python3.8/site-packages/matplotlib/image.py\u001b[0m in \u001b[0;36mset_data\u001b[0;34m(self, A)\u001b[0m\n\u001b[1;32m    707\u001b[0m         if not (self._A.ndim == 2\n\u001b[1;32m    708\u001b[0m                 or self._A.ndim == 3 and self._A.shape[-1] in [3, 4]):\n\u001b[0;32m--> 709\u001b[0;31m             raise TypeError(\"Invalid shape {} for image data\"\n\u001b[0m\u001b[1;32m    710\u001b[0m                             .format(self._A.shape))\n\u001b[1;32m    711\u001b[0m \u001b[0;34m\u001b[0m\u001b[0m\n",
      "\u001b[0;31mTypeError\u001b[0m: Invalid shape (507, 507, 6) for image data"
     ]
    },
    {
     "data": {
      "image/png": "[encoded data removed]",
      "text/plain": [
       "<Figure size 864x432 with 1 Axes>"
      ]
     },
     "metadata": {
      "needs_background": "light"
     },
     "output_type": "display_data"
    }
   ],
   "source": [
    "check_ds = Dataset(data=val_files, transform=val_transforms)\n",
    "check_loader = DataLoader(check_ds, batch_size=1)\n",
    "check_data = first(check_loader)\n",
    "image, label = (check_data[\"image\"][0], check_data[\"label\"][0])\n",
    "print(f\"image shape: {image.shape}, label shape: {label.shape}\")\n",
    "# plot the slice [ :, 80]\n",
    "plt.figure(\"check\", (12, 6))\n",
    "plt.subplot(1, 2, 1)\n",
    "plt.title(\"image\")\n",
    "img2 = torch.transpose(image[:,:, :, 80],0,2)\n",
    "img2 = img2.cpu().detach().numpy()\n",
    "img2 = np.append(img2,np.zeros((507,507,1)), axis=2)/np.max(img2)\n",
    "plt.imshow(img2, cmap=\"gray\")\n",
    "plt.subplot(1, 2, 2)\n",
    "plt.title(\"label\")\n",
    "img3 = torch.transpose(label[:,:, :, 80],0,2)\n",
    "img3 = img3.cpu().detach().numpy()\n",
    "plt.imshow(img3)\n",
    "plt.show()\n"
   ]
  },
  {
   "cell_type": "code",
   "execution_count": 22,
   "id": "e70d499e",
   "metadata": {},
   "outputs": [
    {
     "data": {
      "text/plain": [
       "tensor([[[[0., 0., 0.,  ..., 0., 0., 0.],\n",
       "          [0., 0., 0.,  ..., 0., 0., 0.],\n",
       "          [0., 0., 0.,  ..., 0., 0., 0.],\n",
       "          ...,\n",
       "          [0., 0., 0.,  ..., 0., 0., 0.],\n",
       "          [0., 0., 0.,  ..., 0., 0., 0.],\n",
       "          [0., 0., 0.,  ..., 0., 0., 0.]],\n",
       "\n",
       "         [[0., 0., 0.,  ..., 0., 0., 0.],\n",
       "          [0., 0., 0.,  ..., 0., 0., 0.],\n",
       "          [0., 0., 0.,  ..., 0., 0., 0.],\n",
       "          ...,\n",
       "          [0., 0., 0.,  ..., 0., 0., 0.],\n",
       "          [0., 0., 0.,  ..., 0., 0., 0.],\n",
       "          [0., 0., 0.,  ..., 0., 0., 0.]],\n",
       "\n",
       "         [[0., 0., 0.,  ..., 0., 0., 0.],\n",
       "          [0., 0., 0.,  ..., 0., 0., 0.],\n",
       "          [0., 0., 0.,  ..., 0., 0., 0.],\n",
       "          ...,\n",
       "          [0., 0., 0.,  ..., 0., 0., 0.],\n",
       "          [0., 0., 0.,  ..., 0., 0., 0.],\n",
       "          [0., 0., 0.,  ..., 0., 0., 0.]],\n",
       "\n",
       "         ...,\n",
       "\n",
       "         [[0., 0., 0.,  ..., 0., 0., 0.],\n",
       "          [0., 0., 0.,  ..., 0., 0., 0.],\n",
       "          [0., 0., 0.,  ..., 0., 0., 0.],\n",
       "          ...,\n",
       "          [0., 0., 0.,  ..., 0., 0., 0.],\n",
       "          [0., 0., 0.,  ..., 0., 0., 0.],\n",
       "          [0., 0., 0.,  ..., 0., 0., 0.]],\n",
       "\n",
       "         [[0., 0., 0.,  ..., 0., 0., 0.],\n",
       "          [0., 0., 0.,  ..., 0., 0., 0.],\n",
       "          [0., 0., 0.,  ..., 0., 0., 0.],\n",
       "          ...,\n",
       "          [0., 0., 0.,  ..., 0., 0., 0.],\n",
       "          [0., 0., 0.,  ..., 0., 0., 0.],\n",
       "          [0., 0., 0.,  ..., 0., 0., 0.]],\n",
       "\n",
       "         [[0., 0., 0.,  ..., 0., 0., 0.],\n",
       "          [0., 0., 0.,  ..., 0., 0., 0.],\n",
       "          [0., 0., 0.,  ..., 0., 0., 0.],\n",
       "          ...,\n",
       "          [0., 0., 0.,  ..., 0., 0., 0.],\n",
       "          [0., 0., 0.,  ..., 0., 0., 0.],\n",
       "          [0., 0., 0.,  ..., 0., 0., 0.]]]])"
      ]
     },
     "execution_count": 22,
     "metadata": {},
     "output_type": "execute_result"
    }
   ],
   "source": [
    "label"
   ]
  },
  {
   "cell_type": "markdown",
   "id": "958bed12",
   "metadata": {},
   "source": [
    "## Define CacheDataset and DataLoader for training and validation\n",
    "\n",
    "Here we use CacheDataset to accelerate training and validation process, it's 10x faster than the regular Dataset.  \n",
    "To achieve best performance, set `cache_rate=1.0` to cache all the data, if memory is not enough, set lower value.  \n",
    "Users can also set `cache_num` instead of `cache_rate`, will use the minimum value of the 2 settings.  \n",
    "And set `num_workers` to enable multi-threads during caching.  \n",
    "If want to to try the regular Dataset, just change to use the commented code below."
   ]
  },
  {
   "cell_type": "code",
   "execution_count": 43,
   "id": "8d151d5f",
   "metadata": {},
   "outputs": [
    {
     "name": "stdout",
     "output_type": "stream",
     "text": [
      "Fri Aug 12 13:30:25 2022       \n",
      "+-----------------------------------------------------------------------------+\n",
      "| NVIDIA-SMI 510.47.03    Driver Version: 510.47.03    CUDA Version: 11.6     |\n",
      "|-------------------------------+----------------------+----------------------+\n",
      "| GPU  Name        Persistence-M| Bus-Id        Disp.A | Volatile Uncorr. ECC |\n",
      "| Fan  Temp  Perf  Pwr:Usage/Cap|         Memory-Usage | GPU-Util  Compute M. |\n",
      "|                               |                      |               MIG M. |\n",
      "|===============================+======================+======================|\n",
      "|   0  NVIDIA A100-SXM...  Off  | 00000000:C1:00.0 Off |                    0 |\n",
      "| N/A   30C    P0    51W / 400W |      0MiB / 40960MiB |      0%      Default |\n",
      "|                               |                      |             Disabled |\n",
      "+-------------------------------+----------------------+----------------------+\n",
      "                                                                               \n",
      "+-----------------------------------------------------------------------------+\n",
      "| Processes:                                                                  |\n",
      "|  GPU   GI   CI        PID   Type   Process name                  GPU Memory |\n",
      "|        ID   ID                                                   Usage      |\n",
      "|=============================================================================|\n",
      "|  No running processes found                                                 |\n",
      "+-----------------------------------------------------------------------------+\n"
     ]
    }
   ],
   "source": [
    "!nvidia-smi"
   ]
  },
  {
   "cell_type": "code",
   "execution_count": 44,
   "id": "7afc0526",
   "metadata": {},
   "outputs": [],
   "source": [
    "#!ps aux | grep python"
   ]
  },
  {
   "cell_type": "code",
   "execution_count": 45,
   "id": "77c7a73b",
   "metadata": {},
   "outputs": [],
   "source": [
    "#!kill 58652316"
   ]
  },
  {
   "cell_type": "code",
   "execution_count": 46,
   "id": "e1f9b41c",
   "metadata": {},
   "outputs": [
    {
     "name": "stderr",
     "output_type": "stream",
     "text": [
      "Loading dataset: 100%|██████████| 3/3 [00:12<00:00,  4.27s/it]\n",
      "Loading dataset: 100%|██████████| 2/2 [00:12<00:00,  6.12s/it]\n"
     ]
    }
   ],
   "source": [
    "train_ds = CacheDataset(\n",
    "    data = train_files, \n",
    "    transform = train_transforms,\n",
    "    cache_rate = 1, \n",
    "    num_workers = 4\n",
    ")\n",
    "# use batch_size=2 to load images and use RandCropByPosNegLabeld\n",
    "# to generate 2 x 4 images for network training\n",
    "train_loader = DataLoader(\n",
    "    train_ds, \n",
    "    batch_size=params[\"batch_size\"], \n",
    "    shuffle=True, \n",
    "    num_workers=4\n",
    ")\n",
    "\n",
    "val_ds = CacheDataset(\n",
    "    data = val_files, \n",
    "    transform = val_transforms, \n",
    "    cache_rate = 1, \n",
    "    num_workers = 4\n",
    ")\n",
    "val_loader = DataLoader(\n",
    "    val_ds, \n",
    "    batch_size = 1, \n",
    "    num_workers = 4\n",
    ")\n",
    "\n",
    "#val_ds_deform = CacheDataset(\n",
    "#    data=val_files, transform=val_transforms_deform, cache_rate=1.0, num_workers=4)\n",
    "#val_loader_deform = DataLoader(val_ds_deform, batch_size=1, num_workers=4)"
   ]
  },
  {
   "cell_type": "markdown",
   "id": "3594f58c",
   "metadata": {},
   "source": [
    "# Create Model, Loss, Optimizer"
   ]
  },
  {
   "cell_type": "code",
   "execution_count": 27,
   "id": "b8d8b188",
   "metadata": {},
   "outputs": [],
   "source": [
    "# standard PyTorch program style: create UNet, DiceLoss and Adam optimizer\n",
    "#device = torch.device(\"cuda:0\")\n",
    "device = torch.device(\"cuda\" if torch.cuda.is_available() else \"cpu\")\n",
    "model = UNETR(\n",
    "    spatial_dims=3,\n",
    "    in_channels=2,\n",
    "    out_channels=4,\n",
    "    img_size = params['crop_size'],\n",
    "    feature_size = 16,\n",
    "    hidden_size = 768,\n",
    "    mlp_dim = 3072,\n",
    "    pos_embed = \"perceptron\",\n",
    "    res_block=True,\n",
    "    norm_name=\"instance\",\n",
    "    dropout_rate=params[\"dropout\"]\n",
    ")\n",
    "model = torch.nn.DataParallel(model)\n",
    "model.to(device)\n",
    "#model.load_state_dict(torch.load(\n",
    "#    os.path.join(directory, \"best_metric_model.pth\")))\n",
    "loss_function = params['loss_function']\n",
    "\n",
    "optimizer = params['optimizer'](params = model.parameters(), \n",
    "                                lr = 1e-5)#params['learning_rate'])\n",
    "dice_metric = DiceMetric(\n",
    "    include_background=False,\n",
    "    reduction=\"mean\"\n",
    ")\n",
    "#hausdorf_distance_metric = HausdorffDistanceMetric(include_background=False,\n",
    "#                                                   distance_metric='euclidean')"
   ]
  },
  {
   "cell_type": "markdown",
   "id": "1ee82911",
   "metadata": {},
   "source": [
    "# Execute a typical PyTorch training process"
   ]
  },
  {
   "cell_type": "code",
   "execution_count": null,
   "id": "e2d838c1",
   "metadata": {},
   "outputs": [
    {
     "name": "stderr",
     "output_type": "stream",
     "text": [
      "  0%|                                                                                                                                                  | 0/2000 [00:00<?, ?it/s]"
     ]
    },
    {
     "name": "stdout",
     "output_type": "stream",
     "text": [
      "----------\n",
      "epoch 1/2000\n",
      "1/3, train_loss: 2.4336\n",
      "2/3, train_loss: 2.4543\n"
     ]
    },
    {
     "name": "stderr",
     "output_type": "stream",
     "text": [
      "  0%|                                                                                                                                        | 1/2000 [00:13<7:40:41, 13.83s/it]"
     ]
    },
    {
     "name": "stdout",
     "output_type": "stream",
     "text": [
      "3/3, train_loss: 2.4497\n",
      "epoch 1 average loss: 2.4459\n",
      "----------\n",
      "epoch 2/2000\n",
      "1/3, train_loss: 2.4332\n",
      "2/3, train_loss: 2.4450\n",
      "3/3, train_loss: 2.4449\n",
      "epoch 2 average loss: 2.4410\n"
     ]
    },
    {
     "name": "stderr",
     "output_type": "stream",
     "text": [
      "  0%|▏                                                                                                                                      | 2/2000 [01:07<20:42:17, 37.31s/it]"
     ]
    },
    {
     "name": "stdout",
     "output_type": "stream",
     "text": [
      "saved new best metric model\n",
      "current epoch: 2 current mean dice: 0.0149\n",
      "best mean dice: 0.0149 at epoch: 2\n",
      "----------\n",
      "epoch 3/2000\n",
      "1/3, train_loss: 2.4144\n",
      "2/3, train_loss: 2.4627\n"
     ]
    },
    {
     "name": "stderr",
     "output_type": "stream",
     "text": [
      "  0%|▏                                                                                                                                      | 3/2000 [01:13<12:40:28, 22.85s/it]"
     ]
    },
    {
     "name": "stdout",
     "output_type": "stream",
     "text": [
      "3/3, train_loss: 2.4341\n",
      "epoch 3 average loss: 2.4370\n",
      "----------\n",
      "epoch 4/2000\n",
      "1/3, train_loss: 2.4261\n",
      "2/3, train_loss: 2.4144\n",
      "3/3, train_loss: 2.4144\n",
      "epoch 4 average loss: 2.4183\n"
     ]
    },
    {
     "name": "stderr",
     "output_type": "stream",
     "text": [
      "  0%|▎                                                                                                                                      | 4/2000 [02:07<19:33:03, 35.26s/it]"
     ]
    },
    {
     "name": "stdout",
     "output_type": "stream",
     "text": [
      "saved new best metric model\n",
      "current epoch: 4 current mean dice: 0.0149\n",
      "best mean dice: 0.0149 at epoch: 4\n",
      "----------\n",
      "epoch 5/2000\n",
      "1/3, train_loss: 2.4504\n",
      "2/3, train_loss: 2.4320\n"
     ]
    },
    {
     "name": "stderr",
     "output_type": "stream",
     "text": [
      "  0%|▎                                                                                                                                      | 5/2000 [02:12<13:29:09, 24.34s/it]"
     ]
    },
    {
     "name": "stdout",
     "output_type": "stream",
     "text": [
      "3/3, train_loss: 2.4071\n",
      "epoch 5 average loss: 2.4298\n",
      "----------\n",
      "epoch 6/2000\n",
      "1/3, train_loss: 2.4102\n",
      "2/3, train_loss: 2.4280\n",
      "3/3, train_loss: 2.4057\n",
      "epoch 6 average loss: 2.4146\n"
     ]
    },
    {
     "name": "stderr",
     "output_type": "stream",
     "text": [
      "  0%|▍                                                                                                                                      | 6/2000 [03:06<19:00:49, 34.33s/it]"
     ]
    },
    {
     "name": "stdout",
     "output_type": "stream",
     "text": [
      "saved new best metric model\n",
      "current epoch: 6 current mean dice: 0.0152\n",
      "best mean dice: 0.0152 at epoch: 6\n",
      "----------\n",
      "epoch 7/2000\n",
      "1/3, train_loss: 2.3513\n",
      "2/3, train_loss: 2.3915\n"
     ]
    },
    {
     "name": "stderr",
     "output_type": "stream",
     "text": [
      "  0%|▍                                                                                                                                      | 7/2000 [03:11<13:47:12, 24.90s/it]"
     ]
    },
    {
     "name": "stdout",
     "output_type": "stream",
     "text": [
      "3/3, train_loss: 2.3944\n",
      "epoch 7 average loss: 2.3790\n",
      "----------\n",
      "epoch 8/2000\n",
      "1/3, train_loss: 2.4110\n",
      "2/3, train_loss: 2.4208\n",
      "3/3, train_loss: 2.3825\n",
      "epoch 8 average loss: 2.4048\n"
     ]
    },
    {
     "name": "stderr",
     "output_type": "stream",
     "text": [
      "  0%|▌                                                                                                                                      | 8/2000 [04:06<18:59:27, 34.32s/it]"
     ]
    },
    {
     "name": "stdout",
     "output_type": "stream",
     "text": [
      "saved new best metric model\n",
      "current epoch: 8 current mean dice: 0.0156\n",
      "best mean dice: 0.0156 at epoch: 8\n",
      "----------\n",
      "epoch 9/2000\n",
      "1/3, train_loss: 2.4367\n",
      "2/3, train_loss: 2.3970\n"
     ]
    },
    {
     "name": "stderr",
     "output_type": "stream",
     "text": [
      "  0%|▌                                                                                                                                      | 9/2000 [04:10<13:52:10, 25.08s/it]"
     ]
    },
    {
     "name": "stdout",
     "output_type": "stream",
     "text": [
      "3/3, train_loss: 2.3999\n",
      "epoch 9 average loss: 2.4112\n",
      "----------\n",
      "epoch 10/2000\n",
      "1/3, train_loss: 2.3633\n",
      "2/3, train_loss: 2.3847\n",
      "3/3, train_loss: 2.3331\n",
      "epoch 10 average loss: 2.3604\n"
     ]
    },
    {
     "name": "stderr",
     "output_type": "stream",
     "text": [
      "  0%|▋                                                                                                                                     | 10/2000 [05:05<18:49:51, 34.07s/it]"
     ]
    },
    {
     "name": "stdout",
     "output_type": "stream",
     "text": [
      "saved new best metric model\n",
      "current epoch: 10 current mean dice: 0.0162\n",
      "best mean dice: 0.0162 at epoch: 10\n",
      "----------\n",
      "epoch 11/2000\n",
      "1/3, train_loss: 2.3953\n",
      "2/3, train_loss: 2.3784\n"
     ]
    },
    {
     "name": "stderr",
     "output_type": "stream",
     "text": [
      "  1%|▋                                                                                                                                     | 11/2000 [05:09<13:50:32, 25.05s/it]"
     ]
    },
    {
     "name": "stdout",
     "output_type": "stream",
     "text": [
      "3/3, train_loss: 2.3498\n",
      "epoch 11 average loss: 2.3745\n",
      "----------\n",
      "epoch 12/2000\n",
      "1/3, train_loss: 2.3729\n",
      "2/3, train_loss: 2.3683\n",
      "3/3, train_loss: 2.3495\n",
      "epoch 12 average loss: 2.3636\n"
     ]
    },
    {
     "name": "stderr",
     "output_type": "stream",
     "text": [
      "  1%|▊                                                                                                                                     | 12/2000 [06:03<18:42:46, 33.89s/it]"
     ]
    },
    {
     "name": "stdout",
     "output_type": "stream",
     "text": [
      "saved new best metric model\n",
      "current epoch: 12 current mean dice: 0.0172\n",
      "best mean dice: 0.0172 at epoch: 12\n",
      "----------\n",
      "epoch 13/2000\n",
      "1/3, train_loss: 2.3723\n",
      "2/3, train_loss: 2.3645\n"
     ]
    },
    {
     "name": "stderr",
     "output_type": "stream",
     "text": [
      "  1%|▊                                                                                                                                     | 13/2000 [06:09<13:56:33, 25.26s/it]"
     ]
    },
    {
     "name": "stdout",
     "output_type": "stream",
     "text": [
      "3/3, train_loss: 2.3541\n",
      "epoch 13 average loss: 2.3636\n",
      "----------\n",
      "epoch 14/2000\n",
      "1/3, train_loss: 2.3458\n",
      "2/3, train_loss: 2.3260\n",
      "3/3, train_loss: 2.3468\n",
      "epoch 14 average loss: 2.3395\n"
     ]
    },
    {
     "name": "stderr",
     "output_type": "stream",
     "text": [
      "  1%|▉                                                                                                                                     | 14/2000 [07:03<18:42:01, 33.90s/it]"
     ]
    },
    {
     "name": "stdout",
     "output_type": "stream",
     "text": [
      "saved new best metric model\n",
      "current epoch: 14 current mean dice: 0.0186\n",
      "best mean dice: 0.0186 at epoch: 14\n",
      "----------\n",
      "epoch 15/2000\n",
      "1/3, train_loss: 2.3310\n",
      "2/3, train_loss: 2.3122\n"
     ]
    },
    {
     "name": "stderr",
     "output_type": "stream",
     "text": [
      "  1%|█                                                                                                                                     | 15/2000 [07:08<14:01:53, 25.45s/it]"
     ]
    },
    {
     "name": "stdout",
     "output_type": "stream",
     "text": [
      "3/3, train_loss: 2.3428\n",
      "epoch 15 average loss: 2.3287\n",
      "----------\n",
      "epoch 16/2000\n",
      "1/3, train_loss: 2.3490\n",
      "2/3, train_loss: 2.3105\n",
      "3/3, train_loss: 2.3592\n",
      "epoch 16 average loss: 2.3396\n"
     ]
    },
    {
     "name": "stderr",
     "output_type": "stream",
     "text": [
      "  1%|█                                                                                                                                     | 16/2000 [08:03<18:55:38, 34.34s/it]"
     ]
    },
    {
     "name": "stdout",
     "output_type": "stream",
     "text": [
      "saved new best metric model\n",
      "current epoch: 16 current mean dice: 0.0205\n",
      "best mean dice: 0.0205 at epoch: 16\n",
      "----------\n",
      "epoch 17/2000\n",
      "1/3, train_loss: 2.3736\n",
      "2/3, train_loss: 2.3179\n"
     ]
    },
    {
     "name": "stderr",
     "output_type": "stream",
     "text": [
      "  1%|█▏                                                                                                                                    | 17/2000 [08:10<14:14:57, 25.87s/it]"
     ]
    },
    {
     "name": "stdout",
     "output_type": "stream",
     "text": [
      "3/3, train_loss: 2.3137\n",
      "epoch 17 average loss: 2.3351\n",
      "----------\n",
      "epoch 18/2000\n",
      "1/3, train_loss: 2.3137\n",
      "2/3, train_loss: 2.3171\n",
      "3/3, train_loss: 2.3471\n",
      "epoch 18 average loss: 2.3259\n"
     ]
    },
    {
     "name": "stderr",
     "output_type": "stream",
     "text": [
      "  1%|█▏                                                                                                                                    | 18/2000 [09:05<19:11:10, 34.85s/it]"
     ]
    },
    {
     "name": "stdout",
     "output_type": "stream",
     "text": [
      "saved new best metric model\n",
      "current epoch: 18 current mean dice: 0.0226\n",
      "best mean dice: 0.0226 at epoch: 18\n",
      "----------\n",
      "epoch 19/2000\n",
      "1/3, train_loss: 2.3163\n",
      "2/3, train_loss: 2.2917\n"
     ]
    },
    {
     "name": "stderr",
     "output_type": "stream",
     "text": [
      "  1%|█▎                                                                                                                                    | 19/2000 [09:11<14:23:52, 26.16s/it]"
     ]
    },
    {
     "name": "stdout",
     "output_type": "stream",
     "text": [
      "3/3, train_loss: 2.2912\n",
      "epoch 19 average loss: 2.2998\n",
      "----------\n",
      "epoch 20/2000\n",
      "1/3, train_loss: 2.2984\n",
      "2/3, train_loss: 2.2873\n",
      "3/3, train_loss: 2.3374\n",
      "epoch 20 average loss: 2.3077\n"
     ]
    },
    {
     "name": "stderr",
     "output_type": "stream",
     "text": [
      "  1%|█▎                                                                                                                                    | 20/2000 [10:06<19:04:25, 34.68s/it]"
     ]
    },
    {
     "name": "stdout",
     "output_type": "stream",
     "text": [
      "saved new best metric model\n",
      "current epoch: 20 current mean dice: 0.0254\n",
      "best mean dice: 0.0254 at epoch: 20\n",
      "----------\n",
      "epoch 21/2000\n",
      "1/3, train_loss: 2.2440\n",
      "2/3, train_loss: 2.3143\n"
     ]
    },
    {
     "name": "stderr",
     "output_type": "stream",
     "text": [
      "  1%|█▍                                                                                                                                    | 21/2000 [10:11<14:13:20, 25.87s/it]"
     ]
    },
    {
     "name": "stdout",
     "output_type": "stream",
     "text": [
      "3/3, train_loss: 2.3331\n",
      "epoch 21 average loss: 2.2971\n",
      "----------\n",
      "epoch 22/2000\n",
      "1/3, train_loss: 2.3280\n",
      "2/3, train_loss: 2.2988\n",
      "3/3, train_loss: 2.3432\n",
      "epoch 22 average loss: 2.3233\n"
     ]
    },
    {
     "name": "stderr",
     "output_type": "stream",
     "text": [
      "  1%|█▍                                                                                                                                    | 22/2000 [11:05<18:49:40, 34.27s/it]"
     ]
    },
    {
     "name": "stdout",
     "output_type": "stream",
     "text": [
      "saved new best metric model\n",
      "current epoch: 22 current mean dice: 0.0285\n",
      "best mean dice: 0.0285 at epoch: 22\n",
      "----------\n",
      "epoch 23/2000\n",
      "1/3, train_loss: 2.3280\n",
      "2/3, train_loss: 2.2820\n"
     ]
    },
    {
     "name": "stderr",
     "output_type": "stream",
     "text": [
      "  1%|█▌                                                                                                                                    | 23/2000 [11:10<14:04:10, 25.62s/it]"
     ]
    },
    {
     "name": "stdout",
     "output_type": "stream",
     "text": [
      "3/3, train_loss: 2.2894\n",
      "epoch 23 average loss: 2.2998\n",
      "----------\n",
      "epoch 24/2000\n",
      "1/3, train_loss: 2.3229\n",
      "2/3, train_loss: 2.2741\n",
      "3/3, train_loss: 2.2760\n",
      "epoch 24 average loss: 2.2910\n"
     ]
    },
    {
     "name": "stderr",
     "output_type": "stream",
     "text": [
      "  1%|█▌                                                                                                                                    | 24/2000 [12:05<18:45:35, 34.18s/it]"
     ]
    },
    {
     "name": "stdout",
     "output_type": "stream",
     "text": [
      "saved new best metric model\n",
      "current epoch: 24 current mean dice: 0.0318\n",
      "best mean dice: 0.0318 at epoch: 24\n",
      "----------\n",
      "epoch 25/2000\n",
      "1/3, train_loss: 2.2498\n",
      "2/3, train_loss: 2.2826\n"
     ]
    },
    {
     "name": "stderr",
     "output_type": "stream",
     "text": [
      "  1%|█▋                                                                                                                                    | 25/2000 [12:09<13:55:03, 25.37s/it]"
     ]
    },
    {
     "name": "stdout",
     "output_type": "stream",
     "text": [
      "3/3, train_loss: 2.3124\n",
      "epoch 25 average loss: 2.2816\n",
      "----------\n",
      "epoch 26/2000\n",
      "1/3, train_loss: 2.2762\n",
      "2/3, train_loss: 2.3028\n",
      "3/3, train_loss: 2.3074\n",
      "epoch 26 average loss: 2.2955\n"
     ]
    },
    {
     "name": "stderr",
     "output_type": "stream",
     "text": [
      "  1%|█▋                                                                                                                                    | 26/2000 [13:04<18:41:31, 34.09s/it]"
     ]
    },
    {
     "name": "stdout",
     "output_type": "stream",
     "text": [
      "saved new best metric model\n",
      "current epoch: 26 current mean dice: 0.0357\n",
      "best mean dice: 0.0357 at epoch: 26\n",
      "----------\n",
      "epoch 27/2000\n",
      "1/3, train_loss: 2.2386\n",
      "2/3, train_loss: 2.2255\n"
     ]
    },
    {
     "name": "stderr",
     "output_type": "stream",
     "text": [
      "  1%|█▊                                                                                                                                    | 27/2000 [13:09<13:51:07, 25.27s/it]"
     ]
    },
    {
     "name": "stdout",
     "output_type": "stream",
     "text": [
      "3/3, train_loss: 2.2648\n",
      "epoch 27 average loss: 2.2430\n",
      "----------\n",
      "epoch 28/2000\n",
      "1/3, train_loss: 2.2824\n",
      "2/3, train_loss: 2.2466\n",
      "3/3, train_loss: 2.2467\n",
      "epoch 28 average loss: 2.2586\n"
     ]
    },
    {
     "name": "stderr",
     "output_type": "stream",
     "text": [
      "  1%|█▉                                                                                                                                    | 28/2000 [14:02<18:24:58, 33.62s/it]"
     ]
    },
    {
     "name": "stdout",
     "output_type": "stream",
     "text": [
      "saved new best metric model\n",
      "current epoch: 28 current mean dice: 0.0397\n",
      "best mean dice: 0.0397 at epoch: 28\n",
      "----------\n",
      "epoch 29/2000\n",
      "1/3, train_loss: 2.2915\n",
      "2/3, train_loss: 2.2510\n"
     ]
    },
    {
     "name": "stderr",
     "output_type": "stream",
     "text": [
      "  1%|█▉                                                                                                                                    | 29/2000 [14:07<13:46:35, 25.16s/it]"
     ]
    },
    {
     "name": "stdout",
     "output_type": "stream",
     "text": [
      "3/3, train_loss: 2.2530\n",
      "epoch 29 average loss: 2.2651\n",
      "----------\n",
      "epoch 30/2000\n",
      "1/3, train_loss: 2.2642\n",
      "2/3, train_loss: 2.2552\n",
      "3/3, train_loss: 2.2363\n",
      "epoch 30 average loss: 2.2519\n"
     ]
    },
    {
     "name": "stderr",
     "output_type": "stream",
     "text": [
      "  2%|██                                                                                                                                    | 30/2000 [15:03<18:44:31, 34.25s/it]"
     ]
    },
    {
     "name": "stdout",
     "output_type": "stream",
     "text": [
      "saved new best metric model\n",
      "current epoch: 30 current mean dice: 0.0433\n",
      "best mean dice: 0.0433 at epoch: 30\n",
      "----------\n",
      "epoch 31/2000\n",
      "1/3, train_loss: 2.2573\n",
      "2/3, train_loss: 2.2670\n"
     ]
    },
    {
     "name": "stderr",
     "output_type": "stream",
     "text": [
      "  2%|██                                                                                                                                    | 31/2000 [15:07<13:52:18, 25.36s/it]"
     ]
    },
    {
     "name": "stdout",
     "output_type": "stream",
     "text": [
      "3/3, train_loss: 2.2501\n",
      "epoch 31 average loss: 2.2581\n",
      "----------\n",
      "epoch 32/2000\n",
      "1/3, train_loss: 2.2327\n",
      "2/3, train_loss: 2.2435\n",
      "3/3, train_loss: 2.2640\n",
      "epoch 32 average loss: 2.2467\n"
     ]
    },
    {
     "name": "stderr",
     "output_type": "stream",
     "text": [
      "  2%|██▏                                                                                                                                   | 32/2000 [16:02<18:37:40, 34.08s/it]"
     ]
    },
    {
     "name": "stdout",
     "output_type": "stream",
     "text": [
      "saved new best metric model\n",
      "current epoch: 32 current mean dice: 0.0471\n",
      "best mean dice: 0.0471 at epoch: 32\n",
      "----------\n",
      "epoch 33/2000\n",
      "1/3, train_loss: 2.2013\n",
      "2/3, train_loss: 2.2229\n"
     ]
    },
    {
     "name": "stderr",
     "output_type": "stream",
     "text": [
      "  2%|██▏                                                                                                                                   | 33/2000 [16:07<13:53:57, 25.44s/it]"
     ]
    },
    {
     "name": "stdout",
     "output_type": "stream",
     "text": [
      "3/3, train_loss: 2.2227\n",
      "epoch 33 average loss: 2.2157\n",
      "----------\n",
      "epoch 34/2000\n",
      "1/3, train_loss: 2.2299\n",
      "2/3, train_loss: 2.1986\n",
      "3/3, train_loss: 2.2503\n",
      "epoch 34 average loss: 2.2263\n"
     ]
    },
    {
     "name": "stderr",
     "output_type": "stream",
     "text": [
      "  2%|██▎                                                                                                                                   | 34/2000 [17:03<18:56:03, 34.67s/it]"
     ]
    },
    {
     "name": "stdout",
     "output_type": "stream",
     "text": [
      "saved new best metric model\n",
      "current epoch: 34 current mean dice: 0.0510\n",
      "best mean dice: 0.0510 at epoch: 34\n",
      "----------\n",
      "epoch 35/2000\n",
      "1/3, train_loss: 2.2217\n",
      "2/3, train_loss: 2.2281\n"
     ]
    },
    {
     "name": "stderr",
     "output_type": "stream",
     "text": [
      "  2%|██▎                                                                                                                                   | 35/2000 [17:09<14:08:15, 25.90s/it]"
     ]
    },
    {
     "name": "stdout",
     "output_type": "stream",
     "text": [
      "3/3, train_loss: 2.2656\n",
      "epoch 35 average loss: 2.2385\n",
      "----------\n",
      "epoch 36/2000\n",
      "1/3, train_loss: 2.2485\n",
      "2/3, train_loss: 2.2645\n",
      "3/3, train_loss: 2.2076\n",
      "epoch 36 average loss: 2.2402\n"
     ]
    },
    {
     "name": "stderr",
     "output_type": "stream",
     "text": [
      "  2%|██▍                                                                                                                                   | 36/2000 [18:03<18:51:30, 34.57s/it]"
     ]
    },
    {
     "name": "stdout",
     "output_type": "stream",
     "text": [
      "saved new best metric model\n",
      "current epoch: 36 current mean dice: 0.0545\n",
      "best mean dice: 0.0545 at epoch: 36\n",
      "----------\n",
      "epoch 37/2000\n",
      "1/3, train_loss: 2.2209\n",
      "2/3, train_loss: 2.2146\n"
     ]
    },
    {
     "name": "stderr",
     "output_type": "stream",
     "text": [
      "  2%|██▍                                                                                                                                   | 37/2000 [18:09<14:05:36, 25.85s/it]"
     ]
    },
    {
     "name": "stdout",
     "output_type": "stream",
     "text": [
      "3/3, train_loss: 2.2037\n",
      "epoch 37 average loss: 2.2131\n",
      "----------\n",
      "epoch 38/2000\n",
      "1/3, train_loss: 2.2062\n",
      "2/3, train_loss: 2.1757\n",
      "3/3, train_loss: 2.2244\n",
      "epoch 38 average loss: 2.2021\n"
     ]
    },
    {
     "name": "stderr",
     "output_type": "stream",
     "text": [
      "  2%|██▌                                                                                                                                   | 38/2000 [19:04<18:51:24, 34.60s/it]"
     ]
    },
    {
     "name": "stdout",
     "output_type": "stream",
     "text": [
      "saved new best metric model\n",
      "current epoch: 38 current mean dice: 0.0583\n",
      "best mean dice: 0.0583 at epoch: 38\n",
      "----------\n",
      "epoch 39/2000\n",
      "1/3, train_loss: 2.1926\n",
      "2/3, train_loss: 2.2063\n"
     ]
    },
    {
     "name": "stderr",
     "output_type": "stream",
     "text": [
      "  2%|██▌                                                                                                                                   | 39/2000 [19:09<14:04:13, 25.83s/it]"
     ]
    },
    {
     "name": "stdout",
     "output_type": "stream",
     "text": [
      "3/3, train_loss: 2.2248\n",
      "epoch 39 average loss: 2.2079\n",
      "----------\n",
      "epoch 40/2000\n",
      "1/3, train_loss: 2.2368\n",
      "2/3, train_loss: 2.1849\n",
      "3/3, train_loss: 2.1616\n",
      "epoch 40 average loss: 2.1944\n"
     ]
    },
    {
     "name": "stderr",
     "output_type": "stream",
     "text": [
      "  2%|██▋                                                                                                                                   | 40/2000 [20:05<18:58:32, 34.85s/it]"
     ]
    },
    {
     "name": "stdout",
     "output_type": "stream",
     "text": [
      "saved new best metric model\n",
      "current epoch: 40 current mean dice: 0.0628\n",
      "best mean dice: 0.0628 at epoch: 40\n",
      "----------\n",
      "epoch 41/2000\n",
      "1/3, train_loss: 2.1775\n",
      "2/3, train_loss: 2.2028\n"
     ]
    },
    {
     "name": "stderr",
     "output_type": "stream",
     "text": [
      "  2%|██▋                                                                                                                                   | 41/2000 [20:09<13:59:31, 25.71s/it]"
     ]
    },
    {
     "name": "stdout",
     "output_type": "stream",
     "text": [
      "3/3, train_loss: 2.2305\n",
      "epoch 41 average loss: 2.2036\n",
      "----------\n",
      "epoch 42/2000\n",
      "1/3, train_loss: 2.1920\n",
      "2/3, train_loss: 2.1582\n",
      "3/3, train_loss: 2.1950\n",
      "epoch 42 average loss: 2.1817\n"
     ]
    },
    {
     "name": "stderr",
     "output_type": "stream",
     "text": [
      "  2%|██▊                                                                                                                                   | 42/2000 [21:05<18:54:28, 34.76s/it]"
     ]
    },
    {
     "name": "stdout",
     "output_type": "stream",
     "text": [
      "saved new best metric model\n",
      "current epoch: 42 current mean dice: 0.0675\n",
      "best mean dice: 0.0675 at epoch: 42\n",
      "----------\n",
      "epoch 43/2000\n",
      "1/3, train_loss: 2.1745\n",
      "2/3, train_loss: 2.1746\n"
     ]
    },
    {
     "name": "stderr",
     "output_type": "stream",
     "text": [
      "  2%|██▉                                                                                                                                   | 43/2000 [21:09<13:53:15, 25.55s/it]"
     ]
    },
    {
     "name": "stdout",
     "output_type": "stream",
     "text": [
      "3/3, train_loss: 2.1672\n",
      "epoch 43 average loss: 2.1721\n",
      "----------\n",
      "epoch 44/2000\n",
      "1/3, train_loss: 2.1698\n",
      "2/3, train_loss: 2.1637\n",
      "3/3, train_loss: 2.2213\n",
      "epoch 44 average loss: 2.1849\n"
     ]
    },
    {
     "name": "stderr",
     "output_type": "stream",
     "text": [
      "  2%|██▉                                                                                                                                   | 44/2000 [22:05<18:47:41, 34.59s/it]"
     ]
    },
    {
     "name": "stdout",
     "output_type": "stream",
     "text": [
      "saved new best metric model\n",
      "current epoch: 44 current mean dice: 0.0726\n",
      "best mean dice: 0.0726 at epoch: 44\n",
      "----------\n",
      "epoch 45/2000\n",
      "1/3, train_loss: 2.2389\n",
      "2/3, train_loss: 2.2196\n"
     ]
    },
    {
     "name": "stderr",
     "output_type": "stream",
     "text": [
      "  2%|███                                                                                                                                   | 45/2000 [22:11<14:02:03, 25.84s/it]"
     ]
    },
    {
     "name": "stdout",
     "output_type": "stream",
     "text": [
      "3/3, train_loss: 2.1807\n",
      "epoch 45 average loss: 2.2130\n",
      "----------\n",
      "epoch 46/2000\n",
      "1/3, train_loss: 2.1815\n",
      "2/3, train_loss: 2.1500\n",
      "3/3, train_loss: 2.1342\n",
      "epoch 46 average loss: 2.1552\n"
     ]
    },
    {
     "name": "stderr",
     "output_type": "stream",
     "text": [
      "  2%|███                                                                                                                                   | 46/2000 [23:06<18:47:50, 34.63s/it]"
     ]
    },
    {
     "name": "stdout",
     "output_type": "stream",
     "text": [
      "saved new best metric model\n",
      "current epoch: 46 current mean dice: 0.0770\n",
      "best mean dice: 0.0770 at epoch: 46\n",
      "----------\n",
      "epoch 47/2000\n",
      "1/3, train_loss: 2.1834\n",
      "2/3, train_loss: 2.2137\n"
     ]
    },
    {
     "name": "stderr",
     "output_type": "stream",
     "text": [
      "  2%|███▏                                                                                                                                  | 47/2000 [23:10<13:55:13, 25.66s/it]"
     ]
    },
    {
     "name": "stdout",
     "output_type": "stream",
     "text": [
      "3/3, train_loss: 2.1539\n",
      "epoch 47 average loss: 2.1837\n",
      "----------\n",
      "epoch 48/2000\n",
      "1/3, train_loss: 2.1757\n",
      "2/3, train_loss: 2.2014\n",
      "3/3, train_loss: 2.1687\n",
      "epoch 48 average loss: 2.1819\n"
     ]
    },
    {
     "name": "stderr",
     "output_type": "stream",
     "text": [
      "  2%|███▏                                                                                                                                  | 48/2000 [24:07<18:54:40, 34.88s/it]"
     ]
    },
    {
     "name": "stdout",
     "output_type": "stream",
     "text": [
      "saved new best metric model\n",
      "current epoch: 48 current mean dice: 0.0818\n",
      "best mean dice: 0.0818 at epoch: 48\n",
      "----------\n",
      "epoch 49/2000\n",
      "1/3, train_loss: 2.1479\n",
      "2/3, train_loss: 2.1762\n"
     ]
    },
    {
     "name": "stderr",
     "output_type": "stream",
     "text": [
      "  2%|███▎                                                                                                                                  | 49/2000 [24:13<14:16:29, 26.34s/it]"
     ]
    },
    {
     "name": "stdout",
     "output_type": "stream",
     "text": [
      "3/3, train_loss: 2.1478\n",
      "epoch 49 average loss: 2.1573\n",
      "----------\n",
      "epoch 50/2000\n",
      "1/3, train_loss: 2.1530\n",
      "2/3, train_loss: 2.1572\n",
      "3/3, train_loss: 2.1193\n",
      "epoch 50 average loss: 2.1432\n"
     ]
    },
    {
     "name": "stderr",
     "output_type": "stream",
     "text": [
      "  2%|███▎                                                                                                                                  | 50/2000 [25:09<19:01:54, 35.14s/it]"
     ]
    },
    {
     "name": "stdout",
     "output_type": "stream",
     "text": [
      "saved new best metric model\n",
      "current epoch: 50 current mean dice: 0.0868\n",
      "best mean dice: 0.0868 at epoch: 50\n",
      "----------\n",
      "epoch 51/2000\n",
      "1/3, train_loss: 2.1168\n",
      "2/3, train_loss: 2.1356\n"
     ]
    },
    {
     "name": "stderr",
     "output_type": "stream",
     "text": [
      "  3%|███▍                                                                                                                                  | 51/2000 [25:13<14:01:24, 25.90s/it]"
     ]
    },
    {
     "name": "stdout",
     "output_type": "stream",
     "text": [
      "3/3, train_loss: 2.2104\n",
      "epoch 51 average loss: 2.1542\n",
      "----------\n",
      "epoch 52/2000\n",
      "1/3, train_loss: 2.1371\n",
      "2/3, train_loss: 2.1474\n",
      "3/3, train_loss: 2.1221\n",
      "epoch 52 average loss: 2.1355\n"
     ]
    },
    {
     "name": "stderr",
     "output_type": "stream",
     "text": [
      "  3%|███▍                                                                                                                                  | 52/2000 [26:09<18:47:39, 34.73s/it]"
     ]
    },
    {
     "name": "stdout",
     "output_type": "stream",
     "text": [
      "saved new best metric model\n",
      "current epoch: 52 current mean dice: 0.0916\n",
      "best mean dice: 0.0916 at epoch: 52\n",
      "----------\n",
      "epoch 53/2000\n",
      "1/3, train_loss: 2.1344\n",
      "2/3, train_loss: 2.1836\n"
     ]
    },
    {
     "name": "stderr",
     "output_type": "stream",
     "text": [
      "  3%|███▌                                                                                                                                  | 53/2000 [26:14<14:00:32, 25.90s/it]"
     ]
    },
    {
     "name": "stdout",
     "output_type": "stream",
     "text": [
      "3/3, train_loss: 2.1378\n",
      "epoch 53 average loss: 2.1519\n",
      "----------\n",
      "epoch 54/2000\n",
      "1/3, train_loss: 2.0949\n",
      "2/3, train_loss: 2.1539\n",
      "3/3, train_loss: 2.1200\n",
      "epoch 54 average loss: 2.1230\n"
     ]
    },
    {
     "name": "stderr",
     "output_type": "stream",
     "text": [
      "  3%|███▌                                                                                                                                  | 54/2000 [27:09<18:44:31, 34.67s/it]"
     ]
    },
    {
     "name": "stdout",
     "output_type": "stream",
     "text": [
      "saved new best metric model\n",
      "current epoch: 54 current mean dice: 0.0976\n",
      "best mean dice: 0.0976 at epoch: 54\n",
      "----------\n",
      "epoch 55/2000\n",
      "1/3, train_loss: 2.1728\n",
      "2/3, train_loss: 2.1635\n"
     ]
    },
    {
     "name": "stderr",
     "output_type": "stream",
     "text": [
      "  3%|███▋                                                                                                                                  | 55/2000 [27:15<14:02:48, 26.00s/it]"
     ]
    },
    {
     "name": "stdout",
     "output_type": "stream",
     "text": [
      "3/3, train_loss: 2.1551\n",
      "epoch 55 average loss: 2.1638\n",
      "----------\n",
      "epoch 56/2000\n",
      "1/3, train_loss: 2.1182\n",
      "2/3, train_loss: 2.1511\n",
      "3/3, train_loss: 2.1559\n",
      "epoch 56 average loss: 2.1417\n"
     ]
    },
    {
     "name": "stderr",
     "output_type": "stream",
     "text": [
      "  3%|███▊                                                                                                                                  | 56/2000 [28:10<18:45:30, 34.74s/it]"
     ]
    },
    {
     "name": "stdout",
     "output_type": "stream",
     "text": [
      "saved new best metric model\n",
      "current epoch: 56 current mean dice: 0.1047\n",
      "best mean dice: 0.1047 at epoch: 56\n",
      "----------\n",
      "epoch 57/2000\n",
      "1/3, train_loss: 2.1469\n",
      "2/3, train_loss: 2.1272\n"
     ]
    },
    {
     "name": "stderr",
     "output_type": "stream",
     "text": [
      "  3%|███▊                                                                                                                                  | 57/2000 [28:16<14:05:56, 26.12s/it]"
     ]
    },
    {
     "name": "stdout",
     "output_type": "stream",
     "text": [
      "3/3, train_loss: 2.2025\n",
      "epoch 57 average loss: 2.1589\n",
      "----------\n",
      "epoch 58/2000\n",
      "1/3, train_loss: 2.0751\n",
      "2/3, train_loss: 2.1209\n",
      "3/3, train_loss: 2.1301\n",
      "epoch 58 average loss: 2.1087\n"
     ]
    },
    {
     "name": "stderr",
     "output_type": "stream",
     "text": [
      "  3%|███▉                                                                                                                                  | 58/2000 [29:11<18:50:04, 34.91s/it]"
     ]
    },
    {
     "name": "stdout",
     "output_type": "stream",
     "text": [
      "saved new best metric model\n",
      "current epoch: 58 current mean dice: 0.1106\n",
      "best mean dice: 0.1106 at epoch: 58\n",
      "----------\n",
      "epoch 59/2000\n",
      "1/3, train_loss: 2.1428\n",
      "2/3, train_loss: 2.1189\n"
     ]
    },
    {
     "name": "stderr",
     "output_type": "stream",
     "text": [
      "  3%|███▉                                                                                                                                  | 59/2000 [29:16<14:00:02, 25.97s/it]"
     ]
    },
    {
     "name": "stdout",
     "output_type": "stream",
     "text": [
      "3/3, train_loss: 2.1067\n",
      "epoch 59 average loss: 2.1228\n",
      "----------\n",
      "epoch 60/2000\n",
      "1/3, train_loss: 2.1355\n",
      "2/3, train_loss: 2.1040\n",
      "3/3, train_loss: 2.0918\n",
      "epoch 60 average loss: 2.1104\n"
     ]
    },
    {
     "name": "stderr",
     "output_type": "stream",
     "text": [
      "  3%|████                                                                                                                                  | 60/2000 [30:12<18:48:02, 34.89s/it]"
     ]
    },
    {
     "name": "stdout",
     "output_type": "stream",
     "text": [
      "saved new best metric model\n",
      "current epoch: 60 current mean dice: 0.1171\n",
      "best mean dice: 0.1171 at epoch: 60\n",
      "----------\n",
      "epoch 61/2000\n",
      "1/3, train_loss: 2.1700\n",
      "2/3, train_loss: 2.0923\n"
     ]
    },
    {
     "name": "stderr",
     "output_type": "stream",
     "text": [
      "  3%|████                                                                                                                                  | 61/2000 [30:18<14:05:45, 26.17s/it]"
     ]
    },
    {
     "name": "stdout",
     "output_type": "stream",
     "text": [
      "3/3, train_loss: 2.0662\n",
      "epoch 61 average loss: 2.1095\n",
      "----------\n",
      "epoch 62/2000\n",
      "1/3, train_loss: 2.1008\n",
      "2/3, train_loss: 2.1699\n",
      "3/3, train_loss: 2.0848\n",
      "epoch 62 average loss: 2.1185\n"
     ]
    },
    {
     "name": "stderr",
     "output_type": "stream",
     "text": [
      "  3%|████▏                                                                                                                                 | 62/2000 [31:13<18:43:05, 34.77s/it]"
     ]
    },
    {
     "name": "stdout",
     "output_type": "stream",
     "text": [
      "saved new best metric model\n",
      "current epoch: 62 current mean dice: 0.1233\n",
      "best mean dice: 0.1233 at epoch: 62\n",
      "----------\n",
      "epoch 63/2000\n",
      "1/3, train_loss: 2.0988\n",
      "2/3, train_loss: 2.0975\n"
     ]
    },
    {
     "name": "stderr",
     "output_type": "stream",
     "text": [
      "  3%|████▏                                                                                                                                 | 63/2000 [31:18<13:58:31, 25.97s/it]"
     ]
    },
    {
     "name": "stdout",
     "output_type": "stream",
     "text": [
      "3/3, train_loss: 2.1071\n",
      "epoch 63 average loss: 2.1011\n",
      "----------\n",
      "epoch 64/2000\n",
      "1/3, train_loss: 2.1622\n",
      "2/3, train_loss: 2.0482\n",
      "3/3, train_loss: 2.1084\n",
      "epoch 64 average loss: 2.1063\n"
     ]
    },
    {
     "name": "stderr",
     "output_type": "stream",
     "text": [
      "  3%|████▎                                                                                                                                 | 64/2000 [32:14<18:51:08, 35.06s/it]"
     ]
    },
    {
     "name": "stdout",
     "output_type": "stream",
     "text": [
      "saved new best metric model\n",
      "current epoch: 64 current mean dice: 0.1288\n",
      "best mean dice: 0.1288 at epoch: 64\n",
      "----------\n",
      "epoch 65/2000\n",
      "1/3, train_loss: 2.1348\n",
      "2/3, train_loss: 2.1229\n"
     ]
    },
    {
     "name": "stderr",
     "output_type": "stream",
     "text": [
      "  3%|████▎                                                                                                                                 | 65/2000 [32:20<14:04:10, 26.18s/it]"
     ]
    },
    {
     "name": "stdout",
     "output_type": "stream",
     "text": [
      "3/3, train_loss: 2.1251\n",
      "epoch 65 average loss: 2.1276\n",
      "----------\n",
      "epoch 66/2000\n",
      "1/3, train_loss: 2.1548\n",
      "2/3, train_loss: 2.0734\n",
      "3/3, train_loss: 2.0595\n",
      "epoch 66 average loss: 2.0959\n"
     ]
    },
    {
     "name": "stderr",
     "output_type": "stream",
     "text": [
      "  3%|████▍                                                                                                                                 | 66/2000 [33:16<18:57:22, 35.29s/it]"
     ]
    },
    {
     "name": "stdout",
     "output_type": "stream",
     "text": [
      "saved new best metric model\n",
      "current epoch: 66 current mean dice: 0.1339\n",
      "best mean dice: 0.1339 at epoch: 66\n",
      "----------\n",
      "epoch 67/2000\n",
      "1/3, train_loss: 2.0944\n",
      "2/3, train_loss: 2.0986\n"
     ]
    },
    {
     "name": "stderr",
     "output_type": "stream",
     "text": [
      "  3%|████▍                                                                                                                                 | 67/2000 [33:23<14:19:10, 26.67s/it]"
     ]
    },
    {
     "name": "stdout",
     "output_type": "stream",
     "text": [
      "3/3, train_loss: 2.0469\n",
      "epoch 67 average loss: 2.0800\n",
      "----------\n",
      "epoch 68/2000\n",
      "1/3, train_loss: 2.0873\n",
      "2/3, train_loss: 2.1232\n",
      "3/3, train_loss: 2.0293\n",
      "epoch 68 average loss: 2.0799\n"
     ]
    },
    {
     "name": "stderr",
     "output_type": "stream",
     "text": [
      "  3%|████▌                                                                                                                                 | 68/2000 [34:19<18:58:10, 35.35s/it]"
     ]
    },
    {
     "name": "stdout",
     "output_type": "stream",
     "text": [
      "saved new best metric model\n",
      "current epoch: 68 current mean dice: 0.1384\n",
      "best mean dice: 0.1384 at epoch: 68\n",
      "----------\n",
      "epoch 69/2000\n",
      "1/3, train_loss: 2.0602\n",
      "2/3, train_loss: 2.0785\n"
     ]
    },
    {
     "name": "stderr",
     "output_type": "stream",
     "text": [
      "  3%|████▌                                                                                                                                 | 69/2000 [34:23<13:59:31, 26.09s/it]"
     ]
    },
    {
     "name": "stdout",
     "output_type": "stream",
     "text": [
      "3/3, train_loss: 2.0383\n",
      "epoch 69 average loss: 2.0590\n",
      "----------\n",
      "epoch 70/2000\n",
      "1/3, train_loss: 2.1017\n",
      "2/3, train_loss: 2.1424\n",
      "3/3, train_loss: 2.0342\n",
      "epoch 70 average loss: 2.0928\n"
     ]
    },
    {
     "name": "stderr",
     "output_type": "stream",
     "text": [
      "  4%|████▋                                                                                                                                 | 70/2000 [35:18<18:35:25, 34.68s/it]"
     ]
    },
    {
     "name": "stdout",
     "output_type": "stream",
     "text": [
      "saved new best metric model\n",
      "current epoch: 70 current mean dice: 0.1432\n",
      "best mean dice: 0.1432 at epoch: 70\n",
      "----------\n",
      "epoch 71/2000\n",
      "1/3, train_loss: 2.0474\n",
      "2/3, train_loss: 2.0978\n"
     ]
    },
    {
     "name": "stderr",
     "output_type": "stream",
     "text": [
      "  4%|████▊                                                                                                                                 | 71/2000 [35:23<13:47:27, 25.74s/it]"
     ]
    },
    {
     "name": "stdout",
     "output_type": "stream",
     "text": [
      "3/3, train_loss: 2.0959\n",
      "epoch 71 average loss: 2.0804\n",
      "----------\n",
      "epoch 72/2000\n",
      "1/3, train_loss: 2.0709\n",
      "2/3, train_loss: 2.1129\n",
      "3/3, train_loss: 2.0366\n",
      "epoch 72 average loss: 2.0735\n"
     ]
    },
    {
     "name": "stderr",
     "output_type": "stream",
     "text": [
      "  4%|████▊                                                                                                                                 | 72/2000 [36:19<18:40:31, 34.87s/it]"
     ]
    },
    {
     "name": "stdout",
     "output_type": "stream",
     "text": [
      "saved new best metric model\n",
      "current epoch: 72 current mean dice: 0.1474\n",
      "best mean dice: 0.1474 at epoch: 72\n",
      "----------\n",
      "epoch 73/2000\n",
      "1/3, train_loss: 2.0921\n",
      "2/3, train_loss: 2.1404\n"
     ]
    },
    {
     "name": "stderr",
     "output_type": "stream",
     "text": [
      "  4%|████▉                                                                                                                                 | 73/2000 [36:25<14:01:21, 26.20s/it]"
     ]
    },
    {
     "name": "stdout",
     "output_type": "stream",
     "text": [
      "3/3, train_loss: 2.0709\n",
      "epoch 73 average loss: 2.1011\n",
      "----------\n",
      "epoch 74/2000\n",
      "1/3, train_loss: 2.0512\n",
      "2/3, train_loss: 2.0504\n",
      "3/3, train_loss: 2.0884\n",
      "epoch 74 average loss: 2.0633\n"
     ]
    },
    {
     "name": "stderr",
     "output_type": "stream",
     "text": [
      "  4%|████▉                                                                                                                                 | 74/2000 [37:20<18:41:30, 34.94s/it]"
     ]
    },
    {
     "name": "stdout",
     "output_type": "stream",
     "text": [
      "saved new best metric model\n",
      "current epoch: 74 current mean dice: 0.1511\n",
      "best mean dice: 0.1511 at epoch: 74\n",
      "----------\n",
      "epoch 75/2000\n",
      "1/3, train_loss: 2.0816\n",
      "2/3, train_loss: 2.0218\n"
     ]
    },
    {
     "name": "stderr",
     "output_type": "stream",
     "text": [
      "  4%|█████                                                                                                                                 | 75/2000 [37:27<14:06:51, 26.40s/it]"
     ]
    },
    {
     "name": "stdout",
     "output_type": "stream",
     "text": [
      "3/3, train_loss: 2.0563\n",
      "epoch 75 average loss: 2.0532\n",
      "----------\n",
      "epoch 76/2000\n",
      "1/3, train_loss: 2.0962\n",
      "2/3, train_loss: 2.0482\n",
      "3/3, train_loss: 2.0594\n",
      "epoch 76 average loss: 2.0679\n"
     ]
    },
    {
     "name": "stderr",
     "output_type": "stream",
     "text": [
      "  4%|█████                                                                                                                                 | 76/2000 [38:23<18:52:45, 35.33s/it]"
     ]
    },
    {
     "name": "stdout",
     "output_type": "stream",
     "text": [
      "saved new best metric model\n",
      "current epoch: 76 current mean dice: 0.1552\n",
      "best mean dice: 0.1552 at epoch: 76\n",
      "----------\n",
      "epoch 77/2000\n",
      "1/3, train_loss: 2.0616\n",
      "2/3, train_loss: 2.0601\n"
     ]
    },
    {
     "name": "stderr",
     "output_type": "stream",
     "text": [
      "  4%|█████▏                                                                                                                                | 77/2000 [38:28<13:59:59, 26.21s/it]"
     ]
    },
    {
     "name": "stdout",
     "output_type": "stream",
     "text": [
      "3/3, train_loss: 2.1241\n",
      "epoch 77 average loss: 2.0820\n",
      "----------\n",
      "epoch 78/2000\n",
      "1/3, train_loss: 2.1226\n",
      "2/3, train_loss: 2.0360\n",
      "3/3, train_loss: 2.0572\n",
      "epoch 78 average loss: 2.0720\n"
     ]
    },
    {
     "name": "stderr",
     "output_type": "stream",
     "text": [
      "  4%|█████▏                                                                                                                                | 78/2000 [39:24<18:43:22, 35.07s/it]"
     ]
    },
    {
     "name": "stdout",
     "output_type": "stream",
     "text": [
      "saved new best metric model\n",
      "current epoch: 78 current mean dice: 0.1581\n",
      "best mean dice: 0.1581 at epoch: 78\n",
      "----------\n",
      "epoch 79/2000\n",
      "1/3, train_loss: 2.0885\n",
      "2/3, train_loss: 2.1135\n"
     ]
    },
    {
     "name": "stderr",
     "output_type": "stream",
     "text": [
      "  4%|█████▎                                                                                                                                | 79/2000 [39:28<13:51:18, 25.96s/it]"
     ]
    },
    {
     "name": "stdout",
     "output_type": "stream",
     "text": [
      "3/3, train_loss: 2.0201\n",
      "epoch 79 average loss: 2.0741\n",
      "----------\n",
      "epoch 80/2000\n",
      "1/3, train_loss: 2.0741\n",
      "2/3, train_loss: 2.0438\n",
      "3/3, train_loss: 2.1231\n",
      "epoch 80 average loss: 2.0803\n"
     ]
    },
    {
     "name": "stderr",
     "output_type": "stream",
     "text": [
      "  4%|█████▎                                                                                                                                | 80/2000 [40:24<18:39:48, 34.99s/it]"
     ]
    },
    {
     "name": "stdout",
     "output_type": "stream",
     "text": [
      "saved new best metric model\n",
      "current epoch: 80 current mean dice: 0.1619\n",
      "best mean dice: 0.1619 at epoch: 80\n",
      "----------\n",
      "epoch 81/2000\n",
      "1/3, train_loss: 2.1082\n",
      "2/3, train_loss: 2.0261\n"
     ]
    },
    {
     "name": "stderr",
     "output_type": "stream",
     "text": [
      "  4%|█████▍                                                                                                                                | 81/2000 [40:30<13:54:06, 26.08s/it]"
     ]
    },
    {
     "name": "stdout",
     "output_type": "stream",
     "text": [
      "3/3, train_loss: 2.0224\n",
      "epoch 81 average loss: 2.0522\n",
      "----------\n",
      "epoch 82/2000\n",
      "1/3, train_loss: 2.0572\n",
      "2/3, train_loss: 2.0744\n",
      "3/3, train_loss: 2.0465\n",
      "epoch 82 average loss: 2.0594\n"
     ]
    },
    {
     "name": "stderr",
     "output_type": "stream",
     "text": [
      "  4%|█████▍                                                                                                                                | 82/2000 [41:26<18:41:52, 35.10s/it]"
     ]
    },
    {
     "name": "stdout",
     "output_type": "stream",
     "text": [
      "saved new best metric model\n",
      "current epoch: 82 current mean dice: 0.1654\n",
      "best mean dice: 0.1654 at epoch: 82\n",
      "----------\n",
      "epoch 83/2000\n",
      "1/3, train_loss: 2.0476\n",
      "2/3, train_loss: 2.0360\n"
     ]
    },
    {
     "name": "stderr",
     "output_type": "stream",
     "text": [
      "  4%|█████▌                                                                                                                                | 83/2000 [41:31<13:54:00, 26.10s/it]"
     ]
    },
    {
     "name": "stdout",
     "output_type": "stream",
     "text": [
      "3/3, train_loss: 2.0994\n",
      "epoch 83 average loss: 2.0610\n",
      "----------\n",
      "epoch 84/2000\n",
      "1/3, train_loss: 1.9684\n",
      "2/3, train_loss: 2.0695\n",
      "3/3, train_loss: 2.0498\n",
      "epoch 84 average loss: 2.0292\n"
     ]
    },
    {
     "name": "stderr",
     "output_type": "stream",
     "text": [
      "  4%|█████▋                                                                                                                                | 84/2000 [42:26<18:32:37, 34.84s/it]"
     ]
    },
    {
     "name": "stdout",
     "output_type": "stream",
     "text": [
      "saved new best metric model\n",
      "current epoch: 84 current mean dice: 0.1690\n",
      "best mean dice: 0.1690 at epoch: 84\n",
      "----------\n",
      "epoch 85/2000\n",
      "1/3, train_loss: 2.0698\n",
      "2/3, train_loss: 2.1104\n"
     ]
    },
    {
     "name": "stderr",
     "output_type": "stream",
     "text": [
      "  4%|█████▋                                                                                                                                | 85/2000 [42:31<13:48:14, 25.95s/it]"
     ]
    },
    {
     "name": "stdout",
     "output_type": "stream",
     "text": [
      "3/3, train_loss: 2.0340\n",
      "epoch 85 average loss: 2.0714\n",
      "----------\n",
      "epoch 86/2000\n",
      "1/3, train_loss: 2.0740\n",
      "2/3, train_loss: 2.0316\n",
      "3/3, train_loss: 2.0537\n",
      "epoch 86 average loss: 2.0531\n"
     ]
    },
    {
     "name": "stderr",
     "output_type": "stream",
     "text": [
      "  4%|█████▊                                                                                                                                | 86/2000 [43:29<18:48:36, 35.38s/it]"
     ]
    },
    {
     "name": "stdout",
     "output_type": "stream",
     "text": [
      "saved new best metric model\n",
      "current epoch: 86 current mean dice: 0.1720\n",
      "best mean dice: 0.1720 at epoch: 86\n",
      "----------\n",
      "epoch 87/2000\n",
      "1/3, train_loss: 2.0563\n",
      "2/3, train_loss: 2.1121\n"
     ]
    },
    {
     "name": "stderr",
     "output_type": "stream",
     "text": [
      "  4%|█████▊                                                                                                                                | 87/2000 [43:33<13:51:11, 26.07s/it]"
     ]
    },
    {
     "name": "stdout",
     "output_type": "stream",
     "text": [
      "3/3, train_loss: 2.0106\n",
      "epoch 87 average loss: 2.0597\n",
      "----------\n",
      "epoch 88/2000\n",
      "1/3, train_loss: 2.0457\n",
      "2/3, train_loss: 2.0710\n",
      "3/3, train_loss: 2.0422\n",
      "epoch 88 average loss: 2.0529\n"
     ]
    },
    {
     "name": "stderr",
     "output_type": "stream",
     "text": [
      "  4%|█████▉                                                                                                                                | 88/2000 [44:29<18:33:55, 34.96s/it]"
     ]
    },
    {
     "name": "stdout",
     "output_type": "stream",
     "text": [
      "saved new best metric model\n",
      "current epoch: 88 current mean dice: 0.1754\n",
      "best mean dice: 0.1754 at epoch: 88\n",
      "----------\n",
      "epoch 89/2000\n",
      "1/3, train_loss: 2.0280\n",
      "2/3, train_loss: 2.0239\n"
     ]
    },
    {
     "name": "stderr",
     "output_type": "stream",
     "text": [
      "  4%|█████▉                                                                                                                                | 89/2000 [44:35<13:59:20, 26.35s/it]"
     ]
    },
    {
     "name": "stdout",
     "output_type": "stream",
     "text": [
      "3/3, train_loss: 2.0390\n",
      "epoch 89 average loss: 2.0303\n",
      "----------\n",
      "epoch 90/2000\n",
      "1/3, train_loss: 2.0650\n",
      "2/3, train_loss: 2.0745\n",
      "3/3, train_loss: 2.0000\n",
      "epoch 90 average loss: 2.0465\n"
     ]
    },
    {
     "name": "stderr",
     "output_type": "stream",
     "text": [
      "  4%|██████                                                                                                                                | 90/2000 [45:31<18:41:16, 35.22s/it]"
     ]
    },
    {
     "name": "stdout",
     "output_type": "stream",
     "text": [
      "saved new best metric model\n",
      "current epoch: 90 current mean dice: 0.1778\n",
      "best mean dice: 0.1778 at epoch: 90\n",
      "----------\n",
      "epoch 91/2000\n",
      "1/3, train_loss: 2.0560\n",
      "2/3, train_loss: 1.9668\n"
     ]
    },
    {
     "name": "stderr",
     "output_type": "stream",
     "text": [
      "  5%|██████                                                                                                                                | 91/2000 [45:36<13:51:47, 26.14s/it]"
     ]
    },
    {
     "name": "stdout",
     "output_type": "stream",
     "text": [
      "3/3, train_loss: 1.9644\n",
      "epoch 91 average loss: 1.9958\n",
      "----------\n",
      "epoch 92/2000\n",
      "1/3, train_loss: 2.1046\n",
      "2/3, train_loss: 2.0028\n",
      "3/3, train_loss: 1.9945\n",
      "epoch 92 average loss: 2.0340\n"
     ]
    },
    {
     "name": "stderr",
     "output_type": "stream",
     "text": [
      "  5%|██████▏                                                                                                                               | 92/2000 [46:32<18:34:29, 35.05s/it]"
     ]
    },
    {
     "name": "stdout",
     "output_type": "stream",
     "text": [
      "saved new best metric model\n",
      "current epoch: 92 current mean dice: 0.1793\n",
      "best mean dice: 0.1793 at epoch: 92\n",
      "----------\n",
      "epoch 93/2000\n",
      "1/3, train_loss: 2.0343\n",
      "2/3, train_loss: 2.0036\n"
     ]
    },
    {
     "name": "stderr",
     "output_type": "stream",
     "text": [
      "  5%|██████▏                                                                                                                               | 93/2000 [46:36<13:44:29, 25.94s/it]"
     ]
    },
    {
     "name": "stdout",
     "output_type": "stream",
     "text": [
      "3/3, train_loss: 2.0350\n",
      "epoch 93 average loss: 2.0243\n",
      "----------\n",
      "epoch 94/2000\n",
      "1/3, train_loss: 2.0085\n",
      "2/3, train_loss: 2.0552\n",
      "3/3, train_loss: 2.0049\n",
      "epoch 94 average loss: 2.0228\n"
     ]
    },
    {
     "name": "stderr",
     "output_type": "stream",
     "text": [
      "  5%|██████▎                                                                                                                               | 94/2000 [47:33<18:40:34, 35.28s/it]"
     ]
    },
    {
     "name": "stdout",
     "output_type": "stream",
     "text": [
      "saved new best metric model\n",
      "current epoch: 94 current mean dice: 0.1812\n",
      "best mean dice: 0.1812 at epoch: 94\n",
      "----------\n",
      "epoch 95/2000\n",
      "1/3, train_loss: 1.9692\n",
      "2/3, train_loss: 2.0803\n"
     ]
    },
    {
     "name": "stderr",
     "output_type": "stream",
     "text": [
      "  5%|██████▎                                                                                                                               | 95/2000 [47:40<14:03:49, 26.58s/it]"
     ]
    },
    {
     "name": "stdout",
     "output_type": "stream",
     "text": [
      "3/3, train_loss: 2.0047\n",
      "epoch 95 average loss: 2.0181\n",
      "----------\n",
      "epoch 96/2000\n",
      "1/3, train_loss: 1.9991\n",
      "2/3, train_loss: 2.0462\n",
      "3/3, train_loss: 2.0628\n",
      "epoch 96 average loss: 2.0360\n"
     ]
    },
    {
     "name": "stderr",
     "output_type": "stream",
     "text": [
      "  5%|██████▍                                                                                                                               | 96/2000 [48:35<18:36:57, 35.20s/it]"
     ]
    },
    {
     "name": "stdout",
     "output_type": "stream",
     "text": [
      "saved new best metric model\n",
      "current epoch: 96 current mean dice: 0.1832\n",
      "best mean dice: 0.1832 at epoch: 96\n",
      "----------\n",
      "epoch 97/2000\n",
      "1/3, train_loss: 1.9805\n",
      "2/3, train_loss: 2.1258\n"
     ]
    },
    {
     "name": "stderr",
     "output_type": "stream",
     "text": [
      "  5%|██████▍                                                                                                                               | 97/2000 [48:41<13:59:27, 26.47s/it]"
     ]
    },
    {
     "name": "stdout",
     "output_type": "stream",
     "text": [
      "3/3, train_loss: 2.0048\n",
      "epoch 97 average loss: 2.0371\n",
      "----------\n",
      "epoch 98/2000\n",
      "1/3, train_loss: 2.0280\n",
      "2/3, train_loss: 1.9904\n",
      "3/3, train_loss: 2.0430\n",
      "epoch 98 average loss: 2.0205\n"
     ]
    },
    {
     "name": "stderr",
     "output_type": "stream",
     "text": [
      "  5%|██████▌                                                                                                                               | 98/2000 [49:37<18:35:51, 35.20s/it]"
     ]
    },
    {
     "name": "stdout",
     "output_type": "stream",
     "text": [
      "saved new best metric model\n",
      "current epoch: 98 current mean dice: 0.1850\n",
      "best mean dice: 0.1850 at epoch: 98\n",
      "----------\n",
      "epoch 99/2000\n",
      "1/3, train_loss: 1.9951\n",
      "2/3, train_loss: 2.0258\n"
     ]
    },
    {
     "name": "stderr",
     "output_type": "stream",
     "text": [
      "  5%|██████▋                                                                                                                               | 99/2000 [49:43<13:59:19, 26.49s/it]"
     ]
    },
    {
     "name": "stdout",
     "output_type": "stream",
     "text": [
      "3/3, train_loss: 2.0027\n",
      "epoch 99 average loss: 2.0079\n",
      "----------\n",
      "epoch 100/2000\n",
      "1/3, train_loss: 2.0265\n",
      "2/3, train_loss: 2.0189\n",
      "3/3, train_loss: 1.9747\n",
      "epoch 100 average loss: 2.0067\n"
     ]
    },
    {
     "name": "stderr",
     "output_type": "stream",
     "text": [
      "  5%|██████▋                                                                                                                              | 100/2000 [50:40<18:46:37, 35.58s/it]"
     ]
    },
    {
     "name": "stdout",
     "output_type": "stream",
     "text": [
      "saved new best metric model\n",
      "current epoch: 100 current mean dice: 0.1868\n",
      "best mean dice: 0.1868 at epoch: 100\n",
      "----------\n",
      "epoch 101/2000\n",
      "1/3, train_loss: 2.0534\n",
      "2/3, train_loss: 2.0502\n"
     ]
    },
    {
     "name": "stderr",
     "output_type": "stream",
     "text": [
      "  5%|██████▋                                                                                                                              | 101/2000 [50:45<13:56:33, 26.43s/it]"
     ]
    },
    {
     "name": "stdout",
     "output_type": "stream",
     "text": [
      "3/3, train_loss: 2.0693\n",
      "epoch 101 average loss: 2.0576\n",
      "----------\n",
      "epoch 102/2000\n",
      "1/3, train_loss: 2.0382\n",
      "2/3, train_loss: 1.9366\n",
      "3/3, train_loss: 2.0073\n",
      "epoch 102 average loss: 1.9941\n"
     ]
    },
    {
     "name": "stderr",
     "output_type": "stream",
     "text": [
      "  5%|██████▊                                                                                                                              | 102/2000 [51:42<18:45:52, 35.59s/it]"
     ]
    },
    {
     "name": "stdout",
     "output_type": "stream",
     "text": [
      "saved new best metric model\n",
      "current epoch: 102 current mean dice: 0.1889\n",
      "best mean dice: 0.1889 at epoch: 102\n",
      "----------\n",
      "epoch 103/2000\n",
      "1/3, train_loss: 2.0753\n",
      "2/3, train_loss: 2.0016\n"
     ]
    },
    {
     "name": "stderr",
     "output_type": "stream",
     "text": [
      "  5%|██████▊                                                                                                                              | 103/2000 [51:47<13:58:37, 26.52s/it]"
     ]
    },
    {
     "name": "stdout",
     "output_type": "stream",
     "text": [
      "3/3, train_loss: 2.0367\n",
      "epoch 103 average loss: 2.0378\n",
      "----------\n",
      "epoch 104/2000\n",
      "1/3, train_loss: 1.9934\n",
      "2/3, train_loss: 2.0139\n",
      "3/3, train_loss: 2.0735\n",
      "epoch 104 average loss: 2.0269\n"
     ]
    },
    {
     "name": "stderr",
     "output_type": "stream",
     "text": [
      "  5%|██████▉                                                                                                                              | 104/2000 [52:43<18:38:48, 35.41s/it]"
     ]
    },
    {
     "name": "stdout",
     "output_type": "stream",
     "text": [
      "saved new best metric model\n",
      "current epoch: 104 current mean dice: 0.1907\n",
      "best mean dice: 0.1907 at epoch: 104\n",
      "----------\n",
      "epoch 105/2000\n",
      "1/3, train_loss: 1.9854\n",
      "2/3, train_loss: 1.9816\n"
     ]
    },
    {
     "name": "stderr",
     "output_type": "stream",
     "text": [
      "  5%|██████▉                                                                                                                              | 105/2000 [52:49<13:53:17, 26.38s/it]"
     ]
    },
    {
     "name": "stdout",
     "output_type": "stream",
     "text": [
      "3/3, train_loss: 2.0320\n",
      "epoch 105 average loss: 1.9997\n",
      "----------\n",
      "epoch 106/2000\n",
      "1/3, train_loss: 2.0518\n",
      "2/3, train_loss: 2.0322\n",
      "3/3, train_loss: 2.0310\n",
      "epoch 106 average loss: 2.0383\n"
     ]
    },
    {
     "name": "stderr",
     "output_type": "stream",
     "text": [
      "  5%|███████                                                                                                                              | 106/2000 [53:44<18:30:38, 35.18s/it]"
     ]
    },
    {
     "name": "stdout",
     "output_type": "stream",
     "text": [
      "saved new best metric model\n",
      "current epoch: 106 current mean dice: 0.1925\n",
      "best mean dice: 0.1925 at epoch: 106\n",
      "----------\n",
      "epoch 107/2000\n",
      "1/3, train_loss: 1.9953\n",
      "2/3, train_loss: 2.0110\n"
     ]
    },
    {
     "name": "stderr",
     "output_type": "stream",
     "text": [
      "  5%|███████                                                                                                                              | 107/2000 [53:51<13:56:59, 26.53s/it]"
     ]
    },
    {
     "name": "stdout",
     "output_type": "stream",
     "text": [
      "3/3, train_loss: 2.1027\n",
      "epoch 107 average loss: 2.0363\n",
      "----------\n",
      "epoch 108/2000\n",
      "1/3, train_loss: 2.0414\n",
      "2/3, train_loss: 2.0281\n",
      "3/3, train_loss: 1.9494\n",
      "epoch 108 average loss: 2.0063\n"
     ]
    },
    {
     "name": "stderr",
     "output_type": "stream",
     "text": [
      "  5%|███████▏                                                                                                                             | 108/2000 [54:46<18:34:00, 35.33s/it]"
     ]
    },
    {
     "name": "stdout",
     "output_type": "stream",
     "text": [
      "saved new best metric model\n",
      "current epoch: 108 current mean dice: 0.1944\n",
      "best mean dice: 0.1944 at epoch: 108\n",
      "----------\n",
      "epoch 109/2000\n",
      "1/3, train_loss: 2.0151\n",
      "2/3, train_loss: 1.9557\n"
     ]
    },
    {
     "name": "stderr",
     "output_type": "stream",
     "text": [
      "  5%|███████▏                                                                                                                             | 109/2000 [54:53<14:02:38, 26.74s/it]"
     ]
    },
    {
     "name": "stdout",
     "output_type": "stream",
     "text": [
      "3/3, train_loss: 1.9767\n",
      "epoch 109 average loss: 1.9825\n",
      "----------\n",
      "epoch 110/2000\n",
      "1/3, train_loss: 2.0611\n",
      "2/3, train_loss: 1.9502\n",
      "3/3, train_loss: 2.0747\n",
      "epoch 110 average loss: 2.0286\n"
     ]
    },
    {
     "name": "stderr",
     "output_type": "stream",
     "text": [
      "  6%|███████▎                                                                                                                             | 110/2000 [55:49<18:37:59, 35.49s/it]"
     ]
    },
    {
     "name": "stdout",
     "output_type": "stream",
     "text": [
      "saved new best metric model\n",
      "current epoch: 110 current mean dice: 0.1953\n",
      "best mean dice: 0.1953 at epoch: 110\n",
      "----------\n",
      "epoch 111/2000\n",
      "1/3, train_loss: 2.0114\n",
      "2/3, train_loss: 1.9502\n"
     ]
    },
    {
     "name": "stderr",
     "output_type": "stream",
     "text": [
      "  6%|███████▍                                                                                                                             | 111/2000 [55:55<13:56:29, 26.57s/it]"
     ]
    },
    {
     "name": "stdout",
     "output_type": "stream",
     "text": [
      "3/3, train_loss: 1.9981\n",
      "epoch 111 average loss: 1.9866\n",
      "----------\n",
      "epoch 112/2000\n",
      "1/3, train_loss: 1.9549\n",
      "2/3, train_loss: 1.9876\n",
      "3/3, train_loss: 1.9844\n",
      "epoch 112 average loss: 1.9756\n"
     ]
    },
    {
     "name": "stderr",
     "output_type": "stream",
     "text": [
      "  6%|███████▍                                                                                                                             | 112/2000 [56:51<18:36:48, 35.49s/it]"
     ]
    },
    {
     "name": "stdout",
     "output_type": "stream",
     "text": [
      "saved new best metric model\n",
      "current epoch: 112 current mean dice: 0.1971\n",
      "best mean dice: 0.1971 at epoch: 112\n",
      "----------\n",
      "epoch 113/2000\n",
      "1/3, train_loss: 1.9593\n",
      "2/3, train_loss: 1.9997\n"
     ]
    },
    {
     "name": "stderr",
     "output_type": "stream",
     "text": [
      "  6%|███████▌                                                                                                                             | 113/2000 [56:56<13:51:24, 26.44s/it]"
     ]
    },
    {
     "name": "stdout",
     "output_type": "stream",
     "text": [
      "3/3, train_loss: 2.0130\n",
      "epoch 113 average loss: 1.9907\n",
      "----------\n",
      "epoch 114/2000\n",
      "1/3, train_loss: 2.0179\n",
      "2/3, train_loss: 2.0047\n",
      "3/3, train_loss: 1.9714\n",
      "epoch 114 average loss: 1.9980\n"
     ]
    },
    {
     "name": "stderr",
     "output_type": "stream",
     "text": [
      "  6%|███████▌                                                                                                                             | 114/2000 [57:52<18:28:21, 35.26s/it]"
     ]
    },
    {
     "name": "stdout",
     "output_type": "stream",
     "text": [
      "saved new best metric model\n",
      "current epoch: 114 current mean dice: 0.1985\n",
      "best mean dice: 0.1985 at epoch: 114\n",
      "----------\n",
      "epoch 115/2000\n",
      "1/3, train_loss: 1.9979\n",
      "2/3, train_loss: 1.9332\n"
     ]
    },
    {
     "name": "stderr",
     "output_type": "stream",
     "text": [
      "  6%|███████▋                                                                                                                             | 115/2000 [57:58<13:48:56, 26.39s/it]"
     ]
    },
    {
     "name": "stdout",
     "output_type": "stream",
     "text": [
      "3/3, train_loss: 1.9980\n",
      "epoch 115 average loss: 1.9763\n",
      "----------\n",
      "epoch 116/2000\n",
      "1/3, train_loss: 1.9734\n",
      "2/3, train_loss: 1.9852\n",
      "3/3, train_loss: 1.9283\n",
      "epoch 116 average loss: 1.9623\n"
     ]
    },
    {
     "name": "stderr",
     "output_type": "stream",
     "text": [
      "  6%|███████▋                                                                                                                             | 116/2000 [58:55<18:37:45, 35.60s/it]"
     ]
    },
    {
     "name": "stdout",
     "output_type": "stream",
     "text": [
      "saved new best metric model\n",
      "current epoch: 116 current mean dice: 0.1999\n",
      "best mean dice: 0.1999 at epoch: 116\n",
      "----------\n",
      "epoch 117/2000\n",
      "1/3, train_loss: 2.0283\n",
      "2/3, train_loss: 1.9341\n"
     ]
    },
    {
     "name": "stderr",
     "output_type": "stream",
     "text": [
      "  6%|███████▊                                                                                                                             | 117/2000 [59:00<13:50:30, 26.46s/it]"
     ]
    },
    {
     "name": "stdout",
     "output_type": "stream",
     "text": [
      "3/3, train_loss: 2.0255\n",
      "epoch 117 average loss: 1.9960\n",
      "----------\n",
      "epoch 118/2000\n",
      "1/3, train_loss: 1.9729\n",
      "2/3, train_loss: 1.9904\n",
      "3/3, train_loss: 1.9298\n",
      "epoch 118 average loss: 1.9644\n"
     ]
    },
    {
     "name": "stderr",
     "output_type": "stream",
     "text": [
      "  6%|███████▊                                                                                                                             | 118/2000 [59:56<18:30:25, 35.40s/it]"
     ]
    },
    {
     "name": "stdout",
     "output_type": "stream",
     "text": [
      "saved new best metric model\n",
      "current epoch: 118 current mean dice: 0.2012\n",
      "best mean dice: 0.2012 at epoch: 118\n",
      "----------\n",
      "epoch 119/2000\n",
      "1/3, train_loss: 1.9903\n",
      "2/3, train_loss: 1.9646\n"
     ]
    },
    {
     "name": "stderr",
     "output_type": "stream",
     "text": [
      "  6%|███████▊                                                                                                                           | 119/2000 [1:00:02<13:49:17, 26.45s/it]"
     ]
    },
    {
     "name": "stdout",
     "output_type": "stream",
     "text": [
      "3/3, train_loss: 1.9846\n",
      "epoch 119 average loss: 1.9798\n",
      "----------\n",
      "epoch 120/2000\n",
      "1/3, train_loss: 1.9730\n",
      "2/3, train_loss: 1.9929\n",
      "3/3, train_loss: 1.9327\n",
      "epoch 120 average loss: 1.9662\n"
     ]
    },
    {
     "name": "stderr",
     "output_type": "stream",
     "text": [
      "  6%|███████▊                                                                                                                           | 120/2000 [1:01:00<18:40:54, 35.77s/it]"
     ]
    },
    {
     "name": "stdout",
     "output_type": "stream",
     "text": [
      "saved new best metric model\n",
      "current epoch: 120 current mean dice: 0.2028\n",
      "best mean dice: 0.2028 at epoch: 120\n",
      "----------\n",
      "epoch 121/2000\n",
      "1/3, train_loss: 1.9863\n",
      "2/3, train_loss: 1.9012\n"
     ]
    },
    {
     "name": "stderr",
     "output_type": "stream",
     "text": [
      "  6%|███████▉                                                                                                                           | 121/2000 [1:01:05<13:51:40, 26.56s/it]"
     ]
    },
    {
     "name": "stdout",
     "output_type": "stream",
     "text": [
      "3/3, train_loss: 1.9939\n",
      "epoch 121 average loss: 1.9604\n",
      "----------\n",
      "epoch 122/2000\n",
      "1/3, train_loss: 1.9879\n",
      "2/3, train_loss: 1.9851\n",
      "3/3, train_loss: 2.0014\n",
      "epoch 122 average loss: 1.9915\n"
     ]
    },
    {
     "name": "stderr",
     "output_type": "stream",
     "text": [
      "  6%|███████▉                                                                                                                           | 122/2000 [1:02:01<18:30:49, 35.49s/it]"
     ]
    },
    {
     "name": "stdout",
     "output_type": "stream",
     "text": [
      "saved new best metric model\n",
      "current epoch: 122 current mean dice: 0.2039\n",
      "best mean dice: 0.2039 at epoch: 122\n",
      "----------\n",
      "epoch 123/2000\n",
      "1/3, train_loss: 2.0444\n",
      "2/3, train_loss: 1.9858\n"
     ]
    },
    {
     "name": "stderr",
     "output_type": "stream",
     "text": [
      "  6%|████████                                                                                                                           | 123/2000 [1:02:07<13:58:31, 26.80s/it]"
     ]
    },
    {
     "name": "stdout",
     "output_type": "stream",
     "text": [
      "3/3, train_loss: 1.9625\n",
      "epoch 123 average loss: 1.9976\n",
      "----------\n",
      "epoch 124/2000\n",
      "1/3, train_loss: 1.9596\n",
      "2/3, train_loss: 1.9634\n",
      "3/3, train_loss: 1.9862\n",
      "epoch 124 average loss: 1.9697\n"
     ]
    },
    {
     "name": "stderr",
     "output_type": "stream",
     "text": [
      "  6%|████████                                                                                                                           | 124/2000 [1:03:05<18:44:57, 35.98s/it]"
     ]
    },
    {
     "name": "stdout",
     "output_type": "stream",
     "text": [
      "saved new best metric model\n",
      "current epoch: 124 current mean dice: 0.2056\n",
      "best mean dice: 0.2056 at epoch: 124\n",
      "----------\n",
      "epoch 125/2000\n",
      "1/3, train_loss: 1.9629\n",
      "2/3, train_loss: 1.9490\n"
     ]
    },
    {
     "name": "stderr",
     "output_type": "stream",
     "text": [
      "  6%|████████▏                                                                                                                          | 125/2000 [1:03:11<14:03:05, 26.98s/it]"
     ]
    },
    {
     "name": "stdout",
     "output_type": "stream",
     "text": [
      "3/3, train_loss: 2.0092\n",
      "epoch 125 average loss: 1.9737\n",
      "----------\n",
      "epoch 126/2000\n",
      "1/3, train_loss: 1.9564\n",
      "2/3, train_loss: 2.0551\n",
      "3/3, train_loss: 1.9751\n",
      "epoch 126 average loss: 1.9955\n"
     ]
    },
    {
     "name": "stderr",
     "output_type": "stream",
     "text": [
      "  6%|████████▎                                                                                                                          | 126/2000 [1:04:06<18:31:13, 35.58s/it]"
     ]
    },
    {
     "name": "stdout",
     "output_type": "stream",
     "text": [
      "saved new best metric model\n",
      "current epoch: 126 current mean dice: 0.2078\n",
      "best mean dice: 0.2078 at epoch: 126\n",
      "----------\n",
      "epoch 127/2000\n",
      "1/3, train_loss: 1.9888\n",
      "2/3, train_loss: 2.0073\n"
     ]
    },
    {
     "name": "stderr",
     "output_type": "stream",
     "text": [
      "  6%|████████▎                                                                                                                          | 127/2000 [1:04:12<13:53:21, 26.70s/it]"
     ]
    },
    {
     "name": "stdout",
     "output_type": "stream",
     "text": [
      "3/3, train_loss: 1.9821\n",
      "epoch 127 average loss: 1.9927\n",
      "----------\n",
      "epoch 128/2000\n",
      "1/3, train_loss: 1.9790\n",
      "2/3, train_loss: 1.9273\n",
      "3/3, train_loss: 1.9656\n",
      "epoch 128 average loss: 1.9573\n"
     ]
    },
    {
     "name": "stderr",
     "output_type": "stream",
     "text": [
      "  6%|████████▍                                                                                                                          | 128/2000 [1:05:08<18:24:50, 35.41s/it]"
     ]
    },
    {
     "name": "stdout",
     "output_type": "stream",
     "text": [
      "saved new best metric model\n",
      "current epoch: 128 current mean dice: 0.2085\n",
      "best mean dice: 0.2085 at epoch: 128\n",
      "----------\n",
      "epoch 129/2000\n",
      "1/3, train_loss: 1.9493\n",
      "2/3, train_loss: 1.9430\n"
     ]
    },
    {
     "name": "stderr",
     "output_type": "stream",
     "text": [
      "  6%|████████▍                                                                                                                          | 129/2000 [1:05:13<13:38:28, 26.25s/it]"
     ]
    },
    {
     "name": "stdout",
     "output_type": "stream",
     "text": [
      "3/3, train_loss: 1.9131\n",
      "epoch 129 average loss: 1.9351\n",
      "----------\n",
      "epoch 130/2000\n",
      "1/3, train_loss: 1.9547\n",
      "2/3, train_loss: 1.9732\n",
      "3/3, train_loss: 1.9934\n",
      "epoch 130 average loss: 1.9738\n"
     ]
    },
    {
     "name": "stderr",
     "output_type": "stream",
     "text": [
      "  6%|████████▌                                                                                                                          | 130/2000 [1:06:09<18:18:23, 35.24s/it]"
     ]
    },
    {
     "name": "stdout",
     "output_type": "stream",
     "text": [
      "saved new best metric model\n",
      "current epoch: 130 current mean dice: 0.2097\n",
      "best mean dice: 0.2097 at epoch: 130\n",
      "----------\n",
      "epoch 131/2000\n",
      "1/3, train_loss: 1.9626\n",
      "2/3, train_loss: 1.9676\n"
     ]
    },
    {
     "name": "stderr",
     "output_type": "stream",
     "text": [
      "  7%|████████▌                                                                                                                          | 131/2000 [1:06:14<13:32:02, 26.07s/it]"
     ]
    },
    {
     "name": "stdout",
     "output_type": "stream",
     "text": [
      "3/3, train_loss: 1.9302\n",
      "epoch 131 average loss: 1.9535\n",
      "----------\n",
      "epoch 132/2000\n",
      "1/3, train_loss: 1.9500\n",
      "2/3, train_loss: 1.9639\n",
      "3/3, train_loss: 1.9752\n",
      "epoch 132 average loss: 1.9631\n"
     ]
    },
    {
     "name": "stderr",
     "output_type": "stream",
     "text": [
      "  7%|████████▋                                                                                                                          | 132/2000 [1:07:11<18:19:47, 35.33s/it]"
     ]
    },
    {
     "name": "stdout",
     "output_type": "stream",
     "text": [
      "saved new best metric model\n",
      "current epoch: 132 current mean dice: 0.2114\n",
      "best mean dice: 0.2114 at epoch: 132\n",
      "----------\n",
      "epoch 133/2000\n",
      "1/3, train_loss: 1.9889\n",
      "2/3, train_loss: 1.9571\n"
     ]
    },
    {
     "name": "stderr",
     "output_type": "stream",
     "text": [
      "  7%|████████▋                                                                                                                          | 133/2000 [1:07:17<13:48:07, 26.61s/it]"
     ]
    },
    {
     "name": "stdout",
     "output_type": "stream",
     "text": [
      "3/3, train_loss: 2.0296\n",
      "epoch 133 average loss: 1.9919\n",
      "----------\n",
      "epoch 134/2000\n",
      "1/3, train_loss: 1.9754\n",
      "2/3, train_loss: 2.0221\n",
      "3/3, train_loss: 1.9712\n",
      "epoch 134 average loss: 1.9896\n"
     ]
    },
    {
     "name": "stderr",
     "output_type": "stream",
     "text": [
      "  7%|████████▊                                                                                                                          | 134/2000 [1:08:13<18:18:11, 35.31s/it]"
     ]
    },
    {
     "name": "stdout",
     "output_type": "stream",
     "text": [
      "saved new best metric model\n",
      "current epoch: 134 current mean dice: 0.2137\n",
      "best mean dice: 0.2137 at epoch: 134\n",
      "----------\n",
      "epoch 135/2000\n",
      "1/3, train_loss: 2.0185\n",
      "2/3, train_loss: 1.9841\n"
     ]
    },
    {
     "name": "stderr",
     "output_type": "stream",
     "text": [
      "  7%|████████▊                                                                                                                          | 135/2000 [1:08:19<13:45:40, 26.56s/it]"
     ]
    },
    {
     "name": "stdout",
     "output_type": "stream",
     "text": [
      "3/3, train_loss: 2.0934\n",
      "epoch 135 average loss: 2.0320\n",
      "----------\n",
      "epoch 136/2000\n",
      "1/3, train_loss: 1.9194\n",
      "2/3, train_loss: 1.9217\n",
      "3/3, train_loss: 1.9683\n",
      "epoch 136 average loss: 1.9365\n"
     ]
    },
    {
     "name": "stderr",
     "output_type": "stream",
     "text": [
      "  7%|████████▉                                                                                                                          | 136/2000 [1:09:15<18:18:32, 35.36s/it]"
     ]
    },
    {
     "name": "stdout",
     "output_type": "stream",
     "text": [
      "saved new best metric model\n",
      "current epoch: 136 current mean dice: 0.2150\n",
      "best mean dice: 0.2150 at epoch: 136\n",
      "----------\n",
      "epoch 137/2000\n",
      "1/3, train_loss: 2.0055\n",
      "2/3, train_loss: 1.9390\n"
     ]
    },
    {
     "name": "stderr",
     "output_type": "stream",
     "text": [
      "  7%|████████▉                                                                                                                          | 137/2000 [1:09:19<13:30:30, 26.10s/it]"
     ]
    },
    {
     "name": "stdout",
     "output_type": "stream",
     "text": [
      "3/3, train_loss: 1.9793\n",
      "epoch 137 average loss: 1.9746\n",
      "----------\n",
      "epoch 138/2000\n",
      "1/3, train_loss: 1.9321\n",
      "2/3, train_loss: 1.9826\n",
      "3/3, train_loss: 2.0047\n",
      "epoch 138 average loss: 1.9731\n"
     ]
    },
    {
     "name": "stderr",
     "output_type": "stream",
     "text": [
      "  7%|█████████                                                                                                                          | 138/2000 [1:10:16<18:14:33, 35.27s/it]"
     ]
    },
    {
     "name": "stdout",
     "output_type": "stream",
     "text": [
      "saved new best metric model\n",
      "current epoch: 138 current mean dice: 0.2168\n",
      "best mean dice: 0.2168 at epoch: 138\n",
      "----------\n",
      "epoch 139/2000\n",
      "1/3, train_loss: 1.9642\n",
      "2/3, train_loss: 1.9858\n"
     ]
    },
    {
     "name": "stderr",
     "output_type": "stream",
     "text": [
      "  7%|█████████                                                                                                                          | 139/2000 [1:10:21<13:36:08, 26.31s/it]"
     ]
    },
    {
     "name": "stdout",
     "output_type": "stream",
     "text": [
      "3/3, train_loss: 1.9469\n",
      "epoch 139 average loss: 1.9656\n",
      "----------\n",
      "epoch 140/2000\n",
      "1/3, train_loss: 1.8783\n",
      "2/3, train_loss: 1.9429\n",
      "3/3, train_loss: 1.9405\n",
      "epoch 140 average loss: 1.9206\n"
     ]
    },
    {
     "name": "stderr",
     "output_type": "stream",
     "text": [
      "  7%|█████████▏                                                                                                                         | 140/2000 [1:11:18<18:14:05, 35.29s/it]"
     ]
    },
    {
     "name": "stdout",
     "output_type": "stream",
     "text": [
      "saved new best metric model\n",
      "current epoch: 140 current mean dice: 0.2195\n",
      "best mean dice: 0.2195 at epoch: 140\n",
      "----------\n",
      "epoch 141/2000\n",
      "1/3, train_loss: 1.9432\n",
      "2/3, train_loss: 1.9586\n"
     ]
    },
    {
     "name": "stderr",
     "output_type": "stream",
     "text": [
      "  7%|█████████▏                                                                                                                         | 141/2000 [1:11:24<13:46:30, 26.68s/it]"
     ]
    },
    {
     "name": "stdout",
     "output_type": "stream",
     "text": [
      "3/3, train_loss: 1.9878\n",
      "epoch 141 average loss: 1.9632\n",
      "----------\n",
      "epoch 142/2000\n",
      "1/3, train_loss: 1.9807\n",
      "2/3, train_loss: 2.0082\n",
      "3/3, train_loss: 2.0223\n",
      "epoch 142 average loss: 2.0037\n"
     ]
    },
    {
     "name": "stderr",
     "output_type": "stream",
     "text": [
      "  7%|█████████▎                                                                                                                         | 142/2000 [1:12:21<18:25:06, 35.69s/it]"
     ]
    },
    {
     "name": "stdout",
     "output_type": "stream",
     "text": [
      "saved new best metric model\n",
      "current epoch: 142 current mean dice: 0.2220\n",
      "best mean dice: 0.2220 at epoch: 142\n",
      "----------\n",
      "epoch 143/2000\n",
      "1/3, train_loss: 1.9826\n",
      "2/3, train_loss: 1.9518\n"
     ]
    },
    {
     "name": "stderr",
     "output_type": "stream",
     "text": [
      "  7%|█████████▎                                                                                                                         | 143/2000 [1:12:25<13:31:38, 26.22s/it]"
     ]
    },
    {
     "name": "stdout",
     "output_type": "stream",
     "text": [
      "3/3, train_loss: 1.9425\n",
      "epoch 143 average loss: 1.9590\n",
      "----------\n",
      "epoch 144/2000\n",
      "1/3, train_loss: 1.9580\n",
      "2/3, train_loss: 1.9620\n",
      "3/3, train_loss: 1.9354\n",
      "epoch 144 average loss: 1.9518\n"
     ]
    },
    {
     "name": "stderr",
     "output_type": "stream",
     "text": [
      "  7%|█████████▍                                                                                                                         | 144/2000 [1:13:22<18:14:27, 35.38s/it]"
     ]
    },
    {
     "name": "stdout",
     "output_type": "stream",
     "text": [
      "saved new best metric model\n",
      "current epoch: 144 current mean dice: 0.2247\n",
      "best mean dice: 0.2247 at epoch: 144\n",
      "----------\n",
      "epoch 145/2000\n",
      "1/3, train_loss: 1.9770\n",
      "2/3, train_loss: 1.9762\n"
     ]
    },
    {
     "name": "stderr",
     "output_type": "stream",
     "text": [
      "  7%|█████████▍                                                                                                                         | 145/2000 [1:13:26<13:25:39, 26.06s/it]"
     ]
    },
    {
     "name": "stdout",
     "output_type": "stream",
     "text": [
      "3/3, train_loss: 2.0444\n",
      "epoch 145 average loss: 1.9992\n",
      "----------\n",
      "epoch 146/2000\n",
      "1/3, train_loss: 2.0021\n",
      "2/3, train_loss: 1.9444\n",
      "3/3, train_loss: 1.9596\n",
      "epoch 146 average loss: 1.9687\n"
     ]
    },
    {
     "name": "stderr",
     "output_type": "stream",
     "text": [
      "  7%|█████████▌                                                                                                                         | 146/2000 [1:14:22<17:59:56, 34.95s/it]"
     ]
    },
    {
     "name": "stdout",
     "output_type": "stream",
     "text": [
      "saved new best metric model\n",
      "current epoch: 146 current mean dice: 0.2260\n",
      "best mean dice: 0.2260 at epoch: 146\n",
      "----------\n",
      "epoch 147/2000\n",
      "1/3, train_loss: 1.9352\n",
      "2/3, train_loss: 1.9266\n"
     ]
    },
    {
     "name": "stderr",
     "output_type": "stream",
     "text": [
      "  7%|█████████▋                                                                                                                         | 147/2000 [1:14:29<13:38:14, 26.49s/it]"
     ]
    },
    {
     "name": "stdout",
     "output_type": "stream",
     "text": [
      "3/3, train_loss: 1.8778\n",
      "epoch 147 average loss: 1.9132\n",
      "----------\n",
      "epoch 148/2000\n",
      "1/3, train_loss: 1.9723\n",
      "2/3, train_loss: 2.0081\n",
      "3/3, train_loss: 1.8903\n",
      "epoch 148 average loss: 1.9569\n"
     ]
    },
    {
     "name": "stderr",
     "output_type": "stream",
     "text": [
      "  7%|█████████▋                                                                                                                         | 148/2000 [1:15:25<18:11:52, 35.37s/it]"
     ]
    },
    {
     "name": "stdout",
     "output_type": "stream",
     "text": [
      "saved new best metric model\n",
      "current epoch: 148 current mean dice: 0.2280\n",
      "best mean dice: 0.2280 at epoch: 148\n",
      "----------\n",
      "epoch 149/2000\n",
      "1/3, train_loss: 1.9762\n",
      "2/3, train_loss: 1.9069\n"
     ]
    },
    {
     "name": "stderr",
     "output_type": "stream",
     "text": [
      "  7%|█████████▊                                                                                                                         | 149/2000 [1:15:30<13:30:43, 26.28s/it]"
     ]
    },
    {
     "name": "stdout",
     "output_type": "stream",
     "text": [
      "3/3, train_loss: 1.8928\n",
      "epoch 149 average loss: 1.9253\n",
      "----------\n",
      "epoch 150/2000\n",
      "1/3, train_loss: 1.9641\n",
      "2/3, train_loss: 1.9606\n",
      "3/3, train_loss: 1.9967\n",
      "epoch 150 average loss: 1.9738\n"
     ]
    },
    {
     "name": "stderr",
     "output_type": "stream",
     "text": [
      "  8%|█████████▊                                                                                                                         | 150/2000 [1:16:26<18:10:42, 35.37s/it]"
     ]
    },
    {
     "name": "stdout",
     "output_type": "stream",
     "text": [
      "saved new best metric model\n",
      "current epoch: 150 current mean dice: 0.2287\n",
      "best mean dice: 0.2287 at epoch: 150\n",
      "----------\n",
      "epoch 151/2000\n",
      "1/3, train_loss: 1.9548\n",
      "2/3, train_loss: 1.8623\n"
     ]
    },
    {
     "name": "stderr",
     "output_type": "stream",
     "text": [
      "  8%|█████████▉                                                                                                                         | 151/2000 [1:16:31<13:28:53, 26.25s/it]"
     ]
    },
    {
     "name": "stdout",
     "output_type": "stream",
     "text": [
      "3/3, train_loss: 1.9476\n",
      "epoch 151 average loss: 1.9216\n",
      "----------\n",
      "epoch 152/2000\n",
      "1/3, train_loss: 1.9579\n",
      "2/3, train_loss: 1.8814\n",
      "3/3, train_loss: 1.9221\n",
      "epoch 152 average loss: 1.9204\n"
     ]
    },
    {
     "name": "stderr",
     "output_type": "stream",
     "text": [
      "  8%|█████████▉                                                                                                                         | 152/2000 [1:17:28<18:12:48, 35.48s/it]"
     ]
    },
    {
     "name": "stdout",
     "output_type": "stream",
     "text": [
      "saved new best metric model\n",
      "current epoch: 152 current mean dice: 0.2290\n",
      "best mean dice: 0.2290 at epoch: 152\n",
      "----------\n",
      "epoch 153/2000\n",
      "1/3, train_loss: 1.9528\n",
      "2/3, train_loss: 1.9554\n"
     ]
    },
    {
     "name": "stderr",
     "output_type": "stream",
     "text": [
      "  8%|██████████                                                                                                                         | 153/2000 [1:17:34<13:33:26, 26.42s/it]"
     ]
    },
    {
     "name": "stdout",
     "output_type": "stream",
     "text": [
      "3/3, train_loss: 1.9254\n",
      "epoch 153 average loss: 1.9445\n",
      "----------\n",
      "epoch 154/2000\n",
      "1/3, train_loss: 1.8698\n",
      "2/3, train_loss: 1.9837\n",
      "3/3, train_loss: 1.9414\n",
      "epoch 154 average loss: 1.9316\n"
     ]
    },
    {
     "name": "stderr",
     "output_type": "stream",
     "text": [
      "  8%|██████████                                                                                                                         | 154/2000 [1:18:30<18:14:09, 35.56s/it]"
     ]
    },
    {
     "name": "stdout",
     "output_type": "stream",
     "text": [
      "saved new best metric model\n",
      "current epoch: 154 current mean dice: 0.2291\n",
      "best mean dice: 0.2291 at epoch: 154\n",
      "----------\n",
      "epoch 155/2000\n",
      "1/3, train_loss: 1.9411\n",
      "2/3, train_loss: 1.9491\n"
     ]
    },
    {
     "name": "stderr",
     "output_type": "stream",
     "text": [
      "  8%|██████████▏                                                                                                                        | 155/2000 [1:18:37<13:43:01, 26.76s/it]"
     ]
    },
    {
     "name": "stdout",
     "output_type": "stream",
     "text": [
      "3/3, train_loss: 1.9965\n",
      "epoch 155 average loss: 1.9622\n",
      "----------\n",
      "epoch 156/2000\n",
      "1/3, train_loss: 1.8986\n",
      "2/3, train_loss: 1.9220\n",
      "3/3, train_loss: 1.9775\n",
      "epoch 156 average loss: 1.9327\n"
     ]
    },
    {
     "name": "stderr",
     "output_type": "stream",
     "text": [
      "  8%|██████████▏                                                                                                                        | 156/2000 [1:19:33<18:18:08, 35.73s/it]"
     ]
    },
    {
     "name": "stdout",
     "output_type": "stream",
     "text": [
      "saved new best metric model\n",
      "current epoch: 156 current mean dice: 0.2304\n",
      "best mean dice: 0.2304 at epoch: 156\n",
      "----------\n",
      "epoch 157/2000\n",
      "1/3, train_loss: 1.9305\n",
      "2/3, train_loss: 1.9022\n"
     ]
    },
    {
     "name": "stderr",
     "output_type": "stream",
     "text": [
      "  8%|██████████▎                                                                                                                        | 157/2000 [1:19:39<13:37:54, 26.63s/it]"
     ]
    },
    {
     "name": "stdout",
     "output_type": "stream",
     "text": [
      "3/3, train_loss: 1.9140\n",
      "epoch 157 average loss: 1.9156\n",
      "----------\n",
      "epoch 158/2000\n",
      "1/3, train_loss: 1.9485\n",
      "2/3, train_loss: 1.9465\n",
      "3/3, train_loss: 1.9395\n",
      "epoch 158 average loss: 1.9448\n"
     ]
    },
    {
     "name": "stderr",
     "output_type": "stream",
     "text": [
      "  8%|██████████▎                                                                                                                        | 158/2000 [1:20:36<18:16:15, 35.71s/it]"
     ]
    },
    {
     "name": "stdout",
     "output_type": "stream",
     "text": [
      "saved new best metric model\n",
      "current epoch: 158 current mean dice: 0.2323\n",
      "best mean dice: 0.2323 at epoch: 158\n",
      "----------\n",
      "epoch 159/2000\n",
      "1/3, train_loss: 1.9411\n",
      "2/3, train_loss: 1.9134\n"
     ]
    },
    {
     "name": "stderr",
     "output_type": "stream",
     "text": [
      "  8%|██████████▍                                                                                                                        | 159/2000 [1:20:41<13:34:53, 26.56s/it]"
     ]
    },
    {
     "name": "stdout",
     "output_type": "stream",
     "text": [
      "3/3, train_loss: 1.9042\n",
      "epoch 159 average loss: 1.9195\n",
      "----------\n",
      "epoch 160/2000\n",
      "1/3, train_loss: 1.9355\n",
      "2/3, train_loss: 1.8947\n",
      "3/3, train_loss: 1.8987\n",
      "epoch 160 average loss: 1.9097\n"
     ]
    },
    {
     "name": "stderr",
     "output_type": "stream",
     "text": [
      "  8%|██████████▍                                                                                                                        | 160/2000 [1:21:39<18:21:18, 35.91s/it]"
     ]
    },
    {
     "name": "stdout",
     "output_type": "stream",
     "text": [
      "current epoch: 160 current mean dice: 0.2316\n",
      "best mean dice: 0.2323 at epoch: 158\n",
      "----------\n",
      "epoch 161/2000\n",
      "1/3, train_loss: 1.9583\n",
      "2/3, train_loss: 1.8187\n"
     ]
    },
    {
     "name": "stderr",
     "output_type": "stream",
     "text": [
      "  8%|██████████▌                                                                                                                        | 161/2000 [1:21:44<13:44:18, 26.89s/it]"
     ]
    },
    {
     "name": "stdout",
     "output_type": "stream",
     "text": [
      "3/3, train_loss: 1.9074\n",
      "epoch 161 average loss: 1.8948\n",
      "----------\n",
      "epoch 162/2000\n",
      "1/3, train_loss: 1.9413\n",
      "2/3, train_loss: 1.8471\n",
      "3/3, train_loss: 1.8158\n",
      "epoch 162 average loss: 1.8681\n"
     ]
    },
    {
     "name": "stderr",
     "output_type": "stream",
     "text": [
      "  8%|██████████▌                                                                                                                        | 162/2000 [1:22:40<18:11:02, 35.62s/it]"
     ]
    },
    {
     "name": "stdout",
     "output_type": "stream",
     "text": [
      "current epoch: 162 current mean dice: 0.2314\n",
      "best mean dice: 0.2323 at epoch: 158\n",
      "----------\n",
      "epoch 163/2000\n",
      "1/3, train_loss: 1.9145\n",
      "2/3, train_loss: 1.8701\n"
     ]
    },
    {
     "name": "stderr",
     "output_type": "stream",
     "text": [
      "  8%|██████████▋                                                                                                                        | 163/2000 [1:22:46<13:32:11, 26.53s/it]"
     ]
    },
    {
     "name": "stdout",
     "output_type": "stream",
     "text": [
      "3/3, train_loss: 1.9087\n",
      "epoch 163 average loss: 1.8978\n",
      "----------\n",
      "epoch 164/2000\n",
      "1/3, train_loss: 1.8771\n",
      "2/3, train_loss: 1.9385\n",
      "3/3, train_loss: 1.9231\n",
      "epoch 164 average loss: 1.9129\n"
     ]
    },
    {
     "name": "stderr",
     "output_type": "stream",
     "text": [
      "  8%|██████████▋                                                                                                                        | 164/2000 [1:23:43<18:12:13, 35.69s/it]"
     ]
    },
    {
     "name": "stdout",
     "output_type": "stream",
     "text": [
      "current epoch: 164 current mean dice: 0.2298\n",
      "best mean dice: 0.2323 at epoch: 158\n",
      "----------\n",
      "epoch 165/2000\n",
      "1/3, train_loss: 1.9062\n",
      "2/3, train_loss: 1.9288\n"
     ]
    },
    {
     "name": "stderr",
     "output_type": "stream",
     "text": [
      "  8%|██████████▊                                                                                                                        | 165/2000 [1:23:48<13:32:00, 26.55s/it]"
     ]
    },
    {
     "name": "stdout",
     "output_type": "stream",
     "text": [
      "3/3, train_loss: 1.9613\n",
      "epoch 165 average loss: 1.9321\n",
      "----------\n",
      "epoch 166/2000\n",
      "1/3, train_loss: 1.9429\n",
      "2/3, train_loss: 1.9505\n",
      "3/3, train_loss: 1.9122\n",
      "epoch 166 average loss: 1.9352\n"
     ]
    },
    {
     "name": "stderr",
     "output_type": "stream",
     "text": [
      "  8%|██████████▊                                                                                                                        | 166/2000 [1:24:45<18:11:07, 35.70s/it]"
     ]
    },
    {
     "name": "stdout",
     "output_type": "stream",
     "text": [
      "current epoch: 166 current mean dice: 0.2318\n",
      "best mean dice: 0.2323 at epoch: 158\n",
      "----------\n",
      "epoch 167/2000\n",
      "1/3, train_loss: 1.9026\n",
      "2/3, train_loss: 1.9309\n"
     ]
    },
    {
     "name": "stderr",
     "output_type": "stream",
     "text": [
      "  8%|██████████▉                                                                                                                        | 167/2000 [1:24:49<13:22:52, 26.28s/it]"
     ]
    },
    {
     "name": "stdout",
     "output_type": "stream",
     "text": [
      "3/3, train_loss: 1.9095\n",
      "epoch 167 average loss: 1.9143\n",
      "----------\n",
      "epoch 168/2000\n",
      "1/3, train_loss: 1.9048\n",
      "2/3, train_loss: 1.9688\n",
      "3/3, train_loss: 1.8918\n",
      "epoch 168 average loss: 1.9218\n"
     ]
    },
    {
     "name": "stderr",
     "output_type": "stream",
     "text": [
      "  8%|███████████                                                                                                                        | 168/2000 [1:25:47<18:09:16, 35.67s/it]"
     ]
    },
    {
     "name": "stdout",
     "output_type": "stream",
     "text": [
      "saved new best metric model\n",
      "current epoch: 168 current mean dice: 0.2329\n",
      "best mean dice: 0.2329 at epoch: 168\n",
      "----------\n",
      "epoch 169/2000\n",
      "1/3, train_loss: 1.8741\n",
      "2/3, train_loss: 2.0194\n"
     ]
    },
    {
     "name": "stderr",
     "output_type": "stream",
     "text": [
      "  8%|███████████                                                                                                                        | 169/2000 [1:25:52<13:25:55, 26.41s/it]"
     ]
    },
    {
     "name": "stdout",
     "output_type": "stream",
     "text": [
      "3/3, train_loss: 1.9549\n",
      "epoch 169 average loss: 1.9495\n",
      "----------\n",
      "epoch 170/2000\n",
      "1/3, train_loss: 1.9056\n",
      "2/3, train_loss: 1.9100\n",
      "3/3, train_loss: 1.8687\n",
      "epoch 170 average loss: 1.8948\n"
     ]
    },
    {
     "name": "stderr",
     "output_type": "stream",
     "text": [
      "  8%|███████████▏                                                                                                                       | 170/2000 [1:26:48<17:56:39, 35.30s/it]"
     ]
    },
    {
     "name": "stdout",
     "output_type": "stream",
     "text": [
      "current epoch: 170 current mean dice: 0.2321\n",
      "best mean dice: 0.2329 at epoch: 168\n",
      "----------\n",
      "epoch 171/2000\n",
      "1/3, train_loss: 1.9464\n",
      "2/3, train_loss: 1.8931\n"
     ]
    },
    {
     "name": "stderr",
     "output_type": "stream",
     "text": [
      "  9%|███████████▏                                                                                                                       | 171/2000 [1:26:53<13:20:44, 26.27s/it]"
     ]
    },
    {
     "name": "stdout",
     "output_type": "stream",
     "text": [
      "3/3, train_loss: 1.8998\n",
      "epoch 171 average loss: 1.9131\n",
      "----------\n",
      "epoch 172/2000\n",
      "1/3, train_loss: 1.8261\n",
      "2/3, train_loss: 1.8967\n",
      "3/3, train_loss: 1.8772\n",
      "epoch 172 average loss: 1.8667\n"
     ]
    },
    {
     "name": "stderr",
     "output_type": "stream",
     "text": [
      "  9%|███████████▎                                                                                                                       | 172/2000 [1:27:50<18:04:49, 35.61s/it]"
     ]
    },
    {
     "name": "stdout",
     "output_type": "stream",
     "text": [
      "saved new best metric model\n",
      "current epoch: 172 current mean dice: 0.2367\n",
      "best mean dice: 0.2367 at epoch: 172\n",
      "----------\n",
      "epoch 173/2000\n",
      "1/3, train_loss: 1.9340\n",
      "2/3, train_loss: 2.0055\n"
     ]
    },
    {
     "name": "stderr",
     "output_type": "stream",
     "text": [
      "  9%|███████████▎                                                                                                                       | 173/2000 [1:27:56<13:30:41, 26.62s/it]"
     ]
    },
    {
     "name": "stdout",
     "output_type": "stream",
     "text": [
      "3/3, train_loss: 1.8067\n",
      "epoch 173 average loss: 1.9154\n",
      "----------\n",
      "epoch 174/2000\n",
      "1/3, train_loss: 1.8561\n",
      "2/3, train_loss: 1.9149\n",
      "3/3, train_loss: 1.8855\n",
      "epoch 174 average loss: 1.8855\n"
     ]
    },
    {
     "name": "stderr",
     "output_type": "stream",
     "text": [
      "  9%|███████████▍                                                                                                                       | 174/2000 [1:28:53<18:08:49, 35.78s/it]"
     ]
    },
    {
     "name": "stdout",
     "output_type": "stream",
     "text": [
      "saved new best metric model\n",
      "current epoch: 174 current mean dice: 0.2371\n",
      "best mean dice: 0.2371 at epoch: 174\n",
      "----------\n",
      "epoch 175/2000\n",
      "1/3, train_loss: 1.9066\n",
      "2/3, train_loss: 1.9085\n"
     ]
    },
    {
     "name": "stderr",
     "output_type": "stream",
     "text": [
      "  9%|███████████▍                                                                                                                       | 175/2000 [1:28:58<13:27:55, 26.56s/it]"
     ]
    },
    {
     "name": "stdout",
     "output_type": "stream",
     "text": [
      "3/3, train_loss: 1.8274\n",
      "epoch 175 average loss: 1.8808\n",
      "----------\n",
      "epoch 176/2000\n",
      "1/3, train_loss: 1.9186\n",
      "2/3, train_loss: 1.8467\n",
      "3/3, train_loss: 1.9283\n",
      "epoch 176 average loss: 1.8979\n"
     ]
    },
    {
     "name": "stderr",
     "output_type": "stream",
     "text": [
      "  9%|███████████▌                                                                                                                       | 176/2000 [1:29:56<18:10:42, 35.88s/it]"
     ]
    },
    {
     "name": "stdout",
     "output_type": "stream",
     "text": [
      "current epoch: 176 current mean dice: 0.2363\n",
      "best mean dice: 0.2371 at epoch: 174\n",
      "----------\n",
      "epoch 177/2000\n",
      "1/3, train_loss: 1.8783\n",
      "2/3, train_loss: 1.9059\n"
     ]
    },
    {
     "name": "stderr",
     "output_type": "stream",
     "text": [
      "  9%|███████████▌                                                                                                                       | 177/2000 [1:30:01<13:29:43, 26.65s/it]"
     ]
    },
    {
     "name": "stdout",
     "output_type": "stream",
     "text": [
      "3/3, train_loss: 1.9628\n",
      "epoch 177 average loss: 1.9157\n",
      "----------\n",
      "epoch 178/2000\n",
      "1/3, train_loss: 1.9414\n",
      "2/3, train_loss: 1.9591\n",
      "3/3, train_loss: 1.9069\n",
      "epoch 178 average loss: 1.9358\n"
     ]
    },
    {
     "name": "stderr",
     "output_type": "stream",
     "text": [
      "  9%|███████████▋                                                                                                                       | 178/2000 [1:30:58<18:03:26, 35.68s/it]"
     ]
    },
    {
     "name": "stdout",
     "output_type": "stream",
     "text": [
      "saved new best metric model\n",
      "current epoch: 178 current mean dice: 0.2399\n",
      "best mean dice: 0.2399 at epoch: 178\n",
      "----------\n",
      "epoch 179/2000\n",
      "1/3, train_loss: 1.9366\n",
      "2/3, train_loss: 1.8547\n"
     ]
    },
    {
     "name": "stderr",
     "output_type": "stream",
     "text": [
      "  9%|███████████▋                                                                                                                       | 179/2000 [1:31:03<13:26:48, 26.58s/it]"
     ]
    },
    {
     "name": "stdout",
     "output_type": "stream",
     "text": [
      "3/3, train_loss: 1.8931\n",
      "epoch 179 average loss: 1.8948\n",
      "----------\n",
      "epoch 180/2000\n",
      "1/3, train_loss: 1.8950\n",
      "2/3, train_loss: 1.8476\n",
      "3/3, train_loss: 1.9197\n",
      "epoch 180 average loss: 1.8875\n"
     ]
    },
    {
     "name": "stderr",
     "output_type": "stream",
     "text": [
      "  9%|███████████▊                                                                                                                       | 180/2000 [1:32:00<18:00:53, 35.63s/it]"
     ]
    },
    {
     "name": "stdout",
     "output_type": "stream",
     "text": [
      "current epoch: 180 current mean dice: 0.2385\n",
      "best mean dice: 0.2399 at epoch: 178\n",
      "----------\n",
      "epoch 181/2000\n",
      "1/3, train_loss: 1.9155\n",
      "2/3, train_loss: 1.8996\n"
     ]
    },
    {
     "name": "stderr",
     "output_type": "stream",
     "text": [
      "  9%|███████████▊                                                                                                                       | 181/2000 [1:32:05<13:20:11, 26.39s/it]"
     ]
    },
    {
     "name": "stdout",
     "output_type": "stream",
     "text": [
      "3/3, train_loss: 1.8893\n",
      "epoch 181 average loss: 1.9015\n",
      "----------\n",
      "epoch 182/2000\n",
      "1/3, train_loss: 1.8897\n",
      "2/3, train_loss: 1.8839\n",
      "3/3, train_loss: 1.9212\n",
      "epoch 182 average loss: 1.8982\n"
     ]
    },
    {
     "name": "stderr",
     "output_type": "stream",
     "text": [
      "  9%|███████████▉                                                                                                                       | 182/2000 [1:33:03<18:08:13, 35.91s/it]"
     ]
    },
    {
     "name": "stdout",
     "output_type": "stream",
     "text": [
      "saved new best metric model\n",
      "current epoch: 182 current mean dice: 0.2409\n",
      "best mean dice: 0.2409 at epoch: 182\n",
      "----------\n",
      "epoch 183/2000\n",
      "1/3, train_loss: 1.9788\n",
      "2/3, train_loss: 1.8862\n"
     ]
    },
    {
     "name": "stderr",
     "output_type": "stream",
     "text": [
      "  9%|███████████▉                                                                                                                       | 183/2000 [1:33:08<13:28:37, 26.70s/it]"
     ]
    },
    {
     "name": "stdout",
     "output_type": "stream",
     "text": [
      "3/3, train_loss: 1.9707\n",
      "epoch 183 average loss: 1.9452\n",
      "----------\n",
      "epoch 184/2000\n",
      "1/3, train_loss: 1.8849\n",
      "2/3, train_loss: 1.8915\n",
      "3/3, train_loss: 1.8989\n",
      "epoch 184 average loss: 1.8918\n"
     ]
    },
    {
     "name": "stderr",
     "output_type": "stream",
     "text": [
      "  9%|████████████                                                                                                                       | 184/2000 [1:34:06<18:08:48, 35.97s/it]"
     ]
    },
    {
     "name": "stdout",
     "output_type": "stream",
     "text": [
      "saved new best metric model\n",
      "current epoch: 184 current mean dice: 0.2414\n",
      "best mean dice: 0.2414 at epoch: 184\n",
      "----------\n",
      "epoch 185/2000\n",
      "1/3, train_loss: 1.9681\n",
      "2/3, train_loss: 1.9128\n"
     ]
    },
    {
     "name": "stderr",
     "output_type": "stream",
     "text": [
      "  9%|████████████                                                                                                                       | 185/2000 [1:34:10<13:25:56, 26.64s/it]"
     ]
    },
    {
     "name": "stdout",
     "output_type": "stream",
     "text": [
      "3/3, train_loss: 1.8896\n",
      "epoch 185 average loss: 1.9235\n",
      "----------\n",
      "epoch 186/2000\n",
      "1/3, train_loss: 1.8892\n",
      "2/3, train_loss: 1.9223\n",
      "3/3, train_loss: 1.9611\n",
      "epoch 186 average loss: 1.9242\n"
     ]
    },
    {
     "name": "stderr",
     "output_type": "stream",
     "text": [
      "  9%|████████████▏                                                                                                                      | 186/2000 [1:35:07<17:59:43, 35.71s/it]"
     ]
    },
    {
     "name": "stdout",
     "output_type": "stream",
     "text": [
      "saved new best metric model\n",
      "current epoch: 186 current mean dice: 0.2437\n",
      "best mean dice: 0.2437 at epoch: 186\n",
      "----------\n",
      "epoch 187/2000\n",
      "1/3, train_loss: 1.9204\n",
      "2/3, train_loss: 1.8975\n"
     ]
    },
    {
     "name": "stderr",
     "output_type": "stream",
     "text": [
      "  9%|████████████▏                                                                                                                      | 187/2000 [1:35:12<13:21:20, 26.52s/it]"
     ]
    },
    {
     "name": "stdout",
     "output_type": "stream",
     "text": [
      "3/3, train_loss: 1.9423\n",
      "epoch 187 average loss: 1.9201\n",
      "----------\n",
      "epoch 188/2000\n",
      "1/3, train_loss: 1.8742\n",
      "2/3, train_loss: 1.8780\n",
      "3/3, train_loss: 1.8804\n",
      "epoch 188 average loss: 1.8775\n"
     ]
    },
    {
     "name": "stderr",
     "output_type": "stream",
     "text": [
      "  9%|████████████▎                                                                                                                      | 188/2000 [1:36:10<18:00:27, 35.78s/it]"
     ]
    },
    {
     "name": "stdout",
     "output_type": "stream",
     "text": [
      "saved new best metric model\n",
      "current epoch: 188 current mean dice: 0.2468\n",
      "best mean dice: 0.2468 at epoch: 188\n",
      "----------\n",
      "epoch 189/2000\n",
      "1/3, train_loss: 1.8793\n",
      "2/3, train_loss: 2.0629\n"
     ]
    },
    {
     "name": "stderr",
     "output_type": "stream",
     "text": [
      "  9%|████████████▍                                                                                                                      | 189/2000 [1:36:15<13:20:02, 26.51s/it]"
     ]
    },
    {
     "name": "stdout",
     "output_type": "stream",
     "text": [
      "3/3, train_loss: 1.9035\n",
      "epoch 189 average loss: 1.9486\n",
      "----------\n",
      "epoch 190/2000\n",
      "1/3, train_loss: 1.8814\n",
      "2/3, train_loss: 1.8763\n",
      "3/3, train_loss: 1.9354\n",
      "epoch 190 average loss: 1.8977\n"
     ]
    },
    {
     "name": "stderr",
     "output_type": "stream",
     "text": [
      " 10%|████████████▍                                                                                                                      | 190/2000 [1:37:11<17:50:03, 35.47s/it]"
     ]
    },
    {
     "name": "stdout",
     "output_type": "stream",
     "text": [
      "saved new best metric model\n",
      "current epoch: 190 current mean dice: 0.2483\n",
      "best mean dice: 0.2483 at epoch: 190\n",
      "----------\n",
      "epoch 191/2000\n",
      "1/3, train_loss: 1.8959\n",
      "2/3, train_loss: 1.9152\n"
     ]
    },
    {
     "name": "stderr",
     "output_type": "stream",
     "text": [
      " 10%|████████████▌                                                                                                                      | 191/2000 [1:37:18<13:28:28, 26.81s/it]"
     ]
    },
    {
     "name": "stdout",
     "output_type": "stream",
     "text": [
      "3/3, train_loss: 1.9169\n",
      "epoch 191 average loss: 1.9093\n",
      "----------\n",
      "epoch 192/2000\n",
      "1/3, train_loss: 1.8371\n",
      "2/3, train_loss: 1.8981\n",
      "3/3, train_loss: 1.8982\n",
      "epoch 192 average loss: 1.8778\n"
     ]
    },
    {
     "name": "stderr",
     "output_type": "stream",
     "text": [
      " 10%|████████████▌                                                                                                                      | 192/2000 [1:38:13<17:47:36, 35.43s/it]"
     ]
    },
    {
     "name": "stdout",
     "output_type": "stream",
     "text": [
      "saved new best metric model\n",
      "current epoch: 192 current mean dice: 0.2492\n",
      "best mean dice: 0.2492 at epoch: 192\n",
      "----------\n",
      "epoch 193/2000\n",
      "1/3, train_loss: 1.8802\n",
      "2/3, train_loss: 1.9202\n"
     ]
    },
    {
     "name": "stderr",
     "output_type": "stream",
     "text": [
      " 10%|████████████▋                                                                                                                      | 193/2000 [1:38:19<13:22:44, 26.65s/it]"
     ]
    },
    {
     "name": "stdout",
     "output_type": "stream",
     "text": [
      "3/3, train_loss: 1.9494\n",
      "epoch 193 average loss: 1.9166\n",
      "----------\n",
      "epoch 194/2000\n",
      "1/3, train_loss: 1.8851\n",
      "2/3, train_loss: 1.8888\n",
      "3/3, train_loss: 1.8617\n",
      "epoch 194 average loss: 1.8786\n"
     ]
    },
    {
     "name": "stderr",
     "output_type": "stream",
     "text": [
      " 10%|████████████▋                                                                                                                      | 194/2000 [1:39:16<17:51:05, 35.58s/it]"
     ]
    },
    {
     "name": "stdout",
     "output_type": "stream",
     "text": [
      "saved new best metric model\n",
      "current epoch: 194 current mean dice: 0.2532\n",
      "best mean dice: 0.2532 at epoch: 194\n",
      "----------\n",
      "epoch 195/2000\n",
      "1/3, train_loss: 1.8660\n",
      "2/3, train_loss: 1.8975\n"
     ]
    },
    {
     "name": "stderr",
     "output_type": "stream",
     "text": [
      " 10%|████████████▊                                                                                                                      | 195/2000 [1:39:21<13:17:41, 26.52s/it]"
     ]
    },
    {
     "name": "stdout",
     "output_type": "stream",
     "text": [
      "3/3, train_loss: 1.8796\n",
      "epoch 195 average loss: 1.8810\n",
      "----------\n",
      "epoch 196/2000\n",
      "1/3, train_loss: 1.9134\n",
      "2/3, train_loss: 1.9243\n",
      "3/3, train_loss: 1.9116\n",
      "epoch 196 average loss: 1.9165\n"
     ]
    },
    {
     "name": "stderr",
     "output_type": "stream",
     "text": [
      " 10%|████████████▊                                                                                                                      | 196/2000 [1:40:17<17:43:31, 35.37s/it]"
     ]
    },
    {
     "name": "stdout",
     "output_type": "stream",
     "text": [
      "current epoch: 196 current mean dice: 0.2507\n",
      "best mean dice: 0.2532 at epoch: 194\n",
      "----------\n",
      "epoch 197/2000\n",
      "1/3, train_loss: 1.9163\n",
      "2/3, train_loss: 1.8572\n"
     ]
    },
    {
     "name": "stderr",
     "output_type": "stream",
     "text": [
      " 10%|████████████▉                                                                                                                      | 197/2000 [1:40:22<13:11:05, 26.33s/it]"
     ]
    },
    {
     "name": "stdout",
     "output_type": "stream",
     "text": [
      "3/3, train_loss: 1.8751\n",
      "epoch 197 average loss: 1.8828\n",
      "----------\n",
      "epoch 198/2000\n",
      "1/3, train_loss: 1.8676\n",
      "2/3, train_loss: 1.8686\n",
      "3/3, train_loss: 1.8734\n",
      "epoch 198 average loss: 1.8699\n"
     ]
    },
    {
     "name": "stderr",
     "output_type": "stream",
     "text": [
      " 10%|████████████▉                                                                                                                      | 198/2000 [1:41:19<17:46:17, 35.50s/it]"
     ]
    },
    {
     "name": "stdout",
     "output_type": "stream",
     "text": [
      "saved new best metric model\n",
      "current epoch: 198 current mean dice: 0.2542\n",
      "best mean dice: 0.2542 at epoch: 198\n",
      "----------\n",
      "epoch 199/2000\n",
      "1/3, train_loss: 1.8140\n",
      "2/3, train_loss: 1.9003\n"
     ]
    },
    {
     "name": "stderr",
     "output_type": "stream",
     "text": [
      " 10%|█████████████                                                                                                                      | 199/2000 [1:41:25<13:20:04, 26.65s/it]"
     ]
    },
    {
     "name": "stdout",
     "output_type": "stream",
     "text": [
      "3/3, train_loss: 1.8395\n",
      "epoch 199 average loss: 1.8512\n",
      "----------\n",
      "epoch 200/2000\n",
      "1/3, train_loss: 1.8668\n",
      "2/3, train_loss: 1.8534\n",
      "3/3, train_loss: 1.8434\n",
      "epoch 200 average loss: 1.8545\n"
     ]
    },
    {
     "name": "stderr",
     "output_type": "stream",
     "text": [
      " 10%|█████████████                                                                                                                      | 200/2000 [1:42:21<17:39:21, 35.31s/it]"
     ]
    },
    {
     "name": "stdout",
     "output_type": "stream",
     "text": [
      "current epoch: 200 current mean dice: 0.2526\n",
      "best mean dice: 0.2542 at epoch: 198\n",
      "----------\n",
      "epoch 201/2000\n",
      "1/3, train_loss: 1.8112\n",
      "2/3, train_loss: 1.9117\n"
     ]
    },
    {
     "name": "stderr",
     "output_type": "stream",
     "text": [
      " 10%|█████████████▏                                                                                                                     | 201/2000 [1:42:26<13:09:01, 26.32s/it]"
     ]
    },
    {
     "name": "stdout",
     "output_type": "stream",
     "text": [
      "3/3, train_loss: 1.8422\n",
      "epoch 201 average loss: 1.8550\n",
      "----------\n",
      "epoch 202/2000\n",
      "1/3, train_loss: 1.9000\n",
      "2/3, train_loss: 1.8491\n",
      "3/3, train_loss: 1.9175\n",
      "epoch 202 average loss: 1.8889\n"
     ]
    },
    {
     "name": "stderr",
     "output_type": "stream",
     "text": [
      " 10%|█████████████▏                                                                                                                     | 202/2000 [1:43:22<17:35:46, 35.23s/it]"
     ]
    },
    {
     "name": "stdout",
     "output_type": "stream",
     "text": [
      "current epoch: 202 current mean dice: 0.2508\n",
      "best mean dice: 0.2542 at epoch: 198\n",
      "----------\n",
      "epoch 203/2000\n",
      "1/3, train_loss: 1.8795\n",
      "2/3, train_loss: 1.8705\n"
     ]
    },
    {
     "name": "stderr",
     "output_type": "stream",
     "text": [
      " 10%|█████████████▎                                                                                                                     | 203/2000 [1:43:27<13:01:52, 26.11s/it]"
     ]
    },
    {
     "name": "stdout",
     "output_type": "stream",
     "text": [
      "3/3, train_loss: 1.8618\n",
      "epoch 203 average loss: 1.8706\n",
      "----------\n",
      "epoch 204/2000\n",
      "1/3, train_loss: 1.8591\n",
      "2/3, train_loss: 1.9233\n",
      "3/3, train_loss: 1.8513\n",
      "epoch 204 average loss: 1.8779\n"
     ]
    },
    {
     "name": "stderr",
     "output_type": "stream",
     "text": [
      " 10%|█████████████▎                                                                                                                     | 204/2000 [1:44:23<17:31:33, 35.13s/it]"
     ]
    },
    {
     "name": "stdout",
     "output_type": "stream",
     "text": [
      "saved new best metric model\n",
      "current epoch: 204 current mean dice: 0.2559\n",
      "best mean dice: 0.2559 at epoch: 204\n",
      "----------\n",
      "epoch 205/2000\n",
      "1/3, train_loss: 1.9064\n",
      "2/3, train_loss: 1.8730\n"
     ]
    },
    {
     "name": "stderr",
     "output_type": "stream",
     "text": [
      " 10%|█████████████▍                                                                                                                     | 205/2000 [1:44:29<13:08:12, 26.35s/it]"
     ]
    },
    {
     "name": "stdout",
     "output_type": "stream",
     "text": [
      "3/3, train_loss: 1.8143\n",
      "epoch 205 average loss: 1.8645\n",
      "----------\n",
      "epoch 206/2000\n",
      "1/3, train_loss: 1.8878\n",
      "2/3, train_loss: 1.8696\n",
      "3/3, train_loss: 1.9347\n",
      "epoch 206 average loss: 1.8974\n"
     ]
    },
    {
     "name": "stderr",
     "output_type": "stream",
     "text": [
      " 10%|█████████████▍                                                                                                                     | 206/2000 [1:45:25<17:34:50, 35.28s/it]"
     ]
    },
    {
     "name": "stdout",
     "output_type": "stream",
     "text": [
      "current epoch: 206 current mean dice: 0.2544\n",
      "best mean dice: 0.2559 at epoch: 204\n",
      "----------\n",
      "epoch 207/2000\n",
      "1/3, train_loss: 1.9125\n",
      "2/3, train_loss: 1.8757\n"
     ]
    },
    {
     "name": "stderr",
     "output_type": "stream",
     "text": [
      " 10%|█████████████▌                                                                                                                     | 207/2000 [1:45:29<12:55:57, 25.97s/it]"
     ]
    },
    {
     "name": "stdout",
     "output_type": "stream",
     "text": [
      "3/3, train_loss: 1.8578\n",
      "epoch 207 average loss: 1.8820\n",
      "----------\n",
      "epoch 208/2000\n",
      "1/3, train_loss: 1.8646\n",
      "2/3, train_loss: 1.8837\n",
      "3/3, train_loss: 1.8084\n",
      "epoch 208 average loss: 1.8522\n"
     ]
    },
    {
     "name": "stderr",
     "output_type": "stream",
     "text": [
      " 10%|█████████████▌                                                                                                                     | 208/2000 [1:46:26<17:32:40, 35.25s/it]"
     ]
    },
    {
     "name": "stdout",
     "output_type": "stream",
     "text": [
      "current epoch: 208 current mean dice: 0.2543\n",
      "best mean dice: 0.2559 at epoch: 204\n",
      "----------\n",
      "epoch 209/2000\n",
      "1/3, train_loss: 1.8416\n",
      "2/3, train_loss: 1.8704\n"
     ]
    },
    {
     "name": "stderr",
     "output_type": "stream",
     "text": [
      " 10%|█████████████▋                                                                                                                     | 209/2000 [1:46:32<13:04:52, 26.29s/it]"
     ]
    },
    {
     "name": "stdout",
     "output_type": "stream",
     "text": [
      "3/3, train_loss: 1.8648\n",
      "epoch 209 average loss: 1.8589\n",
      "----------\n",
      "epoch 210/2000\n",
      "1/3, train_loss: 1.8761\n",
      "2/3, train_loss: 1.9000\n",
      "3/3, train_loss: 1.8657\n",
      "epoch 210 average loss: 1.8806\n"
     ]
    },
    {
     "name": "stderr",
     "output_type": "stream",
     "text": [
      " 10%|█████████████▊                                                                                                                     | 210/2000 [1:47:28<17:32:54, 35.29s/it]"
     ]
    },
    {
     "name": "stdout",
     "output_type": "stream",
     "text": [
      "current epoch: 210 current mean dice: 0.2556\n",
      "best mean dice: 0.2559 at epoch: 204\n",
      "----------\n",
      "epoch 211/2000\n",
      "1/3, train_loss: 1.8551\n",
      "2/3, train_loss: 1.8471\n"
     ]
    },
    {
     "name": "stderr",
     "output_type": "stream",
     "text": [
      " 11%|█████████████▊                                                                                                                     | 211/2000 [1:47:32<12:53:31, 25.94s/it]"
     ]
    },
    {
     "name": "stdout",
     "output_type": "stream",
     "text": [
      "3/3, train_loss: 1.8707\n",
      "epoch 211 average loss: 1.8577\n",
      "----------\n",
      "epoch 212/2000\n",
      "1/3, train_loss: 1.9379\n",
      "2/3, train_loss: 1.8552\n",
      "3/3, train_loss: 1.8651\n",
      "epoch 212 average loss: 1.8861\n"
     ]
    }
   ],
   "source": [
    "random.seed(12)\n",
    "max_epochs = 2000#params[\"max_epochs\"]\n",
    "val_interval = 2\n",
    "best_metric = -1\n",
    "best_metric_epoch = -1\n",
    "epoch_loss_values = []\n",
    "metric_values = []\n",
    "hausdorf_distance_values = []\n",
    "post_pred = Compose([EnsureType(), AsDiscrete(argmax=True,to_onehot=4)])\n",
    "post_label = Compose([EnsureType(), AsDiscrete(to_onehot=4)])\n",
    "for epoch in tqdm(range(max_epochs)):\n",
    "    print(\"-\" * 10)\n",
    "    print(f\"epoch {epoch + 1}/{max_epochs}\")\n",
    "    model.train()\n",
    "    epoch_loss = 0\n",
    "    epoch_focal_loss = 0\n",
    "    step = 0\n",
    "    for batch_data in train_loader:\n",
    "        step += 1\n",
    "        inputs, labels = (\n",
    "            batch_data[\"image\"].to(device),\n",
    "            batch_data[\"label\"].to(device),\n",
    "        )\n",
    "        optimizer.zero_grad()\n",
    "        outputs = model(inputs)\n",
    "        loss = loss_function(outputs, labels)\n",
    "        loss.backward()\n",
    "        optimizer.step()\n",
    "        epoch_loss += loss.item()\n",
    "        print(\n",
    "            f\"{step}/{len(train_ds) // train_loader.batch_size}, \"\n",
    "            f\"train_loss: {loss.item():.4f}\")\n",
    "    epoch_loss /= step\n",
    "    log_metric('epoch_loss',epoch_loss, step = epoch)\n",
    "    print(f\"epoch {epoch + 1} average loss: {epoch_loss:.4f}\")\n",
    "\n",
    "    if (epoch + 1) % val_interval == 0:\n",
    "        model.eval()\n",
    "        with torch.no_grad():\n",
    "            for val_data in val_loader:\n",
    "                val_inputs, val_labels = (\n",
    "                    val_data[\"image\"].to(device),\n",
    "                    val_data[\"label\"].to(device),\n",
    "                )\n",
    "                roi_size = params['crop_size']\n",
    "                sw_batch_size = 1\n",
    "                val_outputs = sliding_window_inference(\n",
    "                    val_inputs, \n",
    "                    roi_size, \n",
    "                    sw_batch_size, \n",
    "                    model\n",
    "                )\n",
    "                #get prediciton output\n",
    "                val_outputs = [post_pred(i) for i in decollate_batch(val_outputs)]\n",
    "                val_labels = [post_label(i) for i in decollate_batch(val_labels)]\n",
    "                filled  = [FillHoles(connectivity=2)(i) for i in val_outputs]\n",
    "                dice_metric(\n",
    "                    y_pred = val_outputs,\n",
    "                    y = val_labels\n",
    "                )\n",
    "                #hausdorf_distance_metric(y_pred=filled, \n",
    "                #                         y=val_labels)\n",
    "                #dice metric for deformed output, and prediction on deformed raw image\n",
    "            # aggregate the final mean dice result\n",
    "            metric = dice_metric.aggregate().item()\n",
    "            log_metric(\n",
    "                'dice',\n",
    "                metric,\n",
    "                step = epoch\n",
    "            )\n",
    "            ##hausdorf_distance = hausdorf_distance_metric.aggregate().item()\n",
    "            # reset the status for next validation round\n",
    "            dice_metric.reset()\n",
    "            #hausdorf_distance_metric.reset()\n",
    "\n",
    "            metric_values.append(\n",
    "                metric\n",
    "            )\n",
    "            #hausdorf_distance_values.append(\n",
    "            #    hausdorf_distance\n",
    "            #)\n",
    "            if metric > best_metric:\n",
    "                best_metric = metric\n",
    "                best_metric_epoch = epoch + 1\n",
    "                #torch.save(model.state_dict(), os.path.join(\n",
    "                #    directory, \"best_metric_model.pth\"))\n",
    "                print(\"saved new best metric model\")\n",
    "            print(\n",
    "                f\"current epoch: {epoch + 1} current mean dice: {metric:.4f}\"\n",
    "                #f\"\\ncurrent mean hausdorf distance: {hausdorf_distance:.4f}\"\n",
    "                f\"\\nbest mean dice: {best_metric:.4f} \"\n",
    "                f\"at epoch: {best_metric_epoch}\"\n",
    "            )"
   ]
  },
  {
   "cell_type": "code",
   "execution_count": null,
   "id": "566b2811",
   "metadata": {},
   "outputs": [],
   "source": [
    "for val_data in val_loader:\n",
    "    print(i)"
   ]
  },
  {
   "cell_type": "code",
   "execution_count": null,
   "id": "590ba161",
   "metadata": {},
   "outputs": [],
   "source": [
    "val_labels[0].shape"
   ]
  },
  {
   "cell_type": "code",
   "execution_count": null,
   "id": "fca515e9",
   "metadata": {},
   "outputs": [],
   "source": [
    "val_outputs.shape"
   ]
  },
  {
   "cell_type": "code",
   "execution_count": null,
   "id": "6eecaa8d",
   "metadata": {},
   "outputs": [],
   "source": [
    "outputs.shape"
   ]
  },
  {
   "cell_type": "code",
   "execution_count": null,
   "id": "7aa4eaa9",
   "metadata": {},
   "outputs": [],
   "source": [
    "\n",
    "val_inputs = val_data[\"image\"].to(device)"
   ]
  },
  {
   "cell_type": "code",
   "execution_count": null,
   "id": "3792f9d2",
   "metadata": {},
   "outputs": [],
   "source": [
    "val_inputs.shape"
   ]
  },
  {
   "cell_type": "code",
   "execution_count": null,
   "id": "226b9925",
   "metadata": {},
   "outputs": [],
   "source": [
    "roi_size = params['crop_size']\n",
    "roi_size"
   ]
  },
  {
   "cell_type": "code",
   "execution_count": null,
   "id": "37908063",
   "metadata": {},
   "outputs": [],
   "source": [
    "sw_batch_size = 1\n",
    "val_outputs = sliding_window_inference(\n",
    "    val_inputs, \n",
    "    roi_size, \n",
    "    sw_batch_size, \n",
    "    model,\n",
    "    device=torch.device('cpu')\n",
    ")"
   ]
  },
  {
   "cell_type": "code",
   "execution_count": null,
   "id": "bcb1072f",
   "metadata": {},
   "outputs": [],
   "source": [
    "val_outputs"
   ]
  },
  {
   "cell_type": "code",
   "execution_count": null,
   "id": "2720f1ef",
   "metadata": {},
   "outputs": [],
   "source": [
    "outputs_pred = [post_pred(i) for i in decollate_batch(outputs)]\n",
    "inputs_deform = [i for i in decollate_batch(inputs)]\n",
    "seed = random.randint(0,10000000)\n",
    "#deform raw image\n",
    "deform.set_random_state(seed = seed)\n",
    "deform_inputs = [deform(i,mode='bilinear') for i in inputs_deform]\n",
    "deform_inputs = torch.stack(deform_inputs)\n",
    "#deform validation output\n",
    "deform.set_random_state(seed = seed)\n",
    "deform_outputs_gt = [AsDiscrete(argmax=True)(deform(i,mode='nearest')) for i in outputs_pred]\n",
    "deform_outputs_gt = torch.stack(deform_outputs_gt)"
   ]
  },
  {
   "cell_type": "code",
   "execution_count": null,
   "id": "a7ff9cd9",
   "metadata": {},
   "outputs": [],
   "source": [
    "sliding_window_inference(\n",
    "                    val_inputs, \n",
    "                    roi_size, \n",
    "                    sw_batch_size, \n",
    "                    model\n",
    "                )"
   ]
  },
  {
   "cell_type": "code",
   "execution_count": null,
   "id": "4bbe8265",
   "metadata": {},
   "outputs": [],
   "source": [
    "deform_inputs.shape"
   ]
  },
  {
   "cell_type": "code",
   "execution_count": null,
   "id": "db21e71d",
   "metadata": {},
   "outputs": [],
   "source": [
    "torch.cat((inputs,deform_inputs),dim=0).shape"
   ]
  },
  {
   "cell_type": "code",
   "execution_count": null,
   "id": "4e3d8dbc",
   "metadata": {},
   "outputs": [],
   "source": [
    "torch.cat((torch.argmax(outputs,dim=1,keepdims=True),deform_outputs_gt),dim=0).shape"
   ]
  },
  {
   "cell_type": "code",
   "execution_count": null,
   "id": "83ee60bc",
   "metadata": {},
   "outputs": [],
   "source": [
    "torch.argmax(outputs,dim=1,keepdims=True).shape"
   ]
  },
  {
   "cell_type": "code",
   "execution_count": null,
   "id": "db7daaac",
   "metadata": {},
   "outputs": [],
   "source": [
    "labels.shape"
   ]
  },
  {
   "cell_type": "code",
   "execution_count": null,
   "id": "cabf291f",
   "metadata": {},
   "outputs": [],
   "source": [
    "plt.figure(\"check\", (12, 6))\n",
    "plt.subplot(1, 2, 1)\n",
    "plt.title(\"image\")\n",
    "img2 = torch.transpose(val_outputs_boundary_deform[0][:,:, :, 80],0,2)\n",
    "img2 = img2.cpu().detach().numpy()\n",
    "#img2 = np.append(img2,np.zeros((507,507,1)), axis=2)/np.max(img2)\n",
    "plt.imshow(img2[:,:,1], cmap=\"gray\")\n",
    "plt.subplot(1, 2, 2)\n",
    "plt.title(\"label\")\n",
    "img3 = torch.transpose(val_labels_boundary[0][:,:, :, 80],0,2)\n",
    "img3 = img3.cpu().detach().numpy()\n",
    "plt.imshow(img3[:,:,1], cmap='gray')\n",
    "plt.show()"
   ]
  },
  {
   "cell_type": "code",
   "execution_count": null,
   "id": "23bab334",
   "metadata": {},
   "outputs": [],
   "source": [
    "plt.figure(\"check\", (12, 6))\n",
    "plt.subplot(1, 2, 1)\n",
    "plt.title(\"image\")\n",
    "img2 = torch.transpose(filled_vessels_boundary_deform[0][:,:, :, 80],0,2)\n",
    "img2 = img2.cpu().detach().numpy()\n",
    "#img2 = np.append(img2,np.zeros((507,507,1)), axis=2)/np.max(img2)\n",
    "plt.imshow(img2[:,:,1], cmap=\"gray\")\n",
    "plt.subplot(1, 2, 2)\n",
    "plt.title(\"label\")\n",
    "img3 = torch.transpose(filled_vessels_boundary[0][:,:, :, 80],0,2)\n",
    "img3 = img3.cpu().detach().numpy()\n",
    "plt.imshow(img3[:,:,1], cmap='gray')\n",
    "plt.show()"
   ]
  },
  {
   "cell_type": "code",
   "execution_count": null,
   "id": "ade7b325",
   "metadata": {},
   "outputs": [],
   "source": [
    "y_pred = filled_vessels_boundary_deform[0].ne(filled_vessels_boundary[0]).int()[1]\n",
    "y = val_outputs_boundary_deform[0].ne(filled_vessels_boundary[0]).int()[1]"
   ]
  },
  {
   "cell_type": "code",
   "execution_count": null,
   "id": "1a8554bf",
   "metadata": {},
   "outputs": [],
   "source": [
    "#y_pred = filled_vessels_boundary_deform[0].ne(val_labels_boundary[0]).int()[1]\n",
    "#y = val_outputs_boundary_deform[0].ne(filled_vessels_boundary[0]).int()[1]"
   ]
  },
  {
   "cell_type": "code",
   "execution_count": null,
   "id": "8fa8c2bd",
   "metadata": {},
   "outputs": [],
   "source": [
    "y.shape"
   ]
  },
  {
   "cell_type": "code",
   "execution_count": null,
   "id": "a533d51b",
   "metadata": {},
   "outputs": [],
   "source": [
    "print(\n",
    "    f\"train completed, best_metric: {best_metric:.4f} \"\n",
    "    f\"at epoch: {best_metric_epoch}\"\n",
    ")\n",
    "record_metric(\"best_epoch\",best_metric_epoch)"
   ]
  },
  {
   "cell_type": "code",
   "execution_count": null,
   "id": "63629867",
   "metadata": {},
   "outputs": [],
   "source": [
    "plt.figure(\"check\", (12, 6))\n",
    "plt.subplot(1, 2, 1)\n",
    "plt.title(\"image\")\n",
    "img2 = y_pred[:,:, 80]\n",
    "img2 = img2.cpu().detach().numpy()\n",
    "#img2 = np.append(img2,np.zeros((507,507,1)), axis=2)/np.max(img2)\n",
    "plt.imshow(img2[:,:], cmap=\"gray\")\n",
    "plt.subplot(1, 2, 2)\n",
    "plt.title(\"label\")\n",
    "img3 = y[:, :, 80]\n",
    "img3 = img3.cpu().detach().numpy()\n",
    "plt.imshow(img3[:,:], cmap='gray')\n",
    "plt.show()"
   ]
  },
  {
   "cell_type": "markdown",
   "id": "a24a4342",
   "metadata": {},
   "source": [
    "# Save metrics"
   ]
  },
  {
   "cell_type": "code",
   "execution_count": null,
   "id": "1bf847a9",
   "metadata": {},
   "outputs": [],
   "source": [
    "df = pd.DataFrame()\n",
    "df['Epoch_Average_Loss'] = epoch_loss_values\n",
    "df.to_csv(directory + '/metrics_loss.csv')\n",
    "df = pd.DataFrame()\n",
    "df['Val_Mean_Dice'] = metric_values\n",
    "df['boundary_detection_dice'] = metric_values_boundary_difference_detection\n",
    "df['boundary_difference_dice'] = metric_values_deform_boundary_difference\n",
    "#df.to_csv(directory + '/metrics_validation.csv')"
   ]
  },
  {
   "cell_type": "markdown",
   "id": "4ca73c3e",
   "metadata": {},
   "source": [
    "# Plot the loss and metric"
   ]
  },
  {
   "cell_type": "code",
   "execution_count": null,
   "id": "1f80f4ec",
   "metadata": {},
   "outputs": [],
   "source": [
    "plt.figure(\"train\", (12, 6))\n",
    "plt.subplot(1, 2, 1)\n",
    "plt.title(\"Epoch Average Loss\")\n",
    "x = [i + 1 for i in range(len(epoch_loss_values))]\n",
    "y = epoch_loss_values\n",
    "plt.xlabel(\"epoch\")\n",
    "plt.plot(x, y)\n",
    "plt.subplot(1, 2, 2)\n",
    "plt.title(\"Val Mean Dice\")\n",
    "x = [val_interval * (i + 1) for i in range(len(metric_values))]\n",
    "y = metric_values\n",
    "plt.xlabel(\"epoch\")\n",
    "plt.plot(x, y)\n",
    "plt.savefig(directory +'ipynb_trial_Val_Loss+Dice.png')\n",
    "plt.show()"
   ]
  },
  {
   "cell_type": "markdown",
   "id": "47279946",
   "metadata": {},
   "source": [
    "# Check best model output with the input image and label"
   ]
  },
  {
   "cell_type": "code",
   "execution_count": null,
   "id": "6cbd7642",
   "metadata": {},
   "outputs": [],
   "source": [
    "model.load_state_dict(torch.load(\n",
    "    os.path.join(directory, \"best_metric_model.pth\")))\n",
    "model.eval()\n",
    "with torch.no_grad():\n",
    "    for i, val_data in enumerate(val_loader):\n",
    "        roi_size = (160, 160, 160)\n",
    "        sw_batch_size = 4\n",
    "        val_outputs = sliding_window_inference(\n",
    "            val_data[\"image\"].to(device), roi_size, sw_batch_size, model\n",
    "        )\n",
    "        # plot the slice [:, :, 80]\n",
    "        plt.figure(\"check\", (18, 6))\n",
    "        plt.subplot(1, 3, 1)\n",
    "        plt.title(f\"image {i}\")\n",
    "        plt.imshow(val_data[\"image\"][0, 0, :, :, 80], cmap=\"gray\")\n",
    "        plt.subplot(1, 3, 2)\n",
    "        plt.title(f\"label {i}\")\n",
    "        plt.imshow(val_data[\"label\"][0, 0, :, :, 80])\n",
    "        plt.subplot(1, 3, 3)\n",
    "        plt.title(f\"output {i}\")\n",
    "        plt.imshow(torch.argmax(\n",
    "            val_outputs, dim=1).detach().cpu()[0, :, :, 80])\n",
    "        plt.show()\n",
    "        if i == 2:\n",
    "            break"
   ]
  },
  {
   "cell_type": "markdown",
   "id": "12a1a1da",
   "metadata": {},
   "source": [
    "# Evaluation on original image spacings"
   ]
  },
  {
   "cell_type": "code",
   "execution_count": null,
   "id": "36985eef",
   "metadata": {},
   "outputs": [],
   "source": [
    "val_org_transforms = Compose(\n",
    "    [\n",
    "        LoadImaged(keys=[\"image\", \"label\"]),\n",
    "        EnsureChannelFirstd(keys=[\"image\", \"label\"]),\n",
    "        Spacingd(keys=[\"image\"], pixdim=(\n",
    "            1.5, 1.5, 2.0), mode=\"bilinear\"),\n",
    "        Orientationd(keys=[\"image\"], axcodes=\"RAS\"),\n",
    "        ScaleIntensityRanged(\n",
    "            keys=[\"image\"], a_min=-57, a_max=164,\n",
    "            b_min=0.0, b_max=1.0, clip=True,\n",
    "        ),\n",
    "        CropForegroundd(keys=[\"image\"], source_key=\"image\"),\n",
    "        EnsureTyped(keys=[\"image\", \"label\"]),\n",
    "    ]\n",
    ")\n",
    "\n",
    "val_org_ds = Dataset(\n",
    "    data=val_files, transform=val_org_transforms)\n",
    "val_org_loader = DataLoader(val_org_ds, batch_size=1, num_workers=4)\n",
    "\n",
    "post_transforms = Compose(\n",
    "    [\n",
    "    EnsureTyped(keys=\"pred\"),\n",
    "    Invertd(\n",
    "        keys=\"pred\",\n",
    "        transform=val_org_transforms,\n",
    "        orig_keys=\"image\",\n",
    "        meta_keys=\"pred_meta_dict\",\n",
    "        orig_meta_keys=\"image_meta_dict\",\n",
    "        meta_key_postfix=\"meta_dict\",\n",
    "        nearest_interp=False,\n",
    "        to_tensor=True,\n",
    "    ),\n",
    "    AsDiscreted(keys=\"pred\", argmax=True, to_onehot=2),\n",
    "    AsDiscreted(keys=\"label\", to_onehot=2),\n",
    "    ]\n",
    ")"
   ]
  },
  {
   "cell_type": "code",
   "execution_count": null,
   "id": "e792c683",
   "metadata": {},
   "outputs": [],
   "source": [
    "model.load_state_dict(torch.load(\n",
    "    os.path.join(directory, \"best_metric_model.pth\")))\n",
    "model.eval()\n",
    "\n",
    "with torch.no_grad():\n",
    "    for val_data in val_org_loader:\n",
    "        val_inputs = val_data[\"image\"].to(device)\n",
    "        roi_size = (160, 160, 160)\n",
    "        sw_batch_size = 4\n",
    "        val_data[\"pred\"] = sliding_window_inference(\n",
    "            val_inputs, roi_size, sw_batch_size, model)\n",
    "        val_data = [post_transforms(i) for i in decollate_batch(val_data)]\n",
    "        val_outputs, val_labels = from_engine([\"pred\", \"label\"])(val_data)\n",
    "        # compute metric for current iteration\n",
    "        dice_metric(y_pred=val_outputs, y=val_labels)\n",
    "\n",
    "    # aggregate the final mean dice result\n",
    "    metric_org = dice_metric.aggregate().item()\n",
    "    # reset the status for next validation round\n",
    "    dice_metric.reset()\n",
    "\n",
    "print(\"Metric on original image spacing: \", metric_org)"
   ]
  },
  {
   "cell_type": "code",
   "execution_count": null,
   "id": "712f0e51",
   "metadata": {},
   "outputs": [],
   "source": []
  },
  {
   "cell_type": "code",
   "execution_count": null,
   "id": "ffabfb97",
   "metadata": {},
   "outputs": [],
   "source": []
  },
  {
   "cell_type": "code",
   "execution_count": null,
   "id": "2423e60e",
   "metadata": {},
   "outputs": [],
   "source": []
  },
  {
   "cell_type": "code",
   "execution_count": null,
   "id": "67145682",
   "metadata": {},
   "outputs": [],
   "source": []
  }
 ],
 "metadata": {
  "kernelspec": {
   "display_name": "monai3.8",
   "language": "python",
   "name": "monai3.8"
  },
  "language_info": {
   "codemirror_mode": {
    "name": "ipython",
    "version": 3
   },
   "file_extension": ".py",
   "mimetype": "text/x-python",
   "name": "python",
   "nbconvert_exporter": "python",
   "pygments_lexer": "ipython3",
   "version": "3.8.10"
  }
 },
 "nbformat": 4,
 "nbformat_minor": 5
}
