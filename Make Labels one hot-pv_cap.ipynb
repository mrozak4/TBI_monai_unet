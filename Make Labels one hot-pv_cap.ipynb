{
 "cells": [
  {
   "cell_type": "code",
   "execution_count": 2,
   "id": "8ddee3ef",
   "metadata": {},
   "outputs": [],
   "source": [
    "from pathlib import Path\n",
    "import re\n",
    "from skimage import io\n",
    "import numpy as np\n",
    "from tqdm import tqdm"
   ]
  },
  {
   "cell_type": "code",
   "execution_count": 3,
   "id": "0b7d09ab",
   "metadata": {},
   "outputs": [],
   "source": [
    "train_labels_path = Path('../TBI/PV-cap sep model/')\n",
    "train_labels = list(train_labels_path.glob('*.tiff'))\n",
    "train_labels = [x.as_posix() for x in train_labels]"
   ]
  },
  {
   "cell_type": "code",
   "execution_count": 7,
   "id": "6c218853",
   "metadata": {},
   "outputs": [
    {
     "name": "stderr",
     "output_type": "stream",
     "text": [
      "  0%|                                                                                                                                                                                                             | 0/5 [00:00<?, ?it/s]/home/b/bojana/rozakmat/.conda/envs/jupyter_env/lib/python3.7/site-packages/ipykernel_launcher.py:17: UserWarning: ../TBI/PV-cap sep model/XYZres018_0001_Simple Segmentation_sub1.tiff is a low contrast image\n",
      " 20%|███████████████████████████████████████▍                                                                                                                                                             | 1/5 [00:00<00:03,  1.21it/s]"
     ]
    },
    {
     "name": "stdout",
     "output_type": "stream",
     "text": [
      "3\n",
      "0\n"
     ]
    },
    {
     "name": "stderr",
     "output_type": "stream",
     "text": [
      "/home/b/bojana/rozakmat/.conda/envs/jupyter_env/lib/python3.7/site-packages/ipykernel_launcher.py:17: UserWarning: ../TBI/PV-cap sep model/XYZres037_Simple Segmentation_sub1.tiff is a low contrast image\n",
      "\r",
      " 40%|██████████████████████████████████████████████████████████████████████████████▊                                                                                                                      | 2/5 [00:01<00:02,  1.24it/s]"
     ]
    },
    {
     "name": "stdout",
     "output_type": "stream",
     "text": [
      "3\n",
      "0\n",
      "3\n",
      "0\n"
     ]
    },
    {
     "name": "stderr",
     "output_type": "stream",
     "text": [
      "/home/b/bojana/rozakmat/.conda/envs/jupyter_env/lib/python3.7/site-packages/ipykernel_launcher.py:17: UserWarning: ../TBI/PV-cap sep model/XYZres032_Simple Segmentation_sub1.tiff is a low contrast image\n",
      "\r",
      " 60%|██████████████████████████████████████████████████████████████████████████████████████████████████████████████████████▏                                                                              | 3/5 [00:02<00:01,  1.19it/s]"
     ]
    },
    {
     "name": "stdout",
     "output_type": "stream",
     "text": [
      "3\n",
      "0\n"
     ]
    },
    {
     "name": "stderr",
     "output_type": "stream",
     "text": [
      "/home/b/bojana/rozakmat/.conda/envs/jupyter_env/lib/python3.7/site-packages/ipykernel_launcher.py:17: UserWarning: ../TBI/PV-cap sep model/XYZres042_0001_Simple Segmentation_sub1.tiff is a low contrast image\n",
      " 80%|█████████████████████████████████████████████████████████████████████████████████████████████████████████████████████████████████████████████████████████████▌                                       | 4/5 [00:03<00:00,  1.16it/s]/home/b/bojana/rozakmat/.conda/envs/jupyter_env/lib/python3.7/site-packages/ipykernel_launcher.py:17: UserWarning: ../TBI/PV-cap sep model/XYZres050_Simple Segmentation_sub1.tiff is a low contrast image\n",
      "100%|█████████████████████████████████████████████████████████████████████████████████████████████████████████████████████████████████████████████████████████████████████████████████████████████████████| 5/5 [00:04<00:00,  1.20it/s]"
     ]
    },
    {
     "name": "stdout",
     "output_type": "stream",
     "text": [
      "3\n",
      "0\n"
     ]
    },
    {
     "name": "stderr",
     "output_type": "stream",
     "text": [
      "\n"
     ]
    }
   ],
   "source": [
    "for label in tqdm(train_labels):\n",
    "    image = io.imread(label)\n",
    "    shape_origional = image.shape\n",
    "    shape_new = [shape_origional[0],\n",
    "                len(np.unique(image)),\n",
    "                *shape_origional[2:]]\n",
    "    image = np.reshape (image,(96,1,512,512))\n",
    "    image = image - 1\n",
    "    print(np.max(image))\n",
    "    print(np.min(image))\n",
    "    #new_image = np.zeros(shape_new)\n",
    "    #for i in np.unique(image):\n",
    "    #    I = i-1\n",
    "    #    new_image[:,I,:,:][image[:,0,:,:]==i] = 1\n",
    "    #new_image = new_image[:,1:,:,:]\n",
    "    \n",
    "    io.imsave(re.sub('.tiff','_sub1.tiff',label), image)\n"
   ]
  },
  {
   "cell_type": "code",
   "execution_count": 6,
   "id": "fbef3fba",
   "metadata": {},
   "outputs": [
    {
     "data": {
      "text/plain": [
       "(96, 1, 512, 512)"
      ]
     },
     "execution_count": 6,
     "metadata": {},
     "output_type": "execute_result"
    }
   ],
   "source": [
    "image.shape"
   ]
  },
  {
   "cell_type": "code",
   "execution_count": 18,
   "id": "be36356b",
   "metadata": {},
   "outputs": [
    {
     "data": {
      "text/plain": [
       "1.0"
      ]
     },
     "execution_count": 18,
     "metadata": {},
     "output_type": "execute_result"
    }
   ],
   "source": [
    "np.max(new_image[:,0,:,:])"
   ]
  },
  {
   "cell_type": "code",
   "execution_count": null,
   "id": "9c56b61f",
   "metadata": {},
   "outputs": [],
   "source": []
  }
 ],
 "metadata": {
  "kernelspec": {
   "display_name": "Python 3 (ipykernel)",
   "language": "python",
   "name": "python3"
  },
  "language_info": {
   "codemirror_mode": {
    "name": "ipython",
    "version": 3
   },
   "file_extension": ".py",
   "mimetype": "text/x-python",
   "name": "python",
   "nbconvert_exporter": "python",
   "pygments_lexer": "ipython3",
   "version": "3.7.12"
  }
 },
 "nbformat": 4,
 "nbformat_minor": 5
}
