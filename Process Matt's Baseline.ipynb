{
 "cells": [
  {
   "cell_type": "code",
   "execution_count": 26,
   "id": "a7be0782",
   "metadata": {},
   "outputs": [],
   "source": [
    "#from nipype.interfaces import niftyreg\n",
    "import numpy as np\n",
    "from skimage import io\n",
    "from pathlib import Path\n",
    "import re\n",
    "import ants\n",
    "from skimage.transform import resize\n",
    "from tqdm import tqdm\n",
    "from skimage.morphology import skeletonize_3d, binary_dilation, binary_closing\n",
    "from scipy.ndimage import distance_transform_edt\n",
    "import tifffile as tif\n",
    "from scipy.ndimage import binary_fill_holes \n",
    "import cc3d\n",
    "from scipy.io import loadmat, savemat\n",
    "import skan\n",
    "import sknw\n",
    "import networkx as nx\n",
    "import pickle\n",
    "import os\n",
    "import matplotlib.pyplot as plt\n",
    "import pandas as pd\n",
    "import datetime as dt"
   ]
  },
  {
   "cell_type": "markdown",
   "id": "7d2f724d",
   "metadata": {},
   "source": [
    "# Define connected componnet removal"
   ]
  },
  {
   "cell_type": "code",
   "execution_count": 2,
   "id": "e9888d7e",
   "metadata": {},
   "outputs": [],
   "source": [
    "def remove_small_comps_3d(image, thresh = 500):\n",
    "    \"\"\"\n",
    "    \n",
    "\n",
    "    Parameters\n",
    "    ----------\n",
    "    image : binary np array with uint8 elements\n",
    "        3d numpy matrix, connected components will be removed form this image\n",
    "    thresh : int64\n",
    "        smallest connected components to keep\n",
    "\n",
    "    Returns\n",
    "    -------\n",
    "    np.array with uint8 elements, binary\n",
    "        binary image with connected components below the threshold removed.\n",
    "\n",
    "    \"\"\"\n",
    "    img_lab, N = cc3d.connected_components(image,return_N=True)\n",
    "    unique, counts = np.unique(img_lab, return_counts=True)\n",
    "    unique_keep = unique[counts>thresh]\n",
    "    unique_keep = np.delete(unique_keep,[0])\n",
    "    img_filt = np.zeros(img_lab.shape).astype('int8')\n",
    "    img_filt[np.isin(img_lab,unique_keep)] = 1\n",
    "    return img_filt.astype('uint8')   \n",
    "\n",
    "def fill_holes(img,thresh=100):\n",
    "    #res = np.zeros(img.shape)\n",
    "    for i in np.unique(img)[::-1]:\n",
    "        _tmp = (img==i)*1.0\n",
    "        _tmp = _tmp.astype('int8')\n",
    "        _tmp = remove_small_comps_3d(_tmp,thresh=thresh)\n",
    "        img[_tmp==1] = i\n",
    "    res = img.astype('int8')\n",
    "    return res\n",
    "def invert_raw(x):\n",
    "    return x[:,:,:,::-1]\n",
    "def invert_label(x):\n",
    "    return x[:,:,::-1]"
   ]
  },
  {
   "cell_type": "markdown",
   "id": "348d7b76",
   "metadata": {},
   "source": [
    "# Get mean predictions"
   ]
  },
  {
   "cell_type": "code",
   "execution_count": 20,
   "id": "e5b09644",
   "metadata": {},
   "outputs": [],
   "source": [
    "directory = Path('matt_preds')\n",
    "files  = directory.glob('*_mean.npy')\n",
    "files = sorted([x.as_posix() for x in files])"
   ]
  },
  {
   "cell_type": "code",
   "execution_count": 21,
   "id": "ec5c3c26",
   "metadata": {},
   "outputs": [
    {
     "data": {
      "text/plain": [
       "390"
      ]
     },
     "execution_count": 21,
     "metadata": {},
     "output_type": "execute_result"
    }
   ],
   "source": [
    "len(files)"
   ]
  },
  {
   "cell_type": "markdown",
   "id": "6f8db528",
   "metadata": {},
   "source": [
    "# High bias low varience segmentation\n",
    "\n",
    "With removal of connected components under 500 pixels"
   ]
  },
  {
   "cell_type": "code",
   "execution_count": 28,
   "id": "70b4b238",
   "metadata": {},
   "outputs": [
    {
     "name": "stderr",
     "output_type": "stream",
     "text": [
      "100%|██████████| 372/372 [29:38<00:00,  4.78s/it] \n"
     ]
    }
   ],
   "source": [
    "min_prob = 0.75\n",
    "max_var = 0.1\n",
    "for file in tqdm(files[18:]):\n",
    "    if not dt.datetime.fromtimestamp(os.path.getctime(re.sub('mean','seg',file))).date() == dt.datetime.now().date():\n",
    "    #if not os.path.exists(re.sub('mean','seg',file)):\n",
    "        mean = np.load(file)\n",
    "        std = np.load(re.sub('mean','std',file))\n",
    "        seg = np.zeros(mean.shape[1:])\n",
    "        seg[(mean[1,:,:,:] > min_prob) * (std[1,:,:,:] < max_var)] = 1\n",
    "        seg[(mean[2,:,:,:] > min_prob) * (std[2,:,:,:] < max_var)] = 2\n",
    "        seg = seg.astype('int8')\n",
    "        seg = (seg==1)*1\n",
    "        seg = fill_holes(seg)\n",
    "        seg = seg.astype('float32')\n",
    "        np.save(re.sub('mean','seg',file),seg)\n",
    "        #savemat(re.sub('mean.npy','seg.mat',file),{'FinalImage':fill_holes(binary_dilation(binary_dilation(seg)))})\n",
    "        #tif.imwrite(re.sub('mean.npy','seg.tif',file),seg)"
   ]
  },
  {
   "cell_type": "markdown",
   "id": "3dca6732",
   "metadata": {},
   "source": [
    "# ANTs registration"
   ]
  },
  {
   "cell_type": "markdown",
   "id": "9d9228eb",
   "metadata": {},
   "source": [
    "## Upsample raw images"
   ]
  },
  {
   "cell_type": "code",
   "execution_count": 29,
   "id": "69b86439",
   "metadata": {},
   "outputs": [
    {
     "data": {
      "text/plain": [
       "432"
      ]
     },
     "execution_count": 29,
     "metadata": {},
     "output_type": "execute_result"
    }
   ],
   "source": [
    "image_path = Path('../TBI')\n",
    "images = list(image_path.glob('*_*/XYZres*?[0-9].tif'))\n",
    "images = sorted([x.as_posix() for x in images])\n",
    "len(images)"
   ]
  },
  {
   "cell_type": "code",
   "execution_count": 30,
   "id": "d8959038",
   "metadata": {},
   "outputs": [
    {
     "name": "stderr",
     "output_type": "stream",
     "text": [
      "100%|██████████| 432/432 [00:00<00:00, 36095.85it/s]\n"
     ]
    }
   ],
   "source": [
    "for i in tqdm(range(len(images))[::-1]):\n",
    "    if not os.path.exists('matt_preds/'+re.sub('.tif','_upsamp.npy',Path(images[i]).name)):\n",
    "        image = io.imread(images[i])\n",
    "        image = np.swapaxes(image,0,1)\n",
    "        image = np.swapaxes(image,1,3)\n",
    "        image = resize(image,(2,507,507,252),preserve_range=True)\n",
    "        zeros = np.zeros((1,507,507,252)).astype('uint16')\n",
    "        image = np.append(image,zeros,axis = 0)\n",
    "        image = image.astype('float32')\n",
    "        io.imsave('matt_preds/'+re.sub('.tif','_upsamp.tif',Path(images[i]).name),image)\n",
    "        np.save('matt_preds/'+re.sub('.tif','_upsamp.npy',Path(images[i]).name),image)"
   ]
  },
  {
   "cell_type": "code",
   "execution_count": 31,
   "id": "53558e30",
   "metadata": {},
   "outputs": [
    {
     "data": {
      "text/plain": [
       "'../TBI/20200217_11/XYZres100.tif'"
      ]
     },
     "execution_count": 31,
     "metadata": {},
     "output_type": "execute_result"
    }
   ],
   "source": [
    "images[i]"
   ]
  },
  {
   "cell_type": "markdown",
   "id": "33f08281",
   "metadata": {},
   "source": [
    "## reshape numpy seg files and resave as tif"
   ]
  },
  {
   "cell_type": "code",
   "execution_count": 32,
   "id": "600a9ddf",
   "metadata": {},
   "outputs": [],
   "source": [
    "directory_seg = Path('matt_preds')\n",
    "files_seg  = list(directory_seg.glob('*_seg.npy'))\n",
    "files_seg = sorted([x.as_posix() for x in files_seg])"
   ]
  },
  {
   "cell_type": "code",
   "execution_count": 33,
   "id": "ad13dd67",
   "metadata": {},
   "outputs": [
    {
     "name": "stderr",
     "output_type": "stream",
     "text": [
      "100%|██████████| 390/390 [00:00<00:00, 69026.02it/s]\n"
     ]
    }
   ],
   "source": [
    "for i in tqdm(range(len(files_seg))):\n",
    "    if not os.path.exists(re.sub('.npy','.tif',files_seg[i])):\n",
    "        tmp = np.load(files_seg[i])\n",
    "        tmp = np.reshape(tmp,(1,507,507,252))\n",
    "        io.imsave(re.sub('.npy','.tif',files_seg[i]),tmp.astype('float32'))"
   ]
  },
  {
   "cell_type": "markdown",
   "id": "36bf7115",
   "metadata": {},
   "source": [
    "## Register images and transform masks"
   ]
  },
  {
   "cell_type": "code",
   "execution_count": 42,
   "id": "0ae4f584",
   "metadata": {},
   "outputs": [],
   "source": [
    "rep = {\n",
    "    \"53\":\"60\",\n",
    "    \"54\":\"59\",\n",
    "    \"55\":\"58\",\n",
    "    \"56\":\"57\",\n",
    "    \"69\":\"76\",\n",
    "    \"70\":\"75\",\n",
    "    \"71\":\"74\",\n",
    "    \"72\":\"73\",\n",
    "    \"85\":\"88\",\n",
    "    \"86\":\"90\",\n",
    "    \"95\":\"102\",\n",
    "    \"96\":\"101\",\n",
    "    \"97\":\"100\",\n",
    "    \"98\":\"99\",\n",
    "    \"103\":\"110\",\n",
    "    \"104\":\"109\",\n",
    "    \"106\":\"111\",\n",
    "    \"112\":\"109\",\n",
    "    \"115\":\"118\",\n",
    "    \"116\":\"117\",\n",
    "    \"117\":\"120\",\n",
    "    \"125\":\"132\",\n",
    "    \"126\":\"131\",\n",
    "    \"127\":\"130\",\n",
    "    \"128\":\"129\",\n",
    "    \"143\":\"149\",\n",
    "    \"144\":\"150\",\n",
    "    \"145\":\"147\",\n",
    "    \"146\":\"148\",\n",
    "    \"151\":\"158\",\n",
    "    \"154\":\"157\",\n",
    "    \"159\":\"166\",\n",
    "    \"160\":\"165\",\n",
    "    \"161\":\"164\",\n",
    "    \"162\":\"163\",\n",
    "    \"171\":\"178\",\n",
    "    \"172\":\"177\",\n",
    "    \"173\":\"176\",\n",
    "    \"174\":\"175\",\n",
    "    \"187\":\"190\",\n",
    "    \"184\":\"189\",\n",
    "    \"185\":\"188\",\n",
    "    \"186\":\"191\",\n",
    "    \"198\":\"205\",\n",
    "    \"199\":\"204\",\n",
    "    \"200\":\"203\",\n",
    "    \"201\":\"202\",\n",
    "    \"210\":\"213\",\n",
    "    \"216\":\"211\",\n",
    "    \"218\":\"217\",\n",
    "    \"212\":\"215\",\n",
    "    \"237\":\"240\",\n",
    "    \"235\":\"234\",\n",
    "    \"240\":\"241\",\n",
    "    \"233\":\"236\",\n",
    "    \"244\":\"249\",\n",
    "    \"248\":\"252\",\n",
    "    \"250\":\"243\",\n",
    "    \"247\":\"246\",\n",
    "    \"253\":\"260\",\n",
    "    \"261\":\"256\",\n",
    "    \"255\":\"258\",\n",
    "    \"262\":\"254\",\n",
    "    \"264\":\"272\",\n",
    "    \"266\":\"267\",\n",
    "    \"270\":\"263\",\n",
    "    \"272\":\"286\",\n",
    "    \"278\":\"282\",\n",
    "    \"273\":\"275\",\n",
    "    \"277\":\"280\",\n",
    "    \"283\":\"286\",\n",
    "    \"284\":\"285\",\n",
    "    \"253\":\"260\",\n",
    "    \"262\":\"254\",\n",
    "    \"300\":\"288\",\n",
    "    \"294\":\"298\",\n",
    "    \"297\":\"295\",\n",
    "    \"329\":\"332\",\n",
    "    \"338\":\"334\",\n",
    "    \"333\":\"336\",\n",
    "    \"335\":\"330\"\n",
    "}"
   ]
  },
  {
   "cell_type": "code",
   "execution_count": 48,
   "id": "9dfc93cf",
   "metadata": {},
   "outputs": [
    {
     "data": {
      "text/plain": [
       "'matt_preds/XYZres103_upsamp.npy'"
      ]
     },
     "execution_count": 48,
     "metadata": {},
     "output_type": "execute_result"
    }
   ],
   "source": [
    "directory_seg = Path('matt_preds')\n",
    "images = list(directory_seg.glob('*res*_upsamp.npy'))\n",
    "images = sorted([x.as_posix() for x in images if '_0001' not in x.as_posix()])#[0:2]\n",
    "images = [x for x in images if any(y in x for y in rep.keys())]\n",
    "images[0]"
   ]
  },
  {
   "cell_type": "code",
   "execution_count": 49,
   "id": "3e5cdab6",
   "metadata": {},
   "outputs": [
    {
     "name": "stdout",
     "output_type": "stream",
     "text": [
      "matt_preds/XYZres99_upsamp.npy\n"
     ]
    }
   ],
   "source": [
    "images = [x for x in images if any(y in x for y in rep.keys())][::-1]\n",
    "for x in rep.keys():\n",
    "    if x in images[0]:\n",
    "        print(re.sub(x,rep[x],images[0]))"
   ]
  },
  {
   "cell_type": "code",
   "execution_count": 50,
   "id": "ade09ac9",
   "metadata": {},
   "outputs": [
    {
     "name": "stderr",
     "output_type": "stream",
     "text": [
      "  0%|          | 0/67 [00:00<?, ?it/s]"
     ]
    },
    {
     "name": "stdout",
     "output_type": "stream",
     "text": [
      "matt_preds/XYZres100_upsamp.npy\n"
     ]
    },
    {
     "name": "stderr",
     "output_type": "stream",
     "text": [
      "/tmp/ipykernel_2318938/3636203856.py:21: UserWarning:\n",
      "\n",
      "matt_preds/XYZres97_seg_warped_baseline.tif is a low contrast image\n",
      "\n",
      "/tmp/ipykernel_2318938/3636203856.py:22: UserWarning:\n",
      "\n",
      "matt_preds/XYZres100_seg_warped_baseline.tif is a low contrast image\n",
      "\n",
      "  3%|▎         | 2/67 [01:05<35:33, 32.82s/it]"
     ]
    },
    {
     "name": "stdout",
     "output_type": "stream",
     "text": [
      "matt_preds/XYZres101_upsamp.npy\n"
     ]
    },
    {
     "name": "stderr",
     "output_type": "stream",
     "text": [
      "/tmp/ipykernel_2318938/3636203856.py:21: UserWarning:\n",
      "\n",
      "matt_preds/XYZres96_seg_warped_baseline.tif is a low contrast image\n",
      "\n",
      "/tmp/ipykernel_2318938/3636203856.py:22: UserWarning:\n",
      "\n",
      "matt_preds/XYZres101_seg_warped_baseline.tif is a low contrast image\n",
      "\n",
      "  4%|▍         | 3/67 [02:13<50:39, 47.49s/it]"
     ]
    },
    {
     "name": "stdout",
     "output_type": "stream",
     "text": [
      "matt_preds/XYZres102_upsamp.npy\n"
     ]
    },
    {
     "name": "stderr",
     "output_type": "stream",
     "text": [
      "/tmp/ipykernel_2318938/3636203856.py:21: UserWarning:\n",
      "\n",
      "matt_preds/XYZres95_seg_warped_baseline.tif is a low contrast image\n",
      "\n",
      "/tmp/ipykernel_2318938/3636203856.py:22: UserWarning:\n",
      "\n",
      "matt_preds/XYZres102_seg_warped_baseline.tif is a low contrast image\n",
      "\n",
      "  6%|▌         | 4/67 [03:27<1:00:11, 57.33s/it]"
     ]
    },
    {
     "name": "stdout",
     "output_type": "stream",
     "text": [
      "matt_preds/XYZres90_upsamp.npy\n"
     ]
    },
    {
     "name": "stderr",
     "output_type": "stream",
     "text": [
      "/tmp/ipykernel_2318938/3636203856.py:21: UserWarning:\n",
      "\n",
      "matt_preds/XYZres86_seg_warped_baseline.tif is a low contrast image\n",
      "\n",
      "/tmp/ipykernel_2318938/3636203856.py:22: UserWarning:\n",
      "\n",
      "matt_preds/XYZres90_seg_warped_baseline.tif is a low contrast image\n",
      "\n",
      "  7%|▋         | 5/67 [04:36<1:03:33, 61.50s/it]"
     ]
    },
    {
     "name": "stdout",
     "output_type": "stream",
     "text": [
      "matt_preds/XYZres88_upsamp.npy\n"
     ]
    },
    {
     "name": "stderr",
     "output_type": "stream",
     "text": [
      "/tmp/ipykernel_2318938/3636203856.py:21: UserWarning:\n",
      "\n",
      "matt_preds/XYZres85_seg_warped_baseline.tif is a low contrast image\n",
      "\n",
      "/tmp/ipykernel_2318938/3636203856.py:22: UserWarning:\n",
      "\n",
      "matt_preds/XYZres88_seg_warped_baseline.tif is a low contrast image\n",
      "\n",
      "  9%|▉         | 6/67 [05:53<1:07:29, 66.39s/it]"
     ]
    },
    {
     "name": "stdout",
     "output_type": "stream",
     "text": [
      "matt_preds/XYZres73_upsamp.npy\n"
     ]
    },
    {
     "name": "stderr",
     "output_type": "stream",
     "text": [
      "/tmp/ipykernel_2318938/3636203856.py:21: UserWarning:\n",
      "\n",
      "matt_preds/XYZres72_seg_warped_baseline.tif is a low contrast image\n",
      "\n",
      "/tmp/ipykernel_2318938/3636203856.py:22: UserWarning:\n",
      "\n",
      "matt_preds/XYZres73_seg_warped_baseline.tif is a low contrast image\n",
      "\n",
      " 10%|█         | 7/67 [07:04<1:07:55, 67.93s/it]"
     ]
    },
    {
     "name": "stdout",
     "output_type": "stream",
     "text": [
      "matt_preds/XYZres74_upsamp.npy\n"
     ]
    },
    {
     "name": "stderr",
     "output_type": "stream",
     "text": [
      "/tmp/ipykernel_2318938/3636203856.py:21: UserWarning:\n",
      "\n",
      "matt_preds/XYZres71_seg_warped_baseline.tif is a low contrast image\n",
      "\n",
      "/tmp/ipykernel_2318938/3636203856.py:22: UserWarning:\n",
      "\n",
      "matt_preds/XYZres74_seg_warped_baseline.tif is a low contrast image\n",
      "\n",
      " 12%|█▏        | 8/67 [08:17<1:08:23, 69.56s/it]"
     ]
    },
    {
     "name": "stdout",
     "output_type": "stream",
     "text": [
      "matt_preds/XYZres75_upsamp.npy\n"
     ]
    },
    {
     "name": "stderr",
     "output_type": "stream",
     "text": [
      "/tmp/ipykernel_2318938/3636203856.py:21: UserWarning:\n",
      "\n",
      "matt_preds/XYZres70_seg_warped_baseline.tif is a low contrast image\n",
      "\n",
      "/tmp/ipykernel_2318938/3636203856.py:22: UserWarning:\n",
      "\n",
      "matt_preds/XYZres75_seg_warped_baseline.tif is a low contrast image\n",
      "\n",
      " 13%|█▎        | 9/67 [09:28<1:07:43, 70.06s/it]"
     ]
    },
    {
     "name": "stdout",
     "output_type": "stream",
     "text": [
      "matt_preds/XYZres76_upsamp.npy\n"
     ]
    },
    {
     "name": "stderr",
     "output_type": "stream",
     "text": [
      "/tmp/ipykernel_2318938/3636203856.py:21: UserWarning:\n",
      "\n",
      "matt_preds/XYZres69_seg_warped_baseline.tif is a low contrast image\n",
      "\n",
      "/tmp/ipykernel_2318938/3636203856.py:22: UserWarning:\n",
      "\n",
      "matt_preds/XYZres76_seg_warped_baseline.tif is a low contrast image\n",
      "\n",
      " 15%|█▍        | 10/67 [10:43<1:07:54, 71.48s/it]"
     ]
    },
    {
     "name": "stdout",
     "output_type": "stream",
     "text": [
      "matt_preds/XYZres57_upsamp.npy\n"
     ]
    },
    {
     "name": "stderr",
     "output_type": "stream",
     "text": [
      "/tmp/ipykernel_2318938/3636203856.py:21: UserWarning:\n",
      "\n",
      "matt_preds/XYZres56_seg_warped_baseline.tif is a low contrast image\n",
      "\n",
      "/tmp/ipykernel_2318938/3636203856.py:22: UserWarning:\n",
      "\n",
      "matt_preds/XYZres57_seg_warped_baseline.tif is a low contrast image\n",
      "\n",
      " 16%|█▋        | 11/67 [11:58<1:07:43, 72.56s/it]"
     ]
    },
    {
     "name": "stdout",
     "output_type": "stream",
     "text": [
      "matt_preds/XYZres58_upsamp.npy\n"
     ]
    },
    {
     "name": "stderr",
     "output_type": "stream",
     "text": [
      "/tmp/ipykernel_2318938/3636203856.py:21: UserWarning:\n",
      "\n",
      "matt_preds/XYZres55_seg_warped_baseline.tif is a low contrast image\n",
      "\n",
      "/tmp/ipykernel_2318938/3636203856.py:22: UserWarning:\n",
      "\n",
      "matt_preds/XYZres58_seg_warped_baseline.tif is a low contrast image\n",
      "\n",
      " 18%|█▊        | 12/67 [13:09<1:06:01, 72.03s/it]"
     ]
    },
    {
     "name": "stdout",
     "output_type": "stream",
     "text": [
      "matt_preds/XYZres59_upsamp.npy\n"
     ]
    },
    {
     "name": "stderr",
     "output_type": "stream",
     "text": [
      "/tmp/ipykernel_2318938/3636203856.py:21: UserWarning:\n",
      "\n",
      "matt_preds/XYZres54_seg_warped_baseline.tif is a low contrast image\n",
      "\n",
      "/tmp/ipykernel_2318938/3636203856.py:22: UserWarning:\n",
      "\n",
      "matt_preds/XYZres59_seg_warped_baseline.tif is a low contrast image\n",
      "\n",
      " 19%|█▉        | 13/67 [14:23<1:05:25, 72.70s/it]"
     ]
    },
    {
     "name": "stdout",
     "output_type": "stream",
     "text": [
      "matt_preds/XYZres60_upsamp.npy\n"
     ]
    },
    {
     "name": "stderr",
     "output_type": "stream",
     "text": [
      "/tmp/ipykernel_2318938/3636203856.py:21: UserWarning:\n",
      "\n",
      "matt_preds/XYZres53_seg_warped_baseline.tif is a low contrast image\n",
      "\n",
      "/tmp/ipykernel_2318938/3636203856.py:22: UserWarning:\n",
      "\n",
      "matt_preds/XYZres60_seg_warped_baseline.tif is a low contrast image\n",
      "\n",
      " 21%|██        | 14/67 [15:41<1:05:37, 74.29s/it]"
     ]
    },
    {
     "name": "stdout",
     "output_type": "stream",
     "text": [
      "matt_preds/XYZres243_upsamp.npy\n"
     ]
    },
    {
     "name": "stderr",
     "output_type": "stream",
     "text": [
      "/tmp/ipykernel_2318938/3636203856.py:21: UserWarning:\n",
      "\n",
      "matt_preds/XYZres250_seg_warped_baseline.tif is a low contrast image\n",
      "\n",
      "/tmp/ipykernel_2318938/3636203856.py:22: UserWarning:\n",
      "\n",
      "matt_preds/XYZres243_seg_warped_baseline.tif is a low contrast image\n",
      "\n",
      " 22%|██▏       | 15/67 [16:53<1:03:52, 73.71s/it]"
     ]
    },
    {
     "name": "stdout",
     "output_type": "stream",
     "text": [
      "matt_preds/XYZres252_upsamp.npy\n"
     ]
    },
    {
     "name": "stderr",
     "output_type": "stream",
     "text": [
      "/tmp/ipykernel_2318938/3636203856.py:21: UserWarning:\n",
      "\n",
      "matt_preds/XYZres248_seg_warped_baseline.tif is a low contrast image\n",
      "\n",
      "/tmp/ipykernel_2318938/3636203856.py:22: UserWarning:\n",
      "\n",
      "matt_preds/XYZres252_seg_warped_baseline.tif is a low contrast image\n",
      "\n",
      " 24%|██▍       | 16/67 [18:05<1:02:14, 73.22s/it]"
     ]
    },
    {
     "name": "stdout",
     "output_type": "stream",
     "text": [
      "matt_preds/XYZres246_upsamp.npy\n"
     ]
    },
    {
     "name": "stderr",
     "output_type": "stream",
     "text": [
      "/tmp/ipykernel_2318938/3636203856.py:21: UserWarning:\n",
      "\n",
      "matt_preds/XYZres247_seg_warped_baseline.tif is a low contrast image\n",
      "\n",
      "/tmp/ipykernel_2318938/3636203856.py:22: UserWarning:\n",
      "\n",
      "matt_preds/XYZres246_seg_warped_baseline.tif is a low contrast image\n",
      "\n",
      " 25%|██▌       | 17/67 [19:16<1:00:18, 72.37s/it]"
     ]
    },
    {
     "name": "stdout",
     "output_type": "stream",
     "text": [
      "matt_preds/XYZres249_upsamp.npy\n"
     ]
    },
    {
     "name": "stderr",
     "output_type": "stream",
     "text": [
      "/tmp/ipykernel_2318938/3636203856.py:21: UserWarning:\n",
      "\n",
      "matt_preds/XYZres244_seg_warped_baseline.tif is a low contrast image\n",
      "\n",
      "/tmp/ipykernel_2318938/3636203856.py:22: UserWarning:\n",
      "\n",
      "matt_preds/XYZres249_seg_warped_baseline.tif is a low contrast image\n",
      "\n",
      " 27%|██▋       | 18/67 [20:30<59:38, 73.03s/it]  "
     ]
    },
    {
     "name": "stdout",
     "output_type": "stream",
     "text": [
      "matt_preds/XYZres241_upsamp.npy\n"
     ]
    },
    {
     "name": "stderr",
     "output_type": "stream",
     "text": [
      "/tmp/ipykernel_2318938/3636203856.py:21: UserWarning:\n",
      "\n",
      "matt_preds/XYZres240_seg_warped_baseline.tif is a low contrast image\n",
      "\n",
      "/tmp/ipykernel_2318938/3636203856.py:22: UserWarning:\n",
      "\n",
      "matt_preds/XYZres241_seg_warped_baseline.tif is a low contrast image\n",
      "\n",
      " 28%|██▊       | 19/67 [21:47<59:21, 74.20s/it]"
     ]
    },
    {
     "name": "stdout",
     "output_type": "stream",
     "text": [
      "matt_preds/XYZres240_upsamp.npy\n"
     ]
    },
    {
     "name": "stderr",
     "output_type": "stream",
     "text": [
      "/tmp/ipykernel_2318938/3636203856.py:21: UserWarning:\n",
      "\n",
      "matt_preds/XYZres237_seg_warped_baseline.tif is a low contrast image\n",
      "\n",
      "/tmp/ipykernel_2318938/3636203856.py:22: UserWarning:\n",
      "\n",
      "matt_preds/XYZres240_seg_warped_baseline.tif is a low contrast image\n",
      "\n",
      " 30%|██▉       | 20/67 [23:01<58:07, 74.20s/it]"
     ]
    },
    {
     "name": "stdout",
     "output_type": "stream",
     "text": [
      "matt_preds/XYZres234_upsamp.npy\n"
     ]
    },
    {
     "name": "stderr",
     "output_type": "stream",
     "text": [
      "/tmp/ipykernel_2318938/3636203856.py:21: UserWarning:\n",
      "\n",
      "matt_preds/XYZres235_seg_warped_baseline.tif is a low contrast image\n",
      "\n",
      "/tmp/ipykernel_2318938/3636203856.py:22: UserWarning:\n",
      "\n",
      "matt_preds/XYZres234_seg_warped_baseline.tif is a low contrast image\n",
      "\n",
      " 31%|███▏      | 21/67 [24:16<57:02, 74.41s/it]"
     ]
    },
    {
     "name": "stdout",
     "output_type": "stream",
     "text": [
      "matt_preds/XYZres236_upsamp.npy\n"
     ]
    },
    {
     "name": "stderr",
     "output_type": "stream",
     "text": [
      "/tmp/ipykernel_2318938/3636203856.py:21: UserWarning:\n",
      "\n",
      "matt_preds/XYZres233_seg_warped_baseline.tif is a low contrast image\n",
      "\n",
      "/tmp/ipykernel_2318938/3636203856.py:22: UserWarning:\n",
      "\n",
      "matt_preds/XYZres236_seg_warped_baseline.tif is a low contrast image\n",
      "\n",
      " 33%|███▎      | 22/67 [25:33<56:18, 75.07s/it]"
     ]
    },
    {
     "name": "stdout",
     "output_type": "stream",
     "text": [
      "matt_preds/XYZres217_upsamp.npy\n"
     ]
    },
    {
     "name": "stderr",
     "output_type": "stream",
     "text": [
      "/tmp/ipykernel_2318938/3636203856.py:21: UserWarning:\n",
      "\n",
      "matt_preds/XYZres218_seg_warped_baseline.tif is a low contrast image\n",
      "\n",
      "/tmp/ipykernel_2318938/3636203856.py:22: UserWarning:\n",
      "\n",
      "matt_preds/XYZres217_seg_warped_baseline.tif is a low contrast image\n",
      "\n",
      " 34%|███▍      | 23/67 [26:46<54:38, 74.51s/it]"
     ]
    },
    {
     "name": "stdout",
     "output_type": "stream",
     "text": [
      "matt_preds/XYZres211_upsamp.npy\n"
     ]
    },
    {
     "name": "stderr",
     "output_type": "stream",
     "text": [
      "/tmp/ipykernel_2318938/3636203856.py:21: UserWarning:\n",
      "\n",
      "matt_preds/XYZres216_seg_warped_baseline.tif is a low contrast image\n",
      "\n",
      "/tmp/ipykernel_2318938/3636203856.py:22: UserWarning:\n",
      "\n",
      "matt_preds/XYZres211_seg_warped_baseline.tif is a low contrast image\n",
      "\n",
      " 36%|███▌      | 24/67 [27:57<52:42, 73.55s/it]"
     ]
    },
    {
     "name": "stdout",
     "output_type": "stream",
     "text": [
      "matt_preds/XYZres215_upsamp.npy\n"
     ]
    },
    {
     "name": "stderr",
     "output_type": "stream",
     "text": [
      "/tmp/ipykernel_2318938/3636203856.py:21: UserWarning:\n",
      "\n",
      "matt_preds/XYZres212_seg_warped_baseline.tif is a low contrast image\n",
      "\n",
      "/tmp/ipykernel_2318938/3636203856.py:22: UserWarning:\n",
      "\n",
      "matt_preds/XYZres215_seg_warped_baseline.tif is a low contrast image\n",
      "\n",
      " 37%|███▋      | 25/67 [29:09<51:10, 73.10s/it]"
     ]
    },
    {
     "name": "stdout",
     "output_type": "stream",
     "text": [
      "matt_preds/XYZres213_upsamp.npy\n"
     ]
    },
    {
     "name": "stderr",
     "output_type": "stream",
     "text": [
      "/tmp/ipykernel_2318938/3636203856.py:21: UserWarning:\n",
      "\n",
      "matt_preds/XYZres210_seg_warped_baseline.tif is a low contrast image\n",
      "\n",
      "/tmp/ipykernel_2318938/3636203856.py:22: UserWarning:\n",
      "\n",
      "matt_preds/XYZres213_seg_warped_baseline.tif is a low contrast image\n",
      "\n",
      " 39%|███▉      | 26/67 [30:22<49:55, 73.07s/it]"
     ]
    },
    {
     "name": "stdout",
     "output_type": "stream",
     "text": [
      "matt_preds/XYZres202_upsamp.npy\n"
     ]
    },
    {
     "name": "stderr",
     "output_type": "stream",
     "text": [
      "/tmp/ipykernel_2318938/3636203856.py:21: UserWarning:\n",
      "\n",
      "matt_preds/XYZres201_seg_warped_baseline.tif is a low contrast image\n",
      "\n",
      "/tmp/ipykernel_2318938/3636203856.py:22: UserWarning:\n",
      "\n",
      "matt_preds/XYZres202_seg_warped_baseline.tif is a low contrast image\n",
      "\n",
      " 40%|████      | 27/67 [31:39<49:21, 74.04s/it]"
     ]
    },
    {
     "name": "stdout",
     "output_type": "stream",
     "text": [
      "matt_preds/XYZres203_upsamp.npy\n"
     ]
    },
    {
     "name": "stderr",
     "output_type": "stream",
     "text": [
      "/tmp/ipykernel_2318938/3636203856.py:21: UserWarning:\n",
      "\n",
      "matt_preds/XYZres200_seg_warped_baseline.tif is a low contrast image\n",
      "\n",
      "/tmp/ipykernel_2318938/3636203856.py:22: UserWarning:\n",
      "\n",
      "matt_preds/XYZres203_seg_warped_baseline.tif is a low contrast image\n",
      "\n",
      " 42%|████▏     | 28/67 [32:54<48:22, 74.42s/it]"
     ]
    },
    {
     "name": "stdout",
     "output_type": "stream",
     "text": [
      "matt_preds/XYZres204_upsamp.npy\n"
     ]
    },
    {
     "name": "stderr",
     "output_type": "stream",
     "text": [
      "/tmp/ipykernel_2318938/3636203856.py:21: UserWarning:\n",
      "\n",
      "matt_preds/XYZres199_seg_warped_baseline.tif is a low contrast image\n",
      "\n",
      "/tmp/ipykernel_2318938/3636203856.py:22: UserWarning:\n",
      "\n",
      "matt_preds/XYZres204_seg_warped_baseline.tif is a low contrast image\n",
      "\n",
      " 43%|████▎     | 29/67 [34:09<47:18, 74.70s/it]"
     ]
    },
    {
     "name": "stdout",
     "output_type": "stream",
     "text": [
      "matt_preds/XYZres205_upsamp.npy\n"
     ]
    },
    {
     "name": "stderr",
     "output_type": "stream",
     "text": [
      "/tmp/ipykernel_2318938/3636203856.py:21: UserWarning:\n",
      "\n",
      "matt_preds/XYZres198_seg_warped_baseline.tif is a low contrast image\n",
      "\n",
      "/tmp/ipykernel_2318938/3636203856.py:22: UserWarning:\n",
      "\n",
      "matt_preds/XYZres205_seg_warped_baseline.tif is a low contrast image\n",
      "\n",
      " 45%|████▍     | 30/67 [35:26<43:42, 70.88s/it]\n"
     ]
    },
    {
     "name": "stdout",
     "output_type": "stream",
     "text": [
      "matt_preds/XYZres1100_upsamp.npy\n"
     ]
    },
    {
     "ename": "FileNotFoundError",
     "evalue": "[Errno 2] No such file or directory: 'matt_preds/XYZres1100_upsamp.npy'",
     "output_type": "error",
     "traceback": [
      "\u001b[0;31m---------------------------------------------------------------------------\u001b[0m",
      "\u001b[0;31mFileNotFoundError\u001b[0m                         Traceback (most recent call last)",
      "\u001b[0;32m/tmp/ipykernel_2318938/3636203856.py\u001b[0m in \u001b[0;36m<module>\u001b[0;34m\u001b[0m\n\u001b[1;32m      6\u001b[0m                     \u001b[0m_new_image\u001b[0m \u001b[0;34m=\u001b[0m \u001b[0mre\u001b[0m\u001b[0;34m.\u001b[0m\u001b[0msub\u001b[0m\u001b[0;34m(\u001b[0m\u001b[0mx\u001b[0m\u001b[0;34m,\u001b[0m\u001b[0mrep\u001b[0m\u001b[0;34m[\u001b[0m\u001b[0mx\u001b[0m\u001b[0;34m]\u001b[0m\u001b[0;34m,\u001b[0m\u001b[0mimages\u001b[0m\u001b[0;34m[\u001b[0m\u001b[0mi\u001b[0m\u001b[0;34m]\u001b[0m\u001b[0;34m)\u001b[0m\u001b[0;34m\u001b[0m\u001b[0;34m\u001b[0m\u001b[0m\n\u001b[1;32m      7\u001b[0m             \u001b[0mprint\u001b[0m\u001b[0;34m(\u001b[0m\u001b[0m_new_image\u001b[0m\u001b[0;34m)\u001b[0m\u001b[0;34m\u001b[0m\u001b[0;34m\u001b[0m\u001b[0m\n\u001b[0;32m----> 8\u001b[0;31m             \u001b[0mfix\u001b[0m \u001b[0;34m=\u001b[0m \u001b[0mants\u001b[0m\u001b[0;34m.\u001b[0m\u001b[0mimage_read\u001b[0m\u001b[0;34m(\u001b[0m\u001b[0m_new_image\u001b[0m\u001b[0;34m)\u001b[0m\u001b[0;34m\u001b[0m\u001b[0;34m\u001b[0m\u001b[0m\n\u001b[0m\u001b[1;32m      9\u001b[0m             \u001b[0mmov\u001b[0m \u001b[0;34m=\u001b[0m \u001b[0mants\u001b[0m\u001b[0;34m.\u001b[0m\u001b[0mimage_read\u001b[0m\u001b[0;34m(\u001b[0m\u001b[0mimages\u001b[0m\u001b[0;34m[\u001b[0m\u001b[0mi\u001b[0m\u001b[0;34m]\u001b[0m\u001b[0;34m)\u001b[0m\u001b[0;34m.\u001b[0m\u001b[0mapply\u001b[0m\u001b[0;34m(\u001b[0m\u001b[0minvert_raw\u001b[0m\u001b[0;34m)\u001b[0m\u001b[0;34m\u001b[0m\u001b[0;34m\u001b[0m\u001b[0m\n\u001b[1;32m     10\u001b[0m             \u001b[0mfix_mask\u001b[0m \u001b[0;34m=\u001b[0m \u001b[0mants\u001b[0m\u001b[0;34m.\u001b[0m\u001b[0mimage_read\u001b[0m\u001b[0;34m(\u001b[0m\u001b[0mre\u001b[0m\u001b[0;34m.\u001b[0m\u001b[0msub\u001b[0m\u001b[0;34m(\u001b[0m\u001b[0;34m'upsamp'\u001b[0m\u001b[0;34m,\u001b[0m\u001b[0;34m'seg'\u001b[0m\u001b[0;34m,\u001b[0m\u001b[0m_new_image\u001b[0m\u001b[0;34m)\u001b[0m\u001b[0;34m)\u001b[0m\u001b[0;34m\u001b[0m\u001b[0;34m\u001b[0m\u001b[0m\n",
      "\u001b[0;32m/lustre06/project/6023374/rozakmat/monai3.8/lib/python3.8/site-packages/ants/core/ants_image_io.py\u001b[0m in \u001b[0;36mimage_read\u001b[0;34m(filename, dimension, pixeltype, reorient)\u001b[0m\n\u001b[1;32m    495\u001b[0m     \u001b[0;32mif\u001b[0m \u001b[0mfilename\u001b[0m\u001b[0;34m.\u001b[0m\u001b[0mendswith\u001b[0m\u001b[0;34m(\u001b[0m\u001b[0;34m\".npy\"\u001b[0m\u001b[0;34m)\u001b[0m\u001b[0;34m:\u001b[0m\u001b[0;34m\u001b[0m\u001b[0;34m\u001b[0m\u001b[0m\n\u001b[1;32m    496\u001b[0m         \u001b[0mfilename\u001b[0m \u001b[0;34m=\u001b[0m \u001b[0mos\u001b[0m\u001b[0;34m.\u001b[0m\u001b[0mpath\u001b[0m\u001b[0;34m.\u001b[0m\u001b[0mexpanduser\u001b[0m\u001b[0;34m(\u001b[0m\u001b[0mfilename\u001b[0m\u001b[0;34m)\u001b[0m\u001b[0;34m\u001b[0m\u001b[0;34m\u001b[0m\u001b[0m\n\u001b[0;32m--> 497\u001b[0;31m         \u001b[0mimg_array\u001b[0m \u001b[0;34m=\u001b[0m \u001b[0mnp\u001b[0m\u001b[0;34m.\u001b[0m\u001b[0mload\u001b[0m\u001b[0;34m(\u001b[0m\u001b[0mfilename\u001b[0m\u001b[0;34m)\u001b[0m\u001b[0;34m\u001b[0m\u001b[0;34m\u001b[0m\u001b[0m\n\u001b[0m\u001b[1;32m    498\u001b[0m         \u001b[0;32mif\u001b[0m \u001b[0mos\u001b[0m\u001b[0;34m.\u001b[0m\u001b[0mpath\u001b[0m\u001b[0;34m.\u001b[0m\u001b[0mexists\u001b[0m\u001b[0;34m(\u001b[0m\u001b[0mfilename\u001b[0m\u001b[0;34m.\u001b[0m\u001b[0mreplace\u001b[0m\u001b[0;34m(\u001b[0m\u001b[0;34m\".npy\"\u001b[0m\u001b[0;34m,\u001b[0m \u001b[0;34m\".json\"\u001b[0m\u001b[0;34m)\u001b[0m\u001b[0;34m)\u001b[0m\u001b[0;34m:\u001b[0m\u001b[0;34m\u001b[0m\u001b[0;34m\u001b[0m\u001b[0m\n\u001b[1;32m    499\u001b[0m             \u001b[0;32mwith\u001b[0m \u001b[0mopen\u001b[0m\u001b[0;34m(\u001b[0m\u001b[0mfilename\u001b[0m\u001b[0;34m.\u001b[0m\u001b[0mreplace\u001b[0m\u001b[0;34m(\u001b[0m\u001b[0;34m\".npy\"\u001b[0m\u001b[0;34m,\u001b[0m \u001b[0;34m\".json\"\u001b[0m\u001b[0;34m)\u001b[0m\u001b[0;34m)\u001b[0m \u001b[0;32mas\u001b[0m \u001b[0mjson_data\u001b[0m\u001b[0;34m:\u001b[0m\u001b[0;34m\u001b[0m\u001b[0;34m\u001b[0m\u001b[0m\n",
      "\u001b[0;32m/lustre06/project/6023374/rozakmat/monai3.8/lib/python3.8/site-packages/numpy/lib/npyio.py\u001b[0m in \u001b[0;36mload\u001b[0;34m(file, mmap_mode, allow_pickle, fix_imports, encoding)\u001b[0m\n\u001b[1;32m    415\u001b[0m             \u001b[0mown_fid\u001b[0m \u001b[0;34m=\u001b[0m \u001b[0;32mFalse\u001b[0m\u001b[0;34m\u001b[0m\u001b[0;34m\u001b[0m\u001b[0m\n\u001b[1;32m    416\u001b[0m         \u001b[0;32melse\u001b[0m\u001b[0;34m:\u001b[0m\u001b[0;34m\u001b[0m\u001b[0;34m\u001b[0m\u001b[0m\n\u001b[0;32m--> 417\u001b[0;31m             \u001b[0mfid\u001b[0m \u001b[0;34m=\u001b[0m \u001b[0mstack\u001b[0m\u001b[0;34m.\u001b[0m\u001b[0menter_context\u001b[0m\u001b[0;34m(\u001b[0m\u001b[0mopen\u001b[0m\u001b[0;34m(\u001b[0m\u001b[0mos_fspath\u001b[0m\u001b[0;34m(\u001b[0m\u001b[0mfile\u001b[0m\u001b[0;34m)\u001b[0m\u001b[0;34m,\u001b[0m \u001b[0;34m\"rb\"\u001b[0m\u001b[0;34m)\u001b[0m\u001b[0;34m)\u001b[0m\u001b[0;34m\u001b[0m\u001b[0;34m\u001b[0m\u001b[0m\n\u001b[0m\u001b[1;32m    418\u001b[0m             \u001b[0mown_fid\u001b[0m \u001b[0;34m=\u001b[0m \u001b[0;32mTrue\u001b[0m\u001b[0;34m\u001b[0m\u001b[0;34m\u001b[0m\u001b[0m\n\u001b[1;32m    419\u001b[0m \u001b[0;34m\u001b[0m\u001b[0m\n",
      "\u001b[0;31mFileNotFoundError\u001b[0m: [Errno 2] No such file or directory: 'matt_preds/XYZres1100_upsamp.npy'"
     ]
    }
   ],
   "source": [
    "for i in tqdm(range(len(images))):\n",
    "    if os.path.exists(re.sub('upsamp','seg',images[i])):\n",
    "        if not os.path.exists(re.sub('seg.npy','seg_warped_baseline.tif',re.sub('upsamp','seg',images[i]))):\n",
    "            for x in rep.keys():\n",
    "                if x in images[i]:\n",
    "                    _new_image = re.sub(x,rep[x],images[i])\n",
    "            print(_new_image)\n",
    "            fix = ants.image_read(_new_image)\n",
    "            mov = ants.image_read(images[i]).apply(invert_raw)\n",
    "            fix_mask = ants.image_read(re.sub('upsamp','seg',_new_image))\n",
    "            mov_mask = ants.image_read(re.sub('upsamp','seg',images[i])).apply(invert_label)\n",
    "            mytx = ants.registration(fixed = fix,\n",
    "                                    moving = mov,\n",
    "                                    type_of_transform = 'Rigid'\n",
    "                                    )\n",
    "            warpedmask = ants.apply_transforms(fixed = fix_mask,\n",
    "                                               moving = mov_mask,\n",
    "                                               transformlist = mytx['fwdtransforms'],\n",
    "                                               interpolator = 'nearestNeighbor'\n",
    "                                              )\n",
    "            io.imsave(re.sub('seg.npy','seg_warped_baseline.tif',re.sub('upsamp','seg',images[i])),warpedmask.numpy().astype('int8'))\n",
    "            io.imsave(re.sub('seg.npy','seg_warped_baseline.tif',re.sub('upsamp','seg',_new_image)),fix_mask.numpy().astype('int8'))\n",
    "            #print(2 * np.sum(warpedmask.numpy()*fix_mask.numpy())/(np.sum(warpedmask.numpy())+np.sum(fix_mask.numpy())))"
   ]
  },
  {
   "cell_type": "code",
   "execution_count": null,
   "id": "49251b58",
   "metadata": {},
   "outputs": [],
   "source": [
    "fix_mask = ants.image_read(re.sub('upsamp','seg',_new_image))\n",
    "mov_mask = ants.image_read(re.sub('upsamp','seg',images[i]))\n",
    "np.sum(fix_mask.numpy()[:,:,::-1]*mov_mask.numpy())"
   ]
  },
  {
   "cell_type": "code",
   "execution_count": null,
   "id": "2b8297f4",
   "metadata": {},
   "outputs": [],
   "source": [
    "fix_mask"
   ]
  },
  {
   "cell_type": "code",
   "execution_count": null,
   "id": "246dddef",
   "metadata": {},
   "outputs": [],
   "source": [
    "ants.image_read(images[0]).apply(invert)"
   ]
  },
  {
   "cell_type": "markdown",
   "id": "759a8329",
   "metadata": {},
   "source": [
    "## Save Matlab .mat file of registered images"
   ]
  },
  {
   "cell_type": "code",
   "execution_count": null,
   "id": "af813286",
   "metadata": {},
   "outputs": [],
   "source": [
    "directory_seg = Path('matt_preds')\n",
    "images = list(directory_seg.glob('*_seg_warped_baseline.tif'))\n",
    "images = sorted([x.as_posix() for x in images])[::-1]\n",
    "images = [x for x in images if any(y in x for y in rep.keys())]\n",
    "images"
   ]
  },
  {
   "cell_type": "code",
   "execution_count": null,
   "id": "4d576f15",
   "metadata": {},
   "outputs": [],
   "source": [
    "for image in tqdm(images):\n",
    "    #if not os.path.exists(re.sub('_seg_warped_baseline.tif','_seg_warped_baseline_single.mat',image)):\n",
    "        for x in rep.keys():\n",
    "                if x in image:\n",
    "                    _new_image = re.sub(x,rep[x],image)\n",
    "        img_0001 = io.imread(_new_image)\n",
    "        img = io.imread(image)\n",
    "        seg = img*img_0001\n",
    "        seg = (seg==1)*1\n",
    "        print(np.sum(seg))\n",
    "        seg = seg.astype('int8')\n",
    "        seg = fill_holes(seg)\n",
    "        savemat(re.sub('_seg_warped_baseline.tif','_seg_warped_baseline_single.mat',image),{'FinalImage':fill_holes(binary_dilation(seg))})\n",
    "        \n",
    "        "
   ]
  },
  {
   "cell_type": "code",
   "execution_count": null,
   "id": "36c04c55",
   "metadata": {},
   "outputs": [],
   "source": [
    "re.sub('_seg_warped_baseline.tif','_seg_warped_baseline_single.mat',image)"
   ]
  },
  {
   "cell_type": "markdown",
   "id": "f5818c18",
   "metadata": {},
   "source": [
    "# Generate Graphs"
   ]
  },
  {
   "cell_type": "code",
   "execution_count": null,
   "id": "fd876acb",
   "metadata": {},
   "outputs": [],
   "source": [
    "directory = Path('../TBI_monai_UNET/james_preds')\n",
    "files_seg_0001 = directory.glob('*_seg_warped_baseline.tif')\n",
    "files_seg_0001 = sorted([x.as_posix() for x in files_seg_0001])\n",
    "files_seg_0001 = [x for x in files_seg_0001 if any(y in x for y in rep.keys())]\n",
    "files_seg_0001"
   ]
  },
  {
   "cell_type": "code",
   "execution_count": null,
   "id": "6810a73d",
   "metadata": {},
   "outputs": [],
   "source": [
    "for file_0001 in tqdm(files_seg_0001):\n",
    "    file = file_0001\n",
    "    skel_file = re.sub('_seg_warped_baseline.tif','_skel_warped_single_baseline.mat',file)\n",
    "    #seg = io.imread(file)\n",
    "    skel = loadmat(skel_file)['FilteredImage']\n",
    "    #skel = skeletonize_3d(skel)\n",
    "    io.imsave(re.sub('_seg_warped_baseline.tif','_single_skel_baseline.tif',file),skel)\n",
    "    #dst_tsfm = distance_transform_edt(seg)\n",
    "    #dst_tsfm[dst_tsfm==0]=0.00001\n",
    "    #skel_dst = skel*dst_tsfm\n",
    "#\n",
    "    #\n",
    "    #np.save(re.sub('seg','dst_skel',file),skel_dst)\n",
    "    #io.imsave(re.sub('_seg_warped.tif','_dst_skel_warped.tif',file),skel_dst)\n",
    "    graph = sknw.build_sknw(skel, multi=False)\n",
    "    print(len(graph.edges))\n",
    "    #graph, c0  = skan.csr.skeleton_to_csgraph(skel)\n",
    "    #print(len(graph.edges))\n",
    "    \n",
    "    #print(len(graph_0001.edges))\n",
    "    #pickle.dump(graph, open(str(re.sub('_seg.npy','.pickle',file)), 'w'))\n",
    "    #nx.write_pajek(graph,re.sub('_seg.npy','.pajek',file))\n",
    "    \n",
    "    nx.write_gpickle(graph,re.sub('_seg_warped_baseline.tif','_warped_baseline.pickle',file))"
   ]
  },
  {
   "cell_type": "code",
   "execution_count": null,
   "id": "3813f904",
   "metadata": {},
   "outputs": [],
   "source": [
    "re.sub('_seg_warped_baseline.tif','_skel_warped_single_baseline.mat',file)"
   ]
  },
  {
   "cell_type": "markdown",
   "id": "97ba7bff",
   "metadata": {},
   "source": [
    "# write vessel measurments to graph files"
   ]
  },
  {
   "cell_type": "code",
   "execution_count": null,
   "id": "65f52c14",
   "metadata": {},
   "outputs": [],
   "source": [
    "directory = Path('../TBI_monai_UNET/james_preds')\n",
    "files = directory.glob('*_warped_baseline.pickle')\n",
    "files = sorted([x.as_posix() for x in files])\n",
    "print(len(files))\n",
    "files[0]"
   ]
  },
  {
   "cell_type": "code",
   "execution_count": null,
   "id": "e27bed67",
   "metadata": {},
   "outputs": [],
   "source": [
    "re.sub('../TBI_monai_UNET/james_preds/','',re.sub('_warped_baseline.pickle','',file))"
   ]
  },
  {
   "cell_type": "code",
   "execution_count": null,
   "id": "21d716ad",
   "metadata": {},
   "outputs": [],
   "source": [
    "i=0\n",
    "xls = pd.ExcelFile('../TBI_monai_UNET/p3_metalog.xlsx')\n",
    "df = {}\n",
    "for sheet_name in xls.sheet_names:\n",
    "    df[sheet_name] = xls.parse(sheet_name)\n",
    "\n",
    "for file in tqdm(files):\n",
    "    graph = nx.read_gpickle(file)\n",
    "    if len(graph.edges) < 1500:\n",
    "        seg_file = re.sub('_warped_baseline.pickle','_seg_warped_baseline.tif',file)\n",
    "        print(seg_file)\n",
    "        for x in rep.keys():\n",
    "                if x in seg_file:\n",
    "                    _new_image = re.sub(x,rep[x],seg_file)\n",
    "        seg_0001_file = _new_image\n",
    "        print(seg_0001_file)\n",
    "        seg = io.imread(seg_file)\n",
    "        seg_0001 = io.imread(seg_0001_file)\n",
    "        seg_dst = distance_transform_edt(seg)\n",
    "        seg_0001_dst = distance_transform_edt(seg_0001)\n",
    "        for sheet_name in xls.sheet_names:\n",
    "            if re.sub('../TBI_monai_UNET/james_preds/','',re.sub('_warped_baseline.pickle','',file)) in df[sheet_name].values:\n",
    "                subj = sheet_name\n",
    "                _tmp = df[subj].loc[df[subj]['CHECK WATER'] == re.sub('../TBI_monai_UNET/james_preds/','',re.sub('_warped_baseline.pickle','',file))]\n",
    "                if _tmp['Unnamed: 12'].iloc[0] == 'raster':\n",
    "                    wavelength = _tmp['Unnamed: 11'].iloc[0]\n",
    "                    power_per = _tmp['Unnamed: 10'].iloc[0]\n",
    "                    start_depth = _tmp['Unnamed: 2'].iloc[0]\n",
    "                    for i in range(len(graph.edges)):\n",
    "                        path = graph[list(graph.edges)[i][0]][list(graph.edges)[i][1]]['pts']\n",
    "                        _vals = seg_dst[path[::-1,0],path[::-1,1],path[::-1,2]]\n",
    "                        _vals_0001 = seg_0001_dst[path[::-1,0],path[::-1,1],path[::-1,2]]\n",
    "                        graph[list(graph.edges)[i][0]][list(graph.edges)[i][1]]['radii'] = np.mean(_vals)\n",
    "                        graph[list(graph.edges)[i][0]][list(graph.edges)[i][1]]['radii_std'] = np.std(_vals)\n",
    "                        graph[list(graph.edges)[i][0]][list(graph.edges)[i][1]]['radii_0001'] = np.mean(_vals_0001)\n",
    "                        graph[list(graph.edges)[i][0]][list(graph.edges)[i][1]]['radii_0001_std'] = np.std(_vals_0001)\n",
    "                        graph[list(graph.edges)[i][0]][list(graph.edges)[i][1]]['delta'] = np.mean(_vals_0001) - np.mean(_vals)\n",
    "                        graph[list(graph.edges)[i][0]][list(graph.edges)[i][1]]['path_weights'] = _vals\n",
    "                        graph[list(graph.edges)[i][0]][list(graph.edges)[i][1]]['path_weights_0001'] = _vals_0001\n",
    "                        #graph[list(graph.edges)[i][0]][list(graph.edges)[i][1]]['weight'] = graph[list(graph.edges)[i][0]][list(graph.edges)[i][1]]['weight']\n",
    "                        graph[list(graph.edges)[i][0]][list(graph.edges)[i][1]]['end-0z'] = path[0][0]\n",
    "                        graph[list(graph.edges)[i][0]][list(graph.edges)[i][1]]['end-0y'] = path[0][1]\n",
    "                        graph[list(graph.edges)[i][0]][list(graph.edges)[i][1]]['end-0x'] = path[0][2]\n",
    "                        graph[list(graph.edges)[i][0]][list(graph.edges)[i][1]]['end-1z'] = path[-1][0]\n",
    "                        graph[list(graph.edges)[i][0]][list(graph.edges)[i][1]]['end-1y'] = path[-1][1]\n",
    "                        graph[list(graph.edges)[i][0]][list(graph.edges)[i][1]]['end-1x'] = path[-1][2]\n",
    "                        graph[list(graph.edges)[i][0]][list(graph.edges)[i][1]]['img_start_depth'] = start_depth\n",
    "                        graph[list(graph.edges)[i][0]][list(graph.edges)[i][1]]['mean_depth'] = np.mean(path[:,0])\n",
    "                        graph[list(graph.edges)[i][0]][list(graph.edges)[i][1]]['euclidean-dst'] = np.sqrt(np.sum(np.square(path[-1]-path[0])))\n",
    "                        graph[list(graph.edges)[i][0]][list(graph.edges)[i][1]]['subject'] = subj\n",
    "                        graph[list(graph.edges)[i][0]][list(graph.edges)[i][1]]['wavelength'] = wavelength\n",
    "                        graph[list(graph.edges)[i][0]][list(graph.edges)[i][1]]['power'] = power_per\n",
    "                    nx.write_gpickle(graph, re.sub('preds','preds_graphs',re.sub('.pickle','_radii.pickle',file)))\n",
    "                    i+=1\n",
    "                    print(i)\n",
    "print(i)"
   ]
  },
  {
   "cell_type": "code",
   "execution_count": null,
   "id": "ec064eab-4b32-4f15-ad94-5faf33de3eea",
   "metadata": {},
   "outputs": [],
   "source": [
    "df[subj].loc[df[subj]['CHECK WATER'] == re.sub('../TBI_monai_UNET/james_preds/','',re.sub('_warped_baseline.pickle','',file))]"
   ]
  },
  {
   "cell_type": "code",
   "execution_count": null,
   "id": "a3ec65da-36a4-48ca-8994-f5153e5cf748",
   "metadata": {},
   "outputs": [],
   "source": []
  },
  {
   "cell_type": "markdown",
   "id": "576d5be2",
   "metadata": {},
   "source": [
    "# convert graphs to excel files"
   ]
  },
  {
   "cell_type": "code",
   "execution_count": null,
   "id": "14ad0961",
   "metadata": {},
   "outputs": [],
   "source": [
    "directory = Path('../TBI_monai_UNET/james_preds_graphs')\n",
    "files = directory.glob('*_warped_baseline_radii.pickle')\n",
    "files = sorted([x.as_posix() for x in files])\n",
    "print(len(files))\n",
    "files[0]"
   ]
  },
  {
   "cell_type": "code",
   "execution_count": null,
   "id": "b60f19ea",
   "metadata": {},
   "outputs": [],
   "source": [
    "for file in tqdm(files):\n",
    "    graph = nx.read_gpickle(file)\n",
    "    edge_df = nx.to_pandas_edgelist(graph)\n",
    "    edge_df.to_excel(re.sub('.pickle','.xlsx',file))"
   ]
  },
  {
   "cell_type": "code",
   "execution_count": null,
   "id": "46893c09",
   "metadata": {},
   "outputs": [],
   "source": [
    "edge_df"
   ]
  },
  {
   "cell_type": "code",
   "execution_count": null,
   "id": "7e900d2f",
   "metadata": {},
   "outputs": [],
   "source": []
  }
 ],
 "metadata": {
  "kernelspec": {
   "display_name": "monai3.8",
   "language": "python",
   "name": "monai3.8"
  },
  "language_info": {
   "codemirror_mode": {
    "name": "ipython",
    "version": 3
   },
   "file_extension": ".py",
   "mimetype": "text/x-python",
   "name": "python",
   "nbconvert_exporter": "python",
   "pygments_lexer": "ipython3",
   "version": "3.8.10"
  }
 },
 "nbformat": 4,
 "nbformat_minor": 5
}
