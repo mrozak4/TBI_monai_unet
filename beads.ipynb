{
 "cells": [
  {
   "cell_type": "code",
   "execution_count": null,
   "id": "2c1cdda7-5956-44b8-a4d9-196cb808775d",
   "metadata": {},
   "outputs": [],
   "source": [
    "import numpy as np\n",
    "from skimage import io\n",
    "from pathlib import Path\n",
    "import re\n",
    "#import ants\n",
    "from skimage.transform import resize\n",
    "from tqdm import tqdm\n",
    "from skimage.morphology import skeletonize_3d, binary_closing\n",
    "from scipy.ndimage import distance_transform_edt, binary_dilation\n",
    "import tifffile as tif\n",
    "from scipy.ndimage import binary_fill_holes\n",
    "import cc3d\n",
    "from scipy.io import loadmat, savemat\n",
    "import sknw\n",
    "import networkx as nx\n",
    "import pickle\n",
    "import os\n",
    "import matplotlib.pyplot as plt\n",
    "import pandas as pd\n",
    "import time\n",
    "import scipy as sp\n",
    "import vg\n",
    "from pytransform3d.rotations import matrix_from_axis_angle\n",
    "import multiprocessing\n",
    "from scipy.ndimage import convolve as conv\n",
    "from scipy.stats import multivariate_normal\n",
    "from skimage import color, data, restoration\n",
    "#from RedLionfishDeconv import doRLDeconvolutionFromNpArrays\n",
    "from matplotlib.patches import Circle\n",
    "from skimage.feature import peak_local_max\n",
    "from statistics import mode\n",
    "import imageio\n",
    "from PIL import Image\n",
    "from PIL.TiffTags import TAGS\n",
    "from tifffile import TiffFile\n",
    "from sklearn.metrics import normalized_mutual_info_score, adjusted_mutual_info_score\n",
    "plt.rcParams['figure.figsize'] = [15, 15]"
   ]
  },
  {
   "cell_type": "code",
   "execution_count": 2,
   "id": "722f97df-620a-4cde-89c4-940f1c97679e",
   "metadata": {},
   "outputs": [],
   "source": [
    "def remove_small_comps_3d(image, thresh = 100):\n",
    "    \"\"\"\n",
    "\n",
    "    Parameters\n",
    "    ----------\n",
    "    image : binary np array with uint8 elements\n",
    "        3d numpy matrix, connected components will be removed form this image\n",
    "    thresh : int64\n",
    "        smallest connected components to keep\n",
    "\n",
    "    Returns\n",
    "    -------\n",
    "    np.array with uint8 elements, binary\n",
    "        binary image with connected components below the threshold removed.\n",
    "\n",
    "    \"\"\"\n",
    "    img_lab, N = cc3d.connected_components(image,return_N=True)\n",
    "    unique, counts = np.unique(img_lab, return_counts=True)\n",
    "    unique_keep = unique[counts>thresh]\n",
    "    unique_keep = np.delete(unique_keep,[0])\n",
    "    img_filt = np.zeros(img_lab.shape).astype('int8')\n",
    "    img_filt[np.isin(img_lab,unique_keep)] = 1\n",
    "    return img_filt.astype('uint8')\n",
    "\n",
    "def _rotmat(vector, points):\n",
    "    \"\"\"\n",
    "    Rotates a 3xn array of 3D coordinates from the +z normal to an\n",
    "    arbitrary new normal vector.\n",
    "    \"\"\"\n",
    "    \n",
    "    vector = vg.normalize(vector)\n",
    "    axis = vg.perpendicular(vg.basis.z, vector)\n",
    "    angle = vg.angle(vg.basis.z, vector, units='rad')\n",
    "    \n",
    "    a = np.hstack((axis, (angle,)))\n",
    "    R = matrix_from_axis_angle(a)\n",
    "    \n",
    "    r = sp.spatial.transform.Rotation.from_matrix(R)\n",
    "    rotmat = r.apply(points)\n",
    "    \n",
    "    return rotmat\n",
    "\n",
    "def closest_node(node, nodes):\n",
    "    nodes = np.asarray(nodes)\n",
    "    dist_2 = np.sum((nodes - node)**2, axis=1)\n",
    "    if np.min(dist_2)>10:\n",
    "        return node\n",
    "    else:\n",
    "        return nodes[np.argmin(dist_2)]"
   ]
  },
  {
   "cell_type": "code",
   "execution_count": 3,
   "id": "1d5ea7bb-a137-4c08-97bb-9b428ad96b00",
   "metadata": {},
   "outputs": [
    {
     "name": "stdout",
     "output_type": "stream",
     "text": [
      "20\n"
     ]
    }
   ],
   "source": [
    "folder = Path('beads')\n",
    "files = folder.glob('*/*.tif')\n",
    "files = sorted([x.as_posix() for x in files])\n",
    "files = [x for x in files if 'more_diluted' in x]\n",
    "files = [x for x in files if '_seg' not in x]\n",
    "files = [x for x in files if '_up' not in x]\n",
    "files[0:5]\n",
    "print(len(files))"
   ]
  },
  {
   "cell_type": "code",
   "execution_count": null,
   "id": "ca9aca19-32e0-4aa9-8039-9d3639bc1603",
   "metadata": {},
   "outputs": [],
   "source": [
    "img = np.max(io.imread(files[0])[:,0],axis=0).flatten()\n",
    "for file in tqdm(files[1:]):\n",
    "    img = np.concatenate((img,np.max(io.imread(file)[:,0],axis=0).flatten()))"
   ]
  },
  {
   "cell_type": "code",
   "execution_count": null,
   "id": "8164bffe-bec4-408a-b62c-f2b5bcfb66e2",
   "metadata": {},
   "outputs": [],
   "source": [
    "plt.hist(img,bins=1000)\n",
    "plt.ylim(0,2000)\n",
    "plt.show()"
   ]
  },
  {
   "cell_type": "code",
   "execution_count": null,
   "id": "e0267cd2-8a9a-4762-a928-cfc419df1fed",
   "metadata": {},
   "outputs": [],
   "source": [
    "res = []\n",
    "thresh=350\n",
    "for file in tqdm(files):\n",
    "    img = io.imread(file)[:,0]\n",
    "    img = img + np.random.normal(scale=85,size=img.shape).astype('int16')\n",
    "    seg = np.zeros(img.shape)\n",
    "    seg[img>thresh] = 1\n",
    "    sig = np.mean(img[seg==1])\n",
    "    noise = np.mean(img[seg!=1])\n",
    "    res.append(sig/noise)\n",
    "print(res)"
   ]
  },
  {
   "cell_type": "code",
   "execution_count": null,
   "id": "0c06ab9b-6bce-484d-815b-3045b90c437d",
   "metadata": {},
   "outputs": [],
   "source": [
    "#np.random.normal(scale=100,size=img.shape).astype('int16')"
   ]
  },
  {
   "cell_type": "code",
   "execution_count": null,
   "id": "3da26d6f-05dd-4548-8138-f9f2849a53f5",
   "metadata": {},
   "outputs": [],
   "source": [
    "print(np.mean(res))\n",
    "print(np.std(res))"
   ]
  },
  {
   "cell_type": "code",
   "execution_count": null,
   "id": "bda3b165-e248-49c7-844d-64b3f6195539",
   "metadata": {},
   "outputs": [],
   "source": [
    "thresh=350\n",
    "for file in tqdm(files):\n",
    "    img = io.imread(file)[:,0]\n",
    "    img = sp.ndimage.zoom(img,(2.645833333,1,1))\n",
    "    a, b, c = np.mgrid[-15:16:1, -15:16:1, -15:16:1]\n",
    "    abc = np.dstack([a.flat,b.flat, c.flat])\n",
    "    mu = np.array([0,0,0])\n",
    "    sigma = np.array([0.636,0.127,0.127])\n",
    "    covariance = np.diag(sigma**2)\n",
    "    d = multivariate_normal.pdf(abc, mean=mu, cov=covariance)\n",
    "    d = d.reshape((len(a),len(b),len(c)))\n",
    "    deconv_img = np.copy(img)\n",
    "    deconv_img =  1023 * restoration.richardson_lucy(img/1023.0, d, iterations=10)\n",
    "    deconv_img = np.int16(deconv_img)\n",
    "    seg = np.zeros(img.shape)\n",
    "    seg[img>thresh] = 1\n",
    "    io.imsave(re.sub('.tif','_seg.tif',file),seg.astype('int8'))\n",
    "    io.imsave(re.sub('.tif','_up_deconv.tif',file),img)\n",
    "    plt.imshow(np.max(img,axis=0))\n",
    "    plt.show()"
   ]
  },
  {
   "cell_type": "code",
   "execution_count": 4,
   "id": "6db49a01-5489-4930-9c1f-bc35e7b8c6f1",
   "metadata": {},
   "outputs": [],
   "source": [
    "folder = Path('beads')\n",
    "files = folder.glob('*/*_seg.tif')\n",
    "files = sorted([x.as_posix() for x in files])"
   ]
  },
  {
   "cell_type": "code",
   "execution_count": 5,
   "id": "0d61a3e0-b009-48f1-b6a0-8a8da45500b2",
   "metadata": {
    "tags": []
   },
   "outputs": [
    {
     "data": {
      "text/plain": [
       "20"
      ]
     },
     "execution_count": 5,
     "metadata": {},
     "output_type": "execute_result"
    }
   ],
   "source": [
    "folder = Path('beads')\n",
    "files = folder.glob('*/*_seg.tif')\n",
    "files = sorted([x.as_posix() for x in files])\n",
    "files = [x for x in files if 'more_diluted' in x]\n",
    "#files = [x for x in files if '_seg' not in x]\n",
    "len(files)"
   ]
  },
  {
   "cell_type": "code",
   "execution_count": 23,
   "id": "0a584a47-a73e-4712-9a3c-89cf1b632dcf",
   "metadata": {},
   "outputs": [
    {
     "name": "stderr",
     "output_type": "stream",
     "text": [
      "100%|██████████| 20/20 [29:01<00:00, 87.06s/it] \n"
     ]
    }
   ],
   "source": [
    "nreps = 1\n",
    "RES = []\n",
    "sampling = 1/5\n",
    "res = []\n",
    "for file in tqdm(files):\n",
    "    seg = io.imread(file)\n",
    "    seg = remove_small_comps_3d(seg)\n",
    "    img = io.imread(re.sub('_seg','_up_deconv',file))\n",
    "    img = img + np.random.normal(scale=85,size=img.shape).astype('int16')\n",
    "    img_lab, N = cc3d.connected_components(seg,return_N=True)\n",
    "    unique, counts = np.unique(img_lab, return_counts=True)\n",
    "    res.append(counts[1:])\n",
    "    #img_lab = np.max(img_lab,axis=0)\n",
    "    #seg = np.max(seg,axis=0)\n",
    "    #img = np.max(img,axis=0)\n",
    "    for i in unique[1:]:\n",
    "        centroid = np.mean(np.argwhere(img_lab==i),axis=0)\n",
    "        centroid_x, centroid_y, centroid_z = int(centroid[0]), int(centroid[1]), int(centroid[2])\n",
    "        #print(centroid_x,centroid_y,centroid_z)\n",
    "        centroid = np.array([centroid_x,centroid_y,centroid_z])\n",
    "        \n",
    "        _pred_radii = (3*np.sum(img_lab==i)/(np.pi*4))**(1/3)\n",
    "        #if _pred_radii == 0:\n",
    "        #    _pred_radii =1\n",
    "        \n",
    "        _box_fit = max([np.int16(_pred_radii)+10, 15])\n",
    "\n",
    "        path_grad = np.random.uniform(low=-1, high=1.0, size=(nreps,3))\n",
    "        res_fwhm = []\n",
    "        X = np.arange(-1*_box_fit,_box_fit+1,1)\n",
    "        Y = np.arange(-1*_box_fit,_box_fit+1,1)\n",
    "        x,y = np.meshgrid(X,Y)\n",
    "        x = x.flatten()\n",
    "        y = y.flatten()\n",
    "        z = np.zeros(len(x))\n",
    "        xy = np.vstack([x,y,z])\n",
    "        \n",
    "        \n",
    "        res_fwhm = []\n",
    "        \n",
    "        res_fwhm_sigma = []\n",
    "        \n",
    "        #for I in range(nreps):\n",
    "        def calc_fwhm_path(I):\n",
    "            point_grad = path_grad[I]\n",
    "            point = centroid\n",
    "            if all(point_grad[0:2] == [0,0]) and abs(point_grad[2]/point_grad[2]) == 1:\n",
    "                rotated = xy.T + point\n",
    "            else:\n",
    "                rotated = _rotmat(point_grad,xy.T) + point\n",
    "            points_img = sp.ndimage.map_coordinates(#np.int16(mean[1]*1024),\n",
    "                                                img,\n",
    "                                                rotated.T, \n",
    "                                                order=3,\n",
    "                                                mode='constant')\n",
    "            \n",
    "                    \n",
    "            points_img = np.reshape(points_img,(len(X),len(Y)))\n",
    "            points_img_no_smooth = np.copy(points_img)\n",
    "            points_img = sp.ndimage.gaussian_filter(points_img, sigma = _pred_radii*.4)\n",
    "            #plt.imshow(points_img)\n",
    "            #plt.show()\n",
    "            \n",
    "            _point = np.array(np.arange(0,_pred_radii+20,sampling))\n",
    "            _zeros = np.zeros(len(_point))\n",
    "            _point = np.array([_point,_zeros])\n",
    "            _centre = closest_node([len(X)//2+1,len(Y)//2+1],peak_local_max(points_img.T))\n",
    "            \n",
    "            _res = []\n",
    "                                                                                                                                                                                                                                                                                                                                                                                                                                                                                                                                                                                                                                                                                                                                                                                                                                                                                                                                                                      \n",
    "            for deg in np.arange(0,360,120):\n",
    "                rot_point = np.dot(np.array([[np.cos(np.deg2rad(deg)),-1*np.sin(np.deg2rad(deg))],[np.sin(np.deg2rad(deg)),np.cos(np.deg2rad(deg))]]),_point)\n",
    "                rot_point[0] = rot_point[0] + _centre[0]\n",
    "                rot_point[1] = rot_point[1] + _centre[1]\n",
    "                points_vals = sp.ndimage.map_coordinates(points_img.T,\n",
    "                                                         rot_point, \n",
    "                                                         order=3,\n",
    "                                                         cval=0)\n",
    "                points_vals = sp.ndimage.gaussian_filter1d(points_vals,sigma=_pred_radii*.4/sampling)\n",
    "                points_vals_grad = np.gradient(points_vals)\n",
    "                _ = np.array(sp.signal.argrelextrema(points_vals + np.random.uniform(-1e-5,1e-5,len(points_vals)),np.less,order=3))\n",
    "                if _.shape[1] != 0:\n",
    "                    points_vals_grad = np.gradient(points_vals[:_[0,0]+3])\n",
    "                    _ = np.argmin(points_vals_grad)\n",
    "                    _res.append(_*sampling)\n",
    "                    #ax.scatter(_*sampling*np.cos(np.deg2rad(deg))+_centre[0],_*sampling*np.sin(np.deg2rad(deg))+_centre[1],color='r')\n",
    "                else:\n",
    "                    points_vals_grad = np.gradient(points_vals)\n",
    "                    _ = np.argmin(points_vals_grad)\n",
    "                    _res.append(_*sampling)\n",
    "                    #ax.scatter(_*sampling*np.cos(np.deg2rad(deg))+_centre[0],_*sampling*np.sin(np.deg2rad(deg))+_centre[1],color='r')\n",
    "            _res = np.array(_res)\n",
    "            _res = _res[~np.isnan(_res)]\n",
    "            _res = _res[np.where(_res!=0)]\n",
    "            _mean = np.mean(_res)\n",
    "            _std = np.std(_res)\n",
    "            _mask = np.where(np.logical_and(_res>_mean-2*_std, _res<_mean+2*_std))\n",
    "            _res = _res[_mask]\n",
    "            radii = np.mean(_res)\n",
    "            radii_std = np.std(_res)\n",
    "            circ = Circle(_centre,radii,fill=False)\n",
    "            #print(radii)\n",
    "            #print(radii_std)\n",
    "            #ax.add_patch(circ)\n",
    "            #ax.set_title(radii)\n",
    "            #fig.savefig('/home/rozakmat/scratch/_tmp/'+re.sub('matt_raw_warped_upsampled_seg/','',re.sub('_warped.pickle','',file))+str(i)+'_'+str(I)+'.png')\n",
    "            #fig.show()\n",
    "            #plt.clf()\n",
    "            \n",
    "                \n",
    "            return radii, radii_std\n",
    "        pool = multiprocessing.Pool(nreps)\n",
    "        _vals, _vals_sigma = zip(*pool.map(calc_fwhm_path, range(nreps)))\n",
    "        RES.append(np.mean(_vals)*2)"
   ]
  },
  {
   "cell_type": "code",
   "execution_count": 24,
   "id": "b96ac4e6-be5f-452b-b5af-a0b2f569a283",
   "metadata": {},
   "outputs": [
    {
     "name": "stdout",
     "output_type": "stream",
     "text": [
      "289\n",
      "7.536793540945792\n",
      "0.6834813911482442\n"
     ]
    }
   ],
   "source": [
    "RES = [x for x in RES if x == x]\n",
    "print(len(RES))\n",
    "print(np.mean(RES))\n",
    "print(np.std(RES))\n",
    "#RES"
   ]
  },
  {
   "cell_type": "code",
   "execution_count": 25,
   "id": "3ac2fb99-5d68-4419-a1cd-537b217a47ca",
   "metadata": {},
   "outputs": [
    {
     "data": {
      "image/png": "[encoded data removed]",
      "text/plain": [
       "<Figure size 1080x1080 with 1 Axes>"
      ]
     },
     "metadata": {
      "needs_background": "light"
     },
     "output_type": "display_data"
    }
   ],
   "source": [
    "import matplotlib \n",
    "matplotlib.rc('xtick', labelsize=26) \n",
    "matplotlib.rc('ytick', labelsize=26)\n",
    "font = {'family' : 'normal',\n",
    "        'weight' : 'normal',\n",
    "        'size'   : 32}\n",
    "\n",
    "matplotlib.rc('font', **font)\n",
    "plt.hist(RES)\n",
    "plt.xlabel('Diameter')\n",
    "plt.ylabel('Counts')\n",
    "plt.title(str(nreps)+' Plane and 3 Spokes per Plane')\n",
    "plt.savefig('1plane3spokes_wn.png')\n",
    "plt.show()"
   ]
  },
  {
   "cell_type": "code",
   "execution_count": null,
   "id": "9d914618-f15a-4362-af28-9d0a52c9a79f",
   "metadata": {},
   "outputs": [],
   "source": [
    "RES_4_4 = RES"
   ]
  },
  {
   "cell_type": "code",
   "execution_count": null,
   "id": "38b01ebd-8eb8-4519-9851-25c5441ff5f3",
   "metadata": {},
   "outputs": [],
   "source": [
    "(3*np.sum(img_lab==i)/(np.pi*4))**(1/3)"
   ]
  },
  {
   "cell_type": "code",
   "execution_count": null,
   "id": "1b9b7370-0898-457f-bae2-291cce001ca5",
   "metadata": {},
   "outputs": [],
   "source": []
  },
  {
   "cell_type": "code",
   "execution_count": null,
   "id": "0d56a301-1454-4cce-a5e1-ce4eafcdd3e0",
   "metadata": {},
   "outputs": [],
   "source": [
    "print(np.mean(RES_36_4))\n",
    "print(np.std(RES_36_4))"
   ]
  },
  {
   "cell_type": "code",
   "execution_count": null,
   "id": "773ba169-b0d7-4fb6-8153-1f0e5da9119b",
   "metadata": {},
   "outputs": [],
   "source": [
    "print(np.mean(RES_4_4))\n",
    "print(np.std(RES_4_4))"
   ]
  },
  {
   "cell_type": "code",
   "execution_count": null,
   "id": "b2bde822-401e-46df-9916-2af06cb39792",
   "metadata": {},
   "outputs": [],
   "source": []
  }
 ],
 "metadata": {
  "kernelspec": {
   "display_name": "monai3.8",
   "language": "python",
   "name": "monai3.8"
  },
  "language_info": {
   "codemirror_mode": {
    "name": "ipython",
    "version": 3
   },
   "file_extension": ".py",
   "mimetype": "text/x-python",
   "name": "python",
   "nbconvert_exporter": "python",
   "pygments_lexer": "ipython3",
   "version": "3.8.10"
  }
 },
 "nbformat": 4,
 "nbformat_minor": 5
}
