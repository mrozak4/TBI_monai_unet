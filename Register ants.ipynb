{
 "cells": [
  {
   "cell_type": "code",
   "execution_count": 1,
   "metadata": {},
   "outputs": [],
   "source": [
    "#tqdmfrom nipype.interfaces import niftyreg\n",
    "import numpy as np\n",
    "from skimage import io\n",
    "from pathlib import Path\n",
    "import re\n",
    "import ants\n",
    "from skimage.transform import resize\n",
    "from tqdm import tqdm\n",
    "from sklearn.metrics import mean_squared_error"
   ]
  },
  {
   "cell_type": "code",
   "execution_count": 2,
   "metadata": {},
   "outputs": [],
   "source": [
    "directory_seg = Path('james_preds')\n",
    "files_seg  = list(directory_seg.glob('*_seg.npy'))\n",
    "files_seg = sorted([x.as_posix() for x in files_seg])"
   ]
  },
  {
   "cell_type": "markdown",
   "metadata": {},
   "source": [
    "for i in tqdm(range(len(files_seg))):\n",
    "    tmp = np.load(files_seg[i])\n",
    "    tmp = np.reshape(tmp,(1,507,507,252))\n",
    "    io.imsave(re.sub('.npy','.tif',files_seg[0]),tmp)"
   ]
  },
  {
   "cell_type": "code",
   "execution_count": 3,
   "metadata": {},
   "outputs": [
    {
     "data": {
      "text/plain": [
       "'james_preds/XYZres006_0001_seg.tif'"
      ]
     },
     "execution_count": 3,
     "metadata": {},
     "output_type": "execute_result"
    }
   ],
   "source": [
    "files_seg  = list(directory_seg.glob('*_seg.tif'))\n",
    "files_seg = sorted([x.as_posix() for x in files_seg])\n",
    "files_seg[0]"
   ]
  },
  {
   "cell_type": "code",
   "execution_count": 4,
   "metadata": {},
   "outputs": [
    {
     "data": {
      "text/plain": [
       "94"
      ]
     },
     "execution_count": 4,
     "metadata": {},
     "output_type": "execute_result"
    }
   ],
   "source": [
    "image_path = Path('../TBI')\n",
    "images = list(image_path.glob('vbm*/*?[0-9].tif'))\n",
    "images = sorted([x.as_posix() for x in images])\n",
    "len(images)"
   ]
  },
  {
   "cell_type": "markdown",
   "metadata": {},
   "source": [
    "for i in tqdm(range(len(images))):\n",
    "    image = io.imread(images[i])\n",
    "    image = np.swapaxes(image,0,1)\n",
    "    image = np.swapaxes(image,1,3)\n",
    "    image = resize(image,(2,507,507,252),preserve_range=True)\n",
    "    zeros = np.zeros((1,507,507,252)).astype('uint16')\n",
    "    image = np.append(image,zeros,axis = 0)\n",
    "    image = image.astype('float16')\n",
    "    io.imsave('james_preds/'+re.sub('.tif','_upsamp.tif',Path(images[i]).name),image)"
   ]
  },
  {
   "cell_type": "code",
   "execution_count": 5,
   "metadata": {},
   "outputs": [],
   "source": [
    "#'james_preds/'+re.sub('.tif','_upsamp.tif',Path(images[i]).name"
   ]
  },
  {
   "cell_type": "code",
   "execution_count": 6,
   "metadata": {},
   "outputs": [
    {
     "data": {
      "text/plain": [
       "'james_preds/XYZres006_0001_upsamp.tif'"
      ]
     },
     "execution_count": 6,
     "metadata": {},
     "output_type": "execute_result"
    }
   ],
   "source": [
    "images = list(directory_seg.glob('*_0001_upsamp.tif'))\n",
    "images = sorted([x.as_posix() for x in images])\n",
    "images[0]"
   ]
  },
  {
   "cell_type": "code",
   "execution_count": 7,
   "metadata": {},
   "outputs": [
    {
     "name": "stderr",
     "output_type": "stream",
     "text": [
      "  0%|          | 0/47 [00:05<?, ?it/s]\n"
     ]
    },
    {
     "ename": "KeyboardInterrupt",
     "evalue": "",
     "output_type": "error",
     "traceback": [
      "\u001b[0;31m---------------------------------------------------------------------------\u001b[0m",
      "\u001b[0;31mKeyboardInterrupt\u001b[0m                         Traceback (most recent call last)",
      "\u001b[0;32m/tmp/ipykernel_3479057/418587437.py\u001b[0m in \u001b[0;36m<module>\u001b[0;34m\u001b[0m\n\u001b[1;32m      4\u001b[0m     \u001b[0mfix_mask\u001b[0m \u001b[0;34m=\u001b[0m \u001b[0mants\u001b[0m\u001b[0;34m.\u001b[0m\u001b[0mimage_read\u001b[0m\u001b[0;34m(\u001b[0m\u001b[0mre\u001b[0m\u001b[0;34m.\u001b[0m\u001b[0msub\u001b[0m\u001b[0;34m(\u001b[0m\u001b[0;34m'upsamp'\u001b[0m\u001b[0;34m,\u001b[0m\u001b[0;34m'seg'\u001b[0m\u001b[0;34m,\u001b[0m\u001b[0mre\u001b[0m\u001b[0;34m.\u001b[0m\u001b[0msub\u001b[0m\u001b[0;34m(\u001b[0m\u001b[0;34m'_0001'\u001b[0m\u001b[0;34m,\u001b[0m\u001b[0;34m''\u001b[0m\u001b[0;34m,\u001b[0m\u001b[0mimages\u001b[0m\u001b[0;34m[\u001b[0m\u001b[0mi\u001b[0m\u001b[0;34m]\u001b[0m\u001b[0;34m)\u001b[0m\u001b[0;34m)\u001b[0m\u001b[0;34m)\u001b[0m\u001b[0;34m\u001b[0m\u001b[0;34m\u001b[0m\u001b[0m\n\u001b[1;32m      5\u001b[0m     \u001b[0mmov_mask\u001b[0m \u001b[0;34m=\u001b[0m \u001b[0mants\u001b[0m\u001b[0;34m.\u001b[0m\u001b[0mimage_read\u001b[0m\u001b[0;34m(\u001b[0m\u001b[0mre\u001b[0m\u001b[0;34m.\u001b[0m\u001b[0msub\u001b[0m\u001b[0;34m(\u001b[0m\u001b[0;34m'upsamp'\u001b[0m\u001b[0;34m,\u001b[0m\u001b[0;34m'seg'\u001b[0m\u001b[0;34m,\u001b[0m\u001b[0mimages\u001b[0m\u001b[0;34m[\u001b[0m\u001b[0mi\u001b[0m\u001b[0;34m]\u001b[0m\u001b[0;34m)\u001b[0m\u001b[0;34m)\u001b[0m\u001b[0;34m\u001b[0m\u001b[0;34m\u001b[0m\u001b[0m\n\u001b[0;32m----> 6\u001b[0;31m     mytx = ants.registration(fixed = fix,\n\u001b[0m\u001b[1;32m      7\u001b[0m                             \u001b[0mmoving\u001b[0m \u001b[0;34m=\u001b[0m \u001b[0mmov\u001b[0m\u001b[0;34m,\u001b[0m\u001b[0;34m\u001b[0m\u001b[0;34m\u001b[0m\u001b[0m\n\u001b[1;32m      8\u001b[0m                             \u001b[0mtype_of_transform\u001b[0m \u001b[0;34m=\u001b[0m \u001b[0;34m'Rigid'\u001b[0m\u001b[0;34m\u001b[0m\u001b[0;34m\u001b[0m\u001b[0m\n",
      "\u001b[0;32m/lustre06/project/6023374/rozakmat/monai3.8/lib/python3.8/site-packages/ants/registration/interface.py\u001b[0m in \u001b[0;36mregistration\u001b[0;34m(fixed, moving, type_of_transform, initial_transform, outprefix, mask, grad_step, flow_sigma, total_sigma, aff_metric, aff_sampling, aff_random_sampling_rate, syn_metric, syn_sampling, reg_iterations, aff_iterations, aff_shrink_factors, aff_smoothing_sigmas, write_composite_transform, random_seed, verbose, multivariate_extras, restrict_transformation, **kwargs)\u001b[0m\n\u001b[1;32m    407\u001b[0m                 \u001b[0;31m# writeAntsrTransform( initx, tempTXfilename )\u001b[0m\u001b[0;34m\u001b[0m\u001b[0;34m\u001b[0m\u001b[0;34m\u001b[0m\u001b[0m\n\u001b[1;32m    408\u001b[0m                 \u001b[0;31m# initx = tempTXfilename\u001b[0m\u001b[0;34m\u001b[0m\u001b[0;34m\u001b[0m\u001b[0;34m\u001b[0m\u001b[0m\n\u001b[0;32m--> 409\u001b[0;31m                 \u001b[0mmoving\u001b[0m \u001b[0;34m=\u001b[0m \u001b[0mmoving\u001b[0m\u001b[0;34m.\u001b[0m\u001b[0mclone\u001b[0m\u001b[0;34m(\u001b[0m\u001b[0;34m\"float\"\u001b[0m\u001b[0;34m)\u001b[0m\u001b[0;34m\u001b[0m\u001b[0;34m\u001b[0m\u001b[0m\n\u001b[0m\u001b[1;32m    410\u001b[0m                 \u001b[0mfixed\u001b[0m \u001b[0;34m=\u001b[0m \u001b[0mfixed\u001b[0m\u001b[0;34m.\u001b[0m\u001b[0mclone\u001b[0m\u001b[0;34m(\u001b[0m\u001b[0;34m\"float\"\u001b[0m\u001b[0;34m)\u001b[0m\u001b[0;34m\u001b[0m\u001b[0;34m\u001b[0m\u001b[0m\n\u001b[1;32m    411\u001b[0m                 \u001b[0mwarpedfixout\u001b[0m \u001b[0;34m=\u001b[0m \u001b[0mmoving\u001b[0m\u001b[0;34m.\u001b[0m\u001b[0mclone\u001b[0m\u001b[0;34m(\u001b[0m\u001b[0;34m)\u001b[0m\u001b[0;34m\u001b[0m\u001b[0;34m\u001b[0m\u001b[0m\n",
      "\u001b[0;32m/lustre06/project/6023374/rozakmat/monai3.8/lib/python3.8/site-packages/ants/core/ants_image.py\u001b[0m in \u001b[0;36mclone\u001b[0;34m(self, pixeltype)\u001b[0m\n\u001b[1;32m    290\u001b[0m             \u001b[0mfn_suffix\u001b[0m \u001b[0;34m=\u001b[0m \u001b[0;34m'%s%i%s%i'\u001b[0m \u001b[0;34m%\u001b[0m \u001b[0;34m(\u001b[0m\u001b[0mp1_short\u001b[0m\u001b[0;34m,\u001b[0m\u001b[0mndim\u001b[0m\u001b[0;34m,\u001b[0m\u001b[0mp2_short\u001b[0m\u001b[0;34m,\u001b[0m\u001b[0mndim\u001b[0m\u001b[0;34m)\u001b[0m\u001b[0;34m\u001b[0m\u001b[0;34m\u001b[0m\u001b[0m\n\u001b[1;32m    291\u001b[0m             \u001b[0mlibfn\u001b[0m \u001b[0;34m=\u001b[0m \u001b[0mutils\u001b[0m\u001b[0;34m.\u001b[0m\u001b[0mget_lib_fn\u001b[0m\u001b[0;34m(\u001b[0m\u001b[0;34m'antsImageClone%s'\u001b[0m\u001b[0;34m%\u001b[0m\u001b[0mfn_suffix\u001b[0m\u001b[0;34m)\u001b[0m\u001b[0;34m\u001b[0m\u001b[0;34m\u001b[0m\u001b[0m\n\u001b[0;32m--> 292\u001b[0;31m             \u001b[0mpointer_cloned\u001b[0m \u001b[0;34m=\u001b[0m \u001b[0mlibfn\u001b[0m\u001b[0;34m(\u001b[0m\u001b[0mself\u001b[0m\u001b[0;34m.\u001b[0m\u001b[0mpointer\u001b[0m\u001b[0;34m)\u001b[0m\u001b[0;34m\u001b[0m\u001b[0;34m\u001b[0m\u001b[0m\n\u001b[0m\u001b[1;32m    293\u001b[0m             return ANTsImage(pixeltype=pixeltype, \n\u001b[1;32m    294\u001b[0m                             \u001b[0mdimension\u001b[0m\u001b[0;34m=\u001b[0m\u001b[0mself\u001b[0m\u001b[0;34m.\u001b[0m\u001b[0mdimension\u001b[0m\u001b[0;34m,\u001b[0m\u001b[0;34m\u001b[0m\u001b[0;34m\u001b[0m\u001b[0m\n",
      "\u001b[0;31mKeyboardInterrupt\u001b[0m: "
     ]
    }
   ],
   "source": [
    "for i in tqdm(range(len(images))):\n",
    "    fix = ants.image_read(re.sub('_0001','',images[i]))\n",
    "    mov = ants.image_read(images[0])\n",
    "    fix_mask = ants.image_read(re.sub('upsamp','seg',re.sub('_0001','',images[i])))\n",
    "    mov_mask = ants.image_read(re.sub('upsamp','seg',images[i]))\n",
    "    mytx = ants.registration(fixed = fix,\n",
    "                            moving = mov,\n",
    "                            type_of_transform = 'Rigid'\n",
    "                            )\n",
    "    warpedmask = ants.apply_transforms(fixed = fix_mask,\n",
    "                                       moving = mov_mask,\n",
    "                                       transformlist = mytx['fwdtransforms'],\n",
    "                                       interpolator = 'nearestNeighbor'\n",
    "                                      )\n",
    "    io.imsave(re.sub('seg','seg_qwarped',re.sub('upsamp','seg',images[i])),warpedmask.numpy())\n",
    "    io.imsave(re.sub('seg','seg_qwarped',re.sub('upsamp','seg',re.sub('_0001','',images[i]))),fix_mask.numpy())\n",
    "    #print(2 * np.sum(warpedmask.numpy()*fix_mask.numpy())/(np.sum(warpedmask.numpy())+np.sum(fix_mask.numpy())))"
   ]
  },
  {
   "cell_type": "code",
   "execution_count": null,
   "metadata": {},
   "outputs": [],
   "source": [
    "fix_mask.numpy()"
   ]
  },
  {
   "cell_type": "code",
   "execution_count": 8,
   "metadata": {},
   "outputs": [
    {
     "name": "stderr",
     "output_type": "stream",
     "text": [
      "100%|██████████| 47/47 [02:29<00:00,  3.19s/it]\n"
     ]
    }
   ],
   "source": [
    "PRE = []\n",
    "POST = []\n",
    "for i in tqdm(range(len(images))):\n",
    "    fix = io.imread(re.sub('_0001','',images[i]))\n",
    "    mov = io.imread(images[i])\n",
    "    PRE.append(mean_squared_error(fix.flatten(),mov.flatten()))\n",
    "    mov_2 = io.imread(re.sub('seg','seg_warped',re.sub('upsamp','seg',images[i])))\n",
    "    fix_2 = io.imread(re.sub('seg','seg_warped',re.sub('upsamp','seg',re.sub('_0001','',images[i]))))\n",
    "    POST.append(mean_squared_error(fix_2.flatten(),mov_2.flatten()))"
   ]
  },
  {
   "cell_type": "code",
   "execution_count": 9,
   "metadata": {},
   "outputs": [
    {
     "data": {
      "text/plain": [
       "[5953.416,\n",
       " 1617.9143,\n",
       " 1048.1672,\n",
       " 1502.8165,\n",
       " 794.3065,\n",
       " 1489.714,\n",
       " 982.5049,\n",
       " 1335.8333,\n",
       " 795.2718,\n",
       " 1368.7443,\n",
       " 1250.2186,\n",
       " 1354.9563,\n",
       " 1215.2213,\n",
       " 1274.0315,\n",
       " 998.3873,\n",
       " 1236.9438,\n",
       " 754.36755,\n",
       " 947.00305,\n",
       " 941.0864,\n",
       " 901.8656,\n",
       " 688.85944,\n",
       " 1578.668,\n",
       " 1178.5963,\n",
       " 1674.8424,\n",
       " 1457.8485,\n",
       " 1766.109,\n",
       " 1142.2817,\n",
       " 1382.1937,\n",
       " 974.9622,\n",
       " 1376.7922,\n",
       " 1143.0839,\n",
       " 1337.4873,\n",
       " 973.6096,\n",
       " 1223.294,\n",
       " 1253.3029,\n",
       " 1140.7921,\n",
       " 1440.4901,\n",
       " 1046.4585,\n",
       " 1054.0519,\n",
       " 665.7226,\n",
       " 1821.5646,\n",
       " 958.90955,\n",
       " 1805.2811,\n",
       " 976.31683,\n",
       " 1729.9274,\n",
       " 915.14026,\n",
       " 940.67035]"
      ]
     },
     "execution_count": 9,
     "metadata": {},
     "output_type": "execute_result"
    }
   ],
   "source": [
    "PRE"
   ]
  },
  {
   "cell_type": "code",
   "execution_count": 10,
   "metadata": {},
   "outputs": [
    {
     "data": {
      "text/plain": [
       "[0.023449084,\n",
       " 0.008380991,\n",
       " 0.006840676,\n",
       " 0.010978405,\n",
       " 0.006251433,\n",
       " 0.00970842,\n",
       " 0.006983274,\n",
       " 0.0075406227,\n",
       " 0.004930349,\n",
       " 0.0073936554,\n",
       " 0.010658566,\n",
       " 0.0067826454,\n",
       " 0.008855408,\n",
       " 0.0055657197,\n",
       " 0.007908473,\n",
       " 0.012030194,\n",
       " 0.0057086116,\n",
       " 0.0089822905,\n",
       " 0.0071047847,\n",
       " 0.007641956,\n",
       " 0.0046119303,\n",
       " 0.008855655,\n",
       " 0.0076116207,\n",
       " 0.011802502,\n",
       " 0.009816253,\n",
       " 0.012252759,\n",
       " 0.0058174473,\n",
       " 0.009166571,\n",
       " 0.006871613,\n",
       " 0.009065392,\n",
       " 0.008118612,\n",
       " 0.009902241,\n",
       " 0.006838993,\n",
       " 0.0090700695,\n",
       " 0.00959523,\n",
       " 0.007883865,\n",
       " 0.010389486,\n",
       " 0.0075636404,\n",
       " 0.0076926225,\n",
       " 0.0058117816,\n",
       " 0.010067517,\n",
       " 0.0057160677,\n",
       " 0.009636866,\n",
       " 0.006226671,\n",
       " 0.008801947,\n",
       " 0.00511097,\n",
       " 0.0062081455]"
      ]
     },
     "execution_count": 10,
     "metadata": {},
     "output_type": "execute_result"
    }
   ],
   "source": [
    "POST"
   ]
  },
  {
   "cell_type": "code",
   "execution_count": 11,
   "metadata": {},
   "outputs": [
    {
     "name": "stdout",
     "output_type": "stream",
     "text": [
      "1306.5964\n",
      "747.25244\n"
     ]
    }
   ],
   "source": [
    "print(np.mean(PRE))\n",
    "print(np.std(PRE))"
   ]
  },
  {
   "cell_type": "code",
   "execution_count": 12,
   "metadata": {},
   "outputs": [
    {
     "name": "stdout",
     "output_type": "stream",
     "text": [
      "0.008387277\n",
      "0.0029221098\n"
     ]
    }
   ],
   "source": [
    "print(np.mean(POST))\n",
    "print(np.std(POST))"
   ]
  },
  {
   "cell_type": "code",
   "execution_count": null,
   "metadata": {},
   "outputs": [],
   "source": []
  }
 ],
 "metadata": {
  "kernelspec": {
   "display_name": "monai3.8",
   "language": "python",
   "name": "monai3.8"
  },
  "language_info": {
   "codemirror_mode": {
    "name": "ipython",
    "version": 3
   },
   "file_extension": ".py",
   "mimetype": "text/x-python",
   "name": "python",
   "nbconvert_exporter": "python",
   "pygments_lexer": "ipython3",
   "version": "3.8.10"
  }
 },
 "nbformat": 4,
 "nbformat_minor": 4
}
