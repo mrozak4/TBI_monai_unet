{
 "cells": [
  {
   "cell_type": "code",
   "execution_count": 2,
   "id": "2babf63c-9c8b-4e27-b2b2-0b4a78d9d7e4",
   "metadata": {},
   "outputs": [],
   "source": [
    "from pathlib import Path"
   ]
  },
  {
   "cell_type": "code",
   "execution_count": 3,
   "id": "e3296596-c489-4279-8bef-d9b18b6b8ee0",
   "metadata": {},
   "outputs": [],
   "source": [
    "mouse_ids_path = Path('/home/rozakmat/projects/rrg-bojana/data/THY1-TBI')#each mouse has its own folder with raw data in it\n",
    "mouse_ids = list(mouse_ids_path.glob('*?[0-9]/*res*?[0-9].tif'))#grab folder names/mouse ids\n",
    "mouse_ids = sorted([x.as_posix() for x in mouse_ids])\n",
    "data_dicts = [\n",
    "    {\"image\":image_name}\n",
    "    for image_name in mouse_ids\n",
    "]\n",
    "\n",
    "data_dicts = data_dicts[::-1]"
   ]
  },
  {
   "cell_type": "code",
   "execution_count": 5,
   "id": "4615c944-925f-458d-bfe7-f338ff00d953",
   "metadata": {},
   "outputs": [
    {
     "data": {
      "text/plain": [
       "[{'image': '/home/rozakmat/projects/rrg-bojana/data/THY1-TBI/20202112_40/XYZres250_0002.tif'},\n",
       " {'image': '/home/rozakmat/projects/rrg-bojana/data/THY1-TBI/20202112_40/XYZres250_0001.tif'},\n",
       " {'image': '/home/rozakmat/projects/rrg-bojana/data/THY1-TBI/20202112_40/XYZres250.tif'}]"
      ]
     },
     "execution_count": 5,
     "metadata": {},
     "output_type": "execute_result"
    }
   ],
   "source": [
    "data_dicts[340:343]"
   ]
  },
  {
   "cell_type": "code",
   "execution_count": null,
   "id": "928df398-4ec2-40ef-8c5a-cf73ad13e356",
   "metadata": {},
   "outputs": [],
   "source": []
  }
 ],
 "metadata": {
  "kernelspec": {
   "display_name": "Python 3.8",
   "language": "python",
   "name": "python3"
  },
  "language_info": {
   "codemirror_mode": {
    "name": "ipython",
    "version": 3
   },
   "file_extension": ".py",
   "mimetype": "text/x-python",
   "name": "python",
   "nbconvert_exporter": "python",
   "pygments_lexer": "ipython3",
   "version": "3.8.2"
  }
 },
 "nbformat": 4,
 "nbformat_minor": 5
}
