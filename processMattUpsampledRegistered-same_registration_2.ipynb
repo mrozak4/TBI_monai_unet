{
 "cells": [
  {
   "cell_type": "code",
   "execution_count": null,
   "id": "178ba64d",
   "metadata": {},
   "outputs": [],
   "source": [
    "import numpy as np\n",
    "from skimage import io\n",
    "from pathlib import Path\n",
    "import re\n",
    "import ants\n",
    "from skimage.transform import resize\n",
    "from tqdm import tqdm\n",
    "from skimage.morphology import skeletonize_3d, binary_closing\n",
    "from scipy.ndimage import distance_transform_edt, binary_dilation\n",
    "import tifffile as tif\n",
    "from scipy.ndimage import binary_fill_holes\n",
    "import cc3d\n",
    "from scipy.io import loadmat, savemat\n",
    "import sknw\n",
    "import networkx as nx\n",
    "import pickle\n",
    "import os\n",
    "import matplotlib.pyplot as plt\n",
    "import pandas as pd\n",
    "import time\n",
    "import scipy as sp\n",
    "import vg\n",
    "from pytransform3d.rotations import matrix_from_axis_angle\n",
    "import multiprocessing\n",
    "from scipy.ndimage import convolve as conv\n",
    "from scipy.stats import multivariate_normal\n",
    "from skimage import color, data, restoration\n",
    "from RedLionfishDeconv import doRLDeconvolutionFromNpArrays\n",
    "from matplotlib.patches import Circle\n",
    "from skimage.feature import peak_local_max\n",
    "from statistics import mode\n",
    "import imageio\n",
    "from PIL import Image\n",
    "from PIL.TiffTags import TAGS\n",
    "from tifffile import TiffFile\n",
    "from sklearn.metrics import normalized_mutual_info_score, adjusted_mutual_info_score\n",
    "plt.rcParams['figure.figsize'] = [15, 15]"
   ]
  },
  {
   "cell_type": "code",
   "execution_count": 2,
   "id": "8d156882-af49-401d-8ce9-8113463f9c39",
   "metadata": {},
   "outputs": [
    {
     "data": {
      "text/plain": [
       "5.885575587824864"
      ]
     },
     "execution_count": 2,
     "metadata": {},
     "output_type": "execute_result"
    }
   ],
   "source": [
    "np.std([24,27,35,33,37,22,21,23,26,30,22,40,22,24,28])"
   ]
  },
  {
   "cell_type": "code",
   "execution_count": 3,
   "id": "c3db4fa0-5e02-4479-993a-a5806123b6f8",
   "metadata": {},
   "outputs": [],
   "source": [
    "def _ants_affine_to_distance(affine):\n",
    "\n",
    "    dx, dy, dz = affine[9:]\n",
    "\n",
    "    rot_x = np.arcsin(affine[6])\n",
    "    cos_rot_x = np.cos(rot_x)\n",
    "    rot_y = np.arctan2(affine[7] / cos_rot_x, affine[8] / cos_rot_x)\n",
    "    rot_z = np.arctan2(affine[3] / cos_rot_x, affine[0] / cos_rot_x)\n",
    "\n",
    "    deg = np.degrees\n",
    "\n",
    "    return dx, dy, dz, deg(rot_x), deg(rot_y), deg(rot_z)"
   ]
  },
  {
   "cell_type": "code",
   "execution_count": 4,
   "id": "fcf31284",
   "metadata": {},
   "outputs": [
    {
     "name": "stdout",
     "output_type": "stream",
     "text": [
      "start\n"
     ]
    }
   ],
   "source": [
    "print('start')"
   ]
  },
  {
   "cell_type": "code",
   "execution_count": 5,
   "id": "3885c43e-f758-4ba5-8b8f-a4078e430089",
   "metadata": {},
   "outputs": [
    {
     "data": {
      "text/plain": [
       "'matt_raw_warped/06162021_45-XYZres288_0001_warped.tif'"
      ]
     },
     "execution_count": 5,
     "metadata": {},
     "output_type": "execute_result"
    }
   ],
   "source": [
    "mouse_ids_path = Path('matt_raw_warped')#each mouse has its own folder with raw data in it\n",
    "mouse_ids = list(mouse_ids_path.glob('*res*.tif'))#grab folder names/mouse ids\n",
    "mouse_ids = sorted([x.as_posix() for x in mouse_ids])\n",
    "data_dicts = [\n",
    "    {\"image\":image_name}\n",
    "    for image_name in mouse_ids\n",
    "]\n",
    "\n",
    "#data_dicts = [data_dicts[_i]]\n",
    "re.sub('matt_raw_warped_upsampled','matt_preds_registered',data_dicts[0][\"image\"])"
   ]
  },
  {
   "cell_type": "markdown",
   "id": "47574f10",
   "metadata": {},
   "source": [
    "# Define connected componnet removal"
   ]
  },
  {
   "cell_type": "code",
   "execution_count": 6,
   "id": "9b8879e5",
   "metadata": {},
   "outputs": [],
   "source": [
    "def remove_small_comps_3d(image, thresh = 500):\n",
    "    \"\"\"\n",
    "\n",
    "    Parameters\n",
    "    ----------\n",
    "    image : binary np array with uint8 elements\n",
    "        3d numpy matrix, connected components will be removed form this image\n",
    "    thresh : int64\n",
    "        smallest connected components to keep\n",
    "\n",
    "    Returns\n",
    "    -------\n",
    "    np.array with uint8 elements, binary\n",
    "        binary image with connected components below the threshold removed.\n",
    "\n",
    "    \"\"\"\n",
    "    img_lab, N = cc3d.connected_components(image,return_N=True)\n",
    "    unique, counts = np.unique(img_lab, return_counts=True)\n",
    "    unique_keep = unique[counts>thresh]\n",
    "    unique_keep = np.delete(unique_keep,[0])\n",
    "    img_filt = np.zeros(img_lab.shape).astype('int8')\n",
    "    img_filt[np.isin(img_lab,unique_keep)] = 1\n",
    "    return img_filt.astype('uint8')   \n",
    "\n",
    "def fill_holes(img,thresh=1000):\n",
    "    #res = np.zeros(img.shape)\n",
    "    for i in np.unique(img)[::-1]:\n",
    "        _tmp = (img==i)*1.0\n",
    "        _tmp = _tmp.astype('int8')\n",
    "        _tmp = remove_small_comps_3d(_tmp,thresh=thresh)\n",
    "        img[_tmp==1] = i\n",
    "    res = img.astype('int8')\n",
    "    return res\n",
    "\n",
    "def _rotmat(vector, points):\n",
    "    \"\"\"\n",
    "    Rotates a 3xn array of 3D coordinates from the +z normal to an\n",
    "    arbitrary new normal vector.\n",
    "    \"\"\"\n",
    "    \n",
    "    vector = vg.normalize(vector)\n",
    "    axis = vg.perpendicular(vg.basis.z, vector)\n",
    "    angle = vg.angle(vg.basis.z, vector, units='rad')\n",
    "    \n",
    "    a = np.hstack((axis, (angle,)))\n",
    "    R = matrix_from_axis_angle(a)\n",
    "    \n",
    "    r = sp.spatial.transform.Rotation.from_matrix(R)\n",
    "    rotmat = r.apply(points)\n",
    "    \n",
    "    return rotmat\n",
    "\n",
    "def closest_node(node, nodes):\n",
    "    nodes = np.asarray(nodes)\n",
    "    dist_2 = np.sum((nodes - node)**2, axis=1)\n",
    "    if np.min(dist_2)>10:\n",
    "        return node\n",
    "    else:\n",
    "        return nodes[np.argmin(dist_2)]"
   ]
  },
  {
   "cell_type": "markdown",
   "id": "ce5b7e27",
   "metadata": {},
   "source": [
    "# register raw iamges"
   ]
  },
  {
   "cell_type": "code",
   "execution_count": 7,
   "id": "95349708-d49a-4ef1-a543-24a17095f0e2",
   "metadata": {},
   "outputs": [],
   "source": [
    "exclude = ['XYZres103',\n",
    "           'XYZres104',\n",
    "           'XYZres105',\n",
    "           'XYZres105',\n",
    "           'XYZres107',\n",
    "           'XYZres133',\n",
    "           'XYZres134',\n",
    "           'XYZres135',\n",
    "           'XYZres136',\n",
    "           'XYZres137',\n",
    "           'XYZres138',\n",
    "           'XYZres139',\n",
    "           'XYZres140',\n",
    "           'XYZres183',\n",
    "           'XYZres196',\n",
    "           'XYZres197',\n",
    "           'XYZres260',\n",
    "           'XYZres288',\n",
    "           'XYZres343',\n",
    "           'XYZres340',\n",
    "           'XYZres341',\n",
    "           'XYZres250',\n",
    "           'XYZres297',\n",
    "           'XYZres295',\n",
    "           'XYZres457',\n",
    "           'XYZres455']"
   ]
  },
  {
   "cell_type": "code",
   "execution_count": 8,
   "id": "0695656c-2681-4958-a061-1520ec5c2258",
   "metadata": {},
   "outputs": [],
   "source": [
    "xls = pd.ExcelFile('TBI_STIM_metalog_local.xlsx')\n",
    "xls2 = pd.ExcelFile('../TBI_monai_UNET/p3_metalog.xlsx')\n",
    "df = {}\n",
    "for sheet_name in xls.sheet_names:\n",
    "    df[sheet_name] = xls.parse(sheet_name)\n",
    "for sheet_name in xls2.sheet_names:\n",
    "    df[sheet_name] = xls2.parse(sheet_name)\n"
   ]
  },
  {
   "cell_type": "code",
   "execution_count": 9,
   "id": "630a9802-5297-423f-848c-3df54c40af2c",
   "metadata": {},
   "outputs": [],
   "source": [
    "dic = {}\n",
    "for key in df.keys():\n",
    "    if '3D' in key and ('vbm01' not in key and 'vbm02' not in key and 'SHAM7_3D' not in key and 'TBI45_3D' not in key and 'TBI11_3D' not in key and 'TBI65_3D' not in key and 'TBI22_3D' not in key and 'TBI28_3D' not in key and 'TBI40_3D' not in key and 'TBI51_3D' not in key and 'TBI70_3D' not in key):\n",
    "        if 'vbm' not in key:\n",
    "            addition = re.sub('TBI','',re.sub('SHAM','',re.sub('_3D','',key)))\n",
    "        else:\n",
    "            addition = ''\n",
    "        df[key] = df[key][~df[key][df[key].columns[1]].isin(exclude)]\n",
    "        scans = np.array(df[key][df[key].columns[1]])\n",
    "        scans = [x for x in scans if 'res' in str(x)]\n",
    "        bottoms_1 = df[key][df[key][df[key].columns[3]] == 500]\n",
    "        bottoms_2 = df[key][df[key][df[key].columns[2]] == 500]\n",
    "        bottoms = pd.concat((bottoms_1,bottoms_2))\n",
    "        bottoms = np.array(bottoms[bottoms.columns[1]])\n",
    "        bottoms = [addition + '/' + x for x in bottoms]\n",
    "        bottoms = [x for x in bottoms if 'res' in x]\n",
    "        tops_1 = df[key][df[key][df[key].columns[3]] == 0]\n",
    "        tops_2 = df[key][df[key][df[key].columns[2]] == 0]\n",
    "        tops = pd.concat((tops_1,tops_2))\n",
    "        tops = np.array(tops[tops.columns[1]])\n",
    "        tops = [addition + '/' + x for x in tops]\n",
    "        tops = [x for x in tops if 'res' in x]\n",
    "        if len(tops) > 1:\n",
    "            dic[tops[0]] = list(tops[1:])\n",
    "        elif len(tops) == 1:\n",
    "            dic[tops[0]] = tops\n",
    "        if len(bottoms) > 1:\n",
    "            dic[bottoms[0]] = list(bottoms[1:])\n",
    "        elif len(bottoms) == 1:\n",
    "            dic[bottoms[0]] = bottoms"
   ]
  },
  {
   "cell_type": "code",
   "execution_count": null,
   "id": "914d070b-a868-4f7d-bf1c-efca8bb91834",
   "metadata": {},
   "outputs": [],
   "source": []
  },
  {
   "cell_type": "code",
   "execution_count": 10,
   "id": "9b67a168-f281-4e35-a653-89fe65caea0a",
   "metadata": {},
   "outputs": [],
   "source": [
    "#dic"
   ]
  },
  {
   "cell_type": "code",
   "execution_count": 11,
   "id": "ab9cd01b-e2cc-4cac-8bcb-92dd9d2a48c5",
   "metadata": {},
   "outputs": [],
   "source": [
    "dic_2 = {'45/XYZres290':['45/XYZres296'],\n",
    "         '45/XYZres297':['45/XYZres295'],\n",
    "         '45/XYZres294':['45/XYZres298'],\n",
    "         '45/XYZres288':['45/XYZres300'],\n",
    "         '11/XYZres95':['11/XYZres98','11/XYZres102'],\n",
    "         '11/XYZres92':[],\n",
    "         '11/XYZres93':['11/XYZres93','11/XYZres96','11/XYZres97','11/XYZres100','11/XYZres101'],\n",
    "         '11/XYZres91':['11/XYZres94','11/XYZres99'],\n",
    "         '22/XYZres164':['22/XYZres165','22/XYZres168','22/XYZres169'],\n",
    "         '22/XYZres160':['22/XYZres161'],\n",
    "         '22/XYZres163':['22/XYZres166','22/XYZres167','22/XYZres170'],\n",
    "         '22/XYZres159':['22/XYZres162'],\n",
    "         '28/XYZres184':['28/XYZres185'],\n",
    "         '28/XYZres188':['28/XYZres189','28/XYZres193','28/XYZres194'],\n",
    "         '28/XYZres186':['28/XYZres187','28/XYZres188','28/XYZres190','28/XYZres191','28/XYZres192','28/XYZres195'],\n",
    "         '28/XYZres183':[],\n",
    "         '40/XYZres248':['40/XYZres249'],\n",
    "         '40/XYZres245':['40/XYZres252'],\n",
    "         '40/XYZres244':[],\n",
    "         '40/XYZres243':['40/XYZres246','40/XYZres247','40/XYZres251'],\n",
    "         '51/XYZres297':['51/XYZres298','51/XYZres302','51/XYZres305','51/XYZres301'],\n",
    "         '51/XYZres296':['51/XYZres306'],\n",
    "         '51/XYZres299':['51/XYZres300','51/XYZres303','51/XYZres304'],\n",
    "         '65/XYZres397':['65/XYZres398','65/XYZres401','65/XYZres402','65/XYZres405','65/XYZres408','65/XYZres409'],\n",
    "         '65/XYZres396':['65/XYZres399','65/XYZres400'],\n",
    "         '65/XYZres403':[],\n",
    "         '70/XYZres420':['70/XYZres421','70/XYZres422'],\n",
    "         '70/XYZres419':['70/XYZres416','70/XYZres413','70/XYZres410','70/XYZres412','70/XYZres416'],\n",
    "         '70/XYZres414':['70/XYZres417'],\n",
    "         '70/XYZres411':['70/XYZres418','70/XYZres415'],\n",
    "         'XYZres007':[]\n",
    "        }\n",
    "dic.update(dic_2) "
   ]
  },
  {
   "cell_type": "code",
   "execution_count": 12,
   "id": "8066d9d8-8d25-4a92-ad60-66f1cf894d52",
   "metadata": {},
   "outputs": [],
   "source": [
    "#dic"
   ]
  },
  {
   "cell_type": "code",
   "execution_count": 13,
   "id": "4010be15",
   "metadata": {},
   "outputs": [
    {
     "name": "stdout",
     "output_type": "stream",
     "text": [
      "103\n",
      "/home/rozakmat/projects/rrg-bojana/data/THY1-TBI/06162021_45/XYZres290_0001.tif\n"
     ]
    }
   ],
   "source": [
    "mouse_ids_path = Path('/home/rozakmat/projects/rrg-bojana/data/THY1-TBI')#each mouse has its own folder with raw data in it\n",
    "mouse_ids = list(mouse_ids_path.glob('*?[0-9]/*res*?[0-9].tif'))#grab folder names/mouse ids\n",
    "images = sorted([x.as_posix() for x in mouse_ids if '_0001' in x.as_posix()])\n",
    "#images = [x for x in images if 'vbm' in x]\n",
    "images = [x for x in images if  any(y in x for y in list(dic.keys()))]\n",
    "unused_keys = [x for x in list(dic.keys()) if not  any(x in y for y in images)]\n",
    "print(len(images))\n",
    "print(images[1])\n",
    "new_file_name = re.sub('matt_raw_warped_upsampled','matt_preds_registered',data_dicts[0][\"image\"])\n",
    "#images"
   ]
  },
  {
   "cell_type": "code",
   "execution_count": 14,
   "id": "b12c0af2-af26-4a37-aab3-65aa5950cdf4",
   "metadata": {},
   "outputs": [],
   "source": [
    "#unused_keys"
   ]
  },
  {
   "cell_type": "code",
   "execution_count": 15,
   "id": "74e64936-b669-4f37-bffd-d9ab6b342c2b",
   "metadata": {},
   "outputs": [],
   "source": [
    "#images"
   ]
  },
  {
   "cell_type": "code",
   "execution_count": 16,
   "id": "5b3e5481-321c-4534-be04-6bc0cd54e045",
   "metadata": {},
   "outputs": [],
   "source": [
    "np.random.shuffle(images)"
   ]
  },
  {
   "cell_type": "code",
   "execution_count": 17,
   "id": "537af5be",
   "metadata": {},
   "outputs": [
    {
     "name": "stderr",
     "output_type": "stream",
     "text": [
      "100%|██████████| 103/103 [00:05<00:00, 17.70it/s]\n"
     ]
    }
   ],
   "source": [
    "res = []\n",
    "for i in tqdm(range(len(images))):\n",
    "    fix_file = re.sub('_0001','',images[i])\n",
    "    if not os.path.exists('matt_raw_warped_single/' + re.sub('.tif','_warped.tif',os.path.basename(os.path.dirname(fix_file)) + '-' + os.path.basename(fix_file))):\n",
    "        key = [x for x in list(dic.keys()) if x in fix_file][0]\n",
    "        mov_files = [re.sub(key,x,fix_file) for x in dic[key]]\n",
    "        mov_files = [x for x in mov_files if os.path.exists(x)]\n",
    "        mov_files = sorted(mov_files + [re.sub('.tif','_0001.tif',x) for x in mov_files])\n",
    "        mov_files.append(re.sub('.tif','_0001.tif',fix_file))\n",
    "        mov_files = [x for x in mov_files if x != fix_file]\n",
    "        mov_files = sorted(mov_files)\n",
    "        mov_files = np.unique(mov_files)\n",
    "        print(fix_file)\n",
    "        fix_numpy = io.imread(fix_file)\n",
    "        fix = ants.from_numpy(np.float32(fix_numpy[:,0])) #convert images to ants \n",
    "        with TiffFile(fix_file) as tif:\n",
    "            tif_tags = {}\n",
    "            for tag in tif.pages[0].tags.values():\n",
    "                name, value = tag.name, tag.value\n",
    "                tif_tags[name] = value\n",
    "            image = tif.pages[0].asarray()\n",
    "        start_str = float([x for x in tif_tags['IJMetadata']['Info'].split('\\n') if 'axis startPosition #1' in x][0].split(' ')[-1])\n",
    "        end_str = float([x for x in tif_tags['IJMetadata']['Info'].split('\\n') if 'axis endPosition #1' in x][0].split(' ')[-1])\n",
    "        direction = end_str-start_str\n",
    "        res2 = []\n",
    "        for mov_file in mov_files:\n",
    "            # read baseline image\n",
    "            mov_numpy = io.imread(mov_file) # read followup image\n",
    "            with TiffFile(mov_file) as tif:\n",
    "                tif_tags = {}\n",
    "                for tag in tif.pages[0].tags.values():\n",
    "                    name, value = tag.name, tag.value\n",
    "                    tif_tags[name] = value\n",
    "                image = tif.pages[0].asarray()\n",
    "            start_str = float([x for x in tif_tags['IJMetadata']['Info'].split('\\n') if 'axis startPosition #1' in x][0].split(' ')[-1])\n",
    "            end_str = float([x for x in tif_tags['IJMetadata']['Info'].split('\\n') if 'axis endPosition #1' in x][0].split(' ')[-1])\n",
    "            if direction * (end_str-start_str) < 0:\n",
    "                mov_numpy = mov_numpy[::-1]\n",
    "                print('flipped')\n",
    "            mov = ants.from_numpy(np.float32(mov_numpy[:,0]))\n",
    "            mytx = ants.registration(fixed = fix,\n",
    "                                     moving = mov,\n",
    "                                     type_of_transform = 'Rigid',\n",
    "                                     total_sigma = 2,\n",
    "                                     aff_metric = 'meansquares'\n",
    "                                     ) # register images and get displacment\n",
    "            warpedraw_1 = ants.apply_transforms(fixed = fix,\n",
    "                                                moving = ants.from_numpy(np.float32(mov_numpy[:,0])),\n",
    "                                                transformlist = mytx['fwdtransforms'],\n",
    "                                                interpolator = 'linear'\n",
    "                                                ) # move vascular chanel\n",
    "            warpedraw_2 = ants.apply_transforms(fixed = fix,\n",
    "                                                moving = ants.from_numpy(np.float32(mov_numpy[:,1])),\n",
    "                                                transformlist = mytx['fwdtransforms'],\n",
    "                                                interpolator = 'linear'\n",
    "                                                ) # move neuron chanel\n",
    "            mov_numpy[:,0,:,:] = warpedraw_1[:,:,:]\n",
    "            mov_numpy[:,1,:,:] = warpedraw_2[:,:,:]#combine moved chanels int one image\n",
    "            res2.append(_ants_affine_to_distance(ants.read_transform(mytx['fwdtransforms'][0]).parameters))\n",
    "            io.imsave('matt_raw_warped_single/' + re.sub('.tif','_warped.tif',os.path.basename(os.path.dirname(mov_file)) + '-' + os.path.basename(mov_file)),mov_numpy)# save warped followup image and baseline image\n",
    "        res.append(res2)\n",
    "        io.imsave('matt_raw_warped_single/' + re.sub('.tif','_warped.tif',os.path.basename(os.path.dirname(fix_file)) + '-' + os.path.basename(fix_file)),fix_numpy)"
   ]
  },
  {
   "cell_type": "code",
   "execution_count": 32,
   "id": "cff1b3f7-e540-41cf-a1b0-4fc2f06dca68",
   "metadata": {},
   "outputs": [],
   "source": [
    "_res = []\n",
    "for i in res:\n",
    "    _res.append(np.max(np.array(i),axis=0))"
   ]
  },
  {
   "cell_type": "code",
   "execution_count": 33,
   "id": "97b52b6b-c87e-4e14-9a42-ca7b3163726e",
   "metadata": {},
   "outputs": [
    {
     "name": "stdout",
     "output_type": "stream",
     "text": [
      "nan\n",
      "nan\n"
     ]
    },
    {
     "name": "stderr",
     "output_type": "stream",
     "text": [
      "/lustre06/project/6023374/rozakmat/monai3.8/lib/python3.8/site-packages/numpy/core/fromnumeric.py:3432: RuntimeWarning:\n",
      "\n",
      "Mean of empty slice.\n",
      "\n",
      "/lustre06/project/6023374/rozakmat/monai3.8/lib/python3.8/site-packages/numpy/core/_methods.py:190: RuntimeWarning:\n",
      "\n",
      "invalid value encountered in double_scalars\n",
      "\n",
      "/lustre06/project/6023374/rozakmat/monai3.8/lib/python3.8/site-packages/numpy/core/_methods.py:265: RuntimeWarning:\n",
      "\n",
      "Degrees of freedom <= 0 for slice\n",
      "\n",
      "/lustre06/project/6023374/rozakmat/monai3.8/lib/python3.8/site-packages/numpy/core/_methods.py:223: RuntimeWarning:\n",
      "\n",
      "invalid value encountered in divide\n",
      "\n",
      "/lustre06/project/6023374/rozakmat/monai3.8/lib/python3.8/site-packages/numpy/core/_methods.py:257: RuntimeWarning:\n",
      "\n",
      "invalid value encountered in double_scalars\n",
      "\n"
     ]
    }
   ],
   "source": [
    "print(np.mean(np.array(_res),axis=0))\n",
    "print(np.std(np.array(_res),axis=0))"
   ]
  },
  {
   "cell_type": "markdown",
   "id": "46e204f6-a063-4579-ad8a-5134b44a39e3",
   "metadata": {},
   "source": [
    "# predict using trained model\n",
    "run unetr prediction with registered raw images, orediction will be in same coordinate system \\\n",
    "run predict_matt_warped.py via predict_matt_warped_array-Copy1.sh"
   ]
  },
  {
   "cell_type": "markdown",
   "id": "5444bdb6-56da-461f-85c4-c0ad6e1debcc",
   "metadata": {},
   "source": [
    "# Calculate Std of output"
   ]
  },
  {
   "cell_type": "code",
   "execution_count": 34,
   "id": "b660ad09-7242-4ba1-8da7-ea926c04e317",
   "metadata": {},
   "outputs": [],
   "source": [
    "path  = Path('/home/rozakmat/projects/rrg-bojana/rozakmat/TBI_monai_UNET/matt_raw_warped_single_upsampled')\n",
    "files = list(path.glob('*.npy'))\n",
    "#files"
   ]
  },
  {
   "cell_type": "code",
   "execution_count": 35,
   "id": "fea31ed9-058e-47ec-9765-bea8114eb028",
   "metadata": {},
   "outputs": [
    {
     "name": "stdout",
     "output_type": "stream",
     "text": [
      "0\n"
     ]
    }
   ],
   "source": [
    "path  = Path('/home/rozakmat/projects/rrg-bojana/rozakmat/TBI_monai_UNET/matt_raw_warped_single_upsampled')\n",
    "files = list(path.glob('*_pred.npy'))\n",
    "#files = [x.as_posix() for x in files if not os.path.exists(re.sub('projects/rrg-bojana/rozakmat','projects/rrg-bojana/rozakmat/TBI_monai_UNET',re.sub('pred','std',x.as_posix())))]\n",
    "files = sorted([x.as_posix() for x in files])\n",
    "files = [x for x in files if not os.path.exists(re.sub('projects/rrg-bojana/rozakmat/TBI_monai_UNET','projects/rrg-bojana/rozakmat/TBI_monai_UNET',re.sub('pred','2x_std',x)))]\n",
    "print(len(files))"
   ]
  },
  {
   "cell_type": "code",
   "execution_count": 36,
   "id": "f8dabd6f-b95e-40bc-9d00-aae32c5e4e3d",
   "metadata": {},
   "outputs": [
    {
     "name": "stderr",
     "output_type": "stream",
     "text": [
      "0it [00:00, ?it/s]\n"
     ]
    }
   ],
   "source": [
    "np.random.shuffle(files)\n",
    "for i in tqdm(range(len(files))):\n",
    "    if not os.path.exists(re.sub('projects/rrg-bojana/rozakmat/TBI_monai_UNET','projects/rrg-bojana/rozakmat/TBI_monai_UNET',re.sub('pred','2x_std',files[i]))):\n",
    "        pred = np.load(files[i])\n",
    "        _std = np.std(pred,axis=0)\n",
    "        np.save(re.sub('projects/rrg-bojana/rozakmat/TBI_monai_UNET','projects/rrg-bojana/rozakmat/TBI_monai_UNET',re.sub('pred','2x_std',files[i])),_std)"
   ]
  },
  {
   "cell_type": "code",
   "execution_count": 37,
   "id": "ab3a3f58-a92a-4905-aaa7-314c220bf461",
   "metadata": {},
   "outputs": [
    {
     "data": {
      "text/plain": [
       "[]"
      ]
     },
     "execution_count": 37,
     "metadata": {},
     "output_type": "execute_result"
    }
   ],
   "source": [
    "files"
   ]
  },
  {
   "cell_type": "markdown",
   "id": "a38d1533-8267-4390-9ee2-c7558f5aee8b",
   "metadata": {},
   "source": [
    "# Binarize prediction output"
   ]
  },
  {
   "cell_type": "code",
   "execution_count": 38,
   "id": "577b39db-4ee8-4eea-a5b4-52a4f5414078",
   "metadata": {},
   "outputs": [
    {
     "name": "stdout",
     "output_type": "stream",
     "text": [
      "824\n"
     ]
    }
   ],
   "source": [
    "directory = Path('matt_raw_warped_single_upsampled')\n",
    "files  = directory.glob('*-*_std.npy')\n",
    "files = sorted([x.as_posix() for x in files])\n",
    "#files = [x for x in files if not os.path.exists(re.sub('led/','led_seg/',re.sub('mean','seg',x)))]\n",
    "#files = [x for x in files if 'Feb52021_6' in x]\n",
    "print(len(files))"
   ]
  },
  {
   "cell_type": "code",
   "execution_count": 39,
   "id": "560a2856-4777-4072-a5c6-4a2a6399db61",
   "metadata": {},
   "outputs": [],
   "source": [
    "#for i in files:\n",
    "#    os.remove(i)"
   ]
  },
  {
   "cell_type": "code",
   "execution_count": 40,
   "id": "0bfc5159-603d-43d0-84e1-89ad4d4c998c",
   "metadata": {},
   "outputs": [
    {
     "name": "stdout",
     "output_type": "stream",
     "text": [
      "824\n"
     ]
    }
   ],
   "source": [
    "directory = Path('matt_raw_warped_single_upsampled')\n",
    "files  = directory.glob('*-*_mean.npy')\n",
    "files = sorted([x.as_posix() for x in files])\n",
    "#files = [x for x in files if not os.path.exists(re.sub('led/','led_seg/',re.sub('mean','seg',x)))]\n",
    "#files = [x for x in files if 'Feb52021_6' in x]\n",
    "#files = [x for x in files if any(y in x for y in problem)]\n",
    "print(len(files))"
   ]
  },
  {
   "cell_type": "code",
   "execution_count": 41,
   "id": "55de248b-1095-4aa8-a30e-e292103cdc43",
   "metadata": {},
   "outputs": [
    {
     "name": "stderr",
     "output_type": "stream",
     "text": [
      "100%|██████████| 824/824 [00:14<00:00, 55.44it/s]\n"
     ]
    }
   ],
   "source": [
    "min_prob = 0.5\n",
    "max_var = 0.2\n",
    "#np.random.shuffle(files)\n",
    "for file in tqdm(files):\n",
    "    if not os.path.exists(re.sub('led/','led_seg/',re.sub('mean','seg',file))):\n",
    "        if os.path.exists(re.sub('mean','2x_std',file)):\n",
    "            print(file)\n",
    "            mean = np.load(file)\n",
    "            std = np.load(re.sub('mean','2x_std',file))\n",
    "            seg = np.zeros(mean.shape[1:]).astype('int8')\n",
    "            seg[(mean[1,:,:,:] > min_prob) * (std[1,:,:,:] < max_var)] = 1\n",
    "            seg[(mean[2,:,:,:] > min_prob) * (std[2,:,:,:] < max_var)] = 2\n",
    "            seg = seg.astype('int8')\n",
    "            seg = (seg==1)*1\n",
    "            seg = fill_holes(seg)\n",
    "            seg = remove_small_comps_3d(seg)\n",
    "            plt.imshow(np.max(seg,axis=2))\n",
    "            plt.show()\n",
    "            print(seg.shape)\n",
    "            np.save(re.sub('led/','led_seg/',re.sub('mean','seg',file)),seg)"
   ]
  },
  {
   "cell_type": "code",
   "execution_count": 42,
   "id": "38b230fb-9ac1-41a9-a4bb-4939f06d9a8e",
   "metadata": {},
   "outputs": [
    {
     "data": {
      "text/plain": [
       "False"
      ]
     },
     "execution_count": 42,
     "metadata": {},
     "output_type": "execute_result"
    }
   ],
   "source": [
    "os.path.exists(re.sub('mean','std',file))"
   ]
  },
  {
   "cell_type": "code",
   "execution_count": 43,
   "id": "7ef75327-1e5e-40f3-ba2b-529b366e32a0",
   "metadata": {},
   "outputs": [
    {
     "name": "stdout",
     "output_type": "stream",
     "text": [
      "824\n"
     ]
    }
   ],
   "source": [
    "directory = Path('matt_raw_warped_single_upsampled_seg')\n",
    "files  = directory.glob('*-*_seg.npy')\n",
    "files = sorted([x.as_posix() for x in files])\n",
    "print(len(files))"
   ]
  },
  {
   "cell_type": "markdown",
   "id": "0f9dc3b9-a4b3-4ed8-a416-22f5e5cc69e5",
   "metadata": {},
   "source": [
    "# Get distance transform of neuron segmentation"
   ]
  },
  {
   "cell_type": "code",
   "execution_count": 44,
   "id": "0e9e9eea-315e-44dd-be5b-5e53d5bd0098",
   "metadata": {},
   "outputs": [
    {
     "name": "stdout",
     "output_type": "stream",
     "text": [
      "824\n"
     ]
    }
   ],
   "source": [
    "directory = Path('matt_raw_warped_single_upsampled')\n",
    "files  = directory.glob('*-*_mean.npy')\n",
    "files = sorted([x.as_posix() for x in files])\n",
    "print(len(files))"
   ]
  },
  {
   "cell_type": "code",
   "execution_count": 45,
   "id": "5a2f1d5f-c29a-44f6-9b5c-83556204e027",
   "metadata": {},
   "outputs": [
    {
     "name": "stderr",
     "output_type": "stream",
     "text": [
      "100%|██████████| 824/824 [00:14<00:00, 56.83it/s]\n"
     ]
    }
   ],
   "source": [
    "min_prob = 0.75\n",
    "max_var = 0.1\n",
    "for file in tqdm(files[::-1]):\n",
    "    if not os.path.exists(re.sub('led/','led_seg/',re.sub('mean','seg_nrn_dst',file))):\n",
    "        if os.path.exists(re.sub('mean','2x_std',file)):\n",
    "            mean = np.load(file)\n",
    "            std = np.load(re.sub('mean','2x_std',file))\n",
    "            seg = np.zeros(mean.shape[1:])\n",
    "            seg[(mean[1,:,:,:] > min_prob) * (std[1,:,:,:] < max_var)] = 1\n",
    "            seg[(mean[2,:,:,:] > min_prob) * (std[2,:,:,:] < max_var)] = 2\n",
    "            seg = seg.astype('int8')\n",
    "            seg = (seg==2)*1\n",
    "            np.save(re.sub('led/','led_seg/',re.sub('mean','seg_nrn',file)),seg)\n",
    "            np.save(re.sub('led/','led_seg/',re.sub('mean','seg_nrn_dst',file)),distance_transform_edt(1-seg))"
   ]
  },
  {
   "cell_type": "code",
   "execution_count": null,
   "id": "11ea7971-ee61-47b0-83ec-b7ee61723ba7",
   "metadata": {},
   "outputs": [],
   "source": [
    "re.sub('mean','seg_nrn_dst',file)"
   ]
  },
  {
   "cell_type": "markdown",
   "id": "a12c169a-1a31-4f0d-91cc-e74df4d23990",
   "metadata": {},
   "source": [
    "# Problem Segmentations at graph"
   ]
  },
  {
   "cell_type": "code",
   "execution_count": 22,
   "id": "a03273e7-e883-4ddf-87d0-c43a6ebdf002",
   "metadata": {},
   "outputs": [],
   "source": [
    "#problem = [\n",
    "#    \"XYZres038\",\n",
    "#    \"XYZres041\",\n",
    "#    \"XYZres042\",\n",
    "#    \"XYZres048\",\n",
    "#    \"XYZres052\",\n",
    "#    \"XYZres026\",\n",
    "#    \"XYZres024\"\n",
    "#]"
   ]
  },
  {
   "cell_type": "code",
   "execution_count": 23,
   "id": "a1845cf5-823e-4893-8cba-29fe8d4bbe1a",
   "metadata": {},
   "outputs": [],
   "source": [
    "#dic.keys()"
   ]
  },
  {
   "cell_type": "markdown",
   "id": "0a0c0658-4dcd-479c-8d63-d972dd97b347",
   "metadata": {},
   "source": [
    "# get predicted images and save matlab .mat of intersection"
   ]
  },
  {
   "cell_type": "code",
   "execution_count": 20,
   "id": "f42b6eaf-667e-4338-8d66-c8888f736742",
   "metadata": {},
   "outputs": [],
   "source": [
    "xls = pd.ExcelFile('TBI_STIM_metalog_local.xlsx')\n",
    "xls2 = pd.ExcelFile('../TBI_monai_UNET/p3_metalog.xlsx')\n",
    "df = {}\n",
    "for sheet_name in xls.sheet_names:\n",
    "    df[sheet_name] = xls.parse(sheet_name)\n",
    "for sheet_name in xls2.sheet_names:\n",
    "    df[sheet_name] = xls2.parse(sheet_name)"
   ]
  },
  {
   "cell_type": "code",
   "execution_count": 21,
   "id": "ffa435f7-d6de-4dc7-8953-05c95ba0b6f8",
   "metadata": {},
   "outputs": [
    {
     "data": {
      "text/plain": [
       "111"
      ]
     },
     "execution_count": 21,
     "metadata": {},
     "output_type": "execute_result"
    }
   ],
   "source": [
    "dic = {}\n",
    "for key in df.keys():\n",
    "    if '3D' in key and ('vbm01' not in key and 'vbm02' not in key and 'SHAM7_3D' not in key and 'TBI45_3D' not in key and 'TBI11_3D' not in key and 'TBI65_3D' not in key and 'TBI22_3D' not in key and 'TBI28_3D' not in key and 'TBI40_3D' not in key and 'TBI51_3D' not in key and 'TBI70_3D' not in key):\n",
    "        if 'vbm' not in key:\n",
    "            addition = re.sub('TBI','',re.sub('SHAM','',re.sub('_3D','',key)))\n",
    "        else:\n",
    "            addition = ''\n",
    "        df[key] = df[key][~df[key][df[key].columns[1]].isin(exclude)]\n",
    "        scans = np.array(df[key][df[key].columns[1]])\n",
    "        scans = [x for x in scans if 'res' in str(x)]\n",
    "        bottoms_1 = df[key][df[key][df[key].columns[3]] == 500]\n",
    "        bottoms_2 = df[key][df[key][df[key].columns[2]] == 500]\n",
    "        bottoms = pd.concat((bottoms_1,bottoms_2))\n",
    "        bottoms = np.array(bottoms[bottoms.columns[1]])\n",
    "        bottoms = [addition + '-' + x for x in bottoms]\n",
    "        bottoms = [x for x in bottoms if 'res' in x]\n",
    "        tops_1 = df[key][df[key][df[key].columns[3]] == 0]\n",
    "        tops_2 = df[key][df[key][df[key].columns[2]] == 0]\n",
    "        tops = pd.concat((tops_1,tops_2))\n",
    "        tops = np.array(tops[tops.columns[1]])\n",
    "        tops = [addition + '-' + x for x in tops]\n",
    "        tops = [x for x in tops if 'res' in x]\n",
    "        if len(tops) > 1:\n",
    "            dic[tops[0]] = list(tops[1:])\n",
    "        elif len(tops) == 1:\n",
    "            dic[tops[0]] = tops\n",
    "        if len(bottoms) > 1:\n",
    "            dic[bottoms[0]] = list(bottoms[1:])\n",
    "        elif len(bottoms) == 1:\n",
    "            dic[bottoms[0]] = bottoms\n",
    "dic_2 = {'45-XYZres290':['45-XYZres296'],\n",
    "         '45-XYZres297':['45-XYZres295'],\n",
    "         '45-XYZres294':['45-XYZres298'],\n",
    "         '45-XYZres288':['45-XYZres300'],\n",
    "         '11-XYZres95':['11-XYZres98','11-XYZres102'],\n",
    "         '11-XYZres92':[],\n",
    "         '11-XYZres93':['11-XYZres93','11-XYZres96','11-XYZres97','11-XYZres100','11-XYZres101'],\n",
    "         '11-XYZres91':['11-XYZres94','11-XYZres99'],\n",
    "         '22-XYZres164':['22-XYZres165','22-XYZres168','22-XYZres169'],\n",
    "         '22-XYZres160':['22-XYZres161'],\n",
    "         '22-XYZres163':['22-XYZres166','22-XYZres167','22-XYZres170'],\n",
    "         '22-XYZres159':['22-XYZres162'],\n",
    "         '28-XYZres184':['28-XYZres185'],\n",
    "         '28-XYZres188':['28-XYZres189','28-XYZres193','28-XYZres194'],\n",
    "         '28-XYZres186':['28-XYZres187','28-XYZres188','28-XYZres190','28-XYZres191','28-XYZres192','28-XYZres195'],\n",
    "         '28-XYZres183':[],\n",
    "         '40-XYZres248':['40-XYZres249'],\n",
    "         '40-XYZres245':['40-XYZres252'],\n",
    "         '40-XYZres244':[],\n",
    "         '40-XYZres243':['40-XYZres246','40-XYZres247','40-XYZres251'],\n",
    "         '51-XYZres297':['51-XYZres298','51-XYZres302','51-XYZres305','51-XYZres301'],\n",
    "         '51-XYZres296':['51-XYZres306'],\n",
    "         '51-XYZres299':['51-XYZres300','51-XYZres303','51-XYZres304'],\n",
    "         '65-XYZres397':['65-XYZres398','65-XYZres401','65-XYZres402','65-XYZres405','65-XYZres408','65-XYZres409'],\n",
    "         '65-XYZres396':['65-XYZres399','65-XYZres400'],\n",
    "         '65-XYZres403':[],\n",
    "         '70-XYZres420':['70-XYZres421','70-XYZres422'],\n",
    "         '70-XYZres419':['70-XYZres416','70-XYZres413','70-XYZres410','70-XYZres412','70-XYZres416'],\n",
    "         '70-XYZres414':['70-XYZres417'],\n",
    "         '70-XYZres411':['70-XYZres418','70-XYZres415'],\n",
    "         '-XYZres007':[]\n",
    "        }\n",
    "dic.update(dic_2) \n",
    "len(list(dic.keys()))"
   ]
  },
  {
   "cell_type": "code",
   "execution_count": 22,
   "id": "de73c654",
   "metadata": {},
   "outputs": [
    {
     "name": "stdout",
     "output_type": "stream",
     "text": [
      "103\n",
      "matt_raw_warped_single_upsampled_seg/06162021_45-XYZres288_warped_seg.npy\n"
     ]
    }
   ],
   "source": [
    "directory_seg = Path('matt_raw_warped_single_upsampled_seg')\n",
    "images = list(directory_seg.glob('*_0001_warped_seg.npy'))\n",
    "images = sorted([x.as_posix() for x in images])\n",
    "images = [x for x in images if os.path.exists(re.sub('_0001','',x))]\n",
    "images = [x for x in images if  any(y in x for y in list(dic.keys()))]\n",
    "images = [re.sub('_0001','',x) for x in images]\n",
    "#images = [x for x in images if 'vbm' in x]\n",
    "#images = [x for x in images if '45-XYZres290' in x]\n",
    "print(len(images))\n",
    "print(images[0])"
   ]
  },
  {
   "cell_type": "code",
   "execution_count": 44,
   "id": "7ebd14da-3635-43a6-afb8-289ee7ed6d8b",
   "metadata": {},
   "outputs": [],
   "source": [
    "#[x for x in images if 'XYZres297' in x]"
   ]
  },
  {
   "cell_type": "code",
   "execution_count": null,
   "id": "0abc6a56-584a-4c8c-93c7-5b49abf91e69",
   "metadata": {},
   "outputs": [],
   "source": []
  },
  {
   "cell_type": "markdown",
   "id": "b1c9c030-e5a8-4b9c-80c5-bed76d1e5777",
   "metadata": {},
   "source": [
    "Currently set to union as intersection makes it choppy, retraining unetr on zoomed in data"
   ]
  },
  {
   "cell_type": "code",
   "execution_count": 49,
   "id": "6540342e-dad7-42c5-bd78-05072c4c61a1",
   "metadata": {},
   "outputs": [
    {
     "name": "stderr",
     "output_type": "stream",
     "text": [
      "100%|██████████| 103/103 [00:02<00:00, 45.60it/s]\n"
     ]
    }
   ],
   "source": [
    "res = []\n",
    "for image in tqdm(images[:]):\n",
    "    if not os.path.exists(re.sub('_warped_seg.npy','_seg_warped_single.mat',re.sub('_0001','',image))):\n",
    "        print(image)\n",
    "        img = binary_dilation(np.load(image))\n",
    "        _img = np.copy(img)\n",
    "        key = [x for x in list(dic.keys()) if x in image][0]\n",
    "        mov_files = [re.sub(key,x,image) for x in dic[key]]\n",
    "        mov_files = sorted(mov_files + [re.sub('_warped_seg.npy','_0001_warped_seg.npy',x) for x in mov_files])\n",
    "        mov_files.append(re.sub('_warped_seg.npy','_0001_warped_seg.npy',image))\n",
    "        mov_files = [x for x in mov_files if x != image]\n",
    "        mov_files = sorted(mov_files)\n",
    "        mov_files = np.unique(mov_files)\n",
    "        mov_files = [x for x in mov_files if os.path.exists(x)]\n",
    "        mut_info = []\n",
    "        for i in mov_files:\n",
    "            img_0001 = binary_dilation(np.load(i))\n",
    "            _mut_info = normalized_mutual_info_score(_img.flatten(),img_0001.flatten()) # calculate mutual information between masks, judges registration\n",
    "            mut_info.append(_mut_info)\n",
    "            if _mut_info > 0.1:\n",
    "                img += img_0001\n",
    "                print(i)\n",
    "        seg = img\n",
    "        seg[seg!=0] = seg[seg!=0]/seg[seg!=0]\n",
    "        seg = (seg==1)*1\n",
    "        seg = seg.astype('int8')\n",
    "        seg = binary_closing(binary_closing(binary_closing(fill_holes(seg))))\n",
    "        seg = remove_small_comps_3d(seg,thresh=250)\n",
    "        print(mut_info)\n",
    "        print(mov_files)\n",
    "        plt.imshow(np.max(seg,axis=2))\n",
    "        plt.show()\n",
    "        res += mut_info\n",
    "        savemat(re.sub('_warped_seg.npy','_seg_warped_single.mat',re.sub('_0001','',image)),{'FinalImage':fill_holes(binary_closing(seg))})\n",
    "        np.save(re.sub('_warped_seg.npy','_seg_warped_single.npy',re.sub('_0001','',image)),fill_holes(binary_closing(seg)))"
   ]
  },
  {
   "cell_type": "code",
   "execution_count": 50,
   "id": "d1367951-8637-4975-88c6-5960759564b8",
   "metadata": {},
   "outputs": [
    {
     "name": "stdout",
     "output_type": "stream",
     "text": [
      "nan\n",
      "nan\n"
     ]
    }
   ],
   "source": [
    "print(np.mean(res))\n",
    "print(np.std(res))"
   ]
  },
  {
   "cell_type": "markdown",
   "id": "5ff0b5ca-031a-439c-9810-7f693af7bacf",
   "metadata": {},
   "source": [
    "# Generate Graphs"
   ]
  },
  {
   "cell_type": "code",
   "execution_count": 23,
   "id": "6d4408af-5005-48da-892f-14b99d25b1ed",
   "metadata": {},
   "outputs": [
    {
     "data": {
      "text/plain": [
       "105"
      ]
     },
     "execution_count": 23,
     "metadata": {},
     "output_type": "execute_result"
    }
   ],
   "source": [
    "directory = Path('matt_raw_warped_single_upsampled_seg')\n",
    "files_seg_0001 = directory.glob('*skel*.mat')\n",
    "#files_seg_0001 = directory.glob('*.pickle')\n",
    "files_seg_0001 = sorted([x.as_posix() for x in files_seg_0001])\n",
    "#files_seg_0001 = [x for x in files_seg_0001 if '45-XYZres290' in x]\n",
    "len(files_seg_0001)\n",
    "#print(files_seg_0001)"
   ]
  },
  {
   "cell_type": "code",
   "execution_count": 26,
   "id": "29a85f96-992f-4f32-9ca7-9e56f41138ed",
   "metadata": {},
   "outputs": [
    {
     "data": {
      "text/plain": [
       "2"
      ]
     },
     "execution_count": 26,
     "metadata": {},
     "output_type": "execute_result"
    }
   ],
   "source": [
    "directory = Path('matt_raw_warped_single_upsampled_seg')\n",
    "files_seg_0001 = directory.glob('*_0001_warped_seg.npy')\n",
    "files_seg_0001 = sorted([x.as_posix() for x in files_seg_0001])\n",
    "files_seg_0001 = [x for x in files_seg_0001 if  any(y in x for y in list(dic.keys()))]\n",
    "files_seg_0001 = [re.sub('_0001','',x) for x in files_seg_0001]\n",
    "files_seg_0001 = [x for x in files_seg_0001 if  'vbm08' in x]\n",
    "np.random.shuffle(files_seg_0001)\n",
    "#files_seg_0001 = [x for x in files_seg_0001 if '45-XYZres290' in x]\n",
    "len(files_seg_0001)\n",
    "#print(files_seg_0001)"
   ]
  },
  {
   "cell_type": "code",
   "execution_count": 27,
   "id": "0c44109a-8051-421d-bb15-a77c730df0c6",
   "metadata": {},
   "outputs": [
    {
     "name": "stderr",
     "output_type": "stream",
     "text": [
      "  0%|          | 0/2 [00:00<?, ?it/s]"
     ]
    },
    {
     "name": "stdout",
     "output_type": "stream",
     "text": [
      "811\n",
      "524\n"
     ]
    },
    {
     "name": "stderr",
     "output_type": "stream",
     "text": [
      "/tmp/ipykernel_453834/1448379817.py:27: UserWarning:\n",
      "\n",
      "matt_raw_warped_single_upsampled_seg/vbm08 Mar 27 2020-XYZres028_single_skel.tif is a low contrast image\n",
      "\n"
     ]
    },
    {
     "name": "stdout",
     "output_type": "stream",
     "text": [
      "matched\n",
      "matched\n",
      "matched\n",
      "matched\n",
      "matched\n"
     ]
    },
    {
     "data": {
      "image/png": "[encoded data removed]",
      "text/plain": [
       "<Figure size 720x720 with 1 Axes>"
      ]
     },
     "metadata": {
      "needs_background": "light"
     },
     "output_type": "display_data"
    },
    {
     "name": "stderr",
     "output_type": "stream",
     "text": [
      " 50%|█████     | 1/2 [02:13<02:13, 133.82s/it]"
     ]
    },
    {
     "name": "stdout",
     "output_type": "stream",
     "text": [
      "1376\n",
      "770\n"
     ]
    },
    {
     "name": "stderr",
     "output_type": "stream",
     "text": [
      "/tmp/ipykernel_453834/1448379817.py:27: UserWarning:\n",
      "\n",
      "matt_raw_warped_single_upsampled_seg/vbm08 Mar 27 2020-XYZres029_single_skel.tif is a low contrast image\n",
      "\n"
     ]
    },
    {
     "name": "stdout",
     "output_type": "stream",
     "text": [
      "matched\n",
      "matched\n",
      "matched\n",
      "matched\n",
      "matched\n"
     ]
    },
    {
     "data": {
      "image/png": "[encoded data removed]",
      "text/plain": [
       "<Figure size 720x720 with 1 Axes>"
      ]
     },
     "metadata": {
      "needs_background": "light"
     },
     "output_type": "display_data"
    },
    {
     "name": "stderr",
     "output_type": "stream",
     "text": [
      "100%|██████████| 2/2 [04:33<00:00, 136.85s/it]\n"
     ]
    }
   ],
   "source": [
    "for file_0001 in tqdm(files_seg_0001[:]):\n",
    "    #if not os.path.exists(re.sub('_warped_seg.npy','_warped.pickle',file_0001)): #or (time.time() - os.path.getmtime(re.sub('_warped_seg.npy','_warped.pickle',file_0001)))/3600>48:\n",
    "        if os.path.exists(re.sub('_warped_seg.npy','_skel_warped_single.mat',file_0001)):\n",
    "            file = file_0001\n",
    "            skel_file = re.sub('_warped_seg.npy','_skel_warped_single.mat',file)\n",
    "            skel = loadmat(skel_file)['FilteredImage']\n",
    "            if np.sum(skel) != 0:\n",
    "                graph = sknw.build_sknw(skel, multi=False)\n",
    "                print(len(graph.edges))\n",
    "                while len(list(nx.selfloop_edges(graph)))>0:\n",
    "                    if len(list(nx.selfloop_edges(graph))) !=0:\n",
    "                        for edge in list(nx.selfloop_edges(graph)):\n",
    "                            skel[graph[edge[0]][edge[1]]['pts'][1:-1,0],graph[edge[0]][edge[1]]['pts'][1:-1,1],graph[edge[0]][edge[1]]['pts'][1:-1,2]] = 0\n",
    "                    for edge in graph.edges:\n",
    "                        if (graph.degree(edge[0]) == 1 and graph.degree(edge[1]) > 2) or (graph.degree(edge[1]) == 1 and graph.degree(edge[0]) > 2):\n",
    "                            if graph[edge[0]][edge[1]]['weight']<20:\n",
    "                                skel[graph[edge[0]][edge[1]]['pts'][1:-1,0],graph[edge[0]][edge[1]]['pts'][1:-1,1],graph[edge[0]][edge[1]]['pts'][1:-1,2]] = 0\n",
    "                    graph = sknw.build_sknw(skel, multi=False)\n",
    "                for edge in graph.edges:\n",
    "                    if (graph.degree(edge[0]) == 1 and graph.degree(edge[1]) > 2) or (graph.degree(edge[1]) == 1 and graph.degree(edge[0]) > 2):\n",
    "                        if graph[edge[0]][edge[1]]['weight']<20:\n",
    "                            skel[graph[edge[0]][edge[1]]['pts'][1:-1,0],graph[edge[0]][edge[1]]['pts'][1:-1,1],graph[edge[0]][edge[1]]['pts'][1:-1,2]] = 0\n",
    "                graph = sknw.build_sknw(skel, multi=False)\n",
    "                graph.remove_nodes_from(list(nx.isolates(graph)))\n",
    "                print(len(graph.edges))\n",
    "                #print(len(list(nx.isolates(graph))))\n",
    "                io.imsave(re.sub('_warped_seg.npy','_single_skel.tif',file),skel)\n",
    "                nx.write_gpickle(graph,re.sub('_warped_seg.npy','_warped.pickle',file))\n",
    "                key = [x for x in list(dic.keys()) if x in file][0]\n",
    "                mov_files = [re.sub(key,x,file) for x in dic[key]]\n",
    "                mov_files = sorted(mov_files + [re.sub('_0001','',x) for x in mov_files])\n",
    "                mov_files.append(re.sub('_0001','',file))\n",
    "                seg = np.load(file)\n",
    "                for _file in mov_files:\n",
    "                    if os.path.exists(_file):\n",
    "                        seg_0001 = np.load(_file)\n",
    "                        _mut_info = normalized_mutual_info_score(seg.flatten(),seg_0001.flatten()) # calculate mutual information between masks, judges registration\n",
    "                        if _mut_info > 0.1:\n",
    "                            print('matched')\n",
    "                            nx.write_gpickle(graph,re.sub('_warped_seg.npy','_warped.pickle',_file))\n",
    "                plt.rcParams['figure.figsize'] = [10, 10]\n",
    "                plt.imshow(np.max(skel,axis=2))\n",
    "                plt.show()"
   ]
  },
  {
   "cell_type": "code",
   "execution_count": 40,
   "id": "c6d40566-9efa-4434-b581-eee7c6bb62d2",
   "metadata": {},
   "outputs": [
    {
     "data": {
      "text/plain": [
       "245.70909090909092"
      ]
     },
     "execution_count": 40,
     "metadata": {},
     "output_type": "execute_result"
    }
   ],
   "source": [
    "res = []\n",
    "for edge in graph.edges:\n",
    "    res.append(np.mean(np.array(graph[edge[0]][edge[1]]['pts'])[:,2]))\n",
    "max(res)"
   ]
  },
  {
   "cell_type": "markdown",
   "id": "e1a91fbe-ec29-42ee-a832-8097b6cb6eb6",
   "metadata": {},
   "source": [
    "# write vessel measurments to graph files"
   ]
  },
  {
   "cell_type": "code",
   "execution_count": 20,
   "id": "f810e37f-eb93-4106-a2c9-4b4fc4de373a",
   "metadata": {},
   "outputs": [
    {
     "name": "stdout",
     "output_type": "stream",
     "text": [
      "13\n",
      "matt_raw_warped_single_upsampled_seg/20210710_51-XYZres297_0001_warped.pickle\n"
     ]
    }
   ],
   "source": [
    "directory = Path('matt_raw_warped_single_upsampled_seg')\n",
    "files = directory.glob('*_warped.pickle')\n",
    "files = sorted([x.as_posix() for x in files])\n",
    "files = [x for x in files if '-' in x]\n",
    "files = [x for x in files if not os.path.exists(re.sub('raw_warped_single_upsampled_seg','preds_graphs_fwhm_single',re.sub('.pickle','_radii.pickle',x)))]\n",
    "files = [x for x in files if not os.path.exists(re.sub('raw_warped_single_upsampled_seg','preds_graphs_fwhm_single',re.sub('.pickle','_radii_forepaw.pickle',x)))]\n",
    "print(len(files))\n",
    "print(files[0])"
   ]
  },
  {
   "cell_type": "code",
   "execution_count": 72,
   "id": "4f22c777-065b-445a-9f96-5c4b3d554853",
   "metadata": {},
   "outputs": [
    {
     "data": {
      "text/plain": [
       "['matt_raw_warped_single_upsampled_seg/20210710_51-XYZres297_0001_warped.pickle',\n",
       " 'matt_raw_warped_single_upsampled_seg/20210710_51-XYZres297_warped.pickle',\n",
       " 'matt_raw_warped_single_upsampled_seg/20210710_51-XYZres298_0001_warped.pickle',\n",
       " 'matt_raw_warped_single_upsampled_seg/20210710_51-XYZres298_warped.pickle',\n",
       " 'matt_raw_warped_single_upsampled_seg/20210710_51-XYZres301_0001_warped.pickle',\n",
       " 'matt_raw_warped_single_upsampled_seg/20210710_51-XYZres301_warped.pickle',\n",
       " 'matt_raw_warped_single_upsampled_seg/20210710_51-XYZres302_0001_warped.pickle',\n",
       " 'matt_raw_warped_single_upsampled_seg/20210710_51-XYZres302_warped.pickle',\n",
       " 'matt_raw_warped_single_upsampled_seg/20210710_51-XYZres305_warped.pickle',\n",
       " 'matt_raw_warped_single_upsampled_seg/20220713_76-XYZres463_warped.pickle',\n",
       " 'matt_raw_warped_single_upsampled_seg/20220713_76-XYZres464_warped.pickle',\n",
       " 'matt_raw_warped_single_upsampled_seg/20220713_76-XYZres465_warped.pickle',\n",
       " 'matt_raw_warped_single_upsampled_seg/20220713_76-XYZres466_warped.pickle']"
      ]
     },
     "execution_count": 72,
     "metadata": {},
     "output_type": "execute_result"
    }
   ],
   "source": [
    "files"
   ]
  },
  {
   "cell_type": "code",
   "execution_count": 44,
   "id": "b944de18-6c13-4973-9a3a-96f34fcd77d3",
   "metadata": {},
   "outputs": [
    {
     "name": "stderr",
     "output_type": "stream",
     "text": [
      "  1%|          | 6/716 [00:00<00:12, 56.31it/s]"
     ]
    },
    {
     "name": "stdout",
     "output_type": "stream",
     "text": [
      "yes\n",
      "yes\n",
      "yes\n",
      "yes\n",
      "yes\n",
      "yes\n",
      "yes\n"
     ]
    },
    {
     "name": "stderr",
     "output_type": "stream",
     "text": [
      "  3%|▎         | 18/716 [00:00<00:15, 44.55it/s]"
     ]
    },
    {
     "name": "stdout",
     "output_type": "stream",
     "text": [
      "yes\n",
      "yes\n",
      "yes\n",
      "yes\n",
      "yes\n",
      "yes\n",
      "yes\n",
      "yes\n",
      "yes\n",
      "yes\n",
      "yes\n",
      "yes\n",
      "yes\n"
     ]
    },
    {
     "name": "stderr",
     "output_type": "stream",
     "text": [
      "  4%|▍         | 32/716 [00:00<00:13, 51.70it/s]"
     ]
    },
    {
     "name": "stdout",
     "output_type": "stream",
     "text": [
      "yes\n",
      "yes\n",
      "yes\n",
      "yes\n",
      "yes\n",
      "yes\n",
      "yes\n",
      "yes\n",
      "yes\n",
      "yes\n",
      "yes\n",
      "yes\n"
     ]
    },
    {
     "name": "stderr",
     "output_type": "stream",
     "text": [
      "  5%|▌         | 39/716 [00:00<00:13, 51.94it/s]"
     ]
    },
    {
     "name": "stdout",
     "output_type": "stream",
     "text": [
      "yes\n",
      "yes\n",
      "yes\n",
      "yes\n",
      "yes\n",
      "yes\n",
      "yes\n",
      "yes\n",
      "yes\n",
      "yes\n",
      "yes\n"
     ]
    },
    {
     "name": "stderr",
     "output_type": "stream",
     "text": [
      "  7%|▋         | 51/716 [00:01<00:13, 48.39it/s]"
     ]
    },
    {
     "name": "stdout",
     "output_type": "stream",
     "text": [
      "yes\n",
      "yes\n",
      "yes\n",
      "yes\n",
      "yes\n",
      "yes\n",
      "yes\n",
      "yes\n",
      "yes\n",
      "yes\n"
     ]
    },
    {
     "name": "stderr",
     "output_type": "stream",
     "text": [
      "  8%|▊         | 58/716 [00:01<00:13, 50.24it/s]"
     ]
    },
    {
     "name": "stdout",
     "output_type": "stream",
     "text": [
      "yes\n",
      "yes\n",
      "yes\n",
      "yes\n",
      "yes\n",
      "yes\n",
      "yes\n",
      "yes\n",
      "yes\n"
     ]
    },
    {
     "name": "stderr",
     "output_type": "stream",
     "text": [
      " 10%|▉         | 70/716 [00:01<00:14, 45.52it/s]"
     ]
    },
    {
     "name": "stdout",
     "output_type": "stream",
     "text": [
      "yes\n",
      "yes\n",
      "yes\n",
      "yes\n",
      "yes\n",
      "yes\n",
      "yes\n",
      "yes\n",
      "yes\n",
      "yes\n",
      "yes\n"
     ]
    },
    {
     "name": "stderr",
     "output_type": "stream",
     "text": [
      " 11%|█         | 76/716 [00:01<00:13, 47.94it/s]"
     ]
    },
    {
     "name": "stdout",
     "output_type": "stream",
     "text": [
      "yes\n",
      "yes\n",
      "yes\n",
      "yes\n",
      "yes\n",
      "yes\n",
      "yes\n"
     ]
    },
    {
     "name": "stderr",
     "output_type": "stream",
     "text": [
      " 12%|█▏        | 86/716 [00:01<00:16, 37.18it/s]"
     ]
    },
    {
     "name": "stdout",
     "output_type": "stream",
     "text": [
      "yes\n",
      "yes\n",
      "yes\n",
      "yes\n",
      "yes\n",
      "yes\n",
      "yes\n"
     ]
    },
    {
     "name": "stderr",
     "output_type": "stream",
     "text": [
      " 13%|█▎        | 91/716 [00:02<00:18, 33.98it/s]"
     ]
    },
    {
     "name": "stdout",
     "output_type": "stream",
     "text": [
      "yes\n",
      "yes\n",
      "yes\n",
      "yes\n"
     ]
    },
    {
     "name": "stderr",
     "output_type": "stream",
     "text": [
      " 13%|█▎        | 95/716 [00:02<00:24, 25.32it/s]"
     ]
    },
    {
     "name": "stdout",
     "output_type": "stream",
     "text": [
      "yes\n",
      "yes\n",
      "yes\n",
      "yes\n",
      "yes\n"
     ]
    },
    {
     "name": "stderr",
     "output_type": "stream",
     "text": [
      " 14%|█▍        | 101/716 [00:02<00:29, 20.88it/s]"
     ]
    },
    {
     "name": "stdout",
     "output_type": "stream",
     "text": [
      "yes\n",
      "yes\n",
      "yes\n",
      "yes\n",
      "yes\n"
     ]
    },
    {
     "name": "stderr",
     "output_type": "stream",
     "text": [
      " 15%|█▍        | 104/716 [00:02<00:31, 19.26it/s]"
     ]
    },
    {
     "name": "stdout",
     "output_type": "stream",
     "text": [
      "yes\n",
      "yes\n",
      "yes\n",
      "yes\n",
      "yes\n"
     ]
    },
    {
     "name": "stderr",
     "output_type": "stream",
     "text": [
      " 16%|█▌        | 111/716 [00:03<00:25, 23.46it/s]"
     ]
    },
    {
     "name": "stdout",
     "output_type": "stream",
     "text": [
      "yes\n",
      "yes\n",
      "yes\n",
      "yes\n",
      "yes\n",
      "yes\n"
     ]
    },
    {
     "name": "stderr",
     "output_type": "stream",
     "text": [
      " 16%|█▋        | 117/716 [00:03<00:25, 23.70it/s]"
     ]
    },
    {
     "name": "stdout",
     "output_type": "stream",
     "text": [
      "yes\n",
      "yes\n",
      "yes\n",
      "yes\n",
      "yes\n"
     ]
    },
    {
     "name": "stderr",
     "output_type": "stream",
     "text": [
      " 17%|█▋        | 120/716 [00:03<00:29, 20.43it/s]"
     ]
    },
    {
     "name": "stdout",
     "output_type": "stream",
     "text": [
      "yes\n",
      "yes\n",
      "yes\n"
     ]
    },
    {
     "name": "stderr",
     "output_type": "stream",
     "text": [
      " 17%|█▋        | 123/716 [00:03<00:30, 19.14it/s]"
     ]
    },
    {
     "name": "stdout",
     "output_type": "stream",
     "text": [
      "yes\n",
      "yes\n",
      "yes\n",
      "yes\n"
     ]
    },
    {
     "name": "stderr",
     "output_type": "stream",
     "text": [
      " 18%|█▊        | 126/716 [00:04<00:33, 17.67it/s]"
     ]
    },
    {
     "name": "stdout",
     "output_type": "stream",
     "text": [
      "yes\n",
      "yes\n",
      "yes\n",
      "yes\n"
     ]
    },
    {
     "name": "stderr",
     "output_type": "stream",
     "text": [
      " 18%|█▊        | 131/716 [00:04<00:31, 18.51it/s]"
     ]
    },
    {
     "name": "stdout",
     "output_type": "stream",
     "text": [
      "yes\n",
      "yes\n",
      "yes\n"
     ]
    },
    {
     "name": "stderr",
     "output_type": "stream",
     "text": [
      " 19%|█▉        | 135/716 [00:04<00:32, 17.84it/s]"
     ]
    },
    {
     "name": "stdout",
     "output_type": "stream",
     "text": [
      "yes\n",
      "yes\n",
      "yes\n",
      "yes\n"
     ]
    },
    {
     "name": "stderr",
     "output_type": "stream",
     "text": [
      " 19%|█▉        | 137/716 [00:04<00:34, 16.76it/s]"
     ]
    },
    {
     "name": "stdout",
     "output_type": "stream",
     "text": [
      "yes\n",
      "yes\n",
      "yes\n"
     ]
    },
    {
     "name": "stderr",
     "output_type": "stream",
     "text": [
      " 20%|█▉        | 142/716 [00:05<00:35, 16.29it/s]"
     ]
    },
    {
     "name": "stdout",
     "output_type": "stream",
     "text": [
      "yes\n",
      "yes\n",
      "yes\n",
      "yes\n",
      "yes\n"
     ]
    },
    {
     "name": "stderr",
     "output_type": "stream",
     "text": [
      " 20%|██        | 145/716 [00:05<00:34, 16.62it/s]"
     ]
    },
    {
     "name": "stdout",
     "output_type": "stream",
     "text": [
      "yes\n",
      "yes\n",
      "yes\n"
     ]
    },
    {
     "name": "stderr",
     "output_type": "stream",
     "text": [
      " 21%|██        | 150/716 [00:05<00:33, 16.94it/s]"
     ]
    },
    {
     "name": "stdout",
     "output_type": "stream",
     "text": [
      "yes\n",
      "yes\n",
      "yes\n",
      "yes\n"
     ]
    },
    {
     "name": "stderr",
     "output_type": "stream",
     "text": [
      " 21%|██        | 152/716 [00:05<00:32, 17.40it/s]"
     ]
    },
    {
     "name": "stdout",
     "output_type": "stream",
     "text": [
      "yes\n",
      "yes\n",
      "yes\n",
      "yes\n"
     ]
    },
    {
     "name": "stderr",
     "output_type": "stream",
     "text": [
      " 22%|██▏       | 157/716 [00:05<00:34, 16.27it/s]"
     ]
    },
    {
     "name": "stdout",
     "output_type": "stream",
     "text": [
      "yes\n",
      "yes\n",
      "yes\n"
     ]
    },
    {
     "name": "stderr",
     "output_type": "stream",
     "text": [
      " 22%|██▏       | 161/716 [00:06<00:34, 15.87it/s]"
     ]
    },
    {
     "name": "stdout",
     "output_type": "stream",
     "text": [
      "yes\n",
      "yes\n",
      "yes\n",
      "yes\n"
     ]
    },
    {
     "name": "stderr",
     "output_type": "stream",
     "text": [
      " 23%|██▎       | 164/716 [00:06<00:31, 17.57it/s]"
     ]
    },
    {
     "name": "stdout",
     "output_type": "stream",
     "text": [
      "yes\n",
      "yes\n",
      "yes\n",
      "yes\n",
      "yes\n"
     ]
    },
    {
     "name": "stderr",
     "output_type": "stream",
     "text": [
      " 24%|██▎       | 170/716 [00:06<00:27, 19.56it/s]"
     ]
    },
    {
     "name": "stdout",
     "output_type": "stream",
     "text": [
      "yes\n",
      "yes\n",
      "yes\n",
      "yes\n"
     ]
    },
    {
     "name": "stderr",
     "output_type": "stream",
     "text": [
      " 24%|██▍       | 172/716 [00:06<00:31, 17.30it/s]"
     ]
    },
    {
     "name": "stdout",
     "output_type": "stream",
     "text": [
      "yes\n",
      "yes\n",
      "yes\n",
      "yes\n"
     ]
    },
    {
     "name": "stderr",
     "output_type": "stream",
     "text": [
      " 25%|██▍       | 178/716 [00:06<00:26, 20.27it/s]"
     ]
    },
    {
     "name": "stdout",
     "output_type": "stream",
     "text": [
      "yes\n",
      "yes\n",
      "yes\n",
      "yes\n",
      "yes\n"
     ]
    },
    {
     "name": "stderr",
     "output_type": "stream",
     "text": [
      " 25%|██▌       | 181/716 [00:07<00:32, 16.62it/s]"
     ]
    },
    {
     "name": "stdout",
     "output_type": "stream",
     "text": [
      "yes\n",
      "yes\n",
      "yes\n"
     ]
    },
    {
     "name": "stderr",
     "output_type": "stream",
     "text": [
      " 26%|██▌       | 186/716 [00:07<00:28, 18.76it/s]"
     ]
    },
    {
     "name": "stdout",
     "output_type": "stream",
     "text": [
      "yes\n",
      "yes\n",
      "yes\n",
      "yes\n",
      "yes\n"
     ]
    },
    {
     "name": "stderr",
     "output_type": "stream",
     "text": [
      " 27%|██▋       | 191/716 [00:07<00:30, 17.11it/s]"
     ]
    },
    {
     "name": "stdout",
     "output_type": "stream",
     "text": [
      "yes\n",
      "yes\n",
      "yes\n",
      "yes\n"
     ]
    },
    {
     "name": "stderr",
     "output_type": "stream",
     "text": [
      " 27%|██▋       | 195/716 [00:08<00:29, 17.39it/s]"
     ]
    },
    {
     "name": "stdout",
     "output_type": "stream",
     "text": [
      "yes\n",
      "yes\n",
      "yes\n",
      "yes\n",
      "yes\n"
     ]
    },
    {
     "name": "stderr",
     "output_type": "stream",
     "text": [
      " 28%|██▊       | 198/716 [00:08<00:26, 19.24it/s]"
     ]
    },
    {
     "name": "stdout",
     "output_type": "stream",
     "text": [
      "yes\n",
      "yes\n",
      "yes\n"
     ]
    },
    {
     "name": "stderr",
     "output_type": "stream",
     "text": [
      " 28%|██▊       | 200/716 [00:08<00:31, 16.15it/s]"
     ]
    },
    {
     "name": "stdout",
     "output_type": "stream",
     "text": [
      "yes\n",
      "yes\n",
      "yes\n"
     ]
    },
    {
     "name": "stderr",
     "output_type": "stream",
     "text": [
      " 29%|██▊       | 205/716 [00:08<00:32, 15.64it/s]"
     ]
    },
    {
     "name": "stdout",
     "output_type": "stream",
     "text": [
      "yes\n",
      "yes\n",
      "yes\n",
      "yes\n",
      "yes\n"
     ]
    },
    {
     "name": "stderr",
     "output_type": "stream",
     "text": [
      " 29%|██▉       | 211/716 [00:08<00:25, 19.95it/s]"
     ]
    },
    {
     "name": "stdout",
     "output_type": "stream",
     "text": [
      "yes\n",
      "yes\n",
      "yes\n",
      "yes\n",
      "yes\n",
      "yes\n",
      "yes\n"
     ]
    },
    {
     "name": "stderr",
     "output_type": "stream",
     "text": [
      " 30%|███       | 216/716 [00:09<00:19, 25.08it/s]"
     ]
    },
    {
     "name": "stdout",
     "output_type": "stream",
     "text": [
      "yes\n",
      "yes\n",
      "yes\n",
      "yes\n"
     ]
    },
    {
     "name": "stderr",
     "output_type": "stream",
     "text": [
      " 31%|███▏      | 224/716 [00:09<00:17, 27.73it/s]"
     ]
    },
    {
     "name": "stdout",
     "output_type": "stream",
     "text": [
      "yes\n",
      "yes\n",
      "yes\n",
      "yes\n",
      "yes\n",
      "yes\n",
      "yes\n"
     ]
    },
    {
     "name": "stderr",
     "output_type": "stream",
     "text": [
      " 32%|███▏      | 230/716 [00:09<00:20, 23.42it/s]"
     ]
    },
    {
     "name": "stdout",
     "output_type": "stream",
     "text": [
      "yes\n",
      "yes\n",
      "yes\n",
      "yes\n",
      "yes\n"
     ]
    },
    {
     "name": "stderr",
     "output_type": "stream",
     "text": [
      " 33%|███▎      | 233/716 [00:09<00:20, 23.71it/s]"
     ]
    },
    {
     "name": "stdout",
     "output_type": "stream",
     "text": [
      "yes\n",
      "yes\n",
      "yes\n"
     ]
    },
    {
     "name": "stderr",
     "output_type": "stream",
     "text": [
      " 33%|███▎      | 236/716 [00:09<00:24, 19.52it/s]"
     ]
    },
    {
     "name": "stdout",
     "output_type": "stream",
     "text": [
      "yes\n",
      "yes\n",
      "yes\n",
      "yes\n",
      "yes\n"
     ]
    },
    {
     "name": "stderr",
     "output_type": "stream",
     "text": [
      " 34%|███▎      | 241/716 [00:10<00:26, 18.05it/s]"
     ]
    },
    {
     "name": "stdout",
     "output_type": "stream",
     "text": [
      "yes\n",
      "yes\n",
      "yes\n"
     ]
    },
    {
     "name": "stderr",
     "output_type": "stream",
     "text": [
      " 34%|███▍      | 247/716 [00:10<00:22, 21.12it/s]"
     ]
    },
    {
     "name": "stdout",
     "output_type": "stream",
     "text": [
      "yes\n",
      "yes\n",
      "yes\n",
      "yes\n",
      "yes\n",
      "yes\n"
     ]
    },
    {
     "name": "stderr",
     "output_type": "stream",
     "text": [
      " 35%|███▍      | 250/716 [00:10<00:21, 21.59it/s]"
     ]
    },
    {
     "name": "stdout",
     "output_type": "stream",
     "text": [
      "yes\n",
      "yes\n",
      "yes\n",
      "yes\n",
      "yes\n",
      "yes\n",
      "yes\n",
      "yes\n"
     ]
    },
    {
     "name": "stderr",
     "output_type": "stream",
     "text": [
      " 36%|███▌      | 258/716 [00:10<00:19, 23.73it/s]"
     ]
    },
    {
     "name": "stdout",
     "output_type": "stream",
     "text": [
      "yes\n",
      "yes\n",
      "yes\n",
      "yes\n",
      "yes\n",
      "yes\n",
      "yes\n",
      "yes\n"
     ]
    },
    {
     "name": "stderr",
     "output_type": "stream",
     "text": [
      " 38%|███▊      | 269/716 [00:11<00:13, 32.92it/s]"
     ]
    },
    {
     "name": "stdout",
     "output_type": "stream",
     "text": [
      "yes\n",
      "yes\n",
      "yes\n",
      "yes\n",
      "yes\n",
      "yes\n",
      "yes\n",
      "yes\n"
     ]
    },
    {
     "name": "stderr",
     "output_type": "stream",
     "text": [
      " 38%|███▊      | 274/716 [00:11<00:12, 35.45it/s]"
     ]
    },
    {
     "name": "stdout",
     "output_type": "stream",
     "text": [
      "yes\n",
      "yes\n",
      "yes\n",
      "yes\n",
      "yes\n"
     ]
    },
    {
     "name": "stderr",
     "output_type": "stream",
     "text": [
      " 40%|███▉      | 283/716 [00:11<00:16, 25.52it/s]"
     ]
    },
    {
     "name": "stdout",
     "output_type": "stream",
     "text": [
      "yes\n",
      "yes\n",
      "yes\n",
      "yes\n",
      "yes\n",
      "yes\n",
      "yes\n"
     ]
    },
    {
     "name": "stderr",
     "output_type": "stream",
     "text": [
      " 40%|████      | 287/716 [00:12<00:17, 24.41it/s]"
     ]
    },
    {
     "name": "stdout",
     "output_type": "stream",
     "text": [
      "yes\n",
      "yes\n",
      "yes\n",
      "yes\n",
      "yes\n"
     ]
    },
    {
     "name": "stderr",
     "output_type": "stream",
     "text": [
      " 41%|████      | 293/716 [00:12<00:18, 23.21it/s]"
     ]
    },
    {
     "name": "stdout",
     "output_type": "stream",
     "text": [
      "yes\n",
      "yes\n",
      "yes\n",
      "yes\n",
      "yes\n",
      "yes\n"
     ]
    },
    {
     "name": "stderr",
     "output_type": "stream",
     "text": [
      " 42%|████▏     | 304/716 [00:12<00:12, 34.01it/s]"
     ]
    },
    {
     "name": "stdout",
     "output_type": "stream",
     "text": [
      "yes\n",
      "yes\n",
      "yes\n",
      "yes\n",
      "yes\n",
      "yes\n",
      "yes\n",
      "yes\n",
      "yes\n",
      "yes\n"
     ]
    },
    {
     "name": "stderr",
     "output_type": "stream",
     "text": [
      " 43%|████▎     | 311/716 [00:12<00:09, 41.27it/s]"
     ]
    },
    {
     "name": "stdout",
     "output_type": "stream",
     "text": [
      "yes\n",
      "yes\n",
      "yes\n",
      "yes\n",
      "yes\n",
      "yes\n",
      "yes\n",
      "yes\n",
      "yes\n",
      "yes\n"
     ]
    },
    {
     "name": "stderr",
     "output_type": "stream",
     "text": [
      " 44%|████▍     | 316/716 [00:12<00:10, 39.66it/s]"
     ]
    },
    {
     "name": "stdout",
     "output_type": "stream",
     "text": [
      "yes\n",
      "yes\n",
      "yes\n",
      "yes\n",
      "yes\n"
     ]
    },
    {
     "name": "stderr",
     "output_type": "stream",
     "text": [
      " 45%|████▍     | 321/716 [00:13<00:12, 32.22it/s]"
     ]
    },
    {
     "name": "stdout",
     "output_type": "stream",
     "text": [
      "yes\n",
      "yes\n",
      "yes\n",
      "yes\n",
      "yes\n"
     ]
    },
    {
     "name": "stderr",
     "output_type": "stream",
     "text": [
      " 45%|████▌     | 325/716 [00:13<00:13, 28.34it/s]"
     ]
    },
    {
     "name": "stdout",
     "output_type": "stream",
     "text": [
      "yes\n",
      "yes\n",
      "yes\n"
     ]
    },
    {
     "name": "stderr",
     "output_type": "stream",
     "text": [
      " 46%|████▌     | 329/716 [00:13<00:17, 21.78it/s]"
     ]
    },
    {
     "name": "stdout",
     "output_type": "stream",
     "text": [
      "yes\n",
      "yes\n",
      "yes\n",
      "yes\n"
     ]
    },
    {
     "name": "stderr",
     "output_type": "stream",
     "text": [
      " 47%|████▋     | 335/716 [00:13<00:18, 20.93it/s]"
     ]
    },
    {
     "name": "stdout",
     "output_type": "stream",
     "text": [
      "yes\n",
      "yes\n",
      "yes\n",
      "yes\n"
     ]
    },
    {
     "name": "stderr",
     "output_type": "stream",
     "text": [
      " 48%|████▊     | 341/716 [00:14<00:17, 21.71it/s]"
     ]
    },
    {
     "name": "stdout",
     "output_type": "stream",
     "text": [
      "yes\n",
      "yes\n",
      "yes\n",
      "yes\n",
      "yes\n",
      "yes\n"
     ]
    },
    {
     "name": "stderr",
     "output_type": "stream",
     "text": [
      " 48%|████▊     | 344/716 [00:14<00:19, 19.50it/s]"
     ]
    },
    {
     "name": "stdout",
     "output_type": "stream",
     "text": [
      "yes\n",
      "yes\n",
      "yes\n",
      "yes\n"
     ]
    },
    {
     "name": "stderr",
     "output_type": "stream",
     "text": [
      " 48%|████▊     | 347/716 [00:14<00:18, 19.46it/s]"
     ]
    },
    {
     "name": "stdout",
     "output_type": "stream",
     "text": [
      "yes\n",
      "yes\n",
      "yes\n",
      "yes\n"
     ]
    },
    {
     "name": "stderr",
     "output_type": "stream",
     "text": [
      " 49%|████▉     | 352/716 [00:14<00:19, 19.07it/s]"
     ]
    },
    {
     "name": "stdout",
     "output_type": "stream",
     "text": [
      "yes\n",
      "yes\n",
      "yes\n",
      "yes\n"
     ]
    },
    {
     "name": "stderr",
     "output_type": "stream",
     "text": [
      " 50%|████▉     | 355/716 [00:14<00:15, 23.82it/s]"
     ]
    },
    {
     "name": "stdout",
     "output_type": "stream",
     "text": [
      "yes\n",
      "yes\n"
     ]
    },
    {
     "name": "stderr",
     "output_type": "stream",
     "text": [
      "\n"
     ]
    },
    {
     "ename": "KeyboardInterrupt",
     "evalue": "",
     "output_type": "error",
     "traceback": [
      "\u001b[0;31m---------------------------------------------------------------------------\u001b[0m",
      "\u001b[0;31mKeyboardInterrupt\u001b[0m                         Traceback (most recent call last)",
      "\u001b[0;32m/tmp/ipykernel_4005679/41158441.py\u001b[0m in \u001b[0;36m<module>\u001b[0;34m\u001b[0m\n\u001b[1;32m     12\u001b[0m     \u001b[0;32mif\u001b[0m \u001b[0;32mnot\u001b[0m \u001b[0mos\u001b[0m\u001b[0;34m.\u001b[0m\u001b[0mpath\u001b[0m\u001b[0;34m.\u001b[0m\u001b[0mexists\u001b[0m\u001b[0;34m(\u001b[0m\u001b[0mre\u001b[0m\u001b[0;34m.\u001b[0m\u001b[0msub\u001b[0m\u001b[0;34m(\u001b[0m\u001b[0;34m'raw_warped_single_upsampled_seg'\u001b[0m\u001b[0;34m,\u001b[0m\u001b[0;34m'preds_graphs_fwhm_single'\u001b[0m\u001b[0;34m,\u001b[0m\u001b[0mre\u001b[0m\u001b[0;34m.\u001b[0m\u001b[0msub\u001b[0m\u001b[0;34m(\u001b[0m\u001b[0;34m'.pickle'\u001b[0m\u001b[0;34m,\u001b[0m\u001b[0;34m'_radii.pickle'\u001b[0m\u001b[0;34m,\u001b[0m\u001b[0mfile\u001b[0m\u001b[0;34m)\u001b[0m\u001b[0;34m)\u001b[0m\u001b[0;34m)\u001b[0m\u001b[0;34m:\u001b[0m\u001b[0;34m\u001b[0m\u001b[0;34m\u001b[0m\u001b[0m\n\u001b[1;32m     13\u001b[0m         \u001b[0;31m#print('yes')\u001b[0m\u001b[0;34m\u001b[0m\u001b[0;34m\u001b[0m\u001b[0;34m\u001b[0m\u001b[0m\n\u001b[0;32m---> 14\u001b[0;31m         \u001b[0mgraph\u001b[0m \u001b[0;34m=\u001b[0m \u001b[0mnx\u001b[0m\u001b[0;34m.\u001b[0m\u001b[0mread_gpickle\u001b[0m\u001b[0;34m(\u001b[0m\u001b[0mfile\u001b[0m\u001b[0;34m)\u001b[0m\u001b[0;34m\u001b[0m\u001b[0;34m\u001b[0m\u001b[0m\n\u001b[0m\u001b[1;32m     15\u001b[0m         \u001b[0;32mif\u001b[0m \u001b[0mlen\u001b[0m\u001b[0;34m(\u001b[0m\u001b[0mgraph\u001b[0m\u001b[0;34m.\u001b[0m\u001b[0medges\u001b[0m\u001b[0;34m)\u001b[0m \u001b[0;34m<\u001b[0m \u001b[0;36m1500\u001b[0m\u001b[0;34m:\u001b[0m\u001b[0;34m\u001b[0m\u001b[0;34m\u001b[0m\u001b[0m\n\u001b[1;32m     16\u001b[0m             \u001b[0mprint\u001b[0m\u001b[0;34m(\u001b[0m\u001b[0;34m'yes'\u001b[0m\u001b[0;34m)\u001b[0m\u001b[0;34m\u001b[0m\u001b[0;34m\u001b[0m\u001b[0m\n",
      "\u001b[0;32m/lustre06/project/6023374/rozakmat/monai3.8/lib/python3.8/site-packages/networkx/utils/decorators.py\u001b[0m in \u001b[0;36margmap_read_gpickle_1\u001b[0;34m(path)\u001b[0m\n\u001b[1;32m      3\u001b[0m \u001b[0;32mfrom\u001b[0m \u001b[0mcontextlib\u001b[0m \u001b[0;32mimport\u001b[0m \u001b[0mcontextmanager\u001b[0m\u001b[0;34m\u001b[0m\u001b[0;34m\u001b[0m\u001b[0m\n\u001b[1;32m      4\u001b[0m \u001b[0;32mfrom\u001b[0m \u001b[0mpathlib\u001b[0m \u001b[0;32mimport\u001b[0m \u001b[0mPath\u001b[0m\u001b[0;34m\u001b[0m\u001b[0;34m\u001b[0m\u001b[0m\n\u001b[0;32m----> 5\u001b[0;31m \u001b[0;32mimport\u001b[0m \u001b[0mwarnings\u001b[0m\u001b[0;34m\u001b[0m\u001b[0;34m\u001b[0m\u001b[0m\n\u001b[0m\u001b[1;32m      6\u001b[0m \u001b[0;34m\u001b[0m\u001b[0m\n\u001b[1;32m      7\u001b[0m \u001b[0;32mimport\u001b[0m \u001b[0mnetworkx\u001b[0m \u001b[0;32mas\u001b[0m \u001b[0mnx\u001b[0m\u001b[0;34m\u001b[0m\u001b[0;34m\u001b[0m\u001b[0m\n",
      "\u001b[0;32m/lustre06/project/6023374/rozakmat/monai3.8/lib/python3.8/site-packages/networkx/readwrite/gpickle.py\u001b[0m in \u001b[0;36mread_gpickle\u001b[0;34m(path)\u001b[0m\n\u001b[1;32m    103\u001b[0m     )\n\u001b[1;32m    104\u001b[0m     \u001b[0mwarnings\u001b[0m\u001b[0;34m.\u001b[0m\u001b[0mwarn\u001b[0m\u001b[0;34m(\u001b[0m\u001b[0mmsg\u001b[0m\u001b[0;34m,\u001b[0m \u001b[0mDeprecationWarning\u001b[0m\u001b[0;34m,\u001b[0m \u001b[0mstacklevel\u001b[0m\u001b[0;34m=\u001b[0m\u001b[0;36m2\u001b[0m\u001b[0;34m)\u001b[0m\u001b[0;34m\u001b[0m\u001b[0;34m\u001b[0m\u001b[0m\n\u001b[0;32m--> 105\u001b[0;31m     \u001b[0;32mreturn\u001b[0m \u001b[0mpickle\u001b[0m\u001b[0;34m.\u001b[0m\u001b[0mload\u001b[0m\u001b[0;34m(\u001b[0m\u001b[0mpath\u001b[0m\u001b[0;34m)\u001b[0m\u001b[0;34m\u001b[0m\u001b[0;34m\u001b[0m\u001b[0m\n\u001b[0m",
      "\u001b[0;32m/lustre06/project/6023374/rozakmat/monai3.8/lib/python3.8/site-packages/numpy/core/numeric.py\u001b[0m in \u001b[0;36m_frombuffer\u001b[0;34m(buf, dtype, shape, order)\u001b[0m\n\u001b[1;32m   1867\u001b[0m \u001b[0;34m\u001b[0m\u001b[0m\n\u001b[1;32m   1868\u001b[0m \u001b[0;34m\u001b[0m\u001b[0m\n\u001b[0;32m-> 1869\u001b[0;31m \u001b[0;32mdef\u001b[0m \u001b[0m_frombuffer\u001b[0m\u001b[0;34m(\u001b[0m\u001b[0mbuf\u001b[0m\u001b[0;34m,\u001b[0m \u001b[0mdtype\u001b[0m\u001b[0;34m,\u001b[0m \u001b[0mshape\u001b[0m\u001b[0;34m,\u001b[0m \u001b[0morder\u001b[0m\u001b[0;34m)\u001b[0m\u001b[0;34m:\u001b[0m\u001b[0;34m\u001b[0m\u001b[0;34m\u001b[0m\u001b[0m\n\u001b[0m\u001b[1;32m   1870\u001b[0m     \u001b[0;32mreturn\u001b[0m \u001b[0mfrombuffer\u001b[0m\u001b[0;34m(\u001b[0m\u001b[0mbuf\u001b[0m\u001b[0;34m,\u001b[0m \u001b[0mdtype\u001b[0m\u001b[0;34m=\u001b[0m\u001b[0mdtype\u001b[0m\u001b[0;34m)\u001b[0m\u001b[0;34m.\u001b[0m\u001b[0mreshape\u001b[0m\u001b[0;34m(\u001b[0m\u001b[0mshape\u001b[0m\u001b[0;34m,\u001b[0m \u001b[0morder\u001b[0m\u001b[0;34m=\u001b[0m\u001b[0morder\u001b[0m\u001b[0;34m)\u001b[0m\u001b[0;34m\u001b[0m\u001b[0;34m\u001b[0m\u001b[0m\n\u001b[1;32m   1871\u001b[0m \u001b[0;34m\u001b[0m\u001b[0m\n",
      "\u001b[0;31mKeyboardInterrupt\u001b[0m: "
     ]
    }
   ],
   "source": [
    "min_prob = 0.75\n",
    "max_var = 0.1\n",
    "sampling = 1/5\n",
    "xls = pd.ExcelFile('TBI_STIM_metalog_local.xlsx')\n",
    "xls2 = pd.ExcelFile('../TBI_monai_UNET/p3_metalog.xlsx')\n",
    "df = {}\n",
    "for sheet_name in xls.sheet_names:\n",
    "    df[sheet_name] = xls.parse(sheet_name)\n",
    "for sheet_name in xls2.sheet_names:\n",
    "    df[sheet_name] = xls2.parse(sheet_name)\n",
    "for file in tqdm(files):\n",
    "    if not os.path.exists(re.sub('raw_warped_single_upsampled_seg','preds_graphs_fwhm_single',re.sub('.pickle','_radii.pickle',file))):\n",
    "        #print('yes')\n",
    "        graph = nx.read_gpickle(file)\n",
    "        if len(graph.edges) < 1500:\n",
    "            print('yes')\n",
    "            for sheet_name in xls.sheet_names + xls2.sheet_names:\n",
    "                if re.sub('_0001','',re.sub('matt_raw_warped_single_upsampled_seg/','',re.sub('_warped.pickle','',re.sub('xyz','XYZ',file))).split('-')[1]) in df[sheet_name].values:\n",
    "                    #print('a')\n",
    "                    subj = sheet_name\n",
    "                    if (re.sub('matt_raw_warped_single_upsampled_seg/','',re.sub('_warped.pickle','',file)).split('-')[0].split(' ') + [''])[0] in sheet_name or (re.sub('matt_raw_warped_single_upsampled_seg/','',re.sub('_warped.pickle','',file)).split('-')[0].split('_') + [''])[1] in sheet_name:\n",
    "                        if subj in [\"TBI7_3D\",\n",
    "                                    \"SHAM12_3D\",\n",
    "                                    \"TBI11_3D\",\n",
    "                                    \"SHAM9_3D\",\n",
    "                                    \"TBI22_3D\",\n",
    "                                    \"TBI31_3D\",\n",
    "                                    \"TBI38_3D\",\n",
    "                                    \"SHAM09_3D\",\n",
    "                                    \"SHAM23_3D\",\n",
    "                                    \"SHAM32_3D\",\n",
    "                                    'TBI38_3D',\n",
    "                                    'TBI6_3D',\n",
    "                                    'SHAM7_3D',\n",
    "                                    'TBI43_3D',\n",
    "                                    'TBI45_3D',\n",
    "                                    'SHAM53_3D',\n",
    "                                    'SHAM56_3D',\n",
    "                                    'SHAM55_3D',\n",
    "                                    'SHAM68_3D']:\n",
    "                            gender = 'male'\n",
    "                        elif subj in [\"TBI14_3D\",\n",
    "                                      \"SHAM17_3D\",\n",
    "                                      \"TBI18_3D\",\n",
    "                                      \"SHAM20_3D\",\n",
    "                                      \"TBI26_3D\",\n",
    "                                      \"TBI28_3D\",\n",
    "                                      \"SHAM35_3D\",\n",
    "                                      \"TBI33_3D\",\n",
    "                                      \"TBI40_3D\",\n",
    "                                      \"SHAM4_3D\",\n",
    "                                      \"TBI51_3D\",\n",
    "                                      \"SHAM64_3D\",\n",
    "                                      \"SHAM63_3D\",\n",
    "                                      \"TBI61_3D\",\n",
    "                                      \"TBI48_3D\",\n",
    "                                      \"TBI49_3D\",\n",
    "                                      \"SHAM67_3D\",\n",
    "                                      \"TBI65_3D\",\n",
    "                                      \"TBI70_3D\",\n",
    "                                      \"SHAM73_3D\"]:\n",
    "                            gender = 'female'\n",
    "                        treatment = re.sub('SHA','SHAM',subj[0:3])\n",
    "                        \n",
    "                        _tmp = df[subj].loc[df[subj]['CHECK WATER'] ==  re.sub('_0001','',re.sub('matt_preds/','',re.sub('_warped.pickle','',re.sub('xyz','XYZ',file))).split('-')[1])]  \n",
    "                        if _tmp['Unnamed: 12'].iloc[0] == 'raster':\n",
    "                            #print('yes')\n",
    "                            img_file = re.sub('matt_raw_warped_single_upsampled_seg','matt_raw_warped',re.sub('_warped.pickle','_warped.tif',file))\n",
    "                            seg_file = re.sub('_warped.pickle','_warped_seg.npy',file)\n",
    "                            mean_file = re.sub('_upsampled_seg','_upsampled',re.sub('_warped.pickle','_warped_mean.npy',file))\n",
    "                            std_file = re.sub('_upsampled_seg','_upsampled',re.sub('_warped.pickle','_warped_2x_std.npy',file))\n",
    "                            img = io.imread(img_file)\n",
    "                            img_ch2 = sp.ndimage.zoom(np.swapaxes(img[:,1,:,:],0,2),(1,1,2.645833333))\n",
    "                            img = sp.ndimage.zoom(np.swapaxes(img[:,0,:,:],0,2),(1,1,2.645833333))\n",
    "                            seg = np.load(seg_file)\n",
    "                            mean = np.load(mean_file)\n",
    "                            std = np.load(std_file)\n",
    "                            seg_dst = distance_transform_edt(seg)\n",
    "                            nrn_dst = np.load(re.sub('_warped.pickle','_warped_seg_nrn_dst.npy',file))\n",
    "                            wavelength = _tmp['Unnamed: 11'].iloc[0]\n",
    "                            power_per = _tmp['Unnamed: 10'].iloc[0]\n",
    "                            start_depth = _tmp['Unnamed: 2'].iloc[0]\n",
    "                            a, b, c = np.mgrid[-15:16:1, -15:16:1, -15:16:1]\n",
    "                            abc = np.dstack([a.flat,b.flat, c.flat])\n",
    "                            mu = np.array([0,0,0])\n",
    "                            sigma = np.array([0.636,0.127,0.127])\n",
    "                            covariance = np.diag(sigma**2)\n",
    "                            d = multivariate_normal.pdf(abc, mean=mu, cov=covariance)\n",
    "                            d = d.reshape((len(a),len(b),len(c)))\n",
    "                            deconv_img = np.copy(img)\n",
    "                            deconv_img =  1023 * restoration.richardson_lucy(img/1023.0, d, iterations=10) - 1023 * restoration.richardson_lucy(img_ch2/1023.0, d, iterations=10)\n",
    "                            deconv_img = np.int16(deconv_img)\n",
    "                            \n",
    "                            if treatment != 'vbm':\n",
    "                                age = _tmp['Unnamed: 14'].iloc[0]\n",
    "                                days_post_injury = _tmp['Unnamed: 15'].iloc[0]\n",
    "                            else:\n",
    "                                age = 'unknown'\n",
    "                                days_post_injury = 'unknown'\n",
    "                            for i in tqdm(range(len(graph.edges))):\n",
    "                                path = graph[list(graph.edges)[i][0]][list(graph.edges)[i][1]]['pts']\n",
    "                                _pred_radii = np.mean(seg_dst[path[::-1,0],path[::-1,1],path[::-1,2]])\n",
    "                                _pred_radii_max = np.max(seg_dst[path[::-1,0],path[::-1,1],path[::-1,2]])\n",
    "                                if _pred_radii == 0:\n",
    "                                    _pred_radii =1\n",
    "                                \n",
    "                                _box_fit = max([np.int16(_pred_radii_max)+10, 15])\n",
    "                                #path_grad = np.gradient(path,edge_order=2)[0]\n",
    "                                path_smooth = np.float32(np.copy(path))\n",
    "                                for k in range(len(path[0])):\n",
    "                                    path_smooth[:,k] = sp.ndimage.gaussian_filter1d(np.float64(path[:,k]),3,mode='nearest')\n",
    "                                path_grad = np.gradient(path_smooth,edge_order=2)[0]\n",
    "                                res_fwhm = []\n",
    "                                X = np.arange(-1*_box_fit,_box_fit+1,1)\n",
    "                                Y = np.arange(-1*_box_fit,_box_fit+1,1)\n",
    "                                x,y = np.meshgrid(X,Y)\n",
    "                                x = x.flatten()\n",
    "                                y = y.flatten()\n",
    "                                z = np.zeros(len(x))\n",
    "                                xy = np.vstack([x,y,z])\n",
    "                                \n",
    "                                \n",
    "                                res_fwhm = []\n",
    "                                \n",
    "                                res_fwhm_sigma = []\n",
    "                                \n",
    "                                def calc_fwhm_path(I):\n",
    "                                    point_grad = path_grad[I]\n",
    "                                    point = path[I]\n",
    "                                    if all(point_grad[0:2] == [0,0]) and abs(point_grad[2]/point_grad[2]) == 1:\n",
    "                                        rotated = xy.T + point\n",
    "                                    else:\n",
    "                                        rotated = _rotmat(point_grad,xy.T) + point\n",
    "                                    points_img = sp.ndimage.map_coordinates(#np.int16(mean[1]*1024),\n",
    "                                                                        deconv_img,\n",
    "                                                                        rotated.T, \n",
    "                                                                        order=3,\n",
    "                                                                        mode='constant')\n",
    "                                    \n",
    "                                            \n",
    "                                    points_img = np.reshape(points_img,(len(X),len(Y)))\n",
    "                                    points_img_no_smooth = np.copy(points_img)\n",
    "                                    points_img = sp.ndimage.gaussian_filter(points_img, sigma = _pred_radii*.4)\n",
    "\n",
    "                                    \n",
    "                                    \n",
    "                                    _point = np.array(np.arange(0,_pred_radii+20,sampling))\n",
    "                                    _zeros = np.zeros(len(_point))\n",
    "                                    _point = np.array([_point,_zeros])\n",
    "                                    _centre = closest_node([len(X)//2+1,len(Y)//2+1],peak_local_max(points_img.T))\n",
    "                                    \n",
    "                                    _res = []\n",
    "                                    \n",
    "                                    fig,ax = plt.subplots(1)\n",
    "                                    ax.set_aspect('equal')\n",
    "                                    ax.imshow(points_img_no_smooth,\n",
    "                                              vmin = 0,\n",
    "                                              vmax = np.max(deconv_img))\n",
    "                                    ax.scatter(_centre[0],_centre[1])\n",
    "                                    for deg in np.arange(0,360,10):\n",
    "                                        rot_point = np.dot(np.array([[np.cos(np.deg2rad(deg)),-1*np.sin(np.deg2rad(deg))],[np.sin(np.deg2rad(deg)),np.cos(np.deg2rad(deg))]]),_point)\n",
    "                                        rot_point[0] = rot_point[0] + _centre[0]\n",
    "                                        rot_point[1] = rot_point[1] + _centre[1]\n",
    "                                        points_vals = sp.ndimage.map_coordinates(points_img.T,\n",
    "                                                                                 rot_point, \n",
    "                                                                                 order=3,\n",
    "                                                                                 cval=0)\n",
    "                                        points_vals = sp.ndimage.gaussian_filter1d(points_vals,sigma=_pred_radii*.4/sampling)\n",
    "                                        points_vals_grad = np.gradient(points_vals)\n",
    "                                        _ = np.array(sp.signal.argrelextrema(points_vals + np.random.uniform(-1e-5,1e-5,len(points_vals)),np.less,order=3))\n",
    "                                        if _.shape[1] != 0:\n",
    "                                            points_vals_grad = np.gradient(points_vals[:_[0,0]+3])\n",
    "                                            _ = np.argmin(points_vals_grad)\n",
    "                                            _res.append(_*sampling)\n",
    "                                            ax.scatter(_*sampling*np.cos(np.deg2rad(deg))+_centre[0],_*sampling*np.sin(np.deg2rad(deg))+_centre[1],color='r')\n",
    "                                        else:\n",
    "                                            points_vals_grad = np.gradient(points_vals)\n",
    "                                            _ = np.argmin(points_vals_grad)\n",
    "                                            _res.append(_*sampling)\n",
    "                                            ax.scatter(_*sampling*np.cos(np.deg2rad(deg))+_centre[0],_*sampling*np.sin(np.deg2rad(deg))+_centre[1],color='r')\n",
    "                                    _res = np.array(_res)\n",
    "                                    _res = _res[np.where(_res!=0)]\n",
    "                                    _mean = np.mean(_res)\n",
    "                                    _std = np.std(_res)\n",
    "                                    _mask = np.where(np.logical_and(_res>_mean-2*_std, _res<_mean+2*_std))\n",
    "                                    _res = _res[_mask]\n",
    "                                    radii = np.mean(_res)\n",
    "                                    radii_std = np.std(_res)\n",
    "                                    circ = Circle(_centre,radii,fill=False)\n",
    "                                    #ax.add_patch(circ)\n",
    "                                    ax.set_title(radii)\n",
    "                                    fig.savefig('/home/rozakmat/scratch/_tmp/'+re.sub('matt_raw_warped_upsampled_seg/','',re.sub('_warped.pickle','',file))+str(i)+'_'+str(I)+'.png')\n",
    "                                    plt.clf()\n",
    "                                    \n",
    "                                        \n",
    "                                    return radii, radii_std\n",
    "                                \n",
    "                                pool = multiprocessing.Pool(8)\n",
    "                                _vals, _vals_sigma = zip(*pool.map(calc_fwhm_path, range(len(path))))\n",
    "                                images = []\n",
    "                                for I in tqdm(range(len(path))):\n",
    "                                    images.append(imageio.imread('/home/rozakmat/scratch/_tmp/'+re.sub('matt_raw_warped_upsampled_seg/','',re.sub('_warped.pickle','',file))+str(i)+'_'+str(I)+'.png'))\n",
    "                                    os.remove('/home/rozakmat/scratch/_tmp/'+re.sub('matt_raw_warped_upsampled_seg/','',re.sub('_warped.pickle','',file))+str(i)+'_'+str(I)+'.png')\n",
    "                                imageio.mimsave('/home/rozakmat/scratch/gifs/'+re.sub('matt_raw_warped_upsampled_seg/','',re.sub('_warped.pickle','',file))+str(i)+'.gif', images, format='GIF', fps=2)\n",
    "                                \n",
    "                                _nrn_dst_vals = nrn_dst[path[::-1,0],path[::-1,1],path[::-1,2]]\n",
    "                                graph[list(graph.edges)[i][0]][list(graph.edges)[i][1]]['radii'] = np.mean(_vals)\n",
    "                                graph[list(graph.edges)[i][0]][list(graph.edges)[i][1]]['radii_std'] = np.std(_vals)\n",
    "                                graph[list(graph.edges)[i][0]][list(graph.edges)[i][1]]['mean_neuron_distance'] = np.mean(_nrn_dst_vals)\n",
    "                                graph[list(graph.edges)[i][0]][list(graph.edges)[i][1]]['neuron_distance_std'] = np.std(_nrn_dst_vals)\n",
    "                                graph[list(graph.edges)[i][0]][list(graph.edges)[i][1]]['neuron_distance_min'] = np.min(_nrn_dst_vals)\n",
    "                                graph[list(graph.edges)[i][0]][list(graph.edges)[i][1]]['gender'] = gender\n",
    "                                graph[list(graph.edges)[i][0]][list(graph.edges)[i][1]]['path_weights'] = _vals\n",
    "                                graph[list(graph.edges)[i][0]][list(graph.edges)[i][1]]['path_weights_uncertanty'] = _vals_sigma\n",
    "                                #graph[list(graph.edges)[i][0]][list(graph.edges)[i][1]]['weight'] = graph[list(graph.edges)[i][0]][list(graph.edges)[i][1]]['weight']\n",
    "                                graph[list(graph.edges)[i][0]][list(graph.edges)[i][1]]['end-0z'] = path[0][0]\n",
    "                                graph[list(graph.edges)[i][0]][list(graph.edges)[i][1]]['end-0y'] = path[0][1]\n",
    "                                graph[list(graph.edges)[i][0]][list(graph.edges)[i][1]]['end-0x'] = path[0][2]\n",
    "                                graph[list(graph.edges)[i][0]][list(graph.edges)[i][1]]['end-1z'] = path[-1][0]\n",
    "                                graph[list(graph.edges)[i][0]][list(graph.edges)[i][1]]['end-1y'] = path[-1][1]\n",
    "                                graph[list(graph.edges)[i][0]][list(graph.edges)[i][1]]['end-1x'] = path[-1][2]\n",
    "                                graph[list(graph.edges)[i][0]][list(graph.edges)[i][1]]['mean_depth'] = np.mean(path[:,0])\n",
    "                                graph[list(graph.edges)[i][0]][list(graph.edges)[i][1]]['euclidean-dst'] = np.sqrt(np.sum(np.square(path[-1]-path[0])))\n",
    "                                graph[list(graph.edges)[i][0]][list(graph.edges)[i][1]]['subject'] = subj\n",
    "                                graph[list(graph.edges)[i][0]][list(graph.edges)[i][1]]['treatment'] = treatment\n",
    "                                graph[list(graph.edges)[i][0]][list(graph.edges)[i][1]]['wavelength'] = wavelength\n",
    "                                graph[list(graph.edges)[i][0]][list(graph.edges)[i][1]]['power'] = power_per\n",
    "                                graph[list(graph.edges)[i][0]][list(graph.edges)[i][1]]['age'] = age\n",
    "                                graph[list(graph.edges)[i][0]][list(graph.edges)[i][1]]['days_post_injury'] = days_post_injury\n",
    "                                break\n",
    "                            break\n",
    "                            #nx.write_gpickle(graph, re.sub('raw_warped_single_upsampled_seg','preds_graphs_fwhm_single',re.sub('.pickle','_radii.pickle',file)))"
   ]
  },
  {
   "cell_type": "code",
   "execution_count": 45,
   "id": "33d3795f-1686-4228-b114-65e324ad3fe4",
   "metadata": {},
   "outputs": [
    {
     "name": "stderr",
     "output_type": "stream",
     "text": [
      "100%|██████████| 716/716 [00:29<00:00, 24.02it/s]\n"
     ]
    }
   ],
   "source": [
    "min_prob = 0.75\n",
    "max_var = 0.1\n",
    "sampling = 1/5\n",
    "xls = pd.ExcelFile('TBI_STIM_metalog_local.xlsx')\n",
    "xls2 = pd.ExcelFile('../TBI_monai_UNET/p3_metalog.xlsx')\n",
    "df = {}\n",
    "for sheet_name in xls.sheet_names:\n",
    "    df[sheet_name] = xls.parse(sheet_name)\n",
    "for sheet_name in xls2.sheet_names:\n",
    "    df[sheet_name] = xls2.parse(sheet_name)\n",
    "\n",
    "for file in tqdm(files):\n",
    "    if not os.path.exists(re.sub('raw_warped_single_upsampled_seg','preds_graphs_fwhm_single',re.sub('.pickle','_radii_forepaw.pickle',file))):\n",
    "        graph = nx.read_gpickle(file)\n",
    "        if len(graph.edges) < 1500:\n",
    "            for sheet_name in xls.sheet_names + xls2.sheet_names:\n",
    "                if re.sub('_0001','',re.sub('matt_raw_warped_single_upsampled_seg/','',re.sub('_warped.pickle','',re.sub('xyz','XYZ',file))).split('-')[1]) in df[sheet_name].values:\n",
    "                    subj = sheet_name\n",
    "                    if (re.sub('matt_raw_warped_single_upsampled_seg/','',re.sub('_warped.pickle','',file)).split('-')[0].split(' ') + [''])[0] in sheet_name or (re.sub('matt_raw_warped_single_upsampled_seg/','',re.sub('_warped.pickle','',file)).split('-')[0].split('_') + [''])[1] in sheet_name:\n",
    "                        if subj in [\"TBI07_3D\",\n",
    "                                    \"TBI11_3D\",\n",
    "                                    \"TBI22_3D\",\n",
    "                                    \"TBI31_3D\",\n",
    "                                    \"TBI38_3D\",\n",
    "                                    \"SHAM09_3D\",\n",
    "                                    \"SHAM12_3D\",\n",
    "                                    \"SHAM23_3D\",\n",
    "                                    \"SHAM32_3D\",\n",
    "                                    'TBI38_3D',\n",
    "                                    'TBI6_3D',\n",
    "                                    'SHAM7_3D',\n",
    "                                    'TBI43_3D',\n",
    "                                    'TBI45_3D',\n",
    "                                    'SHAM53_3D',\n",
    "                                    'SHAM56_3D',\n",
    "                                    'SHAM55_3D']:\n",
    "                            gender = 'male'\n",
    "                        else:\n",
    "                            gender = 'female'\n",
    "                        treatment = re.sub('SHA','SHAM',subj[0:3])\n",
    "                        _tmp = df[subj].loc[df[subj]['CHECK WATER'] ==  re.sub('_0001','',re.sub('matt_preds/','',re.sub('_warped.pickle','',re.sub('xyz','XYZ',file))).split('-')[1])]\n",
    "                        if _tmp['Unnamed: 12'].iloc[0] != 'raster':\n",
    "                            img_file = re.sub('matt_raw_warped_single_upsampled_seg','matt_raw_warped',re.sub('_warped.pickle','_warped.tif',file))\n",
    "                            seg_file = re.sub('_warped.pickle','_warped_seg.npy',file)\n",
    "                            mean_file = re.sub('_upsampled_seg','_upsampled',re.sub('_warped.pickle','_warped_mean.npy',file))\n",
    "                            std_file = re.sub('_upsampled_seg','_upsampled',re.sub('_warped.pickle','_warped_2x_std.npy',file))\n",
    "                            img = io.imread(img_file)\n",
    "                            img_ch2 = sp.ndimage.zoom(np.swapaxes(img[:,1,:,:],0,2),(1,1,2.645833333))\n",
    "                            img = sp.ndimage.zoom(np.swapaxes(img[:,0,:,:],0,2),(1,1,2.645833333))\n",
    "                            seg = np.load(seg_file)\n",
    "                            mean = np.load(mean_file)\n",
    "                            std = np.load(std_file)\n",
    "                            seg_dst = distance_transform_edt(seg)\n",
    "                            nrn_dst = np.load(re.sub('_warped.pickle','_warped_seg_nrn_dst.npy',file))\n",
    "                            current = _tmp['Unnamed: 10'].iloc[0]\n",
    "                            freq = _tmp['Unnamed: 11'].iloc[0]\n",
    "                            start_depth = _tmp['Unnamed: 2'].iloc[0]\n",
    "                            a, b, c = np.mgrid[-15:16:1, -15:16:1, -15:16:1]\n",
    "                            abc = np.dstack([a.flat,b.flat, c.flat])\n",
    "                            mu = np.array([0,0,0])\n",
    "                            sigma = np.array([0.636,0.127,0.127])\n",
    "                            covariance = np.diag(sigma**2)\n",
    "                            d = multivariate_normal.pdf(abc, mean=mu, cov=covariance)\n",
    "                            d = d.reshape((len(a),len(b),len(c)))\n",
    "                            deconv_img = np.copy(img)\n",
    "                            deconv_img =  1023 * restoration.richardson_lucy(img/1023.0, d, iterations=10) - 1023 * restoration.richardson_lucy(img_ch2/1023.0, d, iterations=10)\n",
    "                            deconv_img = np.int16(deconv_img)\n",
    "                            \n",
    "                            if treatment != 'vbm':\n",
    "                                age = _tmp['Unnamed: 8'].iloc[0]\n",
    "                                days_post_injury = _tmp['Unnamed: 9'].iloc[0]\n",
    "                            else:\n",
    "                                age = 'unknown'\n",
    "                                days_post_injury = 'unknown'\n",
    "                            for i in tqdm(range(len(graph.edges))):\n",
    "                                path = graph[list(graph.edges)[i][0]][list(graph.edges)[i][1]]['pts']\n",
    "                                _pred_radii = np.mean(seg_dst[path[::-1,0],path[::-1,1],path[::-1,2]])\n",
    "                                _pred_radii_max = np.max(seg_dst[path[::-1,0],path[::-1,1],path[::-1,2]])\n",
    "                                if _pred_radii == 0:\n",
    "                                    _pred_radii =1\n",
    "                                \n",
    "                                _box_fit = max([np.int16(_pred_radii_max)+10, 15])\n",
    "                                #path_grad = np.gradient(path,edge_order=2)[0]\n",
    "                                path_smooth = np.float32(np.copy(path))\n",
    "                                for k in range(len(path[0])):\n",
    "                                    path_smooth[:,k] = sp.ndimage.gaussian_filter1d(np.float64(path[:,k]),3,mode='nearest')\n",
    "                                path_grad = np.gradient(path_smooth,edge_order=2)[0]\n",
    "                                res_fwhm = []\n",
    "                                X = np.arange(-1*_box_fit,_box_fit+1,1)\n",
    "                                Y = np.arange(-1*_box_fit,_box_fit+1,1)\n",
    "                                x,y = np.meshgrid(X,Y)\n",
    "                                x = x.flatten()\n",
    "                                y = y.flatten()\n",
    "                                z = np.zeros(len(x))\n",
    "                                xy = np.vstack([x,y,z])\n",
    "                                \n",
    "                                \n",
    "                                res_fwhm = []\n",
    "                                \n",
    "                                res_fwhm_sigma = []\n",
    "                                \n",
    "                                def calc_fwhm_path(I):\n",
    "                                    point_grad = path_grad[I]\n",
    "                                    point = path[I]\n",
    "                                    if all(point_grad[0:2] == [0,0]) and abs(point_grad[2]/point_grad[2]) == 1:\n",
    "                                        rotated = xy.T + point\n",
    "                                    else:\n",
    "                                        rotated = _rotmat(point_grad,xy.T) + point\n",
    "                                    points_img = sp.ndimage.map_coordinates(#np.int16(mean[1]*1024),\n",
    "                                                                        deconv_img,\n",
    "                                                                        rotated.T, \n",
    "                                                                        order=3,\n",
    "                                                                        mode='constant')\n",
    "                                    \n",
    "                                            \n",
    "                                    points_img = np.reshape(points_img,(len(X),len(Y)))\n",
    "                                    points_img_no_smooth = np.copy(points_img)\n",
    "                                    points_img = sp.ndimage.gaussian_filter(points_img, sigma = _pred_radii*.4)\n",
    "\n",
    "                                    \n",
    "                                    \n",
    "                                    _point = np.array(np.arange(0,_pred_radii+20,sampling))\n",
    "                                    _zeros = np.zeros(len(_point))\n",
    "                                    _point = np.array([_point,_zeros])\n",
    "                                    _centre = closest_node([len(X)//2+1,len(Y)//2+1],peak_local_max(points_img.T))\n",
    "                                    \n",
    "                                    _res = []\n",
    "                                    \n",
    "                                    fig,ax = plt.subplots(1)\n",
    "                                    ax.set_aspect('equal')\n",
    "                                    ax.imshow(points_img_no_smooth,\n",
    "                                              vmin = 0,\n",
    "                                              vmax = np.max(deconv_img))\n",
    "                                    ax.scatter(_centre[0],_centre[1])\n",
    "                                    for deg in np.arange(0,360,10):\n",
    "                                        rot_point = np.dot(np.array([[np.cos(np.deg2rad(deg)),-1*np.sin(np.deg2rad(deg))],[np.sin(np.deg2rad(deg)),np.cos(np.deg2rad(deg))]]),_point)\n",
    "                                        rot_point[0] = rot_point[0] + _centre[0]\n",
    "                                        rot_point[1] = rot_point[1] + _centre[1]\n",
    "                                        points_vals = sp.ndimage.map_coordinates(points_img.T,\n",
    "                                                                                 rot_point, \n",
    "                                                                                 order=3,\n",
    "                                                                                 cval=0)\n",
    "                                        points_vals = sp.ndimage.gaussian_filter1d(points_vals,sigma=_pred_radii*.4/sampling)\n",
    "                                        points_vals_grad = np.gradient(points_vals)\n",
    "                                        _ = np.array(sp.signal.argrelextrema(points_vals + np.random.uniform(-1e-5,1e-5,len(points_vals)),np.less,order=3))\n",
    "                                        if _.shape[1] != 0:\n",
    "                                            points_vals_grad = np.gradient(points_vals[:_[0,0]+3])\n",
    "                                            _ = np.argmin(points_vals_grad)\n",
    "                                            _res.append(_*sampling)\n",
    "                                            ax.scatter(_*sampling*np.cos(np.deg2rad(deg))+_centre[0],_*sampling*np.sin(np.deg2rad(deg))+_centre[1],color='r')\n",
    "                                        else:\n",
    "                                            points_vals_grad = np.gradient(points_vals)\n",
    "                                            _ = np.argmin(points_vals_grad)\n",
    "                                            _res.append(_*sampling)\n",
    "                                            ax.scatter(_*sampling*np.cos(np.deg2rad(deg))+_centre[0],_*sampling*np.sin(np.deg2rad(deg))+_centre[1],color='r')\n",
    "                                    _res = np.array(_res)\n",
    "                                    _res = _res[np.where(_res!=0)]\n",
    "                                    _mean = np.mean(_res)\n",
    "                                    _std = np.std(_res)\n",
    "                                    _mask = np.where(np.logical_and(_res>_mean-2*_std, _res<_mean+2*_std))\n",
    "                                    _res = _res[_mask]\n",
    "                                    radii = np.mean(_res)\n",
    "                                    radii_std = np.std(_res)\n",
    "                                    circ = Circle(_centre,radii,fill=False)\n",
    "                                    #ax.add_patch(circ)\n",
    "                                    ax.set_title(radii)\n",
    "                                    fig.savefig('/home/rozakmat/scratch/_tmp/'+re.sub('matt_raw_warped_upsampled_seg/','',re.sub('_warped.pickle','',file))+str(i)+'_'+str(I)+'.png')\n",
    "                                    plt.clf()\n",
    "                                    \n",
    "                                        \n",
    "                                    return radii, radii_std\n",
    "                                \n",
    "                                pool = multiprocessing.Pool(8)\n",
    "                                _vals, _vals_sigma = zip(*pool.map(calc_fwhm_path, range(len(path))))\n",
    "                                images = []\n",
    "                                for I in tqdm(range(len(path))):\n",
    "                                    images.append(imageio.imread('/home/rozakmat/scratch/_tmp/'+re.sub('matt_raw_warped_upsampled_seg/','',re.sub('_warped.pickle','',file))+str(i)+'_'+str(I)+'.png'))\n",
    "                                    os.remove('/home/rozakmat/scratch/_tmp/'+re.sub('matt_raw_warped_upsampled_seg/','',re.sub('_warped.pickle','',file))+str(i)+'_'+str(I)+'.png')\n",
    "                                imageio.mimsave('/home/rozakmat/scratch/gifs/'+re.sub('matt_raw_warped_upsampled_seg/','',re.sub('_warped.pickle','',file))+str(i)+'.gif', images, format='GIF', fps=2)\n",
    "                                \n",
    "                                _nrn_dst_vals = nrn_dst[path[::-1,0],path[::-1,1],path[::-1,2]]\n",
    "                                graph[list(graph.edges)[i][0]][list(graph.edges)[i][1]]['radii'] = np.mean(_vals)\n",
    "                                graph[list(graph.edges)[i][0]][list(graph.edges)[i][1]]['radii_std'] = np.std(_vals)\n",
    "                                graph[list(graph.edges)[i][0]][list(graph.edges)[i][1]]['mean_neuron_distance'] = np.mean(_nrn_dst_vals)\n",
    "                                graph[list(graph.edges)[i][0]][list(graph.edges)[i][1]]['neuron_distance_std'] = np.std(_nrn_dst_vals)\n",
    "                                graph[list(graph.edges)[i][0]][list(graph.edges)[i][1]]['neuron_distance_min'] = np.min(_nrn_dst_vals)\n",
    "                                graph[list(graph.edges)[i][0]][list(graph.edges)[i][1]]['gender'] = gender\n",
    "                                graph[list(graph.edges)[i][0]][list(graph.edges)[i][1]]['path_weights'] = _vals\n",
    "                                graph[list(graph.edges)[i][0]][list(graph.edges)[i][1]]['path_weights_uncertanty'] = _vals_sigma\n",
    "                                #graph[list(graph.edges)[i][0]][list(graph.edges)[i][1]]['weight'] = graph[list(graph.edges)[i][0]][list(graph.edges)[i][1]]['weight']\n",
    "                                graph[list(graph.edges)[i][0]][list(graph.edges)[i][1]]['end-0z'] = path[0][0]\n",
    "                                graph[list(graph.edges)[i][0]][list(graph.edges)[i][1]]['end-0y'] = path[0][1]\n",
    "                                graph[list(graph.edges)[i][0]][list(graph.edges)[i][1]]['end-0x'] = path[0][2]\n",
    "                                graph[list(graph.edges)[i][0]][list(graph.edges)[i][1]]['end-1z'] = path[-1][0]\n",
    "                                graph[list(graph.edges)[i][0]][list(graph.edges)[i][1]]['end-1y'] = path[-1][1]\n",
    "                                graph[list(graph.edges)[i][0]][list(graph.edges)[i][1]]['end-1x'] = path[-1][2]\n",
    "                                graph[list(graph.edges)[i][0]][list(graph.edges)[i][1]]['mean_depth'] = np.mean(path[:,0])\n",
    "                                graph[list(graph.edges)[i][0]][list(graph.edges)[i][1]]['euclidean-dst'] = np.sqrt(np.sum(np.square(path[-1]-path[0])))\n",
    "                                graph[list(graph.edges)[i][0]][list(graph.edges)[i][1]]['subject'] = subj\n",
    "                                graph[list(graph.edges)[i][0]][list(graph.edges)[i][1]]['treatment'] = treatment\n",
    "                                graph[list(graph.edges)[i][0]][list(graph.edges)[i][1]]['current'] = current\n",
    "                                graph[list(graph.edges)[i][0]][list(graph.edges)[i][1]]['frequency'] = freq\n",
    "                                graph[list(graph.edges)[i][0]][list(graph.edges)[i][1]]['age'] = age\n",
    "                                graph[list(graph.edges)[i][0]][list(graph.edges)[i][1]]['days_post_injury'] = days_post_injury\n",
    "                            nx.write_gpickle(graph, re.sub('raw_warped_single_upsampled_seg','preds_graphs_fwhm_single',re.sub('.pickle','_radii_forepaw.pickle',file)))"
   ]
  },
  {
   "cell_type": "code",
   "execution_count": null,
   "id": "f930e593-ccc5-47d6-bd70-62ec68472bdc",
   "metadata": {},
   "outputs": [],
   "source": [
    "os.remove(file)"
   ]
  },
  {
   "cell_type": "markdown",
   "id": "0f8b8f56-367c-4548-a376-96678fe04178",
   "metadata": {},
   "source": [
    "# Get pickle files with vascular measurments"
   ]
  },
  {
   "cell_type": "code",
   "execution_count": 84,
   "id": "37024f67-d7aa-4994-a70e-53327065c5e0",
   "metadata": {},
   "outputs": [
    {
     "name": "stdout",
     "output_type": "stream",
     "text": [
      "86\n"
     ]
    }
   ],
   "source": [
    "directory = Path('matt_preds_graphs_fwhm_single')\n",
    "files = directory.glob('*_warped_radii.pickle')\n",
    "files = sorted([x.as_posix() for x in files])\n",
    "files2 = directory.glob('*_warped_radii_forepaw.pickle')\n",
    "files2 = sorted([x.as_posix() for x in files2])\n",
    "files += files2\n",
    "files = [x for x in files if \"vbm\" in x]\n",
    "print(len(files))\n",
    "#files = [x for x in files if '45-' in x]\n",
    "#print(sorted(files))"
   ]
  },
  {
   "cell_type": "code",
   "execution_count": 85,
   "id": "3f9379b8-2bb4-4804-a899-e99b6e6c48dc",
   "metadata": {},
   "outputs": [
    {
     "name": "stderr",
     "output_type": "stream",
     "text": [
      "  0%|          | 0/86 [00:00<?, ?it/s]"
     ]
    },
    {
     "name": "stdout",
     "output_type": "stream",
     "text": [
      "245.72\n"
     ]
    },
    {
     "name": "stderr",
     "output_type": "stream",
     "text": [
      "  2%|▏         | 2/86 [00:02<01:33,  1.11s/it]"
     ]
    },
    {
     "name": "stdout",
     "output_type": "stream",
     "text": [
      "245.72\n",
      "249.12280701754386\n"
     ]
    },
    {
     "name": "stderr",
     "output_type": "stream",
     "text": [
      "  3%|▎         | 3/86 [00:04<02:04,  1.51s/it]"
     ]
    },
    {
     "name": "stdout",
     "output_type": "stream",
     "text": [
      "249.12280701754386\n"
     ]
    },
    {
     "name": "stderr",
     "output_type": "stream",
     "text": [
      "  6%|▌         | 5/86 [00:06<01:46,  1.32s/it]"
     ]
    },
    {
     "name": "stdout",
     "output_type": "stream",
     "text": [
      "245.72\n"
     ]
    },
    {
     "name": "stderr",
     "output_type": "stream",
     "text": [
      "  7%|▋         | 6/86 [00:07<01:33,  1.16s/it]"
     ]
    },
    {
     "name": "stdout",
     "output_type": "stream",
     "text": [
      "245.72\n",
      "249.12280701754386\n"
     ]
    },
    {
     "name": "stderr",
     "output_type": "stream",
     "text": [
      "  8%|▊         | 7/86 [00:09<02:02,  1.55s/it]"
     ]
    },
    {
     "name": "stdout",
     "output_type": "stream",
     "text": [
      "249.12280701754386\n"
     ]
    },
    {
     "name": "stderr",
     "output_type": "stream",
     "text": [
      " 10%|█         | 9/86 [00:11<01:25,  1.11s/it]"
     ]
    },
    {
     "name": "stdout",
     "output_type": "stream",
     "text": [
      "245.72\n"
     ]
    },
    {
     "name": "stderr",
     "output_type": "stream",
     "text": [
      " 12%|█▏        | 10/86 [00:12<01:25,  1.12s/it]"
     ]
    },
    {
     "name": "stdout",
     "output_type": "stream",
     "text": [
      "245.72\n",
      "249.12280701754386\n"
     ]
    },
    {
     "name": "stderr",
     "output_type": "stream",
     "text": [
      " 13%|█▎        | 11/86 [00:13<01:36,  1.28s/it]"
     ]
    },
    {
     "name": "stdout",
     "output_type": "stream",
     "text": [
      "249.12280701754386\n"
     ]
    },
    {
     "name": "stderr",
     "output_type": "stream",
     "text": [
      " 15%|█▌        | 13/86 [00:16<01:35,  1.31s/it]"
     ]
    },
    {
     "name": "stdout",
     "output_type": "stream",
     "text": [
      "243.7942857142857\n"
     ]
    },
    {
     "name": "stderr",
     "output_type": "stream",
     "text": [
      " 16%|█▋        | 14/86 [00:18<01:40,  1.40s/it]"
     ]
    },
    {
     "name": "stdout",
     "output_type": "stream",
     "text": [
      "243.7942857142857\n"
     ]
    },
    {
     "name": "stderr",
     "output_type": "stream",
     "text": [
      " 17%|█▋        | 15/86 [00:19<01:31,  1.28s/it]"
     ]
    },
    {
     "name": "stdout",
     "output_type": "stream",
     "text": [
      "246.4561403508772\n",
      "246.4561403508772\n"
     ]
    },
    {
     "name": "stderr",
     "output_type": "stream",
     "text": [
      " 20%|█▉        | 17/86 [00:21<01:16,  1.11s/it]"
     ]
    },
    {
     "name": "stdout",
     "output_type": "stream",
     "text": [
      "243.7942857142857\n"
     ]
    },
    {
     "name": "stderr",
     "output_type": "stream",
     "text": [
      " 21%|██        | 18/86 [00:21<01:02,  1.09it/s]"
     ]
    },
    {
     "name": "stdout",
     "output_type": "stream",
     "text": [
      "243.7942857142857\n",
      "246.4561403508772\n"
     ]
    },
    {
     "name": "stderr",
     "output_type": "stream",
     "text": [
      " 23%|██▎       | 20/86 [00:24<01:07,  1.03s/it]"
     ]
    },
    {
     "name": "stdout",
     "output_type": "stream",
     "text": [
      "246.4561403508772\n"
     ]
    },
    {
     "name": "stderr",
     "output_type": "stream",
     "text": [
      " 24%|██▍       | 21/86 [00:24<01:05,  1.00s/it]"
     ]
    },
    {
     "name": "stdout",
     "output_type": "stream",
     "text": [
      "243.7942857142857\n"
     ]
    },
    {
     "name": "stderr",
     "output_type": "stream",
     "text": [
      " 26%|██▌       | 22/86 [00:25<00:55,  1.15it/s]"
     ]
    },
    {
     "name": "stdout",
     "output_type": "stream",
     "text": [
      "243.7942857142857\n"
     ]
    },
    {
     "name": "stderr",
     "output_type": "stream",
     "text": [
      " 27%|██▋       | 23/86 [00:26<00:49,  1.28it/s]"
     ]
    },
    {
     "name": "stdout",
     "output_type": "stream",
     "text": [
      "246.4561403508772\n",
      "246.4561403508772\n"
     ]
    },
    {
     "name": "stderr",
     "output_type": "stream",
     "text": [
      " 29%|██▉       | 25/86 [00:28<01:02,  1.03s/it]"
     ]
    },
    {
     "name": "stdout",
     "output_type": "stream",
     "text": [
      "230.48535564853557\n"
     ]
    },
    {
     "name": "stderr",
     "output_type": "stream",
     "text": [
      " 30%|███       | 26/86 [00:29<00:53,  1.12it/s]"
     ]
    },
    {
     "name": "stdout",
     "output_type": "stream",
     "text": [
      "230.48535564853557\n",
      "245.31578947368422\n"
     ]
    },
    {
     "name": "stderr",
     "output_type": "stream",
     "text": [
      " 31%|███▏      | 27/86 [00:29<00:47,  1.25it/s]"
     ]
    },
    {
     "name": "stdout",
     "output_type": "stream",
     "text": [
      "245.31578947368422\n"
     ]
    },
    {
     "name": "stderr",
     "output_type": "stream",
     "text": [
      " 34%|███▎      | 29/86 [00:31<00:54,  1.04it/s]"
     ]
    },
    {
     "name": "stdout",
     "output_type": "stream",
     "text": [
      "230.48535564853557\n"
     ]
    },
    {
     "name": "stderr",
     "output_type": "stream",
     "text": [
      " 35%|███▍      | 30/86 [00:32<00:46,  1.20it/s]"
     ]
    },
    {
     "name": "stdout",
     "output_type": "stream",
     "text": [
      "230.48535564853557\n"
     ]
    },
    {
     "name": "stderr",
     "output_type": "stream",
     "text": [
      " 36%|███▌      | 31/86 [00:32<00:40,  1.36it/s]"
     ]
    },
    {
     "name": "stdout",
     "output_type": "stream",
     "text": [
      "245.31578947368422\n"
     ]
    },
    {
     "name": "stderr",
     "output_type": "stream",
     "text": [
      " 37%|███▋      | 32/86 [00:33<00:37,  1.42it/s]"
     ]
    },
    {
     "name": "stdout",
     "output_type": "stream",
     "text": [
      "245.31578947368422\n"
     ]
    },
    {
     "name": "stderr",
     "output_type": "stream",
     "text": [
      " 38%|███▊      | 33/86 [00:34<00:40,  1.32it/s]"
     ]
    },
    {
     "name": "stdout",
     "output_type": "stream",
     "text": [
      "230.48535564853557\n"
     ]
    },
    {
     "name": "stderr",
     "output_type": "stream",
     "text": [
      " 40%|███▉      | 34/86 [00:35<00:47,  1.10it/s]"
     ]
    },
    {
     "name": "stdout",
     "output_type": "stream",
     "text": [
      "230.48535564853557\n"
     ]
    },
    {
     "name": "stderr",
     "output_type": "stream",
     "text": [
      " 41%|████      | 35/86 [00:37<00:54,  1.07s/it]"
     ]
    },
    {
     "name": "stdout",
     "output_type": "stream",
     "text": [
      "245.31578947368422\n"
     ]
    },
    {
     "name": "stderr",
     "output_type": "stream",
     "text": [
      " 42%|████▏     | 36/86 [00:38<00:54,  1.09s/it]"
     ]
    },
    {
     "name": "stdout",
     "output_type": "stream",
     "text": [
      "245.31578947368422\n",
      "244.71428571428572\n"
     ]
    },
    {
     "name": "stderr",
     "output_type": "stream",
     "text": [
      " 44%|████▍     | 38/86 [00:39<00:39,  1.20it/s]"
     ]
    },
    {
     "name": "stdout",
     "output_type": "stream",
     "text": [
      "244.71428571428572\n",
      "245.70909090909092\n"
     ]
    },
    {
     "name": "stderr",
     "output_type": "stream",
     "text": [
      " 45%|████▌     | 39/86 [00:40<00:36,  1.29it/s]"
     ]
    },
    {
     "name": "stdout",
     "output_type": "stream",
     "text": [
      "245.70909090909092\n"
     ]
    },
    {
     "name": "stderr",
     "output_type": "stream",
     "text": [
      " 48%|████▊     | 41/86 [00:42<00:37,  1.19it/s]"
     ]
    },
    {
     "name": "stdout",
     "output_type": "stream",
     "text": [
      "244.71428571428572\n"
     ]
    },
    {
     "name": "stderr",
     "output_type": "stream",
     "text": [
      " 49%|████▉     | 42/86 [00:42<00:31,  1.39it/s]"
     ]
    },
    {
     "name": "stdout",
     "output_type": "stream",
     "text": [
      "244.71428571428572\n"
     ]
    },
    {
     "name": "stderr",
     "output_type": "stream",
     "text": [
      " 50%|█████     | 43/86 [00:42<00:28,  1.53it/s]"
     ]
    },
    {
     "name": "stdout",
     "output_type": "stream",
     "text": [
      "245.70909090909092\n",
      "245.70909090909092\n"
     ]
    },
    {
     "name": "stderr",
     "output_type": "stream",
     "text": [
      " 52%|█████▏    | 45/86 [00:44<00:24,  1.69it/s]"
     ]
    },
    {
     "name": "stdout",
     "output_type": "stream",
     "text": [
      "244.71428571428572\n"
     ]
    },
    {
     "name": "stderr",
     "output_type": "stream",
     "text": [
      " 53%|█████▎    | 46/86 [00:44<00:22,  1.82it/s]"
     ]
    },
    {
     "name": "stdout",
     "output_type": "stream",
     "text": [
      "244.71428571428572\n",
      "245.70909090909092\n"
     ]
    },
    {
     "name": "stderr",
     "output_type": "stream",
     "text": [
      " 56%|█████▌    | 48/86 [00:46<00:26,  1.43it/s]"
     ]
    },
    {
     "name": "stdout",
     "output_type": "stream",
     "text": [
      "245.70909090909092\n",
      "250.28481012658227\n"
     ]
    },
    {
     "name": "stderr",
     "output_type": "stream",
     "text": [
      " 58%|█████▊    | 50/86 [00:47<00:25,  1.43it/s]"
     ]
    },
    {
     "name": "stdout",
     "output_type": "stream",
     "text": [
      "250.28481012658227\n"
     ]
    },
    {
     "name": "stderr",
     "output_type": "stream",
     "text": [
      " 59%|█████▉    | 51/86 [00:48<00:22,  1.53it/s]"
     ]
    },
    {
     "name": "stdout",
     "output_type": "stream",
     "text": [
      "243.5\n",
      "243.5\n"
     ]
    },
    {
     "name": "stderr",
     "output_type": "stream",
     "text": [
      " 62%|██████▏   | 53/86 [00:49<00:22,  1.44it/s]"
     ]
    },
    {
     "name": "stdout",
     "output_type": "stream",
     "text": [
      "250.28481012658227\n",
      "250.28481012658227\n"
     ]
    },
    {
     "name": "stderr",
     "output_type": "stream",
     "text": [
      " 63%|██████▎   | 54/86 [00:50<00:20,  1.57it/s]"
     ]
    },
    {
     "name": "stdout",
     "output_type": "stream",
     "text": [
      "243.5\n"
     ]
    },
    {
     "name": "stderr",
     "output_type": "stream",
     "text": [
      " 65%|██████▌   | 56/86 [00:51<00:21,  1.42it/s]"
     ]
    },
    {
     "name": "stdout",
     "output_type": "stream",
     "text": [
      "243.5\n"
     ]
    },
    {
     "name": "stderr",
     "output_type": "stream",
     "text": [
      " 66%|██████▋   | 57/86 [00:52<00:18,  1.54it/s]"
     ]
    },
    {
     "name": "stdout",
     "output_type": "stream",
     "text": [
      "231.4\n"
     ]
    },
    {
     "name": "stderr",
     "output_type": "stream",
     "text": [
      " 67%|██████▋   | 58/86 [00:52<00:16,  1.69it/s]"
     ]
    },
    {
     "name": "stdout",
     "output_type": "stream",
     "text": [
      "231.4\n"
     ]
    },
    {
     "name": "stderr",
     "output_type": "stream",
     "text": [
      " 69%|██████▊   | 59/86 [00:53<00:14,  1.83it/s]"
     ]
    },
    {
     "name": "stdout",
     "output_type": "stream",
     "text": [
      "241.63917525773195\n"
     ]
    },
    {
     "name": "stderr",
     "output_type": "stream",
     "text": [
      " 70%|██████▉   | 60/86 [00:53<00:12,  2.01it/s]"
     ]
    },
    {
     "name": "stdout",
     "output_type": "stream",
     "text": [
      "241.63917525773195\n"
     ]
    },
    {
     "name": "stderr",
     "output_type": "stream",
     "text": [
      " 71%|███████   | 61/86 [00:54<00:14,  1.74it/s]"
     ]
    },
    {
     "name": "stdout",
     "output_type": "stream",
     "text": [
      "231.4\n",
      "231.4\n"
     ]
    },
    {
     "name": "stderr",
     "output_type": "stream",
     "text": [
      " 73%|███████▎  | 63/86 [00:55<00:14,  1.64it/s]"
     ]
    },
    {
     "name": "stdout",
     "output_type": "stream",
     "text": [
      "241.63917525773195\n"
     ]
    },
    {
     "name": "stderr",
     "output_type": "stream",
     "text": [
      " 74%|███████▍  | 64/86 [00:56<00:13,  1.59it/s]"
     ]
    },
    {
     "name": "stdout",
     "output_type": "stream",
     "text": [
      "241.63917525773195\n"
     ]
    },
    {
     "name": "stderr",
     "output_type": "stream",
     "text": [
      " 76%|███████▌  | 65/86 [00:56<00:12,  1.64it/s]"
     ]
    },
    {
     "name": "stdout",
     "output_type": "stream",
     "text": [
      "231.4\n",
      "231.4\n"
     ]
    },
    {
     "name": "stderr",
     "output_type": "stream",
     "text": [
      " 78%|███████▊  | 67/86 [00:58<00:14,  1.32it/s]"
     ]
    },
    {
     "name": "stdout",
     "output_type": "stream",
     "text": [
      "241.63917525773195\n"
     ]
    },
    {
     "name": "stderr",
     "output_type": "stream",
     "text": [
      " 79%|███████▉  | 68/86 [00:59<00:13,  1.31it/s]"
     ]
    },
    {
     "name": "stdout",
     "output_type": "stream",
     "text": [
      "241.63917525773195\n",
      "228.56363636363636\n"
     ]
    },
    {
     "name": "stderr",
     "output_type": "stream",
     "text": [
      " 81%|████████▏ | 70/86 [01:01<00:14,  1.11it/s]"
     ]
    },
    {
     "name": "stdout",
     "output_type": "stream",
     "text": [
      "228.56363636363636\n",
      "250.7\n"
     ]
    },
    {
     "name": "stderr",
     "output_type": "stream",
     "text": [
      " 83%|████████▎ | 71/86 [01:02<00:12,  1.21it/s]"
     ]
    },
    {
     "name": "stdout",
     "output_type": "stream",
     "text": [
      "250.7\n"
     ]
    },
    {
     "name": "stderr",
     "output_type": "stream",
     "text": [
      " 85%|████████▍ | 73/86 [01:03<00:09,  1.31it/s]"
     ]
    },
    {
     "name": "stdout",
     "output_type": "stream",
     "text": [
      "228.56363636363636\n",
      "228.56363636363636\n"
     ]
    },
    {
     "name": "stderr",
     "output_type": "stream",
     "text": [
      " 86%|████████▌ | 74/86 [01:04<00:09,  1.22it/s]"
     ]
    },
    {
     "name": "stdout",
     "output_type": "stream",
     "text": [
      "250.7\n"
     ]
    },
    {
     "name": "stderr",
     "output_type": "stream",
     "text": [
      " 87%|████████▋ | 75/86 [01:05<00:09,  1.21it/s]"
     ]
    },
    {
     "name": "stdout",
     "output_type": "stream",
     "text": [
      "250.7\n"
     ]
    },
    {
     "name": "stderr",
     "output_type": "stream",
     "text": [
      " 90%|████████▉ | 77/86 [01:06<00:06,  1.38it/s]"
     ]
    },
    {
     "name": "stdout",
     "output_type": "stream",
     "text": [
      "228.56363636363636\n",
      "228.56363636363636\n"
     ]
    },
    {
     "name": "stderr",
     "output_type": "stream",
     "text": [
      " 91%|█████████ | 78/86 [01:06<00:05,  1.52it/s]"
     ]
    },
    {
     "name": "stdout",
     "output_type": "stream",
     "text": [
      "250.7\n"
     ]
    },
    {
     "name": "stderr",
     "output_type": "stream",
     "text": [
      " 92%|█████████▏| 79/86 [01:07<00:05,  1.36it/s]"
     ]
    },
    {
     "name": "stdout",
     "output_type": "stream",
     "text": [
      "250.7\n"
     ]
    },
    {
     "name": "stderr",
     "output_type": "stream",
     "text": [
      " 94%|█████████▍| 81/86 [01:09<00:03,  1.46it/s]"
     ]
    },
    {
     "name": "stdout",
     "output_type": "stream",
     "text": [
      "249.2608695652174\n"
     ]
    },
    {
     "name": "stderr",
     "output_type": "stream",
     "text": [
      " 95%|█████████▌| 82/86 [01:09<00:02,  1.41it/s]"
     ]
    },
    {
     "name": "stdout",
     "output_type": "stream",
     "text": [
      "249.2608695652174\n"
     ]
    },
    {
     "name": "stderr",
     "output_type": "stream",
     "text": [
      " 97%|█████████▋| 83/86 [01:10<00:02,  1.48it/s]"
     ]
    },
    {
     "name": "stdout",
     "output_type": "stream",
     "text": [
      "249.45833333333334\n",
      "249.45833333333334\n"
     ]
    },
    {
     "name": "stderr",
     "output_type": "stream",
     "text": [
      " 98%|█████████▊| 84/86 [01:11<00:01,  1.33it/s]"
     ]
    },
    {
     "name": "stdout",
     "output_type": "stream",
     "text": [
      "249.45833333333334\n"
     ]
    },
    {
     "name": "stderr",
     "output_type": "stream",
     "text": [
      "100%|██████████| 86/86 [01:12<00:00,  1.18it/s]"
     ]
    },
    {
     "name": "stdout",
     "output_type": "stream",
     "text": [
      "249.45833333333334\n"
     ]
    },
    {
     "name": "stderr",
     "output_type": "stream",
     "text": [
      "\n"
     ]
    },
    {
     "data": {
      "text/plain": [
       "'matt_preds_graphs_fwhm_single/vbm03 Feb 26 2020-XYZres006_0001_warped_radii_amended.pickle'"
      ]
     },
     "execution_count": 85,
     "metadata": {},
     "output_type": "execute_result"
    }
   ],
   "source": [
    "min_prob = 0.75\n",
    "max_var = 0.1\n",
    "sampling = 1/5\n",
    "xls = pd.ExcelFile('TBI_STIM_metalog_local.xlsx')\n",
    "xls2 = pd.ExcelFile('../TBI_monai_UNET/p3_metalog.xlsx')\n",
    "df = {}\n",
    "for sheet_name in xls.sheet_names:\n",
    "    df[sheet_name] = xls.parse(sheet_name)\n",
    "for sheet_name in xls2.sheet_names:\n",
    "    df[sheet_name] = xls2.parse(sheet_name)\n",
    "for file in tqdm(files[::-1]):\n",
    "    graph = nx.read_gpickle(file)\n",
    "    for sheet_name in xls.sheet_names + xls2.sheet_names:\n",
    "        if re.sub('_0001','',re.sub('matt_preds_graphs_fwhm_single/','',re.sub('_warped_radii.pickle','',re.sub('_warped_radii_forepaw.pickle','',re.sub('xyz','XYZ',file)))).split('-')[1]) in df[sheet_name].values:\n",
    "            subj = sheet_name\n",
    "            if (re.sub('matt_preds_graphs_fwhm_single/','',re.sub('_warped.pickle','',file)).split('-')[0].split(' ') + [''])[0] in sheet_name or (re.sub('matt_preds_graphs_fwhm_single/','',re.sub('_warped.pickle','',file)).split('-')[0].split('_') + [''])[1] in sheet_name:\n",
    "                scan = re.sub('_0001','',re.sub('matt_preds_graphs_fwhm_single/','',re.sub('_warped_radii.pickle','',re.sub('_warped_radii_forepaw.pickle','',re.sub('xyz','XYZ',file)))).split('-')[1])\n",
    "                _ = subj.split('_')[0]\n",
    "                if subj in [\"TBI7_3D\",\n",
    "                            \"SHAM12_3D\",\n",
    "                            \"TBI11_3D\",\n",
    "                            \"SHAM9_3D\",\n",
    "                            \"TBI22_3D\",\n",
    "                            \"TBI31_3D\",\n",
    "                            \"TBI38_3D\",\n",
    "                            \"SHAM09_3D\",\n",
    "                            \"SHAM23_3D\",\n",
    "                            \"SHAM32_3D\",\n",
    "                            'TBI38_3D',\n",
    "                            'TBI6_3D',\n",
    "                            'SHAM7_3D',\n",
    "                            'TBI43_3D',\n",
    "                            'TBI45_3D',\n",
    "                            'SHAM53_3D',\n",
    "                            'SHAM56_3D',\n",
    "                            'SHAM55_3D',\n",
    "                            'SHAM68_3D',\n",
    "                            \"vbm04_3D\",\n",
    "                            \"vbm05_3D\",\n",
    "                            \"vbm06_3D\",\n",
    "                            \"vbm08_3D\",\n",
    "                            \"vbm10_3D\",\n",
    "                            \"SHAM68_3D\",\n",
    "                            \"SHAM76_3D\",\n",
    "                            \"TBI77_3D\",\n",
    "                            \"TBI80_3D\",\n",
    "                            \"TBI78_3D\", \n",
    "                            'SHAM81_3D']:\n",
    "                    gender = 'male'\n",
    "                elif subj in [\"TBI14_3D\",\n",
    "                              \"SHAM17_3D\",\n",
    "                              \"TBI18_3D\",\n",
    "                              \"SHAM20_3D\",\n",
    "                              \"TBI26_3D\",\n",
    "                              \"TBI28_3D\",\n",
    "                              \"SHAM35_3D\",\n",
    "                              \"TBI33_3D\",\n",
    "                              \"TBI40_3D\",\n",
    "                              \"SHAM4_3D\",\n",
    "                              \"TBI51_3D\",\n",
    "                              \"SHAM64_3D\",\n",
    "                              \"SHAM63_3D\",\n",
    "                              \"TBI61_3D\",\n",
    "                              \"TBI48_3D\",\n",
    "                              \"TBI49_3D\",\n",
    "                              \"SHAM67_3D\",\n",
    "                              \"TBI65_3D\",\n",
    "                              \"TBI70_3D\",\n",
    "                              \"SHAM73_3D\",\n",
    "                              \"vbm01_3D\",\n",
    "                              \"vbm02_3D\",\n",
    "                              \"vbm03_3D\",\n",
    "                              \"vbm07_3D\",\n",
    "                              \"vbm09_3D\",\n",
    "                              \"vbm11_3D\"]:\n",
    "                    gender = 'female'\n",
    "                else:\n",
    "                    gender = \"NA\"\n",
    "                    print('no sex listed')\n",
    "                    print(subj)\n",
    "                \n",
    "                if 'vbm' not in _:\n",
    "                    seq_type = type(_)\n",
    "                    dic_key = seq_type().join(filter(seq_type.isdigit,_)) + '-' + scan\n",
    "                elif 'vbm' in _: \n",
    "                    dic_key = '-' + scan\n",
    "                if dic_key in list(dic.keys()):\n",
    "                    _tmp_df = df[subj].loc[df[subj]['CHECK WATER'] ==  scan]\n",
    "                else:\n",
    "                    for key in list(dic.keys()):\n",
    "                        if dic_key in dic[key]:\n",
    "                            _key = key\n",
    "                            _scan = key.split('-')[1]\n",
    "                            _tmp_df = df[subj].loc[df[subj]['CHECK WATER'] ==  _scan]\n",
    "                if 'vbm' in _:\n",
    "                    pre_weight = np.nan\n",
    "                    post_weight = np.nan\n",
    "                elif 'vbm' not in _:\n",
    "                    pre_weight = float(_tmp_df['Unnamed: 16'])\n",
    "                    post_weight = float(_tmp_df['Unnamed: 17'])\n",
    "    nrn_dst = np.load(re.sub('preds_graphs_fwhm_single','raw_warped_single_upsampled_seg',re.sub('_warped_radii.pickle','_warped_seg_nrn_dst.npy',re.sub('_warped_radii_forepaw.pickle','_warped_seg_nrn_dst.npy',file))))\n",
    "    _res = []\n",
    "    for edge in graph.edges:\n",
    "        path = graph[edge[0]][edge[1]]['pts']\n",
    "        _res.append(np.mean(path[:,2]))\n",
    "        _nrn_dst_vals = nrn_dst[path[::-1,0],path[::-1,1],path[::-1,2]]\n",
    "        if not graph[edge[0]][edge[1]]['mean_neuron_distance']==np.mean(_nrn_dst_vals):\n",
    "            print('error')\n",
    "            exit\n",
    "        if np.isnan(graph[edge[0]][edge[1]]['radii']):\n",
    "            _tmp = np.array(graph[edge[0]][edge[1]]['path_weights'])\n",
    "            _tmp[~np.isnan(np.array(graph[edge[0]][edge[1]]['path_weights']))]\n",
    "            graph[edge[0]][edge[1]]['radii'] = np.mean(_tmp[~np.isnan(np.array(graph[edge[0]][edge[1]]['path_weights']))])\n",
    "            graph[edge[0]][edge[1]]['radii_std'] = np.std(_tmp[~np.isnan(np.array(graph[edge[0]][edge[1]]['path_weights']))])\n",
    "        graph[edge[0]][edge[1]]['start_depth'] = _tmp_df['Unnamed: 2'].iloc[0]\n",
    "        graph[edge[0]][edge[1]]['gender'] = gender\n",
    "        graph[edge[0]][edge[1]]['mean_depth'] = np.mean(path[:,2])\n",
    "        graph[edge[0]][edge[1]]['path_weights_nrn'] = _nrn_dst_vals\n",
    "        graph[edge[0]][edge[1]]['start_weight'] = pre_weight\n",
    "        graph[edge[0]][edge[1]]['imaging_weight'] = post_weight\n",
    "            #print(_tmp_df['Unnamed: 2'].iloc[0])\n",
    "    print(np.max(_res))\n",
    "    #print(gender)\n",
    "    #print(subj)\n",
    "    #print(file)\n",
    "    if subj == \"SHAM73_3D\" and graph[edge[0]][edge[1]]['gender'] == 'male':\n",
    "        error\n",
    "    nx.write_gpickle(graph, re.sub('.pickle','_amended.pickle',file))\n",
    "re.sub('.pickle','_amended.pickle',file)"
   ]
  },
  {
   "cell_type": "code",
   "execution_count": 57,
   "id": "bb5e7fb6-5c2a-40b7-936e-d6bf63fcf615",
   "metadata": {},
   "outputs": [],
   "source": [
    "#"
   ]
  },
  {
   "cell_type": "code",
   "execution_count": 58,
   "id": "040ca439-dff8-42be-9b09-ce4837dd0562",
   "metadata": {},
   "outputs": [],
   "source": [
    "#graph[0][12]"
   ]
  },
  {
   "cell_type": "code",
   "execution_count": 90,
   "id": "bb541b5c",
   "metadata": {},
   "outputs": [
    {
     "data": {
      "text/plain": [
       "'68'"
      ]
     },
     "execution_count": 90,
     "metadata": {},
     "output_type": "execute_result"
    }
   ],
   "source": [
    "(re.sub('matt_preds_graphs_fwhm_single/','',re.sub('_warped.pickle','',file)).split('-')[0].split(' ') + [''])[0] in sheet_name or (re.sub('matt_preds_graphs_fwhm_single/','',re.sub('_warped.pickle','',file)).split('-')[0].split('_') + [''])[1]"
   ]
  },
  {
   "cell_type": "code",
   "execution_count": null,
   "id": "e50d2316",
   "metadata": {},
   "outputs": [],
   "source": [
    "re.sub('preds_graphs_fwhm_single','raw_warped_single_upsampled_seg',re.sub('_warped_radii.pickle','_warped_seg_nrn_dst.npy',file))"
   ]
  },
  {
   "cell_type": "markdown",
   "id": "62668eaf-4bd5-4ed0-b318-4d96e284d986",
   "metadata": {},
   "source": [
    "# Grab labels from James labelled AVC for his data"
   ]
  },
  {
   "cell_type": "code",
   "execution_count": 86,
   "id": "a4618aae-31a1-4bf0-a2ca-4a68c5e676bd",
   "metadata": {},
   "outputs": [
    {
     "name": "stdout",
     "output_type": "stream",
     "text": [
      "84\n",
      "44\n",
      "['../../data/James_labelling_AVC/james_preds/XYZres007_warped_single_radii_matched_AVC.pickle', '../../data/James_labelling_AVC/james_preds/XYZres008_warped_single_radii_matched_AVC.pickle', '../../data/James_labelling_AVC/james_preds/XYZres009_warped_single_radii_matched_AVC.pickle', '../../data/James_labelling_AVC/james_preds/XYZres010_warped_single_radii_matched_AVC.pickle', '../../data/James_labelling_AVC/james_preds/XYZres011_warped_single_radii_matched_AVC.pickle']\n"
     ]
    }
   ],
   "source": [
    "folder = Path(\"matt_preds_graphs_fwhm_single\")\n",
    "files = list(folder.glob(\"*_amended.pickle\"))\n",
    "files = [x.as_posix() for x in files]\n",
    "files = [x for x in files if \"vbm\" in x]\n",
    "files = [x for x in files if \"XYZres006\" not in x]\n",
    "print(len(files))\n",
    "folder2 = Path(\"../../data/James_labelling_AVC/james_preds/\")\n",
    "files2 = list(folder2.glob(\"*_AVC.pickle\"))\n",
    "files2 = sorted([x.as_posix() for x in files2])\n",
    "\n",
    "print(len(files2))\n",
    "print(files2[0:5])"
   ]
  },
  {
   "cell_type": "code",
   "execution_count": 63,
   "id": "6b562092-fc60-438c-937c-da24f002e652",
   "metadata": {},
   "outputs": [
    {
     "name": "stdout",
     "output_type": "stream",
     "text": [
      "['matt_preds_graphs_fwhm_single/vbm04 Feb 27 2020-XYZres014_0001_warped_radii_amended.pickle', 'matt_preds_graphs_fwhm_single/vbm08 Mar 27 2020-XYZres028_warped_radii_amended.pickle', 'matt_preds_graphs_fwhm_single/vbm05 Feb 28 2020-XYZres017_warped_radii_amended.pickle', 'matt_preds_graphs_fwhm_single/vbm05 Feb 28 2020-XYZres015_warped_radii_amended.pickle', 'matt_preds_graphs_fwhm_single/vbm09 Mar 28 2020-XYZres033_warped_radii_amended.pickle']\n"
     ]
    }
   ],
   "source": [
    "print(files[0:5])"
   ]
  },
  {
   "cell_type": "code",
   "execution_count": 16,
   "id": "9838e54d-6b3e-4c3f-9de7-c8d944e6ebab",
   "metadata": {},
   "outputs": [
    {
     "data": {
      "text/plain": [
       "[]"
      ]
     },
     "execution_count": 16,
     "metadata": {},
     "output_type": "execute_result"
    }
   ],
   "source": [
    "[x for x in files2 if scan in x]"
   ]
  },
  {
   "cell_type": "code",
   "execution_count": 98,
   "id": "8d00b2f1-6116-45bb-a227-5f9d47844000",
   "metadata": {},
   "outputs": [
    {
     "name": "stderr",
     "output_type": "stream",
     "text": [
      "100%|██████████| 84/84 [05:39<00:00,  4.04s/it]\n"
     ]
    }
   ],
   "source": [
    "for file in tqdm(files):\n",
    "    graph_1 = nx.read_gpickle(file)\n",
    "    scan = file.split('-')[1].split('_')[0]\n",
    "    res = np.array([[0,0,0]])\n",
    "    if len([x for x in files2 if scan in x]) == 1:\n",
    "        keys = list(dic.keys())\n",
    "        keys = [re.sub('-','',x) for x in keys if len(x) == 10] + ['XYZres007']\n",
    "        if any(y in [x for x in files2 if scan in x][0] for y in keys):\n",
    "            AVC_file = [x for x in files2 if scan in x][0]\n",
    "        else:\n",
    "            for key in list(dic.keys()):\n",
    "                if any(y in file for y in dic[key]):\n",
    "                    _file = re.sub(np.array(dic[key])[np.array([y in file for y in dic[key]])][0],key,file)\n",
    "                    _scan = _file.split('-')[1].split('_')[0]\n",
    "                    AVC_file = [x for x in files2 if _scan in x][0]\n",
    "        graph_AVC = nx.read_gpickle(AVC_file)\n",
    "        skel_1 = np.zeros((252,507,507))\n",
    "        mask_1 = np.zeros((252,507,507))\n",
    "        for edge in graph_AVC.edges:\n",
    "            pts = graph_AVC[edge[0]][edge[1]]['pts']\n",
    "            #res = np.concatenate((res,pts),axis=0)\n",
    "            skel_1[pts[::-1,0],pts[::-1,1],pts[::-1,2]] = graph_AVC[edge[0]][edge[1]]['A_V_C'] + 1\n",
    "            pts = graph_AVC[edge[0]][edge[1]]['pts_0001']\n",
    "            skel_1[pts[::-1,0],pts[::-1,1],pts[::-1,2]] = graph_AVC[edge[0]][edge[1]]['A_V_C'] + 1\n",
    "            #print(graph_AVC[edge[0]][edge[1]]['A_V_C'] + 1)\n",
    "        for i in [3,2,1]:\n",
    "            mask_1[binary_dilation(skel_1==i, iterations=5)] = i\n",
    "        mask_1 = resize(mask_1,(254,512,512),order=0)\n",
    "        mask_1 = np.swapaxes(mask_1,0,2)\n",
    "        for edge in graph_1.edges:\n",
    "            pts = graph_1[edge[0]][edge[1]]['pts']\n",
    "            #res = np.concatenate((res,pts),axis=0)\n",
    "            AVC = mask_1[pts[::-1,0],pts[::-1,1],pts[::-1,2]]\n",
    "            mean = np.mean(AVC[AVC!=0])\n",
    "            if ~np.isnan(mean) and mean//1 == mean:\n",
    "                graph_1[edge[0]][edge[1]]['A_V_C'] = mean - 1\n",
    "            elif np.isnan(mean):\n",
    "                graph_1[edge[0]][edge[1]]['A_V_C'] = 2\n",
    "            else:\n",
    "                _mode = mode(AVC)\n",
    "                if _mode != 0:\n",
    "                    graph_1[edge[0]][edge[1]]['A_V_C'] = _mode - 1\n",
    "                else:\n",
    "                    graph_1[edge[0]][edge[1]]['A_V_C'] = 2\n",
    "        #print(np.max(nx.to_pandas_edgelist(graph)['mean_depth']))\n",
    "        nx.write_gpickle(graph_1, re.sub('.pickle','_AVC.pickle',file))\n",
    "        #print(np.max(res,axis=0))"
   ]
  },
  {
   "cell_type": "code",
   "execution_count": 95,
   "id": "20655f09-984e-4944-9410-c8a62f86587f",
   "metadata": {},
   "outputs": [
    {
     "data": {
      "text/plain": [
       "249.45833333333334"
      ]
     },
     "execution_count": 95,
     "metadata": {},
     "output_type": "execute_result"
    }
   ],
   "source": [
    "np.max(nx.to_pandas_edgelist(graph)['mean_depth'])"
   ]
  },
  {
   "cell_type": "code",
   "execution_count": 33,
   "id": "46a2cc95-2357-4abc-a472-d7a50d31099d",
   "metadata": {},
   "outputs": [
    {
     "data": {
      "text/plain": [
       "'matt_preds_graphs_fwhm_single/vbm04 Feb 27 2020-XYZres014_0001_warped_radii_amended_AVC.pickle'"
      ]
     },
     "execution_count": 33,
     "metadata": {},
     "output_type": "execute_result"
    }
   ],
   "source": [
    "re.sub('.pickle','_AVC.pickle',file)"
   ]
  },
  {
   "cell_type": "markdown",
   "id": "11a030df-efa9-423e-a04f-3ffaa8af8238",
   "metadata": {},
   "source": [
    "# Get Graphs"
   ]
  },
  {
   "cell_type": "code",
   "execution_count": 66,
   "id": "f41d6baa-288c-4100-88b1-20bdc98c8303",
   "metadata": {},
   "outputs": [
    {
     "name": "stdout",
     "output_type": "stream",
     "text": [
      "matt_preds_graphs_fwhm_single/06162021_45-XYZres288_0001_warped_radii_amended.pickle\n",
      "716\n"
     ]
    }
   ],
   "source": [
    "graph_folder = Path('matt_preds_graphs_fwhm_single')\n",
    "graphs = sorted(list(graph_folder.glob(\"*_amended.pickle\")))\n",
    "graphs = [x.as_posix() for x in graphs]\n",
    "print(graphs[0])\n",
    "print(len(graphs))"
   ]
  },
  {
   "cell_type": "code",
   "execution_count": 99,
   "id": "f872f156-2c77-4ae6-beff-cde99dc90205",
   "metadata": {},
   "outputs": [
    {
     "name": "stdout",
     "output_type": "stream",
     "text": [
      "matt_preds_graphs_fwhm_single/vbm03 Feb 26 2020-XYZres007_0001_warped_radii_amended_AVC.pickle\n",
      "84\n"
     ]
    },
    {
     "name": "stderr",
     "output_type": "stream",
     "text": [
      "  0%|          | 0/84 [00:00<?, ?it/s]"
     ]
    },
    {
     "name": "stdout",
     "output_type": "stream",
     "text": [
      "249.45833333333334\n"
     ]
    },
    {
     "name": "stderr",
     "output_type": "stream",
     "text": [
      "  1%|          | 1/84 [00:01<02:14,  1.61s/it]"
     ]
    },
    {
     "name": "stdout",
     "output_type": "stream",
     "text": [
      "249.45833333333334\n"
     ]
    },
    {
     "name": "stderr",
     "output_type": "stream",
     "text": [
      "  2%|▏         | 2/84 [00:02<01:59,  1.45s/it]"
     ]
    },
    {
     "name": "stdout",
     "output_type": "stream",
     "text": [
      "249.2608695652174\n"
     ]
    },
    {
     "name": "stderr",
     "output_type": "stream",
     "text": [
      "  4%|▎         | 3/84 [00:04<01:47,  1.33s/it]"
     ]
    },
    {
     "name": "stdout",
     "output_type": "stream",
     "text": [
      "249.2608695652174\n"
     ]
    },
    {
     "name": "stderr",
     "output_type": "stream",
     "text": [
      "  5%|▍         | 4/84 [00:08<03:25,  2.56s/it]"
     ]
    },
    {
     "name": "stdout",
     "output_type": "stream",
     "text": [
      "250.7\n"
     ]
    },
    {
     "name": "stderr",
     "output_type": "stream",
     "text": [
      "  6%|▌         | 5/84 [00:10<02:52,  2.19s/it]"
     ]
    },
    {
     "name": "stdout",
     "output_type": "stream",
     "text": [
      "250.7\n"
     ]
    },
    {
     "name": "stderr",
     "output_type": "stream",
     "text": [
      "  7%|▋         | 6/84 [00:11<02:37,  2.02s/it]"
     ]
    },
    {
     "name": "stdout",
     "output_type": "stream",
     "text": [
      "228.56363636363636\n"
     ]
    },
    {
     "name": "stderr",
     "output_type": "stream",
     "text": [
      "  8%|▊         | 7/84 [00:13<02:16,  1.77s/it]"
     ]
    },
    {
     "name": "stdout",
     "output_type": "stream",
     "text": [
      "228.56363636363636\n"
     ]
    },
    {
     "name": "stderr",
     "output_type": "stream",
     "text": [
      " 10%|▉         | 8/84 [00:14<02:04,  1.64s/it]"
     ]
    },
    {
     "name": "stdout",
     "output_type": "stream",
     "text": [
      "250.7\n"
     ]
    },
    {
     "name": "stderr",
     "output_type": "stream",
     "text": [
      " 11%|█         | 9/84 [00:16<02:07,  1.69s/it]"
     ]
    },
    {
     "name": "stdout",
     "output_type": "stream",
     "text": [
      "250.7\n"
     ]
    },
    {
     "name": "stderr",
     "output_type": "stream",
     "text": [
      " 12%|█▏        | 10/84 [00:17<02:01,  1.65s/it]"
     ]
    },
    {
     "name": "stdout",
     "output_type": "stream",
     "text": [
      "228.56363636363636\n"
     ]
    },
    {
     "name": "stderr",
     "output_type": "stream",
     "text": [
      " 13%|█▎        | 11/84 [00:19<01:55,  1.58s/it]"
     ]
    },
    {
     "name": "stdout",
     "output_type": "stream",
     "text": [
      "228.56363636363636\n"
     ]
    },
    {
     "name": "stderr",
     "output_type": "stream",
     "text": [
      " 14%|█▍        | 12/84 [00:20<01:47,  1.49s/it]"
     ]
    },
    {
     "name": "stdout",
     "output_type": "stream",
     "text": [
      "250.7\n"
     ]
    },
    {
     "name": "stderr",
     "output_type": "stream",
     "text": [
      " 15%|█▌        | 13/84 [00:22<01:49,  1.54s/it]"
     ]
    },
    {
     "name": "stdout",
     "output_type": "stream",
     "text": [
      "250.7\n"
     ]
    },
    {
     "name": "stderr",
     "output_type": "stream",
     "text": [
      " 17%|█▋        | 14/84 [00:23<01:49,  1.56s/it]"
     ]
    },
    {
     "name": "stdout",
     "output_type": "stream",
     "text": [
      "228.56363636363636\n"
     ]
    },
    {
     "name": "stderr",
     "output_type": "stream",
     "text": [
      " 18%|█▊        | 15/84 [00:25<01:46,  1.54s/it]"
     ]
    },
    {
     "name": "stdout",
     "output_type": "stream",
     "text": [
      "228.56363636363636\n"
     ]
    },
    {
     "name": "stderr",
     "output_type": "stream",
     "text": [
      " 19%|█▉        | 16/84 [00:26<01:39,  1.46s/it]"
     ]
    },
    {
     "name": "stdout",
     "output_type": "stream",
     "text": [
      "241.63917525773195\n"
     ]
    },
    {
     "name": "stderr",
     "output_type": "stream",
     "text": [
      " 20%|██        | 17/84 [00:27<01:22,  1.23s/it]"
     ]
    },
    {
     "name": "stdout",
     "output_type": "stream",
     "text": [
      "241.63917525773195\n"
     ]
    },
    {
     "name": "stderr",
     "output_type": "stream",
     "text": [
      " 21%|██▏       | 18/84 [00:28<01:14,  1.14s/it]"
     ]
    },
    {
     "name": "stdout",
     "output_type": "stream",
     "text": [
      "231.4\n"
     ]
    },
    {
     "name": "stderr",
     "output_type": "stream",
     "text": [
      " 23%|██▎       | 19/84 [00:29<01:15,  1.16s/it]"
     ]
    },
    {
     "name": "stdout",
     "output_type": "stream",
     "text": [
      "231.4\n"
     ]
    },
    {
     "name": "stderr",
     "output_type": "stream",
     "text": [
      " 24%|██▍       | 20/84 [00:30<01:14,  1.16s/it]"
     ]
    },
    {
     "name": "stdout",
     "output_type": "stream",
     "text": [
      "241.63917525773195\n"
     ]
    },
    {
     "name": "stderr",
     "output_type": "stream",
     "text": [
      " 25%|██▌       | 21/84 [00:31<01:10,  1.11s/it]"
     ]
    },
    {
     "name": "stdout",
     "output_type": "stream",
     "text": [
      "241.63917525773195\n"
     ]
    },
    {
     "name": "stderr",
     "output_type": "stream",
     "text": [
      " 26%|██▌       | 22/84 [00:32<01:02,  1.01s/it]"
     ]
    },
    {
     "name": "stdout",
     "output_type": "stream",
     "text": [
      "231.4\n"
     ]
    },
    {
     "name": "stderr",
     "output_type": "stream",
     "text": [
      " 27%|██▋       | 23/84 [00:33<01:04,  1.05s/it]"
     ]
    },
    {
     "name": "stdout",
     "output_type": "stream",
     "text": [
      "231.4\n"
     ]
    },
    {
     "name": "stderr",
     "output_type": "stream",
     "text": [
      " 29%|██▊       | 24/84 [00:34<01:06,  1.11s/it]"
     ]
    },
    {
     "name": "stdout",
     "output_type": "stream",
     "text": [
      "241.63917525773195\n"
     ]
    },
    {
     "name": "stderr",
     "output_type": "stream",
     "text": [
      " 30%|██▉       | 25/84 [00:35<00:59,  1.00s/it]"
     ]
    },
    {
     "name": "stdout",
     "output_type": "stream",
     "text": [
      "241.63917525773195\n"
     ]
    },
    {
     "name": "stderr",
     "output_type": "stream",
     "text": [
      " 31%|███       | 26/84 [00:36<00:53,  1.09it/s]"
     ]
    },
    {
     "name": "stdout",
     "output_type": "stream",
     "text": [
      "231.4\n"
     ]
    },
    {
     "name": "stderr",
     "output_type": "stream",
     "text": [
      " 32%|███▏      | 27/84 [00:37<00:56,  1.01it/s]"
     ]
    },
    {
     "name": "stdout",
     "output_type": "stream",
     "text": [
      "231.4\n"
     ]
    },
    {
     "name": "stderr",
     "output_type": "stream",
     "text": [
      " 33%|███▎      | 28/84 [00:38<00:59,  1.07s/it]"
     ]
    },
    {
     "name": "stdout",
     "output_type": "stream",
     "text": [
      "243.5\n"
     ]
    },
    {
     "name": "stderr",
     "output_type": "stream",
     "text": [
      " 35%|███▍      | 29/84 [00:39<01:03,  1.16s/it]"
     ]
    },
    {
     "name": "stdout",
     "output_type": "stream",
     "text": [
      "243.5\n"
     ]
    },
    {
     "name": "stderr",
     "output_type": "stream",
     "text": [
      " 36%|███▌      | 30/84 [00:41<01:09,  1.28s/it]"
     ]
    },
    {
     "name": "stdout",
     "output_type": "stream",
     "text": [
      "250.28481012658227\n"
     ]
    },
    {
     "name": "stderr",
     "output_type": "stream",
     "text": [
      " 37%|███▋      | 31/84 [00:42<01:06,  1.26s/it]"
     ]
    },
    {
     "name": "stdout",
     "output_type": "stream",
     "text": [
      "250.28481012658227\n"
     ]
    },
    {
     "name": "stderr",
     "output_type": "stream",
     "text": [
      " 38%|███▊      | 32/84 [00:44<01:07,  1.30s/it]"
     ]
    },
    {
     "name": "stdout",
     "output_type": "stream",
     "text": [
      "243.5\n"
     ]
    },
    {
     "name": "stderr",
     "output_type": "stream",
     "text": [
      " 39%|███▉      | 33/84 [00:45<01:08,  1.34s/it]"
     ]
    },
    {
     "name": "stdout",
     "output_type": "stream",
     "text": [
      "243.5\n"
     ]
    },
    {
     "name": "stderr",
     "output_type": "stream",
     "text": [
      " 40%|████      | 34/84 [00:47<01:10,  1.40s/it]"
     ]
    },
    {
     "name": "stdout",
     "output_type": "stream",
     "text": [
      "250.28481012658227\n"
     ]
    },
    {
     "name": "stderr",
     "output_type": "stream",
     "text": [
      " 42%|████▏     | 35/84 [00:48<01:06,  1.35s/it]"
     ]
    },
    {
     "name": "stdout",
     "output_type": "stream",
     "text": [
      "250.28481012658227\n"
     ]
    },
    {
     "name": "stderr",
     "output_type": "stream",
     "text": [
      " 43%|████▎     | 36/84 [00:49<01:02,  1.31s/it]"
     ]
    },
    {
     "name": "stdout",
     "output_type": "stream",
     "text": [
      "245.70909090909092\n"
     ]
    },
    {
     "name": "stderr",
     "output_type": "stream",
     "text": [
      " 44%|████▍     | 37/84 [00:51<01:06,  1.41s/it]"
     ]
    },
    {
     "name": "stdout",
     "output_type": "stream",
     "text": [
      "245.70909090909092\n"
     ]
    },
    {
     "name": "stderr",
     "output_type": "stream",
     "text": [
      " 45%|████▌     | 38/84 [00:52<01:07,  1.48s/it]"
     ]
    },
    {
     "name": "stdout",
     "output_type": "stream",
     "text": [
      "244.71428571428572\n"
     ]
    },
    {
     "name": "stderr",
     "output_type": "stream",
     "text": [
      " 46%|████▋     | 39/84 [00:54<01:03,  1.41s/it]"
     ]
    },
    {
     "name": "stdout",
     "output_type": "stream",
     "text": [
      "244.71428571428572\n"
     ]
    },
    {
     "name": "stderr",
     "output_type": "stream",
     "text": [
      " 48%|████▊     | 40/84 [00:55<00:59,  1.35s/it]"
     ]
    },
    {
     "name": "stdout",
     "output_type": "stream",
     "text": [
      "245.70909090909092\n"
     ]
    },
    {
     "name": "stderr",
     "output_type": "stream",
     "text": [
      " 49%|████▉     | 41/84 [00:56<01:02,  1.45s/it]"
     ]
    },
    {
     "name": "stdout",
     "output_type": "stream",
     "text": [
      "245.70909090909092\n"
     ]
    },
    {
     "name": "stderr",
     "output_type": "stream",
     "text": [
      " 50%|█████     | 42/84 [00:58<01:04,  1.53s/it]"
     ]
    },
    {
     "name": "stdout",
     "output_type": "stream",
     "text": [
      "244.71428571428572\n"
     ]
    },
    {
     "name": "stderr",
     "output_type": "stream",
     "text": [
      " 51%|█████     | 43/84 [00:59<00:58,  1.44s/it]"
     ]
    },
    {
     "name": "stdout",
     "output_type": "stream",
     "text": [
      "244.71428571428572\n"
     ]
    },
    {
     "name": "stderr",
     "output_type": "stream",
     "text": [
      " 52%|█████▏    | 44/84 [01:01<00:56,  1.40s/it]"
     ]
    },
    {
     "name": "stdout",
     "output_type": "stream",
     "text": [
      "245.70909090909092\n"
     ]
    },
    {
     "name": "stderr",
     "output_type": "stream",
     "text": [
      " 54%|█████▎    | 45/84 [01:02<00:57,  1.47s/it]"
     ]
    },
    {
     "name": "stdout",
     "output_type": "stream",
     "text": [
      "245.70909090909092\n"
     ]
    },
    {
     "name": "stderr",
     "output_type": "stream",
     "text": [
      " 55%|█████▍    | 46/84 [01:04<00:58,  1.53s/it]"
     ]
    },
    {
     "name": "stdout",
     "output_type": "stream",
     "text": [
      "244.71428571428572\n"
     ]
    },
    {
     "name": "stderr",
     "output_type": "stream",
     "text": [
      " 56%|█████▌    | 47/84 [01:05<00:53,  1.44s/it]"
     ]
    },
    {
     "name": "stdout",
     "output_type": "stream",
     "text": [
      "244.71428571428572\n"
     ]
    },
    {
     "name": "stderr",
     "output_type": "stream",
     "text": [
      " 57%|█████▋    | 48/84 [01:07<00:50,  1.40s/it]"
     ]
    },
    {
     "name": "stdout",
     "output_type": "stream",
     "text": [
      "245.31578947368422\n"
     ]
    },
    {
     "name": "stderr",
     "output_type": "stream",
     "text": [
      " 58%|█████▊    | 49/84 [01:08<00:46,  1.34s/it]"
     ]
    },
    {
     "name": "stdout",
     "output_type": "stream",
     "text": [
      "245.31578947368422\n"
     ]
    },
    {
     "name": "stderr",
     "output_type": "stream",
     "text": [
      " 60%|█████▉    | 50/84 [01:09<00:45,  1.33s/it]"
     ]
    },
    {
     "name": "stdout",
     "output_type": "stream",
     "text": [
      "230.48535564853557\n"
     ]
    },
    {
     "name": "stderr",
     "output_type": "stream",
     "text": [
      " 61%|██████    | 51/84 [01:10<00:41,  1.25s/it]"
     ]
    },
    {
     "name": "stdout",
     "output_type": "stream",
     "text": [
      "230.48535564853557\n"
     ]
    },
    {
     "name": "stderr",
     "output_type": "stream",
     "text": [
      " 62%|██████▏   | 52/84 [01:11<00:38,  1.21s/it]"
     ]
    },
    {
     "name": "stdout",
     "output_type": "stream",
     "text": [
      "245.31578947368422\n"
     ]
    },
    {
     "name": "stderr",
     "output_type": "stream",
     "text": [
      " 63%|██████▎   | 53/84 [01:13<00:38,  1.25s/it]"
     ]
    },
    {
     "name": "stdout",
     "output_type": "stream",
     "text": [
      "245.31578947368422\n"
     ]
    },
    {
     "name": "stderr",
     "output_type": "stream",
     "text": [
      " 64%|██████▍   | 54/84 [01:14<00:36,  1.23s/it]"
     ]
    },
    {
     "name": "stdout",
     "output_type": "stream",
     "text": [
      "230.48535564853557\n"
     ]
    },
    {
     "name": "stderr",
     "output_type": "stream",
     "text": [
      " 65%|██████▌   | 55/84 [01:15<00:36,  1.27s/it]"
     ]
    },
    {
     "name": "stdout",
     "output_type": "stream",
     "text": [
      "230.48535564853557\n"
     ]
    },
    {
     "name": "stderr",
     "output_type": "stream",
     "text": [
      " 67%|██████▋   | 56/84 [01:16<00:33,  1.21s/it]"
     ]
    },
    {
     "name": "stdout",
     "output_type": "stream",
     "text": [
      "245.31578947368422\n"
     ]
    },
    {
     "name": "stderr",
     "output_type": "stream",
     "text": [
      " 68%|██████▊   | 57/84 [01:17<00:33,  1.23s/it]"
     ]
    },
    {
     "name": "stdout",
     "output_type": "stream",
     "text": [
      "245.31578947368422\n"
     ]
    },
    {
     "name": "stderr",
     "output_type": "stream",
     "text": [
      " 69%|██████▉   | 58/84 [01:19<00:33,  1.27s/it]"
     ]
    },
    {
     "name": "stdout",
     "output_type": "stream",
     "text": [
      "230.48535564853557\n"
     ]
    },
    {
     "name": "stderr",
     "output_type": "stream",
     "text": [
      " 70%|███████   | 59/84 [01:20<00:30,  1.20s/it]"
     ]
    },
    {
     "name": "stdout",
     "output_type": "stream",
     "text": [
      "230.48535564853557\n"
     ]
    },
    {
     "name": "stderr",
     "output_type": "stream",
     "text": [
      " 71%|███████▏  | 60/84 [01:21<00:29,  1.23s/it]"
     ]
    },
    {
     "name": "stdout",
     "output_type": "stream",
     "text": [
      "246.4561403508772\n"
     ]
    },
    {
     "name": "stderr",
     "output_type": "stream",
     "text": [
      " 73%|███████▎  | 61/84 [01:23<00:29,  1.27s/it]"
     ]
    },
    {
     "name": "stdout",
     "output_type": "stream",
     "text": [
      "246.4561403508772\n"
     ]
    },
    {
     "name": "stderr",
     "output_type": "stream",
     "text": [
      " 74%|███████▍  | 62/84 [01:24<00:29,  1.32s/it]"
     ]
    },
    {
     "name": "stdout",
     "output_type": "stream",
     "text": [
      "243.7942857142857\n"
     ]
    },
    {
     "name": "stderr",
     "output_type": "stream",
     "text": [
      " 75%|███████▌  | 63/84 [01:25<00:25,  1.23s/it]"
     ]
    },
    {
     "name": "stdout",
     "output_type": "stream",
     "text": [
      "243.7942857142857\n"
     ]
    },
    {
     "name": "stderr",
     "output_type": "stream",
     "text": [
      " 76%|███████▌  | 64/84 [01:26<00:23,  1.17s/it]"
     ]
    },
    {
     "name": "stdout",
     "output_type": "stream",
     "text": [
      "246.4561403508772\n"
     ]
    },
    {
     "name": "stderr",
     "output_type": "stream",
     "text": [
      " 77%|███████▋  | 65/84 [01:27<00:23,  1.26s/it]"
     ]
    },
    {
     "name": "stdout",
     "output_type": "stream",
     "text": [
      "246.4561403508772\n"
     ]
    },
    {
     "name": "stderr",
     "output_type": "stream",
     "text": [
      " 79%|███████▊  | 66/84 [01:29<00:22,  1.28s/it]"
     ]
    },
    {
     "name": "stdout",
     "output_type": "stream",
     "text": [
      "243.7942857142857\n"
     ]
    },
    {
     "name": "stderr",
     "output_type": "stream",
     "text": [
      " 80%|███████▉  | 67/84 [01:30<00:21,  1.24s/it]"
     ]
    },
    {
     "name": "stdout",
     "output_type": "stream",
     "text": [
      "243.7942857142857\n"
     ]
    },
    {
     "name": "stderr",
     "output_type": "stream",
     "text": [
      " 81%|████████  | 68/84 [01:31<00:18,  1.17s/it]"
     ]
    },
    {
     "name": "stdout",
     "output_type": "stream",
     "text": [
      "246.4561403508772\n"
     ]
    },
    {
     "name": "stderr",
     "output_type": "stream",
     "text": [
      " 82%|████████▏ | 69/84 [01:32<00:18,  1.26s/it]"
     ]
    },
    {
     "name": "stdout",
     "output_type": "stream",
     "text": [
      "246.4561403508772\n"
     ]
    },
    {
     "name": "stderr",
     "output_type": "stream",
     "text": [
      " 83%|████████▎ | 70/84 [01:34<00:17,  1.26s/it]"
     ]
    },
    {
     "name": "stdout",
     "output_type": "stream",
     "text": [
      "243.7942857142857\n"
     ]
    },
    {
     "name": "stderr",
     "output_type": "stream",
     "text": [
      " 85%|████████▍ | 71/84 [01:35<00:15,  1.19s/it]"
     ]
    },
    {
     "name": "stdout",
     "output_type": "stream",
     "text": [
      "243.7942857142857\n"
     ]
    },
    {
     "name": "stderr",
     "output_type": "stream",
     "text": [
      " 86%|████████▌ | 72/84 [01:36<00:14,  1.19s/it]"
     ]
    },
    {
     "name": "stdout",
     "output_type": "stream",
     "text": [
      "249.12280701754386\n"
     ]
    },
    {
     "name": "stderr",
     "output_type": "stream",
     "text": [
      " 87%|████████▋ | 73/84 [01:38<00:15,  1.42s/it]"
     ]
    },
    {
     "name": "stdout",
     "output_type": "stream",
     "text": [
      "249.12280701754386\n"
     ]
    },
    {
     "name": "stderr",
     "output_type": "stream",
     "text": [
      " 88%|████████▊ | 74/84 [01:40<00:15,  1.52s/it]"
     ]
    },
    {
     "name": "stdout",
     "output_type": "stream",
     "text": [
      "245.72\n"
     ]
    },
    {
     "name": "stderr",
     "output_type": "stream",
     "text": [
      " 89%|████████▉ | 75/84 [01:41<00:13,  1.51s/it]"
     ]
    },
    {
     "name": "stdout",
     "output_type": "stream",
     "text": [
      "245.72\n"
     ]
    },
    {
     "name": "stderr",
     "output_type": "stream",
     "text": [
      " 90%|█████████ | 76/84 [01:43<00:11,  1.49s/it]"
     ]
    },
    {
     "name": "stdout",
     "output_type": "stream",
     "text": [
      "249.12280701754386\n"
     ]
    },
    {
     "name": "stderr",
     "output_type": "stream",
     "text": [
      " 92%|█████████▏| 77/84 [01:44<00:11,  1.62s/it]"
     ]
    },
    {
     "name": "stdout",
     "output_type": "stream",
     "text": [
      "249.12280701754386\n"
     ]
    },
    {
     "name": "stderr",
     "output_type": "stream",
     "text": [
      " 93%|█████████▎| 78/84 [01:46<00:10,  1.72s/it]"
     ]
    },
    {
     "name": "stdout",
     "output_type": "stream",
     "text": [
      "245.72\n"
     ]
    },
    {
     "name": "stderr",
     "output_type": "stream",
     "text": [
      " 94%|█████████▍| 79/84 [01:48<00:08,  1.62s/it]"
     ]
    },
    {
     "name": "stdout",
     "output_type": "stream",
     "text": [
      "245.72\n"
     ]
    },
    {
     "name": "stderr",
     "output_type": "stream",
     "text": [
      " 95%|█████████▌| 80/84 [01:49<00:06,  1.59s/it]"
     ]
    },
    {
     "name": "stdout",
     "output_type": "stream",
     "text": [
      "249.12280701754386\n"
     ]
    },
    {
     "name": "stderr",
     "output_type": "stream",
     "text": [
      " 96%|█████████▋| 81/84 [01:51<00:05,  1.68s/it]"
     ]
    },
    {
     "name": "stdout",
     "output_type": "stream",
     "text": [
      "249.12280701754386\n"
     ]
    },
    {
     "name": "stderr",
     "output_type": "stream",
     "text": [
      " 98%|█████████▊| 82/84 [01:53<00:03,  1.73s/it]"
     ]
    },
    {
     "name": "stdout",
     "output_type": "stream",
     "text": [
      "245.72\n"
     ]
    },
    {
     "name": "stderr",
     "output_type": "stream",
     "text": [
      " 99%|█████████▉| 83/84 [01:55<00:01,  1.66s/it]"
     ]
    },
    {
     "name": "stdout",
     "output_type": "stream",
     "text": [
      "245.72\n"
     ]
    },
    {
     "name": "stderr",
     "output_type": "stream",
     "text": [
      "100%|██████████| 84/84 [01:56<00:00,  1.39s/it]\n"
     ]
    }
   ],
   "source": [
    "graph_folder = Path('matt_preds_graphs_fwhm_single')\n",
    "graphs = sorted(list(graph_folder.glob(\"*_amended_AVC.pickle\")))\n",
    "graphs = [x.as_posix() for x in graphs]\n",
    "graph = 0\n",
    "print(graphs[0])\n",
    "print(len(graphs))\n",
    "for file in tqdm(graphs):\n",
    "    del graph\n",
    "    graph = nx.read_gpickle(file)\n",
    "    edges = list(graph.edges)\n",
    "    for i in range(len(edges)):\n",
    "        if graph[edges[i][0]][edges[i][1]]['A_V_C'] == 0:\n",
    "            graph[edges[i][0]][edges[i][1]]['branch order'] = 0\n",
    "        else:\n",
    "            graph[edges[i][0]][edges[i][1]]['branch order'] = 'NA'\n",
    "    edges_start = [x for x in list(graph.edges) if graph[x[0]][x[1]]['branch order'] == 0 ]\n",
    "    order = 1\n",
    "    while len(edges_start) != 0:\n",
    "        for edge in edges_start:\n",
    "            neighbors = [x for x in graph.neighbors(edge[0]) if x != edge[1]]\n",
    "            if len(neighbors) != 0:\n",
    "                for i in neighbors:\n",
    "                    if graph[edge[0]][i]['branch order'] == 'NA' and graph[edge[0]][i]['A_V_C'] != 1:\n",
    "                        graph[edge[0]][i]['branch order'] = order\n",
    "            neighbors = [x for x in graph.neighbors(edge[1]) if x != edge[0]]\n",
    "            if len(neighbors) != 0:\n",
    "                for i in neighbors:\n",
    "                    if graph[edge[1]][i]['branch order'] == 'NA':\n",
    "                        graph[edge[1]][i]['branch order'] = order\n",
    "        edges_start = []\n",
    "        edges_start = [x for x in list(graph.edges) if graph[x[0]][x[1]]['branch order'] == order ]\n",
    "        order += 1\n",
    "        #print(order)\n",
    "    \n",
    "    #######################################################################\n",
    "    # Vein order\n",
    "    #######################################################################\n",
    "    \n",
    "    for i in range(len(edges)):\n",
    "        if graph[edges[i][0]][edges[i][1]]['A_V_C'] == 1:\n",
    "            graph[edges[i][0]][edges[i][1]]['branch order from vein'] = 0\n",
    "        else:\n",
    "            graph[edges[i][0]][edges[i][1]]['branch order from vein'] = 'NA'\n",
    "    edges_start = [x for x in list(graph.edges) if graph[x[0]][x[1]]['branch order from vein'] == 0 ]\n",
    "    order = -1\n",
    "    while len(edges_start) != 0:\n",
    "        for edge in edges_start:\n",
    "            neighbors = [x for x in graph.neighbors(edge[0]) if x != edge[1]]\n",
    "            if len(neighbors) != 0:\n",
    "                for i in neighbors:\n",
    "                    if graph[edge[0]][i]['branch order from vein'] == 'NA' and graph[edge[0]][i]['A_V_C'] != 0:\n",
    "                        graph[edge[0]][i]['branch order from vein'] = order\n",
    "            neighbors = [x for x in graph.neighbors(edge[1]) if x != edge[0]]\n",
    "            if len(neighbors) != 0:\n",
    "                for i in neighbors:\n",
    "                    if graph[edge[1]][i]['branch order from vein'] == 'NA':\n",
    "                        graph[edge[1]][i]['branch order from vein'] = order\n",
    "        edges_start = []\n",
    "        edges_start = [x for x in list(graph.edges) if graph[x[0]][x[1]]['branch order from vein'] == order ]\n",
    "        order -= 1\n",
    "        #print(order)\n",
    "    \n",
    "    \n",
    "    df = nx.to_pandas_edgelist(graph)\n",
    "    print(np.max(nx.to_pandas_edgelist(graph)['mean_depth']))\n",
    "    df.to_excel(re.sub('.pickle','_with_branch_order.xlsx',file))\n",
    "    nx.write_gpickle(graph,re.sub('.pickle','_with_branch_order.pickle',file))\n",
    "    #print(len(graph.edges))"
   ]
  },
  {
   "cell_type": "markdown",
   "id": "b7a08c0b-01e5-456a-950c-3d5050da35f2",
   "metadata": {},
   "source": [
    "# Combine graphs into single pickle files"
   ]
  },
  {
   "cell_type": "code",
   "execution_count": 137,
   "id": "c7271f5b-05ef-40a6-9b05-99bf645f8f09",
   "metadata": {},
   "outputs": [
    {
     "name": "stdout",
     "output_type": "stream",
     "text": [
      "17\n",
      "['matt_raw_warped_single_upsampled_seg/vbm03 Feb 26 2020-XYZres007_warped_seg.npy', 'matt_raw_warped_single_upsampled_seg/vbm03 Feb 26 2020-XYZres008_warped_seg.npy', 'matt_raw_warped_single_upsampled_seg/vbm04 Feb 27 2020-XYZres010_warped_seg.npy', 'matt_raw_warped_single_upsampled_seg/vbm04 Feb 27 2020-XYZres011_warped_seg.npy', 'matt_raw_warped_single_upsampled_seg/vbm05 Feb 28 2020-XYZres016_warped_seg.npy', 'matt_raw_warped_single_upsampled_seg/vbm05 Feb 28 2020-XYZres017_warped_seg.npy', 'matt_raw_warped_single_upsampled_seg/vbm07 Mar 24 2020-XYZres022_warped_seg.npy', 'matt_raw_warped_single_upsampled_seg/vbm07 Mar 24 2020-XYZres023_warped_seg.npy', 'matt_raw_warped_single_upsampled_seg/vbm08 Mar 27 2020-XYZres028_warped_seg.npy', 'matt_raw_warped_single_upsampled_seg/vbm08 Mar 27 2020-XYZres029_warped_seg.npy', 'matt_raw_warped_single_upsampled_seg/vbm09 Mar 28 2020-XYZres034_warped_seg.npy', 'matt_raw_warped_single_upsampled_seg/vbm09 Mar 28 2020-XYZres035_warped_seg.npy', 'matt_raw_warped_single_upsampled_seg/vbm10 Apr 03 2020-XYZres040_warped_seg.npy', 'matt_raw_warped_single_upsampled_seg/vbm10 Apr 03 2020-XYZres041_warped_seg.npy', 'matt_raw_warped_single_upsampled_seg/vbm11 Apr 04 2020-XYZres047_warped_seg.npy', 'matt_raw_warped_single_upsampled_seg/vbm11 Apr 04 2020-XYZres048_warped_seg.npy']\n",
      "84\n",
      "matt_preds_graphs_fwhm_single/vbm03 Feb 26 2020-XYZres007_0001_warped_radii_amended_AVC_with_branch_order.pickle\n"
     ]
    }
   ],
   "source": [
    "directory_seg = Path('matt_raw_warped_single_upsampled_seg')\n",
    "images = list(directory_seg.glob('*_0001_warped_seg.npy'))\n",
    "#print(len(images))\n",
    "images = sorted([x.as_posix() for x in images])\n",
    "#print(len(images))\n",
    "images = [x for x in images if os.path.exists(re.sub('_0001','',x))]\n",
    "#print(len(images))\n",
    "images = [x for x in images if  any(y in x for y in list(dic.keys()))]\n",
    "images = [re.sub('_0001','',x) for x in images]\n",
    "images = [x for x in images if '51-XYZres297' not in x]\n",
    "#images = [x for x in images if '_73' in x]\n",
    "#images = [x for x in images if 'vbm']\n",
    "images = [x for x in images if 'vbm' in x]\n",
    "print(len(images))\n",
    "images = [x for x in images if '006' not in x]\n",
    "print(images)\n",
    "#print(len(images))\n",
    "directory = Path('matt_preds_graphs_fwhm_single')\n",
    "files = directory.glob('*_amended.pickle')\n",
    "files = directory.glob('*_with_branch_order.pickle')\n",
    "files = sorted([x.as_posix() for x in files])\n",
    "#files = [x for x in files if '_73' in x]\n",
    "print(len(files))\n",
    "print(files[0])"
   ]
  },
  {
   "cell_type": "code",
   "execution_count": 116,
   "id": "34be5767-ed53-4b74-bf7e-bbf9d284fe72",
   "metadata": {},
   "outputs": [
    {
     "data": {
      "text/plain": [
       "True"
      ]
     },
     "execution_count": 116,
     "metadata": {},
     "output_type": "execute_result"
    }
   ],
   "source": [
    "os.path.exists(re.sub('_seg.npy','_radii_amended_AVC_with_branch_order.pickle',re.sub('raw_warped_single_upsampled_seg','preds_graphs_fwhm_single',image)))"
   ]
  },
  {
   "cell_type": "code",
   "execution_count": 117,
   "id": "a49a734f-9ff1-4614-8bef-83c4b53a3377",
   "metadata": {},
   "outputs": [
    {
     "data": {
      "text/plain": [
       "'matt_raw_warped_single_upsampled_seg/vbm04 Feb 27 2020-XYZres010_0001_warped_seg.npy'"
      ]
     },
     "execution_count": 117,
     "metadata": {},
     "output_type": "execute_result"
    }
   ],
   "source": [
    "image"
   ]
  },
  {
   "cell_type": "code",
   "execution_count": 143,
   "id": "440d51b1-a806-41f1-8782-3497f4428374",
   "metadata": {},
   "outputs": [],
   "source": [
    "pool=0\n",
    "del pool"
   ]
  },
  {
   "cell_type": "code",
   "execution_count": 144,
   "id": "bf26c832-743e-4c4f-bc5b-682468c49a6e",
   "metadata": {},
   "outputs": [
    {
     "name": "stderr",
     "output_type": "stream",
     "text": [
      "  0%|          | 0/16 [00:00<?, ?it/s]"
     ]
    },
    {
     "name": "stdout",
     "output_type": "stream",
     "text": [
      "XYZres007\n",
      "249.45833333333334\n",
      "matt_preds_graphs_fwhm_single/vbm03 Feb 26 2020-XYZres007_0001_warped_radii_amended_AVC_with_branch_order.pickle\n",
      "249.45833333333334\n",
      "matt_preds_graphs_fwhm_single_excel/vbm03 Feb 26 2020-XYZres007_0001_warped_radii_amended_AVC_with_branch_order.pickle\n"
     ]
    },
    {
     "name": "stderr",
     "output_type": "stream",
     "text": [
      "  6%|▋         | 1/16 [00:18<04:32, 18.18s/it]"
     ]
    },
    {
     "name": "stdout",
     "output_type": "stream",
     "text": [
      "XYZres008\n",
      "249.2608695652174\n",
      "matt_preds_graphs_fwhm_single/vbm03 Feb 26 2020-XYZres008_0001_warped_radii_amended_AVC_with_branch_order.pickle\n",
      "249.2608695652174\n",
      "matt_preds_graphs_fwhm_single_excel/vbm03 Feb 26 2020-XYZres008_0001_warped_radii_amended_AVC_with_branch_order.pickle\n"
     ]
    },
    {
     "name": "stderr",
     "output_type": "stream",
     "text": [
      " 12%|█▎        | 2/16 [00:36<04:14, 18.16s/it]"
     ]
    },
    {
     "name": "stdout",
     "output_type": "stream",
     "text": [
      "XYZres010\n",
      "228.56363636363636\n",
      "matt_preds_graphs_fwhm_single/vbm04 Feb 27 2020-XYZres014_0001_warped_radii_amended_AVC_with_branch_order.picklematt_preds_graphs_fwhm_single/vbm04 Feb 27 2020-XYZres010_0001_warped_radii_amended_AVC_with_branch_order.picklematt_preds_graphs_fwhm_single/vbm04 Feb 27 2020-XYZres014_warped_radii_amended_AVC_with_branch_order.picklematt_preds_graphs_fwhm_single/vbm04 Feb 27 2020-XYZres012_0001_warped_radii_amended_AVC_with_branch_order.pickle\n",
      "\n",
      "\n",
      "matt_preds_graphs_fwhm_single/vbm04 Feb 27 2020-XYZres012_warped_radii_amended_AVC_with_branch_order.pickle\n",
      "\n",
      "228.56363636363636228.56363636363636228.56363636363636228.56363636363636\n",
      "228.56363636363636\n",
      "\n",
      "\n",
      "\n",
      "matt_preds_graphs_fwhm_single_excel/vbm04 Feb 27 2020-XYZres012_0001_warped_radii_amended_AVC_with_branch_order.pickle\n",
      "matt_preds_graphs_fwhm_single_excel/vbm04 Feb 27 2020-XYZres010_0001_warped_radii_amended_AVC_with_branch_order.pickle\n",
      "matt_preds_graphs_fwhm_single_excel/vbm04 Feb 27 2020-XYZres012_warped_radii_amended_AVC_with_branch_order.pickle\n",
      "matt_preds_graphs_fwhm_single_excel/vbm04 Feb 27 2020-XYZres014_0001_warped_radii_amended_AVC_with_branch_order.pickle\n",
      "matt_preds_graphs_fwhm_single_excel/vbm04 Feb 27 2020-XYZres014_warped_radii_amended_AVC_with_branch_order.pickle\n"
     ]
    },
    {
     "name": "stderr",
     "output_type": "stream",
     "text": [
      " 19%|█▉        | 3/16 [01:02<04:45, 21.97s/it]"
     ]
    },
    {
     "name": "stdout",
     "output_type": "stream",
     "text": [
      "XYZres011\n",
      "250.7\n",
      "matt_preds_graphs_fwhm_single/vbm04 Feb 27 2020-XYZres009_0001_warped_radii_amended_AVC_with_branch_order.pickle\n",
      "250.7\n",
      "matt_preds_graphs_fwhm_single/vbm04 Feb 27 2020-XYZres013_warped_radii_amended_AVC_with_branch_order.pickle\n",
      "250.7\n",
      "matt_preds_graphs_fwhm_single_excel/vbm04 Feb 27 2020-XYZres009_0001_warped_radii_amended_AVC_with_branch_order.pickle\n",
      "matt_preds_graphs_fwhm_single/vbm04 Feb 27 2020-XYZres009_warped_radii_amended_AVC_with_branch_order.pickle\n",
      "250.7\n",
      "matt_preds_graphs_fwhm_single_excel/vbm04 Feb 27 2020-XYZres013_warped_radii_amended_AVC_with_branch_order.pickle\n",
      "matt_preds_graphs_fwhm_single_excel/vbm04 Feb 27 2020-XYZres009_warped_radii_amended_AVC_with_branch_order.pickle\n",
      "matt_preds_graphs_fwhm_single/vbm04 Feb 27 2020-XYZres011_0001_warped_radii_amended_AVC_with_branch_order.pickle\n",
      "250.7\n",
      "matt_preds_graphs_fwhm_single/vbm04 Feb 27 2020-XYZres013_0001_warped_radii_amended_AVC_with_branch_order.pickle\n",
      "250.7\n",
      "matt_preds_graphs_fwhm_single_excel/vbm04 Feb 27 2020-XYZres011_0001_warped_radii_amended_AVC_with_branch_order.pickle\n",
      "matt_preds_graphs_fwhm_single_excel/vbm04 Feb 27 2020-XYZres013_0001_warped_radii_amended_AVC_with_branch_order.pickle\n"
     ]
    },
    {
     "name": "stderr",
     "output_type": "stream",
     "text": [
      " 25%|██▌       | 4/16 [01:23<04:18, 21.57s/it]"
     ]
    },
    {
     "name": "stdout",
     "output_type": "stream",
     "text": [
      "XYZres016\n",
      "231.4\n",
      "matt_preds_graphs_fwhm_single/vbm05 Feb 28 2020-XYZres018_warped_radii_amended_AVC_with_branch_order.pickle\n",
      "231.4\n",
      "matt_preds_graphs_fwhm_single_excel/vbm05 Feb 28 2020-XYZres018_warped_radii_amended_AVC_with_branch_order.pickle\n",
      "matt_preds_graphs_fwhm_single/vbm05 Feb 28 2020-XYZres020_0001_warped_radii_amended_AVC_with_branch_order.pickle\n",
      "231.4\n",
      "matt_preds_graphs_fwhm_single/vbm05 Feb 28 2020-XYZres016_0001_warped_radii_amended_AVC_with_branch_order.pickle\n",
      "231.4\n",
      "matt_preds_graphs_fwhm_single/vbm05 Feb 28 2020-XYZres020_warped_radii_amended_AVC_with_branch_order.pickle\n",
      "matt_preds_graphs_fwhm_single_excel/vbm05 Feb 28 2020-XYZres020_0001_warped_radii_amended_AVC_with_branch_order.pickle\n",
      "231.4\n",
      "matt_preds_graphs_fwhm_single_excel/vbm05 Feb 28 2020-XYZres016_0001_warped_radii_amended_AVC_with_branch_order.pickle\n",
      "matt_preds_graphs_fwhm_single_excel/vbm05 Feb 28 2020-XYZres020_warped_radii_amended_AVC_with_branch_order.pickle\n",
      "matt_preds_graphs_fwhm_single/vbm05 Feb 28 2020-XYZres018_0001_warped_radii_amended_AVC_with_branch_order.pickle\n",
      "231.4\n",
      "matt_preds_graphs_fwhm_single_excel/vbm05 Feb 28 2020-XYZres018_0001_warped_radii_amended_AVC_with_branch_order.pickle\n"
     ]
    },
    {
     "name": "stderr",
     "output_type": "stream",
     "text": [
      " 31%|███▏      | 5/16 [01:45<03:56, 21.47s/it]"
     ]
    },
    {
     "name": "stdout",
     "output_type": "stream",
     "text": [
      "XYZres017\n",
      "241.63917525773195\n",
      "matt_preds_graphs_fwhm_single/vbm05 Feb 28 2020-XYZres015_warped_radii_amended_AVC_with_branch_order.pickle\n",
      "241.63917525773195\n",
      "matt_preds_graphs_fwhm_single_excel/vbm05 Feb 28 2020-XYZres015_warped_radii_amended_AVC_with_branch_order.pickle\n",
      "matt_preds_graphs_fwhm_single/vbm05 Feb 28 2020-XYZres019_warped_radii_amended_AVC_with_branch_order.pickle\n",
      "241.63917525773195\n",
      "matt_preds_graphs_fwhm_single/vbm05 Feb 28 2020-XYZres019_0001_warped_radii_amended_AVC_with_branch_order.pickle\n",
      "241.63917525773195\n",
      "matt_preds_graphs_fwhm_single/vbm05 Feb 28 2020-XYZres017_0001_warped_radii_amended_AVC_with_branch_order.picklematt_preds_graphs_fwhm_single_excel/vbm05 Feb 28 2020-XYZres019_warped_radii_amended_AVC_with_branch_order.pickle\n",
      "\n",
      "241.63917525773195\n",
      "matt_preds_graphs_fwhm_single_excel/vbm05 Feb 28 2020-XYZres019_0001_warped_radii_amended_AVC_with_branch_order.pickle\n",
      "matt_preds_graphs_fwhm_single_excel/vbm05 Feb 28 2020-XYZres017_0001_warped_radii_amended_AVC_with_branch_order.pickle\n",
      "matt_preds_graphs_fwhm_single/vbm05 Feb 28 2020-XYZres015_0001_warped_radii_amended_AVC_with_branch_order.pickle\n",
      "241.63917525773195\n",
      "matt_preds_graphs_fwhm_single_excel/vbm05 Feb 28 2020-XYZres015_0001_warped_radii_amended_AVC_with_branch_order.pickle\n"
     ]
    },
    {
     "name": "stderr",
     "output_type": "stream",
     "text": [
      " 38%|███▊      | 6/16 [02:05<03:29, 20.98s/it]"
     ]
    },
    {
     "name": "stdout",
     "output_type": "stream",
     "text": [
      "XYZres022\n",
      "250.28481012658227\n",
      "matt_preds_graphs_fwhm_single/vbm07 Mar 24 2020-XYZres022_0001_warped_radii_amended_AVC_with_branch_order.pickle\n",
      "250.28481012658227\n",
      "matt_preds_graphs_fwhm_single_excel/vbm07 Mar 24 2020-XYZres022_0001_warped_radii_amended_AVC_with_branch_order.pickle\n",
      "matt_preds_graphs_fwhm_single/vbm07 Mar 24 2020-XYZres024_warped_radii_amended_AVC_with_branch_order.pickle\n",
      "250.28481012658227\n",
      "matt_preds_graphs_fwhm_single/vbm07 Mar 24 2020-XYZres024_0001_warped_radii_amended_AVC_with_branch_order.pickle\n",
      "250.28481012658227\n",
      "matt_preds_graphs_fwhm_single_excel/vbm07 Mar 24 2020-XYZres024_warped_radii_amended_AVC_with_branch_order.pickle\n",
      "matt_preds_graphs_fwhm_single_excel/vbm07 Mar 24 2020-XYZres024_0001_warped_radii_amended_AVC_with_branch_order.pickle\n"
     ]
    },
    {
     "name": "stderr",
     "output_type": "stream",
     "text": [
      " 44%|████▍     | 7/16 [02:25<03:06, 20.74s/it]"
     ]
    },
    {
     "name": "stdout",
     "output_type": "stream",
     "text": [
      "XYZres023\n",
      "243.5\n",
      "matt_preds_graphs_fwhm_single/vbm07 Mar 24 2020-XYZres021_0001_warped_radii_amended_AVC_with_branch_order.pickle\n",
      "243.5\n",
      "matt_preds_graphs_fwhm_single_excel/vbm07 Mar 24 2020-XYZres021_0001_warped_radii_amended_AVC_with_branch_order.pickle\n",
      "matt_preds_graphs_fwhm_single/vbm07 Mar 24 2020-XYZres023_0001_warped_radii_amended_AVC_with_branch_order.pickle\n",
      "243.5\n",
      "matt_preds_graphs_fwhm_single/vbm07 Mar 24 2020-XYZres021_warped_radii_amended_AVC_with_branch_order.pickle\n",
      "243.5\n",
      "matt_preds_graphs_fwhm_single_excel/vbm07 Mar 24 2020-XYZres023_0001_warped_radii_amended_AVC_with_branch_order.pickle\n",
      "matt_preds_graphs_fwhm_single_excel/vbm07 Mar 24 2020-XYZres021_warped_radii_amended_AVC_with_branch_order.pickle\n"
     ]
    },
    {
     "name": "stderr",
     "output_type": "stream",
     "text": [
      " 50%|█████     | 8/16 [02:45<02:43, 20.44s/it]"
     ]
    },
    {
     "name": "stdout",
     "output_type": "stream",
     "text": [
      "XYZres028\n",
      "244.71428571428572\n",
      "matt_preds_graphs_fwhm_single/vbm08 Mar 27 2020-XYZres032_warped_radii_amended_AVC_with_branch_order.pickle\n",
      "244.71428571428572\n",
      "matt_preds_graphs_fwhm_single/vbm08 Mar 27 2020-XYZres030_0001_warped_radii_amended_AVC_with_branch_order.pickle\n",
      "matt_preds_graphs_fwhm_single_excel/vbm08 Mar 27 2020-XYZres032_warped_radii_amended_AVC_with_branch_order.pickle\n",
      "244.71428571428572\n",
      "matt_preds_graphs_fwhm_single_excel/vbm08 Mar 27 2020-XYZres030_0001_warped_radii_amended_AVC_with_branch_order.pickle\n",
      "matt_preds_graphs_fwhm_single/vbm08 Mar 27 2020-XYZres028_0001_warped_radii_amended_AVC_with_branch_order.pickle\n",
      "244.71428571428572\n",
      "matt_preds_graphs_fwhm_single/vbm08 Mar 27 2020-XYZres030_warped_radii_amended_AVC_with_branch_order.pickle\n",
      "244.71428571428572\n",
      "matt_preds_graphs_fwhm_single_excel/vbm08 Mar 27 2020-XYZres030_warped_radii_amended_AVC_with_branch_order.pickle\n",
      "matt_preds_graphs_fwhm_single/vbm08 Mar 27 2020-XYZres032_0001_warped_radii_amended_AVC_with_branch_order.pickle\n",
      "matt_preds_graphs_fwhm_single_excel/vbm08 Mar 27 2020-XYZres028_0001_warped_radii_amended_AVC_with_branch_order.pickle\n",
      "244.71428571428572\n",
      "matt_preds_graphs_fwhm_single_excel/vbm08 Mar 27 2020-XYZres032_0001_warped_radii_amended_AVC_with_branch_order.pickle\n"
     ]
    },
    {
     "name": "stderr",
     "output_type": "stream",
     "text": [
      " 56%|█████▋    | 9/16 [03:06<02:24, 20.61s/it]"
     ]
    },
    {
     "name": "stdout",
     "output_type": "stream",
     "text": [
      "XYZres029\n",
      "245.70909090909092\n",
      "matt_preds_graphs_fwhm_single/vbm08 Mar 27 2020-XYZres031_warped_radii_amended_AVC_with_branch_order.pickle\n",
      "245.70909090909092\n",
      "matt_preds_graphs_fwhm_single_excel/vbm08 Mar 27 2020-XYZres031_warped_radii_amended_AVC_with_branch_order.pickle\n",
      "matt_preds_graphs_fwhm_single/vbm08 Mar 27 2020-XYZres027_warped_radii_amended_AVC_with_branch_order.pickle\n",
      "245.70909090909092\n",
      "matt_preds_graphs_fwhm_single/vbm08 Mar 27 2020-XYZres029_0001_warped_radii_amended_AVC_with_branch_order.pickle\n",
      "245.70909090909092\n",
      "matt_preds_graphs_fwhm_single/vbm08 Mar 27 2020-XYZres027_0001_warped_radii_amended_AVC_with_branch_order.pickle\n",
      "245.70909090909092\n",
      "matt_preds_graphs_fwhm_single_excel/vbm08 Mar 27 2020-XYZres027_warped_radii_amended_AVC_with_branch_order.pickle\n",
      "matt_preds_graphs_fwhm_single_excel/vbm08 Mar 27 2020-XYZres029_0001_warped_radii_amended_AVC_with_branch_order.pickle\n",
      "matt_preds_graphs_fwhm_single/vbm08 Mar 27 2020-XYZres031_0001_warped_radii_amended_AVC_with_branch_order.pickle\n",
      "245.70909090909092\n",
      "matt_preds_graphs_fwhm_single_excel/vbm08 Mar 27 2020-XYZres027_0001_warped_radii_amended_AVC_with_branch_order.pickle\n",
      "matt_preds_graphs_fwhm_single_excel/vbm08 Mar 27 2020-XYZres031_0001_warped_radii_amended_AVC_with_branch_order.pickle\n"
     ]
    },
    {
     "name": "stderr",
     "output_type": "stream",
     "text": [
      " 62%|██████▎   | 10/16 [03:26<02:03, 20.64s/it]"
     ]
    },
    {
     "name": "stdout",
     "output_type": "stream",
     "text": [
      "XYZres034\n",
      "230.48535564853557\n",
      "matt_preds_graphs_fwhm_single/vbm09 Mar 28 2020-XYZres038_0001_warped_radii_amended_AVC_with_branch_order.pickle\n",
      "230.48535564853557\n",
      "matt_preds_graphs_fwhm_single/vbm09 Mar 28 2020-XYZres036_warped_radii_amended_AVC_with_branch_order.pickle\n",
      "230.48535564853557\n",
      "matt_preds_graphs_fwhm_single_excel/vbm09 Mar 28 2020-XYZres038_0001_warped_radii_amended_AVC_with_branch_order.pickle\n",
      "matt_preds_graphs_fwhm_single/vbm09 Mar 28 2020-XYZres036_0001_warped_radii_amended_AVC_with_branch_order.pickle\n",
      "230.48535564853557\n",
      "matt_preds_graphs_fwhm_single_excel/vbm09 Mar 28 2020-XYZres036_warped_radii_amended_AVC_with_branch_order.pickle\n",
      "matt_preds_graphs_fwhm_single_excel/vbm09 Mar 28 2020-XYZres036_0001_warped_radii_amended_AVC_with_branch_order.pickle\n",
      "matt_preds_graphs_fwhm_single/vbm09 Mar 28 2020-XYZres034_0001_warped_radii_amended_AVC_with_branch_order.pickle\n",
      "230.48535564853557\n",
      "matt_preds_graphs_fwhm_single/vbm09 Mar 28 2020-XYZres038_warped_radii_amended_AVC_with_branch_order.pickle\n",
      "230.48535564853557\n",
      "matt_preds_graphs_fwhm_single_excel/vbm09 Mar 28 2020-XYZres034_0001_warped_radii_amended_AVC_with_branch_order.pickle\n",
      "matt_preds_graphs_fwhm_single_excel/vbm09 Mar 28 2020-XYZres038_warped_radii_amended_AVC_with_branch_order.pickle\n"
     ]
    },
    {
     "name": "stderr",
     "output_type": "stream",
     "text": [
      " 69%|██████▉   | 11/16 [03:47<01:43, 20.67s/it]"
     ]
    },
    {
     "name": "stdout",
     "output_type": "stream",
     "text": [
      "XYZres035\n",
      "245.31578947368422\n",
      "matt_preds_graphs_fwhm_single/vbm09 Mar 28 2020-XYZres033_warped_radii_amended_AVC_with_branch_order.pickle\n",
      "245.31578947368422\n",
      "matt_preds_graphs_fwhm_single/vbm09 Mar 28 2020-XYZres037_0001_warped_radii_amended_AVC_with_branch_order.pickle\n",
      "matt_preds_graphs_fwhm_single/vbm09 Mar 28 2020-XYZres037_warped_radii_amended_AVC_with_branch_order.pickle\n",
      "matt_preds_graphs_fwhm_single_excel/vbm09 Mar 28 2020-XYZres033_warped_radii_amended_AVC_with_branch_order.pickle\n",
      "245.31578947368422\n",
      "245.31578947368422\n",
      "matt_preds_graphs_fwhm_single/vbm09 Mar 28 2020-XYZres033_0001_warped_radii_amended_AVC_with_branch_order.pickle\n",
      "245.31578947368422\n",
      "matt_preds_graphs_fwhm_single/vbm09 Mar 28 2020-XYZres035_0001_warped_radii_amended_AVC_with_branch_order.pickle\n",
      "matt_preds_graphs_fwhm_single_excel/vbm09 Mar 28 2020-XYZres037_0001_warped_radii_amended_AVC_with_branch_order.pickle\n",
      "245.31578947368422\n",
      "matt_preds_graphs_fwhm_single_excel/vbm09 Mar 28 2020-XYZres037_warped_radii_amended_AVC_with_branch_order.pickle\n",
      "matt_preds_graphs_fwhm_single_excel/vbm09 Mar 28 2020-XYZres033_0001_warped_radii_amended_AVC_with_branch_order.pickle\n",
      "matt_preds_graphs_fwhm_single_excel/vbm09 Mar 28 2020-XYZres035_0001_warped_radii_amended_AVC_with_branch_order.pickle\n"
     ]
    },
    {
     "name": "stderr",
     "output_type": "stream",
     "text": [
      " 75%|███████▌  | 12/16 [04:08<01:22, 20.60s/it]"
     ]
    },
    {
     "name": "stdout",
     "output_type": "stream",
     "text": [
      "XYZres040\n",
      "243.7942857142857\n",
      "matt_preds_graphs_fwhm_single/vbm10 Apr 03 2020-XYZres040_0001_warped_radii_amended_AVC_with_branch_order.pickle\n",
      "243.7942857142857\n",
      "matt_preds_graphs_fwhm_single_excel/vbm10 Apr 03 2020-XYZres040_0001_warped_radii_amended_AVC_with_branch_order.pickle\n",
      "matt_preds_graphs_fwhm_single/vbm10 Apr 03 2020-XYZres042_warped_radii_amended_AVC_with_branch_order.pickle\n",
      "243.7942857142857\n",
      "matt_preds_graphs_fwhm_single/vbm10 Apr 03 2020-XYZres044_warped_radii_amended_AVC_with_branch_order.pickle\n",
      "matt_preds_graphs_fwhm_single_excel/vbm10 Apr 03 2020-XYZres042_warped_radii_amended_AVC_with_branch_order.pickle\n",
      "243.7942857142857\n",
      "matt_preds_graphs_fwhm_single/vbm10 Apr 03 2020-XYZres042_0001_warped_radii_amended_AVC_with_branch_order.pickle\n",
      "243.7942857142857\n",
      "matt_preds_graphs_fwhm_single_excel/vbm10 Apr 03 2020-XYZres044_warped_radii_amended_AVC_with_branch_order.pickle\n",
      "matt_preds_graphs_fwhm_single_excel/vbm10 Apr 03 2020-XYZres042_0001_warped_radii_amended_AVC_with_branch_order.pickle\n",
      "matt_preds_graphs_fwhm_single/vbm10 Apr 03 2020-XYZres044_0001_warped_radii_amended_AVC_with_branch_order.pickle\n",
      "243.7942857142857\n",
      "matt_preds_graphs_fwhm_single_excel/vbm10 Apr 03 2020-XYZres044_0001_warped_radii_amended_AVC_with_branch_order.pickle\n"
     ]
    },
    {
     "name": "stderr",
     "output_type": "stream",
     "text": [
      " 81%|████████▏ | 13/16 [04:28<01:01, 20.62s/it]"
     ]
    },
    {
     "name": "stdout",
     "output_type": "stream",
     "text": [
      "XYZres041\n",
      "246.4561403508772\n",
      "matt_preds_graphs_fwhm_single/vbm10 Apr 03 2020-XYZres043_0001_warped_radii_amended_AVC_with_branch_order.pickle\n",
      "246.4561403508772\n",
      "matt_preds_graphs_fwhm_single/vbm10 Apr 03 2020-XYZres043_warped_radii_amended_AVC_with_branch_order.pickle\n",
      "246.4561403508772\n",
      "matt_preds_graphs_fwhm_single_excel/vbm10 Apr 03 2020-XYZres043_0001_warped_radii_amended_AVC_with_branch_order.pickle\n",
      "matt_preds_graphs_fwhm_single_excel/vbm10 Apr 03 2020-XYZres043_warped_radii_amended_AVC_with_branch_order.pickle\n",
      "matt_preds_graphs_fwhm_single/vbm10 Apr 03 2020-XYZres039_warped_radii_amended_AVC_with_branch_order.pickle\n",
      "246.4561403508772\n",
      "matt_preds_graphs_fwhm_single_excel/vbm10 Apr 03 2020-XYZres039_warped_radii_amended_AVC_with_branch_order.pickle\n",
      "matt_preds_graphs_fwhm_single/vbm10 Apr 03 2020-XYZres039_0001_warped_radii_amended_AVC_with_branch_order.pickle\n",
      "246.4561403508772\n",
      "matt_preds_graphs_fwhm_single/vbm10 Apr 03 2020-XYZres041_0001_warped_radii_amended_AVC_with_branch_order.pickle\n",
      "246.4561403508772\n",
      "matt_preds_graphs_fwhm_single_excel/vbm10 Apr 03 2020-XYZres039_0001_warped_radii_amended_AVC_with_branch_order.pickle\n",
      "matt_preds_graphs_fwhm_single_excel/vbm10 Apr 03 2020-XYZres041_0001_warped_radii_amended_AVC_with_branch_order.pickle\n"
     ]
    },
    {
     "name": "stderr",
     "output_type": "stream",
     "text": [
      " 88%|████████▊ | 14/16 [04:51<00:42, 21.32s/it]"
     ]
    },
    {
     "name": "stdout",
     "output_type": "stream",
     "text": [
      "XYZres047\n",
      "245.72\n",
      "matt_preds_graphs_fwhm_single/vbm11 Apr 04 2020-XYZres047_0001_warped_radii_amended_AVC_with_branch_order.pickle\n",
      "245.72\n",
      "matt_preds_graphs_fwhm_single_excel/vbm11 Apr 04 2020-XYZres047_0001_warped_radii_amended_AVC_with_branch_order.pickle\n",
      "matt_preds_graphs_fwhm_single/vbm11 Apr 04 2020-XYZres049_warped_radii_amended_AVC_with_branch_order.pickle\n",
      "matt_preds_graphs_fwhm_single/vbm11 Apr 04 2020-XYZres051_0001_warped_radii_amended_AVC_with_branch_order.pickle\n",
      "245.72\n",
      "245.72\n",
      "matt_preds_graphs_fwhm_single/vbm11 Apr 04 2020-XYZres051_warped_radii_amended_AVC_with_branch_order.pickle\n",
      "245.72\n",
      "matt_preds_graphs_fwhm_single_excel/vbm11 Apr 04 2020-XYZres049_warped_radii_amended_AVC_with_branch_order.pickle\n",
      "matt_preds_graphs_fwhm_single/vbm11 Apr 04 2020-XYZres049_0001_warped_radii_amended_AVC_with_branch_order.pickle\n",
      "245.72\n",
      "matt_preds_graphs_fwhm_single_excel/vbm11 Apr 04 2020-XYZres051_0001_warped_radii_amended_AVC_with_branch_order.pickle\n",
      "matt_preds_graphs_fwhm_single_excel/vbm11 Apr 04 2020-XYZres051_warped_radii_amended_AVC_with_branch_order.pickle\n",
      "matt_preds_graphs_fwhm_single_excel/vbm11 Apr 04 2020-XYZres049_0001_warped_radii_amended_AVC_with_branch_order.pickle\n"
     ]
    },
    {
     "name": "stderr",
     "output_type": "stream",
     "text": [
      " 94%|█████████▍| 15/16 [05:12<00:21, 21.07s/it]"
     ]
    },
    {
     "name": "stdout",
     "output_type": "stream",
     "text": [
      "XYZres048\n",
      "249.12280701754386\n",
      "matt_preds_graphs_fwhm_single/vbm11 Apr 04 2020-XYZres048_0001_warped_radii_amended_AVC_with_branch_order.pickle\n",
      "249.12280701754386\n",
      "matt_preds_graphs_fwhm_single_excel/vbm11 Apr 04 2020-XYZres048_0001_warped_radii_amended_AVC_with_branch_order.pickle\n",
      "matt_preds_graphs_fwhm_single/vbm11 Apr 04 2020-XYZres050_0001_warped_radii_amended_AVC_with_branch_order.pickle\n",
      "matt_preds_graphs_fwhm_single/vbm11 Apr 04 2020-XYZres046_0001_warped_radii_amended_AVC_with_branch_order.pickle\n",
      "249.12280701754386\n",
      "249.12280701754386\n",
      "matt_preds_graphs_fwhm_single/vbm11 Apr 04 2020-XYZres046_warped_radii_amended_AVC_with_branch_order.pickle\n",
      "249.12280701754386\n",
      "matt_preds_graphs_fwhm_single/vbm11 Apr 04 2020-XYZres050_warped_radii_amended_AVC_with_branch_order.pickle\n",
      "249.12280701754386\n",
      "matt_preds_graphs_fwhm_single_excel/vbm11 Apr 04 2020-XYZres050_0001_warped_radii_amended_AVC_with_branch_order.pickle\n",
      "matt_preds_graphs_fwhm_single_excel/vbm11 Apr 04 2020-XYZres046_0001_warped_radii_amended_AVC_with_branch_order.pickle\n",
      "matt_preds_graphs_fwhm_single_excel/vbm11 Apr 04 2020-XYZres046_warped_radii_amended_AVC_with_branch_order.pickle\n",
      "matt_preds_graphs_fwhm_single_excel/vbm11 Apr 04 2020-XYZres050_warped_radii_amended_AVC_with_branch_order.pickle\n"
     ]
    },
    {
     "name": "stderr",
     "output_type": "stream",
     "text": [
      "100%|██████████| 16/16 [05:32<00:00, 20.81s/it]"
     ]
    },
    {
     "name": "stdout",
     "output_type": "stream",
     "text": [
      "9173\n"
     ]
    },
    {
     "name": "stderr",
     "output_type": "stream",
     "text": [
      "\n"
     ]
    }
   ],
   "source": [
    "res = []\n",
    "ID = 0\n",
    "mut_info = []\n",
    "mut_info_fin = []\n",
    "for image in tqdm(images[:]):\n",
    "    img = np.load(image)\n",
    "    _img = np.copy(img)\n",
    "    img2 = io.imread(re.sub('_upsampled_seg','',re.sub('_seg.npy','.tif',image)))\n",
    "    _img2 = np.copy(img2)\n",
    "    if os.path.exists(re.sub('_seg.npy','_radii_amended_AVC_with_branch_order.pickle',re.sub('raw_warped_single_upsampled_seg','preds_graphs_fwhm_single',image))):\n",
    "        graph = nx.read_gpickle(re.sub('_seg.npy','_radii_amended_AVC_with_branch_order.pickle',re.sub('raw_warped_single_upsampled_seg','preds_graphs_fwhm_single',image)))\n",
    "        _image = re.sub('_seg.npy','_radii_amended.pickle',re.sub('raw_warped_single_upsampled_seg','preds_graphs_fwhm_single',image))\n",
    "    elif os.path.exists(re.sub('_seg.npy','_radii_forepaw_amended.pickle',re.sub('raw_warped_single_upsampled_seg','preds_graphs_fwhm_single',image))):\n",
    "        graph = nx.read_gpickle(re.sub('_seg.npy','_radii_forepaw_amended.pickle',re.sub('raw_warped_single_upsampled_seg','preds_graphs_fwhm_single',image)))\n",
    "        _image = re.sub('_seg.npy','_radii_forepaw_amended.pickle',re.sub('raw_warped_single_upsampled_seg','preds_graphs_fwhm_single',image))\n",
    "    else:\n",
    "        print('error')\n",
    "        break\n",
    "    base_scan = re.sub('_warped_seg.npy','',re.sub('matt_raw_warped_single_upsampled_seg/','',image)).split('-')[-1]\n",
    "    for edge in graph.edges:\n",
    "        graph[edge[0]][edge[1]]['vessel_id'] = ID\n",
    "        graph[edge[0]][edge[1]]['scan'] = base_scan\n",
    "        ID += 1\n",
    "    print(base_scan)\n",
    "    print(np.max(nx.to_pandas_edgelist(graph)['mean_depth']))\n",
    "    nx.write_gpickle(graph,re.sub('.pickle','_AVC_with_branch_order.pickle',re.sub('preds_graphs_fwhm_single','preds_graphs_fwhm_single_excel',_image)))\n",
    "    #print(re.sub('_seg.npy','_radii_amended.pickle',re.sub('raw_warped_single_upsampled_seg','preds_graphs_fwhm_single_excel',image)))\n",
    "    key = [x for x in list(dic.keys()) if x in image][0]\n",
    "    mov_files = [re.sub(key,x,image) for x in dic[key]]\n",
    "    mov_files = sorted(mov_files + [re.sub('_warped_seg.npy','_0001_warped_seg.npy',x) for x in mov_files])\n",
    "    mov_files.append(re.sub('_warped_seg.npy','_0001_warped_seg.npy',image))\n",
    "    mov_files = [x for x in mov_files if x != image]\n",
    "    mov_files = sorted(mov_files)\n",
    "    mov_files = np.unique(mov_files)\n",
    "    mov_files = [x for x in mov_files if os.path.exists(x)]\n",
    "    def process_file(i):\n",
    "        img_0001 = np.load(i)\n",
    "        img2_0001 = io.imread(re.sub('_upsampled_seg','',re.sub('_seg.npy','.tif',image)))\n",
    "        _mut_info = normalized_mutual_info_score(_img.flatten(),img_0001.flatten()) # calculate mutual information between masks, judges registration\n",
    "        mut_info.append(_mut_info)\n",
    "        if _mut_info > 0.05 and len([x for x in files if re.sub('_seg.npy','',re.sub('matt_raw_warped_single_upsampled_seg/','',i)) in x]) != 0:\n",
    "            graph_0001 = nx.read_gpickle([x for x in files if re.sub('_seg.npy','',re.sub('matt_raw_warped_single_upsampled_seg/','',i)) in x][0])\n",
    "            print([x for x in files if re.sub('_seg.npy','',re.sub('matt_raw_warped_single_upsampled_seg/','',i)) in x][0])\n",
    "            followup_scan = re.sub('_warped_seg.npy','',re.sub('matt_raw_warped_single_upsampled_seg/','',i)).split('-')[-1]\n",
    "            for edge in graph.edges:\n",
    "                graph_0001[edge[0]][edge[1]]['vessel_id'] = graph[edge[0]][edge[1]]['vessel_id']\n",
    "                graph_0001[edge[0]][edge[1]]['scan'] = re.sub('_0001','',followup_scan)\n",
    "            #print(graph_0001[edge[0]][edge[1]]['gender'] + graph_0001[edge[0]][edge[1]]['scan'])\n",
    "            print(np.max(nx.to_pandas_edgelist(graph_0001)['mean_depth']))\n",
    "            nx.write_gpickle(graph_0001,re.sub('preds_graphs_fwhm_single','preds_graphs_fwhm_single_excel',[x for x in files if re.sub('_seg.npy','',re.sub('matt_raw_warped_single_upsampled_seg/','',i)) in x][0]))\n",
    "            print(re.sub('preds_graphs_fwhm_single','preds_graphs_fwhm_single_excel',[x for x in files if re.sub('_seg.npy','',re.sub('matt_raw_warped_single_upsampled_seg/','',i)) in x][0]))\n",
    "        return _mut_info\n",
    "    pool = multiprocessing.Pool(16)\n",
    "    #pool.map(process_file, mov_files)\n",
    "    mut_info = pool.map(process_file, mov_files)\n",
    "    mut_info_fin.extend(mut_info)\n",
    "    #for i in mov_files:\n",
    "    #    img_0001 = np.load(i)\n",
    "    #    _mut_info = normalized_mutual_info_score(_img.flatten(),img_0001.flatten()) # calculate mutual information between masks, judges registration\n",
    "    #    mut_info.append(_mut_info)\n",
    "    #    if _mut_info > 0.1 and len([x for x in files if re.sub('_seg.npy','',re.sub('matt_raw_warped_single_upsampled_seg/','',i)) in x]) != 0:\n",
    "    #        graph_0001 = nx.read_gpickle([x for x in files if re.sub('_seg.npy','',re.sub('matt_raw_warped_single_upsampled_seg/','',i)) in x][0])\n",
    "    #        followup_scan = re.sub('_warped_seg.npy','',re.sub('matt_raw_warped_single_upsampled_seg/','',i)).split('-')[-1]\n",
    "    #        for edge in graph.edges:\n",
    "    #            graph_0001[edge[0]][edge[1]]['vessel_id'] = graph[edge[0]][edge[1]]['vessel_id']\n",
    "    #            graph_0001[edge[0]][edge[1]]['scan'] = followup_scan\n",
    "    #        nx.write_gpickle(graph_0001,re.sub('preds_graphs_fwhm_single','preds_graphs_fwhm_single_excel',[x for x in files if re.sub('_seg.npy','',re.sub('matt_raw_warped_single_upsampled_seg/','',i)) in x][0]))\n",
    "    #        print(re.sub('preds_graphs_fwhm_single','preds_graphs_fwhm_single_excel',[x for x in files if re.sub('_seg.npy','',re.sub('matt_raw_warped_single_upsampled_seg/','',i)) in x][0]))\n",
    "print(ID)"
   ]
  },
  {
   "cell_type": "code",
   "execution_count": 141,
   "id": "11e8094d-8a57-485b-a5d9-19d6c571c650",
   "metadata": {},
   "outputs": [
    {
     "data": {
      "text/plain": [
       "'matt_preds_graphs_fwhm_single_excel/vbm04 Feb 27 2020-XYZres011_warped_radii_amended_AVC_with_branch_order.pickle'"
      ]
     },
     "execution_count": 141,
     "metadata": {},
     "output_type": "execute_result"
    }
   ],
   "source": [
    "re.sub('.pickle','_AVC_with_branch_order.pickle',re.sub('preds_graphs_fwhm_single','preds_graphs_fwhm_single_excel',_image))"
   ]
  },
  {
   "cell_type": "code",
   "execution_count": null,
   "id": "9c8d6cb0-0ada-4a27-bc53-6b0f34c02e19",
   "metadata": {},
   "outputs": [],
   "source": [
    "#res = []\n",
    "#ID = 0\n",
    "#mut_info_fin = []\n",
    "#for image in tqdm(images[:]):\n",
    "#    img = np.load(image)\n",
    "#    _img = np.copy(img)\n",
    "#    img2 = np.load(re.sub('_seg','',image))\n",
    "#    _img2 = np.copy(img2)\n",
    "#    if os.path.exists(re.sub('_seg.npy','_radii_amended_AVC_with_branch_order.pickle',re.sub('raw_warped_single_upsampled_seg','preds_graphs_fwhm_single',image))):\n",
    "#        graph = nx.read_gpickle(re.sub('_seg.npy','_radii_amended_AVC_with_branch_order.pickle',re.sub('raw_warped_single_upsampled_seg','preds_graphs_fwhm_single',image)))\n",
    "#        _image = re.sub('_seg.npy','_radii_amended_AVC_with_branch_order.pickle',re.sub('raw_warped_single_upsampled_seg','preds_graphs_fwhm_single',image))\n",
    "#    elif os.path.exists(re.sub('_seg.npy','_radii_forepaw_amended.pickle',re.sub('raw_warped_single_upsampled_seg','preds_graphs_fwhm_single',image))):\n",
    "#        graph = nx.read_gpickle(re.sub('_seg.npy','_radii_forepaw_amended.pickle',re.sub('raw_warped_single_upsampled_seg','preds_graphs_fwhm_single',image)))\n",
    "#        _image = re.sub('_seg.npy','_radii_forepaw_amended.pickle',re.sub('raw_warped_single_upsampled_seg','preds_graphs_fwhm_single',image))\n",
    "#    else:\n",
    "#        print('error')\n",
    "#        break\n",
    "#    base_scan = re.sub('_warped_seg.npy','',re.sub('matt_raw_warped_single_upsampled_seg/','',image)).split('-')[-1]\n",
    "#    for edge in graph.edges:\n",
    "#        graph[edge[0]][edge[1]]['vessel_id'] = ID\n",
    "#        graph[edge[0]][edge[1]]['scan'] = base_scan\n",
    "#        ID += 1\n",
    "#    nx.write_gpickle(graph,re.sub('preds_graphs_fwhm_single','preds_graphs_fwhm_single_excel',_image))\n",
    "#    print(re.sub('_seg.npy','_radii_amended_AVC_with_branch_order.pickle',re.sub('raw_warped_single_upsampled_seg','preds_graphs_fwhm_single_excel',image)))\n",
    "#    key = [x for x in list(dic.keys()) if x in image][0]\n",
    "#    mov_files = [re.sub(key,x,image) for x in dic[key]]\n",
    "#    mov_files = sorted(mov_files + [re.sub('_warped_seg.npy','_0001_warped_seg.npy',x) for x in mov_files])\n",
    "#    mov_files.append(re.sub('_warped_seg.npy','_0001_warped_seg.npy',image))\n",
    "#    mov_files = [x for x in mov_files if x != image]\n",
    "#    mov_files = sorted(mov_files)\n",
    "#    mov_files = np.unique(mov_files)\n",
    "#    mov_files = [x for x in mov_files if os.path.exists(x)]\n",
    "#    def process_file(i):\n",
    "#        img_0001 = np.load(i)\n",
    "#        img2_0001 = np.load(re.sub('_seg','',image))\n",
    "#        _mut_info = normalized_mutual_info_score(_img2.flatten(),img2_0001.flatten()) # calculate mutual information between masks, judges registration\n",
    "#        mut_info.append(_mut_info)\n",
    "#        if _mut_info > 0 and len([x for x in files if re.sub('_seg.npy','',re.sub('matt_raw_warped_single_upsampled_seg/','',i)) in x]) != 0:\n",
    "#            graph_0001 = nx.read_gpickle([x for x in files if re.sub('_seg.npy','',re.sub('matt_raw_warped_single_upsampled_seg/','',i)) in x][0])\n",
    "#            followup_scan = re.sub('_warped_seg.npy','',re.sub('matt_raw_warped_single_upsampled_seg/','',i)).split('-')[-1]\n",
    "#            for edge in graph.edges:\n",
    "#                graph_0001[edge[0]][edge[1]]['vessel_id'] = graph[edge[0]][edge[1]]['vessel_id']\n",
    "#                graph_0001[edge[0]][edge[1]]['scan'] = re.sub('_0001','',followup_scan)\n",
    "#            nx.write_gpickle(graph_0001,re.sub('preds_graphs_fwhm_single','preds_graphs_fwhm_single_excel',[x for x in files if re.sub('_seg.npy','',re.sub('matt_raw_warped_single_upsampled_seg/','',i)) in x][0]))\n",
    "#        return _mut_info\n",
    "#    pool = multiprocessing.Pool(32)\n",
    "#    #pool.map(process_file, mov_files)\n",
    "#    mut_info = pool.map(process_file, mov_files)\n",
    "#    mut_info_fin.extend(mut_info)\n",
    "#    #for i in mov_files:\n",
    "#    #    img_0001 = np.load(i)\n",
    "#    #    _mut_info = normalized_mutual_info_score(_img.flatten(),img_0001.flatten()) # calculate mutual information between masks, judges registration\n",
    "#    #    mut_info.append(_mut_info)\n",
    "#    #    if _mut_info > 0.1 and len([x for x in files if re.sub('_seg.npy','',re.sub('matt_raw_warped_single_upsampled_seg/','',i)) in x]) != 0:\n",
    "#    #        graph_0001 = nx.read_gpickle([x for x in files if re.sub('_seg.npy','',re.sub('matt_raw_warped_single_upsampled_seg/','',i)) in x][0])\n",
    "#    #        followup_scan = re.sub('_warped_seg.npy','',re.sub('matt_raw_warped_single_upsampled_seg/','',i)).split('-')[-1]\n",
    "#    #        for edge in graph.edges:\n",
    "#    #            graph_0001[edge[0]][edge[1]]['vessel_id'] = graph[edge[0]][edge[1]]['vessel_id']\n",
    "#    #            graph_0001[edge[0]][edge[1]]['scan'] = followup_scan\n",
    "#    #        nx.write_gpickle(graph_0001,re.sub('preds_graphs_fwhm_single','preds_graphs_fwhm_single_excel',[x for x in files if re.sub('_seg.npy','',re.sub('matt_raw_warped_single_upsampled_seg/','',i)) in x][0]))\n",
    "#    #        print(re.sub('preds_graphs_fwhm_single','preds_graphs_fwhm_single_excel',[x for x in files if re.sub('_seg.npy','',re.sub('matt_raw_warped_single_upsampled_seg/','',i)) in x][0]))\n",
    "#print(ID)"
   ]
  },
  {
   "cell_type": "code",
   "execution_count": 71,
   "id": "e1bbea3c",
   "metadata": {},
   "outputs": [],
   "source": [
    "#mut_info_fin"
   ]
  },
  {
   "cell_type": "markdown",
   "id": "433ec6d6-62fe-45a3-8110-9e8e7395fe89",
   "metadata": {},
   "source": [
    "# convert graphs to excel files"
   ]
  },
  {
   "cell_type": "code",
   "execution_count": 145,
   "id": "862c43de-9a0c-4a20-9e1d-418fd88a8ffa",
   "metadata": {},
   "outputs": [
    {
     "name": "stdout",
     "output_type": "stream",
     "text": [
      "84\n"
     ]
    },
    {
     "data": {
      "text/plain": [
       "['matt_preds_graphs_fwhm_single_excel/vbm03 Feb 26 2020-XYZres007_0001_warped_radii_amended_AVC_with_branch_order.pickle',\n",
       " 'matt_preds_graphs_fwhm_single_excel/vbm03 Feb 26 2020-XYZres007_warped_radii_amended_AVC_with_branch_order.pickle',\n",
       " 'matt_preds_graphs_fwhm_single_excel/vbm03 Feb 26 2020-XYZres008_0001_warped_radii_amended_AVC_with_branch_order.pickle',\n",
       " 'matt_preds_graphs_fwhm_single_excel/vbm03 Feb 26 2020-XYZres008_warped_radii_amended_AVC_with_branch_order.pickle',\n",
       " 'matt_preds_graphs_fwhm_single_excel/vbm04 Feb 27 2020-XYZres009_0001_warped_radii_amended_AVC_with_branch_order.pickle',\n",
       " 'matt_preds_graphs_fwhm_single_excel/vbm04 Feb 27 2020-XYZres009_warped_radii_amended_AVC_with_branch_order.pickle',\n",
       " 'matt_preds_graphs_fwhm_single_excel/vbm04 Feb 27 2020-XYZres010_0001_warped_radii_amended_AVC_with_branch_order.pickle',\n",
       " 'matt_preds_graphs_fwhm_single_excel/vbm04 Feb 27 2020-XYZres010_warped_radii_amended_AVC_with_branch_order.pickle',\n",
       " 'matt_preds_graphs_fwhm_single_excel/vbm04 Feb 27 2020-XYZres011_0001_warped_radii_amended_AVC_with_branch_order.pickle',\n",
       " 'matt_preds_graphs_fwhm_single_excel/vbm04 Feb 27 2020-XYZres011_warped_radii_amended_AVC_with_branch_order.pickle']"
      ]
     },
     "execution_count": 145,
     "metadata": {},
     "output_type": "execute_result"
    }
   ],
   "source": [
    "directory = Path('matt_preds_graphs_fwhm_single_excel')\n",
    "files = directory.glob('*_AVC_with_branch_order.pickle')\n",
    "files = sorted([x.as_posix() for x in files])\n",
    "print(len(files))\n",
    "files[0:10]"
   ]
  },
  {
   "cell_type": "code",
   "execution_count": 146,
   "id": "b0a1f087-f8b8-4de6-96d2-2ae4fbf9f74c",
   "metadata": {},
   "outputs": [
    {
     "name": "stderr",
     "output_type": "stream",
     "text": [
      "  4%|▎         | 3/83 [00:00<00:06, 13.11it/s]"
     ]
    },
    {
     "name": "stdout",
     "output_type": "stream",
     "text": [
      "231.4\n",
      "243.5\n",
      "246.4561403508772\n",
      "230.48535564853557\n"
     ]
    },
    {
     "name": "stderr",
     "output_type": "stream",
     "text": [
      "  8%|▊         | 7/83 [00:00<00:04, 15.31it/s]"
     ]
    },
    {
     "name": "stdout",
     "output_type": "stream",
     "text": [
      "245.72\n",
      "250.7\n",
      "230.48535564853557\n",
      "228.56363636363636\n"
     ]
    },
    {
     "name": "stderr",
     "output_type": "stream",
     "text": [
      " 11%|█         | 9/83 [00:00<00:04, 15.38it/s]"
     ]
    },
    {
     "name": "stdout",
     "output_type": "stream",
     "text": [
      "249.45833333333334\n"
     ]
    },
    {
     "name": "stderr",
     "output_type": "stream",
     "text": [
      " 16%|█▌        | 13/83 [00:01<00:08,  8.25it/s]"
     ]
    },
    {
     "name": "stdout",
     "output_type": "stream",
     "text": [
      "250.7\n",
      "250.7\n",
      "250.28481012658227\n",
      "241.63917525773195\n"
     ]
    },
    {
     "name": "stderr",
     "output_type": "stream",
     "text": [
      " 20%|██        | 17/83 [00:01<00:05, 11.36it/s]"
     ]
    },
    {
     "name": "stdout",
     "output_type": "stream",
     "text": [
      "244.71428571428572\n",
      "245.31578947368422\n",
      "228.56363636363636\n",
      "246.4561403508772\n"
     ]
    },
    {
     "name": "stderr",
     "output_type": "stream",
     "text": [
      " 24%|██▍       | 20/83 [00:01<00:04, 13.95it/s]"
     ]
    },
    {
     "name": "stdout",
     "output_type": "stream",
     "text": [
      "231.4\n",
      "241.63917525773195\n",
      "241.63917525773195\n",
      "249.2608695652174\n"
     ]
    },
    {
     "name": "stderr",
     "output_type": "stream",
     "text": [
      " 29%|██▉       | 24/83 [00:02<00:04, 14.55it/s]"
     ]
    },
    {
     "name": "stdout",
     "output_type": "stream",
     "text": [
      "243.5\n",
      "245.70909090909092\n",
      "246.4561403508772\n",
      "243.7942857142857\n"
     ]
    },
    {
     "name": "stderr",
     "output_type": "stream",
     "text": [
      " 34%|███▎      | 28/83 [00:02<00:03, 15.78it/s]"
     ]
    },
    {
     "name": "stdout",
     "output_type": "stream",
     "text": [
      "231.4\n",
      "241.63917525773195\n",
      "250.7\n"
     ]
    },
    {
     "name": "stderr",
     "output_type": "stream",
     "text": [
      " 39%|███▊      | 32/83 [00:02<00:03, 12.83it/s]"
     ]
    },
    {
     "name": "stdout",
     "output_type": "stream",
     "text": [
      "245.72\n",
      "245.70909090909092\n",
      "244.71428571428572\n",
      "228.56363636363636\n"
     ]
    },
    {
     "name": "stderr",
     "output_type": "stream",
     "text": [
      " 41%|████      | 34/83 [00:02<00:03, 12.67it/s]"
     ]
    },
    {
     "name": "stdout",
     "output_type": "stream",
     "text": [
      "228.56363636363636\n",
      "249.12280701754386\n",
      "245.72\n"
     ]
    },
    {
     "name": "stderr",
     "output_type": "stream",
     "text": [
      " 46%|████▌     | 38/83 [00:03<00:03, 14.22it/s]"
     ]
    },
    {
     "name": "stdout",
     "output_type": "stream",
     "text": [
      "245.70909090909092\n",
      "243.7942857142857\n",
      "250.28481012658227\n",
      "249.12280701754386\n"
     ]
    },
    {
     "name": "stderr",
     "output_type": "stream",
     "text": [
      " 51%|█████     | 42/83 [00:03<00:02, 14.22it/s]"
     ]
    },
    {
     "name": "stdout",
     "output_type": "stream",
     "text": [
      "243.7942857142857\n",
      "245.31578947368422\n",
      "243.5\n",
      "243.7942857142857\n"
     ]
    },
    {
     "name": "stderr",
     "output_type": "stream",
     "text": [
      " 55%|█████▌    | 46/83 [00:03<00:02, 15.12it/s]"
     ]
    },
    {
     "name": "stdout",
     "output_type": "stream",
     "text": [
      "244.71428571428572\n",
      "243.7942857142857\n",
      "250.7\n",
      "249.2608695652174\n"
     ]
    },
    {
     "name": "stderr",
     "output_type": "stream",
     "text": [
      " 60%|██████    | 50/83 [00:03<00:02, 12.50it/s]"
     ]
    },
    {
     "name": "stdout",
     "output_type": "stream",
     "text": [
      "245.31578947368422\n",
      "230.48535564853557\n",
      "228.56363636363636\n",
      "230.48535564853557\n"
     ]
    },
    {
     "name": "stderr",
     "output_type": "stream",
     "text": [
      " 65%|██████▌   | 54/83 [00:04<00:02, 13.76it/s]"
     ]
    },
    {
     "name": "stdout",
     "output_type": "stream",
     "text": [
      "245.72\n",
      "250.28481012658227\n",
      "231.4\n"
     ]
    },
    {
     "name": "stderr",
     "output_type": "stream",
     "text": [
      " 67%|██████▋   | 56/83 [00:04<00:01, 13.78it/s]"
     ]
    },
    {
     "name": "stdout",
     "output_type": "stream",
     "text": [
      "245.31578947368422\n",
      "250.7\n",
      "249.12280701754386\n"
     ]
    },
    {
     "name": "stderr",
     "output_type": "stream",
     "text": [
      " 72%|███████▏  | 60/83 [00:04<00:01, 14.14it/s]"
     ]
    },
    {
     "name": "stdout",
     "output_type": "stream",
     "text": [
      "245.72\n",
      "231.4\n",
      "244.71428571428572\n"
     ]
    },
    {
     "name": "stderr",
     "output_type": "stream",
     "text": [
      " 75%|███████▍  | 62/83 [00:04<00:01, 13.20it/s]"
     ]
    },
    {
     "name": "stdout",
     "output_type": "stream",
     "text": [
      "249.12280701754386\n",
      "249.12280701754386\n",
      "245.72\n"
     ]
    },
    {
     "name": "stderr",
     "output_type": "stream",
     "text": [
      " 80%|███████▉  | 66/83 [00:05<00:01, 14.35it/s]"
     ]
    },
    {
     "name": "stdout",
     "output_type": "stream",
     "text": [
      "246.4561403508772\n",
      "241.63917525773195\n",
      "243.5\n",
      "246.4561403508772\n"
     ]
    },
    {
     "name": "stderr",
     "output_type": "stream",
     "text": [
      " 82%|████████▏ | 68/83 [00:05<00:01, 14.52it/s]"
     ]
    },
    {
     "name": "stdout",
     "output_type": "stream",
     "text": [
      "250.28481012658227\n",
      "230.48535564853557\n"
     ]
    },
    {
     "name": "stderr",
     "output_type": "stream",
     "text": [
      " 87%|████████▋ | 72/83 [00:05<00:00, 11.87it/s]"
     ]
    },
    {
     "name": "stdout",
     "output_type": "stream",
     "text": [
      "244.71428571428572\n",
      "230.48535564853557\n",
      "249.12280701754386\n"
     ]
    },
    {
     "name": "stderr",
     "output_type": "stream",
     "text": [
      " 92%|█████████▏| 76/83 [00:05<00:00, 13.77it/s]"
     ]
    },
    {
     "name": "stdout",
     "output_type": "stream",
     "text": [
      "245.31578947368422\n",
      "228.56363636363636\n",
      "241.63917525773195\n",
      "231.4\n"
     ]
    },
    {
     "name": "stderr",
     "output_type": "stream",
     "text": [
      " 94%|█████████▍| 78/83 [00:06<00:00, 14.35it/s]"
     ]
    },
    {
     "name": "stdout",
     "output_type": "stream",
     "text": [
      "244.71428571428572\n",
      "243.7942857142857\n",
      "249.45833333333334\n"
     ]
    },
    {
     "name": "stderr",
     "output_type": "stream",
     "text": [
      " 99%|█████████▉| 82/83 [00:06<00:00, 13.01it/s]"
     ]
    },
    {
     "name": "stdout",
     "output_type": "stream",
     "text": [
      "246.4561403508772\n",
      "245.31578947368422\n",
      "245.70909090909092\n"
     ]
    },
    {
     "name": "stderr",
     "output_type": "stream",
     "text": [
      "100%|██████████| 83/83 [00:06<00:00, 12.89it/s]"
     ]
    },
    {
     "name": "stdout",
     "output_type": "stream",
     "text": [
      "245.70909090909092\n"
     ]
    },
    {
     "name": "stderr",
     "output_type": "stream",
     "text": [
      "\n"
     ]
    }
   ],
   "source": [
    "res=[]\n",
    "np.random.shuffle(files)\n",
    "graph = nx.read_gpickle(files[0])\n",
    "df = nx.to_pandas_edgelist(graph)\n",
    "if 'forepaw' not in files[0]: \n",
    "    df['stim'] = np.repeat('optogenetic',len(df))\n",
    "    df['current'] = \"NA\"\n",
    "    df['frequency'] = \"NA\"\n",
    "elif 'forepaw' in files[0]: \n",
    "    df['stim'] = np.repeat('forepaw',len(df))\n",
    "    df['wavelength'] = \"NA\"\n",
    "    df['power'] = \"NA\"\n",
    "if '_0001' in files[0]:\n",
    "    df['scan'] = df['scan'] + '_0001'\n",
    "for file in tqdm(files[1:]):\n",
    "    graph = nx.read_gpickle(file)\n",
    "    edge_df = nx.to_pandas_edgelist(graph)\n",
    "    if 'forepaw' not in file: \n",
    "        edge_df['stim'] = np.repeat('optogenetic',len(edge_df))\n",
    "        edge_df['current'] = np.repeat('NA',len(edge_df))\n",
    "        edge_df['frequency'] = np.repeat('NA',len(edge_df))\n",
    "    elif 'forepaw' in file: \n",
    "        edge_df['stim'] = np.repeat('forepaw',len(edge_df))\n",
    "        edge_df['wavelength'] = np.repeat('NA',len(edge_df))\n",
    "        edge_df['power'] = np.repeat('NA',len(edge_df))\n",
    "    if '_0001' in file:\n",
    "        edge_df['scan'] = edge_df['scan'] + '_0001'\n",
    "    df = df.append(edge_df, ignore_index=True)\n",
    "    print(np.max(edge_df['mean_depth']))\n",
    "    if np.max(edge_df['mean_depth']) > 300:\n",
    "        print(file)\n",
    "        break\n",
    "df['mean_vessel_radii_baseline'] = 0\n",
    "df['std_vessel_radii_baseline'] = 0\n",
    "df['num_vessel_radii_baseline'] = 0\n",
    "df['scan'] = df['subject'] + '_' + df['scan']\n",
    "    #edge_df.to_excel(re.sub('matt_preds_graphs_fwhm_single','matt_preds_graphs_fwhm_single_excel',re.sub('.pickle','.xlsx',file)))\n",
    "    #res.append(len(edge_df))\n",
    "    #print(edge_df.shape"
   ]
  },
  {
   "cell_type": "code",
   "execution_count": 147,
   "id": "5b968725-e836-4251-a422-11f31a3a3de7",
   "metadata": {},
   "outputs": [
    {
     "data": {
      "text/plain": [
       "Index(['source', 'target', 'subject', 'treatment', 'neuron_distance_std',\n",
       "       'start_depth', 'end-0x', 'scan', 'branch order from vein', 'radii_std',\n",
       "       'path_weights_nrn', 'weight', 'imaging_weight', 'neuron_distance_min',\n",
       "       'gender', 'end-1z', 'power', 'end-0y', 'wavelength', 'vessel_id',\n",
       "       'euclidean-dst', 'mean_depth', 'radii', 'mean_neuron_distance', 'pts',\n",
       "       'path_weights', 'start_weight', 'end-1x', 'branch order', 'age',\n",
       "       'path_weights_uncertanty', 'end-0z', 'days_post_injury', 'end-1y',\n",
       "       'A_V_C', 'stim', 'current', 'frequency', 'mean_vessel_radii_baseline',\n",
       "       'std_vessel_radii_baseline', 'num_vessel_radii_baseline'],\n",
       "      dtype='object')"
      ]
     },
     "execution_count": 147,
     "metadata": {},
     "output_type": "execute_result"
    }
   ],
   "source": [
    "df.keys()"
   ]
  },
  {
   "cell_type": "code",
   "execution_count": 151,
   "id": "28db8f7c-628c-4ff6-a64f-2d31975da3cc",
   "metadata": {},
   "outputs": [
    {
     "data": {
      "text/plain": [
       "250.7"
      ]
     },
     "execution_count": 151,
     "metadata": {},
     "output_type": "execute_result"
    }
   ],
   "source": [
    "np.max(df['mean_depth'])"
   ]
  },
  {
   "cell_type": "code",
   "execution_count": 149,
   "id": "ae9f9f65-d416-4789-ae96-524d597ae13e",
   "metadata": {},
   "outputs": [
    {
     "name": "stderr",
     "output_type": "stream",
     "text": [
      "100%|██████████| 9173/9173 [00:44<00:00, 205.77it/s]\n"
     ]
    }
   ],
   "source": [
    "for i in tqdm(np.unique(df['vessel_id'])):\n",
    "    df['mean_vessel_radii_baseline'].iloc[np.where(df['vessel_id']==i)] = np.mean(df.iloc[np.where(df['vessel_id']==i)][~df.iloc[np.where(df['vessel_id']==i)]['scan'].str.contains('_0001')]['radii'])\n",
    "    df['std_vessel_radii_baseline'].iloc[np.where(df['vessel_id']==i)] = np.std(df.iloc[np.where(df['vessel_id']==i)][~df.iloc[np.where(df['vessel_id']==i)]['scan'].str.contains('_0001')]['radii'])\n",
    "    df['num_vessel_radii_baseline'].iloc[np.where(df['vessel_id']==i)] = len(df.iloc[np.where(df['vessel_id']==i)][~df.iloc[np.where(df['vessel_id']==i)]['scan'].str.contains('_0001')]['radii'])\n"
   ]
  },
  {
   "cell_type": "code",
   "execution_count": null,
   "id": "5c7b5d3b-2e1c-4173-b5e5-88441573f83f",
   "metadata": {},
   "outputs": [],
   "source": []
  },
  {
   "cell_type": "code",
   "execution_count": 150,
   "id": "9ac5b147-aaa7-4680-8c46-e9675860bf8e",
   "metadata": {},
   "outputs": [
    {
     "name": "stderr",
     "output_type": "stream",
     "text": [
      "100%|██████████| 24282/24282 [01:28<00:00, 274.23it/s]\n"
     ]
    }
   ],
   "source": [
    "# Create a mask for rows containing '_0001'\n",
    "mask = df['scan'].str.contains('_0001')\n",
    "\n",
    "# Set 'delta_radii' and 'timepoint' for rows without '_0001'\n",
    "df.loc[~mask, ['delta_radii', 'timepoint']] = [0, 0]\n",
    "\n",
    "# Set 'timepoint' for rows with '_0001'\n",
    "df.loc[mask, 'timepoint'] = 1\n",
    "\n",
    "# Find unique scan values\n",
    "unique_scans = np.unique(df['scan'])\n",
    "\n",
    "# Iterate over the rows with '_0001'\n",
    "for i in tqdm(df[mask].index):\n",
    "    scan_without_suffix = df.at[i, 'scan'].replace('_0001', '')\n",
    "    if scan_without_suffix in unique_scans:\n",
    "        # Find the corresponding row index for the matching scan and vessel_id\n",
    "        match_mask = (df['scan'] == scan_without_suffix) & (df['vessel_id'] == df.at[i, 'vessel_id'])\n",
    "        match_idx = df[match_mask].index\n",
    "        if not match_idx.empty:\n",
    "            # Calculate 'delta_radii' using the matching row index\n",
    "            df.at[i, 'delta_radii'] = df.at[i, 'radii'] - df.at[match_idx[0], 'radii']\n",
    "        else:\n",
    "            df.at[i, 'delta_radii'] = np.nan\n",
    "    else:\n",
    "        df.at[i, 'delta_radii'] = np.nan"
   ]
  },
  {
   "cell_type": "code",
   "execution_count": null,
   "id": "6d753ea5-3c4c-4008-ad77-9ee67788e27e",
   "metadata": {},
   "outputs": [],
   "source": [
    "#df['delta_radii'] = 0\n",
    "#df['timepoint'] = '_'\n",
    "#for i in tqdm(range(len(df))):\n",
    "#    if '_0001' not in df.iloc[i]['scan']:\n",
    "#        df['delta_radii'].iloc[i] = 0\n",
    "#        df['timepoint'].iloc[i] = 'pre-stimulus'\n",
    "#    elif '_0001' in df.iloc[i]['scan']:\n",
    "#        df['timepoint'].iloc[i] = 'post-stimulus'\n",
    "#        if re.sub('_0001','',df.iloc[i]['scan']) in np.unique(df['scan']):\n",
    "#            df['delta_radii'].iloc[i] = df['radii'].iloc[i] - df['radii'].iloc[np.where((df['scan'] == re.sub('_0001','',df.iloc[i]['scan'])) & (df['vessel_id']==df.iloc[i]['vessel_id']))]\n",
    "#        elif re.sub('_0001','',df.iloc[i]['scan']) not in np.unique(df['scan']):\n",
    "#            df['delta_radii'].iloc[i] = \"NA\"\n",
    "#        else:\n",
    "#            print('error')\n",
    "#            break\n",
    "#    else:\n",
    "#        print('error')\n",
    "#        break"
   ]
  },
  {
   "cell_type": "code",
   "execution_count": 22,
   "id": "c8f6466a-7a1e-4f79-9fd1-f65990626d75",
   "metadata": {},
   "outputs": [
    {
     "data": {
      "text/plain": [
       "0.0"
      ]
     },
     "execution_count": 22,
     "metadata": {},
     "output_type": "execute_result"
    }
   ],
   "source": [
    "np.sum(df[\"timepoint\"])"
   ]
  },
  {
   "cell_type": "code",
   "execution_count": 152,
   "id": "ca55bbb3-9ae6-4500-bf29-05c2e9e7c87d",
   "metadata": {},
   "outputs": [],
   "source": [
    "df.to_excel('matt_preds_graphs_fwhm_single_excel/results_james.xlsx')"
   ]
  },
  {
   "cell_type": "code",
   "execution_count": 35,
   "id": "11a62776-188f-4950-bebf-ce025c34412d",
   "metadata": {},
   "outputs": [],
   "source": [
    "df = pd.read_excel('matt_preds_graphs_fwhm_single_excel/results.xlsx')"
   ]
  },
  {
   "cell_type": "code",
   "execution_count": 36,
   "id": "00f1cd72-5ad0-4285-a054-a3eec9116660",
   "metadata": {},
   "outputs": [
    {
     "data": {
      "text/plain": [
       "41"
      ]
     },
     "execution_count": 36,
     "metadata": {},
     "output_type": "execute_result"
    }
   ],
   "source": [
    "len(df.keys())"
   ]
  },
  {
   "cell_type": "code",
   "execution_count": 37,
   "id": "c28371d0-9bed-45b8-a09f-49e9da91ca9b",
   "metadata": {},
   "outputs": [
    {
     "data": {
      "text/plain": [
       "38"
      ]
     },
     "execution_count": 37,
     "metadata": {},
     "output_type": "execute_result"
    }
   ],
   "source": [
    "df = df.drop('path_weights_nrn',axis=1)\n",
    "df = df.drop('path_weights_uncertanty',axis=1)\n",
    "df = df.drop('path_weights',axis=1)\n",
    "len(df.keys())"
   ]
  },
  {
   "cell_type": "code",
   "execution_count": 42,
   "id": "16315e4d-7b16-43b2-bc6c-e19401ba30cb",
   "metadata": {},
   "outputs": [],
   "source": [
    "df.to_excel('matt_preds_graphs_fwhm_single_excel/results.xlsx')"
   ]
  },
  {
   "cell_type": "code",
   "execution_count": 39,
   "id": "d3cec892-0c4f-4c35-9ffc-ae53247af6e3",
   "metadata": {},
   "outputs": [
    {
     "name": "stdout",
     "output_type": "stream",
     "text": [
      "Ignoring pip: markers 'python_version < \"3\"' don't match your environment\n",
      "Looking in links: /cvmfs/soft.computecanada.ca/custom/python/wheelhouse/gentoo/avx2, /cvmfs/soft.computecanada.ca/custom/python/wheelhouse/gentoo/generic, /cvmfs/soft.computecanada.ca/custom/python/wheelhouse/generic\n",
      "\u001b[33mWARNING: Retrying (Retry(total=4, connect=None, read=None, redirect=None, status=None)) after connection broken by 'NewConnectionError('<pip._vendor.urllib3.connection.VerifiedHTTPSConnection object at 0x1548e5c494f0>: Failed to establish a new connection: [Errno 101] Network is unreachable')': /simple/pyarrow/\u001b[0m\n",
      "\u001b[33mWARNING: Retrying (Retry(total=3, connect=None, read=None, redirect=None, status=None)) after connection broken by 'NewConnectionError('<pip._vendor.urllib3.connection.VerifiedHTTPSConnection object at 0x1548e5c496d0>: Failed to establish a new connection: [Errno 101] Network is unreachable')': /simple/pyarrow/\u001b[0m\n",
      "\u001b[33mWARNING: Retrying (Retry(total=2, connect=None, read=None, redirect=None, status=None)) after connection broken by 'NewConnectionError('<pip._vendor.urllib3.connection.VerifiedHTTPSConnection object at 0x1548e5c49880>: Failed to establish a new connection: [Errno 101] Network is unreachable')': /simple/pyarrow/\u001b[0m\n",
      "^C\n",
      "\u001b[31mERROR: Operation cancelled by user\u001b[0m\n"
     ]
    }
   ],
   "source": [
    "!pip install pyarrow"
   ]
  },
  {
   "cell_type": "code",
   "execution_count": 81,
   "id": "50698ce5-057f-4f53-a8f5-cf242a41f320",
   "metadata": {},
   "outputs": [
    {
     "data": {
      "text/plain": [
       "array(['female', 'male'], dtype=object)"
      ]
     },
     "execution_count": 81,
     "metadata": {},
     "output_type": "execute_result"
    }
   ],
   "source": [
    "np.unique(df['gender'])"
   ]
  },
  {
   "cell_type": "code",
   "execution_count": 42,
   "id": "5ac1ae98-4077-4275-928f-7103c23f3cc4",
   "metadata": {},
   "outputs": [
    {
     "name": "stderr",
     "output_type": "stream",
     "text": [
      "100%|█████████████████████████████████████████| 614/614 [07:04<00:00,  1.45it/s]\n"
     ]
    }
   ],
   "source": [
    "scans = sorted(list(np.unique(df['scan'])))\n",
    "_scans = [re.sub('vbm','',re.sub('TBI','',re.sub('SHAM','',re.sub('_3D','',x)))) + '_warped' for x in scans]\n",
    "for file in tqdm(files[::-1]):\n",
    "    graph = nx.read_gpickle(file)\n",
    "    _file = re.sub(' 2020_',' ',re.sub('-xyz','_xyz',re.sub('-XYZ','_XYZ',file)))\n",
    "    if ' ' in _file:\n",
    "        _file = _file.split(' ')[0] + '_' + _file.split(' ')[-1]\n",
    "    match_file = list(filter(lambda str: str in _file, _scans))\n",
    "    if len(match_file) == 1:\n",
    "        scan = np.array(scans)[np.array(_scans) == match_file[0]][0]\n",
    "        df_subset = df[df[\"scan\"] == scan]\n",
    "        if len(df_subset) == len(graph.edges):\n",
    "            for i in range(len(df_subset)):\n",
    "                graph[df_subset.iloc[i]['source']][df_subset.iloc[i]['target']]['mean_vessel_radii_baseline'] = df_subset.iloc[i]['mean_vessel_radii_baseline']\n",
    "                graph[df_subset.iloc[i]['source']][df_subset.iloc[i]['target']]['std_vessel_radii_baseline'] = df_subset.iloc[i]['std_vessel_radii_baseline']\n",
    "                graph[df_subset.iloc[i]['source']][df_subset.iloc[i]['target']]['num_vessel_radii_baseline'] = df_subset.iloc[i]['num_vessel_radii_baseline']\n",
    "                graph[df_subset.iloc[i]['source']][df_subset.iloc[i]['target']]['delta_radii'] = df_subset.iloc[i]['delta_radii']\n",
    "                graph[df_subset.iloc[i]['source']][df_subset.iloc[i]['target']]['timepoint'] = df_subset.iloc[i]['timepoint']\n",
    "            nx.write_gpickle(graph,re.sub('.pickle','_full.pickle',file))"
   ]
  },
  {
   "cell_type": "code",
   "execution_count": null,
   "id": "9c3f7224-1c8e-4c57-aec2-78f6d024edf7",
   "metadata": {},
   "outputs": [],
   "source": [
    "re.sub('.pickle','_full.pickle',file)"
   ]
  },
  {
   "cell_type": "code",
   "execution_count": null,
   "id": "1514e80c",
   "metadata": {},
   "outputs": [],
   "source": []
  },
  {
   "cell_type": "code",
   "execution_count": null,
   "id": "4d487cdd-5b69-412d-a3b9-579bb9962580",
   "metadata": {},
   "outputs": [],
   "source": [
    "scan"
   ]
  },
  {
   "cell_type": "code",
   "execution_count": null,
   "id": "f1a3e0f3-a324-4f40-9b39-caa755e6e2cf",
   "metadata": {},
   "outputs": [],
   "source": [
    "match_file\n",
    "\n"
   ]
  },
  {
   "cell_type": "code",
   "execution_count": null,
   "id": "68d12e89-ac5e-4158-99df-31a6bef2f156",
   "metadata": {},
   "outputs": [],
   "source": [
    "_scans = [re.sub('vbm','',re.sub('TBI','',re.sub('SHAM','',re.sub('_3D','',x)))) for x in scans]\n",
    "_scans"
   ]
  },
  {
   "cell_type": "code",
   "execution_count": null,
   "id": "2f0b347f-7558-46a2-9a7d-41b00f0e45a6",
   "metadata": {},
   "outputs": [],
   "source": [
    "df['subject']"
   ]
  },
  {
   "cell_type": "markdown",
   "id": "c7edf396-7373-4a47-a8ad-d76cce2f7e3e",
   "metadata": {},
   "source": [
    "# radii via path gradient"
   ]
  },
  {
   "cell_type": "code",
   "execution_count": null,
   "id": "a634549f-9913-492d-8332-fd8b5f879ec9",
   "metadata": {},
   "outputs": [],
   "source": [
    "from matplotlib.patches import Circle\n",
    "from skimage.feature import peak_local_max\n",
    "import imageio\n",
    "plt.rcParams['figure.figsize'] = [15, 15]\n",
    "\n",
    "def closest_node(node, nodes):\n",
    "    nodes = np.asarray(nodes)\n",
    "    dist_2 = np.sum((nodes - node)**2, axis=1)\n",
    "    if np.min(dist_2)>10:\n",
    "        return node\n",
    "    else:\n",
    "        return nodes[np.argmin(dist_2)]\n",
    "\n",
    "sampling = 1/5\n",
    "\n",
    "min_prob = 0.75\n",
    "max_var = 0.1\n",
    "for i in tqdm(range(len(graph.edges))):\n",
    "    path = graph[list(graph.edges)[i][0]][list(graph.edges)[i][1]]['pts']\n",
    "    _pred_radii = np.mean(seg_dst[path[::-1,0],path[::-1,1],path[::-1,2]])\n",
    "    _pred_radii_max = np.max(seg_dst[path[::-1,0],path[::-1,1],path[::-1,2]])\n",
    "    if _pred_radii == 0:\n",
    "        _pred_radii =1\n",
    "    _pred_radii_0001 = np.mean(seg_0001_dst[path[::-1,0],path[::-1,1],path[::-1,2]])\n",
    "    _pred_radii_max_0001 = np.max(seg_0001_dst[path[::-1,0],path[::-1,1],path[::-1,2]])\n",
    "    if _pred_radii_0001 == 0:\n",
    "        _pred_radii_0001 =1\n",
    "    \n",
    "    _box_fit = max([np.int16(_pred_radii_max)+15, np.int16(_pred_radii_max_0001)+15, 10])\n",
    "    #path_grad = np.gradient(path,edge_order=2)[0]\n",
    "    path_smooth = np.float32(np.copy(path))\n",
    "    for k in range(len(path[0])):\n",
    "        path_smooth[:,k] = sp.ndimage.gaussian_filter1d(np.float64(path[:,k]),3,mode='nearest')\n",
    "    path_grad = np.gradient(path_smooth,edge_order=2)[0]\n",
    "    res_fwhm = []\n",
    "    res_fwhm_0001 = []\n",
    "    X = np.arange(-1*_box_fit,_box_fit+1,1)\n",
    "    Y = np.arange(-1*_box_fit,_box_fit+1,1)\n",
    "    x,y = np.meshgrid(X,Y)\n",
    "    x = x.flatten()\n",
    "    y = y.flatten()\n",
    "    z = np.zeros(len(x))\n",
    "    xy = np.vstack([x,y,z])\n",
    "    \n",
    "    \n",
    "    res_fwhm = []\n",
    "    res_fwhm_0001 = []\n",
    "    \n",
    "    res_fwhm_sigma = []\n",
    "    res_fwhm_sigma_0001 = []\n",
    "    \n",
    "    for I in tqdm(range(len(path))):\n",
    "        point_grad = path_grad[I]\n",
    "        point = path[I]\n",
    "        if all(point_grad[0:2] == [0,0]) and abs(point_grad[2]/point_grad[2]) == 1:\n",
    "            rotated = xy.T + point\n",
    "        else:\n",
    "            rotated = _rotmat(point_grad,xy.T) + point\n",
    "        points_img = sp.ndimage.map_coordinates(#np.int16(mean[1]*1024),\n",
    "                                            deconv_img,\n",
    "                                            rotated.T, \n",
    "                                            order=1,\n",
    "                                            mode='constant')\n",
    "        points_img_0001 = sp.ndimage.map_coordinates(#np.int16(mean_0001[1]*1024),\n",
    "                                                 deconv_img_0001,\n",
    "                                                 rotated.T, \n",
    "                                                 order=1,\n",
    "                                                 mode='constant')\n",
    "                \n",
    "        points_img = np.reshape(points_img,(len(X),len(Y)))\n",
    "        points_img = sp.ndimage.gaussian_filter(points_img, sigma = np.min([_pred_radii,_pred_radii_0001])*.4)\n",
    "        #points_img = sp.ndimage.median_filter(points_img, size = np.int32(np.max([np.min([_pred_radii,_pred_radii_0001])*.4,1])))\n",
    "        points_img_0001 = np.reshape(points_img_0001,(len(X),len(Y)))\n",
    "        points_img_0001 = sp.ndimage.gaussian_filter(points_img_0001, sigma = np.min([_pred_radii,_pred_radii_0001])*.4)\n",
    "        #points_img_0001 = sp.ndimage.median_filter(points_img_0001, size = np.int32(np.max([np.min([_pred_radii,_pred_radii_0001])*.4,1])))\n",
    "        \n",
    "        _point = np.array(np.arange(0,np.max([_pred_radii,_pred_radii_0001])+10,sampling))\n",
    "        _zeros = np.zeros(len(_point))\n",
    "        _point = np.array([_point,_zeros])\n",
    "        _centre = closest_node([len(X)//2+1,len(Y)//2+1],peak_local_max(points_img.T))\n",
    "        _centre_0001 = closest_node([len(X)//2+1,len(Y)//2+1],peak_local_max(points_img_0001.T))\n",
    "        \n",
    "        _res = []\n",
    "        \n",
    "        fig,ax = plt.subplots(1)\n",
    "        ax.set_aspect('equal')\n",
    "        ax.imshow(points_img,\n",
    "                  vmin = 0,\n",
    "                  vmax = np.max(deconv_img))\n",
    "        ax.scatter(_centre[0],_centre[1])\n",
    "        for deg in np.arange(0,360,10):\n",
    "            rot_point = np.dot(np.array([[np.cos(np.deg2rad(deg)),-1*np.sin(np.deg2rad(deg))],[np.sin(np.deg2rad(deg)),np.cos(np.deg2rad(deg))]]),_point)\n",
    "            rot_point[0] = rot_point[0] + _centre[0]\n",
    "            rot_point[1] = rot_point[1] + _centre[1]\n",
    "            points_vals = sp.ndimage.map_coordinates(points_img.T,\n",
    "                                                     rot_point, \n",
    "                                                     order=3,\n",
    "                                                     cval=0)\n",
    "            points_vals = sp.ndimage.gaussian_filter1d(points_vals,sigma=np.min([_pred_radii,_pred_radii_0001])*.4/sampling)\n",
    "            points_vals_grad = np.gradient(points_vals)\n",
    "            #plt.scatter(*rot_point,\n",
    "            #            c=points_vals,\n",
    "            #            vmin=np.min(points_vals), \n",
    "            #            vmax=np.max(points_vals))\n",
    "            _ = np.array(sp.signal.argrelextrema(points_vals + np.random.uniform(-1e-5,1e-5,len(points_vals)),np.less,order=3))\n",
    "            if _.shape[1] != 0:\n",
    "                points_vals_grad = np.gradient(points_vals[:_[0,0]+3])\n",
    "                _ = np.argmin(points_vals_grad)\n",
    "                _res.append(_*sampling)\n",
    "                ax.scatter(_*sampling*np.cos(np.deg2rad(deg))+_centre[0],_*sampling*np.sin(np.deg2rad(deg))+_centre[1],color='r')\n",
    "            else:\n",
    "                points_vals_grad = np.gradient(points_vals)\n",
    "                _ = np.argmin(points_vals_grad)\n",
    "                _res.append(_*sampling)\n",
    "                ax.scatter(_*sampling*np.cos(np.deg2rad(deg))+_centre[0],_*sampling*np.sin(np.deg2rad(deg))+_centre[1],color='r')\n",
    "        _res = np.array(_res)\n",
    "        _res = _res[np.where(_res!=0)]\n",
    "        _mean = np.mean(_res)\n",
    "        _std = np.std(_res)\n",
    "        _mask = np.where(np.logical_and(_res>_mean-2*_std, _res<_mean+2*_std))\n",
    "        _res = _res[_mask]\n",
    "        radii = np.mean(_res)\n",
    "        circ = Circle(_centre,radii,fill=False)\n",
    "        #ax.scatter(_centre[0],_centre[1],color='blue')\n",
    "        ax.add_patch(circ)\n",
    "        fig.savefig('/home/rozakmat/scratch/_tmp/'+str(i)+'_'+str(I)+'.png')\n",
    "        plt.show()\n",
    "        #plt.clf()\n",
    "        _res_0001 = []\n",
    "        fig,ax = plt.subplots(1)\n",
    "        ax.set_aspect('equal')\n",
    "        ax.imshow(points_img_0001,\n",
    "                  vmin = 0,\n",
    "                  vmax = np.max(deconv_img_0001))\n",
    "        ax.scatter(_centre_0001[0],_centre_0001[1])\n",
    "        for deg in np.arange(0,360,10):\n",
    "            rot_point = np.dot(np.array([[np.cos(np.deg2rad(deg)),-1*np.sin(np.deg2rad(deg))],[np.sin(np.deg2rad(deg)),np.cos(np.deg2rad(deg))]]),_point)\n",
    "            rot_point[0] = rot_point[0] + _centre_0001[0]\n",
    "            rot_point[1] = rot_point[1] + _centre_0001[1]\n",
    "            points_vals = sp.ndimage.map_coordinates(points_img_0001.T,\n",
    "                                                     rot_point, \n",
    "                                                     order=3,\n",
    "                                                     cval=0)\n",
    "            points_vals = sp.ndimage.gaussian_filter1d(points_vals,sigma=np.min([_pred_radii,_pred_radii_0001])*.4/sampling)\n",
    "            points_vals_grad = np.gradient(points_vals)\n",
    "            #plt.scatter(*rot_point,\n",
    "            #            c=points_vals,\n",
    "            #            vmin=np.min(points_vals), \n",
    "            #            vmax=np.max(points_vals))\n",
    "            _ = np.array(sp.signal.argrelextrema(points_vals + np.random.uniform(-1e-5,1e-5,len(points_vals)),np.less,order=3))\n",
    "            if _.shape[1] != 0:\n",
    "                points_vals_grad = np.gradient(points_vals[:_[0,0]+3])\n",
    "                _ = np.argmin(points_vals_grad)\n",
    "                _res_0001.append(_*sampling)\n",
    "                ax.scatter(_*sampling*np.cos(np.deg2rad(deg))+_centre_0001[0],_*sampling*np.sin(np.deg2rad(deg))+_centre_0001[1],color='r')\n",
    "            else:\n",
    "                points_vals_grad = np.gradient(points_vals)\n",
    "                _ = np.argmin(points_vals_grad)\n",
    "                _res_0001.append(_*sampling)\n",
    "                ax.scatter(_*sampling*np.cos(np.deg2rad(deg))+_centre_0001[0],_*sampling*np.sin(np.deg2rad(deg))+_centre_0001[1],color='r')\n",
    "        _res_0001 = np.array(_res_0001)\n",
    "        _res_0001 = _res_0001[np.where(_res_0001!=0)]\n",
    "        _mean_0001 = np.mean(_res_0001)\n",
    "        _std_0001 = np.std(_res_0001)\n",
    "        _mask = np.where(np.logical_and(_res_0001>_mean_0001-2*_std_0001, _res_0001<_mean_0001+2*_std_0001))\n",
    "        _res_0001 = _res_0001[_mask]\n",
    "        radii_0001 = np.mean(_res_0001)\n",
    "        circ = Circle(_centre_0001,radii_0001,fill=False)\n",
    "        ax.add_patch(circ)\n",
    "        res_fwhm.append(radii)\n",
    "        res_fwhm_0001.append(radii_0001)\n",
    "        #plt.imshow(points_img)\n",
    "        #for i in range(len(_res)):\n",
    "        #ax.scatter(_centre_0001[0],_centre_0001[1],color='blue')\n",
    "        fig.savefig('/home/rozakmat/scratch/_tmp/'+str(i)+'_'+str(I)+'_0001.png')\n",
    "        plt.show()\n",
    "        #plt.clf()\n",
    "    images = []\n",
    "    for I in tqdm(range(len(path))):\n",
    "        images.append(imageio.imread('/home/rozakmat/scratch/_tmp/'+str(i)+'_'+str(I)+'_0001.png'))\n",
    "        os.remove('/home/rozakmat/scratch/_tmp/'+str(i)+'_'+str(I)+'_0001.png')\n",
    "    imageio.mimsave('/home/rozakmat/scratch/gifs/'+str(i)+'_0001.gif', images, format='GIF', fps=2)\n",
    "    for I in tqdm(range(len(path))):\n",
    "        images.append(imageio.imread('/home/rozakmat/scratch/_tmp/'+str(i)+'_'+str(I)+'.png'))\n",
    "        os.remove('/home/rozakmat/scratch/_tmp/'+str(i)+'_'+str(I)+'.png')\n",
    "    imageio.mimsave('/home/rozakmat/scratch/gifs/'+str(i)+'.gif', images, format='GIF', fps=2)\n",
    "    plt.plot(res_fwhm)\n",
    "    plt.plot(res_fwhm_0001)\n",
    "    plt.show()\n",
    "    break"
   ]
  },
  {
   "cell_type": "code",
   "execution_count": null,
   "id": "c790bdc8-6edc-4e38-a3f5-b80aba7a31fc",
   "metadata": {},
   "outputs": [],
   "source": [
    "len(_res)"
   ]
  },
  {
   "cell_type": "code",
   "execution_count": null,
   "id": "7df13528-29dd-4040-9837-67e2f5b14e86",
   "metadata": {},
   "outputs": [],
   "source": [
    "plt.plot(res_fwhm)\n",
    "plt.plot(res_fwhm_0001)\n",
    "print(np.mean(res_fwhm))\n",
    "print(np.mean(res_fwhm_0001))\n",
    "print(np.mean(res_fwhm_0001)-np.mean(res_fwhm))"
   ]
  },
  {
   "cell_type": "code",
   "execution_count": null,
   "id": "dcf279a7-7816-4b14-9b9b-4ef46851a917",
   "metadata": {},
   "outputs": [],
   "source": [
    "print(_pred_radii)\n",
    "#plt.scatter(*_point + len(x)//2 +1)\n",
    "_res = []\n",
    "for deg in np.arange(0,360,10):\n",
    "    rot_point = np.dot(np.array([[np.cos(np.deg2rad(deg)),-1*np.sin(np.deg2rad(deg))],[np.sin(np.deg2rad(deg)),np.cos(np.deg2rad(deg))]]),_point)\n",
    "    rot_point[0] = rot_point[0] + _centre_0001[0]\n",
    "    rot_point[1] = rot_point[1] + _centre_0001[1]\n",
    "    points_vals = sp.ndimage.map_coordinates(points_img_0001.T,\n",
    "                                             rot_point, \n",
    "                                             order=5,\n",
    "                                             cval=0)\n",
    "    points_vals = sp.ndimage.gaussian_filter1d(points_vals,sigma=_pred_radii/sampling)\n",
    "    points_vals = points_vals + np.random.uniform(-1e-5,1e-5,len(points_vals))\n",
    "    #plt.plot(points_vals)\n",
    "    #plt.show()\n",
    "    #points_vals_grad = np.gradient(points_vals)\n",
    "    _ = np.array(sp.signal.argrelextrema(points_vals,np.less,order=5))\n",
    "    #print(_)\n",
    "    if _.shape[1] != 0:\n",
    "        print(_)\n",
    "        #print(points_vals)\n",
    "        #print(_[0,0])\n",
    "        plt.plot(points_vals[:(_[0,0]+3)])\n",
    "        #plt.show()\n",
    "        points_vals_grad = np.gradient(points_vals[:_[0,0]+3])\n",
    "        _ = np.argmin(points_vals_grad)\n",
    "        _res.append(_*sampling)\n",
    "        #plt.plot(points_vals_grad)\n",
    "    else:\n",
    "        plt.plot(points_vals)\n",
    "        #plt.show()\n",
    "        points_vals_grad = np.gradient(points_vals)\n",
    "        _ = np.argmin(points_vals_grad)\n",
    "        _res.append(_*sampling)\n",
    "        #plt.plot(points_vals_grad)\n",
    "plt.show()\n",
    "_res = np.array(_res)\n",
    "plt.plot(_res)\n",
    "plt.show()\n",
    "#_mean = np.mean(_res)\n",
    "#_std = np.std(_res)\n",
    "#_mask = np.where(np.logical_and(_res>_mean-2*_std, _res<_mean+2*_std))\n",
    "#_res = _res[_mask]\n",
    "#plt.plot(_res)\n",
    "#plt.show()"
   ]
  },
  {
   "cell_type": "code",
   "execution_count": null,
   "id": "1684651e-315e-42c3-bb51-4d2b54626ca7",
   "metadata": {},
   "outputs": [],
   "source": [
    "fig,ax = plt.subplots(1)\n",
    "ax.set_aspect('equal')\n",
    "ax.imshow(points_img_0001)"
   ]
  },
  {
   "cell_type": "code",
   "execution_count": null,
   "id": "cc89bec5-7c3c-4ec8-bea1-832bbf44b3a3",
   "metadata": {},
   "outputs": [],
   "source": [
    "_[0,0]"
   ]
  },
  {
   "cell_type": "code",
   "execution_count": null,
   "id": "1888b6c6-9472-42f4-ad2f-3cc594ec8700",
   "metadata": {},
   "outputs": [],
   "source": [
    "plt.hist(_res)\n",
    "plt.show()"
   ]
  },
  {
   "cell_type": "code",
   "execution_count": null,
   "id": "4ac3525b-d7ef-4c63-acb0-ceaa7a5deabd",
   "metadata": {},
   "outputs": [],
   "source": [
    "_res = np.array(_res)\n",
    "_mean = np.mean(_res)\n",
    "_std = np.std(_res)\n",
    "_mask = np.where(np.logical_and(_res>_mean-_std, _res<_mean+_std))\n",
    "_res = _res[_mask]\n",
    "plt.hist(_res)\n",
    "plt.show()\n",
    "#_mask"
   ]
  },
  {
   "cell_type": "code",
   "execution_count": null,
   "id": "03dcc75e-bab8-46aa-abe9-273b5e88776d",
   "metadata": {},
   "outputs": [],
   "source": [
    "for i in tqdm(range(len(graph.edges))):\n",
    "    path = graph[list(graph.edges)[i][0]][list(graph.edges)[i][1]]['pts']\n",
    "    _pred_radii = np.mean(seg_dst[path[::-1,0],path[::-1,1],path[::-1,2]])\n",
    "    _pred_radii_max = np.max(seg_dst[path[::-1,0],path[::-1,1],path[::-1,2]])\n",
    "    if _pred_radii == 0:\n",
    "        _pred_radii =1\n",
    "    _pred_radii_0001 = np.mean(seg_0001_dst[path[::-1,0],path[::-1,1],path[::-1,2]])\n",
    "    _pred_radii_max_0001 = np.max(seg_0001_dst[path[::-1,0],path[::-1,1],path[::-1,2]])\n",
    "    if _pred_radii_0001 == 0:\n",
    "        _pred_radii_0001 =1\n",
    "    \n",
    "    _box_fit = max([np.int16(_pred_radii_max)+10, np.int16(_pred_radii_max_0001)+10, 10])\n",
    "    #path_grad = np.gradient(path,edge_order=2)[0]\n",
    "    path_smooth = np.float32(np.copy(path))\n",
    "    for k in range(len(path[0])):\n",
    "        path_smooth[:,k] = sp.ndimage.gaussian_filter1d(np.float64(path[:,k]),3,mode='nearest')\n",
    "    path_grad = np.gradient(path_smooth,edge_order=2)[0]\n",
    "    res_fwhm = []\n",
    "    res_fwhm_0001 = []\n",
    "    X = np.arange(-1*_box_fit,_box_fit+1,1)\n",
    "    Y = np.arange(-1*_box_fit,_box_fit+1,1)\n",
    "    x,y = np.meshgrid(X,Y)\n",
    "    x = x.flatten()\n",
    "    y = y.flatten()\n",
    "    z = np.zeros(len(x))\n",
    "    xy = np.vstack([x,y,z])\n",
    "    \n",
    "    \n",
    "    res_fwhm = []\n",
    "    res_fwhm_0001 = []\n",
    "    \n",
    "    res_fwhm_sigma = []\n",
    "    res_fwhm_sigma_0001 = []\n",
    "    \n",
    "    def calc_fwhm_path(I):\n",
    "        point_grad = path_grad[I]\n",
    "        point = path[I]\n",
    "        if all(point_grad[0:2] == [0,0]) and abs(point_grad[2]/point_grad[2]) == 1:\n",
    "            rotated = xy.T + point\n",
    "        else:\n",
    "            rotated = _rotmat(point_grad,xy.T) + point\n",
    "        points_img = sp.ndimage.map_coordinates(#np.int16(mean[1]*1024),\n",
    "                                            deconv_img,\n",
    "                                            rotated.T, \n",
    "                                            order=3,\n",
    "                                            mode='constant')\n",
    "        points_img_0001 = sp.ndimage.map_coordinates(#np.int16(mean_0001[1]*1024),\n",
    "                                                 deconv_img_0001,\n",
    "                                                 rotated.T, \n",
    "                                                 order=3,\n",
    "                                                 mode='constant')\n",
    "                \n",
    "        points_img = np.reshape(points_img,(len(X),len(Y)))\n",
    "        points_img_no_smooth = np.copy(points_img)\n",
    "        points_img = sp.ndimage.gaussian_filter(points_img, sigma = np.min([_pred_radii,_pred_radii_0001])*.4)\n",
    "        #points_img = sp.ndimage.median_filter(points_img, size = np.int32(np.max([np.min([_pred_radii,_pred_radii_0001])*.4,1])))\n",
    "        points_img_0001 = np.reshape(points_img_0001,(len(X),len(Y)))\n",
    "        points_img_0001_no_smooth = np.copy(points_img_0001)\n",
    "        points_img_0001 = sp.ndimage.gaussian_filter(points_img_0001, sigma = np.min([_pred_radii,_pred_radii_0001])*.4)\n",
    "        #points_img_0001 = sp.ndimage.median_filter(points_img_0001, size = np.int32(np.max([np.min([_pred_radii,_pred_radii_0001])*.4,1])))\n",
    "        \n",
    "        _point = np.array(np.arange(0,np.max([_pred_radii,_pred_radii_0001])+20,sampling))\n",
    "        _zeros = np.zeros(len(_point))\n",
    "        _point = np.array([_point,_zeros])\n",
    "        _centre = closest_node([len(X)//2+1,len(Y)//2+1],peak_local_max(points_img.T))\n",
    "        _centre_0001 = closest_node([len(X)//2+1,len(Y)//2+1],peak_local_max(points_img_0001.T))\n",
    "        \n",
    "        _res = []\n",
    "        \n",
    "        fig,ax = plt.subplots(1)\n",
    "        ax.set_aspect('equal')\n",
    "        ax.imshow(points_img_no_smooth,\n",
    "                  vmin = 0,\n",
    "                  vmax = np.max(deconv_img))\n",
    "        ax.scatter(_centre[0],_centre[1])\n",
    "        for deg in np.arange(0,360,10):\n",
    "            rot_point = np.dot(np.array([[np.cos(np.deg2rad(deg)),-1*np.sin(np.deg2rad(deg))],[np.sin(np.deg2rad(deg)),np.cos(np.deg2rad(deg))]]),_point)\n",
    "            rot_point[0] = rot_point[0] + _centre[0]\n",
    "            rot_point[1] = rot_point[1] + _centre[1]\n",
    "            points_vals = sp.ndimage.map_coordinates(points_img.T,\n",
    "                                                     rot_point, \n",
    "                                                     order=3,\n",
    "                                                     cval=0)\n",
    "            points_vals = sp.ndimage.gaussian_filter1d(points_vals,sigma=np.min([_pred_radii,_pred_radii_0001])*.4/sampling)\n",
    "            points_vals_grad = np.gradient(points_vals)\n",
    "            #plt.scatter(*rot_point,\n",
    "            #            c=points_vals,\n",
    "            #            vmin=np.min(points_vals), \n",
    "            #            vmax=np.max(points_vals))\n",
    "            _ = np.array(sp.signal.argrelextrema(points_vals + np.random.uniform(-1e-5,1e-5,len(points_vals)),np.less,order=3))\n",
    "            if _.shape[1] != 0:\n",
    "                points_vals_grad = np.gradient(points_vals[:_[0,0]+3])\n",
    "                _ = np.argmin(points_vals_grad)\n",
    "                _res.append(_*sampling)\n",
    "                ax.scatter(_*sampling*np.cos(np.deg2rad(deg))+_centre[0],_*sampling*np.sin(np.deg2rad(deg))+_centre[1],color='r')\n",
    "            else:\n",
    "                points_vals_grad = np.gradient(points_vals)\n",
    "                _ = np.argmin(points_vals_grad)\n",
    "                _res.append(_*sampling)\n",
    "                ax.scatter(_*sampling*np.cos(np.deg2rad(deg))+_centre[0],_*sampling*np.sin(np.deg2rad(deg))+_centre[1],color='r')\n",
    "        _res = np.array(_res)\n",
    "        _res = _res[np.where(_res!=0)]\n",
    "        _mean = np.mean(_res)\n",
    "        _std = np.std(_res)\n",
    "        _mask = np.where(np.logical_and(_res>_mean-2*_std, _res<_mean+2*_std))\n",
    "        _res = _res[_mask]\n",
    "        radii = np.mean(_res)\n",
    "        circ = Circle(_centre,radii,fill=False)\n",
    "        ax.add_patch(circ)\n",
    "        ax.set_title(radii)\n",
    "        fig.savefig('/home/rozakmat/scratch/_tmp/'+str(i)+'_'+str(I)+'.png')\n",
    "        plt.clf()\n",
    "        _res_0001 = []\n",
    "        fig,ax = plt.subplots(1)\n",
    "        ax.set_aspect('equal')\n",
    "        ax.imshow(points_img_0001_no_smooth,\n",
    "                  vmin = 0,\n",
    "                  vmax = np.max(deconv_img_0001))\n",
    "        ax.scatter(_centre_0001[0],_centre_0001[1])\n",
    "        for deg in np.arange(0,360,10):\n",
    "            rot_point = np.dot(np.array([[np.cos(np.deg2rad(deg)),-1*np.sin(np.deg2rad(deg))],[np.sin(np.deg2rad(deg)),np.cos(np.deg2rad(deg))]]),_point)\n",
    "            rot_point[0] = rot_point[0] + _centre_0001[0]\n",
    "            rot_point[1] = rot_point[1] + _centre_0001[1]\n",
    "            points_vals = sp.ndimage.map_coordinates(points_img_0001.T,\n",
    "                                                     rot_point, \n",
    "                                                     order=3,\n",
    "                                                     cval=0)\n",
    "            points_vals = sp.ndimage.gaussian_filter1d(points_vals,sigma=np.min([_pred_radii,_pred_radii_0001])*.4/sampling)\n",
    "            points_vals_grad = np.gradient(points_vals)\n",
    "            _ = np.array(sp.signal.argrelextrema(points_vals + np.random.uniform(-1e-5,1e-5,len(points_vals)),np.less,order=3))\n",
    "            if _.shape[1] != 0:\n",
    "                points_vals_grad = np.gradient(points_vals[:_[0,0]+3])\n",
    "                _ = np.argmin(points_vals_grad)\n",
    "                if _ != 0:\n",
    "                    _res_0001.append(_*sampling)\n",
    "                    ax.scatter(_*sampling*np.cos(np.deg2rad(deg))+_centre_0001[0],_*sampling*np.sin(np.deg2rad(deg))+_centre_0001[1],color='r')\n",
    "            else:\n",
    "                points_vals_grad = np.gradient(points_vals)\n",
    "                _ = np.argmin(points_vals_grad)\n",
    "                if _ != 0:\n",
    "                    _res_0001.append(_*sampling)\n",
    "                    ax.scatter(_*sampling*np.cos(np.deg2rad(deg))+_centre_0001[0],_*sampling*np.sin(np.deg2rad(deg))+_centre_0001[1],color='r')\n",
    "        _res_0001 = np.array(_res_0001)\n",
    "        _res_0001 = _res_0001[np.where(_res_0001!=0)]\n",
    "        _mean_0001 = np.mean(_res_0001)\n",
    "        _std_0001 = np.std(_res_0001)\n",
    "        _mask = np.where(np.logical_and(_res_0001>_mean_0001-2*_std_0001, _res_0001<_mean_0001+2*_std_0001))\n",
    "        _res_0001 = _res_0001[_mask]\n",
    "        radii_0001 = np.mean(_res_0001)\n",
    "        circ = Circle(_centre_0001,radii_0001,fill=False)\n",
    "        ax.add_patch(circ)\n",
    "        ax.set_title(radii_0001)\n",
    "        fig.savefig('/home/rozakmat/scratch/_tmp/'+str(i)+'_'+str(I)+'_0001.png')\n",
    "        plt.clf()\n",
    "            \n",
    "        return radii, radii_0001\n",
    "    \n",
    "    pool = multiprocessing.Pool(8)\n",
    "    res_fwhm, res_fwhm_0001,  = zip(*pool.map(calc_fwhm_path, range(len(path))))\n",
    "    print(np.mean(res_fwhm_0001)-np.mean(res_fwhm))\n",
    "    #plt.plot(res_fwhm)\n",
    "    #plt.plot(res_fwhm_0001)\n",
    "    #plt.show()\n",
    "    images = []\n",
    "    for I in tqdm(range(len(path))):\n",
    "        images.append(imageio.imread('/home/rozakmat/scratch/_tmp/'+str(i)+'_'+str(I)+'_0001.png'))\n",
    "        os.remove('/home/rozakmat/scratch/_tmp/'+str(i)+'_'+str(I)+'_0001.png')\n",
    "    imageio.mimsave('/home/rozakmat/scratch/gifs/'+re.sub('matt_raw_warped_upsampled_seg/','',re.sub('_warped.pickle','',file))+str(i)+'_0001.gif', images, format='GIF', fps=2)\n",
    "    images = []\n",
    "    for I in tqdm(range(len(path))):\n",
    "        images.append(imageio.imread('/home/rozakmat/scratch/_tmp/'+str(i)+'_'+str(I)+'.png'))\n",
    "        os.remove('/home/rozakmat/scratch/_tmp/'+str(i)+'_'+str(I)+'.png')\n",
    "    imageio.mimsave('/home/rozakmat/scratch/gifs/'+re.sub('matt_raw_warped_upsampled_seg/','',re.sub('_warped.pickle','',file))+str(i)+'.gif', images, format='GIF', fps=2)"
   ]
  },
  {
   "cell_type": "code",
   "execution_count": null,
   "id": "71a19f84-ffda-480f-98be-20bef424b998",
   "metadata": {},
   "outputs": [],
   "source": [
    "del pool"
   ]
  },
  {
   "cell_type": "code",
   "execution_count": null,
   "id": "5ffae09b-fa4d-441f-b3b7-f5d0adc0773e",
   "metadata": {},
   "outputs": [],
   "source": [
    "_res"
   ]
  },
  {
   "cell_type": "code",
   "execution_count": null,
   "id": "222c6557-9a89-419c-933b-e34838b72d56",
   "metadata": {},
   "outputs": [],
   "source": [
    "plt.imshow(np.reshape(points,(len(X),len(Y))))\n",
    "plt.colorbar()"
   ]
  },
  {
   "cell_type": "code",
   "execution_count": null,
   "id": "d3bfd91b-62e0-4630-9091-db51ced7df94",
   "metadata": {},
   "outputs": [],
   "source": [
    "plt.imshow(np.reshape(points_std,(len(X),len(Y))))\n",
    "plt.colorbar()"
   ]
  },
  {
   "cell_type": "code",
   "execution_count": null,
   "id": "5022f6e6-ad34-40c3-b834-889ff8336209",
   "metadata": {},
   "outputs": [],
   "source": [
    "plt.imshow(np.reshape(points_img,(len(X),len(Y))))\n",
    "plt.colorbar()"
   ]
  },
  {
   "cell_type": "code",
   "execution_count": null,
   "id": "9c8abecf-6fae-4e6f-bda6-9ed0dfe61712",
   "metadata": {},
   "outputs": [],
   "source": [
    "plt.imshow(np.reshape(points_0001,(len(X),len(Y))))\n",
    "plt.colorbar()"
   ]
  },
  {
   "cell_type": "code",
   "execution_count": null,
   "id": "f3d5112a-edf5-4da6-ae45-e9f9efe87cc7",
   "metadata": {},
   "outputs": [],
   "source": [
    "plt.imshow(np.reshape(points_std_0001,(len(X),len(Y))))\n",
    "plt.colorbar()"
   ]
  },
  {
   "cell_type": "code",
   "execution_count": null,
   "id": "9d234ce0-24e3-476d-bc89-2421e357e0e3",
   "metadata": {},
   "outputs": [],
   "source": [
    "plt.imshow(np.reshape(points_img_0001,(len(X),len(Y))))\n",
    "plt.colorbar()"
   ]
  },
  {
   "cell_type": "code",
   "execution_count": null,
   "id": "bdf4766b-8db9-4c5f-bb73-f073f83db44b",
   "metadata": {},
   "outputs": [],
   "source": [
    "points = np.reshape(points,(len(X),len(Y)))\n",
    "points_std = np.reshape(points_std,(len(X),len(Y)))\n",
    "_bin = np.zeros(points.shape)\n",
    "_bin[(points > min_prob) * (points_std < max_var)] = 1"
   ]
  },
  {
   "cell_type": "code",
   "execution_count": null,
   "id": "33e25fe5-64f8-4f5a-9f3d-f88f6db0c1e1",
   "metadata": {},
   "outputs": [],
   "source": [
    "plt.imshow(_bin)"
   ]
  },
  {
   "cell_type": "code",
   "execution_count": null,
   "id": "93d9892d-d90b-4d5c-ac36-57cb973d61e6",
   "metadata": {},
   "outputs": [],
   "source": [
    "points_0001 = np.reshape(points_0001,(len(X),len(Y)))\n",
    "points_std_0001 = np.reshape(points_std_0001,(len(X),len(Y)))\n",
    "_bin_0001 = np.zeros(points_0001.shape)\n",
    "_bin_0001[(points_0001 > min_prob) * (points_std_0001 < max_var)] = 1"
   ]
  },
  {
   "cell_type": "code",
   "execution_count": null,
   "id": "d8b99fef-cebc-414b-b737-76ec22d31d7e",
   "metadata": {},
   "outputs": [],
   "source": [
    "plt.imshow(_bin_0001)"
   ]
  },
  {
   "cell_type": "code",
   "execution_count": null,
   "id": "e0850bd6-21ae-42a2-b80a-efa7e7145964",
   "metadata": {},
   "outputs": [],
   "source": [
    "#img = sp.ndimage.zoom(np.swapaxes(img[:,0,:,:],0,2),(1,1,2.645833333))"
   ]
  },
  {
   "cell_type": "code",
   "execution_count": null,
   "id": "50b7d109-1283-4586-a943-a7c5b8318f9e",
   "metadata": {},
   "outputs": [],
   "source": [
    "idx = np.argwhere(img_lab)[((np.argwhere(img_lab) - [int(img_lab.shape[0]/2),int(img_lab.shape[1]/2)])**2).sum(1).argmin()]\n",
    "cent_val = img_lab[idx[0],idx[1]]"
   ]
  },
  {
   "cell_type": "code",
   "execution_count": null,
   "id": "35cb411c-cf19-4fc9-bf33-685957853842",
   "metadata": {},
   "outputs": [],
   "source": [
    "img_lab, N = cc3d.connected_components(_bin,return_N=True)\n",
    "unique, counts = np.unique(img_lab, return_counts=True)\n",
    "img_lab =  np.reshape(img_lab,(len(X),len(Y)))\n",
    "cent_val = img_lab[int(img_lab.shape[0]/2),[int(img_lab.shape[1]/2)]][0]\n",
    "if cent_val == 0 and np.sum(img_lab) == 0:\n",
    "    area = 0\n",
    "    radii = 0\n",
    "elif cent_val == 0 and np.sum(img_lab) != 0:\n",
    "    idx = np.argwhere(img_lab)[((np.argwhere(img_lab) - [int(img_lab.shape[0]/2),int(img_lab.shape[1]/2)])**2).sum(1).argmin()]\n",
    "    cent_val = img_lab[idx[0],idx[1]]\n",
    "    area = np.sum(img_lab==cent_val)\n",
    "    radii = np.sqrt(area/np.pi)\n",
    "else:\n",
    "    area = np.sum(img_lab==cent_val)\n",
    "    radii = np.sqrt(area/np.pi)"
   ]
  },
  {
   "cell_type": "code",
   "execution_count": null,
   "id": "d0e54f92-e4a2-4231-9614-5ce5143a912b",
   "metadata": {},
   "outputs": [],
   "source": [
    "area"
   ]
  },
  {
   "cell_type": "code",
   "execution_count": null,
   "id": "8488f89d-45cf-4429-a48d-bcf8b81c15b9",
   "metadata": {},
   "outputs": [],
   "source": [
    "radii"
   ]
  },
  {
   "cell_type": "code",
   "execution_count": null,
   "id": "27d0ff5d-c740-46e4-8f81-f13f52412c19",
   "metadata": {},
   "outputs": [],
   "source": [
    "img_lab_0001, N_0001 = cc3d.connected_components(_bin_0001,return_N=True)\n",
    "unique_0001, counts_0001 = np.unique(img_lab_0001, return_counts=True)\n",
    "img_lab_0001 =  np.reshape(img_lab_0001,(len(X),len(Y)))\n",
    "cent_val_0001 = img_lab_0001[int(img_lab_0001.shape[0]/2),[int(img_lab_0001.shape[1]/2)]][0]\n",
    "if cent_val_0001 == 0 and np.sum(img_lab_0001) == 0:\n",
    "    area_0001 = 0\n",
    "    radii_0001 = 0\n",
    "elif cent_val_0001 == 0 and np.sum(img_lab_0001) == 0:\n",
    "    idx_0001 = np.argwhere(img_lab_0001)[((np.argwhere(img_lab_0001) - [int(img_lab_0001.shape[0]/2),int(img_lab_0001.shape[1]/2)])**2).sum(1).argmin()]\n",
    "    cent_val_0001 = img_lab_0001[idx_0001[0],idx_0001[1]]\n",
    "    area_0001 = np.sum(img_lab_0001==cent_val_0001)\n",
    "    radii_0001 = np.sqrt(area_0001/np.pi)\n",
    "else:\n",
    "    area_0001 = np.sum(img_lab_0001==cent_val_0001)\n",
    "    radii_0001 = np.sqrt(area_0001/np.pi)"
   ]
  },
  {
   "cell_type": "code",
   "execution_count": null,
   "id": "5739e615-f7fb-4a37-b598-66b00619b478",
   "metadata": {},
   "outputs": [],
   "source": [
    "# Laplacian Radii"
   ]
  },
  {
   "cell_type": "code",
   "execution_count": null,
   "id": "abd5c651-6b22-4421-b6a3-85c3d5187677",
   "metadata": {},
   "outputs": [],
   "source": [
    "from matplotlib.patches import Circle\n",
    "\n",
    "sampling = 1/3\n",
    "\n",
    "min_prob = 0.75\n",
    "max_var = 0.1\n",
    "for i in tqdm(range(len(graph.edges))):\n",
    "    i=20\n",
    "    path = graph[list(graph.edges)[i][0]][list(graph.edges)[i][1]]['pts']\n",
    "    _pred_radii = np.mean(seg_dst[path[::-1,0],path[::-1,1],path[::-1,2]])\n",
    "    _pred_radii_max = np.max(seg_dst[path[::-1,0],path[::-1,1],path[::-1,2]])\n",
    "    if _pred_radii == 0:\n",
    "        _pred_radii =1\n",
    "    _pred_radii_0001 = np.mean(seg_0001_dst[path[::-1,0],path[::-1,1],path[::-1,2]])\n",
    "    _pred_radii_max_0001 = np.max(seg_0001_dst[path[::-1,0],path[::-1,1],path[::-1,2]])\n",
    "    if _pred_radii_0001 == 0:\n",
    "        _pred_radii_0001 =1\n",
    "    \n",
    "    _box_fit = max([np.int16(_pred_radii_max)+10, np.int16(_pred_radii_max_0001)+10, 10])\n",
    "    #path_grad = np.gradient(path,edge_order=2)[0]\n",
    "    path_smooth = np.float32(np.copy(path))\n",
    "    for k in range(len(path[0])):\n",
    "        path_smooth[:,k] = sp.ndimage.gaussian_filter1d(np.float64(path[:,k]),3,mode='nearest')\n",
    "    path_grad = np.gradient(path_smooth,edge_order=2)[0]\n",
    "    res_fwhm = []\n",
    "    res_fwhm_0001 = []\n",
    "    X = np.arange(-1*_box_fit,_box_fit+1,1)\n",
    "    Y = np.arange(-1*_box_fit,_box_fit+1,1)\n",
    "    x,y = np.meshgrid(X,Y)\n",
    "    x = x.flatten()\n",
    "    y = y.flatten()\n",
    "    z = np.zeros(len(x))\n",
    "    xy = np.vstack([x,y,z])\n",
    "    \n",
    "    \n",
    "    res_fwhm = []\n",
    "    res_fwhm_0001 = []\n",
    "    \n",
    "    res_fwhm_sigma = []\n",
    "    res_fwhm_sigma_0001 = []\n",
    "    \n",
    "    for I in range(len(path)):\n",
    "        point_grad = path_grad[I]\n",
    "        point = path[I]\n",
    "        if all(point_grad[0:2] == [0,0]) and abs(point_grad[2]/point_grad[2]) == 1:\n",
    "            rotated = xy.T + point\n",
    "        else:\n",
    "            rotated = _rotmat(point_grad,xy.T) + point\n",
    "        points_img = sp.ndimage.map_coordinates(deconv_img,\n",
    "                                            rotated.T, \n",
    "                                            order=1,\n",
    "                                            cval=-10000)\n",
    "        points_img_0001 = sp.ndimage.map_coordinates(deconv_img_0001,\n",
    "                                                 rotated.T, \n",
    "                                                 order=1,\n",
    "                                                 cval=-10000)\n",
    "                \n",
    "        points_img = np.reshape(points_img,(len(X),len(Y)))\n",
    "        points_img = sp.ndimage.gaussian_filter(points_img, sigma = np.min([_pred_radii,_pred_radii_0001])*.4)\n",
    "        points_img_lp = sp.ndimage.laplace(points_img)\n",
    "        plt.imshow(points_img_lp)\n",
    "        plt.show()\n",
    "        points_img_0001 = np.reshape(points_img_0001,(len(X),len(Y)))\n",
    "        points_img_0001 = sp.ndimage.gaussian_filter(points_img_0001, sigma = np.min([_pred_radii,_pred_radii_0001])*.4)\n",
    "        points_img_0001_lp = sp.ndimage.laplace(points_img_0001)\n",
    "        _point = np.array(np.arange(0,np.max([_pred_radii,_pred_radii_0001])+5,sampling))\n",
    "        _zeros = np.zeros(len(_point))\n",
    "        _point = np.array([_point,_zeros])\n",
    "        \n",
    "        _res = []\n",
    "        for deg in np.arange(0,360,10):\n",
    "            rot_point = np.dot(np.array([[np.cos(np.deg2rad(deg)),-1*np.sin(np.deg2rad(deg))],[np.sin(np.deg2rad(deg)),np.cos(np.deg2rad(deg))]]),_point) + len(X)//2 +1\n",
    "            points_vals = sp.ndimage.map_coordinates(points_img_lp,\n",
    "                                                     rot_point, \n",
    "                                                     order=3,\n",
    "                                                     cval=0)\n",
    "            #points_vals_grad = np.gradient(points_vals)\n",
    "            _ = np.array(sp.signal.argrelextrema(points_vals, np.greater))\n",
    "            if _.shape[1] != 0:\n",
    "                _res.append(_[0,0]*sampling)\n",
    "        _res = np.array(_res)\n",
    "        _mean = np.mean(_res)\n",
    "        _std = np.std(_res)\n",
    "        _mask = np.where(np.logical_and(_res>_mean-2*_std, _res<_mean+2*_std))\n",
    "        _res = _res[_mask]\n",
    "        radii = np.mean(_res)\n",
    "        \n",
    "        _res_0001 = []\n",
    "        for deg in np.arange(0,360,10):\n",
    "            rot_point = np.dot(np.array([[np.cos(np.deg2rad(deg)),-1*np.sin(np.deg2rad(deg))],[np.sin(np.deg2rad(deg)),np.cos(np.deg2rad(deg))]]),_point) + len(X)//2 +1\n",
    "            points_vals = sp.ndimage.map_coordinates(points_img_0001_lp,\n",
    "                                                     rot_point, \n",
    "                                                     order=3,\n",
    "                                                     cval=0)\n",
    "            #points_vals_grad = np.gradient(points_vals)\n",
    "            _ = np.array(sp.signal.argrelextrema(points_vals, np.greater))\n",
    "            if _.shape[1] != 0:\n",
    "                _res_0001.append(_[0,0]*sampling)\n",
    "        _res_0001 = np.array(_res_0001)\n",
    "        _mean = np.mean(_res_0001)\n",
    "        _std = np.std(_res_0001)\n",
    "        _mask = np.where(np.logical_and(_res_0001>_mean-2*_std, _res_0001<_mean+2*_std))\n",
    "        _res_0001 = _res_0001[_mask]\n",
    "        radii_0001 = np.mean(_res_0001)\n",
    "        res_fwhm.append(radii)\n",
    "        res_fwhm_0001.append(radii_0001)\n",
    "        \n",
    "        #plt.imshow(points_img)\n",
    "        fig,ax = plt.subplots(1)\n",
    "        ax.set_aspect('equal')\n",
    "        ax.imshow(points_img)\n",
    "        circ = Circle((len(X)//2+1,len(Y)//2+1),_mean,fill=False)\n",
    "        ax.add_patch(circ)\n",
    "        for i in range(len(_res)):\n",
    "            ax.scatter(_res[i]*np.cos(np.deg2rad(i*10))+len(X)//2+1,_res[i]*np.sin(np.deg2rad(i*10))+len(Y)//2+1)\n",
    "        plt.show()\n",
    "        fig,ax = plt.subplots(1)\n",
    "        ax.set_aspect('equal')\n",
    "        ax.imshow(points_img_0001)\n",
    "        circ = Circle((len(X)//2+1,len(Y)//2+1),_mean,fill=False)\n",
    "        ax.add_patch(circ)\n",
    "        for i in range(len(_res_0001)):\n",
    "            ax.scatter(_res_0001[i]*np.cos(np.deg2rad(i*10))+len(X)//2+1,_res_0001[i]*np.sin(np.deg2rad(i*10))+len(Y)//2+1)\n",
    "        plt.show()\n",
    "        break\n",
    "    #lt.plot(res_fwhm)\n",
    "    #lt.plot(res_fwhm_0001)\n",
    "    #plt.show()\n",
    "    break"
   ]
  },
  {
   "cell_type": "code",
   "execution_count": null,
   "id": "dedf8e8e-599c-4c18-ac09-5da389a8077a",
   "metadata": {},
   "outputs": [],
   "source": [
    "radii_0001"
   ]
  },
  {
   "cell_type": "code",
   "execution_count": null,
   "id": "e4ee8e16-8830-482e-b37a-bcd2ca02b9c1",
   "metadata": {},
   "outputs": [],
   "source": []
  }
 ],
 "metadata": {
  "kernelspec": {
   "display_name": "monai3.8",
   "language": "python",
   "name": "monai3.8"
  },
  "language_info": {
   "codemirror_mode": {
    "name": "ipython",
    "version": 3
   },
   "file_extension": ".py",
   "mimetype": "text/x-python",
   "name": "python",
   "nbconvert_exporter": "python",
   "pygments_lexer": "ipython3",
   "version": "3.8.10"
  }
 },
 "nbformat": 4,
 "nbformat_minor": 5
}
