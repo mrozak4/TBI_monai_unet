{
 "cells": [
  {
   "cell_type": "code",
   "execution_count": 1,
   "id": "a7be0782",
   "metadata": {},
   "outputs": [],
   "source": [
    "#from nipype.interfaces import niftyreg\n",
    "import numpy as np\n",
    "from skimage import io\n",
    "from pathlib import Path\n",
    "import re\n",
    "import ants\n",
    "from skimage.transform import resize\n",
    "from tqdm import tqdm\n",
    "from skimage.morphology import skeletonize_3d, binary_dilation, binary_closing\n",
    "from scipy.ndimage import distance_transform_edt\n",
    "import tifffile as tif\n",
    "from scipy.ndimage import binary_fill_holes\n",
    "import cc3d\n",
    "from scipy.io import loadmat, savemat\n",
    "import skan\n",
    "import sknw\n",
    "import networkx as nx\n",
    "import pickle\n",
    "import os\n",
    "import matplotlib.pyplot as plt\n",
    "import pandas as pd"
   ]
  },
  {
   "cell_type": "markdown",
   "id": "7d2f724d",
   "metadata": {},
   "source": [
    "# Define connected componnet removal"
   ]
  },
  {
   "cell_type": "code",
   "execution_count": 2,
   "id": "e9888d7e",
   "metadata": {},
   "outputs": [],
   "source": [
    "def remove_small_comps_3d(image, thresh = 500):\n",
    "    \"\"\"\n",
    "    \n",
    "\n",
    "    Parameters\n",
    "    ----------\n",
    "    image : binary np array with uint8 elements\n",
    "        3d numpy matrix, connected components will be removed form this image\n",
    "    thresh : int64\n",
    "        smallest connected components to keep\n",
    "\n",
    "    Returns\n",
    "    -------\n",
    "    np.array with uint8 elements, binary\n",
    "        binary image with connected components below the threshold removed.\n",
    "\n",
    "    \"\"\"\n",
    "    img_lab, N = cc3d.connected_components(image,return_N=True)\n",
    "    unique, counts = np.unique(img_lab, return_counts=True)\n",
    "    unique_keep = unique[counts>thresh]\n",
    "    unique_keep = np.delete(unique_keep,[0])\n",
    "    img_filt = np.zeros(img_lab.shape).astype('int8')\n",
    "    img_filt[np.isin(img_lab,unique_keep)] = 1\n",
    "    return img_filt.astype('uint8')   \n",
    "\n",
    "def fill_holes(img,thresh=100):\n",
    "    #res = np.zeros(img.shape)\n",
    "    for i in np.unique(img)[::-1]:\n",
    "        _tmp = (img==i)*1.0\n",
    "        _tmp = _tmp.astype('int8')\n",
    "        _tmp = remove_small_comps_3d(_tmp,thresh=thresh)\n",
    "        img[_tmp==1] = i\n",
    "    res = img.astype('int8')\n",
    "    return res"
   ]
  },
  {
   "cell_type": "markdown",
   "id": "348d7b76",
   "metadata": {},
   "source": [
    "# Get mean predictions"
   ]
  },
  {
   "cell_type": "code",
   "execution_count": 3,
   "id": "e5b09644",
   "metadata": {},
   "outputs": [],
   "source": [
    "directory = Path('matt_preds')\n",
    "files  = directory.glob('*-*_mean.npy')\n",
    "files = sorted([x.as_posix() for x in files])\n",
    "#files = [x for x in files if 'vbm' not in x]"
   ]
  },
  {
   "cell_type": "code",
   "execution_count": 4,
   "id": "ec5c3c26",
   "metadata": {},
   "outputs": [
    {
     "data": {
      "text/plain": [
       "767"
      ]
     },
     "execution_count": 4,
     "metadata": {},
     "output_type": "execute_result"
    }
   ],
   "source": [
    "len(files)"
   ]
  },
  {
   "cell_type": "markdown",
   "id": "6f8db528",
   "metadata": {},
   "source": [
    "# High bias low varience segmentation\n",
    "\n",
    "With removal of connected components under 500 pixels"
   ]
  },
  {
   "cell_type": "code",
   "execution_count": 5,
   "id": "70b4b238",
   "metadata": {},
   "outputs": [
    {
     "name": "stderr",
     "output_type": "stream",
     "text": [
      "100%|█████████████████████████████████████████| 767/767 [00:28<00:00, 26.46it/s]\n"
     ]
    }
   ],
   "source": [
    "min_prob = 0.75\n",
    "max_var = 0.1\n",
    "for file in tqdm(files[::-1]):\n",
    "    if not os.path.exists(re.sub('mean','seg',file)):\n",
    "        mean = np.load(file)\n",
    "        std = np.load(re.sub('mean','std',file))\n",
    "        seg = np.zeros(mean.shape[1:])\n",
    "        seg[(mean[1,:,:,:] > min_prob) * (std[1,:,:,:] < max_var)] = 1\n",
    "        seg[(mean[2,:,:,:] > min_prob) * (std[2,:,:,:] < max_var)] = 2\n",
    "        seg = seg.astype('int8')\n",
    "        seg = (seg==1)*1\n",
    "        seg = fill_holes(seg)\n",
    "        np.save(re.sub('mean','seg',file),seg)\n",
    "        #savemat(re.sub('mean.npy','seg.mat',file),{'FinalImage':fill_holes(binary_dilation(binary_dilation(seg)))})\n",
    "        #tif.imwrite(re.sub('mean.npy','seg.tif',file),seg)"
   ]
  },
  {
   "cell_type": "markdown",
   "id": "ab3743f6-0c58-47e5-a874-d1960fa54645",
   "metadata": {},
   "source": [
    "# Get distance transform of neuron segmentation"
   ]
  },
  {
   "cell_type": "code",
   "execution_count": 6,
   "id": "f9b6c5ef-34e0-40fd-9513-493f5302d37a",
   "metadata": {},
   "outputs": [],
   "source": [
    "directory = Path('matt_preds')\n",
    "files  = directory.glob('*-*_mean.npy')\n",
    "files = sorted([x.as_posix() for x in files])\n",
    "files = [x for x in files if 'vbm' not in x]"
   ]
  },
  {
   "cell_type": "code",
   "execution_count": 7,
   "id": "0bddcafd-b682-4000-bd3d-56b82e12da3b",
   "metadata": {},
   "outputs": [
    {
     "name": "stderr",
     "output_type": "stream",
     "text": [
      "100%|█████████████████████████████████████████| 673/673 [00:14<00:00, 47.41it/s]\n"
     ]
    }
   ],
   "source": [
    "min_prob = 0.75\n",
    "max_var = 0.1\n",
    "for file in tqdm(files[::-1]):\n",
    "    if not os.path.exists(re.sub('mean','seg_nrn_dst',file)):\n",
    "        mean = np.load(file)\n",
    "        std = np.load(re.sub('mean','std',file))\n",
    "        seg = np.zeros(mean.shape[1:])\n",
    "        seg[(mean[1,:,:,:] > min_prob) * (std[1,:,:,:] < max_var)] = 1\n",
    "        seg[(mean[2,:,:,:] > min_prob) * (std[2,:,:,:] < max_var)] = 2\n",
    "        seg = seg.astype('int8')\n",
    "        seg = (seg==2)*1\n",
    "        np.save(re.sub('mean','seg_nrn',file),seg)\n",
    "        np.save(re.sub('mean','seg_nrn_dst',file),distance_transform_edt(1-seg))"
   ]
  },
  {
   "cell_type": "code",
   "execution_count": 8,
   "id": "c1e5259f",
   "metadata": {},
   "outputs": [],
   "source": [
    "#distance_transform_edt(1-seg)"
   ]
  },
  {
   "cell_type": "markdown",
   "id": "3dca6732",
   "metadata": {},
   "source": [
    "# ANTs registration"
   ]
  },
  {
   "cell_type": "markdown",
   "id": "9d9228eb",
   "metadata": {},
   "source": [
    "## Upsample raw images"
   ]
  },
  {
   "cell_type": "code",
   "execution_count": 9,
   "id": "69b86439",
   "metadata": {},
   "outputs": [
    {
     "data": {
      "text/plain": [
       "767"
      ]
     },
     "execution_count": 9,
     "metadata": {},
     "output_type": "execute_result"
    }
   ],
   "source": [
    "image_path = Path('/home/rozakmat/projects/rrg-bojana/data/THY1-TBI')\n",
    "images = list(image_path.glob('*?[0-9]/*res*?[0-9].tif'))\n",
    "images = sorted([x.as_posix() for x in images])\n",
    "len(images)"
   ]
  },
  {
   "cell_type": "code",
   "execution_count": 10,
   "id": "d8959038",
   "metadata": {},
   "outputs": [
    {
     "name": "stderr",
     "output_type": "stream",
     "text": [
      "100%|█████████████████████████████████████████| 767/767 [05:21<00:00,  2.39it/s]\n"
     ]
    }
   ],
   "source": [
    "for i in tqdm(range(len(images))[::-1]):\n",
    "    if not os.path.exists('matt_preds/'+re.sub('/','-',re.sub('/home/rozakmat/projects/rrg-bojana/data/THY1-TBI/','',images[i]))):\n",
    "        image = io.imread(images[i])\n",
    "        if image.shape[0] == 96:\n",
    "            image = np.swapaxes(image,0,1)\n",
    "            image = np.swapaxes(image,1,3)\n",
    "            image = resize(image,(2,507,507,252),preserve_range=True)\n",
    "            zeros = np.zeros((1,507,507,252)).astype('uint16')\n",
    "            image = np.append(image,zeros,axis = 0)\n",
    "            image = image.astype('float16')\n",
    "            io.imsave('matt_preds/'+re.sub('/','-',re.sub('/home/rozakmat/projects/rrg-bojana/data/THY1-TBI/','',images[i])),image)"
   ]
  },
  {
   "cell_type": "code",
   "execution_count": 56,
   "id": "53558e30",
   "metadata": {},
   "outputs": [
    {
     "name": "stdout",
     "output_type": "stream",
     "text": [
      "matt_preds/XYZres052_0001_upsamp.tif\n",
      "/home/rozakmat/projects/rrg-bojana/data/THY1-TBI/vbm11 Apr 04 2020/XYZres052_0001.tif\n"
     ]
    },
    {
     "data": {
      "text/plain": [
       "True"
      ]
     },
     "execution_count": 56,
     "metadata": {},
     "output_type": "execute_result"
    }
   ],
   "source": [
    "print('matt_preds/'+re.sub('.tif','_upsamp.tif',Path(images[i]).name))\n",
    "print(images[i])\n",
    "image.shape[0] == 96"
   ]
  },
  {
   "cell_type": "markdown",
   "id": "33f08281",
   "metadata": {},
   "source": [
    "## reshape numpy seg files and resave as tif"
   ]
  },
  {
   "cell_type": "code",
   "execution_count": 14,
   "id": "600a9ddf",
   "metadata": {},
   "outputs": [],
   "source": [
    "directory_seg = Path('matt_preds')\n",
    "files_seg  = list(directory_seg.glob('*_seg.npy'))\n",
    "files_seg = sorted([x.as_posix() for x in files_seg])[::-1]"
   ]
  },
  {
   "cell_type": "code",
   "execution_count": 16,
   "id": "ad13dd67",
   "metadata": {},
   "outputs": [
    {
     "name": "stderr",
     "output_type": "stream",
     "text": [
      "100%|████████████████████████████████████| 1157/1157 [00:00<00:00, 59605.84it/s]\n"
     ]
    }
   ],
   "source": [
    "for i in tqdm(range(len(files_seg))):\n",
    "    if not os.path.exists(re.sub('.npy','.tif',files_seg[i])):\n",
    "        tmp = np.load(files_seg[i])\n",
    "        tmp = np.reshape(tmp,(1,507,507,252))\n",
    "        io.imsave(re.sub('.npy','.tif',files_seg[i]),tmp)"
   ]
  },
  {
   "cell_type": "markdown",
   "id": "36bf7115",
   "metadata": {},
   "source": [
    "## Register images and transform masks"
   ]
  },
  {
   "cell_type": "code",
   "execution_count": 19,
   "id": "9dfc93cf",
   "metadata": {},
   "outputs": [
    {
     "name": "stdout",
     "output_type": "stream",
     "text": [
      "380\n",
      "matt_preds/vbm11 Apr 04 2020-XYZres052_0001.tif\n"
     ]
    }
   ],
   "source": [
    "directory_seg = Path('matt_preds')\n",
    "images = list(directory_seg.glob('*_0001.tif'))\n",
    "images = sorted([x.as_posix() for x in images])[::-1]\n",
    "print(len(images))\n",
    "print(images[0])"
   ]
  },
  {
   "cell_type": "code",
   "execution_count": 20,
   "id": "ade09ac9",
   "metadata": {},
   "outputs": [
    {
     "name": "stderr",
     "output_type": "stream",
     "text": [
      " 13%|████▋                                | 48/380 [1:23:50<9:39:37, 104.75s/it]/tmp/ipykernel_3840486/2376430453.py:17: UserWarning:\n",
      "\n",
      "matt_preds/Feb52021_6-XYZres280_0001_seg_warped.tif is a low contrast image\n",
      "\n",
      "/tmp/ipykernel_3840486/2376430453.py:18: UserWarning:\n",
      "\n",
      "matt_preds/Feb52021_6-XYZres280_seg_warped.tif is a low contrast image\n",
      "\n",
      " 13%|████▉                                | 51/380 [1:29:25<9:56:54, 108.86s/it]/tmp/ipykernel_3840486/2376430453.py:17: UserWarning:\n",
      "\n",
      "matt_preds/Feb52021_6-XYZres277_0001_seg_warped.tif is a low contrast image\n",
      "\n",
      "/tmp/ipykernel_3840486/2376430453.py:18: UserWarning:\n",
      "\n",
      "matt_preds/Feb52021_6-XYZres277_seg_warped.tif is a low contrast image\n",
      "\n",
      " 14%|█████▎                               | 55/380 [1:36:28<9:36:50, 106.49s/it]/tmp/ipykernel_3840486/2376430453.py:17: UserWarning:\n",
      "\n",
      "matt_preds/Feb52021_6-XYZres270_0001_seg_warped.tif is a low contrast image\n",
      "\n",
      "/tmp/ipykernel_3840486/2376430453.py:18: UserWarning:\n",
      "\n",
      "matt_preds/Feb52021_6-XYZres270_seg_warped.tif is a low contrast image\n",
      "\n",
      " 15%|█████▌                               | 57/380 [1:39:57<9:27:32, 105.43s/it]/tmp/ipykernel_3840486/2376430453.py:17: UserWarning:\n",
      "\n",
      "matt_preds/Feb52021_6-XYZres267_0001_seg_warped.tif is a low contrast image\n",
      "\n",
      "/tmp/ipykernel_3840486/2376430453.py:18: UserWarning:\n",
      "\n",
      "matt_preds/Feb52021_6-XYZres267_seg_warped.tif is a low contrast image\n",
      "\n",
      " 15%|█████▋                               | 58/380 [1:41:42<9:24:05, 105.11s/it]/tmp/ipykernel_3840486/2376430453.py:17: UserWarning:\n",
      "\n",
      "matt_preds/Feb52021_6-XYZres266_0001_seg_warped.tif is a low contrast image\n",
      "\n",
      "/tmp/ipykernel_3840486/2376430453.py:18: UserWarning:\n",
      "\n",
      "matt_preds/Feb52021_6-XYZres266_seg_warped.tif is a low contrast image\n",
      "\n",
      " 16%|█████▊                               | 60/380 [1:45:12<9:21:11, 105.22s/it]/tmp/ipykernel_3840486/2376430453.py:17: UserWarning:\n",
      "\n",
      "matt_preds/Feb52021_6-XYZres263_0001_seg_warped.tif is a low contrast image\n",
      "\n",
      "/tmp/ipykernel_3840486/2376430453.py:18: UserWarning:\n",
      "\n",
      "matt_preds/Feb52021_6-XYZres263_seg_warped.tif is a low contrast image\n",
      "\n",
      " 17%|██████▏                              | 64/380 [1:52:12<9:13:54, 105.17s/it]/tmp/ipykernel_3840486/2376430453.py:17: UserWarning:\n",
      "\n",
      "matt_preds/Feb52021_4-XYZres256_0001_seg_warped.tif is a low contrast image\n",
      "\n",
      " 18%|██████▋                             | 70/380 [2:05:44<12:51:48, 149.38s/it]/tmp/ipykernel_3840486/2376430453.py:17: UserWarning:\n",
      "\n",
      "matt_preds/20220129_64-XYZres357_0001_seg_warped.tif is a low contrast image\n",
      "\n",
      "/tmp/ipykernel_3840486/2376430453.py:18: UserWarning:\n",
      "\n",
      "matt_preds/20220129_64-XYZres357_seg_warped.tif is a low contrast image\n",
      "\n",
      " 19%|██████▋                             | 71/380 [2:08:55<13:53:26, 161.83s/it]/tmp/ipykernel_3840486/2376430453.py:17: UserWarning:\n",
      "\n",
      "matt_preds/20220129_64-XYZres356_0001_seg_warped.tif is a low contrast image\n",
      "\n",
      "/tmp/ipykernel_3840486/2376430453.py:18: UserWarning:\n",
      "\n",
      "matt_preds/20220129_64-XYZres356_seg_warped.tif is a low contrast image\n",
      "\n",
      " 19%|██████▉                             | 73/380 [2:16:23<16:35:21, 194.53s/it]/tmp/ipykernel_3840486/2376430453.py:17: UserWarning:\n",
      "\n",
      "matt_preds/20220129_64-XYZres354_0001_seg_warped.tif is a low contrast image\n",
      "\n",
      "/tmp/ipykernel_3840486/2376430453.py:18: UserWarning:\n",
      "\n",
      "matt_preds/20220129_64-XYZres354_seg_warped.tif is a low contrast image\n",
      "\n",
      " 19%|███████                             | 74/380 [2:20:16<17:31:29, 206.18s/it]/tmp/ipykernel_3840486/2376430453.py:17: UserWarning:\n",
      "\n",
      "matt_preds/20220129_64-XYZres353_0001_seg_warped.tif is a low contrast image\n",
      "\n",
      "/tmp/ipykernel_3840486/2376430453.py:18: UserWarning:\n",
      "\n",
      "matt_preds/20220129_64-XYZres353_seg_warped.tif is a low contrast image\n",
      "\n",
      " 20%|███████▎                            | 77/380 [2:32:02<19:00:27, 225.83s/it]/tmp/ipykernel_3840486/2376430453.py:17: UserWarning:\n",
      "\n",
      "matt_preds/20220129_64-XYZres350_0001_seg_warped.tif is a low contrast image\n",
      "\n",
      "/tmp/ipykernel_3840486/2376430453.py:18: UserWarning:\n",
      "\n",
      "matt_preds/20220129_64-XYZres350_seg_warped.tif is a low contrast image\n",
      "\n",
      " 21%|███████▍                            | 78/380 [2:35:55<19:07:35, 228.00s/it]/tmp/ipykernel_3840486/2376430453.py:17: UserWarning:\n",
      "\n",
      "matt_preds/20220129_64-XYZres349_0001_seg_warped.tif is a low contrast image\n",
      "\n",
      "/tmp/ipykernel_3840486/2376430453.py:18: UserWarning:\n",
      "\n",
      "matt_preds/20220129_64-XYZres349_seg_warped.tif is a low contrast image\n",
      "\n",
      " 21%|███████▌                            | 80/380 [2:43:18<18:42:49, 224.56s/it]/tmp/ipykernel_3840486/2376430453.py:17: UserWarning:\n",
      "\n",
      "matt_preds/20220129_64-XYZres346_0001_seg_warped.tif is a low contrast image\n",
      "\n",
      "/tmp/ipykernel_3840486/2376430453.py:18: UserWarning:\n",
      "\n",
      "matt_preds/20220129_64-XYZres346_seg_warped.tif is a low contrast image\n",
      "\n",
      " 24%|████████▌                           | 90/380 [3:06:17<10:42:20, 132.90s/it]/tmp/ipykernel_3840486/2376430453.py:17: UserWarning:\n",
      "\n",
      "matt_preds/20220129_61-XYZres378_0001_seg_warped.tif is a low contrast image\n",
      "\n",
      "/tmp/ipykernel_3840486/2376430453.py:18: UserWarning:\n",
      "\n",
      "matt_preds/20220129_61-XYZres378_seg_warped.tif is a low contrast image\n",
      "\n",
      " 26%|█████████▊                            | 98/380 [3:13:54<6:31:33, 83.31s/it]/tmp/ipykernel_3840486/2376430453.py:17: UserWarning:\n",
      "\n",
      "matt_preds/20220129_61-XYZres374_0001_seg_warped.tif is a low contrast image\n",
      "\n",
      "/tmp/ipykernel_3840486/2376430453.py:18: UserWarning:\n",
      "\n",
      "matt_preds/20220129_61-XYZres374_seg_warped.tif is a low contrast image\n",
      "\n",
      " 29%|██████████                         | 109/380 [3:36:30<11:31:32, 153.11s/it]/tmp/ipykernel_3840486/2376430453.py:17: UserWarning:\n",
      "\n",
      "matt_preds/20210710_56-XYZres339_0001_seg_warped.tif is a low contrast image\n",
      "\n",
      "/tmp/ipykernel_3840486/2376430453.py:18: UserWarning:\n",
      "\n",
      "matt_preds/20210710_56-XYZres339_seg_warped.tif is a low contrast image\n",
      "\n",
      " 31%|███████████▎                        | 119/380 [3:55:38<7:35:45, 104.77s/it]/tmp/ipykernel_3840486/2376430453.py:17: UserWarning:\n",
      "\n",
      "matt_preds/20210710_53-XYZres333_0001_seg_warped.tif is a low contrast image\n",
      "\n",
      " 36%|█████████████▍                       | 138/380 [4:06:45<3:13:47, 48.05s/it]/tmp/ipykernel_3840486/2376430453.py:17: UserWarning:\n",
      "\n",
      "matt_preds/20210619_49-XYZres323_0001_seg_warped.tif is a low contrast image\n",
      "\n",
      "/tmp/ipykernel_3840486/2376430453.py:18: UserWarning:\n",
      "\n",
      "matt_preds/20210619_49-XYZres323_seg_warped.tif is a low contrast image\n",
      "\n",
      "100%|███████████████████████████████████████| 380/380 [4:14:04<00:00, 40.12s/it]\n"
     ]
    }
   ],
   "source": [
    "for i in tqdm(range(len(images))):\n",
    "    if os.path.exists(re.sub('.tif','_seg.tif',images[i])):\n",
    "        if not os.path.exists(re.sub('seg','seg_warped',re.sub('.tif','_seg.tif',images[i]))):\n",
    "            fix = ants.image_read(re.sub('_0001','',images[i]))\n",
    "            mov = ants.image_read(images[i])\n",
    "            fix_mask = ants.image_read(re.sub('.tif','_seg.tif',re.sub('_0001','',images[i])))\n",
    "            mov_mask = ants.image_read(re.sub('.tif','_seg.tif',images[i]))\n",
    "            mytx = ants.registration(fixed = fix,\n",
    "                                    moving = mov,\n",
    "                                    type_of_transform = 'Rigid'\n",
    "                                    )\n",
    "            warpedmask = ants.apply_transforms(fixed = fix_mask,\n",
    "                                               moving = mov_mask,\n",
    "                                               transformlist = mytx['fwdtransforms'],\n",
    "                                               interpolator = 'nearestNeighbor'\n",
    "                                              )\n",
    "            io.imsave(re.sub('seg','seg_warped',re.sub('.tif','_seg.tif',images[i])),warpedmask.numpy())\n",
    "            io.imsave(re.sub('seg','seg_warped',re.sub('.tif','_seg.tif',re.sub('_0001','',images[i]))),fix_mask.numpy())\n",
    "            #print(2 * np.sum(warpedmask.numpy()*fix_mask.numpy())/(np.sum(warpedmask.numpy())+np.sum(fix_mask.numpy())))"
   ]
  },
  {
   "cell_type": "markdown",
   "id": "759a8329",
   "metadata": {},
   "source": [
    "## Save Matlab .mat file of registered images"
   ]
  },
  {
   "cell_type": "code",
   "execution_count": null,
   "id": "59c2838e",
   "metadata": {},
   "outputs": [],
   "source": []
  },
  {
   "cell_type": "code",
   "execution_count": null,
   "id": "af813286",
   "metadata": {},
   "outputs": [],
   "source": [
    "directory_seg = Path('matt_preds')\n",
    "images = list(directory_seg.glob('*_0001_seg_warped.tif'))\n",
    "images = sorted([x.as_posix() for x in images])[::-1]"
   ]
  },
  {
   "cell_type": "code",
   "execution_count": null,
   "id": "4d576f15",
   "metadata": {},
   "outputs": [],
   "source": [
    "for image in tqdm(images):\n",
    "    if not os.path.exists(re.sub('_seg_warped.tif','_seg_warped_single.mat',re.sub('_0001','',image))):\n",
    "        img_0001 = io.imread(image)\n",
    "        img = io.imread(re.sub('_0001','',image))\n",
    "        seg = img*img_0001\n",
    "        seg = (seg==1)*1\n",
    "        seg = seg.astype('int8')\n",
    "        seg = fill_holes(seg)\n",
    "        savemat(re.sub('_seg_warped.tif','_seg_warped_single.mat',re.sub('_0001','',image)),{'FinalImage':fill_holes(binary_dilation(seg))})\n",
    "        \n",
    "        "
   ]
  },
  {
   "cell_type": "markdown",
   "id": "f5818c18",
   "metadata": {},
   "source": [
    "# Generate Graphs"
   ]
  },
  {
   "cell_type": "code",
   "execution_count": null,
   "id": "fd876acb",
   "metadata": {},
   "outputs": [],
   "source": [
    "directory = Path('matt_preds')\n",
    "files_seg_0001 = directory.glob('*_0001_seg_warped.tif')\n",
    "files_seg_0001 = sorted([x.as_posix() for x in files_seg_0001])\n",
    "len(files_seg_0001"
   ]
  },
  {
   "cell_type": "code",
   "execution_count": null,
   "id": "6810a73d",
   "metadata": {},
   "outputs": [],
   "source": [
    "for file_0001 in tqdm(files_seg_0001):\n",
    "    file = file_0001\n",
    "    skel_file = re.sub('_0001_seg_warped.tif','_skel_warped_single.mat',file)\n",
    "    #seg = io.imread(file)\n",
    "    skel = loadmat(skel_file)['FilteredImage']\n",
    "    #skel = skeletonize_3d(skel)\n",
    "    io.imsave(re.sub('_seg_warped.tif','_single_skel.tif',file),skel)\n",
    "    #dst_tsfm = distance_transform_edt(seg)\n",
    "    #dst_tsfm[dst_tsfm==0]=0.00001\n",
    "    #skel_dst = skel*dst_tsfm\n",
    "#\n",
    "    #\n",
    "    #np.save(re.sub('seg','dst_skel',file),skel_dst)\n",
    "    #io.imsave(re.sub('_seg_warped.tif','_dst_skel_warped.tif',file),skel_dst)\n",
    "    graph = sknw.build_sknw(skel, multi=False)\n",
    "    print(len(graph.edges))\n",
    "    #graph, c0  = skan.csr.skeleton_to_csgraph(skel)\n",
    "    #print(len(graph.edges))\n",
    "    \n",
    "    #print(len(graph_0001.edges))\n",
    "    #pickle.dump(graph, open(str(re.sub('_seg.npy','.pickle',file)), 'w'))\n",
    "    #nx.write_pajek(graph,re.sub('_seg.npy','.pajek',file))\n",
    "    \n",
    "    nx.write_gpickle(graph,re.sub('_0001_seg_warped.tif','_warped.pickle',file))"
   ]
  },
  {
   "cell_type": "markdown",
   "id": "97ba7bff",
   "metadata": {},
   "source": [
    "# write vessel measurments to graph files"
   ]
  },
  {
   "cell_type": "code",
   "execution_count": 9,
   "id": "65f52c14",
   "metadata": {},
   "outputs": [
    {
     "data": {
      "text/plain": [
       "195"
      ]
     },
     "execution_count": 9,
     "metadata": {},
     "output_type": "execute_result"
    }
   ],
   "source": [
    "directory = Path('matt_preds')\n",
    "files = directory.glob('*_warped.pickle')\n",
    "files = sorted([x.as_posix() for x in files])\n",
    "len(files)"
   ]
  },
  {
   "cell_type": "code",
   "execution_count": null,
   "id": "21d716ad",
   "metadata": {},
   "outputs": [
    {
     "name": "stderr",
     "output_type": "stream",
     "text": [
      "  1%|▉                                                                                                                                                                           | 1/195 [00:19<1:02:17, 19.26s/it]/tmp/ipykernel_2184055/379099069.py:52: RuntimeWarning:\n",
      "\n",
      "invalid value encountered in sqrt\n",
      "\n",
      " 33%|█████████████████████████████████████████████████████████▋                                                                                                                   | 65/195 [23:44<54:37, 25.21s/it]"
     ]
    }
   ],
   "source": [
    "i=0\n",
    "xls = pd.ExcelFile('TBI_STIM_metalog_local.xlsx')\n",
    "df = {}\n",
    "for sheet_name in xls.sheet_names:\n",
    "    df[sheet_name] = xls.parse(sheet_name)\n",
    "\n",
    "for file in tqdm(files):\n",
    "    graph = nx.read_gpickle(file)\n",
    "    if len(graph.edges) < 1500:\n",
    "        seg_file = re.sub('_warped.pickle','_seg_warped.tif',file)\n",
    "        seg_0001_file = re.sub('_warped.pickle','_0001_seg_warped.tif',file)\n",
    "        seg = io.imread(seg_file)\n",
    "        seg_0001 = io.imread(seg_0001_file)\n",
    "        seg_dst = distance_transform_edt(seg)\n",
    "        seg_0001_dst = distance_transform_edt(seg_0001)\n",
    "        for sheet_name in xls.sheet_names:\n",
    "            if re.sub('matt_preds/','',re.sub('_warped.pickle','',file)) in df[sheet_name].values:\n",
    "                subj = sheet_name\n",
    "                if subj in [\"TBI07_3D\",\"TBI11_3D\",\"TBI22_3D\",\"TBI31_3D\",\"TBI38_3D\",\"SHAM09_3D\",\"SHAM12_3D\",\"SHAM23_3D\",\"SHAM32_3D\"]:\n",
    "                    gender = 'male'\n",
    "                else:\n",
    "                    gender = 'female'\n",
    "                treatment = re.sub('SHA','SHAM',subj[0:3])\n",
    "                _tmp = df[subj].loc[df[subj]['CHECK WATER'] == re.sub('matt_preds/','',re.sub('_warped.pickle','',file))]\n",
    "                if _tmp['Unnamed: 12'].iloc[0] == 'raster':\n",
    "                    wavelength = _tmp['Unnamed: 11'].iloc[0]\n",
    "                    power_per = _tmp['Unnamed: 10'].iloc[0]\n",
    "                    start_depth = _tmp['Unnamed: 2'].iloc[0]\n",
    "                    age = _tmp['Unnamed: 14'].iloc[0]\n",
    "                    days_post_injury = _tmp['Unnamed: 15'].iloc[0]\n",
    "                    for i in range(len(graph.edges)):\n",
    "                        path = graph[list(graph.edges)[i][0]][list(graph.edges)[i][1]]['pts']\n",
    "                        _vals = seg_dst[path[::-1,0],path[::-1,1],path[::-1,2]]\n",
    "                        _vals_0001 = seg_0001_dst[path[::-1,0],path[::-1,1],path[::-1,2]]\n",
    "                        graph[list(graph.edges)[i][0]][list(graph.edges)[i][1]]['radii'] = np.mean(_vals)\n",
    "                        graph[list(graph.edges)[i][0]][list(graph.edges)[i][1]]['radii_std'] = np.std(_vals)\n",
    "                        graph[list(graph.edges)[i][0]][list(graph.edges)[i][1]]['radii_0001'] = np.mean(_vals_0001)\n",
    "                        graph[list(graph.edges)[i][0]][list(graph.edges)[i][1]]['radii_0001_std'] = np.std(_vals_0001)\n",
    "                        graph[list(graph.edges)[i][0]][list(graph.edges)[i][1]]['delta'] = np.mean(_vals_0001) - np.mean(_vals)\n",
    "                        graph[list(graph.edges)[i][0]][list(graph.edges)[i][1]]['gender'] = gender\n",
    "                        graph[list(graph.edges)[i][0]][list(graph.edges)[i][1]]['path_weights'] = _vals\n",
    "                        graph[list(graph.edges)[i][0]][list(graph.edges)[i][1]]['path_weights_0001'] = _vals_0001\n",
    "                        #graph[list(graph.edges)[i][0]][list(graph.edges)[i][1]]['weight'] = graph[list(graph.edges)[i][0]][list(graph.edges)[i][1]]['weight']\n",
    "                        graph[list(graph.edges)[i][0]][list(graph.edges)[i][1]]['end-0z'] = path[0][0]\n",
    "                        graph[list(graph.edges)[i][0]][list(graph.edges)[i][1]]['end-0y'] = path[0][1]\n",
    "                        graph[list(graph.edges)[i][0]][list(graph.edges)[i][1]]['end-0x'] = path[0][2]\n",
    "                        graph[list(graph.edges)[i][0]][list(graph.edges)[i][1]]['end-1z'] = path[-1][0]\n",
    "                        graph[list(graph.edges)[i][0]][list(graph.edges)[i][1]]['end-1y'] = path[-1][1]\n",
    "                        graph[list(graph.edges)[i][0]][list(graph.edges)[i][1]]['end-1x'] = path[-1][2]\n",
    "                        graph[list(graph.edges)[i][0]][list(graph.edges)[i][1]]['img_start_depth'] = start_depth\n",
    "                        graph[list(graph.edges)[i][0]][list(graph.edges)[i][1]]['mean_depth'] = np.mean(path[:,0])\n",
    "                        graph[list(graph.edges)[i][0]][list(graph.edges)[i][1]]['euclidean-dst'] = np.sqrt(np.sum(np.square(path[-1]-path[0])))\n",
    "                        graph[list(graph.edges)[i][0]][list(graph.edges)[i][1]]['subject'] = subj\n",
    "                        graph[list(graph.edges)[i][0]][list(graph.edges)[i][1]]['treatment'] = treatment\n",
    "                        graph[list(graph.edges)[i][0]][list(graph.edges)[i][1]]['wavelength'] = wavelength\n",
    "                        graph[list(graph.edges)[i][0]][list(graph.edges)[i][1]]['power'] = power_per\n",
    "                        graph[list(graph.edges)[i][0]][list(graph.edges)[i][1]]['age'] = age\n",
    "                        graph[list(graph.edges)[i][0]][list(graph.edges)[i][1]]['days_post_injury'] = days_post_injury\n",
    "                    nx.write_gpickle(graph, re.sub('preds','preds_graphs',re.sub('.pickle','_radii.pickle',file)))\n",
    "                    i+=1\n",
    "print(i)"
   ]
  },
  {
   "cell_type": "code",
   "execution_count": null,
   "id": "ec064eab-4b32-4f15-ad94-5faf33de3eea",
   "metadata": {},
   "outputs": [],
   "source": [
    "_tmp"
   ]
  },
  {
   "cell_type": "code",
   "execution_count": null,
   "id": "a3ec65da-36a4-48ca-8994-f5153e5cf748",
   "metadata": {},
   "outputs": [],
   "source": [
    "path[:,0]"
   ]
  },
  {
   "cell_type": "markdown",
   "id": "576d5be2",
   "metadata": {},
   "source": [
    "# convert graphs to excel files"
   ]
  },
  {
   "cell_type": "code",
   "execution_count": 3,
   "id": "14ad0961",
   "metadata": {},
   "outputs": [
    {
     "name": "stdout",
     "output_type": "stream",
     "text": [
      "141\n"
     ]
    },
    {
     "data": {
      "text/plain": [
       "'matt_preds_graphs/XYZres100_warped_radii.pickle'"
      ]
     },
     "execution_count": 3,
     "metadata": {},
     "output_type": "execute_result"
    }
   ],
   "source": [
    "directory = Path('matt_preds_graphs')\n",
    "files = directory.glob('*_warped_radii.pickle')\n",
    "files = sorted([x.as_posix() for x in files])\n",
    "print(len(files))\n",
    "files[0]"
   ]
  },
  {
   "cell_type": "code",
   "execution_count": 4,
   "id": "b60f19ea",
   "metadata": {},
   "outputs": [
    {
     "name": "stderr",
     "output_type": "stream",
     "text": [
      "100%|████████████████████████████████████████████████████████████████████████████████████████████████████████████████████████████████████████████████████████████████████████████| 141/141 [01:21<00:00,  1.73it/s]\n"
     ]
    }
   ],
   "source": [
    "for file in tqdm(files):\n",
    "    graph = nx.read_gpickle(file)\n",
    "    edge_df = nx.to_pandas_edgelist(graph)\n",
    "    edge_df.to_excel(re.sub('.pickle','.xlsx',file))"
   ]
  },
  {
   "cell_type": "code",
   "execution_count": 5,
   "id": "46893c09",
   "metadata": {},
   "outputs": [
    {
     "data": {
      "text/html": [
       "<div>\n",
       "<style scoped>\n",
       "    .dataframe tbody tr th:only-of-type {\n",
       "        vertical-align: middle;\n",
       "    }\n",
       "\n",
       "    .dataframe tbody tr th {\n",
       "        vertical-align: top;\n",
       "    }\n",
       "\n",
       "    .dataframe thead th {\n",
       "        text-align: right;\n",
       "    }\n",
       "</style>\n",
       "<table border=\"1\" class=\"dataframe\">\n",
       "  <thead>\n",
       "    <tr style=\"text-align: right;\">\n",
       "      <th></th>\n",
       "      <th>source</th>\n",
       "      <th>target</th>\n",
       "      <th>img_start_depth</th>\n",
       "      <th>radii_0001</th>\n",
       "      <th>end-0y</th>\n",
       "      <th>radii</th>\n",
       "      <th>weight</th>\n",
       "      <th>age</th>\n",
       "      <th>radii_0001_std</th>\n",
       "      <th>power</th>\n",
       "      <th>...</th>\n",
       "      <th>euclidean-dst</th>\n",
       "      <th>end-0z</th>\n",
       "      <th>subject</th>\n",
       "      <th>end-0x</th>\n",
       "      <th>treatment</th>\n",
       "      <th>path_weights</th>\n",
       "      <th>path_weights_0001</th>\n",
       "      <th>pts</th>\n",
       "      <th>delta</th>\n",
       "      <th>mean_depth</th>\n",
       "    </tr>\n",
       "  </thead>\n",
       "  <tbody>\n",
       "    <tr>\n",
       "      <th>0</th>\n",
       "      <td>0</td>\n",
       "      <td>42</td>\n",
       "      <td>500</td>\n",
       "      <td>2.408980</td>\n",
       "      <td>392</td>\n",
       "      <td>2.681478</td>\n",
       "      <td>131.381132</td>\n",
       "      <td>221</td>\n",
       "      <td>0.384444</td>\n",
       "      <td>5</td>\n",
       "      <td>...</td>\n",
       "      <td>111.009009</td>\n",
       "      <td>45</td>\n",
       "      <td>TBI11_3D</td>\n",
       "      <td>434</td>\n",
       "      <td>TBI</td>\n",
       "      <td>[2.449489742783178, 2.23606797749979, 2.449489...</td>\n",
       "      <td>[2.8284271247461903, 2.8284271247461903, 2.828...</td>\n",
       "      <td>[[45, 392, 434], [46, 393, 434], [47, 393, 434...</td>\n",
       "      <td>-0.272498</td>\n",
       "      <td>94.480392</td>\n",
       "    </tr>\n",
       "    <tr>\n",
       "      <th>1</th>\n",
       "      <td>1</td>\n",
       "      <td>27</td>\n",
       "      <td>500</td>\n",
       "      <td>2.291214</td>\n",
       "      <td>292</td>\n",
       "      <td>2.165788</td>\n",
       "      <td>73.923346</td>\n",
       "      <td>221</td>\n",
       "      <td>1.089881</td>\n",
       "      <td>5</td>\n",
       "      <td>...</td>\n",
       "      <td>63.395583</td>\n",
       "      <td>59</td>\n",
       "      <td>TBI11_3D</td>\n",
       "      <td>417</td>\n",
       "      <td>TBI</td>\n",
       "      <td>[4.123105625617661, 3.605551275463989, 4.12310...</td>\n",
       "      <td>[3.7416573867739413, 3.3166247903554, 4.0, 3.6...</td>\n",
       "      <td>[[59, 292, 417], [60, 293, 417], [61, 293, 417...</td>\n",
       "      <td>0.125426</td>\n",
       "      <td>90.500000</td>\n",
       "    </tr>\n",
       "    <tr>\n",
       "      <th>2</th>\n",
       "      <td>2</td>\n",
       "      <td>5</td>\n",
       "      <td>500</td>\n",
       "      <td>1.753866</td>\n",
       "      <td>396</td>\n",
       "      <td>2.011129</td>\n",
       "      <td>14.459973</td>\n",
       "      <td>221</td>\n",
       "      <td>0.325225</td>\n",
       "      <td>5</td>\n",
       "      <td>...</td>\n",
       "      <td>12.845233</td>\n",
       "      <td>61</td>\n",
       "      <td>TBI11_3D</td>\n",
       "      <td>479</td>\n",
       "      <td>TBI</td>\n",
       "      <td>[1.4142135623730951, 2.0, 2.0, 2.0, 2.0, 2.0, ...</td>\n",
       "      <td>[1.4142135623730951, 1.0, 1.7320508075688772, ...</td>\n",
       "      <td>[[61, 396, 479], [62, 396, 480], [63, 397, 481...</td>\n",
       "      <td>-0.257263</td>\n",
       "      <td>65.454545</td>\n",
       "    </tr>\n",
       "    <tr>\n",
       "      <th>3</th>\n",
       "      <td>3</td>\n",
       "      <td>28</td>\n",
       "      <td>500</td>\n",
       "      <td>2.486196</td>\n",
       "      <td>497</td>\n",
       "      <td>2.449620</td>\n",
       "      <td>74.776352</td>\n",
       "      <td>221</td>\n",
       "      <td>0.383013</td>\n",
       "      <td>5</td>\n",
       "      <td>...</td>\n",
       "      <td>60.959003</td>\n",
       "      <td>62</td>\n",
       "      <td>TBI11_3D</td>\n",
       "      <td>487</td>\n",
       "      <td>TBI</td>\n",
       "      <td>[2.8284271247461903, 2.8284271247461903, 2.828...</td>\n",
       "      <td>[2.8284271247461903, 2.0, 2.23606797749979, 2....</td>\n",
       "      <td>[[62, 497, 487], [63, 497, 487], [64, 497, 487...</td>\n",
       "      <td>0.036576</td>\n",
       "      <td>92.000000</td>\n",
       "    </tr>\n",
       "    <tr>\n",
       "      <th>4</th>\n",
       "      <td>4</td>\n",
       "      <td>13</td>\n",
       "      <td>500</td>\n",
       "      <td>2.485127</td>\n",
       "      <td>334</td>\n",
       "      <td>2.534549</td>\n",
       "      <td>64.751044</td>\n",
       "      <td>221</td>\n",
       "      <td>0.705417</td>\n",
       "      <td>5</td>\n",
       "      <td>...</td>\n",
       "      <td>44.844175</td>\n",
       "      <td>67</td>\n",
       "      <td>TBI11_3D</td>\n",
       "      <td>437</td>\n",
       "      <td>TBI</td>\n",
       "      <td>[2.8284271247461903, 2.8284271247461903, 3.0, ...</td>\n",
       "      <td>[3.0, 3.0, 2.8284271247461903, 2.2360679774997...</td>\n",
       "      <td>[[67, 334, 437], [68, 334, 437], [69, 335, 437...</td>\n",
       "      <td>-0.049422</td>\n",
       "      <td>81.693878</td>\n",
       "    </tr>\n",
       "    <tr>\n",
       "      <th>...</th>\n",
       "      <td>...</td>\n",
       "      <td>...</td>\n",
       "      <td>...</td>\n",
       "      <td>...</td>\n",
       "      <td>...</td>\n",
       "      <td>...</td>\n",
       "      <td>...</td>\n",
       "      <td>...</td>\n",
       "      <td>...</td>\n",
       "      <td>...</td>\n",
       "      <td>...</td>\n",
       "      <td>...</td>\n",
       "      <td>...</td>\n",
       "      <td>...</td>\n",
       "      <td>...</td>\n",
       "      <td>...</td>\n",
       "      <td>...</td>\n",
       "      <td>...</td>\n",
       "      <td>...</td>\n",
       "      <td>...</td>\n",
       "      <td>...</td>\n",
       "    </tr>\n",
       "    <tr>\n",
       "      <th>88</th>\n",
       "      <td>85</td>\n",
       "      <td>85</td>\n",
       "      <td>500</td>\n",
       "      <td>2.759306</td>\n",
       "      <td>387</td>\n",
       "      <td>2.307209</td>\n",
       "      <td>2.828427</td>\n",
       "      <td>221</td>\n",
       "      <td>0.229998</td>\n",
       "      <td>5</td>\n",
       "      <td>...</td>\n",
       "      <td>1.414214</td>\n",
       "      <td>212</td>\n",
       "      <td>TBI11_3D</td>\n",
       "      <td>430</td>\n",
       "      <td>TBI</td>\n",
       "      <td>[2.23606797749979, 2.449489742783178, 2.236067...</td>\n",
       "      <td>[3.0, 2.8284271247461903, 2.449489742783178]</td>\n",
       "      <td>[[212, 387, 430], [213, 387, 429], [212, 388, ...</td>\n",
       "      <td>0.452097</td>\n",
       "      <td>212.333333</td>\n",
       "    </tr>\n",
       "    <tr>\n",
       "      <th>89</th>\n",
       "      <td>86</td>\n",
       "      <td>86</td>\n",
       "      <td>500</td>\n",
       "      <td>2.000000</td>\n",
       "      <td>115</td>\n",
       "      <td>2.000000</td>\n",
       "      <td>3.414214</td>\n",
       "      <td>221</td>\n",
       "      <td>0.000000</td>\n",
       "      <td>5</td>\n",
       "      <td>...</td>\n",
       "      <td>0.000000</td>\n",
       "      <td>215</td>\n",
       "      <td>TBI11_3D</td>\n",
       "      <td>382</td>\n",
       "      <td>TBI</td>\n",
       "      <td>[2.0, 2.0, 2.0, 2.0]</td>\n",
       "      <td>[2.0, 2.0, 2.0, 2.0]</td>\n",
       "      <td>[[215, 115, 382], [214, 115, 382], [215, 115, ...</td>\n",
       "      <td>0.000000</td>\n",
       "      <td>214.750000</td>\n",
       "    </tr>\n",
       "    <tr>\n",
       "      <th>90</th>\n",
       "      <td>88</td>\n",
       "      <td>88</td>\n",
       "      <td>500</td>\n",
       "      <td>3.094899</td>\n",
       "      <td>496</td>\n",
       "      <td>2.621320</td>\n",
       "      <td>4.146264</td>\n",
       "      <td>221</td>\n",
       "      <td>0.414246</td>\n",
       "      <td>5</td>\n",
       "      <td>...</td>\n",
       "      <td>0.000000</td>\n",
       "      <td>220</td>\n",
       "      <td>TBI11_3D</td>\n",
       "      <td>222</td>\n",
       "      <td>TBI</td>\n",
       "      <td>[2.8284271247461903, 2.8284271247461903, 2.0, ...</td>\n",
       "      <td>[3.1622776601683795, 3.605551275463989, 2.4494...</td>\n",
       "      <td>[[220, 496, 222], [220, 497, 223], [221, 496, ...</td>\n",
       "      <td>0.473579</td>\n",
       "      <td>220.250000</td>\n",
       "    </tr>\n",
       "    <tr>\n",
       "      <th>91</th>\n",
       "      <td>89</td>\n",
       "      <td>89</td>\n",
       "      <td>500</td>\n",
       "      <td>2.702115</td>\n",
       "      <td>471</td>\n",
       "      <td>2.828427</td>\n",
       "      <td>3.146264</td>\n",
       "      <td>221</td>\n",
       "      <td>0.178633</td>\n",
       "      <td>5</td>\n",
       "      <td>...</td>\n",
       "      <td>1.000000</td>\n",
       "      <td>222</td>\n",
       "      <td>TBI11_3D</td>\n",
       "      <td>482</td>\n",
       "      <td>TBI</td>\n",
       "      <td>[2.8284271247461903, 2.8284271247461903, 2.828...</td>\n",
       "      <td>[2.8284271247461903, 2.449489742783178, 2.8284...</td>\n",
       "      <td>[[222, 471, 482], [223, 470, 481], [223, 471, ...</td>\n",
       "      <td>-0.126312</td>\n",
       "      <td>222.666667</td>\n",
       "    </tr>\n",
       "    <tr>\n",
       "      <th>92</th>\n",
       "      <td>89</td>\n",
       "      <td>90</td>\n",
       "      <td>500</td>\n",
       "      <td>2.604749</td>\n",
       "      <td>471</td>\n",
       "      <td>2.754416</td>\n",
       "      <td>12.170844</td>\n",
       "      <td>221</td>\n",
       "      <td>0.463983</td>\n",
       "      <td>5</td>\n",
       "      <td>...</td>\n",
       "      <td>10.049876</td>\n",
       "      <td>223</td>\n",
       "      <td>TBI11_3D</td>\n",
       "      <td>482</td>\n",
       "      <td>TBI</td>\n",
       "      <td>[3.605551275463989, 3.1622776601683795, 2.8284...</td>\n",
       "      <td>[3.605551275463989, 3.0, 2.8284271247461903, 2...</td>\n",
       "      <td>[[223, 471, 482], [224, 472, 483], [225, 472, ...</td>\n",
       "      <td>-0.149666</td>\n",
       "      <td>226.222222</td>\n",
       "    </tr>\n",
       "  </tbody>\n",
       "</table>\n",
       "<p>93 rows × 27 columns</p>\n",
       "</div>"
      ],
      "text/plain": [
       "    source  target  img_start_depth  radii_0001  end-0y     radii      weight  \\\n",
       "0        0      42              500    2.408980     392  2.681478  131.381132   \n",
       "1        1      27              500    2.291214     292  2.165788   73.923346   \n",
       "2        2       5              500    1.753866     396  2.011129   14.459973   \n",
       "3        3      28              500    2.486196     497  2.449620   74.776352   \n",
       "4        4      13              500    2.485127     334  2.534549   64.751044   \n",
       "..     ...     ...              ...         ...     ...       ...         ...   \n",
       "88      85      85              500    2.759306     387  2.307209    2.828427   \n",
       "89      86      86              500    2.000000     115  2.000000    3.414214   \n",
       "90      88      88              500    3.094899     496  2.621320    4.146264   \n",
       "91      89      89              500    2.702115     471  2.828427    3.146264   \n",
       "92      89      90              500    2.604749     471  2.754416   12.170844   \n",
       "\n",
       "    age  radii_0001_std  power  ...  euclidean-dst  end-0z   subject  end-0x  \\\n",
       "0   221        0.384444      5  ...     111.009009      45  TBI11_3D     434   \n",
       "1   221        1.089881      5  ...      63.395583      59  TBI11_3D     417   \n",
       "2   221        0.325225      5  ...      12.845233      61  TBI11_3D     479   \n",
       "3   221        0.383013      5  ...      60.959003      62  TBI11_3D     487   \n",
       "4   221        0.705417      5  ...      44.844175      67  TBI11_3D     437   \n",
       "..  ...             ...    ...  ...            ...     ...       ...     ...   \n",
       "88  221        0.229998      5  ...       1.414214     212  TBI11_3D     430   \n",
       "89  221        0.000000      5  ...       0.000000     215  TBI11_3D     382   \n",
       "90  221        0.414246      5  ...       0.000000     220  TBI11_3D     222   \n",
       "91  221        0.178633      5  ...       1.000000     222  TBI11_3D     482   \n",
       "92  221        0.463983      5  ...      10.049876     223  TBI11_3D     482   \n",
       "\n",
       "   treatment                                       path_weights  \\\n",
       "0        TBI  [2.449489742783178, 2.23606797749979, 2.449489...   \n",
       "1        TBI  [4.123105625617661, 3.605551275463989, 4.12310...   \n",
       "2        TBI  [1.4142135623730951, 2.0, 2.0, 2.0, 2.0, 2.0, ...   \n",
       "3        TBI  [2.8284271247461903, 2.8284271247461903, 2.828...   \n",
       "4        TBI  [2.8284271247461903, 2.8284271247461903, 3.0, ...   \n",
       "..       ...                                                ...   \n",
       "88       TBI  [2.23606797749979, 2.449489742783178, 2.236067...   \n",
       "89       TBI                               [2.0, 2.0, 2.0, 2.0]   \n",
       "90       TBI  [2.8284271247461903, 2.8284271247461903, 2.0, ...   \n",
       "91       TBI  [2.8284271247461903, 2.8284271247461903, 2.828...   \n",
       "92       TBI  [3.605551275463989, 3.1622776601683795, 2.8284...   \n",
       "\n",
       "                                    path_weights_0001  \\\n",
       "0   [2.8284271247461903, 2.8284271247461903, 2.828...   \n",
       "1   [3.7416573867739413, 3.3166247903554, 4.0, 3.6...   \n",
       "2   [1.4142135623730951, 1.0, 1.7320508075688772, ...   \n",
       "3   [2.8284271247461903, 2.0, 2.23606797749979, 2....   \n",
       "4   [3.0, 3.0, 2.8284271247461903, 2.2360679774997...   \n",
       "..                                                ...   \n",
       "88       [3.0, 2.8284271247461903, 2.449489742783178]   \n",
       "89                               [2.0, 2.0, 2.0, 2.0]   \n",
       "90  [3.1622776601683795, 3.605551275463989, 2.4494...   \n",
       "91  [2.8284271247461903, 2.449489742783178, 2.8284...   \n",
       "92  [3.605551275463989, 3.0, 2.8284271247461903, 2...   \n",
       "\n",
       "                                                  pts     delta  mean_depth  \n",
       "0   [[45, 392, 434], [46, 393, 434], [47, 393, 434... -0.272498   94.480392  \n",
       "1   [[59, 292, 417], [60, 293, 417], [61, 293, 417...  0.125426   90.500000  \n",
       "2   [[61, 396, 479], [62, 396, 480], [63, 397, 481... -0.257263   65.454545  \n",
       "3   [[62, 497, 487], [63, 497, 487], [64, 497, 487...  0.036576   92.000000  \n",
       "4   [[67, 334, 437], [68, 334, 437], [69, 335, 437... -0.049422   81.693878  \n",
       "..                                                ...       ...         ...  \n",
       "88  [[212, 387, 430], [213, 387, 429], [212, 388, ...  0.452097  212.333333  \n",
       "89  [[215, 115, 382], [214, 115, 382], [215, 115, ...  0.000000  214.750000  \n",
       "90  [[220, 496, 222], [220, 497, 223], [221, 496, ...  0.473579  220.250000  \n",
       "91  [[222, 471, 482], [223, 470, 481], [223, 471, ... -0.126312  222.666667  \n",
       "92  [[223, 471, 482], [224, 472, 483], [225, 472, ... -0.149666  226.222222  \n",
       "\n",
       "[93 rows x 27 columns]"
      ]
     },
     "execution_count": 5,
     "metadata": {},
     "output_type": "execute_result"
    }
   ],
   "source": [
    "edge_df"
   ]
  },
  {
   "cell_type": "code",
   "execution_count": null,
   "id": "7e900d2f",
   "metadata": {},
   "outputs": [],
   "source": []
  }
 ],
 "metadata": {
  "kernelspec": {
   "display_name": "monai3.8",
   "language": "python",
   "name": "monai3.8"
  },
  "language_info": {
   "codemirror_mode": {
    "name": "ipython",
    "version": 3
   },
   "file_extension": ".py",
   "mimetype": "text/x-python",
   "name": "python",
   "nbconvert_exporter": "python",
   "pygments_lexer": "ipython3",
   "version": "3.8.10"
  }
 },
 "nbformat": 4,
 "nbformat_minor": 5
}
