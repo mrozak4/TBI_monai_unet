{
 "cells": [
  {
   "cell_type": "code",
   "execution_count": 6,
   "metadata": {},
   "outputs": [],
   "source": [
    "import numpy as np\n",
    "from pathlib import Path\n",
    "import re\n",
    "from tqdm import tqdm\n",
    "from skimage import io\n",
    "from skimage.morphology import skeletonize_3d, binary_dilation, binary_closing\n",
    "from scipy.ndimage import distance_transform_edt\n",
    "import tifffile as tif\n",
    "from scipy.ndimage import binary_fill_holes \n",
    "import cc3d\n",
    "from scipy.io import loadmat, savemat\n",
    "import skan\n",
    "import sknw\n",
    "import networkx as nx\n",
    "import pickle\n",
    "#from pystackreg import StackReg\n",
    "#from plantcv import plantcv as pcv\n",
    "#from VascGraph.Skeletonize import Skeleton\n",
    "\n",
    "#from VascGraph.GraphIO import ReadStackMat\n",
    "#from VascGraph.GraphLab import StackPlot\n",
    "#from VascGraph.Tools.VisTools import visG\n",
    "#from VascGraph.Tools.CalcTools import fixG\n",
    "#from VascGraph.GraphIO import WritePajek"
   ]
  },
  {
   "cell_type": "code",
   "execution_count": 7,
   "metadata": {},
   "outputs": [],
   "source": [
    "#!pip install pystackreg"
   ]
  },
  {
   "cell_type": "code",
   "execution_count": 8,
   "metadata": {},
   "outputs": [],
   "source": [
    "def remove_small_comps_3d(image, thresh = 1000):\n",
    "    \"\"\"\n",
    "    \n",
    "\n",
    "    Parameters\n",
    "    ----------\n",
    "    image : binary np array with uint8 elements\n",
    "        3d numpy matrix, connected components will be removed form this image\n",
    "    thresh : int64\n",
    "        smallest connected components to keep\n",
    "\n",
    "    Returns\n",
    "    -------\n",
    "    np.array with uint8 elements, binary\n",
    "        binary image with connected components below the threshold removed.\n",
    "\n",
    "    \"\"\"\n",
    "    img_lab, N = cc3d.connected_components(image,return_N=True)\n",
    "    unique, counts = np.unique(img_lab, return_counts=True)\n",
    "    unique_keep = unique[counts>thresh]\n",
    "    unique_keep = np.delete(unique_keep,[0])\n",
    "    img_filt = np.zeros(img_lab.shape).astype('int8')\n",
    "    img_filt[np.isin(img_lab,unique_keep)] = 1\n",
    "    return img_filt.astype('uint8')   \n",
    "\n",
    "def fill_holes(img):\n",
    "    #res = np.zeros(img.shape)\n",
    "    for i in np.unique(img)[::-1]:\n",
    "        _tmp = (img==i)*1.0\n",
    "        _tmp = _tmp.astype('int8')\n",
    "        _tmp = remove_small_comps_3d(_tmp)\n",
    "        img[_tmp==1] = i\n",
    "    res = img.astype('int8')\n",
    "    return res"
   ]
  },
  {
   "cell_type": "code",
   "execution_count": null,
   "metadata": {},
   "outputs": [],
   "source": []
  },
  {
   "cell_type": "code",
   "execution_count": 9,
   "metadata": {},
   "outputs": [],
   "source": [
    "directory = Path('james_preds')\n",
    "files  = directory.glob('*_seg_warped.tif')\n",
    "files = sorted([x.as_posix() for x in files])"
   ]
  },
  {
   "cell_type": "code",
   "execution_count": 5,
   "metadata": {},
   "outputs": [
    {
     "data": {
      "text/plain": [
       "['james_preds/XYZres006_0001_seg_warped.tif',\n",
       " 'james_preds/XYZres006_seg_warped.tif',\n",
       " 'james_preds/XYZres007_0001_seg_warped.tif',\n",
       " 'james_preds/XYZres007_seg_warped.tif',\n",
       " 'james_preds/XYZres008_0001_seg_warped.tif',\n",
       " 'james_preds/XYZres008_seg_warped.tif',\n",
       " 'james_preds/XYZres009_0001_seg_warped.tif',\n",
       " 'james_preds/XYZres009_seg_warped.tif',\n",
       " 'james_preds/XYZres010_0001_seg_warped.tif',\n",
       " 'james_preds/XYZres010_seg_warped.tif',\n",
       " 'james_preds/XYZres011_0001_seg_warped.tif',\n",
       " 'james_preds/XYZres011_seg_warped.tif',\n",
       " 'james_preds/XYZres012_0001_seg_warped.tif',\n",
       " 'james_preds/XYZres012_seg_warped.tif',\n",
       " 'james_preds/XYZres013_0001_seg_warped.tif',\n",
       " 'james_preds/XYZres013_seg_warped.tif',\n",
       " 'james_preds/XYZres014_0001_seg_warped.tif',\n",
       " 'james_preds/XYZres014_seg_warped.tif',\n",
       " 'james_preds/XYZres015_0001_seg_warped.tif',\n",
       " 'james_preds/XYZres015_seg_warped.tif',\n",
       " 'james_preds/XYZres016_0001_seg_warped.tif',\n",
       " 'james_preds/XYZres016_seg_warped.tif',\n",
       " 'james_preds/XYZres017_0001_seg_warped.tif',\n",
       " 'james_preds/XYZres017_seg_warped.tif',\n",
       " 'james_preds/XYZres018_0001_seg_warped.tif',\n",
       " 'james_preds/XYZres018_seg_warped.tif',\n",
       " 'james_preds/XYZres019_0001_seg_warped.tif',\n",
       " 'james_preds/XYZres019_seg_warped.tif',\n",
       " 'james_preds/XYZres020_0001_seg_warped.tif',\n",
       " 'james_preds/XYZres020_seg_warped.tif',\n",
       " 'james_preds/XYZres021_0001_seg_warped.tif',\n",
       " 'james_preds/XYZres021_seg_warped.tif',\n",
       " 'james_preds/XYZres022_0001_seg_warped.tif',\n",
       " 'james_preds/XYZres022_seg_warped.tif',\n",
       " 'james_preds/XYZres023_0001_seg_warped.tif',\n",
       " 'james_preds/XYZres023_seg_warped.tif',\n",
       " 'james_preds/XYZres024_0001_seg_warped.tif',\n",
       " 'james_preds/XYZres024_seg_warped.tif',\n",
       " 'james_preds/XYZres025_0001_seg_warped.tif',\n",
       " 'james_preds/XYZres025_seg_warped.tif',\n",
       " 'james_preds/XYZres026_0001_seg_warped.tif',\n",
       " 'james_preds/XYZres026_seg_warped.tif',\n",
       " 'james_preds/XYZres027_0001_seg_warped.tif',\n",
       " 'james_preds/XYZres027_seg_warped.tif',\n",
       " 'james_preds/XYZres028_0001_seg_warped.tif',\n",
       " 'james_preds/XYZres028_seg_warped.tif',\n",
       " 'james_preds/XYZres029_0001_seg_warped.tif',\n",
       " 'james_preds/XYZres029_seg_warped.tif',\n",
       " 'james_preds/XYZres030_0001_seg_warped.tif',\n",
       " 'james_preds/XYZres030_seg_warped.tif',\n",
       " 'james_preds/XYZres031_0001_seg_warped.tif',\n",
       " 'james_preds/XYZres031_seg_warped.tif',\n",
       " 'james_preds/XYZres032_0001_seg_warped.tif',\n",
       " 'james_preds/XYZres032_seg_warped.tif',\n",
       " 'james_preds/XYZres033_0001_seg_warped.tif',\n",
       " 'james_preds/XYZres033_seg_warped.tif',\n",
       " 'james_preds/XYZres034_0001_seg_warped.tif',\n",
       " 'james_preds/XYZres034_seg_warped.tif',\n",
       " 'james_preds/XYZres035_0001_seg_warped.tif',\n",
       " 'james_preds/XYZres035_seg_warped.tif',\n",
       " 'james_preds/XYZres036_0001_seg_warped.tif',\n",
       " 'james_preds/XYZres036_seg_warped.tif',\n",
       " 'james_preds/XYZres037_0001_seg_warped.tif',\n",
       " 'james_preds/XYZres037_seg_warped.tif',\n",
       " 'james_preds/XYZres038_0001_seg_warped.tif',\n",
       " 'james_preds/XYZres038_seg_warped.tif',\n",
       " 'james_preds/XYZres039_0001_seg_warped.tif',\n",
       " 'james_preds/XYZres039_seg_warped.tif',\n",
       " 'james_preds/XYZres040_0001_seg_warped.tif',\n",
       " 'james_preds/XYZres040_seg_warped.tif',\n",
       " 'james_preds/XYZres041_0001_seg_warped.tif',\n",
       " 'james_preds/XYZres041_seg_warped.tif',\n",
       " 'james_preds/XYZres042_0001_seg_warped.tif',\n",
       " 'james_preds/XYZres042_seg_warped.tif',\n",
       " 'james_preds/XYZres043_0001_seg_warped.tif',\n",
       " 'james_preds/XYZres043_seg_warped.tif',\n",
       " 'james_preds/XYZres044_0001_seg_warped.tif',\n",
       " 'james_preds/XYZres044_seg_warped.tif',\n",
       " 'james_preds/XYZres045_0001_seg_warped.tif',\n",
       " 'james_preds/XYZres045_seg_warped.tif',\n",
       " 'james_preds/XYZres046_0001_seg_warped.tif',\n",
       " 'james_preds/XYZres046_seg_warped.tif',\n",
       " 'james_preds/XYZres047_0001_seg_warped.tif',\n",
       " 'james_preds/XYZres047_seg_warped.tif',\n",
       " 'james_preds/XYZres048_0001_seg_warped.tif',\n",
       " 'james_preds/XYZres048_seg_warped.tif',\n",
       " 'james_preds/XYZres049_0001_seg_warped.tif',\n",
       " 'james_preds/XYZres049_seg_warped.tif',\n",
       " 'james_preds/XYZres050_0001_seg_warped.tif',\n",
       " 'james_preds/XYZres050_seg_warped.tif',\n",
       " 'james_preds/XYZres051_0001_seg_warped.tif',\n",
       " 'james_preds/XYZres051_seg_warped.tif',\n",
       " 'james_preds/XYZres052_0001_seg_warped.tif',\n",
       " 'james_preds/XYZres052_seg_warped.tif']"
      ]
     },
     "execution_count": 5,
     "metadata": {},
     "output_type": "execute_result"
    }
   ],
   "source": [
    "files"
   ]
  },
  {
   "cell_type": "code",
   "execution_count": 10,
   "metadata": {},
   "outputs": [
    {
     "name": "stderr",
     "output_type": "stream",
     "text": [
      "100%|██████████| 94/94 [34:47<00:00, 22.21s/it]\n"
     ]
    }
   ],
   "source": [
    "min_prob = 0.75\n",
    "max_var = 0.1\n",
    "for file in tqdm(files[::-1]):\n",
    "    seg = io.imread(file)\n",
    "    seg = seg.astype('int8')\n",
    "    seg = (seg==1)*1\n",
    "    seg = fill_holes(seg)\n",
    "    #np.save(re.sub('mean','seg',file),seg)\n",
    "    savemat(re.sub('_seg_warped.tif','_seg_warped.mat',file),{'FinalImage':fill_holes(binary_dilation(binary_dilation(binary_dilation(binary_dilation(seg)))))})\n",
    "    tif.imwrite(re.sub('_seg_warped.tif','_seg_warped_filled.tif',file),seg)"
   ]
  },
  {
   "cell_type": "code",
   "execution_count": 17,
   "metadata": {},
   "outputs": [
    {
     "data": {
      "text/plain": [
       "1.0"
      ]
     },
     "execution_count": 17,
     "metadata": {},
     "output_type": "execute_result"
    }
   ],
   "source": [
    "np.max(seg)"
   ]
  },
  {
   "cell_type": "code",
   "execution_count": null,
   "metadata": {},
   "outputs": [],
   "source": [
    "files_seg_0001 = directory.glob('*_seg_warped.tif')\n",
    "files_seg_0001 = sorted([x.as_posix() for x in files_seg_0001])\n",
    "#files_seg_0001"
   ]
  },
  {
   "cell_type": "code",
   "execution_count": 64,
   "metadata": {},
   "outputs": [
    {
     "name": "stderr",
     "output_type": "stream",
     "text": [
      "  0%|          | 0/47 [00:00<?, ?it/s]/tmp/ipykernel_239095/2239722327.py:24: UserWarning: james_preds/XYZres006_dst_skel.tif is a low contrast image\n",
      "  io.imsave(re.sub('seg.npy','dst_skel.tif',file),skel_dst)\n",
      "/tmp/ipykernel_239095/2239722327.py:29: UserWarning: james_preds/XYZres006_0001_dst_skel.tif is a low contrast image\n",
      "  io.imsave(re.sub('seg.npy','dst_skel.tif',file_0001),skel_dst_0001)\n",
      "  2%|▏         | 1/47 [00:34<26:41, 34.81s/it]/tmp/ipykernel_239095/2239722327.py:24: UserWarning: james_preds/XYZres007_dst_skel.tif is a low contrast image\n",
      "  io.imsave(re.sub('seg.npy','dst_skel.tif',file),skel_dst)\n",
      "/tmp/ipykernel_239095/2239722327.py:29: UserWarning: james_preds/XYZres007_0001_dst_skel.tif is a low contrast image\n",
      "  io.imsave(re.sub('seg.npy','dst_skel.tif',file_0001),skel_dst_0001)\n",
      "  4%|▍         | 2/47 [01:11<26:55, 35.90s/it]/tmp/ipykernel_239095/2239722327.py:24: UserWarning: james_preds/XYZres008_dst_skel.tif is a low contrast image\n",
      "  io.imsave(re.sub('seg.npy','dst_skel.tif',file),skel_dst)\n",
      "/tmp/ipykernel_239095/2239722327.py:29: UserWarning: james_preds/XYZres008_0001_dst_skel.tif is a low contrast image\n",
      "  io.imsave(re.sub('seg.npy','dst_skel.tif',file_0001),skel_dst_0001)\n",
      "  6%|▋         | 3/47 [01:45<25:44, 35.10s/it]/tmp/ipykernel_239095/2239722327.py:24: UserWarning: james_preds/XYZres009_dst_skel.tif is a low contrast image\n",
      "  io.imsave(re.sub('seg.npy','dst_skel.tif',file),skel_dst)\n",
      "/tmp/ipykernel_239095/2239722327.py:29: UserWarning: james_preds/XYZres009_0001_dst_skel.tif is a low contrast image\n",
      "  io.imsave(re.sub('seg.npy','dst_skel.tif',file_0001),skel_dst_0001)\n",
      "  9%|▊         | 4/47 [02:20<24:58, 34.86s/it]/tmp/ipykernel_239095/2239722327.py:24: UserWarning: james_preds/XYZres010_dst_skel.tif is a low contrast image\n",
      "  io.imsave(re.sub('seg.npy','dst_skel.tif',file),skel_dst)\n",
      "/tmp/ipykernel_239095/2239722327.py:29: UserWarning: james_preds/XYZres010_0001_dst_skel.tif is a low contrast image\n",
      "  io.imsave(re.sub('seg.npy','dst_skel.tif',file_0001),skel_dst_0001)\n",
      " 11%|█         | 5/47 [02:51<23:30, 33.59s/it]/tmp/ipykernel_239095/2239722327.py:24: UserWarning: james_preds/XYZres011_dst_skel.tif is a low contrast image\n",
      "  io.imsave(re.sub('seg.npy','dst_skel.tif',file),skel_dst)\n",
      "/tmp/ipykernel_239095/2239722327.py:29: UserWarning: james_preds/XYZres011_0001_dst_skel.tif is a low contrast image\n",
      "  io.imsave(re.sub('seg.npy','dst_skel.tif',file_0001),skel_dst_0001)\n",
      " 13%|█▎        | 6/47 [03:26<23:15, 34.04s/it]/tmp/ipykernel_239095/2239722327.py:24: UserWarning: james_preds/XYZres012_dst_skel.tif is a low contrast image\n",
      "  io.imsave(re.sub('seg.npy','dst_skel.tif',file),skel_dst)\n",
      "/tmp/ipykernel_239095/2239722327.py:29: UserWarning: james_preds/XYZres012_0001_dst_skel.tif is a low contrast image\n",
      "  io.imsave(re.sub('seg.npy','dst_skel.tif',file_0001),skel_dst_0001)\n",
      " 15%|█▍        | 7/47 [03:57<22:06, 33.17s/it]/tmp/ipykernel_239095/2239722327.py:24: UserWarning: james_preds/XYZres013_dst_skel.tif is a low contrast image\n",
      "  io.imsave(re.sub('seg.npy','dst_skel.tif',file),skel_dst)\n",
      "/tmp/ipykernel_239095/2239722327.py:29: UserWarning: james_preds/XYZres013_0001_dst_skel.tif is a low contrast image\n",
      "  io.imsave(re.sub('seg.npy','dst_skel.tif',file_0001),skel_dst_0001)\n",
      " 17%|█▋        | 8/47 [04:33<22:02, 33.90s/it]/tmp/ipykernel_239095/2239722327.py:24: UserWarning: james_preds/XYZres014_dst_skel.tif is a low contrast image\n",
      "  io.imsave(re.sub('seg.npy','dst_skel.tif',file),skel_dst)\n",
      "/tmp/ipykernel_239095/2239722327.py:29: UserWarning: james_preds/XYZres014_0001_dst_skel.tif is a low contrast image\n",
      "  io.imsave(re.sub('seg.npy','dst_skel.tif',file_0001),skel_dst_0001)\n",
      " 19%|█▉        | 9/47 [05:04<20:59, 33.15s/it]/tmp/ipykernel_239095/2239722327.py:24: UserWarning: james_preds/XYZres015_dst_skel.tif is a low contrast image\n",
      "  io.imsave(re.sub('seg.npy','dst_skel.tif',file),skel_dst)\n",
      "/tmp/ipykernel_239095/2239722327.py:29: UserWarning: james_preds/XYZres015_0001_dst_skel.tif is a low contrast image\n",
      "  io.imsave(re.sub('seg.npy','dst_skel.tif',file_0001),skel_dst_0001)\n",
      " 21%|██▏       | 10/47 [05:39<20:48, 33.73s/it]/tmp/ipykernel_239095/2239722327.py:24: UserWarning: james_preds/XYZres016_dst_skel.tif is a low contrast image\n",
      "  io.imsave(re.sub('seg.npy','dst_skel.tif',file),skel_dst)\n",
      "/tmp/ipykernel_239095/2239722327.py:29: UserWarning: james_preds/XYZres016_0001_dst_skel.tif is a low contrast image\n",
      "  io.imsave(re.sub('seg.npy','dst_skel.tif',file_0001),skel_dst_0001)\n",
      " 23%|██▎       | 11/47 [06:12<20:05, 33.49s/it]/tmp/ipykernel_239095/2239722327.py:24: UserWarning: james_preds/XYZres017_dst_skel.tif is a low contrast image\n",
      "  io.imsave(re.sub('seg.npy','dst_skel.tif',file),skel_dst)\n",
      "/tmp/ipykernel_239095/2239722327.py:29: UserWarning: james_preds/XYZres017_0001_dst_skel.tif is a low contrast image\n",
      "  io.imsave(re.sub('seg.npy','dst_skel.tif',file_0001),skel_dst_0001)\n",
      " 26%|██▌       | 12/47 [06:47<19:48, 33.96s/it]/tmp/ipykernel_239095/2239722327.py:24: UserWarning: james_preds/XYZres018_dst_skel.tif is a low contrast image\n",
      "  io.imsave(re.sub('seg.npy','dst_skel.tif',file),skel_dst)\n",
      "/tmp/ipykernel_239095/2239722327.py:29: UserWarning: james_preds/XYZres018_0001_dst_skel.tif is a low contrast image\n",
      "  io.imsave(re.sub('seg.npy','dst_skel.tif',file_0001),skel_dst_0001)\n",
      " 28%|██▊       | 13/47 [07:20<19:00, 33.54s/it]/tmp/ipykernel_239095/2239722327.py:24: UserWarning: james_preds/XYZres019_dst_skel.tif is a low contrast image\n",
      "  io.imsave(re.sub('seg.npy','dst_skel.tif',file),skel_dst)\n",
      "/tmp/ipykernel_239095/2239722327.py:29: UserWarning: james_preds/XYZres019_0001_dst_skel.tif is a low contrast image\n",
      "  io.imsave(re.sub('seg.npy','dst_skel.tif',file_0001),skel_dst_0001)\n",
      " 30%|██▉       | 14/47 [07:55<18:38, 33.89s/it]/tmp/ipykernel_239095/2239722327.py:24: UserWarning: james_preds/XYZres020_dst_skel.tif is a low contrast image\n",
      "  io.imsave(re.sub('seg.npy','dst_skel.tif',file),skel_dst)\n",
      "/tmp/ipykernel_239095/2239722327.py:29: UserWarning: james_preds/XYZres020_0001_dst_skel.tif is a low contrast image\n",
      "  io.imsave(re.sub('seg.npy','dst_skel.tif',file_0001),skel_dst_0001)\n",
      " 32%|███▏      | 15/47 [08:27<17:55, 33.61s/it]/tmp/ipykernel_239095/2239722327.py:24: UserWarning: james_preds/XYZres021_dst_skel.tif is a low contrast image\n",
      "  io.imsave(re.sub('seg.npy','dst_skel.tif',file),skel_dst)\n",
      "/tmp/ipykernel_239095/2239722327.py:29: UserWarning: james_preds/XYZres021_0001_dst_skel.tif is a low contrast image\n",
      "  io.imsave(re.sub('seg.npy','dst_skel.tif',file_0001),skel_dst_0001)\n",
      " 34%|███▍      | 16/47 [09:00<17:12, 33.31s/it]/tmp/ipykernel_239095/2239722327.py:24: UserWarning: james_preds/XYZres022_dst_skel.tif is a low contrast image\n",
      "  io.imsave(re.sub('seg.npy','dst_skel.tif',file),skel_dst)\n",
      "/tmp/ipykernel_239095/2239722327.py:29: UserWarning: james_preds/XYZres022_0001_dst_skel.tif is a low contrast image\n",
      "  io.imsave(re.sub('seg.npy','dst_skel.tif',file_0001),skel_dst_0001)\n",
      " 36%|███▌      | 17/47 [09:32<16:28, 32.94s/it]/tmp/ipykernel_239095/2239722327.py:24: UserWarning: james_preds/XYZres023_dst_skel.tif is a low contrast image\n",
      "  io.imsave(re.sub('seg.npy','dst_skel.tif',file),skel_dst)\n",
      "/tmp/ipykernel_239095/2239722327.py:29: UserWarning: james_preds/XYZres023_0001_dst_skel.tif is a low contrast image\n",
      "  io.imsave(re.sub('seg.npy','dst_skel.tif',file_0001),skel_dst_0001)\n",
      " 38%|███▊      | 18/47 [10:06<16:01, 33.15s/it]/tmp/ipykernel_239095/2239722327.py:24: UserWarning: james_preds/XYZres024_dst_skel.tif is a low contrast image\n",
      "  io.imsave(re.sub('seg.npy','dst_skel.tif',file),skel_dst)\n",
      "/tmp/ipykernel_239095/2239722327.py:29: UserWarning: james_preds/XYZres024_0001_dst_skel.tif is a low contrast image\n",
      "  io.imsave(re.sub('seg.npy','dst_skel.tif',file_0001),skel_dst_0001)\n",
      " 40%|████      | 19/47 [10:38<15:23, 32.99s/it]/tmp/ipykernel_239095/2239722327.py:24: UserWarning: james_preds/XYZres025_dst_skel.tif is a low contrast image\n",
      "  io.imsave(re.sub('seg.npy','dst_skel.tif',file),skel_dst)\n",
      "/tmp/ipykernel_239095/2239722327.py:29: UserWarning: james_preds/XYZres025_0001_dst_skel.tif is a low contrast image\n",
      "  io.imsave(re.sub('seg.npy','dst_skel.tif',file_0001),skel_dst_0001)\n",
      " 43%|████▎     | 20/47 [11:12<14:59, 33.31s/it]/tmp/ipykernel_239095/2239722327.py:24: UserWarning: james_preds/XYZres026_dst_skel.tif is a low contrast image\n",
      "  io.imsave(re.sub('seg.npy','dst_skel.tif',file),skel_dst)\n"
     ]
    },
    {
     "name": "stderr",
     "output_type": "stream",
     "text": [
      "/tmp/ipykernel_239095/2239722327.py:29: UserWarning: james_preds/XYZres026_0001_dst_skel.tif is a low contrast image\n",
      "  io.imsave(re.sub('seg.npy','dst_skel.tif',file_0001),skel_dst_0001)\n",
      " 45%|████▍     | 21/47 [11:44<14:13, 32.82s/it]/tmp/ipykernel_239095/2239722327.py:24: UserWarning: james_preds/XYZres027_dst_skel.tif is a low contrast image\n",
      "  io.imsave(re.sub('seg.npy','dst_skel.tif',file),skel_dst)\n",
      "/tmp/ipykernel_239095/2239722327.py:29: UserWarning: james_preds/XYZres027_0001_dst_skel.tif is a low contrast image\n",
      "  io.imsave(re.sub('seg.npy','dst_skel.tif',file_0001),skel_dst_0001)\n",
      " 47%|████▋     | 22/47 [12:17<13:38, 32.72s/it]/tmp/ipykernel_239095/2239722327.py:24: UserWarning: james_preds/XYZres028_dst_skel.tif is a low contrast image\n",
      "  io.imsave(re.sub('seg.npy','dst_skel.tif',file),skel_dst)\n",
      "/tmp/ipykernel_239095/2239722327.py:29: UserWarning: james_preds/XYZres028_0001_dst_skel.tif is a low contrast image\n",
      "  io.imsave(re.sub('seg.npy','dst_skel.tif',file_0001),skel_dst_0001)\n",
      " 49%|████▉     | 23/47 [12:49<13:03, 32.63s/it]/tmp/ipykernel_239095/2239722327.py:24: UserWarning: james_preds/XYZres029_dst_skel.tif is a low contrast image\n",
      "  io.imsave(re.sub('seg.npy','dst_skel.tif',file),skel_dst)\n",
      "/tmp/ipykernel_239095/2239722327.py:29: UserWarning: james_preds/XYZres029_0001_dst_skel.tif is a low contrast image\n",
      "  io.imsave(re.sub('seg.npy','dst_skel.tif',file_0001),skel_dst_0001)\n",
      " 51%|█████     | 24/47 [13:22<12:35, 32.85s/it]/tmp/ipykernel_239095/2239722327.py:24: UserWarning: james_preds/XYZres030_dst_skel.tif is a low contrast image\n",
      "  io.imsave(re.sub('seg.npy','dst_skel.tif',file),skel_dst)\n",
      "/tmp/ipykernel_239095/2239722327.py:29: UserWarning: james_preds/XYZres030_0001_dst_skel.tif is a low contrast image\n",
      "  io.imsave(re.sub('seg.npy','dst_skel.tif',file_0001),skel_dst_0001)\n",
      " 53%|█████▎    | 25/47 [13:55<12:03, 32.89s/it]/tmp/ipykernel_239095/2239722327.py:24: UserWarning: james_preds/XYZres031_dst_skel.tif is a low contrast image\n",
      "  io.imsave(re.sub('seg.npy','dst_skel.tif',file),skel_dst)\n",
      "/tmp/ipykernel_239095/2239722327.py:29: UserWarning: james_preds/XYZres031_0001_dst_skel.tif is a low contrast image\n",
      "  io.imsave(re.sub('seg.npy','dst_skel.tif',file_0001),skel_dst_0001)\n",
      " 55%|█████▌    | 26/47 [14:31<11:46, 33.62s/it]/tmp/ipykernel_239095/2239722327.py:24: UserWarning: james_preds/XYZres032_dst_skel.tif is a low contrast image\n",
      "  io.imsave(re.sub('seg.npy','dst_skel.tif',file),skel_dst)\n",
      "/tmp/ipykernel_239095/2239722327.py:29: UserWarning: james_preds/XYZres032_0001_dst_skel.tif is a low contrast image\n",
      "  io.imsave(re.sub('seg.npy','dst_skel.tif',file_0001),skel_dst_0001)\n",
      " 57%|█████▋    | 27/47 [15:04<11:12, 33.62s/it]/tmp/ipykernel_239095/2239722327.py:24: UserWarning: james_preds/XYZres033_dst_skel.tif is a low contrast image\n",
      "  io.imsave(re.sub('seg.npy','dst_skel.tif',file),skel_dst)\n",
      "/tmp/ipykernel_239095/2239722327.py:29: UserWarning: james_preds/XYZres033_0001_dst_skel.tif is a low contrast image\n",
      "  io.imsave(re.sub('seg.npy','dst_skel.tif',file_0001),skel_dst_0001)\n",
      " 60%|█████▉    | 28/47 [15:40<10:51, 34.27s/it]/tmp/ipykernel_239095/2239722327.py:24: UserWarning: james_preds/XYZres034_dst_skel.tif is a low contrast image\n",
      "  io.imsave(re.sub('seg.npy','dst_skel.tif',file),skel_dst)\n",
      "/tmp/ipykernel_239095/2239722327.py:29: UserWarning: james_preds/XYZres034_0001_dst_skel.tif is a low contrast image\n",
      "  io.imsave(re.sub('seg.npy','dst_skel.tif',file_0001),skel_dst_0001)\n",
      " 62%|██████▏   | 29/47 [16:12<10:03, 33.53s/it]/tmp/ipykernel_239095/2239722327.py:24: UserWarning: james_preds/XYZres035_dst_skel.tif is a low contrast image\n",
      "  io.imsave(re.sub('seg.npy','dst_skel.tif',file),skel_dst)\n",
      "/tmp/ipykernel_239095/2239722327.py:29: UserWarning: james_preds/XYZres035_0001_dst_skel.tif is a low contrast image\n",
      "  io.imsave(re.sub('seg.npy','dst_skel.tif',file_0001),skel_dst_0001)\n",
      " 64%|██████▍   | 30/47 [16:48<09:40, 34.17s/it]/tmp/ipykernel_239095/2239722327.py:24: UserWarning: james_preds/XYZres036_dst_skel.tif is a low contrast image\n",
      "  io.imsave(re.sub('seg.npy','dst_skel.tif',file),skel_dst)\n",
      "/tmp/ipykernel_239095/2239722327.py:29: UserWarning: james_preds/XYZres036_0001_dst_skel.tif is a low contrast image\n",
      "  io.imsave(re.sub('seg.npy','dst_skel.tif',file_0001),skel_dst_0001)\n",
      " 66%|██████▌   | 31/47 [17:20<08:56, 33.56s/it]/tmp/ipykernel_239095/2239722327.py:24: UserWarning: james_preds/XYZres037_dst_skel.tif is a low contrast image\n",
      "  io.imsave(re.sub('seg.npy','dst_skel.tif',file),skel_dst)\n",
      "/tmp/ipykernel_239095/2239722327.py:29: UserWarning: james_preds/XYZres037_0001_dst_skel.tif is a low contrast image\n",
      "  io.imsave(re.sub('seg.npy','dst_skel.tif',file_0001),skel_dst_0001)\n",
      " 68%|██████▊   | 32/47 [17:56<08:35, 34.35s/it]/tmp/ipykernel_239095/2239722327.py:24: UserWarning: james_preds/XYZres038_dst_skel.tif is a low contrast image\n",
      "  io.imsave(re.sub('seg.npy','dst_skel.tif',file),skel_dst)\n",
      "/tmp/ipykernel_239095/2239722327.py:29: UserWarning: james_preds/XYZres038_0001_dst_skel.tif is a low contrast image\n",
      "  io.imsave(re.sub('seg.npy','dst_skel.tif',file_0001),skel_dst_0001)\n",
      " 70%|███████   | 33/47 [18:28<07:52, 33.73s/it]/tmp/ipykernel_239095/2239722327.py:24: UserWarning: james_preds/XYZres039_dst_skel.tif is a low contrast image\n",
      "  io.imsave(re.sub('seg.npy','dst_skel.tif',file),skel_dst)\n",
      "/tmp/ipykernel_239095/2239722327.py:29: UserWarning: james_preds/XYZres039_0001_dst_skel.tif is a low contrast image\n",
      "  io.imsave(re.sub('seg.npy','dst_skel.tif',file_0001),skel_dst_0001)\n",
      " 72%|███████▏  | 34/47 [19:03<07:21, 33.94s/it]/tmp/ipykernel_239095/2239722327.py:24: UserWarning: james_preds/XYZres040_dst_skel.tif is a low contrast image\n",
      "  io.imsave(re.sub('seg.npy','dst_skel.tif',file),skel_dst)\n",
      "/tmp/ipykernel_239095/2239722327.py:29: UserWarning: james_preds/XYZres040_0001_dst_skel.tif is a low contrast image\n",
      "  io.imsave(re.sub('seg.npy','dst_skel.tif',file_0001),skel_dst_0001)\n",
      " 74%|███████▍  | 35/47 [19:34<06:39, 33.31s/it]/tmp/ipykernel_239095/2239722327.py:24: UserWarning: james_preds/XYZres041_dst_skel.tif is a low contrast image\n",
      "  io.imsave(re.sub('seg.npy','dst_skel.tif',file),skel_dst)\n",
      "/tmp/ipykernel_239095/2239722327.py:29: UserWarning: james_preds/XYZres041_0001_dst_skel.tif is a low contrast image\n",
      "  io.imsave(re.sub('seg.npy','dst_skel.tif',file_0001),skel_dst_0001)\n",
      " 77%|███████▋  | 36/47 [20:09<06:09, 33.60s/it]/tmp/ipykernel_239095/2239722327.py:24: UserWarning: james_preds/XYZres042_dst_skel.tif is a low contrast image\n",
      "  io.imsave(re.sub('seg.npy','dst_skel.tif',file),skel_dst)\n",
      "/tmp/ipykernel_239095/2239722327.py:29: UserWarning: james_preds/XYZres042_0001_dst_skel.tif is a low contrast image\n",
      "  io.imsave(re.sub('seg.npy','dst_skel.tif',file_0001),skel_dst_0001)\n",
      " 79%|███████▊  | 37/47 [20:41<05:32, 33.23s/it]/tmp/ipykernel_239095/2239722327.py:24: UserWarning: james_preds/XYZres043_dst_skel.tif is a low contrast image\n",
      "  io.imsave(re.sub('seg.npy','dst_skel.tif',file),skel_dst)\n",
      "/tmp/ipykernel_239095/2239722327.py:29: UserWarning: james_preds/XYZres043_0001_dst_skel.tif is a low contrast image\n",
      "  io.imsave(re.sub('seg.npy','dst_skel.tif',file_0001),skel_dst_0001)\n",
      " 81%|████████  | 38/47 [21:15<05:01, 33.55s/it]/tmp/ipykernel_239095/2239722327.py:24: UserWarning: james_preds/XYZres044_dst_skel.tif is a low contrast image\n",
      "  io.imsave(re.sub('seg.npy','dst_skel.tif',file),skel_dst)\n",
      "/tmp/ipykernel_239095/2239722327.py:29: UserWarning: james_preds/XYZres044_0001_dst_skel.tif is a low contrast image\n",
      "  io.imsave(re.sub('seg.npy','dst_skel.tif',file_0001),skel_dst_0001)\n",
      " 83%|████████▎ | 39/47 [21:47<04:24, 33.11s/it]/tmp/ipykernel_239095/2239722327.py:24: UserWarning: james_preds/XYZres045_dst_skel.tif is a low contrast image\n",
      "  io.imsave(re.sub('seg.npy','dst_skel.tif',file),skel_dst)\n",
      "/tmp/ipykernel_239095/2239722327.py:29: UserWarning: james_preds/XYZres045_0001_dst_skel.tif is a low contrast image\n",
      "  io.imsave(re.sub('seg.npy','dst_skel.tif',file_0001),skel_dst_0001)\n",
      " 85%|████████▌ | 40/47 [22:22<03:55, 33.63s/it]/tmp/ipykernel_239095/2239722327.py:24: UserWarning: james_preds/XYZres046_dst_skel.tif is a low contrast image\n",
      "  io.imsave(re.sub('seg.npy','dst_skel.tif',file),skel_dst)\n",
      "/tmp/ipykernel_239095/2239722327.py:29: UserWarning: james_preds/XYZres046_0001_dst_skel.tif is a low contrast image\n",
      "  io.imsave(re.sub('seg.npy','dst_skel.tif',file_0001),skel_dst_0001)\n"
     ]
    },
    {
     "name": "stderr",
     "output_type": "stream",
     "text": [
      " 87%|████████▋ | 41/47 [22:55<03:19, 33.29s/it]/tmp/ipykernel_239095/2239722327.py:24: UserWarning: james_preds/XYZres047_dst_skel.tif is a low contrast image\n",
      "  io.imsave(re.sub('seg.npy','dst_skel.tif',file),skel_dst)\n",
      "/tmp/ipykernel_239095/2239722327.py:29: UserWarning: james_preds/XYZres047_0001_dst_skel.tif is a low contrast image\n",
      "  io.imsave(re.sub('seg.npy','dst_skel.tif',file_0001),skel_dst_0001)\n",
      " 89%|████████▉ | 42/47 [23:26<02:42, 32.58s/it]/tmp/ipykernel_239095/2239722327.py:24: UserWarning: james_preds/XYZres048_dst_skel.tif is a low contrast image\n",
      "  io.imsave(re.sub('seg.npy','dst_skel.tif',file),skel_dst)\n",
      "/tmp/ipykernel_239095/2239722327.py:29: UserWarning: james_preds/XYZres048_0001_dst_skel.tif is a low contrast image\n",
      "  io.imsave(re.sub('seg.npy','dst_skel.tif',file_0001),skel_dst_0001)\n",
      " 91%|█████████▏| 43/47 [23:58<02:10, 32.61s/it]/tmp/ipykernel_239095/2239722327.py:24: UserWarning: james_preds/XYZres049_dst_skel.tif is a low contrast image\n",
      "  io.imsave(re.sub('seg.npy','dst_skel.tif',file),skel_dst)\n",
      "/tmp/ipykernel_239095/2239722327.py:29: UserWarning: james_preds/XYZres049_0001_dst_skel.tif is a low contrast image\n",
      "  io.imsave(re.sub('seg.npy','dst_skel.tif',file_0001),skel_dst_0001)\n",
      " 94%|█████████▎| 44/47 [24:30<01:36, 32.27s/it]/tmp/ipykernel_239095/2239722327.py:24: UserWarning: james_preds/XYZres050_dst_skel.tif is a low contrast image\n",
      "  io.imsave(re.sub('seg.npy','dst_skel.tif',file),skel_dst)\n",
      "/tmp/ipykernel_239095/2239722327.py:29: UserWarning: james_preds/XYZres050_0001_dst_skel.tif is a low contrast image\n",
      "  io.imsave(re.sub('seg.npy','dst_skel.tif',file_0001),skel_dst_0001)\n",
      " 96%|█████████▌| 45/47 [25:02<01:04, 32.34s/it]/tmp/ipykernel_239095/2239722327.py:24: UserWarning: james_preds/XYZres051_dst_skel.tif is a low contrast image\n",
      "  io.imsave(re.sub('seg.npy','dst_skel.tif',file),skel_dst)\n",
      "/tmp/ipykernel_239095/2239722327.py:29: UserWarning: james_preds/XYZres051_0001_dst_skel.tif is a low contrast image\n",
      "  io.imsave(re.sub('seg.npy','dst_skel.tif',file_0001),skel_dst_0001)\n",
      " 98%|█████████▊| 46/47 [25:34<00:32, 32.12s/it]/tmp/ipykernel_239095/2239722327.py:24: UserWarning: james_preds/XYZres052_dst_skel.tif is a low contrast image\n",
      "  io.imsave(re.sub('seg.npy','dst_skel.tif',file),skel_dst)\n",
      "/tmp/ipykernel_239095/2239722327.py:29: UserWarning: james_preds/XYZres052_0001_dst_skel.tif is a low contrast image\n",
      "  io.imsave(re.sub('seg.npy','dst_skel.tif',file_0001),skel_dst_0001)\n",
      "100%|██████████| 47/47 [26:07<00:00, 33.34s/it]\n"
     ]
    }
   ],
   "source": [
    "for file_0001 in tqdm(files_seg_0001):\n",
    "    file = file_0001\n",
    "    skel_file = re.sub('seg_warped.tif','skel_warped.mat',file)\n",
    "    seg = np.load(file)\n",
    "    skel = loadmat(skel_file)\n",
    "    skel = loadmat(skel_file)['FilteredImage']\n",
    "    #skel = skeletonize_3d(skel)\n",
    "    skel = remove_small_comps_3d(skel,10)\n",
    "    dst_tsfm = distance_transform_edt(seg)*0.99436\n",
    "    dst_tsfm[dst_tsfm==0]=0.00001\n",
    "    skel_dst = skel*dst_tsfm\n",
    "\n",
    "    \n",
    "    np.save(re.sub('seg','dst_skel',file),skel_dst)\n",
    "    io.imsave(re.sub('seg.npy','dst_skel.tif',file),skel_dst)\n",
    "    graph = sknw.build_sknw(skel_dst, multi=False)\n",
    "    #print(len(graph.edges))\n",
    "    \n",
    "    #print(len(graph_0001.edges))\n",
    "    #pickle.dump(graph, open(str(re.sub('_seg.npy','.pickle',file)), 'w'))\n",
    "    #nx.write_pajek(graph,re.sub('_seg.npy','.pajek',file))\n",
    "    nx.write_gpickle(graph,re.sub('_seg.npy','.pickle',file))\n",
    "    nx.write_gpickle(graph_0001,re.sub('_seg.npy','.pickle',file_0001))\n",
    "    #raph.to_csv(re.sub('seg.npy','graph.csv',file))"
   ]
  },
  {
   "cell_type": "code",
   "execution_count": 22,
   "metadata": {},
   "outputs": [
    {
     "data": {
      "text/plain": [
       "(507, 507, 252)"
      ]
     },
     "execution_count": 22,
     "metadata": {},
     "output_type": "execute_result"
    }
   ],
   "source": [
    "skel_dst_0001.shape"
   ]
  },
  {
   "cell_type": "code",
   "execution_count": 31,
   "metadata": {},
   "outputs": [
    {
     "data": {
      "text/plain": [
       "'james_preds/XYZres006_0001.pickle'"
      ]
     },
     "execution_count": 31,
     "metadata": {},
     "output_type": "execute_result"
    }
   ],
   "source": [
    "re.sub('_seg.npy','.pickle',file)"
   ]
  },
  {
   "cell_type": "code",
   "execution_count": null,
   "metadata": {},
   "outputs": [],
   "source": [
    "skel_file = re.sub('seg.npy','skel.mat',file)"
   ]
  },
  {
   "cell_type": "code",
   "execution_count": 27,
   "metadata": {},
   "outputs": [
    {
     "data": {
      "text/plain": [
       "{'pts': array([[  3, 419,  33],\n",
       "        [  4, 419,  33],\n",
       "        [  5, 419,  33],\n",
       "        [  6, 419,  32],\n",
       "        [  7, 419,  31],\n",
       "        [  8, 419,  31],\n",
       "        [  9, 419,  31],\n",
       "        [ 10, 419,  30],\n",
       "        [ 11, 419,  29],\n",
       "        [ 12, 419,  28],\n",
       "        [ 13, 419,  27],\n",
       "        [ 14, 419,  27],\n",
       "        [ 15, 420,  26],\n",
       "        [ 16, 420,  25],\n",
       "        [ 17, 420,  25],\n",
       "        [ 18, 420,  25],\n",
       "        [ 19, 420,  25],\n",
       "        [ 20, 420,  25],\n",
       "        [ 21, 420,  24],\n",
       "        [ 22, 420,  23],\n",
       "        [ 23, 420,  22],\n",
       "        [ 24, 420,  21],\n",
       "        [ 25, 420,  20],\n",
       "        [ 26, 420,  19],\n",
       "        [ 26, 420,  18],\n",
       "        [ 26, 420,  17],\n",
       "        [ 27, 421,  16],\n",
       "        [ 28, 421,  15],\n",
       "        [ 29, 421,  14],\n",
       "        [ 30, 421,  14],\n",
       "        [ 31, 421,  13],\n",
       "        [ 31, 421,  12],\n",
       "        [ 32, 421,  11],\n",
       "        [ 33, 421,  10],\n",
       "        [ 34, 421,  10],\n",
       "        [ 35, 421,   9],\n",
       "        [ 36, 421,   9],\n",
       "        [ 37, 421,   8],\n",
       "        [ 38, 421,   9],\n",
       "        [ 39, 421,  10],\n",
       "        [ 40, 422,  11],\n",
       "        [ 41, 422,  11],\n",
       "        [ 42, 422,  12]], dtype=int16),\n",
       " 'weight': 53.72306435728781}"
      ]
     },
     "execution_count": 27,
     "metadata": {},
     "output_type": "execute_result"
    }
   ],
   "source": [
    "graph[0][39]"
   ]
  },
  {
   "cell_type": "code",
   "execution_count": null,
   "metadata": {},
   "outputs": [],
   "source": [
    "re.sub('seg.npy','graph.csv',file_0001)"
   ]
  },
  {
   "cell_type": "code",
   "execution_count": null,
   "metadata": {},
   "outputs": [],
   "source": [
    "files[22:24]"
   ]
  },
  {
   "cell_type": "code",
   "execution_count": null,
   "metadata": {},
   "outputs": [],
   "source": []
  }
 ],
 "metadata": {
  "kernelspec": {
   "display_name": "graph",
   "language": "python",
   "name": "graph"
  },
  "language_info": {
   "codemirror_mode": {
    "name": "ipython",
    "version": 3
   },
   "file_extension": ".py",
   "mimetype": "text/x-python",
   "name": "python",
   "nbconvert_exporter": "python",
   "pygments_lexer": "ipython3",
   "version": "3.8.5"
  }
 },
 "nbformat": 4,
 "nbformat_minor": 5
}
