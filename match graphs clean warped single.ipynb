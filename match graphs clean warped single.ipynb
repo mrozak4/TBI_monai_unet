{
 "cells": [
  {
   "cell_type": "code",
   "execution_count": 20,
   "id": "b12670d1",
   "metadata": {},
   "outputs": [],
   "source": [
    "import numpy as np\n",
    "from pathlib import Path\n",
    "import re\n",
    "from tqdm import tqdm\n",
    "from skimage import io\n",
    "from skimage.morphology import skeletonize_3d, binary_dilation\n",
    "from scipy.ndimage import distance_transform_edt\n",
    "import tifffile as tif\n",
    "from scipy.ndimage import binary_fill_holes \n",
    "import cc3d\n",
    "from scipy.io import loadmat, savemat\n",
    "import skan\n",
    "import networkx as nx\n",
    "from collections import Counter\n",
    "import pandas as pd\n",
    "import matplotlib.pyplot as plt"
   ]
  },
  {
   "cell_type": "code",
   "execution_count": null,
   "id": "a1abca17",
   "metadata": {},
   "outputs": [],
   "source": []
  },
  {
   "cell_type": "code",
   "execution_count": 21,
   "id": "6c937ac0",
   "metadata": {},
   "outputs": [
    {
     "name": "stdout",
     "output_type": "stream",
     "text": [
      "james_preds/XYZres007_0001_warped_single.pickle\n"
     ]
    }
   ],
   "source": [
    "directory = Path('james_preds')\n",
    "files  = directory.glob('*?[0-9]_warped_single.pickle')\n",
    "files = sorted([x.as_posix() for x in files])[2:]\n",
    "files = [x for x in files if 'clean' not in x]\n",
    "len(files)\n",
    "print(files[0])"
   ]
  },
  {
   "cell_type": "code",
   "execution_count": 22,
   "id": "f8254a34",
   "metadata": {},
   "outputs": [
    {
     "name": "stderr",
     "output_type": "stream",
     "text": [
      "  0%|          | 0/92 [00:00<?, ?it/s]"
     ]
    },
    {
     "name": "stdout",
     "output_type": "stream",
     "text": [
      "james_preds/XYZres007_0001_warped_single.pickle\n",
      "james_preds/XYZres007_0001_seg_warped_filled.tif\n",
      "james_preds_PV_CAP/XYZres007_0001_mean.npy\n"
     ]
    },
    {
     "name": "stderr",
     "output_type": "stream",
     "text": [
      "  1%|          | 1/92 [00:14<21:28, 14.15s/it]"
     ]
    },
    {
     "name": "stdout",
     "output_type": "stream",
     "text": [
      "james_preds/XYZres007_warped_single.pickle\n",
      "james_preds/XYZres007_seg_warped_filled.tif\n",
      "james_preds_PV_CAP/XYZres007_mean.npy\n"
     ]
    },
    {
     "name": "stderr",
     "output_type": "stream",
     "text": [
      "  2%|▏         | 2/92 [00:28<21:05, 14.07s/it]"
     ]
    },
    {
     "name": "stdout",
     "output_type": "stream",
     "text": [
      "james_preds/XYZres008_0001_warped_single.pickle\n",
      "james_preds/XYZres008_0001_seg_warped_filled.tif\n",
      "james_preds_PV_CAP/XYZres008_0001_mean.npy\n"
     ]
    },
    {
     "name": "stderr",
     "output_type": "stream",
     "text": [
      "  3%|▎         | 3/92 [00:45<23:16, 15.69s/it]"
     ]
    },
    {
     "name": "stdout",
     "output_type": "stream",
     "text": [
      "james_preds/XYZres008_warped_single.pickle\n",
      "james_preds/XYZres008_seg_warped_filled.tif\n",
      "james_preds_PV_CAP/XYZres008_mean.npy\n"
     ]
    },
    {
     "name": "stderr",
     "output_type": "stream",
     "text": [
      "  4%|▍         | 4/92 [01:01<22:45, 15.51s/it]"
     ]
    },
    {
     "name": "stdout",
     "output_type": "stream",
     "text": [
      "james_preds/XYZres009_0001_warped_single.pickle\n",
      "james_preds/XYZres009_0001_seg_warped_filled.tif\n",
      "james_preds_PV_CAP/XYZres009_0001_mean.npy\n"
     ]
    },
    {
     "name": "stderr",
     "output_type": "stream",
     "text": [
      "  5%|▌         | 5/92 [01:16<22:38, 15.62s/it]"
     ]
    },
    {
     "name": "stdout",
     "output_type": "stream",
     "text": [
      "james_preds/XYZres009_warped_single.pickle\n",
      "james_preds/XYZres009_seg_warped_filled.tif\n",
      "james_preds_PV_CAP/XYZres009_mean.npy\n"
     ]
    },
    {
     "name": "stderr",
     "output_type": "stream",
     "text": [
      "  7%|▋         | 6/92 [01:32<22:12, 15.49s/it]"
     ]
    },
    {
     "name": "stdout",
     "output_type": "stream",
     "text": [
      "james_preds/XYZres010_0001_warped_single.pickle\n",
      "james_preds/XYZres010_0001_seg_warped_filled.tif\n",
      "james_preds_PV_CAP/XYZres010_0001_mean.npy\n"
     ]
    },
    {
     "name": "stderr",
     "output_type": "stream",
     "text": [
      "  8%|▊         | 7/92 [01:46<21:30, 15.18s/it]"
     ]
    },
    {
     "name": "stdout",
     "output_type": "stream",
     "text": [
      "james_preds/XYZres010_warped_single.pickle\n",
      "james_preds/XYZres010_seg_warped_filled.tif\n",
      "james_preds_PV_CAP/XYZres010_mean.npy\n"
     ]
    },
    {
     "name": "stderr",
     "output_type": "stream",
     "text": [
      "  9%|▊         | 8/92 [02:05<22:50, 16.32s/it]"
     ]
    },
    {
     "name": "stdout",
     "output_type": "stream",
     "text": [
      "james_preds/XYZres011_0001_warped_single.pickle\n",
      "james_preds/XYZres011_0001_seg_warped_filled.tif\n",
      "james_preds_PV_CAP/XYZres011_0001_mean.npy\n"
     ]
    },
    {
     "name": "stderr",
     "output_type": "stream",
     "text": [
      " 10%|▉         | 9/92 [02:21<22:19, 16.14s/it]"
     ]
    },
    {
     "name": "stdout",
     "output_type": "stream",
     "text": [
      "james_preds/XYZres011_warped_single.pickle\n",
      "james_preds/XYZres011_seg_warped_filled.tif\n",
      "james_preds_PV_CAP/XYZres011_mean.npy\n"
     ]
    },
    {
     "name": "stderr",
     "output_type": "stream",
     "text": [
      " 11%|█         | 10/92 [02:37<22:00, 16.10s/it]"
     ]
    },
    {
     "name": "stdout",
     "output_type": "stream",
     "text": [
      "james_preds/XYZres012_0001_warped_single.pickle\n",
      "james_preds/XYZres012_0001_seg_warped_filled.tif\n",
      "james_preds_PV_CAP/XYZres012_0001_mean.npy\n"
     ]
    },
    {
     "name": "stderr",
     "output_type": "stream",
     "text": [
      " 12%|█▏        | 11/92 [02:52<21:19, 15.80s/it]"
     ]
    },
    {
     "name": "stdout",
     "output_type": "stream",
     "text": [
      "james_preds/XYZres012_warped_single.pickle\n",
      "james_preds/XYZres012_seg_warped_filled.tif\n",
      "james_preds_PV_CAP/XYZres012_mean.npy\n"
     ]
    },
    {
     "name": "stderr",
     "output_type": "stream",
     "text": [
      " 13%|█▎        | 12/92 [03:07<20:41, 15.52s/it]"
     ]
    },
    {
     "name": "stdout",
     "output_type": "stream",
     "text": [
      "james_preds/XYZres013_0001_warped_single.pickle\n",
      "james_preds/XYZres013_0001_seg_warped_filled.tif\n",
      "james_preds_PV_CAP/XYZres013_0001_mean.npy\n"
     ]
    },
    {
     "name": "stderr",
     "output_type": "stream",
     "text": [
      " 14%|█▍        | 13/92 [03:25<21:45, 16.52s/it]"
     ]
    },
    {
     "name": "stdout",
     "output_type": "stream",
     "text": [
      "james_preds/XYZres013_warped_single.pickle\n",
      "james_preds/XYZres013_seg_warped_filled.tif\n",
      "james_preds_PV_CAP/XYZres013_mean.npy\n"
     ]
    },
    {
     "name": "stderr",
     "output_type": "stream",
     "text": [
      " 15%|█▌        | 14/92 [03:41<20:54, 16.09s/it]"
     ]
    },
    {
     "name": "stdout",
     "output_type": "stream",
     "text": [
      "james_preds/XYZres014_0001_warped_single.pickle\n",
      "james_preds/XYZres014_0001_seg_warped_filled.tif\n",
      "james_preds_PV_CAP/XYZres014_0001_mean.npy\n"
     ]
    },
    {
     "name": "stderr",
     "output_type": "stream",
     "text": [
      " 16%|█▋        | 15/92 [03:55<20:07, 15.68s/it]"
     ]
    },
    {
     "name": "stdout",
     "output_type": "stream",
     "text": [
      "james_preds/XYZres014_warped_single.pickle\n",
      "james_preds/XYZres014_seg_warped_filled.tif\n",
      "james_preds_PV_CAP/XYZres014_mean.npy\n"
     ]
    },
    {
     "name": "stderr",
     "output_type": "stream",
     "text": [
      " 17%|█▋        | 16/92 [04:13<20:43, 16.36s/it]"
     ]
    },
    {
     "name": "stdout",
     "output_type": "stream",
     "text": [
      "james_preds/XYZres015_0001_warped_single.pickle\n",
      "james_preds/XYZres015_0001_seg_warped_filled.tif\n",
      "james_preds_PV_CAP/XYZres015_0001_mean.npy\n"
     ]
    },
    {
     "name": "stderr",
     "output_type": "stream",
     "text": [
      " 18%|█▊        | 17/92 [04:27<19:32, 15.63s/it]"
     ]
    },
    {
     "name": "stdout",
     "output_type": "stream",
     "text": [
      "james_preds/XYZres015_warped_single.pickle\n",
      "james_preds/XYZres015_seg_warped_filled.tif\n",
      "james_preds_PV_CAP/XYZres015_mean.npy\n"
     ]
    },
    {
     "name": "stderr",
     "output_type": "stream",
     "text": [
      " 20%|█▉        | 18/92 [04:41<18:43, 15.19s/it]"
     ]
    },
    {
     "name": "stdout",
     "output_type": "stream",
     "text": [
      "james_preds/XYZres016_0001_warped_single.pickle\n",
      "james_preds/XYZres016_0001_seg_warped_filled.tif\n",
      "james_preds_PV_CAP/XYZres016_0001_mean.npy\n"
     ]
    },
    {
     "name": "stderr",
     "output_type": "stream",
     "text": [
      " 21%|██        | 19/92 [04:56<18:16, 15.03s/it]"
     ]
    },
    {
     "name": "stdout",
     "output_type": "stream",
     "text": [
      "james_preds/XYZres016_warped_single.pickle\n",
      "james_preds/XYZres016_seg_warped_filled.tif\n",
      "james_preds_PV_CAP/XYZres016_mean.npy\n"
     ]
    },
    {
     "name": "stderr",
     "output_type": "stream",
     "text": [
      " 22%|██▏       | 20/92 [05:14<19:14, 16.04s/it]"
     ]
    },
    {
     "name": "stdout",
     "output_type": "stream",
     "text": [
      "james_preds/XYZres017_0001_warped_single.pickle\n",
      "james_preds/XYZres017_0001_seg_warped_filled.tif\n",
      "james_preds_PV_CAP/XYZres017_0001_mean.npy\n"
     ]
    },
    {
     "name": "stderr",
     "output_type": "stream",
     "text": [
      " 23%|██▎       | 21/92 [05:28<18:11, 15.37s/it]"
     ]
    },
    {
     "name": "stdout",
     "output_type": "stream",
     "text": [
      "james_preds/XYZres017_warped_single.pickle\n",
      "james_preds/XYZres017_seg_warped_filled.tif\n",
      "james_preds_PV_CAP/XYZres017_mean.npy\n"
     ]
    },
    {
     "name": "stderr",
     "output_type": "stream",
     "text": [
      " 24%|██▍       | 22/92 [05:42<17:26, 14.95s/it]"
     ]
    },
    {
     "name": "stdout",
     "output_type": "stream",
     "text": [
      "james_preds/XYZres018_0001_warped_single.pickle\n",
      "james_preds/XYZres018_0001_seg_warped_filled.tif\n",
      "james_preds_PV_CAP/XYZres018_0001_mean.npy\n"
     ]
    },
    {
     "name": "stderr",
     "output_type": "stream",
     "text": [
      " 25%|██▌       | 23/92 [05:58<17:30, 15.23s/it]"
     ]
    },
    {
     "name": "stdout",
     "output_type": "stream",
     "text": [
      "james_preds/XYZres018_warped_single.pickle\n",
      "james_preds/XYZres018_seg_warped_filled.tif\n",
      "james_preds_PV_CAP/XYZres018_mean.npy\n"
     ]
    },
    {
     "name": "stderr",
     "output_type": "stream",
     "text": [
      " 26%|██▌       | 24/92 [06:17<18:25, 16.26s/it]"
     ]
    },
    {
     "name": "stdout",
     "output_type": "stream",
     "text": [
      "james_preds/XYZres019_0001_warped_single.pickle\n",
      "james_preds/XYZres019_0001_seg_warped_filled.tif\n",
      "james_preds_PV_CAP/XYZres019_0001_mean.npy\n"
     ]
    },
    {
     "name": "stderr",
     "output_type": "stream",
     "text": [
      " 27%|██▋       | 25/92 [06:30<17:11, 15.40s/it]"
     ]
    },
    {
     "name": "stdout",
     "output_type": "stream",
     "text": [
      "james_preds/XYZres019_warped_single.pickle\n",
      "james_preds/XYZres019_seg_warped_filled.tif\n",
      "james_preds_PV_CAP/XYZres019_mean.npy\n"
     ]
    },
    {
     "name": "stderr",
     "output_type": "stream",
     "text": [
      " 28%|██▊       | 26/92 [06:45<16:54, 15.37s/it]"
     ]
    },
    {
     "name": "stdout",
     "output_type": "stream",
     "text": [
      "james_preds/XYZres020_0001_warped_single.pickle\n",
      "james_preds/XYZres020_0001_seg_warped_filled.tif\n",
      "james_preds_PV_CAP/XYZres020_0001_mean.npy\n"
     ]
    },
    {
     "name": "stderr",
     "output_type": "stream",
     "text": [
      " 29%|██▉       | 27/92 [07:00<16:19, 15.07s/it]"
     ]
    },
    {
     "name": "stdout",
     "output_type": "stream",
     "text": [
      "james_preds/XYZres020_warped_single.pickle\n",
      "james_preds/XYZres020_seg_warped_filled.tif\n",
      "james_preds_PV_CAP/XYZres020_mean.npy\n"
     ]
    },
    {
     "name": "stderr",
     "output_type": "stream",
     "text": [
      " 30%|███       | 28/92 [07:17<16:46, 15.73s/it]"
     ]
    },
    {
     "name": "stdout",
     "output_type": "stream",
     "text": [
      "james_preds/XYZres021_0001_warped_single.pickle\n",
      "james_preds/XYZres021_0001_seg_warped_filled.tif\n",
      "james_preds_PV_CAP/XYZres021_0001_mean.npy\n"
     ]
    },
    {
     "name": "stderr",
     "output_type": "stream",
     "text": [
      " 32%|███▏      | 29/92 [07:32<16:13, 15.45s/it]"
     ]
    },
    {
     "name": "stdout",
     "output_type": "stream",
     "text": [
      "james_preds/XYZres021_warped_single.pickle\n",
      "james_preds/XYZres021_seg_warped_filled.tif\n",
      "james_preds_PV_CAP/XYZres021_mean.npy\n"
     ]
    },
    {
     "name": "stderr",
     "output_type": "stream",
     "text": [
      " 33%|███▎      | 30/92 [07:47<15:44, 15.24s/it]"
     ]
    },
    {
     "name": "stdout",
     "output_type": "stream",
     "text": [
      "james_preds/XYZres022_0001_warped_single.pickle\n",
      "james_preds/XYZres022_0001_seg_warped_filled.tif\n",
      "james_preds_PV_CAP/XYZres022_0001_mean.npy\n"
     ]
    },
    {
     "name": "stderr",
     "output_type": "stream",
     "text": [
      " 34%|███▎      | 31/92 [08:01<15:14, 15.00s/it]"
     ]
    },
    {
     "name": "stdout",
     "output_type": "stream",
     "text": [
      "james_preds/XYZres022_warped_single.pickle\n",
      "james_preds/XYZres022_seg_warped_filled.tif\n",
      "james_preds_PV_CAP/XYZres022_mean.npy\n"
     ]
    },
    {
     "name": "stderr",
     "output_type": "stream",
     "text": [
      " 35%|███▍      | 32/92 [08:20<16:15, 16.26s/it]"
     ]
    },
    {
     "name": "stdout",
     "output_type": "stream",
     "text": [
      "james_preds/XYZres023_0001_warped_single.pickle\n",
      "james_preds/XYZres023_0001_seg_warped_filled.tif\n",
      "james_preds_PV_CAP/XYZres023_0001_mean.npy\n"
     ]
    },
    {
     "name": "stderr",
     "output_type": "stream",
     "text": [
      " 36%|███▌      | 33/92 [08:36<15:52, 16.15s/it]"
     ]
    },
    {
     "name": "stdout",
     "output_type": "stream",
     "text": [
      "james_preds/XYZres023_warped_single.pickle\n",
      "james_preds/XYZres023_seg_warped_filled.tif\n",
      "james_preds_PV_CAP/XYZres023_mean.npy\n"
     ]
    },
    {
     "name": "stderr",
     "output_type": "stream",
     "text": [
      " 37%|███▋      | 34/92 [08:53<15:42, 16.25s/it]"
     ]
    },
    {
     "name": "stdout",
     "output_type": "stream",
     "text": [
      "james_preds/XYZres024_0001_warped_single.pickle\n",
      "james_preds/XYZres024_0001_seg_warped_filled.tif\n",
      "james_preds_PV_CAP/XYZres024_0001_mean.npy\n"
     ]
    },
    {
     "name": "stderr",
     "output_type": "stream",
     "text": [
      " 38%|███▊      | 35/92 [09:11<16:11, 17.05s/it]"
     ]
    },
    {
     "name": "stdout",
     "output_type": "stream",
     "text": [
      "james_preds/XYZres024_warped_single.pickle\n",
      "james_preds/XYZres024_seg_warped_filled.tif\n",
      "james_preds_PV_CAP/XYZres024_mean.npy\n"
     ]
    },
    {
     "name": "stderr",
     "output_type": "stream",
     "text": [
      " 39%|███▉      | 36/92 [09:27<15:30, 16.62s/it]"
     ]
    },
    {
     "name": "stdout",
     "output_type": "stream",
     "text": [
      "james_preds/XYZres025_0001_warped_single.pickle\n",
      "james_preds/XYZres025_0001_seg_warped_filled.tif\n",
      "james_preds_PV_CAP/XYZres025_0001_mean.npy\n"
     ]
    },
    {
     "name": "stderr",
     "output_type": "stream",
     "text": [
      " 40%|████      | 37/92 [09:43<14:54, 16.26s/it]"
     ]
    },
    {
     "name": "stdout",
     "output_type": "stream",
     "text": [
      "james_preds/XYZres025_warped_single.pickle\n",
      "james_preds/XYZres025_seg_warped_filled.tif\n",
      "james_preds_PV_CAP/XYZres025_mean.npy\n"
     ]
    },
    {
     "name": "stderr",
     "output_type": "stream",
     "text": [
      " 41%|████▏     | 38/92 [09:58<14:23, 15.99s/it]"
     ]
    },
    {
     "name": "stdout",
     "output_type": "stream",
     "text": [
      "james_preds/XYZres026_0001_warped_single.pickle\n",
      "james_preds/XYZres026_0001_seg_warped_filled.tif\n",
      "james_preds_PV_CAP/XYZres026_0001_mean.npy\n"
     ]
    },
    {
     "name": "stderr",
     "output_type": "stream",
     "text": [
      " 42%|████▏     | 39/92 [10:13<13:52, 15.70s/it]"
     ]
    },
    {
     "name": "stdout",
     "output_type": "stream",
     "text": [
      "james_preds/XYZres026_warped_single.pickle\n",
      "james_preds/XYZres026_seg_warped_filled.tif\n",
      "james_preds_PV_CAP/XYZres026_mean.npy\n"
     ]
    },
    {
     "name": "stderr",
     "output_type": "stream",
     "text": [
      " 43%|████▎     | 40/92 [10:32<14:23, 16.61s/it]"
     ]
    },
    {
     "name": "stdout",
     "output_type": "stream",
     "text": [
      "james_preds/XYZres027_0001_warped_single.pickle\n",
      "james_preds/XYZres027_0001_seg_warped_filled.tif\n",
      "james_preds_PV_CAP/XYZres027_0001_mean.npy\n"
     ]
    },
    {
     "name": "stderr",
     "output_type": "stream",
     "text": [
      " 45%|████▍     | 41/92 [10:49<14:21, 16.89s/it]"
     ]
    },
    {
     "name": "stdout",
     "output_type": "stream",
     "text": [
      "james_preds/XYZres027_warped_single.pickle\n",
      "james_preds/XYZres027_seg_warped_filled.tif\n",
      "james_preds_PV_CAP/XYZres027_mean.npy\n"
     ]
    },
    {
     "name": "stderr",
     "output_type": "stream",
     "text": [
      " 46%|████▌     | 42/92 [11:07<14:14, 17.08s/it]"
     ]
    },
    {
     "name": "stdout",
     "output_type": "stream",
     "text": [
      "james_preds/XYZres028_0001_warped_single.pickle\n",
      "james_preds/XYZres028_0001_seg_warped_filled.tif\n",
      "james_preds_PV_CAP/XYZres028_0001_mean.npy\n"
     ]
    },
    {
     "name": "stderr",
     "output_type": "stream",
     "text": [
      " 47%|████▋     | 43/92 [11:25<14:16, 17.48s/it]"
     ]
    },
    {
     "name": "stdout",
     "output_type": "stream",
     "text": [
      "james_preds/XYZres028_warped_single.pickle\n",
      "james_preds/XYZres028_seg_warped_filled.tif\n",
      "james_preds_PV_CAP/XYZres028_mean.npy\n"
     ]
    },
    {
     "name": "stderr",
     "output_type": "stream",
     "text": [
      " 48%|████▊     | 44/92 [11:41<13:38, 17.06s/it]"
     ]
    },
    {
     "name": "stdout",
     "output_type": "stream",
     "text": [
      "james_preds/XYZres029_0001_warped_single.pickle\n",
      "james_preds/XYZres029_0001_seg_warped_filled.tif\n",
      "james_preds_PV_CAP/XYZres029_0001_mean.npy\n"
     ]
    },
    {
     "name": "stderr",
     "output_type": "stream",
     "text": [
      " 49%|████▉     | 45/92 [11:59<13:35, 17.35s/it]"
     ]
    },
    {
     "name": "stdout",
     "output_type": "stream",
     "text": [
      "james_preds/XYZres029_warped_single.pickle\n",
      "james_preds/XYZres029_seg_warped_filled.tif\n",
      "james_preds_PV_CAP/XYZres029_mean.npy\n"
     ]
    },
    {
     "name": "stderr",
     "output_type": "stream",
     "text": [
      " 50%|█████     | 46/92 [12:20<14:01, 18.30s/it]"
     ]
    },
    {
     "name": "stdout",
     "output_type": "stream",
     "text": [
      "james_preds/XYZres030_0001_warped_single.pickle\n",
      "james_preds/XYZres030_0001_seg_warped_filled.tif\n",
      "james_preds_PV_CAP/XYZres030_0001_mean.npy\n"
     ]
    },
    {
     "name": "stderr",
     "output_type": "stream",
     "text": [
      " 51%|█████     | 47/92 [12:34<12:51, 17.16s/it]"
     ]
    },
    {
     "name": "stdout",
     "output_type": "stream",
     "text": [
      "james_preds/XYZres030_warped_single.pickle\n",
      "james_preds/XYZres030_seg_warped_filled.tif\n",
      "james_preds_PV_CAP/XYZres030_mean.npy\n"
     ]
    },
    {
     "name": "stderr",
     "output_type": "stream",
     "text": [
      " 52%|█████▏    | 48/92 [12:49<12:00, 16.37s/it]"
     ]
    },
    {
     "name": "stdout",
     "output_type": "stream",
     "text": [
      "james_preds/XYZres031_0001_warped_single.pickle\n",
      "james_preds/XYZres031_0001_seg_warped_filled.tif\n",
      "james_preds_PV_CAP/XYZres031_0001_mean.npy\n"
     ]
    },
    {
     "name": "stderr",
     "output_type": "stream",
     "text": [
      " 53%|█████▎    | 49/92 [13:07<12:01, 16.79s/it]"
     ]
    },
    {
     "name": "stdout",
     "output_type": "stream",
     "text": [
      "james_preds/XYZres031_warped_single.pickle\n",
      "james_preds/XYZres031_seg_warped_filled.tif\n",
      "james_preds_PV_CAP/XYZres031_mean.npy\n"
     ]
    },
    {
     "name": "stderr",
     "output_type": "stream",
     "text": [
      " 54%|█████▍    | 50/92 [13:29<13:00, 18.58s/it]"
     ]
    },
    {
     "name": "stdout",
     "output_type": "stream",
     "text": [
      "james_preds/XYZres032_0001_warped_single.pickle\n",
      "james_preds/XYZres032_0001_seg_warped_filled.tif\n",
      "james_preds_PV_CAP/XYZres032_0001_mean.npy\n"
     ]
    },
    {
     "name": "stderr",
     "output_type": "stream",
     "text": [
      " 55%|█████▌    | 51/92 [13:44<11:59, 17.56s/it]"
     ]
    },
    {
     "name": "stdout",
     "output_type": "stream",
     "text": [
      "james_preds/XYZres032_warped_single.pickle\n",
      "james_preds/XYZres032_seg_warped_filled.tif\n",
      "james_preds_PV_CAP/XYZres032_mean.npy\n"
     ]
    },
    {
     "name": "stderr",
     "output_type": "stream",
     "text": [
      " 57%|█████▋    | 52/92 [14:00<11:11, 16.80s/it]"
     ]
    },
    {
     "name": "stdout",
     "output_type": "stream",
     "text": [
      "james_preds/XYZres033_0001_warped_single.pickle\n",
      "james_preds/XYZres033_0001_seg_warped_filled.tif\n",
      "james_preds_PV_CAP/XYZres033_0001_mean.npy\n"
     ]
    },
    {
     "name": "stderr",
     "output_type": "stream",
     "text": [
      " 58%|█████▊    | 53/92 [14:15<10:44, 16.53s/it]"
     ]
    },
    {
     "name": "stdout",
     "output_type": "stream",
     "text": [
      "james_preds/XYZres033_warped_single.pickle\n",
      "james_preds/XYZres033_seg_warped_filled.tif\n",
      "james_preds_PV_CAP/XYZres033_mean.npy\n"
     ]
    },
    {
     "name": "stderr",
     "output_type": "stream",
     "text": [
      " 59%|█████▊    | 54/92 [14:34<10:51, 17.15s/it]"
     ]
    },
    {
     "name": "stdout",
     "output_type": "stream",
     "text": [
      "james_preds/XYZres034_0001_warped_single.pickle\n",
      "james_preds/XYZres034_0001_seg_warped_filled.tif\n",
      "james_preds_PV_CAP/XYZres034_0001_mean.npy\n"
     ]
    },
    {
     "name": "stderr",
     "output_type": "stream",
     "text": [
      " 60%|█████▉    | 55/92 [14:48<10:03, 16.31s/it]"
     ]
    },
    {
     "name": "stdout",
     "output_type": "stream",
     "text": [
      "james_preds/XYZres034_warped_single.pickle\n",
      "james_preds/XYZres034_seg_warped_filled.tif\n",
      "james_preds_PV_CAP/XYZres034_mean.npy\n"
     ]
    },
    {
     "name": "stderr",
     "output_type": "stream",
     "text": [
      " 61%|██████    | 56/92 [15:03<09:28, 15.79s/it]"
     ]
    },
    {
     "name": "stdout",
     "output_type": "stream",
     "text": [
      "james_preds/XYZres035_0001_warped_single.pickle\n",
      "james_preds/XYZres035_0001_seg_warped_filled.tif\n",
      "james_preds_PV_CAP/XYZres035_0001_mean.npy\n"
     ]
    },
    {
     "name": "stderr",
     "output_type": "stream",
     "text": [
      " 62%|██████▏   | 57/92 [15:22<09:41, 16.62s/it]"
     ]
    },
    {
     "name": "stdout",
     "output_type": "stream",
     "text": [
      "james_preds/XYZres035_warped_single.pickle\n",
      "james_preds/XYZres035_seg_warped_filled.tif\n",
      "james_preds_PV_CAP/XYZres035_mean.npy\n"
     ]
    },
    {
     "name": "stderr",
     "output_type": "stream",
     "text": [
      " 63%|██████▎   | 58/92 [15:37<09:14, 16.32s/it]"
     ]
    },
    {
     "name": "stdout",
     "output_type": "stream",
     "text": [
      "james_preds/XYZres036_0001_warped_single.pickle\n",
      "james_preds/XYZres036_0001_seg_warped_filled.tif\n",
      "james_preds_PV_CAP/XYZres036_0001_mean.npy\n"
     ]
    },
    {
     "name": "stderr",
     "output_type": "stream",
     "text": [
      " 64%|██████▍   | 59/92 [15:53<08:50, 16.08s/it]"
     ]
    },
    {
     "name": "stdout",
     "output_type": "stream",
     "text": [
      "james_preds/XYZres036_warped_single.pickle\n",
      "james_preds/XYZres036_seg_warped_filled.tif\n",
      "james_preds_PV_CAP/XYZres036_mean.npy\n"
     ]
    },
    {
     "name": "stderr",
     "output_type": "stream",
     "text": [
      " 65%|██████▌   | 60/92 [16:10<08:51, 16.61s/it]"
     ]
    },
    {
     "name": "stdout",
     "output_type": "stream",
     "text": [
      "james_preds/XYZres037_0001_warped_single.pickle\n",
      "james_preds/XYZres037_0001_seg_warped_filled.tif\n",
      "james_preds_PV_CAP/XYZres037_0001_mean.npy\n"
     ]
    },
    {
     "name": "stderr",
     "output_type": "stream",
     "text": [
      " 66%|██████▋   | 61/92 [16:25<08:17, 16.05s/it]"
     ]
    },
    {
     "name": "stdout",
     "output_type": "stream",
     "text": [
      "james_preds/XYZres037_warped_single.pickle\n",
      "james_preds/XYZres037_seg_warped_filled.tif\n",
      "james_preds_PV_CAP/XYZres037_mean.npy\n"
     ]
    },
    {
     "name": "stderr",
     "output_type": "stream",
     "text": [
      " 67%|██████▋   | 62/92 [16:40<07:48, 15.63s/it]"
     ]
    },
    {
     "name": "stdout",
     "output_type": "stream",
     "text": [
      "james_preds/XYZres038_0001_warped_single.pickle\n",
      "james_preds/XYZres038_0001_seg_warped_filled.tif\n",
      "james_preds_PV_CAP/XYZres038_0001_mean.npy\n"
     ]
    },
    {
     "name": "stderr",
     "output_type": "stream",
     "text": [
      " 68%|██████▊   | 63/92 [16:58<07:53, 16.34s/it]"
     ]
    },
    {
     "name": "stdout",
     "output_type": "stream",
     "text": [
      "james_preds/XYZres038_warped_single.pickle\n",
      "james_preds/XYZres038_seg_warped_filled.tif\n",
      "james_preds_PV_CAP/XYZres038_mean.npy\n"
     ]
    },
    {
     "name": "stderr",
     "output_type": "stream",
     "text": [
      " 70%|██████▉   | 64/92 [17:12<07:23, 15.82s/it]"
     ]
    },
    {
     "name": "stdout",
     "output_type": "stream",
     "text": [
      "james_preds/XYZres039_0001_warped_single.pickle\n",
      "james_preds/XYZres039_0001_seg_warped_filled.tif\n",
      "james_preds_PV_CAP/XYZres039_0001_mean.npy\n"
     ]
    },
    {
     "name": "stderr",
     "output_type": "stream",
     "text": [
      " 71%|███████   | 65/92 [17:31<07:29, 16.64s/it]"
     ]
    },
    {
     "name": "stdout",
     "output_type": "stream",
     "text": [
      "james_preds/XYZres039_warped_single.pickle\n",
      "james_preds/XYZres039_seg_warped_filled.tif\n",
      "james_preds_PV_CAP/XYZres039_mean.npy\n"
     ]
    },
    {
     "name": "stderr",
     "output_type": "stream",
     "text": [
      " 72%|███████▏  | 66/92 [17:46<06:59, 16.15s/it]"
     ]
    },
    {
     "name": "stdout",
     "output_type": "stream",
     "text": [
      "james_preds/XYZres040_0001_warped_single.pickle\n",
      "james_preds/XYZres040_0001_seg_warped_filled.tif\n",
      "james_preds_PV_CAP/XYZres040_0001_mean.npy\n"
     ]
    },
    {
     "name": "stderr",
     "output_type": "stream",
     "text": [
      " 73%|███████▎  | 67/92 [18:03<06:52, 16.49s/it]"
     ]
    },
    {
     "name": "stdout",
     "output_type": "stream",
     "text": [
      "james_preds/XYZres040_warped_single.pickle\n",
      "james_preds/XYZres040_seg_warped_filled.tif\n",
      "james_preds_PV_CAP/XYZres040_mean.npy\n"
     ]
    },
    {
     "name": "stderr",
     "output_type": "stream",
     "text": [
      " 74%|███████▍  | 68/92 [18:17<06:18, 15.76s/it]"
     ]
    },
    {
     "name": "stdout",
     "output_type": "stream",
     "text": [
      "james_preds/XYZres041_0001_warped_single.pickle\n",
      "james_preds/XYZres041_0001_seg_warped_filled.tif\n",
      "james_preds_PV_CAP/XYZres041_0001_mean.npy\n"
     ]
    },
    {
     "name": "stderr",
     "output_type": "stream",
     "text": [
      " 75%|███████▌  | 69/92 [18:36<06:22, 16.62s/it]"
     ]
    },
    {
     "name": "stdout",
     "output_type": "stream",
     "text": [
      "james_preds/XYZres041_warped_single.pickle\n",
      "james_preds/XYZres041_seg_warped_filled.tif\n",
      "james_preds_PV_CAP/XYZres041_mean.npy\n"
     ]
    },
    {
     "name": "stderr",
     "output_type": "stream",
     "text": [
      " 76%|███████▌  | 70/92 [18:52<05:58, 16.30s/it]"
     ]
    },
    {
     "name": "stdout",
     "output_type": "stream",
     "text": [
      "james_preds/XYZres042_0001_warped_single.pickle\n",
      "james_preds/XYZres042_0001_seg_warped_filled.tif\n",
      "james_preds_PV_CAP/XYZres042_0001_mean.npy\n"
     ]
    },
    {
     "name": "stderr",
     "output_type": "stream",
     "text": [
      " 77%|███████▋  | 71/92 [19:10<05:54, 16.86s/it]"
     ]
    },
    {
     "name": "stdout",
     "output_type": "stream",
     "text": [
      "james_preds/XYZres042_warped_single.pickle\n",
      "james_preds/XYZres042_seg_warped_filled.tif\n",
      "james_preds_PV_CAP/XYZres042_mean.npy\n"
     ]
    },
    {
     "name": "stderr",
     "output_type": "stream",
     "text": [
      " 78%|███████▊  | 72/92 [19:24<05:23, 16.17s/it]"
     ]
    },
    {
     "name": "stdout",
     "output_type": "stream",
     "text": [
      "james_preds/XYZres043_0001_warped_single.pickle\n",
      "james_preds/XYZres043_0001_seg_warped_filled.tif\n",
      "james_preds_PV_CAP/XYZres043_0001_mean.npy\n"
     ]
    },
    {
     "name": "stderr",
     "output_type": "stream",
     "text": [
      " 79%|███████▉  | 73/92 [19:39<04:59, 15.77s/it]"
     ]
    },
    {
     "name": "stdout",
     "output_type": "stream",
     "text": [
      "james_preds/XYZres043_warped_single.pickle\n",
      "james_preds/XYZres043_seg_warped_filled.tif\n",
      "james_preds_PV_CAP/XYZres043_mean.npy\n"
     ]
    },
    {
     "name": "stderr",
     "output_type": "stream",
     "text": [
      " 80%|████████  | 74/92 [19:58<04:59, 16.64s/it]"
     ]
    },
    {
     "name": "stdout",
     "output_type": "stream",
     "text": [
      "james_preds/XYZres044_0001_warped_single.pickle\n",
      "james_preds/XYZres044_0001_seg_warped_filled.tif\n",
      "james_preds_PV_CAP/XYZres044_0001_mean.npy\n"
     ]
    },
    {
     "name": "stderr",
     "output_type": "stream",
     "text": [
      " 82%|████████▏ | 75/92 [20:13<04:33, 16.06s/it]"
     ]
    },
    {
     "name": "stdout",
     "output_type": "stream",
     "text": [
      "james_preds/XYZres044_warped_single.pickle\n",
      "james_preds/XYZres044_seg_warped_filled.tif\n",
      "james_preds_PV_CAP/XYZres044_mean.npy\n"
     ]
    },
    {
     "name": "stderr",
     "output_type": "stream",
     "text": [
      " 83%|████████▎ | 76/92 [20:31<04:28, 16.80s/it]"
     ]
    },
    {
     "name": "stdout",
     "output_type": "stream",
     "text": [
      "james_preds/XYZres045_0001_warped_single.pickle\n",
      "james_preds/XYZres045_0001_seg_warped_filled.tif\n",
      "james_preds_PV_CAP/XYZres045_0001_mean.npy\n"
     ]
    },
    {
     "name": "stderr",
     "output_type": "stream",
     "text": [
      " 84%|████████▎ | 77/92 [20:45<04:00, 16.06s/it]"
     ]
    },
    {
     "name": "stdout",
     "output_type": "stream",
     "text": [
      "james_preds/XYZres045_warped_single.pickle\n",
      "james_preds/XYZres045_seg_warped_filled.tif\n",
      "james_preds_PV_CAP/XYZres045_mean.npy\n"
     ]
    },
    {
     "name": "stderr",
     "output_type": "stream",
     "text": [
      " 85%|████████▍ | 78/92 [21:04<03:54, 16.74s/it]"
     ]
    },
    {
     "name": "stdout",
     "output_type": "stream",
     "text": [
      "james_preds/XYZres046_0001_warped_single.pickle\n",
      "james_preds/XYZres046_0001_seg_warped_filled.tif\n",
      "james_preds_PV_CAP/XYZres046_0001_mean.npy\n"
     ]
    },
    {
     "name": "stderr",
     "output_type": "stream",
     "text": [
      " 86%|████████▌ | 79/92 [21:21<03:40, 16.95s/it]"
     ]
    },
    {
     "name": "stdout",
     "output_type": "stream",
     "text": [
      "james_preds/XYZres046_warped_single.pickle\n",
      "james_preds/XYZres046_seg_warped_filled.tif\n",
      "james_preds_PV_CAP/XYZres046_mean.npy\n"
     ]
    },
    {
     "name": "stderr",
     "output_type": "stream",
     "text": [
      " 87%|████████▋ | 80/92 [21:43<03:40, 18.38s/it]"
     ]
    },
    {
     "name": "stdout",
     "output_type": "stream",
     "text": [
      "james_preds/XYZres047_0001_warped_single.pickle\n",
      "james_preds/XYZres047_0001_seg_warped_filled.tif\n",
      "james_preds_PV_CAP/XYZres047_0001_mean.npy\n"
     ]
    },
    {
     "name": "stderr",
     "output_type": "stream",
     "text": [
      " 88%|████████▊ | 81/92 [22:00<03:17, 17.94s/it]"
     ]
    },
    {
     "name": "stdout",
     "output_type": "stream",
     "text": [
      "james_preds/XYZres047_warped_single.pickle\n",
      "james_preds/XYZres047_seg_warped_filled.tif\n",
      "james_preds_PV_CAP/XYZres047_mean.npy\n"
     ]
    },
    {
     "name": "stderr",
     "output_type": "stream",
     "text": [
      " 89%|████████▉ | 82/92 [22:22<03:11, 19.14s/it]"
     ]
    },
    {
     "name": "stdout",
     "output_type": "stream",
     "text": [
      "james_preds/XYZres048_0001_warped_single.pickle\n",
      "james_preds/XYZres048_0001_seg_warped_filled.tif\n",
      "james_preds_PV_CAP/XYZres048_0001_mean.npy\n"
     ]
    },
    {
     "name": "stderr",
     "output_type": "stream",
     "text": [
      " 90%|█████████ | 83/92 [22:40<02:49, 18.82s/it]"
     ]
    },
    {
     "name": "stdout",
     "output_type": "stream",
     "text": [
      "james_preds/XYZres048_warped_single.pickle\n",
      "james_preds/XYZres048_seg_warped_filled.tif\n",
      "james_preds_PV_CAP/XYZres048_mean.npy\n"
     ]
    },
    {
     "name": "stderr",
     "output_type": "stream",
     "text": [
      " 91%|█████████▏| 84/92 [22:57<02:27, 18.45s/it]"
     ]
    },
    {
     "name": "stdout",
     "output_type": "stream",
     "text": [
      "james_preds/XYZres049_0001_warped_single.pickle\n",
      "james_preds/XYZres049_0001_seg_warped_filled.tif\n",
      "james_preds_PV_CAP/XYZres049_0001_mean.npy\n"
     ]
    },
    {
     "name": "stderr",
     "output_type": "stream",
     "text": [
      " 92%|█████████▏| 85/92 [23:18<02:12, 18.98s/it]"
     ]
    },
    {
     "name": "stdout",
     "output_type": "stream",
     "text": [
      "james_preds/XYZres049_warped_single.pickle\n",
      "james_preds/XYZres049_seg_warped_filled.tif\n",
      "james_preds_PV_CAP/XYZres049_mean.npy\n"
     ]
    },
    {
     "name": "stderr",
     "output_type": "stream",
     "text": [
      " 93%|█████████▎| 86/92 [23:34<01:49, 18.28s/it]"
     ]
    },
    {
     "name": "stdout",
     "output_type": "stream",
     "text": [
      "james_preds/XYZres050_0001_warped_single.pickle\n",
      "james_preds/XYZres050_0001_seg_warped_filled.tif\n",
      "james_preds_PV_CAP/XYZres050_0001_mean.npy\n"
     ]
    },
    {
     "name": "stderr",
     "output_type": "stream",
     "text": [
      " 95%|█████████▍| 87/92 [23:56<01:36, 19.28s/it]"
     ]
    },
    {
     "name": "stdout",
     "output_type": "stream",
     "text": [
      "james_preds/XYZres050_warped_single.pickle\n",
      "james_preds/XYZres050_seg_warped_filled.tif\n",
      "james_preds_PV_CAP/XYZres050_mean.npy\n"
     ]
    },
    {
     "name": "stderr",
     "output_type": "stream",
     "text": [
      " 96%|█████████▌| 88/92 [24:13<01:14, 18.69s/it]"
     ]
    },
    {
     "name": "stdout",
     "output_type": "stream",
     "text": [
      "james_preds/XYZres051_0001_warped_single.pickle\n",
      "james_preds/XYZres051_0001_seg_warped_filled.tif\n",
      "james_preds_PV_CAP/XYZres051_0001_mean.npy\n"
     ]
    },
    {
     "name": "stderr",
     "output_type": "stream",
     "text": [
      " 97%|█████████▋| 89/92 [24:33<00:57, 19.14s/it]"
     ]
    },
    {
     "name": "stdout",
     "output_type": "stream",
     "text": [
      "james_preds/XYZres051_warped_single.pickle\n",
      "james_preds/XYZres051_seg_warped_filled.tif\n",
      "james_preds_PV_CAP/XYZres051_mean.npy\n"
     ]
    },
    {
     "name": "stderr",
     "output_type": "stream",
     "text": [
      " 98%|█████████▊| 90/92 [24:51<00:37, 18.64s/it]"
     ]
    },
    {
     "name": "stdout",
     "output_type": "stream",
     "text": [
      "james_preds/XYZres052_0001_warped_single.pickle\n",
      "james_preds/XYZres052_0001_seg_warped_filled.tif\n",
      "james_preds_PV_CAP/XYZres052_0001_mean.npy\n"
     ]
    },
    {
     "name": "stderr",
     "output_type": "stream",
     "text": [
      " 99%|█████████▉| 91/92 [25:08<00:18, 18.18s/it]"
     ]
    },
    {
     "name": "stdout",
     "output_type": "stream",
     "text": [
      "james_preds/XYZres052_warped_single.pickle\n",
      "james_preds/XYZres052_seg_warped_filled.tif\n",
      "james_preds_PV_CAP/XYZres052_mean.npy\n"
     ]
    },
    {
     "name": "stderr",
     "output_type": "stream",
     "text": [
      "100%|██████████| 92/92 [25:25<00:00, 16.58s/it]\n"
     ]
    }
   ],
   "source": [
    "for file in tqdm(files):\n",
    "    graph = nx.read_gpickle(file)\n",
    "    print(file)\n",
    "    skel_dst = distance_transform_edt(io.imread(re.sub('_warped_single.pickle','_seg_warped_filled.tif',file)))\n",
    "    print(re.sub('_warped_single.pickle','_seg_warped_filled.tif',file))\n",
    "    pv_pred = np.swapaxes(np.argmax(np.load(re.sub('_preds','_preds_PV_CAP',re.sub('_warped_single.pickle','_mean.npy',file))),axis=0),0,2)\n",
    "    print(re.sub('_preds','_preds_PV_CAP',re.sub('_warped_single.pickle','_mean.npy',file)))\n",
    "    _tmp = np.zeros(skel_dst.shape)\n",
    "    for i in range(len(graph.edges)):\n",
    "        path = graph[list(graph.edges)[i][0]][list(graph.edges)[i][1]]['pts']\n",
    "        _vals = skel_dst[path[::-1,0],path[::-1,1],path[::-1,2]]\n",
    "        _vals_pv = pv_pred[path[::-1,0],path[::-1,1],path[::-1,2]]\n",
    "        graph[list(graph.edges)[i][0]][list(graph.edges)[i][1]]['radii'] = np.mean(_vals)\n",
    "        graph[list(graph.edges)[i][0]][list(graph.edges)[i][1]]['radii_std'] = np.std(_vals)\n",
    "        graph[list(graph.edges)[i][0]][list(graph.edges)[i][1]]['vessel_type'] = np.mean(_vals_pv)\n",
    "        graph[list(graph.edges)[i][0]][list(graph.edges)[i][1]]['vessel_type_std'] = np.std(_vals_pv)\n",
    "        graph[list(graph.edges)[i][0]][list(graph.edges)[i][1]]['path_weights'] = _vals\n",
    "        graph[list(graph.edges)[i][0]][list(graph.edges)[i][1]]['weight'] = graph[list(graph.edges)[i][0]][list(graph.edges)[i][1]]['weight']\n",
    "        graph[list(graph.edges)[i][0]][list(graph.edges)[i][1]]['end-0'] = path[0]\n",
    "        graph[list(graph.edges)[i][0]][list(graph.edges)[i][1]]['end-1'] = path[-1]\n",
    "    nx.write_gpickle(graph, re.sub('.pickle','_radii.pickle',file))"
   ]
  },
  {
   "cell_type": "code",
   "execution_count": 23,
   "id": "2edd2b32",
   "metadata": {},
   "outputs": [
    {
     "data": {
      "text/plain": [
       "AtlasView({133: {'pts': array([[  4, 222, 465],\n",
       "       [  5, 222, 466],\n",
       "       [  6, 222, 466],\n",
       "       [  7, 222, 466],\n",
       "       [  8, 221, 465],\n",
       "       [  9, 221, 465],\n",
       "       [ 10, 221, 465],\n",
       "       [ 11, 221, 465],\n",
       "       [ 12, 221, 465],\n",
       "       [ 13, 221, 465],\n",
       "       [ 14, 220, 465],\n",
       "       [ 15, 220, 465],\n",
       "       [ 16, 220, 465],\n",
       "       [ 17, 219, 465],\n",
       "       [ 18, 219, 465],\n",
       "       [ 19, 218, 465],\n",
       "       [ 20, 218, 466],\n",
       "       [ 21, 218, 466],\n",
       "       [ 22, 217, 465],\n",
       "       [ 23, 217, 465],\n",
       "       [ 24, 217, 465],\n",
       "       [ 25, 217, 465],\n",
       "       [ 26, 217, 465],\n",
       "       [ 27, 217, 465],\n",
       "       [ 28, 217, 465],\n",
       "       [ 29, 216, 465],\n",
       "       [ 30, 216, 465],\n",
       "       [ 31, 216, 465],\n",
       "       [ 32, 215, 465],\n",
       "       [ 33, 215, 465],\n",
       "       [ 34, 214, 465],\n",
       "       [ 35, 215, 466],\n",
       "       [ 36, 214, 466],\n",
       "       [ 37, 214, 466],\n",
       "       [ 38, 214, 466],\n",
       "       [ 39, 214, 466],\n",
       "       [ 40, 214, 466],\n",
       "       [ 41, 214, 466],\n",
       "       [ 42, 214, 466],\n",
       "       [ 43, 214, 466],\n",
       "       [ 44, 214, 466],\n",
       "       [ 45, 214, 466],\n",
       "       [ 46, 214, 466],\n",
       "       [ 47, 213, 465],\n",
       "       [ 48, 213, 465],\n",
       "       [ 49, 214, 466],\n",
       "       [ 50, 213, 466],\n",
       "       [ 51, 213, 466],\n",
       "       [ 52, 213, 466],\n",
       "       [ 53, 213, 466],\n",
       "       [ 54, 213, 466],\n",
       "       [ 55, 212, 465],\n",
       "       [ 56, 211, 465]], dtype=int16), 'weight': 60.9486540315173, 'radii': 1.656171342571009, 'radii_std': 0.37932695247863524, 'vessel_type': 2.0, 'vessel_type_std': 0.0, 'path_weights': array([2.        , 2.        , 2.        , 2.        , 2.        ,\n",
       "       2.        , 2.        , 2.        , 2.        , 2.        ,\n",
       "       2.        , 2.        , 1.73205081, 1.41421356, 1.41421356,\n",
       "       1.41421356, 1.41421356, 1.41421356, 1.41421356, 1.        ,\n",
       "       1.        , 1.        , 1.73205081, 1.41421356, 1.73205081,\n",
       "       1.73205081, 2.        , 2.        , 1.73205081, 1.41421356,\n",
       "       1.73205081, 2.        , 2.        , 2.        , 2.        ,\n",
       "       1.        , 1.        , 1.        , 1.        , 1.        ,\n",
       "       1.        , 1.41421356, 2.        , 2.        , 2.        ,\n",
       "       2.        , 2.        , 2.        , 2.        , 1.41421356,\n",
       "       1.41421356, 1.41421356, 1.41421356]), 'end-0': array([  4, 222, 465], dtype=int16), 'end-1': array([ 56, 211, 465], dtype=int16)}})"
      ]
     },
     "execution_count": 23,
     "metadata": {},
     "output_type": "execute_result"
    }
   ],
   "source": [
    "#seg = io.imread(re.sub('_warped_single.pickle','_seg_warped.tif',file))\n",
    "#plt.imshow(seg[126])\n",
    "graph[15]"
   ]
  },
  {
   "cell_type": "code",
   "execution_count": 24,
   "id": "14d9d188",
   "metadata": {},
   "outputs": [],
   "source": [
    "#pv_pred = np.swapaxes(np.argmax(np.load(re.sub('_preds','_preds_PV_CAP',re.sub('_warped_single.pickle','_mean.npy',file))),axis=0),0,2)\n",
    "#plt.imshow(pv_pred[126])"
   ]
  },
  {
   "cell_type": "code",
   "execution_count": 25,
   "id": "674ea891",
   "metadata": {},
   "outputs": [
    {
     "data": {
      "text/plain": [
       "AtlasView({127: {'pts': array([[  3, 193,  44],\n",
       "       [  4, 193,  44],\n",
       "       [  5, 193,  44],\n",
       "       [  6, 193,  44],\n",
       "       [  7, 193,  44],\n",
       "       [  8, 193,  44],\n",
       "       [  9, 193,  44],\n",
       "       [ 10, 193,  45],\n",
       "       [ 11, 193,  44],\n",
       "       [ 12, 193,  44],\n",
       "       [ 13, 193,  44],\n",
       "       [ 14, 192,  45],\n",
       "       [ 15, 192,  45],\n",
       "       [ 16, 192,  45],\n",
       "       [ 17, 192,  45],\n",
       "       [ 18, 192,  45],\n",
       "       [ 19, 192,  45],\n",
       "       [ 20, 192,  45],\n",
       "       [ 21, 192,  45],\n",
       "       [ 22, 192,  45],\n",
       "       [ 23, 192,  45],\n",
       "       [ 24, 192,  45],\n",
       "       [ 25, 192,  45],\n",
       "       [ 26, 192,  45],\n",
       "       [ 27, 192,  45],\n",
       "       [ 28, 192,  45],\n",
       "       [ 29, 191,  45],\n",
       "       [ 30, 191,  45],\n",
       "       [ 31, 191,  45],\n",
       "       [ 32, 191,  45],\n",
       "       [ 33, 191,  45],\n",
       "       [ 34, 191,  45],\n",
       "       [ 35, 191,  45],\n",
       "       [ 36, 191,  45],\n",
       "       [ 37, 191,  45],\n",
       "       [ 38, 191,  45],\n",
       "       [ 39, 191,  44],\n",
       "       [ 40, 191,  44],\n",
       "       [ 41, 191,  44],\n",
       "       [ 42, 191,  45],\n",
       "       [ 43, 191,  45],\n",
       "       [ 44, 191,  45],\n",
       "       [ 45, 191,  45],\n",
       "       [ 46, 191,  45],\n",
       "       [ 47, 191,  45],\n",
       "       [ 48, 191,  45],\n",
       "       [ 49, 191,  45],\n",
       "       [ 50, 191,  45],\n",
       "       [ 51, 191,  45],\n",
       "       [ 52, 191,  45],\n",
       "       [ 53, 191,  45],\n",
       "       [ 54, 191,  45]], dtype=int16), 'weight': 53.80311861943435, 'radii': 1.9591189698326892, 'radii_std': 0.6110575452280782, 'vessel_type': 2.0, 'vessel_type_std': 0.0, 'path_weights': array([1.        , 1.        , 1.        , 1.        , 1.        ,\n",
       "       1.        , 1.        , 1.41421356, 1.41421356, 1.41421356,\n",
       "       1.41421356, 1.41421356, 1.41421356, 1.41421356, 1.41421356,\n",
       "       1.73205081, 2.        , 2.        , 2.        , 2.        ,\n",
       "       2.        , 2.        , 2.        , 2.        , 2.        ,\n",
       "       2.        , 2.        , 2.        , 2.        , 2.        ,\n",
       "       2.        , 2.        , 2.        , 2.        , 2.        ,\n",
       "       2.        , 2.        , 2.        , 2.        , 2.        ,\n",
       "       2.        , 2.82842712, 3.        , 3.        , 2.        ,\n",
       "       3.        , 3.        , 3.        , 3.        , 3.        ,\n",
       "       3.        , 3.        ]), 'end-0': array([  3, 193,  44], dtype=int16), 'end-1': array([ 54, 191,  45], dtype=int16)}})"
      ]
     },
     "execution_count": 25,
     "metadata": {},
     "output_type": "execute_result"
    }
   ],
   "source": [
    "graph[3]"
   ]
  },
  {
   "cell_type": "code",
   "execution_count": 26,
   "id": "39720f71",
   "metadata": {},
   "outputs": [],
   "source": [
    "#np.swapaxes(np.argmax(np.load(re.sub('_preds','_preds_PV_CAP',re.sub('_warped_single.pickle','_mean.npy',files[0]))),axis=0),0,2)"
   ]
  },
  {
   "cell_type": "code",
   "execution_count": 27,
   "id": "95be4080",
   "metadata": {},
   "outputs": [
    {
     "data": {
      "text/plain": [
       "(252, 507, 507)"
      ]
     },
     "execution_count": 27,
     "metadata": {},
     "output_type": "execute_result"
    }
   ],
   "source": [
    "skel_dst.shape"
   ]
  },
  {
   "cell_type": "code",
   "execution_count": 28,
   "id": "a446c480",
   "metadata": {},
   "outputs": [],
   "source": [
    "directory = Path('james_preds')\n",
    "files  = directory.glob('*_0001_warped_single_radii.pickle')\n",
    "files = sorted([x.as_posix() for x in files])[1:]"
   ]
  },
  {
   "cell_type": "code",
   "execution_count": 29,
   "id": "056432bd",
   "metadata": {},
   "outputs": [
    {
     "data": {
      "text/plain": [
       "'james_preds/XYZres007_0001_warped_single_radii.pickle'"
      ]
     },
     "execution_count": 29,
     "metadata": {},
     "output_type": "execute_result"
    }
   ],
   "source": [
    "files[0]"
   ]
  },
  {
   "cell_type": "code",
   "execution_count": 30,
   "id": "4ca4630c",
   "metadata": {},
   "outputs": [
    {
     "name": "stderr",
     "output_type": "stream",
     "text": [
      "  0%|          | 0/46 [00:00<?, ?it/s]/tmp/ipykernel_919609/4013944312.py:16: RuntimeWarning: invalid value encountered in sqrt\n",
      "  dst_start_mtch = np.sqrt(np.sum(np.square(start-start_0001)))\n",
      "/tmp/ipykernel_919609/4013944312.py:19: RuntimeWarning: invalid value encountered in sqrt\n",
      "  dst_end_opp = np.sqrt(np.sum(np.square(end-start_0001)))\n",
      "/tmp/ipykernel_919609/4013944312.py:18: RuntimeWarning: invalid value encountered in sqrt\n",
      "  dst_start_opp = np.sqrt(np.sum(np.square(start-end_0001)))\n",
      "/tmp/ipykernel_919609/4013944312.py:17: RuntimeWarning: invalid value encountered in sqrt\n",
      "  dst_end_mtch = np.sqrt(np.sum(np.square(end-end_0001)))\n",
      "  2%|▏         | 1/46 [00:02<02:05,  2.79s/it]"
     ]
    },
    {
     "name": "stdout",
     "output_type": "stream",
     "text": [
      "(347, 2, 2)\n",
      "(347, 2, 2)\n",
      "james_preds/XYZres007_warped_single_radii_matched.pickle\n"
     ]
    },
    {
     "name": "stderr",
     "output_type": "stream",
     "text": [
      "  4%|▍         | 2/46 [00:10<04:00,  5.48s/it]"
     ]
    },
    {
     "name": "stdout",
     "output_type": "stream",
     "text": [
      "(431, 2, 2)\n",
      "(431, 2, 2)\n",
      "james_preds/XYZres008_warped_single_radii_matched.pickle\n"
     ]
    },
    {
     "name": "stderr",
     "output_type": "stream",
     "text": [
      "  7%|▋         | 3/46 [00:13<03:17,  4.60s/it]"
     ]
    },
    {
     "name": "stdout",
     "output_type": "stream",
     "text": [
      "(395, 2, 2)\n",
      "(395, 2, 2)\n",
      "james_preds/XYZres009_warped_single_radii_matched.pickle\n"
     ]
    },
    {
     "name": "stderr",
     "output_type": "stream",
     "text": [
      "  9%|▊         | 4/46 [00:17<02:53,  4.12s/it]"
     ]
    },
    {
     "name": "stdout",
     "output_type": "stream",
     "text": [
      "(388, 2, 2)\n",
      "(388, 2, 2)\n",
      "james_preds/XYZres010_warped_single_radii_matched.pickle\n"
     ]
    },
    {
     "name": "stderr",
     "output_type": "stream",
     "text": [
      " 11%|█         | 5/46 [00:22<03:04,  4.51s/it]"
     ]
    },
    {
     "name": "stdout",
     "output_type": "stream",
     "text": [
      "(477, 2, 2)\n",
      "(477, 2, 2)\n",
      "james_preds/XYZres011_warped_single_radii_matched.pickle\n"
     ]
    },
    {
     "name": "stderr",
     "output_type": "stream",
     "text": [
      " 13%|█▎        | 6/46 [00:25<02:49,  4.24s/it]"
     ]
    },
    {
     "name": "stdout",
     "output_type": "stream",
     "text": [
      "(402, 2, 2)\n",
      "(402, 2, 2)\n",
      "james_preds/XYZres012_warped_single_radii_matched.pickle\n"
     ]
    },
    {
     "name": "stderr",
     "output_type": "stream",
     "text": [
      " 15%|█▌        | 7/46 [00:30<02:44,  4.23s/it]"
     ]
    },
    {
     "name": "stdout",
     "output_type": "stream",
     "text": [
      "(432, 2, 2)\n",
      "(432, 2, 2)\n",
      "james_preds/XYZres013_warped_single_radii_matched.pickle\n"
     ]
    },
    {
     "name": "stderr",
     "output_type": "stream",
     "text": [
      " 17%|█▋        | 8/46 [00:33<02:35,  4.08s/it]"
     ]
    },
    {
     "name": "stdout",
     "output_type": "stream",
     "text": [
      "(405, 2, 2)\n",
      "(405, 2, 2)\n",
      "james_preds/XYZres014_warped_single_radii_matched.pickle\n"
     ]
    },
    {
     "name": "stderr",
     "output_type": "stream",
     "text": [
      " 20%|█▉        | 9/46 [00:36<02:11,  3.56s/it]"
     ]
    },
    {
     "name": "stdout",
     "output_type": "stream",
     "text": [
      "(322, 2, 2)\n",
      "(322, 2, 2)\n",
      "james_preds/XYZres015_warped_single_radii_matched.pickle\n",
      "(392, 2, 2)\n",
      "(392, 2, 2)\n"
     ]
    },
    {
     "name": "stderr",
     "output_type": "stream",
     "text": [
      " 22%|██▏       | 10/46 [00:40<02:11,  3.65s/it]"
     ]
    },
    {
     "name": "stdout",
     "output_type": "stream",
     "text": [
      "james_preds/XYZres016_warped_single_radii_matched.pickle\n"
     ]
    },
    {
     "name": "stderr",
     "output_type": "stream",
     "text": [
      " 24%|██▍       | 11/46 [00:42<01:56,  3.32s/it]"
     ]
    },
    {
     "name": "stdout",
     "output_type": "stream",
     "text": [
      "(332, 2, 2)\n",
      "(332, 2, 2)\n",
      "james_preds/XYZres017_warped_single_radii_matched.pickle\n"
     ]
    },
    {
     "name": "stderr",
     "output_type": "stream",
     "text": [
      " 26%|██▌       | 12/46 [00:46<02:00,  3.54s/it]"
     ]
    },
    {
     "name": "stdout",
     "output_type": "stream",
     "text": [
      "(417, 2, 2)\n",
      "(417, 2, 2)\n",
      "james_preds/XYZres018_warped_single_radii_matched.pickle\n"
     ]
    },
    {
     "name": "stderr",
     "output_type": "stream",
     "text": [
      " 28%|██▊       | 13/46 [00:48<01:36,  2.93s/it]"
     ]
    },
    {
     "name": "stdout",
     "output_type": "stream",
     "text": [
      "(254, 2, 2)\n",
      "(254, 2, 2)\n",
      "james_preds/XYZres019_warped_single_radii_matched.pickle\n"
     ]
    },
    {
     "name": "stderr",
     "output_type": "stream",
     "text": [
      " 30%|███       | 14/46 [00:51<01:34,  2.96s/it]"
     ]
    },
    {
     "name": "stdout",
     "output_type": "stream",
     "text": [
      "(364, 2, 2)\n",
      "(364, 2, 2)\n",
      "james_preds/XYZres020_warped_single_radii_matched.pickle\n"
     ]
    },
    {
     "name": "stderr",
     "output_type": "stream",
     "text": [
      " 33%|███▎      | 15/46 [00:55<01:39,  3.20s/it]"
     ]
    },
    {
     "name": "stdout",
     "output_type": "stream",
     "text": [
      "(404, 2, 2)\n",
      "(404, 2, 2)\n",
      "james_preds/XYZres021_warped_single_radii_matched.pickle\n"
     ]
    },
    {
     "name": "stderr",
     "output_type": "stream",
     "text": [
      " 35%|███▍      | 16/46 [00:59<01:42,  3.41s/it]"
     ]
    },
    {
     "name": "stdout",
     "output_type": "stream",
     "text": [
      "(411, 2, 2)\n",
      "(411, 2, 2)\n",
      "james_preds/XYZres022_warped_single_radii_matched.pickle\n"
     ]
    },
    {
     "name": "stderr",
     "output_type": "stream",
     "text": [
      " 37%|███▋      | 17/46 [01:07<02:24,  4.98s/it]"
     ]
    },
    {
     "name": "stdout",
     "output_type": "stream",
     "text": [
      "(498, 2, 2)\n",
      "(498, 2, 2)\n",
      "james_preds/XYZres023_warped_single_radii_matched.pickle\n"
     ]
    },
    {
     "name": "stderr",
     "output_type": "stream",
     "text": [
      " 39%|███▉      | 18/46 [01:11<02:10,  4.65s/it]"
     ]
    },
    {
     "name": "stdout",
     "output_type": "stream",
     "text": [
      "(413, 2, 2)\n",
      "(413, 2, 2)\n",
      "james_preds/XYZres024_warped_single_radii_matched.pickle\n"
     ]
    },
    {
     "name": "stderr",
     "output_type": "stream",
     "text": [
      " 41%|████▏     | 19/46 [01:16<02:09,  4.80s/it]"
     ]
    },
    {
     "name": "stdout",
     "output_type": "stream",
     "text": [
      "(479, 2, 2)\n",
      "(479, 2, 2)\n",
      "james_preds/XYZres025_warped_single_radii_matched.pickle\n"
     ]
    },
    {
     "name": "stderr",
     "output_type": "stream",
     "text": [
      " 43%|████▎     | 20/46 [01:20<02:00,  4.63s/it]"
     ]
    },
    {
     "name": "stdout",
     "output_type": "stream",
     "text": [
      "(433, 2, 2)\n",
      "(433, 2, 2)\n",
      "james_preds/XYZres026_warped_single_radii_matched.pickle\n"
     ]
    },
    {
     "name": "stderr",
     "output_type": "stream",
     "text": [
      " 46%|████▌     | 21/46 [01:29<02:25,  5.84s/it]"
     ]
    },
    {
     "name": "stdout",
     "output_type": "stream",
     "text": [
      "(622, 2, 2)\n",
      "(622, 2, 2)\n",
      "james_preds/XYZres027_warped_single_radii_matched.pickle\n",
      "(442, 2, 2)\n",
      "(442, 2, 2)\n"
     ]
    },
    {
     "name": "stderr",
     "output_type": "stream",
     "text": [
      " 48%|████▊     | 22/46 [01:34<02:13,  5.57s/it]"
     ]
    },
    {
     "name": "stdout",
     "output_type": "stream",
     "text": [
      "james_preds/XYZres028_warped_single_radii_matched.pickle\n"
     ]
    },
    {
     "name": "stderr",
     "output_type": "stream",
     "text": [
      " 50%|█████     | 23/46 [01:43<02:34,  6.72s/it]"
     ]
    },
    {
     "name": "stdout",
     "output_type": "stream",
     "text": [
      "(646, 2, 2)\n",
      "(646, 2, 2)\n",
      "james_preds/XYZres029_warped_single_radii_matched.pickle\n"
     ]
    },
    {
     "name": "stderr",
     "output_type": "stream",
     "text": [
      " 52%|█████▏    | 24/46 [01:47<02:07,  5.81s/it]"
     ]
    },
    {
     "name": "stdout",
     "output_type": "stream",
     "text": [
      "(402, 2, 2)\n",
      "(402, 2, 2)\n",
      "james_preds/XYZres030_warped_single_radii_matched.pickle\n"
     ]
    },
    {
     "name": "stderr",
     "output_type": "stream",
     "text": [
      " 54%|█████▍    | 25/46 [02:00<02:45,  7.89s/it]"
     ]
    },
    {
     "name": "stdout",
     "output_type": "stream",
     "text": [
      "(665, 2, 2)\n",
      "(665, 2, 2)\n",
      "james_preds/XYZres031_warped_single_radii_matched.pickle\n"
     ]
    },
    {
     "name": "stderr",
     "output_type": "stream",
     "text": [
      " 57%|█████▋    | 26/46 [02:04<02:16,  6.82s/it]"
     ]
    },
    {
     "name": "stdout",
     "output_type": "stream",
     "text": [
      "(435, 2, 2)\n",
      "(435, 2, 2)\n",
      "james_preds/XYZres032_warped_single_radii_matched.pickle\n"
     ]
    },
    {
     "name": "stderr",
     "output_type": "stream",
     "text": [
      " 59%|█████▊    | 27/46 [02:09<01:58,  6.22s/it]"
     ]
    },
    {
     "name": "stdout",
     "output_type": "stream",
     "text": [
      "(460, 2, 2)\n",
      "(460, 2, 2)\n",
      "james_preds/XYZres033_warped_single_radii_matched.pickle\n"
     ]
    },
    {
     "name": "stderr",
     "output_type": "stream",
     "text": [
      " 61%|██████    | 28/46 [02:13<01:38,  5.45s/it]"
     ]
    },
    {
     "name": "stdout",
     "output_type": "stream",
     "text": [
      "(398, 2, 2)\n",
      "(398, 2, 2)\n",
      "james_preds/XYZres034_warped_single_radii_matched.pickle\n"
     ]
    },
    {
     "name": "stderr",
     "output_type": "stream",
     "text": [
      " 63%|██████▎   | 29/46 [02:17<01:26,  5.07s/it]"
     ]
    },
    {
     "name": "stdout",
     "output_type": "stream",
     "text": [
      "(429, 2, 2)\n",
      "(429, 2, 2)\n",
      "james_preds/XYZres035_warped_single_radii_matched.pickle\n"
     ]
    },
    {
     "name": "stderr",
     "output_type": "stream",
     "text": [
      " 65%|██████▌   | 30/46 [02:21<01:18,  4.90s/it]"
     ]
    },
    {
     "name": "stdout",
     "output_type": "stream",
     "text": [
      "(445, 2, 2)\n",
      "(445, 2, 2)\n",
      "james_preds/XYZres036_warped_single_radii_matched.pickle\n"
     ]
    },
    {
     "name": "stderr",
     "output_type": "stream",
     "text": [
      " 67%|██████▋   | 31/46 [02:26<01:10,  4.71s/it]"
     ]
    },
    {
     "name": "stdout",
     "output_type": "stream",
     "text": [
      "(434, 2, 2)\n",
      "(434, 2, 2)\n",
      "james_preds/XYZres037_warped_single_radii_matched.pickle\n"
     ]
    },
    {
     "name": "stderr",
     "output_type": "stream",
     "text": [
      " 70%|██████▉   | 32/46 [02:30<01:03,  4.53s/it]"
     ]
    },
    {
     "name": "stdout",
     "output_type": "stream",
     "text": [
      "(427, 2, 2)\n",
      "(427, 2, 2)\n",
      "james_preds/XYZres038_warped_single_radii_matched.pickle\n"
     ]
    },
    {
     "name": "stderr",
     "output_type": "stream",
     "text": [
      " 72%|███████▏  | 33/46 [02:34<00:57,  4.43s/it]"
     ]
    },
    {
     "name": "stdout",
     "output_type": "stream",
     "text": [
      "(432, 2, 2)\n",
      "(432, 2, 2)\n",
      "james_preds/XYZres039_warped_single_radii_matched.pickle\n",
      "(349, 2, 2)\n",
      "(349, 2, 2)\n"
     ]
    },
    {
     "name": "stderr",
     "output_type": "stream",
     "text": [
      " 74%|███████▍  | 34/46 [02:37<00:48,  4.07s/it]"
     ]
    },
    {
     "name": "stdout",
     "output_type": "stream",
     "text": [
      "james_preds/XYZres040_warped_single_radii_matched.pickle\n"
     ]
    },
    {
     "name": "stderr",
     "output_type": "stream",
     "text": [
      " 76%|███████▌  | 35/46 [02:42<00:47,  4.34s/it]"
     ]
    },
    {
     "name": "stdout",
     "output_type": "stream",
     "text": [
      "(470, 2, 2)\n",
      "(470, 2, 2)\n",
      "james_preds/XYZres041_warped_single_radii_matched.pickle\n"
     ]
    },
    {
     "name": "stderr",
     "output_type": "stream",
     "text": [
      " 78%|███████▊  | 36/46 [02:45<00:40,  4.01s/it]"
     ]
    },
    {
     "name": "stdout",
     "output_type": "stream",
     "text": [
      "(380, 2, 2)\n",
      "(380, 2, 2)\n",
      "james_preds/XYZres042_warped_single_radii_matched.pickle\n"
     ]
    },
    {
     "name": "stderr",
     "output_type": "stream",
     "text": [
      " 80%|████████  | 37/46 [02:50<00:37,  4.16s/it]"
     ]
    },
    {
     "name": "stdout",
     "output_type": "stream",
     "text": [
      "(451, 2, 2)\n",
      "(451, 2, 2)\n",
      "james_preds/XYZres043_warped_single_radii_matched.pickle\n"
     ]
    },
    {
     "name": "stderr",
     "output_type": "stream",
     "text": [
      " 83%|████████▎ | 38/46 [02:53<00:31,  3.96s/it]"
     ]
    },
    {
     "name": "stdout",
     "output_type": "stream",
     "text": [
      "(395, 2, 2)\n",
      "(395, 2, 2)\n",
      "james_preds/XYZres044_warped_single_radii_matched.pickle\n"
     ]
    },
    {
     "name": "stderr",
     "output_type": "stream",
     "text": [
      " 85%|████████▍ | 39/46 [02:56<00:25,  3.68s/it]"
     ]
    },
    {
     "name": "stdout",
     "output_type": "stream",
     "text": [
      "(365, 2, 2)\n",
      "(365, 2, 2)\n",
      "james_preds/XYZres045_warped_single_radii_matched.pickle\n"
     ]
    },
    {
     "name": "stderr",
     "output_type": "stream",
     "text": [
      " 87%|████████▋ | 40/46 [03:05<00:31,  5.28s/it]"
     ]
    },
    {
     "name": "stdout",
     "output_type": "stream",
     "text": [
      "(636, 2, 2)\n",
      "(636, 2, 2)\n",
      "james_preds/XYZres046_warped_single_radii_matched.pickle\n"
     ]
    },
    {
     "name": "stderr",
     "output_type": "stream",
     "text": [
      " 89%|████████▉ | 41/46 [03:13<00:30,  6.04s/it]"
     ]
    },
    {
     "name": "stdout",
     "output_type": "stream",
     "text": [
      "(592, 2, 2)\n",
      "(592, 2, 2)\n",
      "james_preds/XYZres047_warped_single_radii_matched.pickle\n"
     ]
    },
    {
     "name": "stderr",
     "output_type": "stream",
     "text": [
      " 91%|█████████▏| 42/46 [03:26<00:31,  7.95s/it]"
     ]
    },
    {
     "name": "stdout",
     "output_type": "stream",
     "text": [
      "(649, 2, 2)\n",
      "(649, 2, 2)\n",
      "james_preds/XYZres048_warped_single_radii_matched.pickle\n"
     ]
    },
    {
     "name": "stderr",
     "output_type": "stream",
     "text": [
      " 93%|█████████▎| 43/46 [03:33<00:23,  7.77s/it]"
     ]
    },
    {
     "name": "stdout",
     "output_type": "stream",
     "text": [
      "(572, 2, 2)\n",
      "(572, 2, 2)\n",
      "james_preds/XYZres049_warped_single_radii_matched.pickle\n"
     ]
    },
    {
     "name": "stderr",
     "output_type": "stream",
     "text": [
      " 96%|█████████▌| 44/46 [03:42<00:16,  8.09s/it]"
     ]
    },
    {
     "name": "stdout",
     "output_type": "stream",
     "text": [
      "(626, 2, 2)\n",
      "(626, 2, 2)\n",
      "james_preds/XYZres050_warped_single_radii_matched.pickle\n"
     ]
    },
    {
     "name": "stderr",
     "output_type": "stream",
     "text": [
      " 98%|█████████▊| 45/46 [03:50<00:08,  8.23s/it]"
     ]
    },
    {
     "name": "stdout",
     "output_type": "stream",
     "text": [
      "(619, 2, 2)\n",
      "(619, 2, 2)\n",
      "james_preds/XYZres051_warped_single_radii_matched.pickle\n",
      "(565, 2, 2)\n",
      "(565, 2, 2)\n"
     ]
    },
    {
     "name": "stderr",
     "output_type": "stream",
     "text": [
      "100%|██████████| 46/46 [03:58<00:00,  5.18s/it]"
     ]
    },
    {
     "name": "stdout",
     "output_type": "stream",
     "text": [
      "james_preds/XYZres052_warped_single_radii_matched.pickle\n"
     ]
    },
    {
     "name": "stderr",
     "output_type": "stream",
     "text": [
      "\n"
     ]
    }
   ],
   "source": [
    "for file_0001 in tqdm(files):\n",
    "    file = re.sub('_0001','',file_0001)\n",
    "    graph = nx.read_gpickle(file)\n",
    "    graph_0001 = nx.read_gpickle(file_0001)\n",
    "    res = []\n",
    "    thresh = 2\n",
    "    count=0\n",
    "    for i in list(graph.edges):\n",
    "        for j in list(graph_0001.edges):\n",
    "            if graph.edges[i]['weight'] > 1:\n",
    "                thresh_dst = graph.edges[i]['weight']/6\n",
    "                start = graph.edges[i]['end-0']\n",
    "                end = graph.edges[i]['end-1']\n",
    "                start_0001 = graph_0001.edges[j]['end-0']\n",
    "                end_0001 = graph_0001.edges[j]['end-1']\n",
    "                dst_start_mtch = np.sqrt(np.sum(np.square(start-start_0001)))\n",
    "                dst_end_mtch = np.sqrt(np.sum(np.square(end-end_0001)))\n",
    "                dst_start_opp = np.sqrt(np.sum(np.square(start-end_0001)))\n",
    "                dst_end_opp = np.sqrt(np.sum(np.square(end-start_0001)))\n",
    "                path_dst = graph.edges[i]['weight']\n",
    "                path_dst_0001 = graph_0001.edges[j]['weight']\n",
    "                distance_delt = abs(path_dst - path_dst_0001)\n",
    "                if (dst_start_mtch < thresh and dst_end_mtch < thresh and distance_delt < thresh_dst or \n",
    "                    dst_start_opp < thresh and dst_end_opp < thresh and distance_delt < thresh_dst):\n",
    "                    res.append([i,j])\n",
    "                    graph.edges[i]['radii_0001'] = graph_0001.edges[j]['radii']\n",
    "                    graph.edges[i]['radii_0001_std'] = graph_0001.edges[j]['radii_std']\n",
    "                    graph.edges[i]['pts_0001'] = graph_0001.edges[j]['pts']\n",
    "                    break\n",
    "                else:\n",
    "                    continue\n",
    "    res = np.array(res)\n",
    "    \n",
    "    if len(res) !=0:\n",
    "        print(res.shape)\n",
    "        res_str = [\",\".join(item) for item in res[:,1].astype(str)]\n",
    "        repeated = [item for item, count in Counter(res_str).items() if count > 1]\n",
    "        res = np.array(res)\n",
    "        if len(repeated) != 0:\n",
    "            for i in range(len(repeated)):   # branches_selected.to_excel(re.sub('.tiff','_iso.xlsx',file))\n",
    "                res = np.delete(res,np.where(np.array(res_str) == repeated[i])[0],axis=0)\n",
    "                res_str = np.delete(res_str,np.where(np.array(res_str) == repeated[i])[0],axis=0)\n",
    "        res = np.array(res)\n",
    "        print(res.shape)\n",
    "        np.save(re.sub('.pickle','_edge_match.npy',file),res)\n",
    "        nx.write_gpickle(graph, re.sub('.pickle','_matched.pickle',file))\n",
    "        print(re.sub('.pickle','_matched.pickle',file))"
   ]
  },
  {
   "cell_type": "code",
   "execution_count": 32,
   "id": "e012e15c",
   "metadata": {},
   "outputs": [
    {
     "data": {
      "text/plain": [
       "AtlasView({172: {'pts': array([[  2, 220, 367],\n",
       "       [  3, 220, 367],\n",
       "       [  4, 219, 367],\n",
       "       [  5, 219, 367],\n",
       "       [  6, 219, 367],\n",
       "       [  7, 219, 367],\n",
       "       [  8, 219, 367],\n",
       "       [  9, 219, 367],\n",
       "       [ 10, 219, 367],\n",
       "       [ 11, 219, 367],\n",
       "       [ 12, 219, 367],\n",
       "       [ 13, 218, 368],\n",
       "       [ 14, 218, 368],\n",
       "       [ 15, 218, 368],\n",
       "       [ 16, 218, 368],\n",
       "       [ 17, 218, 368],\n",
       "       [ 18, 218, 368],\n",
       "       [ 19, 218, 368],\n",
       "       [ 20, 218, 368],\n",
       "       [ 21, 218, 368],\n",
       "       [ 22, 217, 369],\n",
       "       [ 23, 217, 369],\n",
       "       [ 24, 217, 369],\n",
       "       [ 25, 217, 369],\n",
       "       [ 26, 217, 369],\n",
       "       [ 27, 217, 369],\n",
       "       [ 28, 217, 369],\n",
       "       [ 29, 217, 369],\n",
       "       [ 30, 217, 369],\n",
       "       [ 31, 217, 369],\n",
       "       [ 32, 216, 370],\n",
       "       [ 33, 216, 370],\n",
       "       [ 34, 216, 369],\n",
       "       [ 35, 215, 370],\n",
       "       [ 36, 215, 370],\n",
       "       [ 37, 215, 370],\n",
       "       [ 38, 215, 370],\n",
       "       [ 39, 215, 370],\n",
       "       [ 40, 215, 370],\n",
       "       [ 41, 215, 370],\n",
       "       [ 42, 215, 370],\n",
       "       [ 43, 215, 370],\n",
       "       [ 44, 214, 370],\n",
       "       [ 45, 214, 370],\n",
       "       [ 46, 214, 370],\n",
       "       [ 47, 214, 370],\n",
       "       [ 48, 214, 370],\n",
       "       [ 49, 213, 370],\n",
       "       [ 50, 213, 370],\n",
       "       [ 51, 212, 371],\n",
       "       [ 52, 212, 371],\n",
       "       [ 53, 212, 371],\n",
       "       [ 54, 212, 371],\n",
       "       [ 55, 212, 371],\n",
       "       [ 56, 212, 371],\n",
       "       [ 57, 211, 371],\n",
       "       [ 58, 210, 372],\n",
       "       [ 59, 210, 372],\n",
       "       [ 60, 210, 372],\n",
       "       [ 61, 210, 372],\n",
       "       [ 62, 210, 372],\n",
       "       [ 63, 210, 372],\n",
       "       [ 64, 209, 372],\n",
       "       [ 65, 209, 372],\n",
       "       [ 66, 209, 372],\n",
       "       [ 67, 209, 372],\n",
       "       [ 68, 209, 372],\n",
       "       [ 69, 208, 372],\n",
       "       [ 70, 208, 372],\n",
       "       [ 71, 209, 372],\n",
       "       [ 72, 208, 372],\n",
       "       [ 73, 207, 372],\n",
       "       [ 74, 206, 372],\n",
       "       [ 75, 205, 372],\n",
       "       [ 76, 205, 372],\n",
       "       [ 77, 205, 373],\n",
       "       [ 78, 205, 373],\n",
       "       [ 79, 204, 373],\n",
       "       [ 79, 203, 373],\n",
       "       [ 79, 202, 373],\n",
       "       [ 79, 201, 373],\n",
       "       [ 80, 200, 373],\n",
       "       [ 80, 199, 373],\n",
       "       [ 80, 198, 374],\n",
       "       [ 79, 197, 374],\n",
       "       [ 80, 196, 374],\n",
       "       [ 81, 195, 375],\n",
       "       [ 82, 194, 375]], dtype=int16), 'weight': 99.99441333807094, 'radii': 1.886062383221433, 'radii_std': 0.3008254632247101, 'vessel_type': 2.0, 'vessel_type_std': 0.0, 'path_weights': array([2.        , 2.        , 1.41421356, 2.        , 2.23606798,\n",
       "       2.        , 2.        , 2.        , 1.41421356, 1.        ,\n",
       "       1.        , 1.        , 1.        , 2.        , 2.        ,\n",
       "       2.        , 2.        , 2.        , 2.        , 2.        ,\n",
       "       2.        , 2.        , 2.        , 2.        , 2.        ,\n",
       "       2.        , 2.        , 2.        , 2.        , 2.        ,\n",
       "       2.        , 2.        , 2.        , 2.        , 2.        ,\n",
       "       2.        , 2.        , 2.        , 2.        , 2.        ,\n",
       "       2.        , 2.        , 2.        , 2.        , 2.        ,\n",
       "       2.        , 2.        , 2.        , 2.        , 2.        ,\n",
       "       2.        , 2.        , 2.        , 2.        , 2.        ,\n",
       "       2.23606798, 1.41421356, 1.41421356, 2.        , 1.73205081,\n",
       "       1.41421356, 1.73205081, 1.41421356, 1.41421356, 1.41421356,\n",
       "       1.41421356, 1.41421356, 1.41421356, 2.        , 2.        ,\n",
       "       2.        , 2.        , 2.        , 2.        , 2.        ,\n",
       "       2.        , 2.        , 2.23606798, 2.23606798, 2.23606798,\n",
       "       2.23606798, 2.23606798, 2.23606798, 2.        , 2.23606798,\n",
       "       2.        , 1.41421356, 1.41421356]), 'end-0': array([  2, 220, 367], dtype=int16), 'end-1': array([ 82, 194, 375], dtype=int16), 'radii_0001': 1.7551635533037595, 'radii_0001_std': 0.43832427936562507, 'pts_0001': array([[  2, 220, 367],\n",
       "       [  3, 220, 367],\n",
       "       [  4, 219, 367],\n",
       "       [  5, 219, 367],\n",
       "       [  6, 219, 367],\n",
       "       [  7, 219, 367],\n",
       "       [  8, 219, 367],\n",
       "       [  9, 219, 367],\n",
       "       [ 10, 219, 367],\n",
       "       [ 11, 219, 367],\n",
       "       [ 12, 219, 367],\n",
       "       [ 13, 218, 368],\n",
       "       [ 14, 218, 368],\n",
       "       [ 15, 218, 368],\n",
       "       [ 16, 218, 368],\n",
       "       [ 17, 218, 368],\n",
       "       [ 18, 218, 368],\n",
       "       [ 19, 218, 368],\n",
       "       [ 20, 218, 368],\n",
       "       [ 21, 218, 368],\n",
       "       [ 22, 217, 369],\n",
       "       [ 23, 217, 369],\n",
       "       [ 24, 217, 369],\n",
       "       [ 25, 217, 369],\n",
       "       [ 26, 217, 369],\n",
       "       [ 27, 217, 369],\n",
       "       [ 28, 217, 369],\n",
       "       [ 29, 217, 369],\n",
       "       [ 30, 217, 369],\n",
       "       [ 31, 217, 369],\n",
       "       [ 32, 216, 370],\n",
       "       [ 33, 216, 370],\n",
       "       [ 34, 216, 369],\n",
       "       [ 35, 215, 370],\n",
       "       [ 36, 215, 370],\n",
       "       [ 37, 215, 370],\n",
       "       [ 38, 215, 370],\n",
       "       [ 39, 215, 370],\n",
       "       [ 40, 215, 370],\n",
       "       [ 41, 215, 370],\n",
       "       [ 42, 215, 370],\n",
       "       [ 43, 215, 370],\n",
       "       [ 44, 214, 370],\n",
       "       [ 45, 214, 370],\n",
       "       [ 46, 214, 370],\n",
       "       [ 47, 214, 370],\n",
       "       [ 48, 214, 370],\n",
       "       [ 49, 213, 370],\n",
       "       [ 50, 213, 370],\n",
       "       [ 51, 212, 371],\n",
       "       [ 52, 212, 371],\n",
       "       [ 53, 212, 371],\n",
       "       [ 54, 212, 371],\n",
       "       [ 55, 212, 371],\n",
       "       [ 56, 212, 371],\n",
       "       [ 57, 211, 371],\n",
       "       [ 58, 210, 372],\n",
       "       [ 59, 210, 372],\n",
       "       [ 60, 210, 372],\n",
       "       [ 61, 210, 372],\n",
       "       [ 62, 210, 372],\n",
       "       [ 63, 210, 372],\n",
       "       [ 64, 209, 372],\n",
       "       [ 65, 209, 372],\n",
       "       [ 66, 209, 372],\n",
       "       [ 67, 209, 372],\n",
       "       [ 68, 209, 372],\n",
       "       [ 69, 208, 372],\n",
       "       [ 70, 208, 372],\n",
       "       [ 71, 209, 372],\n",
       "       [ 72, 208, 372],\n",
       "       [ 73, 207, 372],\n",
       "       [ 74, 206, 372],\n",
       "       [ 75, 205, 372],\n",
       "       [ 76, 205, 372],\n",
       "       [ 77, 205, 373],\n",
       "       [ 78, 205, 373],\n",
       "       [ 79, 204, 373],\n",
       "       [ 79, 203, 373],\n",
       "       [ 79, 202, 373],\n",
       "       [ 79, 201, 373],\n",
       "       [ 80, 200, 373],\n",
       "       [ 80, 199, 373],\n",
       "       [ 80, 198, 374],\n",
       "       [ 79, 197, 374],\n",
       "       [ 80, 196, 374],\n",
       "       [ 81, 195, 375],\n",
       "       [ 82, 194, 375]], dtype=int16)}})"
      ]
     },
     "execution_count": 32,
     "metadata": {},
     "output_type": "execute_result"
    }
   ],
   "source": [
    "graph[0]"
   ]
  },
  {
   "cell_type": "code",
   "execution_count": 9,
   "id": "7d84916e",
   "metadata": {},
   "outputs": [
    {
     "data": {
      "text/plain": [
       "AtlasView({109: {'pts': array([[  2,  35, 185],\n",
       "       [  2,  34, 186],\n",
       "       [  2,  33, 187],\n",
       "       [  3,  32, 188],\n",
       "       [  4,  31, 189],\n",
       "       [  3,  30, 190],\n",
       "       [  4,  29, 191],\n",
       "       [  3,  28, 191],\n",
       "       [  4,  27, 192],\n",
       "       [  4,  26, 193],\n",
       "       [  5,  25, 193],\n",
       "       [  6,  25, 193],\n",
       "       [  7,  25, 193],\n",
       "       [  8,  24, 194],\n",
       "       [  9,  23, 194],\n",
       "       [ 10,  22, 194],\n",
       "       [ 11,  22, 194],\n",
       "       [ 12,  21, 195],\n",
       "       [ 13,  21, 195],\n",
       "       [ 14,  20, 195],\n",
       "       [ 15,  19, 196],\n",
       "       [ 16,  18, 196],\n",
       "       [ 15,  17, 197],\n",
       "       [ 16,  16, 197],\n",
       "       [ 17,  15, 197],\n",
       "       [ 18,  15, 197],\n",
       "       [ 19,  14, 197],\n",
       "       [ 20,  13, 197],\n",
       "       [ 21,  12, 197],\n",
       "       [ 22,  11, 197],\n",
       "       [ 22,  10, 196],\n",
       "       [ 23,   9, 196]], dtype=int16), 'weight': 44.378374133109965, 'radii': 2.1503575864242803, 'radii_std': 0.3216082090953874, 'path_weights': array([1.72228204, 1.72228204, 1.72228204, 1.72228204, 1.72228204,\n",
       "       2.22345655, 2.22345655, 2.43567462, 2.8124748 , 1.98872   ,\n",
       "       2.22345655, 2.22345655, 2.22345655, 1.98872   , 1.98872   ,\n",
       "       1.98872   , 2.22345655, 1.98872   , 1.98872   , 2.22345655,\n",
       "       1.98872   , 2.22345655, 1.72228204, 2.22345655, 2.8124748 ,\n",
       "       2.8124748 , 2.43567462, 1.98872   , 2.22345655, 2.8124748 ,\n",
       "       1.98872   , 2.22345655]), 'end-0': array([  2,  35, 185], dtype=int16), 'end-1': array([ 23,   9, 196], dtype=int16)}})"
      ]
     },
     "execution_count": 9,
     "metadata": {},
     "output_type": "execute_result"
    }
   ],
   "source": [
    "graph_0001[0]"
   ]
  },
  {
   "cell_type": "code",
   "execution_count": null,
   "id": "fcae21a0",
   "metadata": {},
   "outputs": [],
   "source": [
    "res_str = [\",\".join(item) for item in res[:,1].astype(str)]\n",
    "repeated = [item for item, count in Counter(res_str).items() if count > 1]"
   ]
  },
  {
   "cell_type": "code",
   "execution_count": null,
   "id": "8a92fdd8",
   "metadata": {},
   "outputs": [],
   "source": [
    "res_str = [\",\".join(item) for item in res[:,1].astype(str)]\n",
    "repeated = [item for item, count in Counter(res_str).items() if count > 1]\n",
    "\n",
    "res = np.array(res)\n",
    "if len(repeated) != 0:\n",
    "    for i in range(len(repeated)):   # branches_selected.to_excel(re.sub('.tiff','_iso.xlsx',file))\n",
    "# branches_selected_0001.to_excel(re.sub('.tiff','_iso.xlsx',file_0001))\n",
    "# branches_full.to_excel(re.sub('.tiff','_iso_full.xlsx',file))\n",
    "# branches_full_0001.to_excel(re.sub('.tiff','_iso_full.xlsx',file_0001))\n",
    "# np.save(re.sub('.tiff','_iso_corr.txt',file),res)\n",
    "        res = np.delete(res,np.where(np.array(res_str) == repeated[i])[0],axis=0)\n",
    "\n",
    "\n",
    "\n",
    "res = np.array(res)\n",
    "print(res.shape)"
   ]
  },
  {
   "cell_type": "code",
   "execution_count": 11,
   "id": "517fee7f",
   "metadata": {},
   "outputs": [],
   "source": [
    "file = files[1]"
   ]
  },
  {
   "cell_type": "code",
   "execution_count": 12,
   "id": "61b879c2",
   "metadata": {},
   "outputs": [],
   "source": [
    "graph = nx.read_gpickle(file)"
   ]
  },
  {
   "cell_type": "code",
   "execution_count": 21,
   "id": "1a306782",
   "metadata": {},
   "outputs": [
    {
     "data": {
      "text/plain": [
       "{'pts': array([[ 67,  12, 152],\n",
       "        [ 67,  13, 152],\n",
       "        [ 67,  14, 152],\n",
       "        [ 67,  15, 152],\n",
       "        [ 67,  16, 152],\n",
       "        [ 67,  17, 152],\n",
       "        [ 67,  18, 152],\n",
       "        [ 68,  19, 152],\n",
       "        [ 68,  20, 152],\n",
       "        [ 68,  21, 151],\n",
       "        [ 68,  22, 150],\n",
       "        [ 68,  23, 149],\n",
       "        [ 68,  24, 149],\n",
       "        [ 68,  25, 148],\n",
       "        [ 68,  26, 147],\n",
       "        [ 67,  27, 147],\n",
       "        [ 67,  28, 147],\n",
       "        [ 67,  29, 147],\n",
       "        [ 68,  30, 146],\n",
       "        [ 68,  31, 145],\n",
       "        [ 69,  32, 144],\n",
       "        [ 69,  33, 144],\n",
       "        [ 69,  34, 143],\n",
       "        [ 69,  35, 143],\n",
       "        [ 69,  36, 142],\n",
       "        [ 69,  37, 141],\n",
       "        [ 70,  38, 140],\n",
       "        [ 70,  38, 139],\n",
       "        [ 70,  39, 138],\n",
       "        [ 71,  40, 137],\n",
       "        [ 71,  41, 136],\n",
       "        [ 72,  42, 136],\n",
       "        [ 73,  43, 135],\n",
       "        [ 73,  44, 134],\n",
       "        [ 74,  45, 133],\n",
       "        [ 74,  46, 133],\n",
       "        [ 75,  47, 132],\n",
       "        [ 75,  48, 132],\n",
       "        [ 76,  49, 131],\n",
       "        [ 76,  50, 131],\n",
       "        [ 76,  51, 130],\n",
       "        [ 77,  52, 129],\n",
       "        [ 77,  53, 128],\n",
       "        [ 78,  54, 127],\n",
       "        [ 79,  55, 126],\n",
       "        [ 79,  56, 126],\n",
       "        [ 80,  57, 126],\n",
       "        [ 81,  58, 127],\n",
       "        [ 81,  59, 126],\n",
       "        [ 82,  60, 126],\n",
       "        [ 82,  61, 125],\n",
       "        [ 83,  62, 124],\n",
       "        [ 84,  63, 125],\n",
       "        [ 84,  64, 126],\n",
       "        [ 84,  65, 125],\n",
       "        [ 85,  66, 124],\n",
       "        [ 85,  67, 123],\n",
       "        [ 86,  68, 122],\n",
       "        [ 86,  69, 121],\n",
       "        [ 87,  70, 121],\n",
       "        [ 87,  71, 120],\n",
       "        [ 88,  72, 120],\n",
       "        [ 88,  73, 120],\n",
       "        [ 89,  74, 119]], dtype=int16),\n",
       " 'weight': 86.55192183791792,\n",
       " 'radii': 1.9851731564872899,\n",
       " 'radii_std': 0.24585060145805968,\n",
       " 'path_weights': array([1.98872   , 1.98872   , 1.98872   , 1.98872   , 1.98872   ,\n",
       "        1.98872   , 1.98872   , 1.72228204, 1.98872   , 1.98872   ,\n",
       "        1.98872   , 1.98872   , 1.98872   , 1.98872   , 1.4062374 ,\n",
       "        2.22345655, 2.43567462, 2.43567462, 2.22345655, 2.22345655,\n",
       "        1.98872   , 1.98872   , 1.98872   , 1.98872   , 1.98872   ,\n",
       "        1.98872   , 2.22345655, 2.22345655, 1.98872   , 2.22345655,\n",
       "        1.98872   , 2.22345655, 1.98872   , 1.98872   , 1.98872   ,\n",
       "        2.22345655, 1.98872   , 1.4062374 , 1.98872   , 1.98872   ,\n",
       "        1.98872   , 2.22345655, 1.98872   , 2.22345655, 2.22345655,\n",
       "        2.22345655, 2.22345655, 2.22345655, 2.22345655, 2.22345655,\n",
       "        1.98872   , 1.98872   , 1.72228204, 1.98872   , 1.4062374 ,\n",
       "        1.98872   , 1.98872   , 1.98872   , 1.4062374 , 1.98872   ,\n",
       "        1.4062374 , 1.72228204, 1.4062374 , 1.4062374 ]),\n",
       " 'end-0': array([ 67,  12, 152], dtype=int16),\n",
       " 'end-1': array([ 89,  74, 119], dtype=int16)}"
      ]
     },
     "execution_count": 21,
     "metadata": {},
     "output_type": "execute_result"
    }
   ],
   "source": [
    "graph[82][121]"
   ]
  },
  {
   "cell_type": "code",
   "execution_count": 16,
   "id": "c7b442d0",
   "metadata": {},
   "outputs": [
    {
     "data": {
      "text/plain": [
       "[(0, 5),\n",
       " (1, 46),\n",
       " (2, 3),\n",
       " (6, 15),\n",
       " (7, 9),\n",
       " (8, 12),\n",
       " (10, 70),\n",
       " (11, 42),\n",
       " (13, 26),\n",
       " (14, 78),\n",
       " (16, 63),\n",
       " (17, 31),\n",
       " (18, 19),\n",
       " (20, 34),\n",
       " (21, 24),\n",
       " (23, 30),\n",
       " (27, 39),\n",
       " (28, 42),\n",
       " (29, 35),\n",
       " (31, 37),\n",
       " (31, 36),\n",
       " (32, 47),\n",
       " (33, 38),\n",
       " (38, 45),\n",
       " (40, 60),\n",
       " (41, 48),\n",
       " (42, 112),\n",
       " (50, 61),\n",
       " (51, 54),\n",
       " (52, 91),\n",
       " (53, 56),\n",
       " (55, 62),\n",
       " (58, 78),\n",
       " (59, 62),\n",
       " (60, 93),\n",
       " (60, 75),\n",
       " (62, 124),\n",
       " (64, 69),\n",
       " (65, 68),\n",
       " (66, 90),\n",
       " (67, 106),\n",
       " (72, 74),\n",
       " (73, 86),\n",
       " (75, 213),\n",
       " (75, 100),\n",
       " (77, 88),\n",
       " (78, 91),\n",
       " (80, 81),\n",
       " (82, 121),\n",
       " (83, 84),\n",
       " (88, 88),\n",
       " (88, 99),\n",
       " (89, 96),\n",
       " (91, 206),\n",
       " (94, 98),\n",
       " (95, 97),\n",
       " (101, 116),\n",
       " (102, 103),\n",
       " (102, 119),\n",
       " (102, 104),\n",
       " (105, 166),\n",
       " (109, 115),\n",
       " (111, 132),\n",
       " (112, 118),\n",
       " (112, 128),\n",
       " (113, 146),\n",
       " (114, 126),\n",
       " (117, 126),\n",
       " (122, 123),\n",
       " (124, 152),\n",
       " (124, 216),\n",
       " (125, 143),\n",
       " (126, 167),\n",
       " (127, 131),\n",
       " (127, 127),\n",
       " (127, 159),\n",
       " (127, 137),\n",
       " (128, 129),\n",
       " (128, 163),\n",
       " (130, 212),\n",
       " (133, 135),\n",
       " (134, 135),\n",
       " (135, 154),\n",
       " (136, 150),\n",
       " (138, 173),\n",
       " (140, 150),\n",
       " (141, 142),\n",
       " (144, 146),\n",
       " (145, 159),\n",
       " (146, 154),\n",
       " (147, 151),\n",
       " (148, 151),\n",
       " (149, 194),\n",
       " (150, 177),\n",
       " (151, 188),\n",
       " (153, 176),\n",
       " (154, 159),\n",
       " (155, 193),\n",
       " (156, 227),\n",
       " (157, 191),\n",
       " (158, 164),\n",
       " (159, 177),\n",
       " (160, 178),\n",
       " (161, 195),\n",
       " (162, 201),\n",
       " (163, 206),\n",
       " (163, 183),\n",
       " (164, 168),\n",
       " (164, 169),\n",
       " (164, 194),\n",
       " (164, 186),\n",
       " (165, 178),\n",
       " (170, 198),\n",
       " (171, 182),\n",
       " (172, 196),\n",
       " (174, 199),\n",
       " (175, 199),\n",
       " (177, 188),\n",
       " (178, 198),\n",
       " (179, 186),\n",
       " (180, 225),\n",
       " (181, 198),\n",
       " (181, 208),\n",
       " (181, 219),\n",
       " (181, 315),\n",
       " (184, 246),\n",
       " (185, 197),\n",
       " (186, 219),\n",
       " (187, 200),\n",
       " (188, 193),\n",
       " (189, 195),\n",
       " (190, 229),\n",
       " (193, 198),\n",
       " (194, 199),\n",
       " (195, 201),\n",
       " (199, 200),\n",
       " (199, 204),\n",
       " (200, 201),\n",
       " (200, 203),\n",
       " (205, 232),\n",
       " (206, 244),\n",
       " (207, 211),\n",
       " (209, 210),\n",
       " (214, 219),\n",
       " (215, 217),\n",
       " (218, 295),\n",
       " (220, 298),\n",
       " (221, 222),\n",
       " (223, 224),\n",
       " (226, 264),\n",
       " (228, 247),\n",
       " (230, 263),\n",
       " (231, 233),\n",
       " (232, 234),\n",
       " (232, 245),\n",
       " (234, 237),\n",
       " (234, 240),\n",
       " (235, 240),\n",
       " (236, 256),\n",
       " (237, 238),\n",
       " (237, 252),\n",
       " (238, 244),\n",
       " (238, 253),\n",
       " (239, 240),\n",
       " (242, 250),\n",
       " (243, 255),\n",
       " (244, 284),\n",
       " (245, 248),\n",
       " (246, 302),\n",
       " (246, 249),\n",
       " (251, 290),\n",
       " (254, 324),\n",
       " (255, 264),\n",
       " (255, 262),\n",
       " (255, 293),\n",
       " (257, 274),\n",
       " (258, 291),\n",
       " (259, 299),\n",
       " (260, 265),\n",
       " (261, 265),\n",
       " (264, 308),\n",
       " (264, 265),\n",
       " (266, 267),\n",
       " (270, 271),\n",
       " (273, 274),\n",
       " (274, 305),\n",
       " (276, 277),\n",
       " (279, 300),\n",
       " (280, 293),\n",
       " (281, 282),\n",
       " (284, 368),\n",
       " (284, 296),\n",
       " (285, 331),\n",
       " (286, 309),\n",
       " (288, 294),\n",
       " (289, 344),\n",
       " (292, 310),\n",
       " (293, 303),\n",
       " (295, 297),\n",
       " (295, 392),\n",
       " (300, 360),\n",
       " (300, 315),\n",
       " (301, 326),\n",
       " (303, 318),\n",
       " (303, 306),\n",
       " (307, 312),\n",
       " (307, 313),\n",
       " (307, 308),\n",
       " (308, 405),\n",
       " (314, 332),\n",
       " (315, 319),\n",
       " (316, 323),\n",
       " (317, 350),\n",
       " (319, 329),\n",
       " (319, 320),\n",
       " (327, 333),\n",
       " (328, 366),\n",
       " (330, 347),\n",
       " (335, 341),\n",
       " (337, 345),\n",
       " (338, 348),\n",
       " (339, 359),\n",
       " (340, 369),\n",
       " (343, 407),\n",
       " (346, 377),\n",
       " (349, 355),\n",
       " (351, 352),\n",
       " (353, 382),\n",
       " (356, 421),\n",
       " (357, 360),\n",
       " (360, 362),\n",
       " (361, 380),\n",
       " (362, 363),\n",
       " (362, 450),\n",
       " (370, 402),\n",
       " (371, 395),\n",
       " (372, 389),\n",
       " (373, 399),\n",
       " (376, 394),\n",
       " (378, 384),\n",
       " (379, 383),\n",
       " (381, 420),\n",
       " (385, 400),\n",
       " (386, 408),\n",
       " (387, 415),\n",
       " (388, 395),\n",
       " (390, 396),\n",
       " (391, 405),\n",
       " (393, 411),\n",
       " (395, 403),\n",
       " (397, 410),\n",
       " (403, 445),\n",
       " (403, 423),\n",
       " (404, 412),\n",
       " (405, 497),\n",
       " (406, 448),\n",
       " (409, 435),\n",
       " (410, 455),\n",
       " (410, 421),\n",
       " (413, 422),\n",
       " (416, 417),\n",
       " (421, 438),\n",
       " (424, 428),\n",
       " (425, 426),\n",
       " (430, 440),\n",
       " (432, 436),\n",
       " (433, 473),\n",
       " (434, 435),\n",
       " (435, 445),\n",
       " (439, 444),\n",
       " (441, 448),\n",
       " (443, 474),\n",
       " (445, 449),\n",
       " (446, 452),\n",
       " (447, 451),\n",
       " (448, 674),\n",
       " (453, 465),\n",
       " (456, 470),\n",
       " (457, 514),\n",
       " (458, 473),\n",
       " (459, 511),\n",
       " (460, 464),\n",
       " (461, 479),\n",
       " (461, 465),\n",
       " (461, 462),\n",
       " (463, 467),\n",
       " (465, 492),\n",
       " (467, 468),\n",
       " (469, 541),\n",
       " (471, 472),\n",
       " (473, 508),\n",
       " (475, 544),\n",
       " (476, 477),\n",
       " (480, 485),\n",
       " (481, 505),\n",
       " (482, 492),\n",
       " (484, 494),\n",
       " (486, 501),\n",
       " (487, 492),\n",
       " (488, 493),\n",
       " (489, 509),\n",
       " (490, 612),\n",
       " (495, 500),\n",
       " (498, 582),\n",
       " (499, 504),\n",
       " (500, 539),\n",
       " (500, 561),\n",
       " (503, 611),\n",
       " (506, 538),\n",
       " (507, 512),\n",
       " (508, 569),\n",
       " (508, 533),\n",
       " (510, 540),\n",
       " (513, 529),\n",
       " (514, 520),\n",
       " (514, 595),\n",
       " (515, 528),\n",
       " (517, 518),\n",
       " (519, 559),\n",
       " (521, 527),\n",
       " (523, 565),\n",
       " (524, 530),\n",
       " (526, 594),\n",
       " (531, 637),\n",
       " (534, 542),\n",
       " (535, 603),\n",
       " (536, 541),\n",
       " (537, 545),\n",
       " (541, 563),\n",
       " (543, 546),\n",
       " (548, 550),\n",
       " (549, 555),\n",
       " (551, 573),\n",
       " (552, 574),\n",
       " (553, 554),\n",
       " (556, 561),\n",
       " (557, 565),\n",
       " (558, 561),\n",
       " (560, 587),\n",
       " (561, 575),\n",
       " (562, 569),\n",
       " (562, 576),\n",
       " (562, 570),\n",
       " (563, 567),\n",
       " (563, 568),\n",
       " (565, 575),\n",
       " (566, 575),\n",
       " (569, 748),\n",
       " (571, 577),\n",
       " (572, 583),\n",
       " (578, 594),\n",
       " (578, 579),\n",
       " (584, 604),\n",
       " (586, 602),\n",
       " (588, 600),\n",
       " (590, 642),\n",
       " (591, 597),\n",
       " (594, 644),\n",
       " (596, 601),\n",
       " (598, 603),\n",
       " (599, 605),\n",
       " (603, 657),\n",
       " (607, 608),\n",
       " (607, 616),\n",
       " (607, 670),\n",
       " (609, 615),\n",
       " (612, 655),\n",
       " (612, 643),\n",
       " (613, 616),\n",
       " (614, 623),\n",
       " (616, 639),\n",
       " (617, 639),\n",
       " (619, 629),\n",
       " (621, 622),\n",
       " (625, 675),\n",
       " (626, 630),\n",
       " (627, 646),\n",
       " (632, 636),\n",
       " (633, 645),\n",
       " (634, 640),\n",
       " (635, 659),\n",
       " (638, 652),\n",
       " (639, 656),\n",
       " (641, 650),\n",
       " (643, 653),\n",
       " (643, 648),\n",
       " (647, 678),\n",
       " (649, 691),\n",
       " (651, 655),\n",
       " (654, 662),\n",
       " (655, 690),\n",
       " (658, 687),\n",
       " (660, 681),\n",
       " (661, 662),\n",
       " (662, 694),\n",
       " (663, 676),\n",
       " (664, 682),\n",
       " (667, 671),\n",
       " (668, 688),\n",
       " (669, 721),\n",
       " (670, 670),\n",
       " (670, 703),\n",
       " (672, 685),\n",
       " (674, 676),\n",
       " (674, 817),\n",
       " (676, 685),\n",
       " (677, 682),\n",
       " (679, 686),\n",
       " (680, 696),\n",
       " (682, 695),\n",
       " (683, 755),\n",
       " (684, 688),\n",
       " (685, 714),\n",
       " (688, 701),\n",
       " (689, 726),\n",
       " (692, 693),\n",
       " (696, 699),\n",
       " (698, 709),\n",
       " (700, 736),\n",
       " (702, 730),\n",
       " (704, 708),\n",
       " (705, 714),\n",
       " (706, 727),\n",
       " (707, 712),\n",
       " (710, 723),\n",
       " (713, 718),\n",
       " (714, 720),\n",
       " (715, 747),\n",
       " (722, 766),\n",
       " (724, 741),\n",
       " (725, 732),\n",
       " (728, 729),\n",
       " (731, 736),\n",
       " (733, 734),\n",
       " (733, 737),\n",
       " (734, 740),\n",
       " (734, 752),\n",
       " (735, 744),\n",
       " (736, 760),\n",
       " (738, 813),\n",
       " (739, 750),\n",
       " (742, 746),\n",
       " (743, 761),\n",
       " (745, 768),\n",
       " (749, 754),\n",
       " (751, 767),\n",
       " (753, 759),\n",
       " (756, 757),\n",
       " (758, 762),\n",
       " (761, 790),\n",
       " (761, 889),\n",
       " (763, 778),\n",
       " (764, 776),\n",
       " (770, 774),\n",
       " (771, 773),\n",
       " (772, 775),\n",
       " (775, 784),\n",
       " (775, 787),\n",
       " (777, 783),\n",
       " (779, 797),\n",
       " (781, 782),\n",
       " (785, 858),\n",
       " (786, 791),\n",
       " (788, 805),\n",
       " (789, 793),\n",
       " (792, 804),\n",
       " (793, 796),\n",
       " (793, 882),\n",
       " (794, 807),\n",
       " (795, 805),\n",
       " (795, 801),\n",
       " (795, 808),\n",
       " (796, 816),\n",
       " (796, 808),\n",
       " (798, 822),\n",
       " (799, 811),\n",
       " (800, 820),\n",
       " (802, 808),\n",
       " (803, 804),\n",
       " (804, 810),\n",
       " (809, 832),\n",
       " (810, 811),\n",
       " (810, 823),\n",
       " (811, 817),\n",
       " (812, 815),\n",
       " (817, 828),\n",
       " (818, 824),\n",
       " (822, 980),\n",
       " (822, 825),\n",
       " (825, 878),\n",
       " (825, 865),\n",
       " (826, 841),\n",
       " (828, 854),\n",
       " (828, 851),\n",
       " (829, 837),\n",
       " (829, 863),\n",
       " (830, 837),\n",
       " (831, 835),\n",
       " (836, 848),\n",
       " (837, 876),\n",
       " (838, 849),\n",
       " (839, 845),\n",
       " (841, 861),\n",
       " (841, 855),\n",
       " (843, 844),\n",
       " (850, 888),\n",
       " (853, 872),\n",
       " (856, 857),\n",
       " (859, 864),\n",
       " (860, 901),\n",
       " (863, 902),\n",
       " (863, 881),\n",
       " (866, 877),\n",
       " (869, 891),\n",
       " (870, 886),\n",
       " (871, 873),\n",
       " (874, 953),\n",
       " (876, 973),\n",
       " (876, 949),\n",
       " (878, 950),\n",
       " (878, 932),\n",
       " (880, 884),\n",
       " (882, 946),\n",
       " (882, 942),\n",
       " (883, 929),\n",
       " (884, 887),\n",
       " (884, 948),\n",
       " (885, 898),\n",
       " (892, 894),\n",
       " (893, 904),\n",
       " (895, 896),\n",
       " (897, 917),\n",
       " (899, 937),\n",
       " (900, 909),\n",
       " (903, 905),\n",
       " (906, 925),\n",
       " (907, 913),\n",
       " (910, 951),\n",
       " (911, 920),\n",
       " (912, 923),\n",
       " (914, 921),\n",
       " (915, 969),\n",
       " (918, 922),\n",
       " (919, 939),\n",
       " (924, 932),\n",
       " (927, 978),\n",
       " (928, 981),\n",
       " (931, 975),\n",
       " (932, 986),\n",
       " (933, 936),\n",
       " (934, 935),\n",
       " (937, 945),\n",
       " (937, 944),\n",
       " (941, 945),\n",
       " (943, 945),\n",
       " (947, 957),\n",
       " (952, 960),\n",
       " (954, 955),\n",
       " (956, 959),\n",
       " (958, 977),\n",
       " (962, 970),\n",
       " (964, 965),\n",
       " (967, 983),\n",
       " (972, 976),\n",
       " (979, 985),\n",
       " (982, 984)]"
      ]
     },
     "execution_count": 16,
     "metadata": {},
     "output_type": "execute_result"
    }
   ],
   "source": [
    "list(graph.edges)"
   ]
  },
  {
   "cell_type": "code",
   "execution_count": null,
   "id": "6486f3f8",
   "metadata": {},
   "outputs": [],
   "source": []
  },
  {
   "cell_type": "code",
   "execution_count": null,
   "id": "167d49f2",
   "metadata": {},
   "outputs": [],
   "source": []
  }
 ],
 "metadata": {
  "kernelspec": {
   "display_name": "monai3.8",
   "language": "python",
   "name": "monai3.8"
  },
  "language_info": {
   "codemirror_mode": {
    "name": "ipython",
    "version": 3
   },
   "file_extension": ".py",
   "mimetype": "text/x-python",
   "name": "python",
   "nbconvert_exporter": "python",
   "pygments_lexer": "ipython3",
   "version": "3.8.10"
  }
 },
 "nbformat": 4,
 "nbformat_minor": 5
}
