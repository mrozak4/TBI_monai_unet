{
 "cells": [
  {
   "cell_type": "code",
   "execution_count": 1,
   "metadata": {},
   "outputs": [],
   "source": [
    "from nipype.interfaces import niftyreg\n",
    "import numpy as np\n",
    "from skimage import io\n",
    "from pathlib import Path\n",
    "import re\n",
    "import ants\n",
    "from skimage.transform import resize\n",
    "from tqdm import tqdm"
   ]
  },
  {
   "cell_type": "code",
   "execution_count": 2,
   "metadata": {},
   "outputs": [],
   "source": [
    "directory_seg = Path('james_preds')\n",
    "files_seg  = list(directory_seg.glob('*_seg.npy'))\n",
    "files_seg = sorted([x.as_posix() for x in files_seg])"
   ]
  },
  {
   "cell_type": "markdown",
   "metadata": {},
   "source": [
    "for i in tqdm(range(len(files_seg))):\n",
    "    tmp = np.load(files_seg[i])\n",
    "    tmp = np.reshape(tmp,(1,507,507,252))\n",
    "    io.imsave(re.sub('.npy','.tif',files_seg[0]),tmp)"
   ]
  },
  {
   "cell_type": "code",
   "execution_count": 3,
   "metadata": {},
   "outputs": [
    {
     "data": {
      "text/plain": [
       "'james_preds/XYZres006_0001_seg.tif'"
      ]
     },
     "execution_count": 3,
     "metadata": {},
     "output_type": "execute_result"
    }
   ],
   "source": [
    "files_seg  = list(directory_seg.glob('*_seg.tif'))\n",
    "files_seg = sorted([x.as_posix() for x in files_seg])\n",
    "files_seg[0]"
   ]
  },
  {
   "cell_type": "code",
   "execution_count": 4,
   "metadata": {},
   "outputs": [
    {
     "data": {
      "text/plain": [
       "94"
      ]
     },
     "execution_count": 4,
     "metadata": {},
     "output_type": "execute_result"
    }
   ],
   "source": [
    "image_path = Path('../TBI')\n",
    "images = list(image_path.glob('vbm*/*?[0-9].tif'))\n",
    "images = sorted([x.as_posix() for x in images])\n",
    "len(images)"
   ]
  },
  {
   "cell_type": "markdown",
   "metadata": {},
   "source": [
    "for i in tqdm(range(len(images))):\n",
    "    image = io.imread(images[i])\n",
    "    image = np.swapaxes(image,0,1)\n",
    "    image = np.swapaxes(image,1,3)\n",
    "    image = resize(image,(2,507,507,252),preserve_range=True)\n",
    "    zeros = np.zeros((1,507,507,252)).astype('uint16')\n",
    "    image = np.append(image,zeros,axis = 0)\n",
    "    image = image.astype('float16')\n",
    "    io.imsave('james_preds/'+re.sub('.tif','_upsamp.tif',Path(images[i]).name),image)"
   ]
  },
  {
   "cell_type": "code",
   "execution_count": 5,
   "metadata": {},
   "outputs": [],
   "source": [
    "#'james_preds/'+re.sub('.tif','_upsamp.tif',Path(images[i]).name"
   ]
  },
  {
   "cell_type": "code",
   "execution_count": 6,
   "metadata": {},
   "outputs": [
    {
     "data": {
      "text/plain": [
       "'james_preds/XYZres006_0001_upsamp.tif'"
      ]
     },
     "execution_count": 6,
     "metadata": {},
     "output_type": "execute_result"
    }
   ],
   "source": [
    "images = list(directory_seg.glob('*_0001_upsamp.tif'))\n",
    "images = sorted([x.as_posix() for x in images])\n",
    "images[0]"
   ]
  },
  {
   "cell_type": "code",
   "execution_count": null,
   "metadata": {},
   "outputs": [
    {
     "name": "stderr",
     "output_type": "stream",
     "text": [
      "\r",
      "  0%|          | 0/47 [00:00<?, ?it/s]"
     ]
    }
   ],
   "source": [
    "for i in tqdm(range(len(images))[::-1]):\n",
    "    fix = ants.image_read(re.sub('_0001','',images[i]))\n",
    "    mov = ants.image_read(images[i])\n",
    "    fix_mask = ants.image_read(re.sub('upsamp','seg',re.sub('_0001','',images[i])))\n",
    "    mov_mask = ants.image_read(re.sub('upsamp','seg',images[i]))\n",
    "    mytx = ants.registration(fixed = fix,\n",
    "                            moving = mov,\n",
    "                            type_of_transform = 'Rigid'\n",
    "                            )\n",
    "    warpedmask = ants.apply_transforms(fixed = fix_mask,\n",
    "                                       moving = mov_mask,\n",
    "                                       transformlist = mytx['fwdtransforms'],\n",
    "                                       interpolator = 'nearestNeighbor'\n",
    "                                      )\n",
    "    io.imsave(re.sub('seg','seg_warped',re.sub('upsamp','seg',images[i])),warpedmask.numpy())\n",
    "    io.imsave(re.sub('seg','seg_warped',re.sub('upsamp','seg',re.sub('_0001','',images[i]))),fix_mask.numpy())\n",
    "    #print(2 * np.sum(warpedmask.numpy()*fix_mask.numpy())/(np.sum(warpedmask.numpy())+np.sum(fix_mask.numpy())))"
   ]
  },
  {
   "cell_type": "code",
   "execution_count": 9,
   "metadata": {},
   "outputs": [
    {
     "name": "stdout",
     "output_type": "stream",
     "text": [
      "james_preds/XYZres050_0001_seg_warped.tif\n"
     ]
    }
   ],
   "source": [
    "print(re.sub('seg','seg_warped',re.sub('upsamp','seg',images[i])))"
   ]
  },
  {
   "cell_type": "code",
   "execution_count": 10,
   "metadata": {},
   "outputs": [],
   "source": [
    "io.imsave(re.sub('seg','seg_warped',re.sub('upsamp','seg',images[i])),warpedmask.numpy())"
   ]
  },
  {
   "cell_type": "code",
   "execution_count": null,
   "metadata": {},
   "outputs": [],
   "source": []
  },
  {
   "cell_type": "code",
   "execution_count": null,
   "metadata": {},
   "outputs": [],
   "source": []
  }
 ],
 "metadata": {
  "kernelspec": {
   "display_name": "graph",
   "language": "python",
   "name": "graph"
  },
  "language_info": {
   "codemirror_mode": {
    "name": "ipython",
    "version": 3
   },
   "file_extension": ".py",
   "mimetype": "text/x-python",
   "name": "python",
   "nbconvert_exporter": "python",
   "pygments_lexer": "ipython3",
   "version": "3.8.5"
  }
 },
 "nbformat": 4,
 "nbformat_minor": 4
}
