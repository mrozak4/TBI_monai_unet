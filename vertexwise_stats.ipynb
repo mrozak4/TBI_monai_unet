{
 "cells": [
  {
   "cell_type": "code",
   "execution_count": 10,
   "id": "4b7187ce-f85b-4b58-8957-f76cb18a0be8",
   "metadata": {},
   "outputs": [],
   "source": [
    "import pandas as pd\n",
    "import researchpy as rp\n",
    "import statsmodels.formula.api as smf\n",
    "import statsmodels.api as sm\n",
    "\n",
    "import scipy.stats as stats\n",
    "import numpy as np\n",
    "from statsmodels.stats.anova import anova_lm"
   ]
  },
  {
   "cell_type": "code",
   "execution_count": 2,
   "id": "7884fc23-4357-49f9-b85a-7215b6884f20",
   "metadata": {},
   "outputs": [],
   "source": [
    "df = pd.read_csv('df.csv')\n",
    "df['depth_cat'] = df['depth_cat'].astype('str')\n",
    "df['nrn_cat'] = df['nrn_cat'].astype('str')"
   ]
  },
  {
   "cell_type": "code",
   "execution_count": 3,
   "id": "9f193d84-731d-442d-a104-c6b9d5e5e1c5",
   "metadata": {},
   "outputs": [
    {
     "name": "stdout",
     "output_type": "stream",
     "text": [
      "<class 'pandas.core.frame.DataFrame'>\n",
      "RangeIndex: 4216355 entries, 0 to 4216354\n",
      "Data columns (total 25 columns):\n",
      " #   Column            Dtype  \n",
      "---  ------            -----  \n",
      " 0   Unnamed: 0        int64  \n",
      " 1   X                 int64  \n",
      " 2   path-dst          float64\n",
      " 3   euclidean.dst     float64\n",
      " 4   path_weights_nrn  float64\n",
      " 5   power             object \n",
      " 6   sex               object \n",
      " 7   imaging_weight    int64  \n",
      " 8   vessel_id         int64  \n",
      " 9   path_weights      float64\n",
      " 10  start_weight      int64  \n",
      " 11  radii             float64\n",
      " 12  Group             object \n",
      " 13  subject           object \n",
      " 14  scan              object \n",
      " 15  wavelength        int64  \n",
      " 16  age               int64  \n",
      " 17  start_depth       float64\n",
      " 18  stim              object \n",
      " 19  timepoint         int64  \n",
      " 20  a                 int64  \n",
      " 21  b                 int64  \n",
      " 22  depth             float64\n",
      " 23  nrn_cat           object \n",
      " 24  depth_cat         object \n",
      "dtypes: float64(7), int64(10), object(8)\n",
      "memory usage: 804.2+ MB\n"
     ]
    }
   ],
   "source": [
    "df.info()"
   ]
  },
  {
   "cell_type": "code",
   "execution_count": 4,
   "id": "2dcbee7d-6732-4f88-854c-1f575bec5f61",
   "metadata": {},
   "outputs": [
    {
     "name": "stdout",
     "output_type": "stream",
     "text": [
      "                                Mixed Linear Model Regression Results\n",
      "======================================================================================================\n",
      "Model:                           MixedLM               Dependent Variable:               path_weights \n",
      "No. Observations:                4216355               Method:                           REML         \n",
      "No. Groups:                      16420                 Scale:                            0.3477       \n",
      "Min. group size:                 1                     Log-Likelihood:                   -3830131.4419\n",
      "Max. group size:                 3777                  Converged:                        Yes          \n",
      "Mean group size:                 256.8                                                                \n",
      "------------------------------------------------------------------------------------------------------\n",
      "                                                          Coef.  Std.Err.    z     P>|z| [0.025 0.975]\n",
      "------------------------------------------------------------------------------------------------------\n",
      "Intercept                                                  1.596    0.006  279.990 0.000  1.584  1.607\n",
      "timepoint:power[1.1 mW/mm^2]                               0.222    0.002  126.706 0.000  0.219  0.226\n",
      "timepoint:power[4.3 mW/mm^2]                               0.188    0.002  101.000 0.000  0.184  0.192\n",
      "timepoint:power[552nm 4.3 mW/mm^2]                         0.128    0.003   38.870 0.000  0.121  0.134\n",
      "timepoint:nrn_cat[T.10-20(μm)]                            -0.126    0.002  -63.802 0.000 -0.130 -0.122\n",
      "timepoint:nrn_cat[T.20-30(μm)]                            -0.190    0.002  -90.190 0.000 -0.195 -0.186\n",
      "timepoint:nrn_cat[T.30+(μm)]                              -0.269    0.002 -124.262 0.000 -0.274 -0.265\n",
      "timepoint:power[T.4.3 mW/mm^2]:nrn_cat[T.10-20(μm)]       -0.015    0.003   -5.129 0.000 -0.021 -0.009\n",
      "timepoint:power[T.552nm 4.3 mW/mm^2]:nrn_cat[T.10-20(μm)]  0.047    0.004   10.898 0.000  0.039  0.055\n",
      "timepoint:power[T.4.3 mW/mm^2]:nrn_cat[T.20-30(μm)]       -0.030    0.003   -9.710 0.000 -0.036 -0.024\n",
      "timepoint:power[T.552nm 4.3 mW/mm^2]:nrn_cat[T.20-30(μm)]  0.074    0.005   16.324 0.000  0.065  0.083\n",
      "timepoint:power[T.4.3 mW/mm^2]:nrn_cat[T.30+(μm)]         -0.046    0.003  -14.765 0.000 -0.052 -0.040\n",
      "timepoint:power[T.552nm 4.3 mW/mm^2]:nrn_cat[T.30+(μm)]    0.105    0.004   23.321 0.000  0.096  0.113\n",
      "power[1.1 mW/mm^2] Var                                     0.569    0.012                             \n",
      "power[1.1 mW/mm^2] x power[4.3 mW/mm^2] Cov                0.400    0.011                             \n",
      "power[4.3 mW/mm^2] Var                                     0.604    0.013                             \n",
      "power[1.1 mW/mm^2] x power[552nm 4.3 mW/mm^2] Cov          0.374    0.013                             \n",
      "power[4.3 mW/mm^2] x power[552nm 4.3 mW/mm^2] Cov          0.512    0.015                             \n",
      "power[552nm 4.3 mW/mm^2] Var                               0.704    0.022                             \n",
      "======================================================================================================\n",
      "\n"
     ]
    }
   ],
   "source": [
    "#model = smf.mixedlm(df['path_weights'],df[['timepoint','path_weights_nrn','depth']])\n",
    "model = smf.mixedlm('path_weights ~ timepoint : ( power * nrn_cat)',df,groups=df['vessel_id'], re_formula=\"0 + power\")\n",
    "mdf = model.fit(method=[\"lbfgs\"])\n",
    "print(mdf.summary())"
   ]
  },
  {
   "cell_type": "code",
   "execution_count": 11,
   "id": "7c37c2b9-59fa-4041-b09c-a3b472588eaa",
   "metadata": {},
   "outputs": [
    {
     "ename": "AttributeError",
     "evalue": "'MixedLMResults' object has no attribute 'ssr'",
     "output_type": "error",
     "traceback": [
      "\u001b[0;31m---------------------------------------------------------------------------\u001b[0m",
      "\u001b[0;31mAttributeError\u001b[0m                            Traceback (most recent call last)",
      "\u001b[0;32m/tmp/ipykernel_3853065/1649016203.py\u001b[0m in \u001b[0;36m<module>\u001b[0;34m\u001b[0m\n\u001b[0;32m----> 1\u001b[0;31m \u001b[0manova_lm\u001b[0m\u001b[0;34m(\u001b[0m\u001b[0mmdf\u001b[0m\u001b[0;34m)\u001b[0m\u001b[0;34m\u001b[0m\u001b[0;34m\u001b[0m\u001b[0m\n\u001b[0m",
      "\u001b[0;32m/lustre06/project/6023374/rozakmat/monai3.8/lib/python3.8/site-packages/statsmodels/stats/anova.py\u001b[0m in \u001b[0;36manova_lm\u001b[0;34m(*args, **kwargs)\u001b[0m\n\u001b[1;32m    347\u001b[0m     \u001b[0;32mif\u001b[0m \u001b[0mlen\u001b[0m\u001b[0;34m(\u001b[0m\u001b[0margs\u001b[0m\u001b[0;34m)\u001b[0m \u001b[0;34m==\u001b[0m \u001b[0;36m1\u001b[0m\u001b[0;34m:\u001b[0m\u001b[0;34m\u001b[0m\u001b[0;34m\u001b[0m\u001b[0m\n\u001b[1;32m    348\u001b[0m         \u001b[0mmodel\u001b[0m \u001b[0;34m=\u001b[0m \u001b[0margs\u001b[0m\u001b[0;34m[\u001b[0m\u001b[0;36m0\u001b[0m\u001b[0;34m]\u001b[0m\u001b[0;34m\u001b[0m\u001b[0;34m\u001b[0m\u001b[0m\n\u001b[0;32m--> 349\u001b[0;31m         \u001b[0;32mreturn\u001b[0m \u001b[0manova_single\u001b[0m\u001b[0;34m(\u001b[0m\u001b[0mmodel\u001b[0m\u001b[0;34m,\u001b[0m \u001b[0;34m**\u001b[0m\u001b[0mkwargs\u001b[0m\u001b[0;34m)\u001b[0m\u001b[0;34m\u001b[0m\u001b[0;34m\u001b[0m\u001b[0m\n\u001b[0m\u001b[1;32m    350\u001b[0m \u001b[0;34m\u001b[0m\u001b[0m\n\u001b[1;32m    351\u001b[0m     \u001b[0;32mif\u001b[0m \u001b[0mtyp\u001b[0m \u001b[0;32mnot\u001b[0m \u001b[0;32min\u001b[0m \u001b[0;34m[\u001b[0m\u001b[0;36m1\u001b[0m\u001b[0;34m,\u001b[0m \u001b[0;34m\"I\"\u001b[0m\u001b[0;34m]\u001b[0m\u001b[0;34m:\u001b[0m\u001b[0;34m\u001b[0m\u001b[0;34m\u001b[0m\u001b[0m\n",
      "\u001b[0;32m/lustre06/project/6023374/rozakmat/monai3.8/lib/python3.8/site-packages/statsmodels/stats/anova.py\u001b[0m in \u001b[0;36manova_single\u001b[0;34m(model, **kwargs)\u001b[0m\n\u001b[1;32m     75\u001b[0m \u001b[0;34m\u001b[0m\u001b[0m\n\u001b[1;32m     76\u001b[0m     \u001b[0;32mif\u001b[0m \u001b[0mtyp\u001b[0m \u001b[0;32min\u001b[0m \u001b[0;34m[\u001b[0m\u001b[0;36m1\u001b[0m\u001b[0;34m,\u001b[0m \u001b[0;34m\"I\"\u001b[0m\u001b[0;34m]\u001b[0m\u001b[0;34m:\u001b[0m\u001b[0;34m\u001b[0m\u001b[0;34m\u001b[0m\u001b[0m\n\u001b[0;32m---> 77\u001b[0;31m         return anova1_lm_single(model, endog, exog, nobs, design_info, table,\n\u001b[0m\u001b[1;32m     78\u001b[0m                                 n_rows, test, pr_test, robust)\n\u001b[1;32m     79\u001b[0m     \u001b[0;32melif\u001b[0m \u001b[0mtyp\u001b[0m \u001b[0;32min\u001b[0m \u001b[0;34m[\u001b[0m\u001b[0;36m2\u001b[0m\u001b[0;34m,\u001b[0m \u001b[0;34m\"II\"\u001b[0m\u001b[0;34m]\u001b[0m\u001b[0;34m:\u001b[0m\u001b[0;34m\u001b[0m\u001b[0;34m\u001b[0m\u001b[0m\n",
      "\u001b[0;32m/lustre06/project/6023374/rozakmat/monai3.8/lib/python3.8/site-packages/statsmodels/stats/anova.py\u001b[0m in \u001b[0;36manova1_lm_single\u001b[0;34m(model, endog, exog, nobs, design_info, table, n_rows, test, pr_test, robust)\u001b[0m\n\u001b[1;32m    133\u001b[0m     \u001b[0mtable\u001b[0m\u001b[0;34m.\u001b[0m\u001b[0mloc\u001b[0m\u001b[0;34m[\u001b[0m\u001b[0mindex\u001b[0m\u001b[0;34m,\u001b[0m \u001b[0;34m[\u001b[0m\u001b[0;34m'df'\u001b[0m\u001b[0;34m,\u001b[0m \u001b[0;34m'sum_sq'\u001b[0m\u001b[0;34m]\u001b[0m\u001b[0;34m]\u001b[0m \u001b[0;34m=\u001b[0m \u001b[0mnp\u001b[0m\u001b[0;34m.\u001b[0m\u001b[0mc_\u001b[0m\u001b[0;34m[\u001b[0m\u001b[0marr\u001b[0m\u001b[0;34m[\u001b[0m\u001b[0;34m~\u001b[0m\u001b[0midx\u001b[0m\u001b[0;34m]\u001b[0m\u001b[0;34m.\u001b[0m\u001b[0msum\u001b[0m\u001b[0;34m(\u001b[0m\u001b[0;36m1\u001b[0m\u001b[0;34m)\u001b[0m\u001b[0;34m,\u001b[0m \u001b[0msum_sq\u001b[0m\u001b[0;34m]\u001b[0m\u001b[0;34m\u001b[0m\u001b[0;34m\u001b[0m\u001b[0m\n\u001b[1;32m    134\u001b[0m     \u001b[0;31m# fill in residual\u001b[0m\u001b[0;34m\u001b[0m\u001b[0;34m\u001b[0m\u001b[0;34m\u001b[0m\u001b[0m\n\u001b[0;32m--> 135\u001b[0;31m     \u001b[0mtable\u001b[0m\u001b[0;34m.\u001b[0m\u001b[0mloc\u001b[0m\u001b[0;34m[\u001b[0m\u001b[0;34m'Residual'\u001b[0m\u001b[0;34m,\u001b[0m \u001b[0;34m[\u001b[0m\u001b[0;34m'sum_sq'\u001b[0m\u001b[0;34m,\u001b[0m\u001b[0;34m'df'\u001b[0m\u001b[0;34m]\u001b[0m\u001b[0;34m]\u001b[0m \u001b[0;34m=\u001b[0m \u001b[0mmodel\u001b[0m\u001b[0;34m.\u001b[0m\u001b[0mssr\u001b[0m\u001b[0;34m,\u001b[0m \u001b[0mmodel\u001b[0m\u001b[0;34m.\u001b[0m\u001b[0mdf_resid\u001b[0m\u001b[0;34m\u001b[0m\u001b[0;34m\u001b[0m\u001b[0m\n\u001b[0m\u001b[1;32m    136\u001b[0m     \u001b[0;32mif\u001b[0m \u001b[0mtest\u001b[0m \u001b[0;34m==\u001b[0m \u001b[0;34m'F'\u001b[0m\u001b[0;34m:\u001b[0m\u001b[0;34m\u001b[0m\u001b[0;34m\u001b[0m\u001b[0m\n\u001b[1;32m    137\u001b[0m         table[test] = ((table['sum_sq'] / table['df']) /\n",
      "\u001b[0;32m/lustre06/project/6023374/rozakmat/monai3.8/lib/python3.8/site-packages/statsmodels/base/wrapper.py\u001b[0m in \u001b[0;36m__getattribute__\u001b[0;34m(self, attr)\u001b[0m\n\u001b[1;32m     32\u001b[0m             \u001b[0;32mpass\u001b[0m\u001b[0;34m\u001b[0m\u001b[0;34m\u001b[0m\u001b[0m\n\u001b[1;32m     33\u001b[0m \u001b[0;34m\u001b[0m\u001b[0m\n\u001b[0;32m---> 34\u001b[0;31m         \u001b[0mobj\u001b[0m \u001b[0;34m=\u001b[0m \u001b[0mgetattr\u001b[0m\u001b[0;34m(\u001b[0m\u001b[0mresults\u001b[0m\u001b[0;34m,\u001b[0m \u001b[0mattr\u001b[0m\u001b[0;34m)\u001b[0m\u001b[0;34m\u001b[0m\u001b[0;34m\u001b[0m\u001b[0m\n\u001b[0m\u001b[1;32m     35\u001b[0m         \u001b[0mdata\u001b[0m \u001b[0;34m=\u001b[0m \u001b[0mresults\u001b[0m\u001b[0;34m.\u001b[0m\u001b[0mmodel\u001b[0m\u001b[0;34m.\u001b[0m\u001b[0mdata\u001b[0m\u001b[0;34m\u001b[0m\u001b[0;34m\u001b[0m\u001b[0m\n\u001b[1;32m     36\u001b[0m         \u001b[0mhow\u001b[0m \u001b[0;34m=\u001b[0m \u001b[0mself\u001b[0m\u001b[0;34m.\u001b[0m\u001b[0m_wrap_attrs\u001b[0m\u001b[0;34m.\u001b[0m\u001b[0mget\u001b[0m\u001b[0;34m(\u001b[0m\u001b[0mattr\u001b[0m\u001b[0;34m)\u001b[0m\u001b[0;34m\u001b[0m\u001b[0;34m\u001b[0m\u001b[0m\n",
      "\u001b[0;31mAttributeError\u001b[0m: 'MixedLMResults' object has no attribute 'ssr'"
     ]
    }
   ],
   "source": [
    "anova_lm(mdf)"
   ]
  },
  {
   "cell_type": "code",
   "execution_count": null,
   "id": "2e7919b1-0103-4daa-80d6-4b0535d4a689",
   "metadata": {},
   "outputs": [],
   "source": []
  }
 ],
 "metadata": {
  "kernelspec": {
   "display_name": "monai3.8",
   "language": "python",
   "name": "monai3.8"
  },
  "language_info": {
   "codemirror_mode": {
    "name": "ipython",
    "version": 3
   },
   "file_extension": ".py",
   "mimetype": "text/x-python",
   "name": "python",
   "nbconvert_exporter": "python",
   "pygments_lexer": "ipython3",
   "version": "3.8.10"
  }
 },
 "nbformat": 4,
 "nbformat_minor": 5
}
