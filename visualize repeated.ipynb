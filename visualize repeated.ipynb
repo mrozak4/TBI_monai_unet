{
 "cells": [
  {
   "cell_type": "code",
   "execution_count": 1,
   "id": "e82c15ba",
   "metadata": {},
   "outputs": [],
   "source": [
    "from skimage import data\n",
    "import napari\n",
    "import numpy as np\n",
    "from skimage import io\n",
    "from pathlib import Path\n",
    "import re\n",
    "import os\n",
    "import scipy as sp\n",
    "import matplotlib.pyplot as plt\n",
    "from matplotlib.backends.backend_qt5agg import FigureCanvas\n",
    "from matplotlib.figure import Figure\n",
    "from scipy.io import loadmat, savemat\n",
    "import networkx as nx\n",
    "import pickle\n",
    "from scipy.ndimage import distance_transform_edt\n",
    "from scipy.stats import multivariate_normal\n",
    "from skimage import color, data, restoration\n",
    "import vg\n",
    "from pytransform3d.rotations import matrix_from_axis_angle\n",
    "from skimage.feature import peak_local_max\n",
    "from matplotlib.patches import Circle\n",
    "from matplotlib.colors import LinearSegmentedColormap\n",
    "from vispy.util.quaternion import Quaternion\n",
    "import h5py\n",
    "from napari_bbox import BoundingBoxLayer\n",
    "import pandas as pd"
   ]
  },
  {
   "cell_type": "code",
   "execution_count": 2,
   "id": "57d248f8",
   "metadata": {},
   "outputs": [],
   "source": [
    "def _rotmat(vector, points):\n",
    "    \"\"\"\n",
    "    Rotates a 3xn array of 3D coordinates from the +z normal to an\n",
    "    arbitrary new normal vector.\n",
    "    \"\"\"\n",
    "    \n",
    "    vector = vg.normalize(vector)\n",
    "    axis = vg.perpendicular(vg.basis.z, vector)\n",
    "    angle = vg.angle(vg.basis.z, vector, units='rad')\n",
    "    \n",
    "    a = np.hstack((axis, (angle,)))\n",
    "    R = matrix_from_axis_angle(a)\n",
    "    \n",
    "    r = sp.spatial.transform.Rotation.from_matrix(R)\n",
    "    rotmat = r.apply(points)\n",
    "    \n",
    "    return rotmat\n",
    "\n",
    "def closest_node(node, nodes):\n",
    "    nodes = np.asarray(nodes)\n",
    "    dist_2 = np.sum((nodes - node)**2, axis=1)\n",
    "    if np.min(dist_2)>10:\n",
    "        return node\n",
    "    else:\n",
    "        return nodes[np.argmin(dist_2)]"
   ]
  },
  {
   "cell_type": "code",
   "execution_count": 3,
   "id": "0b7ce2dc",
   "metadata": {},
   "outputs": [],
   "source": [
    "xls = pd.ExcelFile('TBI_STIM_metalog_local.xlsx')\n",
    "xls2 = pd.ExcelFile('../TBI_monai_UNET/p3_metalog.xlsx')\n",
    "df = {}\n",
    "for sheet_name in xls.sheet_names:\n",
    "    df[sheet_name] = xls.parse(sheet_name)\n",
    "for sheet_name in xls2.sheet_names:\n",
    "    df[sheet_name] = xls2.parse(sheet_name)"
   ]
  },
  {
   "cell_type": "code",
   "execution_count": 4,
   "id": "261585c4",
   "metadata": {},
   "outputs": [
    {
     "data": {
      "text/plain": [
       "119"
      ]
     },
     "execution_count": 4,
     "metadata": {},
     "output_type": "execute_result"
    }
   ],
   "source": [
    "exclude = ['XYZres103',\n",
    "           'XYZres104',\n",
    "           'XYZres105',\n",
    "           'XYZres105',\n",
    "           'XYZres107',\n",
    "           'XYZres133',\n",
    "           'XYZres134',\n",
    "           'XYZres135',\n",
    "           'XYZres136',\n",
    "           'XYZres137',\n",
    "           'XYZres138',\n",
    "           'XYZres139',\n",
    "           'XYZres140',\n",
    "           'XYZres183',\n",
    "           'XYZres196',\n",
    "           'XYZres197',\n",
    "           'XYZres260',\n",
    "           'XYZres288',\n",
    "           'XYZres343',\n",
    "           'XYZres340',\n",
    "           'XYZres341',\n",
    "           'XYZres250',\n",
    "           'XYZres297',\n",
    "           'XYZres295',\n",
    "           'XYZres457',\n",
    "           'XYZres455']\n",
    "dic = {}\n",
    "for key in df.keys():\n",
    "    if '3D' in key and ('vbm01' not in key and 'vbm02' not in key and 'SHAM7_3D' not in key and 'TBI45_3D' not in key and 'TBI11_3D' not in key and 'TBI65_3D' not in key and 'TBI22_3D' not in key and 'TBI28_3D' not in key and 'TBI40_3D' not in key and 'TBI51_3D' not in key and 'TBI70_3D' not in key):\n",
    "        if 'vbm' not in key:\n",
    "            addition = re.sub('C57','',re.sub('TBI','',re.sub('SHAM','',re.sub('_3D','',key))))\n",
    "        else:\n",
    "            addition = ''\n",
    "        df[key] = df[key][~df[key][df[key].columns[1]].isin(exclude)]\n",
    "        scans = np.array(df[key][df[key].columns[1]])\n",
    "        scans = [x for x in scans if 'res' in str(x)]\n",
    "        bottoms_1 = df[key][df[key][df[key].columns[3]] == 500]\n",
    "        bottoms_2 = df[key][df[key][df[key].columns[2]] == 500]\n",
    "        bottoms = pd.concat((bottoms_1,bottoms_2))\n",
    "        bottoms = np.array(bottoms[bottoms.columns[1]])\n",
    "        bottoms = [addition + '-' + x for x in bottoms]\n",
    "        bottoms = [x for x in bottoms if 'res' in x]\n",
    "        tops_1 = df[key][df[key][df[key].columns[3]] == 0]\n",
    "        tops_2 = df[key][df[key][df[key].columns[2]] == 0]\n",
    "        tops = pd.concat((tops_1,tops_2))\n",
    "        tops = np.array(tops[tops.columns[1]])\n",
    "        tops = [addition + '-' + x for x in tops]\n",
    "        tops = [x for x in tops if 'res' in x]\n",
    "        if len(tops) > 1:\n",
    "            dic[tops[0]] = list(tops[1:])\n",
    "        elif len(tops) == 1:\n",
    "            dic[tops[0]] = tops\n",
    "        if len(bottoms) > 1:\n",
    "            dic[bottoms[0]] = list(bottoms[1:])\n",
    "        elif len(bottoms) == 1:\n",
    "            dic[bottoms[0]] = bottoms\n",
    "dic_2 = {'45-XYZres290':['45-XYZres296'],\n",
    "         '45-XYZres297':['45-XYZres295'],\n",
    "         '45-XYZres294':['45-XYZres298'],\n",
    "         '45-XYZres288':['45-XYZres300'],\n",
    "         '11-XYZres95':['11-XYZres98','11-XYZres102'],\n",
    "         '11-XYZres92':[],\n",
    "         '11-XYZres93':['11-XYZres93','11-XYZres96','11-XYZres97','11-XYZres100','11-XYZres101'],\n",
    "         '11-XYZres91':['11-XYZres94','11-XYZres99'],\n",
    "         '22-XYZres164':['22-XYZres165','22-XYZres168','22-XYZres169'],\n",
    "         '22-XYZres160':['22-XYZres161'],\n",
    "         '22-XYZres163':['22-XYZres166','22-XYZres167','22-XYZres170'],\n",
    "         '22-XYZres159':['22-XYZres162'],\n",
    "         '28-XYZres184':['28-XYZres185'],\n",
    "         '28-XYZres188':['28-XYZres189','28-XYZres193','28-XYZres194'],\n",
    "         '28-XYZres186':['28-XYZres187','28-XYZres188','28-XYZres190','28-XYZres191','28-XYZres192','28-XYZres195'],\n",
    "         '28-XYZres183':[],\n",
    "         '40-XYZres248':['40-XYZres249'],\n",
    "         '40-XYZres245':['40-XYZres252'],\n",
    "         '40-XYZres244':[],\n",
    "         '40-XYZres243':['40-XYZres246','40-XYZres247','40-XYZres251'],\n",
    "         '51-XYZres297':['51-XYZres298','51-XYZres302','51-XYZres305','51-XYZres301'],\n",
    "         '51-XYZres296':['51-XYZres306'],\n",
    "         '51-XYZres299':['51-XYZres300','51-XYZres303','51-XYZres304'],\n",
    "         '65-XYZres397':['65-XYZres398','65-XYZres401','65-XYZres402','65-XYZres405','65-XYZres408','65-XYZres409'],\n",
    "         '65-XYZres396':['65-XYZres399','65-XYZres400'],\n",
    "         '65-XYZres403':[],\n",
    "         '70-XYZres420':['70-XYZres421','70-XYZres422'],\n",
    "         '70-XYZres419':['70-XYZres416','70-XYZres413','70-XYZres410','70-XYZres412','70-XYZres416'],\n",
    "         '70-XYZres414':['70-XYZres417'],\n",
    "         '70-XYZres411':['70-XYZres418','70-XYZres415'],\n",
    "         '-XYZres007':[]\n",
    "        }\n",
    "dic.update(dic_2) \n",
    "len(list(dic.keys()))"
   ]
  },
  {
   "cell_type": "code",
   "execution_count": 5,
   "id": "5904e9af",
   "metadata": {},
   "outputs": [],
   "source": [
    "#dic.items()"
   ]
  },
  {
   "cell_type": "code",
   "execution_count": 6,
   "id": "c787f0c3",
   "metadata": {},
   "outputs": [
    {
     "name": "stdout",
     "output_type": "stream",
     "text": [
      "{'7-XYZres54': 7, '7-XYZres56': 7, '12-XYZres86': 4, '12-XYZres88': 4, '9-XYZres70': 7, '9-XYZres72': 7, '14-XYZres108': 3, '14-XYZres106': 3, '17-XYZres116': 5, '17-XYZres118': 3, '18-XYZres126': 3, '18-XYZres128': 3, '20-XYZres145': 4, '20-XYZres149': 4, '23-XYZres152': 3, '23-XYZres158': 3, '26-XYZres172': 5, '26-XYZres174': 5, '32-XYZres199': 5, '32-XYZres201': 5, '35-XYZres211': 6, '35-XYZres213': 5, '33-XYZres228': 2, '33-XYZres223': 1, '38-XYZres238': 4, '38-XYZres240': 4, '4-XYZres254': 4, '4-XYZres256': 3, '6-XYZres264': 7, '6-XYZres266': 5, '43-XYZres254': 3, '43-XYZres253': 1, '53-XYZres334': 4, '53-XYZres332': 4, '56-XYZres342': 2, '56-XYZres339': 1, '55-XYZres349': 3, '55-XYZres351': 2, '64-XYZres347': 6, '64-XYZres353': 6, '63-XYZres362': 4, '63-XYZres363': 3, '61-XYZres375': 6, '61-XYZres373': 7, '48-XYZres302': 6, '48-XYZres308': 6, '49-XYZres316': 6, '49-XYZres322': 6, '67-XYZres387': 6, '67-XYZres385': 6, '73-XYZres423': 6, '73-XYZres430': 1, '68-XYZres424': 2, '68-XYZres426': 3, '76-XYZres459': 5, '76-XYZres460': 5, '77-XYZres475': 6, '77-XYZres480': 6, '80-XYZres493': 6, '80-XYZres494': 3, '78-XYZres500': 4, '78-XYZres502': 4, '81-XYZres511': 2, '81-XYZres512': 2, '01-XYZres438': 4, '01-XYZres436': 4, '02-XYZres448': 4, '02-XYZres450': 4, '03-XYZres454': 3, '03-XYZres456': 3, '04-XYZres468': 4, '04-XYZres466': 4, '-XYZres008': 1, '-XYZres006': 1, '-XYZres010': 2, '-XYZres011': 2, '-XYZres016': 2, '-XYZres017': 2, '-XYZres022': 2, '-XYZres023': 2, '-XYZres028': 2, '-XYZres029': 2, '-XYZres034': 2, '-XYZres035': 2, '-XYZres040': 2, '-XYZres041': 2, '-XYZres047': 2, '-XYZres048': 2, '45-XYZres290': 1, '45-XYZres297': 1, '45-XYZres294': 1, '45-XYZres288': 1, '11-XYZres95': 2, '11-XYZres93': 5, '11-XYZres91': 2, '22-XYZres164': 3, '22-XYZres160': 1, '22-XYZres163': 3, '22-XYZres159': 1, '28-XYZres184': 1, '28-XYZres188': 3, '28-XYZres186': 6, '40-XYZres248': 1, '40-XYZres245': 1, '40-XYZres243': 3, '51-XYZres297': 4, '51-XYZres296': 1, '51-XYZres299': 3, '65-XYZres397': 6, '65-XYZres396': 2, '70-XYZres420': 2, '70-XYZres419': 5, '70-XYZres414': 1, '70-XYZres411': 2}\n"
     ]
    }
   ],
   "source": [
    "res = {}\n",
    "for k, vs in dic.items():\n",
    "    #print(k)\n",
    "    #print(len(vs))\n",
    "    if len(vs) > 0:\n",
    "        res[k] = len(vs)\n",
    "\n",
    "print(res)\n"
   ]
  },
  {
   "cell_type": "code",
   "execution_count": 7,
   "id": "694209ea",
   "metadata": {},
   "outputs": [
    {
     "name": "stdout",
     "output_type": "stream",
     "text": [
      "111\n"
     ]
    },
    {
     "data": {
      "text/plain": [
       "['matt_raw_warped_single_upsampled_seg/20211101_65-XYZres397_0001_warped_seg.npy',\n",
       " 'matt_raw_warped_single_upsampled_seg/20211101_65-XYZres398_0001_warped_seg.npy',\n",
       " 'matt_raw_warped_single_upsampled_seg/20211101_65-XYZres401_0001_warped_seg.npy',\n",
       " 'matt_raw_warped_single_upsampled_seg/20211101_65-XYZres402_0001_warped_seg.npy',\n",
       " 'matt_raw_warped_single_upsampled_seg/20211101_65-XYZres405_0001_warped_seg.npy',\n",
       " 'matt_raw_warped_single_upsampled_seg/20211101_65-XYZres408_0001_warped_seg.npy',\n",
       " 'matt_raw_warped_single_upsampled_seg/20211101_65-XYZres409_0001_warped_seg.npy']"
      ]
     },
     "execution_count": 7,
     "metadata": {},
     "output_type": "execute_result"
    }
   ],
   "source": [
    "directory_seg = Path('matt_raw_warped_single_upsampled_seg')\n",
    "images = list(directory_seg.glob('*_0001_warped_seg.npy'))\n",
    "\n",
    "images = sorted([x.as_posix() for x in images])\n",
    "\n",
    "images = [x for x in images if os.path.exists(re.sub('_0001','',x))]\n",
    "\n",
    "images = [x for x in images if any(y in x for y in list(dic.keys()))]\n",
    "print(len(images))\n",
    "\n",
    "key = '65-XYZres397'\n",
    "seg = [x for x in images if key in x][0]\n",
    "seg_files = [seg] + [re.sub(key,x,seg) for x in dic[key]]\n",
    "seg_files = sorted(seg_files)\n",
    "seg_files"
   ]
  },
  {
   "cell_type": "code",
   "execution_count": 8,
   "id": "8bc963f3",
   "metadata": {},
   "outputs": [
    {
     "name": "stderr",
     "output_type": "stream",
     "text": [
      "WARNING: QStandardPaths: wrong permissions on runtime directory /localscratch/rozakmat.27287730.0, 7750 instead of 7700\n"
     ]
    }
   ],
   "source": [
    "viewer = napari.Viewer()"
   ]
  },
  {
   "cell_type": "code",
   "execution_count": 9,
   "id": "02c7c03c",
   "metadata": {},
   "outputs": [],
   "source": [
    "for file in seg_files:\n",
    "    img_file = re.sub('matt_raw_warped_single_upsampled_seg','matt_raw_warped_single',re.sub('_0001_warped_seg.npy','_warped.tif',file))\n",
    "    img = io.imread(img_file)\n",
    "    img_ch2 = sp.ndimage.zoom(np.swapaxes(img[:,1,:,:],0,2),(1,1,2.645833333))\n",
    "    img = sp.ndimage.zoom(np.swapaxes(img[:,0,:,:],0,2),(1,1,2.645833333))\n",
    "    seg = np.load(file)\n",
    "    img = np.concatenate((np.expand_dims(img,0),np.expand_dims(img_ch2,0)),axis=0)\n",
    "    viewer = napari.Viewer()\n",
    "\n",
    "    viewer.add_image(\n",
    "        img,\n",
    "        channel_axis = 0,\n",
    "        name = [\"vessels\", \"neurons\"],\n",
    "        colormap = ['red','green'],\n",
    "        scale=(2.64, 0.99, 0.99),\n",
    "        rgb = False,\n",
    "        depiction = 'volume',\n",
    "        interpolation3d='bicubic'\n",
    "    )\n",
    "    viewer.scale_bar.visible = True\n",
    "    viewer.scale_bar.unit = \"um\"\n",
    "    viewer.theme = 'light'\n",
    "    viewer.dims.ndisplay = 3\n",
    "    \n",
    "    \n",
    "    \n",
    "    \n",
    "    \n",
    "    break\n",
    "    \n",
    "    \n",
    "    \n",
    "    \n",
    "    "
   ]
  },
  {
   "cell_type": "code",
   "execution_count": 41,
   "id": "200c0a08",
   "metadata": {},
   "outputs": [
    {
     "data": {
      "text/plain": [
       "(2, 512, 512, 254)"
      ]
     },
     "execution_count": 41,
     "metadata": {},
     "output_type": "execute_result"
    }
   ],
   "source": [
    "img = np.concatenate((np.expand_dims(img,0),np.expand_dims(img_ch2,0)),axis=0)"
   ]
  },
  {
   "cell_type": "code",
   "execution_count": 10,
   "id": "a6656141",
   "metadata": {},
   "outputs": [],
   "source": [
    "viewer.dims.ndisplay = 3"
   ]
  },
  {
   "cell_type": "code",
   "execution_count": 39,
   "id": "99baf0a5",
   "metadata": {},
   "outputs": [
    {
     "data": {
      "text/plain": [
       "(1, 512, 512, 254)"
      ]
     },
     "execution_count": 39,
     "metadata": {},
     "output_type": "execute_result"
    }
   ],
   "source": [
    "np.expand_dims(img_ch2,0)"
   ]
  },
  {
   "cell_type": "code",
   "execution_count": null,
   "id": "cad24a9e",
   "metadata": {},
   "outputs": [],
   "source": []
  }
 ],
 "metadata": {
  "kernelspec": {
   "display_name": "monai3.8",
   "language": "python",
   "name": "monai3.8"
  },
  "language_info": {
   "codemirror_mode": {
    "name": "ipython",
    "version": 3
   },
   "file_extension": ".py",
   "mimetype": "text/x-python",
   "name": "python",
   "nbconvert_exporter": "python",
   "pygments_lexer": "ipython3",
   "version": "3.8.10"
  }
 },
 "nbformat": 4,
 "nbformat_minor": 5
}
