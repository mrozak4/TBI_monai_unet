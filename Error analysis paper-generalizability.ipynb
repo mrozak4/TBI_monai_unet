{
 "cells": [
  {
   "cell_type": "code",
   "execution_count": 33,
   "id": "bfaf1c4d",
   "metadata": {},
   "outputs": [],
   "source": [
    "import numpy as np\n",
    "import pandas as pd\n",
    "from skimage import io\n",
    "import matplotlib.pyplot as plt\n",
    "from pathlib import Path\n",
    "from monai.transforms import Spacing\n",
    "import re\n",
    "import os\n",
    "from tqdm import tqdm\n",
    "from monai.metrics import compute_hausdorff_distance, compute_average_surface_distance, compute_meandice\n",
    "import h5py\n",
    "import scipy as sp\n",
    "from pathlib import Path\n",
    "from sklearn.metrics import precision_score\n",
    "from sklearn.metrics import recall_score\n",
    "import scipy.stats as stats\n",
    "from statsmodels.stats.multitest import multipletests\n",
    "from skimage.morphology import binary_erosion\n",
    "import cc3d\n",
    "#import seaborn as sns\n",
    "#from monai.networks.utils import to_onehot"
   ]
  },
  {
   "cell_type": "code",
   "execution_count": 38,
   "id": "278cc3b1-a0cd-4eda-9c48-96bc06e0a503",
   "metadata": {},
   "outputs": [],
   "source": [
    "def remove_small_comps_3d(image, thresh = 500):\n",
    "    \"\"\"\n",
    "\n",
    "    Parameters\n",
    "    ----------\n",
    "    image : binary np array with uint8 elements\n",
    "        3d numpy matrix, connected components will be removed form this image\n",
    "    thresh : int64\n",
    "        smallest connected components to keep\n",
    "\n",
    "    Returns\n",
    "    -------\n",
    "    np.array with uint8 elements, binary\n",
    "        binary image with connected components below the threshold removed.\n",
    "\n",
    "    \"\"\"\n",
    "    img_lab, N = cc3d.connected_components(image,return_N=True)\n",
    "    unique, counts = np.unique(img_lab, return_counts=True)\n",
    "    unique_keep = unique[counts>thresh]\n",
    "    unique_keep = np.delete(unique_keep,[0])\n",
    "    img_filt = np.zeros(img_lab.shape).astype('int8')\n",
    "    img_filt[np.isin(img_lab,unique_keep)] = 1\n",
    "    return img_filt.astype('uint8')   \n",
    "\n",
    "def fill_holes(img,thresh=1000):\n",
    "    #res = np.zeros(img.shape)\n",
    "    for i in np.unique(img)[::-1]:\n",
    "        _tmp = (img==i)*1.0\n",
    "        _tmp = _tmp.astype('int8')\n",
    "        _tmp = remove_small_comps_3d(_tmp,thresh=thresh)\n",
    "        img[_tmp==1] = i\n",
    "    res = img.astype('int8')\n",
    "    return res\n",
    "\n",
    "def _rotmat(vector, points):\n",
    "    \"\"\"\n",
    "    Rotates a 3xn array of 3D coordinates from the +z normal to an\n",
    "    arbitrary new normal vector.\n",
    "    \"\"\"\n",
    "    \n",
    "    vector = vg.normalize(vector)\n",
    "    axis = vg.perpendicular(vg.basis.z, vector)\n",
    "    angle = vg.angle(vg.basis.z, vector, units='rad')\n",
    "    \n",
    "    a = np.hstack((axis, (angle,)))\n",
    "    R = matrix_from_axis_angle(a)\n",
    "    \n",
    "    r = sp.spatial.transform.Rotation.from_matrix(R)\n",
    "    rotmat = r.apply(points)\n",
    "    \n",
    "    return rotmat\n",
    "\n",
    "def closest_node(node, nodes):\n",
    "    nodes = np.asarray(nodes)\n",
    "    dist_2 = np.sum((nodes - node)**2, axis=1)\n",
    "    if np.min(dist_2)>10:\n",
    "        return node\n",
    "    else:\n",
    "        return nodes[np.argmin(dist_2)]"
   ]
  },
  {
   "cell_type": "code",
   "execution_count": 39,
   "id": "3ea4347f-5a0e-4d53-8259-757eeb54cbff",
   "metadata": {},
   "outputs": [
    {
     "data": {
      "text/plain": [
       "'1.9.3'"
      ]
     },
     "execution_count": 39,
     "metadata": {},
     "output_type": "execute_result"
    }
   ],
   "source": [
    "import scipy\n",
    "scipy.__version__"
   ]
  },
  {
   "cell_type": "code",
   "execution_count": 52,
   "id": "4b2318e7",
   "metadata": {},
   "outputs": [],
   "source": [
    "#make list of data dictionaries\n",
    "gt_images_path = Path('../FILES_FOR_SHRUTI/') #raw path images\n",
    "gt_images_paths = list(gt_images_path.glob('*/*/*2.tiff'))#get images\n",
    "#gt_images_paths = list(gt_images_path.glob('*/*/*tb.npy'))\n",
    "gt_images = sorted([x.as_posix() for x in gt_images_paths])#sort\n",
    "gt_images = [x for x in gt_images if 'C57' in x]\n",
    "#train_labels_path = Path('../TBI/GT_filtered+raw/')#labels path\n",
    "#train_labels = list(train_labels_path.glob('*sub1.tiff'))#get label images\n",
    "#train_labels = sorted([x.as_posix() for x in train_labels])#sort\n",
    "##combine images and labels into monai dictionary format\n",
    "#data_dicts = [\n",
    "#    {\"image\":image_name, \"label\":label_name}\n",
    "#    for image_name, label_name in zip(train_images,train_labels)\n",
    "#]\n",
    "#mouse_ids_path = Path('../TBI/raw')#each mouse has its own folder with raw data in it\n",
    "#mouse_ids = list(mouse_ids_path.glob('*'))#grab molder names/mouse ids\n",
    "#images = sorted([y.name for y in train_images_paths])#sort\n",
    "##get mouse id corresponding to each image i have labels for\n",
    "#mouse_ids_with_raw_tiff = []\n",
    "#for i in mouse_ids:\n",
    "#    for j in images:\n",
    "#        if len(list(i.glob(j))) !=0:\n",
    "#            mouse_ids_with_raw_tiff.append(list(i.glob(j)))\n",
    "##flatten the list and sort\n",
    "#mouse_ids_with_raw_tiff_flat = [item for sublist in mouse_ids_with_raw_tiff for item in sublist]\n",
    "#mouse_ids_with_raw_tiff_flat = sorted(mouse_ids_with_raw_tiff_flat)"
   ]
  },
  {
   "cell_type": "code",
   "execution_count": 53,
   "id": "40634233-df71-4449-8528-b944b309e40f",
   "metadata": {},
   "outputs": [
    {
     "data": {
      "text/plain": [
       "['../FILES_FOR_SHRUTI/C57/01/C1-XYZres438_Simple Segmentation2.tiff',\n",
       " '../FILES_FOR_SHRUTI/C57/02/C1-XYZres445_0001_Simple Segmentation2.tiff',\n",
       " '../FILES_FOR_SHRUTI/C57/03/C1-XYZres460_0001_Simple Segmentation2.tiff']"
      ]
     },
     "execution_count": 53,
     "metadata": {},
     "output_type": "execute_result"
    }
   ],
   "source": [
    "gt_images = sorted(gt_images)\n",
    "gt_images"
   ]
  },
  {
   "cell_type": "code",
   "execution_count": 54,
   "id": "2764d316-c2cc-4644-9cc4-d27885374e76",
   "metadata": {},
   "outputs": [],
   "source": [
    "#for file in gt_images:\n",
    "#    _mean = np.load(file)\n",
    "#    seg = np.argmax(_mean,axis=0)\n",
    "#    seg[seg!=1] = 0\n",
    "#    plt.imshow(seg[:,:,100])\n",
    "#    plt.show()"
   ]
  },
  {
   "cell_type": "code",
   "execution_count": 55,
   "id": "49f834a2-e369-49dd-9379-ffbaf6efee08",
   "metadata": {},
   "outputs": [],
   "source": [
    "label = 2\n",
    "min_prob = 0.5\n",
    "max_var = 0.2"
   ]
  },
  {
   "cell_type": "code",
   "execution_count": 56,
   "id": "1fa3e9b4-4a53-4e29-8912-5414b27d531a",
   "metadata": {},
   "outputs": [],
   "source": [
    "#truth.shape"
   ]
  },
  {
   "cell_type": "code",
   "execution_count": 57,
   "id": "1ac84ec9-cb4d-4f79-85f9-1412c37623b5",
   "metadata": {},
   "outputs": [
    {
     "data": {
      "text/plain": [
       "<matplotlib.image.AxesImage at 0x14bc592ec130>"
      ]
     },
     "execution_count": 57,
     "metadata": {},
     "output_type": "execute_result"
    },
    {
     "data": {
      "image/png": "[encoded data removed]",
      "text/plain": [
       "<Figure size 432x288 with 1 Axes>"
      ]
     },
     "metadata": {
      "needs_background": "light"
     },
     "output_type": "display_data"
    }
   ],
   "source": [
    "plt.imshow(np.max(truth[0,0:100],axis=0))"
   ]
  },
  {
   "cell_type": "code",
   "execution_count": 58,
   "id": "9f8cc770-febf-4cfd-858e-85f0e75831bb",
   "metadata": {},
   "outputs": [
    {
     "data": {
      "text/plain": [
       "<matplotlib.image.AxesImage at 0x14bc592b4e80>"
      ]
     },
     "execution_count": 58,
     "metadata": {},
     "output_type": "execute_result"
    },
    {
     "data": {
      "image/png": "[encoded data removed]",
      "text/plain": [
       "<Figure size 432x288 with 1 Axes>"
      ]
     },
     "metadata": {
      "needs_background": "light"
     },
     "output_type": "display_data"
    }
   ],
   "source": [
    "plt.imshow(np.max(seg[0,0:100],axis=0))"
   ]
  },
  {
   "cell_type": "code",
   "execution_count": 59,
   "id": "5932ad64-aaed-4966-809d-d45456ba97ab",
   "metadata": {},
   "outputs": [
    {
     "data": {
      "text/plain": [
       "(1, 512, 512, 253)"
      ]
     },
     "execution_count": 59,
     "metadata": {},
     "output_type": "execute_result"
    }
   ],
   "source": [
    "(np.array(truth.shape)/np.array(seg.shape))[1:]\n",
    "sp.ndimage.zoom(truth, 1/(np.array(truth.shape)/np.array(seg.shape)), order=0).shape"
   ]
  },
  {
   "cell_type": "code",
   "execution_count": 127,
   "id": "f64c2d3d-d629-4ae5-b390-9a65f43c322b",
   "metadata": {},
   "outputs": [
    {
     "data": {
      "text/plain": [
       "(1, 512, 512, 311)"
      ]
     },
     "execution_count": 127,
     "metadata": {},
     "output_type": "execute_result"
    }
   ],
   "source": [
    "seg.shape"
   ]
  },
  {
   "cell_type": "code",
   "execution_count": null,
   "id": "905cf602-99f1-43fa-baa3-e18b9071e2aa",
   "metadata": {},
   "outputs": [],
   "source": []
  },
  {
   "cell_type": "code",
   "execution_count": 128,
   "id": "359b3e0c-a611-4a24-8fd4-484014b58201",
   "metadata": {},
   "outputs": [],
   "source": [
    "if truth.shape != seg.shape:\n",
    "    truth = sp.ndimage.zoom(truth, 1/(np.array(truth.shape)/np.array(seg.shape)), order=0)"
   ]
  },
  {
   "cell_type": "markdown",
   "id": "9677119f-7545-4db6-9b36-1c930bdf2995",
   "metadata": {},
   "source": [
    "# UNETR Ensembale"
   ]
  },
  {
   "cell_type": "code",
   "execution_count": 60,
   "id": "e9a156b3-f828-4a95-be2d-c6047b1ab2f2",
   "metadata": {},
   "outputs": [],
   "source": [
    "unetrEnsemble = pd.DataFrame()"
   ]
  },
  {
   "cell_type": "code",
   "execution_count": 65,
   "id": "34a2e47f-ddc8-41c5-a5fd-804eb17fb41d",
   "metadata": {},
   "outputs": [
    {
     "data": {
      "text/html": [
       "<div>\n",
       "<style scoped>\n",
       "    .dataframe tbody tr th:only-of-type {\n",
       "        vertical-align: middle;\n",
       "    }\n",
       "\n",
       "    .dataframe tbody tr th {\n",
       "        vertical-align: top;\n",
       "    }\n",
       "\n",
       "    .dataframe thead th {\n",
       "        text-align: right;\n",
       "    }\n",
       "</style>\n",
       "<table border=\"1\" class=\"dataframe\">\n",
       "  <thead>\n",
       "    <tr style=\"text-align: right;\">\n",
       "      <th></th>\n",
       "      <th>Image</th>\n",
       "      <th>Dice</th>\n",
       "      <th>Precision</th>\n",
       "      <th>Recall</th>\n",
       "      <th>Hausdorff95</th>\n",
       "      <th>meanSurfaceDistance</th>\n",
       "    </tr>\n",
       "  </thead>\n",
       "  <tbody>\n",
       "    <tr>\n",
       "      <th>0</th>\n",
       "      <td>../FILES_FOR_SHRUTI/C57/01/C1-XYZres438_Simple...</td>\n",
       "      <td>0.533599</td>\n",
       "      <td>0.542753</td>\n",
       "      <td>0.524750</td>\n",
       "      <td>35.283037</td>\n",
       "      <td>7.446918</td>\n",
       "    </tr>\n",
       "    <tr>\n",
       "      <th>1</th>\n",
       "      <td>../FILES_FOR_SHRUTI/C57/02/C1-XYZres445_0001_S...</td>\n",
       "      <td>0.414228</td>\n",
       "      <td>0.346317</td>\n",
       "      <td>0.515272</td>\n",
       "      <td>110.512406</td>\n",
       "      <td>8.643282</td>\n",
       "    </tr>\n",
       "    <tr>\n",
       "      <th>2</th>\n",
       "      <td>../FILES_FOR_SHRUTI/C57/03/C1-XYZres460_0001_S...</td>\n",
       "      <td>0.275941</td>\n",
       "      <td>0.161548</td>\n",
       "      <td>0.945350</td>\n",
       "      <td>106.347187</td>\n",
       "      <td>3.117818</td>\n",
       "    </tr>\n",
       "    <tr>\n",
       "      <th>3</th>\n",
       "      <td>../FILES_FOR_SHRUTI/C57/01/C1-XYZres438_Simple...</td>\n",
       "      <td>0.533801</td>\n",
       "      <td>0.542753</td>\n",
       "      <td>0.525141</td>\n",
       "      <td>29.267225</td>\n",
       "      <td>6.743928</td>\n",
       "    </tr>\n",
       "    <tr>\n",
       "      <th>4</th>\n",
       "      <td>../FILES_FOR_SHRUTI/C57/02/C1-XYZres445_0001_S...</td>\n",
       "      <td>0.414340</td>\n",
       "      <td>0.346194</td>\n",
       "      <td>0.515889</td>\n",
       "      <td>133.537945</td>\n",
       "      <td>5.928667</td>\n",
       "    </tr>\n",
       "    <tr>\n",
       "      <th>5</th>\n",
       "      <td>../FILES_FOR_SHRUTI/C57/03/C1-XYZres460_0001_S...</td>\n",
       "      <td>0.274935</td>\n",
       "      <td>0.160799</td>\n",
       "      <td>0.947405</td>\n",
       "      <td>139.431874</td>\n",
       "      <td>1.624676</td>\n",
       "    </tr>\n",
       "  </tbody>\n",
       "</table>\n",
       "</div>"
      ],
      "text/plain": [
       "                                               Image      Dice  Precision  \\\n",
       "0  ../FILES_FOR_SHRUTI/C57/01/C1-XYZres438_Simple...  0.533599   0.542753   \n",
       "1  ../FILES_FOR_SHRUTI/C57/02/C1-XYZres445_0001_S...  0.414228   0.346317   \n",
       "2  ../FILES_FOR_SHRUTI/C57/03/C1-XYZres460_0001_S...  0.275941   0.161548   \n",
       "3  ../FILES_FOR_SHRUTI/C57/01/C1-XYZres438_Simple...  0.533801   0.542753   \n",
       "4  ../FILES_FOR_SHRUTI/C57/02/C1-XYZres445_0001_S...  0.414340   0.346194   \n",
       "5  ../FILES_FOR_SHRUTI/C57/03/C1-XYZres460_0001_S...  0.274935   0.160799   \n",
       "\n",
       "     Recall  Hausdorff95  meanSurfaceDistance  \n",
       "0  0.524750    35.283037             7.446918  \n",
       "1  0.515272   110.512406             8.643282  \n",
       "2  0.945350   106.347187             3.117818  \n",
       "3  0.525141    29.267225             6.743928  \n",
       "4  0.515889   133.537945             5.928667  \n",
       "5  0.947405   139.431874             1.624676  "
      ]
     },
     "execution_count": 65,
     "metadata": {},
     "output_type": "execute_result"
    }
   ],
   "source": [
    "unetrEnsemble"
   ]
  },
  {
   "cell_type": "code",
   "execution_count": 64,
   "id": "f3b954b9",
   "metadata": {},
   "outputs": [
    {
     "name": "stderr",
     "output_type": "stream",
     "text": [
      "  0%|          | 0/3 [00:00<?, ?it/s]/tmp/ipykernel_4184204/866319708.py:33: FutureWarning: The frame.append method is deprecated and will be removed from pandas in a future version. Use pandas.concat instead.\n",
      "  unetrEnsemble = unetrEnsemble.append(new_row,ignore_index=True)\n",
      " 33%|███▎      | 1/3 [01:17<02:35, 77.56s/it]/tmp/ipykernel_4184204/866319708.py:33: FutureWarning: The frame.append method is deprecated and will be removed from pandas in a future version. Use pandas.concat instead.\n",
      "  unetrEnsemble = unetrEnsemble.append(new_row,ignore_index=True)\n",
      " 67%|██████▋   | 2/3 [02:34<01:17, 77.02s/it]/lustre06/project/6023374/rozakmat/monai3.8/lib/python3.8/site-packages/monai/metrics/hausdorff_distance.py:160: UserWarning: the prediction of class 340 is all 0, this may result in nan/inf distance.\n",
      "  warnings.warn(f\"the prediction of class {c} is all 0, this may result in nan/inf distance.\")\n",
      "/lustre06/project/6023374/rozakmat/monai3.8/lib/python3.8/site-packages/numpy/lib/function_base.py:4527: RuntimeWarning: invalid value encountered in subtract\n",
      "  diff_b_a = subtract(b, a)\n",
      "/lustre06/project/6023374/rozakmat/monai3.8/lib/python3.8/site-packages/monai/metrics/hausdorff_distance.py:160: UserWarning: the prediction of class 345 is all 0, this may result in nan/inf distance.\n",
      "  warnings.warn(f\"the prediction of class {c} is all 0, this may result in nan/inf distance.\")\n",
      "/lustre06/project/6023374/rozakmat/monai3.8/lib/python3.8/site-packages/monai/metrics/hausdorff_distance.py:160: UserWarning: the prediction of class 346 is all 0, this may result in nan/inf distance.\n",
      "  warnings.warn(f\"the prediction of class {c} is all 0, this may result in nan/inf distance.\")\n",
      "/lustre06/project/6023374/rozakmat/monai3.8/lib/python3.8/site-packages/monai/metrics/hausdorff_distance.py:160: UserWarning: the prediction of class 347 is all 0, this may result in nan/inf distance.\n",
      "  warnings.warn(f\"the prediction of class {c} is all 0, this may result in nan/inf distance.\")\n",
      "/lustre06/project/6023374/rozakmat/monai3.8/lib/python3.8/site-packages/monai/metrics/hausdorff_distance.py:160: UserWarning: the prediction of class 348 is all 0, this may result in nan/inf distance.\n",
      "  warnings.warn(f\"the prediction of class {c} is all 0, this may result in nan/inf distance.\")\n",
      "/lustre06/project/6023374/rozakmat/monai3.8/lib/python3.8/site-packages/monai/metrics/hausdorff_distance.py:160: UserWarning: the prediction of class 349 is all 0, this may result in nan/inf distance.\n",
      "  warnings.warn(f\"the prediction of class {c} is all 0, this may result in nan/inf distance.\")\n",
      "/lustre06/project/6023374/rozakmat/monai3.8/lib/python3.8/site-packages/monai/metrics/hausdorff_distance.py:160: UserWarning: the prediction of class 350 is all 0, this may result in nan/inf distance.\n",
      "  warnings.warn(f\"the prediction of class {c} is all 0, this may result in nan/inf distance.\")\n",
      "/lustre06/project/6023374/rozakmat/monai3.8/lib/python3.8/site-packages/monai/metrics/hausdorff_distance.py:160: UserWarning: the prediction of class 351 is all 0, this may result in nan/inf distance.\n",
      "  warnings.warn(f\"the prediction of class {c} is all 0, this may result in nan/inf distance.\")\n",
      "/lustre06/project/6023374/rozakmat/monai3.8/lib/python3.8/site-packages/monai/metrics/hausdorff_distance.py:160: UserWarning: the prediction of class 352 is all 0, this may result in nan/inf distance.\n",
      "  warnings.warn(f\"the prediction of class {c} is all 0, this may result in nan/inf distance.\")\n",
      "/lustre06/project/6023374/rozakmat/monai3.8/lib/python3.8/site-packages/monai/metrics/hausdorff_distance.py:160: UserWarning: the prediction of class 353 is all 0, this may result in nan/inf distance.\n",
      "  warnings.warn(f\"the prediction of class {c} is all 0, this may result in nan/inf distance.\")\n",
      "/lustre06/project/6023374/rozakmat/monai3.8/lib/python3.8/site-packages/monai/metrics/hausdorff_distance.py:160: UserWarning: the prediction of class 354 is all 0, this may result in nan/inf distance.\n",
      "  warnings.warn(f\"the prediction of class {c} is all 0, this may result in nan/inf distance.\")\n",
      "/lustre06/project/6023374/rozakmat/monai3.8/lib/python3.8/site-packages/monai/metrics/hausdorff_distance.py:160: UserWarning: the prediction of class 355 is all 0, this may result in nan/inf distance.\n",
      "  warnings.warn(f\"the prediction of class {c} is all 0, this may result in nan/inf distance.\")\n",
      "/lustre06/project/6023374/rozakmat/monai3.8/lib/python3.8/site-packages/monai/metrics/hausdorff_distance.py:160: UserWarning: the prediction of class 356 is all 0, this may result in nan/inf distance.\n",
      "  warnings.warn(f\"the prediction of class {c} is all 0, this may result in nan/inf distance.\")\n",
      "/lustre06/project/6023374/rozakmat/monai3.8/lib/python3.8/site-packages/monai/metrics/hausdorff_distance.py:160: UserWarning: the prediction of class 357 is all 0, this may result in nan/inf distance.\n",
      "  warnings.warn(f\"the prediction of class {c} is all 0, this may result in nan/inf distance.\")\n",
      "/lustre06/project/6023374/rozakmat/monai3.8/lib/python3.8/site-packages/monai/metrics/hausdorff_distance.py:160: UserWarning: the prediction of class 358 is all 0, this may result in nan/inf distance.\n",
      "  warnings.warn(f\"the prediction of class {c} is all 0, this may result in nan/inf distance.\")\n",
      "/lustre06/project/6023374/rozakmat/monai3.8/lib/python3.8/site-packages/monai/metrics/hausdorff_distance.py:160: UserWarning: the prediction of class 359 is all 0, this may result in nan/inf distance.\n",
      "  warnings.warn(f\"the prediction of class {c} is all 0, this may result in nan/inf distance.\")\n",
      "/lustre06/project/6023374/rozakmat/monai3.8/lib/python3.8/site-packages/monai/metrics/hausdorff_distance.py:160: UserWarning: the prediction of class 363 is all 0, this may result in nan/inf distance.\n",
      "  warnings.warn(f\"the prediction of class {c} is all 0, this may result in nan/inf distance.\")\n",
      "/lustre06/project/6023374/rozakmat/monai3.8/lib/python3.8/site-packages/monai/metrics/hausdorff_distance.py:160: UserWarning: the prediction of class 364 is all 0, this may result in nan/inf distance.\n",
      "  warnings.warn(f\"the prediction of class {c} is all 0, this may result in nan/inf distance.\")\n",
      "/lustre06/project/6023374/rozakmat/monai3.8/lib/python3.8/site-packages/monai/metrics/hausdorff_distance.py:160: UserWarning: the prediction of class 365 is all 0, this may result in nan/inf distance.\n",
      "  warnings.warn(f\"the prediction of class {c} is all 0, this may result in nan/inf distance.\")\n",
      "/lustre06/project/6023374/rozakmat/monai3.8/lib/python3.8/site-packages/monai/metrics/hausdorff_distance.py:160: UserWarning: the prediction of class 366 is all 0, this may result in nan/inf distance.\n",
      "  warnings.warn(f\"the prediction of class {c} is all 0, this may result in nan/inf distance.\")\n",
      "/lustre06/project/6023374/rozakmat/monai3.8/lib/python3.8/site-packages/monai/metrics/hausdorff_distance.py:160: UserWarning: the prediction of class 367 is all 0, this may result in nan/inf distance.\n",
      "  warnings.warn(f\"the prediction of class {c} is all 0, this may result in nan/inf distance.\")\n",
      "/lustre06/project/6023374/rozakmat/monai3.8/lib/python3.8/site-packages/monai/metrics/hausdorff_distance.py:160: UserWarning: the prediction of class 368 is all 0, this may result in nan/inf distance.\n",
      "  warnings.warn(f\"the prediction of class {c} is all 0, this may result in nan/inf distance.\")\n",
      "/lustre06/project/6023374/rozakmat/monai3.8/lib/python3.8/site-packages/monai/metrics/hausdorff_distance.py:160: UserWarning: the prediction of class 369 is all 0, this may result in nan/inf distance.\n",
      "  warnings.warn(f\"the prediction of class {c} is all 0, this may result in nan/inf distance.\")\n",
      "/lustre06/project/6023374/rozakmat/monai3.8/lib/python3.8/site-packages/monai/metrics/surface_distance.py:155: UserWarning: the prediction of class 340 is all 0, this may result in nan/inf distance.\n",
      "  warnings.warn(f\"the prediction of class {c} is all 0, this may result in nan/inf distance.\")\n",
      "/lustre06/project/6023374/rozakmat/monai3.8/lib/python3.8/site-packages/monai/metrics/surface_distance.py:155: UserWarning: the prediction of class 345 is all 0, this may result in nan/inf distance.\n",
      "  warnings.warn(f\"the prediction of class {c} is all 0, this may result in nan/inf distance.\")\n",
      "/lustre06/project/6023374/rozakmat/monai3.8/lib/python3.8/site-packages/monai/metrics/surface_distance.py:155: UserWarning: the prediction of class 346 is all 0, this may result in nan/inf distance.\n",
      "  warnings.warn(f\"the prediction of class {c} is all 0, this may result in nan/inf distance.\")\n",
      "/lustre06/project/6023374/rozakmat/monai3.8/lib/python3.8/site-packages/monai/metrics/surface_distance.py:155: UserWarning: the prediction of class 347 is all 0, this may result in nan/inf distance.\n",
      "  warnings.warn(f\"the prediction of class {c} is all 0, this may result in nan/inf distance.\")\n",
      "/lustre06/project/6023374/rozakmat/monai3.8/lib/python3.8/site-packages/monai/metrics/surface_distance.py:155: UserWarning: the prediction of class 348 is all 0, this may result in nan/inf distance.\n",
      "  warnings.warn(f\"the prediction of class {c} is all 0, this may result in nan/inf distance.\")\n",
      "/lustre06/project/6023374/rozakmat/monai3.8/lib/python3.8/site-packages/monai/metrics/surface_distance.py:155: UserWarning: the prediction of class 349 is all 0, this may result in nan/inf distance.\n",
      "  warnings.warn(f\"the prediction of class {c} is all 0, this may result in nan/inf distance.\")\n",
      "/lustre06/project/6023374/rozakmat/monai3.8/lib/python3.8/site-packages/monai/metrics/surface_distance.py:155: UserWarning: the prediction of class 350 is all 0, this may result in nan/inf distance.\n",
      "  warnings.warn(f\"the prediction of class {c} is all 0, this may result in nan/inf distance.\")\n",
      "/lustre06/project/6023374/rozakmat/monai3.8/lib/python3.8/site-packages/monai/metrics/surface_distance.py:155: UserWarning: the prediction of class 351 is all 0, this may result in nan/inf distance.\n",
      "  warnings.warn(f\"the prediction of class {c} is all 0, this may result in nan/inf distance.\")\n",
      "/lustre06/project/6023374/rozakmat/monai3.8/lib/python3.8/site-packages/monai/metrics/surface_distance.py:155: UserWarning: the prediction of class 352 is all 0, this may result in nan/inf distance.\n",
      "  warnings.warn(f\"the prediction of class {c} is all 0, this may result in nan/inf distance.\")\n",
      "/lustre06/project/6023374/rozakmat/monai3.8/lib/python3.8/site-packages/monai/metrics/surface_distance.py:155: UserWarning: the prediction of class 353 is all 0, this may result in nan/inf distance.\n",
      "  warnings.warn(f\"the prediction of class {c} is all 0, this may result in nan/inf distance.\")\n",
      "/lustre06/project/6023374/rozakmat/monai3.8/lib/python3.8/site-packages/monai/metrics/surface_distance.py:155: UserWarning: the prediction of class 354 is all 0, this may result in nan/inf distance.\n",
      "  warnings.warn(f\"the prediction of class {c} is all 0, this may result in nan/inf distance.\")\n",
      "/lustre06/project/6023374/rozakmat/monai3.8/lib/python3.8/site-packages/monai/metrics/surface_distance.py:155: UserWarning: the prediction of class 355 is all 0, this may result in nan/inf distance.\n",
      "  warnings.warn(f\"the prediction of class {c} is all 0, this may result in nan/inf distance.\")\n",
      "/lustre06/project/6023374/rozakmat/monai3.8/lib/python3.8/site-packages/monai/metrics/surface_distance.py:155: UserWarning: the prediction of class 356 is all 0, this may result in nan/inf distance.\n",
      "  warnings.warn(f\"the prediction of class {c} is all 0, this may result in nan/inf distance.\")\n",
      "/lustre06/project/6023374/rozakmat/monai3.8/lib/python3.8/site-packages/monai/metrics/surface_distance.py:155: UserWarning: the prediction of class 357 is all 0, this may result in nan/inf distance.\n",
      "  warnings.warn(f\"the prediction of class {c} is all 0, this may result in nan/inf distance.\")\n",
      "/lustre06/project/6023374/rozakmat/monai3.8/lib/python3.8/site-packages/monai/metrics/surface_distance.py:155: UserWarning: the prediction of class 358 is all 0, this may result in nan/inf distance.\n",
      "  warnings.warn(f\"the prediction of class {c} is all 0, this may result in nan/inf distance.\")\n",
      "/lustre06/project/6023374/rozakmat/monai3.8/lib/python3.8/site-packages/monai/metrics/surface_distance.py:155: UserWarning: the prediction of class 359 is all 0, this may result in nan/inf distance.\n",
      "  warnings.warn(f\"the prediction of class {c} is all 0, this may result in nan/inf distance.\")\n",
      "/lustre06/project/6023374/rozakmat/monai3.8/lib/python3.8/site-packages/monai/metrics/surface_distance.py:155: UserWarning: the prediction of class 363 is all 0, this may result in nan/inf distance.\n",
      "  warnings.warn(f\"the prediction of class {c} is all 0, this may result in nan/inf distance.\")\n",
      "/lustre06/project/6023374/rozakmat/monai3.8/lib/python3.8/site-packages/monai/metrics/surface_distance.py:155: UserWarning: the prediction of class 364 is all 0, this may result in nan/inf distance.\n",
      "  warnings.warn(f\"the prediction of class {c} is all 0, this may result in nan/inf distance.\")\n",
      "/lustre06/project/6023374/rozakmat/monai3.8/lib/python3.8/site-packages/monai/metrics/surface_distance.py:155: UserWarning: the prediction of class 365 is all 0, this may result in nan/inf distance.\n",
      "  warnings.warn(f\"the prediction of class {c} is all 0, this may result in nan/inf distance.\")\n",
      "/lustre06/project/6023374/rozakmat/monai3.8/lib/python3.8/site-packages/monai/metrics/surface_distance.py:155: UserWarning: the prediction of class 366 is all 0, this may result in nan/inf distance.\n",
      "  warnings.warn(f\"the prediction of class {c} is all 0, this may result in nan/inf distance.\")\n",
      "/lustre06/project/6023374/rozakmat/monai3.8/lib/python3.8/site-packages/monai/metrics/surface_distance.py:155: UserWarning: the prediction of class 367 is all 0, this may result in nan/inf distance.\n",
      "  warnings.warn(f\"the prediction of class {c} is all 0, this may result in nan/inf distance.\")\n",
      "/lustre06/project/6023374/rozakmat/monai3.8/lib/python3.8/site-packages/monai/metrics/surface_distance.py:155: UserWarning: the prediction of class 368 is all 0, this may result in nan/inf distance.\n",
      "  warnings.warn(f\"the prediction of class {c} is all 0, this may result in nan/inf distance.\")\n",
      "/lustre06/project/6023374/rozakmat/monai3.8/lib/python3.8/site-packages/monai/metrics/surface_distance.py:155: UserWarning: the prediction of class 369 is all 0, this may result in nan/inf distance.\n",
      "  warnings.warn(f\"the prediction of class {c} is all 0, this may result in nan/inf distance.\")\n",
      "/tmp/ipykernel_4184204/866319708.py:33: FutureWarning: The frame.append method is deprecated and will be removed from pandas in a future version. Use pandas.concat instead.\n",
      "  unetrEnsemble = unetrEnsemble.append(new_row,ignore_index=True)\n",
      "100%|██████████| 3/3 [03:49<00:00, 76.40s/it]"
     ]
    },
    {
     "name": "stdout",
     "output_type": "stream",
     "text": [
      "                                               Image      Dice  Precision  \\\n",
      "0  ../FILES_FOR_SHRUTI/C57/01/C1-XYZres438_Simple...  0.533599   0.542753   \n",
      "1  ../FILES_FOR_SHRUTI/C57/02/C1-XYZres445_0001_S...  0.414228   0.346317   \n",
      "2  ../FILES_FOR_SHRUTI/C57/03/C1-XYZres460_0001_S...  0.275941   0.161548   \n",
      "3  ../FILES_FOR_SHRUTI/C57/01/C1-XYZres438_Simple...  0.533801   0.542753   \n",
      "4  ../FILES_FOR_SHRUTI/C57/02/C1-XYZres445_0001_S...  0.414340   0.346194   \n",
      "5  ../FILES_FOR_SHRUTI/C57/03/C1-XYZres460_0001_S...  0.274935   0.160799   \n",
      "\n",
      "     Recall  Hausdorff95  meanSurfaceDistance  \n",
      "0  0.524750    35.283037             7.446918  \n",
      "1  0.515272   110.512406             8.643282  \n",
      "2  0.945350   106.347187             3.117818  \n",
      "3  0.525141    29.267225             6.743928  \n",
      "4  0.515889   133.537945             5.928667  \n",
      "5  0.947405   139.431874             1.624676  \n"
     ]
    },
    {
     "name": "stderr",
     "output_type": "stream",
     "text": [
      "\n"
     ]
    }
   ],
   "source": [
    "for x in tqdm(gt_images):\n",
    "    truth = io.imread(x)\n",
    "    #truth = np.swapaxes(np.swapaxes(truth,0,1),1,3)\n",
    "    #truth = Spacing(pixdim=(1.01, 1.01, 0.3787), mode=\"nearest\")(truth)[0]\n",
    "    truth[truth!=label]=0\n",
    "    truth[truth==label]=1\n",
    "    truth = remove_small_comps_3d(truth)\n",
    "    truth = np.expand_dims(truth,0)\n",
    "    truth = np.swapaxes(truth, 1,3)\n",
    "    _mean = np.load(re.sub('_Simple Segmentation2.tiff','_up_reshape_meante.npy',x))\n",
    "    seg = np.zeros(_mean.shape[1:])\n",
    "    seg[(_mean[1,:,:,:] > min_prob)] = 1\n",
    "    seg[(_mean[2,:,:,:] > min_prob)] = 2\n",
    "    seg[seg!=1]=0\n",
    "    seg[seg==1]=1\n",
    "    seg = remove_small_comps_3d(seg)\n",
    "    seg = np.expand_dims(seg,0)\n",
    "    #seg = np.expand_dims(seg,0)\n",
    "    seg = seg.astype(np.float32)\n",
    "    if truth.shape != seg.shape:\n",
    "        truth = sp.ndimage.zoom(truth, 1/(np.array(truth.shape)/np.array(seg.shape)), order=0)\n",
    "    truth = binary_erosion(binary_erosion(truth))\n",
    "    #print(compute_hausdorff_distance(truth,seg,percentile=95))\n",
    "    #print(compute_average_surface_distance(truth,seg))\n",
    "    new_row = {'Image':re.sub('_Simple Segmentation.tiff','',re.sub('../TBI/GT_filtered\\+raw/',' ',x)),\n",
    "               'Dice':2*np.sum(truth*seg) / (np.sum(truth)+np.sum(seg)),\n",
    "               'Precision': precision_score(truth.flatten(), seg.flatten()),\n",
    "               'Recall': recall_score(truth.flatten(), seg.flatten()),\n",
    "               #'Hausdorff':compute_hausdorff_distance(truth,seg,include_background=False).cpu().detach().numpy()[0,0],\n",
    "               'Hausdorff95':compute_hausdorff_distance(truth,seg,include_background=False,percentile=95).cpu().detach().numpy()[0,0],\n",
    "               'meanSurfaceDistance':compute_average_surface_distance(truth,seg,include_background=False).cpu().detach().numpy()[0,0]}\n",
    "               #}\n",
    "    unetrEnsemble = unetrEnsemble.append(new_row,ignore_index=True)\n",
    "print(unetrEnsemble)"
   ]
  },
  {
   "cell_type": "code",
   "execution_count": 60,
   "id": "5adcbd5a-2a1f-4419-8457-ad6d22075938",
   "metadata": {},
   "outputs": [
    {
     "name": "stdout",
     "output_type": "stream",
     "text": [
      "0.5892216684916478\n",
      "0.0\n"
     ]
    }
   ],
   "source": [
    "print(np.mean(unetrEnsemble['Dice']))\n",
    "print(np.std(unetrEnsemble['Dice']))"
   ]
  },
  {
   "cell_type": "code",
   "execution_count": 50,
   "id": "7033d7fa-38e5-4d87-a788-37e26ba92eef",
   "metadata": {},
   "outputs": [
    {
     "data": {
      "text/plain": [
       "'64'"
      ]
     },
     "execution_count": 50,
     "metadata": {},
     "output_type": "execute_result"
    }
   ],
   "source": [
    "re.sub('_Simple Segmentation.tiff','',re.sub('../TBI/GT_filtered\\+raw/',' ',x)).split('/')"
   ]
  },
  {
   "cell_type": "code",
   "execution_count": 15,
   "id": "ddfb81e3-0c97-4b1a-8312-eb0ee2f7ecd9",
   "metadata": {},
   "outputs": [],
   "source": [
    "#print(unetrEnsemble)"
   ]
  },
  {
   "cell_type": "markdown",
   "id": "1eeb855a-d5d4-43a4-91cb-abd25b88ef6a",
   "metadata": {},
   "source": [
    "## UNETR Single"
   ]
  },
  {
   "cell_type": "code",
   "execution_count": 16,
   "id": "3d13989f-95fc-4f19-85e5-deb07bed6658",
   "metadata": {},
   "outputs": [],
   "source": [
    "unetrSingle = pd.DataFrame()"
   ]
  },
  {
   "cell_type": "code",
   "execution_count": 17,
   "id": "3f74e0c8-3dba-4f09-8d23-a403f0d3bf16",
   "metadata": {},
   "outputs": [
    {
     "name": "stderr",
     "output_type": "stream",
     "text": [
      "  0%|          | 0/9 [00:00<?, ?it/s]"
     ]
    },
    {
     "name": "stdout",
     "output_type": "stream",
     "text": [
      "yes\n"
     ]
    },
    {
     "name": "stderr",
     "output_type": "stream",
     "text": [
      " 11%|█         | 1/9 [01:51<14:50, 111.34s/it]"
     ]
    },
    {
     "name": "stdout",
     "output_type": "stream",
     "text": [
      "yes\n"
     ]
    },
    {
     "name": "stderr",
     "output_type": "stream",
     "text": [
      " 22%|██▏       | 2/9 [03:38<12:43, 109.04s/it]"
     ]
    },
    {
     "name": "stdout",
     "output_type": "stream",
     "text": [
      "yes\n"
     ]
    },
    {
     "name": "stderr",
     "output_type": "stream",
     "text": [
      " 33%|███▎      | 3/9 [05:29<10:58, 109.74s/it]"
     ]
    },
    {
     "name": "stdout",
     "output_type": "stream",
     "text": [
      "yes\n"
     ]
    },
    {
     "name": "stderr",
     "output_type": "stream",
     "text": [
      " 44%|████▍     | 4/9 [07:19<09:09, 109.97s/it]"
     ]
    },
    {
     "name": "stdout",
     "output_type": "stream",
     "text": [
      "yes\n"
     ]
    },
    {
     "name": "stderr",
     "output_type": "stream",
     "text": [
      " 56%|█████▌    | 5/9 [09:05<07:14, 108.50s/it]"
     ]
    },
    {
     "name": "stdout",
     "output_type": "stream",
     "text": [
      "yes\n"
     ]
    },
    {
     "name": "stderr",
     "output_type": "stream",
     "text": [
      " 67%|██████▋   | 6/9 [10:55<05:27, 109.01s/it]"
     ]
    },
    {
     "name": "stdout",
     "output_type": "stream",
     "text": [
      "yes\n"
     ]
    },
    {
     "name": "stderr",
     "output_type": "stream",
     "text": [
      " 78%|███████▊  | 7/9 [12:40<03:35, 107.82s/it]"
     ]
    },
    {
     "name": "stdout",
     "output_type": "stream",
     "text": [
      "yes\n"
     ]
    },
    {
     "name": "stderr",
     "output_type": "stream",
     "text": [
      " 89%|████████▉ | 8/9 [14:29<01:47, 107.94s/it]"
     ]
    },
    {
     "name": "stdout",
     "output_type": "stream",
     "text": [
      "yes\n"
     ]
    },
    {
     "name": "stderr",
     "output_type": "stream",
     "text": [
      "100%|██████████| 9/9 [16:15<00:00, 108.43s/it]"
     ]
    },
    {
     "name": "stdout",
     "output_type": "stream",
     "text": [
      "             Image      Dice  Precision    Recall  Hausdorff95  \\\n",
      "0   XYZres013_0001  0.732965   0.934816  0.602804     4.472136   \n",
      "1    XYZres95_0001  0.539186   0.921358  0.381106    53.009433   \n",
      "2        XYZres032  0.908900   0.893595  0.924739     2.000000   \n",
      "3        XYZres025  0.799614   0.907732  0.714510     2.449490   \n",
      "4   XYZres114_0001  0.782885   0.840949  0.732321    23.086793   \n",
      "5        XYZres008  0.857850   0.793963  0.932919     3.000000   \n",
      "6        XYZres115  0.712198   0.724948  0.699888    23.622024   \n",
      "7   XYZres204_0001  0.804725   0.720418  0.911379    20.124612   \n",
      "8   XYZres214_0001  0.834524   0.811270  0.859150     2.000000   \n",
      "\n",
      "   meanSurfaceDistance  \n",
      "0             1.330380  \n",
      "1             7.238751  \n",
      "2             0.659656  \n",
      "3             0.802545  \n",
      "4             1.909906  \n",
      "5             0.717940  \n",
      "6             4.064531  \n",
      "7             1.167560  \n",
      "8             0.615520  \n"
     ]
    },
    {
     "name": "stderr",
     "output_type": "stream",
     "text": [
      "\n"
     ]
    }
   ],
   "source": [
    "for x in tqdm(test_file[:]):\n",
    "    truth = io.imread(x)\n",
    "    truth = np.swapaxes(np.swapaxes(truth,0,1),1,3)\n",
    "    truth = Spacing(pixdim=(1.01, 1.01, 0.3787), mode=\"nearest\")(truth)[0]\n",
    "    truth[truth!=label]=0\n",
    "    truth[truth==label]=1\n",
    "    truth = np.expand_dims(truth,0)\n",
    "    path = Path('matt_preds')\n",
    "    _files = list(path.glob(re.sub('_Simple Segmentation_sub1.tiff','_mean_1x.npy',re.sub('../TBI/GT_filtered\\+raw/','*',x))))\n",
    "    if os.path.exists(_files[0].as_posix()):\n",
    "        _mean = np.load(_files[0].as_posix())\n",
    "        print('yes')\n",
    "        #pred = np.expand_dims(pred,0)\n",
    "    seg = np.zeros(_mean.shape[2:])\n",
    "    seg[(_mean[0,1,:,:,:] > min_prob)] = 1\n",
    "    seg[(_mean[0,2,:,:,:] > min_prob)] = 2\n",
    "    seg[seg!=label]=0\n",
    "    seg[seg==label]=1\n",
    "    seg = np.expand_dims(seg,0)\n",
    "    seg = np.expand_dims(seg,0)\n",
    "    seg = seg.astype(np.float32)\n",
    "    new_row = {'Image':re.sub('_Simple Segmentation_sub1.tiff','',re.sub('../TBI/GT_filtered\\+raw/',' ',x)),\n",
    "               'Dice':2*np.sum(truth*seg) / (np.sum(truth)+np.sum(seg)),\n",
    "               'Precision': precision_score(truth.flatten(), seg.flatten()),\n",
    "               'Recall': recall_score(truth.flatten(), seg.flatten()),\n",
    "               #'Hausdorff':compute_hausdorff_distance(truth,seg,include_background=False).cpu().detach().numpy()[0,0],\n",
    "               'Hausdorff95':compute_hausdorff_distance(truth,seg,include_background=False,percentile=95).cpu().detach().numpy()[0,0],\n",
    "               'meanSurfaceDistance':compute_average_surface_distance(truth,seg,include_background=False).cpu().detach().numpy()[0,0]}\n",
    "    unetrSingle = unetrSingle.append(new_row,ignore_index=True)\n",
    "print(unetrSingle)"
   ]
  },
  {
   "cell_type": "markdown",
   "id": "dac727d2-4114-4f95-9648-7f547515b781",
   "metadata": {},
   "source": [
    "# unet Ensemble"
   ]
  },
  {
   "cell_type": "code",
   "execution_count": 23,
   "id": "d8ef6747-54f0-4dc6-b75c-6952faef80c1",
   "metadata": {},
   "outputs": [],
   "source": [
    "unetEnsemble = pd.DataFrame()"
   ]
  },
  {
   "cell_type": "code",
   "execution_count": 24,
   "id": "2fbc22f6-48cf-4c9e-b63b-6ed4da44e6e6",
   "metadata": {},
   "outputs": [
    {
     "name": "stderr",
     "output_type": "stream",
     "text": [
      "  0%|          | 0/9 [00:00<?, ?it/s]"
     ]
    },
    {
     "name": "stdout",
     "output_type": "stream",
     "text": [
      "yes\n"
     ]
    },
    {
     "name": "stderr",
     "output_type": "stream",
     "text": [
      " 11%|█         | 1/9 [01:48<14:30, 108.86s/it]"
     ]
    },
    {
     "name": "stdout",
     "output_type": "stream",
     "text": [
      "yes\n"
     ]
    },
    {
     "name": "stderr",
     "output_type": "stream",
     "text": [
      " 22%|██▏       | 2/9 [03:35<12:34, 107.80s/it]"
     ]
    },
    {
     "name": "stdout",
     "output_type": "stream",
     "text": [
      "yes\n"
     ]
    },
    {
     "name": "stderr",
     "output_type": "stream",
     "text": [
      " 33%|███▎      | 3/9 [05:18<10:32, 105.47s/it]"
     ]
    },
    {
     "name": "stdout",
     "output_type": "stream",
     "text": [
      "yes\n"
     ]
    },
    {
     "name": "stderr",
     "output_type": "stream",
     "text": [
      " 44%|████▍     | 4/9 [07:09<08:58, 107.76s/it]"
     ]
    },
    {
     "name": "stdout",
     "output_type": "stream",
     "text": [
      "yes\n"
     ]
    },
    {
     "name": "stderr",
     "output_type": "stream",
     "text": [
      " 56%|█████▌    | 5/9 [08:54<07:07, 106.81s/it]"
     ]
    },
    {
     "name": "stdout",
     "output_type": "stream",
     "text": [
      "yes\n"
     ]
    },
    {
     "name": "stderr",
     "output_type": "stream",
     "text": [
      " 67%|██████▋   | 6/9 [10:43<05:22, 107.34s/it]"
     ]
    },
    {
     "name": "stdout",
     "output_type": "stream",
     "text": [
      "yes\n"
     ]
    },
    {
     "name": "stderr",
     "output_type": "stream",
     "text": [
      " 78%|███████▊  | 7/9 [12:34<03:37, 108.70s/it]"
     ]
    },
    {
     "name": "stdout",
     "output_type": "stream",
     "text": [
      "yes\n"
     ]
    },
    {
     "name": "stderr",
     "output_type": "stream",
     "text": [
      " 89%|████████▉ | 8/9 [14:19<01:47, 107.46s/it]"
     ]
    },
    {
     "name": "stdout",
     "output_type": "stream",
     "text": [
      "yes\n"
     ]
    },
    {
     "name": "stderr",
     "output_type": "stream",
     "text": [
      "100%|██████████| 9/9 [16:04<00:00, 107.19s/it]"
     ]
    },
    {
     "name": "stdout",
     "output_type": "stream",
     "text": [
      "             Image      Dice  Precision    Recall  Hausdorff95  \\\n",
      "0   XYZres013_0001  0.801307   0.732036  0.885059     5.099020   \n",
      "1    XYZres95_0001  0.813064   0.907671  0.736317     2.828427   \n",
      "2        XYZres032  0.740794   0.656121  0.850560    22.649503   \n",
      "3        XYZres025  0.767427   0.654141  0.928171    17.029386   \n",
      "4   XYZres114_0001  0.726145   0.629170  0.858461    27.676705   \n",
      "5        XYZres008  0.758125   0.656939  0.896159    15.394804   \n",
      "6        XYZres115  0.820671   0.743303  0.916016     2.000000   \n",
      "7   XYZres204_0001  0.685665   0.602459  0.795537    76.065761   \n",
      "8   XYZres214_0001  0.777551   0.699731  0.874845    14.317821   \n",
      "\n",
      "   meanSurfaceDistance  \n",
      "0             0.698951  \n",
      "1             1.096994  \n",
      "2             1.306007  \n",
      "3             0.615645  \n",
      "4             3.353060  \n",
      "5             0.813013  \n",
      "6             0.638872  \n",
      "7            12.550634  \n",
      "8             0.612136  \n"
     ]
    },
    {
     "name": "stderr",
     "output_type": "stream",
     "text": [
      "\n"
     ]
    }
   ],
   "source": [
    "for x in tqdm(test_file[:]):\n",
    "    truth = io.imread(x)\n",
    "    truth = np.swapaxes(np.swapaxes(truth,0,1),1,3)\n",
    "    truth = Spacing(pixdim=(1.01, 1.01, 0.3787), mode=\"nearest\")(truth)[0]\n",
    "    truth[truth!=label]=0\n",
    "    truth[truth==label]=1\n",
    "    truth = np.expand_dims(truth,0)\n",
    "    if os.path.exists(re.sub('_Simple Segmentation_sub1.tiff','_mean.npy',re.sub('../TBI/GT_filtered\\+raw','ilastik_preds_raw_images',x))):\n",
    "        _mean = np.load(re.sub('_Simple Segmentation_sub1.tiff','_mean.npy',re.sub('../TBI/GT_filtered\\+raw','ilastik_preds_raw_images',x)))\n",
    "        _std = pred = np.load(re.sub('_Simple Segmentation_sub1.tiff','_std.npy',re.sub('../TBI/GT_filtered\\+raw','ilastik_preds_raw_images',x)))\n",
    "        print('yes')\n",
    "        #pred = np.expand_dims(pred,0)\n",
    "    seg = np.zeros(_mean.shape[1:])\n",
    "    seg[(_mean[1,:,:,:] > min_prob) * (_std[1,:,:,:] < max_var)] = 1\n",
    "    seg[(_mean[2,:,:,:] > min_prob) * (_std[2,:,:,:] < max_var)] = 2\n",
    "    seg[seg!=label]=0\n",
    "    seg[seg==label]=1\n",
    "    seg = np.expand_dims(seg,0)\n",
    "    seg = np.expand_dims(seg,0)\n",
    "    seg = seg.astype(np.float32)\n",
    "    #break\n",
    "    #print(compute_hausdorff_distance(truth,seg,percentile=95))\n",
    "    #print(compute_average_surface_distance(truth,seg))\n",
    "    new_row = {'Image':re.sub('_Simple Segmentation_sub1.tiff','',re.sub('../TBI/GT_filtered\\+raw/',' ',x)),\n",
    "               'Dice':2*np.sum(truth*seg) / (np.sum(truth)+np.sum(seg)),\n",
    "               'Precision': precision_score(truth.flatten(), seg.flatten()),\n",
    "               'Recall': recall_score(truth.flatten(), seg.flatten()),\n",
    "               #'Hausdorff':compute_hausdorff_distance(truth,seg,include_background=False).cpu().detach().numpy()[0,0],\n",
    "               'Hausdorff95':compute_hausdorff_distance(truth,seg,include_background=False,percentile=95).cpu().detach().numpy()[0,0],\n",
    "               'meanSurfaceDistance':compute_average_surface_distance(truth,seg,include_background=False).cpu().detach().numpy()[0,0]}\n",
    "    unetEnsemble = unetEnsemble.append(new_row,ignore_index=True)\n",
    "print(unetEnsemble)"
   ]
  },
  {
   "cell_type": "markdown",
   "id": "caa8fa15-e074-45bf-b519-d52cfb3fda3a",
   "metadata": {},
   "source": [
    "# unet Single"
   ]
  },
  {
   "cell_type": "code",
   "execution_count": 20,
   "id": "a13e9014-e099-4731-a1d0-c8b106e78bb2",
   "metadata": {},
   "outputs": [],
   "source": [
    "unetSingle = pd.DataFrame()"
   ]
  },
  {
   "cell_type": "code",
   "execution_count": 21,
   "id": "736ed0fe-464e-42e4-8527-35ca6072de6f",
   "metadata": {},
   "outputs": [
    {
     "name": "stderr",
     "output_type": "stream",
     "text": [
      "  0%|          | 0/9 [00:00<?, ?it/s]"
     ]
    },
    {
     "name": "stdout",
     "output_type": "stream",
     "text": [
      "yes\n"
     ]
    },
    {
     "name": "stderr",
     "output_type": "stream",
     "text": [
      " 11%|█         | 1/9 [01:51<14:54, 111.84s/it]"
     ]
    },
    {
     "name": "stdout",
     "output_type": "stream",
     "text": [
      "yes\n"
     ]
    },
    {
     "name": "stderr",
     "output_type": "stream",
     "text": [
      " 22%|██▏       | 2/9 [03:42<12:57, 111.06s/it]"
     ]
    },
    {
     "name": "stdout",
     "output_type": "stream",
     "text": [
      "yes\n"
     ]
    },
    {
     "name": "stderr",
     "output_type": "stream",
     "text": [
      " 33%|███▎      | 3/9 [05:34<11:08, 111.44s/it]"
     ]
    },
    {
     "name": "stdout",
     "output_type": "stream",
     "text": [
      "yes\n"
     ]
    },
    {
     "name": "stderr",
     "output_type": "stream",
     "text": [
      " 44%|████▍     | 4/9 [07:25<09:16, 111.24s/it]"
     ]
    },
    {
     "name": "stdout",
     "output_type": "stream",
     "text": [
      "yes\n"
     ]
    },
    {
     "name": "stderr",
     "output_type": "stream",
     "text": [
      " 56%|█████▌    | 5/9 [09:11<07:17, 109.43s/it]"
     ]
    },
    {
     "name": "stdout",
     "output_type": "stream",
     "text": [
      "yes\n"
     ]
    },
    {
     "name": "stderr",
     "output_type": "stream",
     "text": [
      " 67%|██████▋   | 6/9 [11:02<05:29, 109.98s/it]"
     ]
    },
    {
     "name": "stdout",
     "output_type": "stream",
     "text": [
      "yes\n"
     ]
    },
    {
     "name": "stderr",
     "output_type": "stream",
     "text": [
      " 78%|███████▊  | 7/9 [12:47<03:36, 108.39s/it]"
     ]
    },
    {
     "name": "stdout",
     "output_type": "stream",
     "text": [
      "yes\n"
     ]
    },
    {
     "name": "stderr",
     "output_type": "stream",
     "text": [
      " 89%|████████▉ | 8/9 [14:35<01:48, 108.37s/it]"
     ]
    },
    {
     "name": "stdout",
     "output_type": "stream",
     "text": [
      "yes\n"
     ]
    },
    {
     "name": "stderr",
     "output_type": "stream",
     "text": [
      "100%|██████████| 9/9 [16:22<00:00, 109.13s/it]"
     ]
    },
    {
     "name": "stdout",
     "output_type": "stream",
     "text": [
      "             Image      Dice  Precision    Recall  Hausdorff95  \\\n",
      "0   XYZres013_0001  0.778844   0.903704  0.684297     3.741657   \n",
      "1    XYZres95_0001  0.587557   0.898510  0.436496    33.526109   \n",
      "2        XYZres032  0.901414   0.864269  0.941896     2.000000   \n",
      "3        XYZres025  0.800132   0.876116  0.736276     2.449490   \n",
      "4   XYZres114_0001  0.814414   0.858140  0.774928    19.646883   \n",
      "5        XYZres008  0.844070   0.754711  0.957431     3.605551   \n",
      "6        XYZres115  0.728314   0.729271  0.727360    25.942244   \n",
      "7   XYZres204_0001  0.810156   0.731818  0.907275    15.556349   \n",
      "8   XYZres214_0001  0.828708   0.761698  0.908647     2.236068   \n",
      "\n",
      "   meanSurfaceDistance  \n",
      "0             1.110713  \n",
      "1             4.870977  \n",
      "2             0.631022  \n",
      "3             0.804696  \n",
      "4             1.625758  \n",
      "5             0.725862  \n",
      "6             4.250991  \n",
      "7             1.144086  \n",
      "8             0.602750  \n"
     ]
    },
    {
     "name": "stderr",
     "output_type": "stream",
     "text": [
      "\n"
     ]
    }
   ],
   "source": [
    "for x in tqdm(test_file[:]):\n",
    "    truth = io.imread(x)\n",
    "    truth = np.swapaxes(np.swapaxes(truth,0,1),1,3)\n",
    "    truth = Spacing(pixdim=(1.01, 1.01, 0.3787), mode=\"nearest\")(truth)[0]\n",
    "    truth[truth!=label]=0\n",
    "    truth[truth==label]=1\n",
    "    truth = np.expand_dims(truth,0)\n",
    "    if os.path.exists(re.sub('_Simple Segmentation_sub1.tiff','_mean_1x.npy',re.sub('../TBI/GT_filtered\\+raw','ilastik_preds_raw_images',x))):\n",
    "        _mean = np.load(re.sub('_Simple Segmentation_sub1.tiff','_mean_1x.npy',re.sub('../TBI/GT_filtered\\+raw','ilastik_preds_raw_images',x)))\n",
    "        print('yes')\n",
    "        #pred = np.expand_dims(pred,0)\n",
    "    seg = np.zeros(_mean.shape[1:])\n",
    "    seg[(_mean[1,:,:,:] > min_prob)] = 1\n",
    "    seg[(_mean[2,:,:,:] > min_prob)] = 2\n",
    "    seg[seg!=label]=0\n",
    "    seg[seg==label]=1\n",
    "    seg = np.expand_dims(seg,0)\n",
    "    seg = np.expand_dims(seg,0)\n",
    "    seg = seg.astype(np.float32)\n",
    "    new_row = {'Image':re.sub('_Simple Segmentation_sub1.tiff','',re.sub('../TBI/GT_filtered\\+raw/',' ',x)),\n",
    "               'Dice':2*np.sum(truth*seg) / (np.sum(truth)+np.sum(seg)),\n",
    "               'Precision': precision_score(truth.flatten(), seg.flatten()),\n",
    "               'Recall': recall_score(truth.flatten(), seg.flatten()),\n",
    "               #'Hausdorff':compute_hausdorff_distance(truth,seg,include_background=False).cpu().detach().numpy()[0,0],\n",
    "               'Hausdorff95':compute_hausdorff_distance(truth,seg,include_background=False,percentile=95).cpu().detach().numpy()[0,0],\n",
    "               'meanSurfaceDistance':compute_average_surface_distance(truth,seg,include_background=False).cpu().detach().numpy()[0,0]}\n",
    "    unetSingle = unetSingle.append(new_row,ignore_index=True)\n",
    "print(unetSingle)"
   ]
  },
  {
   "cell_type": "markdown",
   "id": "398b0650-6e12-4f90-b940-179e5ac018e6",
   "metadata": {},
   "source": [
    "# Ilastik"
   ]
  },
  {
   "cell_type": "code",
   "execution_count": 25,
   "id": "945ed5fe-77b7-4117-90a8-7f5202971d91",
   "metadata": {},
   "outputs": [],
   "source": [
    "ilastik = pd.DataFrame()"
   ]
  },
  {
   "cell_type": "code",
   "execution_count": 26,
   "id": "a578b64d-6c00-4b04-9e61-81ae5da13639",
   "metadata": {},
   "outputs": [
    {
     "name": "stderr",
     "output_type": "stream",
     "text": [
      "100%|██████████| 9/9 [15:44<00:00, 104.95s/it]"
     ]
    },
    {
     "name": "stdout",
     "output_type": "stream",
     "text": [
      "             Image      Dice  Precision    Recall  Hausdorff95  \\\n",
      "0   XYZres013_0001  0.775189   0.672537  0.914822     3.162278   \n",
      "1    XYZres95_0001  0.578557   0.542236  0.620093    38.118237   \n",
      "2        XYZres032  0.339393   0.204729  0.991707    50.457903   \n",
      "3        XYZres025  0.773638   0.654568  0.945659     3.000000   \n",
      "4   XYZres114_0001  0.279218   0.162792  0.980347    46.400431   \n",
      "5        XYZres008  0.429188   0.274612  0.981869    70.724819   \n",
      "6        XYZres115  0.561378   0.480484  0.675025    25.787594   \n",
      "7   XYZres204_0001  0.267876   0.155582  0.962758    52.430907   \n",
      "8   XYZres214_0001  0.380767   0.766170  0.253334    78.915461   \n",
      "\n",
      "   meanSurfaceDistance  \n",
      "0             0.802238  \n",
      "1             6.467795  \n",
      "2             0.862269  \n",
      "3             0.624250  \n",
      "4             1.540907  \n",
      "5             0.629770  \n",
      "6             4.613277  \n",
      "7             1.335430  \n",
      "8            23.170078  \n"
     ]
    },
    {
     "name": "stderr",
     "output_type": "stream",
     "text": [
      "\n"
     ]
    }
   ],
   "source": [
    "for x in tqdm(test_file):\n",
    "    truth = io.imread(x)\n",
    "    truth = np.swapaxes(np.swapaxes(truth,0,1),1,3)\n",
    "    truth = Spacing(pixdim=(1.01, 1.01, 0.3787), mode=\"nearest\")(truth)[0]\n",
    "    truth[truth!=label]=0\n",
    "    truth[truth==label]=1\n",
    "    truth = np.expand_dims(truth,0)\n",
    "    if os.path.exists(re.sub('_Simple Segmentation_sub1.tiff','_Simple Segmentation.h5',re.sub('../TBI/GT_filtered\\+raw','ilastik_preds_raw_images',x))):\n",
    "        hf = h5py.File(re.sub('_Simple Segmentation_sub1.tiff','_Simple Segmentation.h5',re.sub('../TBI/GT_filtered\\+raw','ilastik_preds_raw_images',x)),'r')\n",
    "        seg = np.array(hf.get('exported_data')) - 1\n",
    "        if len(seg.shape) != 5:\n",
    "            seg = np.expand_dims(seg,4)\n",
    "            seg = np.swapaxes(seg,0,4)\n",
    "        else:\n",
    "            seg = np.swapaxes(seg,1,4)\n",
    "        seg = sp.ndimage.zoom(seg,(1,1,507/512,507/512,252/96),order=0)\n",
    "        seg = np.swapaxes(seg,2,3)\n",
    "    else:\n",
    "        print(x)\n",
    "    seg[seg!=label]=0\n",
    "    seg[seg==label]=1\n",
    "    seg = seg.astype(np.float32)\n",
    "    new_row = {'Image':re.sub('_Simple Segmentation_sub1.tiff','',re.sub('../TBI/GT_filtered\\+raw/',' ',x)),\n",
    "               'Dice':2*np.sum(truth*seg) / (np.sum(truth)+np.sum(seg)),\n",
    "               'Precision': precision_score(truth.flatten(), seg.flatten()),\n",
    "               'Recall': recall_score(truth.flatten(), seg.flatten()),\n",
    "               #'Hausdorff':compute_hausdorff_distance(truth,seg,include_background=False).cpu().detach().numpy()[0,0],\n",
    "               'Hausdorff95':compute_hausdorff_distance(truth,seg,include_background=False,percentile=95).cpu().detach().numpy()[0,0],\n",
    "               'meanSurfaceDistance':compute_average_surface_distance(truth,seg,include_background=False).cpu().detach().numpy()[0,0]}\n",
    "    ilastik = ilastik.append(new_row,ignore_index=True)\n",
    "print(ilastik)"
   ]
  },
  {
   "cell_type": "markdown",
   "id": "15e4a2b8-a98a-463f-88fe-8121797ece60",
   "metadata": {},
   "source": [
    "# Make Plot"
   ]
  },
  {
   "cell_type": "code",
   "execution_count": 32,
   "id": "0f6e3b6d-7d6f-4dc4-b544-4fbc0db478f5",
   "metadata": {},
   "outputs": [
    {
     "name": "stderr",
     "output_type": "stream",
     "text": [
      "/lustre06/project/6023374/rozakmat/monai3.8/lib/python3.8/site-packages/scipy/stats/_morestats.py:3337: UserWarning: Exact p-value calculation does not work if there are zeros. Switching to normal approximation.\n",
      "  warnings.warn(\"Exact p-value calculation does not work if there are \"\n",
      "/lustre06/project/6023374/rozakmat/monai3.8/lib/python3.8/site-packages/scipy/stats/_morestats.py:3351: UserWarning: Sample size too small for normal approximation.\n",
      "  warnings.warn(\"Sample size too small for normal approximation.\")\n"
     ]
    },
    {
     "data": {
      "image/png": "[encoded data removed]",
      "text/plain": [
       "<Figure size 1440x360 with 5 Axes>"
      ]
     },
     "metadata": {
      "needs_background": "light"
     },
     "output_type": "display_data"
    }
   ],
   "source": [
    "fig,axs = plt.subplots(1,5,figsize=(20,5))\n",
    "data_frames = [unetrEnsemble, unetEnsemble, ilastik]\n",
    "labels = ['UNETR\\nEnsemble', 'Unet\\nEnsemble', 'ilastik']\n",
    "res = [(a, b) for idx, a in enumerate(labels) for b in labels[idx + 1:]]\n",
    "\n",
    "data = [np.mean(x['Dice']) for x in data_frames]\n",
    "data_sd = [np.std(x['Dice']) for x in data_frames]\n",
    "#data_sd = np.array([np.zeros(len(data_sd)),data_sd])\n",
    "axs[0].bar(labels,data,yerr=data_sd,color='#DB4325',zorder=2,error_kw=dict(capsize = 10, capthick=1,zorder=1))\n",
    "axs[0].set_title('Dice Score', fontsize=16)\n",
    "df_dice = pd.DataFrame(columns = labels)\n",
    "top = 0\n",
    "for i, df in enumerate(data_frames):\n",
    "    y = df['Dice']\n",
    "    if np.max(y) > top:\n",
    "        top=np.max(y)\n",
    "    x = np.random.normal(i, 0.13, size=len(y))\n",
    "    df_dice[labels[i]] = y\n",
    "    axs[0].plot(x, y, '.', alpha=0.4,color='black', markersize=15)\n",
    "pvals_dice = []\n",
    "for i,j in res:\n",
    "    pvals_dice.append(stats.wilcoxon(df_dice[i], df_dice[j],alternative='two-sided',method='exact').pvalue)\n",
    "#print(pvals_dice)\n",
    "#pvals_dice = multipletests(pvals_dice, method = 'hs')[1]\n",
    "#print(pvals_dice)\n",
    "res_dice_signif_comb = []\n",
    "res_dice_signif = []\n",
    "for idx, val in enumerate(pvals_dice):\n",
    "    if val < 0.05:\n",
    "        res_dice_signif_comb.append(res[idx])\n",
    "        res_dice_signif.append(val)\n",
    "y_range=0.5\n",
    "res_dice_signif_comb = [x for x in res_dice_signif_comb if  'UNETR\\nSingle' not in x]\n",
    "res_dice_signif_comb = [x for x in res_dice_signif_comb if  'Unet\\nSingle' not in x]\n",
    "for i, sig_comb in enumerate(res_dice_signif_comb):\n",
    "    # Columns corresponding to the datasets of interest\n",
    "    x1 = np.where(np.array(labels)==sig_comb[0])[0][0]\n",
    "    x2 = np.where(np.array(labels)==sig_comb[1])[0][0]\n",
    "    # What level is this bar among the bars above the plot?\n",
    "    level = len(res_dice_signif_comb) - i\n",
    "    # Plot the bar\n",
    "    bar_height = (y_range * 0.15 * level) + top + 0.01\n",
    "    bar_tips = bar_height - (y_range * 0.02)\n",
    "    axs[0].plot(\n",
    "        [x1, x1, x2, x2],\n",
    "        [bar_tips, bar_height, bar_height, bar_tips], lw=1, c='k'\n",
    "    )\n",
    "    # Significance level\n",
    "    p = res_dice_signif[i]\n",
    "    if p < 0.001:\n",
    "        sig_symbol = '***'\n",
    "    elif p < 0.01:\n",
    "        sig_symbol = '**'\n",
    "    elif p < 0.05:\n",
    "        sig_symbol = '*'\n",
    "    text_height = bar_height - (1.2 * 0.01)\n",
    "    axs[0].text((x1 + x2) * 0.5, text_height, sig_symbol, ha='center', va='bottom', c='k')\n",
    "axs[0].set_ylim(0,1.3)\n",
    "    \n",
    "data = [np.mean(x['Precision']) for x in data_frames]\n",
    "data_sd = [np.std(x['Precision']) for x in data_frames]\n",
    "axs[1].bar(labels,data,yerr=data_sd,color='#DB4325',zorder=2,error_kw=dict(capsize = 10, capthick=1,zorder=1))\n",
    "axs[1].set_title('Precision', fontsize=16)\n",
    "df_precision = pd.DataFrame(columns = labels)\n",
    "top = 0\n",
    "for i, df in enumerate(data_frames):\n",
    "    y = df['Precision']\n",
    "    if np.max(y) > top:\n",
    "        top=np.max(y)\n",
    "    x = np.random.normal(i, 0.15, size=len(y))\n",
    "    df_precision[labels[i]] = y\n",
    "    axs[1].plot(x, y, '.', alpha=0.4,color='black', markersize=15)\n",
    "pvals_precision = []\n",
    "for i,j in res:\n",
    "    pvals_precision.append(stats.wilcoxon(df_precision[i], df_precision[j],alternative='two-sided',method='exact').pvalue)\n",
    "#pvals_precision = multipletests(pvals_precision, method = 'bonferroni')[1]\n",
    "res_precision_signif_comb = []\n",
    "res_precision_signif = []\n",
    "for idx, val in enumerate(pvals_precision):\n",
    "    if val < 0.05:\n",
    "        res_precision_signif_comb.append(res[idx])\n",
    "        res_precision_signif.append(val)\n",
    "y_range=0.5\n",
    "res_precision_signif_comb = [x for x in res_precision_signif_comb if  'UNETR\\nSingle' not in x]\n",
    "res_precision_signif_comb = [x for x in res_precision_signif_comb if  'Unet\\nSingle' not in x]\n",
    "for i, sig_comb in enumerate(res_precision_signif_comb):\n",
    "    # Columns corresponding to the datasets of interest\n",
    "    x1 = np.where(np.array(labels)==sig_comb[0])[0][0]\n",
    "    x2 = np.where(np.array(labels)==sig_comb[1])[0][0]   \n",
    "    # What level is this bar among the bars above the plot?\n",
    "    level = len(res_precision_signif_comb) - i\n",
    "    # Plot the bar\n",
    "    bar_height = (y_range * 0.15 * level) + top\n",
    "    bar_tips = bar_height - (y_range * 0.02)\n",
    "    axs[1].plot(\n",
    "        [x1, x1, x2, x2],\n",
    "        [bar_tips, bar_height, bar_height, bar_tips], lw=1, c='k'\n",
    "    )\n",
    "    # Significance level\n",
    "    p = res_precision_signif[i]\n",
    "    if p < 0.001:\n",
    "        sig_symbol = '***'\n",
    "    elif p < 0.01:\n",
    "        sig_symbol = '**'\n",
    "    elif p < 0.05:\n",
    "        sig_symbol = '*'\n",
    "    text_height = bar_height - (1.4 * 0.01)\n",
    "    axs[1].text((x1 + x2) * 0.5, text_height, sig_symbol, ha='center', va='bottom', c='k')\n",
    "axs[1].set_ylim(0,1.3)\n",
    "\n",
    "data = [np.mean(x['Recall']) for x in data_frames]\n",
    "data_sd = [np.std(x['Recall']) for x in data_frames]\n",
    "axs[2].bar(labels,data,yerr=data_sd,color='#DB4325',zorder=2,error_kw=dict(capsize = 10, capthick=1,zorder=1))\n",
    "axs[2].set_title('Recall', fontsize=16)\n",
    "df_recall = pd.DataFrame(columns = labels)\n",
    "top = 0\n",
    "for i, df in enumerate(data_frames):\n",
    "    y = df['Recall']\n",
    "    if np.max(y) > top:\n",
    "        top=np.max(y)\n",
    "    x = np.random.normal(i, 0.13, size=len(y))\n",
    "    df_recall[labels[i]] = y\n",
    "    axs[2].plot(x, y, '.', alpha=0.4,color='black', markersize=15)\n",
    "pvals_recall = []\n",
    "for i,j in res:\n",
    "    pvals_recall.append(stats.wilcoxon(df_recall[i], df_recall[j],alternative='two-sided',method='exact').pvalue)\n",
    "#pvals_recall = multipletests(pvals_recall, method = 'bonferroni')[1]\n",
    "res_recall_signif_comb = []\n",
    "res_recall_signif = []\n",
    "for idx, val in enumerate(pvals_recall):\n",
    "    if val < 0.05:\n",
    "        res_recall_signif_comb.append(res[idx])\n",
    "        res_recall_signif.append(val)\n",
    "y_range=0.5\n",
    "res_recall_signif_comb = [x for x in res_recall_signif_comb if  'UNETR\\nSingle' not in x]\n",
    "res_recall_signif_comb = [x for x in res_recall_signif_comb if  'Unet\\nSingle' not in x]\n",
    "for i, sig_comb in enumerate(res_recall_signif_comb):\n",
    "    # Columns corresponding to the datasets of interest\n",
    "    x1 = np.where(np.array(labels)==sig_comb[0])[0][0]\n",
    "    x2 = np.where(np.array(labels)==sig_comb[1])[0][0]   \n",
    "    # What level is this bar among the bars above the plot?\n",
    "    level = len(res_recall_signif_comb) - i\n",
    "    # Plot the bar\n",
    "    bar_height = (y_range * 0.12 * level) + top\n",
    "    bar_tips = bar_height - (y_range * 0.02)\n",
    "    axs[2].plot(\n",
    "        [x1, x1, x2, x2],\n",
    "        [bar_tips, bar_height, bar_height, bar_tips], lw=1, c='k'\n",
    "    )\n",
    "    # Significance level\n",
    "    p = res_recall_signif[i]\n",
    "    if p < 0.001:\n",
    "        sig_symbol = '***'\n",
    "    elif p < 0.01:\n",
    "        sig_symbol = '**'\n",
    "    elif p < 0.05:\n",
    "        sig_symbol = '*'\n",
    "    text_height = bar_height - (1.2 * 0.01)\n",
    "    axs[2].text((x1 + x2) * 0.5, text_height, sig_symbol, ha='center', va='bottom', c='k')\n",
    "axs[2].set_ylim(0,1.3)\n",
    "\n",
    "    \n",
    "data = [np.mean(x['meanSurfaceDistance']) for x in data_frames]\n",
    "data_sd = [np.std(x['meanSurfaceDistance']) for x in data_frames]\n",
    "axs[3].bar(labels,data,yerr=data_sd,color='#DB4325',zorder=2,error_kw=dict(capsize = 10, capthick=1,zorder=1))\n",
    "axs[3].set_title('Mean Surface Distance', fontsize=16)\n",
    "df_msd = pd.DataFrame(columns = labels)\n",
    "top = 0\n",
    "for i, df in enumerate(data_frames):\n",
    "    y = df['meanSurfaceDistance']\n",
    "    if np.max(y) > top:\n",
    "        top=np.max(y)\n",
    "    x = np.random.normal(i, 0.13, size=len(y))\n",
    "    df_msd[labels[i]] = y\n",
    "    axs[3].plot(x, y, '.', alpha=0.4,color='black', markersize=15)\n",
    "pvals_msd = []\n",
    "for i,j in res:\n",
    "    pvals_msd.append(stats.wilcoxon(df_msd[i], df_msd[j],alternative='two-sided',method='exact').pvalue)\n",
    "#pvals_msd = multipletests(pvals_msd, method = 'bonferroni')[1]\n",
    "res_msd_signif_comb = []\n",
    "res_msd_signif = []\n",
    "for idx, val in enumerate(pvals_msd):\n",
    "    if val < 0.05:\n",
    "        res_msd_signif_comb.append(res[idx])\n",
    "        res_msd_signif.append(val)\n",
    "y_range=0.5\n",
    "res_msd_signif_comb = [x for x in res_msd_signif_comb if  'UNETR\\nSingle' not in x]\n",
    "res_msd_signif_comb = [x for x in res_msd_signif_comb if  'Unet\\nSingle' not in x]\n",
    "for i, sig_comb in enumerate(res_msd_signif_comb):\n",
    "    # Columns corresponding to the datasets of interest\n",
    "    x1 = np.where(np.array(labels)==sig_comb[0])[0][0]\n",
    "    x2 = np.where(np.array(labels)==sig_comb[1])[0][0]   \n",
    "    # What level is this bar among the bars above the plot?\n",
    "    level = len(res_msd_signif_comb) - i\n",
    "    # Plot the bar\n",
    "    bar_height = (y_range * 0.12 * level) + top\n",
    "    bar_tips = bar_height - (y_range * 0.02)\n",
    "    axs[3].plot(\n",
    "        [x1, x1, x2, x2],\n",
    "        [bar_tips, bar_height, bar_height, bar_tips], lw=1, c='k'\n",
    "    )\n",
    "    # Significance level\n",
    "    p = res_msd_signif[i]\n",
    "    if p < 0.001:\n",
    "        sig_symbol = '***'\n",
    "    elif p < 0.01:\n",
    "        sig_symbol = '**'\n",
    "    elif p < 0.05:\n",
    "        sig_symbol = '*'\n",
    "    text_height = bar_height - (8 * 0.01)\n",
    "    axs[3].text((x1 + x2) * 0.5, text_height, sig_symbol, ha='center', va='bottom', c='k')\n",
    "axs[3].set_ylim(0,14)\n",
    "\n",
    "\n",
    "#data = [np.mean(x['Hausdorff']) for x in data_frames]\n",
    "#data_sd = [np.std(x['Hausdorff']) for x in data_frames]\n",
    "#axs[1,0].bar(labels,data,yerr=data_sd)\n",
    "#axs[1,0].set_title('Hausdorff Distance')\n",
    "#for i, df in enumerate(data_frames):\n",
    "#    y = df['Hausdorff']\n",
    "#    x = np.random.normal(i, 0.13, size=len(y))\n",
    "#    axs[1,0].plot(x, y, '.', alpha=0.4,color='black', markersize=15)\n",
    "#axs[1,0].set_ylim(0,200)\n",
    "\n",
    "data = [np.mean(x['Hausdorff95']) for x in data_frames]\n",
    "data_sd = [np.std(x['Hausdorff95']) for x in data_frames]\n",
    "axs[4].bar(labels,data,yerr=data_sd,color='#DB4325',zorder=2,error_kw=dict(capsize = 10, capthick=1,zorder=1))\n",
    "axs[4].set_title('Hausdorff 95 Distance', fontsize=16)\n",
    "df_hd = pd.DataFrame(columns = labels)\n",
    "top = 0\n",
    "for i, df in enumerate(data_frames):\n",
    "    y = df['Hausdorff95']\n",
    "    if np.max(y) > top:\n",
    "        top=np.max(y)\n",
    "    x = np.random.normal(i, 0.13, size=len(y))\n",
    "    df_hd[labels[i]] = y\n",
    "    axs[4].plot(x, y, '.', alpha=0.4,color='black', markersize=15)\n",
    "pvals_hd = []\n",
    "for i,j in res:\n",
    "    pvals_hd.append(stats.wilcoxon(df_hd[i], df_hd[j],alternative='two-sided',method='exact').pvalue)\n",
    "#pvals_hd = multipletests(pvals_hd, method = 'bonferroni')[1]\n",
    "res_hd_signif_comb = []\n",
    "res_hd_signif = []\n",
    "for idx, val in enumerate(pvals_hd):\n",
    "    if val < 0.05:\n",
    "        res_hd_signif_comb.append(res[idx])\n",
    "        res_hd_signif.append(val)\n",
    "y_range=0.5\n",
    "res_hd_signif_comb = [x for x in res_hd_signif_comb if  'UNETR\\nSingle' not in x]\n",
    "res_hd_signif_comb = [x for x in res_hd_signif_comb if  'Unet\\nSingle' not in x]\n",
    "for i, sig_comb in enumerate(res_hd_signif_comb):\n",
    "    # Columns corresponding to the datasets of interest\n",
    "    x1 = np.where(np.array(labels)==sig_comb[0])[0][0]\n",
    "    x2 = np.where(np.array(labels)==sig_comb[1])[0][0]   \n",
    "    # What level is this bar among the bars above the plot?\n",
    "    level = len(res_hd_signif_comb) - i\n",
    "    # Plot the bar\n",
    "    bar_height = (y_range * 0.12 * 100 * level) + top + 3\n",
    "    bar_tips = bar_height - (y_range * 0.02*100)\n",
    "    axs[4].plot(\n",
    "        [x1, x1, x2, x2],\n",
    "        [bar_tips, bar_height, bar_height, bar_tips], lw=1, c='k'\n",
    "    )\n",
    "    # Significance level\n",
    "    p = res_hd_signif[i]\n",
    "    if p < 0.001:\n",
    "        sig_symbol = '***'\n",
    "    elif p < 0.01:\n",
    "        sig_symbol = '**'\n",
    "    elif p < 0.05:\n",
    "        sig_symbol = '*'\n",
    "    text_height = bar_height - (120 * 0.01)\n",
    "    axs[4].text((x1 + x2) * 0.5, text_height, sig_symbol, ha='center', va='bottom', c='k')\n",
    "axs[4].set_ylim(0,135)\n",
    "for i in range(5):\n",
    "    axs[i].tick_params(axis='x', labelsize=15)\n",
    "    axs[i].tick_params(axis='y', labelsize=15)\n",
    "\n",
    "fig.suptitle('Vessels',fontsize=22)\n",
    "fig.tight_layout()\n",
    "fig.savefig('model_eval_vessels.png')"
   ]
  },
  {
   "cell_type": "code",
   "execution_count": 18,
   "id": "4a1fea75-c868-4902-8b71-2fbc7ca3694a",
   "metadata": {},
   "outputs": [
    {
     "name": "stdout",
     "output_type": "stream",
     "text": [
      "Dice                    0.763067\n",
      "Precision               0.810597\n",
      "Recall                  0.749663\n",
      "Hausdorff95            13.566886\n",
      "meanSurfaceDistance     1.900258\n",
      "dtype: float64\n",
      "Dice                    0.096480\n",
      "Precision               0.089459\n",
      "Recall                  0.172148\n",
      "Hausdorff95            12.131861\n",
      "meanSurfaceDistance     1.544835\n",
      "dtype: float64\n",
      "Dice                    0.790461\n",
      "Precision               0.812733\n",
      "Recall                  0.796693\n",
      "Hausdorff95            12.115827\n",
      "meanSurfaceDistance     1.737011\n",
      "dtype: float64\n",
      "Dice                    0.087669\n",
      "Precision               0.076224\n",
      "Recall                  0.164648\n",
      "Hausdorff95            12.143726\n",
      "meanSurfaceDistance     1.622192\n",
      "dtype: float64\n",
      "Dice                    0.449273\n",
      "Precision               0.376803\n",
      "Recall                  0.892950\n",
      "Hausdorff95            38.921016\n",
      "meanSurfaceDistance     1.674862\n",
      "dtype: float64\n",
      "Dice                    0.374646\n",
      "Precision               0.346835\n",
      "Recall                  0.198366\n",
      "Hausdorff95            35.706076\n",
      "meanSurfaceDistance     1.354563\n",
      "dtype: float64\n"
     ]
    },
    {
     "name": "stderr",
     "output_type": "stream",
     "text": [
      "/tmp/ipykernel_3927521/601560446.py:3: FutureWarning: Dropping of nuisance columns in DataFrame reductions (with 'numeric_only=None') is deprecated; in a future version this will raise TypeError.  Select only valid columns before calling the reduction.\n",
      "  print(data_frame.mean())\n",
      "/tmp/ipykernel_3927521/601560446.py:4: FutureWarning: Dropping of nuisance columns in DataFrame reductions (with 'numeric_only=None') is deprecated; in a future version this will raise TypeError.  Select only valid columns before calling the reduction.\n",
      "  print(data_frame.std())\n"
     ]
    }
   ],
   "source": [
    "data_frames = [unetrEnsemble, unetEnsemble, ilastik]\n",
    "for data_frame in data_frames:\n",
    "    print(data_frame.mean())\n",
    "    print(data_frame.std())"
   ]
  },
  {
   "cell_type": "code",
   "execution_count": 27,
   "id": "c4b7b73f-ddf8-45a4-8e05-809629fa0280",
   "metadata": {},
   "outputs": [
    {
     "name": "stdout",
     "output_type": "stream",
     "text": [
      "Dice                    0.711937\n",
      "Precision               0.628137\n",
      "Recall                  0.841482\n",
      "Hausdorff95            23.654228\n",
      "meanSurfaceDistance     1.248422\n",
      "dtype: float64\n",
      "Dice                    0.062230\n",
      "Precision               0.110553\n",
      "Recall                  0.053174\n",
      "Hausdorff95            19.298793\n",
      "meanSurfaceDistance     0.569302\n",
      "dtype: float64\n",
      "Dice                    0.765639\n",
      "Precision               0.697952\n",
      "Recall                  0.860125\n",
      "Hausdorff95            20.340159\n",
      "meanSurfaceDistance     2.409479\n",
      "dtype: float64\n",
      "Dice                    0.043767\n",
      "Precision               0.091108\n",
      "Recall                  0.060709\n",
      "Hausdorff95            22.670194\n",
      "meanSurfaceDistance     3.900826\n",
      "dtype: float64\n",
      "Dice                    0.487245\n",
      "Precision               0.434857\n",
      "Recall                  0.813957\n",
      "Hausdorff95            40.999737\n",
      "meanSurfaceDistance     4.449557\n",
      "dtype: float64\n",
      "Dice                    0.195810\n",
      "Precision               0.239478\n",
      "Recall                  0.252071\n",
      "Hausdorff95            26.659530\n",
      "meanSurfaceDistance     7.315321\n",
      "dtype: float64\n"
     ]
    },
    {
     "name": "stderr",
     "output_type": "stream",
     "text": [
      "/tmp/ipykernel_3927521/601560446.py:3: FutureWarning: Dropping of nuisance columns in DataFrame reductions (with 'numeric_only=None') is deprecated; in a future version this will raise TypeError.  Select only valid columns before calling the reduction.\n",
      "  print(data_frame.mean())\n",
      "/tmp/ipykernel_3927521/601560446.py:4: FutureWarning: Dropping of nuisance columns in DataFrame reductions (with 'numeric_only=None') is deprecated; in a future version this will raise TypeError.  Select only valid columns before calling the reduction.\n",
      "  print(data_frame.std())\n"
     ]
    }
   ],
   "source": [
    "data_frames = [unetrEnsemble, unetEnsemble, ilastik]\n",
    "for data_frame in data_frames:\n",
    "    print(data_frame.mean())\n",
    "    print(data_frame.std())"
   ]
  },
  {
   "cell_type": "code",
   "execution_count": 40,
   "id": "362b1b7f-d001-4a6b-9df7-543c7e5f4ca0",
   "metadata": {},
   "outputs": [
    {
     "data": {
      "text/plain": [
       "[('UNETR\\nEnsemble', 'Unet\\nEnsemble'),\n",
       " ('UNETR\\nEnsemble', 'ilastik'),\n",
       " ('Unet\\nEnsemble', 'ilastik')]"
      ]
     },
     "execution_count": 40,
     "metadata": {},
     "output_type": "execute_result"
    }
   ],
   "source": [
    "res"
   ]
  },
  {
   "cell_type": "code",
   "execution_count": 52,
   "id": "6c23f1de-5945-424e-8111-707f8f07068a",
   "metadata": {},
   "outputs": [
    {
     "name": "stdout",
     "output_type": "stream",
     "text": [
      "Dice                    0.763067\n",
      "Precision               0.810597\n",
      "Recall                  0.749663\n",
      "Hausdorff95            13.566886\n",
      "meanSurfaceDistance     1.900258\n",
      "dtype: float64\n",
      "Dice                    0.090962\n",
      "Precision               0.084343\n",
      "Recall                  0.162302\n",
      "Hausdorff95            11.438028\n",
      "meanSurfaceDistance     1.456484\n",
      "dtype: float64\n",
      "Dice                    0.790461\n",
      "Precision               0.812733\n",
      "Recall                  0.796693\n",
      "Hausdorff95            12.115827\n",
      "meanSurfaceDistance     1.737011\n",
      "dtype: float64\n",
      "Dice                    0.082655\n",
      "Precision               0.071865\n",
      "Recall                  0.155232\n",
      "Hausdorff95            11.449215\n",
      "meanSurfaceDistance     1.529417\n",
      "dtype: float64\n",
      "Dice                    0.449273\n",
      "Precision               0.376803\n",
      "Recall                  0.892950\n",
      "Hausdorff95            38.921016\n",
      "meanSurfaceDistance     1.674862\n",
      "dtype: float64\n",
      "Dice                    0.353220\n",
      "Precision               0.326999\n",
      "Recall                  0.187021\n",
      "Hausdorff95            33.664011\n",
      "meanSurfaceDistance     1.277094\n",
      "dtype: float64\n"
     ]
    },
    {
     "name": "stderr",
     "output_type": "stream",
     "text": [
      "/lustre06/project/6023374/rozakmat/monai3.8/lib/python3.8/site-packages/numpy/core/fromnumeric.py:3430: FutureWarning: Dropping of nuisance columns in DataFrame reductions (with 'numeric_only=None') is deprecated; in a future version this will raise TypeError.  Select only valid columns before calling the reduction.\n",
      "  return mean(axis=axis, dtype=dtype, out=out, **kwargs)\n",
      "/lustre06/project/6023374/rozakmat/monai3.8/lib/python3.8/site-packages/numpy/core/fromnumeric.py:3571: FutureWarning: Dropping of nuisance columns in DataFrame reductions (with 'numeric_only=None') is deprecated; in a future version this will raise TypeError.  Select only valid columns before calling the reduction.\n",
      "  return std(axis=axis, dtype=dtype, out=out, ddof=ddof, **kwargs)\n"
     ]
    }
   ],
   "source": [
    "print(np.mean(data_frames[0]))\n",
    "print(np.std(data_frames[0]))\n",
    "print(np.mean(data_frames[1]))\n",
    "print(np.std(data_frames[1]))\n",
    "print(np.mean(data_frames[2]))\n",
    "print(np.std(data_frames[2]))"
   ]
  },
  {
   "cell_type": "code",
   "execution_count": 55,
   "id": "311a29d4-f739-4778-8a5f-01af501409a2",
   "metadata": {},
   "outputs": [
    {
     "data": {
      "text/html": [
       "<div>\n",
       "<style scoped>\n",
       "    .dataframe tbody tr th:only-of-type {\n",
       "        vertical-align: middle;\n",
       "    }\n",
       "\n",
       "    .dataframe tbody tr th {\n",
       "        vertical-align: top;\n",
       "    }\n",
       "\n",
       "    .dataframe thead th {\n",
       "        text-align: right;\n",
       "    }\n",
       "</style>\n",
       "<table border=\"1\" class=\"dataframe\">\n",
       "  <thead>\n",
       "    <tr style=\"text-align: right;\">\n",
       "      <th></th>\n",
       "      <th>Image</th>\n",
       "      <th>Dice</th>\n",
       "      <th>Precision</th>\n",
       "      <th>Recall</th>\n",
       "      <th>Hausdorff95</th>\n",
       "      <th>meanSurfaceDistance</th>\n",
       "    </tr>\n",
       "  </thead>\n",
       "  <tbody>\n",
       "    <tr>\n",
       "      <th>0</th>\n",
       "      <td>XYZres013_0001</td>\n",
       "      <td>0.789158</td>\n",
       "      <td>0.899734</td>\n",
       "      <td>0.702787</td>\n",
       "      <td>3.316625</td>\n",
       "      <td>1.045425</td>\n",
       "    </tr>\n",
       "    <tr>\n",
       "      <th>1</th>\n",
       "      <td>XYZres95_0001</td>\n",
       "      <td>0.590400</td>\n",
       "      <td>0.892749</td>\n",
       "      <td>0.441034</td>\n",
       "      <td>33.541020</td>\n",
       "      <td>4.770031</td>\n",
       "    </tr>\n",
       "    <tr>\n",
       "      <th>2</th>\n",
       "      <td>XYZres032</td>\n",
       "      <td>0.900587</td>\n",
       "      <td>0.857947</td>\n",
       "      <td>0.947689</td>\n",
       "      <td>2.000000</td>\n",
       "      <td>0.632745</td>\n",
       "    </tr>\n",
       "    <tr>\n",
       "      <th>3</th>\n",
       "      <td>XYZres025</td>\n",
       "      <td>0.807703</td>\n",
       "      <td>0.870910</td>\n",
       "      <td>0.753049</td>\n",
       "      <td>2.236068</td>\n",
       "      <td>0.765610</td>\n",
       "    </tr>\n",
       "    <tr>\n",
       "      <th>4</th>\n",
       "      <td>XYZres114_0001</td>\n",
       "      <td>0.818571</td>\n",
       "      <td>0.851970</td>\n",
       "      <td>0.787691</td>\n",
       "      <td>20.047442</td>\n",
       "      <td>1.603041</td>\n",
       "    </tr>\n",
       "    <tr>\n",
       "      <th>5</th>\n",
       "      <td>XYZres008</td>\n",
       "      <td>0.838657</td>\n",
       "      <td>0.743491</td>\n",
       "      <td>0.961763</td>\n",
       "      <td>4.000000</td>\n",
       "      <td>0.752342</td>\n",
       "    </tr>\n",
       "    <tr>\n",
       "      <th>6</th>\n",
       "      <td>XYZres115</td>\n",
       "      <td>0.728616</td>\n",
       "      <td>0.708959</td>\n",
       "      <td>0.749393</td>\n",
       "      <td>26.248809</td>\n",
       "      <td>4.303545</td>\n",
       "    </tr>\n",
       "    <tr>\n",
       "      <th>7</th>\n",
       "      <td>XYZres204_0001</td>\n",
       "      <td>0.807481</td>\n",
       "      <td>0.726471</td>\n",
       "      <td>0.908827</td>\n",
       "      <td>15.652476</td>\n",
       "      <td>1.170527</td>\n",
       "    </tr>\n",
       "    <tr>\n",
       "      <th>8</th>\n",
       "      <td>XYZres214_0001</td>\n",
       "      <td>0.832978</td>\n",
       "      <td>0.762370</td>\n",
       "      <td>0.918000</td>\n",
       "      <td>2.000000</td>\n",
       "      <td>0.589837</td>\n",
       "    </tr>\n",
       "  </tbody>\n",
       "</table>\n",
       "</div>"
      ],
      "text/plain": [
       "             Image      Dice  Precision    Recall  Hausdorff95  \\\n",
       "0   XYZres013_0001  0.789158   0.899734  0.702787     3.316625   \n",
       "1    XYZres95_0001  0.590400   0.892749  0.441034    33.541020   \n",
       "2        XYZres032  0.900587   0.857947  0.947689     2.000000   \n",
       "3        XYZres025  0.807703   0.870910  0.753049     2.236068   \n",
       "4   XYZres114_0001  0.818571   0.851970  0.787691    20.047442   \n",
       "5        XYZres008  0.838657   0.743491  0.961763     4.000000   \n",
       "6        XYZres115  0.728616   0.708959  0.749393    26.248809   \n",
       "7   XYZres204_0001  0.807481   0.726471  0.908827    15.652476   \n",
       "8   XYZres214_0001  0.832978   0.762370  0.918000     2.000000   \n",
       "\n",
       "   meanSurfaceDistance  \n",
       "0             1.045425  \n",
       "1             4.770031  \n",
       "2             0.632745  \n",
       "3             0.765610  \n",
       "4             1.603041  \n",
       "5             0.752342  \n",
       "6             4.303545  \n",
       "7             1.170527  \n",
       "8             0.589837  "
      ]
     },
     "execution_count": 55,
     "metadata": {},
     "output_type": "execute_result"
    }
   ],
   "source": []
  },
  {
   "cell_type": "code",
   "execution_count": 62,
   "id": "55bb2650-a685-41f9-88a8-d58774211e8b",
   "metadata": {},
   "outputs": [
    {
     "data": {
      "image/png": "[encoded data removed]",
      "text/plain": [
       "<Figure size 1440x360 with 5 Axes>"
      ]
     },
     "metadata": {
      "needs_background": "light"
     },
     "output_type": "display_data"
    }
   ],
   "source": [
    "fig,axs = plt.subplots(1,5,figsize=(20,5))\n",
    "data_frames = [unetrEnsemble, unetEnsemble, ilastik]\n",
    "labels = ['UNETR\\nEnsemble', 'Unet\\nEnsemble', 'ilastik']\n",
    "res = [(a, b) for idx, a in enumerate(labels) for b in labels[idx + 1:]]\n",
    "\n",
    "data = [np.mean(x['Dice']) for x in data_frames]\n",
    "data_sd = [np.std(x['Dice']) for x in data_frames]\n",
    "#data_sd = np.array([np.zeros(len(data_sd)),data_sd])\n",
    "axs[0].bar(labels,data,yerr=data_sd,color='#57C4AD',zorder=2,error_kw=dict(capsize = 10, capthick=1,zorder=1))\n",
    "axs[0].set_title('Dice Score', fontsize=16)\n",
    "df_dice = pd.DataFrame(columns = labels)\n",
    "top = 0\n",
    "for i, df in enumerate(data_frames):\n",
    "    y = df['Dice']\n",
    "    if np.max(y) > top:\n",
    "        top=np.max(y)\n",
    "    x = np.random.normal(i, 0.13, size=len(y))\n",
    "    df_dice[labels[i]] = y\n",
    "    axs[0].plot(x, y, '.', alpha=0.4,color='black', markersize=15)\n",
    "pvals_dice = []\n",
    "for i,j in res:\n",
    "    pvals_dice.append(stats.wilcoxon(df_dice[i], df_dice[j],alternative='two-sided',method='exact').pvalue)\n",
    "#print(pvals_dice)\n",
    "#pvals_dice = multipletests(pvals_dice, method = 'hs')[1]\n",
    "#print(pvals_dice)\n",
    "res_dice_signif_comb = []\n",
    "res_dice_signif = []\n",
    "for idx, val in enumerate(pvals_dice):\n",
    "    if val < 0.05:\n",
    "        res_dice_signif_comb.append(res[idx])\n",
    "        res_dice_signif.append(val)\n",
    "y_range=0.5\n",
    "res_dice_signif_comb = [x for x in res_dice_signif_comb if  'UNETR\\nSingle' not in x]\n",
    "res_dice_signif_comb = [x for x in res_dice_signif_comb if  'Unet\\nSingle' not in x]\n",
    "for i, sig_comb in enumerate(res_dice_signif_comb):\n",
    "    # Columns corresponding to the datasets of interest\n",
    "    x1 = np.where(np.array(labels)==sig_comb[0])[0][0]\n",
    "    x2 = np.where(np.array(labels)==sig_comb[1])[0][0]   \n",
    "    # What level is this bar among the bars above the plot?\n",
    "    level = len(res_dice_signif_comb) - i\n",
    "    # Plot the bar\n",
    "    bar_height = (y_range * 0.15 * level) + top + 0.01\n",
    "    bar_tips = bar_height - (y_range * 0.02)\n",
    "    axs[0].plot(\n",
    "        [x1, x1, x2, x2],\n",
    "        [bar_tips, bar_height, bar_height, bar_tips], lw=1, c='k'\n",
    "    )\n",
    "    # Significance level\n",
    "    p = res_dice_signif[i]\n",
    "    if p < 0.001:\n",
    "        sig_symbol = '***'\n",
    "    elif p < 0.01:\n",
    "        sig_symbol = '**'\n",
    "    elif p < 0.05:\n",
    "        sig_symbol = '*'\n",
    "    text_height = bar_height - (y_range * 0.01)\n",
    "    axs[0].text((x1 + x2) * 0.5, text_height, sig_symbol, ha='center', va='bottom', c='k')\n",
    "axs[0].set_ylim(0,1.3)\n",
    "    \n",
    "data = [np.mean(x['Precision']) for x in data_frames]\n",
    "data_sd = [np.std(x['Precision']) for x in data_frames]\n",
    "axs[1].bar(labels,data,yerr=data_sd,color='#57C4AD',zorder=2,error_kw=dict(capsize = 10, capthick=1,zorder=1))\n",
    "axs[1].set_title('Precision', fontsize=16)\n",
    "df_precision = pd.DataFrame(columns = labels)\n",
    "top = 0\n",
    "for i, df in enumerate(data_frames):\n",
    "    y = df['Precision']\n",
    "    if np.max(y) > top:\n",
    "        top=np.max(y)\n",
    "    x = np.random.normal(i, 0.15, size=len(y))\n",
    "    df_precision[labels[i]] = y\n",
    "    axs[1].plot(x, y, '.', alpha=0.4,color='black', markersize=15)\n",
    "pvals_precision = []\n",
    "for i,j in res:\n",
    "    pvals_precision.append(stats.wilcoxon(df_precision[i], df_precision[j],alternative='two-sided',method='exact').pvalue)\n",
    "#pvals_precision = multipletests(pvals_precision, method = 'bonferroni')[1]\n",
    "res_precision_signif_comb = []\n",
    "res_precision_signif = []\n",
    "for idx, val in enumerate(pvals_precision):\n",
    "    if val < 0.05:\n",
    "        res_precision_signif_comb.append(res[idx])\n",
    "        res_precision_signif.append(val)\n",
    "y_range=0.5\n",
    "res_precision_signif_comb = [x for x in res_precision_signif_comb if  'UNETR\\nSingle' not in x]\n",
    "res_precision_signif_comb = [x for x in res_precision_signif_comb if  'Unet\\nSingle' not in x]\n",
    "for i, sig_comb in enumerate(res_precision_signif_comb):\n",
    "    # Columns corresponding to the datasets of interest\n",
    "    x1 = np.where(np.array(labels)==sig_comb[0])[0][0]\n",
    "    x2 = np.where(np.array(labels)==sig_comb[1])[0][0]   \n",
    "    # What level is this bar among the bars above the plot?\n",
    "    level = len(res_precision_signif_comb) - i\n",
    "    # Plot the bar\n",
    "    bar_height = (y_range * 0.15 * level) + top\n",
    "    bar_tips = bar_height - (y_range * 0.02)\n",
    "    axs[1].plot(\n",
    "        [x1, x1, x2, x2],\n",
    "        [bar_tips, bar_height, bar_height, bar_tips], lw=1, c='k'\n",
    "    )\n",
    "    # Significance level\n",
    "    p = res_precision_signif[i]\n",
    "    if p < 0.001:\n",
    "        sig_symbol = '***'\n",
    "    elif p < 0.01:\n",
    "        sig_symbol = '**'\n",
    "    elif p < 0.05:\n",
    "        sig_symbol = '*'\n",
    "    text_height = bar_height - (y_range * 0.01)\n",
    "    axs[1].text((x1 + x2) * 0.5, text_height, sig_symbol, ha='center', va='bottom', c='k')\n",
    "axs[1].set_ylim(0,1.3)\n",
    "\n",
    "data = [np.mean(x['Recall']) for x in data_frames]\n",
    "data_sd = [np.std(x['Recall']) for x in data_frames]\n",
    "axs[2].bar(labels,data,yerr=data_sd,color='#57C4AD',zorder=2,error_kw=dict(capsize = 10, capthick=1,zorder=1))\n",
    "axs[2].set_title('Recall', fontsize=16)\n",
    "df_recall = pd.DataFrame(columns = labels)\n",
    "top = 0\n",
    "for i, df in enumerate(data_frames):\n",
    "    y = df['Recall']\n",
    "    if np.max(y) > top:\n",
    "        top=np.max(y)\n",
    "    x = np.random.normal(i, 0.13, size=len(y))\n",
    "    df_recall[labels[i]] = y\n",
    "    axs[2].plot(x, y, '.', alpha=0.4,color='black', markersize=15)\n",
    "pvals_recall = []\n",
    "for i,j in res:\n",
    "    pvals_recall.append(stats.wilcoxon(df_recall[i], df_recall[j],alternative='two-sided',method='exact').pvalue)\n",
    "#pvals_recall = multipletests(pvals_recall, method = 'bonferroni')[1]\n",
    "res_recall_signif_comb = []\n",
    "res_recall_signif = []\n",
    "for idx, val in enumerate(pvals_recall):\n",
    "    if val < 0.05:\n",
    "        res_recall_signif_comb.append(res[idx])\n",
    "        res_recall_signif.append(val)\n",
    "y_range=0.5\n",
    "res_recall_signif_comb = [x for x in res_recall_signif_comb if  'UNETR\\nSingle' not in x]\n",
    "res_recall_signif_comb = [x for x in res_recall_signif_comb if  'Unet\\nSingle' not in x]\n",
    "for i, sig_comb in enumerate(res_recall_signif_comb):\n",
    "    # Columns corresponding to the datasets of interest\n",
    "    x1 = np.where(np.array(labels)==sig_comb[0])[0][0]\n",
    "    x2 = np.where(np.array(labels)==sig_comb[1])[0][0]   \n",
    "    # What level is this bar among the bars above the plot?\n",
    "    level = len(res_recall_signif_comb) - i\n",
    "    # Plot the bar\n",
    "    bar_height = (y_range * 0.12 * level) + top\n",
    "    bar_tips = bar_height - (y_range * 0.02)\n",
    "    axs[2].plot(\n",
    "        [x1, x1, x2, x2],\n",
    "        [bar_tips, bar_height, bar_height, bar_tips], lw=1, c='k'\n",
    "    )\n",
    "    # Significance level\n",
    "    p = res_recall_signif[i]\n",
    "    if p < 0.001:\n",
    "        sig_symbol = '***'\n",
    "    elif p < 0.01:\n",
    "        sig_symbol = '**'\n",
    "    elif p < 0.05:\n",
    "        sig_symbol = '*'\n",
    "    text_height = bar_height - (y_range * 0.01)\n",
    "    axs[2].text((x1 + x2) * 0.5, text_height, sig_symbol, ha='center', va='bottom', c='k')\n",
    "axs[2].set_ylim(0,1.3)\n",
    "for i in range(5):\n",
    "    axs[i].tick_params(axis='x', labelsize=15)\n",
    "    axs[i].tick_params(axis='y', labelsize=15)\n",
    "    \n",
    "data = [np.mean(x['meanSurfaceDistance']) for x in data_frames]\n",
    "data_sd = [np.std(x['meanSurfaceDistance']) for x in data_frames]\n",
    "axs[3].bar(labels,data,yerr=data_sd,color='#57C4AD',zorder=2,error_kw=dict(capsize = 10, capthick=1,zorder=1))\n",
    "axs[3].set_title('Mean Surface Distance', fontsize=16)\n",
    "df_msd = pd.DataFrame(columns = labels)\n",
    "top = 0\n",
    "for i, df in enumerate(data_frames):\n",
    "    y = df['meanSurfaceDistance']\n",
    "    if np.max(y) > top:\n",
    "        top=np.max(y)\n",
    "    x = np.random.normal(i, 0.13, size=len(y))\n",
    "    df_msd[labels[i]] = y\n",
    "    axs[3].plot(x, y, '.', alpha=0.4,color='black', markersize=15)\n",
    "pvals_msd = []\n",
    "for i,j in res:\n",
    "    pvals_msd.append(stats.wilcoxon(df_msd[i], df_msd[j],alternative='two-sided',method='exact').pvalue)\n",
    "#pvals_msd = multipletests(pvals_msd, method = 'bonferroni')[1]\n",
    "res_msd_signif_comb = []\n",
    "res_msd_signif = []\n",
    "for idx, val in enumerate(pvals_msd):\n",
    "    if val < 0.05:\n",
    "        res_msd_signif_comb.append(res[idx])\n",
    "        res_msd_signif.append(val)\n",
    "y_range=0.5\n",
    "res_msd_signif_comb = [x for x in res_msd_signif_comb if  'UNETR\\nSingle' not in x]\n",
    "res_msd_signif_comb = [x for x in res_msd_signif_comb if  'Unet\\nSingle' not in x]\n",
    "for i, sig_comb in enumerate(res_msd_signif_comb):\n",
    "    # Columns corresponding to the datasets of interest\n",
    "    x1 = np.where(np.array(labels)==sig_comb[0])[0][0]\n",
    "    x2 = np.where(np.array(labels)==sig_comb[1])[0][0]   \n",
    "    # What level is this bar among the bars above the plot?\n",
    "    level = len(res_msd_signif_comb) - i\n",
    "    # Plot the bar\n",
    "    bar_height = (y_range * 0.12 * level) + top\n",
    "    bar_tips = bar_height - (y_range * 0.02)\n",
    "    axs[3].plot(\n",
    "        [x1, x1, x2, x2],\n",
    "        [bar_tips, bar_height, bar_height, bar_tips], lw=1, c='k'\n",
    "    )\n",
    "    # Significance level\n",
    "    p = res_msd_signif[i]\n",
    "    if p < 0.001:\n",
    "        sig_symbol = '***'\n",
    "    elif p < 0.01:\n",
    "        sig_symbol = '**'\n",
    "    elif p < 0.05:\n",
    "        sig_symbol = '*'\n",
    "    text_height = bar_height - (y_range * 0.01)\n",
    "    axs[3].text((x1 + x2) * 0.5, text_height, sig_symbol, ha='center', va='bottom', c='k')\n",
    "axs[3].set_ylim(0,14)\n",
    "\n",
    "\n",
    "#data = [np.mean(x['Hausdorff']) for x in data_frames]\n",
    "#data_sd = [np.std(x['Hausdorff']) for x in data_frames]\n",
    "#axs[1,0].bar(labels,data,yerr=data_sd)\n",
    "#axs[1,0].set_title('Hausdorff Distance')\n",
    "#for i, df in enumerate(data_frames):\n",
    "#    y = df['Hausdorff']\n",
    "#    x = np.random.normal(i, 0.13, size=len(y))\n",
    "#    axs[1,0].plot(x, y, '.', alpha=0.4,color='black', markersize=15)\n",
    "#axs[1,0].set_ylim(0,200)\n",
    "\n",
    "data = [np.mean(x['Hausdorff95']) for x in data_frames]\n",
    "data_sd = [np.std(x['Hausdorff95']) for x in data_frames]\n",
    "axs[4].bar(labels,data,yerr=data_sd,color='#57C4AD',zorder=2,error_kw=dict(capsize = 10, capthick=1,zorder=1))\n",
    "axs[4].set_title('Hausdorff 95 Distance', fontsize=16)\n",
    "df_hd = pd.DataFrame(columns = labels)\n",
    "top = 0\n",
    "for i, df in enumerate(data_frames):\n",
    "    y = df['Hausdorff95']\n",
    "    if np.max(y) > top:\n",
    "        top=np.max(y)\n",
    "    x = np.random.normal(i, 0.13, size=len(y))\n",
    "    df_hd[labels[i]] = y\n",
    "    axs[4].plot(x, y, '.', alpha=0.4,color='black', markersize=15)\n",
    "pvals_hd = []\n",
    "for i,j in res:\n",
    "    pvals_hd.append(stats.wilcoxon(df_hd[i], df_hd[j],alternative='two-sided',method='exact').pvalue)\n",
    "#pvals_hd = multipletests(pvals_hd, method = 'bonferroni')[1]\n",
    "res_hd_signif_comb = []\n",
    "res_hd_signif = []\n",
    "for idx, val in enumerate(pvals_hd):\n",
    "    if val < 0.05:\n",
    "        res_hd_signif_comb.append(res[idx])\n",
    "        res_hd_signif.append(val)\n",
    "y_range=0.5\n",
    "res_hd_signif_comb = [x for x in res_hd_signif_comb if  'UNETR\\nSingle' not in x]\n",
    "res_hd_signif_comb = [x for x in res_hd_signif_comb if  'Unet\\nSingle' not in x]\n",
    "for i, sig_comb in enumerate(res_hd_signif_comb):\n",
    "    # Columns corresponding to the datasets of interest\n",
    "    x1 = np.where(np.array(labels)==sig_comb[0])[0][0]\n",
    "    x2 = np.where(np.array(labels)==sig_comb[1])[0][0]   \n",
    "    # What level is this bar among the bars above the plot?\n",
    "    level = len(res_hd_signif_comb) - i\n",
    "    # Plot the bar\n",
    "    bar_height = (y_range * 0.12 * 75 * level) + top + 3\n",
    "    bar_tips = bar_height - (y_range * 0.02*75)\n",
    "    axs[4].plot(\n",
    "        [x1, x1, x2, x2],\n",
    "        [bar_tips, bar_height, bar_height, bar_tips], lw=1, c='k'\n",
    "    )\n",
    "    # Significance level\n",
    "    p = res_hd_signif[i]\n",
    "    if p < 0.001:\n",
    "        sig_symbol = '***'\n",
    "    elif p < 0.01:\n",
    "        sig_symbol = '**'\n",
    "    elif p < 0.05:\n",
    "        sig_symbol = '*'\n",
    "    text_height = bar_height - (y_range * 0.01)\n",
    "    axs[4].text((x1 + x2) * 0.5, text_height, sig_symbol, ha='center', va='bottom', c='k')\n",
    "axs[4].set_ylim(0,135)\n",
    "\n",
    "fig.suptitle('Neurons',fontsize=22)\n",
    "fig.tight_layout()\n",
    "fig.savefig('model_eval_neurons.png')"
   ]
  },
  {
   "cell_type": "code",
   "execution_count": 63,
   "id": "d9157d21-03a0-4b28-b1b0-5de31c1a3e10",
   "metadata": {},
   "outputs": [
    {
     "data": {
      "text/plain": [
       "[0.65234375, 0.49609375, 0.8203125]"
      ]
     },
     "execution_count": 63,
     "metadata": {},
     "output_type": "execute_result"
    }
   ],
   "source": [
    "pvals_msd"
   ]
  },
  {
   "cell_type": "code",
   "execution_count": 64,
   "id": "e6f1ac06-1fe5-4955-89b7-42d24b645623",
   "metadata": {},
   "outputs": [
    {
     "data": {
      "text/plain": [
       "[0.734375, 0.0390625, 0.07421875]"
      ]
     },
     "execution_count": 64,
     "metadata": {},
     "output_type": "execute_result"
    }
   ],
   "source": [
    "pvals_hd"
   ]
  },
  {
   "cell_type": "code",
   "execution_count": 61,
   "id": "dbd2c49b-9c8b-46a3-b6c4-f8f49b519ed7",
   "metadata": {},
   "outputs": [
    {
     "data": {
      "text/plain": [
       "[('UNETR\\nEnsemble', 'Unet\\nEnsemble'),\n",
       " ('UNETR\\nEnsemble', 'ilastik'),\n",
       " ('Unet\\nEnsemble', 'ilastik')]"
      ]
     },
     "execution_count": 61,
     "metadata": {},
     "output_type": "execute_result"
    }
   ],
   "source": [
    "res"
   ]
  },
  {
   "cell_type": "code",
   "execution_count": 77,
   "id": "e8e30b33-7093-4cb5-9793-bca60247f2c5",
   "metadata": {},
   "outputs": [
    {
     "data": {
      "text/plain": [
       "[('UNETR\\nEnsemble', 'Unet\\nSingle'),\n",
       " ('UNETR\\nSingle', 'ilastik'),\n",
       " ('Unet\\nSingle', 'ilastik')]"
      ]
     },
     "execution_count": 77,
     "metadata": {},
     "output_type": "execute_result"
    }
   ],
   "source": [
    "df_dice\n",
    "res = [(a, b) for idx, a in enumerate(labels) for b in labels[idx + 1:]]\n",
    "pvals_dice = []\n",
    "for i,j in res:\n",
    "    pvals_dice.append(stats.wilcoxon(df_dice[i], df_dice[j]).pvalue)\n",
    "pvals_dice = multipletests(pvals_dice, method = 'bonferroni')[1]\n",
    "res_dice_signif = []\n",
    "for idx, val in enumerate(pvals_dice):\n",
    "    if val < 0.05:\n",
    "        res_dice_signif.append(res[idx])\n",
    "res_dice_signif"
   ]
  },
  {
   "cell_type": "code",
   "execution_count": 41,
   "id": "dd79251c-b982-4fcb-8157-ab6e0a6005c5",
   "metadata": {},
   "outputs": [
    {
     "data": {
      "text/plain": [
       "[('UNETR\\nEnsemble', 'UNETR\\nSingle'),\n",
       " ('UNETR\\nEnsemble', 'Unet\\nEnsemble'),\n",
       " ('UNETR\\nEnsemble', 'Unet\\nSingle'),\n",
       " ('UNETR\\nEnsemble', 'ilastik'),\n",
       " ('UNETR\\nSingle', 'Unet\\nEnsemble'),\n",
       " ('UNETR\\nSingle', 'Unet\\nSingle'),\n",
       " ('UNETR\\nSingle', 'ilastik'),\n",
       " ('Unet\\nEnsemble', 'Unet\\nSingle'),\n",
       " ('Unet\\nEnsemble', 'ilastik'),\n",
       " ('Unet\\nSingle', 'ilastik')]"
      ]
     },
     "execution_count": 41,
     "metadata": {},
     "output_type": "execute_result"
    }
   ],
   "source": [
    "for i, significant_combination in enumerate(significant_combinations):\n",
    "    # Columns corresponding to the datasets of interest\n",
    "    x1 = significant_combination[0][0]\n",
    "    x2 = significant_combination[0][1]\n",
    "    # What level is this bar among the bars above the plot?\n",
    "    level = len(significant_combinations) - i\n",
    "    # Plot the bar\n",
    "    bar_height = (y_range * 0.07 * level) + top\n",
    "    bar_tips = bar_height - (y_range * 0.02)\n",
    "    plt.plot(\n",
    "        [x1, x1, x2, x2],\n",
    "        [bar_tips, bar_height, bar_height, bar_tips], lw=1, c='k'\n",
    "    )\n",
    "    # Significance level\n",
    "    p = significant_combination[1]\n",
    "    if p < 0.001:\n",
    "        sig_symbol = '***'\n",
    "    elif p < 0.01:\n",
    "        sig_symbol = '**'\n",
    "    elif p < 0.05:\n",
    "        sig_symbol = '*'\n",
    "    text_height = bar_height + (y_range * 0.01)\n",
    "    plt.text((x1 + x2) * 0.5, text_height, sig_symbol, ha='center', va='bottom', c='k')\n"
   ]
  },
  {
   "cell_type": "code",
   "execution_count": 57,
   "id": "a9f2d6ec-6262-4a05-a16b-629e99275125",
   "metadata": {},
   "outputs": [
    {
     "data": {
      "text/plain": [
       "array([0.078125 , 0.078125 , 0.0390625, 0.1171875, 1.       , 1.       ,\n",
       "       0.0390625, 1.       , 0.078125 , 0.0390625])"
      ]
     },
     "execution_count": 57,
     "metadata": {},
     "output_type": "execute_result"
    }
   ],
   "source": [
    "pvals[1]"
   ]
  },
  {
   "cell_type": "code",
   "execution_count": null,
   "id": "866b8439-b3db-4c64-9ae3-97b8889f84b6",
   "metadata": {},
   "outputs": [],
   "source": []
  },
  {
   "cell_type": "code",
   "execution_count": null,
   "id": "ddcd4f5a-423b-4fb9-a4b3-10314cdc725d",
   "metadata": {},
   "outputs": [],
   "source": []
  }
 ],
 "metadata": {
  "kernelspec": {
   "display_name": "monai3.8",
   "language": "python",
   "name": "monai3.8"
  },
  "language_info": {
   "codemirror_mode": {
    "name": "ipython",
    "version": 3
   },
   "file_extension": ".py",
   "mimetype": "text/x-python",
   "name": "python",
   "nbconvert_exporter": "python",
   "pygments_lexer": "ipython3",
   "version": "3.8.10"
  }
 },
 "nbformat": 4,
 "nbformat_minor": 5
}
