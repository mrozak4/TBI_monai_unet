{
 "cells": [
  {
   "cell_type": "code",
   "execution_count": 20,
   "metadata": {},
   "outputs": [],
   "source": [
    "#from nipype.interfaces import niftyreg\n",
    "import numpy as np\n",
    "from skimage import io\n",
    "from pathlib import Path\n",
    "import re\n",
    "import ants\n",
    "from skimage.transform import resize\n",
    "from tqdm import tqdm\n",
    "import os\n",
    "import cc3d\n",
    "from scipy.io import loadmat, savemat\n",
    "from skimage.morphology import skeletonize_3d, binary_dilation, binary_closing\n",
    "import sknw\n",
    "import networkx as nx\n",
    "import pandas as pd\n",
    "from scipy.ndimage import distance_transform_edt"
   ]
  },
  {
   "cell_type": "code",
   "execution_count": 2,
   "metadata": {},
   "outputs": [],
   "source": [
    "def remove_small_comps_3d(image, thresh = 500):\n",
    "    \"\"\"\n",
    "    \n",
    "\n",
    "    Parameters\n",
    "    ----------\n",
    "    image : binary np array with uint8 elements\n",
    "        3d numpy matrix, connected components will be removed form this image\n",
    "    thresh : int64\n",
    "        smallest connected components to keep\n",
    "\n",
    "    Returns\n",
    "    -------\n",
    "    np.array with uint8 elements, binary\n",
    "        binary image with connected components below the threshold removed.\n",
    "\n",
    "    \"\"\"\n",
    "    img_lab, N = cc3d.connected_components(image,return_N=True)\n",
    "    unique, counts = np.unique(img_lab, return_counts=True)\n",
    "    unique_keep = unique[counts>thresh]\n",
    "    unique_keep = np.delete(unique_keep,[0])\n",
    "    img_filt = np.zeros(img_lab.shape).astype('int8')\n",
    "    img_filt[np.isin(img_lab,unique_keep)] = 1\n",
    "    return img_filt.astype('uint8')   \n",
    "\n",
    "def fill_holes(img,thresh=100):\n",
    "    #res = np.zeros(img.shape)\n",
    "    for i in np.unique(img)[::-1]:\n",
    "        _tmp = (img==i)*1.0\n",
    "        _tmp = _tmp.astype('int8')\n",
    "        _tmp = remove_small_comps_3d(_tmp,thresh=thresh)\n",
    "        img[_tmp==1] = i\n",
    "    res = img.astype('int8')\n",
    "    return res"
   ]
  },
  {
   "cell_type": "code",
   "execution_count": null,
   "metadata": {},
   "outputs": [],
   "source": [
    "directory_seg = Path('james_preds')\n",
    "files_seg  = list(directory_seg.glob('*_seg.npy'))\n",
    "files_seg = sorted([x.as_posix() for x in files_seg])"
   ]
  },
  {
   "cell_type": "code",
   "execution_count": null,
   "metadata": {},
   "outputs": [],
   "source": [
    "#for i in tqdm(range(len(files_seg))):\n",
    "#    tmp = np.load(files_seg[i])\n",
    "#    tmp = np.reshape(tmp,(1,507,507,252))\n",
    "#    io.imsave(re.sub('.npy','.tif',files_seg[0]),tmp)"
   ]
  },
  {
   "cell_type": "code",
   "execution_count": null,
   "metadata": {},
   "outputs": [],
   "source": [
    "files_seg  = list(directory_seg.glob('*_seg.tif'))\n",
    "files_seg = sorted([x.as_posix() for x in files_seg])\n",
    "files_seg[0]"
   ]
  },
  {
   "cell_type": "code",
   "execution_count": null,
   "metadata": {},
   "outputs": [],
   "source": [
    "image_path = Path('../TBI')\n",
    "images = list(image_path.glob('vbm*/*?[0-9].tif'))\n",
    "images = sorted([x.as_posix() for x in images])\n",
    "len(images)"
   ]
  },
  {
   "cell_type": "code",
   "execution_count": null,
   "metadata": {},
   "outputs": [],
   "source": [
    "for i in tqdm(range(len(images))):\n",
    "    image = io.imread(images[i])\n",
    "    image = np.swapaxes(image,0,1)\n",
    "    image = np.swapaxes(image,1,3)\n",
    "    image = resize(image,(2,507,507,252),preserve_range=True)\n",
    "    zeros = np.zeros((1,507,507,252)).astype('uint16')\n",
    "    image = np.append(image,zeros,axis = 0)\n",
    "    image = image.astype('float16')\n",
    "    io.imsave('james_preds/'+re.sub('.tif','_upsamp.tif',Path(images[i]).name),image)"
   ]
  },
  {
   "cell_type": "code",
   "execution_count": null,
   "metadata": {},
   "outputs": [],
   "source": [
    "#'james_preds/'+re.sub('.tif','_upsamp.tif',Path(images[i]).name"
   ]
  },
  {
   "cell_type": "code",
   "execution_count": 5,
   "metadata": {},
   "outputs": [
    {
     "name": "stdout",
     "output_type": "stream",
     "text": [
      "['james_preds/XYZres011_upsamp.tif', 'james_preds/XYZres012_upsamp.tif', 'james_preds/XYZres017_upsamp.tif', 'james_preds/XYZres018_upsamp.tif', 'james_preds/XYZres023_upsamp.tif', 'james_preds/XYZres024_upsamp.tif', 'james_preds/XYZres029_upsamp.tif', 'james_preds/XYZres030_upsamp.tif', 'james_preds/XYZres035_upsamp.tif', 'james_preds/XYZres036_upsamp.tif', 'james_preds/XYZres041_upsamp.tif', 'james_preds/XYZres042_upsamp.tif', 'james_preds/XYZres048_upsamp.tif', 'james_preds/XYZres049_upsamp.tif']\n"
     ]
    }
   ],
   "source": [
    "pairs = {\"009\":\"011\",\n",
    "         \"010\":\"012\",\n",
    "         \"015\":\"017\",\n",
    "         \"016\":\"018\",\n",
    "         \"021\":\"023\",\n",
    "         \"022\":\"024\",\n",
    "         \"027\":\"029\",\n",
    "         \"028\":\"030\",\n",
    "         \"033\":\"035\",\n",
    "         \"034\":\"036\",\n",
    "         \"039\":\"041\",\n",
    "         \"040\":\"042\",\n",
    "         \"046\":\"048\",\n",
    "         \"047\":\"049\"}\n",
    "keys = list(pairs.keys())\n",
    "images = ['james_preds/XYZres'+x+'_upsamp.tif' for x in keys]\n",
    "targets = ['james_preds/XYZres'+pairs[x]+'_upsamp.tif' for x in keys]\n",
    "print(targets)"
   ]
  },
  {
   "cell_type": "code",
   "execution_count": 9,
   "metadata": {},
   "outputs": [
    {
     "name": "stderr",
     "output_type": "stream",
     "text": [
      "\r",
      "  0%|                                                    | 0/14 [00:00<?, ?it/s]"
     ]
    },
    {
     "name": "stdout",
     "output_type": "stream",
     "text": [
      "next\n"
     ]
    },
    {
     "name": "stderr",
     "output_type": "stream",
     "text": [
      "\r",
      "  7%|███▏                                        | 1/14 [00:33<07:18, 33.74s/it]"
     ]
    },
    {
     "name": "stdout",
     "output_type": "stream",
     "text": [
      "next\n"
     ]
    },
    {
     "name": "stderr",
     "output_type": "stream",
     "text": [
      "\r",
      " 14%|██████▎                                     | 2/14 [01:05<06:33, 32.75s/it]"
     ]
    },
    {
     "name": "stdout",
     "output_type": "stream",
     "text": [
      "next\n"
     ]
    },
    {
     "name": "stderr",
     "output_type": "stream",
     "text": [
      "\r",
      " 43%|██████████████████▊                         | 6/14 [03:19<04:25, 33.18s/it]"
     ]
    },
    {
     "name": "stdout",
     "output_type": "stream",
     "text": [
      "next\n"
     ]
    },
    {
     "name": "stderr",
     "output_type": "stream",
     "text": [
      "\r",
      " 50%|██████████████████████                      | 7/14 [03:53<03:55, 33.64s/it]"
     ]
    },
    {
     "name": "stdout",
     "output_type": "stream",
     "text": [
      "next\n"
     ]
    },
    {
     "name": "stderr",
     "output_type": "stream",
     "text": [
      "\r",
      " 57%|█████████████████████████▏                  | 8/14 [04:26<03:19, 33.19s/it]"
     ]
    },
    {
     "name": "stdout",
     "output_type": "stream",
     "text": [
      "next\n"
     ]
    },
    {
     "name": "stderr",
     "output_type": "stream",
     "text": [
      "\r",
      " 64%|████████████████████████████▎               | 9/14 [05:00<02:47, 33.45s/it]"
     ]
    },
    {
     "name": "stdout",
     "output_type": "stream",
     "text": [
      "next\n"
     ]
    },
    {
     "name": "stderr",
     "output_type": "stream",
     "text": [
      "\r",
      " 71%|██████████████████████████████▋            | 10/14 [05:31<02:11, 32.95s/it]"
     ]
    },
    {
     "name": "stdout",
     "output_type": "stream",
     "text": [
      "next\n"
     ]
    },
    {
     "name": "stderr",
     "output_type": "stream",
     "text": [
      "\r",
      " 79%|█████████████████████████████████▊         | 11/14 [06:05<01:39, 33.18s/it]"
     ]
    },
    {
     "name": "stdout",
     "output_type": "stream",
     "text": [
      "next\n"
     ]
    },
    {
     "name": "stderr",
     "output_type": "stream",
     "text": [
      "\r",
      " 86%|████████████████████████████████████▊      | 12/14 [06:38<01:06, 33.13s/it]"
     ]
    },
    {
     "name": "stdout",
     "output_type": "stream",
     "text": [
      "next\n"
     ]
    },
    {
     "name": "stderr",
     "output_type": "stream",
     "text": [
      "\r",
      " 93%|███████████████████████████████████████▉   | 13/14 [07:12<00:33, 33.46s/it]"
     ]
    },
    {
     "name": "stdout",
     "output_type": "stream",
     "text": [
      "next\n"
     ]
    },
    {
     "name": "stderr",
     "output_type": "stream",
     "text": [
      "100%|███████████████████████████████████████████| 14/14 [08:18<00:00, 35.62s/it]\n"
     ]
    }
   ],
   "source": [
    "for i in tqdm(range(len(images))):\n",
    "    print(\"next\")\n",
    "    fix = io.imread(images[i])\n",
    "    fix = ants.from_numpy(fix[0].astype('float32'),\n",
    "                         origin=(0,0,0),\n",
    "                         spacing=(1.0,1.0,1.0),\n",
    "                         direction = np.array([[1.0, 0.0, 0.0],\n",
    "                                               [0.0, 1.0, 0.0],\n",
    "                                               [0.0, 0.0, 1.0]]))\n",
    "    mov = io.imread(targets[i])\n",
    "    mov = ants.from_numpy(mov[0][:,:,::-1].astype('float32'),\n",
    "                         origin=(0,0,0),\n",
    "                         spacing=(1.0,1.0,1.0),\n",
    "                         direction = np.array([[1.0, 0.0, 0.0],\n",
    "                                               [0.0, 1.0, 0.0],\n",
    "                                               [0.0, 0.0, 1.0]]))\n",
    "    fix_mask = io.imread(re.sub('upsamp','seg',images[i]))\n",
    "    fix_mask = ants.from_numpy(fix_mask.astype('float32'),\n",
    "                         origin=(0,0,0),\n",
    "                         spacing=(1.0,1.0,1.0),\n",
    "                         direction = np.array([[1.0, 0.0, 0.0],\n",
    "                                               [0.0, 1.0, 0.0],\n",
    "                                               [0.0, 0.0, 1.0]]))\n",
    "    mov_mask = io.imread(re.sub('upsamp','seg',targets[i]))\n",
    "    mov_mask = ants.from_numpy(mov_mask[:,:,::-1].astype('float32'),\n",
    "                         origin=(0,0,0),\n",
    "                         spacing=(1.0,1.0,1.0),\n",
    "                         direction = np.array([[1.0, 0.0, 0.0],\n",
    "                                               [0.0, 1.0, 0.0],\n",
    "                                               [0.0, 0.0, 1.0]]))\n",
    "    #fix = ants.image_read(images[i])\n",
    "    #mov = ants.image_read(targets[i])\n",
    "    #fix_mask = ants.image_read(re.sub('upsamp','seg',images[i]))\n",
    "    #mov_mask = ants.image_read(re.sub('upsamp','seg',targets[i]))\n",
    "    mytx = ants.registration(fixed = fix,\n",
    "                            moving = mov,\n",
    "                            type_of_transform = 'Rigid'\n",
    "                            )\n",
    "    warpedmask = ants.apply_transforms(fixed = fix_mask,\n",
    "                                       moving = mov_mask,\n",
    "                                       transformlist = mytx['fwdtransforms'],\n",
    "                                       interpolator = 'nearestNeighbor'\n",
    "                                      )\n",
    "    io.imsave(re.sub('seg','seg_warped_mov_baseline',re.sub('upsamp','seg',images[i])),warpedmask.numpy())\n",
    "    io.imsave(re.sub('seg','seg_warped_fix_baseline',re.sub('upsamp','seg',images[i])),fix_mask.numpy())"
   ]
  },
  {
   "cell_type": "code",
   "execution_count": 10,
   "metadata": {},
   "outputs": [
    {
     "data": {
      "text/plain": [
       "'james_preds/XYZres047_seg_warped_mov_baseline.tif'"
      ]
     },
     "execution_count": 10,
     "metadata": {},
     "output_type": "execute_result"
    }
   ],
   "source": [
    "re.sub('seg','seg_warped_mov_baseline',re.sub('upsamp','seg',images[i]))"
   ]
  },
  {
   "cell_type": "markdown",
   "metadata": {},
   "source": [
    "## Save Matlab .mat file of registered images"
   ]
  },
  {
   "cell_type": "code",
   "execution_count": 29,
   "metadata": {},
   "outputs": [],
   "source": [
    "directory_seg = Path('james_preds')\n",
    "images = list(directory_seg.glob('*_fix_baseline.tif'))\n",
    "images = sorted([x.as_posix() for x in images])[::-1]"
   ]
  },
  {
   "cell_type": "code",
   "execution_count": null,
   "metadata": {},
   "outputs": [
    {
     "name": "stderr",
     "output_type": "stream",
     "text": [
      " 43%|██████████████████▊                         | 6/14 [01:27<01:56, 14.56s/it]"
     ]
    }
   ],
   "source": [
    "for image in tqdm(images):\n",
    "    #if not os.path.exists(re.sub('_seg_warped.tif','_seg_warped_single.mat',re.sub('_0001','',image))):\n",
    "        img_0001 = io.imread(image)\n",
    "        img = io.imread(re.sub('_fix','_mov',image))\n",
    "        seg = img*img_0001\n",
    "        seg = (seg==1)*1\n",
    "        seg = seg.astype('int8')\n",
    "        seg = fill_holes(seg)\n",
    "        savemat(re.sub('_fix_baseline.tif','_seg_warped_single_baseline.mat',re.sub('_0001','',image)),{'FinalImage':fill_holes(binary_dilation(seg))})\n",
    "        \n",
    "        "
   ]
  },
  {
   "cell_type": "code",
   "execution_count": 15,
   "metadata": {},
   "outputs": [
    {
     "data": {
      "text/plain": [
       "'james_preds/XYZres009_seg_warped_seg_warped_single_baseline.mat'"
      ]
     },
     "execution_count": 15,
     "metadata": {},
     "output_type": "execute_result"
    }
   ],
   "source": [
    "re.sub('_fix_baseline.tif','_seg_warped_single_baseline.mat',re.sub('_0001','',image))"
   ]
  },
  {
   "cell_type": "markdown",
   "metadata": {},
   "source": [
    "# Gen Graphs"
   ]
  },
  {
   "cell_type": "code",
   "execution_count": 7,
   "metadata": {},
   "outputs": [
    {
     "data": {
      "text/plain": [
       "14"
      ]
     },
     "execution_count": 7,
     "metadata": {},
     "output_type": "execute_result"
    }
   ],
   "source": [
    "directory = Path('james_preds')\n",
    "files_seg_0001 = directory.glob('*_seg_warped_mov_baseline.tif')\n",
    "files_seg_0001 = sorted([x.as_posix() for x in files_seg_0001])\n",
    "len(files_seg_0001)"
   ]
  },
  {
   "cell_type": "code",
   "execution_count": 10,
   "metadata": {},
   "outputs": [
    {
     "name": "stderr",
     "output_type": "stream",
     "text": [
      "  0%|                                                    | 0/14 [00:00<?, ?it/s]/tmp/ipykernel_3476067/1851155028.py:7: UserWarning:\n",
      "\n",
      "james_preds/XYZres009_single_skel_baseline.tif is a low contrast image\n",
      "\n",
      "  7%|███▏                                        | 1/14 [00:00<00:11,  1.17it/s]"
     ]
    },
    {
     "name": "stdout",
     "output_type": "stream",
     "text": [
      "401\n"
     ]
    },
    {
     "name": "stderr",
     "output_type": "stream",
     "text": [
      "/tmp/ipykernel_3476067/1851155028.py:7: UserWarning:\n",
      "\n",
      "james_preds/XYZres010_single_skel_baseline.tif is a low contrast image\n",
      "\n",
      " 14%|██████▎                                     | 2/14 [00:01<00:10,  1.15it/s]"
     ]
    },
    {
     "name": "stdout",
     "output_type": "stream",
     "text": [
      "358\n"
     ]
    },
    {
     "name": "stderr",
     "output_type": "stream",
     "text": [
      "/tmp/ipykernel_3476067/1851155028.py:7: UserWarning:\n",
      "\n",
      "james_preds/XYZres015_single_skel_baseline.tif is a low contrast image\n",
      "\n",
      " 21%|█████████▍                                  | 3/14 [00:02<00:09,  1.17it/s]"
     ]
    },
    {
     "name": "stdout",
     "output_type": "stream",
     "text": [
      "316\n"
     ]
    },
    {
     "name": "stderr",
     "output_type": "stream",
     "text": [
      "/tmp/ipykernel_3476067/1851155028.py:7: UserWarning:\n",
      "\n",
      "james_preds/XYZres016_single_skel_baseline.tif is a low contrast image\n",
      "\n",
      " 29%|████████████▌                               | 4/14 [00:03<00:08,  1.15it/s]"
     ]
    },
    {
     "name": "stdout",
     "output_type": "stream",
     "text": [
      "348\n"
     ]
    },
    {
     "name": "stderr",
     "output_type": "stream",
     "text": [
      "/tmp/ipykernel_3476067/1851155028.py:7: UserWarning:\n",
      "\n",
      "james_preds/XYZres021_single_skel_baseline.tif is a low contrast image\n",
      "\n",
      " 36%|███████████████▋                            | 5/14 [00:04<00:07,  1.15it/s]"
     ]
    },
    {
     "name": "stdout",
     "output_type": "stream",
     "text": [
      "392\n"
     ]
    },
    {
     "name": "stderr",
     "output_type": "stream",
     "text": [
      "/tmp/ipykernel_3476067/1851155028.py:7: UserWarning:\n",
      "\n",
      "james_preds/XYZres022_single_skel_baseline.tif is a low contrast image\n",
      "\n",
      " 43%|██████████████████▊                         | 6/14 [00:05<00:06,  1.15it/s]"
     ]
    },
    {
     "name": "stdout",
     "output_type": "stream",
     "text": [
      "379\n"
     ]
    },
    {
     "name": "stderr",
     "output_type": "stream",
     "text": [
      "/tmp/ipykernel_3476067/1851155028.py:7: UserWarning:\n",
      "\n",
      "james_preds/XYZres027_single_skel_baseline.tif is a low contrast image\n",
      "\n",
      " 50%|██████████████████████                      | 7/14 [00:06<00:06,  1.14it/s]"
     ]
    },
    {
     "name": "stdout",
     "output_type": "stream",
     "text": [
      "664\n"
     ]
    },
    {
     "name": "stderr",
     "output_type": "stream",
     "text": [
      "/tmp/ipykernel_3476067/1851155028.py:7: UserWarning:\n",
      "\n",
      "james_preds/XYZres028_single_skel_baseline.tif is a low contrast image\n",
      "\n",
      " 57%|█████████████████████████▏                  | 8/14 [00:06<00:05,  1.13it/s]"
     ]
    },
    {
     "name": "stdout",
     "output_type": "stream",
     "text": [
      "419\n"
     ]
    },
    {
     "name": "stderr",
     "output_type": "stream",
     "text": [
      "/tmp/ipykernel_3476067/1851155028.py:7: UserWarning:\n",
      "\n",
      "james_preds/XYZres033_single_skel_baseline.tif is a low contrast image\n",
      "\n",
      " 64%|████████████████████████████▎               | 9/14 [00:07<00:04,  1.14it/s]"
     ]
    },
    {
     "name": "stdout",
     "output_type": "stream",
     "text": [
      "469\n"
     ]
    },
    {
     "name": "stderr",
     "output_type": "stream",
     "text": [
      "/tmp/ipykernel_3476067/1851155028.py:7: UserWarning:\n",
      "\n",
      "james_preds/XYZres034_single_skel_baseline.tif is a low contrast image\n",
      "\n",
      " 71%|██████████████████████████████▋            | 10/14 [00:08<00:03,  1.13it/s]"
     ]
    },
    {
     "name": "stdout",
     "output_type": "stream",
     "text": [
      "424\n"
     ]
    },
    {
     "name": "stderr",
     "output_type": "stream",
     "text": [
      "/tmp/ipykernel_3476067/1851155028.py:7: UserWarning:\n",
      "\n",
      "james_preds/XYZres039_single_skel_baseline.tif is a low contrast image\n",
      "\n",
      " 79%|█████████████████████████████████▊         | 11/14 [00:09<00:02,  1.13it/s]"
     ]
    },
    {
     "name": "stdout",
     "output_type": "stream",
     "text": [
      "437\n"
     ]
    },
    {
     "name": "stderr",
     "output_type": "stream",
     "text": [
      "/tmp/ipykernel_3476067/1851155028.py:7: UserWarning:\n",
      "\n",
      "james_preds/XYZres040_single_skel_baseline.tif is a low contrast image\n",
      "\n",
      " 86%|████████████████████████████████████▊      | 12/14 [00:10<00:01,  1.13it/s]"
     ]
    },
    {
     "name": "stdout",
     "output_type": "stream",
     "text": [
      "337\n"
     ]
    },
    {
     "name": "stderr",
     "output_type": "stream",
     "text": [
      "/tmp/ipykernel_3476067/1851155028.py:7: UserWarning:\n",
      "\n",
      "james_preds/XYZres046_single_skel_baseline.tif is a low contrast image\n",
      "\n",
      " 93%|███████████████████████████████████████▉   | 13/14 [00:11<00:00,  1.12it/s]"
     ]
    },
    {
     "name": "stdout",
     "output_type": "stream",
     "text": [
      "633\n"
     ]
    },
    {
     "name": "stderr",
     "output_type": "stream",
     "text": [
      "/tmp/ipykernel_3476067/1851155028.py:7: UserWarning:\n",
      "\n",
      "james_preds/XYZres047_single_skel_baseline.tif is a low contrast image\n",
      "\n",
      "100%|███████████████████████████████████████████| 14/14 [00:12<00:00,  1.14it/s]"
     ]
    },
    {
     "name": "stdout",
     "output_type": "stream",
     "text": [
      "22\n"
     ]
    },
    {
     "name": "stderr",
     "output_type": "stream",
     "text": [
      "\n"
     ]
    }
   ],
   "source": [
    "for file_0001 in tqdm(files_seg_0001):\n",
    "    file = file_0001\n",
    "    skel_file = re.sub('_seg_warped_mov_baseline.tif','_seg_warped_skel_warped_single_baseline.mat',file)\n",
    "    #seg = io.imread(file)\n",
    "    skel = loadmat(skel_file)['FilteredImage']\n",
    "    #skel = skeletonize_3d(skel)\n",
    "    io.imsave(re.sub('_seg_warped_mov_baseline.tif','_single_skel_baseline.tif',file),skel)\n",
    "    #dst_tsfm = distance_transform_edt(seg)\n",
    "    #dst_tsfm[dst_tsfm==0]=0.00001\n",
    "    #skel_dst = skel*dst_tsfm\n",
    "#\n",
    "    #\n",
    "    #np.save(re.sub('seg','dst_skel',file),skel_dst)\n",
    "    #io.imsave(re.sub('_seg_warped.tif','_dst_skel_warped.tif',file),skel_dst)\n",
    "    graph = sknw.build_sknw(skel, multi=False)\n",
    "    print(len(graph.edges))\n",
    "    #graph, c0  = skan.csr.skeleton_to_csgraph(skel)\n",
    "    #print(len(graph.edges))\n",
    "    \n",
    "    #print(len(graph_0001.edges))\n",
    "    #pickle.dump(graph, open(str(re.sub('_seg.npy','.pickle',file)), 'w'))\n",
    "    #nx.write_pajek(graph,re.sub('_seg.npy','.pajek',file))\n",
    "    \n",
    "    nx.write_gpickle(graph,re.sub('_seg_warped_mov_baseline.tif','_warped_baseline.pickle',file))"
   ]
  },
  {
   "cell_type": "code",
   "execution_count": 18,
   "metadata": {},
   "outputs": [
    {
     "data": {
      "text/plain": [
       "14"
      ]
     },
     "execution_count": 18,
     "metadata": {},
     "output_type": "execute_result"
    }
   ],
   "source": [
    "directory = Path('james_preds')\n",
    "files = directory.glob('*_warped_baseline.pickle')\n",
    "files = sorted([x.as_posix() for x in files])\n",
    "len(files)"
   ]
  },
  {
   "cell_type": "code",
   "execution_count": 24,
   "metadata": {},
   "outputs": [
    {
     "name": "stderr",
     "output_type": "stream",
     "text": [
      "  7%|███▏                                        | 1/14 [00:19<04:13, 19.48s/it]/tmp/ipykernel_3476067/2933112158.py:50: RuntimeWarning:\n",
      "\n",
      "invalid value encountered in sqrt\n",
      "\n",
      "100%|███████████████████████████████████████████| 14/14 [05:42<00:00, 24.43s/it]"
     ]
    },
    {
     "name": "stdout",
     "output_type": "stream",
     "text": [
      "401\n"
     ]
    },
    {
     "name": "stderr",
     "output_type": "stream",
     "text": [
      "\n"
     ]
    }
   ],
   "source": [
    "i=0\n",
    "xls = pd.ExcelFile('p3_metalog.xlsx')\n",
    "df = {}\n",
    "for sheet_name in xls.sheet_names:\n",
    "    df[sheet_name] = xls.parse(sheet_name)\n",
    "\n",
    "for file in tqdm(files[::-1]):\n",
    "    graph = nx.read_gpickle(file)\n",
    "    if len(graph.edges) < 1000:\n",
    "        seg_file = re.sub('_warped_baseline.pickle','_seg_warped_fix_baseline.tif',file)\n",
    "        seg_0001_file = re.sub('_warped_baseline.pickle','_seg_warped_mov_baseline.tif',file)\n",
    "        seg = io.imread(seg_file)\n",
    "        seg_0001 = io.imread(seg_0001_file)\n",
    "        seg_dst = distance_transform_edt(seg)\n",
    "        seg_0001_dst = distance_transform_edt(seg_0001)\n",
    "        for sheet_name in xls.sheet_names:\n",
    "            if re.sub('james_preds/','',re.sub('_warped_baseline.pickle','',file)) in df[sheet_name].values:\n",
    "                subj = sheet_name\n",
    "                #if subj in [\"TBI07_3D\",\"TBI11_3D\",\"TBI22_3D\",\"TBI31_3D\",\"TBI38_3D\",\"SHAM09_3D\",\"SHAM12_3D\",\"SHAM23_3D\",\"SHAM32_3D\"]:\n",
    "                #    gender = 'male'\n",
    "                #else:\n",
    "                #    gender = 'female'\n",
    "                #treatment = re.sub('SHA','SHAM',subj[0:3])\n",
    "                _tmp = df[subj].loc[df[subj]['CHECK WATER'] == re.sub('james_preds/','',re.sub('_warped_baseline.pickle','',file))]\n",
    "                if _tmp['Unnamed: 12'].iloc[0] == 'raster':\n",
    "                    wavelength = _tmp['Unnamed: 11'].iloc[0]\n",
    "                    power_per = _tmp['Unnamed: 10'].iloc[0]\n",
    "                    start_depth = _tmp['Unnamed: 2'].iloc[0]\n",
    "                    for i in range(len(graph.edges)):\n",
    "                        path = graph[list(graph.edges)[i][0]][list(graph.edges)[i][1]]['pts']\n",
    "                        _vals = seg_dst[path[::-1,0],path[::-1,1],path[::-1,2]]\n",
    "                        _vals_0001 = seg_0001_dst[path[::-1,0],path[::-1,1],path[::-1,2]]\n",
    "                        graph[list(graph.edges)[i][0]][list(graph.edges)[i][1]]['radii'] = np.mean(_vals)\n",
    "                        graph[list(graph.edges)[i][0]][list(graph.edges)[i][1]]['radii_std'] = np.std(_vals)\n",
    "                        graph[list(graph.edges)[i][0]][list(graph.edges)[i][1]]['radii_0001'] = np.mean(_vals_0001)\n",
    "                        graph[list(graph.edges)[i][0]][list(graph.edges)[i][1]]['radii_0001_std'] = np.std(_vals_0001)\n",
    "                        graph[list(graph.edges)[i][0]][list(graph.edges)[i][1]]['delta'] = np.mean(_vals_0001) - np.mean(_vals)\n",
    "                        #graph[list(graph.edges)[i][0]][list(graph.edges)[i][1]]['gender'] = gender\n",
    "                        graph[list(graph.edges)[i][0]][list(graph.edges)[i][1]]['path_weights'] = _vals\n",
    "                        graph[list(graph.edges)[i][0]][list(graph.edges)[i][1]]['path_weights_0001'] = _vals_0001\n",
    "                        #graph[list(graph.edges)[i][0]][list(graph.edges)[i][1]]['weight'] = graph[list(graph.edges)[i][0]][list(graph.edges)[i][1]]['weight']\n",
    "                        graph[list(graph.edges)[i][0]][list(graph.edges)[i][1]]['end-0z'] = path[0][0]\n",
    "                        graph[list(graph.edges)[i][0]][list(graph.edges)[i][1]]['end-0y'] = path[0][1]\n",
    "                        graph[list(graph.edges)[i][0]][list(graph.edges)[i][1]]['end-0x'] = path[0][2]\n",
    "                        graph[list(graph.edges)[i][0]][list(graph.edges)[i][1]]['end-1z'] = path[-1][0]\n",
    "                        graph[list(graph.edges)[i][0]][list(graph.edges)[i][1]]['end-1y'] = path[-1][1]\n",
    "                        graph[list(graph.edges)[i][0]][list(graph.edges)[i][1]]['end-1x'] = path[-1][2]\n",
    "                        graph[list(graph.edges)[i][0]][list(graph.edges)[i][1]]['img_start_depth'] = start_depth\n",
    "                        graph[list(graph.edges)[i][0]][list(graph.edges)[i][1]]['mean_depth'] = np.mean(path[:,0])\n",
    "                        graph[list(graph.edges)[i][0]][list(graph.edges)[i][1]]['euclidean-dst'] = np.sqrt(np.sum(np.square(path[-1]-path[0])))\n",
    "                        graph[list(graph.edges)[i][0]][list(graph.edges)[i][1]]['subject'] = subj\n",
    "                        #graph[list(graph.edges)[i][0]][list(graph.edges)[i][1]]['treatment'] = treatment\n",
    "                        graph[list(graph.edges)[i][0]][list(graph.edges)[i][1]]['wavelength'] = wavelength\n",
    "                        graph[list(graph.edges)[i][0]][list(graph.edges)[i][1]]['power'] = power_per\n",
    "                    nx.write_gpickle(graph, re.sub('preds','preds_graphs',re.sub('.pickle','_radii.pickle',file)))\n",
    "                    i+=1\n",
    "print(i)"
   ]
  },
  {
   "cell_type": "code",
   "execution_count": 25,
   "metadata": {},
   "outputs": [
    {
     "data": {
      "text/plain": [
       "'james_preds_graphs/XYZres009_warped_baseline_radii.pickle'"
      ]
     },
     "execution_count": 25,
     "metadata": {},
     "output_type": "execute_result"
    }
   ],
   "source": [
    "directory = Path('james_preds_graphs')\n",
    "files = directory.glob('*_warped_baseline_radii.pickle')\n",
    "files = sorted([x.as_posix() for x in files])\n",
    "len(files)\n",
    "files[0]"
   ]
  },
  {
   "cell_type": "code",
   "execution_count": 26,
   "metadata": {},
   "outputs": [
    {
     "name": "stderr",
     "output_type": "stream",
     "text": [
      "100%|███████████████████████████████████████████| 14/14 [00:10<00:00,  1.40it/s]\n"
     ]
    }
   ],
   "source": [
    "for file in tqdm(files):\n",
    "    graph = nx.read_gpickle(file)\n",
    "    edge_df = nx.to_pandas_edgelist(graph)\n",
    "    edge_df.to_excel(re.sub('.pickle','.xlsx',file))"
   ]
  },
  {
   "cell_type": "code",
   "execution_count": null,
   "metadata": {},
   "outputs": [],
   "source": []
  }
 ],
 "metadata": {
  "kernelspec": {
   "display_name": "monai3.8",
   "language": "python",
   "name": "monai3.8"
  },
  "language_info": {
   "codemirror_mode": {
    "name": "ipython",
    "version": 3
   },
   "file_extension": ".py",
   "mimetype": "text/x-python",
   "name": "python",
   "nbconvert_exporter": "python",
   "pygments_lexer": "ipython3",
   "version": "3.8.10"
  }
 },
 "nbformat": 4,
 "nbformat_minor": 4
}
