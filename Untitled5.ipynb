{
 "cells": [
  {
   "cell_type": "code",
   "execution_count": 2,
   "id": "f41da56b-64cb-411b-af3f-9f82b1f18a3e",
   "metadata": {},
   "outputs": [],
   "source": [
    "import numpy as np\n",
    "from pathlib import Path\n",
    "import re\n",
    "import os \n",
    "from tqdm import tqdm"
   ]
  },
  {
   "cell_type": "code",
   "execution_count": 5,
   "id": "82f0040e-ff86-4e4a-97cc-29d7d6e856df",
   "metadata": {},
   "outputs": [
    {
     "data": {
      "text/plain": [
       "6"
      ]
     },
     "execution_count": 5,
     "metadata": {},
     "output_type": "execute_result"
    }
   ],
   "source": [
    "path  = Path('/home/rozakmat/scratch/rrg-bojana/rozakmat/matt_raw_warped_upsampled')\n",
    "files = list(path.glob('*_pred.npy'))\n",
    "#files = [x.as_posix() for x in files if os.path.exists(re.sub('scratch/rrg-bojana/rozakmat','projects/rrg-bojana/rozakmat/TBI_monai_UNET',re.sub('pred','std',x.as_posix())))]\n",
    "len(files)"
   ]
  },
  {
   "cell_type": "code",
   "execution_count": 3,
   "id": "32089fb5-dd7b-42d9-b310-0422177a2ba6",
   "metadata": {},
   "outputs": [],
   "source": [
    "i= 10"
   ]
  },
  {
   "cell_type": "code",
   "execution_count": null,
   "id": "536260e6-9694-4036-ade4-8d6a49283dc0",
   "metadata": {},
   "outputs": [],
   "source": [
    "#pred = np.load(files[i])"
   ]
  },
  {
   "cell_type": "code",
   "execution_count": null,
   "id": "389decbe-a007-46ba-adf2-bf1738c50eb0",
   "metadata": {},
   "outputs": [],
   "source": [
    "#_std = np.std(pred,axis=0)\n",
    "#np.save(re.sub('scratch/rrg-bojana/rozakmat','projects/rrg-bojana/rozakmat/TBI_monai_UNET',re.sub('pred','std',files[i])),_std)"
   ]
  },
  {
   "cell_type": "code",
   "execution_count": 4,
   "id": "b02f3624-201c-4b52-b924-beb91c312c09",
   "metadata": {},
   "outputs": [],
   "source": [
    "for i in files:\n",
    "    os.remove(i)"
   ]
  },
  {
   "cell_type": "code",
   "execution_count": 13,
   "id": "771477bb-a730-4a5a-9960-70a01cafcfeb",
   "metadata": {},
   "outputs": [
    {
     "name": "stdout",
     "output_type": "stream",
     "text": [
      "754\n"
     ]
    }
   ],
   "source": [
    "path = Path(\"matt_raw_warped_upsampled\")\n",
    "files = list(path.glob('*mean.npy'))\n",
    "files = [x.as_posix() for x in files]\n",
    "files = [x for x in files if os.path.exists(re.sub('mean','std',x))]\n",
    "print(len(files))"
   ]
  },
  {
   "cell_type": "code",
   "execution_count": 14,
   "id": "93c09b81-3e69-4dfd-b0b7-ef267c0b157d",
   "metadata": {},
   "outputs": [
    {
     "data": {
      "text/plain": [
       "'matt_raw_warped_upsampled/20200227_18-XYZres127_0001_warped_mean.npy'"
      ]
     },
     "execution_count": 14,
     "metadata": {},
     "output_type": "execute_result"
    }
   ],
   "source": [
    "files[5]"
   ]
  },
  {
   "cell_type": "code",
   "execution_count": null,
   "id": "251bc942-93f0-4a2f-85f2-34dc3feb5876",
   "metadata": {},
   "outputs": [],
   "source": []
  }
 ],
 "metadata": {
  "kernelspec": {
   "display_name": "monai3.8",
   "language": "python",
   "name": "monai3.8"
  },
  "language_info": {
   "codemirror_mode": {
    "name": "ipython",
    "version": 3
   },
   "file_extension": ".py",
   "mimetype": "text/x-python",
   "name": "python",
   "nbconvert_exporter": "python",
   "pygments_lexer": "ipython3",
   "version": "3.8.10"
  }
 },
 "nbformat": 4,
 "nbformat_minor": 5
}
