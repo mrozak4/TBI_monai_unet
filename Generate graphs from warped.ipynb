{
 "cells": [
  {
   "cell_type": "code",
   "execution_count": 21,
   "id": "09170b53",
   "metadata": {},
   "outputs": [],
   "source": [
    "import numpy as np\n",
    "from pathlib import Path\n",
    "import re\n",
    "from tqdm import tqdm\n",
    "from skimage import io\n",
    "from skimage.morphology import skeletonize_3d, binary_dilation, binary_closing\n",
    "from scipy.ndimage import distance_transform_edt\n",
    "import tifffile as tif\n",
    "from scipy.ndimage import binary_fill_holes \n",
    "import cc3d\n",
    "from scipy.io import loadmat, savemat\n",
    "import skan\n",
    "import sknw\n",
    "import networkx as nx\n",
    "import pickle\n",
    "#from pystackreg import StackReg\n",
    "#from plantcv import plantcv as pcv\n",
    "#from VascGraph.Skeletonize import Skeleton\n",
    "\n",
    "#from VascGraph.GraphIO import ReadStackMat\n",
    "#from VascGraph.GraphLab import StackPlot\n",
    "#from VascGraph.Tools.VisTools import visG\n",
    "#from VascGraph.Tools.CalcTools import fixG\n",
    "#from VascGraph.GraphIO import WritePajek"
   ]
  },
  {
   "cell_type": "code",
   "execution_count": 22,
   "id": "3eb11003",
   "metadata": {},
   "outputs": [],
   "source": [
    "#!pip install pystackreg"
   ]
  },
  {
   "cell_type": "code",
   "execution_count": 1,
   "id": "9d8290d8",
   "metadata": {},
   "outputs": [],
   "source": [
    "def remove_small_comps_3d(image, thresh = 1000):\n",
    "    \"\"\"\n",
    "    \n",
    "\n",
    "    Parameters\n",
    "    ----------\n",
    "    image : binary np array with uint8 elements\n",
    "        3d numpy matrix, connected components will be removed form this image\n",
    "    thresh : int64\n",
    "        smallest connected components to keep\n",
    "\n",
    "    Returns\n",
    "    -------\n",
    "    np.array with uint8 elements, binary\n",
    "        binary image with connected components below the threshold removed.\n",
    "\n",
    "    \"\"\"\n",
    "    img_lab, N = cc3d.connected_components(image,return_N=True)\n",
    "    unique, counts = np.unique(img_lab, return_counts=True)\n",
    "    unique_keep = unique[counts>thresh]\n",
    "    unique_keep = np.delete(unique_keep,[0])\n",
    "    img_filt = np.zeros(img_lab.shape).astype('int8')\n",
    "    img_filt[np.isin(img_lab,unique_keep)] = 1\n",
    "    return img_filt.astype('uint8')   \n",
    "\n",
    "def fill_holes(img):\n",
    "    #res = np.zeros(img.shape)\n",
    "    for i in np.unique(img)[::-1]:\n",
    "        _tmp = (img==i)*1.0\n",
    "        _tmp = _tmp.astype('int8')\n",
    "        _tmp = remove_small_comps_3d(_tmp)\n",
    "        img[_tmp==1] = i\n",
    "    res = img.astype('int8')\n",
    "    return res"
   ]
  },
  {
   "cell_type": "code",
   "execution_count": null,
   "id": "6eb53c9f",
   "metadata": {},
   "outputs": [],
   "source": []
  },
  {
   "cell_type": "code",
   "execution_count": 24,
   "id": "73d389d6",
   "metadata": {},
   "outputs": [],
   "source": [
    "directory = Path('james_preds')\n",
    "files  = directory.glob('*_seg_warped.tif')\n",
    "files = sorted([x.as_posix() for x in files])"
   ]
  },
  {
   "cell_type": "code",
   "execution_count": 25,
   "id": "ce684e55",
   "metadata": {},
   "outputs": [
    {
     "data": {
      "text/plain": [
       "'james_preds/XYZres006_0001_seg_warped.tif'"
      ]
     },
     "execution_count": 25,
     "metadata": {},
     "output_type": "execute_result"
    }
   ],
   "source": [
    "files[0]"
   ]
  },
  {
   "cell_type": "code",
   "execution_count": 26,
   "id": "22807ba0",
   "metadata": {},
   "outputs": [
    {
     "name": "stderr",
     "output_type": "stream",
     "text": [
      "100%|██████████| 94/94 [29:48<00:00, 19.02s/it]\n"
     ]
    }
   ],
   "source": [
    "min_prob = 0.75\n",
    "max_var = 0.1\n",
    "for file in tqdm(files):\n",
    "    seg = io.imread(file)\n",
    "    seg = seg.astype('int8')\n",
    "    seg = (seg==1)*1\n",
    "    seg = fill_holes(seg)\n",
    "    #np.save(re.sub('mean','seg',file),seg)\n",
    "    savemat(re.sub('_seg_warped.tif','_seg_warped.mat',file),{'FinalImage':fill_holes(binary_dilation(binary_dilation(seg)))})\n",
    "    tif.imwrite(re.sub('_seg_warped.tif','_seg_warped_filled.tif',file),seg)"
   ]
  },
  {
   "cell_type": "code",
   "execution_count": 7,
   "id": "2bc3c4ad",
   "metadata": {},
   "outputs": [
    {
     "ename": "NameError",
     "evalue": "name 'seg' is not defined",
     "output_type": "error",
     "traceback": [
      "\u001b[0;31m---------------------------------------------------------------------------\u001b[0m",
      "\u001b[0;31mNameError\u001b[0m                                 Traceback (most recent call last)",
      "Input \u001b[0;32mIn [7]\u001b[0m, in \u001b[0;36m<module>\u001b[0;34m\u001b[0m\n\u001b[0;32m----> 1\u001b[0m np\u001b[38;5;241m.\u001b[39mmax(\u001b[43mseg\u001b[49m)\n",
      "\u001b[0;31mNameError\u001b[0m: name 'seg' is not defined"
     ]
    }
   ],
   "source": [
    "np.max(seg)"
   ]
  },
  {
   "cell_type": "code",
   "execution_count": 27,
   "id": "efdcb8e6",
   "metadata": {},
   "outputs": [
    {
     "data": {
      "text/plain": [
       "47"
      ]
     },
     "execution_count": 27,
     "metadata": {},
     "output_type": "execute_result"
    }
   ],
   "source": [
    "files_seg_0001 = directory.glob('*_0001_seg_warped.tif')\n",
    "files_seg_0001 = sorted([x.as_posix() for x in files_seg_0001])\n",
    "len(files_seg_0001)"
   ]
  },
  {
   "cell_type": "code",
   "execution_count": 20,
   "id": "068a88c7",
   "metadata": {},
   "outputs": [
    {
     "name": "stderr",
     "output_type": "stream",
     "text": [
      "\r",
      "  0%|          | 0/94 [00:00<?, ?it/s]"
     ]
    },
    {
     "name": "stdout",
     "output_type": "stream",
     "text": [
      "james_preds/XYZres006_skel_warped_single.mat\n"
     ]
    },
    {
     "name": "stderr",
     "output_type": "stream",
     "text": [
      "/tmp/ipykernel_384624/1148313062.py:16: UserWarning: james_preds/XYZres006_0001_dst_skel_warped_single.tif is a low contrast image\n",
      "  io.imsave(re.sub('_seg_warped_filled.tif','_dst_skel_warped_single.tif',file),skel_dst)\n",
      "  1%|          | 1/94 [00:16<25:45, 16.62s/it]"
     ]
    },
    {
     "name": "stdout",
     "output_type": "stream",
     "text": [
      "james_preds/XYZres006_skel_warped_single.mat\n"
     ]
    },
    {
     "name": "stderr",
     "output_type": "stream",
     "text": [
      "/tmp/ipykernel_384624/1148313062.py:16: UserWarning: james_preds/XYZres006_dst_skel_warped_single.tif is a low contrast image\n",
      "  io.imsave(re.sub('_seg_warped_filled.tif','_dst_skel_warped_single.tif',file),skel_dst)\n",
      "  2%|▏         | 2/94 [00:31<23:58, 15.64s/it]"
     ]
    },
    {
     "name": "stdout",
     "output_type": "stream",
     "text": [
      "james_preds/XYZres007_skel_warped_single.mat\n"
     ]
    },
    {
     "name": "stderr",
     "output_type": "stream",
     "text": [
      "/tmp/ipykernel_384624/1148313062.py:16: UserWarning: james_preds/XYZres007_0001_dst_skel_warped_single.tif is a low contrast image\n",
      "  io.imsave(re.sub('_seg_warped_filled.tif','_dst_skel_warped_single.tif',file),skel_dst)\n",
      "  3%|▎         | 3/94 [00:49<25:06, 16.55s/it]"
     ]
    },
    {
     "name": "stdout",
     "output_type": "stream",
     "text": [
      "james_preds/XYZres007_skel_warped_single.mat\n"
     ]
    },
    {
     "name": "stderr",
     "output_type": "stream",
     "text": [
      "/tmp/ipykernel_384624/1148313062.py:16: UserWarning: james_preds/XYZres007_dst_skel_warped_single.tif is a low contrast image\n",
      "  io.imsave(re.sub('_seg_warped_filled.tif','_dst_skel_warped_single.tif',file),skel_dst)\n",
      "  4%|▍         | 4/94 [01:06<25:07, 16.75s/it]"
     ]
    },
    {
     "name": "stdout",
     "output_type": "stream",
     "text": [
      "james_preds/XYZres008_skel_warped_single.mat\n"
     ]
    },
    {
     "name": "stderr",
     "output_type": "stream",
     "text": [
      "  4%|▍         | 4/94 [01:19<29:42, 19.81s/it]\n"
     ]
    },
    {
     "ename": "KeyboardInterrupt",
     "evalue": "",
     "output_type": "error",
     "traceback": [
      "\u001b[0;31m---------------------------------------------------------------------------\u001b[0m",
      "\u001b[0;31mKeyboardInterrupt\u001b[0m                         Traceback (most recent call last)",
      "Input \u001b[0;32mIn [20]\u001b[0m, in \u001b[0;36m<module>\u001b[0;34m\u001b[0m\n\u001b[1;32m      8\u001b[0m skel \u001b[38;5;241m=\u001b[39m skeletonize_3d(skel)\n\u001b[1;32m      9\u001b[0m skel \u001b[38;5;241m=\u001b[39m remove_small_comps_3d(skel,\u001b[38;5;241m10\u001b[39m)\n\u001b[0;32m---> 10\u001b[0m dst_tsfm \u001b[38;5;241m=\u001b[39m \u001b[43mdistance_transform_edt\u001b[49m\u001b[43m(\u001b[49m\u001b[43mseg\u001b[49m\u001b[43m)\u001b[49m\u001b[38;5;241m*\u001b[39m\u001b[38;5;241m0.99436\u001b[39m\n\u001b[1;32m     11\u001b[0m dst_tsfm[dst_tsfm\u001b[38;5;241m==\u001b[39m\u001b[38;5;241m0\u001b[39m]\u001b[38;5;241m=\u001b[39m\u001b[38;5;241m0.01\u001b[39m\n\u001b[1;32m     12\u001b[0m skel_dst \u001b[38;5;241m=\u001b[39m skel\u001b[38;5;241m*\u001b[39mdst_tsfm\n",
      "File \u001b[0;32m~/.local/lib/python3.8/site-packages/scipy/ndimage/morphology.py:2278\u001b[0m, in \u001b[0;36mdistance_transform_edt\u001b[0;34m(input, sampling, return_distances, return_indices, distances, indices)\u001b[0m\n\u001b[1;32m   2275\u001b[0m \u001b[38;5;28;01melse\u001b[39;00m:\n\u001b[1;32m   2276\u001b[0m     ft \u001b[38;5;241m=\u001b[39m numpy\u001b[38;5;241m.\u001b[39mzeros((\u001b[38;5;28minput\u001b[39m\u001b[38;5;241m.\u001b[39mndim,) \u001b[38;5;241m+\u001b[39m \u001b[38;5;28minput\u001b[39m\u001b[38;5;241m.\u001b[39mshape, dtype\u001b[38;5;241m=\u001b[39mnumpy\u001b[38;5;241m.\u001b[39mint32)\n\u001b[0;32m-> 2278\u001b[0m \u001b[43m_nd_image\u001b[49m\u001b[38;5;241;43m.\u001b[39;49m\u001b[43meuclidean_feature_transform\u001b[49m\u001b[43m(\u001b[49m\u001b[38;5;28;43minput\u001b[39;49m\u001b[43m,\u001b[49m\u001b[43m \u001b[49m\u001b[43msampling\u001b[49m\u001b[43m,\u001b[49m\u001b[43m \u001b[49m\u001b[43mft\u001b[49m\u001b[43m)\u001b[49m\n\u001b[1;32m   2279\u001b[0m \u001b[38;5;66;03m# if requested, calculate the distance transform\u001b[39;00m\n\u001b[1;32m   2280\u001b[0m \u001b[38;5;28;01mif\u001b[39;00m return_distances:\n",
      "\u001b[0;31mKeyboardInterrupt\u001b[0m: "
     ]
    }
   ],
   "source": [
    "for file_0001 in tqdm(files_seg_0001):\n",
    "    file = file_0001\n",
    "    skel_file = re.sub('_seg_warped.tif','_skel_warped.mat',file)\n",
    "    seg = io.imread(file)\n",
    "    skel = loadmat(skel_file)\n",
    "    skel = loadmat(skel_file)['FilteredImage']\n",
    "    skel = skeletonize_3d(skel)\n",
    "    skel = remove_small_comps_3d(skel,10)\n",
    "    dst_tsfm = distance_transform_edt(seg)*0.99436\n",
    "    dst_tsfm[dst_tsfm==0]=0.00001\n",
    "    skel_dst = skel*dst_tsfm\n",
    "\n",
    "    \n",
    "    np.save(re.sub('seg','dst_skel',file),skel_dst)\n",
    "    io.imsave(re.sub('_seg_warped.tif','_dst_skel_warped.tif',file),skel_dst)\n",
    "    graph = sknw.build_sknw(skel_dst, multi=False)\n",
    "    #print(len(graph.edges))\n",
    "    \n",
    "    #print(len(graph_0001.edges))\n",
    "    #pickle.dump(graph, open(str(re.sub('_seg.npy','.pickle',file)), 'w'))\n",
    "    #nx.write_pajek(graph,re.sub('_seg.npy','.pajek',file))\n",
    "    nx.write_gpickle(graph,re.sub('_seg_warped.tif','_warped.pickle',file))\n",
    "    #raph.to_csv(re.sub('seg.npy','graph.csv',file))"
   ]
  },
  {
   "cell_type": "code",
   "execution_count": 12,
   "id": "e6f2e401",
   "metadata": {},
   "outputs": [
    {
     "data": {
      "text/plain": [
       "AtlasView({112: {'pts': array([[  3,  68, 153],\n",
       "       [  4,  68, 153],\n",
       "       [  5,  68, 153],\n",
       "       [  6,  68, 153],\n",
       "       [  7,  68, 153],\n",
       "       [  8,  68, 153],\n",
       "       [  9,  69, 152],\n",
       "       [ 10,  69, 152],\n",
       "       [ 11,  69, 152],\n",
       "       [ 12,  69, 152],\n",
       "       [ 13,  70, 152],\n",
       "       [ 14,  70, 152],\n",
       "       [ 15,  70, 152],\n",
       "       [ 16,  70, 152]], dtype=int16), 'weight': 14.146264369941973}})"
      ]
     },
     "execution_count": 12,
     "metadata": {},
     "output_type": "execute_result"
    }
   ],
   "source": [
    "graph[0]"
   ]
  },
  {
   "cell_type": "code",
   "execution_count": null,
   "id": "448dd8c3",
   "metadata": {},
   "outputs": [],
   "source": [
    "re.sub('_seg.npy','.pickle',file)"
   ]
  },
  {
   "cell_type": "code",
   "execution_count": null,
   "id": "d65d590f",
   "metadata": {},
   "outputs": [],
   "source": [
    "skel_file = re.sub('seg.npy','skel.mat',file)"
   ]
  },
  {
   "cell_type": "code",
   "execution_count": null,
   "id": "344c7c0c",
   "metadata": {},
   "outputs": [],
   "source": [
    "graph[0][39]"
   ]
  },
  {
   "cell_type": "code",
   "execution_count": null,
   "id": "ec58850a",
   "metadata": {},
   "outputs": [],
   "source": [
    "re.sub('seg.npy','graph.csv',file_0001)"
   ]
  },
  {
   "cell_type": "code",
   "execution_count": null,
   "id": "2d0f6c22",
   "metadata": {},
   "outputs": [],
   "source": [
    "files[22:24]"
   ]
  },
  {
   "cell_type": "code",
   "execution_count": null,
   "id": "e38c50b0",
   "metadata": {},
   "outputs": [],
   "source": []
  }
 ],
 "metadata": {
  "kernelspec": {
   "display_name": "monai3.8",
   "language": "python",
   "name": "monai3.8"
  },
  "language_info": {
   "codemirror_mode": {
    "name": "ipython",
    "version": 3
   },
   "file_extension": ".py",
   "mimetype": "text/x-python",
   "name": "python",
   "nbconvert_exporter": "python",
   "pygments_lexer": "ipython3",
   "version": "3.8.10"
  }
 },
 "nbformat": 4,
 "nbformat_minor": 5
}
