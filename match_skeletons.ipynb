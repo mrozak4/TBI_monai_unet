{
 "cells": [
  {
   "cell_type": "code",
   "execution_count": 1,
   "metadata": {},
   "outputs": [],
   "source": [
    "import numpy as np\n",
    "from pathlib import Path\n",
    "import re\n",
    "from tqdm import tqdm\n",
    "from skimage import io\n",
    "from skimage.morphology import skeletonize_3d, binary_dilation, binary_closing\n",
    "from scipy.ndimage import distance_transform_edt\n",
    "import tifffile as tif\n",
    "from scipy.ndimage import binary_fill_holes \n",
    "import cc3d\n",
    "from scipy.io import loadmat, savemat\n",
    "import skan\n",
    "import sknw\n",
    "import networkx as nx\n",
    "import pickle\n",
    "import skeletonContext as sc\n",
    "from skeleton2Graph import skeleton2Graph, mat2gray"
   ]
  },
  {
   "cell_type": "code",
   "execution_count": 6,
   "metadata": {},
   "outputs": [],
   "source": [
    "directory = Path('james_preds')\n",
    "files  = directory.glob('*_0001_dst_skel.npy')\n",
    "files_0001 = sorted([x.as_posix() for x in files])\n",
    "files = [re.sub('_0001','',i) for i in files_0001]"
   ]
  },
  {
   "cell_type": "code",
   "execution_count": 8,
   "metadata": {},
   "outputs": [
    {
     "ename": "IndexError",
     "evalue": "index 1 is out of bounds for axis 0 with size 0",
     "output_type": "error",
     "traceback": [
      "\u001b[0;31m---------------------------------------------------------------------------\u001b[0m",
      "\u001b[0;31mIndexError\u001b[0m                                Traceback (most recent call last)",
      "Input \u001b[0;32mIn [8]\u001b[0m, in \u001b[0;36m<module>\u001b[0;34m\u001b[0m\n\u001b[1;32m      2\u001b[0m skel1 \u001b[38;5;241m=\u001b[39m mat2gray(np\u001b[38;5;241m.\u001b[39mload(files[\u001b[38;5;241m0\u001b[39m]))\u001b[38;5;241m.\u001b[39mastype(\u001b[38;5;124m'\u001b[39m\u001b[38;5;124mfloat64\u001b[39m\u001b[38;5;124m'\u001b[39m)\n\u001b[1;32m      3\u001b[0m skel2 \u001b[38;5;241m=\u001b[39m mat2gray(np\u001b[38;5;241m.\u001b[39mload(files_0001[\u001b[38;5;241m0\u001b[39m]))\u001b[38;5;241m.\u001b[39mastype(\u001b[38;5;124m'\u001b[39m\u001b[38;5;124mfloat64\u001b[39m\u001b[38;5;124m'\u001b[39m)\n\u001b[0;32m----> 4\u001b[0m _, edgeList1, _, _, _, _, _, _ \u001b[38;5;241m=\u001b[39m \u001b[43mskeleton2Graph\u001b[49m\u001b[43m(\u001b[49m\u001b[43mskel1\u001b[49m\u001b[43m,\u001b[49m\u001b[43mskel1\u001b[49m\u001b[43m)\u001b[49m\n\u001b[1;32m      5\u001b[0m _, edgeList2, _, _, _, _, _, _ \u001b[38;5;241m=\u001b[39m skeleton2Graph(skel2,skel2)\n\u001b[1;32m      6\u001b[0m s1Tangent, s1PointsList \u001b[38;5;241m=\u001b[39m sc\u001b[38;5;241m.\u001b[39mskeletonTangentEstimate(edgeList1)\n",
      "File \u001b[0;32m/gpfs/fs0/scratch/b/bojana/rozakmat/TBI_monai_UNET/skeleton2Graph.py:203\u001b[0m, in \u001b[0;36mskeleton2Graph\u001b[0;34m(skeleton, fluxMap, sigma)\u001b[0m\n\u001b[1;32m    202\u001b[0m \u001b[38;5;28;01mdef\u001b[39;00m \u001b[38;5;21mskeleton2Graph\u001b[39m(skeleton, fluxMap, sigma \u001b[38;5;241m=\u001b[39m \u001b[38;5;241m5\u001b[39m):\n\u001b[0;32m--> 203\u001b[0m     branchPoints, endPoints, skeletonTemp \u001b[38;5;241m=\u001b[39m \u001b[43mfindBranchPoints\u001b[49m\u001b[43m(\u001b[49m\u001b[43mskeleton\u001b[49m\u001b[43m)\u001b[49m\n\u001b[1;32m    204\u001b[0m     skeletonTemp1 \u001b[38;5;241m=\u001b[39m np\u001b[38;5;241m.\u001b[39mcopy(skeletonTemp)\n\u001b[1;32m    205\u001b[0m     vertices \u001b[38;5;241m=\u001b[39m np\u001b[38;5;241m.\u001b[39mconcatenate((endPoints, branchPoints))\n",
      "File \u001b[0;32m/gpfs/fs0/scratch/b/bojana/rozakmat/TBI_monai_UNET/skeleton2Graph.py:60\u001b[0m, in \u001b[0;36mfindBranchPoints\u001b[0;34m(skeleton, return_image)\u001b[0m\n\u001b[1;32m     57\u001b[0m \u001b[38;5;28;01mfor\u001b[39;00m selectedPoint \u001b[38;5;129;01min\u001b[39;00m pixelPoints:\n\u001b[1;32m     58\u001b[0m     pointMatrix \u001b[38;5;241m=\u001b[39m np\u001b[38;5;241m.\u001b[39marray(\n\u001b[1;32m     59\u001b[0m         skeleton[selectedPoint[\u001b[38;5;241m0\u001b[39m] \u001b[38;5;241m-\u001b[39m \u001b[38;5;241m1\u001b[39m:selectedPoint[\u001b[38;5;241m0\u001b[39m] \u001b[38;5;241m+\u001b[39m \u001b[38;5;241m2\u001b[39m, selectedPoint[\u001b[38;5;241m1\u001b[39m] \u001b[38;5;241m-\u001b[39m \u001b[38;5;241m1\u001b[39m:selectedPoint[\u001b[38;5;241m1\u001b[39m] \u001b[38;5;241m+\u001b[39m \u001b[38;5;241m2\u001b[39m], copy\u001b[38;5;241m=\u001b[39m\u001b[38;5;28;01mTrue\u001b[39;00m)\n\u001b[0;32m---> 60\u001b[0m     pointMatrix[\u001b[38;5;241m1\u001b[39m, \u001b[38;5;241m1\u001b[39m] \u001b[38;5;241m=\u001b[39m \u001b[38;5;241m0\u001b[39m\n\u001b[1;32m     61\u001b[0m     verticeNumber \u001b[38;5;241m=\u001b[39m np\u001b[38;5;241m.\u001b[39mcount_nonzero(pointMatrix)\n\u001b[1;32m     62\u001b[0m     edgeMap \u001b[38;5;241m=\u001b[39m pointMatrix \u001b[38;5;241m*\u001b[39m ndimage\u001b[38;5;241m.\u001b[39mconvolve(pointMatrix, neighbFilter4, mode\u001b[38;5;241m=\u001b[39m\u001b[38;5;124m'\u001b[39m\u001b[38;5;124mconstant\u001b[39m\u001b[38;5;124m'\u001b[39m, cval\u001b[38;5;241m=\u001b[39m\u001b[38;5;241m0.0\u001b[39m)\n",
      "\u001b[0;31mIndexError\u001b[0m: index 1 is out of bounds for axis 0 with size 0"
     ]
    }
   ],
   "source": [
    "i = 1\n",
    "skel1 = mat2gray(np.load(files[0])).astype('float64')\n",
    "skel2 = mat2gray(np.load(files_0001[0])).astype('float64')\n",
    "_, edgeList1, _, _, _, _, _, _ = skeleton2Graph(skel1,skel1)\n",
    "_, edgeList2, _, _, _, _, _, _ = skeleton2Graph(skel2,skel2)\n",
    "s1Tangent, s1PointsList = sc.skeletonTangentEstimate(edgeList1)\n",
    "s2Tangent, s2PointsList = sc.skeletonTangentEstimate(edgeList2)"
   ]
  },
  {
   "cell_type": "code",
   "execution_count": 11,
   "metadata": {},
   "outputs": [
    {
     "data": {
      "text/plain": [
       "0.022621352027564802"
      ]
     },
     "execution_count": 11,
     "metadata": {},
     "output_type": "execute_result"
    }
   ],
   "source": [
    "np.mean(skel1[skel1!=0])"
   ]
  },
  {
   "cell_type": "code",
   "execution_count": null,
   "metadata": {},
   "outputs": [],
   "source": []
  }
 ],
 "metadata": {
  "kernelspec": {
   "display_name": "graph",
   "language": "python",
   "name": "graph"
  },
  "language_info": {
   "codemirror_mode": {
    "name": "ipython",
    "version": 3
   },
   "file_extension": ".py",
   "mimetype": "text/x-python",
   "name": "python",
   "nbconvert_exporter": "python",
   "pygments_lexer": "ipython3",
   "version": "3.8.5"
  }
 },
 "nbformat": 4,
 "nbformat_minor": 4
}
