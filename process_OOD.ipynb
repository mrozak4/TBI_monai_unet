{
 "cells": [
  {
   "cell_type": "code",
   "execution_count": 2,
   "id": "50acd437-5708-487c-92ec-c04dc3ca492d",
   "metadata": {},
   "outputs": [],
   "source": [
    "import numpy as np\n",
    "from skimage import io\n",
    "from pathlib import Path\n",
    "import re\n",
    "#import ants\n",
    "from skimage.transform import resize\n",
    "from tqdm import tqdm\n",
    "from skimage.morphology import skeletonize_3d, binary_closing\n",
    "from scipy.ndimage import distance_transform_edt, binary_dilation\n",
    "import tifffile as tif\n",
    "from scipy.ndimage import binary_fill_holes\n",
    "import cc3d\n",
    "from scipy.io import loadmat, savemat\n",
    "import sknw\n",
    "import networkx as nx\n",
    "import pickle\n",
    "import os\n",
    "import matplotlib.pyplot as plt\n",
    "import pandas as pd\n",
    "import time\n",
    "import scipy as sp\n",
    "import vg\n",
    "from pytransform3d.rotations import matrix_from_axis_angle\n",
    "import multiprocessing\n",
    "from scipy.ndimage import convolve as conv\n",
    "from scipy.stats import multivariate_normal\n",
    "from skimage import color, data, restoration\n",
    "from RedLionfishDeconv import doRLDeconvolutionFromNpArrays\n",
    "from matplotlib.patches import Circle\n",
    "from skimage.feature import peak_local_max\n",
    "from statistics import mode\n",
    "import imageio\n",
    "from PIL import Image\n",
    "from PIL.TiffTags import TAGS\n",
    "from tifffile import TiffFile\n",
    "from sklearn.metrics import normalized_mutual_info_score, adjusted_mutual_info_score\n",
    "plt.rcParams['figure.figsize'] = [15, 15]"
   ]
  },
  {
   "cell_type": "code",
   "execution_count": 3,
   "id": "e4a45fa2-8a6d-4147-96d0-9819c7548d68",
   "metadata": {},
   "outputs": [],
   "source": [
    "def remove_small_comps_3d(image, thresh = 500):\n",
    "    \"\"\"\n",
    "\n",
    "    Parameters\n",
    "    ----------\n",
    "    image : binary np array with uint8 elements\n",
    "        3d numpy matrix, connected components will be removed form this image\n",
    "    thresh : int64\n",
    "        smallest connected components to keep\n",
    "\n",
    "    Returns\n",
    "    -------\n",
    "    np.array with uint8 elements, binary\n",
    "        binary image with connected components below the threshold removed.\n",
    "\n",
    "    \"\"\"\n",
    "    img_lab, N = cc3d.connected_components(image,return_N=True)\n",
    "    unique, counts = np.unique(img_lab, return_counts=True)\n",
    "    unique_keep = unique[counts>thresh]\n",
    "    unique_keep = np.delete(unique_keep,[0])\n",
    "    img_filt = np.zeros(img_lab.shape).astype('int8')\n",
    "    img_filt[np.isin(img_lab,unique_keep)] = 1\n",
    "    return img_filt.astype('uint8')   \n",
    "\n",
    "def fill_holes(img,thresh=1000):\n",
    "    #res = np.zeros(img.shape)\n",
    "    for i in np.unique(img)[::-1]:\n",
    "        _tmp = (img==i)*1.0\n",
    "        _tmp = _tmp.astype('int8')\n",
    "        _tmp = remove_small_comps_3d(_tmp,thresh=thresh)\n",
    "        img[_tmp==1] = i\n",
    "    res = img.astype('int8')\n",
    "    return res\n",
    "\n",
    "def _rotmat(vector, points):\n",
    "    \"\"\"\n",
    "    Rotates a 3xn array of 3D coordinates from the +z normal to an\n",
    "    arbitrary new normal vector.\n",
    "    \"\"\"\n",
    "    \n",
    "    vector = vg.normalize(vector)\n",
    "    axis = vg.perpendicular(vg.basis.z, vector)\n",
    "    angle = vg.angle(vg.basis.z, vector, units='rad')\n",
    "    \n",
    "    a = np.hstack((axis, (angle,)))\n",
    "    R = matrix_from_axis_angle(a)\n",
    "    \n",
    "    r = sp.spatial.transform.Rotation.from_matrix(R)\n",
    "    rotmat = r.apply(points)\n",
    "    \n",
    "    return rotmat\n",
    "\n",
    "def closest_node(node, nodes):\n",
    "    nodes = np.asarray(nodes)\n",
    "    dist_2 = np.sum((nodes - node)**2, axis=1)\n",
    "    if np.min(dist_2)>10:\n",
    "        return node\n",
    "    else:\n",
    "        return nodes[np.argmin(dist_2)]"
   ]
  },
  {
   "cell_type": "code",
   "execution_count": 4,
   "id": "70ced26a-3929-4389-9368-9e88a84cd396",
   "metadata": {},
   "outputs": [],
   "source": [
    "folder  = Path('../FILES_FOR_SHRUTI')\n",
    "files = list(folder.glob('LSFM/*/*.tif')) #+ list(Path('../FILES_FOR_SHRUTI').glob('*/*/*_up.tif'))\n",
    "files = [x.as_posix() for x in files]\n",
    "files  = [x for x in files if 'reshape' not in x]"
   ]
  },
  {
   "cell_type": "code",
   "execution_count": null,
   "id": "8a1b9c67-ecce-4b26-8412-c2a081f24a38",
   "metadata": {},
   "outputs": [],
   "source": [
    "files"
   ]
  },
  {
   "cell_type": "code",
   "execution_count": null,
   "id": "d952629a-5038-420c-93e0-051620936135",
   "metadata": {},
   "outputs": [],
   "source": [
    "for file in files:\n",
    "    img = np.expand_dims(np.swapaxes(io.imread(file), 0,2),0)/65535 * 1023\n",
    "    #_ = np.zeros(img.shape)\n",
    "    _ = np.random.normal(loc = np.mean(img), scale = np.std(img), size = img.shape)\n",
    "    img = np.concatenate((img, _), axis = 0)\n",
    "    io.imsave(re.sub('.tif','_reshape.tif', file),img)\n",
    "    print(img.shape)"
   ]
  },
  {
   "cell_type": "code",
   "execution_count": 22,
   "id": "77b00063-80fe-48ed-816b-e3a03747dabb",
   "metadata": {},
   "outputs": [
    {
     "data": {
      "text/plain": [
       "['../FILES_FOR_SHRUTI/ROSA/2520/C1-XYZ1_up.tif',\n",
       " '../FILES_FOR_SHRUTI/ROSA/2979/C1-XYZ1_up.tif',\n",
       " '../FILES_FOR_SHRUTI/ROSA/2981/C1-XYZ1_up.tif',\n",
       " '../FILES_FOR_SHRUTI/ROSA/4034/C1-XYZ1_up.tif',\n",
       " '../FILES_FOR_SHRUTI/ROSA/4054/C2-XYZ1_up.tif',\n",
       " '../FILES_FOR_SHRUTI/C57/04/C1-XYZres468-1_up.tif',\n",
       " '../FILES_FOR_SHRUTI/C57/03/C1-XYZres460_0001_up.tif',\n",
       " '../FILES_FOR_SHRUTI/C57/01/C1-XYZres438_up.tif',\n",
       " '../FILES_FOR_SHRUTI/C57/02/C1-XYZres445_0001_up.tif']"
      ]
     },
     "execution_count": 22,
     "metadata": {},
     "output_type": "execute_result"
    }
   ],
   "source": [
    "folder  = Path('../FILES_FOR_SHRUTI')\n",
    "files = list(Path('../FILES_FOR_SHRUTI').glob('*/*/*_up.tif'))\n",
    "files = [x.as_posix() for x in files]\n",
    "files  = [x for x in files if 'reshape' not in x]\n",
    "files"
   ]
  },
  {
   "cell_type": "code",
   "execution_count": 23,
   "id": "4ee9d740-5b05-4363-b499-187c680ce34e",
   "metadata": {},
   "outputs": [
    {
     "name": "stdout",
     "output_type": "stream",
     "text": [
      "../FILES_FOR_SHRUTI/ROSA/4054/C2-XYZ1_up.tif\n",
      "(2, 512, 512, 507)\n"
     ]
    }
   ],
   "source": [
    "for file in files[4:]:\n",
    "    print(file)\n",
    "    img = np.expand_dims(np.swapaxes(io.imread(file), 0,2),0)/65535 * 1023\n",
    "    #_ = np.zeros(img.shape)\n",
    "    _ = np.random.normal(loc = np.mean(img), scale = np.std(img), size = img.shape)\n",
    "    img = np.concatenate((img, _), axis = 0)\n",
    "    io.imsave(re.sub('.tif','_reshape.tif', file),img)\n",
    "    print(img.shape)\n",
    "    break"
   ]
  },
  {
   "cell_type": "code",
   "execution_count": 13,
   "id": "ac6deecd-acc4-4e29-a76d-e1a3131dc640",
   "metadata": {},
   "outputs": [
    {
     "data": {
      "text/plain": [
       "4"
      ]
     },
     "execution_count": 13,
     "metadata": {},
     "output_type": "execute_result"
    }
   ],
   "source": [
    "len(img.shape)"
   ]
  },
  {
   "cell_type": "code",
   "execution_count": 11,
   "id": "e3bd4c52-ca37-4669-a8f8-a70bb77c76e1",
   "metadata": {},
   "outputs": [],
   "source": [
    "files = list(Path('../FILES_FOR_SHRUTI').glob('*/*/*_reshape.tif'))"
   ]
  },
  {
   "cell_type": "code",
   "execution_count": 12,
   "id": "fb74e9f6-c0e7-47e9-97d2-5f11413fc2e9",
   "metadata": {},
   "outputs": [
    {
     "data": {
      "text/plain": [
       "[PosixPath('../FILES_FOR_SHRUTI/ROSA/2520/C1-XYZ1_up_reshape.tif'),\n",
       " PosixPath('../FILES_FOR_SHRUTI/ROSA/2979/C1-XYZ1_up_reshape.tif'),\n",
       " PosixPath('../FILES_FOR_SHRUTI/ROSA/2981/C1-XYZ1_up_reshape.tif'),\n",
       " PosixPath('../FILES_FOR_SHRUTI/ROSA/4034/C1-XYZ1_up_reshape.tif'),\n",
       " PosixPath('../FILES_FOR_SHRUTI/ROSA/4054/XYZ1_up_reshape.tif'),\n",
       " PosixPath('../FILES_FOR_SHRUTI/C57/04/C1-XYZres468-1_up_reshape.tif'),\n",
       " PosixPath('../FILES_FOR_SHRUTI/C57/03/C1-XYZres460_0001_up_reshape.tif'),\n",
       " PosixPath('../FILES_FOR_SHRUTI/C57/01/C1-XYZres438_up_reshape.tif'),\n",
       " PosixPath('../FILES_FOR_SHRUTI/C57/02/C1-XYZres445_0001_up_reshape.tif'),\n",
       " PosixPath('../FILES_FOR_SHRUTI/LSFM/64/64_reshape.tif'),\n",
       " PosixPath('../FILES_FOR_SHRUTI/LSFM/78A/Substack (571-669)_reshape.tif'),\n",
       " PosixPath('../FILES_FOR_SHRUTI/LSFM/69/69_reshape.tif'),\n",
       " PosixPath('../FILES_FOR_SHRUTI/LSFM/65/65_reshape.tif')]"
      ]
     },
     "execution_count": 12,
     "metadata": {},
     "output_type": "execute_result"
    }
   ],
   "source": [
    "files"
   ]
  },
  {
   "cell_type": "code",
   "execution_count": 14,
   "id": "bb64ff1a-3fe7-4a13-b407-9c8080fc3376",
   "metadata": {},
   "outputs": [
    {
     "data": {
      "text/plain": [
       "[{'image': '../FILES_FOR_SHRUTI/C57/02/C1-XYZres445_0001_up_reshape.tif'},\n",
       " {'image': '../FILES_FOR_SHRUTI/ROSA/2979/C1-XYZ1_up_reshape.tif'},\n",
       " {'image': '../FILES_FOR_SHRUTI/C57/03/C1-XYZres460_0001_up_reshape.tif'},\n",
       " {'image': '../FILES_FOR_SHRUTI/ROSA/4034/C1-XYZ1_up_reshape.tif'},\n",
       " {'image': '../FILES_FOR_SHRUTI/C57/04/C1-XYZres468-1_up_reshape.tif'},\n",
       " {'image': '../FILES_FOR_SHRUTI/C57/01/C1-XYZres438_up_reshape.tif'},\n",
       " {'image': '../FILES_FOR_SHRUTI/ROSA/2520/C1-XYZ1_up_reshape.tif'},\n",
       " {'image': '../FILES_FOR_SHRUTI/ROSA/4054/XYZ1_up_reshape.tif'},\n",
       " {'image': '../FILES_FOR_SHRUTI/ROSA/2981/C1-XYZ1_up_reshape.tif'},\n",
       " {'image': '../FILES_FOR_SHRUTI/LSFM/78A/Substack (571-669)_reshape.tif'}]"
      ]
     },
     "execution_count": 14,
     "metadata": {},
     "output_type": "execute_result"
    }
   ],
   "source": [
    "files = list(Path('../FILES_FOR_SHRUTI').glob('*/*/*_reshape.tif'))#grab folder names/mouse ids\n",
    "mouse_ids = sorted([x.as_posix() for x in files])\n",
    "np.random.shuffle(mouse_ids)\n",
    "data_dicts = [\n",
    "    {\"image\":image_name}\n",
    "    for image_name in mouse_ids if not os.path.exists(re.sub('.tif','_pred.npy',image_name))\n",
    "]\n",
    "\n",
    "data_dicts"
   ]
  },
  {
   "cell_type": "code",
   "execution_count": 71,
   "id": "0b78632c-546e-4ab7-954a-38c795a7429d",
   "metadata": {},
   "outputs": [
    {
     "name": "stdout",
     "output_type": "stream",
     "text": [
      "9\n"
     ]
    },
    {
     "name": "stderr",
     "output_type": "stream",
     "text": [
      "1it [00:02,  2.58s/it]"
     ]
    },
    {
     "name": "stdout",
     "output_type": "stream",
     "text": [
      "torch.Size([1, 2, 1025, 742, 307])\n",
      "(20, 3, 1025, 742, 307)\n"
     ]
    },
    {
     "name": "stderr",
     "output_type": "stream",
     "text": [
      "2it [00:22, 12.96s/it]"
     ]
    },
    {
     "name": "stdout",
     "output_type": "stream",
     "text": [
      "torch.Size([1, 2, 1025, 1025, 780])\n",
      "(20, 3, 1025, 1025, 780)\n"
     ]
    },
    {
     "name": "stderr",
     "output_type": "stream",
     "text": [
      "3it [00:24,  7.73s/it]"
     ]
    },
    {
     "name": "stdout",
     "output_type": "stream",
     "text": [
      "torch.Size([1, 2, 512, 512, 311])\n",
      "(20, 3, 512, 512, 311)\n"
     ]
    },
    {
     "name": "stderr",
     "output_type": "stream",
     "text": [
      "4it [00:26,  5.48s/it]"
     ]
    },
    {
     "name": "stdout",
     "output_type": "stream",
     "text": [
      "torch.Size([1, 2, 512, 512, 401])\n",
      "(20, 3, 512, 512, 401)\n"
     ]
    },
    {
     "name": "stderr",
     "output_type": "stream",
     "text": [
      "5it [00:28,  4.39s/it]"
     ]
    },
    {
     "name": "stdout",
     "output_type": "stream",
     "text": [
      "torch.Size([1, 2, 512, 512, 501])\n",
      "(20, 3, 512, 512, 501)\n"
     ]
    },
    {
     "name": "stderr",
     "output_type": "stream",
     "text": [
      "6it [00:29,  3.28s/it]"
     ]
    },
    {
     "name": "stdout",
     "output_type": "stream",
     "text": [
      "torch.Size([1, 2, 512, 512, 253])\n",
      "(20, 3, 512, 512, 253)\n"
     ]
    },
    {
     "name": "stderr",
     "output_type": "stream",
     "text": [
      "7it [00:31,  2.71s/it]"
     ]
    },
    {
     "name": "stdout",
     "output_type": "stream",
     "text": [
      "torch.Size([1, 2, 512, 512, 253])\n",
      "(20, 3, 512, 512, 253)\n"
     ]
    },
    {
     "name": "stderr",
     "output_type": "stream",
     "text": [
      "8it [00:50,  7.75s/it]"
     ]
    },
    {
     "name": "stdout",
     "output_type": "stream",
     "text": [
      "torch.Size([1, 2, 1025, 1025, 706])\n",
      "(20, 3, 1025, 1025, 706)\n"
     ]
    },
    {
     "name": "stderr",
     "output_type": "stream",
     "text": [
      "9it [00:51,  5.72s/it]"
     ]
    },
    {
     "name": "stdout",
     "output_type": "stream",
     "text": [
      "torch.Size([1, 2, 512, 512, 253])\n",
      "(20, 3, 512, 512, 253)\n"
     ]
    },
    {
     "name": "stderr",
     "output_type": "stream",
     "text": [
      "\n"
     ]
    }
   ],
   "source": [
    "files = list(Path('../FILES_FOR_SHRUTI').glob('*/*/*_reshape.tif'))#grab folder names/mouse ids\n",
    "mouse_ids = sorted([x.as_posix() for x in files])\n",
    "np.random.shuffle(mouse_ids)\n",
    "data_dicts = [\n",
    "    {\"image\":image_name}\n",
    "    for image_name in mouse_ids if not os.path.exists(re.sub('.tif','_pred.npy',image_name))\n",
    "]\n",
    "\n",
    "print(len(data_dicts))\n",
    "\n",
    "#data_dicts = [data_dicts[_i]]\n",
    "\n",
    "pred_transforms = Compose(\n",
    "    [\n",
    "        LoadImaged(keys=[\"image\"],reader = TIFFReader(channel_dim = 0)),\n",
    "        EnsureChannelFirstd(keys=[\"image\"]),\n",
    "        Spacingd(keys=[\"image\"], pixdim=(\n",
    "            1, 1, 1), mode=(\"bilinear\")),\n",
    "        ScaleIntensityRanged(\n",
    "            keys=[\"image\"], a_min=0, a_max=1024,\n",
    "            b_min=0.0, b_max=1.0, clip=True,\n",
    "        ),\n",
    "        EnsureTyped(keys=[\"image\"]),\n",
    "    ]\n",
    ")\n",
    "\n",
    "pred_ds = Dataset(data=data_dicts, transform=pred_transforms)\n",
    "pred_loader = DataLoader(pred_ds, batch_size=1, shuffle=False)\n",
    "\n",
    "num_evals = 20\n",
    "post_pred = Compose([EnsureType(), AsDiscrete(argmax=True,to_onehot=3)])\n",
    "softmax = torch.nn.Softmax(dim=1)\n",
    "#model.eval()\n",
    "#for m in model.modules():\n",
    "#    if m.__class__.__name__.startswith('Dropout'):\n",
    "#        m.train()\n",
    "with torch.no_grad():\n",
    "    for i, pred_data in tqdm(enumerate(pred_loader)):\n",
    "        print(pred_data[\"image\"].shape)\n",
    "        _shape = pred_data[\"image\"].shape\n",
    "        print(np.empty((num_evals,3,_shape[2],_shape[3],_shape[4]),dtype=np.float16).shape)"
   ]
  },
  {
   "cell_type": "code",
   "execution_count": 15,
   "id": "5e9f30c4-728f-446b-9ffa-69d53c575b02",
   "metadata": {},
   "outputs": [],
   "source": [
    "files = list(Path('../FILES_FOR_SHRUTI').glob('*/*/*_meante*'))"
   ]
  },
  {
   "cell_type": "code",
   "execution_count": 16,
   "id": "d85931c7-83f1-480c-b5d2-a04c94271898",
   "metadata": {},
   "outputs": [
    {
     "data": {
      "text/plain": [
       "[PosixPath('../FILES_FOR_SHRUTI/ROSA/2520/C1-XYZ1_up_reshape_meante.npy'),\n",
       " PosixPath('../FILES_FOR_SHRUTI/ROSA/2981/C1-XYZ1_up_reshape_meante.npy'),\n",
       " PosixPath('../FILES_FOR_SHRUTI/ROSA/4034/C1-XYZ1_up_reshape_meante.npy'),\n",
       " PosixPath('../FILES_FOR_SHRUTI/C57/04/C1-XYZres468-1_up_reshape_meante.npy'),\n",
       " PosixPath('../FILES_FOR_SHRUTI/C57/03/C1-XYZres460_0001_up_reshape_meante.npy'),\n",
       " PosixPath('../FILES_FOR_SHRUTI/C57/01/C1-XYZres438_up_reshape_meante.npy'),\n",
       " PosixPath('../FILES_FOR_SHRUTI/C57/02/C1-XYZres445_0001_up_reshape_meante.npy'),\n",
       " PosixPath('../FILES_FOR_SHRUTI/LSFM/64/64_reshape_meante.npy'),\n",
       " PosixPath('../FILES_FOR_SHRUTI/LSFM/78A/Substack (571-669)_reshape_meante.npy'),\n",
       " PosixPath('../FILES_FOR_SHRUTI/LSFM/69/69_reshape_meante.npy'),\n",
       " PosixPath('../FILES_FOR_SHRUTI/LSFM/65/65_reshape_meante.npy')]"
      ]
     },
     "execution_count": 16,
     "metadata": {},
     "output_type": "execute_result"
    }
   ],
   "source": [
    "files"
   ]
  },
  {
   "cell_type": "code",
   "execution_count": 9,
   "id": "6de0c422-ada6-42e0-a2ad-ead32cd50a06",
   "metadata": {},
   "outputs": [
    {
     "name": "stderr",
     "output_type": "stream",
     "text": [
      "  0%|          | 0/9 [00:00<?, ?it/s]/tmp/ipykernel_99483/2384760296.py:5: UserWarning:\n",
      "\n",
      "../FILES_FOR_SHRUTI/ROSA/2520/C1-XYZ1_up_reshape_seg.tif is a low contrast image\n",
      "\n",
      " 11%|█         | 1/9 [00:07<00:57,  7.18s/it]/tmp/ipykernel_99483/2384760296.py:5: UserWarning:\n",
      "\n",
      "../FILES_FOR_SHRUTI/ROSA/2981/C1-XYZ1_up_reshape_seg.tif is a low contrast image\n",
      "\n",
      " 22%|██▏       | 2/9 [00:15<00:56,  8.06s/it]/tmp/ipykernel_99483/2384760296.py:5: UserWarning:\n",
      "\n",
      "../FILES_FOR_SHRUTI/ROSA/4034/C1-XYZ1_up_reshape_seg.tif is a low contrast image\n",
      "\n",
      " 33%|███▎      | 3/9 [00:21<00:41,  6.94s/it]/tmp/ipykernel_99483/2384760296.py:5: UserWarning:\n",
      "\n",
      "../FILES_FOR_SHRUTI/C57/03/C1-XYZres460_0001_up_reshape_seg.tif is a low contrast image\n",
      "\n",
      " 44%|████▍     | 4/9 [00:25<00:29,  5.91s/it]/tmp/ipykernel_99483/2384760296.py:5: UserWarning:\n",
      "\n",
      "../FILES_FOR_SHRUTI/C57/01/C1-XYZres438_up_reshape_seg.tif is a low contrast image\n",
      "\n",
      " 56%|█████▌    | 5/9 [00:30<00:21,  5.40s/it]/tmp/ipykernel_99483/2384760296.py:5: UserWarning:\n",
      "\n",
      "../FILES_FOR_SHRUTI/C57/02/C1-XYZres445_0001_up_reshape_seg.tif is a low contrast image\n",
      "\n",
      " 67%|██████▋   | 6/9 [00:34<00:15,  5.09s/it]/tmp/ipykernel_99483/2384760296.py:5: UserWarning:\n",
      "\n",
      "../FILES_FOR_SHRUTI/LSFM/64/64_reshape_seg.tif is a low contrast image\n",
      "\n",
      " 78%|███████▊  | 7/9 [00:49<00:16,  8.40s/it]/tmp/ipykernel_99483/2384760296.py:5: UserWarning:\n",
      "\n",
      "../FILES_FOR_SHRUTI/LSFM/69/69_reshape_seg.tif is a low contrast image\n",
      "\n",
      " 89%|████████▉ | 8/9 [01:38<00:21, 21.11s/it]/tmp/ipykernel_99483/2384760296.py:5: UserWarning:\n",
      "\n",
      "../FILES_FOR_SHRUTI/LSFM/65/65_reshape_seg.tif is a low contrast image\n",
      "\n",
      "100%|██████████| 9/9 [02:32<00:00, 16.94s/it]\n"
     ]
    }
   ],
   "source": [
    "for file in tqdm(files):\n",
    "    mean = np.load(file)\n",
    "    seg = (mean > 0.5) * 1\n",
    "    seg = np.argmax(seg, axis = 0)\n",
    "    io.imsave(re.sub('_mean.npy','_seg.tif', file.as_posix()),seg)"
   ]
  },
  {
   "cell_type": "code",
   "execution_count": 10,
   "id": "877eefff-389a-493e-a88a-27beb3f21b11",
   "metadata": {},
   "outputs": [
    {
     "data": {
      "text/plain": [
       "'../FILES_FOR_SHRUTI/LSFM/65/65_reshape_seg.tif'"
      ]
     },
     "execution_count": 10,
     "metadata": {},
     "output_type": "execute_result"
    }
   ],
   "source": [
    "re.sub('_mean.npy','_seg.tif', file.as_posix())"
   ]
  },
  {
   "cell_type": "code",
   "execution_count": 11,
   "id": "e2a4316a-1ea8-4c5f-a182-5ebe9acca03f",
   "metadata": {},
   "outputs": [
    {
     "data": {
      "text/plain": [
       "PosixPath('../FILES_FOR_SHRUTI/LSFM/65/65_reshape_mean.npy')"
      ]
     },
     "execution_count": 11,
     "metadata": {},
     "output_type": "execute_result"
    }
   ],
   "source": [
    "file"
   ]
  },
  {
   "cell_type": "code",
   "execution_count": null,
   "id": "0bc95349-72b4-4e12-8ab5-4e91b5707055",
   "metadata": {},
   "outputs": [],
   "source": []
  }
 ],
 "metadata": {
  "kernelspec": {
   "display_name": "monai3.8",
   "language": "python",
   "name": "monai3.8"
  },
  "language_info": {
   "codemirror_mode": {
    "name": "ipython",
    "version": 3
   },
   "file_extension": ".py",
   "mimetype": "text/x-python",
   "name": "python",
   "nbconvert_exporter": "python",
   "pygments_lexer": "ipython3",
   "version": "3.8.10"
  }
 },
 "nbformat": 4,
 "nbformat_minor": 5
}
