{
 "cells": [
  {
   "cell_type": "code",
   "execution_count": 1,
   "id": "178ba64d",
   "metadata": {},
   "outputs": [],
   "source": [
    "import numpy as np\n",
    "from skimage import io\n",
    "from pathlib import Path\n",
    "import re\n",
    "import ants\n",
    "from skimage.transform import resize\n",
    "from tqdm import tqdm\n",
    "from skimage.morphology import skeletonize_3d, binary_closing\n",
    "from scipy.ndimage import distance_transform_edt, binary_dilation\n",
    "import tifffile as tif\n",
    "from scipy.ndimage import binary_fill_holes\n",
    "import cc3d\n",
    "from scipy.io import loadmat, savemat\n",
    "import sknw\n",
    "import networkx as nx\n",
    "import pickle\n",
    "import os\n",
    "import matplotlib.pyplot as plt\n",
    "import pandas as pd\n",
    "import time\n",
    "import scipy as sp\n",
    "import vg\n",
    "from pytransform3d.rotations import matrix_from_axis_angle\n",
    "import multiprocessing\n",
    "from scipy.ndimage import convolve as conv\n",
    "from scipy.stats import multivariate_normal\n",
    "from skimage import color, data, restoration\n",
    "from RedLionfishDeconv import doRLDeconvolutionFromNpArrays\n",
    "from matplotlib.patches import Circle\n",
    "from skimage.feature import peak_local_max\n",
    "from statistics import mode\n",
    "import imageio\n",
    "from PIL import Image\n",
    "from PIL.TiffTags import TAGS\n",
    "from tifffile import TiffFile\n",
    "from sklearn.metrics import normalized_mutual_info_score, adjusted_mutual_info_score\n",
    "from registration import register_paired_images\n",
    "from utilities import remove_small_comps_3d, fill_holes, _rotmat, closest_node\n",
    "plt.rcParams['figure.figsize'] = [15, 15]"
   ]
  },
  {
   "cell_type": "code",
   "execution_count": 2,
   "id": "bdf88c2c-7c0f-4dfb-b9e7-5949fddeb6b1",
   "metadata": {},
   "outputs": [
    {
     "data": {
      "text/plain": [
       "<function registration.register_paired_images(fix_file, mov_files, out_dir, sigma=2, flip=False)>"
      ]
     },
     "execution_count": 2,
     "metadata": {},
     "output_type": "execute_result"
    }
   ],
   "source": [
    "register_paired_images"
   ]
  },
  {
   "cell_type": "code",
   "execution_count": 3,
   "id": "3885c43e-f758-4ba5-8b8f-a4078e430089",
   "metadata": {},
   "outputs": [
    {
     "data": {
      "text/plain": [
       "'matt_raw_warped/06162021_45-XYZres288_0001_warped.tif'"
      ]
     },
     "execution_count": 3,
     "metadata": {},
     "output_type": "execute_result"
    }
   ],
   "source": [
    "mouse_ids_path = Path('matt_raw_warped')#each mouse has its own folder with raw data in it\n",
    "mouse_ids = list(mouse_ids_path.glob('*res*.tif'))#grab folder names/mouse ids\n",
    "mouse_ids = sorted([x.as_posix() for x in mouse_ids])\n",
    "data_dicts = [\n",
    "    {\"image\":image_name}\n",
    "    for image_name in mouse_ids\n",
    "]\n",
    "\n",
    "#data_dicts = [data_dicts[_i]]\n",
    "re.sub('matt_raw_warped_upsampled','matt_preds_registered',data_dicts[0][\"image\"])"
   ]
  },
  {
   "cell_type": "markdown",
   "id": "ce5b7e27",
   "metadata": {},
   "source": [
    "# register raw iamges"
   ]
  },
  {
   "cell_type": "code",
   "execution_count": 4,
   "id": "95349708-d49a-4ef1-a543-24a17095f0e2",
   "metadata": {},
   "outputs": [],
   "source": [
    "exclude = ['XYZres103',\n",
    "           'XYZres104',\n",
    "           'XYZres105',\n",
    "           'XYZres105',\n",
    "           'XYZres107',\n",
    "           'XYZres133',\n",
    "           'XYZres134',\n",
    "           'XYZres135',\n",
    "           'XYZres136',\n",
    "           'XYZres137',\n",
    "           'XYZres138',\n",
    "           'XYZres139',\n",
    "           'XYZres140',\n",
    "           'XYZres183',\n",
    "           'XYZres196',\n",
    "           'XYZres197',\n",
    "           'XYZres260',\n",
    "           'XYZres288',\n",
    "           'XYZres343',\n",
    "           'XYZres340',\n",
    "           'XYZres341',\n",
    "           'XYZres250',\n",
    "           'XYZres297',\n",
    "           'XYZres295',\n",
    "           'XYZres457',\n",
    "           'XYZres455']"
   ]
  },
  {
   "cell_type": "code",
   "execution_count": 5,
   "id": "0695656c-2681-4958-a061-1520ec5c2258",
   "metadata": {},
   "outputs": [],
   "source": [
    "xls = pd.ExcelFile('TBI_STIM_metalog_local.xlsx')\n",
    "xls2 = pd.ExcelFile('../TBI_monai_UNET/p3_metalog.xlsx')\n",
    "df = {}\n",
    "for sheet_name in xls.sheet_names:\n",
    "    df[sheet_name] = xls.parse(sheet_name)\n",
    "    #print(sheet_name)\n",
    "for sheet_name in xls2.sheet_names:\n",
    "    df[sheet_name] = xls2.parse(sheet_name)\n"
   ]
  },
  {
   "cell_type": "code",
   "execution_count": 6,
   "id": "630a9802-5297-423f-848c-3df54c40af2c",
   "metadata": {},
   "outputs": [],
   "source": [
    "dic = {}\n",
    "for key in df.keys():\n",
    "    if '3D' in key and ('vbm01' not in key and 'vbm02' not in key and 'SHAM7_3D' not in key and 'TBI45_3D' not in key and 'TBI11_3D' not in key and 'TBI65_3D' not in key and 'TBI22_3D' not in key and 'TBI28_3D' not in key and 'TBI40_3D' not in key and 'TBI51_3D' not in key and 'TBI70_3D' not in key):\n",
    "        if 'vbm' not in key:\n",
    "            addition = re.sub('C57','',re.sub('TBI','',re.sub('SHAM','',re.sub('_3D','',key))))\n",
    "        else:\n",
    "            addition = ''\n",
    "        df[key] = df[key][~df[key][df[key].columns[1]].isin(exclude)]\n",
    "        scans = np.array(df[key][df[key].columns[1]])\n",
    "        scans = [x for x in scans if 'res' in str(x)]\n",
    "        bottoms_1 = df[key][df[key][df[key].columns[3]] == 500]\n",
    "        bottoms_2 = df[key][df[key][df[key].columns[2]] == 500]\n",
    "        bottoms = pd.concat((bottoms_1,bottoms_2))\n",
    "        bottoms = np.array(bottoms[bottoms.columns[1]])\n",
    "        bottoms = [addition + '/' + x for x in bottoms]\n",
    "        bottoms = [x for x in bottoms if 'res' in x]\n",
    "        tops_1 = df[key][df[key][df[key].columns[3]] == 0]\n",
    "        tops_2 = df[key][df[key][df[key].columns[2]] == 0]\n",
    "        tops = pd.concat((tops_1,tops_2))\n",
    "        tops = np.array(tops[tops.columns[1]])\n",
    "        tops = [addition + '/' + x for x in tops]\n",
    "        tops = [x for x in tops if 'res' in x]\n",
    "        if len(tops) > 1:\n",
    "            dic[tops[0]] = list(tops[1:])\n",
    "        elif len(tops) == 1:\n",
    "            dic[tops[0]] = tops\n",
    "        if len(bottoms) > 1:\n",
    "            dic[bottoms[0]] = list(bottoms[1:])\n",
    "        elif len(bottoms) == 1:\n",
    "            dic[bottoms[0]] = bottoms"
   ]
  },
  {
   "cell_type": "code",
   "execution_count": 7,
   "id": "ab9cd01b-e2cc-4cac-8bcb-92dd9d2a48c5",
   "metadata": {},
   "outputs": [],
   "source": [
    "dic_2 = {'45/XYZres290':['45/XYZres296'],\n",
    "         '45/XYZres297':['45/XYZres295'],\n",
    "         '45/XYZres294':['45/XYZres298'],\n",
    "         '45/XYZres288':['45/XYZres300'],\n",
    "         '11/XYZres95':['11/XYZres98','11/XYZres102'],\n",
    "         '11/XYZres92':[],\n",
    "         '11/XYZres93':['11/XYZres93','11/XYZres96','11/XYZres97','11/XYZres100','11/XYZres101'],\n",
    "         '11/XYZres91':['11/XYZres94','11/XYZres99'],\n",
    "         '22/XYZres164':['22/XYZres165','22/XYZres168','22/XYZres169'],\n",
    "         '22/XYZres160':['22/XYZres161'],\n",
    "         '22/XYZres163':['22/XYZres166','22/XYZres167','22/XYZres170'],\n",
    "         '22/XYZres159':['22/XYZres162'],\n",
    "         '28/XYZres184':['28/XYZres185'],\n",
    "         '28/XYZres188':['28/XYZres189','28/XYZres193','28/XYZres194'],\n",
    "         '28/XYZres186':['28/XYZres187','28/XYZres188','28/XYZres190','28/XYZres191','28/XYZres192','28/XYZres195'],\n",
    "         '28/XYZres183':[],\n",
    "         '40/XYZres248':['40/XYZres249'],\n",
    "         '40/XYZres245':['40/XYZres252'],\n",
    "         '40/XYZres244':[],\n",
    "         '40/XYZres243':['40/XYZres246','40/XYZres247','40/XYZres251'],\n",
    "         '51/XYZres297':['51/XYZres298','51/XYZres302','51/XYZres305','51/XYZres301'],\n",
    "         '51/XYZres296':['51/XYZres306'],\n",
    "         '51/XYZres299':['51/XYZres300','51/XYZres303','51/XYZres304'],\n",
    "         '65/XYZres397':['65/XYZres398','65/XYZres401','65/XYZres402','65/XYZres405','65/XYZres408','65/XYZres409'],\n",
    "         '65/XYZres396':['65/XYZres399','65/XYZres400'],\n",
    "         '65/XYZres403':[],\n",
    "         '70/XYZres420':['70/XYZres421','70/XYZres422'],\n",
    "         '70/XYZres419':['70/XYZres416','70/XYZres413','70/XYZres410','70/XYZres412','70/XYZres416'],\n",
    "         '70/XYZres414':['70/XYZres417'],\n",
    "         '70/XYZres411':['70/XYZres418','70/XYZres415'],\n",
    "         'XYZres007':[]\n",
    "        }\n",
    "dic.update(dic_2) "
   ]
  },
  {
   "cell_type": "code",
   "execution_count": 20,
   "id": "4010be15",
   "metadata": {},
   "outputs": [
    {
     "name": "stdout",
     "output_type": "stream",
     "text": [
      "128\n",
      "/home/rozakmat/projects/rrg-bojana/data/THY1-TBI/06162021_45/XYZres290_0001.tif\n"
     ]
    }
   ],
   "source": [
    "mouse_ids_path = Path('/home/rozakmat/projects/rrg-bojana/data/THY1-TBI')#each mouse has its own folder with raw data in it\n",
    "mouse_ids = list(mouse_ids_path.glob('*?[0-9]/*res*?[0-9].tif'))#grab folder names/mouse ids\n",
    "images = sorted([x.as_posix() for x in mouse_ids if '_0001' in x.as_posix()])\n",
    "#images = [x for x in images if 'vbm' in x]\n",
    "images = [x for x in images if  any(y in x for y in list(dic.keys()))]\n",
    "#images = [x for x in images if any(y in x for y in ['14/','49/','56/','68/','65/','61/'])]\n",
    "unused_keys = [x for x in list(dic.keys()) if not  any(x in y for y in images)]\n",
    "print(len(images))\n",
    "print(images[1])\n",
    "new_file_name = re.sub('matt_raw_warped_upsampled','matt_preds_registered',data_dicts[0][\"image\"])\n",
    "#images"
   ]
  },
  {
   "cell_type": "code",
   "execution_count": 39,
   "id": "b12c0af2-af26-4a37-aab3-65aa5950cdf4",
   "metadata": {},
   "outputs": [],
   "source": [
    "np.random.shuffle(images)"
   ]
  },
  {
   "cell_type": "code",
   "execution_count": 40,
   "id": "74e64936-b669-4f37-bffd-d9ab6b342c2b",
   "metadata": {},
   "outputs": [
    {
     "name": "stderr",
     "output_type": "stream",
     "text": [
      "100%|██████████| 128/128 [00:00<00:00, 41831.92it/s]\n"
     ]
    }
   ],
   "source": [
    "res = []\n",
    "for i in tqdm(range(len(images))[::-1]):\n",
    "    fix_file = re.sub('_0001','',images[i])\n",
    "    if not os.path.exists('matt_raw_warped_single/' + re.sub('.tif','_warped.tif',os.path.basename(os.path.dirname(fix_file)) + '-' + os.path.basename(fix_file))):\n",
    "        print('to do')\n",
    "        #key = [x for x in list(dic.keys()) if x in fix_file][0]\n",
    "        #mov_files = [re.sub(key,x,fix_file) for x in dic[key]]\n",
    "        #mov_files = [x for x in mov_files if os.path.exists(x)]\n",
    "        #mov_files = sorted(mov_files + [re.sub('.tif','_0001.tif',x) for x in mov_files])\n",
    "        #mov_files.append(re.sub('.tif','_0001.tif',fix_file))\n",
    "        #mov_files = [x for x in mov_files if x != fix_file]\n",
    "        #mov_files = sorted(mov_files)\n",
    "        #mov_files = np.unique(mov_files)\n",
    "        #print(fix_file)\n",
    "        #res.append(register_paired_images(fix_file, mov_files, 'matt_raw_warped_single/', sigma=2, flip=True))"
   ]
  },
  {
   "cell_type": "code",
   "execution_count": 15,
   "id": "b493e0f9-6842-4d2f-ac4c-daa6bb67e66a",
   "metadata": {},
   "outputs": [
    {
     "data": {
      "text/plain": [
       "<function registration.register_paired_images(fix_file, mov_files, out_dir, sigma=2)>"
      ]
     },
     "execution_count": 15,
     "metadata": {},
     "output_type": "execute_result"
    }
   ],
   "source": [
    "register_paired_images"
   ]
  },
  {
   "cell_type": "code",
   "execution_count": 18,
   "id": "cff1b3f7-e540-41cf-a1b0-4fc2f06dca68",
   "metadata": {},
   "outputs": [],
   "source": [
    "_res = []\n",
    "for i in res:\n",
    "    _res.append(np.max(np.array(i),axis=0))"
   ]
  },
  {
   "cell_type": "code",
   "execution_count": 44,
   "id": "4832cc08-aa9d-470f-a435-8f1db0369fbc",
   "metadata": {},
   "outputs": [],
   "source": [
    "#np.max(warpedraw_1[:,:,:],axis=0)"
   ]
  },
  {
   "cell_type": "code",
   "execution_count": 45,
   "id": "97b52b6b-c87e-4e14-9a42-ca7b3163726e",
   "metadata": {},
   "outputs": [],
   "source": [
    "#print(np.mean(np.array(_res),axis=0))\n",
    "#print(np.std(np.array(_res),axis=0))"
   ]
  },
  {
   "cell_type": "markdown",
   "id": "46e204f6-a063-4579-ad8a-5134b44a39e3",
   "metadata": {},
   "source": [
    "# predict using trained model\n",
    "run unetr prediction with registered raw images, orediction will be in same coordinate system \\\n",
    "run predict_matt_warped.py via predict_matt_warped_array_1.sh"
   ]
  },
  {
   "cell_type": "markdown",
   "id": "5444bdb6-56da-461f-85c4-c0ad6e1debcc",
   "metadata": {},
   "source": [
    "# Calculate Std of output"
   ]
  },
  {
   "cell_type": "code",
   "execution_count": 41,
   "id": "b660ad09-7242-4ba1-8da7-ea926c04e317",
   "metadata": {},
   "outputs": [],
   "source": [
    "path  = Path('/home/rozakmat/projects/rrg-bojana/rozakmat/TBI_monai_UNET/matt_raw_warped_single_upsampled')\n",
    "files = list(path.glob('*.npy'))\n",
    "#files"
   ]
  },
  {
   "cell_type": "code",
   "execution_count": 42,
   "id": "fea31ed9-058e-47ec-9765-bea8114eb028",
   "metadata": {},
   "outputs": [
    {
     "name": "stdout",
     "output_type": "stream",
     "text": [
      "63\n"
     ]
    }
   ],
   "source": [
    "path  = Path('/home/rozakmat/projects/rrg-bojana/rozakmat/TBI_monai_UNET/matt_raw_warped_single_upsampled')\n",
    "files = list(path.glob('*_pred.npy'))\n",
    "#files = [x.as_posix() for x in files if not os.path.exists(re.sub('projects/rrg-bojana/rozakmat','projects/rrg-bojana/rozakmat/TBI_monai_UNET',re.sub('pred','std',x.as_posix())))]\n",
    "files = sorted([x.as_posix() for x in files])\n",
    "files = [x for x in files if not os.path.exists(re.sub('projects/rrg-bojana/rozakmat/TBI_monai_UNET','projects/rrg-bojana/rozakmat/TBI_monai_UNET',re.sub('pred','2x_std',x)))]\n",
    "print(len(files))"
   ]
  },
  {
   "cell_type": "code",
   "execution_count": null,
   "id": "f8dabd6f-b95e-40bc-9d00-aae32c5e4e3d",
   "metadata": {},
   "outputs": [
    {
     "name": "stderr",
     "output_type": "stream",
     "text": [
      "  0%|          | 0/63 [00:00<?, ?it/s]"
     ]
    }
   ],
   "source": [
    "np.random.shuffle(files)\n",
    "for i in tqdm(range(len(files))):\n",
    "    if not os.path.exists(re.sub('projects/rrg-bojana/rozakmat/TBI_monai_UNET','projects/rrg-bojana/rozakmat/TBI_monai_UNET',re.sub('pred','2x_std',files[i]))):\n",
    "        pred = np.load(files[i])\n",
    "        _std = np.std(pred,axis=0)\n",
    "        np.save(re.sub('projects/rrg-bojana/rozakmat/TBI_monai_UNET','projects/rrg-bojana/rozakmat/TBI_monai_UNET',re.sub('pred','2x_std',files[i])),_std)"
   ]
  },
  {
   "cell_type": "code",
   "execution_count": null,
   "id": "ab3a3f58-a92a-4905-aaa7-314c220bf461",
   "metadata": {},
   "outputs": [],
   "source": [
    "files"
   ]
  },
  {
   "cell_type": "markdown",
   "id": "a38d1533-8267-4390-9ee2-c7558f5aee8b",
   "metadata": {},
   "source": [
    "# Binarize prediction output"
   ]
  },
  {
   "cell_type": "code",
   "execution_count": 21,
   "id": "577b39db-4ee8-4eea-a5b4-52a4f5414078",
   "metadata": {},
   "outputs": [
    {
     "name": "stdout",
     "output_type": "stream",
     "text": [
      "896\n"
     ]
    }
   ],
   "source": [
    "directory = Path('matt_raw_warped_single_upsampled')\n",
    "files  = directory.glob('*-*_std.npy')\n",
    "files = sorted([x.as_posix() for x in files])\n",
    "#files = [x for x in files if not os.path.exists(re.sub('led/','led_seg/',re.sub('mean','seg',x)))]\n",
    "#files = [x for x in files if 'Feb52021_6' in x]\n",
    "print(len(files))"
   ]
  },
  {
   "cell_type": "code",
   "execution_count": 22,
   "id": "560a2856-4777-4072-a5c6-4a2a6399db61",
   "metadata": {},
   "outputs": [],
   "source": [
    "#for i in files:\n",
    "#    os.remove(i)"
   ]
  },
  {
   "cell_type": "code",
   "execution_count": 23,
   "id": "0bfc5159-603d-43d0-84e1-89ad4d4c998c",
   "metadata": {},
   "outputs": [
    {
     "name": "stdout",
     "output_type": "stream",
     "text": [
      "896\n"
     ]
    }
   ],
   "source": [
    "directory = Path('matt_raw_warped_single_upsampled')\n",
    "files  = directory.glob('*-*_mean.npy')\n",
    "files = sorted([x.as_posix() for x in files])\n",
    "#files = [x for x in files if not os.path.exists(re.sub('led/','led_seg/',re.sub('mean','seg',x)))]\n",
    "#files = [x for x in files if 'Feb52021_6' in x]\n",
    "#files = [x for x in files if any(y in x for y in problem)]\n",
    "print(len(files))"
   ]
  },
  {
   "cell_type": "code",
   "execution_count": 24,
   "id": "55de248b-1095-4aa8-a30e-e292103cdc43",
   "metadata": {},
   "outputs": [
    {
     "name": "stderr",
     "output_type": "stream",
     "text": [
      "100%|██████████| 896/896 [00:36<00:00, 24.28it/s]\n"
     ]
    }
   ],
   "source": [
    "min_prob = 0.5\n",
    "max_var = 0.2\n",
    "#np.random.shuffle(files)\n",
    "for file in tqdm(files):\n",
    "    if not os.path.exists(re.sub('led/','led_seg/',re.sub('mean','seg',file))):\n",
    "        if os.path.exists(re.sub('mean','2x_std',file)):\n",
    "            print(file)\n",
    "            mean = np.load(file)\n",
    "            std = np.load(re.sub('mean','2x_std',file))\n",
    "            seg = np.zeros(mean.shape[1:]).astype('int8')\n",
    "            seg[(mean[1,:,:,:] > min_prob) * (std[1,:,:,:] < max_var)] = 1\n",
    "            seg[(mean[2,:,:,:] > min_prob) * (std[2,:,:,:] < max_var)] = 2\n",
    "            seg = seg.astype('int8')\n",
    "            seg = (seg==1)*1\n",
    "            seg = fill_holes(seg)\n",
    "            seg = remove_small_comps_3d(seg)\n",
    "            plt.imshow(np.max(seg,axis=2))\n",
    "            plt.show()\n",
    "            print(seg.shape)\n",
    "            np.save(re.sub('led/','led_seg/',re.sub('mean','seg',file)),seg)"
   ]
  },
  {
   "cell_type": "code",
   "execution_count": 115,
   "id": "38b230fb-9ac1-41a9-a4bb-4939f06d9a8e",
   "metadata": {},
   "outputs": [
    {
     "data": {
      "text/plain": [
       "False"
      ]
     },
     "execution_count": 115,
     "metadata": {},
     "output_type": "execute_result"
    }
   ],
   "source": [
    "os.path.exists(re.sub('mean','std',file))"
   ]
  },
  {
   "cell_type": "code",
   "execution_count": 21,
   "id": "7ef75327-1e5e-40f3-ba2b-529b366e32a0",
   "metadata": {},
   "outputs": [
    {
     "name": "stdout",
     "output_type": "stream",
     "text": [
      "820\n"
     ]
    }
   ],
   "source": [
    "directory = Path('matt_raw_warped_single_upsampled_seg')\n",
    "files  = directory.glob('*-*_seg.npy')\n",
    "files = sorted([x.as_posix() for x in files])\n",
    "print(len(files))"
   ]
  },
  {
   "cell_type": "markdown",
   "id": "0f9dc3b9-a4b3-4ed8-a416-22f5e5cc69e5",
   "metadata": {},
   "source": [
    "# Get distance transform of neuron segmentation"
   ]
  },
  {
   "cell_type": "code",
   "execution_count": 25,
   "id": "0e9e9eea-315e-44dd-be5b-5e53d5bd0098",
   "metadata": {},
   "outputs": [
    {
     "name": "stdout",
     "output_type": "stream",
     "text": [
      "896\n"
     ]
    }
   ],
   "source": [
    "directory = Path('matt_raw_warped_single_upsampled')\n",
    "files  = directory.glob('*-*_mean.npy')\n",
    "files = sorted([x.as_posix() for x in files])\n",
    "print(len(files))"
   ]
  },
  {
   "cell_type": "code",
   "execution_count": 26,
   "id": "5a2f1d5f-c29a-44f6-9b5c-83556204e027",
   "metadata": {},
   "outputs": [
    {
     "name": "stderr",
     "output_type": "stream",
     "text": [
      "100%|██████████| 896/896 [00:38<00:00, 23.24it/s]\n"
     ]
    }
   ],
   "source": [
    "min_prob = 0.75\n",
    "max_var = 0.1\n",
    "for file in tqdm(files[::-1]):\n",
    "    if not os.path.exists(re.sub('led/','led_seg/',re.sub('mean','seg_nrn_dst',file))):\n",
    "        if os.path.exists(re.sub('mean','2x_std',file)):\n",
    "            mean = np.load(file)\n",
    "            std = np.load(re.sub('mean','2x_std',file))\n",
    "            seg = np.zeros(mean.shape[1:])\n",
    "            seg[(mean[1,:,:,:] > min_prob) * (std[1,:,:,:] < max_var)] = 1\n",
    "            seg[(mean[2,:,:,:] > min_prob) * (std[2,:,:,:] < max_var)] = 2\n",
    "            seg = seg.astype('int8')\n",
    "            seg = (seg==2)*1\n",
    "            np.save(re.sub('led/','led_seg/',re.sub('mean','seg_nrn',file)),seg)\n",
    "            np.save(re.sub('led/','led_seg/',re.sub('mean','seg_nrn_dst',file)),distance_transform_edt(1-seg))"
   ]
  },
  {
   "cell_type": "code",
   "execution_count": null,
   "id": "11ea7971-ee61-47b0-83ec-b7ee61723ba7",
   "metadata": {},
   "outputs": [],
   "source": [
    "re.sub('mean','seg_nrn_dst',file)"
   ]
  },
  {
   "cell_type": "markdown",
   "id": "a12c169a-1a31-4f0d-91cc-e74df4d23990",
   "metadata": {},
   "source": [
    "# Problem Segmentations at graph"
   ]
  },
  {
   "cell_type": "code",
   "execution_count": null,
   "id": "a03273e7-e883-4ddf-87d0-c43a6ebdf002",
   "metadata": {},
   "outputs": [],
   "source": [
    "#problem = [\n",
    "#    \"XYZres038\",\n",
    "#    \"XYZres041\",\n",
    "#    \"XYZres042\",\n",
    "#    \"XYZres048\",\n",
    "#    \"XYZres052\",\n",
    "#    \"XYZres026\",\n",
    "#    \"XYZres024\"\n",
    "#]"
   ]
  },
  {
   "cell_type": "code",
   "execution_count": null,
   "id": "a1845cf5-823e-4893-8cba-29fe8d4bbe1a",
   "metadata": {},
   "outputs": [],
   "source": [
    "#dic.keys()"
   ]
  },
  {
   "cell_type": "markdown",
   "id": "0a0c0658-4dcd-479c-8d63-d972dd97b347",
   "metadata": {},
   "source": [
    "# get predicted images and save matlab .mat of intersection"
   ]
  },
  {
   "cell_type": "code",
   "execution_count": 19,
   "id": "f42b6eaf-667e-4338-8d66-c8888f736742",
   "metadata": {},
   "outputs": [],
   "source": [
    "xls = pd.ExcelFile('TBI_STIM_metalog_local.xlsx')\n",
    "xls2 = pd.ExcelFile('../TBI_monai_UNET/p3_metalog.xlsx')\n",
    "df = {}\n",
    "for sheet_name in xls.sheet_names:\n",
    "    df[sheet_name] = xls.parse(sheet_name)\n",
    "for sheet_name in xls2.sheet_names:\n",
    "    df[sheet_name] = xls2.parse(sheet_name)"
   ]
  },
  {
   "cell_type": "code",
   "execution_count": 20,
   "id": "ffa435f7-d6de-4dc7-8953-05c95ba0b6f8",
   "metadata": {},
   "outputs": [
    {
     "data": {
      "text/plain": [
       "119"
      ]
     },
     "execution_count": 20,
     "metadata": {},
     "output_type": "execute_result"
    }
   ],
   "source": [
    "dic = {}\n",
    "for key in df.keys():\n",
    "    if '3D' in key and ('vbm01' not in key and 'vbm02' not in key and 'SHAM7_3D' not in key and 'TBI45_3D' not in key and 'TBI11_3D' not in key and 'TBI65_3D' not in key and 'TBI22_3D' not in key and 'TBI28_3D' not in key and 'TBI40_3D' not in key and 'TBI51_3D' not in key and 'TBI70_3D' not in key):\n",
    "        if 'vbm' not in key:\n",
    "            addition = re.sub('C57','',re.sub('TBI','',re.sub('SHAM','',re.sub('_3D','',key))))\n",
    "        else:\n",
    "            addition = ''\n",
    "        df[key] = df[key][~df[key][df[key].columns[1]].isin(exclude)]\n",
    "        scans = np.array(df[key][df[key].columns[1]])\n",
    "        scans = [x for x in scans if 'res' in str(x)]\n",
    "        bottoms_1 = df[key][df[key][df[key].columns[3]] == 500]\n",
    "        bottoms_2 = df[key][df[key][df[key].columns[2]] == 500]\n",
    "        bottoms = pd.concat((bottoms_1,bottoms_2))\n",
    "        bottoms = np.array(bottoms[bottoms.columns[1]])\n",
    "        bottoms = [addition + '-' + x for x in bottoms]\n",
    "        bottoms = [x for x in bottoms if 'res' in x]\n",
    "        tops_1 = df[key][df[key][df[key].columns[3]] == 0]\n",
    "        tops_2 = df[key][df[key][df[key].columns[2]] == 0]\n",
    "        tops = pd.concat((tops_1,tops_2))\n",
    "        tops = np.array(tops[tops.columns[1]])\n",
    "        tops = [addition + '-' + x for x in tops]\n",
    "        tops = [x for x in tops if 'res' in x]\n",
    "        if len(tops) > 1:\n",
    "            dic[tops[0]] = list(tops[1:])\n",
    "        elif len(tops) == 1:\n",
    "            dic[tops[0]] = tops\n",
    "        if len(bottoms) > 1:\n",
    "            dic[bottoms[0]] = list(bottoms[1:])\n",
    "        elif len(bottoms) == 1:\n",
    "            dic[bottoms[0]] = bottoms\n",
    "dic_2 = {'45-XYZres290':['45-XYZres296'],\n",
    "         '45-XYZres297':['45-XYZres295'],\n",
    "         '45-XYZres294':['45-XYZres298'],\n",
    "         '45-XYZres288':['45-XYZres300'],\n",
    "         '11-XYZres95':['11-XYZres98','11-XYZres102'],\n",
    "         '11-XYZres92':[],\n",
    "         '11-XYZres93':['11-XYZres93','11-XYZres96','11-XYZres97','11-XYZres100','11-XYZres101'],\n",
    "         '11-XYZres91':['11-XYZres94','11-XYZres99'],\n",
    "         '22-XYZres164':['22-XYZres165','22-XYZres168','22-XYZres169'],\n",
    "         '22-XYZres160':['22-XYZres161'],\n",
    "         '22-XYZres163':['22-XYZres166','22-XYZres167','22-XYZres170'],\n",
    "         '22-XYZres159':['22-XYZres162'],\n",
    "         '28-XYZres184':['28-XYZres185'],\n",
    "         '28-XYZres188':['28-XYZres189','28-XYZres193','28-XYZres194'],\n",
    "         '28-XYZres186':['28-XYZres187','28-XYZres188','28-XYZres190','28-XYZres191','28-XYZres192','28-XYZres195'],\n",
    "         '28-XYZres183':[],\n",
    "         '40-XYZres248':['40-XYZres249'],\n",
    "         '40-XYZres245':['40-XYZres252'],\n",
    "         '40-XYZres244':[],\n",
    "         '40-XYZres243':['40-XYZres246','40-XYZres247','40-XYZres251'],\n",
    "         '51-XYZres297':['51-XYZres298','51-XYZres302','51-XYZres305','51-XYZres301'],\n",
    "         '51-XYZres296':['51-XYZres306'],\n",
    "         '51-XYZres299':['51-XYZres300','51-XYZres303','51-XYZres304'],\n",
    "         '65-XYZres397':['65-XYZres398','65-XYZres401','65-XYZres402','65-XYZres405','65-XYZres408','65-XYZres409'],\n",
    "         '65-XYZres396':['65-XYZres399','65-XYZres400'],\n",
    "         '65-XYZres403':[],\n",
    "         '70-XYZres420':['70-XYZres421','70-XYZres422'],\n",
    "         '70-XYZres419':['70-XYZres416','70-XYZres413','70-XYZres410','70-XYZres412','70-XYZres416'],\n",
    "         '70-XYZres414':['70-XYZres417'],\n",
    "         '70-XYZres411':['70-XYZres418','70-XYZres415'],\n",
    "         '-XYZres007':[]\n",
    "        }\n",
    "dic.update(dic_2) \n",
    "len(list(dic.keys()))"
   ]
  },
  {
   "cell_type": "code",
   "execution_count": 21,
   "id": "de73c654",
   "metadata": {},
   "outputs": [
    {
     "name": "stdout",
     "output_type": "stream",
     "text": [
      "111\n",
      "matt_raw_warped_single_upsampled_seg/06162021_45-XYZres288_0001_warped_seg.npy\n"
     ]
    }
   ],
   "source": [
    "directory_seg = Path('matt_raw_warped_single_upsampled_seg')\n",
    "images = list(directory_seg.glob('*_0001_warped_seg.npy'))\n",
    "#print(len(images))\n",
    "images = sorted([x.as_posix() for x in images])\n",
    "#print(len(images))\n",
    "images = [x for x in images if os.path.exists(re.sub('_0001','',x))]\n",
    "#print(len(images))\n",
    "images = [x for x in images if any(y in x for y in list(dic.keys()))]\n",
    "#images = [x for x in images if any(y in x for y in ['01-','02-','03-','04-'])]\n",
    "#print(len(images))\n",
    "#images = [x for x in images if any(y in x for y in ['14-','49-','56-','68-','65-','61-'])]\n",
    "#images = [re.sub('_0001','',x) for x in images]\n",
    "#images = [x for x in images if 'vbm' in x]\n",
    "#images = [x for x in images if '45-XYZres290' in x]\n",
    "print(len(images))\n",
    "print(images[0])"
   ]
  },
  {
   "cell_type": "code",
   "execution_count": 22,
   "id": "7ebd14da-3635-43a6-afb8-289ee7ed6d8b",
   "metadata": {},
   "outputs": [],
   "source": [
    "#[x for x in images if 'XYZres297' in x]"
   ]
  },
  {
   "cell_type": "code",
   "execution_count": 23,
   "id": "0abc6a56-584a-4c8c-93c7-5b49abf91e69",
   "metadata": {},
   "outputs": [],
   "source": [
    "#print('hello world')"
   ]
  },
  {
   "cell_type": "markdown",
   "id": "b1c9c030-e5a8-4b9c-80c5-bed76d1e5777",
   "metadata": {},
   "source": [
    "Currently set to union as intersection makes it choppy, retraining unetr on zoomed in data"
   ]
  },
  {
   "cell_type": "code",
   "execution_count": 24,
   "id": "6540342e-dad7-42c5-bd78-05072c4c61a1",
   "metadata": {},
   "outputs": [
    {
     "name": "stderr",
     "output_type": "stream",
     "text": [
      "  0%|          | 0/111 [00:00<?, ?it/s]"
     ]
    },
    {
     "name": "stdout",
     "output_type": "stream",
     "text": [
      "matt_raw_warped_single_upsampled_seg/06162021_45-XYZres288_0001_warped_seg.npy\n"
     ]
    },
    {
     "name": "stderr",
     "output_type": "stream",
     "text": [
      "  0%|          | 0/111 [00:01<?, ?it/s]\n"
     ]
    },
    {
     "ename": "NameError",
     "evalue": "name 'mov_files' is not defined",
     "output_type": "error",
     "traceback": [
      "\u001b[0;31m---------------------------------------------------------------------------\u001b[0m",
      "\u001b[0;31mNameError\u001b[0m                                 Traceback (most recent call last)",
      "\u001b[0;32m/tmp/ipykernel_1685461/2393430706.py\u001b[0m in \u001b[0;36m<module>\u001b[0;34m\u001b[0m\n\u001b[1;32m     16\u001b[0m         \u001b[0;31m#break\u001b[0m\u001b[0;34m\u001b[0m\u001b[0;34m\u001b[0m\u001b[0;34m\u001b[0m\u001b[0m\n\u001b[1;32m     17\u001b[0m         \u001b[0mmut_info\u001b[0m \u001b[0;34m=\u001b[0m \u001b[0;34m[\u001b[0m\u001b[0;34m]\u001b[0m\u001b[0;34m\u001b[0m\u001b[0;34m\u001b[0m\u001b[0m\n\u001b[0;32m---> 18\u001b[0;31m         \u001b[0;32mfor\u001b[0m \u001b[0mi\u001b[0m \u001b[0;32min\u001b[0m \u001b[0mmov_files\u001b[0m\u001b[0;34m:\u001b[0m\u001b[0;34m\u001b[0m\u001b[0;34m\u001b[0m\u001b[0m\n\u001b[0m\u001b[1;32m     19\u001b[0m             \u001b[0;31m#img_0001 = binary_dilation(np.load(i))\u001b[0m\u001b[0;34m\u001b[0m\u001b[0;34m\u001b[0m\u001b[0;34m\u001b[0m\u001b[0m\n\u001b[1;32m     20\u001b[0m             \u001b[0;31m#_mut_info = normalized_mutual_info_score(_img.flatten(),img_0001.flatten()) # calculate mutual information between masks, judges registration\u001b[0m\u001b[0;34m\u001b[0m\u001b[0;34m\u001b[0m\u001b[0;34m\u001b[0m\u001b[0m\n",
      "\u001b[0;31mNameError\u001b[0m: name 'mov_files' is not defined"
     ]
    }
   ],
   "source": [
    "res = []\n",
    "for image in tqdm(images[:]):\n",
    "    if not os.path.exists(re.sub('_warped_seg.npy','_seg_warped_single_sing.mat',re.sub('_0001','',image))) or (time.time() - os.path.getmtime(re.sub('_warped_seg.npy','_seg_warped_single_sing.mat',re.sub('_0001','',image))))/3600>48:\n",
    "        print(image)\n",
    "        img = binary_dilation(np.load(image))\n",
    "        _img = np.copy(img)\n",
    "        key = [x for x in list(dic.keys()) if x in image][0]\n",
    "        #mov_files = [re.sub(key,x,image) for x in dic[key]]\n",
    "        #mov_files = sorted(mov_files + [re.sub('_0001_warped_seg.npy','_warped_seg.npy',x) for x in mov_files])\n",
    "        #mov_files.append(re.sub('_0001_warped_seg.npy','_warped_seg.npy',image))\n",
    "        #mov_files = [x for x in mov_files if x != image]\n",
    "        #mov_files = sorted(mov_files)\n",
    "        #mov_files = np.unique(mov_files)\n",
    "        #mov_files = [x for x in mov_files if os.path.exists(x)]\n",
    "        #print(mov_files)\n",
    "        #break\n",
    "        mut_info = []\n",
    "        for i in mov_files:\n",
    "            #img_0001 = binary_dilation(np.load(i))\n",
    "            #_mut_info = normalized_mutual_info_score(_img.flatten(),img_0001.flatten()) # calculate mutual information between masks, judges registration\n",
    "            #mut_info.append(_mut_info)\n",
    "            if True:\n",
    "                #img += img_0001\n",
    "                img = img# * img_0001\n",
    "                #print(i)\n",
    "        seg = img\n",
    "        seg[seg!=0] = seg[seg!=0]/seg[seg!=0]\n",
    "        seg = (seg==1)*1\n",
    "        seg = seg.astype('int8')\n",
    "        seg = binary_closing(binary_closing(binary_closing(fill_holes(seg))))\n",
    "        seg = remove_small_comps_3d(seg,thresh=250)\n",
    "        #print(mut_info)\n",
    "        #print(mov_files)\n",
    "        plt.imshow(np.max(seg,axis=2))\n",
    "        plt.show()\n",
    "        res += mut_info\n",
    "        savemat(re.sub('_warped_seg.npy','_seg_warped_single_sing.mat',re.sub('_0001','',image)),{'FinalImage':fill_holes(binary_closing(seg))})\n",
    "        np.save(re.sub('_warped_seg.npy','_seg_warped_single_sing.npy',re.sub('_0001','',image)),fill_holes(binary_closing(seg)))"
   ]
  },
  {
   "cell_type": "code",
   "execution_count": 17,
   "id": "e412c422-9000-48f6-8456-2850eff5cdb4",
   "metadata": {},
   "outputs": [
    {
     "data": {
      "text/plain": [
       "'/home/rozakmat/projects/rrg-bojana/data/THY1-TBI/06162021_45/XYZres288_0001.tif'"
      ]
     },
     "execution_count": 17,
     "metadata": {},
     "output_type": "execute_result"
    }
   ],
   "source": [
    "image"
   ]
  },
  {
   "cell_type": "code",
   "execution_count": null,
   "id": "d1367951-8637-4975-88c6-5960759564b8",
   "metadata": {},
   "outputs": [
    {
     "name": "stdout",
     "output_type": "stream",
     "text": [
      "0.3946770936337705\n",
      "0.2070843727443032\n"
     ]
    }
   ],
   "source": [
    "print(np.mean(res))\n",
    "print(np.std(res))"
   ]
  },
  {
   "cell_type": "markdown",
   "id": "5ff0b5ca-031a-439c-9810-7f693af7bacf",
   "metadata": {},
   "source": [
    "# Generate Graphs"
   ]
  },
  {
   "cell_type": "code",
   "execution_count": 25,
   "id": "6d4408af-5005-48da-892f-14b99d25b1ed",
   "metadata": {},
   "outputs": [
    {
     "data": {
      "text/plain": [
       "111"
      ]
     },
     "execution_count": 25,
     "metadata": {},
     "output_type": "execute_result"
    }
   ],
   "source": [
    "directory = Path('matt_raw_warped_single_upsampled_seg')\n",
    "files_seg_0001 = directory.glob('*_skel_warped_single_sing.mat')\n",
    "#files_seg_0001 = directory.glob('*.pickle')\n",
    "files_seg_0001 = sorted([x.as_posix() for x in files_seg_0001])\n",
    "#files_seg_0001 = [x for x in files_seg_0001 if any(y in x for y in ['_14-','_17-','_7-','_9-','_20-','23-','49-','56-','68-','65-','61-'])]\n",
    "#files_seg_0001 = [x for x in files_seg_0001 if '45-XYZres290' in x]\n",
    "#files_seg_0001 = [x for x in files_seg_0001 if '61-XYZres384_0001' not in x]\n",
    "len(files_seg_0001)\n",
    "#print(files_seg_0001)"
   ]
  },
  {
   "cell_type": "code",
   "execution_count": 26,
   "id": "29a85f96-992f-4f32-9ca7-9e56f41138ed",
   "metadata": {},
   "outputs": [
    {
     "data": {
      "text/plain": [
       "111"
      ]
     },
     "execution_count": 26,
     "metadata": {},
     "output_type": "execute_result"
    }
   ],
   "source": [
    "directory = Path('matt_raw_warped_single_upsampled_seg')\n",
    "files_seg_0001 = directory.glob('*_0001_warped_seg.npy')\n",
    "files_seg_0001 = sorted([x.as_posix() for x in files_seg_0001])\n",
    "files_seg_0001 = [x for x in files_seg_0001 if  any(y in x for y in list(dic.keys()))]\n",
    "#files_seg_0001 = [re.sub('_0001','',x) for x in files_seg_0001]\n",
    "#files_seg_0001 = [x for x in files_seg_0001 if any(y in x for y in ['14-','49-','56-','68-','65-','61-'])]\n",
    "#files_seg_0001 = [x for x in files_seg_0001 if any(y in x for y in ['_14-','_17-','_7-','_9-','_20-','23-','49-','56-','68-','65-','61-'])]\n",
    "np.random.shuffle(files_seg_0001)\n",
    "#files_seg_0001 = [x for x in files_seg_0001 if '61-XYZres384_0001' not in x]\n",
    "len(files_seg_0001)\n",
    "#print(files_seg_0001[0])"
   ]
  },
  {
   "cell_type": "code",
   "execution_count": 30,
   "id": "0c44109a-8051-421d-bb15-a77c730df0c6",
   "metadata": {},
   "outputs": [
    {
     "name": "stderr",
     "output_type": "stream",
     "text": [
      "  0%|          | 0/111 [00:00<?, ?it/s]"
     ]
    },
    {
     "name": "stdout",
     "output_type": "stream",
     "text": [
      "364\n",
      "211\n"
     ]
    },
    {
     "name": "stderr",
     "output_type": "stream",
     "text": [
      "/tmp/ipykernel_1079933/3695195458.py:28: UserWarning:\n",
      "\n",
      "matt_raw_warped_single_upsampled_seg/20210710_51-XYZres297_single_skel_sing.tif is a low contrast image\n",
      "\n",
      "  1%|          | 1/111 [01:12<2:13:22, 72.75s/it]"
     ]
    },
    {
     "name": "stdout",
     "output_type": "stream",
     "text": [
      "223\n",
      "128\n"
     ]
    },
    {
     "name": "stderr",
     "output_type": "stream",
     "text": [
      "/tmp/ipykernel_1079933/3695195458.py:28: UserWarning:\n",
      "\n",
      "matt_raw_warped_single_upsampled_seg/20200411_28-XYZres186_single_skel_sing.tif is a low contrast image\n",
      "\n",
      "  2%|▏         | 2/111 [02:01<1:46:24, 58.57s/it]"
     ]
    },
    {
     "name": "stdout",
     "output_type": "stream",
     "text": [
      "274\n",
      "142\n"
     ]
    },
    {
     "name": "stderr",
     "output_type": "stream",
     "text": [
      "/tmp/ipykernel_1079933/3695195458.py:28: UserWarning:\n",
      "\n",
      "matt_raw_warped_single_upsampled_seg/20200217_14-XYZres108_single_skel_sing.tif is a low contrast image\n",
      "\n",
      "  3%|▎         | 3/111 [02:56<1:42:29, 56.94s/it]"
     ]
    },
    {
     "name": "stdout",
     "output_type": "stream",
     "text": [
      "386\n",
      "254\n"
     ]
    },
    {
     "name": "stderr",
     "output_type": "stream",
     "text": [
      "/tmp/ipykernel_1079933/3695195458.py:28: UserWarning:\n",
      "\n",
      "matt_raw_warped_single_upsampled_seg/20200411_28-XYZres184_single_skel_sing.tif is a low contrast image\n",
      "\n",
      "  4%|▎         | 4/111 [03:44<1:35:37, 53.62s/it]"
     ]
    },
    {
     "name": "stdout",
     "output_type": "stream",
     "text": [
      "29\n",
      "19\n"
     ]
    },
    {
     "name": "stderr",
     "output_type": "stream",
     "text": [
      "/tmp/ipykernel_1079933/3695195458.py:28: UserWarning:\n",
      "\n",
      "matt_raw_warped_single_upsampled_seg/20200217_7-XYZres56_single_skel_sing.tif is a low contrast image\n",
      "\n",
      "  5%|▍         | 5/111 [04:33<1:31:34, 51.84s/it]"
     ]
    },
    {
     "name": "stdout",
     "output_type": "stream",
     "text": [
      "134\n",
      "63\n"
     ]
    },
    {
     "name": "stderr",
     "output_type": "stream",
     "text": [
      "/tmp/ipykernel_1079933/3695195458.py:28: UserWarning:\n",
      "\n",
      "matt_raw_warped_single_upsampled_seg/20210710_51-XYZres299_single_skel_sing.tif is a low contrast image\n",
      "\n",
      "  5%|▌         | 6/111 [05:28<1:32:38, 52.94s/it]"
     ]
    },
    {
     "name": "stdout",
     "output_type": "stream",
     "text": [
      "611\n",
      "319\n"
     ]
    },
    {
     "name": "stderr",
     "output_type": "stream",
     "text": [
      "/tmp/ipykernel_1079933/3695195458.py:28: UserWarning:\n",
      "\n",
      "matt_raw_warped_single_upsampled_seg/20220713_76-XYZres460_single_skel_sing.tif is a low contrast image\n",
      "\n",
      "  6%|▋         | 7/111 [06:30<1:36:49, 55.86s/it]"
     ]
    },
    {
     "name": "stdout",
     "output_type": "stream",
     "text": [
      "703\n",
      "290\n"
     ]
    },
    {
     "name": "stderr",
     "output_type": "stream",
     "text": [
      "/tmp/ipykernel_1079933/3695195458.py:28: UserWarning:\n",
      "\n",
      "matt_raw_warped_single_upsampled_seg/20201201_33-XYZres223_single_skel_sing.tif is a low contrast image\n",
      "\n",
      "  7%|▋         | 8/111 [07:25<1:35:24, 55.58s/it]"
     ]
    },
    {
     "name": "stdout",
     "output_type": "stream",
     "text": [
      "19\n",
      "14\n"
     ]
    },
    {
     "name": "stderr",
     "output_type": "stream",
     "text": [
      "/tmp/ipykernel_1079933/3695195458.py:28: UserWarning:\n",
      "\n",
      "matt_raw_warped_single_upsampled_seg/20210619_49-XYZres322_single_skel_sing.tif is a low contrast image\n",
      "\n",
      "  8%|▊         | 9/111 [08:07<1:27:15, 51.33s/it]"
     ]
    },
    {
     "name": "stdout",
     "output_type": "stream",
     "text": [
      "269\n",
      "116\n"
     ]
    },
    {
     "name": "stderr",
     "output_type": "stream",
     "text": [
      "/tmp/ipykernel_1079933/3695195458.py:28: UserWarning:\n",
      "\n",
      "matt_raw_warped_single_upsampled_seg/20200227_23-XYZres158_single_skel_sing.tif is a low contrast image\n",
      "\n",
      "  9%|▉         | 10/111 [09:02<1:28:16, 52.44s/it]"
     ]
    },
    {
     "name": "stdout",
     "output_type": "stream",
     "text": [
      "318\n",
      "193\n"
     ]
    },
    {
     "name": "stderr",
     "output_type": "stream",
     "text": [
      "/tmp/ipykernel_1079933/3695195458.py:28: UserWarning:\n",
      "\n",
      "matt_raw_warped_single_upsampled_seg/20220129_63-XYZres363_single_skel_sing.tif is a low contrast image\n",
      "\n",
      " 10%|▉         | 11/111 [10:04<1:32:16, 55.36s/it]"
     ]
    },
    {
     "name": "stdout",
     "output_type": "stream",
     "text": [
      "28\n",
      "16\n"
     ]
    },
    {
     "name": "stderr",
     "output_type": "stream",
     "text": [
      "/tmp/ipykernel_1079933/3695195458.py:28: UserWarning:\n",
      "\n",
      "matt_raw_warped_single_upsampled_seg/20220129_64-XYZres353_single_skel_sing.tif is a low contrast image\n",
      "\n",
      " 11%|█         | 12/111 [10:46<1:24:37, 51.28s/it]"
     ]
    },
    {
     "name": "stdout",
     "output_type": "stream",
     "text": [
      "586\n",
      "416\n"
     ]
    },
    {
     "name": "stderr",
     "output_type": "stream",
     "text": [
      "/tmp/ipykernel_1079933/3695195458.py:28: UserWarning:\n",
      "\n",
      "matt_raw_warped_single_upsampled_seg/20220129_67-XYZres387_single_skel_sing.tif is a low contrast image\n",
      "\n",
      " 12%|█▏        | 13/111 [11:34<1:22:20, 50.42s/it]"
     ]
    },
    {
     "name": "stdout",
     "output_type": "stream",
     "text": [
      "147\n",
      "79\n"
     ]
    },
    {
     "name": "stderr",
     "output_type": "stream",
     "text": [
      "/tmp/ipykernel_1079933/3695195458.py:28: UserWarning:\n",
      "\n",
      "matt_raw_warped_single_upsampled_seg/20200525_32-XYZres201_single_skel_sing.tif is a low contrast image\n",
      "\n",
      " 13%|█▎        | 14/111 [12:29<1:23:48, 51.84s/it]"
     ]
    },
    {
     "name": "stdout",
     "output_type": "stream",
     "text": [
      "578\n",
      "290\n"
     ]
    },
    {
     "name": "stderr",
     "output_type": "stream",
     "text": [
      "/tmp/ipykernel_1079933/3695195458.py:28: UserWarning:\n",
      "\n",
      "matt_raw_warped_single_upsampled_seg/20211010_68-XYZres426_single_skel_sing.tif is a low contrast image\n",
      "\n",
      " 14%|█▎        | 15/111 [13:24<1:24:26, 52.78s/it]"
     ]
    },
    {
     "name": "stdout",
     "output_type": "stream",
     "text": [
      "620\n",
      "380\n"
     ]
    },
    {
     "name": "stderr",
     "output_type": "stream",
     "text": [
      "/tmp/ipykernel_1079933/3695195458.py:28: UserWarning:\n",
      "\n",
      "matt_raw_warped_single_upsampled_seg/vbm05 Feb 28 2020-XYZres016_single_skel_sing.tif is a low contrast image\n",
      "\n",
      " 14%|█▍        | 16/111 [14:19<1:24:35, 53.43s/it]"
     ]
    },
    {
     "name": "stdout",
     "output_type": "stream",
     "text": [
      "372\n",
      "273\n"
     ]
    },
    {
     "name": "stderr",
     "output_type": "stream",
     "text": [
      "/tmp/ipykernel_1079933/3695195458.py:28: UserWarning:\n",
      "\n",
      "matt_raw_warped_single_upsampled_seg/20220129_64-XYZres347_single_skel_sing.tif is a low contrast image\n",
      "\n",
      " 15%|█▌        | 17/111 [15:08<1:21:17, 51.88s/it]"
     ]
    },
    {
     "name": "stdout",
     "output_type": "stream",
     "text": [
      "764\n",
      "420\n"
     ]
    },
    {
     "name": "stderr",
     "output_type": "stream",
     "text": [
      "/tmp/ipykernel_1079933/3695195458.py:28: UserWarning:\n",
      "\n",
      "matt_raw_warped_single_upsampled_seg/20230426_01-XYZres438_single_skel_sing.tif is a low contrast image\n",
      "\n",
      " 16%|█▌        | 18/111 [16:03<1:21:56, 52.86s/it]"
     ]
    },
    {
     "name": "stdout",
     "output_type": "stream",
     "text": [
      "535\n",
      "282\n"
     ]
    },
    {
     "name": "stderr",
     "output_type": "stream",
     "text": [
      "/tmp/ipykernel_1079933/3695195458.py:28: UserWarning:\n",
      "\n",
      "matt_raw_warped_single_upsampled_seg/20230518_03-XYZres454_single_skel_sing.tif is a low contrast image\n",
      "\n",
      " 17%|█▋        | 19/111 [17:04<1:25:08, 55.53s/it]"
     ]
    },
    {
     "name": "stdout",
     "output_type": "stream",
     "text": [
      "603\n",
      "342\n"
     ]
    },
    {
     "name": "stderr",
     "output_type": "stream",
     "text": [
      "/tmp/ipykernel_1079933/3695195458.py:28: UserWarning:\n",
      "\n",
      "matt_raw_warped_single_upsampled_seg/vbm10 Apr 03 2020-XYZres040_single_skel_sing.tif is a low contrast image\n",
      "\n",
      " 18%|█▊        | 20/111 [18:00<1:23:59, 55.38s/it]"
     ]
    },
    {
     "name": "stdout",
     "output_type": "stream",
     "text": [
      "676\n",
      "331\n"
     ]
    },
    {
     "name": "stderr",
     "output_type": "stream",
     "text": [
      "/tmp/ipykernel_1079933/3695195458.py:28: UserWarning:\n",
      "\n",
      "matt_raw_warped_single_upsampled_seg/20211101_65-XYZres396_single_skel_sing.tif is a low contrast image\n",
      "\n",
      " 19%|█▉        | 21/111 [18:55<1:22:56, 55.29s/it]"
     ]
    },
    {
     "name": "stdout",
     "output_type": "stream",
     "text": [
      "66\n",
      "47\n"
     ]
    },
    {
     "name": "stderr",
     "output_type": "stream",
     "text": [
      "/tmp/ipykernel_1079933/3695195458.py:28: UserWarning:\n",
      "\n",
      "matt_raw_warped_single_upsampled_seg/20201201_35-XYZres211_single_skel_sing.tif is a low contrast image\n",
      "\n",
      " 20%|█▉        | 22/111 [19:37<1:16:06, 51.31s/it]"
     ]
    },
    {
     "name": "stdout",
     "output_type": "stream",
     "text": [
      "443\n",
      "267\n"
     ]
    },
    {
     "name": "stderr",
     "output_type": "stream",
     "text": [
      "/tmp/ipykernel_1079933/3695195458.py:28: UserWarning:\n",
      "\n",
      "matt_raw_warped_single_upsampled_seg/20200227_23-XYZres152_single_skel_sing.tif is a low contrast image\n",
      "\n",
      " 21%|██        | 23/111 [20:32<1:16:52, 52.42s/it]"
     ]
    },
    {
     "name": "stdout",
     "output_type": "stream",
     "text": [
      "561\n",
      "408\n"
     ]
    },
    {
     "name": "stderr",
     "output_type": "stream",
     "text": [
      "/tmp/ipykernel_1079933/3695195458.py:28: UserWarning:\n",
      "\n",
      "matt_raw_warped_single_upsampled_seg/20200227_22-XYZres160_single_skel_sing.tif is a low contrast image\n",
      "\n",
      " 22%|██▏       | 24/111 [21:33<1:20:01, 55.19s/it]"
     ]
    },
    {
     "name": "stdout",
     "output_type": "stream",
     "text": [
      "179\n",
      "91\n"
     ]
    },
    {
     "name": "stderr",
     "output_type": "stream",
     "text": [
      "/tmp/ipykernel_1079933/3695195458.py:28: UserWarning:\n",
      "\n",
      "matt_raw_warped_single_upsampled_seg/20200217_12-XYZres86_single_skel_sing.tif is a low contrast image\n",
      "\n",
      " 23%|██▎       | 25/111 [22:22<1:16:09, 53.13s/it]"
     ]
    },
    {
     "name": "stdout",
     "output_type": "stream",
     "text": [
      "208\n",
      "129\n"
     ]
    },
    {
     "name": "stderr",
     "output_type": "stream",
     "text": [
      "/tmp/ipykernel_1079933/3695195458.py:28: UserWarning:\n",
      "\n",
      "matt_raw_warped_single_upsampled_seg/20200411_28-XYZres188_single_skel_sing.tif is a low contrast image\n",
      "\n",
      " 23%|██▎       | 26/111 [23:03<1:10:25, 49.71s/it]"
     ]
    },
    {
     "name": "stdout",
     "output_type": "stream",
     "text": [
      "138\n",
      "63\n"
     ]
    },
    {
     "name": "stderr",
     "output_type": "stream",
     "text": [
      "/tmp/ipykernel_1079933/3695195458.py:28: UserWarning:\n",
      "\n",
      "matt_raw_warped_single_upsampled_seg/Feb52021_6-XYZres266_single_skel_sing.tif is a low contrast image\n",
      "\n",
      " 24%|██▍       | 27/111 [23:52<1:09:00, 49.29s/it]"
     ]
    },
    {
     "name": "stdout",
     "output_type": "stream",
     "text": [
      "285\n",
      "148\n"
     ]
    },
    {
     "name": "stderr",
     "output_type": "stream",
     "text": [
      "/tmp/ipykernel_1079933/3695195458.py:28: UserWarning:\n",
      "\n",
      "matt_raw_warped_single_upsampled_seg/20200217_9-XYZres70_single_skel_sing.tif is a low contrast image\n",
      "\n",
      " 25%|██▌       | 28/111 [24:53<1:13:20, 53.02s/it]"
     ]
    },
    {
     "name": "stdout",
     "output_type": "stream",
     "text": [
      "429\n",
      "270\n"
     ]
    },
    {
     "name": "stderr",
     "output_type": "stream",
     "text": [
      "/tmp/ipykernel_1079933/3695195458.py:28: UserWarning:\n",
      "\n",
      "matt_raw_warped_single_upsampled_seg/20220129_61-XYZres375_single_skel_sing.tif is a low contrast image\n",
      "\n",
      " 26%|██▌       | 29/111 [25:48<1:13:17, 53.62s/it]"
     ]
    },
    {
     "name": "stdout",
     "output_type": "stream",
     "text": [
      "570\n",
      "384\n"
     ]
    },
    {
     "name": "stderr",
     "output_type": "stream",
     "text": [
      "/tmp/ipykernel_1079933/3695195458.py:28: UserWarning:\n",
      "\n",
      "matt_raw_warped_single_upsampled_seg/20211101_65-XYZres397_single_skel_sing.tif is a low contrast image\n",
      "\n",
      " 27%|██▋       | 30/111 [26:44<1:12:59, 54.06s/it]"
     ]
    },
    {
     "name": "stdout",
     "output_type": "stream",
     "text": [
      "656\n",
      "446\n"
     ]
    },
    {
     "name": "stderr",
     "output_type": "stream",
     "text": [
      "/tmp/ipykernel_1079933/3695195458.py:28: UserWarning:\n",
      "\n",
      "matt_raw_warped_single_upsampled_seg/vbm04 Feb 27 2020-XYZres010_single_skel_sing.tif is a low contrast image\n",
      "\n",
      " 28%|██▊       | 31/111 [27:39<1:12:30, 54.38s/it]"
     ]
    },
    {
     "name": "stdout",
     "output_type": "stream",
     "text": [
      "493\n",
      "248\n"
     ]
    },
    {
     "name": "stderr",
     "output_type": "stream",
     "text": [
      "/tmp/ipykernel_1079933/3695195458.py:28: UserWarning:\n",
      "\n",
      "matt_raw_warped_single_upsampled_seg/vbm03 Feb 26 2020-XYZres007_single_skel_sing.tif is a low contrast image\n",
      "\n",
      " 29%|██▉       | 32/111 [28:34<1:11:53, 54.60s/it]"
     ]
    },
    {
     "name": "stdout",
     "output_type": "stream",
     "text": [
      "464\n",
      "275\n"
     ]
    },
    {
     "name": "stderr",
     "output_type": "stream",
     "text": [
      "/tmp/ipykernel_1079933/3695195458.py:28: UserWarning:\n",
      "\n",
      "matt_raw_warped_single_upsampled_seg/20200227_22-XYZres159_single_skel_sing.tif is a low contrast image\n",
      "\n",
      " 30%|██▉       | 33/111 [29:29<1:11:08, 54.73s/it]"
     ]
    },
    {
     "name": "stdout",
     "output_type": "stream",
     "text": [
      "1151\n",
      "624\n"
     ]
    },
    {
     "name": "stderr",
     "output_type": "stream",
     "text": [
      "/tmp/ipykernel_1079933/3695195458.py:28: UserWarning:\n",
      "\n",
      "matt_raw_warped_single_upsampled_seg/vbm08 Mar 27 2020-XYZres029_single_skel_sing.tif is a low contrast image\n",
      "\n",
      " 31%|███       | 34/111 [30:24<1:10:24, 54.87s/it]"
     ]
    },
    {
     "name": "stdout",
     "output_type": "stream",
     "text": [
      "115\n",
      "58\n"
     ]
    },
    {
     "name": "stderr",
     "output_type": "stream",
     "text": [
      "/tmp/ipykernel_1079933/3695195458.py:28: UserWarning:\n",
      "\n",
      "matt_raw_warped_single_upsampled_seg/20210604_43-XYZres254_single_skel_sing.tif is a low contrast image\n",
      "\n",
      " 32%|███▏      | 35/111 [31:06<1:04:35, 51.00s/it]"
     ]
    },
    {
     "name": "stdout",
     "output_type": "stream",
     "text": [
      "1163\n",
      "563\n"
     ]
    },
    {
     "name": "stderr",
     "output_type": "stream",
     "text": [
      "/tmp/ipykernel_1079933/3695195458.py:28: UserWarning:\n",
      "\n",
      "matt_raw_warped_single_upsampled_seg/20230426_01-XYZres436_single_skel_sing.tif is a low contrast image\n",
      "\n",
      " 32%|███▏      | 36/111 [32:08<1:07:43, 54.19s/it]"
     ]
    },
    {
     "name": "stdout",
     "output_type": "stream",
     "text": [
      "134\n",
      "69\n"
     ]
    },
    {
     "name": "stderr",
     "output_type": "stream",
     "text": [
      "/tmp/ipykernel_1079933/3695195458.py:28: UserWarning:\n",
      "\n",
      "matt_raw_warped_single_upsampled_seg/20210619_48-XYZres302_single_skel_sing.tif is a low contrast image\n",
      "\n",
      " 33%|███▎      | 37/111 [32:56<1:04:46, 52.53s/it]"
     ]
    },
    {
     "name": "stdout",
     "output_type": "stream",
     "text": [
      "676\n",
      "425\n"
     ]
    },
    {
     "name": "stderr",
     "output_type": "stream",
     "text": [
      "/tmp/ipykernel_1079933/3695195458.py:28: UserWarning:\n",
      "\n",
      "matt_raw_warped_single_upsampled_seg/vbm08 Mar 27 2020-XYZres028_single_skel_sing.tif is a low contrast image\n",
      "\n",
      " 34%|███▍      | 38/111 [33:45<1:02:28, 51.35s/it]"
     ]
    },
    {
     "name": "stdout",
     "output_type": "stream",
     "text": [
      "126\n",
      "66\n"
     ]
    },
    {
     "name": "stderr",
     "output_type": "stream",
     "text": [
      "/tmp/ipykernel_1079933/3695195458.py:28: UserWarning:\n",
      "\n",
      "matt_raw_warped_single_upsampled_seg/Feb52021_4-XYZres256_single_skel_sing.tif is a low contrast image\n",
      "\n",
      " 35%|███▌      | 39/111 [34:40<1:02:55, 52.44s/it]"
     ]
    },
    {
     "name": "stdout",
     "output_type": "stream",
     "text": [
      "600\n",
      "417\n"
     ]
    },
    {
     "name": "stderr",
     "output_type": "stream",
     "text": [
      "/tmp/ipykernel_1079933/3695195458.py:28: UserWarning:\n",
      "\n",
      "matt_raw_warped_single_upsampled_seg/vbm07 Mar 24 2020-XYZres022_single_skel_sing.tif is a low contrast image\n",
      "\n",
      " 36%|███▌      | 40/111 [35:35<1:02:57, 53.21s/it]"
     ]
    },
    {
     "name": "stdout",
     "output_type": "stream",
     "text": [
      "257\n",
      "117\n"
     ]
    },
    {
     "name": "stderr",
     "output_type": "stream",
     "text": [
      "/tmp/ipykernel_1079933/3695195458.py:28: UserWarning:\n",
      "\n",
      "matt_raw_warped_single_upsampled_seg/20220713_73-XYZres430_single_skel_sing.tif is a low contrast image\n",
      "\n",
      " 37%|███▋      | 41/111 [36:43<1:07:21, 57.73s/it]"
     ]
    },
    {
     "name": "stdout",
     "output_type": "stream",
     "text": [
      "651\n",
      "435\n"
     ]
    },
    {
     "name": "stderr",
     "output_type": "stream",
     "text": [
      "/tmp/ipykernel_1079933/3695195458.py:28: UserWarning:\n",
      "\n",
      "matt_raw_warped_single_upsampled_seg/vbm03 Feb 26 2020-XYZres008_single_skel_sing.tif is a low contrast image\n",
      "\n",
      " 38%|███▊      | 42/111 [37:38<1:05:27, 56.92s/it]"
     ]
    },
    {
     "name": "stdout",
     "output_type": "stream",
     "text": [
      "1152\n",
      "688\n"
     ]
    },
    {
     "name": "stderr",
     "output_type": "stream",
     "text": [
      "/tmp/ipykernel_1079933/3695195458.py:28: UserWarning:\n",
      "\n",
      "matt_raw_warped_single_upsampled_seg/vbm11 Apr 04 2020-XYZres048_single_skel_sing.tif is a low contrast image\n",
      "\n",
      " 39%|███▊      | 43/111 [38:34<1:03:59, 56.47s/it]"
     ]
    },
    {
     "name": "stdout",
     "output_type": "stream",
     "text": [
      "54\n",
      "30\n"
     ]
    },
    {
     "name": "stderr",
     "output_type": "stream",
     "text": [
      "/tmp/ipykernel_1079933/3695195458.py:28: UserWarning:\n",
      "\n",
      "matt_raw_warped_single_upsampled_seg/20200217_12-XYZres88_single_skel_sing.tif is a low contrast image\n",
      "\n",
      " 40%|███▉      | 44/111 [39:16<58:12, 52.12s/it]  "
     ]
    },
    {
     "name": "stdout",
     "output_type": "stream",
     "text": [
      "386\n",
      "174\n"
     ]
    },
    {
     "name": "stderr",
     "output_type": "stream",
     "text": [
      "/tmp/ipykernel_1079933/3695195458.py:28: UserWarning:\n",
      "\n",
      "matt_raw_warped_single_upsampled_seg/vbm05 Feb 28 2020-XYZres017_single_skel_sing.tif is a low contrast image\n",
      "\n",
      " 41%|████      | 45/111 [40:11<58:19, 53.02s/it]"
     ]
    },
    {
     "name": "stdout",
     "output_type": "stream",
     "text": [
      "473\n",
      "306\n"
     ]
    },
    {
     "name": "stderr",
     "output_type": "stream",
     "text": [
      "/tmp/ipykernel_1079933/3695195458.py:28: UserWarning:\n",
      "\n",
      "matt_raw_warped_single_upsampled_seg/20210710_55-XYZres349_single_skel_sing.tif is a low contrast image\n",
      "\n",
      " 41%|████▏     | 46/111 [41:06<58:07, 53.66s/it]"
     ]
    },
    {
     "name": "stdout",
     "output_type": "stream",
     "text": [
      "264\n",
      "130\n"
     ]
    },
    {
     "name": "stderr",
     "output_type": "stream",
     "text": [
      "/tmp/ipykernel_1079933/3695195458.py:28: UserWarning:\n",
      "\n",
      "matt_raw_warped_single_upsampled_seg/20220617_70-XYZres414_single_skel_sing.tif is a low contrast image\n",
      "\n",
      " 42%|████▏     | 47/111 [42:01<57:41, 54.09s/it]"
     ]
    },
    {
     "name": "stdout",
     "output_type": "stream",
     "text": [
      "433\n",
      "270\n"
     ]
    },
    {
     "name": "stderr",
     "output_type": "stream",
     "text": [
      "/tmp/ipykernel_1079933/3695195458.py:28: UserWarning:\n",
      "\n",
      "matt_raw_warped_single_upsampled_seg/06162021_45-XYZres297_single_skel_sing.tif is a low contrast image\n",
      "\n",
      " 43%|████▎     | 48/111 [42:49<55:00, 52.38s/it]"
     ]
    },
    {
     "name": "stdout",
     "output_type": "stream",
     "text": [
      "815\n",
      "484\n"
     ]
    },
    {
     "name": "stderr",
     "output_type": "stream",
     "text": [
      "/tmp/ipykernel_1079933/3695195458.py:28: UserWarning:\n",
      "\n",
      "matt_raw_warped_single_upsampled_seg/vbm07 Mar 24 2020-XYZres023_single_skel_sing.tif is a low contrast image\n",
      "\n",
      " 44%|████▍     | 49/111 [43:44<54:58, 53.20s/it]"
     ]
    },
    {
     "name": "stdout",
     "output_type": "stream",
     "text": [
      "222\n",
      "118\n"
     ]
    },
    {
     "name": "stderr",
     "output_type": "stream",
     "text": [
      "/tmp/ipykernel_1079933/3695195458.py:28: UserWarning:\n",
      "\n",
      "matt_raw_warped_single_upsampled_seg/20200411_26-XYZres174_single_skel_sing.tif is a low contrast image\n",
      "\n",
      " 45%|████▌     | 50/111 [44:26<50:40, 49.84s/it]"
     ]
    },
    {
     "name": "stdout",
     "output_type": "stream",
     "text": [
      "527\n",
      "210\n"
     ]
    },
    {
     "name": "stderr",
     "output_type": "stream",
     "text": [
      "/tmp/ipykernel_1079933/3695195458.py:28: UserWarning:\n",
      "\n",
      "matt_raw_warped_single_upsampled_seg/20200227_18-XYZres128_single_skel_sing.tif is a low contrast image\n",
      "\n",
      " 46%|████▌     | 51/111 [45:22<51:25, 51.43s/it]"
     ]
    },
    {
     "name": "stdout",
     "output_type": "stream",
     "text": [
      "393\n",
      "228\n"
     ]
    },
    {
     "name": "stderr",
     "output_type": "stream",
     "text": [
      "/tmp/ipykernel_1079933/3695195458.py:28: UserWarning:\n",
      "\n",
      "matt_raw_warped_single_upsampled_seg/20210710_56-XYZres342_single_skel_sing.tif is a low contrast image\n",
      "\n",
      " 47%|████▋     | 52/111 [46:17<51:47, 52.67s/it]"
     ]
    },
    {
     "name": "stdout",
     "output_type": "stream",
     "text": [
      "655\n",
      "391\n"
     ]
    },
    {
     "name": "stderr",
     "output_type": "stream",
     "text": [
      "/tmp/ipykernel_1079933/3695195458.py:28: UserWarning:\n",
      "\n",
      "matt_raw_warped_single_upsampled_seg/20211010_68-XYZres424_single_skel_sing.tif is a low contrast image\n",
      "\n",
      " 48%|████▊     | 53/111 [47:12<51:39, 53.43s/it]"
     ]
    },
    {
     "name": "stdout",
     "output_type": "stream",
     "text": [
      "112\n",
      "69\n"
     ]
    },
    {
     "name": "stderr",
     "output_type": "stream",
     "text": [
      "/tmp/ipykernel_1079933/3695195458.py:28: UserWarning:\n",
      "\n",
      "matt_raw_warped_single_upsampled_seg/20210619_49-XYZres316_single_skel_sing.tif is a low contrast image\n",
      "\n",
      " 49%|████▊     | 54/111 [48:01<49:21, 51.95s/it]"
     ]
    },
    {
     "name": "stdout",
     "output_type": "stream",
     "text": [
      "332\n",
      "205\n"
     ]
    },
    {
     "name": "stderr",
     "output_type": "stream",
     "text": [
      "/tmp/ipykernel_1079933/3695195458.py:28: UserWarning:\n",
      "\n",
      "matt_raw_warped_single_upsampled_seg/Feb52021_4-XYZres254_single_skel_sing.tif is a low contrast image\n",
      "\n",
      " 50%|████▉     | 55/111 [48:56<49:21, 52.89s/it]"
     ]
    },
    {
     "name": "stdout",
     "output_type": "stream",
     "text": [
      "237\n",
      "102\n"
     ]
    },
    {
     "name": "stderr",
     "output_type": "stream",
     "text": [
      "/tmp/ipykernel_1079933/3695195458.py:28: UserWarning:\n",
      "\n",
      "matt_raw_warped_single_upsampled_seg/20220129_61-XYZres373_single_skel_sing.tif is a low contrast image\n",
      "\n",
      " 50%|█████     | 56/111 [49:44<47:17, 51.60s/it]"
     ]
    },
    {
     "name": "stdout",
     "output_type": "stream",
     "text": [
      "977\n",
      "473\n"
     ]
    },
    {
     "name": "stderr",
     "output_type": "stream",
     "text": [
      "/tmp/ipykernel_1079933/3695195458.py:28: UserWarning:\n",
      "\n",
      "matt_raw_warped_single_upsampled_seg/vbm09 Mar 28 2020-XYZres035_single_skel_sing.tif is a low contrast image\n",
      "\n",
      " 51%|█████▏    | 57/111 [50:46<49:13, 54.70s/it]"
     ]
    },
    {
     "name": "stdout",
     "output_type": "stream",
     "text": [
      "91\n",
      "36\n"
     ]
    },
    {
     "name": "stderr",
     "output_type": "stream",
     "text": [
      "/tmp/ipykernel_1079933/3695195458.py:28: UserWarning:\n",
      "\n",
      "matt_raw_warped_single_upsampled_seg/20210710_56-XYZres339_single_skel_sing.tif is a low contrast image\n",
      "\n",
      " 52%|█████▏    | 58/111 [51:42<48:32, 54.95s/it]"
     ]
    },
    {
     "name": "stdout",
     "output_type": "stream",
     "text": [
      "350\n",
      "177\n"
     ]
    },
    {
     "name": "stderr",
     "output_type": "stream",
     "text": [
      "/tmp/ipykernel_1079933/3695195458.py:28: UserWarning:\n",
      "\n",
      "matt_raw_warped_single_upsampled_seg/20210710_53-XYZres332_single_skel_sing.tif is a low contrast image\n",
      "\n",
      " 53%|█████▎    | 59/111 [52:37<47:41, 55.02s/it]"
     ]
    },
    {
     "name": "stdout",
     "output_type": "stream",
     "text": [
      "7\n",
      "1\n"
     ]
    },
    {
     "name": "stderr",
     "output_type": "stream",
     "text": [
      "/tmp/ipykernel_1079933/3695195458.py:28: UserWarning:\n",
      "\n",
      "matt_raw_warped_single_upsampled_seg/06162021_45-XYZres290_single_skel_sing.tif is a low contrast image\n",
      "\n",
      " 54%|█████▍    | 60/111 [53:19<43:28, 51.14s/it]"
     ]
    },
    {
     "name": "stdout",
     "output_type": "stream",
     "text": [
      "409\n",
      "242\n"
     ]
    },
    {
     "name": "stderr",
     "output_type": "stream",
     "text": [
      "/tmp/ipykernel_1079933/3695195458.py:28: UserWarning:\n",
      "\n",
      "matt_raw_warped_single_upsampled_seg/20200411_28-XYZres183_single_skel_sing.tif is a low contrast image\n",
      "\n",
      " 55%|█████▍    | 61/111 [54:14<43:36, 52.33s/it]"
     ]
    },
    {
     "name": "stdout",
     "output_type": "stream",
     "text": [
      "718\n",
      "452\n"
     ]
    },
    {
     "name": "stderr",
     "output_type": "stream",
     "text": [
      "/tmp/ipykernel_1079933/3695195458.py:28: UserWarning:\n",
      "\n",
      "matt_raw_warped_single_upsampled_seg/20220129_63-XYZres362_single_skel_sing.tif is a low contrast image\n",
      "\n",
      " 56%|█████▌    | 62/111 [55:10<43:27, 53.22s/it]"
     ]
    },
    {
     "name": "stdout",
     "output_type": "stream",
     "text": [
      "286\n",
      "156\n"
     ]
    },
    {
     "name": "stderr",
     "output_type": "stream",
     "text": [
      "/tmp/ipykernel_1079933/3695195458.py:28: UserWarning:\n",
      "\n",
      "matt_raw_warped_single_upsampled_seg/20202112_40-XYZres248_single_skel_sing.tif is a low contrast image\n",
      "\n",
      " 57%|█████▋    | 63/111 [56:12<44:40, 55.83s/it]"
     ]
    },
    {
     "name": "stdout",
     "output_type": "stream",
     "text": [
      "419\n",
      "219\n"
     ]
    },
    {
     "name": "stderr",
     "output_type": "stream",
     "text": [
      "/tmp/ipykernel_1079933/3695195458.py:28: UserWarning:\n",
      "\n",
      "matt_raw_warped_single_upsampled_seg/20201201_33-XYZres228_single_skel_sing.tif is a low contrast image\n",
      "\n",
      " 58%|█████▊    | 64/111 [57:07<43:32, 55.58s/it]"
     ]
    },
    {
     "name": "stdout",
     "output_type": "stream",
     "text": [
      "1124\n",
      "592\n"
     ]
    },
    {
     "name": "stderr",
     "output_type": "stream",
     "text": [
      "/tmp/ipykernel_1079933/3695195458.py:28: UserWarning:\n",
      "\n",
      "matt_raw_warped_single_upsampled_seg/20230519_04-XYZres468_single_skel_sing.tif is a low contrast image\n",
      "\n",
      " 59%|█████▊    | 65/111 [58:15<45:37, 59.50s/it]"
     ]
    },
    {
     "name": "stdout",
     "output_type": "stream",
     "text": [
      "482\n",
      "304\n"
     ]
    },
    {
     "name": "stderr",
     "output_type": "stream",
     "text": [
      "/tmp/ipykernel_1079933/3695195458.py:28: UserWarning:\n",
      "\n",
      "matt_raw_warped_single_upsampled_seg/20200227_20-XYZres145_single_skel_sing.tif is a low contrast image\n",
      "\n",
      " 59%|█████▉    | 66/111 [59:10<43:38, 58.20s/it]"
     ]
    },
    {
     "name": "stdout",
     "output_type": "stream",
     "text": [
      "354\n",
      "180\n"
     ]
    },
    {
     "name": "stderr",
     "output_type": "stream",
     "text": [
      "/tmp/ipykernel_1079933/3695195458.py:28: UserWarning:\n",
      "\n",
      "matt_raw_warped_single_upsampled_seg/06162021_45-XYZres294_single_skel_sing.tif is a low contrast image\n",
      "\n",
      " 60%|██████    | 67/111 [1:00:06<42:02, 57.34s/it]"
     ]
    },
    {
     "name": "stdout",
     "output_type": "stream",
     "text": [
      "1544\n",
      "720\n"
     ]
    },
    {
     "name": "stderr",
     "output_type": "stream",
     "text": [
      "/tmp/ipykernel_1079933/3695195458.py:28: UserWarning:\n",
      "\n",
      "matt_raw_warped_single_upsampled_seg/20230510_02-XYZres450_single_skel_sing.tif is a low contrast image\n",
      "\n",
      " 61%|██████▏   | 68/111 [1:01:08<42:04, 58.70s/it]"
     ]
    },
    {
     "name": "stdout",
     "output_type": "stream",
     "text": [
      "463\n",
      "261\n"
     ]
    },
    {
     "name": "stderr",
     "output_type": "stream",
     "text": [
      "/tmp/ipykernel_1079933/3695195458.py:28: UserWarning:\n",
      "\n",
      "matt_raw_warped_single_upsampled_seg/20201221_38-XYZres238_single_skel_sing.tif is a low contrast image\n",
      "\n",
      " 62%|██████▏   | 69/111 [1:02:03<40:26, 57.76s/it]"
     ]
    },
    {
     "name": "stdout",
     "output_type": "stream",
     "text": [
      "542\n",
      "324\n"
     ]
    },
    {
     "name": "stderr",
     "output_type": "stream",
     "text": [
      "/tmp/ipykernel_1079933/3695195458.py:28: UserWarning:\n",
      "\n",
      "matt_raw_warped_single_upsampled_seg/20220129_67-XYZres385_single_skel_sing.tif is a low contrast image\n",
      "\n",
      " 63%|██████▎   | 70/111 [1:02:52<37:34, 54.99s/it]"
     ]
    },
    {
     "name": "stdout",
     "output_type": "stream",
     "text": [
      "801\n",
      "524\n"
     ]
    },
    {
     "name": "stderr",
     "output_type": "stream",
     "text": [
      "/tmp/ipykernel_1079933/3695195458.py:28: UserWarning:\n",
      "\n",
      "matt_raw_warped_single_upsampled_seg/vbm11 Apr 04 2020-XYZres047_single_skel_sing.tif is a low contrast image\n",
      "\n",
      " 64%|██████▍   | 71/111 [1:03:47<36:46, 55.17s/it]"
     ]
    },
    {
     "name": "stdout",
     "output_type": "stream",
     "text": [
      "209\n",
      "101\n"
     ]
    },
    {
     "name": "stderr",
     "output_type": "stream",
     "text": [
      "/tmp/ipykernel_1079933/3695195458.py:28: UserWarning:\n",
      "\n",
      "matt_raw_warped_single_upsampled_seg/20220713_73-XYZres423_single_skel_sing.tif is a low contrast image\n",
      "\n",
      " 65%|██████▍   | 72/111 [1:04:36<34:34, 53.19s/it]"
     ]
    },
    {
     "name": "stdout",
     "output_type": "stream",
     "text": [
      "78\n",
      "31\n"
     ]
    },
    {
     "name": "stderr",
     "output_type": "stream",
     "text": [
      "/tmp/ipykernel_1079933/3695195458.py:28: UserWarning:\n",
      "\n",
      "matt_raw_warped_single_upsampled_seg/20202112_40-XYZres243_single_skel_sing.tif is a low contrast image\n",
      "\n",
      " 66%|██████▌   | 73/111 [1:05:31<34:07, 53.87s/it]"
     ]
    },
    {
     "name": "stdout",
     "output_type": "stream",
     "text": [
      "785\n",
      "437\n"
     ]
    },
    {
     "name": "stderr",
     "output_type": "stream",
     "text": [
      "/tmp/ipykernel_1079933/3695195458.py:28: UserWarning:\n",
      "\n",
      "matt_raw_warped_single_upsampled_seg/20200227_18-XYZres126_single_skel_sing.tif is a low contrast image\n",
      "\n",
      " 67%|██████▋   | 74/111 [1:06:26<33:28, 54.28s/it]"
     ]
    },
    {
     "name": "stdout",
     "output_type": "stream",
     "text": [
      "53\n",
      "28\n"
     ]
    },
    {
     "name": "stderr",
     "output_type": "stream",
     "text": [
      "/tmp/ipykernel_1079933/3695195458.py:28: UserWarning:\n",
      "\n",
      "matt_raw_warped_single_upsampled_seg/20200217_9-XYZres72_single_skel_sing.tif is a low contrast image\n",
      "\n",
      " 68%|██████▊   | 75/111 [1:07:22<32:42, 54.51s/it]"
     ]
    },
    {
     "name": "stdout",
     "output_type": "stream",
     "text": [
      "129\n",
      "73\n"
     ]
    },
    {
     "name": "stderr",
     "output_type": "stream",
     "text": [
      "/tmp/ipykernel_1079933/3695195458.py:28: UserWarning:\n",
      "\n",
      "matt_raw_warped_single_upsampled_seg/Feb52021_6-XYZres264_single_skel_sing.tif is a low contrast image\n",
      "\n",
      " 68%|██████▊   | 76/111 [1:08:10<30:43, 52.68s/it]"
     ]
    },
    {
     "name": "stdout",
     "output_type": "stream",
     "text": [
      "820\n",
      "568\n"
     ]
    },
    {
     "name": "stderr",
     "output_type": "stream",
     "text": [
      "/tmp/ipykernel_1079933/3695195458.py:28: UserWarning:\n",
      "\n",
      "matt_raw_warped_single_upsampled_seg/20200227_22-XYZres164_single_skel_sing.tif is a low contrast image\n",
      "\n",
      " 69%|██████▉   | 77/111 [1:09:05<30:16, 53.42s/it]"
     ]
    },
    {
     "name": "stdout",
     "output_type": "stream",
     "text": [
      "628\n",
      "392\n"
     ]
    },
    {
     "name": "stderr",
     "output_type": "stream",
     "text": [
      "/tmp/ipykernel_1079933/3695195458.py:28: UserWarning:\n",
      "\n",
      "matt_raw_warped_single_upsampled_seg/20200411_26-XYZres172_single_skel_sing.tif is a low contrast image\n",
      "\n",
      " 70%|███████   | 78/111 [1:10:00<29:41, 53.98s/it]"
     ]
    },
    {
     "name": "stdout",
     "output_type": "stream",
     "text": [
      "54\n",
      "28\n"
     ]
    },
    {
     "name": "stderr",
     "output_type": "stream",
     "text": [
      "/tmp/ipykernel_1079933/3695195458.py:28: UserWarning:\n",
      "\n",
      "matt_raw_warped_single_upsampled_seg/20210604_43-XYZres253_single_skel_sing.tif is a low contrast image\n",
      "\n",
      " 71%|███████   | 79/111 [1:10:56<29:00, 54.39s/it]"
     ]
    },
    {
     "name": "stdout",
     "output_type": "stream",
     "text": [
      "499\n",
      "261\n"
     ]
    },
    {
     "name": "stderr",
     "output_type": "stream",
     "text": [
      "/tmp/ipykernel_1079933/3695195458.py:28: UserWarning:\n",
      "\n",
      "matt_raw_warped_single_upsampled_seg/20200217_11-XYZres93_single_skel_sing.tif is a low contrast image\n",
      "\n",
      " 72%|███████▏  | 80/111 [1:12:04<30:16, 58.61s/it]"
     ]
    },
    {
     "name": "stdout",
     "output_type": "stream",
     "text": [
      "33\n",
      "12\n"
     ]
    },
    {
     "name": "stderr",
     "output_type": "stream",
     "text": [
      "/tmp/ipykernel_1079933/3695195458.py:28: UserWarning:\n",
      "\n",
      "matt_raw_warped_single_upsampled_seg/20200217_14-XYZres106_single_skel_sing.tif is a low contrast image\n",
      "\n",
      " 73%|███████▎  | 81/111 [1:13:13<30:47, 61.58s/it]"
     ]
    },
    {
     "name": "stdout",
     "output_type": "stream",
     "text": [
      "855\n",
      "443\n"
     ]
    },
    {
     "name": "stderr",
     "output_type": "stream",
     "text": [
      "/tmp/ipykernel_1079933/3695195458.py:28: UserWarning:\n",
      "\n",
      "matt_raw_warped_single_upsampled_seg/vbm04 Feb 27 2020-XYZres011_single_skel_sing.tif is a low contrast image\n",
      "\n",
      " 74%|███████▍  | 82/111 [1:14:08<28:48, 59.62s/it]"
     ]
    },
    {
     "name": "stdout",
     "output_type": "stream",
     "text": [
      "511\n",
      "295\n"
     ]
    },
    {
     "name": "stderr",
     "output_type": "stream",
     "text": [
      "/tmp/ipykernel_1079933/3695195458.py:28: UserWarning:\n",
      "\n",
      "matt_raw_warped_single_upsampled_seg/20200217_11-XYZres92_single_skel_sing.tif is a low contrast image\n",
      "\n",
      " 75%|███████▍  | 83/111 [1:15:10<28:09, 60.33s/it]"
     ]
    },
    {
     "name": "stdout",
     "output_type": "stream",
     "text": [
      "510\n",
      "276\n"
     ]
    },
    {
     "name": "stderr",
     "output_type": "stream",
     "text": [
      "/tmp/ipykernel_1079933/3695195458.py:28: UserWarning:\n",
      "\n",
      "matt_raw_warped_single_upsampled_seg/20202112_40-XYZres244_single_skel_sing.tif is a low contrast image\n",
      "\n",
      " 76%|███████▌  | 84/111 [1:16:05<26:26, 58.74s/it]"
     ]
    },
    {
     "name": "stdout",
     "output_type": "stream",
     "text": [
      "334\n",
      "176\n"
     ]
    },
    {
     "name": "stderr",
     "output_type": "stream",
     "text": [
      "/tmp/ipykernel_1079933/3695195458.py:28: UserWarning:\n",
      "\n",
      "matt_raw_warped_single_upsampled_seg/20200525_32-XYZres199_single_skel_sing.tif is a low contrast image\n",
      "\n",
      " 77%|███████▋  | 85/111 [1:17:00<24:59, 57.68s/it]"
     ]
    },
    {
     "name": "stdout",
     "output_type": "stream",
     "text": [
      "334\n",
      "151\n"
     ]
    },
    {
     "name": "stderr",
     "output_type": "stream",
     "text": [
      "/tmp/ipykernel_1079933/3695195458.py:28: UserWarning:\n",
      "\n",
      "matt_raw_warped_single_upsampled_seg/vbm03 Feb 26 2020-XYZres006_single_skel_sing.tif is a low contrast image\n",
      "\n",
      " 77%|███████▋  | 86/111 [1:17:55<23:44, 56.99s/it]"
     ]
    },
    {
     "name": "stdout",
     "output_type": "stream",
     "text": [
      "1155\n",
      "462\n"
     ]
    },
    {
     "name": "stderr",
     "output_type": "stream",
     "text": [
      "/tmp/ipykernel_1079933/3695195458.py:28: UserWarning:\n",
      "\n",
      "matt_raw_warped_single_upsampled_seg/20230518_03-XYZres456_single_skel_sing.tif is a low contrast image\n",
      "\n",
      " 78%|███████▊  | 87/111 [1:18:50<22:33, 56.41s/it]"
     ]
    },
    {
     "name": "stdout",
     "output_type": "stream",
     "text": [
      "167\n",
      "71\n"
     ]
    },
    {
     "name": "stderr",
     "output_type": "stream",
     "text": [
      "/tmp/ipykernel_1079933/3695195458.py:28: UserWarning:\n",
      "\n",
      "matt_raw_warped_single_upsampled_seg/20200217_11-XYZres91_single_skel_sing.tif is a low contrast image\n",
      "\n",
      " 79%|███████▉  | 88/111 [1:19:46<21:30, 56.12s/it]"
     ]
    },
    {
     "name": "stdout",
     "output_type": "stream",
     "text": [
      "482\n",
      "285\n"
     ]
    },
    {
     "name": "stderr",
     "output_type": "stream",
     "text": [
      "/tmp/ipykernel_1079933/3695195458.py:28: UserWarning:\n",
      "\n",
      "matt_raw_warped_single_upsampled_seg/20220617_70-XYZres420_single_skel_sing.tif is a low contrast image\n",
      "\n",
      " 80%|████████  | 89/111 [1:20:41<20:28, 55.86s/it]"
     ]
    },
    {
     "name": "stdout",
     "output_type": "stream",
     "text": [
      "422\n",
      "241\n"
     ]
    },
    {
     "name": "stderr",
     "output_type": "stream",
     "text": [
      "/tmp/ipykernel_1079933/3695195458.py:28: UserWarning:\n",
      "\n",
      "matt_raw_warped_single_upsampled_seg/20220713_76-XYZres459_single_skel_sing.tif is a low contrast image\n",
      "\n",
      " 81%|████████  | 90/111 [1:21:36<19:30, 55.72s/it]"
     ]
    },
    {
     "name": "stdout",
     "output_type": "stream",
     "text": [
      "78\n",
      "33\n"
     ]
    },
    {
     "name": "stderr",
     "output_type": "stream",
     "text": [
      "/tmp/ipykernel_1079933/3695195458.py:28: UserWarning:\n",
      "\n",
      "matt_raw_warped_single_upsampled_seg/20201201_35-XYZres213_single_skel_sing.tif is a low contrast image\n",
      "\n",
      " 82%|████████▏ | 91/111 [1:22:25<17:49, 53.50s/it]"
     ]
    },
    {
     "name": "stdout",
     "output_type": "stream",
     "text": [
      "337\n",
      "215\n"
     ]
    },
    {
     "name": "stderr",
     "output_type": "stream",
     "text": [
      "/tmp/ipykernel_1079933/3695195458.py:28: UserWarning:\n",
      "\n",
      "matt_raw_warped_single_upsampled_seg/20220617_70-XYZres419_single_skel_sing.tif is a low contrast image\n",
      "\n",
      " 83%|████████▎ | 92/111 [1:23:20<17:06, 54.02s/it]"
     ]
    },
    {
     "name": "stdout",
     "output_type": "stream",
     "text": [
      "806\n",
      "447\n"
     ]
    },
    {
     "name": "stderr",
     "output_type": "stream",
     "text": [
      "/tmp/ipykernel_1079933/3695195458.py:28: UserWarning:\n",
      "\n",
      "matt_raw_warped_single_upsampled_seg/20200227_22-XYZres163_single_skel_sing.tif is a low contrast image\n",
      "\n",
      " 84%|████████▍ | 93/111 [1:24:15<16:18, 54.37s/it]"
     ]
    },
    {
     "name": "stdout",
     "output_type": "stream",
     "text": [
      "252\n",
      "127\n"
     ]
    },
    {
     "name": "stderr",
     "output_type": "stream",
     "text": [
      "/tmp/ipykernel_1079933/3695195458.py:28: UserWarning:\n",
      "\n",
      "matt_raw_warped_single_upsampled_seg/20202112_40-XYZres245_single_skel_sing.tif is a low contrast image\n",
      "\n",
      " 85%|████████▍ | 94/111 [1:25:11<15:29, 54.65s/it]"
     ]
    },
    {
     "name": "stdout",
     "output_type": "stream",
     "text": [
      "118\n",
      "65\n"
     ]
    },
    {
     "name": "stderr",
     "output_type": "stream",
     "text": [
      "/tmp/ipykernel_1079933/3695195458.py:28: UserWarning:\n",
      "\n",
      "matt_raw_warped_single_upsampled_seg/20200217_17-XYZres116_single_skel_sing.tif is a low contrast image\n",
      "\n",
      " 86%|████████▌ | 95/111 [1:25:59<14:05, 52.85s/it]"
     ]
    },
    {
     "name": "stdout",
     "output_type": "stream",
     "text": [
      "150\n",
      "79\n"
     ]
    },
    {
     "name": "stderr",
     "output_type": "stream",
     "text": [
      "/tmp/ipykernel_1079933/3695195458.py:28: UserWarning:\n",
      "\n",
      "matt_raw_warped_single_upsampled_seg/20200227_20-XYZres149_single_skel_sing.tif is a low contrast image\n",
      "\n",
      " 86%|████████▋ | 96/111 [1:26:48<12:53, 51.57s/it]"
     ]
    },
    {
     "name": "stdout",
     "output_type": "stream",
     "text": [
      "1021\n",
      "559\n"
     ]
    },
    {
     "name": "stderr",
     "output_type": "stream",
     "text": [
      "/tmp/ipykernel_1079933/3695195458.py:28: UserWarning:\n",
      "\n",
      "matt_raw_warped_single_upsampled_seg/20230510_02-XYZres448_single_skel_sing.tif is a low contrast image\n",
      "\n",
      " 87%|████████▋ | 97/111 [1:27:43<12:18, 52.74s/it]"
     ]
    },
    {
     "name": "stdout",
     "output_type": "stream",
     "text": [
      "45\n",
      "20\n"
     ]
    },
    {
     "name": "stderr",
     "output_type": "stream",
     "text": [
      "/tmp/ipykernel_1079933/3695195458.py:28: UserWarning:\n",
      "\n",
      "matt_raw_warped_single_upsampled_seg/20210619_48-XYZres308_single_skel_sing.tif is a low contrast image\n",
      "\n",
      " 88%|████████▊ | 98/111 [1:28:32<11:09, 51.52s/it]"
     ]
    },
    {
     "name": "stdout",
     "output_type": "stream",
     "text": [
      "114\n",
      "36\n"
     ]
    },
    {
     "name": "stderr",
     "output_type": "stream",
     "text": [
      "/tmp/ipykernel_1079933/3695195458.py:28: UserWarning:\n",
      "\n",
      "matt_raw_warped_single_upsampled_seg/20210710_51-XYZres296_single_skel_sing.tif is a low contrast image\n",
      "\n",
      " 89%|████████▉ | 99/111 [1:29:27<10:31, 52.67s/it]"
     ]
    },
    {
     "name": "stdout",
     "output_type": "stream",
     "text": [
      "276\n",
      "124\n"
     ]
    },
    {
     "name": "stderr",
     "output_type": "stream",
     "text": [
      "/tmp/ipykernel_1079933/3695195458.py:28: UserWarning:\n",
      "\n",
      "matt_raw_warped_single_upsampled_seg/20211101_65-XYZres403_single_skel_sing.tif is a low contrast image\n",
      "\n",
      " 90%|█████████ | 100/111 [1:30:29<10:08, 55.36s/it]"
     ]
    },
    {
     "name": "stdout",
     "output_type": "stream",
     "text": [
      "695\n",
      "397\n"
     ]
    },
    {
     "name": "stderr",
     "output_type": "stream",
     "text": [
      "/tmp/ipykernel_1079933/3695195458.py:28: UserWarning:\n",
      "\n",
      "matt_raw_warped_single_upsampled_seg/vbm09 Mar 28 2020-XYZres034_single_skel_sing.tif is a low contrast image\n",
      "\n",
      " 91%|█████████ | 101/111 [1:31:24<09:12, 55.26s/it]"
     ]
    },
    {
     "name": "stdout",
     "output_type": "stream",
     "text": [
      "376\n",
      "171\n"
     ]
    },
    {
     "name": "stderr",
     "output_type": "stream",
     "text": [
      "/tmp/ipykernel_1079933/3695195458.py:28: UserWarning:\n",
      "\n",
      "matt_raw_warped_single_upsampled_seg/20200217_11-XYZres95_single_skel_sing.tif is a low contrast image\n",
      "\n",
      " 92%|█████████▏| 102/111 [1:32:26<08:34, 57.21s/it]"
     ]
    },
    {
     "name": "stdout",
     "output_type": "stream",
     "text": [
      "529\n",
      "236\n"
     ]
    },
    {
     "name": "stderr",
     "output_type": "stream",
     "text": [
      "/tmp/ipykernel_1079933/3695195458.py:28: UserWarning:\n",
      "\n",
      "matt_raw_warped_single_upsampled_seg/20210710_55-XYZres351_single_skel_sing.tif is a low contrast image\n",
      "\n",
      " 93%|█████████▎| 103/111 [1:33:21<07:32, 56.53s/it]"
     ]
    },
    {
     "name": "stdout",
     "output_type": "stream",
     "text": [
      "163\n",
      "101\n"
     ]
    },
    {
     "name": "stderr",
     "output_type": "stream",
     "text": [
      "/tmp/ipykernel_1079933/3695195458.py:28: UserWarning:\n",
      "\n",
      "matt_raw_warped_single_upsampled_seg/20210710_53-XYZres334_single_skel_sing.tif is a low contrast image\n",
      "\n",
      " 94%|█████████▎| 104/111 [1:34:16<06:32, 56.07s/it]"
     ]
    },
    {
     "name": "stdout",
     "output_type": "stream",
     "text": [
      "410\n",
      "259\n"
     ]
    },
    {
     "name": "stderr",
     "output_type": "stream",
     "text": [
      "/tmp/ipykernel_1079933/3695195458.py:28: UserWarning:\n",
      "\n",
      "matt_raw_warped_single_upsampled_seg/06162021_45-XYZres288_single_skel_sing.tif is a low contrast image\n",
      "\n",
      " 95%|█████████▍| 105/111 [1:35:11<05:34, 55.79s/it]"
     ]
    },
    {
     "name": "stdout",
     "output_type": "stream",
     "text": [
      "986\n",
      "475\n"
     ]
    },
    {
     "name": "stderr",
     "output_type": "stream",
     "text": [
      "/tmp/ipykernel_1079933/3695195458.py:28: UserWarning:\n",
      "\n",
      "matt_raw_warped_single_upsampled_seg/vbm10 Apr 03 2020-XYZres041_single_skel_sing.tif is a low contrast image\n",
      "\n",
      " 95%|█████████▌| 106/111 [1:36:13<04:48, 57.62s/it]"
     ]
    },
    {
     "name": "stdout",
     "output_type": "stream",
     "text": [
      "9\n",
      "5\n"
     ]
    },
    {
     "name": "stderr",
     "output_type": "stream",
     "text": [
      "/tmp/ipykernel_1079933/3695195458.py:28: UserWarning:\n",
      "\n",
      "matt_raw_warped_single_upsampled_seg/20200217_17-XYZres118_single_skel_sing.tif is a low contrast image\n",
      "\n",
      " 96%|█████████▋| 107/111 [1:36:55<03:31, 52.95s/it]"
     ]
    },
    {
     "name": "stdout",
     "output_type": "stream",
     "text": [
      "1325\n",
      "631\n"
     ]
    },
    {
     "name": "stderr",
     "output_type": "stream",
     "text": [
      "/tmp/ipykernel_1079933/3695195458.py:28: UserWarning:\n",
      "\n",
      "matt_raw_warped_single_upsampled_seg/20230519_04-XYZres466_single_skel_sing.tif is a low contrast image\n",
      "\n",
      " 97%|█████████▋| 108/111 [1:37:50<02:40, 53.63s/it]"
     ]
    },
    {
     "name": "stdout",
     "output_type": "stream",
     "text": [
      "183\n",
      "109\n"
     ]
    },
    {
     "name": "stderr",
     "output_type": "stream",
     "text": [
      "/tmp/ipykernel_1079933/3695195458.py:28: UserWarning:\n",
      "\n",
      "matt_raw_warped_single_upsampled_seg/20200217_7-XYZres54_single_skel_sing.tif is a low contrast image\n",
      "\n",
      " 98%|█████████▊| 109/111 [1:38:45<01:48, 54.19s/it]"
     ]
    },
    {
     "name": "stdout",
     "output_type": "stream",
     "text": [
      "195\n",
      "97\n"
     ]
    },
    {
     "name": "stderr",
     "output_type": "stream",
     "text": [
      "/tmp/ipykernel_1079933/3695195458.py:28: UserWarning:\n",
      "\n",
      "matt_raw_warped_single_upsampled_seg/20220617_70-XYZres411_single_skel_sing.tif is a low contrast image\n",
      "\n",
      " 99%|█████████▉| 110/111 [1:39:34<00:52, 52.53s/it]"
     ]
    },
    {
     "name": "stdout",
     "output_type": "stream",
     "text": [
      "164\n",
      "82\n"
     ]
    },
    {
     "name": "stderr",
     "output_type": "stream",
     "text": [
      "/tmp/ipykernel_1079933/3695195458.py:28: UserWarning:\n",
      "\n",
      "matt_raw_warped_single_upsampled_seg/20201221_38-XYZres240_single_skel_sing.tif is a low contrast image\n",
      "\n",
      "100%|██████████| 111/111 [1:40:22<00:00, 54.26s/it]\n"
     ]
    }
   ],
   "source": [
    "np.random.shuffle(files_seg_0001)\n",
    "for file_0001 in tqdm(files_seg_0001[:]):\n",
    "    if not os.path.exists(re.sub('_warped_seg.npy','_warped_sing.pickle',file_0001)) or (time.time() - os.path.getmtime(re.sub('_warped_seg.npy','_warped_sing.pickle',file_0001)))/3600>48:\n",
    "        if os.path.exists(re.sub('_0001_warped_seg.npy','_skel_warped_single_sing.mat',file_0001)):\n",
    "            file = file_0001\n",
    "            skel_file = re.sub('_0001_warped_seg.npy','_skel_warped_single_sing.mat',file)\n",
    "            skel = loadmat(skel_file)['FilteredImage']\n",
    "            if np.sum(skel) != 0:\n",
    "                graph = sknw.build_sknw(skel, multi=False)\n",
    "                print(len(graph.edges))\n",
    "                while len(list(nx.selfloop_edges(graph)))>0:\n",
    "                    if len(list(nx.selfloop_edges(graph))) !=0:\n",
    "                        for edge in list(nx.selfloop_edges(graph)):\n",
    "                            skel[graph[edge[0]][edge[1]]['pts'][1:-1,0],graph[edge[0]][edge[1]]['pts'][1:-1,1],graph[edge[0]][edge[1]]['pts'][1:-1,2]] = 0\n",
    "                    for edge in graph.edges:\n",
    "                        if (graph.degree(edge[0]) == 1 and graph.degree(edge[1]) > 2) or (graph.degree(edge[1]) == 1 and graph.degree(edge[0]) > 2):\n",
    "                            if graph[edge[0]][edge[1]]['weight']<20:\n",
    "                                skel[graph[edge[0]][edge[1]]['pts'][1:-1,0],graph[edge[0]][edge[1]]['pts'][1:-1,1],graph[edge[0]][edge[1]]['pts'][1:-1,2]] = 0\n",
    "                    graph = sknw.build_sknw(skel, multi=False)\n",
    "                for edge in graph.edges:\n",
    "                    if (graph.degree(edge[0]) == 1 and graph.degree(edge[1]) > 2) or (graph.degree(edge[1]) == 1 and graph.degree(edge[0]) > 2):\n",
    "                        if graph[edge[0]][edge[1]]['weight']<20:\n",
    "                            skel[graph[edge[0]][edge[1]]['pts'][1:-1,0],graph[edge[0]][edge[1]]['pts'][1:-1,1],graph[edge[0]][edge[1]]['pts'][1:-1,2]] = 0\n",
    "                graph = sknw.build_sknw(skel, multi=False)\n",
    "                graph.remove_nodes_from(list(nx.isolates(graph)))\n",
    "                print(len(graph.edges))\n",
    "                #print(len(list(nx.isolates(graph))))\n",
    "                io.imsave(re.sub('_0001_warped_seg.npy','_single_skel_sing.tif',file),skel)\n",
    "                nx.write_gpickle(graph,re.sub('_warped_seg.npy','_warped_sing.pickle',file))\n",
    "                #key = [x for x in list(dic.keys()) if x in file][0]\n",
    "                #mov_files = [re.sub(key,x,file) for x in dic[key]]\n",
    "                #mov_files = sorted(mov_files + [re.sub('_0001','',x) for x in mov_files])\n",
    "                #mov_files.append(re.sub('_0001','',file))\n",
    "                #seg = np.load(re.sub('_0001','',file))\n",
    "                #for _file in mov_files:\n",
    "                #    if os.path.exists(_file):\n",
    "                #        seg_0001 = np.load(_file)\n",
    "                #        _mut_info = normalized_mutual_info_score(seg.flatten(),seg_0001.flatten()) # calculate mutual information between masks, judges registration\n",
    "                #        if _mut_info > 0.1:\n",
    "                #            print('matched')\n",
    "                #            nx.write_gpickle(graph,re.sub('_warped_seg.npy','_warped.pickle',_file))"
   ]
  },
  {
   "cell_type": "code",
   "execution_count": 31,
   "id": "d3107ad5-fda1-4a48-9857-8e5e9730dd4b",
   "metadata": {},
   "outputs": [
    {
     "name": "stdout",
     "output_type": "stream",
     "text": [
      "111\n"
     ]
    }
   ],
   "source": [
    "directory = Path('matt_raw_warped_single_upsampled_seg')\n",
    "files = directory.glob('*_warped_sing.pickle')\n",
    "files = sorted([x.as_posix() for x in files])\n",
    "print(len(files))"
   ]
  },
  {
   "cell_type": "code",
   "execution_count": 32,
   "id": "c4e447af-0caa-494b-8d1f-07703c6a1d20",
   "metadata": {},
   "outputs": [
    {
     "name": "stderr",
     "output_type": "stream",
     "text": [
      "100%|██████████| 111/111 [00:11<00:00,  9.43it/s]\n"
     ]
    }
   ],
   "source": [
    "res_num_edges = []\n",
    "res_num_nodes = []\n",
    "res_mean_path_length = []\n",
    "res_num_terminal_nodes = []\n",
    "for file in tqdm(files):\n",
    "    graph = nx.read_gpickle(file)\n",
    "    res_num_edges.append(len(graph.edges))\n",
    "    res_num_nodes.append(len(graph.nodes))\n",
    "    res_mean_path_length.append(np.mean(nx.to_pandas_edgelist(graph)['weight']))\n",
    "    res_num_terminal_nodes.append(np.sum([d == 1 for n,d in graph.degree()]))"
   ]
  },
  {
   "cell_type": "code",
   "execution_count": 33,
   "id": "074b30a1-996d-40b4-b581-f6e11fa5ba20",
   "metadata": {},
   "outputs": [
    {
     "name": "stdout",
     "output_type": "stream",
     "text": [
      "241.3783783783784\n",
      "174.5665444792455\n",
      "246.03603603603602\n",
      "156.56716763320267\n",
      "91.50536093308223\n",
      "17.872020548559284\n",
      "123.18018018018019\n",
      "64.74025693829152\n"
     ]
    }
   ],
   "source": [
    "print(np.mean(res_num_edges))\n",
    "print(np.std(res_num_edges))\n",
    "print(np.mean(res_num_nodes))\n",
    "print(np.std(res_num_nodes))\n",
    "print(np.mean(res_mean_path_length))\n",
    "print(np.std(res_mean_path_length))\n",
    "print(np.mean(res_num_terminal_nodes))\n",
    "print(np.std(res_num_terminal_nodes))"
   ]
  },
  {
   "cell_type": "markdown",
   "id": "e1a91fbe-ec29-42ee-a832-8097b6cb6eb6",
   "metadata": {},
   "source": [
    "# write vessel measurments to graph files"
   ]
  },
  {
   "cell_type": "code",
   "execution_count": 17,
   "id": "f810e37f-eb93-4106-a2c9-4b4fc4de373a",
   "metadata": {},
   "outputs": [
    {
     "name": "stdout",
     "output_type": "stream",
     "text": [
      "804\n",
      "135\n",
      "10\n"
     ]
    }
   ],
   "source": [
    "directory = Path('matt_raw_warped_single_upsampled_seg')\n",
    "files = directory.glob('*_warped.pickle')\n",
    "files = sorted([x.as_posix() for x in files])\n",
    "files = [x for x in files if '-' in x]\n",
    "#files = [x for x in files if '51-' in x]\n",
    "#files = [x for x in files if '20220129_67-XYZres386' not in x]\n",
    "files = [x for x in files if '04-XYZres464' not in x]\n",
    "files = [x for x in files if '04-XYZres465' not in x]\n",
    "files = [x for x in files if '04-XYZres472' not in x]\n",
    "files = [x for x in files if '04-XYZres469' not in x]\n",
    "files = [x for x in files if '04-XYZres468' not in x]\n",
    "\n",
    "files = [x for x in files if '02-XYZres448' not in x]\n",
    "files = [x for x in files if '02-XYZres444' not in x]\n",
    "files = [x for x in files if '02-XYZres449' not in x]\n",
    "files = [x for x in files if '02-XYZres452' not in x]\n",
    "files = [x for x in files if '02-XYZres445' not in x]\n",
    "#\n",
    "#files = [x for x in files if '76-XYZres464' not in x]\n",
    "#files = [x for x in files if '76-XYZres466_0001' not in x]\n",
    "#files = [x for x in files if '67-XYZres395' not in x]\n",
    "#files = [x for x in files if '67-XYZres394_0001' not in x]\n",
    "#files = [x for x in files if '76-XYZres463' not in x]\n",
    "#files = [x for x in files if '73-XYZres429' not in x]\n",
    "#\n",
    "#files = [x for x in files if '67-XYZres392' not in x]\n",
    "#files = [x for x in files if '67-XYZres394' not in x]\n",
    "#files = [x for x in files if '65-XYZres408' not in x]\n",
    "#files = [x for x in files if '76-XYZres466' not in x]\n",
    "#files = [x for x in files if '73-XYZres430_0001' not in x]\n",
    "#files = [x for x in files if '73-XYZres430' not in x]\n",
    "#76-XYZres464\n",
    "print(len(files))\n",
    "files = [x for x in files if not os.path.exists(re.sub('raw_warped_single_upsampled_seg','preds_graphs_fwhm_single',re.sub('.pickle','_radii.pickle',x)))]\n",
    "print(len(files))\n",
    "files = [x for x in files if not os.path.exists(re.sub('raw_warped_single_upsampled_seg','preds_graphs_fwhm_single',re.sub('.pickle','_radii_forepaw.pickle',x)))]\n",
    "np.random.shuffle(files)\n",
    "print(len(files))\n",
    "#files"
   ]
  },
  {
   "cell_type": "code",
   "execution_count": null,
   "id": "7e708a72-87b6-4891-a90d-bfd81f59cec8",
   "metadata": {},
   "outputs": [
    {
     "name": "stderr",
     "output_type": "stream",
     "text": [
      "  0%|          | 0/804 [00:00<?, ?it/s]"
     ]
    },
    {
     "name": "stdout",
     "output_type": "stream",
     "text": [
      "12\n"
     ]
    },
    {
     "name": "stderr",
     "output_type": "stream",
     "text": [
      "/tmp/ipykernel_2389584/1496374203.py:66: FutureWarning:\n",
      "\n",
      "`iterations` is a deprecated argument name for `richardson_lucy`. It will be removed in version 1.0. Please use `num_iter` instead.\n",
      "\n",
      "\n",
      "  0%|          | 0/12 [00:00<?, ?it/s]\u001b[A\n",
      "  8%|▊         | 1/12 [00:33<06:06, 33.28s/it]\u001b[A\n",
      " 17%|█▋        | 2/12 [00:51<04:03, 24.39s/it]\u001b[A\n",
      " 25%|██▌       | 3/12 [01:03<02:49, 18.88s/it]\u001b[A\n",
      " 33%|███▎      | 4/12 [01:26<02:44, 20.55s/it]\u001b[A\n",
      " 42%|████▏     | 5/12 [01:36<01:55, 16.56s/it]\u001b[A\n",
      " 50%|█████     | 6/12 [02:14<02:23, 23.86s/it]\u001b[A\n",
      " 58%|█████▊    | 7/12 [02:18<01:26, 17.30s/it]\u001b[A\n",
      " 67%|██████▋   | 8/12 [02:23<00:54, 13.61s/it]\u001b[A\n",
      " 75%|███████▌  | 9/12 [02:28<00:32, 10.88s/it]\u001b[A\n",
      " 83%|████████▎ | 10/12 [02:57<00:32, 16.28s/it]\u001b[A\n",
      " 92%|█████████▏| 11/12 [03:16<00:17, 17.27s/it]\u001b[A\n",
      "100%|██████████| 12/12 [03:34<00:00, 17.90s/it]\u001b[A\n",
      "  0%|          | 1/804 [06:05<81:33:14, 365.62s/it]"
     ]
    },
    {
     "name": "stdout",
     "output_type": "stream",
     "text": [
      "484\n"
     ]
    },
    {
     "name": "stderr",
     "output_type": "stream",
     "text": [
      "\n",
      "  0%|          | 0/484 [00:00<?, ?it/s]\u001b[A/tmp/ipykernel_2389584/1496374203.py:199: RuntimeWarning:\n",
      "\n",
      "invalid value encountered in sqrt\n",
      "\n",
      "\n",
      "  0%|          | 1/484 [01:08<9:08:28, 68.13s/it]\u001b[A\n",
      "  0%|          | 2/484 [01:41<6:22:28, 47.61s/it]\u001b[A\n",
      "  1%|          | 3/484 [01:58<4:29:37, 33.63s/it]\u001b[A\n",
      "  1%|          | 4/484 [02:29<4:21:50, 32.73s/it]\u001b[A\n",
      "  1%|          | 5/484 [03:07<4:36:43, 34.66s/it]\u001b[A\n",
      "  1%|          | 6/484 [03:16<3:25:35, 25.81s/it]\u001b[A\n",
      "  1%|▏         | 7/484 [03:24<2:38:12, 19.90s/it]\u001b[A\n",
      "  2%|▏         | 8/484 [03:43<2:37:09, 19.81s/it]\u001b[A\n",
      "  2%|▏         | 9/484 [04:12<2:59:42, 22.70s/it]\u001b[A\n",
      "  2%|▏         | 10/484 [04:29<2:45:28, 20.95s/it]\u001b[A\n",
      "  2%|▏         | 11/484 [05:03<3:15:18, 24.78s/it]\u001b[A\n",
      "  2%|▏         | 12/484 [05:30<3:20:25, 25.48s/it]\u001b[A\n",
      "  3%|▎         | 13/484 [05:43<2:50:31, 21.72s/it]\u001b[A\n",
      "  3%|▎         | 14/484 [06:05<2:51:14, 21.86s/it]\u001b[A\n",
      "  3%|▎         | 15/484 [06:26<2:48:51, 21.60s/it]\u001b[A\n",
      "  3%|▎         | 16/484 [06:46<2:44:51, 21.14s/it]\u001b[A\n",
      "  4%|▎         | 17/484 [07:20<3:14:33, 25.00s/it]\u001b[A\n",
      "  4%|▎         | 18/484 [07:40<3:02:01, 23.44s/it]\u001b[A\n",
      "  4%|▍         | 19/484 [08:29<4:00:41, 31.06s/it]\u001b[A\n",
      "  4%|▍         | 20/484 [08:53<3:45:01, 29.10s/it]\u001b[A\n",
      "  4%|▍         | 21/484 [09:02<2:58:19, 23.11s/it]\u001b[A\n",
      "  5%|▍         | 22/484 [09:18<2:39:48, 20.75s/it]\u001b[A\n",
      "  5%|▍         | 23/484 [09:37<2:37:03, 20.44s/it]\u001b[A\n",
      "  5%|▍         | 24/484 [10:17<3:19:42, 26.05s/it]\u001b[A\n",
      "  5%|▌         | 25/484 [10:49<3:34:01, 27.98s/it]\u001b[A\n",
      "  5%|▌         | 26/484 [11:35<4:14:48, 33.38s/it]\u001b[A\n",
      "  6%|▌         | 27/484 [11:58<3:50:44, 30.29s/it]\u001b[A\n",
      "  6%|▌         | 28/484 [12:19<3:28:58, 27.50s/it]\u001b[A\n",
      "  6%|▌         | 29/484 [12:43<3:20:47, 26.48s/it]\u001b[A\n",
      "  6%|▌         | 30/484 [12:50<2:36:41, 20.71s/it]\u001b[A\n",
      "  6%|▋         | 31/484 [13:31<3:22:02, 26.76s/it]\u001b[A\n",
      "  7%|▋         | 32/484 [14:06<3:40:11, 29.23s/it]\u001b[A\n",
      "  7%|▋         | 33/484 [14:10<2:42:09, 21.57s/it]\u001b[A\n",
      "  7%|▋         | 34/484 [14:37<2:53:32, 23.14s/it]\u001b[A\n",
      "  7%|▋         | 35/484 [15:07<3:08:14, 25.15s/it]\u001b[A\n",
      "  7%|▋         | 36/484 [15:15<2:30:44, 20.19s/it]\u001b[A\n",
      "  8%|▊         | 37/484 [16:08<3:43:30, 30.00s/it]\u001b[A\n",
      "  8%|▊         | 38/484 [16:31<3:26:53, 27.83s/it]\u001b[A\n",
      "  8%|▊         | 39/484 [17:20<4:13:58, 34.24s/it]\u001b[A\n",
      "  8%|▊         | 40/484 [17:55<4:14:24, 34.38s/it]\u001b[A\n",
      "  8%|▊         | 41/484 [18:06<3:23:01, 27.50s/it]\u001b[A\n",
      "  9%|▊         | 42/484 [18:41<3:39:27, 29.79s/it]\u001b[A\n",
      "  9%|▉         | 43/484 [18:49<2:49:20, 23.04s/it]\u001b[A\n",
      "  9%|▉         | 44/484 [19:25<3:18:34, 27.08s/it]\u001b[A\n",
      "  9%|▉         | 45/484 [19:34<2:36:55, 21.45s/it]\u001b[A\n",
      " 10%|▉         | 46/484 [19:51<2:28:41, 20.37s/it]\u001b[A\n",
      " 10%|▉         | 47/484 [20:03<2:08:15, 17.61s/it]\u001b[A\n",
      " 10%|▉         | 48/484 [21:39<5:00:03, 41.29s/it]\u001b[A\n",
      " 10%|█         | 49/484 [21:43<3:37:41, 30.03s/it]\u001b[A\n",
      " 10%|█         | 50/484 [22:18<3:48:32, 31.60s/it]\u001b[A\n",
      " 11%|█         | 51/484 [22:58<4:05:44, 34.05s/it]\u001b[A\n",
      " 11%|█         | 52/484 [23:10<3:16:56, 27.35s/it]\u001b[A\n",
      " 11%|█         | 53/484 [23:43<3:28:31, 29.03s/it]\u001b[A\n",
      " 11%|█         | 54/484 [24:22<3:49:34, 32.03s/it]\u001b[A\n",
      " 11%|█▏        | 55/484 [24:48<3:36:44, 30.31s/it]\u001b[A\n",
      " 12%|█▏        | 56/484 [24:57<2:50:40, 23.93s/it]\u001b[A\n",
      " 12%|█▏        | 57/484 [25:21<2:51:14, 24.06s/it]\u001b[A\n",
      " 12%|█▏        | 58/484 [25:39<2:37:58, 22.25s/it]\u001b[A\n",
      " 12%|█▏        | 59/484 [26:15<3:05:42, 26.22s/it]\u001b[A\n",
      " 12%|█▏        | 60/484 [26:38<2:58:38, 25.28s/it]\u001b[A\n",
      " 13%|█▎        | 61/484 [26:44<2:16:53, 19.42s/it]\u001b[A\n",
      " 13%|█▎        | 62/484 [26:59<2:08:08, 18.22s/it]\u001b[A\n",
      " 13%|█▎        | 63/484 [27:15<2:03:47, 17.64s/it]\u001b[A\n",
      " 13%|█▎        | 64/484 [27:36<2:08:48, 18.40s/it]\u001b[A\n",
      " 13%|█▎        | 65/484 [27:46<1:50:56, 15.89s/it]\u001b[A\n",
      " 14%|█▎        | 66/484 [28:01<1:49:43, 15.75s/it]\u001b[A\n",
      " 14%|█▍        | 67/484 [28:16<1:48:38, 15.63s/it]\u001b[A\n",
      " 14%|█▍        | 68/484 [28:33<1:49:51, 15.85s/it]\u001b[A\n",
      " 14%|█▍        | 69/484 [29:16<2:46:35, 24.09s/it]\u001b[A\n",
      " 14%|█▍        | 70/484 [29:44<2:54:54, 25.35s/it]\u001b[A\n",
      " 15%|█▍        | 71/484 [30:00<2:35:16, 22.56s/it]\u001b[A\n",
      " 15%|█▍        | 72/484 [30:17<2:23:35, 20.91s/it]\u001b[A\n",
      " 15%|█▌        | 73/484 [30:27<2:00:09, 17.54s/it]\u001b[A\n",
      " 15%|█▌        | 74/484 [31:04<2:39:54, 23.40s/it]\u001b[A\n",
      " 15%|█▌        | 75/484 [31:55<3:35:05, 31.55s/it]\u001b[A\n",
      " 16%|█▌        | 76/484 [32:38<3:57:34, 34.94s/it]\u001b[A\n",
      " 16%|█▌        | 77/484 [33:04<3:39:19, 32.33s/it]\u001b[A\n",
      " 16%|█▌        | 78/484 [33:39<3:45:16, 33.29s/it]\u001b[A\n",
      " 16%|█▋        | 79/484 [33:50<2:58:45, 26.48s/it]\u001b[A\n",
      " 17%|█▋        | 80/484 [34:13<2:51:06, 25.41s/it]\u001b[A\n",
      " 17%|█▋        | 81/484 [34:50<3:13:29, 28.81s/it]\u001b[A\n",
      " 17%|█▋        | 82/484 [35:34<3:44:20, 33.48s/it]\u001b[A\n",
      " 17%|█▋        | 83/484 [35:44<2:57:22, 26.54s/it]\u001b[A\n",
      " 17%|█▋        | 84/484 [35:54<2:23:02, 21.46s/it]\u001b[A\n",
      " 18%|█▊        | 85/484 [36:20<2:32:10, 22.88s/it]\u001b[A\n",
      " 18%|█▊        | 86/484 [36:40<2:25:47, 21.98s/it]\u001b[A\n",
      " 18%|█▊        | 87/484 [36:44<1:49:24, 16.54s/it]\u001b[A\n",
      " 18%|█▊        | 88/484 [36:51<1:31:09, 13.81s/it]\u001b[A\n",
      " 18%|█▊        | 89/484 [37:04<1:29:20, 13.57s/it]\u001b[A\n",
      " 19%|█▊        | 90/484 [37:10<1:13:26, 11.18s/it]\u001b[A\n",
      " 19%|█▉        | 91/484 [37:39<1:48:18, 16.54s/it]\u001b[A\n",
      " 19%|█▉        | 92/484 [37:43<1:24:28, 12.93s/it]\u001b[A\n",
      " 19%|█▉        | 93/484 [37:59<1:30:16, 13.85s/it]\u001b[A\n",
      " 19%|█▉        | 94/484 [38:07<1:17:34, 11.93s/it]\u001b[A\n",
      " 20%|█▉        | 95/484 [39:21<3:17:28, 30.46s/it]\u001b[A\n",
      " 20%|█▉        | 96/484 [39:48<3:10:27, 29.45s/it]\u001b[A\n",
      " 20%|██        | 97/484 [39:56<2:29:50, 23.23s/it]\u001b[A\n",
      " 20%|██        | 98/484 [40:18<2:25:59, 22.69s/it]\u001b[A\n",
      " 20%|██        | 99/484 [41:07<3:15:39, 30.49s/it]\u001b[A\n",
      " 21%|██        | 100/484 [41:16<2:33:56, 24.05s/it]\u001b[A\n",
      " 21%|██        | 101/484 [41:25<2:05:18, 19.63s/it]\u001b[A\n",
      " 21%|██        | 102/484 [41:52<2:19:08, 21.85s/it]\u001b[A\n",
      " 21%|██▏       | 103/484 [42:06<2:03:45, 19.49s/it]\u001b[A\n",
      " 21%|██▏       | 104/484 [42:22<1:56:36, 18.41s/it]\u001b[A\n",
      " 22%|██▏       | 105/484 [42:49<2:12:41, 21.01s/it]\u001b[A\n",
      " 22%|██▏       | 106/484 [43:33<2:56:38, 28.04s/it]\u001b[A\n",
      " 22%|██▏       | 107/484 [43:42<2:19:36, 22.22s/it]\u001b[A\n",
      " 22%|██▏       | 108/484 [43:56<2:03:06, 19.65s/it]\u001b[A\n",
      " 23%|██▎       | 109/484 [44:08<1:49:46, 17.56s/it]\u001b[A\n",
      " 23%|██▎       | 110/484 [44:48<2:31:24, 24.29s/it]\u001b[A\n",
      " 23%|██▎       | 111/484 [45:07<2:21:11, 22.71s/it]\u001b[A\n",
      " 23%|██▎       | 112/484 [45:20<2:02:48, 19.81s/it]\u001b[A\n",
      " 23%|██▎       | 113/484 [45:30<1:43:51, 16.80s/it]\u001b[A\n",
      " 24%|██▎       | 114/484 [45:35<1:21:24, 13.20s/it]\u001b[A\n",
      " 24%|██▍       | 115/484 [45:41<1:08:50, 11.19s/it]\u001b[A\n",
      " 24%|██▍       | 116/484 [45:54<1:12:01, 11.74s/it]\u001b[A\n",
      " 24%|██▍       | 117/484 [46:01<1:02:22, 10.20s/it]\u001b[A\n",
      " 24%|██▍       | 118/484 [46:24<1:25:33, 14.03s/it]\u001b[A\n",
      " 25%|██▍       | 119/484 [46:30<1:10:17, 11.55s/it]\u001b[A\n",
      " 25%|██▍       | 120/484 [46:54<1:33:05, 15.34s/it]\u001b[A\n",
      " 25%|██▌       | 121/484 [47:33<2:15:03, 22.32s/it]\u001b[A\n",
      " 25%|██▌       | 122/484 [48:10<2:42:23, 26.92s/it]\u001b[A\n",
      " 25%|██▌       | 123/484 [48:21<2:12:43, 22.06s/it]\u001b[A\n",
      " 26%|██▌       | 124/484 [48:32<1:51:40, 18.61s/it]\u001b[A\n",
      " 26%|██▌       | 125/484 [48:56<2:02:15, 20.43s/it]\u001b[A\n",
      " 26%|██▌       | 126/484 [49:09<1:48:20, 18.16s/it]\u001b[A\n",
      " 26%|██▌       | 127/484 [49:14<1:24:04, 14.13s/it]\u001b[A\n",
      " 26%|██▋       | 128/484 [49:18<1:05:27, 11.03s/it]\u001b[A\n",
      " 27%|██▋       | 129/484 [49:25<58:20,  9.86s/it]  \u001b[A\n",
      " 27%|██▋       | 130/484 [49:37<1:02:35, 10.61s/it]\u001b[A\n",
      " 27%|██▋       | 131/484 [49:54<1:14:12, 12.61s/it]\u001b[A\n",
      " 27%|██▋       | 132/484 [50:06<1:12:42, 12.39s/it]\u001b[A\n",
      " 27%|██▋       | 133/484 [50:10<57:20,  9.80s/it]  \u001b[A\n",
      " 28%|██▊       | 134/484 [50:41<1:34:41, 16.23s/it]\u001b[A\n",
      " 28%|██▊       | 135/484 [50:45<1:13:13, 12.59s/it]\u001b[A\n",
      " 28%|██▊       | 136/484 [51:16<1:45:16, 18.15s/it]\u001b[A\n",
      " 28%|██▊       | 137/484 [51:49<2:10:25, 22.55s/it]\u001b[A\n",
      " 29%|██▊       | 138/484 [51:58<1:46:57, 18.55s/it]\u001b[A\n",
      " 29%|██▊       | 139/484 [52:07<1:29:35, 15.58s/it]\u001b[A\n",
      " 29%|██▉       | 140/484 [52:11<1:09:00, 12.04s/it]\u001b[A\n",
      " 29%|██▉       | 141/484 [52:22<1:06:35, 11.65s/it]\u001b[A\n",
      " 29%|██▉       | 142/484 [52:34<1:07:08, 11.78s/it]\u001b[A\n",
      " 30%|██▉       | 143/484 [52:42<1:01:17, 10.79s/it]\u001b[A\n",
      " 30%|██▉       | 144/484 [52:48<52:48,  9.32s/it]  \u001b[A\n",
      " 30%|██▉       | 145/484 [53:07<1:08:50, 12.18s/it]\u001b[A\n",
      " 30%|███       | 146/484 [53:57<2:12:18, 23.49s/it]\u001b[A\n",
      " 30%|███       | 147/484 [54:03<1:42:43, 18.29s/it]\u001b[A\n",
      " 31%|███       | 148/484 [54:15<1:31:51, 16.40s/it]\u001b[A\n",
      " 31%|███       | 149/484 [55:01<2:21:53, 25.41s/it]\u001b[A\n",
      " 31%|███       | 150/484 [55:16<2:03:21, 22.16s/it]\u001b[A\n",
      " 31%|███       | 151/484 [55:28<1:45:40, 19.04s/it]\u001b[A\n",
      " 31%|███▏      | 152/484 [55:35<1:26:14, 15.59s/it]\u001b[A\n",
      " 32%|███▏      | 153/484 [55:55<1:33:36, 16.97s/it]\u001b[A\n",
      " 32%|███▏      | 154/484 [56:05<1:20:32, 14.64s/it]\u001b[A\n",
      " 32%|███▏      | 155/484 [56:16<1:14:26, 13.58s/it]\u001b[A\n",
      " 32%|███▏      | 156/484 [56:25<1:07:32, 12.35s/it]\u001b[A\n",
      " 32%|███▏      | 157/484 [56:34<1:01:14, 11.24s/it]\u001b[A\n",
      " 33%|███▎      | 158/484 [56:57<1:19:42, 14.67s/it]\u001b[A\n",
      " 33%|███▎      | 159/484 [57:00<1:01:44, 11.40s/it]\u001b[A\n",
      " 33%|███▎      | 160/484 [57:23<1:19:09, 14.66s/it]\u001b[A\n",
      " 33%|███▎      | 161/484 [57:54<1:45:22, 19.57s/it]\u001b[A\n",
      " 33%|███▎      | 162/484 [58:14<1:45:51, 19.73s/it]\u001b[A\n",
      " 34%|███▎      | 163/484 [58:22<1:27:49, 16.42s/it]\u001b[A\n",
      " 34%|███▍      | 164/484 [58:30<1:13:59, 13.87s/it]\u001b[A\n",
      " 34%|███▍      | 165/484 [58:42<1:10:06, 13.19s/it]\u001b[A\n",
      " 34%|███▍      | 166/484 [59:23<1:54:37, 21.63s/it]\u001b[A\n",
      " 35%|███▍      | 167/484 [59:49<2:01:12, 22.94s/it]\u001b[A\n",
      " 35%|███▍      | 168/484 [1:00:56<3:10:29, 36.17s/it]\u001b[A/lustre06/project/6023374/rozakmat/monai3.8/lib/python3.8/site-packages/numpy/core/fromnumeric.py:3432: RuntimeWarning:\n",
      "\n",
      "Mean of empty slice.\n",
      "\n",
      "/lustre06/project/6023374/rozakmat/monai3.8/lib/python3.8/site-packages/numpy/core/_methods.py:190: RuntimeWarning:\n",
      "\n",
      "invalid value encountered in double_scalars\n",
      "\n",
      "/lustre06/project/6023374/rozakmat/monai3.8/lib/python3.8/site-packages/numpy/core/_methods.py:265: RuntimeWarning:\n",
      "\n",
      "Degrees of freedom <= 0 for slice\n",
      "\n",
      "/lustre06/project/6023374/rozakmat/monai3.8/lib/python3.8/site-packages/numpy/core/_methods.py:223: RuntimeWarning:\n",
      "\n",
      "invalid value encountered in divide\n",
      "\n",
      "/lustre06/project/6023374/rozakmat/monai3.8/lib/python3.8/site-packages/numpy/core/_methods.py:257: RuntimeWarning:\n",
      "\n",
      "invalid value encountered in double_scalars\n",
      "\n",
      "/lustre06/project/6023374/rozakmat/monai3.8/lib/python3.8/site-packages/numpy/core/fromnumeric.py:3432: RuntimeWarning:\n",
      "\n",
      "Mean of empty slice.\n",
      "\n",
      "/lustre06/project/6023374/rozakmat/monai3.8/lib/python3.8/site-packages/numpy/core/fromnumeric.py:3432: RuntimeWarning:\n",
      "\n",
      "Mean of empty slice.\n",
      "\n",
      "/lustre06/project/6023374/rozakmat/monai3.8/lib/python3.8/site-packages/numpy/core/_methods.py:190: RuntimeWarning:\n",
      "\n",
      "invalid value encountered in double_scalars\n",
      "\n",
      "/lustre06/project/6023374/rozakmat/monai3.8/lib/python3.8/site-packages/numpy/core/_methods.py:190: RuntimeWarning:\n",
      "\n",
      "invalid value encountered in double_scalars\n",
      "\n",
      "/lustre06/project/6023374/rozakmat/monai3.8/lib/python3.8/site-packages/numpy/core/fromnumeric.py:3432: RuntimeWarning:\n",
      "\n",
      "Mean of empty slice.\n",
      "\n",
      "/lustre06/project/6023374/rozakmat/monai3.8/lib/python3.8/site-packages/numpy/core/_methods.py:265: RuntimeWarning:\n",
      "\n",
      "Degrees of freedom <= 0 for slice\n",
      "\n",
      "/lustre06/project/6023374/rozakmat/monai3.8/lib/python3.8/site-packages/numpy/core/_methods.py:265: RuntimeWarning:\n",
      "\n",
      "Degrees of freedom <= 0 for slice\n",
      "\n",
      "/lustre06/project/6023374/rozakmat/monai3.8/lib/python3.8/site-packages/numpy/core/_methods.py:190: RuntimeWarning:\n",
      "\n",
      "invalid value encountered in double_scalars\n",
      "\n",
      "/lustre06/project/6023374/rozakmat/monai3.8/lib/python3.8/site-packages/numpy/core/_methods.py:223: RuntimeWarning:\n",
      "\n",
      "invalid value encountered in divide\n",
      "\n",
      "/lustre06/project/6023374/rozakmat/monai3.8/lib/python3.8/site-packages/numpy/core/_methods.py:223: RuntimeWarning:\n",
      "\n",
      "invalid value encountered in divide\n",
      "\n",
      "/lustre06/project/6023374/rozakmat/monai3.8/lib/python3.8/site-packages/numpy/core/_methods.py:265: RuntimeWarning:\n",
      "\n",
      "Degrees of freedom <= 0 for slice\n",
      "\n",
      "/lustre06/project/6023374/rozakmat/monai3.8/lib/python3.8/site-packages/numpy/core/_methods.py:257: RuntimeWarning:\n",
      "\n",
      "invalid value encountered in double_scalars\n",
      "\n",
      "/lustre06/project/6023374/rozakmat/monai3.8/lib/python3.8/site-packages/numpy/core/_methods.py:257: RuntimeWarning:\n",
      "\n",
      "invalid value encountered in double_scalars\n",
      "\n",
      "/lustre06/project/6023374/rozakmat/monai3.8/lib/python3.8/site-packages/numpy/core/_methods.py:223: RuntimeWarning:\n",
      "\n",
      "invalid value encountered in divide\n",
      "\n",
      "/lustre06/project/6023374/rozakmat/monai3.8/lib/python3.8/site-packages/numpy/core/_methods.py:257: RuntimeWarning:\n",
      "\n",
      "invalid value encountered in double_scalars\n",
      "\n",
      "/lustre06/project/6023374/rozakmat/monai3.8/lib/python3.8/site-packages/numpy/core/fromnumeric.py:3432: RuntimeWarning:\n",
      "\n",
      "Mean of empty slice.\n",
      "\n",
      "/lustre06/project/6023374/rozakmat/monai3.8/lib/python3.8/site-packages/numpy/core/_methods.py:190: RuntimeWarning:\n",
      "\n",
      "invalid value encountered in double_scalars\n",
      "\n",
      "/lustre06/project/6023374/rozakmat/monai3.8/lib/python3.8/site-packages/numpy/core/_methods.py:265: RuntimeWarning:\n",
      "\n",
      "Degrees of freedom <= 0 for slice\n",
      "\n",
      "/lustre06/project/6023374/rozakmat/monai3.8/lib/python3.8/site-packages/numpy/core/_methods.py:223: RuntimeWarning:\n",
      "\n",
      "invalid value encountered in divide\n",
      "\n",
      "/lustre06/project/6023374/rozakmat/monai3.8/lib/python3.8/site-packages/numpy/core/_methods.py:257: RuntimeWarning:\n",
      "\n",
      "invalid value encountered in double_scalars\n",
      "\n",
      "\n",
      " 35%|███▍      | 169/484 [1:01:29<3:04:34, 35.16s/it]\u001b[A\n",
      " 35%|███▌      | 170/484 [1:01:57<2:52:17, 32.92s/it]\u001b[A\n",
      " 35%|███▌      | 171/484 [1:02:08<2:18:04, 26.47s/it]\u001b[A\n",
      " 36%|███▌      | 172/484 [1:02:12<1:42:15, 19.66s/it]\u001b[A\n",
      " 36%|███▌      | 173/484 [1:02:20<1:23:27, 16.10s/it]\u001b[A\n",
      " 36%|███▌      | 174/484 [1:02:24<1:04:48, 12.54s/it]\u001b[A\n",
      " 36%|███▌      | 175/484 [1:02:29<53:16, 10.35s/it]  \u001b[A\n",
      " 36%|███▋      | 176/484 [1:03:04<1:31:08, 17.75s/it]\u001b[A\n",
      " 37%|███▋      | 177/484 [1:03:14<1:18:27, 15.33s/it]\u001b[A\n",
      " 37%|███▋      | 178/484 [1:03:30<1:19:22, 15.56s/it]\u001b[A\n",
      " 37%|███▋      | 179/484 [1:03:57<1:36:27, 18.98s/it]\u001b[A\n",
      " 37%|███▋      | 180/484 [1:04:40<2:11:52, 26.03s/it]\u001b[A\n",
      " 37%|███▋      | 181/484 [1:05:17<2:28:50, 29.47s/it]\u001b[A\n",
      " 38%|███▊      | 182/484 [1:05:25<1:56:35, 23.16s/it]\u001b[A\n",
      " 38%|███▊      | 183/484 [1:05:32<1:31:07, 18.16s/it]\u001b[A\n",
      " 38%|███▊      | 184/484 [1:05:48<1:28:04, 17.61s/it]\u001b[A\n",
      " 38%|███▊      | 185/484 [1:05:58<1:15:51, 15.22s/it]\u001b[A\n",
      " 38%|███▊      | 186/484 [1:06:08<1:07:45, 13.64s/it]\u001b[A\n",
      " 39%|███▊      | 187/484 [1:06:31<1:21:23, 16.44s/it]\u001b[A\n",
      " 39%|███▉      | 188/484 [1:06:37<1:06:00, 13.38s/it]\u001b[A\n",
      " 39%|███▉      | 189/484 [1:07:05<1:26:29, 17.59s/it]\u001b[A\n",
      " 39%|███▉      | 190/484 [1:07:28<1:34:56, 19.38s/it]\u001b[A\n",
      " 39%|███▉      | 191/484 [1:07:32<1:12:09, 14.78s/it]\u001b[A\n",
      " 40%|███▉      | 192/484 [1:08:04<1:37:05, 19.95s/it]\u001b[A\n",
      " 40%|███▉      | 193/484 [1:08:40<2:00:12, 24.79s/it]\u001b[A\n",
      " 40%|████      | 194/484 [1:08:48<1:34:30, 19.55s/it]\u001b[A\n",
      " 40%|████      | 195/484 [1:09:05<1:30:32, 18.80s/it]\u001b[A\n",
      " 40%|████      | 196/484 [1:09:13<1:15:02, 15.63s/it]\u001b[A\n",
      " 41%|████      | 197/484 [1:09:28<1:14:08, 15.50s/it]\u001b[A\n",
      " 41%|████      | 198/484 [1:09:57<1:33:18, 19.58s/it]\u001b[A\n",
      " 41%|████      | 199/484 [1:10:28<1:49:01, 22.95s/it]\u001b[A\n",
      " 41%|████▏     | 200/484 [1:10:36<1:27:16, 18.44s/it]\u001b[A\n",
      " 42%|████▏     | 201/484 [1:10:57<1:31:30, 19.40s/it]\u001b[A\n",
      " 42%|████▏     | 202/484 [1:11:05<1:14:10, 15.78s/it]\u001b[A\n",
      " 42%|████▏     | 203/484 [1:11:27<1:22:58, 17.72s/it]\u001b[A\n",
      " 42%|████▏     | 204/484 [1:11:32<1:04:06, 13.74s/it]\u001b[A\n",
      " 42%|████▏     | 205/484 [1:11:42<59:27, 12.79s/it]  \u001b[A\n",
      " 43%|████▎     | 206/484 [1:12:07<1:15:36, 16.32s/it]\u001b[A\n",
      " 43%|████▎     | 207/484 [1:13:50<3:16:00, 42.46s/it]\u001b[A\n",
      " 43%|████▎     | 208/484 [1:14:12<2:47:30, 36.42s/it]\u001b[A\n",
      " 43%|████▎     | 209/484 [1:14:27<2:16:49, 29.85s/it]\u001b[A\n",
      " 43%|████▎     | 210/484 [1:15:00<2:20:37, 30.80s/it]\u001b[A\n",
      " 44%|████▎     | 211/484 [1:15:33<2:23:03, 31.44s/it]\u001b[A\n",
      " 44%|████▍     | 212/484 [1:16:24<2:49:25, 37.37s/it]\u001b[A\n",
      " 44%|████▍     | 213/484 [1:16:45<2:25:55, 32.31s/it]\u001b[A\n",
      " 44%|████▍     | 214/484 [1:16:52<1:52:20, 24.96s/it]\u001b[A\n",
      " 44%|████▍     | 215/484 [1:17:01<1:29:39, 20.00s/it]\u001b[A\n",
      " 45%|████▍     | 216/484 [1:17:22<1:30:54, 20.35s/it]\u001b[A\n",
      " 45%|████▍     | 217/484 [1:18:03<1:57:58, 26.51s/it]\u001b[A\n",
      " 45%|████▌     | 218/484 [1:18:12<1:34:48, 21.39s/it]\u001b[A\n",
      " 45%|████▌     | 219/484 [1:18:26<1:24:05, 19.04s/it]\u001b[A\n",
      " 45%|████▌     | 220/484 [1:18:54<1:35:55, 21.80s/it]\u001b[A\n",
      " 46%|████▌     | 221/484 [1:19:34<1:58:46, 27.10s/it]\u001b[A\n",
      " 46%|████▌     | 222/484 [1:19:46<1:39:14, 22.73s/it]\u001b[A\n",
      " 46%|████▌     | 223/484 [1:19:51<1:15:29, 17.35s/it]\u001b[A\n",
      " 46%|████▋     | 224/484 [1:19:55<58:20, 13.46s/it]  \u001b[A\n",
      " 46%|████▋     | 225/484 [1:20:43<1:42:18, 23.70s/it]\u001b[A\n",
      " 47%|████▋     | 226/484 [1:21:16<1:54:27, 26.62s/it]\u001b[A\n",
      " 47%|████▋     | 227/484 [1:21:39<1:49:07, 25.48s/it]\u001b[A\n",
      " 47%|████▋     | 228/484 [1:21:48<1:27:15, 20.45s/it]\u001b[A\n",
      " 47%|████▋     | 229/484 [1:22:06<1:23:46, 19.71s/it]\u001b[A\n",
      " 48%|████▊     | 230/484 [1:22:11<1:05:00, 15.36s/it]\u001b[A\n",
      " 48%|████▊     | 231/484 [1:22:52<1:37:08, 23.04s/it]\u001b[A\n",
      " 48%|████▊     | 232/484 [1:23:16<1:38:14, 23.39s/it]\u001b[A\n",
      " 48%|████▊     | 233/484 [1:23:27<1:22:13, 19.66s/it]\u001b[A\n",
      " 48%|████▊     | 234/484 [1:24:03<1:42:01, 24.49s/it]\u001b[A\n",
      " 49%|████▊     | 235/484 [1:24:11<1:21:44, 19.70s/it]\u001b[A\n",
      " 49%|████▉     | 236/484 [1:24:46<1:40:10, 24.24s/it]\u001b[A\n",
      " 49%|████▉     | 237/484 [1:25:00<1:26:21, 20.98s/it]\u001b[A\n",
      " 49%|████▉     | 238/484 [1:25:22<1:27:57, 21.45s/it]\u001b[A\n",
      " 49%|████▉     | 239/484 [1:26:27<2:20:28, 34.40s/it]\u001b[A\n",
      " 50%|████▉     | 240/484 [1:26:34<1:46:19, 26.15s/it]\u001b[A\n",
      " 50%|████▉     | 241/484 [1:27:32<2:25:20, 35.89s/it]\u001b[A\n",
      " 50%|█████     | 242/484 [1:27:52<2:05:20, 31.08s/it]\u001b[A\n",
      " 50%|█████     | 243/484 [1:28:03<1:40:10, 24.94s/it]\u001b[A\n",
      " 50%|█████     | 244/484 [1:28:13<1:21:28, 20.37s/it]\u001b[A\n",
      " 51%|█████     | 245/484 [1:28:39<1:28:24, 22.20s/it]\u001b[A\n",
      " 51%|█████     | 246/484 [1:28:59<1:25:32, 21.57s/it]\u001b[A\n",
      " 51%|█████     | 247/484 [1:29:51<2:01:23, 30.73s/it]\u001b[A\n",
      " 51%|█████     | 248/484 [1:30:24<2:02:53, 31.24s/it]\u001b[A\n",
      " 51%|█████▏    | 249/484 [1:30:34<1:37:54, 25.00s/it]\u001b[A\n",
      " 52%|█████▏    | 250/484 [1:31:30<2:13:33, 34.25s/it]\u001b[A\n",
      " 52%|█████▏    | 251/484 [1:32:19<2:30:23, 38.73s/it]\u001b[A\n",
      " 52%|█████▏    | 252/484 [1:32:23<1:49:42, 28.37s/it]\u001b[A\n",
      " 52%|█████▏    | 253/484 [1:32:40<1:35:56, 24.92s/it]\u001b[A\n",
      " 52%|█████▏    | 254/484 [1:32:44<1:11:04, 18.54s/it]\u001b[A\n",
      " 53%|█████▎    | 255/484 [1:32:51<57:31, 15.07s/it]  \u001b[A\n",
      " 53%|█████▎    | 256/484 [1:33:05<56:43, 14.93s/it]\u001b[A\n",
      " 53%|█████▎    | 257/484 [1:33:44<1:23:57, 22.19s/it]\u001b[A\n",
      " 53%|█████▎    | 258/484 [1:34:12<1:29:08, 23.66s/it]\u001b[A\n",
      " 54%|█████▎    | 259/484 [1:35:02<1:59:08, 31.77s/it]\u001b[A\n",
      " 54%|█████▎    | 260/484 [1:35:06<1:27:10, 23.35s/it]\u001b[A\n",
      " 54%|█████▍    | 261/484 [1:35:37<1:35:50, 25.79s/it]\u001b[A\n",
      " 54%|█████▍    | 262/484 [1:35:50<1:20:55, 21.87s/it]\u001b[A\n",
      " 54%|█████▍    | 263/484 [1:36:48<2:00:19, 32.67s/it]\u001b[A\n",
      " 55%|█████▍    | 264/484 [1:37:15<1:53:40, 31.00s/it]\u001b[A\n",
      " 55%|█████▍    | 265/484 [1:38:13<2:22:14, 38.97s/it]\u001b[A\n",
      " 55%|█████▍    | 266/484 [1:38:21<1:48:06, 29.75s/it]\u001b[A\n",
      " 55%|█████▌    | 267/484 [1:38:27<1:21:52, 22.64s/it]\u001b[A\n",
      " 55%|█████▌    | 268/484 [1:38:31<1:01:00, 16.95s/it]\u001b[A\n",
      " 56%|█████▌    | 269/484 [1:38:52<1:05:47, 18.36s/it]\u001b[A\n",
      " 56%|█████▌    | 270/484 [1:39:33<1:29:10, 25.00s/it]\u001b[A\n",
      " 56%|█████▌    | 271/484 [1:39:47<1:16:51, 21.65s/it]\u001b[A\n",
      " 56%|█████▌    | 272/484 [1:40:00<1:07:39, 19.15s/it]\u001b[A\n",
      " 56%|█████▋    | 273/484 [1:40:22<1:10:13, 19.97s/it]\u001b[A\n",
      " 57%|█████▋    | 274/484 [1:40:38<1:05:44, 18.78s/it]\u001b[A\n",
      " 57%|█████▋    | 275/484 [1:41:01<1:09:42, 20.01s/it]\u001b[A\n",
      " 57%|█████▋    | 276/484 [1:41:23<1:11:30, 20.63s/it]\u001b[A\n",
      " 57%|█████▋    | 277/484 [1:41:47<1:14:41, 21.65s/it]\u001b[A\n",
      " 57%|█████▋    | 278/484 [1:41:57<1:02:18, 18.15s/it]\u001b[A\n",
      " 58%|█████▊    | 279/484 [1:42:19<1:06:15, 19.39s/it]\u001b[A\n",
      " 58%|█████▊    | 280/484 [1:42:27<54:17, 15.97s/it]  \u001b[A\n",
      " 58%|█████▊    | 281/484 [1:42:55<1:06:19, 19.60s/it]\u001b[A\n",
      " 58%|█████▊    | 282/484 [1:43:22<1:13:18, 21.78s/it]\u001b[A\n",
      " 58%|█████▊    | 283/484 [1:43:31<1:00:24, 18.03s/it]\u001b[A\n",
      " 59%|█████▊    | 284/484 [1:43:49<1:00:09, 18.05s/it]\u001b[A\n",
      " 59%|█████▉    | 285/484 [1:44:34<1:26:25, 26.06s/it]\u001b[A\n",
      " 59%|█████▉    | 286/484 [1:44:44<1:09:49, 21.16s/it]\u001b[A\n",
      " 59%|█████▉    | 287/484 [1:45:11<1:14:59, 22.84s/it]\u001b[A\n",
      " 60%|█████▉    | 288/484 [1:45:32<1:13:28, 22.49s/it]\u001b[A\n",
      " 60%|█████▉    | 289/484 [1:45:55<1:13:18, 22.56s/it]\u001b[A\n",
      " 60%|█████▉    | 290/484 [1:46:17<1:12:23, 22.39s/it]\u001b[A\n",
      " 60%|██████    | 291/484 [1:46:28<1:01:19, 19.06s/it]\u001b[A\n",
      " 60%|██████    | 292/484 [1:46:32<46:24, 14.50s/it]  \u001b[A\n",
      " 61%|██████    | 293/484 [1:47:22<1:20:14, 25.21s/it]\u001b[A\n",
      " 61%|██████    | 294/484 [1:47:36<1:08:39, 21.68s/it]\u001b[A\n",
      " 61%|██████    | 295/484 [1:48:06<1:16:01, 24.14s/it]\u001b[A\n",
      " 61%|██████    | 296/484 [1:48:12<59:04, 18.85s/it]  \u001b[A\n",
      " 61%|██████▏   | 297/484 [1:48:18<46:39, 14.97s/it]\u001b[A\n",
      " 62%|██████▏   | 298/484 [1:48:30<43:25, 14.01s/it]\u001b[A\n",
      " 62%|██████▏   | 299/484 [1:49:04<1:01:54, 20.08s/it]\u001b[A\n",
      " 62%|██████▏   | 300/484 [1:49:25<1:02:28, 20.37s/it]\u001b[A\n",
      " 62%|██████▏   | 301/484 [1:49:31<49:06, 16.10s/it]  \u001b[A\n",
      " 62%|██████▏   | 302/484 [1:49:47<48:49, 16.10s/it]\u001b[A\n",
      " 63%|██████▎   | 303/484 [1:50:03<48:04, 15.94s/it]\u001b[A\n",
      " 63%|██████▎   | 304/484 [1:50:09<39:01, 13.01s/it]\u001b[A\n",
      " 63%|██████▎   | 305/484 [1:50:17<34:12, 11.47s/it]\u001b[A\n",
      " 63%|██████▎   | 306/484 [1:50:32<37:27, 12.63s/it]\u001b[A\n",
      " 63%|██████▎   | 307/484 [1:50:41<33:54, 11.50s/it]\u001b[A\n",
      " 64%|██████▎   | 308/484 [1:51:11<50:00, 17.05s/it]\u001b[A\n",
      " 64%|██████▍   | 309/484 [1:51:15<38:17, 13.13s/it]\u001b[A\n",
      " 64%|██████▍   | 310/484 [1:51:36<45:06, 15.55s/it]\u001b[A\n",
      " 64%|██████▍   | 311/484 [1:51:53<46:05, 15.98s/it]\u001b[A\n",
      " 64%|██████▍   | 312/484 [1:52:22<56:35, 19.74s/it]\u001b[A\n",
      " 65%|██████▍   | 313/484 [1:52:28<44:39, 15.67s/it]\u001b[A\n",
      " 65%|██████▍   | 314/484 [1:52:45<45:37, 16.10s/it]\u001b[A\n",
      " 65%|██████▌   | 315/484 [1:53:04<47:45, 16.95s/it]\u001b[A\n",
      " 65%|██████▌   | 316/484 [1:53:22<48:05, 17.18s/it]\u001b[A\n",
      " 65%|██████▌   | 317/484 [1:53:29<39:44, 14.28s/it]\u001b[A\n",
      " 66%|██████▌   | 318/484 [1:54:21<1:10:17, 25.41s/it]\u001b[A\n",
      " 66%|██████▌   | 319/484 [1:54:49<1:11:49, 26.12s/it]\u001b[A\n",
      " 66%|██████▌   | 320/484 [1:55:00<59:44, 21.85s/it]  \u001b[A\n",
      " 66%|██████▋   | 321/484 [1:55:32<1:06:58, 24.65s/it]\u001b[A\n",
      " 67%|██████▋   | 322/484 [1:56:01<1:10:18, 26.04s/it]\u001b[A\n",
      " 67%|██████▋   | 323/484 [1:56:39<1:19:42, 29.71s/it]\u001b[A\n",
      " 67%|██████▋   | 324/484 [1:56:57<1:09:29, 26.06s/it]\u001b[A\n",
      " 67%|██████▋   | 325/484 [1:57:11<59:46, 22.56s/it]  \u001b[A\n",
      " 67%|██████▋   | 326/484 [1:57:30<56:28, 21.45s/it]\u001b[A\n",
      " 68%|██████▊   | 327/484 [1:57:57<1:00:49, 23.24s/it]\u001b[A\n",
      " 68%|██████▊   | 328/484 [1:58:11<52:37, 20.24s/it]  \u001b[A\n",
      " 68%|██████▊   | 329/484 [1:58:37<56:49, 22.00s/it]\u001b[A"
     ]
    }
   ],
   "source": [
    "min_prob = 0.75\n",
    "max_var = 0.1\n",
    "sampling = 1/5\n",
    "xls = pd.ExcelFile('TBI_STIM_metalog_local.xlsx')\n",
    "xls2 = pd.ExcelFile('../TBI_monai_UNET/p3_metalog.xlsx')\n",
    "df = {}\n",
    "for sheet_name in xls.sheet_names:\n",
    "    df[sheet_name] = xls.parse(sheet_name)\n",
    "for sheet_name in xls2.sheet_names:\n",
    "    df[sheet_name] = xls2.parse(sheet_name)\n",
    "for file in tqdm(files):\n",
    "    if not os.path.exists(re.sub('raw_warped_single_upsampled_seg','preds_graphs_fwhm_single',re.sub('.pickle','_radii.pickle',file))):\n",
    "        graph = nx.read_gpickle(file)\n",
    "        print(len(graph.edges))\n",
    "        if len(graph.edges) < 1500:\n",
    "            for sheet_name in xls.sheet_names + xls2.sheet_names:\n",
    "                if re.sub('_0001','',re.sub('matt_raw_warped_single_upsampled_seg/','',re.sub('_warped.pickle','',re.sub('xyz','XYZ',file))).split('-')[1]) in df[sheet_name].values:\n",
    "                    subj = sheet_name\n",
    "                    if (re.sub('matt_raw_warped_single_upsampled_seg/','',re.sub('_warped.pickle','',file)).split('-')[0].split(' ') + [''])[0] in sheet_name or (re.sub('matt_raw_warped_single_upsampled_seg/','',re.sub('_warped.pickle','',file)).split('-')[0].split('_') + [''])[1] in sheet_name:\n",
    "                        if subj in [\"TBI07_3D\",\n",
    "                                    \"TBI11_3D\",\n",
    "                                    \"TBI22_3D\",\n",
    "                                    \"TBI31_3D\",\n",
    "                                    \"TBI38_3D\",\n",
    "                                    \"SHAM09_3D\",\n",
    "                                    \"SHAM12_3D\",\n",
    "                                    \"SHAM23_3D\",\n",
    "                                    \"SHAM32_3D\",\n",
    "                                    'TBI38_3D',\n",
    "                                    'TBI6_3D',\n",
    "                                    'SHAM7_3D',\n",
    "                                    'TBI43_3D',\n",
    "                                    'TBI45_3D',\n",
    "                                    'SHAM53_3D',\n",
    "                                    'SHAM56_3D',\n",
    "                                    'SHAM55_3D']:\n",
    "                            gender = 'male'\n",
    "                        else:\n",
    "                            gender = 'female'\n",
    "                        treatment = re.sub('SHA','SHAM',subj[0:3])\n",
    "                        _tmp = df[subj].loc[df[subj]['CHECK WATER'] ==  re.sub('_0001','',re.sub('matt_preds/','',re.sub('_warped.pickle','',re.sub('xyz','XYZ',file))).split('-')[1])]\n",
    "                        if _tmp['Unnamed: 12'].iloc[0] == 'raster':\n",
    "                            img_file = re.sub('matt_raw_warped_single_upsampled_seg','matt_raw_warped_single',re.sub('_warped.pickle','_warped.tif',file))\n",
    "                            seg_file = re.sub('_warped.pickle','_warped_seg.npy',file)\n",
    "                            mean_file = re.sub('_upsampled_seg','_upsampled',re.sub('_warped.pickle','_warped_mean.npy',file))\n",
    "                            std_file = re.sub('_upsampled_seg','_upsampled',re.sub('_warped.pickle','_warped_2x_std.npy',file))\n",
    "                            img = io.imread(img_file)\n",
    "                            img_ch2 = sp.ndimage.zoom(np.swapaxes(img[:,1,:,:],0,2),(1,1,2.645833333))\n",
    "                            img = sp.ndimage.zoom(np.swapaxes(img[:,0,:,:],0,2),(1,1,2.645833333))\n",
    "                            seg = np.load(seg_file)\n",
    "                            mean = np.load(mean_file)\n",
    "                            std = np.load(std_file)\n",
    "                            seg_dst = distance_transform_edt(seg)\n",
    "                            nrn_dst = np.load(re.sub('_warped.pickle','_warped_seg_nrn_dst.npy',file))\n",
    "                            wavelength = _tmp['Unnamed: 11'].iloc[0]\n",
    "                            power_per = _tmp['Unnamed: 10'].iloc[0]\n",
    "                            start_depth = _tmp['Unnamed: 2'].iloc[0]\n",
    "                            a, b, c = np.mgrid[-15:16:1, -15:16:1, -15:16:1]\n",
    "                            abc = np.dstack([a.flat,b.flat, c.flat])\n",
    "                            mu = np.array([0,0,0])\n",
    "                            sigma = np.array([0.636,0.127,0.127])\n",
    "                            covariance = np.diag(sigma**2)\n",
    "                            d = multivariate_normal.pdf(abc, mean=mu, cov=covariance)\n",
    "                            d = d.reshape((len(a),len(b),len(c)))\n",
    "                            deconv_img = np.copy(img)\n",
    "                            deconv_img =  1023 * restoration.richardson_lucy(img/1023.0, d, iterations=10) - 1023 * restoration.richardson_lucy(img_ch2/1023.0, d, iterations=10)\n",
    "                            deconv_img = np.int16(deconv_img)\n",
    "                            \n",
    "                            if treatment != 'vbm' and treatment != 'C57':\n",
    "                                age = _tmp['Unnamed: 14'].iloc[0]\n",
    "                                days_post_injury = _tmp['Unnamed: 15'].iloc[0]\n",
    "                            else:\n",
    "                                age = 'unknown'\n",
    "                                days_post_injury = 'unknown'\n",
    "                            for i in tqdm(range(len(graph.edges))):\n",
    "                                path = graph[list(graph.edges)[i][0]][list(graph.edges)[i][1]]['pts']\n",
    "                                _pred_radii = np.mean(seg_dst[path[::-1,0],path[::-1,1],path[::-1,2]])\n",
    "                                _pred_radii_max = np.max(seg_dst[path[::-1,0],path[::-1,1],path[::-1,2]])\n",
    "                                if _pred_radii == 0:\n",
    "                                    _pred_radii =1\n",
    "                                \n",
    "                                _box_fit = max([np.int16(_pred_radii_max)+10, 15])\n",
    "                                #path_grad = np.gradient(path,edge_order=2)[0]\n",
    "                                path_smooth = np.float32(np.copy(path))\n",
    "                                for k in range(len(path[0])):\n",
    "                                    path_smooth[:,k] = sp.ndimage.gaussian_filter1d(np.float64(path[:,k]),3,mode='nearest')\n",
    "                                path_grad = np.gradient(path_smooth,edge_order=2)[0]\n",
    "                                res_fwhm = []\n",
    "                                X = np.arange(-1*_box_fit,_box_fit+1,1)\n",
    "                                Y = np.arange(-1*_box_fit,_box_fit+1,1)\n",
    "                                x,y = np.meshgrid(X,Y)\n",
    "                                x = x.flatten()\n",
    "                                y = y.flatten()\n",
    "                                z = np.zeros(len(x))\n",
    "                                xy = np.vstack([x,y,z])\n",
    "                                \n",
    "                                \n",
    "                                res_fwhm = []\n",
    "                                \n",
    "                                res_fwhm_sigma = []\n",
    "                                \n",
    "                                def calc_fwhm_path(I):\n",
    "                                    point_grad = path_grad[I]\n",
    "                                    point = path[I]\n",
    "                                    if all(point_grad[0:2] == [0,0]) and abs(point_grad[2]/point_grad[2]) == 1:\n",
    "                                        rotated = xy.T + point\n",
    "                                    else:\n",
    "                                        rotated = _rotmat(point_grad,xy.T) + point\n",
    "                                    points_img = sp.ndimage.map_coordinates(#np.int16(mean[1]*1024),\n",
    "                                                                        deconv_img,\n",
    "                                                                        rotated.T, \n",
    "                                                                        order=3,\n",
    "                                                                        mode='constant')\n",
    "                                    \n",
    "                                            \n",
    "                                    points_img = np.reshape(points_img,(len(X),len(Y)))\n",
    "                                    points_img_no_smooth = np.copy(points_img)\n",
    "                                    points_img = sp.ndimage.gaussian_filter(points_img, sigma = _pred_radii*.4)\n",
    "\n",
    "                                    \n",
    "                                    \n",
    "                                    _point = np.array(np.arange(0,_pred_radii+20,sampling))\n",
    "                                    _zeros = np.zeros(len(_point))\n",
    "                                    _point = np.array([_point,_zeros])\n",
    "                                    _centre = closest_node([len(X)//2+1,len(Y)//2+1],peak_local_max(points_img.T))\n",
    "                                    \n",
    "                                    _res = []\n",
    "                                    \n",
    "                                    #fig,ax = plt.subplots(1)\n",
    "                                    #ax.set_aspect('equal')\n",
    "                                    #ax.imshow(points_img_no_smooth,\n",
    "                                    #          vmin = 0,\n",
    "                                    #          vmax = np.max(deconv_img))\n",
    "                                    #ax.scatter(_centre[0],_centre[1])\n",
    "                                    for deg in np.arange(0,360,10):\n",
    "                                        rot_point = np.dot(np.array([[np.cos(np.deg2rad(deg)),-1*np.sin(np.deg2rad(deg))],[np.sin(np.deg2rad(deg)),np.cos(np.deg2rad(deg))]]),_point)\n",
    "                                        rot_point[0] = rot_point[0] + _centre[0]\n",
    "                                        rot_point[1] = rot_point[1] + _centre[1]\n",
    "                                        points_vals = sp.ndimage.map_coordinates(points_img.T,\n",
    "                                                                                 rot_point, \n",
    "                                                                                 order=3,\n",
    "                                                                                 cval=0)\n",
    "                                        points_vals = sp.ndimage.gaussian_filter1d(points_vals,sigma=_pred_radii*.4/sampling)\n",
    "                                        points_vals_grad = np.gradient(points_vals)\n",
    "                                        _ = np.array(sp.signal.argrelextrema(points_vals + np.random.uniform(-1e-5,1e-5,len(points_vals)),np.less,order=3))\n",
    "                                        if _.shape[1] != 0:\n",
    "                                            points_vals_grad = np.gradient(points_vals[:_[0,0]+3])\n",
    "                                            _ = np.argmin(points_vals_grad)\n",
    "                                            _res.append(_*sampling)\n",
    "                                            #ax.scatter(_*sampling*np.cos(np.deg2rad(deg))+_centre[0],_*sampling*np.sin(np.deg2rad(deg))+_centre[1],color='r')\n",
    "                                        else:\n",
    "                                            points_vals_grad = np.gradient(points_vals)\n",
    "                                            _ = np.argmin(points_vals_grad)\n",
    "                                            _res.append(_*sampling)\n",
    "                                            #ax.scatter(_*sampling*np.cos(np.deg2rad(deg))+_centre[0],_*sampling*np.sin(np.deg2rad(deg))+_centre[1],color='r')\n",
    "                                    _res = np.array(_res)\n",
    "                                    _res = _res[~np.isnan(_res)]\n",
    "                                    _res = _res[np.where(_res!=0)]\n",
    "                                    _mean = np.mean(_res)\n",
    "                                    _std = np.std(_res)\n",
    "                                    _mask = np.where(np.logical_and(_res>_mean-2*_std, _res<_mean+2*_std))\n",
    "                                    _res = _res[_mask]\n",
    "                                    radii = np.mean(_res)\n",
    "                                    radii_std = np.std(_res)\n",
    "                                    circ = Circle(_centre,radii,fill=False)\n",
    "                                    #ax.add_patch(circ)\n",
    "                                    #ax.set_title(radii)\n",
    "                                    #fig.savefig('/home/rozakmat/scratch/_tmp/'+re.sub('matt_raw_warped_upsampled_seg/','',re.sub('_warped.pickle','',file))+str(i)+'_'+str(I)+'.png')\n",
    "                                    #plt.clf()\n",
    "                                    \n",
    "                                        \n",
    "                                    return radii, radii_std\n",
    "                                \n",
    "                                pool = multiprocessing.Pool(64)\n",
    "                                _vals, _vals_sigma = zip(*pool.map(calc_fwhm_path, range(len(path))))\n",
    "                                #images = []\n",
    "                                #for I in tqdm(range(len(path))):\n",
    "                                #    images.append(imageio.imread('/home/rozakmat/scratch/_tmp/'+re.sub('matt_raw_warped_upsampled_seg/','',re.sub('_warped.pickle','',file))+str(i)+'_'+str(I)+'.png'))\n",
    "                                #    os.remove('/home/rozakmat/scratch/_tmp/'+re.sub('matt_raw_warped_upsampled_seg/','',re.sub('_warped.pickle','',file))+str(i)+'_'+str(I)+'.png')\n",
    "                                #imageio.mimsave('/home/rozakmat/scratch/gifs/'+re.sub('matt_raw_warped_upsampled_seg/','',re.sub('_warped.pickle','',file))+str(i)+'.gif', images, format='GIF', fps=2)\n",
    "                                \n",
    "                                _nrn_dst_vals = nrn_dst[path[::-1,0],path[::-1,1],path[::-1,2]]\n",
    "                                graph[list(graph.edges)[i][0]][list(graph.edges)[i][1]]['radii'] = np.mean(_vals)\n",
    "                                graph[list(graph.edges)[i][0]][list(graph.edges)[i][1]]['radii_std'] = np.std(_vals)\n",
    "                                graph[list(graph.edges)[i][0]][list(graph.edges)[i][1]]['mean_neuron_distance'] = np.mean(_nrn_dst_vals)\n",
    "                                graph[list(graph.edges)[i][0]][list(graph.edges)[i][1]]['neuron_distance_std'] = np.std(_nrn_dst_vals)\n",
    "                                graph[list(graph.edges)[i][0]][list(graph.edges)[i][1]]['neuron_distance_min'] = np.min(_nrn_dst_vals)\n",
    "                                graph[list(graph.edges)[i][0]][list(graph.edges)[i][1]]['gender'] = gender\n",
    "                                graph[list(graph.edges)[i][0]][list(graph.edges)[i][1]]['path_weights'] = _vals\n",
    "                                graph[list(graph.edges)[i][0]][list(graph.edges)[i][1]]['path_weights_uncertanty'] = _vals_sigma\n",
    "                                #graph[list(graph.edges)[i][0]][list(graph.edges)[i][1]]['weight'] = graph[list(graph.edges)[i][0]][list(graph.edges)[i][1]]['weight']\n",
    "                                graph[list(graph.edges)[i][0]][list(graph.edges)[i][1]]['end-0z'] = path[0][0]\n",
    "                                graph[list(graph.edges)[i][0]][list(graph.edges)[i][1]]['end-0y'] = path[0][1]\n",
    "                                graph[list(graph.edges)[i][0]][list(graph.edges)[i][1]]['end-0x'] = path[0][2]\n",
    "                                graph[list(graph.edges)[i][0]][list(graph.edges)[i][1]]['end-1z'] = path[-1][0]\n",
    "                                graph[list(graph.edges)[i][0]][list(graph.edges)[i][1]]['end-1y'] = path[-1][1]\n",
    "                                graph[list(graph.edges)[i][0]][list(graph.edges)[i][1]]['end-1x'] = path[-1][2]\n",
    "                                graph[list(graph.edges)[i][0]][list(graph.edges)[i][1]]['mean_depth'] = np.mean(path[:,0])\n",
    "                                graph[list(graph.edges)[i][0]][list(graph.edges)[i][1]]['euclidean-dst'] = np.sqrt(np.sum(np.square(path[-1]-path[0])))\n",
    "                                graph[list(graph.edges)[i][0]][list(graph.edges)[i][1]]['subject'] = subj\n",
    "                                graph[list(graph.edges)[i][0]][list(graph.edges)[i][1]]['treatment'] = treatment\n",
    "                                graph[list(graph.edges)[i][0]][list(graph.edges)[i][1]]['wavelength'] = wavelength\n",
    "                                graph[list(graph.edges)[i][0]][list(graph.edges)[i][1]]['power'] = power_per\n",
    "                                graph[list(graph.edges)[i][0]][list(graph.edges)[i][1]]['age'] = age\n",
    "                                graph[list(graph.edges)[i][0]][list(graph.edges)[i][1]]['days_post_injury'] = days_post_injury\n",
    "                            nx.write_gpickle(graph, re.sub('raw_warped_single_upsampled_seg','preds_graphs_fwhm_single',re.sub('.pickle','_radii.pickle',file)))"
   ]
  },
  {
   "cell_type": "code",
   "execution_count": 21,
   "id": "4f22c777-065b-445a-9f96-5c4b3d554853",
   "metadata": {},
   "outputs": [],
   "source": [
    "files = sorted(files)\n",
    "#files"
   ]
  },
  {
   "cell_type": "code",
   "execution_count": 22,
   "id": "b944de18-6c13-4973-9a3a-96f34fcd77d3",
   "metadata": {},
   "outputs": [
    {
     "name": "stderr",
     "output_type": "stream",
     "text": [
      "100%|██████████| 12/12 [00:00<00:00, 70.10it/s]"
     ]
    },
    {
     "name": "stdout",
     "output_type": "stream",
     "text": [
      "2289\n",
      "2289\n",
      "1630\n",
      "1630\n",
      "1630\n",
      "1630\n",
      "1630\n",
      "1630\n",
      "1630\n",
      "1630\n",
      "1630\n",
      "1630\n"
     ]
    },
    {
     "name": "stderr",
     "output_type": "stream",
     "text": [
      "\n"
     ]
    }
   ],
   "source": [
    "min_prob = 0.75\n",
    "max_var = 0.1\n",
    "sampling = 1/5\n",
    "xls = pd.ExcelFile('TBI_STIM_metalog_local.xlsx')\n",
    "xls2 = pd.ExcelFile('../TBI_monai_UNET/p3_metalog.xlsx')\n",
    "df = {}\n",
    "for sheet_name in xls.sheet_names:\n",
    "    df[sheet_name] = xls.parse(sheet_name)\n",
    "for sheet_name in xls2.sheet_names:\n",
    "    df[sheet_name] = xls2.parse(sheet_name)\n",
    "for file in tqdm(files):\n",
    "    if not os.path.exists(re.sub('raw_warped_single_upsampled_seg','preds_graphs_fwhm_single',re.sub('.pickle','_radii.pickle',file))):\n",
    "        #print('yes')\n",
    "        graph = nx.read_gpickle(file)\n",
    "        print(len(graph.edges))\n",
    "        if len(graph.edges) < 1500:\n",
    "            for sheet_name in xls.sheet_names + xls2.sheet_names:\n",
    "                if re.sub('_0001','',re.sub('matt_raw_warped_single_upsampled_seg/','',re.sub('_warped.pickle','',re.sub('xyz','XYZ',file))).split('-')[1]) in df[sheet_name].values:\n",
    "                    #print('a')\n",
    "                    subj = sheet_name\n",
    "                    if (re.sub('matt_raw_warped_single_upsampled_seg/','',re.sub('_warped.pickle','',file)).split('-')[0].split(' ') + [''])[0] in sheet_name or (re.sub('matt_raw_warped_single_upsampled_seg/','',re.sub('_warped.pickle','',file)).split('-')[0].split('_') + [''])[1] in sheet_name:\n",
    "                        if subj in [\"TBI7_3D\",\n",
    "                                    \"SHAM12_3D\",\n",
    "                                    \"TBI11_3D\",\n",
    "                                    \"SHAM9_3D\",\n",
    "                                    \"TBI22_3D\",\n",
    "                                    \"TBI31_3D\",\n",
    "                                    \"TBI38_3D\",\n",
    "                                    \"SHAM09_3D\",\n",
    "                                    \"SHAM23_3D\",\n",
    "                                    \"SHAM32_3D\",\n",
    "                                    'TBI38_3D',\n",
    "                                    'TBI6_3D',\n",
    "                                    'SHAM7_3D',\n",
    "                                    'TBI43_3D',\n",
    "                                    'TBI45_3D',\n",
    "                                    'SHAM53_3D',\n",
    "                                    'SHAM56_3D',\n",
    "                                    'SHAM55_3D',\n",
    "                                    'SHAM68_3D']:\n",
    "                            gender = 'male'\n",
    "                        elif subj in [\"TBI14_3D\",\n",
    "                                      \"SHAM17_3D\",\n",
    "                                      \"TBI18_3D\",\n",
    "                                      \"SHAM20_3D\",\n",
    "                                      \"TBI26_3D\",\n",
    "                                      \"TBI28_3D\",\n",
    "                                      \"SHAM35_3D\",\n",
    "                                      \"TBI33_3D\",\n",
    "                                      \"TBI40_3D\",\n",
    "                                      \"SHAM4_3D\",\n",
    "                                      \"TBI51_3D\",\n",
    "                                      \"SHAM64_3D\",\n",
    "                                      \"SHAM63_3D\",\n",
    "                                      \"TBI61_3D\",\n",
    "                                      \"TBI48_3D\",\n",
    "                                      \"TBI49_3D\",\n",
    "                                      \"SHAM67_3D\",\n",
    "                                      \"TBI65_3D\",\n",
    "                                      \"TBI70_3D\",\n",
    "                                      \"SHAM73_3D\"]:\n",
    "                            gender = 'female'\n",
    "                        treatment = re.sub('SHA','SHAM',subj[0:3])\n",
    "                        _tmp = df[subj].loc[df[subj]['CHECK WATER'] ==  re.sub('_0001','',re.sub('matt_preds/','',re.sub('_warped.pickle','',re.sub('xyz','XYZ',file))).split('-')[1])]\n",
    "                        #print(_tmp)\n",
    "                        if _tmp['Unnamed: 12'].iloc[0] == 'raster':\n",
    "                            #print('yes')\n",
    "                            img_file = re.sub('matt_raw_warped_single_upsampled_seg','matt_raw_warped_single',re.sub('_warped.pickle','_warped.tif',file))\n",
    "                            seg_file = re.sub('_warped.pickle','_warped_seg.npy',file)\n",
    "                            mean_file = re.sub('_upsampled_seg','_upsampled',re.sub('_warped.pickle','_warped_mean.npy',file))\n",
    "                            std_file = re.sub('_upsampled_seg','_upsampled',re.sub('_warped.pickle','_warped_2x_std.npy',file))\n",
    "                            img = io.imread(img_file)\n",
    "                            img_ch2 = sp.ndimage.zoom(np.swapaxes(img[:,1,:,:],0,2),(1,1,2.645833333))\n",
    "                            img = sp.ndimage.zoom(np.swapaxes(img[:,0,:,:],0,2),(1,1,2.645833333))\n",
    "                            seg = np.load(seg_file)\n",
    "                            mean = np.load(mean_file)\n",
    "                            std = np.load(std_file)\n",
    "                            seg_dst = distance_transform_edt(seg)\n",
    "                            nrn_dst = np.load(re.sub('_warped.pickle','_warped_seg_nrn_dst.npy',file))\n",
    "                            wavelength = _tmp['Unnamed: 11'].iloc[0]\n",
    "                            power_per = _tmp['Unnamed: 10'].iloc[0]\n",
    "                            start_depth = _tmp['Unnamed: 2'].iloc[0]\n",
    "                            a, b, c = np.mgrid[-15:16:1, -15:16:1, -15:16:1]\n",
    "                            abc = np.dstack([a.flat,b.flat, c.flat])\n",
    "                            mu = np.array([0,0,0])\n",
    "                            sigma = np.array([0.636,0.127,0.127])\n",
    "                            covariance = np.diag(sigma**2)\n",
    "                            d = multivariate_normal.pdf(abc, mean=mu, cov=covariance)\n",
    "                            d = d.reshape((len(a),len(b),len(c)))\n",
    "                            deconv_img = np.copy(img)\n",
    "                            deconv_img =  1023 * restoration.richardson_lucy(img/1023.0, d, iterations=10) - 1023 * restoration.richardson_lucy(img_ch2/1023.0, d, iterations=10)\n",
    "                            deconv_img = np.int16(deconv_img)\n",
    "                            \n",
    "                            if treatment != 'vbm':\n",
    "                                age = _tmp['Unnamed: 14'].iloc[0]\n",
    "                                days_post_injury = _tmp['Unnamed: 15'].iloc[0]\n",
    "                            else:\n",
    "                                age = 'unknown'\n",
    "                                days_post_injury = 'unknown'\n",
    "                            for i in tqdm(range(len(graph.edges))):\n",
    "                                path = graph[list(graph.edges)[i][0]][list(graph.edges)[i][1]]['pts']\n",
    "                                _pred_radii = np.mean(seg_dst[path[::-1,0],path[::-1,1],path[::-1,2]])\n",
    "                                _pred_radii_max = np.max(seg_dst[path[::-1,0],path[::-1,1],path[::-1,2]])\n",
    "                                if _pred_radii == 0:\n",
    "                                    _pred_radii =1\n",
    "                                \n",
    "                                _box_fit = max([np.int16(_pred_radii_max)+10, 15])\n",
    "                                #path_grad = np.gradient(path,edge_order=2)[0]\n",
    "                                path_smooth = np.float32(np.copy(path))\n",
    "                                for k in range(len(path[0])):\n",
    "                                    path_smooth[:,k] = sp.ndimage.gaussian_filter1d(np.float64(path[:,k]),3,mode='nearest')\n",
    "                                path_grad = np.gradient(path_smooth,edge_order=2)[0]\n",
    "                                res_fwhm = []\n",
    "                                X = np.arange(-1*_box_fit,_box_fit+1,1)\n",
    "                                Y = np.arange(-1*_box_fit,_box_fit+1,1)\n",
    "                                x,y = np.meshgrid(X,Y)\n",
    "                                x = x.flatten()\n",
    "                                y = y.flatten()\n",
    "                                z = np.zeros(len(x))\n",
    "                                xy = np.vstack([x,y,z])\n",
    "                                \n",
    "                                \n",
    "                                res_fwhm = []\n",
    "                                \n",
    "                                res_fwhm_sigma = []\n",
    "                                \n",
    "                                def calc_fwhm_path(I):\n",
    "                                    point_grad = path_grad[I]\n",
    "                                    point = path[I]\n",
    "                                    if all(point_grad[0:2] == [0,0]) and abs(point_grad[2]/point_grad[2]) == 1:\n",
    "                                        rotated = xy.T + point\n",
    "                                    else:\n",
    "                                        rotated = _rotmat(point_grad,xy.T) + point\n",
    "                                    points_img = sp.ndimage.map_coordinates(#np.int16(mean[1]*1024),\n",
    "                                                                        deconv_img,\n",
    "                                                                        rotated.T, \n",
    "                                                                        order=3,\n",
    "                                                                        mode='constant')\n",
    "                                    \n",
    "                                            \n",
    "                                    points_img = np.reshape(points_img,(len(X),len(Y)))\n",
    "                                    points_img_no_smooth = np.copy(points_img)\n",
    "                                    points_img = sp.ndimage.gaussian_filter(points_img, sigma = _pred_radii*.4)\n",
    "\n",
    "                                    \n",
    "                                    \n",
    "                                    _point = np.array(np.arange(0,_pred_radii+20,sampling))\n",
    "                                    _zeros = np.zeros(len(_point))\n",
    "                                    _point = np.array([_point,_zeros])\n",
    "                                    _centre = closest_node([len(X)//2+1,len(Y)//2+1],peak_local_max(points_img.T))\n",
    "                                    \n",
    "                                    _res = []\n",
    "                                    \n",
    "                                    fig,ax = plt.subplots(1)\n",
    "                                    ax.set_aspect('equal')\n",
    "                                    ax.imshow(points_img_no_smooth,\n",
    "                                              vmin = 0,\n",
    "                                              vmax = np.max(deconv_img))\n",
    "                                    ax.scatter(_centre[0],_centre[1])\n",
    "                                    for deg in np.arange(0,360,10):\n",
    "                                        rot_point = np.dot(np.array([[np.cos(np.deg2rad(deg)),-1*np.sin(np.deg2rad(deg))],[np.sin(np.deg2rad(deg)),np.cos(np.deg2rad(deg))]]),_point)\n",
    "                                        rot_point[0] = rot_point[0] + _centre[0]\n",
    "                                        rot_point[1] = rot_point[1] + _centre[1]\n",
    "                                        points_vals = sp.ndimage.map_coordinates(points_img.T,\n",
    "                                                                                 rot_point, \n",
    "                                                                                 order=3,\n",
    "                                                                                 cval=0)\n",
    "                                        points_vals = sp.ndimage.gaussian_filter1d(points_vals,sigma=_pred_radii*.4/sampling)\n",
    "                                        points_vals_grad = np.gradient(points_vals)\n",
    "                                        _ = np.array(sp.signal.argrelextrema(points_vals + np.random.uniform(-1e-5,1e-5,len(points_vals)),np.less,order=3))\n",
    "                                        if _.shape[1] != 0:\n",
    "                                            points_vals_grad = np.gradient(points_vals[:_[0,0]+3])\n",
    "                                            _ = np.argmin(points_vals_grad)\n",
    "                                            _res.append(_*sampling)\n",
    "                                            ax.scatter(_*sampling*np.cos(np.deg2rad(deg))+_centre[0],_*sampling*np.sin(np.deg2rad(deg))+_centre[1],color='r')\n",
    "                                        else:\n",
    "                                            points_vals_grad = np.gradient(points_vals)\n",
    "                                            _ = np.argmin(points_vals_grad)\n",
    "                                            _res.append(_*sampling)\n",
    "                                            ax.scatter(_*sampling*np.cos(np.deg2rad(deg))+_centre[0],_*sampling*np.sin(np.deg2rad(deg))+_centre[1],color='r')\n",
    "                                    _res = np.array(_res)\n",
    "                                    _res = _res[np.where(_res!=0)]\n",
    "                                    _mean = np.mean(_res)\n",
    "                                    _std = np.std(_res)\n",
    "                                    _mask = np.where(np.logical_and(_res>_mean-2*_std, _res<_mean+2*_std))\n",
    "                                    _res = _res[_mask]\n",
    "                                    radii = np.mean(_res)\n",
    "                                    radii_std = np.std(_res)\n",
    "                                    circ = Circle(_centre,radii,fill=False)\n",
    "                                    #ax.add_patch(circ)\n",
    "                                    ax.set_title(radii)\n",
    "                                    fig.savefig('/home/rozakmat/scratch/_tmp/'+re.sub('matt_raw_warped_upsampled_seg/','',re.sub('_warped.pickle','',file))+str(i)+'_'+str(I)+'.png')\n",
    "                                    plt.clf()\n",
    "                                    \n",
    "                                        \n",
    "                                    return radii, radii_std\n",
    "                                \n",
    "                                pool = multiprocessing.Pool(8)\n",
    "                                _vals, _vals_sigma = zip(*pool.map(calc_fwhm_path, range(len(path))))\n",
    "                                images = []\n",
    "                                for I in tqdm(range(len(path))):\n",
    "                                    images.append(imageio.imread('/home/rozakmat/scratch/_tmp/'+re.sub('matt_raw_warped_upsampled_seg/','',re.sub('_warped.pickle','',file))+str(i)+'_'+str(I)+'.png'))\n",
    "                                    os.remove('/home/rozakmat/scratch/_tmp/'+re.sub('matt_raw_warped_upsampled_seg/','',re.sub('_warped.pickle','',file))+str(i)+'_'+str(I)+'.png')\n",
    "                                imageio.mimsave('/home/rozakmat/scratch/gifs/'+re.sub('matt_raw_warped_upsampled_seg/','',re.sub('_warped.pickle','',file))+str(i)+'.gif', images, format='GIF', fps=2)\n",
    "                                \n",
    "                                _nrn_dst_vals = nrn_dst[path[::-1,0],path[::-1,1],path[::-1,2]]\n",
    "                                graph[list(graph.edges)[i][0]][list(graph.edges)[i][1]]['radii'] = np.mean(_vals)\n",
    "                                graph[list(graph.edges)[i][0]][list(graph.edges)[i][1]]['radii_std'] = np.std(_vals)\n",
    "                                graph[list(graph.edges)[i][0]][list(graph.edges)[i][1]]['mean_neuron_distance'] = np.mean(_nrn_dst_vals)\n",
    "                                graph[list(graph.edges)[i][0]][list(graph.edges)[i][1]]['neuron_distance_std'] = np.std(_nrn_dst_vals)\n",
    "                                graph[list(graph.edges)[i][0]][list(graph.edges)[i][1]]['neuron_distance_min'] = np.min(_nrn_dst_vals)\n",
    "                                graph[list(graph.edges)[i][0]][list(graph.edges)[i][1]]['gender'] = gender\n",
    "                                graph[list(graph.edges)[i][0]][list(graph.edges)[i][1]]['path_weights'] = _vals\n",
    "                                graph[list(graph.edges)[i][0]][list(graph.edges)[i][1]]['path_weights_uncertanty'] = _vals_sigma\n",
    "                                #graph[list(graph.edges)[i][0]][list(graph.edges)[i][1]]['weight'] = graph[list(graph.edges)[i][0]][list(graph.edges)[i][1]]['weight']\n",
    "                                graph[list(graph.edges)[i][0]][list(graph.edges)[i][1]]['end-0z'] = path[0][0]\n",
    "                                graph[list(graph.edges)[i][0]][list(graph.edges)[i][1]]['end-0y'] = path[0][1]\n",
    "                                graph[list(graph.edges)[i][0]][list(graph.edges)[i][1]]['end-0x'] = path[0][2]\n",
    "                                graph[list(graph.edges)[i][0]][list(graph.edges)[i][1]]['end-1z'] = path[-1][0]\n",
    "                                graph[list(graph.edges)[i][0]][list(graph.edges)[i][1]]['end-1y'] = path[-1][1]\n",
    "                                graph[list(graph.edges)[i][0]][list(graph.edges)[i][1]]['end-1x'] = path[-1][2]\n",
    "                                graph[list(graph.edges)[i][0]][list(graph.edges)[i][1]]['mean_depth'] = np.mean(path[:,0])\n",
    "                                graph[list(graph.edges)[i][0]][list(graph.edges)[i][1]]['euclidean-dst'] = np.sqrt(np.sum(np.square(path[-1]-path[0])))\n",
    "                                graph[list(graph.edges)[i][0]][list(graph.edges)[i][1]]['subject'] = subj\n",
    "                                graph[list(graph.edges)[i][0]][list(graph.edges)[i][1]]['treatment'] = treatment\n",
    "                                graph[list(graph.edges)[i][0]][list(graph.edges)[i][1]]['wavelength'] = wavelength\n",
    "                                graph[list(graph.edges)[i][0]][list(graph.edges)[i][1]]['power'] = power_per\n",
    "                                graph[list(graph.edges)[i][0]][list(graph.edges)[i][1]]['age'] = age\n",
    "                                graph[list(graph.edges)[i][0]][list(graph.edges)[i][1]]['days_post_injury'] = days_post_injury\n",
    "                                break\n",
    "                            break\n",
    "                            #nx.write_gpickle(graph, re.sub('raw_warped_single_upsampled_seg','preds_graphs_fwhm_single',re.sub('.pickle','_radii.pickle',file)))"
   ]
  },
  {
   "cell_type": "code",
   "execution_count": 23,
   "id": "33d3795f-1686-4228-b114-65e324ad3fe4",
   "metadata": {},
   "outputs": [
    {
     "name": "stderr",
     "output_type": "stream",
     "text": [
      "100%|██████████| 12/12 [00:00<00:00, 65.58it/s]\n"
     ]
    }
   ],
   "source": [
    "min_prob = 0.75\n",
    "max_var = 0.1\n",
    "sampling = 1/5\n",
    "xls = pd.ExcelFile('TBI_STIM_metalog_local.xlsx')\n",
    "xls2 = pd.ExcelFile('../TBI_monai_UNET/p3_metalog.xlsx')\n",
    "df = {}\n",
    "for sheet_name in xls.sheet_names:\n",
    "    df[sheet_name] = xls.parse(sheet_name)\n",
    "for sheet_name in xls2.sheet_names:\n",
    "    df[sheet_name] = xls2.parse(sheet_name)\n",
    "\n",
    "for file in tqdm(files):\n",
    "    if not os.path.exists(re.sub('raw_warped_single_upsampled_seg','preds_graphs_fwhm_single',re.sub('.pickle','_radii_forepaw.pickle',file))):\n",
    "        graph = nx.read_gpickle(file)\n",
    "        if len(graph.edges) < 1500:\n",
    "            for sheet_name in xls.sheet_names + xls2.sheet_names:\n",
    "                if re.sub('_0001','',re.sub('matt_raw_warped_single_upsampled_seg/','',re.sub('_warped.pickle','',re.sub('xyz','XYZ',file))).split('-')[1]) in df[sheet_name].values:\n",
    "                    subj = sheet_name\n",
    "                    if (re.sub('matt_raw_warped_single_upsampled_seg/','',re.sub('_warped.pickle','',file)).split('-')[0].split(' ') + [''])[0] in sheet_name or (re.sub('matt_raw_warped_single_upsampled_seg/','',re.sub('_warped.pickle','',file)).split('-')[0].split('_') + [''])[1] in sheet_name:\n",
    "                        if subj in [\"TBI07_3D\",\n",
    "                                    \"TBI11_3D\",\n",
    "                                    \"TBI22_3D\",\n",
    "                                    \"TBI31_3D\",\n",
    "                                    \"TBI38_3D\",\n",
    "                                    \"SHAM09_3D\",\n",
    "                                    \"SHAM12_3D\",\n",
    "                                    \"SHAM23_3D\",\n",
    "                                    \"SHAM32_3D\",\n",
    "                                    'TBI38_3D',\n",
    "                                    'TBI6_3D',\n",
    "                                    'SHAM7_3D',\n",
    "                                    'TBI43_3D',\n",
    "                                    'TBI45_3D',\n",
    "                                    'SHAM53_3D',\n",
    "                                    'SHAM56_3D',\n",
    "                                    'SHAM55_3D']:\n",
    "                            gender = 'male'\n",
    "                        else:\n",
    "                            gender = 'female'\n",
    "                        treatment = re.sub('SHA','SHAM',subj[0:3])\n",
    "                        _tmp = df[subj].loc[df[subj]['CHECK WATER'] ==  re.sub('_0001','',re.sub('matt_preds/','',re.sub('_warped.pickle','',re.sub('xyz','XYZ',file))).split('-')[1])]\n",
    "                        print(_tmp['Unnamed: 12'].iloc[0] != 'raster')\n",
    "                        if _tmp['Unnamed: 12'].iloc[0] != 'raster':\n",
    "                            print(treatment)\n",
    "                            img_file = re.sub('matt_raw_warped_single_upsampled_seg','matt_raw_warped_single',re.sub('_warped.pickle','_warped.tif',file))\n",
    "                            seg_file = re.sub('_warped.pickle','_warped_seg.npy',file)\n",
    "                            mean_file = re.sub('_upsampled_seg','_upsampled',re.sub('_warped.pickle','_warped_mean.npy',file))\n",
    "                            std_file = re.sub('_upsampled_seg','_upsampled',re.sub('_warped.pickle','_warped_2x_std.npy',file))\n",
    "                            img = io.imread(img_file)\n",
    "                            img_ch2 = sp.ndimage.zoom(np.swapaxes(img[:,1,:,:],0,2),(1,1,2.645833333))\n",
    "                            img = sp.ndimage.zoom(np.swapaxes(img[:,0,:,:],0,2),(1,1,2.645833333))\n",
    "                            seg = np.load(seg_file)\n",
    "                            mean = np.load(mean_file)\n",
    "                            std = np.load(std_file)\n",
    "                            seg_dst = distance_transform_edt(seg)\n",
    "                            nrn_dst = np.load(re.sub('_warped.pickle','_warped_seg_nrn_dst.npy',file))\n",
    "                            current = _tmp['Unnamed: 10'].iloc[0]\n",
    "                            freq = _tmp['Unnamed: 11'].iloc[0]\n",
    "                            start_depth = _tmp['Unnamed: 2'].iloc[0]\n",
    "                            a, b, c = np.mgrid[-15:16:1, -15:16:1, -15:16:1]\n",
    "                            abc = np.dstack([a.flat,b.flat, c.flat])\n",
    "                            mu = np.array([0,0,0])\n",
    "                            sigma = np.array([0.636,0.127,0.127])\n",
    "                            covariance = np.diag(sigma**2)\n",
    "                            d = multivariate_normal.pdf(abc, mean=mu, cov=covariance)\n",
    "                            d = d.reshape((len(a),len(b),len(c)))\n",
    "                            deconv_img = np.copy(img)\n",
    "                            deconv_img =  1023 * restoration.richardson_lucy(img/1023.0, d, iterations=10) - 1023 * restoration.richardson_lucy(img_ch2/1023.0, d, iterations=10)\n",
    "                            deconv_img = np.int16(deconv_img)\n",
    "                            \n",
    "                            if treatment != 'vbm':\n",
    "                                age = _tmp['Unnamed: 8'].iloc[0]\n",
    "                                days_post_injury = _tmp['Unnamed: 9'].iloc[0]\n",
    "                            else:\n",
    "                                age = 'unknown'\n",
    "                                days_post_injury = 'unknown'\n",
    "                            for i in tqdm(range(len(graph.edges))):\n",
    "                                path = graph[list(graph.edges)[i][0]][list(graph.edges)[i][1]]['pts']\n",
    "                                _pred_radii = np.mean(seg_dst[path[::-1,0],path[::-1,1],path[::-1,2]])\n",
    "                                _pred_radii_max = np.max(seg_dst[path[::-1,0],path[::-1,1],path[::-1,2]])\n",
    "                                if _pred_radii == 0:\n",
    "                                    _pred_radii =1\n",
    "                                \n",
    "                                _box_fit = max([np.int16(_pred_radii_max)+10, 15])\n",
    "                                #path_grad = np.gradient(path,edge_order=2)[0]\n",
    "                                path_smooth = np.float32(np.copy(path))\n",
    "                                for k in range(len(path[0])):\n",
    "                                    path_smooth[:,k] = sp.ndimage.gaussian_filter1d(np.float64(path[:,k]),3,mode='nearest')\n",
    "                                path_grad = np.gradient(path_smooth,edge_order=2)[0]\n",
    "                                res_fwhm = []\n",
    "                                X = np.arange(-1*_box_fit,_box_fit+1,1)\n",
    "                                Y = np.arange(-1*_box_fit,_box_fit+1,1)\n",
    "                                x,y = np.meshgrid(X,Y)\n",
    "                                x = x.flatten()\n",
    "                                y = y.flatten()\n",
    "                                z = np.zeros(len(x))\n",
    "                                xy = np.vstack([x,y,z])\n",
    "                                \n",
    "                                \n",
    "                                res_fwhm = []\n",
    "                                \n",
    "                                res_fwhm_sigma = []\n",
    "                                \n",
    "                                def calc_fwhm_path(I):\n",
    "                                    point_grad = path_grad[I]\n",
    "                                    point = path[I]\n",
    "                                    if all(point_grad[0:2] == [0,0]) and abs(point_grad[2]/point_grad[2]) == 1:\n",
    "                                        rotated = xy.T + point\n",
    "                                    else:\n",
    "                                        rotated = _rotmat(point_grad,xy.T) + point\n",
    "                                    points_img = sp.ndimage.map_coordinates(#np.int16(mean[1]*1024),\n",
    "                                                                        deconv_img,\n",
    "                                                                        rotated.T, \n",
    "                                                                        order=3,\n",
    "                                                                        mode='constant')\n",
    "                                    \n",
    "                                            \n",
    "                                    points_img = np.reshape(points_img,(len(X),len(Y)))\n",
    "                                    points_img_no_smooth = np.copy(points_img)\n",
    "                                    points_img = sp.ndimage.gaussian_filter(points_img, sigma = _pred_radii*.4)\n",
    "\n",
    "                                    \n",
    "                                    \n",
    "                                    _point = np.array(np.arange(0,_pred_radii+20,sampling))\n",
    "                                    _zeros = np.zeros(len(_point))\n",
    "                                    _point = np.array([_point,_zeros])\n",
    "                                    _centre = closest_node([len(X)//2+1,len(Y)//2+1],peak_local_max(points_img.T))\n",
    "                                    \n",
    "                                    _res = []\n",
    "                                    \n",
    "                                    fig,ax = plt.subplots(1)\n",
    "                                    ax.set_aspect('equal')\n",
    "                                    ax.imshow(points_img_no_smooth,\n",
    "                                              vmin = 0,\n",
    "                                              vmax = np.max(deconv_img))\n",
    "                                    ax.scatter(_centre[0],_centre[1])\n",
    "                                    for deg in np.arange(0,360,10):\n",
    "                                        rot_point = np.dot(np.array([[np.cos(np.deg2rad(deg)),-1*np.sin(np.deg2rad(deg))],[np.sin(np.deg2rad(deg)),np.cos(np.deg2rad(deg))]]),_point)\n",
    "                                        rot_point[0] = rot_point[0] + _centre[0]\n",
    "                                        rot_point[1] = rot_point[1] + _centre[1]\n",
    "                                        points_vals = sp.ndimage.map_coordinates(points_img.T,\n",
    "                                                                                 rot_point, \n",
    "                                                                                 order=3,\n",
    "                                                                                 cval=0)\n",
    "                                        points_vals = sp.ndimage.gaussian_filter1d(points_vals,sigma=_pred_radii*.4/sampling)\n",
    "                                        points_vals_grad = np.gradient(points_vals)\n",
    "                                        _ = np.array(sp.signal.argrelextrema(points_vals + np.random.uniform(-1e-5,1e-5,len(points_vals)),np.less,order=3))\n",
    "                                        if _.shape[1] != 0:\n",
    "                                            points_vals_grad = np.gradient(points_vals[:_[0,0]+3])\n",
    "                                            _ = np.argmin(points_vals_grad)\n",
    "                                            _res.append(_*sampling)\n",
    "                                            ax.scatter(_*sampling*np.cos(np.deg2rad(deg))+_centre[0],_*sampling*np.sin(np.deg2rad(deg))+_centre[1],color='r')\n",
    "                                        else:\n",
    "                                            points_vals_grad = np.gradient(points_vals)\n",
    "                                            _ = np.argmin(points_vals_grad)\n",
    "                                            _res.append(_*sampling)\n",
    "                                            ax.scatter(_*sampling*np.cos(np.deg2rad(deg))+_centre[0],_*sampling*np.sin(np.deg2rad(deg))+_centre[1],color='r')\n",
    "                                    _res = np.array(_res)\n",
    "                                    _res = _res[np.where(_res!=0)]\n",
    "                                    _mean = np.mean(_res)\n",
    "                                    _std = np.std(_res)\n",
    "                                    _mask = np.where(np.logical_and(_res>_mean-2*_std, _res<_mean+2*_std))\n",
    "                                    _res = _res[_mask]\n",
    "                                    radii = np.mean(_res)\n",
    "                                    radii_std = np.std(_res)\n",
    "                                    circ = Circle(_centre,radii,fill=False)\n",
    "                                    #ax.add_patch(circ)\n",
    "                                    ax.set_title(radii)\n",
    "                                    fig.savefig('/home/rozakmat/scratch/_tmp/'+re.sub('matt_raw_warped_upsampled_seg/','',re.sub('_warped.pickle','',file))+str(i)+'_'+str(I)+'.png')\n",
    "                                    plt.clf()\n",
    "                                    \n",
    "                                        \n",
    "                                    return radii, radii_std\n",
    "                                \n",
    "                                pool = multiprocessing.Pool(8)\n",
    "                                _vals, _vals_sigma = zip(*pool.map(calc_fwhm_path, range(len(path))))\n",
    "                                images = []\n",
    "                                for I in tqdm(range(len(path))):\n",
    "                                    images.append(imageio.imread('/home/rozakmat/scratch/_tmp/'+re.sub('matt_raw_warped_upsampled_seg/','',re.sub('_warped.pickle','',file))+str(i)+'_'+str(I)+'.png'))\n",
    "                                    os.remove('/home/rozakmat/scratch/_tmp/'+re.sub('matt_raw_warped_upsampled_seg/','',re.sub('_warped.pickle','',file))+str(i)+'_'+str(I)+'.png')\n",
    "                                imageio.mimsave('/home/rozakmat/scratch/gifs/'+re.sub('matt_raw_warped_upsampled_seg/','',re.sub('_warped.pickle','',file))+str(i)+'.gif', images, format='GIF', fps=2)\n",
    "                                \n",
    "                                _nrn_dst_vals = nrn_dst[path[::-1,0],path[::-1,1],path[::-1,2]]\n",
    "                                graph[list(graph.edges)[i][0]][list(graph.edges)[i][1]]['radii'] = np.mean(_vals)\n",
    "                                graph[list(graph.edges)[i][0]][list(graph.edges)[i][1]]['radii_std'] = np.std(_vals)\n",
    "                                graph[list(graph.edges)[i][0]][list(graph.edges)[i][1]]['mean_neuron_distance'] = np.mean(_nrn_dst_vals)\n",
    "                                graph[list(graph.edges)[i][0]][list(graph.edges)[i][1]]['neuron_distance_std'] = np.std(_nrn_dst_vals)\n",
    "                                graph[list(graph.edges)[i][0]][list(graph.edges)[i][1]]['neuron_distance_min'] = np.min(_nrn_dst_vals)\n",
    "                                graph[list(graph.edges)[i][0]][list(graph.edges)[i][1]]['gender'] = gender\n",
    "                                graph[list(graph.edges)[i][0]][list(graph.edges)[i][1]]['path_weights'] = _vals\n",
    "                                graph[list(graph.edges)[i][0]][list(graph.edges)[i][1]]['path_weights_uncertanty'] = _vals_sigma\n",
    "                                #graph[list(graph.edges)[i][0]][list(graph.edges)[i][1]]['weight'] = graph[list(graph.edges)[i][0]][list(graph.edges)[i][1]]['weight']\n",
    "                                graph[list(graph.edges)[i][0]][list(graph.edges)[i][1]]['end-0z'] = path[0][0]\n",
    "                                graph[list(graph.edges)[i][0]][list(graph.edges)[i][1]]['end-0y'] = path[0][1]\n",
    "                                graph[list(graph.edges)[i][0]][list(graph.edges)[i][1]]['end-0x'] = path[0][2]\n",
    "                                graph[list(graph.edges)[i][0]][list(graph.edges)[i][1]]['end-1z'] = path[-1][0]\n",
    "                                graph[list(graph.edges)[i][0]][list(graph.edges)[i][1]]['end-1y'] = path[-1][1]\n",
    "                                graph[list(graph.edges)[i][0]][list(graph.edges)[i][1]]['end-1x'] = path[-1][2]\n",
    "                                graph[list(graph.edges)[i][0]][list(graph.edges)[i][1]]['mean_depth'] = np.mean(path[:,0])\n",
    "                                graph[list(graph.edges)[i][0]][list(graph.edges)[i][1]]['euclidean-dst'] = np.sqrt(np.sum(np.square(path[-1]-path[0])))\n",
    "                                graph[list(graph.edges)[i][0]][list(graph.edges)[i][1]]['subject'] = subj\n",
    "                                graph[list(graph.edges)[i][0]][list(graph.edges)[i][1]]['treatment'] = treatment\n",
    "                                graph[list(graph.edges)[i][0]][list(graph.edges)[i][1]]['current'] = current\n",
    "                                graph[list(graph.edges)[i][0]][list(graph.edges)[i][1]]['frequency'] = freq\n",
    "                                graph[list(graph.edges)[i][0]][list(graph.edges)[i][1]]['age'] = age\n",
    "                                graph[list(graph.edges)[i][0]][list(graph.edges)[i][1]]['days_post_injury'] = days_post_injury\n",
    "                            nx.write_gpickle(graph, re.sub('raw_warped_single_upsampled_seg','preds_graphs_fwhm_single',re.sub('.pickle','_radii_forepaw.pickle',file)))"
   ]
  },
  {
   "cell_type": "code",
   "execution_count": 28,
   "id": "f930e593-ccc5-47d6-bd70-62ec68472bdc",
   "metadata": {},
   "outputs": [
    {
     "data": {
      "text/plain": [
       "'matt_raw_warped/20220129_67-XYZres395_0001_warped.tif'"
      ]
     },
     "execution_count": 28,
     "metadata": {},
     "output_type": "execute_result"
    }
   ],
   "source": [
    "re.sub('matt_raw_warped_single_upsampled_seg','matt_raw_warped',re.sub('_warped.pickle','_warped.tif',file))"
   ]
  },
  {
   "cell_type": "markdown",
   "id": "0f8b8f56-367c-4548-a376-96678fe04178",
   "metadata": {},
   "source": [
    "# Get pickle files with vascular measurments"
   ]
  },
  {
   "cell_type": "code",
   "execution_count": 25,
   "id": "37024f67-d7aa-4994-a70e-53327065c5e0",
   "metadata": {},
   "outputs": [
    {
     "name": "stdout",
     "output_type": "stream",
     "text": [
      "794\n"
     ]
    }
   ],
   "source": [
    "directory = Path('matt_preds_graphs_fwhm_single')\n",
    "files = directory.glob('*_warped_radii.pickle')\n",
    "files = sorted([x.as_posix() for x in files])\n",
    "files2 = directory.glob('*_radii_forepaw.pickle')\n",
    "files2 = sorted([x.as_posix() for x in files2])\n",
    "files += files2\n",
    "files = sorted(files)\n",
    "print(len(files))\n",
    "#sorted(files)\n",
    "#files = [x for x in files if '45-' in x]\n",
    "#print(sorted(files))"
   ]
  },
  {
   "cell_type": "code",
   "execution_count": 18,
   "id": "3f9379b8-2bb4-4804-a899-e99b6e6c48dc",
   "metadata": {},
   "outputs": [
    {
     "name": "stderr",
     "output_type": "stream",
     "text": [
      " 14%|█▍        | 110/794 [01:36<07:01,  1.62it/s]/lustre06/project/6023374/rozakmat/monai3.8/lib/python3.8/site-packages/numpy/core/fromnumeric.py:3432: RuntimeWarning:\n",
      "\n",
      "Mean of empty slice.\n",
      "\n",
      "/lustre06/project/6023374/rozakmat/monai3.8/lib/python3.8/site-packages/numpy/core/_methods.py:190: RuntimeWarning:\n",
      "\n",
      "invalid value encountered in double_scalars\n",
      "\n",
      "/lustre06/project/6023374/rozakmat/monai3.8/lib/python3.8/site-packages/numpy/core/_methods.py:265: RuntimeWarning:\n",
      "\n",
      "Degrees of freedom <= 0 for slice\n",
      "\n",
      "/lustre06/project/6023374/rozakmat/monai3.8/lib/python3.8/site-packages/numpy/core/_methods.py:223: RuntimeWarning:\n",
      "\n",
      "invalid value encountered in divide\n",
      "\n",
      "/lustre06/project/6023374/rozakmat/monai3.8/lib/python3.8/site-packages/numpy/core/_methods.py:257: RuntimeWarning:\n",
      "\n",
      "invalid value encountered in double_scalars\n",
      "\n",
      " 14%|█▍        | 112/794 [01:37<07:45,  1.47it/s]"
     ]
    },
    {
     "name": "stdout",
     "output_type": "stream",
     "text": [
      "no sex listed\n",
      "C5704_3D\n"
     ]
    },
    {
     "name": "stderr",
     "output_type": "stream",
     "text": [
      " 14%|█▍        | 113/794 [01:38<07:48,  1.45it/s]"
     ]
    },
    {
     "name": "stdout",
     "output_type": "stream",
     "text": [
      "no sex listed\n",
      "C5704_3D\n"
     ]
    },
    {
     "name": "stderr",
     "output_type": "stream",
     "text": [
      " 14%|█▍        | 114/794 [01:38<07:55,  1.43it/s]"
     ]
    },
    {
     "name": "stdout",
     "output_type": "stream",
     "text": [
      "no sex listed\n",
      "C5704_3D\n"
     ]
    },
    {
     "name": "stderr",
     "output_type": "stream",
     "text": [
      " 14%|█▍        | 115/794 [01:39<07:44,  1.46it/s]"
     ]
    },
    {
     "name": "stdout",
     "output_type": "stream",
     "text": [
      "no sex listed\n",
      "C5704_3D\n"
     ]
    },
    {
     "name": "stderr",
     "output_type": "stream",
     "text": [
      " 15%|█▍        | 116/794 [01:40<07:34,  1.49it/s]"
     ]
    },
    {
     "name": "stdout",
     "output_type": "stream",
     "text": [
      "no sex listed\n",
      "C5704_3D\n"
     ]
    },
    {
     "name": "stderr",
     "output_type": "stream",
     "text": [
      " 15%|█▍        | 117/794 [01:40<07:22,  1.53it/s]"
     ]
    },
    {
     "name": "stdout",
     "output_type": "stream",
     "text": [
      "no sex listed\n",
      "C5704_3D\n"
     ]
    },
    {
     "name": "stderr",
     "output_type": "stream",
     "text": [
      " 15%|█▍        | 118/794 [01:41<07:26,  1.51it/s]"
     ]
    },
    {
     "name": "stdout",
     "output_type": "stream",
     "text": [
      "no sex listed\n",
      "C5704_3D\n"
     ]
    },
    {
     "name": "stderr",
     "output_type": "stream",
     "text": [
      " 15%|█▍        | 119/794 [01:42<07:21,  1.53it/s]"
     ]
    },
    {
     "name": "stdout",
     "output_type": "stream",
     "text": [
      "no sex listed\n",
      "C5704_3D\n"
     ]
    },
    {
     "name": "stderr",
     "output_type": "stream",
     "text": [
      " 15%|█▌        | 120/794 [01:42<07:15,  1.55it/s]"
     ]
    },
    {
     "name": "stdout",
     "output_type": "stream",
     "text": [
      "no sex listed\n",
      "C5704_3D\n"
     ]
    },
    {
     "name": "stderr",
     "output_type": "stream",
     "text": [
      " 15%|█▌        | 121/794 [01:43<07:41,  1.46it/s]"
     ]
    },
    {
     "name": "stdout",
     "output_type": "stream",
     "text": [
      "no sex listed\n",
      "C5704_3D\n"
     ]
    },
    {
     "name": "stderr",
     "output_type": "stream",
     "text": [
      " 15%|█▌        | 122/794 [01:44<08:33,  1.31it/s]"
     ]
    },
    {
     "name": "stdout",
     "output_type": "stream",
     "text": [
      "no sex listed\n",
      "C5703_3D\n"
     ]
    },
    {
     "name": "stderr",
     "output_type": "stream",
     "text": [
      " 15%|█▌        | 123/794 [01:45<07:57,  1.41it/s]"
     ]
    },
    {
     "name": "stdout",
     "output_type": "stream",
     "text": [
      "no sex listed\n",
      "C5703_3D\n"
     ]
    },
    {
     "name": "stderr",
     "output_type": "stream",
     "text": [
      " 16%|█▌        | 124/794 [01:45<07:32,  1.48it/s]"
     ]
    },
    {
     "name": "stdout",
     "output_type": "stream",
     "text": [
      "no sex listed\n",
      "C5703_3D\n"
     ]
    },
    {
     "name": "stderr",
     "output_type": "stream",
     "text": [
      " 16%|█▌        | 125/794 [01:46<07:53,  1.41it/s]"
     ]
    },
    {
     "name": "stdout",
     "output_type": "stream",
     "text": [
      "no sex listed\n",
      "C5703_3D\n"
     ]
    },
    {
     "name": "stderr",
     "output_type": "stream",
     "text": [
      " 16%|█▌        | 126/794 [01:47<07:59,  1.39it/s]"
     ]
    },
    {
     "name": "stdout",
     "output_type": "stream",
     "text": [
      "no sex listed\n",
      "C5703_3D\n"
     ]
    },
    {
     "name": "stderr",
     "output_type": "stream",
     "text": [
      " 16%|█▌        | 127/794 [01:47<07:56,  1.40it/s]"
     ]
    },
    {
     "name": "stdout",
     "output_type": "stream",
     "text": [
      "no sex listed\n",
      "C5703_3D\n"
     ]
    },
    {
     "name": "stderr",
     "output_type": "stream",
     "text": [
      " 16%|█▌        | 128/794 [01:48<07:26,  1.49it/s]"
     ]
    },
    {
     "name": "stdout",
     "output_type": "stream",
     "text": [
      "no sex listed\n",
      "C5703_3D\n"
     ]
    },
    {
     "name": "stderr",
     "output_type": "stream",
     "text": [
      " 16%|█▌        | 129/794 [01:49<07:08,  1.55it/s]"
     ]
    },
    {
     "name": "stdout",
     "output_type": "stream",
     "text": [
      "no sex listed\n",
      "C5703_3D\n"
     ]
    },
    {
     "name": "stderr",
     "output_type": "stream",
     "text": [
      " 16%|█▋        | 130/794 [01:49<07:13,  1.53it/s]"
     ]
    },
    {
     "name": "stdout",
     "output_type": "stream",
     "text": [
      "no sex listed\n",
      "C5703_3D\n"
     ]
    },
    {
     "name": "stderr",
     "output_type": "stream",
     "text": [
      " 16%|█▋        | 131/794 [01:50<06:50,  1.61it/s]"
     ]
    },
    {
     "name": "stdout",
     "output_type": "stream",
     "text": [
      "no sex listed\n",
      "C5703_3D\n"
     ]
    },
    {
     "name": "stderr",
     "output_type": "stream",
     "text": [
      " 17%|█▋        | 132/794 [01:50<06:34,  1.68it/s]"
     ]
    },
    {
     "name": "stdout",
     "output_type": "stream",
     "text": [
      "no sex listed\n",
      "C5703_3D\n"
     ]
    },
    {
     "name": "stderr",
     "output_type": "stream",
     "text": [
      " 17%|█▋        | 133/794 [01:51<06:26,  1.71it/s]"
     ]
    },
    {
     "name": "stdout",
     "output_type": "stream",
     "text": [
      "no sex listed\n",
      "C5703_3D\n"
     ]
    },
    {
     "name": "stderr",
     "output_type": "stream",
     "text": [
      " 17%|█▋        | 134/794 [01:52<06:34,  1.67it/s]"
     ]
    },
    {
     "name": "stdout",
     "output_type": "stream",
     "text": [
      "no sex listed\n",
      "C5703_3D\n"
     ]
    },
    {
     "name": "stderr",
     "output_type": "stream",
     "text": [
      " 17%|█▋        | 135/794 [01:52<06:34,  1.67it/s]"
     ]
    },
    {
     "name": "stdout",
     "output_type": "stream",
     "text": [
      "no sex listed\n",
      "C5703_3D\n"
     ]
    },
    {
     "name": "stderr",
     "output_type": "stream",
     "text": [
      " 17%|█▋        | 136/794 [01:53<06:28,  1.70it/s]"
     ]
    },
    {
     "name": "stdout",
     "output_type": "stream",
     "text": [
      "no sex listed\n",
      "C5703_3D\n"
     ]
    },
    {
     "name": "stderr",
     "output_type": "stream",
     "text": [
      " 17%|█▋        | 137/794 [01:54<08:25,  1.30it/s]"
     ]
    },
    {
     "name": "stdout",
     "output_type": "stream",
     "text": [
      "no sex listed\n",
      "C5703_3D\n"
     ]
    },
    {
     "name": "stderr",
     "output_type": "stream",
     "text": [
      " 17%|█▋        | 138/794 [01:54<07:42,  1.42it/s]"
     ]
    },
    {
     "name": "stdout",
     "output_type": "stream",
     "text": [
      "no sex listed\n",
      "C5702_3D\n"
     ]
    },
    {
     "name": "stderr",
     "output_type": "stream",
     "text": [
      " 18%|█▊        | 139/794 [01:55<07:43,  1.41it/s]"
     ]
    },
    {
     "name": "stdout",
     "output_type": "stream",
     "text": [
      "no sex listed\n",
      "C5702_3D\n"
     ]
    },
    {
     "name": "stderr",
     "output_type": "stream",
     "text": [
      " 18%|█▊        | 140/794 [01:56<07:25,  1.47it/s]"
     ]
    },
    {
     "name": "stdout",
     "output_type": "stream",
     "text": [
      "no sex listed\n",
      "C5702_3D\n"
     ]
    },
    {
     "name": "stderr",
     "output_type": "stream",
     "text": [
      " 18%|█▊        | 141/794 [01:57<08:09,  1.33it/s]"
     ]
    },
    {
     "name": "stdout",
     "output_type": "stream",
     "text": [
      "no sex listed\n",
      "C5702_3D\n"
     ]
    },
    {
     "name": "stderr",
     "output_type": "stream",
     "text": [
      " 18%|█▊        | 142/794 [01:57<08:06,  1.34it/s]"
     ]
    },
    {
     "name": "stdout",
     "output_type": "stream",
     "text": [
      "no sex listed\n",
      "C5702_3D\n"
     ]
    },
    {
     "name": "stderr",
     "output_type": "stream",
     "text": [
      " 18%|█▊        | 143/794 [01:58<07:52,  1.38it/s]"
     ]
    },
    {
     "name": "stdout",
     "output_type": "stream",
     "text": [
      "no sex listed\n",
      "C5702_3D\n"
     ]
    },
    {
     "name": "stderr",
     "output_type": "stream",
     "text": [
      " 18%|█▊        | 144/794 [01:59<08:02,  1.35it/s]"
     ]
    },
    {
     "name": "stdout",
     "output_type": "stream",
     "text": [
      "no sex listed\n",
      "C5702_3D\n"
     ]
    },
    {
     "name": "stderr",
     "output_type": "stream",
     "text": [
      " 18%|█▊        | 145/794 [02:00<08:02,  1.35it/s]"
     ]
    },
    {
     "name": "stdout",
     "output_type": "stream",
     "text": [
      "no sex listed\n",
      "C5702_3D\n"
     ]
    },
    {
     "name": "stderr",
     "output_type": "stream",
     "text": [
      " 18%|█▊        | 146/794 [02:00<08:15,  1.31it/s]"
     ]
    },
    {
     "name": "stdout",
     "output_type": "stream",
     "text": [
      "no sex listed\n",
      "C5701_3D\n"
     ]
    },
    {
     "name": "stderr",
     "output_type": "stream",
     "text": [
      " 19%|█▊        | 147/794 [02:01<08:10,  1.32it/s]"
     ]
    },
    {
     "name": "stdout",
     "output_type": "stream",
     "text": [
      "no sex listed\n",
      "C5701_3D\n"
     ]
    },
    {
     "name": "stderr",
     "output_type": "stream",
     "text": [
      " 19%|█▊        | 148/794 [02:02<07:43,  1.39it/s]"
     ]
    },
    {
     "name": "stdout",
     "output_type": "stream",
     "text": [
      "no sex listed\n",
      "C5701_3D\n"
     ]
    },
    {
     "name": "stderr",
     "output_type": "stream",
     "text": [
      " 19%|█▉        | 149/794 [02:02<07:25,  1.45it/s]"
     ]
    },
    {
     "name": "stdout",
     "output_type": "stream",
     "text": [
      "no sex listed\n",
      "C5701_3D\n"
     ]
    },
    {
     "name": "stderr",
     "output_type": "stream",
     "text": [
      " 19%|█▉        | 150/794 [02:03<07:11,  1.49it/s]"
     ]
    },
    {
     "name": "stdout",
     "output_type": "stream",
     "text": [
      "no sex listed\n",
      "C5701_3D\n"
     ]
    },
    {
     "name": "stderr",
     "output_type": "stream",
     "text": [
      " 19%|█▉        | 151/794 [02:04<07:42,  1.39it/s]"
     ]
    },
    {
     "name": "stdout",
     "output_type": "stream",
     "text": [
      "no sex listed\n",
      "C5701_3D\n"
     ]
    },
    {
     "name": "stderr",
     "output_type": "stream",
     "text": [
      " 19%|█▉        | 152/794 [02:05<07:48,  1.37it/s]"
     ]
    },
    {
     "name": "stdout",
     "output_type": "stream",
     "text": [
      "no sex listed\n",
      "C5701_3D\n"
     ]
    },
    {
     "name": "stderr",
     "output_type": "stream",
     "text": [
      " 19%|█▉        | 153/794 [02:05<07:36,  1.40it/s]"
     ]
    },
    {
     "name": "stdout",
     "output_type": "stream",
     "text": [
      "no sex listed\n",
      "C5701_3D\n"
     ]
    },
    {
     "name": "stderr",
     "output_type": "stream",
     "text": [
      " 19%|█▉        | 154/794 [02:06<07:26,  1.43it/s]"
     ]
    },
    {
     "name": "stdout",
     "output_type": "stream",
     "text": [
      "no sex listed\n",
      "C5701_3D\n"
     ]
    },
    {
     "name": "stderr",
     "output_type": "stream",
     "text": [
      " 20%|█▉        | 155/794 [02:07<07:14,  1.47it/s]"
     ]
    },
    {
     "name": "stdout",
     "output_type": "stream",
     "text": [
      "no sex listed\n",
      "C5701_3D\n"
     ]
    },
    {
     "name": "stderr",
     "output_type": "stream",
     "text": [
      " 20%|█▉        | 156/794 [02:07<06:58,  1.53it/s]"
     ]
    },
    {
     "name": "stdout",
     "output_type": "stream",
     "text": [
      "no sex listed\n",
      "C5701_3D\n"
     ]
    },
    {
     "name": "stderr",
     "output_type": "stream",
     "text": [
      " 20%|█▉        | 157/794 [02:08<07:12,  1.47it/s]"
     ]
    },
    {
     "name": "stdout",
     "output_type": "stream",
     "text": [
      "no sex listed\n",
      "C5701_3D\n"
     ]
    },
    {
     "name": "stderr",
     "output_type": "stream",
     "text": [
      " 20%|█▉        | 158/794 [02:09<07:16,  1.46it/s]"
     ]
    },
    {
     "name": "stdout",
     "output_type": "stream",
     "text": [
      "no sex listed\n",
      "C5701_3D\n"
     ]
    },
    {
     "name": "stderr",
     "output_type": "stream",
     "text": [
      " 20%|██        | 159/794 [02:09<06:58,  1.52it/s]"
     ]
    },
    {
     "name": "stdout",
     "output_type": "stream",
     "text": [
      "no sex listed\n",
      "C5701_3D\n"
     ]
    },
    {
     "name": "stderr",
     "output_type": "stream",
     "text": [
      " 20%|██        | 160/794 [02:10<07:02,  1.50it/s]"
     ]
    },
    {
     "name": "stdout",
     "output_type": "stream",
     "text": [
      "no sex listed\n",
      "C5701_3D\n"
     ]
    },
    {
     "name": "stderr",
     "output_type": "stream",
     "text": [
      " 20%|██        | 161/794 [02:11<06:47,  1.55it/s]"
     ]
    },
    {
     "name": "stdout",
     "output_type": "stream",
     "text": [
      "no sex listed\n",
      "C5701_3D\n"
     ]
    },
    {
     "name": "stderr",
     "output_type": "stream",
     "text": [
      " 20%|██        | 162/794 [02:11<06:54,  1.52it/s]"
     ]
    },
    {
     "name": "stdout",
     "output_type": "stream",
     "text": [
      "no sex listed\n",
      "C5701_3D\n"
     ]
    },
    {
     "name": "stderr",
     "output_type": "stream",
     "text": [
      "100%|██████████| 794/794 [09:46<00:00,  1.35it/s]\n"
     ]
    },
    {
     "data": {
      "text/plain": [
       "'matt_preds_graphs_fwhm_single/06162021_45-XYZres288_0001_warped_radii_amended.pickle'"
      ]
     },
     "execution_count": 18,
     "metadata": {},
     "output_type": "execute_result"
    }
   ],
   "source": [
    "min_prob = 0.75\n",
    "max_var = 0.1\n",
    "sampling = 1/5\n",
    "xls = pd.ExcelFile('TBI_STIM_metalog_local.xlsx')\n",
    "xls2 = pd.ExcelFile('../TBI_monai_UNET/p3_metalog.xlsx')\n",
    "df = {}\n",
    "for sheet_name in xls.sheet_names:\n",
    "    df[sheet_name] = xls.parse(sheet_name)\n",
    "for sheet_name in xls2.sheet_names:\n",
    "    df[sheet_name] = xls2.parse(sheet_name)\n",
    "for file in tqdm(files[::-1]):\n",
    "    graph = nx.read_gpickle(file)\n",
    "    for sheet_name in xls.sheet_names + xls2.sheet_names:\n",
    "        if re.sub('_0001','',re.sub('matt_preds_graphs_fwhm_single/','',re.sub('_warped_radii.pickle','',re.sub('_warped_radii_forepaw.pickle','',re.sub('xyz','XYZ',file)))).split('-')[1]) in df[sheet_name].values:\n",
    "            subj = sheet_name\n",
    "            if (re.sub('matt_preds_graphs_fwhm_single/','',re.sub('_warped.pickle','',file)).split('-')[0].split(' ') + [''])[0] in sheet_name or (re.sub('matt_preds_graphs_fwhm_single/','',re.sub('_warped.pickle','',file)).split('-')[0].split('_') + [''])[1] in sheet_name:\n",
    "                scan = re.sub('_0001','',re.sub('matt_preds_graphs_fwhm_single/','',re.sub('_warped_radii.pickle','',re.sub('_warped_radii_forepaw.pickle','',re.sub('xyz','XYZ',file)))).split('-')[1])\n",
    "                _ = subj.split('_')[0]\n",
    "                if subj in [\"TBI7_3D\",\n",
    "                            \"SHAM12_3D\",\n",
    "                            \"TBI11_3D\",\n",
    "                            \"SHAM9_3D\",\n",
    "                            \"TBI22_3D\",\n",
    "                            \"TBI31_3D\",\n",
    "                            \"TBI38_3D\",\n",
    "                            \"SHAM09_3D\",\n",
    "                            \"SHAM23_3D\",\n",
    "                            \"SHAM32_3D\",\n",
    "                            'TBI38_3D',\n",
    "                            'TBI6_3D',\n",
    "                            'SHAM7_3D',\n",
    "                            'TBI43_3D',\n",
    "                            'TBI45_3D',\n",
    "                            'SHAM53_3D',\n",
    "                            'SHAM56_3D',\n",
    "                            'SHAM55_3D',\n",
    "                            'SHAM68_3D',\n",
    "                            \"vbm04_3D\",\n",
    "                            \"vbm05_3D\",\n",
    "                            \"vbm06_3D\",\n",
    "                            \"vbm08_3D\",\n",
    "                            \"vbm10_3D\",\n",
    "                            \"SHAM68_3D\",\n",
    "                            \"SHAM76_3D\",\n",
    "                            \"TBI77_3D\",\n",
    "                            \"TBI80_3D\",\n",
    "                            \"TBI78_3D\", \n",
    "                            'SHAM81_3D']:\n",
    "                    gender = 'male'\n",
    "                elif subj in [\"TBI14_3D\",\n",
    "                              \"SHAM17_3D\",\n",
    "                              \"TBI18_3D\",\n",
    "                              \"SHAM20_3D\",\n",
    "                              \"TBI26_3D\",\n",
    "                              \"TBI28_3D\",\n",
    "                              \"SHAM35_3D\",\n",
    "                              \"TBI33_3D\",\n",
    "                              \"TBI40_3D\",\n",
    "                              \"SHAM4_3D\",\n",
    "                              \"TBI51_3D\",\n",
    "                              \"SHAM64_3D\",\n",
    "                              \"SHAM63_3D\",\n",
    "                              \"TBI61_3D\",\n",
    "                              \"TBI48_3D\",\n",
    "                              \"TBI49_3D\",\n",
    "                              \"SHAM67_3D\",\n",
    "                              \"TBI65_3D\",\n",
    "                              \"TBI70_3D\",\n",
    "                              \"SHAM73_3D\",\n",
    "                              \"vbm01_3D\",\n",
    "                              \"vbm02_3D\",\n",
    "                              \"vbm03_3D\",\n",
    "                              \"vbm07_3D\",\n",
    "                              \"vbm09_3D\",\n",
    "                              \"vbm11_3D\"]:\n",
    "                    gender = 'female'\n",
    "                else:\n",
    "                    gender = \"NA\"\n",
    "                    print('no sex listed')\n",
    "                    print(subj)\n",
    "                \n",
    "                if 'vbm' not in _:\n",
    "                    seq_type = type(_)\n",
    "                    dic_key = seq_type().join(filter(seq_type.isdigit,_)) + '-' + scan\n",
    "                elif 'vbm' in _: \n",
    "                    dic_key = '-' + scan\n",
    "                if dic_key in list(dic.keys()):\n",
    "                    _tmp_df = df[subj].loc[df[subj]['CHECK WATER'] ==  scan]\n",
    "                else:\n",
    "                    for key in list(dic.keys()):\n",
    "                        if dic_key in dic[key]:\n",
    "                            _key = key\n",
    "                            _scan = key.split('-')[1]\n",
    "                            _tmp_df = df[subj].loc[df[subj]['CHECK WATER'] ==  _scan]\n",
    "                if 'vbm' in _:\n",
    "                    pre_weight = np.nan\n",
    "                    post_weight = np.nan\n",
    "                elif 'vbm' not in _:\n",
    "                    pre_weight = float(_tmp_df['Unnamed: 16'])\n",
    "                    post_weight = float(_tmp_df['Unnamed: 17'])\n",
    "    nrn_dst = np.load(re.sub('preds_graphs_fwhm_single','raw_warped_single_upsampled_seg',re.sub('_warped_radii.pickle','_warped_seg_nrn_dst.npy',re.sub('_warped_radii_forepaw.pickle','_warped_seg_nrn_dst.npy',file))))\n",
    "    _res = []\n",
    "    for edge in graph.edges:\n",
    "        path = graph[edge[0]][edge[1]]['pts']\n",
    "        _res.append(np.mean(path[:,2]))\n",
    "        _nrn_dst_vals = nrn_dst[path[::-1,0],path[::-1,1],path[::-1,2]]\n",
    "        if not graph[edge[0]][edge[1]]['mean_neuron_distance']==np.mean(_nrn_dst_vals):\n",
    "            print('error')\n",
    "            exit\n",
    "        if np.isnan(graph[edge[0]][edge[1]]['radii']):\n",
    "            _tmp = np.array(graph[edge[0]][edge[1]]['path_weights'])\n",
    "            _tmp[~np.isnan(np.array(graph[edge[0]][edge[1]]['path_weights']))]\n",
    "            graph[edge[0]][edge[1]]['radii'] = np.mean(_tmp[~np.isnan(np.array(graph[edge[0]][edge[1]]['path_weights']))])\n",
    "            graph[edge[0]][edge[1]]['radii_std'] = np.std(_tmp[~np.isnan(np.array(graph[edge[0]][edge[1]]['path_weights']))])\n",
    "        graph[edge[0]][edge[1]]['start_depth'] = _tmp_df['Unnamed: 2'].iloc[0]\n",
    "        graph[edge[0]][edge[1]]['gender'] = gender\n",
    "        graph[edge[0]][edge[1]]['mean_depth'] = np.mean(path[:,2])\n",
    "        graph[edge[0]][edge[1]]['path_weights_nrn'] = _nrn_dst_vals\n",
    "        graph[edge[0]][edge[1]]['start_weight'] = pre_weight\n",
    "        graph[edge[0]][edge[1]]['imaging_weight'] = post_weight\n",
    "    #print(np.max(_res))\n",
    "    #print(gender)\n",
    "    #print(subj)\n",
    "    #print(file)\n",
    "    if subj == \"SHAM73_3D\" and graph[edge[0]][edge[1]]['gender'] == 'male':\n",
    "        error\n",
    "    nx.write_gpickle(graph, re.sub('.pickle','_amended.pickle',file))\n",
    "re.sub('.pickle','_amended.pickle',file)"
   ]
  },
  {
   "cell_type": "code",
   "execution_count": 32,
   "id": "bb541b5c",
   "metadata": {},
   "outputs": [
    {
     "data": {
      "text/plain": [
       "'matt_preds_graphs_fwhm_single/vbm11 Apr 04 2020-XYZres051_warped_radii.pickle'"
      ]
     },
     "execution_count": 32,
     "metadata": {},
     "output_type": "execute_result"
    }
   ],
   "source": [
    "file"
   ]
  },
  {
   "cell_type": "code",
   "execution_count": 24,
   "id": "e50d2316",
   "metadata": {},
   "outputs": [],
   "source": [
    "#list(dic.keys())"
   ]
  },
  {
   "cell_type": "markdown",
   "id": "62668eaf-4bd5-4ed0-b318-4d96e284d986",
   "metadata": {},
   "source": [
    "# Grab labels from James labelled AVC for his data"
   ]
  },
  {
   "cell_type": "code",
   "execution_count": 19,
   "id": "a4618aae-31a1-4bf0-a2ca-4a68c5e676bd",
   "metadata": {},
   "outputs": [
    {
     "name": "stdout",
     "output_type": "stream",
     "text": [
      "792\n"
     ]
    }
   ],
   "source": [
    "folder = Path(\"matt_preds_graphs_fwhm_single\")\n",
    "files = list(folder.glob(\"*_amended.pickle\"))\n",
    "files = [x.as_posix() for x in files]\n",
    "#files = [x for x in files if \"vbm\" in x]\n",
    "files = [x for x in files if \"XYZres006\" not in x]\n",
    "print(len(files))\n",
    "#folder2 = Path(\"../../data/James_labelling_AVC/james_preds/\")\n",
    "#files2 = list(folder2.glob(\"*_AVC.pickle\"))\n",
    "#files2 = sorted([x.as_posix() for x in files2])\n",
    "\n",
    "#print(len(files2))\n",
    "#print(files2[0:5])"
   ]
  },
  {
   "cell_type": "code",
   "execution_count": 22,
   "id": "6b562092-fc60-438c-937c-da24f002e652",
   "metadata": {},
   "outputs": [],
   "source": [
    "#sorted(files)"
   ]
  },
  {
   "cell_type": "code",
   "execution_count": 170,
   "id": "9838e54d-6b3e-4c3f-9de7-c8d944e6ebab",
   "metadata": {},
   "outputs": [
    {
     "data": {
      "text/plain": [
       "[]"
      ]
     },
     "execution_count": 170,
     "metadata": {},
     "output_type": "execute_result"
    }
   ],
   "source": [
    "[x for x in files2 if scan in x]"
   ]
  },
  {
   "cell_type": "code",
   "execution_count": 171,
   "id": "8d00b2f1-6116-45bb-a227-5f9d47844000",
   "metadata": {},
   "outputs": [
    {
     "name": "stderr",
     "output_type": "stream",
     "text": [
      "  5%|▍         | 34/735 [00:02<00:48, 14.37it/s]\n"
     ]
    },
    {
     "ename": "IndexError",
     "evalue": "list index out of range",
     "output_type": "error",
     "traceback": [
      "\u001b[0;31m---------------------------------------------------------------------------\u001b[0m",
      "\u001b[0;31mIndexError\u001b[0m                                Traceback (most recent call last)",
      "\u001b[0;32m/tmp/ipykernel_330288/1572282522.py\u001b[0m in \u001b[0;36m<module>\u001b[0;34m\u001b[0m\n\u001b[1;32m     13\u001b[0m                     \u001b[0m_file\u001b[0m \u001b[0;34m=\u001b[0m \u001b[0mre\u001b[0m\u001b[0;34m.\u001b[0m\u001b[0msub\u001b[0m\u001b[0;34m(\u001b[0m\u001b[0mnp\u001b[0m\u001b[0;34m.\u001b[0m\u001b[0marray\u001b[0m\u001b[0;34m(\u001b[0m\u001b[0mdic\u001b[0m\u001b[0;34m[\u001b[0m\u001b[0mkey\u001b[0m\u001b[0;34m]\u001b[0m\u001b[0;34m)\u001b[0m\u001b[0;34m[\u001b[0m\u001b[0mnp\u001b[0m\u001b[0;34m.\u001b[0m\u001b[0marray\u001b[0m\u001b[0;34m(\u001b[0m\u001b[0;34m[\u001b[0m\u001b[0my\u001b[0m \u001b[0;32min\u001b[0m \u001b[0mfile\u001b[0m \u001b[0;32mfor\u001b[0m \u001b[0my\u001b[0m \u001b[0;32min\u001b[0m \u001b[0mdic\u001b[0m\u001b[0;34m[\u001b[0m\u001b[0mkey\u001b[0m\u001b[0;34m]\u001b[0m\u001b[0;34m]\u001b[0m\u001b[0;34m)\u001b[0m\u001b[0;34m]\u001b[0m\u001b[0;34m[\u001b[0m\u001b[0;36m0\u001b[0m\u001b[0;34m]\u001b[0m\u001b[0;34m,\u001b[0m\u001b[0mkey\u001b[0m\u001b[0;34m,\u001b[0m\u001b[0mfile\u001b[0m\u001b[0;34m)\u001b[0m\u001b[0;34m\u001b[0m\u001b[0;34m\u001b[0m\u001b[0m\n\u001b[1;32m     14\u001b[0m                     \u001b[0m_scan\u001b[0m \u001b[0;34m=\u001b[0m \u001b[0m_file\u001b[0m\u001b[0;34m.\u001b[0m\u001b[0msplit\u001b[0m\u001b[0;34m(\u001b[0m\u001b[0;34m'-'\u001b[0m\u001b[0;34m)\u001b[0m\u001b[0;34m[\u001b[0m\u001b[0;36m1\u001b[0m\u001b[0;34m]\u001b[0m\u001b[0;34m.\u001b[0m\u001b[0msplit\u001b[0m\u001b[0;34m(\u001b[0m\u001b[0;34m'_'\u001b[0m\u001b[0;34m)\u001b[0m\u001b[0;34m[\u001b[0m\u001b[0;36m0\u001b[0m\u001b[0;34m]\u001b[0m\u001b[0;34m\u001b[0m\u001b[0;34m\u001b[0m\u001b[0m\n\u001b[0;32m---> 15\u001b[0;31m                     \u001b[0mAVC_file\u001b[0m \u001b[0;34m=\u001b[0m \u001b[0;34m[\u001b[0m\u001b[0mx\u001b[0m \u001b[0;32mfor\u001b[0m \u001b[0mx\u001b[0m \u001b[0;32min\u001b[0m \u001b[0mfiles2\u001b[0m \u001b[0;32mif\u001b[0m \u001b[0m_scan\u001b[0m \u001b[0;32min\u001b[0m \u001b[0mx\u001b[0m\u001b[0;34m]\u001b[0m\u001b[0;34m[\u001b[0m\u001b[0;36m0\u001b[0m\u001b[0;34m]\u001b[0m\u001b[0;34m\u001b[0m\u001b[0;34m\u001b[0m\u001b[0m\n\u001b[0m\u001b[1;32m     16\u001b[0m         \u001b[0mgraph_AVC\u001b[0m \u001b[0;34m=\u001b[0m \u001b[0mnx\u001b[0m\u001b[0;34m.\u001b[0m\u001b[0mread_gpickle\u001b[0m\u001b[0;34m(\u001b[0m\u001b[0mAVC_file\u001b[0m\u001b[0;34m)\u001b[0m\u001b[0;34m\u001b[0m\u001b[0;34m\u001b[0m\u001b[0m\n\u001b[1;32m     17\u001b[0m         \u001b[0;32mbreak\u001b[0m\u001b[0;34m\u001b[0m\u001b[0;34m\u001b[0m\u001b[0m\n",
      "\u001b[0;31mIndexError\u001b[0m: list index out of range"
     ]
    }
   ],
   "source": [
    "for file in tqdm(files):\n",
    "    graph_1 = nx.read_gpickle(file)\n",
    "    scan = file.split('-')[1].split('_')[0]\n",
    "    res = np.array([[0,0,0]])\n",
    "    if len([x for x in files2 if scan in x]) == 1:\n",
    "        keys = list(dic.keys())\n",
    "        keys = [re.sub('-','',x) for x in keys if len(x) == 10] + ['XYZres007']\n",
    "        if any(y in [x for x in files2 if scan in x][0] for y in keys):\n",
    "            AVC_file = [x for x in files2 if scan in x][0]\n",
    "        else:\n",
    "            for key in list(dic.keys()):\n",
    "                if any(y in file for y in dic[key]):\n",
    "                    _file = re.sub(np.array(dic[key])[np.array([y in file for y in dic[key]])][0],key,file)\n",
    "                    _scan = _file.split('-')[1].split('_')[0]\n",
    "                    AVC_file = [x for x in files2 if _scan in x][0]\n",
    "        graph_AVC = nx.read_gpickle(AVC_file)\n",
    "        break\n",
    "        skel_1 = np.zeros((252,507,507))\n",
    "        mask_1 = np.zeros((252,507,507))\n",
    "        for edge in graph_AVC.edges:\n",
    "            pts = graph_AVC[edge[0]][edge[1]]['pts']\n",
    "            #res = np.concatenate((res,pts),axis=0)\n",
    "            skel_1[pts[::-1,0],pts[::-1,1],pts[::-1,2]] = graph_AVC[edge[0]][edge[1]]['A_V_C'] + 1\n",
    "            pts = graph_AVC[edge[0]][edge[1]]['pts_0001']\n",
    "            skel_1[pts[::-1,0],pts[::-1,1],pts[::-1,2]] = graph_AVC[edge[0]][edge[1]]['A_V_C'] + 1\n",
    "            #print(graph_AVC[edge[0]][edge[1]]['A_V_C'] + 1)\n",
    "        for i in [3,2,1]:\n",
    "            mask_1[binary_dilation(skel_1==i, iterations=5)] = i\n",
    "        mask_1 = resize(mask_1,(254,512,512),order=0)\n",
    "        mask_1 = np.swapaxes(mask_1,0,2)\n",
    "        for edge in graph_1.edges:\n",
    "            pts = graph_1[edge[0]][edge[1]]['pts']\n",
    "            #res = np.concatenate((res,pts),axis=0)\n",
    "            AVC = mask_1[pts[::-1,0],pts[::-1,1],pts[::-1,2]]\n",
    "            mean = np.mean(AVC[AVC!=0])\n",
    "            if ~np.isnan(mean) and mean//1 == mean:\n",
    "                graph_1[edge[0]][edge[1]]['A_V_C'] = mean - 1\n",
    "            elif np.isnan(mean):\n",
    "                graph_1[edge[0]][edge[1]]['A_V_C'] = 2\n",
    "            else:\n",
    "                _mode = mode(AVC)\n",
    "                if _mode != 0:\n",
    "                    graph_1[edge[0]][edge[1]]['A_V_C'] = _mode - 1\n",
    "                else:\n",
    "                    graph_1[edge[0]][edge[1]]['A_V_C'] = 2\n",
    "        #nx.write_gpickle(graph_1, re.sub('.pickle','_AVC.pickle',file))\n",
    "        #print(np.max(res,axis=0))"
   ]
  },
  {
   "cell_type": "code",
   "execution_count": 33,
   "id": "46a2cc95-2357-4abc-a472-d7a50d31099d",
   "metadata": {},
   "outputs": [
    {
     "data": {
      "text/plain": [
       "'matt_preds_graphs_fwhm_single/vbm04 Feb 27 2020-XYZres014_0001_warped_radii_amended_AVC.pickle'"
      ]
     },
     "execution_count": 33,
     "metadata": {},
     "output_type": "execute_result"
    }
   ],
   "source": [
    "re.sub('.pickle','_AVC.pickle',file)"
   ]
  },
  {
   "cell_type": "markdown",
   "id": "11a030df-efa9-423e-a04f-3ffaa8af8238",
   "metadata": {},
   "source": [
    "# Get Graphs"
   ]
  },
  {
   "cell_type": "code",
   "execution_count": 26,
   "id": "f41d6baa-288c-4100-88b1-20bdc98c8303",
   "metadata": {},
   "outputs": [
    {
     "name": "stdout",
     "output_type": "stream",
     "text": [
      "matt_preds_graphs_fwhm_single/20230426_01-XYZres433_0001_warped_radii_amended.pickle\n",
      "51\n"
     ]
    }
   ],
   "source": [
    "graph_folder = Path('matt_preds_graphs_fwhm_single')\n",
    "graphs = sorted(list(graph_folder.glob(\"*_amended.pickle\")))\n",
    "graphs = [x.as_posix() for x in graphs]\n",
    "graphs = [x for x in graphs if any(y in x for y in ['_01','_02','_03','_04'])]\n",
    "print(graphs[0])\n",
    "print(len(graphs))"
   ]
  },
  {
   "cell_type": "code",
   "execution_count": 28,
   "id": "5e0d2cb7-71c7-45ac-8070-c702a160d214",
   "metadata": {},
   "outputs": [],
   "source": [
    "#sorted(graphs)"
   ]
  },
  {
   "cell_type": "code",
   "execution_count": 36,
   "id": "f872f156-2c77-4ae6-beff-cde99dc90205",
   "metadata": {},
   "outputs": [
    {
     "name": "stdout",
     "output_type": "stream",
     "text": [
      "matt_preds_graphs_fwhm_single/vbm03 Feb 26 2020-XYZres007_0001_warped_radii_amended_AVC.pickle\n",
      "84\n"
     ]
    },
    {
     "name": "stderr",
     "output_type": "stream",
     "text": [
      "100%|██████████| 84/84 [01:11<00:00,  1.17it/s]\n"
     ]
    }
   ],
   "source": [
    "graph_folder = Path('matt_preds_graphs_fwhm_single')\n",
    "graphs = sorted(list(graph_folder.glob(\"*_amended_AVC.pickle\")))\n",
    "graphs = [x.as_posix() for x in graphs]\n",
    "graph = 0\n",
    "print(graphs[0])\n",
    "print(len(graphs))\n",
    "for file in tqdm(graphs):\n",
    "    del graph\n",
    "    graph = nx.read_gpickle(file)\n",
    "    edges = list(graph.edges)\n",
    "    for i in range(len(edges)):\n",
    "        if graph[edges[i][0]][edges[i][1]]['A_V_C'] == 0:\n",
    "            graph[edges[i][0]][edges[i][1]]['branch order'] = 0\n",
    "        else:\n",
    "            graph[edges[i][0]][edges[i][1]]['branch order'] = 'NA'\n",
    "    edges_start = [x for x in list(graph.edges) if graph[x[0]][x[1]]['branch order'] == 0 ]\n",
    "    order = 1\n",
    "    while len(edges_start) != 0:\n",
    "        for edge in edges_start:\n",
    "            neighbors = [x for x in graph.neighbors(edge[0]) if x != edge[1]]\n",
    "            if len(neighbors) != 0:\n",
    "                for i in neighbors:\n",
    "                    if graph[edge[0]][i]['branch order'] == 'NA' and graph[edge[0]][i]['A_V_C'] != 1:\n",
    "                        graph[edge[0]][i]['branch order'] = order\n",
    "            neighbors = [x for x in graph.neighbors(edge[1]) if x != edge[0]]\n",
    "            if len(neighbors) != 0:\n",
    "                for i in neighbors:\n",
    "                    if graph[edge[1]][i]['branch order'] == 'NA':\n",
    "                        graph[edge[1]][i]['branch order'] = order\n",
    "        edges_start = []\n",
    "        edges_start = [x for x in list(graph.edges) if graph[x[0]][x[1]]['branch order'] == order ]\n",
    "        order += 1\n",
    "        #print(order)\n",
    "    \n",
    "    #######################################################################\n",
    "    # Vein order\n",
    "    #######################################################################\n",
    "    \n",
    "    for i in range(len(edges)):\n",
    "        if graph[edges[i][0]][edges[i][1]]['A_V_C'] == 1:\n",
    "            graph[edges[i][0]][edges[i][1]]['branch order from vein'] = 0\n",
    "        else:\n",
    "            graph[edges[i][0]][edges[i][1]]['branch order from vein'] = 'NA'\n",
    "    edges_start = [x for x in list(graph.edges) if graph[x[0]][x[1]]['branch order from vein'] == 0 ]\n",
    "    order = -1\n",
    "    while len(edges_start) != 0:\n",
    "        for edge in edges_start:\n",
    "            neighbors = [x for x in graph.neighbors(edge[0]) if x != edge[1]]\n",
    "            if len(neighbors) != 0:\n",
    "                for i in neighbors:\n",
    "                    if graph[edge[0]][i]['branch order from vein'] == 'NA' and graph[edge[0]][i]['A_V_C'] != 0:\n",
    "                        graph[edge[0]][i]['branch order from vein'] = order\n",
    "            neighbors = [x for x in graph.neighbors(edge[1]) if x != edge[0]]\n",
    "            if len(neighbors) != 0:\n",
    "                for i in neighbors:\n",
    "                    if graph[edge[1]][i]['branch order from vein'] == 'NA':\n",
    "                        graph[edge[1]][i]['branch order from vein'] = order\n",
    "        edges_start = []\n",
    "        edges_start = [x for x in list(graph.edges) if graph[x[0]][x[1]]['branch order from vein'] == order ]\n",
    "        order -= 1\n",
    "        #print(order)\n",
    "    \n",
    "    \n",
    "    df = nx.to_pandas_edgelist(graph)\n",
    "    df.to_excel(re.sub('.pickle','_with_branch_order.xlsx',file))\n",
    "    nx.write_gpickle(graph,re.sub('.pickle','_with_branch_order.pickle',file))\n",
    "    #print(len(graph.edges))"
   ]
  },
  {
   "cell_type": "markdown",
   "id": "b7a08c0b-01e5-456a-950c-3d5050da35f2",
   "metadata": {},
   "source": [
    "# Combine graphs into single pickle files"
   ]
  },
  {
   "cell_type": "code",
   "execution_count": 43,
   "id": "c7271f5b-05ef-40a6-9b05-99bf645f8f09",
   "metadata": {},
   "outputs": [
    {
     "name": "stdout",
     "output_type": "stream",
     "text": [
      "[]\n",
      "0\n",
      "51\n"
     ]
    }
   ],
   "source": [
    "directory_seg = Path('matt_raw_warped_single_upsampled_seg')\n",
    "images = list(directory_seg.glob('*_0001_warped_seg.npy'))\n",
    "#print(len(images))\n",
    "images = sorted([x.as_posix() for x in images])\n",
    "#print(len(images))\n",
    "images = [x for x in images if os.path.exists(re.sub('_0001','',x))]\n",
    "#print(len(images))\n",
    "images = [x for x in images if  any(y in x for y in list(dic.keys()))]\n",
    "#print(len(images))\n",
    "images = [re.sub('_0001','',x) for x in images]\n",
    "images = [x for x in images if '51-XYZres297' not in x]\n",
    "images = [x for x in images if '04-XYZres468' not in x]\n",
    "images = [x for x in images if '02-XYZres448' not in x]\n",
    "images = [x for x in images if '11-XYZres93' not in x]\n",
    "images = [x for x in images if any(y in x for y in ['_01','_02','_03','_04'])]\n",
    "#images = [x for x in images if 'vbm']\n",
    "#images = [x for x in images if '11-' in x]\n",
    "#images = [x for x in images if '006' not in x]\n",
    "print(images[0:5])\n",
    "print(len(images))\n",
    "directory = Path('matt_preds_graphs_fwhm_single')\n",
    "files = directory.glob('*_amended.pickle')\n",
    "#files = directory.glob('*_with_branch_order.pickle')\n",
    "files = sorted([x.as_posix() for x in files])\n",
    "files = [x for x in files if any(y in x for y in ['_01','_02','_03','_04'])] #just grab c57 mice\n",
    "print(len(files))\n",
    "#files"
   ]
  },
  {
   "cell_type": "code",
   "execution_count": 39,
   "id": "34be5767-ed53-4b74-bf7e-bbf9d284fe72",
   "metadata": {},
   "outputs": [],
   "source": [
    "#os.path.exists(re.sub('_seg.npy','_radii_amended_AVC_with_branch_order.pickle',re.sub('raw_warped_single_upsampled_seg','preds_graphs_fwhm_single',image)))"
   ]
  },
  {
   "cell_type": "code",
   "execution_count": 40,
   "id": "a49a734f-9ff1-4614-8bef-83c4b53a3377",
   "metadata": {},
   "outputs": [],
   "source": [
    "#os.path.exists(re.sub('_seg.npy','_radii_amended.pickle',re.sub('raw_warped_single_upsampled_seg','preds_graphs_fwhm_single',image)))"
   ]
  },
  {
   "cell_type": "code",
   "execution_count": 41,
   "id": "440d51b1-a806-41f1-8782-3497f4428374",
   "metadata": {},
   "outputs": [],
   "source": [
    "pool=0\n",
    "del pool"
   ]
  },
  {
   "cell_type": "code",
   "execution_count": 42,
   "id": "aaded14b-a7de-4030-bb4e-0c345e2497fb",
   "metadata": {},
   "outputs": [
    {
     "name": "stderr",
     "output_type": "stream",
     "text": [
      "  0%|          | 0/1 [00:10<?, ?it/s]Process ForkPoolWorker-8:\n",
      "Process ForkPoolWorker-12:\n",
      "Process ForkPoolWorker-3:\n",
      "Process ForkPoolWorker-7:\n",
      "Process ForkPoolWorker-10:\n",
      "Process ForkPoolWorker-5:\n",
      "Process ForkPoolWorker-4:\n",
      "Process ForkPoolWorker-15:\n",
      "Process ForkPoolWorker-11:\n",
      "Process ForkPoolWorker-9:\n",
      "Process ForkPoolWorker-6:\n",
      "Process ForkPoolWorker-14:\n",
      "Process ForkPoolWorker-2:\n",
      "Process ForkPoolWorker-13:\n",
      "Process ForkPoolWorker-16:\n",
      "\n"
     ]
    },
    {
     "ename": "KeyboardInterrupt",
     "evalue": "",
     "output_type": "error",
     "traceback": [
      "\u001b[0;31m---------------------------------------------------------------------------\u001b[0m",
      "\u001b[0;31mKeyboardInterrupt\u001b[0m                         Traceback (most recent call last)",
      "\u001b[0;32m/tmp/ipykernel_446294/1984820060.py\u001b[0m in \u001b[0;36m<module>\u001b[0;34m\u001b[0m\n\u001b[1;32m     57\u001b[0m         \u001b[0;32mreturn\u001b[0m \u001b[0m_mut_info\u001b[0m\u001b[0;34m\u001b[0m\u001b[0;34m\u001b[0m\u001b[0m\n\u001b[1;32m     58\u001b[0m     \u001b[0mpool\u001b[0m \u001b[0;34m=\u001b[0m \u001b[0mmultiprocessing\u001b[0m\u001b[0;34m.\u001b[0m\u001b[0mPool\u001b[0m\u001b[0;34m(\u001b[0m\u001b[0;36m16\u001b[0m\u001b[0;34m)\u001b[0m\u001b[0;34m\u001b[0m\u001b[0;34m\u001b[0m\u001b[0m\n\u001b[0;32m---> 59\u001b[0;31m     \u001b[0mpool\u001b[0m\u001b[0;34m.\u001b[0m\u001b[0mmap\u001b[0m\u001b[0;34m(\u001b[0m\u001b[0mprocess_file\u001b[0m\u001b[0;34m,\u001b[0m \u001b[0mmov_files\u001b[0m\u001b[0;34m)\u001b[0m\u001b[0;34m\u001b[0m\u001b[0;34m\u001b[0m\u001b[0m\n\u001b[0m\u001b[1;32m     60\u001b[0m     \u001b[0;31m#for i in mov_files:\u001b[0m\u001b[0;34m\u001b[0m\u001b[0;34m\u001b[0m\u001b[0;34m\u001b[0m\u001b[0m\n\u001b[1;32m     61\u001b[0m     \u001b[0;31m#    img_0001 = np.load(i)\u001b[0m\u001b[0;34m\u001b[0m\u001b[0;34m\u001b[0m\u001b[0;34m\u001b[0m\u001b[0m\n",
      "\u001b[0;32m/cvmfs/soft.computecanada.ca/easybuild/software/2020/avx2/Core/python/3.8.10/lib/python3.8/multiprocessing/pool.py\u001b[0m in \u001b[0;36mmap\u001b[0;34m(self, func, iterable, chunksize)\u001b[0m\n\u001b[1;32m    362\u001b[0m         \u001b[0;32min\u001b[0m \u001b[0ma\u001b[0m \u001b[0mlist\u001b[0m \u001b[0mthat\u001b[0m \u001b[0;32mis\u001b[0m \u001b[0mreturned\u001b[0m\u001b[0;34m.\u001b[0m\u001b[0;34m\u001b[0m\u001b[0;34m\u001b[0m\u001b[0m\n\u001b[1;32m    363\u001b[0m         '''\n\u001b[0;32m--> 364\u001b[0;31m         \u001b[0;32mreturn\u001b[0m \u001b[0mself\u001b[0m\u001b[0;34m.\u001b[0m\u001b[0m_map_async\u001b[0m\u001b[0;34m(\u001b[0m\u001b[0mfunc\u001b[0m\u001b[0;34m,\u001b[0m \u001b[0miterable\u001b[0m\u001b[0;34m,\u001b[0m \u001b[0mmapstar\u001b[0m\u001b[0;34m,\u001b[0m \u001b[0mchunksize\u001b[0m\u001b[0;34m)\u001b[0m\u001b[0;34m.\u001b[0m\u001b[0mget\u001b[0m\u001b[0;34m(\u001b[0m\u001b[0;34m)\u001b[0m\u001b[0;34m\u001b[0m\u001b[0;34m\u001b[0m\u001b[0m\n\u001b[0m\u001b[1;32m    365\u001b[0m \u001b[0;34m\u001b[0m\u001b[0m\n\u001b[1;32m    366\u001b[0m     \u001b[0;32mdef\u001b[0m \u001b[0mstarmap\u001b[0m\u001b[0;34m(\u001b[0m\u001b[0mself\u001b[0m\u001b[0;34m,\u001b[0m \u001b[0mfunc\u001b[0m\u001b[0;34m,\u001b[0m \u001b[0miterable\u001b[0m\u001b[0;34m,\u001b[0m \u001b[0mchunksize\u001b[0m\u001b[0;34m=\u001b[0m\u001b[0;32mNone\u001b[0m\u001b[0;34m)\u001b[0m\u001b[0;34m:\u001b[0m\u001b[0;34m\u001b[0m\u001b[0;34m\u001b[0m\u001b[0m\n",
      "\u001b[0;32m/cvmfs/soft.computecanada.ca/easybuild/software/2020/avx2/Core/python/3.8.10/lib/python3.8/multiprocessing/pool.py\u001b[0m in \u001b[0;36mget\u001b[0;34m(self, timeout)\u001b[0m\n\u001b[1;32m    763\u001b[0m \u001b[0;34m\u001b[0m\u001b[0m\n\u001b[1;32m    764\u001b[0m     \u001b[0;32mdef\u001b[0m \u001b[0mget\u001b[0m\u001b[0;34m(\u001b[0m\u001b[0mself\u001b[0m\u001b[0;34m,\u001b[0m \u001b[0mtimeout\u001b[0m\u001b[0;34m=\u001b[0m\u001b[0;32mNone\u001b[0m\u001b[0;34m)\u001b[0m\u001b[0;34m:\u001b[0m\u001b[0;34m\u001b[0m\u001b[0;34m\u001b[0m\u001b[0m\n\u001b[0;32m--> 765\u001b[0;31m         \u001b[0mself\u001b[0m\u001b[0;34m.\u001b[0m\u001b[0mwait\u001b[0m\u001b[0;34m(\u001b[0m\u001b[0mtimeout\u001b[0m\u001b[0;34m)\u001b[0m\u001b[0;34m\u001b[0m\u001b[0;34m\u001b[0m\u001b[0m\n\u001b[0m\u001b[1;32m    766\u001b[0m         \u001b[0;32mif\u001b[0m \u001b[0;32mnot\u001b[0m \u001b[0mself\u001b[0m\u001b[0;34m.\u001b[0m\u001b[0mready\u001b[0m\u001b[0;34m(\u001b[0m\u001b[0;34m)\u001b[0m\u001b[0;34m:\u001b[0m\u001b[0;34m\u001b[0m\u001b[0;34m\u001b[0m\u001b[0m\n\u001b[1;32m    767\u001b[0m             \u001b[0;32mraise\u001b[0m \u001b[0mTimeoutError\u001b[0m\u001b[0;34m\u001b[0m\u001b[0;34m\u001b[0m\u001b[0m\n",
      "\u001b[0;32m/cvmfs/soft.computecanada.ca/easybuild/software/2020/avx2/Core/python/3.8.10/lib/python3.8/multiprocessing/pool.py\u001b[0m in \u001b[0;36mwait\u001b[0;34m(self, timeout)\u001b[0m\n\u001b[1;32m    760\u001b[0m \u001b[0;34m\u001b[0m\u001b[0m\n\u001b[1;32m    761\u001b[0m     \u001b[0;32mdef\u001b[0m \u001b[0mwait\u001b[0m\u001b[0;34m(\u001b[0m\u001b[0mself\u001b[0m\u001b[0;34m,\u001b[0m \u001b[0mtimeout\u001b[0m\u001b[0;34m=\u001b[0m\u001b[0;32mNone\u001b[0m\u001b[0;34m)\u001b[0m\u001b[0;34m:\u001b[0m\u001b[0;34m\u001b[0m\u001b[0;34m\u001b[0m\u001b[0m\n\u001b[0;32m--> 762\u001b[0;31m         \u001b[0mself\u001b[0m\u001b[0;34m.\u001b[0m\u001b[0m_event\u001b[0m\u001b[0;34m.\u001b[0m\u001b[0mwait\u001b[0m\u001b[0;34m(\u001b[0m\u001b[0mtimeout\u001b[0m\u001b[0;34m)\u001b[0m\u001b[0;34m\u001b[0m\u001b[0;34m\u001b[0m\u001b[0m\n\u001b[0m\u001b[1;32m    763\u001b[0m \u001b[0;34m\u001b[0m\u001b[0m\n\u001b[1;32m    764\u001b[0m     \u001b[0;32mdef\u001b[0m \u001b[0mget\u001b[0m\u001b[0;34m(\u001b[0m\u001b[0mself\u001b[0m\u001b[0;34m,\u001b[0m \u001b[0mtimeout\u001b[0m\u001b[0;34m=\u001b[0m\u001b[0;32mNone\u001b[0m\u001b[0;34m)\u001b[0m\u001b[0;34m:\u001b[0m\u001b[0;34m\u001b[0m\u001b[0;34m\u001b[0m\u001b[0m\n",
      "\u001b[0;32m/cvmfs/soft.computecanada.ca/easybuild/software/2020/avx2/Core/python/3.8.10/lib/python3.8/threading.py\u001b[0m in \u001b[0;36mwait\u001b[0;34m(self, timeout)\u001b[0m\n\u001b[1;32m    556\u001b[0m             \u001b[0msignaled\u001b[0m \u001b[0;34m=\u001b[0m \u001b[0mself\u001b[0m\u001b[0;34m.\u001b[0m\u001b[0m_flag\u001b[0m\u001b[0;34m\u001b[0m\u001b[0;34m\u001b[0m\u001b[0m\n\u001b[1;32m    557\u001b[0m             \u001b[0;32mif\u001b[0m \u001b[0;32mnot\u001b[0m \u001b[0msignaled\u001b[0m\u001b[0;34m:\u001b[0m\u001b[0;34m\u001b[0m\u001b[0;34m\u001b[0m\u001b[0m\n\u001b[0;32m--> 558\u001b[0;31m                 \u001b[0msignaled\u001b[0m \u001b[0;34m=\u001b[0m \u001b[0mself\u001b[0m\u001b[0;34m.\u001b[0m\u001b[0m_cond\u001b[0m\u001b[0;34m.\u001b[0m\u001b[0mwait\u001b[0m\u001b[0;34m(\u001b[0m\u001b[0mtimeout\u001b[0m\u001b[0;34m)\u001b[0m\u001b[0;34m\u001b[0m\u001b[0;34m\u001b[0m\u001b[0m\n\u001b[0m\u001b[1;32m    559\u001b[0m             \u001b[0;32mreturn\u001b[0m \u001b[0msignaled\u001b[0m\u001b[0;34m\u001b[0m\u001b[0;34m\u001b[0m\u001b[0m\n\u001b[1;32m    560\u001b[0m \u001b[0;34m\u001b[0m\u001b[0m\n",
      "\u001b[0;32m/cvmfs/soft.computecanada.ca/easybuild/software/2020/avx2/Core/python/3.8.10/lib/python3.8/threading.py\u001b[0m in \u001b[0;36mwait\u001b[0;34m(self, timeout)\u001b[0m\n\u001b[1;32m    300\u001b[0m         \u001b[0;32mtry\u001b[0m\u001b[0;34m:\u001b[0m    \u001b[0;31m# restore state no matter what (e.g., KeyboardInterrupt)\u001b[0m\u001b[0;34m\u001b[0m\u001b[0;34m\u001b[0m\u001b[0m\n\u001b[1;32m    301\u001b[0m             \u001b[0;32mif\u001b[0m \u001b[0mtimeout\u001b[0m \u001b[0;32mis\u001b[0m \u001b[0;32mNone\u001b[0m\u001b[0;34m:\u001b[0m\u001b[0;34m\u001b[0m\u001b[0;34m\u001b[0m\u001b[0m\n\u001b[0;32m--> 302\u001b[0;31m                 \u001b[0mwaiter\u001b[0m\u001b[0;34m.\u001b[0m\u001b[0macquire\u001b[0m\u001b[0;34m(\u001b[0m\u001b[0;34m)\u001b[0m\u001b[0;34m\u001b[0m\u001b[0;34m\u001b[0m\u001b[0m\n\u001b[0m\u001b[1;32m    303\u001b[0m                 \u001b[0mgotit\u001b[0m \u001b[0;34m=\u001b[0m \u001b[0;32mTrue\u001b[0m\u001b[0;34m\u001b[0m\u001b[0;34m\u001b[0m\u001b[0m\n\u001b[1;32m    304\u001b[0m             \u001b[0;32melse\u001b[0m\u001b[0;34m:\u001b[0m\u001b[0;34m\u001b[0m\u001b[0;34m\u001b[0m\u001b[0m\n",
      "\u001b[0;31mKeyboardInterrupt\u001b[0m: "
     ]
    },
    {
     "name": "stderr",
     "output_type": "stream",
     "text": [
      "Traceback (most recent call last):\n",
      "Traceback (most recent call last):\n",
      "Traceback (most recent call last):\n",
      "Traceback (most recent call last):\n",
      "Traceback (most recent call last):\n",
      "Traceback (most recent call last):\n",
      "Traceback (most recent call last):\n",
      "Traceback (most recent call last):\n",
      "Traceback (most recent call last):\n",
      "Traceback (most recent call last):\n",
      "Traceback (most recent call last):\n",
      "Traceback (most recent call last):\n",
      "Traceback (most recent call last):\n",
      "  File \"/cvmfs/soft.computecanada.ca/easybuild/software/2020/avx2/Core/python/3.8.10/lib/python3.8/multiprocessing/process.py\", line 315, in _bootstrap\n",
      "    self.run()\n",
      "  File \"/cvmfs/soft.computecanada.ca/easybuild/software/2020/avx2/Core/python/3.8.10/lib/python3.8/multiprocessing/process.py\", line 315, in _bootstrap\n",
      "    self.run()\n",
      "  File \"/cvmfs/soft.computecanada.ca/easybuild/software/2020/avx2/Core/python/3.8.10/lib/python3.8/multiprocessing/process.py\", line 315, in _bootstrap\n",
      "    self.run()\n",
      "  File \"/cvmfs/soft.computecanada.ca/easybuild/software/2020/avx2/Core/python/3.8.10/lib/python3.8/multiprocessing/process.py\", line 315, in _bootstrap\n",
      "    self.run()\n",
      "  File \"/cvmfs/soft.computecanada.ca/easybuild/software/2020/avx2/Core/python/3.8.10/lib/python3.8/multiprocessing/process.py\", line 315, in _bootstrap\n",
      "    self.run()\n",
      "  File \"/cvmfs/soft.computecanada.ca/easybuild/software/2020/avx2/Core/python/3.8.10/lib/python3.8/multiprocessing/process.py\", line 315, in _bootstrap\n",
      "    self.run()\n",
      "  File \"/cvmfs/soft.computecanada.ca/easybuild/software/2020/avx2/Core/python/3.8.10/lib/python3.8/multiprocessing/process.py\", line 108, in run\n",
      "    self._target(*self._args, **self._kwargs)\n",
      "  File \"/cvmfs/soft.computecanada.ca/easybuild/software/2020/avx2/Core/python/3.8.10/lib/python3.8/multiprocessing/process.py\", line 315, in _bootstrap\n",
      "    self.run()\n",
      "  File \"/cvmfs/soft.computecanada.ca/easybuild/software/2020/avx2/Core/python/3.8.10/lib/python3.8/multiprocessing/process.py\", line 315, in _bootstrap\n",
      "    self.run()\n",
      "  File \"/cvmfs/soft.computecanada.ca/easybuild/software/2020/avx2/Core/python/3.8.10/lib/python3.8/multiprocessing/process.py\", line 315, in _bootstrap\n",
      "    self.run()\n",
      "  File \"/cvmfs/soft.computecanada.ca/easybuild/software/2020/avx2/Core/python/3.8.10/lib/python3.8/multiprocessing/process.py\", line 315, in _bootstrap\n",
      "    self.run()\n",
      "  File \"/cvmfs/soft.computecanada.ca/easybuild/software/2020/avx2/Core/python/3.8.10/lib/python3.8/multiprocessing/process.py\", line 315, in _bootstrap\n",
      "    self.run()\n",
      "  File \"/cvmfs/soft.computecanada.ca/easybuild/software/2020/avx2/Core/python/3.8.10/lib/python3.8/multiprocessing/process.py\", line 108, in run\n",
      "    self._target(*self._args, **self._kwargs)\n",
      "  File \"/cvmfs/soft.computecanada.ca/easybuild/software/2020/avx2/Core/python/3.8.10/lib/python3.8/multiprocessing/process.py\", line 108, in run\n",
      "    self._target(*self._args, **self._kwargs)\n",
      "  File \"/cvmfs/soft.computecanada.ca/easybuild/software/2020/avx2/Core/python/3.8.10/lib/python3.8/multiprocessing/process.py\", line 315, in _bootstrap\n",
      "    self.run()\n",
      "  File \"/cvmfs/soft.computecanada.ca/easybuild/software/2020/avx2/Core/python/3.8.10/lib/python3.8/multiprocessing/process.py\", line 108, in run\n",
      "    self._target(*self._args, **self._kwargs)\n",
      "  File \"/cvmfs/soft.computecanada.ca/easybuild/software/2020/avx2/Core/python/3.8.10/lib/python3.8/multiprocessing/process.py\", line 108, in run\n",
      "    self._target(*self._args, **self._kwargs)\n",
      "  File \"/cvmfs/soft.computecanada.ca/easybuild/software/2020/avx2/Core/python/3.8.10/lib/python3.8/multiprocessing/pool.py\", line 114, in worker\n",
      "    task = get()\n",
      "  File \"/cvmfs/soft.computecanada.ca/easybuild/software/2020/avx2/Core/python/3.8.10/lib/python3.8/multiprocessing/pool.py\", line 114, in worker\n",
      "    task = get()\n",
      "Traceback (most recent call last):\n",
      "  File \"/cvmfs/soft.computecanada.ca/easybuild/software/2020/avx2/Core/python/3.8.10/lib/python3.8/multiprocessing/process.py\", line 108, in run\n",
      "    self._target(*self._args, **self._kwargs)\n",
      "  File \"/cvmfs/soft.computecanada.ca/easybuild/software/2020/avx2/Core/python/3.8.10/lib/python3.8/multiprocessing/pool.py\", line 114, in worker\n",
      "    task = get()\n",
      "  File \"/cvmfs/soft.computecanada.ca/easybuild/software/2020/avx2/Core/python/3.8.10/lib/python3.8/multiprocessing/process.py\", line 108, in run\n",
      "    self._target(*self._args, **self._kwargs)\n",
      "  File \"/cvmfs/soft.computecanada.ca/easybuild/software/2020/avx2/Core/python/3.8.10/lib/python3.8/multiprocessing/process.py\", line 108, in run\n",
      "    self._target(*self._args, **self._kwargs)\n",
      "  File \"/cvmfs/soft.computecanada.ca/easybuild/software/2020/avx2/Core/python/3.8.10/lib/python3.8/multiprocessing/process.py\", line 108, in run\n",
      "    self._target(*self._args, **self._kwargs)\n",
      "  File \"/cvmfs/soft.computecanada.ca/easybuild/software/2020/avx2/Core/python/3.8.10/lib/python3.8/multiprocessing/process.py\", line 315, in _bootstrap\n",
      "    self.run()\n",
      "  File \"/cvmfs/soft.computecanada.ca/easybuild/software/2020/avx2/Core/python/3.8.10/lib/python3.8/multiprocessing/process.py\", line 108, in run\n",
      "    self._target(*self._args, **self._kwargs)\n",
      "  File \"/cvmfs/soft.computecanada.ca/easybuild/software/2020/avx2/Core/python/3.8.10/lib/python3.8/multiprocessing/queues.py\", line 355, in get\n",
      "    with self._rlock:\n",
      "  File \"/cvmfs/soft.computecanada.ca/easybuild/software/2020/avx2/Core/python/3.8.10/lib/python3.8/multiprocessing/pool.py\", line 114, in worker\n",
      "    task = get()\n",
      "  File \"/cvmfs/soft.computecanada.ca/easybuild/software/2020/avx2/Core/python/3.8.10/lib/python3.8/multiprocessing/process.py\", line 108, in run\n",
      "    self._target(*self._args, **self._kwargs)\n",
      "  File \"/cvmfs/soft.computecanada.ca/easybuild/software/2020/avx2/Core/python/3.8.10/lib/python3.8/multiprocessing/pool.py\", line 114, in worker\n",
      "    task = get()\n",
      "  File \"/cvmfs/soft.computecanada.ca/easybuild/software/2020/avx2/Core/python/3.8.10/lib/python3.8/multiprocessing/pool.py\", line 114, in worker\n",
      "    task = get()\n",
      "  File \"/cvmfs/soft.computecanada.ca/easybuild/software/2020/avx2/Core/python/3.8.10/lib/python3.8/multiprocessing/queues.py\", line 355, in get\n",
      "    with self._rlock:\n",
      "  File \"/cvmfs/soft.computecanada.ca/easybuild/software/2020/avx2/Core/python/3.8.10/lib/python3.8/multiprocessing/process.py\", line 315, in _bootstrap\n",
      "    self.run()\n",
      "  File \"/cvmfs/soft.computecanada.ca/easybuild/software/2020/avx2/Core/python/3.8.10/lib/python3.8/multiprocessing/pool.py\", line 114, in worker\n",
      "    task = get()\n",
      "  File \"/cvmfs/soft.computecanada.ca/easybuild/software/2020/avx2/Core/python/3.8.10/lib/python3.8/multiprocessing/pool.py\", line 114, in worker\n",
      "    task = get()\n",
      "  File \"/cvmfs/soft.computecanada.ca/easybuild/software/2020/avx2/Core/python/3.8.10/lib/python3.8/multiprocessing/queues.py\", line 355, in get\n",
      "    with self._rlock:\n",
      "  File \"/cvmfs/soft.computecanada.ca/easybuild/software/2020/avx2/Core/python/3.8.10/lib/python3.8/multiprocessing/pool.py\", line 114, in worker\n",
      "    task = get()\n",
      "  File \"/cvmfs/soft.computecanada.ca/easybuild/software/2020/avx2/Core/python/3.8.10/lib/python3.8/multiprocessing/pool.py\", line 114, in worker\n",
      "    task = get()\n",
      "  File \"/cvmfs/soft.computecanada.ca/easybuild/software/2020/avx2/Core/python/3.8.10/lib/python3.8/multiprocessing/queues.py\", line 355, in get\n",
      "    with self._rlock:\n",
      "  File \"/cvmfs/soft.computecanada.ca/easybuild/software/2020/avx2/Core/python/3.8.10/lib/python3.8/multiprocessing/process.py\", line 108, in run\n",
      "    self._target(*self._args, **self._kwargs)\n",
      "  File \"/cvmfs/soft.computecanada.ca/easybuild/software/2020/avx2/Core/python/3.8.10/lib/python3.8/multiprocessing/synchronize.py\", line 95, in __enter__\n",
      "    return self._semlock.__enter__()\n",
      "  File \"/cvmfs/soft.computecanada.ca/easybuild/software/2020/avx2/Core/python/3.8.10/lib/python3.8/multiprocessing/queues.py\", line 355, in get\n",
      "    with self._rlock:\n",
      "  File \"/cvmfs/soft.computecanada.ca/easybuild/software/2020/avx2/Core/python/3.8.10/lib/python3.8/multiprocessing/queues.py\", line 355, in get\n",
      "    with self._rlock:\n",
      "  File \"/cvmfs/soft.computecanada.ca/easybuild/software/2020/avx2/Core/python/3.8.10/lib/python3.8/multiprocessing/synchronize.py\", line 95, in __enter__\n",
      "    return self._semlock.__enter__()\n",
      "  File \"/cvmfs/soft.computecanada.ca/easybuild/software/2020/avx2/Core/python/3.8.10/lib/python3.8/multiprocessing/pool.py\", line 114, in worker\n",
      "    task = get()\n",
      "  File \"/cvmfs/soft.computecanada.ca/easybuild/software/2020/avx2/Core/python/3.8.10/lib/python3.8/multiprocessing/queues.py\", line 355, in get\n",
      "    with self._rlock:\n",
      "  File \"/cvmfs/soft.computecanada.ca/easybuild/software/2020/avx2/Core/python/3.8.10/lib/python3.8/multiprocessing/queues.py\", line 355, in get\n",
      "    with self._rlock:\n",
      "  File \"/cvmfs/soft.computecanada.ca/easybuild/software/2020/avx2/Core/python/3.8.10/lib/python3.8/multiprocessing/synchronize.py\", line 95, in __enter__\n",
      "    return self._semlock.__enter__()\n",
      "  File \"/cvmfs/soft.computecanada.ca/easybuild/software/2020/avx2/Core/python/3.8.10/lib/python3.8/multiprocessing/process.py\", line 108, in run\n",
      "    self._target(*self._args, **self._kwargs)\n",
      "KeyboardInterrupt\n",
      "  File \"/cvmfs/soft.computecanada.ca/easybuild/software/2020/avx2/Core/python/3.8.10/lib/python3.8/multiprocessing/synchronize.py\", line 95, in __enter__\n",
      "    return self._semlock.__enter__()\n",
      "  File \"/cvmfs/soft.computecanada.ca/easybuild/software/2020/avx2/Core/python/3.8.10/lib/python3.8/multiprocessing/queues.py\", line 355, in get\n",
      "    with self._rlock:\n",
      "  File \"/cvmfs/soft.computecanada.ca/easybuild/software/2020/avx2/Core/python/3.8.10/lib/python3.8/multiprocessing/synchronize.py\", line 95, in __enter__\n",
      "    return self._semlock.__enter__()\n",
      "  File \"/cvmfs/soft.computecanada.ca/easybuild/software/2020/avx2/Core/python/3.8.10/lib/python3.8/multiprocessing/queues.py\", line 355, in get\n",
      "    with self._rlock:\n",
      "  File \"/cvmfs/soft.computecanada.ca/easybuild/software/2020/avx2/Core/python/3.8.10/lib/python3.8/multiprocessing/pool.py\", line 114, in worker\n",
      "    task = get()\n",
      "  File \"/cvmfs/soft.computecanada.ca/easybuild/software/2020/avx2/Core/python/3.8.10/lib/python3.8/multiprocessing/synchronize.py\", line 95, in __enter__\n",
      "    return self._semlock.__enter__()\n",
      "  File \"/cvmfs/soft.computecanada.ca/easybuild/software/2020/avx2/Core/python/3.8.10/lib/python3.8/multiprocessing/queues.py\", line 355, in get\n",
      "    with self._rlock:\n",
      "  File \"/cvmfs/soft.computecanada.ca/easybuild/software/2020/avx2/Core/python/3.8.10/lib/python3.8/multiprocessing/pool.py\", line 114, in worker\n",
      "    task = get()\n",
      "  File \"/cvmfs/soft.computecanada.ca/easybuild/software/2020/avx2/Core/python/3.8.10/lib/python3.8/multiprocessing/synchronize.py\", line 95, in __enter__\n",
      "    return self._semlock.__enter__()\n",
      "  File \"/cvmfs/soft.computecanada.ca/easybuild/software/2020/avx2/Core/python/3.8.10/lib/python3.8/multiprocessing/synchronize.py\", line 95, in __enter__\n",
      "    return self._semlock.__enter__()\n",
      "  File \"/cvmfs/soft.computecanada.ca/easybuild/software/2020/avx2/Core/python/3.8.10/lib/python3.8/multiprocessing/synchronize.py\", line 95, in __enter__\n",
      "    return self._semlock.__enter__()\n",
      "  File \"/cvmfs/soft.computecanada.ca/easybuild/software/2020/avx2/Core/python/3.8.10/lib/python3.8/multiprocessing/synchronize.py\", line 95, in __enter__\n",
      "    return self._semlock.__enter__()\n",
      "KeyboardInterrupt\n",
      "KeyboardInterrupt\n",
      "KeyboardInterrupt\n",
      "KeyboardInterrupt\n",
      "KeyboardInterrupt\n",
      "KeyboardInterrupt\n",
      "KeyboardInterrupt\n",
      "  File \"/cvmfs/soft.computecanada.ca/easybuild/software/2020/avx2/Core/python/3.8.10/lib/python3.8/multiprocessing/queues.py\", line 355, in get\n",
      "    with self._rlock:\n",
      "  File \"/cvmfs/soft.computecanada.ca/easybuild/software/2020/avx2/Core/python/3.8.10/lib/python3.8/multiprocessing/synchronize.py\", line 95, in __enter__\n",
      "    return self._semlock.__enter__()\n",
      "  File \"/cvmfs/soft.computecanada.ca/easybuild/software/2020/avx2/Core/python/3.8.10/lib/python3.8/multiprocessing/queues.py\", line 355, in get\n",
      "    with self._rlock:\n",
      "  File \"/cvmfs/soft.computecanada.ca/easybuild/software/2020/avx2/Core/python/3.8.10/lib/python3.8/multiprocessing/synchronize.py\", line 95, in __enter__\n",
      "    return self._semlock.__enter__()\n",
      "  File \"/cvmfs/soft.computecanada.ca/easybuild/software/2020/avx2/Core/python/3.8.10/lib/python3.8/multiprocessing/synchronize.py\", line 95, in __enter__\n",
      "    return self._semlock.__enter__()\n",
      "  File \"/cvmfs/soft.computecanada.ca/easybuild/software/2020/avx2/Core/python/3.8.10/lib/python3.8/multiprocessing/process.py\", line 108, in run\n",
      "    self._target(*self._args, **self._kwargs)\n",
      "KeyboardInterrupt\n",
      "KeyboardInterrupt\n",
      "KeyboardInterrupt\n",
      "KeyboardInterrupt\n",
      "KeyboardInterrupt\n",
      "  File \"/cvmfs/soft.computecanada.ca/easybuild/software/2020/avx2/Core/python/3.8.10/lib/python3.8/multiprocessing/pool.py\", line 114, in worker\n",
      "    task = get()\n",
      "  File \"/cvmfs/soft.computecanada.ca/easybuild/software/2020/avx2/Core/python/3.8.10/lib/python3.8/multiprocessing/queues.py\", line 355, in get\n",
      "    with self._rlock:\n",
      "  File \"/cvmfs/soft.computecanada.ca/easybuild/software/2020/avx2/Core/python/3.8.10/lib/python3.8/multiprocessing/synchronize.py\", line 95, in __enter__\n",
      "    return self._semlock.__enter__()\n",
      "KeyboardInterrupt\n",
      "Traceback (most recent call last):\n",
      "  File \"/cvmfs/soft.computecanada.ca/easybuild/software/2020/avx2/Core/python/3.8.10/lib/python3.8/multiprocessing/process.py\", line 315, in _bootstrap\n",
      "    self.run()\n",
      "  File \"/cvmfs/soft.computecanada.ca/easybuild/software/2020/avx2/Core/python/3.8.10/lib/python3.8/multiprocessing/process.py\", line 108, in run\n",
      "    self._target(*self._args, **self._kwargs)\n",
      "  File \"/cvmfs/soft.computecanada.ca/easybuild/software/2020/avx2/Core/python/3.8.10/lib/python3.8/multiprocessing/pool.py\", line 114, in worker\n",
      "    task = get()\n",
      "  File \"/cvmfs/soft.computecanada.ca/easybuild/software/2020/avx2/Core/python/3.8.10/lib/python3.8/multiprocessing/queues.py\", line 356, in get\n",
      "    res = self._reader.recv_bytes()\n",
      "  File \"/cvmfs/soft.computecanada.ca/easybuild/software/2020/avx2/Core/python/3.8.10/lib/python3.8/multiprocessing/connection.py\", line 216, in recv_bytes\n",
      "    buf = self._recv_bytes(maxlength)\n",
      "  File \"/cvmfs/soft.computecanada.ca/easybuild/software/2020/avx2/Core/python/3.8.10/lib/python3.8/multiprocessing/connection.py\", line 414, in _recv_bytes\n",
      "    buf = self._recv(4)\n",
      "  File \"/cvmfs/soft.computecanada.ca/easybuild/software/2020/avx2/Core/python/3.8.10/lib/python3.8/multiprocessing/connection.py\", line 379, in _recv\n",
      "    chunk = read(handle, remaining)\n",
      "KeyboardInterrupt\n",
      "Process ForkPoolWorker-1:\n",
      "Traceback (most recent call last):\n",
      "  File \"/cvmfs/soft.computecanada.ca/easybuild/software/2020/avx2/Core/python/3.8.10/lib/python3.8/multiprocessing/process.py\", line 315, in _bootstrap\n",
      "    self.run()\n",
      "  File \"/cvmfs/soft.computecanada.ca/easybuild/software/2020/avx2/Core/python/3.8.10/lib/python3.8/multiprocessing/process.py\", line 108, in run\n",
      "    self._target(*self._args, **self._kwargs)\n",
      "  File \"/cvmfs/soft.computecanada.ca/easybuild/software/2020/avx2/Core/python/3.8.10/lib/python3.8/multiprocessing/pool.py\", line 125, in worker\n",
      "    result = (True, func(*args, **kwds))\n",
      "  File \"/cvmfs/soft.computecanada.ca/easybuild/software/2020/avx2/Core/python/3.8.10/lib/python3.8/multiprocessing/pool.py\", line 48, in mapstar\n",
      "    return list(map(*args))\n",
      "  File \"/tmp/ipykernel_446294/1984820060.py\", line 39, in process_file\n",
      "    _mut_info = normalized_mutual_info_score(_img.flatten(),img_0001.flatten()) # calculate mutual information between masks, judges registration\n",
      "  File \"/lustre06/project/6023374/rozakmat/monai3.8/lib/python3.8/site-packages/sklearn/metrics/cluster/_supervised.py\", line 1031, in normalized_mutual_info_score\n",
      "    contingency = contingency_matrix(labels_true, labels_pred, sparse=True)\n",
      "  File \"/lustre06/project/6023374/rozakmat/monai3.8/lib/python3.8/site-packages/sklearn/metrics/cluster/_supervised.py\", line 149, in contingency_matrix\n",
      "    contingency = contingency.tocsr()\n",
      "  File \"/lustre06/project/6023374/rozakmat/monai3.8/lib/python3.8/site-packages/scipy/sparse/_coo.py\", line 409, in tocsr\n",
      "    x.sum_duplicates()\n",
      "  File \"/lustre06/project/6023374/rozakmat/monai3.8/lib/python3.8/site-packages/scipy/sparse/_compressed.py\", line 1118, in sum_duplicates\n",
      "    self.sort_indices()\n",
      "  File \"/lustre06/project/6023374/rozakmat/monai3.8/lib/python3.8/site-packages/scipy/sparse/_compressed.py\", line 1164, in sort_indices\n",
      "    _sparsetools.csr_sort_indices(len(self.indptr) - 1, self.indptr,\n",
      "KeyboardInterrupt\n"
     ]
    }
   ],
   "source": [
    "res = []\n",
    "ID = 0\n",
    "mut_info = []\n",
    "mut_info_fin = []\n",
    "for image in tqdm(images[::-1][:]):\n",
    "    img = np.load(image)\n",
    "    _img = np.copy(img)\n",
    "    img2 = io.imread(re.sub('_upsampled_seg','',re.sub('_seg.npy','.tif',image)))\n",
    "    _img2 = np.copy(img2)\n",
    "    if os.path.exists(re.sub('_seg.npy','_radii_amended.pickle',re.sub('raw_warped_single_upsampled_seg','preds_graphs_fwhm_single',image))):\n",
    "        graph = nx.read_gpickle(re.sub('_seg.npy','_radii_amended.pickle',re.sub('raw_warped_single_upsampled_seg','preds_graphs_fwhm_single',image)))\n",
    "        _image = re.sub('_seg.npy','_radii_amended.pickle',re.sub('raw_warped_single_upsampled_seg','preds_graphs_fwhm_single',image))\n",
    "    elif os.path.exists(re.sub('_seg.npy','_radii_forepaw_amended.pickle',re.sub('raw_warped_single_upsampled_seg','preds_graphs_fwhm_single',image))):\n",
    "        graph = nx.read_gpickle(re.sub('_seg.npy','_radii_forepaw_amended.pickle',re.sub('raw_warped_single_upsampled_seg','preds_graphs_fwhm_single',image)))\n",
    "        _image = re.sub('_seg.npy','_radii_forepaw_amended.pickle',re.sub('raw_warped_single_upsampled_seg','preds_graphs_fwhm_single',image))\n",
    "    else:\n",
    "        print('error')\n",
    "        break\n",
    "    base_scan = re.sub('_warped_seg.npy','',re.sub('matt_raw_warped_single_upsampled_seg/','',image)).split('-')[-1]\n",
    "    for edge in graph.edges:\n",
    "        graph[edge[0]][edge[1]]['vessel_id'] = ID\n",
    "        graph[edge[0]][edge[1]]['scan'] = base_scan\n",
    "        ID += 1\n",
    "    #print(base_scan)\n",
    "    #print(np.max(nx.to_pandas_edgelist(graph)['mean_depth']))\n",
    "    #nx.write_gpickle(graph,re.sub('.pickle','.pickle',re.sub('preds_graphs_fwhm_single','preds_graphs_fwhm_single_excel',_image)))\n",
    "    #print(re.sub('_seg.npy','_radii_amended.pickle',re.sub('raw_warped_single_upsampled_seg','preds_graphs_fwhm_single_excel',image)))\n",
    "    key = [x for x in list(dic.keys()) if x in image][0]\n",
    "    mov_files = [re.sub(key,x,image) for x in dic[key]]\n",
    "    mov_files = sorted(mov_files + [re.sub('_warped_seg.npy','_0001_warped_seg.npy',x) for x in mov_files])\n",
    "    mov_files.append(re.sub('_warped_seg.npy','_0001_warped_seg.npy',image))\n",
    "    mov_files = [x for x in mov_files if x != image]\n",
    "    mov_files = sorted(mov_files)\n",
    "    mov_files = np.unique(mov_files)\n",
    "    mov_files = [x for x in mov_files if os.path.exists(x)]\n",
    "    def process_file(i):\n",
    "        img_0001 = np.load(i)\n",
    "        img2_0001 = io.imread(re.sub('_upsampled_seg','',re.sub('_seg.npy','.tif',image)))\n",
    "        _mut_info = normalized_mutual_info_score(_img.flatten(),img_0001.flatten()) # calculate mutual information between masks, judges registration\n",
    "        mut_info.append(_mut_info)\n",
    "        if _mut_info > 0.1 and len([x for x in files if re.sub('_seg.npy','',re.sub('matt_raw_warped_single_upsampled_seg/','',i)) in x]) != 0:\n",
    "            graph_0001 = nx.read_gpickle([x for x in files if re.sub('_seg.npy','',re.sub('matt_raw_warped_single_upsampled_seg/','',i)) in x][0])\n",
    "            #print([x for x in files if re.sub('_seg.npy','',re.sub('matt_raw_warped_single_upsampled_seg/','',i)) in x][0])\n",
    "            followup_scan = re.sub('_warped_seg.npy','',re.sub('matt_raw_warped_single_upsampled_seg/','',i)).split('-')[-1]\n",
    "            if list(graph.edges) == list(graph_0001.edges):\n",
    "                for edge in graph.edges:\n",
    "                    graph_0001[edge[0]][edge[1]]['vessel_id'] = graph[edge[0]][edge[1]]['vessel_id']\n",
    "                    graph_0001[edge[0]][edge[1]]['scan'] = re.sub('_0001','',followup_scan)\n",
    "            \n",
    "                #print(graph_0001[edge[0]][edge[1]]['gender'] + graph_0001[edge[0]][edge[1]]['scan'])\n",
    "                #print(np.max(nx.to_pandas_edgelist(graph_0001)['mean_depth']))\n",
    "                nx.write_gpickle(graph_0001,re.sub('preds_graphs_fwhm_single','preds_graphs_fwhm_single_excel',[x for x in files if re.sub('_seg.npy','',re.sub('matt_raw_warped_single_upsampled_seg/','',i)) in x][0]))\n",
    "                #print(re.sub('preds_graphs_fwhm_single','preds_graphs_fwhm_single_excel',[x for x in files if re.sub('_seg.npy','',re.sub('matt_raw_warped_single_upsampled_seg/','',i)) in x][0]))\n",
    "            else:\n",
    "                print('wrong edge number')\n",
    "                print([x for x in files if re.sub('_seg.npy','',re.sub('matt_raw_warped_single_upsampled_seg/','',i)) in x][0])\n",
    "        return _mut_info\n",
    "    pool = multiprocessing.Pool(16)\n",
    "    pool.map(process_file, mov_files)\n",
    "    #for i in mov_files:\n",
    "    #    img_0001 = np.load(i)\n",
    "    #    _mut_info = normalized_mutual_info_score(_img.flatten(),img_0001.flatten()) # calculate mutual information between masks, judges registration\n",
    "    #    mut_info.append(_mut_info)\n",
    "    #    if _mut_info > 0.1 and len([x for x in files if re.sub('_seg.npy','',re.sub('matt_raw_warped_single_upsampled_seg/','',i)) in x]) != 0:\n",
    "    #        graph_0001 = nx.read_gpickle([x for x in files if re.sub('_seg.npy','',re.sub('matt_raw_warped_single_upsampled_seg/','',i)) in x][0])\n",
    "    #        followup_scan = re.sub('_warped_seg.npy','',re.sub('matt_raw_warped_single_upsampled_seg/','',i)).split('-')[-1]\n",
    "    #        for edge in graph.edges:\n",
    "    #            graph_0001[edge[0]][edge[1]]['vessel_id'] = graph[edge[0]][edge[1]]['vessel_id']\n",
    "    #            graph_0001[edge[0]][edge[1]]['scan'] = followup_scan\n",
    "    #        nx.write_gpickle(graph_0001,re.sub('preds_graphs_fwhm_single','preds_graphs_fwhm_single_excel',[x for x in files if re.sub('_seg.npy','',re.sub('matt_raw_warped_single_upsampled_seg/','',i)) in x][0]))\n",
    "    #        print(re.sub('preds_graphs_fwhm_single','preds_graphs_fwhm_single_excel',[x for x in files if re.sub('_seg.npy','',re.sub('matt_raw_warped_single_upsampled_seg/','',i)) in x][0]))\n",
    "    mut_info = pool.map(process_file, mov_files)\n",
    "    mut_info_fin.extend(mut_info)"
   ]
  },
  {
   "cell_type": "code",
   "execution_count": 28,
   "id": "f5ebbbc1-7589-4d10-ac14-c0207f83f589",
   "metadata": {},
   "outputs": [
    {
     "data": {
      "text/plain": [
       "'matt_raw_warped_single_upsampled_seg/20230510_02-XYZres448_warped_seg.npy'"
      ]
     },
     "execution_count": 28,
     "metadata": {},
     "output_type": "execute_result"
    }
   ],
   "source": [
    "image"
   ]
  },
  {
   "cell_type": "code",
   "execution_count": 37,
   "id": "1aeb0978-db73-4763-bb8e-54fff1a30825",
   "metadata": {},
   "outputs": [
    {
     "data": {
      "text/plain": [
       "'matt_preds_graphs_fwhm_single/20230518_03-XYZres456_warped_radii_amended.pickle'"
      ]
     },
     "execution_count": 37,
     "metadata": {},
     "output_type": "execute_result"
    }
   ],
   "source": [
    "re.sub('_seg.npy','_radii_amended.pickle',re.sub('raw_warped_single_upsampled_seg','preds_graphs_fwhm_single',image))"
   ]
  },
  {
   "cell_type": "code",
   "execution_count": 21,
   "id": "0a37a08d-90ab-4236-a295-69fd1e61c227",
   "metadata": {},
   "outputs": [
    {
     "data": {
      "text/plain": [
       "'matt_preds_graphs_fwhm_single/20230519_04-XYZres468_warped_radii_amended.pickle'"
      ]
     },
     "execution_count": 21,
     "metadata": {},
     "output_type": "execute_result"
    }
   ],
   "source": [
    "re.sub('_seg.npy','_radii_amended.pickle',re.sub('raw_warped_single_upsampled_seg','preds_graphs_fwhm_single',image))"
   ]
  },
  {
   "cell_type": "code",
   "execution_count": 43,
   "id": "8222fc54-b683-420b-8be5-d3241438adb6",
   "metadata": {},
   "outputs": [
    {
     "data": {
      "text/plain": [
       "0.45510637770919465"
      ]
     },
     "execution_count": 43,
     "metadata": {},
     "output_type": "execute_result"
    }
   ],
   "source": [
    "np.mean(mut_info_fin)"
   ]
  },
  {
   "cell_type": "code",
   "execution_count": 44,
   "id": "87ae1bc2-8ac8-40bf-991e-3e9cc3b79836",
   "metadata": {},
   "outputs": [
    {
     "data": {
      "text/plain": [
       "0.2049715710085333"
      ]
     },
     "execution_count": 44,
     "metadata": {},
     "output_type": "execute_result"
    }
   ],
   "source": [
    "np.std(mut_info_fin)"
   ]
  },
  {
   "cell_type": "code",
   "execution_count": 77,
   "id": "bf26c832-743e-4c4f-bc5b-682468c49a6e",
   "metadata": {},
   "outputs": [
    {
     "name": "stderr",
     "output_type": "stream",
     "text": [
      "  0%|          | 0/101 [00:00<?, ?it/s]"
     ]
    },
    {
     "name": "stdout",
     "output_type": "stream",
     "text": [
      "XYZres048\n"
     ]
    },
    {
     "name": "stderr",
     "output_type": "stream",
     "text": [
      "  1%|          | 1/101 [00:46<1:16:45, 46.05s/it]"
     ]
    },
    {
     "name": "stdout",
     "output_type": "stream",
     "text": [
      "XYZres047\n"
     ]
    },
    {
     "name": "stderr",
     "output_type": "stream",
     "text": [
      "  2%|▏         | 2/101 [01:23<1:07:18, 40.79s/it]"
     ]
    },
    {
     "name": "stdout",
     "output_type": "stream",
     "text": [
      "XYZres041\n"
     ]
    },
    {
     "name": "stderr",
     "output_type": "stream",
     "text": [
      "  3%|▎         | 3/101 [01:59<1:03:35, 38.93s/it]"
     ]
    },
    {
     "name": "stdout",
     "output_type": "stream",
     "text": [
      "XYZres040\n"
     ]
    },
    {
     "name": "stderr",
     "output_type": "stream",
     "text": [
      "  4%|▍         | 4/101 [02:36<1:01:35, 38.10s/it]"
     ]
    },
    {
     "name": "stdout",
     "output_type": "stream",
     "text": [
      "XYZres035\n"
     ]
    },
    {
     "name": "stderr",
     "output_type": "stream",
     "text": [
      "  5%|▍         | 5/101 [03:13<1:00:16, 37.67s/it]"
     ]
    },
    {
     "name": "stdout",
     "output_type": "stream",
     "text": [
      "XYZres034\n"
     ]
    },
    {
     "name": "stderr",
     "output_type": "stream",
     "text": [
      "  6%|▌         | 6/101 [03:50<59:13, 37.41s/it]  "
     ]
    },
    {
     "name": "stdout",
     "output_type": "stream",
     "text": [
      "XYZres029\n"
     ]
    },
    {
     "name": "stderr",
     "output_type": "stream",
     "text": [
      "  7%|▋         | 7/101 [04:27<58:24, 37.29s/it]"
     ]
    },
    {
     "name": "stdout",
     "output_type": "stream",
     "text": [
      "XYZres028\n"
     ]
    },
    {
     "name": "stderr",
     "output_type": "stream",
     "text": [
      "  8%|▊         | 8/101 [05:04<57:43, 37.24s/it]"
     ]
    },
    {
     "name": "stdout",
     "output_type": "stream",
     "text": [
      "XYZres023\n"
     ]
    },
    {
     "name": "stderr",
     "output_type": "stream",
     "text": [
      "  9%|▉         | 9/101 [05:41<56:55, 37.13s/it]"
     ]
    },
    {
     "name": "stdout",
     "output_type": "stream",
     "text": [
      "XYZres022\n"
     ]
    },
    {
     "name": "stderr",
     "output_type": "stream",
     "text": [
      " 10%|▉         | 10/101 [06:20<56:57, 37.56s/it]"
     ]
    },
    {
     "name": "stdout",
     "output_type": "stream",
     "text": [
      "XYZres017\n"
     ]
    },
    {
     "name": "stderr",
     "output_type": "stream",
     "text": [
      " 11%|█         | 11/101 [06:56<55:51, 37.23s/it]"
     ]
    },
    {
     "name": "stdout",
     "output_type": "stream",
     "text": [
      "XYZres016\n"
     ]
    },
    {
     "name": "stderr",
     "output_type": "stream",
     "text": [
      " 12%|█▏        | 12/101 [07:33<55:04, 37.13s/it]"
     ]
    },
    {
     "name": "stdout",
     "output_type": "stream",
     "text": [
      "XYZres011\n"
     ]
    },
    {
     "name": "stderr",
     "output_type": "stream",
     "text": [
      " 13%|█▎        | 13/101 [08:10<54:33, 37.20s/it]"
     ]
    },
    {
     "name": "stdout",
     "output_type": "stream",
     "text": [
      "XYZres010\n"
     ]
    },
    {
     "name": "stderr",
     "output_type": "stream",
     "text": [
      " 14%|█▍        | 14/101 [08:49<54:40, 37.71s/it]"
     ]
    },
    {
     "name": "stdout",
     "output_type": "stream",
     "text": [
      "XYZres008\n"
     ]
    },
    {
     "name": "stderr",
     "output_type": "stream",
     "text": [
      " 15%|█▍        | 15/101 [09:17<49:47, 34.74s/it]"
     ]
    },
    {
     "name": "stdout",
     "output_type": "stream",
     "text": [
      "XYZres007\n"
     ]
    },
    {
     "name": "stderr",
     "output_type": "stream",
     "text": [
      " 16%|█▌        | 16/101 [09:44<45:59, 32.47s/it]"
     ]
    },
    {
     "name": "stdout",
     "output_type": "stream",
     "text": [
      "XYZres006\n"
     ]
    },
    {
     "name": "stderr",
     "output_type": "stream",
     "text": [
      " 17%|█▋        | 17/101 [10:15<44:51, 32.04s/it]"
     ]
    },
    {
     "name": "stdout",
     "output_type": "stream",
     "text": [
      "XYZres266\n"
     ]
    },
    {
     "name": "stderr",
     "output_type": "stream",
     "text": [
      " 18%|█▊        | 18/101 [11:25<1:00:09, 43.48s/it]"
     ]
    },
    {
     "name": "stdout",
     "output_type": "stream",
     "text": [
      "XYZres264\n"
     ]
    },
    {
     "name": "stderr",
     "output_type": "stream",
     "text": [
      " 19%|█▉        | 19/101 [12:58<1:19:22, 58.07s/it]"
     ]
    },
    {
     "name": "stdout",
     "output_type": "stream",
     "text": [
      "XYZres256\n"
     ]
    },
    {
     "name": "stderr",
     "output_type": "stream",
     "text": [
      " 20%|█▉        | 20/101 [13:34<1:09:32, 51.51s/it]"
     ]
    },
    {
     "name": "stdout",
     "output_type": "stream",
     "text": [
      "XYZres254\n"
     ]
    },
    {
     "name": "stderr",
     "output_type": "stream",
     "text": [
      " 21%|██        | 21/101 [14:11<1:02:48, 47.11s/it]"
     ]
    },
    {
     "name": "stdout",
     "output_type": "stream",
     "text": [
      "XYZres460\n"
     ]
    },
    {
     "name": "stderr",
     "output_type": "stream",
     "text": [
      " 22%|██▏       | 22/101 [15:17<1:09:45, 52.99s/it]"
     ]
    },
    {
     "name": "stdout",
     "output_type": "stream",
     "text": [
      "XYZres459\n"
     ]
    },
    {
     "name": "stderr",
     "output_type": "stream",
     "text": [
      " 23%|██▎       | 23/101 [16:26<1:14:51, 57.59s/it]"
     ]
    },
    {
     "name": "stdout",
     "output_type": "stream",
     "text": [
      "XYZres430\n"
     ]
    },
    {
     "name": "stderr",
     "output_type": "stream",
     "text": [
      " 24%|██▍       | 24/101 [16:52<1:01:58, 48.30s/it]"
     ]
    },
    {
     "name": "stdout",
     "output_type": "stream",
     "text": [
      "XYZres423\n"
     ]
    },
    {
     "name": "stderr",
     "output_type": "stream",
     "text": [
      " 25%|██▍       | 25/101 [17:58<1:07:56, 53.64s/it]"
     ]
    },
    {
     "name": "stdout",
     "output_type": "stream",
     "text": [
      "XYZres420\n"
     ]
    },
    {
     "name": "stderr",
     "output_type": "stream",
     "text": [
      " 26%|██▌       | 26/101 [18:35<1:00:50, 48.67s/it]"
     ]
    },
    {
     "name": "stdout",
     "output_type": "stream",
     "text": [
      "XYZres419\n"
     ]
    },
    {
     "name": "stderr",
     "output_type": "stream",
     "text": [
      " 27%|██▋       | 27/101 [19:32<1:02:48, 50.93s/it]"
     ]
    },
    {
     "name": "stdout",
     "output_type": "stream",
     "text": [
      "XYZres414\n"
     ]
    },
    {
     "name": "stderr",
     "output_type": "stream",
     "text": [
      " 28%|██▊       | 28/101 [20:02<54:32, 44.83s/it]  "
     ]
    },
    {
     "name": "stdout",
     "output_type": "stream",
     "text": [
      "XYZres411\n"
     ]
    },
    {
     "name": "stderr",
     "output_type": "stream",
     "text": [
      " 29%|██▊       | 29/101 [20:39<50:51, 42.39s/it]"
     ]
    },
    {
     "name": "stdout",
     "output_type": "stream",
     "text": [
      "XYZres387\n"
     ]
    },
    {
     "name": "stderr",
     "output_type": "stream",
     "text": [
      " 30%|██▉       | 30/101 [21:59<1:03:27, 53.62s/it]"
     ]
    },
    {
     "name": "stdout",
     "output_type": "stream",
     "text": [
      "XYZres385\n"
     ]
    },
    {
     "name": "stderr",
     "output_type": "stream",
     "text": [
      " 31%|███       | 31/101 [23:17<1:11:18, 61.13s/it]"
     ]
    },
    {
     "name": "stdout",
     "output_type": "stream",
     "text": [
      "XYZres353\n"
     ]
    },
    {
     "name": "stderr",
     "output_type": "stream",
     "text": [
      " 32%|███▏      | 32/101 [24:36<1:16:26, 66.48s/it]"
     ]
    },
    {
     "name": "stdout",
     "output_type": "stream",
     "text": [
      "XYZres347\n"
     ]
    },
    {
     "name": "stderr",
     "output_type": "stream",
     "text": [
      " 33%|███▎      | 33/101 [25:56<1:19:48, 70.42s/it]"
     ]
    },
    {
     "name": "stdout",
     "output_type": "stream",
     "text": [
      "XYZres363\n"
     ]
    },
    {
     "name": "stderr",
     "output_type": "stream",
     "text": [
      " 34%|███▎      | 34/101 [26:26<1:05:04, 58.27s/it]"
     ]
    },
    {
     "name": "stdout",
     "output_type": "stream",
     "text": [
      "XYZres362\n"
     ]
    },
    {
     "name": "stderr",
     "output_type": "stream",
     "text": [
      " 35%|███▍      | 35/101 [27:22<1:03:19, 57.57s/it]"
     ]
    },
    {
     "name": "stdout",
     "output_type": "stream",
     "text": [
      "XYZres375\n"
     ]
    },
    {
     "name": "stderr",
     "output_type": "stream",
     "text": [
      " 36%|███▌      | 36/101 [28:42<1:09:47, 64.42s/it]"
     ]
    },
    {
     "name": "stdout",
     "output_type": "stream",
     "text": [
      "XYZres373\n"
     ]
    },
    {
     "name": "stderr",
     "output_type": "stream",
     "text": [
      " 37%|███▋      | 37/101 [30:11<1:16:38, 71.85s/it]"
     ]
    },
    {
     "name": "stdout",
     "output_type": "stream",
     "text": [
      "XYZres403\n"
     ]
    },
    {
     "name": "stderr",
     "output_type": "stream",
     "text": [
      " 38%|███▊      | 38/101 [30:38<1:01:03, 58.15s/it]"
     ]
    },
    {
     "name": "stdout",
     "output_type": "stream",
     "text": [
      "XYZres397\n"
     ]
    },
    {
     "name": "stderr",
     "output_type": "stream",
     "text": [
      " 39%|███▊      | 39/101 [31:57<1:06:46, 64.63s/it]"
     ]
    },
    {
     "name": "stdout",
     "output_type": "stream",
     "text": [
      "XYZres396\n"
     ]
    },
    {
     "name": "stderr",
     "output_type": "stream",
     "text": [
      " 40%|███▉      | 40/101 [32:34<57:12, 56.28s/it]  "
     ]
    },
    {
     "name": "stdout",
     "output_type": "stream",
     "text": [
      "XYZres426\n"
     ]
    },
    {
     "name": "stderr",
     "output_type": "stream",
     "text": [
      " 41%|████      | 41/101 [33:18<52:33, 52.56s/it]"
     ]
    },
    {
     "name": "stdout",
     "output_type": "stream",
     "text": [
      "XYZres424\n"
     ]
    },
    {
     "name": "stderr",
     "output_type": "stream",
     "text": [
      " 42%|████▏     | 42/101 [33:55<47:12, 48.00s/it]"
     ]
    },
    {
     "name": "stdout",
     "output_type": "stream",
     "text": [
      "XYZres342\n"
     ]
    },
    {
     "name": "stderr",
     "output_type": "stream",
     "text": [
      " 43%|████▎     | 43/101 [34:31<42:51, 44.34s/it]"
     ]
    },
    {
     "name": "stdout",
     "output_type": "stream",
     "text": [
      "XYZres339\n"
     ]
    },
    {
     "name": "stderr",
     "output_type": "stream",
     "text": [
      " 44%|████▎     | 44/101 [34:58<37:02, 38.99s/it]"
     ]
    },
    {
     "name": "stdout",
     "output_type": "stream",
     "text": [
      "XYZres351\n"
     ]
    },
    {
     "name": "stderr",
     "output_type": "stream",
     "text": [
      " 45%|████▍     | 45/101 [35:34<35:40, 38.23s/it]"
     ]
    },
    {
     "name": "stdout",
     "output_type": "stream",
     "text": [
      "XYZres349\n"
     ]
    },
    {
     "name": "stderr",
     "output_type": "stream",
     "text": [
      " 46%|████▌     | 46/101 [36:18<36:43, 40.06s/it]"
     ]
    },
    {
     "name": "stdout",
     "output_type": "stream",
     "text": [
      "XYZres334\n"
     ]
    },
    {
     "name": "stderr",
     "output_type": "stream",
     "text": [
      " 47%|████▋     | 47/101 [37:14<40:12, 44.67s/it]"
     ]
    },
    {
     "name": "stdout",
     "output_type": "stream",
     "text": [
      "XYZres332\n"
     ]
    },
    {
     "name": "stderr",
     "output_type": "stream",
     "text": [
      " 48%|████▊     | 48/101 [38:10<42:27, 48.06s/it]"
     ]
    },
    {
     "name": "stdout",
     "output_type": "stream",
     "text": [
      "XYZres299\n"
     ]
    },
    {
     "name": "stderr",
     "output_type": "stream",
     "text": [
      " 49%|████▊     | 49/101 [38:55<40:46, 47.05s/it]"
     ]
    },
    {
     "name": "stdout",
     "output_type": "stream",
     "text": [
      "XYZres296\n"
     ]
    },
    {
     "name": "stderr",
     "output_type": "stream",
     "text": [
      " 50%|████▉     | 50/101 [39:24<35:26, 41.70s/it]"
     ]
    },
    {
     "name": "stdout",
     "output_type": "stream",
     "text": [
      "XYZres322\n"
     ]
    },
    {
     "name": "stderr",
     "output_type": "stream",
     "text": [
      " 50%|█████     | 51/101 [40:20<38:17, 45.96s/it]"
     ]
    },
    {
     "name": "stdout",
     "output_type": "stream",
     "text": [
      "XYZres316\n"
     ]
    },
    {
     "name": "stderr",
     "output_type": "stream",
     "text": [
      " 51%|█████▏    | 52/101 [41:16<40:05, 49.09s/it]"
     ]
    },
    {
     "name": "stdout",
     "output_type": "stream",
     "text": [
      "XYZres308\n"
     ]
    },
    {
     "name": "stderr",
     "output_type": "stream",
     "text": [
      " 52%|█████▏    | 53/101 [42:11<40:40, 50.84s/it]"
     ]
    },
    {
     "name": "stdout",
     "output_type": "stream",
     "text": [
      "XYZres302\n"
     ]
    },
    {
     "name": "stderr",
     "output_type": "stream",
     "text": [
      " 53%|█████▎    | 54/101 [43:08<41:10, 52.57s/it]"
     ]
    },
    {
     "name": "stdout",
     "output_type": "stream",
     "text": [
      "XYZres254\n"
     ]
    },
    {
     "name": "stderr",
     "output_type": "stream",
     "text": [
      " 54%|█████▍    | 55/101 [43:52<38:32, 50.27s/it]"
     ]
    },
    {
     "name": "stdout",
     "output_type": "stream",
     "text": [
      "XYZres253\n"
     ]
    },
    {
     "name": "stderr",
     "output_type": "stream",
     "text": [
      " 55%|█████▌    | 56/101 [44:19<32:18, 43.08s/it]"
     ]
    },
    {
     "name": "stdout",
     "output_type": "stream",
     "text": [
      "XYZres248\n"
     ]
    },
    {
     "name": "stderr",
     "output_type": "stream",
     "text": [
      " 56%|█████▋    | 57/101 [44:50<28:54, 39.42s/it]"
     ]
    },
    {
     "name": "stdout",
     "output_type": "stream",
     "text": [
      "XYZres245\n"
     ]
    },
    {
     "name": "stderr",
     "output_type": "stream",
     "text": [
      " 57%|█████▋    | 58/101 [45:19<26:05, 36.42s/it]"
     ]
    },
    {
     "name": "stdout",
     "output_type": "stream",
     "text": [
      "XYZres244\n"
     ]
    },
    {
     "name": "stderr",
     "output_type": "stream",
     "text": [
      " 58%|█████▊    | 59/101 [45:46<23:29, 33.55s/it]"
     ]
    },
    {
     "name": "stdout",
     "output_type": "stream",
     "text": [
      "XYZres243\n"
     ]
    },
    {
     "name": "stderr",
     "output_type": "stream",
     "text": [
      " 59%|█████▉    | 60/101 [46:29<24:57, 36.53s/it]"
     ]
    },
    {
     "name": "stdout",
     "output_type": "stream",
     "text": [
      "XYZres240\n"
     ]
    },
    {
     "name": "stderr",
     "output_type": "stream",
     "text": [
      " 60%|██████    | 61/101 [47:25<28:15, 42.39s/it]"
     ]
    },
    {
     "name": "stdout",
     "output_type": "stream",
     "text": [
      "XYZres238\n"
     ]
    },
    {
     "name": "stderr",
     "output_type": "stream",
     "text": [
      " 61%|██████▏   | 62/101 [48:21<30:07, 46.35s/it]"
     ]
    },
    {
     "name": "stdout",
     "output_type": "stream",
     "text": [
      "XYZres213\n"
     ]
    },
    {
     "name": "stderr",
     "output_type": "stream",
     "text": [
      " 62%|██████▏   | 63/101 [49:26<32:48, 51.80s/it]"
     ]
    },
    {
     "name": "stdout",
     "output_type": "stream",
     "text": [
      "XYZres211\n"
     ]
    },
    {
     "name": "stderr",
     "output_type": "stream",
     "text": [
      " 63%|██████▎   | 64/101 [50:46<37:09, 60.25s/it]"
     ]
    },
    {
     "name": "stdout",
     "output_type": "stream",
     "text": [
      "XYZres228\n"
     ]
    },
    {
     "name": "stderr",
     "output_type": "stream",
     "text": [
      " 64%|██████▍   | 65/101 [51:22<31:54, 53.19s/it]"
     ]
    },
    {
     "name": "stdout",
     "output_type": "stream",
     "text": [
      "XYZres223\n"
     ]
    },
    {
     "name": "stderr",
     "output_type": "stream",
     "text": [
      " 65%|██████▌   | 66/101 [51:53<27:03, 46.37s/it]"
     ]
    },
    {
     "name": "stdout",
     "output_type": "stream",
     "text": [
      "XYZres201\n"
     ]
    },
    {
     "name": "stderr",
     "output_type": "stream",
     "text": [
      " 66%|██████▋   | 67/101 [53:00<29:53, 52.75s/it]"
     ]
    },
    {
     "name": "stdout",
     "output_type": "stream",
     "text": [
      "XYZres199\n"
     ]
    },
    {
     "name": "stderr",
     "output_type": "stream",
     "text": [
      " 67%|██████▋   | 68/101 [54:09<31:40, 57.59s/it]"
     ]
    },
    {
     "name": "stdout",
     "output_type": "stream",
     "text": [
      "XYZres188\n"
     ]
    },
    {
     "name": "stderr",
     "output_type": "stream",
     "text": [
      " 68%|██████▊   | 69/101 [54:55<28:46, 53.95s/it]"
     ]
    },
    {
     "name": "stdout",
     "output_type": "stream",
     "text": [
      "XYZres186\n"
     ]
    },
    {
     "name": "stderr",
     "output_type": "stream",
     "text": [
      " 69%|██████▉   | 70/101 [56:14<31:47, 61.54s/it]"
     ]
    },
    {
     "name": "stdout",
     "output_type": "stream",
     "text": [
      "XYZres184\n"
     ]
    },
    {
     "name": "stderr",
     "output_type": "stream",
     "text": [
      " 70%|███████   | 71/101 [56:44<26:00, 52.03s/it]"
     ]
    },
    {
     "name": "stdout",
     "output_type": "stream",
     "text": [
      "XYZres183\n"
     ]
    },
    {
     "name": "stderr",
     "output_type": "stream",
     "text": [
      " 71%|███████▏  | 72/101 [57:11<21:30, 44.50s/it]"
     ]
    },
    {
     "name": "stdout",
     "output_type": "stream",
     "text": [
      "XYZres174\n"
     ]
    },
    {
     "name": "stderr",
     "output_type": "stream",
     "text": [
      " 72%|███████▏  | 73/101 [58:18<24:00, 51.46s/it]"
     ]
    },
    {
     "name": "stdout",
     "output_type": "stream",
     "text": [
      "XYZres172\n"
     ]
    },
    {
     "name": "stderr",
     "output_type": "stream",
     "text": [
      " 73%|███████▎  | 74/101 [59:28<25:32, 56.76s/it]"
     ]
    },
    {
     "name": "stdout",
     "output_type": "stream",
     "text": [
      "XYZres158\n"
     ]
    },
    {
     "name": "stderr",
     "output_type": "stream",
     "text": [
      " 74%|███████▍  | 75/101 [1:00:12<22:55, 52.92s/it]"
     ]
    },
    {
     "name": "stdout",
     "output_type": "stream",
     "text": [
      "XYZres152\n"
     ]
    },
    {
     "name": "stderr",
     "output_type": "stream",
     "text": [
      " 75%|███████▌  | 76/101 [1:00:56<21:00, 50.40s/it]"
     ]
    },
    {
     "name": "stdout",
     "output_type": "stream",
     "text": [
      "XYZres164\n"
     ]
    },
    {
     "name": "stderr",
     "output_type": "stream",
     "text": [
      " 76%|███████▌  | 77/101 [1:01:41<19:30, 48.78s/it]"
     ]
    },
    {
     "name": "stdout",
     "output_type": "stream",
     "text": [
      "XYZres163\n"
     ]
    },
    {
     "name": "stderr",
     "output_type": "stream",
     "text": [
      " 77%|███████▋  | 78/101 [1:02:25<18:08, 47.32s/it]"
     ]
    },
    {
     "name": "stdout",
     "output_type": "stream",
     "text": [
      "XYZres160\n"
     ]
    },
    {
     "name": "stderr",
     "output_type": "stream",
     "text": [
      " 78%|███████▊  | 79/101 [1:02:55<15:25, 42.07s/it]"
     ]
    },
    {
     "name": "stdout",
     "output_type": "stream",
     "text": [
      "XYZres159\n"
     ]
    },
    {
     "name": "stderr",
     "output_type": "stream",
     "text": [
      " 79%|███████▉  | 80/101 [1:03:24<13:24, 38.33s/it]"
     ]
    },
    {
     "name": "stdout",
     "output_type": "stream",
     "text": [
      "XYZres149\n"
     ]
    },
    {
     "name": "stderr",
     "output_type": "stream",
     "text": [
      " 80%|████████  | 81/101 [1:04:20<14:29, 43.49s/it]"
     ]
    },
    {
     "name": "stdout",
     "output_type": "stream",
     "text": [
      "XYZres145\n"
     ]
    },
    {
     "name": "stderr",
     "output_type": "stream",
     "text": [
      " 81%|████████  | 82/101 [1:05:16<14:56, 47.19s/it]"
     ]
    },
    {
     "name": "stdout",
     "output_type": "stream",
     "text": [
      "XYZres128\n"
     ]
    },
    {
     "name": "stderr",
     "output_type": "stream",
     "text": [
      " 82%|████████▏ | 83/101 [1:06:00<13:51, 46.19s/it]"
     ]
    },
    {
     "name": "stdout",
     "output_type": "stream",
     "text": [
      "XYZres126\n"
     ]
    },
    {
     "name": "stderr",
     "output_type": "stream",
     "text": [
      " 83%|████████▎ | 84/101 [1:06:44<12:56, 45.65s/it]"
     ]
    },
    {
     "name": "stdout",
     "output_type": "stream",
     "text": [
      "XYZres72\n"
     ]
    },
    {
     "name": "stderr",
     "output_type": "stream",
     "text": [
      " 84%|████████▍ | 85/101 [1:07:50<13:49, 51.87s/it]"
     ]
    },
    {
     "name": "stdout",
     "output_type": "stream",
     "text": [
      "XYZres70\n"
     ]
    },
    {
     "name": "stderr",
     "output_type": "stream",
     "text": [
      " 85%|████████▌ | 86/101 [1:08:56<14:02, 56.13s/it]"
     ]
    },
    {
     "name": "stdout",
     "output_type": "stream",
     "text": [
      "XYZres56\n"
     ]
    },
    {
     "name": "stderr",
     "output_type": "stream",
     "text": [
      " 86%|████████▌ | 87/101 [1:10:21<15:07, 64.79s/it]"
     ]
    },
    {
     "name": "stdout",
     "output_type": "stream",
     "text": [
      "XYZres54\n"
     ]
    },
    {
     "name": "stderr",
     "output_type": "stream",
     "text": [
      " 87%|████████▋ | 88/101 [1:11:51<15:38, 72.18s/it]"
     ]
    },
    {
     "name": "stdout",
     "output_type": "stream",
     "text": [
      "XYZres118\n"
     ]
    },
    {
     "name": "stderr",
     "output_type": "stream",
     "text": [
      " 88%|████████▊ | 89/101 [1:12:35<12:45, 63.76s/it]"
     ]
    },
    {
     "name": "stdout",
     "output_type": "stream",
     "text": [
      "XYZres116\n"
     ]
    },
    {
     "name": "stderr",
     "output_type": "stream",
     "text": [
      " 89%|████████▉ | 90/101 [1:13:43<11:56, 65.13s/it]"
     ]
    },
    {
     "name": "stdout",
     "output_type": "stream",
     "text": [
      "XYZres108\n"
     ]
    },
    {
     "name": "stderr",
     "output_type": "stream",
     "text": [
      " 90%|█████████ | 91/101 [1:14:29<09:53, 59.37s/it]"
     ]
    },
    {
     "name": "stdout",
     "output_type": "stream",
     "text": [
      "XYZres106\n"
     ]
    },
    {
     "name": "stderr",
     "output_type": "stream",
     "text": [
      " 91%|█████████ | 92/101 [1:15:15<08:16, 55.22s/it]"
     ]
    },
    {
     "name": "stdout",
     "output_type": "stream",
     "text": [
      "XYZres88\n"
     ]
    },
    {
     "name": "stderr",
     "output_type": "stream",
     "text": [
      " 92%|█████████▏| 93/101 [1:16:09<07:19, 54.91s/it]"
     ]
    },
    {
     "name": "stdout",
     "output_type": "stream",
     "text": [
      "XYZres86\n"
     ]
    },
    {
     "name": "stderr",
     "output_type": "stream",
     "text": [
      " 93%|█████████▎| 94/101 [1:17:04<06:24, 54.94s/it]"
     ]
    },
    {
     "name": "stdout",
     "output_type": "stream",
     "text": [
      "XYZres95\n"
     ]
    },
    {
     "name": "stderr",
     "output_type": "stream",
     "text": [
      " 94%|█████████▍| 95/101 [1:17:40<04:56, 49.37s/it]"
     ]
    },
    {
     "name": "stdout",
     "output_type": "stream",
     "text": [
      "XYZres92\n"
     ]
    },
    {
     "name": "stderr",
     "output_type": "stream",
     "text": [
      " 95%|█████████▌| 96/101 [1:18:08<03:33, 42.72s/it]"
     ]
    },
    {
     "name": "stdout",
     "output_type": "stream",
     "text": [
      "XYZres91\n"
     ]
    },
    {
     "name": "stderr",
     "output_type": "stream",
     "text": [
      " 96%|█████████▌| 97/101 [1:18:44<02:43, 40.84s/it]"
     ]
    },
    {
     "name": "stdout",
     "output_type": "stream",
     "text": [
      "XYZres297\n"
     ]
    },
    {
     "name": "stderr",
     "output_type": "stream",
     "text": [
      " 97%|█████████▋| 98/101 [1:19:14<01:53, 37.74s/it]"
     ]
    },
    {
     "name": "stdout",
     "output_type": "stream",
     "text": [
      "XYZres294\n"
     ]
    },
    {
     "name": "stderr",
     "output_type": "stream",
     "text": [
      " 98%|█████████▊| 99/101 [1:19:45<01:11, 35.51s/it]"
     ]
    },
    {
     "name": "stdout",
     "output_type": "stream",
     "text": [
      "XYZres290\n"
     ]
    },
    {
     "name": "stderr",
     "output_type": "stream",
     "text": [
      " 99%|█████████▉| 100/101 [1:20:15<00:33, 33.88s/it]"
     ]
    },
    {
     "name": "stdout",
     "output_type": "stream",
     "text": [
      "XYZres288\n"
     ]
    },
    {
     "name": "stderr",
     "output_type": "stream",
     "text": [
      "100%|██████████| 101/101 [1:20:46<00:00, 47.99s/it]"
     ]
    },
    {
     "name": "stdout",
     "output_type": "stream",
     "text": [
      "39850\n"
     ]
    },
    {
     "name": "stderr",
     "output_type": "stream",
     "text": [
      "\n"
     ]
    }
   ],
   "source": [
    "res = []\n",
    "ID = 0\n",
    "mut_info = []\n",
    "mut_info_fin = []\n",
    "for image in tqdm(images[::-1]):\n",
    "    img = np.load(image)\n",
    "    _img = np.copy(img)\n",
    "    img2 = io.imread(re.sub('_upsampled_seg','',re.sub('_seg.npy','.tif',image)))\n",
    "    _img2 = np.copy(img2)\n",
    "    if os.path.exists(re.sub('_seg.npy','_radii_amended.pickle',re.sub('raw_warped_single_upsampled_seg','preds_graphs_fwhm_single',image))):\n",
    "        graph = nx.read_gpickle(re.sub('_seg.npy','_radii_amended.pickle',re.sub('raw_warped_single_upsampled_seg','preds_graphs_fwhm_single',image)))\n",
    "        _image = re.sub('_seg.npy','_radii_amended.pickle',re.sub('raw_warped_single_upsampled_seg','preds_graphs_fwhm_single',image))\n",
    "    elif os.path.exists(re.sub('_seg.npy','_radii_forepaw_amended.pickle',re.sub('raw_warped_single_upsampled_seg','preds_graphs_fwhm_single',image))):\n",
    "        graph = nx.read_gpickle(re.sub('_seg.npy','_radii_forepaw_amended.pickle',re.sub('raw_warped_single_upsampled_seg','preds_graphs_fwhm_single',image)))\n",
    "        _image = re.sub('_seg.npy','_radii_forepaw_amended.pickle',re.sub('raw_warped_single_upsampled_seg','preds_graphs_fwhm_single',image))\n",
    "    else:\n",
    "        print('error')\n",
    "        break\n",
    "    base_scan = re.sub('_warped_seg.npy','',re.sub('matt_raw_warped_single_upsampled_seg/','',image)).split('-')[-1]\n",
    "    for edge in graph.edges:\n",
    "        graph[edge[0]][edge[1]]['vessel_id'] = ID\n",
    "        graph[edge[0]][edge[1]]['scan'] = base_scan\n",
    "        ID += 1\n",
    "    print(base_scan)\n",
    "    #print(np.max(nx.to_pandas_edgelist(graph)['mean_depth']))\n",
    "    nx.write_gpickle(graph,re.sub('.pickle','.pickle',re.sub('preds_graphs_fwhm_single','preds_graphs_fwhm_single_excel',_image)))\n",
    "    #print(re.sub('_seg.npy','_radii_amended.pickle',re.sub('raw_warped_single_upsampled_seg','preds_graphs_fwhm_single_excel',image)))\n",
    "    key = [x for x in list(dic.keys()) if x in image][0]\n",
    "    mov_files = [re.sub(key,x,image) for x in dic[key]]\n",
    "    mov_files = sorted(mov_files + [re.sub('_warped_seg.npy','_0001_warped_seg.npy',x) for x in mov_files])\n",
    "    mov_files.append(re.sub('_warped_seg.npy','_0001_warped_seg.npy',image))\n",
    "    mov_files = [x for x in mov_files if x != image]\n",
    "    mov_files = sorted(mov_files)\n",
    "    mov_files = np.unique(mov_files)\n",
    "    mov_files = [x for x in mov_files if os.path.exists(x)]\n",
    "    def process_file(i):\n",
    "        img_0001 = np.load(i)\n",
    "        img2_0001 = io.imread(re.sub('_upsampled_seg','',re.sub('_seg.npy','.tif',image)))\n",
    "        _mut_info = normalized_mutual_info_score(_img.flatten(),img_0001.flatten()) # calculate mutual information between masks, judges registration\n",
    "        mut_info.append(_mut_info)\n",
    "        if _mut_info > 0.1 and len([x for x in files if re.sub('_seg.npy','',re.sub('matt_raw_warped_single_upsampled_seg/','',i)) in x]) != 0:\n",
    "            graph_0001 = nx.read_gpickle([x for x in files if re.sub('_seg.npy','',re.sub('matt_raw_warped_single_upsampled_seg/','',i)) in x][0])\n",
    "            #print([x for x in files if re.sub('_seg.npy','',re.sub('matt_raw_warped_single_upsampled_seg/','',i)) in x][0])\n",
    "            followup_scan = re.sub('_warped_seg.npy','',re.sub('matt_raw_warped_single_upsampled_seg/','',i)).split('-')[-1]\n",
    "            if list(graph.edges) == list(graph_0001.edges):\n",
    "                for edge in graph.edges:\n",
    "                    graph_0001[edge[0]][edge[1]]['vessel_id'] = graph[edge[0]][edge[1]]['vessel_id']\n",
    "                    graph_0001[edge[0]][edge[1]]['scan'] = re.sub('_0001','',followup_scan)\n",
    "            \n",
    "                #print(graph_0001[edge[0]][edge[1]]['gender'] + graph_0001[edge[0]][edge[1]]['scan'])\n",
    "                #print(np.max(nx.to_pandas_edgelist(graph_0001)['mean_depth']))\n",
    "                nx.write_gpickle(graph_0001,re.sub('preds_graphs_fwhm_single','preds_graphs_fwhm_single_excel',[x for x in files if re.sub('_seg.npy','',re.sub('matt_raw_warped_single_upsampled_seg/','',i)) in x][0]))\n",
    "                #print(re.sub('preds_graphs_fwhm_single','preds_graphs_fwhm_single_excel',[x for x in files if re.sub('_seg.npy','',re.sub('matt_raw_warped_single_upsampled_seg/','',i)) in x][0]))\n",
    "            else:\n",
    "                print('wrong edge number')\n",
    "                print([x for x in files if re.sub('_seg.npy','',re.sub('matt_raw_warped_single_upsampled_seg/','',i)) in x][0])\n",
    "        return _mut_info\n",
    "    pool = multiprocessing.Pool(16)\n",
    "    pool.map(process_file, mov_files)\n",
    "    #for i in mov_files:\n",
    "    #    img_0001 = np.load(i)\n",
    "    #    _mut_info = normalized_mutual_info_score(_img.flatten(),img_0001.flatten()) # calculate mutual information between masks, judges registration\n",
    "    #    mut_info.append(_mut_info)\n",
    "    #    if _mut_info > 0.1 and len([x for x in files if re.sub('_seg.npy','',re.sub('matt_raw_warped_single_upsampled_seg/','',i)) in x]) != 0:\n",
    "    #        graph_0001 = nx.read_gpickle([x for x in files if re.sub('_seg.npy','',re.sub('matt_raw_warped_single_upsampled_seg/','',i)) in x][0])\n",
    "    #        followup_scan = re.sub('_warped_seg.npy','',re.sub('matt_raw_warped_single_upsampled_seg/','',i)).split('-')[-1]\n",
    "    #        for edge in graph.edges:\n",
    "    #            graph_0001[edge[0]][edge[1]]['vessel_id'] = graph[edge[0]][edge[1]]['vessel_id']\n",
    "    #            graph_0001[edge[0]][edge[1]]['scan'] = followup_scan\n",
    "    #        nx.write_gpickle(graph_0001,re.sub('preds_graphs_fwhm_single','preds_graphs_fwhm_single_excel',[x for x in files if re.sub('_seg.npy','',re.sub('matt_raw_warped_single_upsampled_seg/','',i)) in x][0]))\n",
    "    #        print(re.sub('preds_graphs_fwhm_single','preds_graphs_fwhm_single_excel',[x for x in files if re.sub('_seg.npy','',re.sub('matt_raw_warped_single_upsampled_seg/','',i)) in x][0]))\n",
    "    mut_info = pool.map(process_file, mov_files)\n",
    "    mut_info_fin.extend(mut_info)\n",
    "print(ID)"
   ]
  },
  {
   "cell_type": "code",
   "execution_count": 50,
   "id": "1bae8e24-c4cb-4ff5-bb47-8d17d7e648e4",
   "metadata": {},
   "outputs": [
    {
     "data": {
      "text/plain": [
       "'matt_raw_warped_single_upsampled_seg/20200217_11-XYZres93_warped_seg.npy'"
      ]
     },
     "execution_count": 50,
     "metadata": {},
     "output_type": "execute_result"
    }
   ],
   "source": [
    "image"
   ]
  },
  {
   "cell_type": "code",
   "execution_count": 27,
   "id": "0be29a85-0035-4804-be6c-9a24d6c44b17",
   "metadata": {},
   "outputs": [
    {
     "name": "stdout",
     "output_type": "stream",
     "text": [
      "286\n",
      "165\n"
     ]
    }
   ],
   "source": [
    "graph_0001 = nx.read_gpickle('matt_raw_warped_single_upsampled_seg/20220129_61-XYZres373_0001_warped.pickle')\n",
    "graph = nx.read_gpickle('matt_raw_warped_single_upsampled_seg/20220129_61-XYZres373_warped.pickle')\n",
    "print(len(graph.edges))\n",
    "print(len(graph_0001.edges))"
   ]
  },
  {
   "cell_type": "code",
   "execution_count": 40,
   "id": "a37bb6f8-bcda-41ee-a9b9-3b17a544ba13",
   "metadata": {},
   "outputs": [
    {
     "data": {
      "text/plain": [
       "EdgeView([(0, 5), (1, 3), (2, 4), (3, 20), (3, 10), (4, 5), (4, 6), (5, 12), (7, 14), (8, 29), (9, 28), (11, 14), (13, 14), (16, 23), (17, 32), (18, 24), (19, 42), (20, 21), (20, 46), (22, 23), (22, 39), (22, 34), (23, 49), (26, 29), (27, 36), (29, 35), (30, 33), (31, 42), (34, 38), (34, 56), (37, 40), (38, 40), (38, 45), (40, 42), (43, 47), (44, 55), (45, 47), (45, 58), (47, 54), (48, 51), (50, 58), (51, 53), (51, 52), (52, 57), (52, 61), (58, 80), (59, 63), (62, 66), (63, 73), (63, 72), (64, 73), (67, 87), (68, 75), (70, 71), (73, 81), (74, 78), (75, 76), (76, 78), (77, 81), (78, 83), (79, 96), (81, 83), (82, 87), (83, 93), (84, 85), (85, 88), (85, 86), (87, 90), (89, 90), (90, 91), (91, 92), (91, 94), (95, 98), (97, 99), (98, 101), (98, 100), (102, 104), (103, 106), (105, 111), (107, 108), (110, 111), (111, 113), (112, 113), (113, 114)])"
      ]
     },
     "execution_count": 40,
     "metadata": {},
     "output_type": "execute_result"
    }
   ],
   "source": [
    "graph_0001.edges"
   ]
  },
  {
   "cell_type": "code",
   "execution_count": 46,
   "id": "f3ce1667-a980-40a2-a521-b447ae31c5aa",
   "metadata": {},
   "outputs": [
    {
     "data": {
      "text/plain": [
       "False"
      ]
     },
     "execution_count": 46,
     "metadata": {},
     "output_type": "execute_result"
    }
   ],
   "source": [
    "list(graph.edges) == list(graph_0001.edges)"
   ]
  },
  {
   "cell_type": "code",
   "execution_count": 38,
   "id": "253f3567-7fe4-4381-8677-04068aef624f",
   "metadata": {},
   "outputs": [
    {
     "data": {
      "text/plain": [
       "'matt_raw_warped_single_upsampled_seg/20210710_51-XYZres297_warped_seg.npy'"
      ]
     },
     "execution_count": 38,
     "metadata": {},
     "output_type": "execute_result"
    }
   ],
   "source": [
    "image"
   ]
  },
  {
   "cell_type": "code",
   "execution_count": null,
   "id": "1098bbd3-5729-46b3-be2c-1872c35d129a",
   "metadata": {},
   "outputs": [],
   "source": [
    "graph_0001.edgesres = []\n",
    "ID = 0\n",
    "mut_info_fin = []\n",
    "for image in tqdm(images[:]):\n",
    "    img = np.load(image)\n",
    "    _img = np.copy(img)\n",
    "    img2 = np.load(re.sub('_seg','',image))\n",
    "    _img2 = np.copy(img2)\n",
    "    if os.path.exists(re.sub('_seg.npy','_radii_amended.pickle',re.sub('raw_warped_single_upsampled_seg','preds_graphs_fwhm_single',image))):\n",
    "        graph = nx.read_gpickle(re.sub('_seg.npy','_radii_amended.pickle',re.sub('raw_warped_single_upsampled_seg','preds_graphs_fwhm_single',image)))\n",
    "        _image = re.sub('_seg.npy','_radii_amended.pickle',re.sub('raw_warped_single_upsampled_seg','preds_graphs_fwhm_single',image))\n",
    "    elif os.path.exists(re.sub('_seg.npy','_radii_forepaw_amended.pickle',re.sub('raw_warped_single_upsampled_seg','preds_graphs_fwhm_single',image))):\n",
    "        graph = nx.read_gpickle(re.sub('_seg.npy','_radii_forepaw_amended.pickle',re.sub('raw_warped_single_upsampled_seg','preds_graphs_fwhm_single',image)))\n",
    "        _image = re.sub('_seg.npy','_radii_forepaw_amended.pickle',re.sub('raw_warped_single_upsampled_seg','preds_graphs_fwhm_single',image))\n",
    "    else:\n",
    "        print('error')\n",
    "        break\n",
    "    base_scan = re.sub('_warped_seg.npy','',re.sub('matt_raw_warped_single_upsampled_seg/','',image)).split('-')[-1]\n",
    "    for edge in graph.edges:\n",
    "        graph[edge[0]][edge[1]]['vessel_id'] = ID\n",
    "        graph[edge[0]][edge[1]]['scan'] = base_scan\n",
    "        ID += 1\n",
    "    nx.write_gpickle(graph,re.sub('preds_graphs_fwhm_single','preds_graphs_fwhm_single_excel',_image))\n",
    "    print(re.sub('_seg.npy','_radii_amended_AVC_with_branch_order.pickle',re.sub('raw_warped_single_upsampled_seg','preds_graphs_fwhm_single_excel',image)))\n",
    "    key = [x for x in list(dic.keys()) if x in image][0]\n",
    "    mov_files = [re.sub(key,x,image) for x in dic[key]]\n",
    "    mov_files = sorted(mov_files + [re.sub('_warped_seg.npy','_0001_warped_seg.npy',x) for x in mov_files])\n",
    "    mov_files.append(re.sub('_warped_seg.npy','_0001_warped_seg.npy',image))\n",
    "    mov_files = [x for x in mov_files if x != image]\n",
    "    mov_files = sorted(mov_files)\n",
    "    mov_files = np.unique(mov_files)\n",
    "    mov_files = [x for x in mov_files if os.path.exists(x)]\n",
    "    def process_file(i):\n",
    "        img_0001 = np.load(i)\n",
    "        img2_0001 = np.load(re.sub('_seg','',image))\n",
    "        _mut_info = normalized_mutual_info_score(_img2.flatten(),img2_0001.flatten()) # calculate mutual information between masks, judges registration\n",
    "        mut_info.append(_mut_info)\n",
    "        if _mut_info > 0 and len([x for x in files if re.sub('_seg.npy','',re.sub('matt_raw_warped_single_upsampled_seg/','',i)) in x]) != 0:\n",
    "            graph_0001 = nx.read_gpickle([x for x in files if re.sub('_seg.npy','',re.sub('matt_raw_warped_single_upsampled_seg/','',i)) in x][0])\n",
    "            followup_scan = re.sub('_warped_seg.npy','',re.sub('matt_raw_warped_single_upsampled_seg/','',i)).split('-')[-1]\n",
    "            for edge in graph.edges:\n",
    "                graph_0001[edge[0]][edge[1]]['vessel_id'] = graph[edge[0]][edge[1]]['vessel_id']\n",
    "                graph_0001[edge[0]][edge[1]]['scan'] = re.sub('_0001','',followup_scan)\n",
    "            nx.write_gpickle(graph_0001,re.sub('preds_graphs_fwhm_single','preds_graphs_fwhm_single_excel',[x for x in files if re.sub('_seg.npy','',re.sub('matt_raw_warped_single_upsampled_seg/','',i)) in x][0]))\n",
    "        return _mut_info\n",
    "    pool = multiprocessing.Pool(32)\n",
    "    #pool.map(process_file, mov_files)\n",
    "    mut_info = pool.map(process_file, mov_files)\n",
    "    mut_info_fin.extend(mut_info)\n",
    "    #for i in mov_files:\n",
    "    #    img_0001 = np.load(i)\n",
    "    #    _mut_info = normalized_mutual_info_score(_img.flatten(),img_0001.flatten()) # calculate mutual information between masks, judges registration\n",
    "    #    mut_info.append(_mut_info)\n",
    "    #    if _mut_info > 0.1 and len([x for x in files if re.sub('_seg.npy','',re.sub('matt_raw_warped_single_upsampled_seg/','',i)) in x]) != 0:\n",
    "    #        graph_0001 = nx.read_gpickle([x for x in files if re.sub('_seg.npy','',re.sub('matt_raw_warped_single_upsampled_seg/','',i)) in x][0])\n",
    "    #        followup_scan = re.sub('_warped_seg.npy','',re.sub('matt_raw_warped_single_upsampled_seg/','',i)).split('-')[-1]\n",
    "    #        for edge in graph.edges:\n",
    "    #            graph_0001[edge[0]][edge[1]]['vessel_id'] = graph[edge[0]][edge[1]]['vessel_id']\n",
    "    #            graph_0001[edge[0]][edge[1]]['scan'] = followup_scan\n",
    "    #        nx.write_gpickle(graph_0001,re.sub('preds_graphs_fwhm_single','preds_graphs_fwhm_single_excel',[x for x in files if re.sub('_seg.npy','',re.sub('matt_raw_warped_single_upsampled_seg/','',i)) in x][0]))\n",
    "    #        print(re.sub('preds_graphs_fwhm_single','preds_graphs_fwhm_single_excel',[x for x in files if re.sub('_seg.npy','',re.sub('matt_raw_warped_single_upsampled_seg/','',i)) in x][0]))\n",
    "print(ID)"
   ]
  },
  {
   "cell_type": "code",
   "execution_count": 42,
   "id": "4f5e5958-833a-4c0a-8c1e-155ad3700bea",
   "metadata": {},
   "outputs": [
    {
     "data": {
      "text/plain": [
       "['matt_raw_warped_single_upsampled_seg/06162021_45-XYZres288_0001_warped_seg.npy',\n",
       " 'matt_raw_warped_single_upsampled_seg/06162021_45-XYZres300_0001_warped_seg.npy',\n",
       " 'matt_raw_warped_single_upsampled_seg/06162021_45-XYZres300_warped_seg.npy']"
      ]
     },
     "execution_count": 42,
     "metadata": {},
     "output_type": "execute_result"
    }
   ],
   "source": [
    "mov_files"
   ]
  },
  {
   "cell_type": "code",
   "execution_count": 178,
   "id": "e1bbea3c",
   "metadata": {},
   "outputs": [
    {
     "data": {
      "text/plain": [
       "'matt_raw_warped_single_upsampled_seg/20200217_14-XYZres106_warped_seg.npy'"
      ]
     },
     "execution_count": 178,
     "metadata": {},
     "output_type": "execute_result"
    }
   ],
   "source": [
    "image"
   ]
  },
  {
   "cell_type": "markdown",
   "id": "433ec6d6-62fe-45a3-8110-9e8e7395fe89",
   "metadata": {},
   "source": [
    "# convert graphs to excel files"
   ]
  },
  {
   "cell_type": "code",
   "execution_count": 44,
   "id": "862c43de-9a0c-4a20-9e1d-418fd88a8ffa",
   "metadata": {},
   "outputs": [
    {
     "name": "stdout",
     "output_type": "stream",
     "text": [
      "794\n",
      "45\n"
     ]
    },
    {
     "data": {
      "text/plain": [
       "['matt_preds_graphs_fwhm_single_excel/20230426_01-XYZres433_0001_warped_radii_amended.pickle',\n",
       " 'matt_preds_graphs_fwhm_single_excel/20230426_01-XYZres433_warped_radii_amended.pickle',\n",
       " 'matt_preds_graphs_fwhm_single_excel/20230426_01-XYZres434_0001_warped_radii_amended.pickle',\n",
       " 'matt_preds_graphs_fwhm_single_excel/20230426_01-XYZres434_warped_radii_amended.pickle',\n",
       " 'matt_preds_graphs_fwhm_single_excel/20230426_01-XYZres435_0001_warped_radii_amended.pickle',\n",
       " 'matt_preds_graphs_fwhm_single_excel/20230426_01-XYZres435_warped_radii_amended.pickle',\n",
       " 'matt_preds_graphs_fwhm_single_excel/20230426_01-XYZres436_0001_warped_radii_amended.pickle',\n",
       " 'matt_preds_graphs_fwhm_single_excel/20230426_01-XYZres437_0001_warped_radii_amended.pickle',\n",
       " 'matt_preds_graphs_fwhm_single_excel/20230426_01-XYZres437_warped_radii_amended.pickle',\n",
       " 'matt_preds_graphs_fwhm_single_excel/20230426_01-XYZres438_0001_warped_radii_amended.pickle']"
      ]
     },
     "execution_count": 44,
     "metadata": {},
     "output_type": "execute_result"
    }
   ],
   "source": [
    "directory = Path('matt_preds_graphs_fwhm_single')\n",
    "_files = directory.glob('*_warped_radii.pickle')\n",
    "_files = sorted([x.as_posix() for x in _files])\n",
    "_files2 = directory.glob('*_radii_forepaw.pickle')\n",
    "_files2 = sorted([x.as_posix() for x in _files2])\n",
    "_files += _files2\n",
    "_files = sorted(_files)\n",
    "print(len(_files))\n",
    "\n",
    "directory = Path('matt_preds_graphs_fwhm_single_excel')\n",
    "files = directory.glob('*_radii*amended.pickle')\n",
    "files = sorted([x.as_posix() for x in files])\n",
    "files = [x for x in files if any(y in x for y in ['_01','_02','_03','_04'])] #just grab c57 mice\n",
    "#files = [x for x in files if any(re.sub('matt_preds_graphs_fwhm_single_excel/','',re.sub('_amended','',files[0])) not in y for y in _files)]\n",
    "print(len(files))\n",
    "files[0:10]"
   ]
  },
  {
   "cell_type": "code",
   "execution_count": 45,
   "id": "546a83de-29c3-46c2-b100-8a6a6f023d8f",
   "metadata": {},
   "outputs": [],
   "source": [
    "#_files[0:10]"
   ]
  },
  {
   "cell_type": "code",
   "execution_count": 46,
   "id": "f570d5a8-4afd-4624-ba8c-f5893fa638b2",
   "metadata": {},
   "outputs": [],
   "source": [
    "#re.sub('matt_preds_graphs_fwhm_single_excel/','',re.sub('_amended','',files[0])) "
   ]
  },
  {
   "cell_type": "code",
   "execution_count": 49,
   "id": "b0a1f087-f8b8-4de6-96d2-2ae4fbf9f74c",
   "metadata": {},
   "outputs": [
    {
     "name": "stderr",
     "output_type": "stream",
     "text": [
      "100%|██████████| 402/402 [00:00<00:00, 4045.84it/s]\n",
      "  0%|          | 0/44 [00:00<?, ?it/s]/tmp/ipykernel_446294/1563809503.py:37: FutureWarning:\n",
      "\n",
      "The frame.append method is deprecated and will be removed from pandas in a future version. Use pandas.concat instead.\n",
      "\n",
      "  2%|▏         | 1/44 [00:00<00:05,  7.54it/s]/tmp/ipykernel_446294/1563809503.py:37: FutureWarning:\n",
      "\n",
      "The frame.append method is deprecated and will be removed from pandas in a future version. Use pandas.concat instead.\n",
      "\n",
      "  5%|▍         | 2/44 [00:00<00:07,  5.68it/s]/tmp/ipykernel_446294/1563809503.py:37: FutureWarning:\n",
      "\n",
      "The frame.append method is deprecated and will be removed from pandas in a future version. Use pandas.concat instead.\n",
      "\n",
      "  7%|▋         | 3/44 [00:00<00:08,  4.93it/s]/tmp/ipykernel_446294/1563809503.py:37: FutureWarning:\n",
      "\n",
      "The frame.append method is deprecated and will be removed from pandas in a future version. Use pandas.concat instead.\n",
      "\n",
      "  9%|▉         | 4/44 [00:00<00:08,  4.81it/s]/tmp/ipykernel_446294/1563809503.py:37: FutureWarning:\n",
      "\n",
      "The frame.append method is deprecated and will be removed from pandas in a future version. Use pandas.concat instead.\n",
      "\n",
      " 11%|█▏        | 5/44 [00:01<00:08,  4.71it/s]/tmp/ipykernel_446294/1563809503.py:37: FutureWarning:\n",
      "\n",
      "The frame.append method is deprecated and will be removed from pandas in a future version. Use pandas.concat instead.\n",
      "\n",
      " 14%|█▎        | 6/44 [00:01<00:06,  5.50it/s]/tmp/ipykernel_446294/1563809503.py:37: FutureWarning:\n",
      "\n",
      "The frame.append method is deprecated and will be removed from pandas in a future version. Use pandas.concat instead.\n",
      "\n",
      " 16%|█▌        | 7/44 [00:01<00:07,  4.98it/s]/tmp/ipykernel_446294/1563809503.py:37: FutureWarning:\n",
      "\n",
      "The frame.append method is deprecated and will be removed from pandas in a future version. Use pandas.concat instead.\n",
      "\n",
      " 18%|█▊        | 8/44 [00:01<00:06,  5.27it/s]/tmp/ipykernel_446294/1563809503.py:37: FutureWarning:\n",
      "\n",
      "The frame.append method is deprecated and will be removed from pandas in a future version. Use pandas.concat instead.\n",
      "\n",
      " 20%|██        | 9/44 [00:01<00:08,  4.32it/s]/tmp/ipykernel_446294/1563809503.py:37: FutureWarning:\n",
      "\n",
      "The frame.append method is deprecated and will be removed from pandas in a future version. Use pandas.concat instead.\n",
      "\n",
      " 23%|██▎       | 10/44 [00:02<00:07,  4.28it/s]/tmp/ipykernel_446294/1563809503.py:37: FutureWarning:\n",
      "\n",
      "The frame.append method is deprecated and will be removed from pandas in a future version. Use pandas.concat instead.\n",
      "\n",
      " 25%|██▌       | 11/44 [00:02<00:07,  4.26it/s]/tmp/ipykernel_446294/1563809503.py:37: FutureWarning:\n",
      "\n",
      "The frame.append method is deprecated and will be removed from pandas in a future version. Use pandas.concat instead.\n",
      "\n",
      " 27%|██▋       | 12/44 [00:02<00:07,  4.03it/s]/tmp/ipykernel_446294/1563809503.py:37: FutureWarning:\n",
      "\n",
      "The frame.append method is deprecated and will be removed from pandas in a future version. Use pandas.concat instead.\n",
      "\n",
      " 30%|██▉       | 13/44 [00:02<00:07,  4.18it/s]/tmp/ipykernel_446294/1563809503.py:37: FutureWarning:\n",
      "\n",
      "The frame.append method is deprecated and will be removed from pandas in a future version. Use pandas.concat instead.\n",
      "\n",
      " 32%|███▏      | 14/44 [00:02<00:06,  4.90it/s]/tmp/ipykernel_446294/1563809503.py:37: FutureWarning:\n",
      "\n",
      "The frame.append method is deprecated and will be removed from pandas in a future version. Use pandas.concat instead.\n",
      "\n",
      " 34%|███▍      | 15/44 [00:03<00:05,  4.92it/s]/tmp/ipykernel_446294/1563809503.py:37: FutureWarning:\n",
      "\n",
      "The frame.append method is deprecated and will be removed from pandas in a future version. Use pandas.concat instead.\n",
      "\n",
      " 36%|███▋      | 16/44 [00:03<00:05,  5.21it/s]/tmp/ipykernel_446294/1563809503.py:37: FutureWarning:\n",
      "\n",
      "The frame.append method is deprecated and will be removed from pandas in a future version. Use pandas.concat instead.\n",
      "\n",
      " 39%|███▊      | 17/44 [00:03<00:06,  4.32it/s]/tmp/ipykernel_446294/1563809503.py:37: FutureWarning:\n",
      "\n",
      "The frame.append method is deprecated and will be removed from pandas in a future version. Use pandas.concat instead.\n",
      "\n",
      " 41%|████      | 18/44 [00:03<00:05,  4.37it/s]/tmp/ipykernel_446294/1563809503.py:37: FutureWarning:\n",
      "\n",
      "The frame.append method is deprecated and will be removed from pandas in a future version. Use pandas.concat instead.\n",
      "\n",
      " 43%|████▎     | 19/44 [00:04<00:06,  3.86it/s]/tmp/ipykernel_446294/1563809503.py:37: FutureWarning:\n",
      "\n",
      "The frame.append method is deprecated and will be removed from pandas in a future version. Use pandas.concat instead.\n",
      "\n",
      " 45%|████▌     | 20/44 [00:04<00:05,  4.58it/s]/tmp/ipykernel_446294/1563809503.py:37: FutureWarning:\n",
      "\n",
      "The frame.append method is deprecated and will be removed from pandas in a future version. Use pandas.concat instead.\n",
      "\n",
      " 48%|████▊     | 21/44 [00:04<00:04,  4.67it/s]/tmp/ipykernel_446294/1563809503.py:37: FutureWarning:\n",
      "\n",
      "The frame.append method is deprecated and will be removed from pandas in a future version. Use pandas.concat instead.\n",
      "\n",
      " 50%|█████     | 22/44 [00:04<00:05,  4.11it/s]/tmp/ipykernel_446294/1563809503.py:37: FutureWarning:\n",
      "\n",
      "The frame.append method is deprecated and will be removed from pandas in a future version. Use pandas.concat instead.\n",
      "\n",
      " 52%|█████▏    | 23/44 [00:05<00:05,  3.74it/s]/tmp/ipykernel_446294/1563809503.py:37: FutureWarning:\n",
      "\n",
      "The frame.append method is deprecated and will be removed from pandas in a future version. Use pandas.concat instead.\n",
      "\n",
      " 55%|█████▍    | 24/44 [00:05<00:05,  3.47it/s]/tmp/ipykernel_446294/1563809503.py:37: FutureWarning:\n",
      "\n",
      "The frame.append method is deprecated and will be removed from pandas in a future version. Use pandas.concat instead.\n",
      "\n",
      " 57%|█████▋    | 25/44 [00:05<00:05,  3.64it/s]/tmp/ipykernel_446294/1563809503.py:37: FutureWarning:\n",
      "\n",
      "The frame.append method is deprecated and will be removed from pandas in a future version. Use pandas.concat instead.\n",
      "\n",
      " 59%|█████▉    | 26/44 [00:05<00:04,  4.10it/s]/tmp/ipykernel_446294/1563809503.py:37: FutureWarning:\n",
      "\n",
      "The frame.append method is deprecated and will be removed from pandas in a future version. Use pandas.concat instead.\n",
      "\n",
      " 61%|██████▏   | 27/44 [00:06<00:04,  4.12it/s]/tmp/ipykernel_446294/1563809503.py:37: FutureWarning:\n",
      "\n",
      "The frame.append method is deprecated and will be removed from pandas in a future version. Use pandas.concat instead.\n",
      "\n",
      " 64%|██████▎   | 28/44 [00:06<00:03,  4.34it/s]/tmp/ipykernel_446294/1563809503.py:37: FutureWarning:\n",
      "\n",
      "The frame.append method is deprecated and will be removed from pandas in a future version. Use pandas.concat instead.\n",
      "\n",
      " 66%|██████▌   | 29/44 [00:06<00:03,  3.85it/s]/tmp/ipykernel_446294/1563809503.py:37: FutureWarning:\n",
      "\n",
      "The frame.append method is deprecated and will be removed from pandas in a future version. Use pandas.concat instead.\n",
      "\n",
      " 68%|██████▊   | 30/44 [00:06<00:03,  4.00it/s]/tmp/ipykernel_446294/1563809503.py:37: FutureWarning:\n",
      "\n",
      "The frame.append method is deprecated and will be removed from pandas in a future version. Use pandas.concat instead.\n",
      "\n",
      " 70%|███████   | 31/44 [00:07<00:03,  4.12it/s]/tmp/ipykernel_446294/1563809503.py:37: FutureWarning:\n",
      "\n",
      "The frame.append method is deprecated and will be removed from pandas in a future version. Use pandas.concat instead.\n",
      "\n",
      " 73%|███████▎  | 32/44 [00:07<00:02,  4.79it/s]/tmp/ipykernel_446294/1563809503.py:37: FutureWarning:\n",
      "\n",
      "The frame.append method is deprecated and will be removed from pandas in a future version. Use pandas.concat instead.\n",
      "\n",
      " 75%|███████▌  | 33/44 [00:07<00:02,  3.93it/s]/tmp/ipykernel_446294/1563809503.py:37: FutureWarning:\n",
      "\n",
      "The frame.append method is deprecated and will be removed from pandas in a future version. Use pandas.concat instead.\n",
      "\n",
      " 77%|███████▋  | 34/44 [00:07<00:02,  4.61it/s]/tmp/ipykernel_446294/1563809503.py:37: FutureWarning:\n",
      "\n",
      "The frame.append method is deprecated and will be removed from pandas in a future version. Use pandas.concat instead.\n",
      "\n",
      " 80%|███████▉  | 35/44 [00:07<00:01,  4.68it/s]/tmp/ipykernel_446294/1563809503.py:37: FutureWarning:\n",
      "\n",
      "The frame.append method is deprecated and will be removed from pandas in a future version. Use pandas.concat instead.\n",
      "\n",
      " 82%|████████▏ | 36/44 [00:08<00:01,  4.74it/s]/tmp/ipykernel_446294/1563809503.py:37: FutureWarning:\n",
      "\n",
      "The frame.append method is deprecated and will be removed from pandas in a future version. Use pandas.concat instead.\n",
      "\n",
      " 84%|████████▍ | 37/44 [00:08<00:01,  5.01it/s]/tmp/ipykernel_446294/1563809503.py:37: FutureWarning:\n",
      "\n",
      "The frame.append method is deprecated and will be removed from pandas in a future version. Use pandas.concat instead.\n",
      "\n",
      " 86%|████████▋ | 38/44 [00:08<00:01,  4.70it/s]/tmp/ipykernel_446294/1563809503.py:37: FutureWarning:\n",
      "\n",
      "The frame.append method is deprecated and will be removed from pandas in a future version. Use pandas.concat instead.\n",
      "\n",
      " 89%|████████▊ | 39/44 [00:08<00:01,  4.60it/s]/tmp/ipykernel_446294/1563809503.py:37: FutureWarning:\n",
      "\n",
      "The frame.append method is deprecated and will be removed from pandas in a future version. Use pandas.concat instead.\n",
      "\n",
      " 91%|█████████ | 40/44 [00:08<00:00,  4.90it/s]/tmp/ipykernel_446294/1563809503.py:37: FutureWarning:\n",
      "\n",
      "The frame.append method is deprecated and will be removed from pandas in a future version. Use pandas.concat instead.\n",
      "\n",
      " 93%|█████████▎| 41/44 [00:09<00:00,  4.89it/s]/tmp/ipykernel_446294/1563809503.py:37: FutureWarning:\n",
      "\n",
      "The frame.append method is deprecated and will be removed from pandas in a future version. Use pandas.concat instead.\n",
      "\n",
      " 95%|█████████▌| 42/44 [00:09<00:00,  4.14it/s]/tmp/ipykernel_446294/1563809503.py:37: FutureWarning:\n",
      "\n",
      "The frame.append method is deprecated and will be removed from pandas in a future version. Use pandas.concat instead.\n",
      "\n",
      " 98%|█████████▊| 43/44 [00:09<00:00,  4.12it/s]/tmp/ipykernel_446294/1563809503.py:37: FutureWarning:\n",
      "\n",
      "The frame.append method is deprecated and will be removed from pandas in a future version. Use pandas.concat instead.\n",
      "\n",
      "100%|██████████| 44/44 [00:10<00:00,  4.40it/s]\n"
     ]
    }
   ],
   "source": [
    "b, a = sp.signal.butter(3, 0.05/0.5, btype='low', analog=False, fs=1)\n",
    "res=[]\n",
    "np.random.shuffle(files)\n",
    "graph = nx.read_gpickle(files[0])\n",
    "for edge in tqdm(graph.edges):\n",
    "    graph[edge[0]][edge[1]]['path_weights'] = np.nan_to_num(graph[edge[0]][edge[1]]['path_weights'])\n",
    "    graph[edge[0]][edge[1]]['path_weights_filtered'] = sp.signal.filtfilt(b, a, graph[edge[0]][edge[1]]['path_weights'],padlen=0)\n",
    "    graph[edge[0]][edge[1]]['radii_smoothed'] = np.mean(graph[edge[0]][edge[1]]['path_weights_filtered'])\n",
    "df = nx.to_pandas_edgelist(graph)\n",
    "if 'forepaw' not in files[0]: \n",
    "    df['stim'] = np.repeat('optogenetic',len(df))\n",
    "    df['current'] = \"NA\"\n",
    "    df['frequency'] = \"NA\"\n",
    "elif 'forepaw' in files[0]: \n",
    "    df['stim'] = np.repeat('forepaw',len(df))\n",
    "    df['wavelength'] = \"NA\"\n",
    "    df['power'] = \"NA\"\n",
    "if '_0001' in files[0]:\n",
    "    df['scan'] = df['scan'] + '_0001'\n",
    "for file in tqdm(files[1:]):\n",
    "    graph = nx.read_gpickle(file)\n",
    "    for edge in graph.edges:\n",
    "        graph[edge[0]][edge[1]]['path_weights'] = np.nan_to_num(graph[edge[0]][edge[1]]['path_weights'])\n",
    "        graph[edge[0]][edge[1]]['path_weights_filtered'] = sp.signal.filtfilt(b, a, graph[edge[0]][edge[1]]['path_weights'],padlen=0)\n",
    "        graph[edge[0]][edge[1]]['radii_smoothed'] = np.mean(graph[edge[0]][edge[1]]['path_weights_filtered'])\n",
    "    edge_df = nx.to_pandas_edgelist(graph)\n",
    "    if 'forepaw' not in file: \n",
    "        edge_df['stim'] = np.repeat('optogenetic',len(edge_df))\n",
    "        edge_df['current'] = np.repeat('NA',len(edge_df))\n",
    "        edge_df['frequency'] = np.repeat('NA',len(edge_df))\n",
    "    elif 'forepaw' in file: \n",
    "        edge_df['stim'] = np.repeat('forepaw',len(edge_df))\n",
    "        edge_df['wavelength'] = np.repeat('NA',len(edge_df))\n",
    "        edge_df['power'] = np.repeat('NA',len(edge_df))\n",
    "    if '_0001' in file:\n",
    "        edge_df['scan'] = edge_df['scan'] + '_0001'\n",
    "    df = df.append(edge_df, ignore_index=True)\n",
    "df['mean_vessel_radii_baseline'] = 0\n",
    "df['std_vessel_radii_baseline'] = 0\n",
    "df['num_vessel_radii_baseline'] = 0\n",
    "df['scan'] = df['subject'] + '_' + df['scan']\n",
    "    #edge_df.to_excel(re.sub('matt_preds_graphs_fwhm_single','matt_preds_graphs_fwhm_single_excel',re.sub('.pickle','.xlsx',file)))\n",
    "    #res.append(len(edge_df))\n",
    "    #print(edge_df.shape"
   ]
  },
  {
   "cell_type": "code",
   "execution_count": 50,
   "id": "5b968725-e836-4251-a422-11f31a3a3de7",
   "metadata": {},
   "outputs": [],
   "source": [
    "df['vertex_id_base'] = df['path_weights']"
   ]
  },
  {
   "cell_type": "code",
   "execution_count": 51,
   "id": "ae9f9f65-d416-4789-ae96-524d597ae13e",
   "metadata": {},
   "outputs": [
    {
     "name": "stderr",
     "output_type": "stream",
     "text": [
      "100%|██████████| 4407/4407 [00:40<00:00, 109.21it/s]\n"
     ]
    }
   ],
   "source": [
    "for i in tqdm(np.unique(df['vessel_id'])):\n",
    "    df['mean_vessel_radii_baseline'].iloc[np.where(df['vessel_id']==i)] = np.mean(df.iloc[np.where(df['vessel_id']==i)][~df.iloc[np.where(df['vessel_id']==i)]['scan'].str.contains('_0001')]['radii'])\n",
    "    df['std_vessel_radii_baseline'].iloc[np.where(df['vessel_id']==i)] = np.std(df.iloc[np.where(df['vessel_id']==i)][~df.iloc[np.where(df['vessel_id']==i)]['scan'].str.contains('_0001')]['radii'])\n",
    "    df['num_vessel_radii_baseline'].iloc[np.where(df['vessel_id']==i)] = len(df.iloc[np.where(df['vessel_id']==i)][~df.iloc[np.where(df['vessel_id']==i)]['scan'].str.contains('_0001')]['radii'])\n",
    "    for j in list(np.where(df['vessel_id']==i))[0]:\n",
    "        #print(j)\n",
    "        df['vertex_id_base'].iloc[j] = list(np.arange(0,len(list(df['path_weights'].iloc[np.where(df['vessel_id']==i)])[0])))"
   ]
  },
  {
   "cell_type": "code",
   "execution_count": 52,
   "id": "5c7b5d3b-2e1c-4173-b5e5-88441573f83f",
   "metadata": {},
   "outputs": [
    {
     "data": {
      "text/plain": [
       "array([], dtype=float64)"
      ]
     },
     "execution_count": 52,
     "metadata": {},
     "output_type": "execute_result"
    }
   ],
   "source": [
    "np.repeat(tuple(),len(df['vertex_id_base'].iloc[np.where(df['vessel_id']==i-1)]),axis=0)    "
   ]
  },
  {
   "cell_type": "code",
   "execution_count": 53,
   "id": "fc3feeea-3a6e-4227-96e1-d9e2361cdfc9",
   "metadata": {},
   "outputs": [],
   "source": [
    "#df.iloc[0]"
   ]
  },
  {
   "cell_type": "code",
   "execution_count": 54,
   "id": "9ac5b147-aaa7-4680-8c46-e9675860bf8e",
   "metadata": {},
   "outputs": [
    {
     "name": "stderr",
     "output_type": "stream",
     "text": [
      "100%|██████████| 18455/18455 [00:38<00:00, 478.56it/s] \n"
     ]
    }
   ],
   "source": [
    "# Create a mask for rows containing '_0001'\n",
    "mask = df['scan'].str.contains('_0001')\n",
    "exit \n",
    "# Set 'delta_radii' and 'timepoint' for rows without '_0001'\n",
    "df.loc[~mask, ['delta_radii', 'timepoint']] = [0, 0]\n",
    "\n",
    "# Set 'timepoint' for rows with '_0001'\n",
    "df.loc[mask, 'timepoint'] = 1\n",
    "\n",
    "# Find unique scan values\n",
    "unique_scans = np.unique(df['scan'])\n",
    "\n",
    "# Iterate over the rows with '_0001'\n",
    "for i in tqdm(df[mask].index):\n",
    "    scan_without_suffix = df.at[i, 'scan'].replace('_0001', '')\n",
    "    if scan_without_suffix in unique_scans:\n",
    "        # Find the corresponding row index for the matching scan and vessel_id\n",
    "        match_mask = (df['scan'] == scan_without_suffix) & (df['vessel_id'] == df.at[i, 'vessel_id'])\n",
    "        match_idx = df[match_mask].index\n",
    "        if not match_idx.empty:\n",
    "            # Calculate 'delta_radii' using the matching row index\n",
    "            df.at[i, 'delta_radii'] = df.at[i, 'radii'] - df.at[match_idx[0], 'radii']\n",
    "        else:\n",
    "            df.at[i, 'delta_radii'] = np.nan\n",
    "    else:\n",
    "        df.at[i, 'delta_radii'] = np.nan"
   ]
  },
  {
   "cell_type": "code",
   "execution_count": 55,
   "id": "5f0319d0-c4e8-4f3c-828a-c56ba1404bc2",
   "metadata": {},
   "outputs": [
    {
     "data": {
      "text/plain": [
       "0       -0.005549\n",
       "1       -0.179508\n",
       "2        0.003673\n",
       "3        0.038899\n",
       "4       -0.032109\n",
       "           ...   \n",
       "33253         NaN\n",
       "33254         NaN\n",
       "33255         NaN\n",
       "33256         NaN\n",
       "33257         NaN\n",
       "Name: delta_radii, Length: 33258, dtype: float64"
      ]
     },
     "execution_count": 55,
     "metadata": {},
     "output_type": "execute_result"
    }
   ],
   "source": [
    "df['delta_radii']"
   ]
  },
  {
   "cell_type": "code",
   "execution_count": null,
   "id": "6d753ea5-3c4c-4008-ad77-9ee67788e27e",
   "metadata": {},
   "outputs": [],
   "source": [
    "#df['delta_radii'] = 0\n",
    "#df['timepoint'] = '_'\n",
    "#for i in tqdm(range(len(df))):\n",
    "#    if '_0001' not in df.iloc[i]['scan']:\n",
    "#        df['delta_radii'].iloc[i] = 0\n",
    "#        df['timepoint'].iloc[i] = 'pre-stimulus'\n",
    "#    elif '_0001' in df.iloc[i]['scan']:\n",
    "#        df['timepoint'].iloc[i] = 'post-stimulus'\n",
    "#        if re.sub('_0001','',df.iloc[i]['scan']) in np.unique(df['scan']):\n",
    "#            df['delta_radii'].iloc[i] = df['radii'].iloc[i] - df['radii'].iloc[np.where((df['scan'] == re.sub('_0001','',df.iloc[i]['scan'])) & (df['vessel_id']==df.iloc[i]['vessel_id']))]\n",
    "#        elif re.sub('_0001','',df.iloc[i]['scan']) not in np.unique(df['scan']):\n",
    "#            df['delta_radii'].iloc[i] = \"NA\"\n",
    "#        else:\n",
    "#            print('error')\n",
    "#            break\n",
    "#    else:\n",
    "#        print('error')\n",
    "#        break"
   ]
  },
  {
   "cell_type": "code",
   "execution_count": 57,
   "id": "c8f6466a-7a1e-4f79-9fd1-f65990626d75",
   "metadata": {},
   "outputs": [],
   "source": [
    "df.to_excel('results_c57.xlsx')"
   ]
  },
  {
   "cell_type": "code",
   "execution_count": 56,
   "id": "ca55bbb3-9ae6-4500-bf29-05c2e9e7c87d",
   "metadata": {},
   "outputs": [
    {
     "ename": "KeyboardInterrupt",
     "evalue": "",
     "output_type": "error",
     "traceback": [
      "\u001b[0;31m---------------------------------------------------------------------------\u001b[0m",
      "\u001b[0;31mKeyboardInterrupt\u001b[0m                         Traceback (most recent call last)",
      "\u001b[0;32m/tmp/ipykernel_446294/3165073981.py\u001b[0m in \u001b[0;36m<module>\u001b[0;34m\u001b[0m\n\u001b[0;32m----> 1\u001b[0;31m \u001b[0mdf\u001b[0m\u001b[0;34m.\u001b[0m\u001b[0mto_excel\u001b[0m\u001b[0;34m(\u001b[0m\u001b[0;34m'matt_preds_graphs_fwhm_single_excel/results_c57.xlsx'\u001b[0m\u001b[0;34m)\u001b[0m\u001b[0;34m\u001b[0m\u001b[0;34m\u001b[0m\u001b[0m\n\u001b[0m",
      "\u001b[0;32m/lustre06/project/6023374/rozakmat/monai3.8/lib/python3.8/site-packages/pandas/util/_decorators.py\u001b[0m in \u001b[0;36mwrapper\u001b[0;34m(*args, **kwargs)\u001b[0m\n\u001b[1;32m    209\u001b[0m                 \u001b[0;32melse\u001b[0m\u001b[0;34m:\u001b[0m\u001b[0;34m\u001b[0m\u001b[0;34m\u001b[0m\u001b[0m\n\u001b[1;32m    210\u001b[0m                     \u001b[0mkwargs\u001b[0m\u001b[0;34m[\u001b[0m\u001b[0mnew_arg_name\u001b[0m\u001b[0;34m]\u001b[0m \u001b[0;34m=\u001b[0m \u001b[0mnew_arg_value\u001b[0m\u001b[0;34m\u001b[0m\u001b[0;34m\u001b[0m\u001b[0m\n\u001b[0;32m--> 211\u001b[0;31m             \u001b[0;32mreturn\u001b[0m \u001b[0mfunc\u001b[0m\u001b[0;34m(\u001b[0m\u001b[0;34m*\u001b[0m\u001b[0margs\u001b[0m\u001b[0;34m,\u001b[0m \u001b[0;34m**\u001b[0m\u001b[0mkwargs\u001b[0m\u001b[0;34m)\u001b[0m\u001b[0;34m\u001b[0m\u001b[0;34m\u001b[0m\u001b[0m\n\u001b[0m\u001b[1;32m    212\u001b[0m \u001b[0;34m\u001b[0m\u001b[0m\n\u001b[1;32m    213\u001b[0m         \u001b[0;32mreturn\u001b[0m \u001b[0mcast\u001b[0m\u001b[0;34m(\u001b[0m\u001b[0mF\u001b[0m\u001b[0;34m,\u001b[0m \u001b[0mwrapper\u001b[0m\u001b[0;34m)\u001b[0m\u001b[0;34m\u001b[0m\u001b[0;34m\u001b[0m\u001b[0m\n",
      "\u001b[0;32m/lustre06/project/6023374/rozakmat/monai3.8/lib/python3.8/site-packages/pandas/util/_decorators.py\u001b[0m in \u001b[0;36mwrapper\u001b[0;34m(*args, **kwargs)\u001b[0m\n\u001b[1;32m    209\u001b[0m                 \u001b[0;32melse\u001b[0m\u001b[0;34m:\u001b[0m\u001b[0;34m\u001b[0m\u001b[0;34m\u001b[0m\u001b[0m\n\u001b[1;32m    210\u001b[0m                     \u001b[0mkwargs\u001b[0m\u001b[0;34m[\u001b[0m\u001b[0mnew_arg_name\u001b[0m\u001b[0;34m]\u001b[0m \u001b[0;34m=\u001b[0m \u001b[0mnew_arg_value\u001b[0m\u001b[0;34m\u001b[0m\u001b[0;34m\u001b[0m\u001b[0m\n\u001b[0;32m--> 211\u001b[0;31m             \u001b[0;32mreturn\u001b[0m \u001b[0mfunc\u001b[0m\u001b[0;34m(\u001b[0m\u001b[0;34m*\u001b[0m\u001b[0margs\u001b[0m\u001b[0;34m,\u001b[0m \u001b[0;34m**\u001b[0m\u001b[0mkwargs\u001b[0m\u001b[0;34m)\u001b[0m\u001b[0;34m\u001b[0m\u001b[0;34m\u001b[0m\u001b[0m\n\u001b[0m\u001b[1;32m    212\u001b[0m \u001b[0;34m\u001b[0m\u001b[0m\n\u001b[1;32m    213\u001b[0m         \u001b[0;32mreturn\u001b[0m \u001b[0mcast\u001b[0m\u001b[0;34m(\u001b[0m\u001b[0mF\u001b[0m\u001b[0;34m,\u001b[0m \u001b[0mwrapper\u001b[0m\u001b[0;34m)\u001b[0m\u001b[0;34m\u001b[0m\u001b[0;34m\u001b[0m\u001b[0m\n",
      "\u001b[0;32m/lustre06/project/6023374/rozakmat/monai3.8/lib/python3.8/site-packages/pandas/core/generic.py\u001b[0m in \u001b[0;36mto_excel\u001b[0;34m(self, excel_writer, sheet_name, na_rep, float_format, columns, header, index, index_label, startrow, startcol, engine, merge_cells, encoding, inf_rep, verbose, freeze_panes, storage_options)\u001b[0m\n\u001b[1;32m   2372\u001b[0m             \u001b[0minf_rep\u001b[0m\u001b[0;34m=\u001b[0m\u001b[0minf_rep\u001b[0m\u001b[0;34m,\u001b[0m\u001b[0;34m\u001b[0m\u001b[0;34m\u001b[0m\u001b[0m\n\u001b[1;32m   2373\u001b[0m         )\n\u001b[0;32m-> 2374\u001b[0;31m         formatter.write(\n\u001b[0m\u001b[1;32m   2375\u001b[0m             \u001b[0mexcel_writer\u001b[0m\u001b[0;34m,\u001b[0m\u001b[0;34m\u001b[0m\u001b[0;34m\u001b[0m\u001b[0m\n\u001b[1;32m   2376\u001b[0m             \u001b[0msheet_name\u001b[0m\u001b[0;34m=\u001b[0m\u001b[0msheet_name\u001b[0m\u001b[0;34m,\u001b[0m\u001b[0;34m\u001b[0m\u001b[0;34m\u001b[0m\u001b[0m\n",
      "\u001b[0;32m/lustre06/project/6023374/rozakmat/monai3.8/lib/python3.8/site-packages/pandas/io/formats/excel.py\u001b[0m in \u001b[0;36mwrite\u001b[0;34m(self, writer, sheet_name, startrow, startcol, freeze_panes, engine, storage_options)\u001b[0m\n\u001b[1;32m    958\u001b[0m             \u001b[0;31m# make sure to close opened file handles\u001b[0m\u001b[0;34m\u001b[0m\u001b[0;34m\u001b[0m\u001b[0;34m\u001b[0m\u001b[0m\n\u001b[1;32m    959\u001b[0m             \u001b[0;32mif\u001b[0m \u001b[0mneed_save\u001b[0m\u001b[0;34m:\u001b[0m\u001b[0;34m\u001b[0m\u001b[0;34m\u001b[0m\u001b[0m\n\u001b[0;32m--> 960\u001b[0;31m                 \u001b[0mwriter\u001b[0m\u001b[0;34m.\u001b[0m\u001b[0mclose\u001b[0m\u001b[0;34m(\u001b[0m\u001b[0;34m)\u001b[0m\u001b[0;34m\u001b[0m\u001b[0;34m\u001b[0m\u001b[0m\n\u001b[0m",
      "\u001b[0;32m/lustre06/project/6023374/rozakmat/monai3.8/lib/python3.8/site-packages/pandas/io/excel/_base.py\u001b[0m in \u001b[0;36mclose\u001b[0;34m(self)\u001b[0m\n\u001b[1;32m   1478\u001b[0m     \u001b[0;32mdef\u001b[0m \u001b[0mclose\u001b[0m\u001b[0;34m(\u001b[0m\u001b[0mself\u001b[0m\u001b[0;34m)\u001b[0m \u001b[0;34m->\u001b[0m \u001b[0;32mNone\u001b[0m\u001b[0;34m:\u001b[0m\u001b[0;34m\u001b[0m\u001b[0;34m\u001b[0m\u001b[0m\n\u001b[1;32m   1479\u001b[0m         \u001b[0;34m\"\"\"synonym for save, to make it more file-like\"\"\"\u001b[0m\u001b[0;34m\u001b[0m\u001b[0;34m\u001b[0m\u001b[0m\n\u001b[0;32m-> 1480\u001b[0;31m         \u001b[0mself\u001b[0m\u001b[0;34m.\u001b[0m\u001b[0m_save\u001b[0m\u001b[0;34m(\u001b[0m\u001b[0;34m)\u001b[0m\u001b[0;34m\u001b[0m\u001b[0;34m\u001b[0m\u001b[0m\n\u001b[0m\u001b[1;32m   1481\u001b[0m         \u001b[0mself\u001b[0m\u001b[0;34m.\u001b[0m\u001b[0m_handles\u001b[0m\u001b[0;34m.\u001b[0m\u001b[0mclose\u001b[0m\u001b[0;34m(\u001b[0m\u001b[0;34m)\u001b[0m\u001b[0;34m\u001b[0m\u001b[0;34m\u001b[0m\u001b[0m\n\u001b[1;32m   1482\u001b[0m \u001b[0;34m\u001b[0m\u001b[0m\n",
      "\u001b[0;32m/lustre06/project/6023374/rozakmat/monai3.8/lib/python3.8/site-packages/pandas/io/excel/_openpyxl.py\u001b[0m in \u001b[0;36m_save\u001b[0;34m(self)\u001b[0m\n\u001b[1;32m    107\u001b[0m         \u001b[0mSave\u001b[0m \u001b[0mworkbook\u001b[0m \u001b[0mto\u001b[0m \u001b[0mdisk\u001b[0m\u001b[0;34m.\u001b[0m\u001b[0;34m\u001b[0m\u001b[0;34m\u001b[0m\u001b[0m\n\u001b[1;32m    108\u001b[0m         \"\"\"\n\u001b[0;32m--> 109\u001b[0;31m         \u001b[0mself\u001b[0m\u001b[0;34m.\u001b[0m\u001b[0mbook\u001b[0m\u001b[0;34m.\u001b[0m\u001b[0msave\u001b[0m\u001b[0;34m(\u001b[0m\u001b[0mself\u001b[0m\u001b[0;34m.\u001b[0m\u001b[0m_handles\u001b[0m\u001b[0;34m.\u001b[0m\u001b[0mhandle\u001b[0m\u001b[0;34m)\u001b[0m\u001b[0;34m\u001b[0m\u001b[0;34m\u001b[0m\u001b[0m\n\u001b[0m\u001b[1;32m    110\u001b[0m         \u001b[0;32mif\u001b[0m \u001b[0;34m\"r+\"\u001b[0m \u001b[0;32min\u001b[0m \u001b[0mself\u001b[0m\u001b[0;34m.\u001b[0m\u001b[0m_mode\u001b[0m \u001b[0;32mand\u001b[0m \u001b[0;32mnot\u001b[0m \u001b[0misinstance\u001b[0m\u001b[0;34m(\u001b[0m\u001b[0mself\u001b[0m\u001b[0;34m.\u001b[0m\u001b[0m_handles\u001b[0m\u001b[0;34m.\u001b[0m\u001b[0mhandle\u001b[0m\u001b[0;34m,\u001b[0m \u001b[0mmmap\u001b[0m\u001b[0;34m.\u001b[0m\u001b[0mmmap\u001b[0m\u001b[0;34m)\u001b[0m\u001b[0;34m:\u001b[0m\u001b[0;34m\u001b[0m\u001b[0;34m\u001b[0m\u001b[0m\n\u001b[1;32m    111\u001b[0m             \u001b[0;31m# truncate file to the written content\u001b[0m\u001b[0;34m\u001b[0m\u001b[0;34m\u001b[0m\u001b[0;34m\u001b[0m\u001b[0m\n",
      "\u001b[0;32m/lustre06/project/6023374/rozakmat/monai3.8/lib/python3.8/site-packages/openpyxl/workbook/workbook.py\u001b[0m in \u001b[0;36msave\u001b[0;34m(self, filename)\u001b[0m\n\u001b[1;32m    405\u001b[0m         \u001b[0;32mif\u001b[0m \u001b[0mself\u001b[0m\u001b[0;34m.\u001b[0m\u001b[0mwrite_only\u001b[0m \u001b[0;32mand\u001b[0m \u001b[0;32mnot\u001b[0m \u001b[0mself\u001b[0m\u001b[0;34m.\u001b[0m\u001b[0mworksheets\u001b[0m\u001b[0;34m:\u001b[0m\u001b[0;34m\u001b[0m\u001b[0;34m\u001b[0m\u001b[0m\n\u001b[1;32m    406\u001b[0m             \u001b[0mself\u001b[0m\u001b[0;34m.\u001b[0m\u001b[0mcreate_sheet\u001b[0m\u001b[0;34m(\u001b[0m\u001b[0;34m)\u001b[0m\u001b[0;34m\u001b[0m\u001b[0;34m\u001b[0m\u001b[0m\n\u001b[0;32m--> 407\u001b[0;31m         \u001b[0msave_workbook\u001b[0m\u001b[0;34m(\u001b[0m\u001b[0mself\u001b[0m\u001b[0;34m,\u001b[0m \u001b[0mfilename\u001b[0m\u001b[0;34m)\u001b[0m\u001b[0;34m\u001b[0m\u001b[0;34m\u001b[0m\u001b[0m\n\u001b[0m\u001b[1;32m    408\u001b[0m \u001b[0;34m\u001b[0m\u001b[0m\n\u001b[1;32m    409\u001b[0m \u001b[0;34m\u001b[0m\u001b[0m\n",
      "\u001b[0;32m/lustre06/project/6023374/rozakmat/monai3.8/lib/python3.8/site-packages/openpyxl/writer/excel.py\u001b[0m in \u001b[0;36msave_workbook\u001b[0;34m(workbook, filename)\u001b[0m\n\u001b[1;32m    291\u001b[0m     \u001b[0marchive\u001b[0m \u001b[0;34m=\u001b[0m \u001b[0mZipFile\u001b[0m\u001b[0;34m(\u001b[0m\u001b[0mfilename\u001b[0m\u001b[0;34m,\u001b[0m \u001b[0;34m'w'\u001b[0m\u001b[0;34m,\u001b[0m \u001b[0mZIP_DEFLATED\u001b[0m\u001b[0;34m,\u001b[0m \u001b[0mallowZip64\u001b[0m\u001b[0;34m=\u001b[0m\u001b[0;32mTrue\u001b[0m\u001b[0;34m)\u001b[0m\u001b[0;34m\u001b[0m\u001b[0;34m\u001b[0m\u001b[0m\n\u001b[1;32m    292\u001b[0m     \u001b[0mwriter\u001b[0m \u001b[0;34m=\u001b[0m \u001b[0mExcelWriter\u001b[0m\u001b[0;34m(\u001b[0m\u001b[0mworkbook\u001b[0m\u001b[0;34m,\u001b[0m \u001b[0marchive\u001b[0m\u001b[0;34m)\u001b[0m\u001b[0;34m\u001b[0m\u001b[0;34m\u001b[0m\u001b[0m\n\u001b[0;32m--> 293\u001b[0;31m     \u001b[0mwriter\u001b[0m\u001b[0;34m.\u001b[0m\u001b[0msave\u001b[0m\u001b[0;34m(\u001b[0m\u001b[0;34m)\u001b[0m\u001b[0;34m\u001b[0m\u001b[0;34m\u001b[0m\u001b[0m\n\u001b[0m\u001b[1;32m    294\u001b[0m     \u001b[0;32mreturn\u001b[0m \u001b[0;32mTrue\u001b[0m\u001b[0;34m\u001b[0m\u001b[0;34m\u001b[0m\u001b[0m\n\u001b[1;32m    295\u001b[0m \u001b[0;34m\u001b[0m\u001b[0m\n",
      "\u001b[0;32m/lustre06/project/6023374/rozakmat/monai3.8/lib/python3.8/site-packages/openpyxl/writer/excel.py\u001b[0m in \u001b[0;36msave\u001b[0;34m(self)\u001b[0m\n\u001b[1;32m    273\u001b[0m     \u001b[0;32mdef\u001b[0m \u001b[0msave\u001b[0m\u001b[0;34m(\u001b[0m\u001b[0mself\u001b[0m\u001b[0;34m)\u001b[0m\u001b[0;34m:\u001b[0m\u001b[0;34m\u001b[0m\u001b[0;34m\u001b[0m\u001b[0m\n\u001b[1;32m    274\u001b[0m         \u001b[0;34m\"\"\"Write data into the archive.\"\"\"\u001b[0m\u001b[0;34m\u001b[0m\u001b[0;34m\u001b[0m\u001b[0m\n\u001b[0;32m--> 275\u001b[0;31m         \u001b[0mself\u001b[0m\u001b[0;34m.\u001b[0m\u001b[0mwrite_data\u001b[0m\u001b[0;34m(\u001b[0m\u001b[0;34m)\u001b[0m\u001b[0;34m\u001b[0m\u001b[0;34m\u001b[0m\u001b[0m\n\u001b[0m\u001b[1;32m    276\u001b[0m         \u001b[0mself\u001b[0m\u001b[0;34m.\u001b[0m\u001b[0m_archive\u001b[0m\u001b[0;34m.\u001b[0m\u001b[0mclose\u001b[0m\u001b[0;34m(\u001b[0m\u001b[0;34m)\u001b[0m\u001b[0;34m\u001b[0m\u001b[0;34m\u001b[0m\u001b[0m\n\u001b[1;32m    277\u001b[0m \u001b[0;34m\u001b[0m\u001b[0m\n",
      "\u001b[0;32m/lustre06/project/6023374/rozakmat/monai3.8/lib/python3.8/site-packages/openpyxl/writer/excel.py\u001b[0m in \u001b[0;36mwrite_data\u001b[0;34m(self)\u001b[0m\n\u001b[1;32m     73\u001b[0m             \u001b[0marchive\u001b[0m\u001b[0;34m.\u001b[0m\u001b[0mwritestr\u001b[0m\u001b[0;34m(\u001b[0m\u001b[0mARC_THEME\u001b[0m\u001b[0;34m,\u001b[0m \u001b[0mtheme_xml\u001b[0m\u001b[0;34m)\u001b[0m\u001b[0;34m\u001b[0m\u001b[0;34m\u001b[0m\u001b[0m\n\u001b[1;32m     74\u001b[0m \u001b[0;34m\u001b[0m\u001b[0m\n\u001b[0;32m---> 75\u001b[0;31m         \u001b[0mself\u001b[0m\u001b[0;34m.\u001b[0m\u001b[0m_write_worksheets\u001b[0m\u001b[0;34m(\u001b[0m\u001b[0;34m)\u001b[0m\u001b[0;34m\u001b[0m\u001b[0;34m\u001b[0m\u001b[0m\n\u001b[0m\u001b[1;32m     76\u001b[0m         \u001b[0mself\u001b[0m\u001b[0;34m.\u001b[0m\u001b[0m_write_chartsheets\u001b[0m\u001b[0;34m(\u001b[0m\u001b[0;34m)\u001b[0m\u001b[0;34m\u001b[0m\u001b[0;34m\u001b[0m\u001b[0m\n\u001b[1;32m     77\u001b[0m         \u001b[0mself\u001b[0m\u001b[0;34m.\u001b[0m\u001b[0m_write_images\u001b[0m\u001b[0;34m(\u001b[0m\u001b[0;34m)\u001b[0m\u001b[0;34m\u001b[0m\u001b[0;34m\u001b[0m\u001b[0m\n",
      "\u001b[0;32m/lustre06/project/6023374/rozakmat/monai3.8/lib/python3.8/site-packages/openpyxl/writer/excel.py\u001b[0m in \u001b[0;36m_write_worksheets\u001b[0;34m(self)\u001b[0m\n\u001b[1;32m    213\u001b[0m \u001b[0;34m\u001b[0m\u001b[0m\n\u001b[1;32m    214\u001b[0m             \u001b[0mws\u001b[0m\u001b[0;34m.\u001b[0m\u001b[0m_id\u001b[0m \u001b[0;34m=\u001b[0m \u001b[0midx\u001b[0m\u001b[0;34m\u001b[0m\u001b[0;34m\u001b[0m\u001b[0m\n\u001b[0;32m--> 215\u001b[0;31m             \u001b[0mself\u001b[0m\u001b[0;34m.\u001b[0m\u001b[0mwrite_worksheet\u001b[0m\u001b[0;34m(\u001b[0m\u001b[0mws\u001b[0m\u001b[0;34m)\u001b[0m\u001b[0;34m\u001b[0m\u001b[0;34m\u001b[0m\u001b[0m\n\u001b[0m\u001b[1;32m    216\u001b[0m \u001b[0;34m\u001b[0m\u001b[0m\n\u001b[1;32m    217\u001b[0m             \u001b[0;32mif\u001b[0m \u001b[0mws\u001b[0m\u001b[0;34m.\u001b[0m\u001b[0m_drawing\u001b[0m\u001b[0;34m:\u001b[0m\u001b[0;34m\u001b[0m\u001b[0;34m\u001b[0m\u001b[0m\n",
      "\u001b[0;32m/lustre06/project/6023374/rozakmat/monai3.8/lib/python3.8/site-packages/openpyxl/writer/excel.py\u001b[0m in \u001b[0;36mwrite_worksheet\u001b[0;34m(self, ws)\u001b[0m\n\u001b[1;32m    198\u001b[0m         \u001b[0;32melse\u001b[0m\u001b[0;34m:\u001b[0m\u001b[0;34m\u001b[0m\u001b[0;34m\u001b[0m\u001b[0m\n\u001b[1;32m    199\u001b[0m             \u001b[0mwriter\u001b[0m \u001b[0;34m=\u001b[0m \u001b[0mWorksheetWriter\u001b[0m\u001b[0;34m(\u001b[0m\u001b[0mws\u001b[0m\u001b[0;34m)\u001b[0m\u001b[0;34m\u001b[0m\u001b[0;34m\u001b[0m\u001b[0m\n\u001b[0;32m--> 200\u001b[0;31m             \u001b[0mwriter\u001b[0m\u001b[0;34m.\u001b[0m\u001b[0mwrite\u001b[0m\u001b[0;34m(\u001b[0m\u001b[0;34m)\u001b[0m\u001b[0;34m\u001b[0m\u001b[0;34m\u001b[0m\u001b[0m\n\u001b[0m\u001b[1;32m    201\u001b[0m \u001b[0;34m\u001b[0m\u001b[0m\n\u001b[1;32m    202\u001b[0m         \u001b[0mws\u001b[0m\u001b[0;34m.\u001b[0m\u001b[0m_rels\u001b[0m \u001b[0;34m=\u001b[0m \u001b[0mwriter\u001b[0m\u001b[0;34m.\u001b[0m\u001b[0m_rels\u001b[0m\u001b[0;34m\u001b[0m\u001b[0;34m\u001b[0m\u001b[0m\n",
      "\u001b[0;32m/lustre06/project/6023374/rozakmat/monai3.8/lib/python3.8/site-packages/openpyxl/worksheet/_writer.py\u001b[0m in \u001b[0;36mwrite\u001b[0;34m(self)\u001b[0m\n\u001b[1;32m    357\u001b[0m         \"\"\"\n\u001b[1;32m    358\u001b[0m         \u001b[0mself\u001b[0m\u001b[0;34m.\u001b[0m\u001b[0mwrite_top\u001b[0m\u001b[0;34m(\u001b[0m\u001b[0;34m)\u001b[0m\u001b[0;34m\u001b[0m\u001b[0;34m\u001b[0m\u001b[0m\n\u001b[0;32m--> 359\u001b[0;31m         \u001b[0mself\u001b[0m\u001b[0;34m.\u001b[0m\u001b[0mwrite_rows\u001b[0m\u001b[0;34m(\u001b[0m\u001b[0;34m)\u001b[0m\u001b[0;34m\u001b[0m\u001b[0;34m\u001b[0m\u001b[0m\n\u001b[0m\u001b[1;32m    360\u001b[0m         \u001b[0mself\u001b[0m\u001b[0;34m.\u001b[0m\u001b[0mwrite_tail\u001b[0m\u001b[0;34m(\u001b[0m\u001b[0;34m)\u001b[0m\u001b[0;34m\u001b[0m\u001b[0;34m\u001b[0m\u001b[0m\n\u001b[1;32m    361\u001b[0m         \u001b[0mself\u001b[0m\u001b[0;34m.\u001b[0m\u001b[0mclose\u001b[0m\u001b[0;34m(\u001b[0m\u001b[0;34m)\u001b[0m\u001b[0;34m\u001b[0m\u001b[0;34m\u001b[0m\u001b[0m\n",
      "\u001b[0;32m/lustre06/project/6023374/rozakmat/monai3.8/lib/python3.8/site-packages/openpyxl/worksheet/_writer.py\u001b[0m in \u001b[0;36mwrite_rows\u001b[0;34m(self)\u001b[0m\n\u001b[1;32m    123\u001b[0m         \u001b[0;32mwith\u001b[0m \u001b[0mxf\u001b[0m\u001b[0;34m.\u001b[0m\u001b[0melement\u001b[0m\u001b[0;34m(\u001b[0m\u001b[0;34m\"sheetData\"\u001b[0m\u001b[0;34m)\u001b[0m\u001b[0;34m:\u001b[0m\u001b[0;34m\u001b[0m\u001b[0;34m\u001b[0m\u001b[0m\n\u001b[1;32m    124\u001b[0m             \u001b[0;32mfor\u001b[0m \u001b[0mrow_idx\u001b[0m\u001b[0;34m,\u001b[0m \u001b[0mrow\u001b[0m \u001b[0;32min\u001b[0m \u001b[0mself\u001b[0m\u001b[0;34m.\u001b[0m\u001b[0mrows\u001b[0m\u001b[0;34m(\u001b[0m\u001b[0;34m)\u001b[0m\u001b[0;34m:\u001b[0m\u001b[0;34m\u001b[0m\u001b[0;34m\u001b[0m\u001b[0m\n\u001b[0;32m--> 125\u001b[0;31m                 \u001b[0mself\u001b[0m\u001b[0;34m.\u001b[0m\u001b[0mwrite_row\u001b[0m\u001b[0;34m(\u001b[0m\u001b[0mxf\u001b[0m\u001b[0;34m,\u001b[0m \u001b[0mrow\u001b[0m\u001b[0;34m,\u001b[0m \u001b[0mrow_idx\u001b[0m\u001b[0;34m)\u001b[0m\u001b[0;34m\u001b[0m\u001b[0;34m\u001b[0m\u001b[0m\n\u001b[0m\u001b[1;32m    126\u001b[0m \u001b[0;34m\u001b[0m\u001b[0m\n\u001b[1;32m    127\u001b[0m         \u001b[0mself\u001b[0m\u001b[0;34m.\u001b[0m\u001b[0mxf\u001b[0m\u001b[0;34m.\u001b[0m\u001b[0msend\u001b[0m\u001b[0;34m(\u001b[0m\u001b[0;32mNone\u001b[0m\u001b[0;34m)\u001b[0m \u001b[0;31m# return control to generator\u001b[0m\u001b[0;34m\u001b[0m\u001b[0;34m\u001b[0m\u001b[0m\n",
      "\u001b[0;32m/lustre06/project/6023374/rozakmat/monai3.8/lib/python3.8/site-packages/openpyxl/worksheet/_writer.py\u001b[0m in \u001b[0;36mwrite_row\u001b[0;34m(self, xf, row, row_idx)\u001b[0m\n\u001b[1;32m    145\u001b[0m                     ):\n\u001b[1;32m    146\u001b[0m                     \u001b[0;32mcontinue\u001b[0m\u001b[0;34m\u001b[0m\u001b[0;34m\u001b[0m\u001b[0m\n\u001b[0;32m--> 147\u001b[0;31m                 \u001b[0mwrite_cell\u001b[0m\u001b[0;34m(\u001b[0m\u001b[0mxf\u001b[0m\u001b[0;34m,\u001b[0m \u001b[0mself\u001b[0m\u001b[0;34m.\u001b[0m\u001b[0mws\u001b[0m\u001b[0;34m,\u001b[0m \u001b[0mcell\u001b[0m\u001b[0;34m,\u001b[0m \u001b[0mcell\u001b[0m\u001b[0;34m.\u001b[0m\u001b[0mhas_style\u001b[0m\u001b[0;34m)\u001b[0m\u001b[0;34m\u001b[0m\u001b[0;34m\u001b[0m\u001b[0m\n\u001b[0m\u001b[1;32m    148\u001b[0m \u001b[0;34m\u001b[0m\u001b[0m\n\u001b[1;32m    149\u001b[0m \u001b[0;34m\u001b[0m\u001b[0m\n",
      "\u001b[0;32m/lustre06/project/6023374/rozakmat/monai3.8/lib/python3.8/site-packages/openpyxl/cell/_writer.py\u001b[0m in \u001b[0;36mlxml_write_cell\u001b[0;34m(xf, worksheet, cell, styled)\u001b[0m\n\u001b[1;32m     79\u001b[0m             \u001b[0;32mreturn\u001b[0m\u001b[0;34m\u001b[0m\u001b[0;34m\u001b[0m\u001b[0m\n\u001b[1;32m     80\u001b[0m \u001b[0;34m\u001b[0m\u001b[0m\n\u001b[0;32m---> 81\u001b[0;31m     \u001b[0;32mwith\u001b[0m \u001b[0mxf\u001b[0m\u001b[0;34m.\u001b[0m\u001b[0melement\u001b[0m\u001b[0;34m(\u001b[0m\u001b[0;34m'c'\u001b[0m\u001b[0;34m,\u001b[0m \u001b[0mattributes\u001b[0m\u001b[0;34m)\u001b[0m\u001b[0;34m:\u001b[0m\u001b[0;34m\u001b[0m\u001b[0;34m\u001b[0m\u001b[0m\n\u001b[0m\u001b[1;32m     82\u001b[0m         \u001b[0;32mif\u001b[0m \u001b[0mcell\u001b[0m\u001b[0;34m.\u001b[0m\u001b[0mdata_type\u001b[0m \u001b[0;34m==\u001b[0m \u001b[0;34m'f'\u001b[0m\u001b[0;34m:\u001b[0m\u001b[0;34m\u001b[0m\u001b[0;34m\u001b[0m\u001b[0m\n\u001b[1;32m     83\u001b[0m             \u001b[0mshared_formula\u001b[0m \u001b[0;34m=\u001b[0m \u001b[0mworksheet\u001b[0m\u001b[0;34m.\u001b[0m\u001b[0mformula_attributes\u001b[0m\u001b[0;34m.\u001b[0m\u001b[0mget\u001b[0m\u001b[0;34m(\u001b[0m\u001b[0mcell\u001b[0m\u001b[0;34m.\u001b[0m\u001b[0mcoordinate\u001b[0m\u001b[0;34m,\u001b[0m \u001b[0;34m{\u001b[0m\u001b[0;34m}\u001b[0m\u001b[0;34m)\u001b[0m\u001b[0;34m\u001b[0m\u001b[0;34m\u001b[0m\u001b[0m\n",
      "\u001b[0;31mKeyboardInterrupt\u001b[0m: "
     ]
    }
   ],
   "source": [
    "df.to_excel('matt_preds_graphs_fwhm_single_excel/results_c57.xlsx')\n",
    "df.to_excel('results_c57.xlsx')"
   ]
  },
  {
   "cell_type": "code",
   "execution_count": 30,
   "id": "11a62776-188f-4950-bebf-ce025c34412d",
   "metadata": {},
   "outputs": [],
   "source": [
    "#df = pd.read_excel('matt_preds_graphs_fwhm_single_excel/results.xlsx')"
   ]
  },
  {
   "cell_type": "code",
   "execution_count": 31,
   "id": "00f1cd72-5ad0-4285-a054-a3eec9116660",
   "metadata": {},
   "outputs": [
    {
     "data": {
      "text/plain": [
       "array(['SHAM'], dtype=object)"
      ]
     },
     "execution_count": 31,
     "metadata": {},
     "output_type": "execute_result"
    }
   ],
   "source": [
    "df_sham = df[df['treatment']=='SHAM']\n",
    "np.unique(df_sham['treatment'])"
   ]
  },
  {
   "cell_type": "code",
   "execution_count": 23,
   "id": "5ac1ae98-4077-4275-928f-7103c23f3cc4",
   "metadata": {},
   "outputs": [
    {
     "name": "stderr",
     "output_type": "stream",
     "text": [
      "100%|██████████| 784/784 [13:52<00:00,  1.06s/it] \n"
     ]
    }
   ],
   "source": [
    "scans = sorted(list(np.unique(df['scan'])))\n",
    "_scans = [re.sub('vbm','',re.sub('TBI','',re.sub('SHAM','',re.sub('_3D','',x)))) + '_warped' for x in scans]\n",
    "for file in tqdm(files[::-1]):\n",
    "    graph = nx.read_gpickle(file)\n",
    "    _file = re.sub(' 2020_',' ',re.sub('-xyz','_xyz',re.sub('-XYZ','_XYZ',file)))\n",
    "    if ' ' in _file:\n",
    "        _file = _file.split(' ')[0] + '_' + _file.split(' ')[-1]\n",
    "    match_file = list(filter(lambda str: str in _file, _scans))\n",
    "    #print(file)\n",
    "    #print(match_file)\n",
    "    if len(match_file) == 1:\n",
    "        scan = np.array(scans)[np.array(_scans) == match_file[0]][0]\n",
    "        df_subset = df[df[\"scan\"] == scan]\n",
    "        if len(df_subset) == len(graph.edges):\n",
    "            #print(df_subset)\n",
    "            for i in range(len(df_subset)):\n",
    "                graph[df_subset.iloc[i]['source']][df_subset.iloc[i]['target']]['mean_vessel_radii_baseline'] = df_subset.iloc[i]['mean_vessel_radii_baseline']\n",
    "                graph[df_subset.iloc[i]['source']][df_subset.iloc[i]['target']]['std_vessel_radii_baseline'] = df_subset.iloc[i]['std_vessel_radii_baseline']\n",
    "                graph[df_subset.iloc[i]['source']][df_subset.iloc[i]['target']]['num_vessel_radii_baseline'] = df_subset.iloc[i]['num_vessel_radii_baseline']\n",
    "                graph[df_subset.iloc[i]['source']][df_subset.iloc[i]['target']]['delta_radii'] = df_subset.iloc[i]['delta_radii']\n",
    "                graph[df_subset.iloc[i]['source']][df_subset.iloc[i]['target']]['timepoint'] = df_subset.iloc[i]['timepoint']\n",
    "            nx.write_gpickle(graph,re.sub('.pickle','_full.pickle',file))"
   ]
  },
  {
   "cell_type": "code",
   "execution_count": 33,
   "id": "9c3f7224-1c8e-4c57-aec2-78f6d024edf7",
   "metadata": {},
   "outputs": [],
   "source": [
    "#df.iloc[0]['pts']"
   ]
  },
  {
   "cell_type": "code",
   "execution_count": 58,
   "id": "1514e80c",
   "metadata": {},
   "outputs": [
    {
     "data": {
      "text/plain": [
       "40"
      ]
     },
     "execution_count": 58,
     "metadata": {},
     "output_type": "execute_result"
    }
   ],
   "source": [
    "df = df.drop('path_weights_nrn',axis=1)\n",
    "df = df.drop('path_weights_uncertanty',axis=1)\n",
    "df = df.drop('path_weights',axis=1)\n",
    "df = df.drop('pts',axis=1)\n",
    "len(df.keys())"
   ]
  },
  {
   "cell_type": "code",
   "execution_count": 61,
   "id": "29da12ad-e6da-40e2-b26c-10e563387c2e",
   "metadata": {},
   "outputs": [
    {
     "data": {
      "text/plain": [
       "nan"
      ]
     },
     "execution_count": 61,
     "metadata": {},
     "output_type": "execute_result"
    }
   ],
   "source": [
    "sum(df['radii'])"
   ]
  },
  {
   "cell_type": "code",
   "execution_count": 59,
   "id": "6a8626ac-4870-4ec8-9613-9c9801579658",
   "metadata": {},
   "outputs": [],
   "source": [
    "df.to_csv('results_smaller_c57.csv')"
   ]
  },
  {
   "cell_type": "code",
   "execution_count": 84,
   "id": "4d487cdd-5b69-412d-a3b9-579bb9962580",
   "metadata": {},
   "outputs": [],
   "source": [
    "df.to_csv('matt_preds_graphs_fwhm_single_excel/results_smaller.csv')"
   ]
  },
  {
   "cell_type": "code",
   "execution_count": 85,
   "id": "6782f754-084c-4775-ac43-b4cbbf52a59f",
   "metadata": {},
   "outputs": [],
   "source": [
    "#df.iloc[0]"
   ]
  },
  {
   "cell_type": "code",
   "execution_count": 86,
   "id": "19b62220-c16d-4f0a-b704-ef40deec2844",
   "metadata": {},
   "outputs": [
    {
     "data": {
      "text/plain": [
       "array([  0.  , 247.95, 249.2 , 249.85, 250.8 , 500.  ])"
      ]
     },
     "execution_count": 86,
     "metadata": {},
     "output_type": "execute_result"
    }
   ],
   "source": [
    "np.unique(df['start_depth'])"
   ]
  },
  {
   "cell_type": "code",
   "execution_count": 24,
   "id": "f1a3e0f3-a324-4f40-9b39-caa755e6e2cf",
   "metadata": {},
   "outputs": [
    {
     "data": {
      "text/plain": [
       "subject                                                      C5703_3D\n",
       "vessel_id                                                       12334\n",
       "start_weight                                                     42.0\n",
       "wavelength                                                        552\n",
       "power                                                               9\n",
       "path_weights_nrn    [131.0, 130.4, 129.9, 130.2, 130.6, 130.6, 132...\n",
       "path_weights        (0.9757575757575756, 0.723529411764706, 0.8625...\n",
       "gender                                                             NA\n",
       "scan                                               C5703_3D_XYZres462\n",
       "treatment                                                         C57\n",
       "euclidean-dst                                               82.957821\n",
       "weight                                                     138.912901\n",
       "start_depth                                                     500.0\n",
       "imaging_weight                                                   31.0\n",
       "pts                 [[1, 223, 87], [1, 223, 86], [1, 223, 85], [1,...\n",
       "radii                                                        1.403185\n",
       "age                                                           unknown\n",
       "stim                                                      optogenetic\n",
       "vertex_id_base      [0, 1, 2, 3, 4, 5, 6, 7, 8, 9, 10, 11, 12, 13,...\n",
       "timepoint                                                         0.0\n",
       "Name: 0, dtype: object"
      ]
     },
     "execution_count": 24,
     "metadata": {},
     "output_type": "execute_result"
    }
   ],
   "source": [
    "df_sham = df[df['treatment']!='VBM']\n",
    "df_sham = df_sham.drop('neuron_distance_min',axis=1)\n",
    "df_sham = df_sham.drop('neuron_distance_std',axis=1)\n",
    "df_sham = df_sham.drop('end-0z',axis=1)\n",
    "df_sham = df_sham.drop('end-0y',axis=1)\n",
    "df_sham = df_sham.drop('end-0x',axis=1)\n",
    "df_sham = df_sham.drop('end-1z',axis=1)\n",
    "df_sham = df_sham.drop('end-1y',axis=1)\n",
    "df_sham = df_sham.drop('end-1x',axis=1)\n",
    "#df_sham = df_sham.drop('pts',axis=1)\n",
    "df_sham = df_sham.drop('mean_depth',axis=1)\n",
    "df_sham = df_sham.drop('delta_radii',axis=1)\n",
    "df_sham = df_sham.drop('num_vessel_radii_baseline',axis=1)\n",
    "df_sham = df_sham.drop('path_weights_uncertanty',axis=1)\n",
    "#df_sham = df_sham.drop('start_depth',axis=1)\n",
    "df_sham = df_sham.drop('source',axis=1)\n",
    "df_sham = df_sham.drop('target',axis=1)\n",
    "df_sham = df_sham.drop('radii_std',axis=1)\n",
    "df_sham = df_sham.drop('days_post_injury',axis=1)\n",
    "df_sham = df_sham.drop('mean_vessel_radii_baseline',axis=1)\n",
    "df_sham = df_sham.drop('std_vessel_radii_baseline',axis=1)\n",
    "df_sham = df_sham.drop('current',axis=1)\n",
    "df_sham = df_sham.drop('frequency',axis=1)\n",
    "df_sham = df_sham.drop('mean_neuron_distance',axis=1)\n",
    "df_sham = df_sham.drop('path_weights_nrn_dst',axis=1)\n",
    "df_sham.iloc[0]"
   ]
  },
  {
   "cell_type": "code",
   "execution_count": null,
   "id": "68d12e89-ac5e-4158-99df-31a6bef2f156",
   "metadata": {},
   "outputs": [],
   "source": [
    "_scans = [re.sub('vbm','',re.sub('TBI','',re.sub('SHAM','',re.sub('_3D','',x)))) for x in scans]\n",
    "_scans"
   ]
  },
  {
   "cell_type": "code",
   "execution_count": 25,
   "id": "2f0b347f-7558-46a2-9a7d-41b00f0e45a6",
   "metadata": {},
   "outputs": [],
   "source": [
    "df_sham_exp = df_sham.explode(['path_weights', 'path_weights_nrn','pts'])"
   ]
  },
  {
   "cell_type": "code",
   "execution_count": 26,
   "id": "73e94493-7f87-45c9-84b8-7425f2a0c348",
   "metadata": {},
   "outputs": [
    {
     "data": {
      "text/plain": [
       "subject                                                      C5703_3D\n",
       "vessel_id                                                       12334\n",
       "start_weight                                                     42.0\n",
       "wavelength                                                        552\n",
       "power                                                               9\n",
       "path_weights_nrn                                                131.0\n",
       "path_weights                                                 0.975758\n",
       "gender                                                             NA\n",
       "scan                                               C5703_3D_XYZres462\n",
       "treatment                                                         C57\n",
       "euclidean-dst                                               82.957821\n",
       "weight                                                     138.912901\n",
       "start_depth                                                     500.0\n",
       "imaging_weight                                                   31.0\n",
       "pts                                                      [1, 223, 87]\n",
       "radii                                                        1.403185\n",
       "age                                                           unknown\n",
       "stim                                                      optogenetic\n",
       "vertex_id_base      [0, 1, 2, 3, 4, 5, 6, 7, 8, 9, 10, 11, 12, 13,...\n",
       "timepoint                                                         0.0\n",
       "Name: 0, dtype: object"
      ]
     },
     "execution_count": 26,
     "metadata": {},
     "output_type": "execute_result"
    }
   ],
   "source": [
    "df_sham_exp.iloc[0]"
   ]
  },
  {
   "cell_type": "code",
   "execution_count": 27,
   "id": "a19d96b9-0c1f-4f47-b2d8-98859b73e538",
   "metadata": {},
   "outputs": [
    {
     "data": {
      "text/plain": [
       "array([  1,   1,   1, ..., 504, 504, 504], dtype=int16)"
      ]
     },
     "execution_count": 27,
     "metadata": {},
     "output_type": "execute_result"
    }
   ],
   "source": [
    "np.stack(df_sham_exp['pts'].values)[:,0]"
   ]
  },
  {
   "cell_type": "code",
   "execution_count": 28,
   "id": "54d73c53-4d6c-4187-a5d1-77d48015b7bf",
   "metadata": {},
   "outputs": [],
   "source": [
    "df_sham_exp['a'] = np.stack(df_sham_exp['pts'].values)[:,0]\n",
    "df_sham_exp['b'] = np.stack(df_sham_exp['pts'].values)[:,1]\n",
    "df_sham_exp['c'] = np.stack(df_sham_exp['pts'].values)[:,2]\n",
    "df_sham_exp = df_sham_exp.drop('pts',axis=1)"
   ]
  },
  {
   "cell_type": "code",
   "execution_count": 29,
   "id": "1971d580-dc61-4b24-86b6-1b676039206f",
   "metadata": {},
   "outputs": [],
   "source": [
    "df_sham_exp['vertex_id'] = df_sham_exp['vessel_id'].astype('str') + '_' + df_sham_exp['a'].astype('str') + '_' + df_sham_exp['b'].astype('str') + '_' + df_sham_exp['c'].astype('str')"
   ]
  },
  {
   "cell_type": "code",
   "execution_count": 30,
   "id": "f2bf3347-c93e-4646-a888-9b480df9ca2f",
   "metadata": {
    "tags": []
   },
   "outputs": [],
   "source": [
    "df_sham_exp.to_csv('matt_preds_graphs_fwhm_single_excel/results_vertexwise.csv')"
   ]
  },
  {
   "cell_type": "code",
   "execution_count": 46,
   "id": "d88f6061-0386-4c11-a0f1-2d63a2470ac1",
   "metadata": {},
   "outputs": [
    {
     "data": {
      "text/plain": [
       "0           16419_1_278_153\n",
       "0           16419_1_278_152\n",
       "0           16419_1_278_151\n",
       "0           16419_1_278_150\n",
       "0           16419_1_277_149\n",
       "                ...        \n",
       "326435    30130_510_203_137\n",
       "326435    30130_509_202_138\n",
       "326435    30130_509_202_139\n",
       "326435    30130_509_202_140\n",
       "326435    30130_509_202_141\n",
       "Name: vertex_id, Length: 6481061, dtype: object"
      ]
     },
     "execution_count": 46,
     "metadata": {},
     "output_type": "execute_result"
    }
   ],
   "source": [
    "df_sham_exp['vertex_id']"
   ]
  },
  {
   "cell_type": "code",
   "execution_count": 45,
   "id": "5b480674-d193-42a2-bfef-f59e83fe08e3",
   "metadata": {},
   "outputs": [
    {
     "data": {
      "text/plain": [
       "Index(['weight', 'euclidean-dst', 'path_weights_nrn', 'power', 'gender',\n",
       "       'imaging_weight', 'vessel_id', 'path_weights', 'start_weight', 'radii',\n",
       "       'treatment', 'subject', 'scan', 'wavelength', 'age', 'start_depth',\n",
       "       'stim', 'timepoint', 'a', 'b', 'c'],\n",
       "      dtype='object')"
      ]
     },
     "execution_count": 45,
     "metadata": {},
     "output_type": "execute_result"
    }
   ],
   "source": [
    "df_sham_exp.keys()"
   ]
  },
  {
   "cell_type": "markdown",
   "id": "c7edf396-7373-4a47-a8ad-d76cce2f7e3e",
   "metadata": {},
   "source": [
    "# radii via path gradient"
   ]
  },
  {
   "cell_type": "code",
   "execution_count": null,
   "id": "5330932e-e467-45fc-b9bf-76be7ef19346",
   "metadata": {},
   "outputs": [],
   "source": []
  },
  {
   "cell_type": "code",
   "execution_count": null,
   "id": "a634549f-9913-492d-8332-fd8b5f879ec9",
   "metadata": {},
   "outputs": [],
   "source": [
    "from matplotlib.patches import Circle\n",
    "from skimage.feature import peak_local_max\n",
    "import imageio\n",
    "plt.rcParams['figure.figsize'] = [15, 15]\n",
    "\n",
    "def closest_node(node, nodes):\n",
    "    nodes = np.asarray(nodes)\n",
    "    dist_2 = np.sum((nodes - node)**2, axis=1)\n",
    "    if np.min(dist_2)>10:\n",
    "        return node\n",
    "    else:\n",
    "        return nodes[np.argmin(dist_2)]\n",
    "\n",
    "sampling = 1/5\n",
    "\n",
    "min_prob = 0.75\n",
    "max_var = 0.1\n",
    "for i in tqdm(range(len(graph.edges))):\n",
    "    path = graph[list(graph.edges)[i][0]][list(graph.edges)[i][1]]['pts']\n",
    "    _pred_radii = np.mean(seg_dst[path[::-1,0],path[::-1,1],path[::-1,2]])\n",
    "    _pred_radii_max = np.max(seg_dst[path[::-1,0],path[::-1,1],path[::-1,2]])\n",
    "    if _pred_radii == 0:\n",
    "        _pred_radii =1\n",
    "    _pred_radii_0001 = np.mean(seg_0001_dst[path[::-1,0],path[::-1,1],path[::-1,2]])\n",
    "    _pred_radii_max_0001 = np.max(seg_0001_dst[path[::-1,0],path[::-1,1],path[::-1,2]])\n",
    "    if _pred_radii_0001 == 0:\n",
    "        _pred_radii_0001 =1\n",
    "    \n",
    "    _box_fit = max([np.int16(_pred_radii_max)+15, np.int16(_pred_radii_max_0001)+15, 10])\n",
    "    #path_grad = np.gradient(path,edge_order=2)[0]\n",
    "    path_smooth = np.float32(np.copy(path))\n",
    "    for k in range(len(path[0])):\n",
    "        path_smooth[:,k] = sp.ndimage.gaussian_filter1d(np.float64(path[:,k]),3,mode='nearest')\n",
    "    path_grad = np.gradient(path_smooth,edge_order=2)[0]\n",
    "    res_fwhm = []\n",
    "    res_fwhm_0001 = []\n",
    "    X = np.arange(-1*_box_fit,_box_fit+1,1)\n",
    "    Y = np.arange(-1*_box_fit,_box_fit+1,1)\n",
    "    x,y = np.meshgrid(X,Y)\n",
    "    x = x.flatten()\n",
    "    y = y.flatten()\n",
    "    z = np.zeros(len(x))\n",
    "    xy = np.vstack([x,y,z])\n",
    "    \n",
    "    \n",
    "    res_fwhm = []\n",
    "    res_fwhm_0001 = []\n",
    "    \n",
    "    res_fwhm_sigma = []\n",
    "    res_fwhm_sigma_0001 = []\n",
    "    \n",
    "    for I in tqdm(range(len(path))):\n",
    "        point_grad = path_grad[I]\n",
    "        point = path[I]\n",
    "        if all(point_grad[0:2] == [0,0]) and abs(point_grad[2]/point_grad[2]) == 1:\n",
    "            rotated = xy.T + point\n",
    "        else:\n",
    "            rotated = _rotmat(point_grad,xy.T) + point\n",
    "        points_img = sp.ndimage.map_coordinates(#np.int16(mean[1]*1024),\n",
    "                                            deconv_img,\n",
    "                                            rotated.T, \n",
    "                                            order=1,\n",
    "                                            mode='constant')\n",
    "        points_img_0001 = sp.ndimage.map_coordinates(#np.int16(mean_0001[1]*1024),\n",
    "                                                 deconv_img_0001,\n",
    "                                                 rotated.T, \n",
    "                                                 order=1,\n",
    "                                                 mode='constant')\n",
    "                \n",
    "        points_img = np.reshape(points_img,(len(X),len(Y)))\n",
    "        points_img = sp.ndimage.gaussian_filter(points_img, sigma = np.min([_pred_radii,_pred_radii_0001])*.4)\n",
    "        #points_img = sp.ndimage.median_filter(points_img, size = np.int32(np.max([np.min([_pred_radii,_pred_radii_0001])*.4,1])))\n",
    "        points_img_0001 = np.reshape(points_img_0001,(len(X),len(Y)))\n",
    "        points_img_0001 = sp.ndimage.gaussian_filter(points_img_0001, sigma = np.min([_pred_radii,_pred_radii_0001])*.4)\n",
    "        #points_img_0001 = sp.ndimage.median_filter(points_img_0001, size = np.int32(np.max([np.min([_pred_radii,_pred_radii_0001])*.4,1])))\n",
    "        \n",
    "        _point = np.array(np.arange(0,np.max([_pred_radii,_pred_radii_0001])+10,sampling))\n",
    "        _zeros = np.zeros(len(_point))\n",
    "        _point = np.array([_point,_zeros])\n",
    "        _centre = closest_node([len(X)//2+1,len(Y)//2+1],peak_local_max(points_img.T))\n",
    "        _centre_0001 = closest_node([len(X)//2+1,len(Y)//2+1],peak_local_max(points_img_0001.T))\n",
    "        \n",
    "        _res = []\n",
    "        \n",
    "        fig,ax = plt.subplots(1)\n",
    "        ax.set_aspect('equal')\n",
    "        ax.imshow(points_img,\n",
    "                  vmin = 0,\n",
    "                  vmax = np.max(deconv_img))\n",
    "        ax.scatter(_centre[0],_centre[1])\n",
    "        for deg in np.arange(0,360,10):\n",
    "            rot_point = np.dot(np.array([[np.cos(np.deg2rad(deg)),-1*np.sin(np.deg2rad(deg))],[np.sin(np.deg2rad(deg)),np.cos(np.deg2rad(deg))]]),_point)\n",
    "            rot_point[0] = rot_point[0] + _centre[0]\n",
    "            rot_point[1] = rot_point[1] + _centre[1]\n",
    "            points_vals = sp.ndimage.map_coordinates(points_img.T,\n",
    "                                                     rot_point, \n",
    "                                                     order=3,\n",
    "                                                     cval=0)\n",
    "            points_vals = sp.ndimage.gaussian_filter1d(points_vals,sigma=np.min([_pred_radii,_pred_radii_0001])*.4/sampling)\n",
    "            points_vals_grad = np.gradient(points_vals)\n",
    "            #plt.scatter(*rot_point,\n",
    "            #            c=points_vals,\n",
    "            #            vmin=np.min(points_vals), \n",
    "            #            vmax=np.max(points_vals))\n",
    "            _ = np.array(sp.signal.argrelextrema(points_vals + np.random.uniform(-1e-5,1e-5,len(points_vals)),np.less,order=3))\n",
    "            if _.shape[1] != 0:\n",
    "                points_vals_grad = np.gradient(points_vals[:_[0,0]+3])\n",
    "                _ = np.argmin(points_vals_grad)\n",
    "                _res.append(_*sampling)\n",
    "                ax.scatter(_*sampling*np.cos(np.deg2rad(deg))+_centre[0],_*sampling*np.sin(np.deg2rad(deg))+_centre[1],color='r')\n",
    "            else:\n",
    "                points_vals_grad = np.gradient(points_vals)\n",
    "                _ = np.argmin(points_vals_grad)\n",
    "                _res.append(_*sampling)\n",
    "                ax.scatter(_*sampling*np.cos(np.deg2rad(deg))+_centre[0],_*sampling*np.sin(np.deg2rad(deg))+_centre[1],color='r')\n",
    "        _res = np.array(_res)\n",
    "        _res = _res[np.where(_res!=0)]\n",
    "        _mean = np.mean(_res)\n",
    "        _std = np.std(_res)\n",
    "        _mask = np.where(np.logical_and(_res>_mean-2*_std, _res<_mean+2*_std))\n",
    "        _res = _res[_mask]\n",
    "        radii = np.mean(_res)\n",
    "        circ = Circle(_centre,radii,fill=False)\n",
    "        #ax.scatter(_centre[0],_centre[1],color='blue')\n",
    "        ax.add_patch(circ)\n",
    "        fig.savefig('/home/rozakmat/scratch/_tmp/'+str(i)+'_'+str(I)+'.png')\n",
    "        plt.show()\n",
    "        #plt.clf()\n",
    "        _res_0001 = []\n",
    "        fig,ax = plt.subplots(1)\n",
    "        ax.set_aspect('equal')\n",
    "        ax.imshow(points_img_0001,\n",
    "                  vmin = 0,\n",
    "                  vmax = np.max(deconv_img_0001))\n",
    "        ax.scatter(_centre_0001[0],_centre_0001[1])\n",
    "        for deg in np.arange(0,360,10):\n",
    "            rot_point = np.dot(np.array([[np.cos(np.deg2rad(deg)),-1*np.sin(np.deg2rad(deg))],[np.sin(np.deg2rad(deg)),np.cos(np.deg2rad(deg))]]),_point)\n",
    "            rot_point[0] = rot_point[0] + _centre_0001[0]\n",
    "            rot_point[1] = rot_point[1] + _centre_0001[1]\n",
    "            points_vals = sp.ndimage.map_coordinates(points_img_0001.T,\n",
    "                                                     rot_point, \n",
    "                                                     order=3,\n",
    "                                                     cval=0)\n",
    "            points_vals = sp.ndimage.gaussian_filter1d(points_vals,sigma=np.min([_pred_radii,_pred_radii_0001])*.4/sampling)\n",
    "            points_vals_grad = np.gradient(points_vals)\n",
    "            #plt.scatter(*rot_point,\n",
    "            #            c=points_vals,\n",
    "            #            vmin=np.min(points_vals), \n",
    "            #            vmax=np.max(points_vals))\n",
    "            _ = np.array(sp.signal.argrelextrema(points_vals + np.random.uniform(-1e-5,1e-5,len(points_vals)),np.less,order=3))\n",
    "            if _.shape[1] != 0:\n",
    "                points_vals_grad = np.gradient(points_vals[:_[0,0]+3])\n",
    "                _ = np.argmin(points_vals_grad)\n",
    "                _res_0001.append(_*sampling)\n",
    "                ax.scatter(_*sampling*np.cos(np.deg2rad(deg))+_centre_0001[0],_*sampling*np.sin(np.deg2rad(deg))+_centre_0001[1],color='r')\n",
    "            else:\n",
    "                points_vals_grad = np.gradient(points_vals)\n",
    "                _ = np.argmin(points_vals_grad)\n",
    "                _res_0001.append(_*sampling)\n",
    "                ax.scatter(_*sampling*np.cos(np.deg2rad(deg))+_centre_0001[0],_*sampling*np.sin(np.deg2rad(deg))+_centre_0001[1],color='r')\n",
    "        _res_0001 = np.array(_res_0001)\n",
    "        _res_0001 = _res_0001[np.where(_res_0001!=0)]\n",
    "        _mean_0001 = np.mean(_res_0001)\n",
    "        _std_0001 = np.std(_res_0001)\n",
    "        _mask = np.where(np.logical_and(_res_0001>_mean_0001-2*_std_0001, _res_0001<_mean_0001+2*_std_0001))\n",
    "        _res_0001 = _res_0001[_mask]\n",
    "        radii_0001 = np.mean(_res_0001)\n",
    "        circ = Circle(_centre_0001,radii_0001,fill=False)\n",
    "        ax.add_patch(circ)\n",
    "        res_fwhm.append(radii)\n",
    "        res_fwhm_0001.append(radii_0001)\n",
    "        #plt.imshow(points_img)\n",
    "        #for i in range(len(_res)):\n",
    "        #ax.scatter(_centre_0001[0],_centre_0001[1],color='blue')\n",
    "        fig.savefig('/home/rozakmat/scratch/_tmp/'+str(i)+'_'+str(I)+'_0001.png')\n",
    "        plt.show()\n",
    "        #plt.clf()\n",
    "    images = []\n",
    "    for I in tqdm(range(len(path))):\n",
    "        images.append(imageio.imread('/home/rozakmat/scratch/_tmp/'+str(i)+'_'+str(I)+'_0001.png'))\n",
    "        os.remove('/home/rozakmat/scratch/_tmp/'+str(i)+'_'+str(I)+'_0001.png')\n",
    "    imageio.mimsave('/home/rozakmat/scratch/gifs/'+str(i)+'_0001.gif', images, format='GIF', fps=2)\n",
    "    for I in tqdm(range(len(path))):\n",
    "        images.append(imageio.imread('/home/rozakmat/scratch/_tmp/'+str(i)+'_'+str(I)+'.png'))\n",
    "        os.remove('/home/rozakmat/scratch/_tmp/'+str(i)+'_'+str(I)+'.png')\n",
    "    imageio.mimsave('/home/rozakmat/scratch/gifs/'+str(i)+'.gif', images, format='GIF', fps=2)\n",
    "    plt.plot(res_fwhm)\n",
    "    plt.plot(res_fwhm_0001)\n",
    "    plt.show()\n",
    "    break"
   ]
  },
  {
   "cell_type": "code",
   "execution_count": null,
   "id": "c790bdc8-6edc-4e38-a3f5-b80aba7a31fc",
   "metadata": {},
   "outputs": [],
   "source": [
    "len(_res)"
   ]
  },
  {
   "cell_type": "code",
   "execution_count": null,
   "id": "7df13528-29dd-4040-9837-67e2f5b14e86",
   "metadata": {},
   "outputs": [],
   "source": [
    "plt.plot(res_fwhm)\n",
    "plt.plot(res_fwhm_0001)\n",
    "print(np.mean(res_fwhm))\n",
    "print(np.mean(res_fwhm_0001))\n",
    "print(np.mean(res_fwhm_0001)-np.mean(res_fwhm))"
   ]
  },
  {
   "cell_type": "code",
   "execution_count": null,
   "id": "dcf279a7-7816-4b14-9b9b-4ef46851a917",
   "metadata": {},
   "outputs": [],
   "source": [
    "print(_pred_radii)\n",
    "#plt.scatter(*_point + len(x)//2 +1)\n",
    "_res = []\n",
    "for deg in np.arange(0,360,10):\n",
    "    rot_point = np.dot(np.array([[np.cos(np.deg2rad(deg)),-1*np.sin(np.deg2rad(deg))],[np.sin(np.deg2rad(deg)),np.cos(np.deg2rad(deg))]]),_point)\n",
    "    rot_point[0] = rot_point[0] + _centre_0001[0]\n",
    "    rot_point[1] = rot_point[1] + _centre_0001[1]\n",
    "    points_vals = sp.ndimage.map_coordinates(points_img_0001.T,\n",
    "                                             rot_point, \n",
    "                                             order=5,\n",
    "                                             cval=0)\n",
    "    points_vals = sp.ndimage.gaussian_filter1d(points_vals,sigma=_pred_radii/sampling)\n",
    "    points_vals = points_vals + np.random.uniform(-1e-5,1e-5,len(points_vals))\n",
    "    #plt.plot(points_vals)\n",
    "    #plt.show()\n",
    "    #points_vals_grad = np.gradient(points_vals)\n",
    "    _ = np.array(sp.signal.argrelextrema(points_vals,np.less,order=5))\n",
    "    #print(_)\n",
    "    if _.shape[1] != 0:\n",
    "        print(_)\n",
    "        #print(points_vals)\n",
    "        #print(_[0,0])\n",
    "        plt.plot(points_vals[:(_[0,0]+3)])\n",
    "        #plt.show()\n",
    "        points_vals_grad = np.gradient(points_vals[:_[0,0]+3])\n",
    "        _ = np.argmin(points_vals_grad)\n",
    "        _res.append(_*sampling)\n",
    "        #plt.plot(points_vals_grad)\n",
    "    else:\n",
    "        plt.plot(points_vals)\n",
    "        #plt.show()\n",
    "        points_vals_grad = np.gradient(points_vals)\n",
    "        _ = np.argmin(points_vals_grad)\n",
    "        _res.append(_*sampling)\n",
    "        #plt.plot(points_vals_grad)\n",
    "plt.show()\n",
    "_res = np.array(_res)\n",
    "plt.plot(_res)\n",
    "plt.show()\n",
    "#_mean = np.mean(_res)\n",
    "#_std = np.std(_res)\n",
    "#_mask = np.where(np.logical_and(_res>_mean-2*_std, _res<_mean+2*_std))\n",
    "#_res = _res[_mask]\n",
    "#plt.plot(_res)\n",
    "#plt.show()"
   ]
  },
  {
   "cell_type": "code",
   "execution_count": null,
   "id": "1684651e-315e-42c3-bb51-4d2b54626ca7",
   "metadata": {},
   "outputs": [],
   "source": [
    "fig,ax = plt.subplots(1)\n",
    "ax.set_aspect('equal')\n",
    "ax.imshow(points_img_0001)"
   ]
  },
  {
   "cell_type": "code",
   "execution_count": null,
   "id": "cc89bec5-7c3c-4ec8-bea1-832bbf44b3a3",
   "metadata": {},
   "outputs": [],
   "source": [
    "_[0,0]"
   ]
  },
  {
   "cell_type": "code",
   "execution_count": null,
   "id": "1888b6c6-9472-42f4-ad2f-3cc594ec8700",
   "metadata": {},
   "outputs": [],
   "source": [
    "plt.hist(_res)\n",
    "plt.show()"
   ]
  },
  {
   "cell_type": "code",
   "execution_count": null,
   "id": "4ac3525b-d7ef-4c63-acb0-ceaa7a5deabd",
   "metadata": {},
   "outputs": [],
   "source": [
    "_res = np.array(_res)\n",
    "_mean = np.mean(_res)\n",
    "_std = np.std(_res)\n",
    "_mask = np.where(np.logical_and(_res>_mean-_std, _res<_mean+_std))\n",
    "_res = _res[_mask]\n",
    "plt.hist(_res)\n",
    "plt.show()\n",
    "#_mask"
   ]
  },
  {
   "cell_type": "code",
   "execution_count": null,
   "id": "03dcc75e-bab8-46aa-abe9-273b5e88776d",
   "metadata": {},
   "outputs": [],
   "source": [
    "for i in tqdm(range(len(graph.edges))):\n",
    "    path = graph[list(graph.edges)[i][0]][list(graph.edges)[i][1]]['pts']\n",
    "    _pred_radii = np.mean(seg_dst[path[::-1,0],path[::-1,1],path[::-1,2]])\n",
    "    _pred_radii_max = np.max(seg_dst[path[::-1,0],path[::-1,1],path[::-1,2]])\n",
    "    if _pred_radii == 0:\n",
    "        _pred_radii =1\n",
    "    _pred_radii_0001 = np.mean(seg_0001_dst[path[::-1,0],path[::-1,1],path[::-1,2]])\n",
    "    _pred_radii_max_0001 = np.max(seg_0001_dst[path[::-1,0],path[::-1,1],path[::-1,2]])\n",
    "    if _pred_radii_0001 == 0:\n",
    "        _pred_radii_0001 =1\n",
    "    \n",
    "    _box_fit = max([np.int16(_pred_radii_max)+10, np.int16(_pred_radii_max_0001)+10, 10])\n",
    "    #path_grad = np.gradient(path,edge_order=2)[0]\n",
    "    path_smooth = np.float32(np.copy(path))\n",
    "    for k in range(len(path[0])):\n",
    "        path_smooth[:,k] = sp.ndimage.gaussian_filter1d(np.float64(path[:,k]),3,mode='nearest')\n",
    "    path_grad = np.gradient(path_smooth,edge_order=2)[0]\n",
    "    res_fwhm = []\n",
    "    res_fwhm_0001 = []\n",
    "    X = np.arange(-1*_box_fit,_box_fit+1,1)\n",
    "    Y = np.arange(-1*_box_fit,_box_fit+1,1)\n",
    "    x,y = np.meshgrid(X,Y)\n",
    "    x = x.flatten()\n",
    "    y = y.flatten()\n",
    "    z = np.zeros(len(x))\n",
    "    xy = np.vstack([x,y,z])\n",
    "    \n",
    "    \n",
    "    res_fwhm = []\n",
    "    res_fwhm_0001 = []\n",
    "    \n",
    "    res_fwhm_sigma = []\n",
    "    res_fwhm_sigma_0001 = []\n",
    "    \n",
    "    def calc_fwhm_path(I):\n",
    "        point_grad = path_grad[I]\n",
    "        point = path[I]\n",
    "        if all(point_grad[0:2] == [0,0]) and abs(point_grad[2]/point_grad[2]) == 1:\n",
    "            rotated = xy.T + point\n",
    "        else:\n",
    "            rotated = _rotmat(point_grad,xy.T) + point\n",
    "        points_img = sp.ndimage.map_coordinates(#np.int16(mean[1]*1024),\n",
    "                                            deconv_img,\n",
    "                                            rotated.T, \n",
    "                                            order=3,\n",
    "                                            mode='constant')\n",
    "        points_img_0001 = sp.ndimage.map_coordinates(#np.int16(mean_0001[1]*1024),\n",
    "                                                 deconv_img_0001,\n",
    "                                                 rotated.T, \n",
    "                                                 order=3,\n",
    "                                                 mode='constant')\n",
    "                \n",
    "        points_img = np.reshape(points_img,(len(X),len(Y)))\n",
    "        points_img_no_smooth = np.copy(points_img)\n",
    "        points_img = sp.ndimage.gaussian_filter(points_img, sigma = np.min([_pred_radii,_pred_radii_0001])*.4)\n",
    "        #points_img = sp.ndimage.median_filter(points_img, size = np.int32(np.max([np.min([_pred_radii,_pred_radii_0001])*.4,1])))\n",
    "        points_img_0001 = np.reshape(points_img_0001,(len(X),len(Y)))\n",
    "        points_img_0001_no_smooth = np.copy(points_img_0001)\n",
    "        points_img_0001 = sp.ndimage.gaussian_filter(points_img_0001, sigma = np.min([_pred_radii,_pred_radii_0001])*.4)\n",
    "        #points_img_0001 = sp.ndimage.median_filter(points_img_0001, size = np.int32(np.max([np.min([_pred_radii,_pred_radii_0001])*.4,1])))\n",
    "        \n",
    "        _point = np.array(np.arange(0,np.max([_pred_radii,_pred_radii_0001])+20,sampling))\n",
    "        _zeros = np.zeros(len(_point))\n",
    "        _point = np.array([_point,_zeros])\n",
    "        _centre = closest_node([len(X)//2+1,len(Y)//2+1],peak_local_max(points_img.T))\n",
    "        _centre_0001 = closest_node([len(X)//2+1,len(Y)//2+1],peak_local_max(points_img_0001.T))\n",
    "        \n",
    "        _res = []\n",
    "        \n",
    "        fig,ax = plt.subplots(1)\n",
    "        ax.set_aspect('equal')\n",
    "        ax.imshow(points_img_no_smooth,\n",
    "                  vmin = 0,\n",
    "                  vmax = np.max(deconv_img))\n",
    "        ax.scatter(_centre[0],_centre[1])\n",
    "        for deg in np.arange(0,360,10):\n",
    "            rot_point = np.dot(np.array([[np.cos(np.deg2rad(deg)),-1*np.sin(np.deg2rad(deg))],[np.sin(np.deg2rad(deg)),np.cos(np.deg2rad(deg))]]),_point)\n",
    "            rot_point[0] = rot_point[0] + _centre[0]\n",
    "            rot_point[1] = rot_point[1] + _centre[1]\n",
    "            points_vals = sp.ndimage.map_coordinates(points_img.T,\n",
    "                                                     rot_point, \n",
    "                                                     order=3,\n",
    "                                                     cval=0)\n",
    "            points_vals = sp.ndimage.gaussian_filter1d(points_vals,sigma=np.min([_pred_radii,_pred_radii_0001])*.4/sampling)\n",
    "            points_vals_grad = np.gradient(points_vals)\n",
    "            #plt.scatter(*rot_point,\n",
    "            #            c=points_vals,\n",
    "            #            vmin=np.min(points_vals), \n",
    "            #            vmax=np.max(points_vals))\n",
    "            _ = np.array(sp.signal.argrelextrema(points_vals + np.random.uniform(-1e-5,1e-5,len(points_vals)),np.less,order=3))\n",
    "            if _.shape[1] != 0:\n",
    "                points_vals_grad = np.gradient(points_vals[:_[0,0]+3])\n",
    "                _ = np.argmin(points_vals_grad)\n",
    "                _res.append(_*sampling)\n",
    "                ax.scatter(_*sampling*np.cos(np.deg2rad(deg))+_centre[0],_*sampling*np.sin(np.deg2rad(deg))+_centre[1],color='r')\n",
    "            else:\n",
    "                points_vals_grad = np.gradient(points_vals)\n",
    "                _ = np.argmin(points_vals_grad)\n",
    "                _res.append(_*sampling)\n",
    "                ax.scatter(_*sampling*np.cos(np.deg2rad(deg))+_centre[0],_*sampling*np.sin(np.deg2rad(deg))+_centre[1],color='r')\n",
    "        _res = np.array(_res)\n",
    "        _res = _res[np.where(_res!=0)]\n",
    "        _mean = np.mean(_res)\n",
    "        _std = np.std(_res)\n",
    "        _mask = np.where(np.logical_and(_res>_mean-2*_std, _res<_mean+2*_std))\n",
    "        _res = _res[_mask]\n",
    "        radii = np.mean(_res)\n",
    "        circ = Circle(_centre,radii,fill=False)\n",
    "        ax.add_patch(circ)\n",
    "        ax.set_title(radii)\n",
    "        fig.savefig('/home/rozakmat/scratch/_tmp/'+str(i)+'_'+str(I)+'.png')\n",
    "        plt.clf()\n",
    "        _res_0001 = []\n",
    "        fig,ax = plt.subplots(1)\n",
    "        ax.set_aspect('equal')\n",
    "        ax.imshow(points_img_0001_no_smooth,\n",
    "                  vmin = 0,\n",
    "                  vmax = np.max(deconv_img_0001))\n",
    "        ax.scatter(_centre_0001[0],_centre_0001[1])\n",
    "        for deg in np.arange(0,360,10):\n",
    "            rot_point = np.dot(np.array([[np.cos(np.deg2rad(deg)),-1*np.sin(np.deg2rad(deg))],[np.sin(np.deg2rad(deg)),np.cos(np.deg2rad(deg))]]),_point)\n",
    "            rot_point[0] = rot_point[0] + _centre_0001[0]\n",
    "            rot_point[1] = rot_point[1] + _centre_0001[1]\n",
    "            points_vals = sp.ndimage.map_coordinates(points_img_0001.T,\n",
    "                                                     rot_point, \n",
    "                                                     order=3,\n",
    "                                                     cval=0)\n",
    "            points_vals = sp.ndimage.gaussian_filter1d(points_vals,sigma=np.min([_pred_radii,_pred_radii_0001])*.4/sampling)\n",
    "            points_vals_grad = np.gradient(points_vals)\n",
    "            _ = np.array(sp.signal.argrelextrema(points_vals + np.random.uniform(-1e-5,1e-5,len(points_vals)),np.less,order=3))\n",
    "            if _.shape[1] != 0:\n",
    "                points_vals_grad = np.gradient(points_vals[:_[0,0]+3])\n",
    "                _ = np.argmin(points_vals_grad)\n",
    "                if _ != 0:\n",
    "                    _res_0001.append(_*sampling)\n",
    "                    ax.scatter(_*sampling*np.cos(np.deg2rad(deg))+_centre_0001[0],_*sampling*np.sin(np.deg2rad(deg))+_centre_0001[1],color='r')\n",
    "            else:\n",
    "                points_vals_grad = np.gradient(points_vals)\n",
    "                _ = np.argmin(points_vals_grad)\n",
    "                if _ != 0:\n",
    "                    _res_0001.append(_*sampling)\n",
    "                    ax.scatter(_*sampling*np.cos(np.deg2rad(deg))+_centre_0001[0],_*sampling*np.sin(np.deg2rad(deg))+_centre_0001[1],color='r')\n",
    "        _res_0001 = np.array(_res_0001)\n",
    "        _res_0001 = _res_0001[np.where(_res_0001!=0)]\n",
    "        _mean_0001 = np.mean(_res_0001)\n",
    "        _std_0001 = np.std(_res_0001)\n",
    "        _mask = np.where(np.logical_and(_res_0001>_mean_0001-2*_std_0001, _res_0001<_mean_0001+2*_std_0001))\n",
    "        _res_0001 = _res_0001[_mask]\n",
    "        radii_0001 = np.mean(_res_0001)\n",
    "        circ = Circle(_centre_0001,radii_0001,fill=False)\n",
    "        ax.add_patch(circ)\n",
    "        ax.set_title(radii_0001)\n",
    "        fig.savefig('/home/rozakmat/scratch/_tmp/'+str(i)+'_'+str(I)+'_0001.png')\n",
    "        plt.clf()\n",
    "            \n",
    "        return radii, radii_0001\n",
    "    \n",
    "    pool = multiprocessing.Pool(8)\n",
    "    res_fwhm, res_fwhm_0001,  = zip(*pool.map(calc_fwhm_path, range(len(path))))\n",
    "    print(np.mean(res_fwhm_0001)-np.mean(res_fwhm))\n",
    "    #plt.plot(res_fwhm)\n",
    "    #plt.plot(res_fwhm_0001)\n",
    "    #plt.show()\n",
    "    images = []\n",
    "    for I in tqdm(range(len(path))):\n",
    "        images.append(imageio.imread('/home/rozakmat/scratch/_tmp/'+str(i)+'_'+str(I)+'_0001.png'))\n",
    "        os.remove('/home/rozakmat/scratch/_tmp/'+str(i)+'_'+str(I)+'_0001.png')\n",
    "    imageio.mimsave('/home/rozakmat/scratch/gifs/'+re.sub('matt_raw_warped_upsampled_seg/','',re.sub('_warped.pickle','',file))+str(i)+'_0001.gif', images, format='GIF', fps=2)\n",
    "    images = []\n",
    "    for I in tqdm(range(len(path))):\n",
    "        images.append(imageio.imread('/home/rozakmat/scratch/_tmp/'+str(i)+'_'+str(I)+'.png'))\n",
    "        os.remove('/home/rozakmat/scratch/_tmp/'+str(i)+'_'+str(I)+'.png')\n",
    "    imageio.mimsave('/home/rozakmat/scratch/gifs/'+re.sub('matt_raw_warped_upsampled_seg/','',re.sub('_warped.pickle','',file))+str(i)+'.gif', images, format='GIF', fps=2)"
   ]
  },
  {
   "cell_type": "code",
   "execution_count": null,
   "id": "71a19f84-ffda-480f-98be-20bef424b998",
   "metadata": {},
   "outputs": [],
   "source": [
    "del pool"
   ]
  },
  {
   "cell_type": "code",
   "execution_count": null,
   "id": "5ffae09b-fa4d-441f-b3b7-f5d0adc0773e",
   "metadata": {},
   "outputs": [],
   "source": [
    "_res"
   ]
  },
  {
   "cell_type": "code",
   "execution_count": null,
   "id": "222c6557-9a89-419c-933b-e34838b72d56",
   "metadata": {},
   "outputs": [],
   "source": [
    "plt.imshow(np.reshape(points,(len(X),len(Y))))\n",
    "plt.colorbar()"
   ]
  },
  {
   "cell_type": "code",
   "execution_count": null,
   "id": "d3bfd91b-62e0-4630-9091-db51ced7df94",
   "metadata": {},
   "outputs": [],
   "source": [
    "plt.imshow(np.reshape(points_std,(len(X),len(Y))))\n",
    "plt.colorbar()"
   ]
  },
  {
   "cell_type": "code",
   "execution_count": null,
   "id": "5022f6e6-ad34-40c3-b834-889ff8336209",
   "metadata": {},
   "outputs": [],
   "source": [
    "plt.imshow(np.reshape(points_img,(len(X),len(Y))))\n",
    "plt.colorbar()"
   ]
  },
  {
   "cell_type": "code",
   "execution_count": null,
   "id": "9c8abecf-6fae-4e6f-bda6-9ed0dfe61712",
   "metadata": {},
   "outputs": [],
   "source": [
    "plt.imshow(np.reshape(points_0001,(len(X),len(Y))))\n",
    "plt.colorbar()"
   ]
  },
  {
   "cell_type": "code",
   "execution_count": null,
   "id": "f3d5112a-edf5-4da6-ae45-e9f9efe87cc7",
   "metadata": {},
   "outputs": [],
   "source": [
    "plt.imshow(np.reshape(points_std_0001,(len(X),len(Y))))\n",
    "plt.colorbar()"
   ]
  },
  {
   "cell_type": "code",
   "execution_count": null,
   "id": "9d234ce0-24e3-476d-bc89-2421e357e0e3",
   "metadata": {},
   "outputs": [],
   "source": [
    "plt.imshow(np.reshape(points_img_0001,(len(X),len(Y))))\n",
    "plt.colorbar()"
   ]
  },
  {
   "cell_type": "code",
   "execution_count": null,
   "id": "bdf4766b-8db9-4c5f-bb73-f073f83db44b",
   "metadata": {},
   "outputs": [],
   "source": [
    "points = np.reshape(points,(len(X),len(Y)))\n",
    "points_std = np.reshape(points_std,(len(X),len(Y)))\n",
    "_bin = np.zeros(points.shape)\n",
    "_bin[(points > min_prob) * (points_std < max_var)] = 1"
   ]
  },
  {
   "cell_type": "code",
   "execution_count": null,
   "id": "33e25fe5-64f8-4f5a-9f3d-f88f6db0c1e1",
   "metadata": {},
   "outputs": [],
   "source": [
    "plt.imshow(_bin)"
   ]
  },
  {
   "cell_type": "code",
   "execution_count": null,
   "id": "93d9892d-d90b-4d5c-ac36-57cb973d61e6",
   "metadata": {},
   "outputs": [],
   "source": [
    "points_0001 = np.reshape(points_0001,(len(X),len(Y)))\n",
    "points_std_0001 = np.reshape(points_std_0001,(len(X),len(Y)))\n",
    "_bin_0001 = np.zeros(points_0001.shape)\n",
    "_bin_0001[(points_0001 > min_prob) * (points_std_0001 < max_var)] = 1"
   ]
  },
  {
   "cell_type": "code",
   "execution_count": null,
   "id": "d8b99fef-cebc-414b-b737-76ec22d31d7e",
   "metadata": {},
   "outputs": [],
   "source": [
    "plt.imshow(_bin_0001)"
   ]
  },
  {
   "cell_type": "code",
   "execution_count": null,
   "id": "e0850bd6-21ae-42a2-b80a-efa7e7145964",
   "metadata": {},
   "outputs": [],
   "source": [
    "#img = sp.ndimage.zoom(np.swapaxes(img[:,0,:,:],0,2),(1,1,2.645833333))"
   ]
  },
  {
   "cell_type": "code",
   "execution_count": null,
   "id": "50b7d109-1283-4586-a943-a7c5b8318f9e",
   "metadata": {},
   "outputs": [],
   "source": [
    "idx = np.argwhere(img_lab)[((np.argwhere(img_lab) - [int(img_lab.shape[0]/2),int(img_lab.shape[1]/2)])**2).sum(1).argmin()]\n",
    "cent_val = img_lab[idx[0],idx[1]]"
   ]
  },
  {
   "cell_type": "code",
   "execution_count": null,
   "id": "35cb411c-cf19-4fc9-bf33-685957853842",
   "metadata": {},
   "outputs": [],
   "source": [
    "img_lab, N = cc3d.connected_components(_bin,return_N=True)\n",
    "unique, counts = np.unique(img_lab, return_counts=True)\n",
    "img_lab =  np.reshape(img_lab,(len(X),len(Y)))\n",
    "cent_val = img_lab[int(img_lab.shape[0]/2),[int(img_lab.shape[1]/2)]][0]\n",
    "if cent_val == 0 and np.sum(img_lab) == 0:\n",
    "    area = 0\n",
    "    radii = 0\n",
    "elif cent_val == 0 and np.sum(img_lab) != 0:\n",
    "    idx = np.argwhere(img_lab)[((np.argwhere(img_lab) - [int(img_lab.shape[0]/2),int(img_lab.shape[1]/2)])**2).sum(1).argmin()]\n",
    "    cent_val = img_lab[idx[0],idx[1]]\n",
    "    area = np.sum(img_lab==cent_val)\n",
    "    radii = np.sqrt(area/np.pi)\n",
    "else:\n",
    "    area = np.sum(img_lab==cent_val)\n",
    "    radii = np.sqrt(area/np.pi)"
   ]
  },
  {
   "cell_type": "code",
   "execution_count": null,
   "id": "d0e54f92-e4a2-4231-9614-5ce5143a912b",
   "metadata": {},
   "outputs": [],
   "source": [
    "area"
   ]
  },
  {
   "cell_type": "code",
   "execution_count": null,
   "id": "8488f89d-45cf-4429-a48d-bcf8b81c15b9",
   "metadata": {},
   "outputs": [],
   "source": [
    "radii"
   ]
  },
  {
   "cell_type": "code",
   "execution_count": null,
   "id": "27d0ff5d-c740-46e4-8f81-f13f52412c19",
   "metadata": {},
   "outputs": [],
   "source": [
    "img_lab_0001, N_0001 = cc3d.connected_components(_bin_0001,return_N=True)\n",
    "unique_0001, counts_0001 = np.unique(img_lab_0001, return_counts=True)\n",
    "img_lab_0001 =  np.reshape(img_lab_0001,(len(X),len(Y)))\n",
    "cent_val_0001 = img_lab_0001[int(img_lab_0001.shape[0]/2),[int(img_lab_0001.shape[1]/2)]][0]\n",
    "if cent_val_0001 == 0 and np.sum(img_lab_0001) == 0:\n",
    "    area_0001 = 0\n",
    "    radii_0001 = 0\n",
    "elif cent_val_0001 == 0 and np.sum(img_lab_0001) == 0:\n",
    "    idx_0001 = np.argwhere(img_lab_0001)[((np.argwhere(img_lab_0001) - [int(img_lab_0001.shape[0]/2),int(img_lab_0001.shape[1]/2)])**2).sum(1).argmin()]\n",
    "    cent_val_0001 = img_lab_0001[idx_0001[0],idx_0001[1]]\n",
    "    area_0001 = np.sum(img_lab_0001==cent_val_0001)\n",
    "    radii_0001 = np.sqrt(area_0001/np.pi)\n",
    "else:\n",
    "    area_0001 = np.sum(img_lab_0001==cent_val_0001)\n",
    "    radii_0001 = np.sqrt(area_0001/np.pi)"
   ]
  },
  {
   "cell_type": "code",
   "execution_count": null,
   "id": "5739e615-f7fb-4a37-b598-66b00619b478",
   "metadata": {},
   "outputs": [],
   "source": [
    "# Laplacian Radii"
   ]
  },
  {
   "cell_type": "code",
   "execution_count": null,
   "id": "abd5c651-6b22-4421-b6a3-85c3d5187677",
   "metadata": {},
   "outputs": [],
   "source": [
    "from matplotlib.patches import Circle\n",
    "\n",
    "sampling = 1/3\n",
    "\n",
    "min_prob = 0.75\n",
    "max_var = 0.1\n",
    "for i in tqdm(range(len(graph.edges))):\n",
    "    i=20\n",
    "    path = graph[list(graph.edges)[i][0]][list(graph.edges)[i][1]]['pts']\n",
    "    _pred_radii = np.mean(seg_dst[path[::-1,0],path[::-1,1],path[::-1,2]])\n",
    "    _pred_radii_max = np.max(seg_dst[path[::-1,0],path[::-1,1],path[::-1,2]])\n",
    "    if _pred_radii == 0:\n",
    "        _pred_radii =1\n",
    "    _pred_radii_0001 = np.mean(seg_0001_dst[path[::-1,0],path[::-1,1],path[::-1,2]])\n",
    "    _pred_radii_max_0001 = np.max(seg_0001_dst[path[::-1,0],path[::-1,1],path[::-1,2]])\n",
    "    if _pred_radii_0001 == 0:\n",
    "        _pred_radii_0001 =1\n",
    "    \n",
    "    _box_fit = max([np.int16(_pred_radii_max)+10, np.int16(_pred_radii_max_0001)+10, 10])\n",
    "    #path_grad = np.gradient(path,edge_order=2)[0]\n",
    "    path_smooth = np.float32(np.copy(path))\n",
    "    for k in range(len(path[0])):\n",
    "        path_smooth[:,k] = sp.ndimage.gaussian_filter1d(np.float64(path[:,k]),3,mode='nearest')\n",
    "    path_grad = np.gradient(path_smooth,edge_order=2)[0]\n",
    "    res_fwhm = []\n",
    "    res_fwhm_0001 = []\n",
    "    X = np.arange(-1*_box_fit,_box_fit+1,1)\n",
    "    Y = np.arange(-1*_box_fit,_box_fit+1,1)\n",
    "    x,y = np.meshgrid(X,Y)\n",
    "    x = x.flatten()\n",
    "    y = y.flatten()\n",
    "    z = np.zeros(len(x))\n",
    "    xy = np.vstack([x,y,z])\n",
    "    \n",
    "    \n",
    "    res_fwhm = []\n",
    "    res_fwhm_0001 = []\n",
    "    \n",
    "    res_fwhm_sigma = []\n",
    "    res_fwhm_sigma_0001 = []\n",
    "    \n",
    "    for I in range(len(path)):\n",
    "        point_grad = path_grad[I]\n",
    "        point = path[I]\n",
    "        if all(point_grad[0:2] == [0,0]) and abs(point_grad[2]/point_grad[2]) == 1:\n",
    "            rotated = xy.T + point\n",
    "        else:\n",
    "            rotated = _rotmat(point_grad,xy.T) + point\n",
    "        points_img = sp.ndimage.map_coordinates(deconv_img,\n",
    "                                            rotated.T, \n",
    "                                            order=1,\n",
    "                                            cval=-10000)\n",
    "        points_img_0001 = sp.ndimage.map_coordinates(deconv_img_0001,\n",
    "                                                 rotated.T, \n",
    "                                                 order=1,\n",
    "                                                 cval=-10000)\n",
    "                \n",
    "        points_img = np.reshape(points_img,(len(X),len(Y)))\n",
    "        points_img = sp.ndimage.gaussian_filter(points_img, sigma = np.min([_pred_radii,_pred_radii_0001])*.4)\n",
    "        points_img_lp = sp.ndimage.laplace(points_img)\n",
    "        plt.imshow(points_img_lp)\n",
    "        plt.show()\n",
    "        points_img_0001 = np.reshape(points_img_0001,(len(X),len(Y)))\n",
    "        points_img_0001 = sp.ndimage.gaussian_filter(points_img_0001, sigma = np.min([_pred_radii,_pred_radii_0001])*.4)\n",
    "        points_img_0001_lp = sp.ndimage.laplace(points_img_0001)\n",
    "        _point = np.array(np.arange(0,np.max([_pred_radii,_pred_radii_0001])+5,sampling))\n",
    "        _zeros = np.zeros(len(_point))\n",
    "        _point = np.array([_point,_zeros])\n",
    "        \n",
    "        _res = []\n",
    "        for deg in np.arange(0,360,10):\n",
    "            rot_point = np.dot(np.array([[np.cos(np.deg2rad(deg)),-1*np.sin(np.deg2rad(deg))],[np.sin(np.deg2rad(deg)),np.cos(np.deg2rad(deg))]]),_point) + len(X)//2 +1\n",
    "            points_vals = sp.ndimage.map_coordinates(points_img_lp,\n",
    "                                                     rot_point, \n",
    "                                                     order=3,\n",
    "                                                     cval=0)\n",
    "            #points_vals_grad = np.gradient(points_vals)\n",
    "            _ = np.array(sp.signal.argrelextrema(points_vals, np.greater))\n",
    "            if _.shape[1] != 0:\n",
    "                _res.append(_[0,0]*sampling)\n",
    "        _res = np.array(_res)\n",
    "        _mean = np.mean(_res)\n",
    "        _std = np.std(_res)\n",
    "        _mask = np.where(np.logical_and(_res>_mean-2*_std, _res<_mean+2*_std))\n",
    "        _res = _res[_mask]\n",
    "        radii = np.mean(_res)\n",
    "        \n",
    "        _res_0001 = []\n",
    "        for deg in np.arange(0,360,10):\n",
    "            rot_point = np.dot(np.array([[np.cos(np.deg2rad(deg)),-1*np.sin(np.deg2rad(deg))],[np.sin(np.deg2rad(deg)),np.cos(np.deg2rad(deg))]]),_point) + len(X)//2 +1\n",
    "            points_vals = sp.ndimage.map_coordinates(points_img_0001_lp,\n",
    "                                                     rot_point, \n",
    "                                                     order=3,\n",
    "                                                     cval=0)\n",
    "            #points_vals_grad = np.gradient(points_vals)\n",
    "            _ = np.array(sp.signal.argrelextrema(points_vals, np.greater))\n",
    "            if _.shape[1] != 0:\n",
    "                _res_0001.append(_[0,0]*sampling)\n",
    "        _res_0001 = np.array(_res_0001)\n",
    "        _mean = np.mean(_res_0001)\n",
    "        _std = np.std(_res_0001)\n",
    "        _mask = np.where(np.logical_and(_res_0001>_mean-2*_std, _res_0001<_mean+2*_std))\n",
    "        _res_0001 = _res_0001[_mask]\n",
    "        radii_0001 = np.mean(_res_0001)\n",
    "        res_fwhm.append(radii)\n",
    "        res_fwhm_0001.append(radii_0001)\n",
    "        \n",
    "        #plt.imshow(points_img)\n",
    "        fig,ax = plt.subplots(1)\n",
    "        ax.set_aspect('equal')\n",
    "        ax.imshow(points_img)\n",
    "        circ = Circle((len(X)//2+1,len(Y)//2+1),_mean,fill=False)\n",
    "        ax.add_patch(circ)\n",
    "        for i in range(len(_res)):\n",
    "            ax.scatter(_res[i]*np.cos(np.deg2rad(i*10))+len(X)//2+1,_res[i]*np.sin(np.deg2rad(i*10))+len(Y)//2+1)\n",
    "        plt.show()\n",
    "        fig,ax = plt.subplots(1)\n",
    "        ax.set_aspect('equal')\n",
    "        ax.imshow(points_img_0001)\n",
    "        circ = Circle((len(X)//2+1,len(Y)//2+1),_mean,fill=False)\n",
    "        ax.add_patch(circ)\n",
    "        for i in range(len(_res_0001)):\n",
    "            ax.scatter(_res_0001[i]*np.cos(np.deg2rad(i*10))+len(X)//2+1,_res_0001[i]*np.sin(np.deg2rad(i*10))+len(Y)//2+1)\n",
    "        plt.show()\n",
    "        break\n",
    "    #lt.plot(res_fwhm)\n",
    "    #lt.plot(res_fwhm_0001)\n",
    "    #plt.show()\n",
    "    break"
   ]
  },
  {
   "cell_type": "code",
   "execution_count": null,
   "id": "dedf8e8e-599c-4c18-ac09-5da389a8077a",
   "metadata": {},
   "outputs": [],
   "source": [
    "radii_0001"
   ]
  },
  {
   "cell_type": "code",
   "execution_count": null,
   "id": "e4ee8e16-8830-482e-b37a-bcd2ca02b9c1",
   "metadata": {},
   "outputs": [],
   "source": []
  }
 ],
 "metadata": {
  "kernelspec": {
   "display_name": "monai3.8",
   "language": "python",
   "name": "monai3.8"
  },
  "language_info": {
   "codemirror_mode": {
    "name": "ipython",
    "version": 3
   },
   "file_extension": ".py",
   "mimetype": "text/x-python",
   "name": "python",
   "nbconvert_exporter": "python",
   "pygments_lexer": "ipython3",
   "version": "3.8.10"
  }
 },
 "nbformat": 4,
 "nbformat_minor": 5
}
