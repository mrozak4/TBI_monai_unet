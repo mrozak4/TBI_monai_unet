{
 "cells": [
  {
   "cell_type": "code",
   "execution_count": 1,
   "metadata": {},
   "outputs": [],
   "source": [
    "import numpy as np\n",
    "from skimage import io\n",
    "from pathlib import Path\n",
    "import re\n",
    "import h5py\n",
    "from tqdm import tqdm\n",
    "import matplotlib.pyplot as plt\n",
    "from skimage.transform import resize"
   ]
  },
  {
   "cell_type": "code",
   "execution_count": 2,
   "metadata": {},
   "outputs": [
    {
     "name": "stdout",
     "output_type": "stream",
     "text": [
      "['ilastik_preds_raw_images/XYZres008_Simple Segmentation.h5', 'ilastik_preds_raw_images/XYZres018_0001_Simple Segmentation.h5', 'ilastik_preds_raw_images/XYZres025_Simple Segmentation.h5', 'ilastik_preds_raw_images/XYZres110_Simple Segmentation.h5', 'ilastik_preds_raw_images/XYZres114_0001_Simple Segmentation.h5', 'ilastik_preds_raw_images/XYZres201_Simple Segmentation.h5', 'ilastik_preds_raw_images/XYZres204_0001_Simple Segmentation.h5', 'ilastik_preds_raw_images/XYZres92_Simple Segmentation.h5', 'ilastik_preds_raw_images/XYZres95_0001_Simple Segmentation.h5']\n"
     ]
    }
   ],
   "source": [
    "folder = Path('ilastik_preds_raw_images')\n",
    "files = folder.glob('*.h5')\n",
    "files = sorted([x.as_posix() for x in files])\n",
    "print(files)"
   ]
  },
  {
   "cell_type": "code",
   "execution_count": 7,
   "metadata": {},
   "outputs": [
    {
     "data": {
      "text/plain": [
       "(96, 1, 512, 512)"
      ]
     },
     "execution_count": 7,
     "metadata": {},
     "output_type": "execute_result"
    }
   ],
   "source": [
    "pred.shape"
   ]
  },
  {
   "cell_type": "code",
   "execution_count": 10,
   "metadata": {},
   "outputs": [
    {
     "name": "stderr",
     "output_type": "stream",
     "text": [
      "100%|██████████| 9/9 [00:02<00:00,  3.61it/s]"
     ]
    },
    {
     "name": "stdout",
     "output_type": "stream",
     "text": [
      "0.4107513978504621\n",
      "0.268380347037636\n",
      "0.8599223218015363\n",
      "0.16088419057463405\n",
      "0.31068926466104824\n",
      "0.24549295894210674\n"
     ]
    },
    {
     "name": "stderr",
     "output_type": "stream",
     "text": [
      "\n"
     ]
    }
   ],
   "source": [
    "res = []\n",
    "RECALL = []\n",
    "PRECISION = []\n",
    "for file in tqdm(files):\n",
    "    f1 = h5py.File(file,'r+')\n",
    "    pred = f1['exported_data'][:] - 1\n",
    "    gt = io.imread(re.sub('.h5','_sub1.tiff',re.sub('ilastik_preds_raw_images','GT_filtered+raw',file)))\n",
    "    dice = (2*(np.sum((gt==1)*(pred==1))+np.sum((gt==2)*(pred==2))))/(np.sum(gt!=0)+np.sum(pred!=0))\n",
    "    recall = (np.sum((gt==1)*(pred==1)) + np.sum((gt==2)*(pred==2)))/(np.sum(gt==1) + np.sum(gt==2))\n",
    "    precision = (np.sum((gt==1)*(pred==1)) + np.sum((gt==2)*(pred==2)))/(np.sum(pred==1) + np.sum(pred==2))\n",
    "    #print(precision)\n",
    "    #print(recall)\n",
    "    res.append(dice)\n",
    "    RECALL.append(recall)\n",
    "    PRECISION.append(precision)\n",
    "    #print(dice)\n",
    "    #print(img_pred.shape)\n",
    "    #print(img_gt.shape)\n",
    "print(np.mean(res))\n",
    "print(np.std(res))\n",
    "print(np.mean(RECALL))\n",
    "print(np.std(RECALL))\n",
    "print(np.mean(PRECISION))\n",
    "print(np.std(PRECISION))"
   ]
  },
  {
   "cell_type": "code",
   "execution_count": 12,
   "metadata": {},
   "outputs": [
    {
     "name": "stdout",
     "output_type": "stream",
     "text": [
      "['ilastik_preds_raw_images/XYZres008_mean.npy', 'ilastik_preds_raw_images/XYZres018_0001_mean.npy', 'ilastik_preds_raw_images/XYZres025_mean.npy', 'ilastik_preds_raw_images/XYZres110_mean.npy', 'ilastik_preds_raw_images/XYZres114_0001_mean.npy', 'ilastik_preds_raw_images/XYZres201_mean.npy', 'ilastik_preds_raw_images/XYZres204_0001_mean.npy', 'ilastik_preds_raw_images/XYZres92_mean.npy', 'ilastik_preds_raw_images/XYZres95_0001_mean.npy']\n"
     ]
    }
   ],
   "source": [
    "folder = Path('ilastik_preds_raw_images')\n",
    "files = folder.glob('*mean.npy')\n",
    "files = sorted([x.as_posix() for x in files])\n",
    "print(files)"
   ]
  },
  {
   "cell_type": "code",
   "execution_count": 23,
   "metadata": {},
   "outputs": [
    {
     "name": "stderr",
     "output_type": "stream",
     "text": [
      "100%|██████████| 9/9 [01:09<00:00,  7.72s/it]"
     ]
    },
    {
     "name": "stdout",
     "output_type": "stream",
     "text": [
      "0.773943480456627\n",
      "0.061513523956564016\n"
     ]
    },
    {
     "name": "stderr",
     "output_type": "stream",
     "text": [
      "\n"
     ]
    }
   ],
   "source": [
    "vessel_dsc=[]\n",
    "vessel_recall=[]\n",
    "vessel_precision = []\n",
    "neuron_dsc=[]\n",
    "neuron_recall = []\n",
    "neuron_precision = []\n",
    "dsc_combined = []\n",
    "DSC = []\n",
    "RECALL = []\n",
    "PRECISION = []\n",
    "for file in tqdm(files):\n",
    "    mean = np.load(file)\n",
    "    std = np.load(re.sub(\"mean\",\"std\",file))\n",
    "    pred = np.argmax(mean,axis=0)\n",
    "    gt = io.imread(re.sub('mean.npy','Simple Segmentation_sub1.tiff',re.sub('ilastik_preds_raw_images','GT_filtered+raw',file)))\n",
    "    gt = resize(gt,(252,1,507,507),order=0,preserve_range=True)[:,0]\n",
    "    gt = np.swapaxes(gt,0,2)\n",
    "    cats = [1,2]\n",
    "    for i in cats:\n",
    "        dsc = (2*np.sum((gt==i)*(pred==i)))/(np.sum(gt==i)+np.sum(pred==i))\n",
    "        recall = np.sum((gt==i)*(pred==i))/np.sum(gt==i)\n",
    "        precision = np.sum((gt==i)*(pred==i))/np.sum(pred==i)\n",
    "        if i == 1:\n",
    "            vessel_dsc.append(dsc)\n",
    "            vessel_recall.append(recall)\n",
    "            vessel_precision.append(precision)\n",
    "        elif i == 2:\n",
    "            neuron_dsc.append(dsc)\n",
    "            neuron_recall.append(recall)\n",
    "            neuron_precision.append(precision)\n",
    "    dsc = (2*(np.sum((gt==1)*(pred==1))+np.sum((gt==2)*(pred==2))))/(np.sum(gt!=0)+np.sum(pred!=0))\n",
    "    recall = (np.sum((gt==1)*(pred==1)) + np.sum((gt==2)*(pred==2)))/(np.sum(gt==1) + np.sum(gt==2))\n",
    "    precision = (np.sum((gt==1)*(pred==1)) + np.sum((gt==2)*(pred==2)))/(np.sum(pred==1) + np.sum(pred==2))\n",
    "    DSC.append(dsc)\n",
    "    RECALL.append(recall)\n",
    "    PRECISION.append(precision)\n",
    "print(np.mean(DSC))\n",
    "print(np.std(DSC))"
   ]
  },
  {
   "cell_type": "code",
   "execution_count": null,
   "metadata": {},
   "outputs": [],
   "source": [
    "print(np.mean(RECALL))\n",
    "print(np.std(RECALL))\n",
    "print(np.mean(PRECISION))\n",
    "print(np.std(PRECISION))"
   ]
  },
  {
   "cell_type": "code",
   "execution_count": 16,
   "metadata": {},
   "outputs": [
    {
     "name": "stdout",
     "output_type": "stream",
     "text": [
      "0.7770898463158615\n",
      "0.07495907792951746\n"
     ]
    }
   ],
   "source": [
    "print(np.mean(vessel_dsc))\n",
    "print(np.std(vessel_dsc))"
   ]
  },
  {
   "cell_type": "code",
   "execution_count": 17,
   "metadata": {},
   "outputs": [
    {
     "name": "stdout",
     "output_type": "stream",
     "text": [
      "0.7580868895366376\n",
      "0.1480820682813051\n"
     ]
    }
   ],
   "source": [
    "print(np.mean(vessel_recall))\n",
    "print(np.std(vessel_recall))"
   ]
  },
  {
   "cell_type": "code",
   "execution_count": 18,
   "metadata": {},
   "outputs": [
    {
     "name": "stdout",
     "output_type": "stream",
     "text": [
      "0.8249734648192293\n",
      "0.05436723340957387\n"
     ]
    }
   ],
   "source": [
    "print(np.mean(vessel_precision))\n",
    "print(np.std(vessel_precision))"
   ]
  },
  {
   "cell_type": "code",
   "execution_count": 19,
   "metadata": {},
   "outputs": [
    {
     "name": "stdout",
     "output_type": "stream",
     "text": [
      "0.7551333496687952\n",
      "0.03076874149468306\n"
     ]
    }
   ],
   "source": [
    "print(np.mean(neuron_dsc))\n",
    "print(np.std(neuron_dsc))"
   ]
  },
  {
   "cell_type": "code",
   "execution_count": 20,
   "metadata": {},
   "outputs": [
    {
     "name": "stdout",
     "output_type": "stream",
     "text": [
      "0.8092016566442743\n",
      "0.051249147343521206\n"
     ]
    }
   ],
   "source": [
    "print(np.mean(neuron_recall))\n",
    "print(np.std(neuron_recall))"
   ]
  },
  {
   "cell_type": "code",
   "execution_count": 21,
   "metadata": {},
   "outputs": [
    {
     "name": "stdout",
     "output_type": "stream",
     "text": [
      "0.716951159457274\n",
      "0.08252414289416908\n"
     ]
    }
   ],
   "source": [
    "print(np.mean(neuron_precision))\n",
    "print(np.std(neuron_precision))"
   ]
  },
  {
   "cell_type": "code",
   "execution_count": 23,
   "metadata": {},
   "outputs": [
    {
     "data": {
      "text/plain": [
       "<matplotlib.image.AxesImage at 0x14a582c0dbe0>"
      ]
     },
     "execution_count": 23,
     "metadata": {},
     "output_type": "execute_result"
    },
    {
     "data": {
      "image/png": "[encoded data removed]",
      "text/plain": [
       "<Figure size 432x288 with 1 Axes>"
      ]
     },
     "metadata": {
      "needs_background": "light"
     },
     "output_type": "display_data"
    }
   ],
   "source": [
    "plt.imshow(img_gt[30])"
   ]
  },
  {
   "cell_type": "code",
   "execution_count": 24,
   "metadata": {},
   "outputs": [
    {
     "data": {
      "text/plain": [
       "<matplotlib.image.AxesImage at 0x14a582b7bfd0>"
      ]
     },
     "execution_count": 24,
     "metadata": {},
     "output_type": "execute_result"
    },
    {
     "data": {
      "image/png": "[encoded data removed]",
      "text/plain": [
       "<Figure size 432x288 with 1 Axes>"
      ]
     },
     "metadata": {
      "needs_background": "light"
     },
     "output_type": "display_data"
    }
   ],
   "source": [
    "plt.imshow(img_pred[30])"
   ]
  },
  {
   "cell_type": "code",
   "execution_count": 28,
   "metadata": {},
   "outputs": [
    {
     "data": {
      "text/plain": [
       "array([0, 1, 2])"
      ]
     },
     "execution_count": 28,
     "metadata": {},
     "output_type": "execute_result"
    }
   ],
   "source": [
    "np.unique(img_pred)"
   ]
  },
  {
   "cell_type": "code",
   "execution_count": 36,
   "metadata": {},
   "outputs": [
    {
     "data": {
      "text/plain": [
       "array([0., 1., 2.])"
      ]
     },
     "execution_count": 36,
     "metadata": {},
     "output_type": "execute_result"
    }
   ],
   "source": [
    "np.unique(img_gt)"
   ]
  },
  {
   "cell_type": "code",
   "execution_count": 25,
   "metadata": {},
   "outputs": [
    {
     "data": {
      "text/plain": [
       "(507, 507, 252)"
      ]
     },
     "execution_count": 25,
     "metadata": {},
     "output_type": "execute_result"
    }
   ],
   "source": [
    "img_gt.shape"
   ]
  },
  {
   "cell_type": "code",
   "execution_count": 26,
   "metadata": {},
   "outputs": [
    {
     "data": {
      "text/plain": [
       "(3, 507, 507, 252)"
      ]
     },
     "execution_count": 26,
     "metadata": {},
     "output_type": "execute_result"
    }
   ],
   "source": [
    "std.shape"
   ]
  },
  {
   "cell_type": "code",
   "execution_count": 10,
   "metadata": {},
   "outputs": [
    {
     "data": {
      "text/plain": [
       "array([0, 1, 2])"
      ]
     },
     "execution_count": 10,
     "metadata": {},
     "output_type": "execute_result"
    }
   ],
   "source": [
    "np.unique(np.argmax(mean,axis=0))"
   ]
  },
  {
   "cell_type": "code",
   "execution_count": null,
   "metadata": {},
   "outputs": [],
   "source": []
  }
 ],
 "metadata": {
  "kernelspec": {
   "display_name": "monai3.8",
   "language": "python",
   "name": "monai3.8"
  },
  "language_info": {
   "codemirror_mode": {
    "name": "ipython",
    "version": 3
   },
   "file_extension": ".py",
   "mimetype": "text/x-python",
   "name": "python",
   "nbconvert_exporter": "python",
   "pygments_lexer": "ipython3",
   "version": "3.8.10"
  }
 },
 "nbformat": 4,
 "nbformat_minor": 4
}
