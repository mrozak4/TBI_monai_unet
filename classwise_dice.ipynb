{
 "cells": [
  {
   "cell_type": "code",
   "execution_count": 144,
   "id": "ba017232-3f3b-4cc8-8a8f-5511095daf6c",
   "metadata": {},
   "outputs": [],
   "source": [
    "import matplotlib.pyplot as plt\n",
    "import tempfile\n",
    "import shutil\n",
    "import os\n",
    "import glob\n",
    "from numpy import random\n",
    "from pathlib import Path\n",
    "import re\n",
    "from skimage import io\n",
    "from typing import (\n",
    "    Optional, \n",
    "    Union, \n",
    "    Sequence, \n",
    "    Callable, \n",
    "    Dict, \n",
    "    List\n",
    ")\n",
    "#from monai.data.utils import is_supported_format\n",
    "#from monai. data.image_reader import (\n",
    "#    _copy_compatible_dict, \n",
    "#    _stack_images\n",
    "#)\n",
    "from nibabel.nifti1 import Nifti1Image\n",
    "from PIL import Image\n",
    "import numpy as np\n",
    "from tqdm import tqdm\n",
    "import pickle\n",
    "import pandas as pd\n",
    "from os.path import exists\n",
    "import torch as t\n",
    "#from mlflow import log_metric, log_param, log_artifacts, set_experiment, start_run, end_run\n",
    "import warnings\n",
    "warnings.filterwarnings('ignore')\n",
    "from skimage.transform import resize\n",
    "from monai.transforms import Spacing, FillHoles\n",
    "import matplotlib.pyplot as plt\n",
    "from monai.metrics import compute_meandice"
   ]
  },
  {
   "cell_type": "code",
   "execution_count": 145,
   "id": "8207bcc0-e1b9-4608-9eec-401953367db1",
   "metadata": {},
   "outputs": [],
   "source": [
    "dice_metric_test = DiceMetric(\n",
    "    include_background=False,\n",
    "    reduction=\"mean\"\n",
    ")"
   ]
  },
  {
   "cell_type": "code",
   "execution_count": 146,
   "id": "42bdedcd-f7ec-4994-8fde-3fda29f549d0",
   "metadata": {},
   "outputs": [],
   "source": [
    "#make list of data dictionaries\n",
    "train_images_path = Path('../TBI/GT_filtered+raw/') #raw path images\n",
    "train_images_paths = list(train_images_path.glob('*.tif'))#get images\n",
    "train_images = sorted([x.as_posix() for x in train_images_paths if 'Result' not in x.as_posix()])#sort\n",
    "train_labels_path = Path('../TBI/GT_filtered+raw/')#labels path\n",
    "train_labels = list(train_labels_path.glob('*sub1.tiff'))#get label images\n",
    "train_labels = sorted([x.as_posix() for x in train_labels])#sort\n",
    "#combine images and labels into monai dictionary format\n",
    "data_dicts = [\n",
    "    {\"image\":image_name, \"label\":label_name}\n",
    "    for image_name, label_name in zip(train_images,train_labels)\n",
    "]"
   ]
  },
  {
   "cell_type": "code",
   "execution_count": 147,
   "id": "8d9f3eb7",
   "metadata": {},
   "outputs": [
    {
     "data": {
      "text/plain": [
       "[{'image': '../TBI/GT_filtered+raw/XYZres008.tif',\n",
       "  'label': '../TBI/GT_filtered+raw/XYZres008_Simple Segmentation_sub1.tiff'},\n",
       " {'image': '../TBI/GT_filtered+raw/XYZres013_0001.tif',\n",
       "  'label': '../TBI/GT_filtered+raw/XYZres013_0001_Simple Segmentation_sub1.tiff'},\n",
       " {'image': '../TBI/GT_filtered+raw/XYZres018_0001.tif',\n",
       "  'label': '../TBI/GT_filtered+raw/XYZres018_0001_Simple Segmentation_sub1.tiff'},\n",
       " {'image': '../TBI/GT_filtered+raw/XYZres025.tif',\n",
       "  'label': '../TBI/GT_filtered+raw/XYZres025_Simple Segmentation_sub1.tiff'},\n",
       " {'image': '../TBI/GT_filtered+raw/XYZres032.tif',\n",
       "  'label': '../TBI/GT_filtered+raw/XYZres032_Simple Segmentation_sub1.tiff'},\n",
       " {'image': '../TBI/GT_filtered+raw/XYZres037.tif',\n",
       "  'label': '../TBI/GT_filtered+raw/XYZres037_Simple Segmentation_sub1.tiff'},\n",
       " {'image': '../TBI/GT_filtered+raw/XYZres042_0001.tif',\n",
       "  'label': '../TBI/GT_filtered+raw/XYZres042_0001_Simple Segmentation_sub1.tiff'},\n",
       " {'image': '../TBI/GT_filtered+raw/XYZres050.tif',\n",
       "  'label': '../TBI/GT_filtered+raw/XYZres050_Simple Segmentation_sub1.tiff'},\n",
       " {'image': '../TBI/GT_filtered+raw/XYZres110.tif',\n",
       "  'label': '../TBI/GT_filtered+raw/XYZres110_Simple Segmentation_sub1.tiff'},\n",
       " {'image': '../TBI/GT_filtered+raw/XYZres114_0001.tif',\n",
       "  'label': '../TBI/GT_filtered+raw/XYZres114_0001_Simple Segmentation_sub1.tiff'},\n",
       " {'image': '../TBI/GT_filtered+raw/XYZres115.tif',\n",
       "  'label': '../TBI/GT_filtered+raw/XYZres115_Simple Segmentation_sub1.tiff'},\n",
       " {'image': '../TBI/GT_filtered+raw/XYZres120_0001.tif',\n",
       "  'label': '../TBI/GT_filtered+raw/XYZres120_0001_Simple Segmentation_sub1.tiff'},\n",
       " {'image': '../TBI/GT_filtered+raw/XYZres128.tif',\n",
       "  'label': '../TBI/GT_filtered+raw/XYZres128_Simple Segmentation_sub1.tiff'},\n",
       " {'image': '../TBI/GT_filtered+raw/XYZres131_0001.tif',\n",
       "  'label': '../TBI/GT_filtered+raw/XYZres131_0001_Simple Segmentation_sub1.tiff'},\n",
       " {'image': '../TBI/GT_filtered+raw/XYZres147.tif',\n",
       "  'label': '../TBI/GT_filtered+raw/XYZres147_Simple Segmentation_sub1.tiff'},\n",
       " {'image': '../TBI/GT_filtered+raw/XYZres149_0001.tif',\n",
       "  'label': '../TBI/GT_filtered+raw/XYZres149_0001_Simple Segmentation_sub1.tiff'},\n",
       " {'image': '../TBI/GT_filtered+raw/XYZres153_0001.tif',\n",
       "  'label': '../TBI/GT_filtered+raw/XYZres153_0001_Simple Segmentation_sub1.tiff'},\n",
       " {'image': '../TBI/GT_filtered+raw/XYZres157.tif',\n",
       "  'label': '../TBI/GT_filtered+raw/XYZres157_Simple Segmentation_sub1.tiff'},\n",
       " {'image': '../TBI/GT_filtered+raw/XYZres160.tif',\n",
       "  'label': '../TBI/GT_filtered+raw/XYZres160_Simple Segmentation_sub1.tiff'},\n",
       " {'image': '../TBI/GT_filtered+raw/XYZres163_0001.tif',\n",
       "  'label': '../TBI/GT_filtered+raw/XYZres163_0001_Simple Segmentation_sub1.tiff'},\n",
       " {'image': '../TBI/GT_filtered+raw/XYZres171.tif',\n",
       "  'label': '../TBI/GT_filtered+raw/XYZres171_Simple Segmentation_sub1.tiff'},\n",
       " {'image': '../TBI/GT_filtered+raw/XYZres177_0001.tif',\n",
       "  'label': '../TBI/GT_filtered+raw/XYZres177_0001_Simple Segmentation_sub1.tiff'},\n",
       " {'image': '../TBI/GT_filtered+raw/XYZres184.tif',\n",
       "  'label': '../TBI/GT_filtered+raw/XYZres184_Simple Segmentation_sub1.tiff'},\n",
       " {'image': '../TBI/GT_filtered+raw/XYZres186_0001.tif',\n",
       "  'label': '../TBI/GT_filtered+raw/XYZres186_0001_Simple Segmentation_sub1.tiff'},\n",
       " {'image': '../TBI/GT_filtered+raw/XYZres201.tif',\n",
       "  'label': '../TBI/GT_filtered+raw/XYZres201_Simple Segmentation_sub1.tiff'},\n",
       " {'image': '../TBI/GT_filtered+raw/XYZres204_0001.tif',\n",
       "  'label': '../TBI/GT_filtered+raw/XYZres204_0001_Simple Segmentation_sub1.tiff'},\n",
       " {'image': '../TBI/GT_filtered+raw/XYZres214_0001.tif',\n",
       "  'label': '../TBI/GT_filtered+raw/XYZres214_0001_Simple Segmentation_sub1.tiff'},\n",
       " {'image': '../TBI/GT_filtered+raw/XYZres222.tif',\n",
       "  'label': '../TBI/GT_filtered+raw/XYZres222_Simple Segmentation_sub1.tiff'},\n",
       " {'image': '../TBI/GT_filtered+raw/XYZres223_0001.tif',\n",
       "  'label': '../TBI/GT_filtered+raw/XYZres223_0001_Simple Segmentation_sub1.tiff'},\n",
       " {'image': '../TBI/GT_filtered+raw/XYZres228.tif',\n",
       "  'label': '../TBI/GT_filtered+raw/XYZres228_Simple Segmentation_sub1.tiff'},\n",
       " {'image': '../TBI/GT_filtered+raw/XYZres234_0001.tif',\n",
       "  'label': '../TBI/GT_filtered+raw/XYZres234_0001_Simple Segmentation_sub1.tiff'},\n",
       " {'image': '../TBI/GT_filtered+raw/XYZres242_0001.tif',\n",
       "  'label': '../TBI/GT_filtered+raw/XYZres242_0001_Simple Segmentation_sub1.tiff'},\n",
       " {'image': '../TBI/GT_filtered+raw/XYZres245_0001.tif',\n",
       "  'label': '../TBI/GT_filtered+raw/XYZres245_0001_Simple Segmentation_sub1.tiff'},\n",
       " {'image': '../TBI/GT_filtered+raw/XYZres250.tif',\n",
       "  'label': '../TBI/GT_filtered+raw/XYZres250_Simple Segmentation_sub1.tiff'},\n",
       " {'image': '../TBI/GT_filtered+raw/XYZres54.tif',\n",
       "  'label': '../TBI/GT_filtered+raw/XYZres54_Simple Segmentation_sub1.tiff'},\n",
       " {'image': '../TBI/GT_filtered+raw/XYZres60_0001.tif',\n",
       "  'label': '../TBI/GT_filtered+raw/XYZres60_0001_Simple Segmentation_sub1.tiff'},\n",
       " {'image': '../TBI/GT_filtered+raw/XYZres71.tif',\n",
       "  'label': '../TBI/GT_filtered+raw/XYZres71_Simple Segmentation_sub1.tiff'},\n",
       " {'image': '../TBI/GT_filtered+raw/XYZres76_0001.tif',\n",
       "  'label': '../TBI/GT_filtered+raw/XYZres76_0001_Simple Segmentation_sub1.tiff'},\n",
       " {'image': '../TBI/GT_filtered+raw/XYZres87_0001.tif',\n",
       "  'label': '../TBI/GT_filtered+raw/XYZres87_0001_Simple Segmentation_sub1.tiff'},\n",
       " {'image': '../TBI/GT_filtered+raw/XYZres89.tif',\n",
       "  'label': '../TBI/GT_filtered+raw/XYZres89_Simple Segmentation_sub1.tiff'},\n",
       " {'image': '../TBI/GT_filtered+raw/XYZres92.tif',\n",
       "  'label': '../TBI/GT_filtered+raw/XYZres92_Simple Segmentation_sub1.tiff'},\n",
       " {'image': '../TBI/GT_filtered+raw/XYZres95_0001.tif',\n",
       "  'label': '../TBI/GT_filtered+raw/XYZres95_0001_Simple Segmentation_sub1.tiff'}]"
      ]
     },
     "execution_count": 147,
     "metadata": {},
     "output_type": "execute_result"
    }
   ],
   "source": [
    "data_dicts"
   ]
  },
  {
   "cell_type": "code",
   "execution_count": 148,
   "id": "fa7dd584-30fc-48a2-b5d4-bd9a77b56458",
   "metadata": {},
   "outputs": [],
   "source": [
    "mouse_ids_path = Path('../TBI/raw')#each mouse has its own folder with raw data in it\n",
    "mouse_ids = list(mouse_ids_path.glob('*'))#grab molder names/mouse ids\n",
    "images = sorted([y.name for y in train_images_paths])#sort\n",
    "#get mouse id corresponding to each image i have labels for\n",
    "mouse_ids_with_raw_tiff = []\n",
    "for i in mouse_ids:\n",
    "    for j in images:\n",
    "        if len(list(i.glob(j))) !=0:\n",
    "            mouse_ids_with_raw_tiff.append(list(i.glob(j)))\n",
    "#flatten the list and sort\n",
    "mouse_ids_with_raw_tiff_flat = [item for sublist in mouse_ids_with_raw_tiff for item in sublist]\n",
    "mouse_ids_with_raw_tiff_flat = sorted(mouse_ids_with_raw_tiff_flat)"
   ]
  },
  {
   "cell_type": "code",
   "execution_count": 149,
   "id": "2288db7c-f5dd-4f1e-bad7-dc0312be097b",
   "metadata": {},
   "outputs": [],
   "source": [
    "#shuffle mouse ids for a 15/4/6 split train/val/test by mouse id\n",
    "mouse_ids_present = [i.parent.name for i in mouse_ids_with_raw_tiff_flat]\n",
    "mouse_ids_present = sorted(list(np.unique(mouse_ids_present)))\n",
    "np.random.seed(643)\n",
    "np.random.shuffle(mouse_ids_present)\n",
    "mouse_ids_present\n",
    "train = mouse_ids_present[:15]\n",
    "#log_param('train_set',' '.join(train))\n",
    "val = mouse_ids_present[15:-6]\n",
    "#log_param('val_set',' '.join(val))\n",
    "test = mouse_ids_present[-6:]"
   ]
  },
  {
   "cell_type": "code",
   "execution_count": 150,
   "id": "ab74ad9a-5d68-4cae-899c-67c43ceeb3a7",
   "metadata": {},
   "outputs": [],
   "source": [
    "train_files = []\n",
    "val_files = []\n",
    "test_files = []\n",
    "for i in train:\n",
    "    for j in mouse_ids_with_raw_tiff_flat:\n",
    "        if i in j.as_posix():\n",
    "            for k in data_dicts:\n",
    "                if j.name in k[\"image\"]:\n",
    "                    train_files.append(k)\n",
    "for i in val:\n",
    "    for j in mouse_ids_with_raw_tiff_flat:\n",
    "        if i in j.as_posix():\n",
    "            for k in data_dicts:\n",
    "                if j.name in k[\"image\"]:\n",
    "                    val_files.append(k)\n",
    "for i in test:\n",
    "    for j in mouse_ids_with_raw_tiff_flat:\n",
    "        if i in j.as_posix():\n",
    "            for k in data_dicts:\n",
    "                if j.name in k[\"image\"]:\n",
    "                    test_files.append(k)"
   ]
  },
  {
   "cell_type": "code",
   "execution_count": 196,
   "id": "10b344df-7d75-4f22-a102-d35178db3bbe",
   "metadata": {},
   "outputs": [
    {
     "name": "stderr",
     "output_type": "stream",
     "text": [
      "100%|██████████| 9/9 [02:52<00:00, 19.12s/it]\n"
     ]
    }
   ],
   "source": [
    "vessel_dsc=[]\n",
    "vessel_recall=[]\n",
    "vessel_precision = []\n",
    "neuron_dsc=[]\n",
    "neuron_recall = []\n",
    "neuron_precision = []\n",
    "dsc_combined = []\n",
    "DSC = []\n",
    "RECALL = []\n",
    "PRECISION = []\n",
    "for file in tqdm(test_files):\n",
    "    if exists(re.sub('.tif','_mean.npy',re.sub(str('../TBI/GT_filtered\\+raw'),'matt_preds',file['image']))):\n",
    "        pred = np.argmax(np.load(re.sub('.tif','_mean.npy',re.sub(str('../TBI/GT_filtered\\+raw'),'matt_preds',file['image']))),axis=0)\n",
    "        pred = np.expand_dims(pred,axis=0)\n",
    "        pred = FillHoles(connectivity=2)(pred)[0]\n",
    "        #pred = np.load(re.sub('.tif','_seg.npy',re.sub(str('../TBI/GT_filtered\\+raw'),'matt_preds',file['image'])))\n",
    "    elif exists(re.sub('.tif','_mean.npy',re.sub(str('../TBI/GT_filtered\\+raw'),'james_preds',file['image']))):\n",
    "        pred = np.argmax(np.load(re.sub('.tif','_mean.npy',re.sub(str('../TBI/GT_filtered\\+raw'),'james_preds',file['image']))),axis=0)\n",
    "        pred = np.expand_dims(pred,axis=0)\n",
    "        pred = FillHoles(connectivity=2)(pred)[0]\n",
    "        #pred = np.load(re.sub('.tif','_seg.npy',re.sub(str('../TBI/GT_filtered\\+raw'),'james_preds',file['image'])))\n",
    "    else:\n",
    "        print('error')\n",
    "    gt = io.imread(file['label'])\n",
    "    gt = np.swapaxes(gt,0,1)\n",
    "    gt = np.swapaxes(gt,1,3)\n",
    "    gt = np.squeeze(Spacing(pixdim=(1.01, 1.01, 0.3787), mode=(\"nearest\"))(gt)[0],axis=0)\n",
    "    cats = [1,2]\n",
    "    for i in cats:\n",
    "        dsc = (2*np.sum((gt==i)*(pred==i)))/(np.sum(gt==i)+np.sum(pred==i))\n",
    "        recall = np.sum((gt==i)*(pred==i))/np.sum(gt==i)\n",
    "        precision = np.sum((gt==i)*(pred==i))/np.sum(pred==i)\n",
    "        if i == 1:\n",
    "            vessel_dsc.append(dsc)\n",
    "            vessel_recall.append(recall)\n",
    "            vessel_precision.append(precision)\n",
    "        elif i == 2:\n",
    "            neuron_dsc.append(dsc)\n",
    "            neuron_recall.append(recall)\n",
    "            neuron_precision.append(precision)\n",
    "    dsc = (2*(np.sum((gt==1)*(pred==1))+np.sum((gt==2)*(pred==2))))/(np.sum(gt!=0)+np.sum(pred!=0))\n",
    "    recall = (np.sum((gt==1)*(pred==1)) + np.sum((gt==2)*(pred==2)))/(np.sum(gt==1) + np.sum(gt==2))\n",
    "    precision = (np.sum((gt==1)*(pred==1)) + np.sum((gt==2)*(pred==2)))/(np.sum(pred==1) + np.sum(pred==2))\n",
    "    DSC.append(dsc)\n",
    "    RECALL.append(recall)\n",
    "    PRECISION.append(precision)"
   ]
  },
  {
   "cell_type": "code",
   "execution_count": 197,
   "id": "7aad86d3-e377-4dd6-842e-9a18aafffe93",
   "metadata": {},
   "outputs": [
    {
     "name": "stdout",
     "output_type": "stream",
     "text": [
      "0.7548995236457784\n",
      "0.0664273852734582\n",
      "0.7886911532887708\n",
      "0.1489180539207966\n",
      "0.7481016317268128\n",
      "0.05418446184044403\n"
     ]
    }
   ],
   "source": [
    "print(np.mean(DSC))\n",
    "print(np.std(DSC))\n",
    "print(np.mean(RECALL))\n",
    "print(np.std(RECALL))\n",
    "print(np.mean(PRECISION))\n",
    "print(np.std(PRECISION))"
   ]
  },
  {
   "cell_type": "code",
   "execution_count": 198,
   "id": "663d2a5e-8ab5-493a-b961-b58694d486bc",
   "metadata": {},
   "outputs": [
    {
     "data": {
      "text/plain": [
       "<matplotlib.image.AxesImage at 0x14cf07bca130>"
      ]
     },
     "execution_count": 198,
     "metadata": {},
     "output_type": "execute_result"
    },
    {
     "data": {
      "image/png": "[encoded data removed]",
      "text/plain": [
       "<Figure size 432x288 with 1 Axes>"
      ]
     },
     "metadata": {
      "needs_background": "light"
     },
     "output_type": "display_data"
    }
   ],
   "source": [
    "plt.imshow(pred[:,:,110])"
   ]
  },
  {
   "cell_type": "code",
   "execution_count": 199,
   "id": "c0383fa1-c098-48e3-a3c7-30397db8d646",
   "metadata": {},
   "outputs": [
    {
     "data": {
      "text/plain": [
       "<matplotlib.image.AxesImage at 0x14cf07b42340>"
      ]
     },
     "execution_count": 199,
     "metadata": {},
     "output_type": "execute_result"
    },
    {
     "data": {
      "image/png": "[encoded data removed]",
      "text/plain": [
       "<Figure size 432x288 with 1 Axes>"
      ]
     },
     "metadata": {
      "needs_background": "light"
     },
     "output_type": "display_data"
    }
   ],
   "source": [
    "plt.imshow(gt[:,:,110])"
   ]
  },
  {
   "cell_type": "code",
   "execution_count": 200,
   "id": "d8412915",
   "metadata": {},
   "outputs": [
    {
     "data": {
      "text/plain": [
       "array([0, 1, 2])"
      ]
     },
     "execution_count": 200,
     "metadata": {},
     "output_type": "execute_result"
    }
   ],
   "source": [
    "np.unique(pred)"
   ]
  },
  {
   "cell_type": "code",
   "execution_count": 201,
   "id": "2a341425",
   "metadata": {},
   "outputs": [
    {
     "data": {
      "text/plain": [
       "{'image': '../TBI/GT_filtered+raw/XYZres204_0001.tif',\n",
       " 'label': '../TBI/GT_filtered+raw/XYZres204_0001_Simple Segmentation_sub1.tiff'}"
      ]
     },
     "execution_count": 201,
     "metadata": {},
     "output_type": "execute_result"
    }
   ],
   "source": [
    "file"
   ]
  },
  {
   "cell_type": "code",
   "execution_count": 202,
   "id": "ae18f5d2-6603-4597-9bc5-200b874b8d68",
   "metadata": {},
   "outputs": [
    {
     "data": {
      "text/plain": [
       "0.9289224363470381"
      ]
     },
     "execution_count": 202,
     "metadata": {},
     "output_type": "execute_result"
    }
   ],
   "source": [
    "\n",
    "np.sum((gt==1)*(pred==1))/np.sum(gt==1)"
   ]
  },
  {
   "cell_type": "code",
   "execution_count": 203,
   "id": "8e8e0b1b-714e-48ba-b68c-ced2b4b9aa43",
   "metadata": {},
   "outputs": [
    {
     "data": {
      "text/plain": [
       "[0.8463955276553707,\n",
       " 0.6898777635836488,\n",
       " 0.5793125937024913,\n",
       " 0.7872087806551192,\n",
       " 0.8223787411958078,\n",
       " 0.8370479980637788,\n",
       " 0.7776077225521536,\n",
       " 0.7731097740299114,\n",
       " 0.804823815236591]"
      ]
     },
     "execution_count": 203,
     "metadata": {},
     "output_type": "execute_result"
    }
   ],
   "source": [
    "vessel_dsc"
   ]
  },
  {
   "cell_type": "code",
   "execution_count": 204,
   "id": "3b2bee74",
   "metadata": {},
   "outputs": [
    {
     "data": {
      "text/plain": [
       "0.7686403018527637"
      ]
     },
     "execution_count": 204,
     "metadata": {},
     "output_type": "execute_result"
    }
   ],
   "source": [
    "np.mean(2*(np.array(vessel_precision)*np.array(vessel_recall))/(np.array(vessel_precision)+np.array(vessel_recall)))"
   ]
  },
  {
   "cell_type": "code",
   "execution_count": 205,
   "id": "b6c8eedf-a00c-4522-a58d-1614c30014f1",
   "metadata": {},
   "outputs": [],
   "source": [
    "#Spacing(pixdim=(1.01, 1.01, 0.3787), mode=(\"nearest\"))(gt)"
   ]
  },
  {
   "cell_type": "code",
   "execution_count": 206,
   "id": "b6e56412-aa1b-4c1d-bce4-50f1700ea50b",
   "metadata": {},
   "outputs": [
    {
     "name": "stdout",
     "output_type": "stream",
     "text": [
      "0.7686403018527637\n",
      "0.0798722954839931\n"
     ]
    }
   ],
   "source": [
    "print(np.mean(vessel_dsc))\n",
    "print(np.std(vessel_dsc))"
   ]
  },
  {
   "cell_type": "code",
   "execution_count": 207,
   "id": "176103d7",
   "metadata": {},
   "outputs": [
    {
     "name": "stdout",
     "output_type": "stream",
     "text": [
      "0.7809738704075831\n",
      "0.15850722600948622\n"
     ]
    }
   ],
   "source": [
    "print(np.mean(vessel_recall))\n",
    "print(np.std(vessel_recall))"
   ]
  },
  {
   "cell_type": "code",
   "execution_count": 208,
   "id": "a0b58f78",
   "metadata": {},
   "outputs": [
    {
     "name": "stdout",
     "output_type": "stream",
     "text": [
      "0.7851538558497643\n",
      "0.06252201581350378\n"
     ]
    }
   ],
   "source": [
    "print(np.mean(vessel_precision))\n",
    "print(np.std(vessel_precision))"
   ]
  },
  {
   "cell_type": "code",
   "execution_count": 209,
   "id": "369f6828-d1b6-4959-9955-8beb96a71dc9",
   "metadata": {},
   "outputs": [
    {
     "name": "stdout",
     "output_type": "stream",
     "text": [
      "0.6857931726365452\n",
      "0.05811248280293234\n"
     ]
    }
   ],
   "source": [
    "print(np.mean(neuron_dsc))\n",
    "print(np.std(neuron_dsc))"
   ]
  },
  {
   "cell_type": "code",
   "execution_count": 210,
   "id": "d25eec6d-e685-4c80-8cf9-6ad29d0e27cb",
   "metadata": {},
   "outputs": [
    {
     "name": "stdout",
     "output_type": "stream",
     "text": [
      "0.8654578578063599\n",
      "0.05300533934616964\n"
     ]
    }
   ],
   "source": [
    "print(np.mean(neuron_recall))\n",
    "print(np.std(neuron_recall))"
   ]
  },
  {
   "cell_type": "code",
   "execution_count": 211,
   "id": "ddba9903",
   "metadata": {},
   "outputs": [
    {
     "name": "stdout",
     "output_type": "stream",
     "text": [
      "0.5789620541915783\n",
      "0.10170465667860913\n"
     ]
    }
   ],
   "source": [
    "print(np.mean(neuron_precision))\n",
    "print(np.std(neuron_precision))"
   ]
  },
  {
   "cell_type": "code",
   "execution_count": 212,
   "id": "e3a53b71",
   "metadata": {},
   "outputs": [
    {
     "name": "stdout",
     "output_type": "stream",
     "text": [
      "0.7272167372446544\n",
      "0.08120488794736377\n"
     ]
    }
   ],
   "source": [
    "print(np.mean((vessel_dsc+neuron_dsc)))\n",
    "print(np.std((vessel_dsc+neuron_dsc)))"
   ]
  },
  {
   "cell_type": "code",
   "execution_count": 213,
   "id": "cf4193d4",
   "metadata": {},
   "outputs": [
    {
     "name": "stdout",
     "output_type": "stream",
     "text": [
      "0.7272167372446544\n",
      "0.041359436432235816\n"
     ]
    }
   ],
   "source": [
    "print(np.mean((np.array(vessel_dsc)+np.array(neuron_dsc))/2))\n",
    "print(np.std((np.array(vessel_dsc)+np.array(neuron_dsc))/2))"
   ]
  },
  {
   "cell_type": "code",
   "execution_count": null,
   "id": "dd182639",
   "metadata": {},
   "outputs": [],
   "source": []
  },
  {
   "cell_type": "code",
   "execution_count": null,
   "id": "3057f1b0-593b-41af-8801-c61a6bfbeee2",
   "metadata": {},
   "outputs": [],
   "source": []
  }
 ],
 "metadata": {
  "kernelspec": {
   "display_name": "monai3.8",
   "language": "python",
   "name": "monai3.8"
  },
  "language_info": {
   "codemirror_mode": {
    "name": "ipython",
    "version": 3
   },
   "file_extension": ".py",
   "mimetype": "text/x-python",
   "name": "python",
   "nbconvert_exporter": "python",
   "pygments_lexer": "ipython3",
   "version": "3.8.10"
  }
 },
 "nbformat": 4,
 "nbformat_minor": 5
}
