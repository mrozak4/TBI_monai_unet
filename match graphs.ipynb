{
 "cells": [
  {
   "cell_type": "code",
   "execution_count": 1,
   "id": "c56b4947",
   "metadata": {},
   "outputs": [],
   "source": [
    "import numpy as np\n",
    "from pathlib import Path\n",
    "import re\n",
    "from tqdm import tqdm\n",
    "from skimage import io\n",
    "from skimage.morphology import skeletonize_3d, binary_dilation\n",
    "from scipy.ndimage import distance_transform_edt\n",
    "import tifffile as tif\n",
    "from scipy.ndimage import binary_fill_holes \n",
    "import cc3d\n",
    "from scipy.io import loadmat, savemat\n",
    "import skan\n",
    "import networkx as nx\n",
    "from collections import Counter\n",
    "import pandas as pd"
   ]
  },
  {
   "cell_type": "code",
   "execution_count": null,
   "id": "367cfc8b",
   "metadata": {},
   "outputs": [],
   "source": []
  },
  {
   "cell_type": "code",
   "execution_count": 2,
   "id": "a8414c0f",
   "metadata": {},
   "outputs": [],
   "source": [
    "directory = Path('james_preds')\n",
    "files  = directory.glob('*.pickle')\n",
    "files = sorted([x.as_posix() for x in files])\n",
    "files = [x for x in files if 'radii' not in x]"
   ]
  },
  {
   "cell_type": "code",
   "execution_count": 27,
   "id": "c861b131",
   "metadata": {},
   "outputs": [
    {
     "name": "stderr",
     "output_type": "stream",
     "text": [
      "  1%|▏         | 2/141 [00:08<09:49,  4.24s/it]\n"
     ]
    },
    {
     "ename": "FileNotFoundError",
     "evalue": "[Errno 2] No such file or directory: 'james_preds/XYZres006_matched_dst_skel.npy'",
     "output_type": "error",
     "traceback": [
      "\u001b[0;31m---------------------------------------------------------------------------\u001b[0m",
      "\u001b[0;31mFileNotFoundError\u001b[0m                         Traceback (most recent call last)",
      "Input \u001b[0;32mIn [27]\u001b[0m, in \u001b[0;36m<module>\u001b[0;34m\u001b[0m\n\u001b[1;32m      1\u001b[0m \u001b[38;5;28;01mfor\u001b[39;00m file \u001b[38;5;129;01min\u001b[39;00m tqdm(files):\n\u001b[1;32m      2\u001b[0m     graph \u001b[38;5;241m=\u001b[39m nx\u001b[38;5;241m.\u001b[39mread_gpickle(file)\n\u001b[0;32m----> 3\u001b[0m     skel_dst \u001b[38;5;241m=\u001b[39m \u001b[43mnp\u001b[49m\u001b[38;5;241;43m.\u001b[39;49m\u001b[43mload\u001b[49m\u001b[43m(\u001b[49m\u001b[43mre\u001b[49m\u001b[38;5;241;43m.\u001b[39;49m\u001b[43msub\u001b[49m\u001b[43m(\u001b[49m\u001b[38;5;124;43m'\u001b[39;49m\u001b[38;5;124;43m.pickle\u001b[39;49m\u001b[38;5;124;43m'\u001b[39;49m\u001b[43m,\u001b[49m\u001b[38;5;124;43m'\u001b[39;49m\u001b[38;5;124;43m_dst_skel.npy\u001b[39;49m\u001b[38;5;124;43m'\u001b[39;49m\u001b[43m,\u001b[49m\u001b[43mfile\u001b[49m\u001b[43m)\u001b[49m\u001b[43m)\u001b[49m\n\u001b[1;32m      4\u001b[0m     \u001b[38;5;28;01mfor\u001b[39;00m i \u001b[38;5;129;01min\u001b[39;00m \u001b[38;5;28mrange\u001b[39m(\u001b[38;5;28mlen\u001b[39m(graph\u001b[38;5;241m.\u001b[39medges)):\n\u001b[1;32m      5\u001b[0m         path \u001b[38;5;241m=\u001b[39m graph[\u001b[38;5;28mlist\u001b[39m(graph\u001b[38;5;241m.\u001b[39medges)[i][\u001b[38;5;241m0\u001b[39m]][\u001b[38;5;28mlist\u001b[39m(graph\u001b[38;5;241m.\u001b[39medges)[i][\u001b[38;5;241m1\u001b[39m]][\u001b[38;5;124m'\u001b[39m\u001b[38;5;124mpts\u001b[39m\u001b[38;5;124m'\u001b[39m]\n",
      "File \u001b[0;32m~/.local/lib/python3.8/site-packages/numpy/lib/npyio.py:417\u001b[0m, in \u001b[0;36mload\u001b[0;34m(file, mmap_mode, allow_pickle, fix_imports, encoding)\u001b[0m\n\u001b[1;32m    415\u001b[0m     own_fid \u001b[38;5;241m=\u001b[39m \u001b[38;5;28;01mFalse\u001b[39;00m\n\u001b[1;32m    416\u001b[0m \u001b[38;5;28;01melse\u001b[39;00m:\n\u001b[0;32m--> 417\u001b[0m     fid \u001b[38;5;241m=\u001b[39m stack\u001b[38;5;241m.\u001b[39menter_context(\u001b[38;5;28;43mopen\u001b[39;49m\u001b[43m(\u001b[49m\u001b[43mos_fspath\u001b[49m\u001b[43m(\u001b[49m\u001b[43mfile\u001b[49m\u001b[43m)\u001b[49m\u001b[43m,\u001b[49m\u001b[43m \u001b[49m\u001b[38;5;124;43m\"\u001b[39;49m\u001b[38;5;124;43mrb\u001b[39;49m\u001b[38;5;124;43m\"\u001b[39;49m\u001b[43m)\u001b[49m)\n\u001b[1;32m    418\u001b[0m     own_fid \u001b[38;5;241m=\u001b[39m \u001b[38;5;28;01mTrue\u001b[39;00m\n\u001b[1;32m    420\u001b[0m \u001b[38;5;66;03m# Code to distinguish from NumPy binary files and pickles.\u001b[39;00m\n",
      "\u001b[0;31mFileNotFoundError\u001b[0m: [Errno 2] No such file or directory: 'james_preds/XYZres006_matched_dst_skel.npy'"
     ]
    }
   ],
   "source": [
    "for file in tqdm(files):\n",
    "    graph = nx.read_gpickle(file)\n",
    "    skel_dst = np.load(re.sub('.pickle','_dst_skel.npy',file))\n",
    "    for i in range(len(graph.edges)):\n",
    "        path = graph[list(graph.edges)[i][0]][list(graph.edges)[i][1]]['pts']\n",
    "        _vals = skel_dst[path[:,0],path[:,1],path[:,2]]\n",
    "        graph[list(graph.edges)[i][0]][list(graph.edges)[i][1]]['radii'] = np.mean(_vals)\n",
    "        graph[list(graph.edges)[i][0]][list(graph.edges)[i][1]]['radii_std'] = np.std(_vals)\n",
    "        graph[list(graph.edges)[i][0]][list(graph.edges)[i][1]]['path_weights'] = _vals\n",
    "        graph[list(graph.edges)[i][0]][list(graph.edges)[i][1]]['weight'] = graph[list(graph.edges)[i][0]][list(graph.edges)[i][1]]['weight'] * 0.99436\n",
    "        graph[list(graph.edges)[i][0]][list(graph.edges)[i][1]]['end-0'] = path[0]\n",
    "        graph[list(graph.edges)[i][0]][list(graph.edges)[i][1]]['end-1'] = path[-1]\n",
    "    nx.write_gpickle(graph, re.sub('.pickle','_radii.pickle',file))"
   ]
  },
  {
   "cell_type": "code",
   "execution_count": 28,
   "id": "d6cb155b",
   "metadata": {},
   "outputs": [],
   "source": [
    "directory = Path('james_preds')\n",
    "files  = directory.glob('*_0001_radii.pickle')\n",
    "files = sorted([x.as_posix() for x in files])"
   ]
  },
  {
   "cell_type": "code",
   "execution_count": 29,
   "id": "3ef3b812",
   "metadata": {},
   "outputs": [
    {
     "data": {
      "text/plain": [
       "0.0"
      ]
     },
     "execution_count": 29,
     "metadata": {},
     "output_type": "execute_result"
    }
   ],
   "source": [
    "np.sqrt(0)"
   ]
  },
  {
   "cell_type": "code",
   "execution_count": 32,
   "id": "1748e8d7",
   "metadata": {},
   "outputs": [
    {
     "name": "stderr",
     "output_type": "stream",
     "text": [
      "  0%|          | 0/47 [00:00<?, ?it/s]/tmp/ipykernel_239024/4140066050.py:16: RuntimeWarning: invalid value encountered in sqrt\n",
      "  dst_start_mtch = np.sqrt(np.sum(np.square(start-start_0001)))\n",
      "/tmp/ipykernel_239024/4140066050.py:17: RuntimeWarning: invalid value encountered in sqrt\n",
      "  dst_end_mtch = np.sqrt(np.sum(np.square(end-end_0001)))\n",
      "/tmp/ipykernel_239024/4140066050.py:18: RuntimeWarning: invalid value encountered in sqrt\n",
      "  dst_start_opp = np.sqrt(np.sum(np.square(start-end_0001)))\n",
      "/tmp/ipykernel_239024/4140066050.py:19: RuntimeWarning: invalid value encountered in sqrt\n",
      "  dst_end_opp = np.sqrt(np.sum(np.square(end-start_0001)))\n",
      "  2%|▏         | 1/47 [00:05<04:21,  5.68s/it]"
     ]
    },
    {
     "name": "stdout",
     "output_type": "stream",
     "text": [
      "(113, 2, 2)\n",
      "(81, 2, 2)\n"
     ]
    },
    {
     "name": "stderr",
     "output_type": "stream",
     "text": [
      "  4%|▍         | 2/47 [00:12<04:39,  6.20s/it]"
     ]
    },
    {
     "name": "stdout",
     "output_type": "stream",
     "text": [
      "(157, 2, 2)\n",
      "(117, 2, 2)\n"
     ]
    },
    {
     "name": "stderr",
     "output_type": "stream",
     "text": [
      "  6%|▋         | 3/47 [00:20<05:15,  7.18s/it]"
     ]
    },
    {
     "name": "stdout",
     "output_type": "stream",
     "text": [
      "(241, 2, 2)\n",
      "(193, 2, 2)\n"
     ]
    },
    {
     "name": "stderr",
     "output_type": "stream",
     "text": [
      "  9%|▊         | 4/47 [00:31<06:05,  8.50s/it]"
     ]
    },
    {
     "name": "stdout",
     "output_type": "stream",
     "text": [
      "(191, 2, 2)\n",
      "(147, 2, 2)\n"
     ]
    },
    {
     "name": "stderr",
     "output_type": "stream",
     "text": [
      " 11%|█         | 5/47 [00:38<05:46,  8.24s/it]"
     ]
    },
    {
     "name": "stdout",
     "output_type": "stream",
     "text": [
      "(223, 2, 2)\n",
      "(195, 2, 2)\n"
     ]
    },
    {
     "name": "stderr",
     "output_type": "stream",
     "text": [
      " 13%|█▎        | 6/47 [00:49<06:11,  9.06s/it]"
     ]
    },
    {
     "name": "stdout",
     "output_type": "stream",
     "text": [
      "(248, 2, 2)\n",
      "(184, 2, 2)\n"
     ]
    },
    {
     "name": "stderr",
     "output_type": "stream",
     "text": [
      " 15%|█▍        | 7/47 [00:57<05:42,  8.55s/it]"
     ]
    },
    {
     "name": "stdout",
     "output_type": "stream",
     "text": [
      "(222, 2, 2)\n",
      "(197, 2, 2)\n"
     ]
    },
    {
     "name": "stderr",
     "output_type": "stream",
     "text": [
      " 17%|█▋        | 8/47 [01:07<06:00,  9.24s/it]"
     ]
    },
    {
     "name": "stdout",
     "output_type": "stream",
     "text": [
      "(229, 2, 2)\n",
      "(177, 2, 2)\n"
     ]
    },
    {
     "name": "stderr",
     "output_type": "stream",
     "text": [
      " 19%|█▉        | 9/47 [01:14<05:19,  8.41s/it]"
     ]
    },
    {
     "name": "stdout",
     "output_type": "stream",
     "text": [
      "(252, 2, 2)\n",
      "(214, 2, 2)\n"
     ]
    },
    {
     "name": "stderr",
     "output_type": "stream",
     "text": [
      " 21%|██▏       | 10/47 [01:18<04:24,  7.15s/it]"
     ]
    },
    {
     "name": "stdout",
     "output_type": "stream",
     "text": [
      "(127, 2, 2)\n",
      "(83, 2, 2)\n"
     ]
    },
    {
     "name": "stderr",
     "output_type": "stream",
     "text": [
      " 23%|██▎       | 11/47 [01:25<04:09,  6.94s/it]"
     ]
    },
    {
     "name": "stdout",
     "output_type": "stream",
     "text": [
      "(199, 2, 2)\n",
      "(160, 2, 2)\n"
     ]
    },
    {
     "name": "stderr",
     "output_type": "stream",
     "text": [
      " 26%|██▌       | 12/47 [01:28<03:22,  5.78s/it]"
     ]
    },
    {
     "name": "stdout",
     "output_type": "stream",
     "text": [
      "(111, 2, 2)\n",
      "(80, 2, 2)\n"
     ]
    },
    {
     "name": "stderr",
     "output_type": "stream",
     "text": [
      " 28%|██▊       | 13/47 [01:34<03:23,  5.99s/it]"
     ]
    },
    {
     "name": "stdout",
     "output_type": "stream",
     "text": [
      "(204, 2, 2)\n",
      "(162, 2, 2)\n"
     ]
    },
    {
     "name": "stderr",
     "output_type": "stream",
     "text": [
      " 30%|██▉       | 14/47 [01:38<02:50,  5.17s/it]"
     ]
    },
    {
     "name": "stdout",
     "output_type": "stream",
     "text": [
      "(124, 2, 2)\n",
      "(77, 2, 2)\n"
     ]
    },
    {
     "name": "stderr",
     "output_type": "stream",
     "text": [
      " 32%|███▏      | 15/47 [01:44<02:59,  5.60s/it]"
     ]
    },
    {
     "name": "stdout",
     "output_type": "stream",
     "text": [
      "(219, 2, 2)\n",
      "(185, 2, 2)\n"
     ]
    },
    {
     "name": "stderr",
     "output_type": "stream",
     "text": [
      " 34%|███▍      | 16/47 [01:56<03:50,  7.43s/it]"
     ]
    },
    {
     "name": "stdout",
     "output_type": "stream",
     "text": [
      "(215, 2, 2)\n",
      "(175, 2, 2)\n"
     ]
    },
    {
     "name": "stderr",
     "output_type": "stream",
     "text": [
      " 36%|███▌      | 17/47 [02:03<03:38,  7.30s/it]"
     ]
    },
    {
     "name": "stdout",
     "output_type": "stream",
     "text": [
      "(211, 2, 2)\n",
      "(181, 2, 2)\n"
     ]
    },
    {
     "name": "stderr",
     "output_type": "stream",
     "text": [
      " 38%|███▊      | 18/47 [02:13<04:01,  8.32s/it]"
     ]
    },
    {
     "name": "stdout",
     "output_type": "stream",
     "text": [
      "(256, 2, 2)\n",
      "(176, 2, 2)\n"
     ]
    },
    {
     "name": "stderr",
     "output_type": "stream",
     "text": [
      " 40%|████      | 19/47 [02:19<03:31,  7.57s/it]"
     ]
    },
    {
     "name": "stdout",
     "output_type": "stream",
     "text": [
      "(205, 2, 2)\n",
      "(171, 2, 2)\n"
     ]
    },
    {
     "name": "stderr",
     "output_type": "stream",
     "text": [
      " 43%|████▎     | 20/47 [02:28<03:37,  8.06s/it]"
     ]
    },
    {
     "name": "stdout",
     "output_type": "stream",
     "text": [
      "(238, 2, 2)\n",
      "(178, 2, 2)\n"
     ]
    },
    {
     "name": "stderr",
     "output_type": "stream",
     "text": [
      " 45%|████▍     | 21/47 [02:35<03:17,  7.59s/it]"
     ]
    },
    {
     "name": "stdout",
     "output_type": "stream",
     "text": [
      "(249, 2, 2)\n",
      "(213, 2, 2)\n"
     ]
    },
    {
     "name": "stderr",
     "output_type": "stream",
     "text": [
      " 47%|████▋     | 22/47 [02:50<04:01,  9.67s/it]"
     ]
    },
    {
     "name": "stdout",
     "output_type": "stream",
     "text": [
      "(408, 2, 2)\n",
      "(275, 2, 2)\n"
     ]
    },
    {
     "name": "stderr",
     "output_type": "stream",
     "text": [
      " 49%|████▉     | 23/47 [02:59<03:50,  9.60s/it]"
     ]
    },
    {
     "name": "stdout",
     "output_type": "stream",
     "text": [
      "(323, 2, 2)\n",
      "(233, 2, 2)\n"
     ]
    },
    {
     "name": "stderr",
     "output_type": "stream",
     "text": [
      " 51%|█████     | 24/47 [03:18<04:46, 12.47s/it]"
     ]
    },
    {
     "name": "stdout",
     "output_type": "stream",
     "text": [
      "(450, 2, 2)\n",
      "(288, 2, 2)\n"
     ]
    },
    {
     "name": "stderr",
     "output_type": "stream",
     "text": [
      " 53%|█████▎    | 25/47 [03:27<04:13, 11.51s/it]"
     ]
    },
    {
     "name": "stdout",
     "output_type": "stream",
     "text": [
      "(288, 2, 2)\n",
      "(214, 2, 2)\n"
     ]
    },
    {
     "name": "stderr",
     "output_type": "stream",
     "text": [
      " 55%|█████▌    | 26/47 [03:44<04:34, 13.08s/it]"
     ]
    },
    {
     "name": "stdout",
     "output_type": "stream",
     "text": [
      "(447, 2, 2)\n",
      "(303, 2, 2)\n"
     ]
    },
    {
     "name": "stderr",
     "output_type": "stream",
     "text": [
      " 57%|█████▋    | 27/47 [03:52<03:49, 11.48s/it]"
     ]
    },
    {
     "name": "stdout",
     "output_type": "stream",
     "text": [
      "(288, 2, 2)\n",
      "(210, 2, 2)\n"
     ]
    },
    {
     "name": "stderr",
     "output_type": "stream",
     "text": [
      " 60%|█████▉    | 28/47 [03:58<03:09,  9.97s/it]"
     ]
    },
    {
     "name": "stdout",
     "output_type": "stream",
     "text": [
      "(226, 2, 2)\n",
      "(164, 2, 2)\n"
     ]
    },
    {
     "name": "stderr",
     "output_type": "stream",
     "text": [
      " 62%|██████▏   | 29/47 [04:03<02:31,  8.41s/it]"
     ]
    },
    {
     "name": "stdout",
     "output_type": "stream",
     "text": [
      "(227, 2, 2)\n",
      "(183, 2, 2)\n"
     ]
    },
    {
     "name": "stderr",
     "output_type": "stream",
     "text": [
      " 64%|██████▍   | 30/47 [04:10<02:13,  7.86s/it]"
     ]
    },
    {
     "name": "stdout",
     "output_type": "stream",
     "text": [
      "(219, 2, 2)\n",
      "(158, 2, 2)\n"
     ]
    },
    {
     "name": "stderr",
     "output_type": "stream",
     "text": [
      " 66%|██████▌   | 31/47 [04:15<01:52,  7.06s/it]"
     ]
    },
    {
     "name": "stdout",
     "output_type": "stream",
     "text": [
      "(270, 2, 2)\n",
      "(196, 2, 2)\n"
     ]
    },
    {
     "name": "stderr",
     "output_type": "stream",
     "text": [
      " 68%|██████▊   | 32/47 [04:21<01:43,  6.90s/it]"
     ]
    },
    {
     "name": "stdout",
     "output_type": "stream",
     "text": [
      "(189, 2, 2)\n",
      "(133, 2, 2)\n"
     ]
    },
    {
     "name": "stderr",
     "output_type": "stream",
     "text": [
      " 70%|███████   | 33/47 [04:26<01:26,  6.16s/it]"
     ]
    },
    {
     "name": "stdout",
     "output_type": "stream",
     "text": [
      "(226, 2, 2)\n",
      "(171, 2, 2)\n"
     ]
    },
    {
     "name": "stderr",
     "output_type": "stream",
     "text": [
      " 72%|███████▏  | 34/47 [04:33<01:24,  6.54s/it]"
     ]
    },
    {
     "name": "stdout",
     "output_type": "stream",
     "text": [
      "(233, 2, 2)\n",
      "(164, 2, 2)\n"
     ]
    },
    {
     "name": "stderr",
     "output_type": "stream",
     "text": [
      " 74%|███████▍  | 35/47 [04:38<01:12,  6.01s/it]"
     ]
    },
    {
     "name": "stdout",
     "output_type": "stream",
     "text": [
      "(220, 2, 2)\n",
      "(190, 2, 2)\n"
     ]
    },
    {
     "name": "stderr",
     "output_type": "stream",
     "text": [
      " 77%|███████▋  | 36/47 [04:45<01:08,  6.24s/it]"
     ]
    },
    {
     "name": "stdout",
     "output_type": "stream",
     "text": [
      "(266, 2, 2)\n",
      "(201, 2, 2)\n"
     ]
    },
    {
     "name": "stderr",
     "output_type": "stream",
     "text": [
      " 79%|███████▊  | 37/47 [04:50<00:58,  5.81s/it]"
     ]
    },
    {
     "name": "stdout",
     "output_type": "stream",
     "text": [
      "(220, 2, 2)\n",
      "(167, 2, 2)\n"
     ]
    },
    {
     "name": "stderr",
     "output_type": "stream",
     "text": [
      " 81%|████████  | 38/47 [04:57<00:55,  6.20s/it]"
     ]
    },
    {
     "name": "stdout",
     "output_type": "stream",
     "text": [
      "(238, 2, 2)\n",
      "(181, 2, 2)\n"
     ]
    },
    {
     "name": "stderr",
     "output_type": "stream",
     "text": [
      " 83%|████████▎ | 39/47 [05:01<00:45,  5.69s/it]"
     ]
    },
    {
     "name": "stdout",
     "output_type": "stream",
     "text": [
      "(262, 2, 2)\n",
      "(211, 2, 2)\n"
     ]
    },
    {
     "name": "stderr",
     "output_type": "stream",
     "text": [
      " 85%|████████▌ | 40/47 [05:06<00:37,  5.38s/it]"
     ]
    },
    {
     "name": "stdout",
     "output_type": "stream",
     "text": [
      "(209, 2, 2)\n",
      "(141, 2, 2)\n"
     ]
    },
    {
     "name": "stderr",
     "output_type": "stream",
     "text": [
      " 87%|████████▋ | 41/47 [05:22<00:52,  8.71s/it]"
     ]
    },
    {
     "name": "stdout",
     "output_type": "stream",
     "text": [
      "(412, 2, 2)\n",
      "(280, 2, 2)\n"
     ]
    },
    {
     "name": "stderr",
     "output_type": "stream",
     "text": [
      " 89%|████████▉ | 42/47 [05:32<00:45,  9.04s/it]"
     ]
    },
    {
     "name": "stdout",
     "output_type": "stream",
     "text": [
      "(381, 2, 2)\n",
      "(298, 2, 2)\n"
     ]
    },
    {
     "name": "stderr",
     "output_type": "stream",
     "text": [
      " 91%|█████████▏| 43/47 [05:52<00:48, 12.17s/it]"
     ]
    },
    {
     "name": "stdout",
     "output_type": "stream",
     "text": [
      "(463, 2, 2)\n",
      "(319, 2, 2)\n"
     ]
    },
    {
     "name": "stderr",
     "output_type": "stream",
     "text": [
      " 94%|█████████▎| 44/47 [06:02<00:35, 11.69s/it]"
     ]
    },
    {
     "name": "stdout",
     "output_type": "stream",
     "text": [
      "(395, 2, 2)\n",
      "(297, 2, 2)\n"
     ]
    },
    {
     "name": "stderr",
     "output_type": "stream",
     "text": [
      " 96%|█████████▌| 45/47 [06:19<00:26, 13.36s/it]"
     ]
    },
    {
     "name": "stdout",
     "output_type": "stream",
     "text": [
      "(419, 2, 2)\n",
      "(272, 2, 2)\n"
     ]
    },
    {
     "name": "stderr",
     "output_type": "stream",
     "text": [
      " 98%|█████████▊| 46/47 [06:29<00:12, 12.33s/it]"
     ]
    },
    {
     "name": "stdout",
     "output_type": "stream",
     "text": [
      "(391, 2, 2)\n",
      "(299, 2, 2)\n"
     ]
    },
    {
     "name": "stderr",
     "output_type": "stream",
     "text": [
      "100%|██████████| 47/47 [06:36<00:00,  8.44s/it]"
     ]
    },
    {
     "name": "stdout",
     "output_type": "stream",
     "text": [
      "(333, 2, 2)\n",
      "(218, 2, 2)\n"
     ]
    },
    {
     "name": "stderr",
     "output_type": "stream",
     "text": [
      "\n"
     ]
    }
   ],
   "source": [
    "for file_0001 in tqdm(files):\n",
    "    file = re.sub('_0001','',file_0001)\n",
    "    graph = nx.read_gpickle(file)\n",
    "    graph_0001 = nx.read_gpickle(file_0001)\n",
    "    res = []\n",
    "    thresh = 30\n",
    "    count=0\n",
    "    for i in list(graph.edges):\n",
    "        for j in list(graph_0001.edges):\n",
    "            if graph.edges[i]['weight'] > 5:\n",
    "                thresh_dst = graph.edges[i]['weight']/3\n",
    "                start = graph.edges[i]['end-0']\n",
    "                end = graph.edges[i]['end-1']\n",
    "                start_0001 = graph_0001.edges[j]['end-0']\n",
    "                end_0001 = graph_0001.edges[j]['end-1']\n",
    "                dst_start_mtch = np.sqrt(np.sum(np.square(start-start_0001)))\n",
    "                dst_end_mtch = np.sqrt(np.sum(np.square(end-end_0001)))\n",
    "                dst_start_opp = np.sqrt(np.sum(np.square(start-end_0001)))\n",
    "                dst_end_opp = np.sqrt(np.sum(np.square(end-start_0001)))\n",
    "                path_dst = graph.edges[i]['weight']\n",
    "                path_dst_0001 = graph_0001.edges[j]['weight']\n",
    "                distance_delt = abs(path_dst - path_dst_0001)\n",
    "                if dst_start_mtch < thresh and dst_end_mtch < thresh and distance_delt < thresh_dst or dst_start_opp < thresh and dst_end_opp < thresh and distance_delt < thresh_dst:\n",
    "                    res.append([i,j])\n",
    "                    graph.edges[i]['radii_0001'] = graph_0001.edges[j]['radii']\n",
    "                    graph.edges[i]['radii_0001_std'] = graph_0001.edges[j]['radii_std']\n",
    "                    break\n",
    "                else:\n",
    "                    continue\n",
    "    res = np.array(res)\n",
    "    \n",
    "    if len(res) !=0:\n",
    "        print(res.shape)\n",
    "        res_str = [\",\".join(item) for item in res[:,1].astype(str)]\n",
    "        repeated = [item for item, count in Counter(res_str).items() if count > 1]\n",
    "        res = np.array(res)\n",
    "        if len(repeated) != 0:\n",
    "            for i in range(len(repeated)):   # branches_selected.to_excel(re.sub('.tiff','_iso.xlsx',file))\n",
    "                res = np.delete(res,np.where(np.array(res_str) == repeated[i])[0],axis=0)\n",
    "                res_str = np.delete(res_str,np.where(np.array(res_str) == repeated[i])[0],axis=0)\n",
    "        res = np.array(res)\n",
    "        print(res.shape)\n",
    "        np.save(re.sub('.pickle','_edge_match.npy',file),res)\n",
    "        nx.write_gpickle(graph, re.sub('_radii.pickle','_matched.pickle',file))"
   ]
  },
  {
   "cell_type": "code",
   "execution_count": null,
   "id": "c0d0b5f9",
   "metadata": {},
   "outputs": [],
   "source": [
    "print(res.shape)"
   ]
  },
  {
   "cell_type": "code",
   "execution_count": null,
   "id": "a3649719",
   "metadata": {},
   "outputs": [],
   "source": [
    "res_str = [\",\".join(item) for item in res[:,1].astype(str)]\n",
    "repeated = [item for item, count in Counter(res_str).items() if count > 1]"
   ]
  },
  {
   "cell_type": "code",
   "execution_count": null,
   "id": "48f83a7e",
   "metadata": {},
   "outputs": [],
   "source": [
    "res_str = [\",\".join(item) for item in res[:,1].astype(str)]\n",
    "repeated = [item for item, count in Counter(res_str).items() if count > 1]\n",
    "\n",
    "res = np.array(res)\n",
    "if len(repeated) != 0:\n",
    "    for i in range(len(repeated)):   # branches_selected.to_excel(re.sub('.tiff','_iso.xlsx',file))\n",
    "# branches_selected_0001.to_excel(re.sub('.tiff','_iso.xlsx',file_0001))\n",
    "# branches_full.to_excel(re.sub('.tiff','_iso_full.xlsx',file))\n",
    "# branches_full_0001.to_excel(re.sub('.tiff','_iso_full.xlsx',file_0001))\n",
    "# np.save(re.sub('.tiff','_iso_corr.txt',file),res)\n",
    "        res = np.delete(res,np.where(np.array(res_str) == repeated[i])[0],axis=0)\n",
    "\n",
    "\n",
    "\n",
    "res = np.array(res)\n",
    "print(res.shape)"
   ]
  },
  {
   "cell_type": "code",
   "execution_count": 11,
   "id": "bf75f137",
   "metadata": {},
   "outputs": [],
   "source": [
    "file = files[1]"
   ]
  },
  {
   "cell_type": "code",
   "execution_count": 12,
   "id": "aa58ee90",
   "metadata": {},
   "outputs": [],
   "source": [
    "graph = nx.read_gpickle(file)"
   ]
  },
  {
   "cell_type": "code",
   "execution_count": 21,
   "id": "f7d4815a",
   "metadata": {},
   "outputs": [
    {
     "data": {
      "text/plain": [
       "{'pts': array([[ 67,  12, 152],\n",
       "        [ 67,  13, 152],\n",
       "        [ 67,  14, 152],\n",
       "        [ 67,  15, 152],\n",
       "        [ 67,  16, 152],\n",
       "        [ 67,  17, 152],\n",
       "        [ 67,  18, 152],\n",
       "        [ 68,  19, 152],\n",
       "        [ 68,  20, 152],\n",
       "        [ 68,  21, 151],\n",
       "        [ 68,  22, 150],\n",
       "        [ 68,  23, 149],\n",
       "        [ 68,  24, 149],\n",
       "        [ 68,  25, 148],\n",
       "        [ 68,  26, 147],\n",
       "        [ 67,  27, 147],\n",
       "        [ 67,  28, 147],\n",
       "        [ 67,  29, 147],\n",
       "        [ 68,  30, 146],\n",
       "        [ 68,  31, 145],\n",
       "        [ 69,  32, 144],\n",
       "        [ 69,  33, 144],\n",
       "        [ 69,  34, 143],\n",
       "        [ 69,  35, 143],\n",
       "        [ 69,  36, 142],\n",
       "        [ 69,  37, 141],\n",
       "        [ 70,  38, 140],\n",
       "        [ 70,  38, 139],\n",
       "        [ 70,  39, 138],\n",
       "        [ 71,  40, 137],\n",
       "        [ 71,  41, 136],\n",
       "        [ 72,  42, 136],\n",
       "        [ 73,  43, 135],\n",
       "        [ 73,  44, 134],\n",
       "        [ 74,  45, 133],\n",
       "        [ 74,  46, 133],\n",
       "        [ 75,  47, 132],\n",
       "        [ 75,  48, 132],\n",
       "        [ 76,  49, 131],\n",
       "        [ 76,  50, 131],\n",
       "        [ 76,  51, 130],\n",
       "        [ 77,  52, 129],\n",
       "        [ 77,  53, 128],\n",
       "        [ 78,  54, 127],\n",
       "        [ 79,  55, 126],\n",
       "        [ 79,  56, 126],\n",
       "        [ 80,  57, 126],\n",
       "        [ 81,  58, 127],\n",
       "        [ 81,  59, 126],\n",
       "        [ 82,  60, 126],\n",
       "        [ 82,  61, 125],\n",
       "        [ 83,  62, 124],\n",
       "        [ 84,  63, 125],\n",
       "        [ 84,  64, 126],\n",
       "        [ 84,  65, 125],\n",
       "        [ 85,  66, 124],\n",
       "        [ 85,  67, 123],\n",
       "        [ 86,  68, 122],\n",
       "        [ 86,  69, 121],\n",
       "        [ 87,  70, 121],\n",
       "        [ 87,  71, 120],\n",
       "        [ 88,  72, 120],\n",
       "        [ 88,  73, 120],\n",
       "        [ 89,  74, 119]], dtype=int16),\n",
       " 'weight': 86.55192183791792,\n",
       " 'radii': 1.9851731564872899,\n",
       " 'radii_std': 0.24585060145805968,\n",
       " 'path_weights': array([1.98872   , 1.98872   , 1.98872   , 1.98872   , 1.98872   ,\n",
       "        1.98872   , 1.98872   , 1.72228204, 1.98872   , 1.98872   ,\n",
       "        1.98872   , 1.98872   , 1.98872   , 1.98872   , 1.4062374 ,\n",
       "        2.22345655, 2.43567462, 2.43567462, 2.22345655, 2.22345655,\n",
       "        1.98872   , 1.98872   , 1.98872   , 1.98872   , 1.98872   ,\n",
       "        1.98872   , 2.22345655, 2.22345655, 1.98872   , 2.22345655,\n",
       "        1.98872   , 2.22345655, 1.98872   , 1.98872   , 1.98872   ,\n",
       "        2.22345655, 1.98872   , 1.4062374 , 1.98872   , 1.98872   ,\n",
       "        1.98872   , 2.22345655, 1.98872   , 2.22345655, 2.22345655,\n",
       "        2.22345655, 2.22345655, 2.22345655, 2.22345655, 2.22345655,\n",
       "        1.98872   , 1.98872   , 1.72228204, 1.98872   , 1.4062374 ,\n",
       "        1.98872   , 1.98872   , 1.98872   , 1.4062374 , 1.98872   ,\n",
       "        1.4062374 , 1.72228204, 1.4062374 , 1.4062374 ]),\n",
       " 'end-0': array([ 67,  12, 152], dtype=int16),\n",
       " 'end-1': array([ 89,  74, 119], dtype=int16)}"
      ]
     },
     "execution_count": 21,
     "metadata": {},
     "output_type": "execute_result"
    }
   ],
   "source": [
    "graph[82][121]"
   ]
  },
  {
   "cell_type": "code",
   "execution_count": 16,
   "id": "41d9e002",
   "metadata": {},
   "outputs": [
    {
     "data": {
      "text/plain": [
       "[(0, 5),\n",
       " (1, 46),\n",
       " (2, 3),\n",
       " (6, 15),\n",
       " (7, 9),\n",
       " (8, 12),\n",
       " (10, 70),\n",
       " (11, 42),\n",
       " (13, 26),\n",
       " (14, 78),\n",
       " (16, 63),\n",
       " (17, 31),\n",
       " (18, 19),\n",
       " (20, 34),\n",
       " (21, 24),\n",
       " (23, 30),\n",
       " (27, 39),\n",
       " (28, 42),\n",
       " (29, 35),\n",
       " (31, 37),\n",
       " (31, 36),\n",
       " (32, 47),\n",
       " (33, 38),\n",
       " (38, 45),\n",
       " (40, 60),\n",
       " (41, 48),\n",
       " (42, 112),\n",
       " (50, 61),\n",
       " (51, 54),\n",
       " (52, 91),\n",
       " (53, 56),\n",
       " (55, 62),\n",
       " (58, 78),\n",
       " (59, 62),\n",
       " (60, 93),\n",
       " (60, 75),\n",
       " (62, 124),\n",
       " (64, 69),\n",
       " (65, 68),\n",
       " (66, 90),\n",
       " (67, 106),\n",
       " (72, 74),\n",
       " (73, 86),\n",
       " (75, 213),\n",
       " (75, 100),\n",
       " (77, 88),\n",
       " (78, 91),\n",
       " (80, 81),\n",
       " (82, 121),\n",
       " (83, 84),\n",
       " (88, 88),\n",
       " (88, 99),\n",
       " (89, 96),\n",
       " (91, 206),\n",
       " (94, 98),\n",
       " (95, 97),\n",
       " (101, 116),\n",
       " (102, 103),\n",
       " (102, 119),\n",
       " (102, 104),\n",
       " (105, 166),\n",
       " (109, 115),\n",
       " (111, 132),\n",
       " (112, 118),\n",
       " (112, 128),\n",
       " (113, 146),\n",
       " (114, 126),\n",
       " (117, 126),\n",
       " (122, 123),\n",
       " (124, 152),\n",
       " (124, 216),\n",
       " (125, 143),\n",
       " (126, 167),\n",
       " (127, 131),\n",
       " (127, 127),\n",
       " (127, 159),\n",
       " (127, 137),\n",
       " (128, 129),\n",
       " (128, 163),\n",
       " (130, 212),\n",
       " (133, 135),\n",
       " (134, 135),\n",
       " (135, 154),\n",
       " (136, 150),\n",
       " (138, 173),\n",
       " (140, 150),\n",
       " (141, 142),\n",
       " (144, 146),\n",
       " (145, 159),\n",
       " (146, 154),\n",
       " (147, 151),\n",
       " (148, 151),\n",
       " (149, 194),\n",
       " (150, 177),\n",
       " (151, 188),\n",
       " (153, 176),\n",
       " (154, 159),\n",
       " (155, 193),\n",
       " (156, 227),\n",
       " (157, 191),\n",
       " (158, 164),\n",
       " (159, 177),\n",
       " (160, 178),\n",
       " (161, 195),\n",
       " (162, 201),\n",
       " (163, 206),\n",
       " (163, 183),\n",
       " (164, 168),\n",
       " (164, 169),\n",
       " (164, 194),\n",
       " (164, 186),\n",
       " (165, 178),\n",
       " (170, 198),\n",
       " (171, 182),\n",
       " (172, 196),\n",
       " (174, 199),\n",
       " (175, 199),\n",
       " (177, 188),\n",
       " (178, 198),\n",
       " (179, 186),\n",
       " (180, 225),\n",
       " (181, 198),\n",
       " (181, 208),\n",
       " (181, 219),\n",
       " (181, 315),\n",
       " (184, 246),\n",
       " (185, 197),\n",
       " (186, 219),\n",
       " (187, 200),\n",
       " (188, 193),\n",
       " (189, 195),\n",
       " (190, 229),\n",
       " (193, 198),\n",
       " (194, 199),\n",
       " (195, 201),\n",
       " (199, 200),\n",
       " (199, 204),\n",
       " (200, 201),\n",
       " (200, 203),\n",
       " (205, 232),\n",
       " (206, 244),\n",
       " (207, 211),\n",
       " (209, 210),\n",
       " (214, 219),\n",
       " (215, 217),\n",
       " (218, 295),\n",
       " (220, 298),\n",
       " (221, 222),\n",
       " (223, 224),\n",
       " (226, 264),\n",
       " (228, 247),\n",
       " (230, 263),\n",
       " (231, 233),\n",
       " (232, 234),\n",
       " (232, 245),\n",
       " (234, 237),\n",
       " (234, 240),\n",
       " (235, 240),\n",
       " (236, 256),\n",
       " (237, 238),\n",
       " (237, 252),\n",
       " (238, 244),\n",
       " (238, 253),\n",
       " (239, 240),\n",
       " (242, 250),\n",
       " (243, 255),\n",
       " (244, 284),\n",
       " (245, 248),\n",
       " (246, 302),\n",
       " (246, 249),\n",
       " (251, 290),\n",
       " (254, 324),\n",
       " (255, 264),\n",
       " (255, 262),\n",
       " (255, 293),\n",
       " (257, 274),\n",
       " (258, 291),\n",
       " (259, 299),\n",
       " (260, 265),\n",
       " (261, 265),\n",
       " (264, 308),\n",
       " (264, 265),\n",
       " (266, 267),\n",
       " (270, 271),\n",
       " (273, 274),\n",
       " (274, 305),\n",
       " (276, 277),\n",
       " (279, 300),\n",
       " (280, 293),\n",
       " (281, 282),\n",
       " (284, 368),\n",
       " (284, 296),\n",
       " (285, 331),\n",
       " (286, 309),\n",
       " (288, 294),\n",
       " (289, 344),\n",
       " (292, 310),\n",
       " (293, 303),\n",
       " (295, 297),\n",
       " (295, 392),\n",
       " (300, 360),\n",
       " (300, 315),\n",
       " (301, 326),\n",
       " (303, 318),\n",
       " (303, 306),\n",
       " (307, 312),\n",
       " (307, 313),\n",
       " (307, 308),\n",
       " (308, 405),\n",
       " (314, 332),\n",
       " (315, 319),\n",
       " (316, 323),\n",
       " (317, 350),\n",
       " (319, 329),\n",
       " (319, 320),\n",
       " (327, 333),\n",
       " (328, 366),\n",
       " (330, 347),\n",
       " (335, 341),\n",
       " (337, 345),\n",
       " (338, 348),\n",
       " (339, 359),\n",
       " (340, 369),\n",
       " (343, 407),\n",
       " (346, 377),\n",
       " (349, 355),\n",
       " (351, 352),\n",
       " (353, 382),\n",
       " (356, 421),\n",
       " (357, 360),\n",
       " (360, 362),\n",
       " (361, 380),\n",
       " (362, 363),\n",
       " (362, 450),\n",
       " (370, 402),\n",
       " (371, 395),\n",
       " (372, 389),\n",
       " (373, 399),\n",
       " (376, 394),\n",
       " (378, 384),\n",
       " (379, 383),\n",
       " (381, 420),\n",
       " (385, 400),\n",
       " (386, 408),\n",
       " (387, 415),\n",
       " (388, 395),\n",
       " (390, 396),\n",
       " (391, 405),\n",
       " (393, 411),\n",
       " (395, 403),\n",
       " (397, 410),\n",
       " (403, 445),\n",
       " (403, 423),\n",
       " (404, 412),\n",
       " (405, 497),\n",
       " (406, 448),\n",
       " (409, 435),\n",
       " (410, 455),\n",
       " (410, 421),\n",
       " (413, 422),\n",
       " (416, 417),\n",
       " (421, 438),\n",
       " (424, 428),\n",
       " (425, 426),\n",
       " (430, 440),\n",
       " (432, 436),\n",
       " (433, 473),\n",
       " (434, 435),\n",
       " (435, 445),\n",
       " (439, 444),\n",
       " (441, 448),\n",
       " (443, 474),\n",
       " (445, 449),\n",
       " (446, 452),\n",
       " (447, 451),\n",
       " (448, 674),\n",
       " (453, 465),\n",
       " (456, 470),\n",
       " (457, 514),\n",
       " (458, 473),\n",
       " (459, 511),\n",
       " (460, 464),\n",
       " (461, 479),\n",
       " (461, 465),\n",
       " (461, 462),\n",
       " (463, 467),\n",
       " (465, 492),\n",
       " (467, 468),\n",
       " (469, 541),\n",
       " (471, 472),\n",
       " (473, 508),\n",
       " (475, 544),\n",
       " (476, 477),\n",
       " (480, 485),\n",
       " (481, 505),\n",
       " (482, 492),\n",
       " (484, 494),\n",
       " (486, 501),\n",
       " (487, 492),\n",
       " (488, 493),\n",
       " (489, 509),\n",
       " (490, 612),\n",
       " (495, 500),\n",
       " (498, 582),\n",
       " (499, 504),\n",
       " (500, 539),\n",
       " (500, 561),\n",
       " (503, 611),\n",
       " (506, 538),\n",
       " (507, 512),\n",
       " (508, 569),\n",
       " (508, 533),\n",
       " (510, 540),\n",
       " (513, 529),\n",
       " (514, 520),\n",
       " (514, 595),\n",
       " (515, 528),\n",
       " (517, 518),\n",
       " (519, 559),\n",
       " (521, 527),\n",
       " (523, 565),\n",
       " (524, 530),\n",
       " (526, 594),\n",
       " (531, 637),\n",
       " (534, 542),\n",
       " (535, 603),\n",
       " (536, 541),\n",
       " (537, 545),\n",
       " (541, 563),\n",
       " (543, 546),\n",
       " (548, 550),\n",
       " (549, 555),\n",
       " (551, 573),\n",
       " (552, 574),\n",
       " (553, 554),\n",
       " (556, 561),\n",
       " (557, 565),\n",
       " (558, 561),\n",
       " (560, 587),\n",
       " (561, 575),\n",
       " (562, 569),\n",
       " (562, 576),\n",
       " (562, 570),\n",
       " (563, 567),\n",
       " (563, 568),\n",
       " (565, 575),\n",
       " (566, 575),\n",
       " (569, 748),\n",
       " (571, 577),\n",
       " (572, 583),\n",
       " (578, 594),\n",
       " (578, 579),\n",
       " (584, 604),\n",
       " (586, 602),\n",
       " (588, 600),\n",
       " (590, 642),\n",
       " (591, 597),\n",
       " (594, 644),\n",
       " (596, 601),\n",
       " (598, 603),\n",
       " (599, 605),\n",
       " (603, 657),\n",
       " (607, 608),\n",
       " (607, 616),\n",
       " (607, 670),\n",
       " (609, 615),\n",
       " (612, 655),\n",
       " (612, 643),\n",
       " (613, 616),\n",
       " (614, 623),\n",
       " (616, 639),\n",
       " (617, 639),\n",
       " (619, 629),\n",
       " (621, 622),\n",
       " (625, 675),\n",
       " (626, 630),\n",
       " (627, 646),\n",
       " (632, 636),\n",
       " (633, 645),\n",
       " (634, 640),\n",
       " (635, 659),\n",
       " (638, 652),\n",
       " (639, 656),\n",
       " (641, 650),\n",
       " (643, 653),\n",
       " (643, 648),\n",
       " (647, 678),\n",
       " (649, 691),\n",
       " (651, 655),\n",
       " (654, 662),\n",
       " (655, 690),\n",
       " (658, 687),\n",
       " (660, 681),\n",
       " (661, 662),\n",
       " (662, 694),\n",
       " (663, 676),\n",
       " (664, 682),\n",
       " (667, 671),\n",
       " (668, 688),\n",
       " (669, 721),\n",
       " (670, 670),\n",
       " (670, 703),\n",
       " (672, 685),\n",
       " (674, 676),\n",
       " (674, 817),\n",
       " (676, 685),\n",
       " (677, 682),\n",
       " (679, 686),\n",
       " (680, 696),\n",
       " (682, 695),\n",
       " (683, 755),\n",
       " (684, 688),\n",
       " (685, 714),\n",
       " (688, 701),\n",
       " (689, 726),\n",
       " (692, 693),\n",
       " (696, 699),\n",
       " (698, 709),\n",
       " (700, 736),\n",
       " (702, 730),\n",
       " (704, 708),\n",
       " (705, 714),\n",
       " (706, 727),\n",
       " (707, 712),\n",
       " (710, 723),\n",
       " (713, 718),\n",
       " (714, 720),\n",
       " (715, 747),\n",
       " (722, 766),\n",
       " (724, 741),\n",
       " (725, 732),\n",
       " (728, 729),\n",
       " (731, 736),\n",
       " (733, 734),\n",
       " (733, 737),\n",
       " (734, 740),\n",
       " (734, 752),\n",
       " (735, 744),\n",
       " (736, 760),\n",
       " (738, 813),\n",
       " (739, 750),\n",
       " (742, 746),\n",
       " (743, 761),\n",
       " (745, 768),\n",
       " (749, 754),\n",
       " (751, 767),\n",
       " (753, 759),\n",
       " (756, 757),\n",
       " (758, 762),\n",
       " (761, 790),\n",
       " (761, 889),\n",
       " (763, 778),\n",
       " (764, 776),\n",
       " (770, 774),\n",
       " (771, 773),\n",
       " (772, 775),\n",
       " (775, 784),\n",
       " (775, 787),\n",
       " (777, 783),\n",
       " (779, 797),\n",
       " (781, 782),\n",
       " (785, 858),\n",
       " (786, 791),\n",
       " (788, 805),\n",
       " (789, 793),\n",
       " (792, 804),\n",
       " (793, 796),\n",
       " (793, 882),\n",
       " (794, 807),\n",
       " (795, 805),\n",
       " (795, 801),\n",
       " (795, 808),\n",
       " (796, 816),\n",
       " (796, 808),\n",
       " (798, 822),\n",
       " (799, 811),\n",
       " (800, 820),\n",
       " (802, 808),\n",
       " (803, 804),\n",
       " (804, 810),\n",
       " (809, 832),\n",
       " (810, 811),\n",
       " (810, 823),\n",
       " (811, 817),\n",
       " (812, 815),\n",
       " (817, 828),\n",
       " (818, 824),\n",
       " (822, 980),\n",
       " (822, 825),\n",
       " (825, 878),\n",
       " (825, 865),\n",
       " (826, 841),\n",
       " (828, 854),\n",
       " (828, 851),\n",
       " (829, 837),\n",
       " (829, 863),\n",
       " (830, 837),\n",
       " (831, 835),\n",
       " (836, 848),\n",
       " (837, 876),\n",
       " (838, 849),\n",
       " (839, 845),\n",
       " (841, 861),\n",
       " (841, 855),\n",
       " (843, 844),\n",
       " (850, 888),\n",
       " (853, 872),\n",
       " (856, 857),\n",
       " (859, 864),\n",
       " (860, 901),\n",
       " (863, 902),\n",
       " (863, 881),\n",
       " (866, 877),\n",
       " (869, 891),\n",
       " (870, 886),\n",
       " (871, 873),\n",
       " (874, 953),\n",
       " (876, 973),\n",
       " (876, 949),\n",
       " (878, 950),\n",
       " (878, 932),\n",
       " (880, 884),\n",
       " (882, 946),\n",
       " (882, 942),\n",
       " (883, 929),\n",
       " (884, 887),\n",
       " (884, 948),\n",
       " (885, 898),\n",
       " (892, 894),\n",
       " (893, 904),\n",
       " (895, 896),\n",
       " (897, 917),\n",
       " (899, 937),\n",
       " (900, 909),\n",
       " (903, 905),\n",
       " (906, 925),\n",
       " (907, 913),\n",
       " (910, 951),\n",
       " (911, 920),\n",
       " (912, 923),\n",
       " (914, 921),\n",
       " (915, 969),\n",
       " (918, 922),\n",
       " (919, 939),\n",
       " (924, 932),\n",
       " (927, 978),\n",
       " (928, 981),\n",
       " (931, 975),\n",
       " (932, 986),\n",
       " (933, 936),\n",
       " (934, 935),\n",
       " (937, 945),\n",
       " (937, 944),\n",
       " (941, 945),\n",
       " (943, 945),\n",
       " (947, 957),\n",
       " (952, 960),\n",
       " (954, 955),\n",
       " (956, 959),\n",
       " (958, 977),\n",
       " (962, 970),\n",
       " (964, 965),\n",
       " (967, 983),\n",
       " (972, 976),\n",
       " (979, 985),\n",
       " (982, 984)]"
      ]
     },
     "execution_count": 16,
     "metadata": {},
     "output_type": "execute_result"
    }
   ],
   "source": [
    "list(graph.edges)"
   ]
  },
  {
   "cell_type": "code",
   "execution_count": null,
   "id": "d922c7be",
   "metadata": {},
   "outputs": [],
   "source": []
  },
  {
   "cell_type": "code",
   "execution_count": null,
   "id": "00727a4a",
   "metadata": {},
   "outputs": [],
   "source": []
  }
 ],
 "metadata": {
  "kernelspec": {
   "display_name": "monai3.8",
   "language": "python",
   "name": "monai3.8"
  },
  "language_info": {
   "codemirror_mode": {
    "name": "ipython",
    "version": 3
   },
   "file_extension": ".py",
   "mimetype": "text/x-python",
   "name": "python",
   "nbconvert_exporter": "python",
   "pygments_lexer": "ipython3",
   "version": "3.8.10"
  }
 },
 "nbformat": 4,
 "nbformat_minor": 5
}
