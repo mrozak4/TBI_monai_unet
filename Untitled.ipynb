{
 "cells": [
  {
   "cell_type": "code",
   "execution_count": 33,
   "id": "b189b946-052f-45dc-8d6d-25a86e9c47b3",
   "metadata": {},
   "outputs": [],
   "source": [
    "from skimage import io\n",
    "import numpy as np\n",
    "from pathlib import Path\n",
    "from tqdm import tqdm\n",
    "from scipy import ndimage\n",
    "import re"
   ]
  },
  {
   "cell_type": "code",
   "execution_count": 34,
   "id": "660680ba-15f3-4892-93f3-cdf3519d3ad0",
   "metadata": {},
   "outputs": [],
   "source": [
    "directory = Path('james_preds')\n",
    "files  = directory.glob('*_seg.tif')\n",
    "files = sorted([x.as_posix() for x in files])"
   ]
  },
  {
   "cell_type": "code",
   "execution_count": null,
   "id": "700265fc-da26-4978-97af-22ddc7265fc7",
   "metadata": {},
   "outputs": [
    {
     "name": "stderr",
     "output_type": "stream",
     "text": [
      " 68%|██████▊   | 64/94 [2:43:05<1:16:19, 152.66s/it]"
     ]
    }
   ],
   "source": [
    "for file in tqdm(files):\n",
    "    img = io.imread(file)\n",
    "    img = np.abs(img-1)\n",
    "    img_dst = np.ndarray.flatten(ndimage.distance_transform_edt(img))\n",
    "    img_dst = img_dst[img_dst!=0]\n",
    "    np.savetxt(re.sub('_seg.tif','.csv',re.sub('james_preds','james_ev_dst',file)),img_dst,delimiter=\",\")"
   ]
  },
  {
   "cell_type": "code",
   "execution_count": null,
   "id": "1940ab03-9a80-40ab-aded-ffaa068ace93",
   "metadata": {},
   "outputs": [],
   "source": []
  },
  {
   "cell_type": "code",
   "execution_count": 18,
   "id": "d9ad6dd9-caed-4528-8df3-716a2caacbeb",
   "metadata": {},
   "outputs": [
    {
     "data": {
      "text/plain": [
       "0.9852511135700333"
      ]
     },
     "execution_count": 18,
     "metadata": {},
     "output_type": "execute_result"
    }
   ],
   "source": []
  },
  {
   "cell_type": "code",
   "execution_count": null,
   "id": "0ed81d37-ebe3-4446-9ce1-433d087fcfa9",
   "metadata": {},
   "outputs": [],
   "source": []
  }
 ],
 "metadata": {
  "kernelspec": {
   "display_name": "monai3.8",
   "language": "python",
   "name": "monai3.8"
  },
  "language_info": {
   "codemirror_mode": {
    "name": "ipython",
    "version": 3
   },
   "file_extension": ".py",
   "mimetype": "text/x-python",
   "name": "python",
   "nbconvert_exporter": "python",
   "pygments_lexer": "ipython3",
   "version": "3.8.10"
  }
 },
 "nbformat": 4,
 "nbformat_minor": 5
}
