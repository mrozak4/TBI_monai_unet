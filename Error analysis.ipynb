{
 "cells": [
  {
   "cell_type": "code",
   "execution_count": 44,
   "id": "bfaf1c4d",
   "metadata": {},
   "outputs": [],
   "source": [
    "import numpy as np\n",
    "import pandas as pd\n",
    "from skimage import io\n",
    "import matplotlib.pyplot as plt\n",
    "from pathlib import Path\n",
    "from monai.transforms import Spacing\n",
    "import re\n",
    "import os\n",
    "from tqdm import tqdm\n",
    "from monai.metrics import compute_hausdorff_distance, compute_average_surface_distance\n",
    "#from monai.networks.utils import to_onehot"
   ]
  },
  {
   "cell_type": "code",
   "execution_count": 46,
   "id": "4b2318e7",
   "metadata": {},
   "outputs": [],
   "source": [
    "#make list of data dictionaries\n",
    "train_images_path = Path('../TBI/GT_filtered+raw/') #raw path images\n",
    "train_images_paths = list(train_images_path.glob('*.tif'))#get images\n",
    "train_images = sorted([x.as_posix() for x in train_images_paths])#sort\n",
    "train_labels_path = Path('../TBI/GT_filtered+raw/')#labels path\n",
    "train_labels = list(train_labels_path.glob('*sub1.tiff'))#get label images\n",
    "train_labels = sorted([x.as_posix() for x in train_labels])#sort\n",
    "#combine images and labels into monai dictionary format\n",
    "data_dicts = [\n",
    "    {\"image\":image_name, \"label\":label_name}\n",
    "    for image_name, label_name in zip(train_images,train_labels)\n",
    "]\n",
    "mouse_ids_path = Path('../TBI/raw')#each mouse has its own folder with raw data in it\n",
    "mouse_ids = list(mouse_ids_path.glob('*'))#grab molder names/mouse ids\n",
    "images = sorted([y.name for y in train_images_paths])#sort\n",
    "#get mouse id corresponding to each image i have labels for\n",
    "mouse_ids_with_raw_tiff = []\n",
    "for i in mouse_ids:\n",
    "    for j in images:\n",
    "        if len(list(i.glob(j))) !=0:\n",
    "            mouse_ids_with_raw_tiff.append(list(i.glob(j)))\n",
    "#flatten the list and sort\n",
    "mouse_ids_with_raw_tiff_flat = [item for sublist in mouse_ids_with_raw_tiff for item in sublist]\n",
    "mouse_ids_with_raw_tiff_flat = sorted(mouse_ids_with_raw_tiff_flat)"
   ]
  },
  {
   "cell_type": "code",
   "execution_count": 48,
   "id": "8270305a",
   "metadata": {},
   "outputs": [
    {
     "name": "stdout",
     "output_type": "stream",
     "text": [
      "42\n"
     ]
    }
   ],
   "source": [
    "print(len(data_dicts))"
   ]
  },
  {
   "cell_type": "code",
   "execution_count": 50,
   "id": "8c83597b",
   "metadata": {},
   "outputs": [
    {
     "name": "stdout",
     "output_type": "stream",
     "text": [
      "15\n",
      "4\n"
     ]
    }
   ],
   "source": [
    "#shuffle mouse ids for a 15/4/6 split train/val/test by mouse id\n",
    "mouse_ids_present = [i.parent.name for i in mouse_ids_with_raw_tiff_flat]\n",
    "mouse_ids_present = sorted(list(np.unique(mouse_ids_present)))\n",
    "np.random.seed(643)\n",
    "np.random.shuffle(mouse_ids_present)\n",
    "mouse_ids_present\n",
    "train = mouse_ids_present[:15]\n",
    "print(len(train))\n",
    "#log_param('train_set',' '.join(train))\n",
    "val = mouse_ids_present[15:-6]\n",
    "print(len(val))\n",
    "#log_param('val_set',' '.join(val))\n",
    "test = mouse_ids_present[-6:]"
   ]
  },
  {
   "cell_type": "code",
   "execution_count": 51,
   "id": "c81f8197",
   "metadata": {},
   "outputs": [],
   "source": [
    "train_files = []\n",
    "val_files = []\n",
    "test_files = []\n",
    "for i in train:\n",
    "    for j in mouse_ids_with_raw_tiff_flat:\n",
    "        if i in j.as_posix():\n",
    "            for k in data_dicts:\n",
    "                if j.name in k[\"image\"]:\n",
    "                    train_files.append(k)\n",
    "for i in val:\n",
    "    for j in mouse_ids_with_raw_tiff_flat:\n",
    "        if i in j.as_posix():\n",
    "            for k in data_dicts:\n",
    "                if j.name in k[\"image\"]:\n",
    "                    val_files.append(k)\n",
    "for i in test:\n",
    "    for j in mouse_ids_with_raw_tiff_flat:\n",
    "        if i in j.as_posix():\n",
    "            for k in data_dicts:\n",
    "                if j.name in k[\"image\"]:\n",
    "                    test_files.append(k)"
   ]
  },
  {
   "cell_type": "code",
   "execution_count": 53,
   "id": "99eda013",
   "metadata": {},
   "outputs": [
    {
     "name": "stdout",
     "output_type": "stream",
     "text": [
      "9\n",
      "['../TBI/GT_filtered+raw/XYZres013_0001_Simple Segmentation_sub1.tiff', '../TBI/GT_filtered+raw/XYZres95_0001_Simple Segmentation_sub1.tiff', '../TBI/GT_filtered+raw/XYZres032_Simple Segmentation_sub1.tiff', '../TBI/GT_filtered+raw/XYZres025_Simple Segmentation_sub1.tiff', '../TBI/GT_filtered+raw/XYZres114_0001_Simple Segmentation_sub1.tiff', '../TBI/GT_filtered+raw/XYZres008_Simple Segmentation_sub1.tiff', '../TBI/GT_filtered+raw/XYZres115_Simple Segmentation_sub1.tiff', '../TBI/GT_filtered+raw/XYZres204_0001_Simple Segmentation_sub1.tiff', '../TBI/GT_filtered+raw/XYZres214_0001_Simple Segmentation_sub1.tiff']\n"
     ]
    }
   ],
   "source": [
    "train_file = [x['label'] for x in train_files]\n",
    "#print(len(train_file))\n",
    "#print(train_file)\n",
    "val_file = [x['label'] for x in val_files]\n",
    "#print(len(val_file))\n",
    "#print(val_file)\n",
    "test_file = [x['label'] for x in test_files]\n",
    "print(len(test_file))\n",
    "print(test_file)"
   ]
  },
  {
   "cell_type": "code",
   "execution_count": null,
   "id": "f3b954b9",
   "metadata": {},
   "outputs": [
    {
     "name": "stderr",
     "output_type": "stream",
     "text": [
      " 22%|██▏       | 2/9 [00:53<03:04, 26.30s/it]"
     ]
    }
   ],
   "source": [
    "test_hausdorf=[]\n",
    "test_surf_dst=[]\n",
    "for x in tqdm(test_file[:]):\n",
    "    truth = io.imread(x)\n",
    "    truth = np.swapaxes(np.swapaxes(truth,0,1),1,3)\n",
    "    truth = Spacing(pixdim=(1.01, 1.01, 0.3787), mode=\"nearest\")(truth)[0]\n",
    "    truth[truth==2]=0\n",
    "    truth = np.expand_dims(truth,0)\n",
    "    if os.path.exists(re.sub('_Simple Segmentation_sub1.tiff','_seg.tif',re.sub('../TBI/GT_filtered\\+raw','matt_preds',x))):\n",
    "        pred = io.imread(re.sub('_Simple Segmentation_sub1.tiff','_seg.tif',re.sub('../TBI/GT_filtered\\+raw','matt_preds',x)))\n",
    "    else:\n",
    "        pred = io.imread(re.sub('_Simple Segmentation_sub1.tiff','_seg.tif',re.sub('../TBI/GT_filtered\\+raw','james_preds',x)))\n",
    "        pred = np.expand_dims(pred,0)\n",
    "    pred = np.expand_dims(pred,0)\n",
    "    train_hausdorf.append(compute_hausdorff_distance(truth,pred,percentile=95))\n",
    "    train_surf_dst.append(compute_average_surface_distance(truth,pred))\n",
    "truth.shape"
   ]
  },
  {
   "cell_type": "code",
   "execution_count": 8,
   "id": "9bd1edf2",
   "metadata": {},
   "outputs": [
    {
     "data": {
      "text/plain": [
       "(1, 1, 507, 507, 252)"
      ]
     },
     "execution_count": 8,
     "metadata": {},
     "output_type": "execute_result"
    }
   ],
   "source": [
    "truth.shape"
   ]
  },
  {
   "cell_type": "code",
   "execution_count": 9,
   "id": "2b0319ba",
   "metadata": {},
   "outputs": [
    {
     "data": {
      "text/plain": [
       "(1, 1, 507, 507, 252)"
      ]
     },
     "execution_count": 9,
     "metadata": {},
     "output_type": "execute_result"
    }
   ],
   "source": [
    "pred.shape"
   ]
  },
  {
   "cell_type": "code",
   "execution_count": 10,
   "id": "1448183f",
   "metadata": {},
   "outputs": [
    {
     "name": "stdout",
     "output_type": "stream",
     "text": [
      "[tensor([[7.5498]], dtype=torch.float64), tensor([[15.5563]], dtype=torch.float64), tensor([[24.2848]], dtype=torch.float64), tensor([[48.0937]], dtype=torch.float64), tensor([[4.5826]], dtype=torch.float64), tensor([[6.1644]], dtype=torch.float64), tensor([[3.1623]], dtype=torch.float64), tensor([[2.4495]], dtype=torch.float64), tensor([[2.2361]], dtype=torch.float64), tensor([[2.2361]], dtype=torch.float64), tensor([[20.8806]], dtype=torch.float64), tensor([[13.]], dtype=torch.float64), tensor([[6.]], dtype=torch.float64), tensor([[4.5826]], dtype=torch.float64), tensor([[3.3166]], dtype=torch.float64), tensor([[17.2916]], dtype=torch.float64), tensor([[2.8284]], dtype=torch.float64), tensor([[23.3538]], dtype=torch.float64), tensor([[7.4833]], dtype=torch.float64), tensor([[3.1623]], dtype=torch.float64), tensor([[3.]], dtype=torch.float64), tensor([[3.7417]], dtype=torch.float64), tensor([[4.1231]], dtype=torch.float64), tensor([[3.3166]], dtype=torch.float64), tensor([[4.6904]], dtype=torch.float64), tensor([[10.9545]], dtype=torch.float64), tensor([[18.6011]], dtype=torch.float64)]\n"
     ]
    }
   ],
   "source": [
    "print(train_hausdorf)"
   ]
  },
  {
   "cell_type": "code",
   "execution_count": 11,
   "id": "72f38d75",
   "metadata": {},
   "outputs": [
    {
     "data": {
      "text/plain": [
       "[tensor([[1.9305]], dtype=torch.float64),\n",
       " tensor([[1.8373]], dtype=torch.float64),\n",
       " tensor([[1.2214]], dtype=torch.float64),\n",
       " tensor([[4.9787]], dtype=torch.float64),\n",
       " tensor([[1.3866]], dtype=torch.float64),\n",
       " tensor([[1.7051]], dtype=torch.float64),\n",
       " tensor([[1.1524]], dtype=torch.float64),\n",
       " tensor([[0.8662]], dtype=torch.float64),\n",
       " tensor([[0.7571]], dtype=torch.float64),\n",
       " tensor([[0.8012]], dtype=torch.float64),\n",
       " tensor([[4.3569]], dtype=torch.float64),\n",
       " tensor([[1.9116]], dtype=torch.float64),\n",
       " tensor([[1.7571]], dtype=torch.float64),\n",
       " tensor([[1.3309]], dtype=torch.float64),\n",
       " tensor([[1.0364]], dtype=torch.float64),\n",
       " tensor([[2.5742]], dtype=torch.float64),\n",
       " tensor([[0.9966]], dtype=torch.float64),\n",
       " tensor([[0.7313]], dtype=torch.float64),\n",
       " tensor([[1.3114]], dtype=torch.float64),\n",
       " tensor([[1.1463]], dtype=torch.float64),\n",
       " tensor([[0.9769]], dtype=torch.float64),\n",
       " tensor([[1.4006]], dtype=torch.float64),\n",
       " tensor([[1.2805]], dtype=torch.float64),\n",
       " tensor([[1.0644]], dtype=torch.float64),\n",
       " tensor([[1.3762]], dtype=torch.float64),\n",
       " tensor([[2.3314]], dtype=torch.float64),\n",
       " tensor([[3.8034]], dtype=torch.float64)]"
      ]
     },
     "execution_count": 11,
     "metadata": {},
     "output_type": "execute_result"
    }
   ],
   "source": [
    "train_surf_dst"
   ]
  },
  {
   "cell_type": "code",
   "execution_count": 12,
   "id": "251bf5c6",
   "metadata": {},
   "outputs": [
    {
     "name": "stderr",
     "output_type": "stream",
     "text": [
      "100%|██████████| 6/6 [02:32<00:00, 25.43s/it]\n"
     ]
    },
    {
     "data": {
      "text/plain": [
       "(1, 1, 507, 507, 252)"
      ]
     },
     "execution_count": 12,
     "metadata": {},
     "output_type": "execute_result"
    }
   ],
   "source": [
    "val_hausdorf=[]\n",
    "val_surf_dst=[]\n",
    "for x in tqdm(val_file[:]):\n",
    "    truth = io.imread(x)\n",
    "    truth = np.swapaxes(np.swapaxes(truth,0,1),1,3)\n",
    "    truth = Spacing(pixdim=(1.01, 1.01, 0.3787), mode=\"nearest\")(truth)[0]\n",
    "    truth[truth==2]=0\n",
    "    truth = np.expand_dims(truth,0)\n",
    "    if os.path.exists(re.sub('_Simple Segmentation_sub1.tiff','_seg.tif',re.sub('../TBI/GT_filtered\\+raw','matt_preds',x))):\n",
    "        pred = io.imread(re.sub('_Simple Segmentation_sub1.tiff','_seg.tif',re.sub('../TBI/GT_filtered\\+raw','matt_preds',x)))\n",
    "    else:\n",
    "        pred = io.imread(re.sub('_Simple Segmentation_sub1.tiff','_seg.tif',re.sub('../TBI/GT_filtered\\+raw','james_preds',x)))\n",
    "        pred = np.expand_dims(pred,0)\n",
    "    pred = np.expand_dims(pred,0)\n",
    "    val_hausdorf.append(compute_hausdorff_distance(truth,pred,percentile=95))\n",
    "    val_surf_dst.append(compute_average_surface_distance(truth,pred))\n",
    "truth.shape"
   ]
  },
  {
   "cell_type": "code",
   "execution_count": 13,
   "id": "02314104",
   "metadata": {},
   "outputs": [
    {
     "data": {
      "text/plain": [
       "(1, 1, 507, 507, 252)"
      ]
     },
     "execution_count": 13,
     "metadata": {},
     "output_type": "execute_result"
    }
   ],
   "source": [
    "truth.shape"
   ]
  },
  {
   "cell_type": "code",
   "execution_count": 14,
   "id": "c5b3bdbb",
   "metadata": {},
   "outputs": [
    {
     "data": {
      "text/plain": [
       "(1, 1, 507, 507, 252)"
      ]
     },
     "execution_count": 14,
     "metadata": {},
     "output_type": "execute_result"
    }
   ],
   "source": [
    "pred.shape"
   ]
  },
  {
   "cell_type": "code",
   "execution_count": 15,
   "id": "4fe83f9f",
   "metadata": {},
   "outputs": [
    {
     "data": {
      "text/plain": [
       "'../TBI/GT_filtered+raw/XYZres201_Simple Segmentation_sub1.tiff'"
      ]
     },
     "execution_count": 15,
     "metadata": {},
     "output_type": "execute_result"
    }
   ],
   "source": [
    "x"
   ]
  },
  {
   "cell_type": "code",
   "execution_count": 16,
   "id": "179d1a00",
   "metadata": {},
   "outputs": [
    {
     "data": {
      "text/plain": [
       "(1, 1, 507, 507, 252)"
      ]
     },
     "execution_count": 16,
     "metadata": {},
     "output_type": "execute_result"
    }
   ],
   "source": [
    "truth.shape"
   ]
  },
  {
   "cell_type": "code",
   "execution_count": 17,
   "id": "b08a8a75",
   "metadata": {},
   "outputs": [
    {
     "data": {
      "text/plain": [
       "3.8622394151175263"
      ]
     },
     "execution_count": 17,
     "metadata": {},
     "output_type": "execute_result"
    }
   ],
   "source": [
    "np.mean(np.array([np.array(x[0][0]) for x in val_hausdorf]))"
   ]
  },
  {
   "cell_type": "code",
   "execution_count": 18,
   "id": "5aed0144-2e87-4620-af43-f585edbdc06d",
   "metadata": {},
   "outputs": [
    {
     "data": {
      "text/plain": [
       "1.3843554578380362"
      ]
     },
     "execution_count": 18,
     "metadata": {},
     "output_type": "execute_result"
    }
   ],
   "source": [
    "np.std(np.array([np.array(x[0][0]) for x in val_hausdorf]))"
   ]
  },
  {
   "cell_type": "code",
   "execution_count": 19,
   "id": "f4686705",
   "metadata": {},
   "outputs": [
    {
     "data": {
      "text/plain": [
       "1.1986342162312091"
      ]
     },
     "execution_count": 19,
     "metadata": {},
     "output_type": "execute_result"
    }
   ],
   "source": [
    "np.mean(np.array([np.array(x[0][0]) for x in val_surf_dst]))"
   ]
  },
  {
   "cell_type": "code",
   "execution_count": 20,
   "id": "6c2c0f12-9f1f-4696-a09b-6cd54cacb2a4",
   "metadata": {},
   "outputs": [
    {
     "data": {
      "text/plain": [
       "0.31533004946855353"
      ]
     },
     "execution_count": 20,
     "metadata": {},
     "output_type": "execute_result"
    }
   ],
   "source": [
    "np.std(np.array([np.array(x[0][0]) for x in val_surf_dst]))"
   ]
  },
  {
   "cell_type": "code",
   "execution_count": 21,
   "id": "0ea4f06e",
   "metadata": {},
   "outputs": [],
   "source": [
    "parameter_file = 'hyperparameter_pickle_files/parameters436.pickle'\n",
    "experiment = re.sub('.pickle',\n",
    "                    '',\n",
    "                    re.sub('hyperparameter_pickle_files/parameters',\n",
    "                           '',\n",
    "                           parameter_file\n",
    "                          )\n",
    "                   )\n",
    "directory = re.sub('.pickle',\n",
    "                   '',\n",
    "                   re.sub('hyperparameter_pickle_files/parameters',\n",
    "                          'training_models/',\n",
    "                           parameter_file\n",
    "                         )\n",
    "                  )"
   ]
  },
  {
   "cell_type": "code",
   "execution_count": 22,
   "id": "aed80eed",
   "metadata": {},
   "outputs": [
    {
     "data": {
      "text/plain": [
       "[PosixPath('training_models/436/metrics_loss.csv'),\n",
       " PosixPath('training_models/436/metrics_loss_contd.csv'),\n",
       " PosixPath('training_models/436/metrics_loss_contd2.csv'),\n",
       " PosixPath('training_models/436/metrics_validation.csv'),\n",
       " PosixPath('training_models/436/metrics_validation_round_2.csv'),\n",
       " PosixPath('training_models/436/metrics_validation_round_3.csv')]"
      ]
     },
     "execution_count": 22,
     "metadata": {},
     "output_type": "execute_result"
    }
   ],
   "source": [
    "_tmp=sorted(list(Path(directory).glob('*.csv')))\n",
    "_tmp"
   ]
  },
  {
   "cell_type": "code",
   "execution_count": 27,
   "id": "5c249a30",
   "metadata": {},
   "outputs": [],
   "source": [
    "dice = pd.read_csv(_tmp[3]).append(pd.read_csv(_tmp[4])).append(pd.read_csv(_tmp[5]))['Val_Mean_Dice']"
   ]
  },
  {
   "cell_type": "code",
   "execution_count": 28,
   "id": "8c24080f-5675-4532-aa5b-dfdaa5e6417d",
   "metadata": {},
   "outputs": [
    {
     "data": {
      "text/html": [
       "<div>\n",
       "<style scoped>\n",
       "    .dataframe tbody tr th:only-of-type {\n",
       "        vertical-align: middle;\n",
       "    }\n",
       "\n",
       "    .dataframe tbody tr th {\n",
       "        vertical-align: top;\n",
       "    }\n",
       "\n",
       "    .dataframe thead th {\n",
       "        text-align: right;\n",
       "    }\n",
       "</style>\n",
       "<table border=\"1\" class=\"dataframe\">\n",
       "  <thead>\n",
       "    <tr style=\"text-align: right;\">\n",
       "      <th></th>\n",
       "      <th>Unnamed: 0</th>\n",
       "      <th>Val_Mean_Dice</th>\n",
       "      <th>boundary_detection_dice</th>\n",
       "      <th>boundary_difference_dice</th>\n",
       "    </tr>\n",
       "  </thead>\n",
       "  <tbody>\n",
       "    <tr>\n",
       "      <th>0</th>\n",
       "      <td>0</td>\n",
       "      <td>0.764734</td>\n",
       "      <td>0.243124</td>\n",
       "      <td>0.927574</td>\n",
       "    </tr>\n",
       "    <tr>\n",
       "      <th>1</th>\n",
       "      <td>1</td>\n",
       "      <td>0.765234</td>\n",
       "      <td>0.233112</td>\n",
       "      <td>0.944728</td>\n",
       "    </tr>\n",
       "    <tr>\n",
       "      <th>2</th>\n",
       "      <td>2</td>\n",
       "      <td>0.763777</td>\n",
       "      <td>0.246058</td>\n",
       "      <td>0.924246</td>\n",
       "    </tr>\n",
       "    <tr>\n",
       "      <th>3</th>\n",
       "      <td>3</td>\n",
       "      <td>0.766656</td>\n",
       "      <td>0.225124</td>\n",
       "      <td>0.948180</td>\n",
       "    </tr>\n",
       "    <tr>\n",
       "      <th>4</th>\n",
       "      <td>4</td>\n",
       "      <td>0.760488</td>\n",
       "      <td>0.239404</td>\n",
       "      <td>0.936046</td>\n",
       "    </tr>\n",
       "    <tr>\n",
       "      <th>...</th>\n",
       "      <td>...</td>\n",
       "      <td>...</td>\n",
       "      <td>...</td>\n",
       "      <td>...</td>\n",
       "    </tr>\n",
       "    <tr>\n",
       "      <th>210</th>\n",
       "      <td>210</td>\n",
       "      <td>0.763808</td>\n",
       "      <td>0.239949</td>\n",
       "      <td>0.937239</td>\n",
       "    </tr>\n",
       "    <tr>\n",
       "      <th>211</th>\n",
       "      <td>211</td>\n",
       "      <td>0.765220</td>\n",
       "      <td>0.246203</td>\n",
       "      <td>0.932760</td>\n",
       "    </tr>\n",
       "    <tr>\n",
       "      <th>212</th>\n",
       "      <td>212</td>\n",
       "      <td>0.766097</td>\n",
       "      <td>0.238264</td>\n",
       "      <td>0.944188</td>\n",
       "    </tr>\n",
       "    <tr>\n",
       "      <th>213</th>\n",
       "      <td>213</td>\n",
       "      <td>0.769312</td>\n",
       "      <td>0.241786</td>\n",
       "      <td>0.936474</td>\n",
       "    </tr>\n",
       "    <tr>\n",
       "      <th>214</th>\n",
       "      <td>214</td>\n",
       "      <td>0.772273</td>\n",
       "      <td>0.241146</td>\n",
       "      <td>0.948067</td>\n",
       "    </tr>\n",
       "  </tbody>\n",
       "</table>\n",
       "<p>215 rows × 4 columns</p>\n",
       "</div>"
      ],
      "text/plain": [
       "     Unnamed: 0  Val_Mean_Dice  boundary_detection_dice  \\\n",
       "0             0       0.764734                 0.243124   \n",
       "1             1       0.765234                 0.233112   \n",
       "2             2       0.763777                 0.246058   \n",
       "3             3       0.766656                 0.225124   \n",
       "4             4       0.760488                 0.239404   \n",
       "..          ...            ...                      ...   \n",
       "210         210       0.763808                 0.239949   \n",
       "211         211       0.765220                 0.246203   \n",
       "212         212       0.766097                 0.238264   \n",
       "213         213       0.769312                 0.241786   \n",
       "214         214       0.772273                 0.241146   \n",
       "\n",
       "     boundary_difference_dice  \n",
       "0                    0.927574  \n",
       "1                    0.944728  \n",
       "2                    0.924246  \n",
       "3                    0.948180  \n",
       "4                    0.936046  \n",
       "..                        ...  \n",
       "210                  0.937239  \n",
       "211                  0.932760  \n",
       "212                  0.944188  \n",
       "213                  0.936474  \n",
       "214                  0.948067  \n",
       "\n",
       "[215 rows x 4 columns]"
      ]
     },
     "execution_count": 28,
     "metadata": {},
     "output_type": "execute_result"
    }
   ],
   "source": [
    "pd.read_csv(_tmp[5])"
   ]
  },
  {
   "cell_type": "code",
   "execution_count": 29,
   "id": "ecccff0e",
   "metadata": {},
   "outputs": [
    {
     "data": {
      "image/png": "[encoded data removed]",
      "text/plain": [
       "<Figure size 432x288 with 1 Axes>"
      ]
     },
     "metadata": {
      "needs_background": "light"
     },
     "output_type": "display_data"
    }
   ],
   "source": [
    "plt.plot(np.arange(0,645*2,2),np.array(dice))\n",
    "plt.xlabel('Epoch')\n",
    "plt.ylabel('Dice score')\n",
    "plt.savefig('436_dice.png')"
   ]
  },
  {
   "cell_type": "code",
   "execution_count": 30,
   "id": "6b43a794",
   "metadata": {},
   "outputs": [
    {
     "data": {
      "text/plain": [
       "0.7681033337116241"
      ]
     },
     "execution_count": 30,
     "metadata": {},
     "output_type": "execute_result"
    }
   ],
   "source": [
    "np.mean(np.array(dice)[-100:])"
   ]
  },
  {
   "cell_type": "code",
   "execution_count": 31,
   "id": "e8f9d9ad",
   "metadata": {},
   "outputs": [
    {
     "data": {
      "text/plain": [
       "0.003226349278681979"
      ]
     },
     "execution_count": 31,
     "metadata": {},
     "output_type": "execute_result"
    }
   ],
   "source": [
    "np.std(np.array(dice)[-100:])"
   ]
  },
  {
   "cell_type": "code",
   "execution_count": 32,
   "id": "d106cf92",
   "metadata": {},
   "outputs": [
    {
     "data": {
      "text/plain": [
       "'../TBI/GT_filtered+raw/XYZres201_Simple Segmentation_sub1.tiff'"
      ]
     },
     "execution_count": 32,
     "metadata": {},
     "output_type": "execute_result"
    }
   ],
   "source": [
    "x"
   ]
  },
  {
   "cell_type": "code",
   "execution_count": 33,
   "id": "7b9bead7",
   "metadata": {},
   "outputs": [
    {
     "name": "stderr",
     "output_type": "stream",
     "text": [
      "100%|██████████| 9/9 [14:30<00:00, 96.74s/it] \n"
     ]
    },
    {
     "data": {
      "text/plain": [
       "(1, 1, 507, 507, 252)"
      ]
     },
     "execution_count": 33,
     "metadata": {},
     "output_type": "execute_result"
    }
   ],
   "source": [
    "test_hausdorf=[]\n",
    "test_surf_dst=[]\n",
    "test_hausdorf_ves=[]\n",
    "test_surf_dst_ves=[]\n",
    "test_hausdorf_nrn=[]\n",
    "test_surf_dst_nrn=[]\n",
    "for x in tqdm(test_file[:]):\n",
    "    truth = io.imread(x)\n",
    "    truth = np.swapaxes(np.swapaxes(truth,0,1),1,3)\n",
    "    truth = Spacing(pixdim=(1.01, 1.01, 0.3787), mode=\"nearest\")(truth)[0]\n",
    "    truth = np.expand_dims(truth,0)\n",
    "    truth_shape = np.array(truth.shape)\n",
    "    truth_shape[1] = len(np.unique(truth))\n",
    "    truth_one = np.zeros(truth_shape)\n",
    "    truth_one[:,0,:,:,:] = (truth==0)\n",
    "    truth_one[:,1,:,:,:] = (truth==1)\n",
    "    truth_one[:,2,:,:,:] = (truth==2)\n",
    "    if os.path.exists(re.sub('_Simple Segmentation_sub1.tiff','_seg.tif',re.sub('../TBI/GT_filtered\\+raw','matt_preds',x))):\n",
    "        pred = np.load(re.sub('_Simple Segmentation_sub1.tiff','_mean.npy',re.sub('../TBI/GT_filtered\\+raw','matt_preds',x)))\n",
    "        pred = np.expand_dims(pred,0)\n",
    "        pred = np.argmax(pred,axis=1)\n",
    "    else:\n",
    "        pred = np.load(re.sub('_Simple Segmentation_sub1.tiff','_mean.npy',re.sub('../TBI/GT_filtered\\+raw','james_preds',x)))\n",
    "        pred = np.expand_dims(pred,0)\n",
    "        pred = np.argmax(pred,axis=1)\n",
    "    pred = np.expand_dims(pred,0)\n",
    "    pred_shape = np.array(pred.shape)\n",
    "    pred_shape[1] = len(np.unique(pred))\n",
    "    pred_one = np.zeros(pred_shape)\n",
    "    pred_one[:,0,:,:,:] = (pred==0)\n",
    "    pred_one[:,1,:,:,:] = (pred==1)\n",
    "    pred_one[:,2,:,:,:] = (pred==2)\n",
    "    test_hausdorf.append(compute_hausdorff_distance(truth_one,pred_one,percentile=95))\n",
    "    test_surf_dst.append(compute_average_surface_distance(truth_one,pred_one))\n",
    "    test_hausdorf_ves.append(compute_hausdorff_distance(truth_one[:,[0,1],:,:,:],pred_one[:,[0,1],:,:,:],percentile=95))\n",
    "    test_surf_dst_ves.append(compute_average_surface_distance(truth_one[:,[0,1],:,:,:],pred_one[:,[0,1],:,:,:]))\n",
    "    test_hausdorf_nrn.append(compute_hausdorff_distance(truth_one[:,[0,2],:,:,:],pred_one[:,[0,2],:,:,:],percentile=95))\n",
    "    test_surf_dst_nrn.append(compute_average_surface_distance(truth_one[:,[0,2],:,:,:],pred_one[:,[0,2],:,:,:]))\n",
    "truth.shape"
   ]
  },
  {
   "cell_type": "code",
   "execution_count": 34,
   "id": "1fb843a7-be17-4c26-bbdf-04ce1f8e22e3",
   "metadata": {},
   "outputs": [
    {
     "data": {
      "text/plain": [
       "(1, 2, 507, 507, 252)"
      ]
     },
     "execution_count": 34,
     "metadata": {},
     "output_type": "execute_result"
    }
   ],
   "source": [
    "truth_one[:,[0,1],:,:,:].shape"
   ]
  },
  {
   "cell_type": "code",
   "execution_count": 35,
   "id": "2f33acc1-a579-466b-9ff4-2d3225013718",
   "metadata": {},
   "outputs": [
    {
     "name": "stdout",
     "output_type": "stream",
     "text": [
      "19.078712018144618\n",
      "16.181006429310933\n",
      "1.526567827981737\n",
      "1.0978689874353378\n"
     ]
    }
   ],
   "source": [
    "print(np.mean(np.array([np.array(x[0]) for x in test_hausdorf])))\n",
    "print(np.std(np.array([np.array(x[0]) for x in test_hausdorf])))\n",
    "print(np.mean(np.array([np.array(x[0]) for x in test_surf_dst])))\n",
    "print(np.std(np.array([np.array(x[0]) for x in test_surf_dst])))"
   ]
  },
  {
   "cell_type": "code",
   "execution_count": 36,
   "id": "6ee7fce1-676d-48b4-a5ec-8684c2a8203d",
   "metadata": {},
   "outputs": [
    {
     "name": "stdout",
     "output_type": "stream",
     "text": [
      "13.729935822684004\n",
      "11.428034538628665\n",
      "1.8451601034863085\n",
      "1.406669786356338\n"
     ]
    }
   ],
   "source": [
    "print(np.mean(np.array([np.array(x[0][0]) for x in test_hausdorf_ves])))\n",
    "print(np.std(np.array([np.array(x[0][0]) for x in test_hausdorf_ves])))\n",
    "print(np.mean(np.array([np.array(x[0][0]) for x in test_surf_dst_ves])))\n",
    "print(np.std(np.array([np.array(x[0][0]) for x in test_surf_dst_ves])))"
   ]
  },
  {
   "cell_type": "code",
   "execution_count": 37,
   "id": "e52c497e-c467-49d4-90d3-64f73f554ff9",
   "metadata": {},
   "outputs": [
    {
     "name": "stdout",
     "output_type": "stream",
     "text": [
      "24.427488213605233\n",
      "18.325696470706415\n",
      "1.2079755524771654\n",
      "0.4784460923389803\n"
     ]
    }
   ],
   "source": [
    "print(np.mean(np.array([np.array(x[0][0]) for x in test_hausdorf_nrn])))\n",
    "print(np.std(np.array([np.array(x[0][0]) for x in test_hausdorf_nrn])))\n",
    "print(np.mean(np.array([np.array(x[0][0]) for x in test_surf_dst_nrn])))\n",
    "print(np.std(np.array([np.array(x[0][0]) for x in test_surf_dst_nrn])))"
   ]
  },
  {
   "cell_type": "code",
   "execution_count": 38,
   "id": "2a4bafc4-591e-4384-98e2-53c235e2f593",
   "metadata": {},
   "outputs": [
    {
     "data": {
      "text/plain": [
       "[tensor([[1.5195, 1.0515]], dtype=torch.float64),\n",
       " tensor([[5.0899, 1.4125]], dtype=torch.float64),\n",
       " tensor([[0.7621, 1.2950]], dtype=torch.float64),\n",
       " tensor([[0.9471, 0.7539]], dtype=torch.float64),\n",
       " tensor([[1.9134, 1.0497]], dtype=torch.float64),\n",
       " tensor([[0.8407, 0.8652]], dtype=torch.float64),\n",
       " tensor([[3.5095, 0.9749]], dtype=torch.float64),\n",
       " tensor([[1.1184, 2.4517]], dtype=torch.float64),\n",
       " tensor([[0.9057, 1.0174]], dtype=torch.float64)]"
      ]
     },
     "execution_count": 38,
     "metadata": {},
     "output_type": "execute_result"
    }
   ],
   "source": [
    "test_surf_dst"
   ]
  },
  {
   "cell_type": "code",
   "execution_count": 39,
   "id": "2ddf972c-6881-4022-8d65-6799a4d0389c",
   "metadata": {},
   "outputs": [
    {
     "data": {
      "text/plain": [
       "[tensor([[1.5195]], dtype=torch.float64),\n",
       " tensor([[5.0899]], dtype=torch.float64),\n",
       " tensor([[0.7621]], dtype=torch.float64),\n",
       " tensor([[0.9471]], dtype=torch.float64),\n",
       " tensor([[1.9134]], dtype=torch.float64),\n",
       " tensor([[0.8407]], dtype=torch.float64),\n",
       " tensor([[3.5095]], dtype=torch.float64),\n",
       " tensor([[1.1184]], dtype=torch.float64),\n",
       " tensor([[0.9057]], dtype=torch.float64)]"
      ]
     },
     "execution_count": 39,
     "metadata": {},
     "output_type": "execute_result"
    }
   ],
   "source": [
    "test_surf_dst_ves"
   ]
  },
  {
   "cell_type": "code",
   "execution_count": null,
   "id": "b7a00a94-b79d-4bf5-b1e1-7417c8e75e2e",
   "metadata": {},
   "outputs": [
    {
     "name": "stderr",
     "output_type": "stream",
     "text": [
      " 56%|█████▌    | 5/9 [07:59<06:17, 94.39s/it] "
     ]
    }
   ],
   "source": [
    "test_hausdorf=[]\n",
    "test_surf_dst=[]\n",
    "test_hausdorf_ves=[]\n",
    "test_surf_dst_ves=[]\n",
    "test_hausdorf_nrn=[]\n",
    "test_surf_dst_nrn=[]\n",
    "for x in tqdm(test_file[:]):\n",
    "    truth = io.imread(x)\n",
    "    truth = np.swapaxes(np.swapaxes(truth,0,1),1,3)\n",
    "    truth = Spacing(pixdim=(1.01, 1.01, 0.3787), mode=\"nearest\")(truth)[0]\n",
    "    truth = np.expand_dims(truth,0)\n",
    "    truth_shape = np.array(truth.shape)\n",
    "    truth_shape[1] = len(np.unique(truth))\n",
    "    truth_one = np.zeros(truth_shape)\n",
    "    truth_one[:,0,:,:,:] = (truth==0)\n",
    "    truth_one[:,1,:,:,:] = (truth==1)\n",
    "    truth_one[:,2,:,:,:] = (truth==2)\n",
    "    if os.path.exists(re.sub('_Simple Segmentation_sub1.tiff','_seg.tif',re.sub('../TBI/GT_filtered\\+raw','ilastik_preds_raw_images',x))):\n",
    "        pred = np.load(re.sub('_Simple Segmentation_sub1.tiff','_mean.npy',re.sub('../TBI/GT_filtered\\+raw','ilastik_preds_raw_images',x)))\n",
    "        pred = np.expand_dims(pred,0)\n",
    "        pred = np.argmax(pred,axis=1)\n",
    "    else:\n",
    "        pred = np.load(re.sub('_Simple Segmentation_sub1.tiff','_mean.npy',re.sub('../TBI/GT_filtered\\+raw','ilastik_preds_raw_images',x)))\n",
    "        pred = np.expand_dims(pred,0)\n",
    "        pred = np.argmax(pred,axis=1)\n",
    "    pred = np.expand_dims(pred,0)\n",
    "    pred_shape = np.array(pred.shape)\n",
    "    pred_shape[1] = len(np.unique(pred))\n",
    "    pred_one = np.zeros(pred_shape)\n",
    "    pred_one[:,0,:,:,:] = (pred==0)\n",
    "    pred_one[:,1,:,:,:] = (pred==1)\n",
    "    pred_one[:,2,:,:,:] = (pred==2)\n",
    "    test_hausdorf.append(compute_hausdorff_distance(truth_one,pred_one,percentile=95))\n",
    "    test_surf_dst.append(compute_average_surface_distance(truth_one,pred_one))\n",
    "    test_hausdorf_ves.append(compute_hausdorff_distance(truth_one[:,[0,1],:,:,:],pred_one[:,[0,1],:,:,:],percentile=95))\n",
    "    test_surf_dst_ves.append(compute_average_surface_distance(truth_one[:,[0,1],:,:,:],pred_one[:,[0,1],:,:,:]))\n",
    "    test_hausdorf_nrn.append(compute_hausdorff_distance(truth_one[:,[0,2],:,:,:],pred_one[:,[0,2],:,:,:],percentile=95))\n",
    "    test_surf_dst_nrn.append(compute_average_surface_distance(truth_one[:,[0,2],:,:,:],pred_one[:,[0,2],:,:,:]))\n",
    "truth.shape"
   ]
  },
  {
   "cell_type": "code",
   "execution_count": null,
   "id": "aea2d455-3f92-4259-bb87-fd975602118c",
   "metadata": {},
   "outputs": [],
   "source": [
    "sorted(list(Path('ilastik_preds_raw_images').glob('*.tif')))"
   ]
  },
  {
   "cell_type": "code",
   "execution_count": null,
   "id": "8a8d862b-4690-4117-8441-4b933b470671",
   "metadata": {},
   "outputs": [],
   "source": [
    "sorted(test_file)"
   ]
  },
  {
   "cell_type": "code",
   "execution_count": null,
   "id": "f82aef36-bcdb-42a4-b4f4-ea8258a40ccd",
   "metadata": {},
   "outputs": [],
   "source": []
  }
 ],
 "metadata": {
  "kernelspec": {
   "display_name": "monai3.8",
   "language": "python",
   "name": "monai3.8"
  },
  "language_info": {
   "codemirror_mode": {
    "name": "ipython",
    "version": 3
   },
   "file_extension": ".py",
   "mimetype": "text/x-python",
   "name": "python",
   "nbconvert_exporter": "python",
   "pygments_lexer": "ipython3",
   "version": "3.8.10"
  }
 },
 "nbformat": 4,
 "nbformat_minor": 5
}
