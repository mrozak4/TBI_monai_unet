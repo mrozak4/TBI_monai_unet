{
 "cells": [
  {
   "cell_type": "code",
   "execution_count": 41,
   "id": "a7be0782",
   "metadata": {},
   "outputs": [],
   "source": [
    "#from nipype.interfaces import niftyreg\n",
    "import numpy as np\n",
    "from skimage import io\n",
    "from pathlib import Path\n",
    "import re\n",
    "import ants\n",
    "from skimage.transform import resize\n",
    "from tqdm import tqdm\n",
    "from skimage.morphology import skeletonize_3d, binary_dilation, binary_closing\n",
    "from scipy.ndimage import distance_transform_edt\n",
    "import tifffile as tif\n",
    "from scipy.ndimage import binary_fill_holes \n",
    "import cc3d\n",
    "from scipy.io import loadmat, savemat\n",
    "import skan\n",
    "import sknw\n",
    "import networkx as nx\n",
    "import pickle\n",
    "import os\n",
    "import matplotlib.pyplot as plt\n",
    "import pandas as pd\n",
    "import datetime as dt"
   ]
  },
  {
   "cell_type": "markdown",
   "id": "7d2f724d",
   "metadata": {},
   "source": [
    "# Define connected componnet removal"
   ]
  },
  {
   "cell_type": "code",
   "execution_count": 42,
   "id": "e9888d7e",
   "metadata": {},
   "outputs": [],
   "source": [
    "def remove_small_comps_3d(image, thresh = 500):\n",
    "    \"\"\"\n",
    "    \n",
    "\n",
    "    Parameters\n",
    "    ----------\n",
    "    image : binary np array with uint8 elements\n",
    "        3d numpy matrix, connected components will be removed form this image\n",
    "    thresh : int64\n",
    "        smallest connected components to keep\n",
    "\n",
    "    Returns\n",
    "    -------\n",
    "    np.array with uint8 elements, binary\n",
    "        binary image with connected components below the threshold removed.\n",
    "\n",
    "    \"\"\"\n",
    "    img_lab, N = cc3d.connected_components(image,return_N=True)\n",
    "    unique, counts = np.unique(img_lab, return_counts=True)\n",
    "    unique_keep = unique[counts>thresh]\n",
    "    unique_keep = np.delete(unique_keep,[0])\n",
    "    img_filt = np.zeros(img_lab.shape).astype('int8')\n",
    "    img_filt[np.isin(img_lab,unique_keep)] = 1\n",
    "    return img_filt.astype('uint8')   \n",
    "\n",
    "def fill_holes(img,thresh=100):\n",
    "    #res = np.zeros(img.shape)\n",
    "    for i in np.unique(img)[::-1]:\n",
    "        _tmp = (img==i)*1.0\n",
    "        _tmp = _tmp.astype('int8')\n",
    "        _tmp = remove_small_comps_3d(_tmp,thresh=thresh)\n",
    "        img[_tmp==1] = i\n",
    "    res = img.astype('int8')\n",
    "    return res\n",
    "def invert_raw(x):\n",
    "    return x[:,:,:,::-1]\n",
    "def invert_label(x):\n",
    "    return x[:,:,::-1]"
   ]
  },
  {
   "cell_type": "markdown",
   "id": "348d7b76",
   "metadata": {},
   "source": [
    "# Get mean predictions"
   ]
  },
  {
   "cell_type": "code",
   "execution_count": 43,
   "id": "e5b09644",
   "metadata": {},
   "outputs": [],
   "source": [
    "directory = Path('matt_preds')\n",
    "files  = directory.glob('*_mean.npy')\n",
    "files = sorted([x.as_posix() for x in files])"
   ]
  },
  {
   "cell_type": "code",
   "execution_count": 44,
   "id": "ec5c3c26",
   "metadata": {},
   "outputs": [
    {
     "data": {
      "text/plain": [
       "390"
      ]
     },
     "execution_count": 44,
     "metadata": {},
     "output_type": "execute_result"
    }
   ],
   "source": [
    "len(files)\n",
    "#dt.datetime.fromtimestamp(os.path.getctime(re.sub('mean','seg',file))).date() == dt.datetime.now().date()"
   ]
  },
  {
   "cell_type": "markdown",
   "id": "6f8db528",
   "metadata": {},
   "source": [
    "# High bias low varience segmentation\n",
    "\n",
    "With removal of connected components under 500 pixels"
   ]
  },
  {
   "cell_type": "code",
   "execution_count": 6,
   "id": "70b4b238",
   "metadata": {},
   "outputs": [
    {
     "name": "stderr",
     "output_type": "stream",
     "text": [
      "100%|██████████| 390/390 [00:17<00:00, 22.22it/s]\n"
     ]
    }
   ],
   "source": [
    "min_prob = 0.75\n",
    "max_var = 0.1\n",
    "for file in tqdm(files[::-1]):\n",
    "    #if not dt.datetime.fromtimestamp(os.path.getctime(re.sub('mean','seg',file))).date() == dt.datetime.now().date():\n",
    "    if not os.path.exists(re.sub('mean','seg',file)):\n",
    "        mean = np.load(file)\n",
    "        std = np.load(re.sub('mean','std',file))\n",
    "        seg = np.zeros(mean.shape[1:])\n",
    "        seg[(mean[1,:,:,:] > min_prob) * (std[1,:,:,:] < max_var)] = 1\n",
    "        seg[(mean[2,:,:,:] > min_prob) * (std[2,:,:,:] < max_var)] = 2\n",
    "        seg = seg.astype('int8')\n",
    "        seg = (seg==1)*1\n",
    "        seg = fill_holes(seg)\n",
    "        seg = seg.astype('float32')\n",
    "        np.save(re.sub('mean','seg',file),seg)\n",
    "        #savemat(re.sub('mean.npy','seg.mat',file),{'FinalImage':fill_holes(binary_dilation(binary_dilation(seg)))})\n",
    "        #tif.imwrite(re.sub('mean.npy','seg.tif',file),seg)"
   ]
  },
  {
   "cell_type": "markdown",
   "id": "3dca6732",
   "metadata": {},
   "source": [
    "# ANTs registration"
   ]
  },
  {
   "cell_type": "markdown",
   "id": "9d9228eb",
   "metadata": {},
   "source": [
    "## Upsample raw images"
   ]
  },
  {
   "cell_type": "code",
   "execution_count": 7,
   "id": "69b86439",
   "metadata": {},
   "outputs": [
    {
     "data": {
      "text/plain": [
       "432"
      ]
     },
     "execution_count": 7,
     "metadata": {},
     "output_type": "execute_result"
    }
   ],
   "source": [
    "image_path = Path('../TBI')\n",
    "images = list(image_path.glob('*_*/XYZres*?[0-9].tif'))\n",
    "images = sorted([x.as_posix() for x in images])\n",
    "len(images)"
   ]
  },
  {
   "cell_type": "code",
   "execution_count": 8,
   "id": "d8959038",
   "metadata": {},
   "outputs": [
    {
     "name": "stderr",
     "output_type": "stream",
     "text": [
      "100%|██████████| 432/432 [00:17<00:00, 25.33it/s]\n"
     ]
    }
   ],
   "source": [
    "for i in tqdm(range(len(images))):\n",
    "    if not os.path.exists('matt_preds/'+re.sub('.tif','_upsamp.npy',Path(images[i]).name)):\n",
    "        image = io.imread(images[i])\n",
    "        image = np.swapaxes(image,0,1)\n",
    "        image = np.swapaxes(image,1,3)\n",
    "        image = resize(image,(2,507,507,252),preserve_range=True)\n",
    "        zeros = np.zeros((1,507,507,252)).astype('uint16')\n",
    "        image = np.append(image,zeros,axis = 0)\n",
    "        image = image.astype('float32')\n",
    "        io.imsave('matt_preds/'+re.sub('.tif','_upsamp.tif',Path(images[i]).name),image)\n",
    "        np.save('matt_preds/'+re.sub('.tif','_upsamp.npy',Path(images[i]).name),image)"
   ]
  },
  {
   "cell_type": "code",
   "execution_count": 9,
   "id": "53558e30",
   "metadata": {},
   "outputs": [
    {
     "data": {
      "text/plain": [
       "'../TBI/GT_filtered+raw/XYZres95_0001.tif'"
      ]
     },
     "execution_count": 9,
     "metadata": {},
     "output_type": "execute_result"
    }
   ],
   "source": [
    "images[i]"
   ]
  },
  {
   "cell_type": "markdown",
   "id": "33f08281",
   "metadata": {},
   "source": [
    "## reshape numpy seg files and resave as tif"
   ]
  },
  {
   "cell_type": "code",
   "execution_count": 10,
   "id": "600a9ddf",
   "metadata": {},
   "outputs": [],
   "source": [
    "directory_seg = Path('matt_preds')\n",
    "files_seg  = list(directory_seg.glob('*_seg.npy'))\n",
    "files_seg = sorted([x.as_posix() for x in files_seg])"
   ]
  },
  {
   "cell_type": "code",
   "execution_count": 11,
   "id": "ad13dd67",
   "metadata": {},
   "outputs": [
    {
     "name": "stderr",
     "output_type": "stream",
     "text": [
      "100%|██████████| 390/390 [00:16<00:00, 23.85it/s]\n"
     ]
    }
   ],
   "source": [
    "for i in tqdm(range(len(files_seg))):\n",
    "    #if not dt.datetime.fromtimestamp(re.sub('.npy','.tif',files_seg[i])).date() == dt.datetime.now().date():\n",
    "    if not os.path.exists(re.sub('.npy','.tif',files_seg[i])):\n",
    "        tmp = np.load(files_seg[i])\n",
    "        tmp = np.reshape(tmp,(1,507,507,252))\n",
    "        io.imsave(re.sub('.npy','.tif',files_seg[i]),tmp.astype('float32'))"
   ]
  },
  {
   "cell_type": "markdown",
   "id": "36bf7115",
   "metadata": {},
   "source": [
    "## Register images and transform masks"
   ]
  },
  {
   "cell_type": "code",
   "execution_count": 72,
   "id": "0ae4f584",
   "metadata": {},
   "outputs": [],
   "source": [
    "rep = {\n",
    "    \"Z53\":\"Z60\",\n",
    "    \"Z54\":\"Z59\",\n",
    "    \"Z55\":\"Z58\",\n",
    "    \"Z56\":\"Z57\",\n",
    "    \"Z69\":\"Z76\",\n",
    "    \"Z70\":\"Z75\",\n",
    "    \"Z71\":\"Z74\",\n",
    "    \"Z72\":\"Z73\",\n",
    "    \"Z85\":\"Z88\",\n",
    "    \"Z86\":\"Z90\",\n",
    "    \"Z95\":\"Z102\",\n",
    "    \"Z96\":\"Z101\",\n",
    "    \"Z97\":\"Z100\",\n",
    "    \"Z98\":\"Z99\",\n",
    "    \"103\":\"110\",\n",
    "    \"104\":\"109\",\n",
    "    \"106\":\"111\",\n",
    "    \"112\":\"109\",\n",
    "    \"115\":\"118\",\n",
    "    \"116\":\"117\",\n",
    "    \"125\":\"132\",\n",
    "    \"126\":\"131\",\n",
    "    \"127\":\"130\",\n",
    "    \"128\":\"129\",\n",
    "    \"143\":\"149\",\n",
    "    \"144\":\"150\",\n",
    "    \"145\":\"147\",\n",
    "    \"146\":\"148\",\n",
    "    \"151\":\"158\",\n",
    "    \"154\":\"157\",\n",
    "    \"159\":\"166\",\n",
    "    \"160\":\"165\",\n",
    "    \"161\":\"164\",\n",
    "    \"162\":\"163\",\n",
    "    \"171\":\"178\",\n",
    "    \"172\":\"177\",\n",
    "    \"173\":\"176\",\n",
    "    \"174\":\"175\",\n",
    "    \"187\":\"190\",\n",
    "    \"184\":\"189\",\n",
    "    \"185\":\"188\",\n",
    "    \"186\":\"191\",\n",
    "    \"198\":\"205\",\n",
    "    \"199\":\"204\",\n",
    "    \"200\":\"203\",\n",
    "    \"201\":\"202\",\n",
    "    \"210\":\"213\",\n",
    "    \"216\":\"211\",\n",
    "    \"218\":\"217\",\n",
    "    \"212\":\"215\",\n",
    "    \"237\":\"240\",\n",
    "    \"235\":\"234\",\n",
    "    \"233\":\"236\",\n",
    "    \"244\":\"249\",\n",
    "    \"248\":\"252\",\n",
    "    \"250\":\"243\",\n",
    "    \"247\":\"246\",\n",
    "    \"253\":\"260\",\n",
    "    \"261\":\"256\",\n",
    "    \"255\":\"258\",\n",
    "    \"262\":\"254\",\n",
    "    \"264\":\"272\",\n",
    "    \"266\":\"267\",\n",
    "    \"270\":\"263\",\n",
    "    \"278\":\"282\",\n",
    "    \"273\":\"275\",\n",
    "    \"277\":\"280\",\n",
    "    \"283\":\"286\",\n",
    "    \"284\":\"285\",\n",
    "    \"253\":\"260\",\n",
    "    \"262\":\"254\",\n",
    "    \"300\":\"288\",\n",
    "    \"294\":\"298\",\n",
    "    \"297\":\"295\",\n",
    "    \"329\":\"332\",\n",
    "    \"338\":\"334\",\n",
    "    \"333\":\"336\",\n",
    "    \"335\":\"330\"\n",
    "}"
   ]
  },
  {
   "cell_type": "code",
   "execution_count": 73,
   "id": "532fd1d9-8a91-4c14-a464-559fed41bc0c",
   "metadata": {},
   "outputs": [
    {
     "data": {
      "text/plain": [
       "array([], dtype='<U4')"
      ]
     },
     "execution_count": 73,
     "metadata": {},
     "output_type": "execute_result"
    }
   ],
   "source": [
    "np.intersect1d(list(rep.keys()),list(rep.values()))\n",
    "#list(rep.keys())"
   ]
  },
  {
   "cell_type": "code",
   "execution_count": 80,
   "id": "9dfc93cf",
   "metadata": {},
   "outputs": [
    {
     "data": {
      "text/plain": [
       "'matt_preds/XYZres200_upsamp.npy'"
      ]
     },
     "execution_count": 80,
     "metadata": {},
     "output_type": "execute_result"
    }
   ],
   "source": [
    "directory_seg = Path('matt_preds')\n",
    "images = list(directory_seg.glob('*res*_upsamp.npy'))\n",
    "images = sorted([x.as_posix() for x in images if '_0001' not in x.as_posix()])#[0:2]\n",
    "images = [x for x in images if any(y in x for y in rep.keys())][30:]\n",
    "images[0]"
   ]
  },
  {
   "cell_type": "code",
   "execution_count": 81,
   "id": "3e5cdab6",
   "metadata": {},
   "outputs": [
    {
     "name": "stdout",
     "output_type": "stream",
     "text": [
      "matt_preds/XYZres203_upsamp.npy\n"
     ]
    }
   ],
   "source": [
    "images = [x for x in images if any(y in x for y in rep.keys())]\n",
    "for x in rep.keys():\n",
    "    if x in images[0]:\n",
    "        print(re.sub(x,rep[x],images[0]))"
   ]
  },
  {
   "cell_type": "code",
   "execution_count": 82,
   "id": "ade09ac9",
   "metadata": {},
   "outputs": [
    {
     "name": "stderr",
     "output_type": "stream",
     "text": [
      "  0%|          | 0/13 [00:00<?, ?it/s]"
     ]
    },
    {
     "name": "stdout",
     "output_type": "stream",
     "text": [
      "matt_preds/XYZres203_upsamp.npy\n"
     ]
    },
    {
     "name": "stderr",
     "output_type": "stream",
     "text": [
      "/tmp/ipykernel_2256225/2764216391.py:21: UserWarning:\n",
      "\n",
      "matt_preds/XYZres200_seg_warped_baseline.tif is a low contrast image\n",
      "\n",
      "/tmp/ipykernel_2256225/2764216391.py:22: UserWarning:\n",
      "\n",
      "matt_preds/XYZres203_seg_warped_baseline.tif is a low contrast image\n",
      "\n",
      "  8%|▊         | 1/13 [01:21<16:22, 81.86s/it]"
     ]
    },
    {
     "name": "stdout",
     "output_type": "stream",
     "text": [
      "matt_preds/XYZres202_upsamp.npy\n"
     ]
    },
    {
     "name": "stderr",
     "output_type": "stream",
     "text": [
      "/tmp/ipykernel_2256225/2764216391.py:21: UserWarning:\n",
      "\n",
      "matt_preds/XYZres201_seg_warped_baseline.tif is a low contrast image\n",
      "\n",
      "/tmp/ipykernel_2256225/2764216391.py:22: UserWarning:\n",
      "\n",
      "matt_preds/XYZres202_seg_warped_baseline.tif is a low contrast image\n",
      "\n",
      " 15%|█▌        | 2/13 [02:43<14:58, 81.68s/it]"
     ]
    },
    {
     "name": "stdout",
     "output_type": "stream",
     "text": [
      "matt_preds/XYZres213_upsamp.npy\n"
     ]
    },
    {
     "name": "stderr",
     "output_type": "stream",
     "text": [
      "/tmp/ipykernel_2256225/2764216391.py:21: UserWarning:\n",
      "\n",
      "matt_preds/XYZres210_seg_warped_baseline.tif is a low contrast image\n",
      "\n",
      "/tmp/ipykernel_2256225/2764216391.py:22: UserWarning:\n",
      "\n",
      "matt_preds/XYZres213_seg_warped_baseline.tif is a low contrast image\n",
      "\n",
      " 23%|██▎       | 3/13 [04:03<13:30, 81.09s/it]"
     ]
    },
    {
     "name": "stdout",
     "output_type": "stream",
     "text": [
      "matt_preds/XYZres215_upsamp.npy\n"
     ]
    },
    {
     "name": "stderr",
     "output_type": "stream",
     "text": [
      "/tmp/ipykernel_2256225/2764216391.py:21: UserWarning:\n",
      "\n",
      "matt_preds/XYZres212_seg_warped_baseline.tif is a low contrast image\n",
      "\n",
      "/tmp/ipykernel_2256225/2764216391.py:22: UserWarning:\n",
      "\n",
      "matt_preds/XYZres215_seg_warped_baseline.tif is a low contrast image\n",
      "\n",
      " 31%|███       | 4/13 [05:20<11:55, 79.55s/it]"
     ]
    },
    {
     "name": "stdout",
     "output_type": "stream",
     "text": [
      "matt_preds/XYZres211_upsamp.npy\n"
     ]
    },
    {
     "name": "stderr",
     "output_type": "stream",
     "text": [
      "/tmp/ipykernel_2256225/2764216391.py:21: UserWarning:\n",
      "\n",
      "matt_preds/XYZres216_seg_warped_baseline.tif is a low contrast image\n",
      "\n",
      "/tmp/ipykernel_2256225/2764216391.py:22: UserWarning:\n",
      "\n",
      "matt_preds/XYZres211_seg_warped_baseline.tif is a low contrast image\n",
      "\n",
      " 38%|███▊      | 5/13 [06:36<10:25, 78.19s/it]"
     ]
    },
    {
     "name": "stdout",
     "output_type": "stream",
     "text": [
      "matt_preds/XYZres217_upsamp.npy\n"
     ]
    },
    {
     "name": "stderr",
     "output_type": "stream",
     "text": [
      "/tmp/ipykernel_2256225/2764216391.py:21: UserWarning:\n",
      "\n",
      "matt_preds/XYZres218_seg_warped_baseline.tif is a low contrast image\n",
      "\n",
      "/tmp/ipykernel_2256225/2764216391.py:22: UserWarning:\n",
      "\n",
      "matt_preds/XYZres217_seg_warped_baseline.tif is a low contrast image\n",
      "\n",
      " 46%|████▌     | 6/13 [07:56<09:09, 78.55s/it]"
     ]
    },
    {
     "name": "stdout",
     "output_type": "stream",
     "text": [
      "matt_preds/XYZres236_upsamp.npy\n"
     ]
    },
    {
     "name": "stderr",
     "output_type": "stream",
     "text": [
      "/tmp/ipykernel_2256225/2764216391.py:21: UserWarning:\n",
      "\n",
      "matt_preds/XYZres233_seg_warped_baseline.tif is a low contrast image\n",
      "\n",
      "/tmp/ipykernel_2256225/2764216391.py:22: UserWarning:\n",
      "\n",
      "matt_preds/XYZres236_seg_warped_baseline.tif is a low contrast image\n",
      "\n",
      " 54%|█████▍    | 7/13 [09:16<07:55, 79.20s/it]"
     ]
    },
    {
     "name": "stdout",
     "output_type": "stream",
     "text": [
      "matt_preds/XYZres234_upsamp.npy\n"
     ]
    },
    {
     "name": "stderr",
     "output_type": "stream",
     "text": [
      "/tmp/ipykernel_2256225/2764216391.py:21: UserWarning:\n",
      "\n",
      "matt_preds/XYZres235_seg_warped_baseline.tif is a low contrast image\n",
      "\n",
      "/tmp/ipykernel_2256225/2764216391.py:22: UserWarning:\n",
      "\n",
      "matt_preds/XYZres234_seg_warped_baseline.tif is a low contrast image\n",
      "\n",
      " 62%|██████▏   | 8/13 [10:33<06:31, 78.34s/it]"
     ]
    },
    {
     "name": "stdout",
     "output_type": "stream",
     "text": [
      "matt_preds/XYZres240_upsamp.npy\n"
     ]
    },
    {
     "name": "stderr",
     "output_type": "stream",
     "text": [
      "/tmp/ipykernel_2256225/2764216391.py:21: UserWarning:\n",
      "\n",
      "matt_preds/XYZres237_seg_warped_baseline.tif is a low contrast image\n",
      "\n",
      "/tmp/ipykernel_2256225/2764216391.py:22: UserWarning:\n",
      "\n",
      "matt_preds/XYZres240_seg_warped_baseline.tif is a low contrast image\n",
      "\n",
      " 69%|██████▉   | 9/13 [11:55<05:18, 79.54s/it]"
     ]
    },
    {
     "name": "stdout",
     "output_type": "stream",
     "text": [
      "matt_preds/XYZres249_upsamp.npy\n"
     ]
    },
    {
     "name": "stderr",
     "output_type": "stream",
     "text": [
      "/tmp/ipykernel_2256225/2764216391.py:21: UserWarning:\n",
      "\n",
      "matt_preds/XYZres244_seg_warped_baseline.tif is a low contrast image\n",
      "\n",
      "/tmp/ipykernel_2256225/2764216391.py:22: UserWarning:\n",
      "\n",
      "matt_preds/XYZres249_seg_warped_baseline.tif is a low contrast image\n",
      "\n",
      " 77%|███████▋  | 10/13 [13:10<03:55, 78.37s/it]"
     ]
    },
    {
     "name": "stdout",
     "output_type": "stream",
     "text": [
      "matt_preds/XYZres246_upsamp.npy\n"
     ]
    },
    {
     "name": "stderr",
     "output_type": "stream",
     "text": [
      "/tmp/ipykernel_2256225/2764216391.py:21: UserWarning:\n",
      "\n",
      "matt_preds/XYZres247_seg_warped_baseline.tif is a low contrast image\n",
      "\n",
      "/tmp/ipykernel_2256225/2764216391.py:22: UserWarning:\n",
      "\n",
      "matt_preds/XYZres246_seg_warped_baseline.tif is a low contrast image\n",
      "\n",
      " 85%|████████▍ | 11/13 [14:24<02:34, 77.03s/it]"
     ]
    },
    {
     "name": "stdout",
     "output_type": "stream",
     "text": [
      "matt_preds/XYZres252_upsamp.npy\n"
     ]
    },
    {
     "name": "stderr",
     "output_type": "stream",
     "text": [
      "/tmp/ipykernel_2256225/2764216391.py:21: UserWarning:\n",
      "\n",
      "matt_preds/XYZres248_seg_warped_baseline.tif is a low contrast image\n",
      "\n",
      "/tmp/ipykernel_2256225/2764216391.py:22: UserWarning:\n",
      "\n",
      "matt_preds/XYZres252_seg_warped_baseline.tif is a low contrast image\n",
      "\n",
      " 92%|█████████▏| 12/13 [15:44<01:17, 77.81s/it]"
     ]
    },
    {
     "name": "stdout",
     "output_type": "stream",
     "text": [
      "matt_preds/XYZres243_upsamp.npy\n"
     ]
    },
    {
     "name": "stderr",
     "output_type": "stream",
     "text": [
      "/tmp/ipykernel_2256225/2764216391.py:21: UserWarning:\n",
      "\n",
      "matt_preds/XYZres250_seg_warped_baseline.tif is a low contrast image\n",
      "\n",
      "/tmp/ipykernel_2256225/2764216391.py:22: UserWarning:\n",
      "\n",
      "matt_preds/XYZres243_seg_warped_baseline.tif is a low contrast image\n",
      "\n",
      "100%|██████████| 13/13 [17:02<00:00, 78.62s/it]\n"
     ]
    }
   ],
   "source": [
    "for i in tqdm(range(len(images))):\n",
    "    #if os.path.exists(re.sub('upsamp','seg',images[i])):\n",
    "        #if not os.path.exists(re.sub('seg.npy','seg_warped_baseline.tif',re.sub('upsamp','seg',images[i]))):\n",
    "            for x in rep.keys():\n",
    "                if x in images[i]:\n",
    "                    _new_image = re.sub(x,rep[x],images[i])\n",
    "            print(_new_image)\n",
    "            fix = ants.image_read(_new_image)\n",
    "            mov = ants.image_read(images[i]).apply(invert_raw)\n",
    "            fix_mask = ants.image_read(re.sub('upsamp','seg',_new_image))\n",
    "            mov_mask = ants.image_read(re.sub('upsamp','seg',images[i])).apply(invert_label)\n",
    "            mytx = ants.registration(fixed = fix,\n",
    "                                    moving = mov,\n",
    "                                    type_of_transform = 'Rigid'\n",
    "                                    )\n",
    "            warpedmask = ants.apply_transforms(fixed = fix_mask,\n",
    "                                               moving = mov_mask,\n",
    "                                               transformlist = mytx['fwdtransforms'],\n",
    "                                               interpolator = 'nearestNeighbor'\n",
    "                                              )\n",
    "            io.imsave(re.sub('seg.npy','seg_warped_baseline.tif',re.sub('upsamp','seg',images[i])),warpedmask.numpy().astype('int8'))\n",
    "            io.imsave(re.sub('seg.npy','seg_warped_baseline.tif',re.sub('upsamp','seg',_new_image)),fix_mask.numpy().astype('int8'))\n",
    "            #print(2 * np.sum(warpedmask.numpy()*fix_mask.numpy())/(np.sum(warpedmask.numpy())+np.sum(fix_mask.numpy())))"
   ]
  },
  {
   "cell_type": "code",
   "execution_count": 83,
   "id": "2abaf562-33fe-44f2-a8fd-9e6bddd53183",
   "metadata": {},
   "outputs": [
    {
     "data": {
      "text/plain": [
       "'matt_preds/XYZres250_upsamp.npy'"
      ]
     },
     "execution_count": 83,
     "metadata": {},
     "output_type": "execute_result"
    }
   ],
   "source": [
    "images[i]"
   ]
  },
  {
   "cell_type": "code",
   "execution_count": 84,
   "id": "49251b58",
   "metadata": {},
   "outputs": [],
   "source": [
    "#fix_mask = ants.image_read(re.sub('upsamp','seg',_new_image))\n",
    "#mov_mask = ants.image_read(re.sub('upsamp','seg',images[i]))\n",
    "#np.sum(fix_mask.numpy()[:,:,::-1]*mov_mask.numpy())"
   ]
  },
  {
   "cell_type": "code",
   "execution_count": 85,
   "id": "2b8297f4",
   "metadata": {},
   "outputs": [
    {
     "data": {
      "text/plain": [
       "ANTsImage (RAI)\n",
       "\t Pixel Type : float (float32)\n",
       "\t Components : 1\n",
       "\t Dimensions : (507, 507, 252)\n",
       "\t Spacing    : (1.0, 1.0, 1.0)\n",
       "\t Origin     : (0.0, 0.0, 0.0)\n",
       "\t Direction  : [1. 0. 0. 0. 1. 0. 0. 0. 1.]"
      ]
     },
     "execution_count": 85,
     "metadata": {},
     "output_type": "execute_result"
    }
   ],
   "source": [
    "fix_mask"
   ]
  },
  {
   "cell_type": "code",
   "execution_count": 86,
   "id": "246dddef",
   "metadata": {},
   "outputs": [
    {
     "ename": "NameError",
     "evalue": "name 'invert' is not defined",
     "output_type": "error",
     "traceback": [
      "\u001b[0;31m---------------------------------------------------------------------------\u001b[0m",
      "\u001b[0;31mNameError\u001b[0m                                 Traceback (most recent call last)",
      "\u001b[0;32m/tmp/ipykernel_2256225/829488004.py\u001b[0m in \u001b[0;36m<module>\u001b[0;34m\u001b[0m\n\u001b[0;32m----> 1\u001b[0;31m \u001b[0mants\u001b[0m\u001b[0;34m.\u001b[0m\u001b[0mimage_read\u001b[0m\u001b[0;34m(\u001b[0m\u001b[0mimages\u001b[0m\u001b[0;34m[\u001b[0m\u001b[0;36m0\u001b[0m\u001b[0;34m]\u001b[0m\u001b[0;34m)\u001b[0m\u001b[0;34m.\u001b[0m\u001b[0mapply\u001b[0m\u001b[0;34m(\u001b[0m\u001b[0minvert\u001b[0m\u001b[0;34m)\u001b[0m\u001b[0;34m\u001b[0m\u001b[0;34m\u001b[0m\u001b[0m\n\u001b[0m",
      "\u001b[0;31mNameError\u001b[0m: name 'invert' is not defined"
     ]
    }
   ],
   "source": [
    "ants.image_read(images[0]).apply(invert)"
   ]
  },
  {
   "cell_type": "markdown",
   "id": "759a8329",
   "metadata": {},
   "source": [
    "## Save Matlab .mat file of registered images"
   ]
  },
  {
   "cell_type": "code",
   "execution_count": 87,
   "id": "af813286",
   "metadata": {},
   "outputs": [
    {
     "data": {
      "text/plain": [
       "['matt_preds/XYZres103_seg_warped_baseline.tif',\n",
       " 'matt_preds/XYZres104_seg_warped_baseline.tif',\n",
       " 'matt_preds/XYZres106_seg_warped_baseline.tif',\n",
       " 'matt_preds/XYZres112_seg_warped_baseline.tif',\n",
       " 'matt_preds/XYZres115_seg_warped_baseline.tif',\n",
       " 'matt_preds/XYZres116_seg_warped_baseline.tif',\n",
       " 'matt_preds/XYZres125_seg_warped_baseline.tif',\n",
       " 'matt_preds/XYZres126_seg_warped_baseline.tif',\n",
       " 'matt_preds/XYZres127_seg_warped_baseline.tif',\n",
       " 'matt_preds/XYZres128_seg_warped_baseline.tif',\n",
       " 'matt_preds/XYZres143_seg_warped_baseline.tif',\n",
       " 'matt_preds/XYZres144_seg_warped_baseline.tif',\n",
       " 'matt_preds/XYZres145_seg_warped_baseline.tif',\n",
       " 'matt_preds/XYZres146_seg_warped_baseline.tif',\n",
       " 'matt_preds/XYZres151_seg_warped_baseline.tif',\n",
       " 'matt_preds/XYZres154_seg_warped_baseline.tif',\n",
       " 'matt_preds/XYZres159_seg_warped_baseline.tif',\n",
       " 'matt_preds/XYZres160_seg_warped_baseline.tif',\n",
       " 'matt_preds/XYZres161_seg_warped_baseline.tif',\n",
       " 'matt_preds/XYZres162_seg_warped_baseline.tif',\n",
       " 'matt_preds/XYZres171_seg_warped_baseline.tif',\n",
       " 'matt_preds/XYZres172_seg_warped_baseline.tif',\n",
       " 'matt_preds/XYZres173_seg_warped_baseline.tif',\n",
       " 'matt_preds/XYZres174_seg_warped_baseline.tif',\n",
       " 'matt_preds/XYZres184_seg_warped_baseline.tif',\n",
       " 'matt_preds/XYZres185_seg_warped_baseline.tif',\n",
       " 'matt_preds/XYZres186_seg_warped_baseline.tif',\n",
       " 'matt_preds/XYZres187_seg_warped_baseline.tif',\n",
       " 'matt_preds/XYZres198_seg_warped_baseline.tif',\n",
       " 'matt_preds/XYZres199_seg_warped_baseline.tif',\n",
       " 'matt_preds/XYZres200_seg_warped_baseline.tif',\n",
       " 'matt_preds/XYZres201_seg_warped_baseline.tif',\n",
       " 'matt_preds/XYZres210_seg_warped_baseline.tif',\n",
       " 'matt_preds/XYZres212_seg_warped_baseline.tif',\n",
       " 'matt_preds/XYZres216_seg_warped_baseline.tif',\n",
       " 'matt_preds/XYZres218_seg_warped_baseline.tif',\n",
       " 'matt_preds/XYZres233_seg_warped_baseline.tif',\n",
       " 'matt_preds/XYZres235_seg_warped_baseline.tif',\n",
       " 'matt_preds/XYZres237_seg_warped_baseline.tif',\n",
       " 'matt_preds/XYZres244_seg_warped_baseline.tif',\n",
       " 'matt_preds/XYZres247_seg_warped_baseline.tif',\n",
       " 'matt_preds/XYZres248_seg_warped_baseline.tif',\n",
       " 'matt_preds/XYZres250_seg_warped_baseline.tif']"
      ]
     },
     "execution_count": 87,
     "metadata": {},
     "output_type": "execute_result"
    }
   ],
   "source": [
    "directory_seg = Path('matt_preds')\n",
    "images = list(directory_seg.glob('*_seg_warped_baseline.tif'))\n",
    "images = sorted([x.as_posix() for x in images])\n",
    "images = [x for x in images if any(y in x for y in rep.keys())]\n",
    "images"
   ]
  },
  {
   "cell_type": "code",
   "execution_count": 88,
   "id": "4d576f15",
   "metadata": {},
   "outputs": [
    {
     "name": "stderr",
     "output_type": "stream",
     "text": [
      "  0%|          | 0/43 [00:00<?, ?it/s]"
     ]
    },
    {
     "name": "stdout",
     "output_type": "stream",
     "text": [
      "90729\n"
     ]
    },
    {
     "name": "stderr",
     "output_type": "stream",
     "text": [
      "  2%|▏         | 1/43 [00:15<10:56, 15.64s/it]"
     ]
    },
    {
     "name": "stdout",
     "output_type": "stream",
     "text": [
      "641698\n"
     ]
    },
    {
     "name": "stderr",
     "output_type": "stream",
     "text": [
      "  5%|▍         | 2/43 [00:31<10:44, 15.71s/it]"
     ]
    },
    {
     "name": "stdout",
     "output_type": "stream",
     "text": [
      "4639\n"
     ]
    },
    {
     "name": "stderr",
     "output_type": "stream",
     "text": [
      "  7%|▋         | 3/43 [00:44<09:43, 14.58s/it]"
     ]
    },
    {
     "name": "stdout",
     "output_type": "stream",
     "text": [
      "654915\n"
     ]
    },
    {
     "name": "stderr",
     "output_type": "stream",
     "text": [
      "  9%|▉         | 4/43 [01:01<10:10, 15.65s/it]"
     ]
    },
    {
     "name": "stdout",
     "output_type": "stream",
     "text": [
      "68051\n"
     ]
    },
    {
     "name": "stderr",
     "output_type": "stream",
     "text": [
      " 12%|█▏        | 5/43 [01:18<10:03, 15.87s/it]"
     ]
    },
    {
     "name": "stdout",
     "output_type": "stream",
     "text": [
      "30488\n"
     ]
    },
    {
     "name": "stderr",
     "output_type": "stream",
     "text": [
      " 14%|█▍        | 6/43 [01:33<09:43, 15.78s/it]"
     ]
    },
    {
     "name": "stdout",
     "output_type": "stream",
     "text": [
      "404402\n"
     ]
    },
    {
     "name": "stderr",
     "output_type": "stream",
     "text": [
      " 16%|█▋        | 7/43 [01:51<09:54, 16.51s/it]"
     ]
    },
    {
     "name": "stdout",
     "output_type": "stream",
     "text": [
      "11454\n"
     ]
    },
    {
     "name": "stderr",
     "output_type": "stream",
     "text": [
      " 19%|█▊        | 8/43 [02:05<09:03, 15.53s/it]"
     ]
    },
    {
     "name": "stdout",
     "output_type": "stream",
     "text": [
      "349843\n"
     ]
    },
    {
     "name": "stderr",
     "output_type": "stream",
     "text": [
      " 21%|██        | 9/43 [02:20<08:40, 15.30s/it]"
     ]
    },
    {
     "name": "stdout",
     "output_type": "stream",
     "text": [
      "2013581\n"
     ]
    },
    {
     "name": "stderr",
     "output_type": "stream",
     "text": [
      " 23%|██▎       | 10/43 [02:38<08:58, 16.32s/it]"
     ]
    },
    {
     "name": "stdout",
     "output_type": "stream",
     "text": [
      "19119\n"
     ]
    },
    {
     "name": "stderr",
     "output_type": "stream",
     "text": [
      " 26%|██▌       | 11/43 [02:53<08:23, 15.73s/it]"
     ]
    },
    {
     "name": "stdout",
     "output_type": "stream",
     "text": [
      "79643\n"
     ]
    },
    {
     "name": "stderr",
     "output_type": "stream",
     "text": [
      " 28%|██▊       | 12/43 [03:08<08:02, 15.56s/it]"
     ]
    },
    {
     "name": "stdout",
     "output_type": "stream",
     "text": [
      "636890\n"
     ]
    },
    {
     "name": "stderr",
     "output_type": "stream",
     "text": [
      " 30%|███       | 13/43 [03:24<07:55, 15.85s/it]"
     ]
    },
    {
     "name": "stdout",
     "output_type": "stream",
     "text": [
      "705880\n"
     ]
    },
    {
     "name": "stderr",
     "output_type": "stream",
     "text": [
      " 33%|███▎      | 14/43 [03:41<07:49, 16.19s/it]"
     ]
    },
    {
     "name": "stdout",
     "output_type": "stream",
     "text": [
      "200563\n"
     ]
    },
    {
     "name": "stderr",
     "output_type": "stream",
     "text": [
      " 35%|███▍      | 15/43 [03:58<07:40, 16.45s/it]"
     ]
    },
    {
     "name": "stdout",
     "output_type": "stream",
     "text": [
      "103697\n"
     ]
    },
    {
     "name": "stderr",
     "output_type": "stream",
     "text": [
      " 37%|███▋      | 16/43 [04:15<07:30, 16.68s/it]"
     ]
    },
    {
     "name": "stdout",
     "output_type": "stream",
     "text": [
      "28601\n"
     ]
    },
    {
     "name": "stderr",
     "output_type": "stream",
     "text": [
      " 40%|███▉      | 17/43 [04:32<07:15, 16.75s/it]"
     ]
    },
    {
     "name": "stdout",
     "output_type": "stream",
     "text": [
      "517325\n"
     ]
    },
    {
     "name": "stderr",
     "output_type": "stream",
     "text": [
      " 42%|████▏     | 18/43 [04:50<07:02, 16.92s/it]"
     ]
    },
    {
     "name": "stdout",
     "output_type": "stream",
     "text": [
      "438858\n"
     ]
    },
    {
     "name": "stderr",
     "output_type": "stream",
     "text": [
      " 44%|████▍     | 19/43 [05:07<06:46, 16.94s/it]"
     ]
    },
    {
     "name": "stdout",
     "output_type": "stream",
     "text": [
      "235623\n"
     ]
    },
    {
     "name": "stderr",
     "output_type": "stream",
     "text": [
      " 47%|████▋     | 20/43 [05:25<06:39, 17.36s/it]"
     ]
    },
    {
     "name": "stdout",
     "output_type": "stream",
     "text": [
      "520091\n"
     ]
    },
    {
     "name": "stderr",
     "output_type": "stream",
     "text": [
      " 49%|████▉     | 21/43 [05:44<06:30, 17.76s/it]"
     ]
    },
    {
     "name": "stdout",
     "output_type": "stream",
     "text": [
      "336988\n"
     ]
    },
    {
     "name": "stderr",
     "output_type": "stream",
     "text": [
      " 51%|█████     | 22/43 [06:01<06:11, 17.68s/it]"
     ]
    },
    {
     "name": "stdout",
     "output_type": "stream",
     "text": [
      "21022\n"
     ]
    },
    {
     "name": "stderr",
     "output_type": "stream",
     "text": [
      " 53%|█████▎    | 23/43 [06:18<05:46, 17.32s/it]"
     ]
    },
    {
     "name": "stdout",
     "output_type": "stream",
     "text": [
      "33895\n"
     ]
    },
    {
     "name": "stderr",
     "output_type": "stream",
     "text": [
      " 56%|█████▌    | 24/43 [06:35<05:30, 17.40s/it]"
     ]
    },
    {
     "name": "stdout",
     "output_type": "stream",
     "text": [
      "267528\n"
     ]
    },
    {
     "name": "stderr",
     "output_type": "stream",
     "text": [
      " 58%|█████▊    | 25/43 [06:53<05:16, 17.59s/it]"
     ]
    },
    {
     "name": "stdout",
     "output_type": "stream",
     "text": [
      "276083\n"
     ]
    },
    {
     "name": "stderr",
     "output_type": "stream",
     "text": [
      " 60%|██████    | 26/43 [07:11<04:57, 17.49s/it]"
     ]
    },
    {
     "name": "stdout",
     "output_type": "stream",
     "text": [
      "14578\n"
     ]
    },
    {
     "name": "stderr",
     "output_type": "stream",
     "text": [
      " 63%|██████▎   | 27/43 [07:27<04:34, 17.13s/it]"
     ]
    },
    {
     "name": "stdout",
     "output_type": "stream",
     "text": [
      "1662853\n"
     ]
    },
    {
     "name": "stderr",
     "output_type": "stream",
     "text": [
      " 65%|██████▌   | 28/43 [07:45<04:22, 17.53s/it]"
     ]
    },
    {
     "name": "stdout",
     "output_type": "stream",
     "text": [
      "111083\n"
     ]
    },
    {
     "name": "stderr",
     "output_type": "stream",
     "text": [
      " 67%|██████▋   | 29/43 [08:02<04:01, 17.23s/it]"
     ]
    },
    {
     "name": "stdout",
     "output_type": "stream",
     "text": [
      "1608441\n"
     ]
    },
    {
     "name": "stderr",
     "output_type": "stream",
     "text": [
      " 70%|██████▉   | 30/43 [08:20<03:48, 17.59s/it]"
     ]
    },
    {
     "name": "stdout",
     "output_type": "stream",
     "text": [
      "1783465\n"
     ]
    },
    {
     "name": "stderr",
     "output_type": "stream",
     "text": [
      " 72%|███████▏  | 31/43 [08:39<03:34, 17.85s/it]"
     ]
    },
    {
     "name": "stdout",
     "output_type": "stream",
     "text": [
      "204291\n"
     ]
    },
    {
     "name": "stderr",
     "output_type": "stream",
     "text": [
      " 74%|███████▍  | 32/43 [08:54<03:08, 17.15s/it]"
     ]
    },
    {
     "name": "stdout",
     "output_type": "stream",
     "text": [
      "135007\n"
     ]
    },
    {
     "name": "stderr",
     "output_type": "stream",
     "text": [
      " 77%|███████▋  | 33/43 [09:09<02:44, 16.45s/it]"
     ]
    },
    {
     "name": "stdout",
     "output_type": "stream",
     "text": [
      "329061\n"
     ]
    },
    {
     "name": "stderr",
     "output_type": "stream",
     "text": [
      " 79%|███████▉  | 34/43 [09:27<02:31, 16.85s/it]"
     ]
    },
    {
     "name": "stdout",
     "output_type": "stream",
     "text": [
      "1063513\n"
     ]
    },
    {
     "name": "stderr",
     "output_type": "stream",
     "text": [
      " 81%|████████▏ | 35/43 [09:45<02:18, 17.33s/it]"
     ]
    },
    {
     "name": "stdout",
     "output_type": "stream",
     "text": [
      "883994\n"
     ]
    },
    {
     "name": "stderr",
     "output_type": "stream",
     "text": [
      " 84%|████████▎ | 36/43 [10:04<02:03, 17.69s/it]"
     ]
    },
    {
     "name": "stdout",
     "output_type": "stream",
     "text": [
      "66569\n"
     ]
    },
    {
     "name": "stderr",
     "output_type": "stream",
     "text": [
      " 86%|████████▌ | 37/43 [10:21<01:44, 17.47s/it]"
     ]
    },
    {
     "name": "stdout",
     "output_type": "stream",
     "text": [
      "263272\n"
     ]
    },
    {
     "name": "stderr",
     "output_type": "stream",
     "text": [
      " 88%|████████▊ | 38/43 [10:35<01:22, 16.55s/it]"
     ]
    },
    {
     "name": "stdout",
     "output_type": "stream",
     "text": [
      "1483\n"
     ]
    },
    {
     "name": "stderr",
     "output_type": "stream",
     "text": [
      " 91%|█████████ | 39/43 [10:49<01:02, 15.69s/it]"
     ]
    },
    {
     "name": "stdout",
     "output_type": "stream",
     "text": [
      "1007552\n"
     ]
    },
    {
     "name": "stderr",
     "output_type": "stream",
     "text": [
      " 93%|█████████▎| 40/43 [11:07<00:49, 16.45s/it]"
     ]
    },
    {
     "name": "stdout",
     "output_type": "stream",
     "text": [
      "10740\n"
     ]
    },
    {
     "name": "stderr",
     "output_type": "stream",
     "text": [
      " 95%|█████████▌| 41/43 [11:21<00:31, 15.72s/it]"
     ]
    },
    {
     "name": "stdout",
     "output_type": "stream",
     "text": [
      "682098\n"
     ]
    },
    {
     "name": "stderr",
     "output_type": "stream",
     "text": [
      " 98%|█████████▊| 42/43 [11:38<00:16, 16.02s/it]"
     ]
    },
    {
     "name": "stdout",
     "output_type": "stream",
     "text": [
      "31872\n"
     ]
    },
    {
     "name": "stderr",
     "output_type": "stream",
     "text": [
      "100%|██████████| 43/43 [11:52<00:00, 16.57s/it]\n"
     ]
    }
   ],
   "source": [
    "for image in tqdm(images[::-1]):\n",
    "    #if not os.path.exists(re.sub('_seg_warped_baseline.tif','_seg_warped_baseline_single.mat',image)):\n",
    "        for x in rep.keys():\n",
    "                if x in image:\n",
    "                    _new_image = re.sub(x,rep[x],image)\n",
    "        img_0001 = io.imread(_new_image)\n",
    "        img = io.imread(image)\n",
    "        seg = img*img_0001\n",
    "        seg = (seg==1)*1\n",
    "        print(np.sum(seg))\n",
    "        seg = seg.astype('int8')\n",
    "        seg = fill_holes(seg)\n",
    "        savemat(re.sub('_seg_warped_baseline.tif','_seg_warped_baseline_single.mat',image),{'FinalImage':fill_holes(binary_dilation(seg))})\n",
    "        \n",
    "        "
   ]
  },
  {
   "cell_type": "code",
   "execution_count": null,
   "id": "36c04c55",
   "metadata": {},
   "outputs": [],
   "source": [
    "re.sub('_seg_warped_baseline.tif','_seg_warped_baseline_single.mat',image)"
   ]
  },
  {
   "cell_type": "markdown",
   "id": "f5818c18",
   "metadata": {},
   "source": [
    "# Generate Graphs"
   ]
  },
  {
   "cell_type": "code",
   "execution_count": 90,
   "id": "fd876acb",
   "metadata": {},
   "outputs": [
    {
     "data": {
      "text/plain": [
       "43"
      ]
     },
     "execution_count": 90,
     "metadata": {},
     "output_type": "execute_result"
    }
   ],
   "source": [
    "directory = Path('../TBI_monai_UNET/matt_preds')\n",
    "files_seg_0001 = directory.glob('*_seg_warped_baseline.tif')\n",
    "files_seg_0001 = sorted([x.as_posix() for x in files_seg_0001])\n",
    "files_seg_0001 = [x for x in files_seg_0001 if any(y in x for y in rep.keys())]\n",
    "len(files_seg_0001)"
   ]
  },
  {
   "cell_type": "code",
   "execution_count": 91,
   "id": "6810a73d",
   "metadata": {},
   "outputs": [
    {
     "name": "stderr",
     "output_type": "stream",
     "text": [
      "  0%|          | 0/43 [00:00<?, ?it/s]/tmp/ipykernel_2256225/3935320657.py:7: UserWarning:\n",
      "\n",
      "../TBI_monai_UNET/matt_preds/XYZres103_single_skel_baseline.tif is a low contrast image\n",
      "\n",
      "  2%|▏         | 1/43 [00:24<17:25, 24.89s/it]"
     ]
    },
    {
     "name": "stdout",
     "output_type": "stream",
     "text": [
      "16\n"
     ]
    },
    {
     "name": "stderr",
     "output_type": "stream",
     "text": [
      "/tmp/ipykernel_2256225/3935320657.py:7: UserWarning:\n",
      "\n",
      "../TBI_monai_UNET/matt_preds/XYZres104_single_skel_baseline.tif is a low contrast image\n",
      "\n",
      "  5%|▍         | 2/43 [00:25<07:26, 10.89s/it]"
     ]
    },
    {
     "name": "stdout",
     "output_type": "stream",
     "text": [
      "294\n"
     ]
    },
    {
     "name": "stderr",
     "output_type": "stream",
     "text": [
      "/tmp/ipykernel_2256225/3935320657.py:7: UserWarning:\n",
      "\n",
      "../TBI_monai_UNET/matt_preds/XYZres106_single_skel_baseline.tif is a low contrast image\n",
      "\n",
      "  7%|▋         | 3/43 [00:26<04:15,  6.38s/it]"
     ]
    },
    {
     "name": "stdout",
     "output_type": "stream",
     "text": [
      "12\n"
     ]
    },
    {
     "name": "stderr",
     "output_type": "stream",
     "text": [
      "/tmp/ipykernel_2256225/3935320657.py:7: UserWarning:\n",
      "\n",
      "../TBI_monai_UNET/matt_preds/XYZres112_single_skel_baseline.tif is a low contrast image\n",
      "\n",
      "  9%|▉         | 4/43 [00:27<02:45,  4.24s/it]"
     ]
    },
    {
     "name": "stdout",
     "output_type": "stream",
     "text": [
      "91\n"
     ]
    },
    {
     "name": "stderr",
     "output_type": "stream",
     "text": [
      "/tmp/ipykernel_2256225/3935320657.py:7: UserWarning:\n",
      "\n",
      "../TBI_monai_UNET/matt_preds/XYZres115_single_skel_baseline.tif is a low contrast image\n",
      "\n",
      " 12%|█▏        | 5/43 [00:28<01:55,  3.04s/it]"
     ]
    },
    {
     "name": "stdout",
     "output_type": "stream",
     "text": [
      "11\n"
     ]
    },
    {
     "name": "stderr",
     "output_type": "stream",
     "text": [
      "/tmp/ipykernel_2256225/3935320657.py:7: UserWarning:\n",
      "\n",
      "../TBI_monai_UNET/matt_preds/XYZres116_single_skel_baseline.tif is a low contrast image\n",
      "\n",
      " 14%|█▍        | 6/43 [00:29<01:27,  2.36s/it]"
     ]
    },
    {
     "name": "stdout",
     "output_type": "stream",
     "text": [
      "48\n"
     ]
    },
    {
     "name": "stderr",
     "output_type": "stream",
     "text": [
      "/tmp/ipykernel_2256225/3935320657.py:7: UserWarning:\n",
      "\n",
      "../TBI_monai_UNET/matt_preds/XYZres125_single_skel_baseline.tif is a low contrast image\n",
      "\n",
      " 16%|█▋        | 7/43 [00:30<01:09,  1.92s/it]"
     ]
    },
    {
     "name": "stdout",
     "output_type": "stream",
     "text": [
      "36\n"
     ]
    },
    {
     "name": "stderr",
     "output_type": "stream",
     "text": [
      "/tmp/ipykernel_2256225/3935320657.py:7: UserWarning:\n",
      "\n",
      "../TBI_monai_UNET/matt_preds/XYZres126_single_skel_baseline.tif is a low contrast image\n",
      "\n",
      " 19%|█▊        | 8/43 [00:32<00:57,  1.65s/it]"
     ]
    },
    {
     "name": "stdout",
     "output_type": "stream",
     "text": [
      "92\n"
     ]
    },
    {
     "name": "stderr",
     "output_type": "stream",
     "text": [
      "/tmp/ipykernel_2256225/3935320657.py:7: UserWarning:\n",
      "\n",
      "../TBI_monai_UNET/matt_preds/XYZres127_single_skel_baseline.tif is a low contrast image\n",
      "\n",
      " 21%|██        | 9/43 [00:33<00:50,  1.49s/it]"
     ]
    },
    {
     "name": "stdout",
     "output_type": "stream",
     "text": [
      "140\n"
     ]
    },
    {
     "name": "stderr",
     "output_type": "stream",
     "text": [
      "/tmp/ipykernel_2256225/3935320657.py:7: UserWarning:\n",
      "\n",
      "../TBI_monai_UNET/matt_preds/XYZres128_single_skel_baseline.tif is a low contrast image\n",
      "\n",
      " 23%|██▎       | 10/43 [00:34<00:46,  1.40s/it]"
     ]
    },
    {
     "name": "stdout",
     "output_type": "stream",
     "text": [
      "210\n"
     ]
    },
    {
     "name": "stderr",
     "output_type": "stream",
     "text": [
      "/tmp/ipykernel_2256225/3935320657.py:7: UserWarning:\n",
      "\n",
      "../TBI_monai_UNET/matt_preds/XYZres143_single_skel_baseline.tif is a low contrast image\n",
      "\n",
      " 26%|██▌       | 11/43 [00:35<00:41,  1.30s/it]"
     ]
    },
    {
     "name": "stdout",
     "output_type": "stream",
     "text": [
      "36\n"
     ]
    },
    {
     "name": "stderr",
     "output_type": "stream",
     "text": [
      "/tmp/ipykernel_2256225/3935320657.py:7: UserWarning:\n",
      "\n",
      "../TBI_monai_UNET/matt_preds/XYZres144_single_skel_baseline.tif is a low contrast image\n",
      "\n",
      " 28%|██▊       | 12/43 [00:36<00:37,  1.22s/it]"
     ]
    },
    {
     "name": "stdout",
     "output_type": "stream",
     "text": [
      "35\n"
     ]
    },
    {
     "name": "stderr",
     "output_type": "stream",
     "text": [
      "/tmp/ipykernel_2256225/3935320657.py:7: UserWarning:\n",
      "\n",
      "../TBI_monai_UNET/matt_preds/XYZres145_single_skel_baseline.tif is a low contrast image\n",
      "\n",
      " 30%|███       | 13/43 [00:37<00:35,  1.18s/it]"
     ]
    },
    {
     "name": "stdout",
     "output_type": "stream",
     "text": [
      "249\n"
     ]
    },
    {
     "name": "stderr",
     "output_type": "stream",
     "text": [
      "/tmp/ipykernel_2256225/3935320657.py:7: UserWarning:\n",
      "\n",
      "../TBI_monai_UNET/matt_preds/XYZres146_single_skel_baseline.tif is a low contrast image\n",
      "\n",
      " 33%|███▎      | 14/43 [00:38<00:32,  1.11s/it]"
     ]
    },
    {
     "name": "stdout",
     "output_type": "stream",
     "text": [
      "171\n"
     ]
    },
    {
     "name": "stderr",
     "output_type": "stream",
     "text": [
      "/tmp/ipykernel_2256225/3935320657.py:7: UserWarning:\n",
      "\n",
      "../TBI_monai_UNET/matt_preds/XYZres151_single_skel_baseline.tif is a low contrast image\n",
      "\n",
      " 35%|███▍      | 15/43 [00:39<00:31,  1.12s/it]"
     ]
    },
    {
     "name": "stdout",
     "output_type": "stream",
     "text": [
      "17\n"
     ]
    },
    {
     "name": "stderr",
     "output_type": "stream",
     "text": [
      "/tmp/ipykernel_2256225/3935320657.py:7: UserWarning:\n",
      "\n",
      "../TBI_monai_UNET/matt_preds/XYZres154_single_skel_baseline.tif is a low contrast image\n",
      "\n",
      " 37%|███▋      | 16/43 [00:40<00:29,  1.08s/it]"
     ]
    },
    {
     "name": "stdout",
     "output_type": "stream",
     "text": [
      "374\n"
     ]
    },
    {
     "name": "stderr",
     "output_type": "stream",
     "text": [
      "/tmp/ipykernel_2256225/3935320657.py:7: UserWarning:\n",
      "\n",
      "../TBI_monai_UNET/matt_preds/XYZres159_single_skel_baseline.tif is a low contrast image\n",
      "\n",
      " 40%|███▉      | 17/43 [00:41<00:27,  1.06s/it]"
     ]
    },
    {
     "name": "stdout",
     "output_type": "stream",
     "text": [
      "0\n"
     ]
    },
    {
     "name": "stderr",
     "output_type": "stream",
     "text": [
      "/tmp/ipykernel_2256225/3935320657.py:7: UserWarning:\n",
      "\n",
      "../TBI_monai_UNET/matt_preds/XYZres160_single_skel_baseline.tif is a low contrast image\n",
      "\n",
      " 42%|████▏     | 18/43 [00:42<00:25,  1.02s/it]"
     ]
    },
    {
     "name": "stdout",
     "output_type": "stream",
     "text": [
      "18\n"
     ]
    },
    {
     "name": "stderr",
     "output_type": "stream",
     "text": [
      "/tmp/ipykernel_2256225/3935320657.py:7: UserWarning:\n",
      "\n",
      "../TBI_monai_UNET/matt_preds/XYZres161_single_skel_baseline.tif is a low contrast image\n",
      "\n",
      " 44%|████▍     | 19/43 [00:43<00:23,  1.00it/s]"
     ]
    },
    {
     "name": "stdout",
     "output_type": "stream",
     "text": [
      "18\n"
     ]
    },
    {
     "name": "stderr",
     "output_type": "stream",
     "text": [
      "/tmp/ipykernel_2256225/3935320657.py:7: UserWarning:\n",
      "\n",
      "../TBI_monai_UNET/matt_preds/XYZres162_single_skel_baseline.tif is a low contrast image\n",
      "\n",
      " 47%|████▋     | 20/43 [00:44<00:23,  1.01s/it]"
     ]
    },
    {
     "name": "stdout",
     "output_type": "stream",
     "text": [
      "7\n"
     ]
    },
    {
     "name": "stderr",
     "output_type": "stream",
     "text": [
      "/tmp/ipykernel_2256225/3935320657.py:7: UserWarning:\n",
      "\n",
      "../TBI_monai_UNET/matt_preds/XYZres171_single_skel_baseline.tif is a low contrast image\n",
      "\n",
      " 49%|████▉     | 21/43 [00:45<00:23,  1.09s/it]"
     ]
    },
    {
     "name": "stdout",
     "output_type": "stream",
     "text": [
      "4\n"
     ]
    },
    {
     "name": "stderr",
     "output_type": "stream",
     "text": [
      "/tmp/ipykernel_2256225/3935320657.py:7: UserWarning:\n",
      "\n",
      "../TBI_monai_UNET/matt_preds/XYZres172_single_skel_baseline.tif is a low contrast image\n",
      "\n",
      " 51%|█████     | 22/43 [00:46<00:23,  1.11s/it]"
     ]
    },
    {
     "name": "stdout",
     "output_type": "stream",
     "text": [
      "26\n"
     ]
    },
    {
     "name": "stderr",
     "output_type": "stream",
     "text": [
      "/tmp/ipykernel_2256225/3935320657.py:7: UserWarning:\n",
      "\n",
      "../TBI_monai_UNET/matt_preds/XYZres173_single_skel_baseline.tif is a low contrast image\n",
      "\n",
      " 53%|█████▎    | 23/43 [00:48<00:22,  1.10s/it]"
     ]
    },
    {
     "name": "stdout",
     "output_type": "stream",
     "text": [
      "45\n"
     ]
    },
    {
     "name": "stderr",
     "output_type": "stream",
     "text": [
      "/tmp/ipykernel_2256225/3935320657.py:7: UserWarning:\n",
      "\n",
      "../TBI_monai_UNET/matt_preds/XYZres174_single_skel_baseline.tif is a low contrast image\n",
      "\n",
      " 56%|█████▌    | 24/43 [00:49<00:21,  1.11s/it]"
     ]
    },
    {
     "name": "stdout",
     "output_type": "stream",
     "text": [
      "76\n"
     ]
    },
    {
     "name": "stderr",
     "output_type": "stream",
     "text": [
      "/tmp/ipykernel_2256225/3935320657.py:7: UserWarning:\n",
      "\n",
      "../TBI_monai_UNET/matt_preds/XYZres184_single_skel_baseline.tif is a low contrast image\n",
      "\n",
      " 58%|█████▊    | 25/43 [00:50<00:19,  1.08s/it]"
     ]
    },
    {
     "name": "stdout",
     "output_type": "stream",
     "text": [
      "27\n"
     ]
    },
    {
     "name": "stderr",
     "output_type": "stream",
     "text": [
      "/tmp/ipykernel_2256225/3935320657.py:7: UserWarning:\n",
      "\n",
      "../TBI_monai_UNET/matt_preds/XYZres185_single_skel_baseline.tif is a low contrast image\n",
      "\n",
      " 60%|██████    | 26/43 [00:51<00:18,  1.09s/it]"
     ]
    },
    {
     "name": "stdout",
     "output_type": "stream",
     "text": [
      "53\n"
     ]
    },
    {
     "name": "stderr",
     "output_type": "stream",
     "text": [
      "/tmp/ipykernel_2256225/3935320657.py:7: UserWarning:\n",
      "\n",
      "../TBI_monai_UNET/matt_preds/XYZres186_single_skel_baseline.tif is a low contrast image\n",
      "\n",
      " 63%|██████▎   | 27/43 [00:52<00:18,  1.13s/it]"
     ]
    },
    {
     "name": "stdout",
     "output_type": "stream",
     "text": [
      "18\n"
     ]
    },
    {
     "name": "stderr",
     "output_type": "stream",
     "text": [
      "/tmp/ipykernel_2256225/3935320657.py:7: UserWarning:\n",
      "\n",
      "../TBI_monai_UNET/matt_preds/XYZres187_single_skel_baseline.tif is a low contrast image\n",
      "\n",
      " 65%|██████▌   | 28/43 [00:53<00:16,  1.09s/it]"
     ]
    },
    {
     "name": "stdout",
     "output_type": "stream",
     "text": [
      "27\n"
     ]
    },
    {
     "name": "stderr",
     "output_type": "stream",
     "text": [
      "/tmp/ipykernel_2256225/3935320657.py:7: UserWarning:\n",
      "\n",
      "../TBI_monai_UNET/matt_preds/XYZres198_single_skel_baseline.tif is a low contrast image\n",
      "\n",
      " 67%|██████▋   | 29/43 [00:54<00:15,  1.08s/it]"
     ]
    },
    {
     "name": "stdout",
     "output_type": "stream",
     "text": [
      "54\n"
     ]
    },
    {
     "name": "stderr",
     "output_type": "stream",
     "text": [
      "/tmp/ipykernel_2256225/3935320657.py:7: UserWarning:\n",
      "\n",
      "../TBI_monai_UNET/matt_preds/XYZres199_single_skel_baseline.tif is a low contrast image\n",
      "\n",
      " 70%|██████▉   | 30/43 [00:55<00:13,  1.05s/it]"
     ]
    },
    {
     "name": "stdout",
     "output_type": "stream",
     "text": [
      "66\n"
     ]
    },
    {
     "name": "stderr",
     "output_type": "stream",
     "text": [
      "/tmp/ipykernel_2256225/3935320657.py:7: UserWarning:\n",
      "\n",
      "../TBI_monai_UNET/matt_preds/XYZres200_single_skel_baseline.tif is a low contrast image\n",
      "\n",
      " 72%|███████▏  | 31/43 [00:56<00:12,  1.06s/it]"
     ]
    },
    {
     "name": "stdout",
     "output_type": "stream",
     "text": [
      "45\n"
     ]
    },
    {
     "name": "stderr",
     "output_type": "stream",
     "text": [
      "/tmp/ipykernel_2256225/3935320657.py:7: UserWarning:\n",
      "\n",
      "../TBI_monai_UNET/matt_preds/XYZres201_single_skel_baseline.tif is a low contrast image\n",
      "\n",
      " 74%|███████▍  | 32/43 [00:57<00:11,  1.04s/it]"
     ]
    },
    {
     "name": "stdout",
     "output_type": "stream",
     "text": [
      "16\n"
     ]
    },
    {
     "name": "stderr",
     "output_type": "stream",
     "text": [
      "/tmp/ipykernel_2256225/3935320657.py:7: UserWarning:\n",
      "\n",
      "../TBI_monai_UNET/matt_preds/XYZres210_single_skel_baseline.tif is a low contrast image\n",
      "\n",
      " 77%|███████▋  | 33/43 [00:58<00:10,  1.09s/it]"
     ]
    },
    {
     "name": "stdout",
     "output_type": "stream",
     "text": [
      "12\n"
     ]
    },
    {
     "name": "stderr",
     "output_type": "stream",
     "text": [
      "/tmp/ipykernel_2256225/3935320657.py:7: UserWarning:\n",
      "\n",
      "../TBI_monai_UNET/matt_preds/XYZres212_single_skel_baseline.tif is a low contrast image\n",
      "\n",
      " 79%|███████▉  | 34/43 [01:00<00:10,  1.11s/it]"
     ]
    },
    {
     "name": "stdout",
     "output_type": "stream",
     "text": [
      "354\n"
     ]
    },
    {
     "name": "stderr",
     "output_type": "stream",
     "text": [
      "/tmp/ipykernel_2256225/3935320657.py:7: UserWarning:\n",
      "\n",
      "../TBI_monai_UNET/matt_preds/XYZres216_single_skel_baseline.tif is a low contrast image\n",
      "\n",
      " 81%|████████▏ | 35/43 [01:01<00:08,  1.11s/it]"
     ]
    },
    {
     "name": "stdout",
     "output_type": "stream",
     "text": [
      "153\n"
     ]
    },
    {
     "name": "stderr",
     "output_type": "stream",
     "text": [
      "/tmp/ipykernel_2256225/3935320657.py:7: UserWarning:\n",
      "\n",
      "../TBI_monai_UNET/matt_preds/XYZres218_single_skel_baseline.tif is a low contrast image\n",
      "\n",
      " 84%|████████▎ | 36/43 [01:02<00:08,  1.15s/it]"
     ]
    },
    {
     "name": "stdout",
     "output_type": "stream",
     "text": [
      "2\n"
     ]
    },
    {
     "name": "stderr",
     "output_type": "stream",
     "text": [
      "/tmp/ipykernel_2256225/3935320657.py:7: UserWarning:\n",
      "\n",
      "../TBI_monai_UNET/matt_preds/XYZres233_single_skel_baseline.tif is a low contrast image\n",
      "\n",
      " 86%|████████▌ | 37/43 [01:03<00:06,  1.14s/it]"
     ]
    },
    {
     "name": "stdout",
     "output_type": "stream",
     "text": [
      "302\n"
     ]
    },
    {
     "name": "stderr",
     "output_type": "stream",
     "text": [
      "/tmp/ipykernel_2256225/3935320657.py:7: UserWarning:\n",
      "\n",
      "../TBI_monai_UNET/matt_preds/XYZres235_single_skel_baseline.tif is a low contrast image\n",
      "\n",
      " 88%|████████▊ | 38/43 [01:04<00:05,  1.14s/it]"
     ]
    },
    {
     "name": "stdout",
     "output_type": "stream",
     "text": [
      "26\n"
     ]
    },
    {
     "name": "stderr",
     "output_type": "stream",
     "text": [
      "/tmp/ipykernel_2256225/3935320657.py:7: UserWarning:\n",
      "\n",
      "../TBI_monai_UNET/matt_preds/XYZres237_single_skel_baseline.tif is a low contrast image\n",
      "\n",
      " 91%|█████████ | 39/43 [01:05<00:04,  1.14s/it]"
     ]
    },
    {
     "name": "stdout",
     "output_type": "stream",
     "text": [
      "19\n"
     ]
    },
    {
     "name": "stderr",
     "output_type": "stream",
     "text": [
      "/tmp/ipykernel_2256225/3935320657.py:7: UserWarning:\n",
      "\n",
      "../TBI_monai_UNET/matt_preds/XYZres244_single_skel_baseline.tif is a low contrast image\n",
      "\n",
      " 93%|█████████▎| 40/43 [01:06<00:03,  1.10s/it]"
     ]
    },
    {
     "name": "stdout",
     "output_type": "stream",
     "text": [
      "1217\n"
     ]
    },
    {
     "name": "stderr",
     "output_type": "stream",
     "text": [
      "/tmp/ipykernel_2256225/3935320657.py:7: UserWarning:\n",
      "\n",
      "../TBI_monai_UNET/matt_preds/XYZres247_single_skel_baseline.tif is a low contrast image\n",
      "\n",
      " 95%|█████████▌| 41/43 [01:07<00:02,  1.12s/it]"
     ]
    },
    {
     "name": "stdout",
     "output_type": "stream",
     "text": [
      "5\n"
     ]
    },
    {
     "name": "stderr",
     "output_type": "stream",
     "text": [
      "/tmp/ipykernel_2256225/3935320657.py:7: UserWarning:\n",
      "\n",
      "../TBI_monai_UNET/matt_preds/XYZres248_single_skel_baseline.tif is a low contrast image\n",
      "\n",
      " 98%|█████████▊| 42/43 [01:09<00:01,  1.13s/it]"
     ]
    },
    {
     "name": "stdout",
     "output_type": "stream",
     "text": [
      "417\n"
     ]
    },
    {
     "name": "stderr",
     "output_type": "stream",
     "text": [
      "/tmp/ipykernel_2256225/3935320657.py:7: UserWarning:\n",
      "\n",
      "../TBI_monai_UNET/matt_preds/XYZres250_single_skel_baseline.tif is a low contrast image\n",
      "\n",
      "100%|██████████| 43/43 [01:10<00:00,  1.63s/it]"
     ]
    },
    {
     "name": "stdout",
     "output_type": "stream",
     "text": [
      "52\n"
     ]
    },
    {
     "name": "stderr",
     "output_type": "stream",
     "text": [
      "\n"
     ]
    }
   ],
   "source": [
    "for file_0001 in tqdm(files_seg_0001):\n",
    "    file = file_0001\n",
    "    skel_file = re.sub('_seg_warped_baseline.tif','_skel_warped_single_baseline.mat',file)\n",
    "    #seg = io.imread(file)\n",
    "    skel = loadmat(skel_file)['FilteredImage']\n",
    "    #skel = skeletonize_3d(skel)\n",
    "    io.imsave(re.sub('_seg_warped_baseline.tif','_single_skel_baseline.tif',file),skel)\n",
    "    #dst_tsfm = distance_transform_edt(seg)\n",
    "    #dst_tsfm[dst_tsfm==0]=0.00001\n",
    "    #skel_dst = skel*dst_tsfm\n",
    "#\n",
    "    #\n",
    "    #np.save(re.sub('seg','dst_skel',file),skel_dst)\n",
    "    #io.imsave(re.sub('_seg_warped.tif','_dst_skel_warped.tif',file),skel_dst)\n",
    "    graph = sknw.build_sknw(skel, multi=False)\n",
    "    print(len(graph.edges))\n",
    "    #graph, c0  = skan.csr.skeleton_to_csgraph(skel)\n",
    "    #print(len(graph.edges))\n",
    "    \n",
    "    #print(len(graph_0001.edges))\n",
    "    #pickle.dump(graph, open(str(re.sub('_seg.npy','.pickle',file)), 'w'))\n",
    "    #nx.write_pajek(graph,re.sub('_seg.npy','.pajek',file))\n",
    "    \n",
    "    nx.write_gpickle(graph,re.sub('_seg_warped_baseline.tif','_warped_baseline.pickle',file))"
   ]
  },
  {
   "cell_type": "code",
   "execution_count": 92,
   "id": "3813f904",
   "metadata": {},
   "outputs": [
    {
     "data": {
      "text/plain": [
       "'../TBI_monai_UNET/matt_preds/XYZres250_skel_warped_single_baseline.mat'"
      ]
     },
     "execution_count": 92,
     "metadata": {},
     "output_type": "execute_result"
    }
   ],
   "source": [
    "re.sub('_seg_warped_baseline.tif','_skel_warped_single_baseline.mat',file)"
   ]
  },
  {
   "cell_type": "markdown",
   "id": "97ba7bff",
   "metadata": {},
   "source": [
    "# write vessel measurments to graph files"
   ]
  },
  {
   "cell_type": "code",
   "execution_count": 93,
   "id": "65f52c14",
   "metadata": {},
   "outputs": [
    {
     "name": "stdout",
     "output_type": "stream",
     "text": [
      "43\n"
     ]
    },
    {
     "data": {
      "text/plain": [
       "'matt_preds/XYZres103_warped_baseline.pickle'"
      ]
     },
     "execution_count": 93,
     "metadata": {},
     "output_type": "execute_result"
    }
   ],
   "source": [
    "directory = Path('matt_preds')\n",
    "files = directory.glob('*_warped_baseline.pickle')\n",
    "files = sorted([x.as_posix() for x in files])\n",
    "print(len(files))\n",
    "files[0]"
   ]
  },
  {
   "cell_type": "code",
   "execution_count": null,
   "id": "e27bed67",
   "metadata": {},
   "outputs": [],
   "source": [
    "re.sub('../TBI_monai_UNET/james_preds/','',re.sub('_warped_baseline.pickle','',file))"
   ]
  },
  {
   "cell_type": "code",
   "execution_count": 94,
   "id": "21d716ad",
   "metadata": {},
   "outputs": [
    {
     "name": "stderr",
     "output_type": "stream",
     "text": [
      "  0%|          | 0/43 [00:00<?, ?it/s]"
     ]
    },
    {
     "name": "stdout",
     "output_type": "stream",
     "text": [
      "matt_preds/XYZres103_seg_warped_baseline.tif\n",
      "matt_preds/XYZres110_seg_warped_baseline.tif\n"
     ]
    },
    {
     "name": "stderr",
     "output_type": "stream",
     "text": [
      "  2%|▏         | 1/43 [00:22<15:43, 22.47s/it]"
     ]
    },
    {
     "name": "stdout",
     "output_type": "stream",
     "text": [
      "16\n",
      "matt_preds/XYZres104_seg_warped_baseline.tif\n",
      "matt_preds/XYZres109_seg_warped_baseline.tif\n"
     ]
    },
    {
     "name": "stderr",
     "output_type": "stream",
     "text": [
      "/tmp/ipykernel_2256225/2295228553.py:49: RuntimeWarning:\n",
      "\n",
      "invalid value encountered in sqrt\n",
      "\n",
      "  5%|▍         | 2/43 [00:46<16:00, 23.43s/it]"
     ]
    },
    {
     "name": "stdout",
     "output_type": "stream",
     "text": [
      "294\n",
      "matt_preds/XYZres106_seg_warped_baseline.tif\n",
      "matt_preds/XYZres111_seg_warped_baseline.tif\n"
     ]
    },
    {
     "name": "stderr",
     "output_type": "stream",
     "text": [
      "  7%|▋         | 3/43 [01:08<15:17, 22.94s/it]"
     ]
    },
    {
     "name": "stdout",
     "output_type": "stream",
     "text": [
      "12\n",
      "matt_preds/XYZres112_seg_warped_baseline.tif\n",
      "matt_preds/XYZres109_seg_warped_baseline.tif\n"
     ]
    },
    {
     "name": "stderr",
     "output_type": "stream",
     "text": [
      "  9%|▉         | 4/43 [01:31<14:41, 22.61s/it]"
     ]
    },
    {
     "name": "stdout",
     "output_type": "stream",
     "text": [
      "91\n",
      "matt_preds/XYZres115_seg_warped_baseline.tif\n",
      "matt_preds/XYZres118_seg_warped_baseline.tif\n"
     ]
    },
    {
     "name": "stderr",
     "output_type": "stream",
     "text": [
      " 12%|█▏        | 5/43 [01:52<14:04, 22.22s/it]"
     ]
    },
    {
     "name": "stdout",
     "output_type": "stream",
     "text": [
      "11\n",
      "matt_preds/XYZres116_seg_warped_baseline.tif\n",
      "matt_preds/XYZres117_seg_warped_baseline.tif\n"
     ]
    },
    {
     "name": "stderr",
     "output_type": "stream",
     "text": [
      " 14%|█▍        | 6/43 [02:13<13:27, 21.83s/it]"
     ]
    },
    {
     "name": "stdout",
     "output_type": "stream",
     "text": [
      "48\n",
      "matt_preds/XYZres125_seg_warped_baseline.tif\n",
      "matt_preds/XYZres132_seg_warped_baseline.tif\n"
     ]
    },
    {
     "name": "stderr",
     "output_type": "stream",
     "text": [
      " 16%|█▋        | 7/43 [02:35<13:05, 21.82s/it]"
     ]
    },
    {
     "name": "stdout",
     "output_type": "stream",
     "text": [
      "36\n",
      "matt_preds/XYZres126_seg_warped_baseline.tif\n",
      "matt_preds/XYZres131_seg_warped_baseline.tif\n"
     ]
    },
    {
     "name": "stderr",
     "output_type": "stream",
     "text": [
      " 19%|█▊        | 8/43 [02:56<12:39, 21.70s/it]"
     ]
    },
    {
     "name": "stdout",
     "output_type": "stream",
     "text": [
      "92\n",
      "matt_preds/XYZres127_seg_warped_baseline.tif\n",
      "matt_preds/XYZres130_seg_warped_baseline.tif\n"
     ]
    },
    {
     "name": "stderr",
     "output_type": "stream",
     "text": [
      " 21%|██        | 9/43 [03:18<12:19, 21.76s/it]"
     ]
    },
    {
     "name": "stdout",
     "output_type": "stream",
     "text": [
      "140\n",
      "matt_preds/XYZres128_seg_warped_baseline.tif\n",
      "matt_preds/XYZres129_seg_warped_baseline.tif\n"
     ]
    },
    {
     "name": "stderr",
     "output_type": "stream",
     "text": [
      " 23%|██▎       | 10/43 [03:41<12:08, 22.09s/it]"
     ]
    },
    {
     "name": "stdout",
     "output_type": "stream",
     "text": [
      "210\n",
      "matt_preds/XYZres143_seg_warped_baseline.tif\n",
      "matt_preds/XYZres149_seg_warped_baseline.tif\n"
     ]
    },
    {
     "name": "stderr",
     "output_type": "stream",
     "text": [
      " 26%|██▌       | 11/43 [04:02<11:36, 21.75s/it]"
     ]
    },
    {
     "name": "stdout",
     "output_type": "stream",
     "text": [
      "36\n",
      "matt_preds/XYZres144_seg_warped_baseline.tif\n",
      "matt_preds/XYZres150_seg_warped_baseline.tif\n"
     ]
    },
    {
     "name": "stderr",
     "output_type": "stream",
     "text": [
      " 28%|██▊       | 12/43 [04:24<11:14, 21.74s/it]"
     ]
    },
    {
     "name": "stdout",
     "output_type": "stream",
     "text": [
      "35\n",
      "matt_preds/XYZres145_seg_warped_baseline.tif\n",
      "matt_preds/XYZres147_seg_warped_baseline.tif\n"
     ]
    },
    {
     "name": "stderr",
     "output_type": "stream",
     "text": [
      " 30%|███       | 13/43 [04:48<11:10, 22.36s/it]"
     ]
    },
    {
     "name": "stdout",
     "output_type": "stream",
     "text": [
      "249\n",
      "matt_preds/XYZres146_seg_warped_baseline.tif\n",
      "matt_preds/XYZres148_seg_warped_baseline.tif\n"
     ]
    },
    {
     "name": "stderr",
     "output_type": "stream",
     "text": [
      " 33%|███▎      | 14/43 [05:10<10:49, 22.40s/it]"
     ]
    },
    {
     "name": "stdout",
     "output_type": "stream",
     "text": [
      "171\n",
      "matt_preds/XYZres151_seg_warped_baseline.tif\n",
      "matt_preds/XYZres158_seg_warped_baseline.tif\n"
     ]
    },
    {
     "name": "stderr",
     "output_type": "stream",
     "text": [
      " 35%|███▍      | 15/43 [05:32<10:21, 22.21s/it]"
     ]
    },
    {
     "name": "stdout",
     "output_type": "stream",
     "text": [
      "17\n",
      "matt_preds/XYZres154_seg_warped_baseline.tif\n",
      "matt_preds/XYZres157_seg_warped_baseline.tif\n"
     ]
    },
    {
     "name": "stderr",
     "output_type": "stream",
     "text": [
      " 37%|███▋      | 16/43 [05:58<10:29, 23.32s/it]"
     ]
    },
    {
     "name": "stdout",
     "output_type": "stream",
     "text": [
      "374\n",
      "matt_preds/XYZres159_seg_warped_baseline.tif\n",
      "matt_preds/XYZres166_seg_warped_baseline.tif\n"
     ]
    },
    {
     "name": "stderr",
     "output_type": "stream",
     "text": [
      " 40%|███▉      | 17/43 [06:19<09:48, 22.62s/it]"
     ]
    },
    {
     "name": "stdout",
     "output_type": "stream",
     "text": [
      "375\n",
      "matt_preds/XYZres160_seg_warped_baseline.tif\n",
      "matt_preds/XYZres165_seg_warped_baseline.tif\n"
     ]
    },
    {
     "name": "stderr",
     "output_type": "stream",
     "text": [
      " 42%|████▏     | 18/43 [06:41<09:22, 22.52s/it]"
     ]
    },
    {
     "name": "stdout",
     "output_type": "stream",
     "text": [
      "18\n",
      "matt_preds/XYZres161_seg_warped_baseline.tif\n",
      "matt_preds/XYZres164_seg_warped_baseline.tif\n"
     ]
    },
    {
     "name": "stderr",
     "output_type": "stream",
     "text": [
      " 44%|████▍     | 19/43 [07:03<08:58, 22.43s/it]"
     ]
    },
    {
     "name": "stdout",
     "output_type": "stream",
     "text": [
      "18\n",
      "matt_preds/XYZres162_seg_warped_baseline.tif\n",
      "matt_preds/XYZres163_seg_warped_baseline.tif\n"
     ]
    },
    {
     "name": "stderr",
     "output_type": "stream",
     "text": [
      " 47%|████▋     | 20/43 [07:25<08:34, 22.35s/it]"
     ]
    },
    {
     "name": "stdout",
     "output_type": "stream",
     "text": [
      "7\n",
      "matt_preds/XYZres171_seg_warped_baseline.tif\n",
      "matt_preds/XYZres178_seg_warped_baseline.tif\n"
     ]
    },
    {
     "name": "stderr",
     "output_type": "stream",
     "text": [
      " 49%|████▉     | 21/43 [07:47<08:04, 22.03s/it]"
     ]
    },
    {
     "name": "stdout",
     "output_type": "stream",
     "text": [
      "4\n",
      "matt_preds/XYZres172_seg_warped_baseline.tif\n",
      "matt_preds/XYZres177_seg_warped_baseline.tif\n"
     ]
    },
    {
     "name": "stderr",
     "output_type": "stream",
     "text": [
      " 51%|█████     | 22/43 [08:08<07:39, 21.90s/it]"
     ]
    },
    {
     "name": "stdout",
     "output_type": "stream",
     "text": [
      "26\n",
      "matt_preds/XYZres173_seg_warped_baseline.tif\n",
      "matt_preds/XYZres176_seg_warped_baseline.tif\n"
     ]
    },
    {
     "name": "stderr",
     "output_type": "stream",
     "text": [
      " 53%|█████▎    | 23/43 [08:30<07:18, 21.94s/it]"
     ]
    },
    {
     "name": "stdout",
     "output_type": "stream",
     "text": [
      "45\n",
      "matt_preds/XYZres174_seg_warped_baseline.tif\n",
      "matt_preds/XYZres175_seg_warped_baseline.tif\n"
     ]
    },
    {
     "name": "stderr",
     "output_type": "stream",
     "text": [
      " 56%|█████▌    | 24/43 [08:52<06:53, 21.79s/it]"
     ]
    },
    {
     "name": "stdout",
     "output_type": "stream",
     "text": [
      "76\n",
      "matt_preds/XYZres184_seg_warped_baseline.tif\n",
      "matt_preds/XYZres189_seg_warped_baseline.tif\n"
     ]
    },
    {
     "name": "stderr",
     "output_type": "stream",
     "text": [
      " 58%|█████▊    | 25/43 [09:14<06:33, 21.85s/it]"
     ]
    },
    {
     "name": "stdout",
     "output_type": "stream",
     "text": [
      "27\n",
      "matt_preds/XYZres185_seg_warped_baseline.tif\n",
      "matt_preds/XYZres188_seg_warped_baseline.tif\n"
     ]
    },
    {
     "name": "stderr",
     "output_type": "stream",
     "text": [
      " 60%|██████    | 26/43 [09:35<06:07, 21.63s/it]"
     ]
    },
    {
     "name": "stdout",
     "output_type": "stream",
     "text": [
      "53\n",
      "matt_preds/XYZres186_seg_warped_baseline.tif\n",
      "matt_preds/XYZres191_seg_warped_baseline.tif\n"
     ]
    },
    {
     "name": "stderr",
     "output_type": "stream",
     "text": [
      " 63%|██████▎   | 27/43 [09:56<05:42, 21.41s/it]"
     ]
    },
    {
     "name": "stdout",
     "output_type": "stream",
     "text": [
      "18\n",
      "matt_preds/XYZres187_seg_warped_baseline.tif\n",
      "matt_preds/XYZres190_seg_warped_baseline.tif\n"
     ]
    },
    {
     "name": "stderr",
     "output_type": "stream",
     "text": [
      " 65%|██████▌   | 28/43 [10:17<05:21, 21.42s/it]"
     ]
    },
    {
     "name": "stdout",
     "output_type": "stream",
     "text": [
      "27\n",
      "matt_preds/XYZres198_seg_warped_baseline.tif\n",
      "matt_preds/XYZres205_seg_warped_baseline.tif\n"
     ]
    },
    {
     "name": "stderr",
     "output_type": "stream",
     "text": [
      " 67%|██████▋   | 29/43 [10:38<04:59, 21.37s/it]"
     ]
    },
    {
     "name": "stdout",
     "output_type": "stream",
     "text": [
      "54\n",
      "matt_preds/XYZres199_seg_warped_baseline.tif\n",
      "matt_preds/XYZres204_seg_warped_baseline.tif\n"
     ]
    },
    {
     "name": "stderr",
     "output_type": "stream",
     "text": [
      " 70%|██████▉   | 30/43 [11:00<04:37, 21.35s/it]"
     ]
    },
    {
     "name": "stdout",
     "output_type": "stream",
     "text": [
      "66\n",
      "matt_preds/XYZres200_seg_warped_baseline.tif\n",
      "matt_preds/XYZres203_seg_warped_baseline.tif\n"
     ]
    },
    {
     "name": "stderr",
     "output_type": "stream",
     "text": [
      " 72%|███████▏  | 31/43 [11:21<04:15, 21.25s/it]"
     ]
    },
    {
     "name": "stdout",
     "output_type": "stream",
     "text": [
      "45\n",
      "matt_preds/XYZres201_seg_warped_baseline.tif\n",
      "matt_preds/XYZres202_seg_warped_baseline.tif\n"
     ]
    },
    {
     "name": "stderr",
     "output_type": "stream",
     "text": [
      " 74%|███████▍  | 32/43 [11:42<03:52, 21.14s/it]"
     ]
    },
    {
     "name": "stdout",
     "output_type": "stream",
     "text": [
      "16\n",
      "matt_preds/XYZres210_seg_warped_baseline.tif\n",
      "matt_preds/XYZres213_seg_warped_baseline.tif\n"
     ]
    },
    {
     "name": "stderr",
     "output_type": "stream",
     "text": [
      " 77%|███████▋  | 33/43 [12:02<03:30, 21.02s/it]"
     ]
    },
    {
     "name": "stdout",
     "output_type": "stream",
     "text": [
      "12\n",
      "matt_preds/XYZres212_seg_warped_baseline.tif\n",
      "matt_preds/XYZres215_seg_warped_baseline.tif\n"
     ]
    },
    {
     "name": "stderr",
     "output_type": "stream",
     "text": [
      " 79%|███████▉  | 34/43 [12:27<03:17, 21.97s/it]"
     ]
    },
    {
     "name": "stdout",
     "output_type": "stream",
     "text": [
      "354\n",
      "matt_preds/XYZres216_seg_warped_baseline.tif\n",
      "matt_preds/XYZres211_seg_warped_baseline.tif\n"
     ]
    },
    {
     "name": "stderr",
     "output_type": "stream",
     "text": [
      " 81%|████████▏ | 35/43 [12:49<02:55, 22.00s/it]"
     ]
    },
    {
     "name": "stdout",
     "output_type": "stream",
     "text": [
      "153\n",
      "matt_preds/XYZres218_seg_warped_baseline.tif\n",
      "matt_preds/XYZres217_seg_warped_baseline.tif\n"
     ]
    },
    {
     "name": "stderr",
     "output_type": "stream",
     "text": [
      " 84%|████████▎ | 36/43 [13:10<02:32, 21.82s/it]"
     ]
    },
    {
     "name": "stdout",
     "output_type": "stream",
     "text": [
      "2\n",
      "matt_preds/XYZres233_seg_warped_baseline.tif\n",
      "matt_preds/XYZres236_seg_warped_baseline.tif\n"
     ]
    },
    {
     "name": "stderr",
     "output_type": "stream",
     "text": [
      " 86%|████████▌ | 37/43 [13:34<02:14, 22.40s/it]"
     ]
    },
    {
     "name": "stdout",
     "output_type": "stream",
     "text": [
      "302\n",
      "matt_preds/XYZres235_seg_warped_baseline.tif\n",
      "matt_preds/XYZres234_seg_warped_baseline.tif\n"
     ]
    },
    {
     "name": "stderr",
     "output_type": "stream",
     "text": [
      " 88%|████████▊ | 38/43 [13:55<01:50, 22.02s/it]"
     ]
    },
    {
     "name": "stdout",
     "output_type": "stream",
     "text": [
      "26\n",
      "matt_preds/XYZres237_seg_warped_baseline.tif\n",
      "matt_preds/XYZres240_seg_warped_baseline.tif\n"
     ]
    },
    {
     "name": "stderr",
     "output_type": "stream",
     "text": [
      " 91%|█████████ | 39/43 [14:16<01:27, 21.76s/it]"
     ]
    },
    {
     "name": "stdout",
     "output_type": "stream",
     "text": [
      "19\n",
      "matt_preds/XYZres244_seg_warped_baseline.tif\n",
      "matt_preds/XYZres249_seg_warped_baseline.tif\n"
     ]
    },
    {
     "name": "stderr",
     "output_type": "stream",
     "text": [
      " 93%|█████████▎| 40/43 [15:08<01:32, 30.77s/it]"
     ]
    },
    {
     "name": "stdout",
     "output_type": "stream",
     "text": [
      "1217\n",
      "matt_preds/XYZres247_seg_warped_baseline.tif\n",
      "matt_preds/XYZres246_seg_warped_baseline.tif\n"
     ]
    },
    {
     "name": "stderr",
     "output_type": "stream",
     "text": [
      " 95%|█████████▌| 41/43 [15:29<00:55, 27.99s/it]"
     ]
    },
    {
     "name": "stdout",
     "output_type": "stream",
     "text": [
      "5\n",
      "matt_preds/XYZres248_seg_warped_baseline.tif\n",
      "matt_preds/XYZres252_seg_warped_baseline.tif\n"
     ]
    },
    {
     "name": "stderr",
     "output_type": "stream",
     "text": [
      " 98%|█████████▊| 42/43 [15:54<00:26, 26.95s/it]"
     ]
    },
    {
     "name": "stdout",
     "output_type": "stream",
     "text": [
      "417\n",
      "matt_preds/XYZres250_seg_warped_baseline.tif\n",
      "matt_preds/XYZres243_seg_warped_baseline.tif\n"
     ]
    },
    {
     "name": "stderr",
     "output_type": "stream",
     "text": [
      "100%|██████████| 43/43 [16:15<00:00, 22.70s/it]"
     ]
    },
    {
     "name": "stdout",
     "output_type": "stream",
     "text": [
      "52\n",
      "52\n"
     ]
    },
    {
     "name": "stderr",
     "output_type": "stream",
     "text": [
      "\n"
     ]
    }
   ],
   "source": [
    "i=0\n",
    "xls = pd.ExcelFile('TBI_STIM_metalog_local.xlsx')\n",
    "df = {}\n",
    "for sheet_name in xls.sheet_names:\n",
    "    df[sheet_name] = xls.parse(sheet_name)\n",
    "\n",
    "for file in tqdm(files):\n",
    "    graph = nx.read_gpickle(file)\n",
    "    if len(graph.edges) < 1500:\n",
    "        seg_file = re.sub('_warped_baseline.pickle','_seg_warped_baseline.tif',file)\n",
    "        print(seg_file)\n",
    "        for x in rep.keys():\n",
    "                if x in seg_file:\n",
    "                    _new_image = re.sub(x,rep[x],seg_file)\n",
    "        seg_0001_file = _new_image\n",
    "        print(seg_0001_file)\n",
    "        seg = io.imread(seg_file)\n",
    "        seg_0001 = io.imread(seg_0001_file)\n",
    "        seg_dst = distance_transform_edt(seg)\n",
    "        seg_0001_dst = distance_transform_edt(seg_0001)\n",
    "        for sheet_name in xls.sheet_names:\n",
    "            if re.sub('matt_preds/','',re.sub('_warped_baseline.pickle','',file)) in df[sheet_name].values:\n",
    "                subj = sheet_name\n",
    "                _tmp = df[subj].loc[df[subj]['CHECK WATER'] == re.sub('matt_preds/','',re.sub('_warped_baseline.pickle','',file))]\n",
    "                if _tmp['Unnamed: 12'].iloc[0] == 'raster':\n",
    "                    wavelength = _tmp['Unnamed: 11'].iloc[0]\n",
    "                    power_per = _tmp['Unnamed: 10'].iloc[0]\n",
    "                    start_depth = _tmp['Unnamed: 2'].iloc[0]\n",
    "                    for i in range(len(graph.edges)):\n",
    "                        path = graph[list(graph.edges)[i][0]][list(graph.edges)[i][1]]['pts']\n",
    "                        _vals = seg_dst[path[::-1,0],path[::-1,1],path[::-1,2]]\n",
    "                        _vals_0001 = seg_0001_dst[path[::-1,0],path[::-1,1],path[::-1,2]]\n",
    "                        graph[list(graph.edges)[i][0]][list(graph.edges)[i][1]]['radii'] = np.mean(_vals)\n",
    "                        graph[list(graph.edges)[i][0]][list(graph.edges)[i][1]]['radii_std'] = np.std(_vals)\n",
    "                        graph[list(graph.edges)[i][0]][list(graph.edges)[i][1]]['radii_0001'] = np.mean(_vals_0001)\n",
    "                        graph[list(graph.edges)[i][0]][list(graph.edges)[i][1]]['radii_0001_std'] = np.std(_vals_0001)\n",
    "                        graph[list(graph.edges)[i][0]][list(graph.edges)[i][1]]['delta'] = np.mean(_vals_0001) - np.mean(_vals)\n",
    "                        graph[list(graph.edges)[i][0]][list(graph.edges)[i][1]]['path_weights'] = _vals\n",
    "                        graph[list(graph.edges)[i][0]][list(graph.edges)[i][1]]['path_weights_0001'] = _vals_0001\n",
    "                        #graph[list(graph.edges)[i][0]][list(graph.edges)[i][1]]['weight'] = graph[list(graph.edges)[i][0]][list(graph.edges)[i][1]]['weight']\n",
    "                        graph[list(graph.edges)[i][0]][list(graph.edges)[i][1]]['end-0z'] = path[0][0]\n",
    "                        graph[list(graph.edges)[i][0]][list(graph.edges)[i][1]]['end-0y'] = path[0][1]\n",
    "                        graph[list(graph.edges)[i][0]][list(graph.edges)[i][1]]['end-0x'] = path[0][2]\n",
    "                        graph[list(graph.edges)[i][0]][list(graph.edges)[i][1]]['end-1z'] = path[-1][0]\n",
    "                        graph[list(graph.edges)[i][0]][list(graph.edges)[i][1]]['end-1y'] = path[-1][1]\n",
    "                        graph[list(graph.edges)[i][0]][list(graph.edges)[i][1]]['end-1x'] = path[-1][2]\n",
    "                        graph[list(graph.edges)[i][0]][list(graph.edges)[i][1]]['img_start_depth'] = start_depth\n",
    "                        graph[list(graph.edges)[i][0]][list(graph.edges)[i][1]]['mean_depth'] = np.mean(path[:,0])\n",
    "                        graph[list(graph.edges)[i][0]][list(graph.edges)[i][1]]['euclidean-dst'] = np.sqrt(np.sum(np.square(path[-1]-path[0])))\n",
    "                        graph[list(graph.edges)[i][0]][list(graph.edges)[i][1]]['subject'] = subj\n",
    "                        graph[list(graph.edges)[i][0]][list(graph.edges)[i][1]]['wavelength'] = wavelength\n",
    "                        graph[list(graph.edges)[i][0]][list(graph.edges)[i][1]]['power'] = power_per\n",
    "                    nx.write_gpickle(graph, re.sub('preds','preds_graphs',re.sub('.pickle','_radii.pickle',file)))\n",
    "                    i+=1\n",
    "                    print(i)\n",
    "print(i)"
   ]
  },
  {
   "cell_type": "code",
   "execution_count": null,
   "id": "ec064eab-4b32-4f15-ad94-5faf33de3eea",
   "metadata": {},
   "outputs": [],
   "source": [
    "df[subj].loc[df[subj]['CHECK WATER'] == re.sub('../TBI_monai_UNET/james_preds/','',re.sub('_warped_baseline.pickle','',file))]"
   ]
  },
  {
   "cell_type": "code",
   "execution_count": null,
   "id": "a3ec65da-36a4-48ca-8994-f5153e5cf748",
   "metadata": {},
   "outputs": [],
   "source": []
  },
  {
   "cell_type": "markdown",
   "id": "576d5be2",
   "metadata": {},
   "source": [
    "# convert graphs to excel files"
   ]
  },
  {
   "cell_type": "code",
   "execution_count": 95,
   "id": "14ad0961",
   "metadata": {},
   "outputs": [
    {
     "name": "stdout",
     "output_type": "stream",
     "text": [
      "43\n"
     ]
    },
    {
     "data": {
      "text/plain": [
       "'matt_preds_graphs/XYZres103_warped_baseline_radii.pickle'"
      ]
     },
     "execution_count": 95,
     "metadata": {},
     "output_type": "execute_result"
    }
   ],
   "source": [
    "directory = Path('matt_preds_graphs')\n",
    "files = directory.glob('*_warped_baseline_radii.pickle')\n",
    "files = sorted([x.as_posix() for x in files])\n",
    "print(len(files))\n",
    "files[0]"
   ]
  },
  {
   "cell_type": "code",
   "execution_count": 96,
   "id": "b60f19ea",
   "metadata": {},
   "outputs": [
    {
     "name": "stderr",
     "output_type": "stream",
     "text": [
      "100%|██████████| 43/43 [00:08<00:00,  4.81it/s]\n"
     ]
    }
   ],
   "source": [
    "for file in tqdm(files):\n",
    "    graph = nx.read_gpickle(file)\n",
    "    edge_df = nx.to_pandas_edgelist(graph)\n",
    "    edge_df.to_excel(re.sub('.pickle','.xlsx',file))"
   ]
  },
  {
   "cell_type": "code",
   "execution_count": null,
   "id": "46893c09",
   "metadata": {},
   "outputs": [],
   "source": [
    "edge_df"
   ]
  },
  {
   "cell_type": "code",
   "execution_count": null,
   "id": "7e900d2f",
   "metadata": {},
   "outputs": [],
   "source": []
  }
 ],
 "metadata": {
  "kernelspec": {
   "display_name": "monai3.8",
   "language": "python",
   "name": "monai3.8"
  },
  "language_info": {
   "codemirror_mode": {
    "name": "ipython",
    "version": 3
   },
   "file_extension": ".py",
   "mimetype": "text/x-python",
   "name": "python",
   "nbconvert_exporter": "python",
   "pygments_lexer": "ipython3",
   "version": "3.8.10"
  }
 },
 "nbformat": 4,
 "nbformat_minor": 5
}
