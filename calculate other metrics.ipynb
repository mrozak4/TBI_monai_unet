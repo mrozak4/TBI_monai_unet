{
 "cells": [
  {
   "cell_type": "code",
   "execution_count": 1,
   "id": "12eedae3",
   "metadata": {},
   "outputs": [],
   "source": [
    "import matplotlib.pyplot as plt\n",
    "import os\n",
    "from numpy import random\n",
    "from pathlib import Path\n",
    "import re\n",
    "from skimage import io\n",
    "import numpy as np\n",
    "from tqdm import tqdm\n",
    "import pickle\n",
    "import pandas as pd\n",
    "from skimage.transform import resize\n",
    "from sklearn import metrics"
   ]
  },
  {
   "cell_type": "code",
   "execution_count": 2,
   "id": "5486c5f5",
   "metadata": {},
   "outputs": [],
   "source": [
    "val_files = [{'image': '../TBI/GT_filtered+raw/XYZres008.tif',\n",
    "              'label': '../TBI/GT_filtered+raw/XYZres008_Simple Segmentation_sub1.tiff'},\n",
    "             {'image': '../TBI/GT_filtered+raw/XYZres92.tif',\n",
    "              'label': '../TBI/GT_filtered+raw/XYZres92_Simple Segmentation_sub1.tiff'},\n",
    "             {'image': '../TBI/GT_filtered+raw/XYZres95_0001.tif',\n",
    "              'label': '../TBI/GT_filtered+raw/XYZres95_0001_Simple Segmentation_sub1.tiff'},\n",
    "             {'image': '../TBI/GT_filtered+raw/XYZres025.tif',\n",
    "              'label': '../TBI/GT_filtered+raw/XYZres025_Simple Segmentation_sub1.tiff'},\n",
    "             {'image': '../TBI/GT_filtered+raw/XYZres018_0001.tif',\n",
    "              'label': '../TBI/GT_filtered+raw/XYZres018_0001_Simple Segmentation_sub1.tiff'},\n",
    "             {'image': '../TBI/GT_filtered+raw/XYZres110.tif',\n",
    "              'label': '../TBI/GT_filtered+raw/XYZres110_Simple Segmentation_sub1.tiff'},\n",
    "             {'image': '../TBI/GT_filtered+raw/XYZres114_0001.tif',\n",
    "              'label': '../TBI/GT_filtered+raw/XYZres114_0001_Simple Segmentation_sub1.tiff'},\n",
    "             {'image': '../TBI/GT_filtered+raw/XYZres201.tif',\n",
    "              'label': '../TBI/GT_filtered+raw/XYZres201_Simple Segmentation_sub1.tiff'},\n",
    "             {'image': '../TBI/GT_filtered+raw/XYZres204_0001.tif',\n",
    "              'label': '../TBI/GT_filtered+raw/XYZres204_0001_Simple Segmentation_sub1.tiff'}]"
   ]
  },
  {
   "cell_type": "code",
   "execution_count": 3,
   "id": "fbb9add7",
   "metadata": {},
   "outputs": [
    {
     "data": {
      "text/plain": [
       "['../TBI/GT_filtered+raw/XYZres008_Simple Segmentation_sub1.tiff',\n",
       " '../TBI/GT_filtered+raw/XYZres92_Simple Segmentation_sub1.tiff',\n",
       " '../TBI/GT_filtered+raw/XYZres95_0001_Simple Segmentation_sub1.tiff',\n",
       " '../TBI/GT_filtered+raw/XYZres025_Simple Segmentation_sub1.tiff',\n",
       " '../TBI/GT_filtered+raw/XYZres018_0001_Simple Segmentation_sub1.tiff',\n",
       " '../TBI/GT_filtered+raw/XYZres110_Simple Segmentation_sub1.tiff',\n",
       " '../TBI/GT_filtered+raw/XYZres114_0001_Simple Segmentation_sub1.tiff',\n",
       " '../TBI/GT_filtered+raw/XYZres201_Simple Segmentation_sub1.tiff',\n",
       " '../TBI/GT_filtered+raw/XYZres204_0001_Simple Segmentation_sub1.tiff']"
      ]
     },
     "execution_count": 3,
     "metadata": {},
     "output_type": "execute_result"
    }
   ],
   "source": [
    "val_label_files = [x['label'] for x in val_files]\n",
    "val_label_files"
   ]
  },
  {
   "cell_type": "code",
   "execution_count": 4,
   "id": "1084ea1c",
   "metadata": {},
   "outputs": [
    {
     "data": {
      "text/plain": [
       "['matt_preds/XYZres008_mean.npy',\n",
       " 'matt_preds/XYZres92_mean.npy',\n",
       " 'matt_preds/XYZres95_0001_mean.npy',\n",
       " 'matt_preds/XYZres025_mean.npy',\n",
       " 'matt_preds/XYZres018_0001_mean.npy',\n",
       " 'matt_preds/XYZres110_mean.npy',\n",
       " 'matt_preds/XYZres114_0001_mean.npy',\n",
       " 'matt_preds/XYZres201_mean.npy',\n",
       " 'matt_preds/XYZres204_0001_mean.npy']"
      ]
     },
     "execution_count": 4,
     "metadata": {},
     "output_type": "execute_result"
    }
   ],
   "source": [
    "pred_label_files = [re.sub('../TBI/GT_filteredraw','matt_preds',re.sub('_Simple Segmentation_sub1.tiff','_mean.npy',x.replace('+',''))) for x in val_label_files]\n",
    "pred_label_files"
   ]
  },
  {
   "cell_type": "code",
   "execution_count": 5,
   "id": "d7c7a711",
   "metadata": {},
   "outputs": [],
   "source": [
    "df = pd.DataFrame(columns=[\"image\",\n",
    "                           \"precision\",\n",
    "                           \"accuracy\",\n",
    "                           \"recall\"])"
   ]
  },
  {
   "cell_type": "code",
   "execution_count": 6,
   "id": "828eaf4f",
   "metadata": {},
   "outputs": [
    {
     "name": "stderr",
     "output_type": "stream",
     "text": [
      "100%|██████████| 9/9 [08:14<00:00, 54.97s/it]\n"
     ]
    }
   ],
   "source": [
    "for i in tqdm(range(len(pred_label_files))):\n",
    "    res = {}\n",
    "    res[\"image\"] = re.sub('matt_preds/','',re.sub('_mean.npy','',pred_label_files[i]))\n",
    "    gt = io.imread(val_label_files[i])\n",
    "    gt = np.reshape(gt,(96,512,512))\n",
    "    gt = resize(gt,(252,507,507), order = 0, preserve_range=True)\n",
    "    pred = np.load(re.sub('matt_preds/XYZres018','james_preds/XYZres018',re.sub('matt_preds/XYZres025','james_preds/XYZres025',re.sub('matt_preds/XYZres008','james_preds/XYZres008',pred_label_files[i]))))\n",
    "    pred = np.swapaxes(np.argmax(pred,axis=0),0,2)\n",
    "    res['accuracy'] = metrics.accuracy_score(gt.flatten(),pred.flatten())#,labels=[1,2])\n",
    "    res['precision'] = metrics.precision_score(gt.flatten(),pred.flatten(),labels=[1,2], average='micro')\n",
    "    res['recall'] = metrics.recall_score(gt.flatten(),pred.flatten(),labels=[1,2], average='micro')\n",
    "    df.loc[i] = res"
   ]
  },
  {
   "cell_type": "code",
   "execution_count": 7,
   "id": "740a7c5e",
   "metadata": {},
   "outputs": [],
   "source": [
    "df.to_excel('other_deep_metrics.xlsx')"
   ]
  },
  {
   "cell_type": "code",
   "execution_count": null,
   "id": "da951d67",
   "metadata": {},
   "outputs": [],
   "source": [
    "df"
   ]
  },
  {
   "cell_type": "code",
   "execution_count": null,
   "id": "91486b06",
   "metadata": {},
   "outputs": [],
   "source": [
    "re.sub('matt_preds/','',re.sub('_mean.npy','',pred_label_files[0]))"
   ]
  },
  {
   "cell_type": "code",
   "execution_count": null,
   "id": "ddc56de2",
   "metadata": {},
   "outputs": [],
   "source": [
    "print(gt.shape)"
   ]
  },
  {
   "cell_type": "code",
   "execution_count": null,
   "id": "2cafdb75",
   "metadata": {},
   "outputs": [],
   "source": [
    "print(pred.shape)"
   ]
  },
  {
   "cell_type": "code",
   "execution_count": null,
   "id": "28face0f",
   "metadata": {},
   "outputs": [],
   "source": [
    "print(accuracy)"
   ]
  },
  {
   "cell_type": "code",
   "execution_count": null,
   "id": "385d7726",
   "metadata": {},
   "outputs": [],
   "source": [
    "print(precision)"
   ]
  },
  {
   "cell_type": "code",
   "execution_count": null,
   "id": "2b96680f",
   "metadata": {},
   "outputs": [],
   "source": [
    "print(recall)"
   ]
  },
  {
   "cell_type": "code",
   "execution_count": null,
   "id": "a54ab16c",
   "metadata": {},
   "outputs": [],
   "source": [
    "np.max(pred)"
   ]
  },
  {
   "cell_type": "code",
   "execution_count": null,
   "id": "0082ef3a",
   "metadata": {},
   "outputs": [],
   "source": [
    "np.max(gt)"
   ]
  },
  {
   "cell_type": "code",
   "execution_count": null,
   "id": "d32a980e",
   "metadata": {},
   "outputs": [],
   "source": []
  }
 ],
 "metadata": {
  "kernelspec": {
   "display_name": "monai3.8",
   "language": "python",
   "name": "monai3.8"
  },
  "language_info": {
   "codemirror_mode": {
    "name": "ipython",
    "version": 3
   },
   "file_extension": ".py",
   "mimetype": "text/x-python",
   "name": "python",
   "nbconvert_exporter": "python",
   "pygments_lexer": "ipython3",
   "version": "3.8.10"
  }
 },
 "nbformat": 4,
 "nbformat_minor": 5
}
